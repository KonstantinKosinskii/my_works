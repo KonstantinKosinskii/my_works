{
 "cells": [
  {
   "cell_type": "markdown",
   "metadata": {
    "toc": true
   },
   "source": [
    "<h1>Содержание<span class=\"tocSkip\"></span></h1>\n",
    "<div class=\"toc\"><ul class=\"toc-item\"><li><span><a href=\"#Подготовка-данных\" data-toc-modified-id=\"Подготовка-данных-1\"><span class=\"toc-item-num\">1&nbsp;&nbsp;</span>Подготовка данных</a></span><ul class=\"toc-item\"><li><span><a href=\"#Вывод:\" data-toc-modified-id=\"Вывод:-1.1\"><span class=\"toc-item-num\">1.1&nbsp;&nbsp;</span>Вывод:</a></span></li></ul></li><li><span><a href=\"#Исследование-задачи\" data-toc-modified-id=\"Исследование-задачи-2\"><span class=\"toc-item-num\">2&nbsp;&nbsp;</span>Исследование задачи</a></span><ul class=\"toc-item\"><li><span><a href=\"#Масштабирование-числовых-признаков\" data-toc-modified-id=\"Масштабирование-числовых-признаков-2.1\"><span class=\"toc-item-num\">2.1&nbsp;&nbsp;</span>Масштабирование числовых признаков</a></span></li></ul></li><li><span><a href=\"#Борьба-с-дисбалансом\" data-toc-modified-id=\"Борьба-с-дисбалансом-3\"><span class=\"toc-item-num\">3&nbsp;&nbsp;</span>Борьба с дисбалансом</a></span><ul class=\"toc-item\"><li><span><a href=\"#Уравнивание-классов\" data-toc-modified-id=\"Уравнивание-классов-3.1\"><span class=\"toc-item-num\">3.1&nbsp;&nbsp;</span>Уравнивание классов</a></span></li><li><span><a href=\"#Увеличение-выборки-редких-классов\" data-toc-modified-id=\"Увеличение-выборки-редких-классов-3.2\"><span class=\"toc-item-num\">3.2&nbsp;&nbsp;</span>Увеличение выборки редких классов</a></span></li><li><span><a href=\"#Уменьшение-выборки-частых-классов\" data-toc-modified-id=\"Уменьшение-выборки-частых-классов-3.3\"><span class=\"toc-item-num\">3.3&nbsp;&nbsp;</span>Уменьшение выборки частых классов</a></span></li><li><span><a href=\"#Вывод:\" data-toc-modified-id=\"Вывод:-3.4\"><span class=\"toc-item-num\">3.4&nbsp;&nbsp;</span>Вывод:</a></span></li><li><span><a href=\"#Подбираем-оптимальные-гиперпараметры-для-моделей\" data-toc-modified-id=\"Подбираем-оптимальные-гиперпараметры-для-моделей-3.5\"><span class=\"toc-item-num\">3.5&nbsp;&nbsp;</span>Подбираем оптимальные гиперпараметры для моделей</a></span></li></ul></li><li><span><a href=\"#Тестирование-модели\" data-toc-modified-id=\"Тестирование-модели-4\"><span class=\"toc-item-num\">4&nbsp;&nbsp;</span>Тестирование модели</a></span><ul class=\"toc-item\"><li><span><a href=\"#Решающее-дерево\" data-toc-modified-id=\"Решающее-дерево-4.1\"><span class=\"toc-item-num\">4.1&nbsp;&nbsp;</span>Решающее дерево</a></span></li><li><span><a href=\"#Случайный-лес\" data-toc-modified-id=\"Случайный-лес-4.2\"><span class=\"toc-item-num\">4.2&nbsp;&nbsp;</span>Случайный лес</a></span></li><li><span><a href=\"#Логистическая-регрессия\" data-toc-modified-id=\"Логистическая-регрессия-4.3\"><span class=\"toc-item-num\">4.3&nbsp;&nbsp;</span>Логистическая регрессия</a></span></li></ul></li><li><span><a href=\"#Общий-вывод\" data-toc-modified-id=\"Общий-вывод-5\"><span class=\"toc-item-num\">5&nbsp;&nbsp;</span>Общий вывод</a></span></li></ul></div>"
   ]
  },
  {
   "cell_type": "markdown",
   "metadata": {},
   "source": [
    "## Подготовка данных"
   ]
  },
  {
   "cell_type": "markdown",
   "metadata": {},
   "source": [
    "Импортируем библиотеки"
   ]
  },
  {
   "cell_type": "code",
   "execution_count": 1,
   "metadata": {},
   "outputs": [],
   "source": [
    "import pandas as pd\n",
    "import numpy as np\n",
    "import matplotlib.pyplot as plt\n",
    "import seaborn as sns\n",
    "\n",
    "from sklearn.model_selection import train_test_split\n",
    "from sklearn.metrics import f1_score\n",
    "from sklearn.preprocessing import StandardScaler\n",
    "from sklearn.utils import shuffle\n",
    "from sklearn.metrics import roc_curve\n",
    "from sklearn.metrics import roc_auc_score\n",
    "from sklearn.metrics import recall_score\n",
    "from sklearn.metrics import precision_score\n",
    "from sklearn.metrics import confusion_matrix\n",
    "from sklearn.metrics import precision_recall_curve\n",
    "\n",
    "from sklearn.tree import DecisionTreeClassifier\n",
    "from sklearn.ensemble import RandomForestClassifier\n",
    "from sklearn.linear_model import LogisticRegression"
   ]
  },
  {
   "cell_type": "markdown",
   "metadata": {},
   "source": [
    "Установка отображения не более двух знаков после запятой"
   ]
  },
  {
   "cell_type": "code",
   "execution_count": 2,
   "metadata": {},
   "outputs": [],
   "source": [
    "pd.set_option('display.float_format', '{:,.2f}'.format)"
   ]
  },
  {
   "cell_type": "markdown",
   "metadata": {},
   "source": [
    "Импортируем игнорирование предупреждений"
   ]
  },
  {
   "cell_type": "code",
   "execution_count": 3,
   "metadata": {},
   "outputs": [],
   "source": [
    "import warnings\n",
    "warnings.simplefilter('ignore')"
   ]
  },
  {
   "cell_type": "markdown",
   "metadata": {},
   "source": [
    "Считываем данные"
   ]
  },
  {
   "cell_type": "code",
   "execution_count": 4,
   "metadata": {},
   "outputs": [],
   "source": [
    "data = pd.read_csv('https://code.s3.yandex.net/datasets/Churn.csv')"
   ]
  },
  {
   "cell_type": "code",
   "execution_count": 5,
   "metadata": {},
   "outputs": [
    {
     "data": {
      "text/html": [
       "<div>\n",
       "<style scoped>\n",
       "    .dataframe tbody tr th:only-of-type {\n",
       "        vertical-align: middle;\n",
       "    }\n",
       "\n",
       "    .dataframe tbody tr th {\n",
       "        vertical-align: top;\n",
       "    }\n",
       "\n",
       "    .dataframe thead th {\n",
       "        text-align: right;\n",
       "    }\n",
       "</style>\n",
       "<table border=\"1\" class=\"dataframe\">\n",
       "  <thead>\n",
       "    <tr style=\"text-align: right;\">\n",
       "      <th></th>\n",
       "      <th>RowNumber</th>\n",
       "      <th>CustomerId</th>\n",
       "      <th>Surname</th>\n",
       "      <th>CreditScore</th>\n",
       "      <th>Geography</th>\n",
       "      <th>Gender</th>\n",
       "      <th>Age</th>\n",
       "      <th>Tenure</th>\n",
       "      <th>Balance</th>\n",
       "      <th>NumOfProducts</th>\n",
       "      <th>HasCrCard</th>\n",
       "      <th>IsActiveMember</th>\n",
       "      <th>EstimatedSalary</th>\n",
       "      <th>Exited</th>\n",
       "    </tr>\n",
       "  </thead>\n",
       "  <tbody>\n",
       "    <tr>\n",
       "      <th>0</th>\n",
       "      <td>1</td>\n",
       "      <td>15634602</td>\n",
       "      <td>Hargrave</td>\n",
       "      <td>619</td>\n",
       "      <td>France</td>\n",
       "      <td>Female</td>\n",
       "      <td>42</td>\n",
       "      <td>2.00</td>\n",
       "      <td>0.00</td>\n",
       "      <td>1</td>\n",
       "      <td>1</td>\n",
       "      <td>1</td>\n",
       "      <td>101,348.88</td>\n",
       "      <td>1</td>\n",
       "    </tr>\n",
       "    <tr>\n",
       "      <th>1</th>\n",
       "      <td>2</td>\n",
       "      <td>15647311</td>\n",
       "      <td>Hill</td>\n",
       "      <td>608</td>\n",
       "      <td>Spain</td>\n",
       "      <td>Female</td>\n",
       "      <td>41</td>\n",
       "      <td>1.00</td>\n",
       "      <td>83,807.86</td>\n",
       "      <td>1</td>\n",
       "      <td>0</td>\n",
       "      <td>1</td>\n",
       "      <td>112,542.58</td>\n",
       "      <td>0</td>\n",
       "    </tr>\n",
       "    <tr>\n",
       "      <th>2</th>\n",
       "      <td>3</td>\n",
       "      <td>15619304</td>\n",
       "      <td>Onio</td>\n",
       "      <td>502</td>\n",
       "      <td>France</td>\n",
       "      <td>Female</td>\n",
       "      <td>42</td>\n",
       "      <td>8.00</td>\n",
       "      <td>159,660.80</td>\n",
       "      <td>3</td>\n",
       "      <td>1</td>\n",
       "      <td>0</td>\n",
       "      <td>113,931.57</td>\n",
       "      <td>1</td>\n",
       "    </tr>\n",
       "    <tr>\n",
       "      <th>3</th>\n",
       "      <td>4</td>\n",
       "      <td>15701354</td>\n",
       "      <td>Boni</td>\n",
       "      <td>699</td>\n",
       "      <td>France</td>\n",
       "      <td>Female</td>\n",
       "      <td>39</td>\n",
       "      <td>1.00</td>\n",
       "      <td>0.00</td>\n",
       "      <td>2</td>\n",
       "      <td>0</td>\n",
       "      <td>0</td>\n",
       "      <td>93,826.63</td>\n",
       "      <td>0</td>\n",
       "    </tr>\n",
       "    <tr>\n",
       "      <th>4</th>\n",
       "      <td>5</td>\n",
       "      <td>15737888</td>\n",
       "      <td>Mitchell</td>\n",
       "      <td>850</td>\n",
       "      <td>Spain</td>\n",
       "      <td>Female</td>\n",
       "      <td>43</td>\n",
       "      <td>2.00</td>\n",
       "      <td>125,510.82</td>\n",
       "      <td>1</td>\n",
       "      <td>1</td>\n",
       "      <td>1</td>\n",
       "      <td>79,084.10</td>\n",
       "      <td>0</td>\n",
       "    </tr>\n",
       "  </tbody>\n",
       "</table>\n",
       "</div>"
      ],
      "text/plain": [
       "   RowNumber  CustomerId   Surname  CreditScore Geography  Gender  Age  \\\n",
       "0          1    15634602  Hargrave          619    France  Female   42   \n",
       "1          2    15647311      Hill          608     Spain  Female   41   \n",
       "2          3    15619304      Onio          502    France  Female   42   \n",
       "3          4    15701354      Boni          699    France  Female   39   \n",
       "4          5    15737888  Mitchell          850     Spain  Female   43   \n",
       "\n",
       "   Tenure    Balance  NumOfProducts  HasCrCard  IsActiveMember  \\\n",
       "0    2.00       0.00              1          1               1   \n",
       "1    1.00  83,807.86              1          0               1   \n",
       "2    8.00 159,660.80              3          1               0   \n",
       "3    1.00       0.00              2          0               0   \n",
       "4    2.00 125,510.82              1          1               1   \n",
       "\n",
       "   EstimatedSalary  Exited  \n",
       "0       101,348.88       1  \n",
       "1       112,542.58       0  \n",
       "2       113,931.57       1  \n",
       "3        93,826.63       0  \n",
       "4        79,084.10       0  "
      ]
     },
     "execution_count": 5,
     "metadata": {},
     "output_type": "execute_result"
    }
   ],
   "source": [
    "data.head()"
   ]
  },
  {
   "cell_type": "markdown",
   "metadata": {},
   "source": [
    "Функция для ознакомления с данными"
   ]
  },
  {
   "cell_type": "code",
   "execution_count": 6,
   "metadata": {},
   "outputs": [],
   "source": [
    "def first_glance(table):\n",
    "    print(table.info())\n",
    "    print()\n",
    "    \n",
    "    for i in range(len(table.columns)):\n",
    "        column = table.columns[i]\n",
    "        \n",
    "        print(table[column].value_counts())\n",
    "        print()"
   ]
  },
  {
   "cell_type": "code",
   "execution_count": 7,
   "metadata": {},
   "outputs": [
    {
     "name": "stdout",
     "output_type": "stream",
     "text": [
      "<class 'pandas.core.frame.DataFrame'>\n",
      "RangeIndex: 10000 entries, 0 to 9999\n",
      "Data columns (total 14 columns):\n",
      " #   Column           Non-Null Count  Dtype  \n",
      "---  ------           --------------  -----  \n",
      " 0   RowNumber        10000 non-null  int64  \n",
      " 1   CustomerId       10000 non-null  int64  \n",
      " 2   Surname          10000 non-null  object \n",
      " 3   CreditScore      10000 non-null  int64  \n",
      " 4   Geography        10000 non-null  object \n",
      " 5   Gender           10000 non-null  object \n",
      " 6   Age              10000 non-null  int64  \n",
      " 7   Tenure           9091 non-null   float64\n",
      " 8   Balance          10000 non-null  float64\n",
      " 9   NumOfProducts    10000 non-null  int64  \n",
      " 10  HasCrCard        10000 non-null  int64  \n",
      " 11  IsActiveMember   10000 non-null  int64  \n",
      " 12  EstimatedSalary  10000 non-null  float64\n",
      " 13  Exited           10000 non-null  int64  \n",
      "dtypes: float64(3), int64(8), object(3)\n",
      "memory usage: 1.1+ MB\n",
      "None\n",
      "\n",
      "2049    1\n",
      "8865    1\n",
      "6806    1\n",
      "4759    1\n",
      "8857    1\n",
      "       ..\n",
      "9526    1\n",
      "5432    1\n",
      "7481    1\n",
      "1338    1\n",
      "2047    1\n",
      "Name: RowNumber, Length: 10000, dtype: int64\n",
      "\n",
      "15695872    1\n",
      "15801062    1\n",
      "15682268    1\n",
      "15647453    1\n",
      "15684319    1\n",
      "           ..\n",
      "15629677    1\n",
      "15773039    1\n",
      "15766896    1\n",
      "15719793    1\n",
      "15812607    1\n",
      "Name: CustomerId, Length: 10000, dtype: int64\n",
      "\n",
      "Smith        32\n",
      "Martin       29\n",
      "Scott        29\n",
      "Walker       28\n",
      "Brown        26\n",
      "             ..\n",
      "Loane         1\n",
      "Knorr         1\n",
      "Maitland      1\n",
      "Hightower     1\n",
      "Demaine       1\n",
      "Name: Surname, Length: 2932, dtype: int64\n",
      "\n",
      "850    233\n",
      "678     63\n",
      "655     54\n",
      "667     53\n",
      "705     53\n",
      "      ... \n",
      "412      1\n",
      "351      1\n",
      "365      1\n",
      "373      1\n",
      "423      1\n",
      "Name: CreditScore, Length: 460, dtype: int64\n",
      "\n",
      "France     5014\n",
      "Germany    2509\n",
      "Spain      2477\n",
      "Name: Geography, dtype: int64\n",
      "\n",
      "Male      5457\n",
      "Female    4543\n",
      "Name: Gender, dtype: int64\n",
      "\n",
      "37    478\n",
      "38    477\n",
      "35    474\n",
      "36    456\n",
      "34    447\n",
      "     ... \n",
      "92      2\n",
      "88      1\n",
      "82      1\n",
      "85      1\n",
      "83      1\n",
      "Name: Age, Length: 70, dtype: int64\n",
      "\n",
      "1.00     952\n",
      "2.00     950\n",
      "8.00     933\n",
      "3.00     928\n",
      "5.00     927\n",
      "7.00     925\n",
      "4.00     885\n",
      "9.00     882\n",
      "6.00     881\n",
      "10.00    446\n",
      "0.00     382\n",
      "Name: Tenure, dtype: int64\n",
      "\n",
      "0.00          3617\n",
      "105,473.74       2\n",
      "130,170.82       2\n",
      "72,594.00        1\n",
      "139,723.90       1\n",
      "              ... \n",
      "130,306.49       1\n",
      "92,895.56        1\n",
      "132,005.77       1\n",
      "166,287.85       1\n",
      "104,001.38       1\n",
      "Name: Balance, Length: 6382, dtype: int64\n",
      "\n",
      "1    5084\n",
      "2    4590\n",
      "3     266\n",
      "4      60\n",
      "Name: NumOfProducts, dtype: int64\n",
      "\n",
      "1    7055\n",
      "0    2945\n",
      "Name: HasCrCard, dtype: int64\n",
      "\n",
      "1    5151\n",
      "0    4849\n",
      "Name: IsActiveMember, dtype: int64\n",
      "\n",
      "24,924.92     2\n",
      "109,145.20    1\n",
      "59,755.14     1\n",
      "1,557.82      1\n",
      "117,202.19    1\n",
      "             ..\n",
      "37,674.47     1\n",
      "158,043.11    1\n",
      "103,792.53    1\n",
      "182,266.01    1\n",
      "155,061.97    1\n",
      "Name: EstimatedSalary, Length: 9999, dtype: int64\n",
      "\n",
      "0    7963\n",
      "1    2037\n",
      "Name: Exited, dtype: int64\n",
      "\n"
     ]
    }
   ],
   "source": [
    "first_glance(data)"
   ]
  },
  {
   "cell_type": "markdown",
   "metadata": {},
   "source": [
    "Пропущенные значения в столбце __Tenure__ составляют 9% от общего массива данных. Так как это немало данных, удалять не будем и заполним пропущенные значения"
   ]
  },
  {
   "cell_type": "code",
   "execution_count": 8,
   "metadata": {},
   "outputs": [
    {
     "data": {
      "text/plain": [
       "RowNumber         0.00\n",
       "CustomerId        0.00\n",
       "Surname           0.00\n",
       "CreditScore       0.00\n",
       "Geography         0.00\n",
       "Gender            0.00\n",
       "Age               0.00\n",
       "Tenure            0.09\n",
       "Balance           0.00\n",
       "NumOfProducts     0.00\n",
       "HasCrCard         0.00\n",
       "IsActiveMember    0.00\n",
       "EstimatedSalary   0.00\n",
       "Exited            0.00\n",
       "dtype: float64"
      ]
     },
     "execution_count": 8,
     "metadata": {},
     "output_type": "execute_result"
    }
   ],
   "source": [
    "data.isna().mean()"
   ]
  },
  {
   "cell_type": "code",
   "execution_count": 9,
   "metadata": {
    "scrolled": false
   },
   "outputs": [
    {
     "data": {
      "text/html": [
       "<div>\n",
       "<style scoped>\n",
       "    .dataframe tbody tr th:only-of-type {\n",
       "        vertical-align: middle;\n",
       "    }\n",
       "\n",
       "    .dataframe tbody tr th {\n",
       "        vertical-align: top;\n",
       "    }\n",
       "\n",
       "    .dataframe thead th {\n",
       "        text-align: right;\n",
       "    }\n",
       "</style>\n",
       "<table border=\"1\" class=\"dataframe\">\n",
       "  <thead>\n",
       "    <tr style=\"text-align: right;\">\n",
       "      <th></th>\n",
       "      <th>RowNumber</th>\n",
       "      <th>CustomerId</th>\n",
       "      <th>Surname</th>\n",
       "      <th>CreditScore</th>\n",
       "      <th>Geography</th>\n",
       "      <th>Gender</th>\n",
       "      <th>Age</th>\n",
       "      <th>Tenure</th>\n",
       "      <th>Balance</th>\n",
       "      <th>NumOfProducts</th>\n",
       "      <th>HasCrCard</th>\n",
       "      <th>IsActiveMember</th>\n",
       "      <th>EstimatedSalary</th>\n",
       "      <th>Exited</th>\n",
       "    </tr>\n",
       "  </thead>\n",
       "  <tbody>\n",
       "    <tr>\n",
       "      <th>30</th>\n",
       "      <td>31</td>\n",
       "      <td>15589475</td>\n",
       "      <td>Azikiwe</td>\n",
       "      <td>591</td>\n",
       "      <td>Spain</td>\n",
       "      <td>Female</td>\n",
       "      <td>39</td>\n",
       "      <td>NaN</td>\n",
       "      <td>0.00</td>\n",
       "      <td>3</td>\n",
       "      <td>1</td>\n",
       "      <td>0</td>\n",
       "      <td>140,469.38</td>\n",
       "      <td>1</td>\n",
       "    </tr>\n",
       "    <tr>\n",
       "      <th>48</th>\n",
       "      <td>49</td>\n",
       "      <td>15766205</td>\n",
       "      <td>Yin</td>\n",
       "      <td>550</td>\n",
       "      <td>Germany</td>\n",
       "      <td>Male</td>\n",
       "      <td>38</td>\n",
       "      <td>NaN</td>\n",
       "      <td>103,391.38</td>\n",
       "      <td>1</td>\n",
       "      <td>0</td>\n",
       "      <td>1</td>\n",
       "      <td>90,878.13</td>\n",
       "      <td>0</td>\n",
       "    </tr>\n",
       "    <tr>\n",
       "      <th>51</th>\n",
       "      <td>52</td>\n",
       "      <td>15768193</td>\n",
       "      <td>Trevisani</td>\n",
       "      <td>585</td>\n",
       "      <td>Germany</td>\n",
       "      <td>Male</td>\n",
       "      <td>36</td>\n",
       "      <td>NaN</td>\n",
       "      <td>146,050.97</td>\n",
       "      <td>2</td>\n",
       "      <td>0</td>\n",
       "      <td>0</td>\n",
       "      <td>86,424.57</td>\n",
       "      <td>0</td>\n",
       "    </tr>\n",
       "    <tr>\n",
       "      <th>53</th>\n",
       "      <td>54</td>\n",
       "      <td>15702298</td>\n",
       "      <td>Parkhill</td>\n",
       "      <td>655</td>\n",
       "      <td>Germany</td>\n",
       "      <td>Male</td>\n",
       "      <td>41</td>\n",
       "      <td>NaN</td>\n",
       "      <td>125,561.97</td>\n",
       "      <td>1</td>\n",
       "      <td>0</td>\n",
       "      <td>0</td>\n",
       "      <td>164,040.94</td>\n",
       "      <td>1</td>\n",
       "    </tr>\n",
       "    <tr>\n",
       "      <th>60</th>\n",
       "      <td>61</td>\n",
       "      <td>15651280</td>\n",
       "      <td>Hunter</td>\n",
       "      <td>742</td>\n",
       "      <td>Germany</td>\n",
       "      <td>Male</td>\n",
       "      <td>35</td>\n",
       "      <td>NaN</td>\n",
       "      <td>136,857.00</td>\n",
       "      <td>1</td>\n",
       "      <td>0</td>\n",
       "      <td>0</td>\n",
       "      <td>84,509.57</td>\n",
       "      <td>0</td>\n",
       "    </tr>\n",
       "  </tbody>\n",
       "</table>\n",
       "</div>"
      ],
      "text/plain": [
       "    RowNumber  CustomerId    Surname  CreditScore Geography  Gender  Age  \\\n",
       "30         31    15589475    Azikiwe          591     Spain  Female   39   \n",
       "48         49    15766205        Yin          550   Germany    Male   38   \n",
       "51         52    15768193  Trevisani          585   Germany    Male   36   \n",
       "53         54    15702298   Parkhill          655   Germany    Male   41   \n",
       "60         61    15651280     Hunter          742   Germany    Male   35   \n",
       "\n",
       "    Tenure    Balance  NumOfProducts  HasCrCard  IsActiveMember  \\\n",
       "30     NaN       0.00              3          1               0   \n",
       "48     NaN 103,391.38              1          0               1   \n",
       "51     NaN 146,050.97              2          0               0   \n",
       "53     NaN 125,561.97              1          0               0   \n",
       "60     NaN 136,857.00              1          0               0   \n",
       "\n",
       "    EstimatedSalary  Exited  \n",
       "30       140,469.38       1  \n",
       "48        90,878.13       0  \n",
       "51        86,424.57       0  \n",
       "53       164,040.94       1  \n",
       "60        84,509.57       0  "
      ]
     },
     "execution_count": 9,
     "metadata": {},
     "output_type": "execute_result"
    }
   ],
   "source": [
    "data.loc[data['Tenure'].isna()].head()"
   ]
  },
  {
   "cell_type": "markdown",
   "metadata": {},
   "source": [
    "Зависимости значений столбца __Tenure__ от других столбцов не выявлено"
   ]
  },
  {
   "cell_type": "code",
   "execution_count": 10,
   "metadata": {
    "scrolled": true
   },
   "outputs": [
    {
     "data": {
      "text/html": [
       "<div>\n",
       "<style scoped>\n",
       "    .dataframe tbody tr th:only-of-type {\n",
       "        vertical-align: middle;\n",
       "    }\n",
       "\n",
       "    .dataframe tbody tr th {\n",
       "        vertical-align: top;\n",
       "    }\n",
       "\n",
       "    .dataframe thead th {\n",
       "        text-align: right;\n",
       "    }\n",
       "</style>\n",
       "<table border=\"1\" class=\"dataframe\">\n",
       "  <thead>\n",
       "    <tr style=\"text-align: right;\">\n",
       "      <th></th>\n",
       "      <th>RowNumber</th>\n",
       "      <th>CustomerId</th>\n",
       "      <th>CreditScore</th>\n",
       "      <th>Age</th>\n",
       "      <th>Tenure</th>\n",
       "      <th>Balance</th>\n",
       "      <th>NumOfProducts</th>\n",
       "      <th>HasCrCard</th>\n",
       "      <th>IsActiveMember</th>\n",
       "      <th>EstimatedSalary</th>\n",
       "      <th>Exited</th>\n",
       "    </tr>\n",
       "  </thead>\n",
       "  <tbody>\n",
       "    <tr>\n",
       "      <th>RowNumber</th>\n",
       "      <td>1.00</td>\n",
       "      <td>0.00</td>\n",
       "      <td>0.01</td>\n",
       "      <td>0.00</td>\n",
       "      <td>-0.01</td>\n",
       "      <td>-0.01</td>\n",
       "      <td>0.01</td>\n",
       "      <td>0.00</td>\n",
       "      <td>0.01</td>\n",
       "      <td>-0.01</td>\n",
       "      <td>-0.02</td>\n",
       "    </tr>\n",
       "    <tr>\n",
       "      <th>CustomerId</th>\n",
       "      <td>0.00</td>\n",
       "      <td>1.00</td>\n",
       "      <td>0.01</td>\n",
       "      <td>0.01</td>\n",
       "      <td>-0.02</td>\n",
       "      <td>-0.01</td>\n",
       "      <td>0.02</td>\n",
       "      <td>-0.01</td>\n",
       "      <td>0.00</td>\n",
       "      <td>0.02</td>\n",
       "      <td>-0.01</td>\n",
       "    </tr>\n",
       "    <tr>\n",
       "      <th>CreditScore</th>\n",
       "      <td>0.01</td>\n",
       "      <td>0.01</td>\n",
       "      <td>1.00</td>\n",
       "      <td>-0.00</td>\n",
       "      <td>-0.00</td>\n",
       "      <td>0.01</td>\n",
       "      <td>0.01</td>\n",
       "      <td>-0.01</td>\n",
       "      <td>0.03</td>\n",
       "      <td>-0.00</td>\n",
       "      <td>-0.03</td>\n",
       "    </tr>\n",
       "    <tr>\n",
       "      <th>Age</th>\n",
       "      <td>0.00</td>\n",
       "      <td>0.01</td>\n",
       "      <td>-0.00</td>\n",
       "      <td>1.00</td>\n",
       "      <td>-0.01</td>\n",
       "      <td>0.03</td>\n",
       "      <td>-0.03</td>\n",
       "      <td>-0.01</td>\n",
       "      <td>0.09</td>\n",
       "      <td>-0.01</td>\n",
       "      <td>0.29</td>\n",
       "    </tr>\n",
       "    <tr>\n",
       "      <th>Tenure</th>\n",
       "      <td>-0.01</td>\n",
       "      <td>-0.02</td>\n",
       "      <td>-0.00</td>\n",
       "      <td>-0.01</td>\n",
       "      <td>1.00</td>\n",
       "      <td>-0.01</td>\n",
       "      <td>0.01</td>\n",
       "      <td>0.03</td>\n",
       "      <td>-0.03</td>\n",
       "      <td>0.01</td>\n",
       "      <td>-0.02</td>\n",
       "    </tr>\n",
       "    <tr>\n",
       "      <th>Balance</th>\n",
       "      <td>-0.01</td>\n",
       "      <td>-0.01</td>\n",
       "      <td>0.01</td>\n",
       "      <td>0.03</td>\n",
       "      <td>-0.01</td>\n",
       "      <td>1.00</td>\n",
       "      <td>-0.30</td>\n",
       "      <td>-0.01</td>\n",
       "      <td>-0.01</td>\n",
       "      <td>0.01</td>\n",
       "      <td>0.12</td>\n",
       "    </tr>\n",
       "    <tr>\n",
       "      <th>NumOfProducts</th>\n",
       "      <td>0.01</td>\n",
       "      <td>0.02</td>\n",
       "      <td>0.01</td>\n",
       "      <td>-0.03</td>\n",
       "      <td>0.01</td>\n",
       "      <td>-0.30</td>\n",
       "      <td>1.00</td>\n",
       "      <td>0.00</td>\n",
       "      <td>0.01</td>\n",
       "      <td>0.01</td>\n",
       "      <td>-0.05</td>\n",
       "    </tr>\n",
       "    <tr>\n",
       "      <th>HasCrCard</th>\n",
       "      <td>0.00</td>\n",
       "      <td>-0.01</td>\n",
       "      <td>-0.01</td>\n",
       "      <td>-0.01</td>\n",
       "      <td>0.03</td>\n",
       "      <td>-0.01</td>\n",
       "      <td>0.00</td>\n",
       "      <td>1.00</td>\n",
       "      <td>-0.01</td>\n",
       "      <td>-0.01</td>\n",
       "      <td>-0.01</td>\n",
       "    </tr>\n",
       "    <tr>\n",
       "      <th>IsActiveMember</th>\n",
       "      <td>0.01</td>\n",
       "      <td>0.00</td>\n",
       "      <td>0.03</td>\n",
       "      <td>0.09</td>\n",
       "      <td>-0.03</td>\n",
       "      <td>-0.01</td>\n",
       "      <td>0.01</td>\n",
       "      <td>-0.01</td>\n",
       "      <td>1.00</td>\n",
       "      <td>-0.01</td>\n",
       "      <td>-0.16</td>\n",
       "    </tr>\n",
       "    <tr>\n",
       "      <th>EstimatedSalary</th>\n",
       "      <td>-0.01</td>\n",
       "      <td>0.02</td>\n",
       "      <td>-0.00</td>\n",
       "      <td>-0.01</td>\n",
       "      <td>0.01</td>\n",
       "      <td>0.01</td>\n",
       "      <td>0.01</td>\n",
       "      <td>-0.01</td>\n",
       "      <td>-0.01</td>\n",
       "      <td>1.00</td>\n",
       "      <td>0.01</td>\n",
       "    </tr>\n",
       "    <tr>\n",
       "      <th>Exited</th>\n",
       "      <td>-0.02</td>\n",
       "      <td>-0.01</td>\n",
       "      <td>-0.03</td>\n",
       "      <td>0.29</td>\n",
       "      <td>-0.02</td>\n",
       "      <td>0.12</td>\n",
       "      <td>-0.05</td>\n",
       "      <td>-0.01</td>\n",
       "      <td>-0.16</td>\n",
       "      <td>0.01</td>\n",
       "      <td>1.00</td>\n",
       "    </tr>\n",
       "  </tbody>\n",
       "</table>\n",
       "</div>"
      ],
      "text/plain": [
       "                 RowNumber  CustomerId  CreditScore   Age  Tenure  Balance  \\\n",
       "RowNumber             1.00        0.00         0.01  0.00   -0.01    -0.01   \n",
       "CustomerId            0.00        1.00         0.01  0.01   -0.02    -0.01   \n",
       "CreditScore           0.01        0.01         1.00 -0.00   -0.00     0.01   \n",
       "Age                   0.00        0.01        -0.00  1.00   -0.01     0.03   \n",
       "Tenure               -0.01       -0.02        -0.00 -0.01    1.00    -0.01   \n",
       "Balance              -0.01       -0.01         0.01  0.03   -0.01     1.00   \n",
       "NumOfProducts         0.01        0.02         0.01 -0.03    0.01    -0.30   \n",
       "HasCrCard             0.00       -0.01        -0.01 -0.01    0.03    -0.01   \n",
       "IsActiveMember        0.01        0.00         0.03  0.09   -0.03    -0.01   \n",
       "EstimatedSalary      -0.01        0.02        -0.00 -0.01    0.01     0.01   \n",
       "Exited               -0.02       -0.01        -0.03  0.29   -0.02     0.12   \n",
       "\n",
       "                 NumOfProducts  HasCrCard  IsActiveMember  EstimatedSalary  \\\n",
       "RowNumber                 0.01       0.00            0.01            -0.01   \n",
       "CustomerId                0.02      -0.01            0.00             0.02   \n",
       "CreditScore               0.01      -0.01            0.03            -0.00   \n",
       "Age                      -0.03      -0.01            0.09            -0.01   \n",
       "Tenure                    0.01       0.03           -0.03             0.01   \n",
       "Balance                  -0.30      -0.01           -0.01             0.01   \n",
       "NumOfProducts             1.00       0.00            0.01             0.01   \n",
       "HasCrCard                 0.00       1.00           -0.01            -0.01   \n",
       "IsActiveMember            0.01      -0.01            1.00            -0.01   \n",
       "EstimatedSalary           0.01      -0.01           -0.01             1.00   \n",
       "Exited                   -0.05      -0.01           -0.16             0.01   \n",
       "\n",
       "                 Exited  \n",
       "RowNumber         -0.02  \n",
       "CustomerId        -0.01  \n",
       "CreditScore       -0.03  \n",
       "Age                0.29  \n",
       "Tenure            -0.02  \n",
       "Balance            0.12  \n",
       "NumOfProducts     -0.05  \n",
       "HasCrCard         -0.01  \n",
       "IsActiveMember    -0.16  \n",
       "EstimatedSalary    0.01  \n",
       "Exited             1.00  "
      ]
     },
     "execution_count": 10,
     "metadata": {},
     "output_type": "execute_result"
    }
   ],
   "source": [
    "data.corr()"
   ]
  },
  {
   "cell_type": "markdown",
   "metadata": {},
   "source": [
    "Поэтому будем заполнять пропущенные значения на основании столбца __Age__, он представляется наиболее подходящим для заполнения"
   ]
  },
  {
   "cell_type": "code",
   "execution_count": 11,
   "metadata": {},
   "outputs": [
    {
     "data": {
      "text/plain": [
       "70"
      ]
     },
     "execution_count": 11,
     "metadata": {},
     "output_type": "execute_result"
    }
   ],
   "source": [
    "data['Age'].nunique()"
   ]
  },
  {
   "cell_type": "markdown",
   "metadata": {},
   "source": [
    "1. строим таблицу _Возраст - Сколько лет человек является клиентом банка (медиана)_\n",
    "2. на основании таблицы создаем словарь\n",
    "3. заменяем пропущенные значения в столбце __Tenure__ на значения медианы из словаря"
   ]
  },
  {
   "cell_type": "code",
   "execution_count": 12,
   "metadata": {
    "scrolled": true
   },
   "outputs": [
    {
     "data": {
      "text/plain": [
       "37    478\n",
       "38    477\n",
       "35    474\n",
       "36    456\n",
       "34    447\n",
       "33    442\n",
       "40    432\n",
       "39    423\n",
       "32    418\n",
       "31    404\n",
       "Name: Age, dtype: int64"
      ]
     },
     "execution_count": 12,
     "metadata": {},
     "output_type": "execute_result"
    }
   ],
   "source": [
    "data['Age'].value_counts(normalize=False).head(10)"
   ]
  },
  {
   "cell_type": "code",
   "execution_count": 13,
   "metadata": {},
   "outputs": [
    {
     "data": {
      "text/plain": [
       "1.00    0.10\n",
       "2.00    0.10\n",
       "8.00    0.10\n",
       "3.00    0.10\n",
       "5.00    0.10\n",
       "7.00    0.10\n",
       "4.00    0.10\n",
       "9.00    0.10\n",
       "6.00    0.10\n",
       "10.00   0.05\n",
       "0.00    0.04\n",
       "Name: Tenure, dtype: float64"
      ]
     },
     "execution_count": 13,
     "metadata": {},
     "output_type": "execute_result"
    }
   ],
   "source": [
    "data['Tenure'].value_counts(normalize=True)"
   ]
  },
  {
   "cell_type": "code",
   "execution_count": 14,
   "metadata": {},
   "outputs": [
    {
     "data": {
      "image/png": "[encoded data removed]",
      "text/plain": [
       "<Figure size 720x360 with 1 Axes>"
      ]
     },
     "metadata": {
      "needs_background": "light"
     },
     "output_type": "display_data"
    }
   ],
   "source": [
    "data['Tenure'].hist(bins=30, figsize=(10,5))\n",
    "plt.title('Частота значений столбца \"Tenure\"')\n",
    "plt.show()"
   ]
  },
  {
   "cell_type": "code",
   "execution_count": 15,
   "metadata": {
    "scrolled": false
   },
   "outputs": [
    {
     "data": {
      "image/png": "[encoded data removed]",
      "text/plain": [
       "<Figure size 720x360 with 1 Axes>"
      ]
     },
     "metadata": {
      "needs_background": "light"
     },
     "output_type": "display_data"
    }
   ],
   "source": [
    "data['Tenure'].plot(kind='kde', grid=True, figsize=(10,5), title='Распределение значений столбца \"Tenure\"')\n",
    "plt.show()"
   ]
  },
  {
   "cell_type": "code",
   "execution_count": 16,
   "metadata": {},
   "outputs": [
    {
     "data": {
      "text/html": [
       "<div>\n",
       "<style scoped>\n",
       "    .dataframe tbody tr th:only-of-type {\n",
       "        vertical-align: middle;\n",
       "    }\n",
       "\n",
       "    .dataframe tbody tr th {\n",
       "        vertical-align: top;\n",
       "    }\n",
       "\n",
       "    .dataframe thead th {\n",
       "        text-align: right;\n",
       "    }\n",
       "</style>\n",
       "<table border=\"1\" class=\"dataframe\">\n",
       "  <thead>\n",
       "    <tr style=\"text-align: right;\">\n",
       "      <th></th>\n",
       "      <th>Age</th>\n",
       "      <th>Tenure</th>\n",
       "    </tr>\n",
       "  </thead>\n",
       "  <tbody>\n",
       "    <tr>\n",
       "      <th>0</th>\n",
       "      <td>18</td>\n",
       "      <td>4.50</td>\n",
       "    </tr>\n",
       "    <tr>\n",
       "      <th>1</th>\n",
       "      <td>19</td>\n",
       "      <td>5.00</td>\n",
       "    </tr>\n",
       "    <tr>\n",
       "      <th>2</th>\n",
       "      <td>20</td>\n",
       "      <td>4.00</td>\n",
       "    </tr>\n",
       "    <tr>\n",
       "      <th>3</th>\n",
       "      <td>21</td>\n",
       "      <td>4.00</td>\n",
       "    </tr>\n",
       "    <tr>\n",
       "      <th>4</th>\n",
       "      <td>22</td>\n",
       "      <td>6.00</td>\n",
       "    </tr>\n",
       "  </tbody>\n",
       "</table>\n",
       "</div>"
      ],
      "text/plain": [
       "   Age  Tenure\n",
       "0   18    4.50\n",
       "1   19    5.00\n",
       "2   20    4.00\n",
       "3   21    4.00\n",
       "4   22    6.00"
      ]
     },
     "execution_count": 16,
     "metadata": {},
     "output_type": "execute_result"
    }
   ],
   "source": [
    "age_tenure = data.pivot_table(\n",
    "    index = 'Age',\n",
    "    values = 'Tenure',\n",
    "    aggfunc = 'median'\n",
    ").reset_index()\n",
    "\n",
    "age_tenure.head()"
   ]
  },
  {
   "cell_type": "code",
   "execution_count": 17,
   "metadata": {},
   "outputs": [],
   "source": [
    "age_dict = {}\n",
    "for i in range(len(age_tenure)):\n",
    "    age_dict[age_tenure.loc[i,'Age']] = age_tenure.loc[i,'Tenure']"
   ]
  },
  {
   "cell_type": "code",
   "execution_count": 18,
   "metadata": {},
   "outputs": [],
   "source": [
    "for i in range(len(data)):\n",
    "    try:\n",
    "        if pd.isna(data.loc[i,'Tenure']):\n",
    "            temp = data.loc[i,'Age']\n",
    "            data.loc[i,'Tenure'] = age_dict[temp]\n",
    "    except:\n",
    "        print('Отсутствующие индексы:', data.index[i])"
   ]
  },
  {
   "cell_type": "code",
   "execution_count": 19,
   "metadata": {},
   "outputs": [
    {
     "data": {
      "text/plain": [
       "5.00    0.18\n",
       "1.00    0.10\n",
       "2.00    0.10\n",
       "8.00    0.09\n",
       "3.00    0.09\n",
       "7.00    0.09\n",
       "4.00    0.09\n",
       "6.00    0.09\n",
       "9.00    0.09\n",
       "10.00   0.04\n",
       "0.00    0.04\n",
       "6.50    0.00\n",
       "4.50    0.00\n",
       "Name: Tenure, dtype: float64"
      ]
     },
     "execution_count": 19,
     "metadata": {},
     "output_type": "execute_result"
    }
   ],
   "source": [
    "data['Tenure'].value_counts(normalize=True)"
   ]
  },
  {
   "cell_type": "code",
   "execution_count": 20,
   "metadata": {},
   "outputs": [
    {
     "data": {
      "image/png": "[encoded data removed]",
      "text/plain": [
       "<Figure size 720x360 with 1 Axes>"
      ]
     },
     "metadata": {
      "needs_background": "light"
     },
     "output_type": "display_data"
    }
   ],
   "source": [
    "data['Tenure'].plot(kind='kde', grid=True, figsize=(10,5), title='Распределение значений столбца \"Tenure\"')\n",
    "plt.show()"
   ]
  },
  {
   "cell_type": "markdown",
   "metadata": {},
   "source": [
    "Пропущенные значения отсутствуют"
   ]
  },
  {
   "cell_type": "code",
   "execution_count": 21,
   "metadata": {},
   "outputs": [
    {
     "name": "stdout",
     "output_type": "stream",
     "text": [
      "<class 'pandas.core.frame.DataFrame'>\n",
      "RangeIndex: 10000 entries, 0 to 9999\n",
      "Data columns (total 14 columns):\n",
      " #   Column           Non-Null Count  Dtype  \n",
      "---  ------           --------------  -----  \n",
      " 0   RowNumber        10000 non-null  int64  \n",
      " 1   CustomerId       10000 non-null  int64  \n",
      " 2   Surname          10000 non-null  object \n",
      " 3   CreditScore      10000 non-null  int64  \n",
      " 4   Geography        10000 non-null  object \n",
      " 5   Gender           10000 non-null  object \n",
      " 6   Age              10000 non-null  int64  \n",
      " 7   Tenure           10000 non-null  float64\n",
      " 8   Balance          10000 non-null  float64\n",
      " 9   NumOfProducts    10000 non-null  int64  \n",
      " 10  HasCrCard        10000 non-null  int64  \n",
      " 11  IsActiveMember   10000 non-null  int64  \n",
      " 12  EstimatedSalary  10000 non-null  float64\n",
      " 13  Exited           10000 non-null  int64  \n",
      "dtypes: float64(3), int64(8), object(3)\n",
      "memory usage: 1.1+ MB\n"
     ]
    }
   ],
   "source": [
    "data.info()"
   ]
  },
  {
   "cell_type": "markdown",
   "metadata": {},
   "source": [
    "Так как уникальный идентификатор и фамилия клиента являются уникальными значениями и не могут служить заакономерностями при построении алгоритмов модели, удаляем эти данные из массива. Также удаляем номер строки, так как он не несет смысловой нагрузки, но модель будет обучаться дольше"
   ]
  },
  {
   "cell_type": "code",
   "execution_count": 22,
   "metadata": {},
   "outputs": [
    {
     "data": {
      "text/plain": [
       "Index(['CreditScore', 'Geography', 'Gender', 'Age', 'Tenure', 'Balance',\n",
       "       'NumOfProducts', 'HasCrCard', 'IsActiveMember', 'EstimatedSalary',\n",
       "       'Exited'],\n",
       "      dtype='object')"
      ]
     },
     "execution_count": 22,
     "metadata": {},
     "output_type": "execute_result"
    }
   ],
   "source": [
    "data_formatted = data.drop(['RowNumber', 'CustomerId', 'Surname'], axis = 1)\n",
    "data_formatted.columns"
   ]
  },
  {
   "cell_type": "markdown",
   "metadata": {},
   "source": [
    "Проверяем отсутствие сильной корреляции между столбцами, что могло негативно сказаться на обучении модели"
   ]
  },
  {
   "cell_type": "code",
   "execution_count": 23,
   "metadata": {},
   "outputs": [
    {
     "data": {
      "text/html": [
       "<div>\n",
       "<style scoped>\n",
       "    .dataframe tbody tr th:only-of-type {\n",
       "        vertical-align: middle;\n",
       "    }\n",
       "\n",
       "    .dataframe tbody tr th {\n",
       "        vertical-align: top;\n",
       "    }\n",
       "\n",
       "    .dataframe thead th {\n",
       "        text-align: right;\n",
       "    }\n",
       "</style>\n",
       "<table border=\"1\" class=\"dataframe\">\n",
       "  <thead>\n",
       "    <tr style=\"text-align: right;\">\n",
       "      <th></th>\n",
       "      <th>CreditScore</th>\n",
       "      <th>Age</th>\n",
       "      <th>Tenure</th>\n",
       "      <th>Balance</th>\n",
       "      <th>NumOfProducts</th>\n",
       "      <th>EstimatedSalary</th>\n",
       "    </tr>\n",
       "  </thead>\n",
       "  <tbody>\n",
       "    <tr>\n",
       "      <th>CreditScore</th>\n",
       "      <td>1.00</td>\n",
       "      <td>-0.00</td>\n",
       "      <td>-0.00</td>\n",
       "      <td>0.01</td>\n",
       "      <td>0.01</td>\n",
       "      <td>-0.00</td>\n",
       "    </tr>\n",
       "    <tr>\n",
       "      <th>Age</th>\n",
       "      <td>-0.00</td>\n",
       "      <td>1.00</td>\n",
       "      <td>-0.01</td>\n",
       "      <td>0.03</td>\n",
       "      <td>-0.03</td>\n",
       "      <td>-0.01</td>\n",
       "    </tr>\n",
       "    <tr>\n",
       "      <th>Tenure</th>\n",
       "      <td>-0.00</td>\n",
       "      <td>-0.01</td>\n",
       "      <td>1.00</td>\n",
       "      <td>-0.01</td>\n",
       "      <td>0.01</td>\n",
       "      <td>0.01</td>\n",
       "    </tr>\n",
       "    <tr>\n",
       "      <th>Balance</th>\n",
       "      <td>0.01</td>\n",
       "      <td>0.03</td>\n",
       "      <td>-0.01</td>\n",
       "      <td>1.00</td>\n",
       "      <td>-0.30</td>\n",
       "      <td>0.01</td>\n",
       "    </tr>\n",
       "    <tr>\n",
       "      <th>NumOfProducts</th>\n",
       "      <td>0.01</td>\n",
       "      <td>-0.03</td>\n",
       "      <td>0.01</td>\n",
       "      <td>-0.30</td>\n",
       "      <td>1.00</td>\n",
       "      <td>0.01</td>\n",
       "    </tr>\n",
       "    <tr>\n",
       "      <th>EstimatedSalary</th>\n",
       "      <td>-0.00</td>\n",
       "      <td>-0.01</td>\n",
       "      <td>0.01</td>\n",
       "      <td>0.01</td>\n",
       "      <td>0.01</td>\n",
       "      <td>1.00</td>\n",
       "    </tr>\n",
       "  </tbody>\n",
       "</table>\n",
       "</div>"
      ],
      "text/plain": [
       "                 CreditScore   Age  Tenure  Balance  NumOfProducts  \\\n",
       "CreditScore             1.00 -0.00   -0.00     0.01           0.01   \n",
       "Age                    -0.00  1.00   -0.01     0.03          -0.03   \n",
       "Tenure                 -0.00 -0.01    1.00    -0.01           0.01   \n",
       "Balance                 0.01  0.03   -0.01     1.00          -0.30   \n",
       "NumOfProducts           0.01 -0.03    0.01    -0.30           1.00   \n",
       "EstimatedSalary        -0.00 -0.01    0.01     0.01           0.01   \n",
       "\n",
       "                 EstimatedSalary  \n",
       "CreditScore                -0.00  \n",
       "Age                        -0.01  \n",
       "Tenure                      0.01  \n",
       "Balance                     0.01  \n",
       "NumOfProducts               0.01  \n",
       "EstimatedSalary             1.00  "
      ]
     },
     "execution_count": 23,
     "metadata": {},
     "output_type": "execute_result"
    }
   ],
   "source": [
    "correlation = data_formatted.loc[:,['CreditScore', 'Age', 'Tenure', 'Balance','NumOfProducts', 'EstimatedSalary']].corr()\n",
    "correlation"
   ]
  },
  {
   "cell_type": "code",
   "execution_count": 24,
   "metadata": {
    "scrolled": true
   },
   "outputs": [],
   "source": [
    "# pd.plotting.scatter_matrix(correlation, figsize=(15,15))\n",
    "# plt.show()"
   ]
  },
  {
   "cell_type": "markdown",
   "metadata": {},
   "source": [
    "Так как столбцы __Geography__ и __Gender__ не числовые, закодируем их методом One_Hot Encoding"
   ]
  },
  {
   "cell_type": "code",
   "execution_count": 25,
   "metadata": {
    "scrolled": true
   },
   "outputs": [
    {
     "data": {
      "text/html": [
       "<div>\n",
       "<style scoped>\n",
       "    .dataframe tbody tr th:only-of-type {\n",
       "        vertical-align: middle;\n",
       "    }\n",
       "\n",
       "    .dataframe tbody tr th {\n",
       "        vertical-align: top;\n",
       "    }\n",
       "\n",
       "    .dataframe thead th {\n",
       "        text-align: right;\n",
       "    }\n",
       "</style>\n",
       "<table border=\"1\" class=\"dataframe\">\n",
       "  <thead>\n",
       "    <tr style=\"text-align: right;\">\n",
       "      <th></th>\n",
       "      <th>CreditScore</th>\n",
       "      <th>Age</th>\n",
       "      <th>Tenure</th>\n",
       "      <th>Balance</th>\n",
       "      <th>NumOfProducts</th>\n",
       "      <th>HasCrCard</th>\n",
       "      <th>IsActiveMember</th>\n",
       "      <th>EstimatedSalary</th>\n",
       "      <th>Exited</th>\n",
       "      <th>Geography_Germany</th>\n",
       "      <th>Geography_Spain</th>\n",
       "      <th>Gender_Male</th>\n",
       "    </tr>\n",
       "  </thead>\n",
       "  <tbody>\n",
       "    <tr>\n",
       "      <th>0</th>\n",
       "      <td>619</td>\n",
       "      <td>42</td>\n",
       "      <td>2.00</td>\n",
       "      <td>0.00</td>\n",
       "      <td>1</td>\n",
       "      <td>1</td>\n",
       "      <td>1</td>\n",
       "      <td>101,348.88</td>\n",
       "      <td>1</td>\n",
       "      <td>0</td>\n",
       "      <td>0</td>\n",
       "      <td>0</td>\n",
       "    </tr>\n",
       "    <tr>\n",
       "      <th>1</th>\n",
       "      <td>608</td>\n",
       "      <td>41</td>\n",
       "      <td>1.00</td>\n",
       "      <td>83,807.86</td>\n",
       "      <td>1</td>\n",
       "      <td>0</td>\n",
       "      <td>1</td>\n",
       "      <td>112,542.58</td>\n",
       "      <td>0</td>\n",
       "      <td>0</td>\n",
       "      <td>1</td>\n",
       "      <td>0</td>\n",
       "    </tr>\n",
       "    <tr>\n",
       "      <th>2</th>\n",
       "      <td>502</td>\n",
       "      <td>42</td>\n",
       "      <td>8.00</td>\n",
       "      <td>159,660.80</td>\n",
       "      <td>3</td>\n",
       "      <td>1</td>\n",
       "      <td>0</td>\n",
       "      <td>113,931.57</td>\n",
       "      <td>1</td>\n",
       "      <td>0</td>\n",
       "      <td>0</td>\n",
       "      <td>0</td>\n",
       "    </tr>\n",
       "  </tbody>\n",
       "</table>\n",
       "</div>"
      ],
      "text/plain": [
       "   CreditScore  Age  Tenure    Balance  NumOfProducts  HasCrCard  \\\n",
       "0          619   42    2.00       0.00              1          1   \n",
       "1          608   41    1.00  83,807.86              1          0   \n",
       "2          502   42    8.00 159,660.80              3          1   \n",
       "\n",
       "   IsActiveMember  EstimatedSalary  Exited  Geography_Germany  \\\n",
       "0               1       101,348.88       1                  0   \n",
       "1               1       112,542.58       0                  0   \n",
       "2               0       113,931.57       1                  0   \n",
       "\n",
       "   Geography_Spain  Gender_Male  \n",
       "0                0            0  \n",
       "1                1            0  \n",
       "2                0            0  "
      ]
     },
     "execution_count": 25,
     "metadata": {},
     "output_type": "execute_result"
    }
   ],
   "source": [
    "data_ohe = pd.get_dummies(data_formatted, drop_first=True)\n",
    "data_ohe.head(3)"
   ]
  },
  {
   "cell_type": "markdown",
   "metadata": {},
   "source": [
    "### Вывод:\n",
    "1. заменили пропуски в столбце __Tenure__ на значения медианы в разрезе возраста клиентов (столбец __Age__)\n",
    "2. удалили столбцы __RowNumber, CustomerId, Surname__ так как они могли только мешать обучению модели\n",
    "3. закодировали категориальные данные столбцов __Geography__ и __Gender__ методом _ОНЕ_\n",
    "4. сильно коррелирующие данные столбцов между собой не выявлены"
   ]
  },
  {
   "cell_type": "markdown",
   "metadata": {},
   "source": [
    "## Исследование задачи"
   ]
  },
  {
   "cell_type": "markdown",
   "metadata": {},
   "source": [
    "Делаем срезы данных и разбиваем на выборки: для обучения - 60% от общего объема, валидационная выборка - 20% и тестовая выборка - 20%."
   ]
  },
  {
   "cell_type": "code",
   "execution_count": 26,
   "metadata": {},
   "outputs": [],
   "source": [
    "features = data_ohe.drop('Exited', axis = 1)\n",
    "target = data_ohe['Exited']"
   ]
  },
  {
   "cell_type": "code",
   "execution_count": 27,
   "metadata": {},
   "outputs": [],
   "source": [
    "features_train, features_valid, target_train, target_valid = train_test_split(\n",
    "    features, target, test_size=0.4, random_state=12345\n",
    ")"
   ]
  },
  {
   "cell_type": "code",
   "execution_count": 28,
   "metadata": {},
   "outputs": [],
   "source": [
    "features_valid, features_test, target_valid, target_test = train_test_split(\n",
    "    features_valid, target_valid, test_size=0.5, random_state=12345\n",
    ")"
   ]
  },
  {
   "cell_type": "code",
   "execution_count": 29,
   "metadata": {},
   "outputs": [
    {
     "name": "stdout",
     "output_type": "stream",
     "text": [
      "(6000, 11)\n",
      "(2000, 11)\n",
      "(2000, 11)\n"
     ]
    }
   ],
   "source": [
    "print(features_train.shape)\n",
    "print(features_valid.shape)\n",
    "print(features_test.shape)"
   ]
  },
  {
   "cell_type": "code",
   "execution_count": 30,
   "metadata": {},
   "outputs": [
    {
     "name": "stdout",
     "output_type": "stream",
     "text": [
      "(6000,)\n",
      "(2000,)\n",
      "(2000,)\n"
     ]
    }
   ],
   "source": [
    "print(target_train.shape)\n",
    "print(target_valid.shape)\n",
    "print(target_test.shape)"
   ]
  },
  {
   "cell_type": "markdown",
   "metadata": {},
   "source": [
    "Обучаем модель и предсказываем значения валидационной выборки с помощью моделей: Решающего дерева, Случайного леса, Логистической регрессии. Проверяем качество модели с помощью метрики _f1_ (взаимосвязь полноты и точности)"
   ]
  },
  {
   "cell_type": "code",
   "execution_count": 31,
   "metadata": {},
   "outputs": [
    {
     "name": "stdout",
     "output_type": "stream",
     "text": [
      "F1 Дерево решений = 0.503052503052503\n"
     ]
    }
   ],
   "source": [
    "model = DecisionTreeClassifier(random_state=12345)\n",
    "model.fit(features_train, target_train)\n",
    "predicted_valid = model.predict(features_valid)\n",
    "f1 = f1_score(target_valid, predicted_valid)\n",
    "print(f'F1 Дерево решений = {f1}')"
   ]
  },
  {
   "cell_type": "code",
   "execution_count": 32,
   "metadata": {},
   "outputs": [
    {
     "name": "stdout",
     "output_type": "stream",
     "text": [
      "F1 Случайный лес = 0.5481927710843373\n"
     ]
    }
   ],
   "source": [
    "model = RandomForestClassifier(n_estimators=10,random_state=12345)\n",
    "model.fit(features_train, target_train)\n",
    "predicted_valid = model.predict(features_valid)\n",
    "f1 = f1_score(target_valid, predicted_valid)\n",
    "print(f'F1 Случайный лес = {f1}')"
   ]
  },
  {
   "cell_type": "code",
   "execution_count": 33,
   "metadata": {},
   "outputs": [
    {
     "name": "stdout",
     "output_type": "stream",
     "text": [
      "F1 Логистическая регрессия = 0.08385744234800838\n"
     ]
    }
   ],
   "source": [
    "model = LogisticRegression(solver='liblinear',random_state=12345)\n",
    "model.fit(features_train, target_train)\n",
    "predicted_valid = model.predict(features_valid)\n",
    "f1 = f1_score(target_valid, predicted_valid)\n",
    "print(f'F1 Логистическая регрессия = {f1}')"
   ]
  },
  {
   "cell_type": "markdown",
   "metadata": {},
   "source": [
    "### Масштабирование числовых признаков"
   ]
  },
  {
   "cell_type": "markdown",
   "metadata": {},
   "source": [
    "Так как числовые значения имеют разный порядок, масштабируем данные методом стандартизации"
   ]
  },
  {
   "cell_type": "code",
   "execution_count": 34,
   "metadata": {},
   "outputs": [],
   "source": [
    "numeric = [\n",
    "    'CreditScore', 'Age', 'Tenure', 'Balance', 'NumOfProducts', 'EstimatedSalary'\n",
    "]"
   ]
  },
  {
   "cell_type": "code",
   "execution_count": 35,
   "metadata": {},
   "outputs": [],
   "source": [
    "pd.options.mode.chained_assignment=None"
   ]
  },
  {
   "cell_type": "code",
   "execution_count": 36,
   "metadata": {
    "scrolled": true
   },
   "outputs": [],
   "source": [
    "scaler = StandardScaler()\n",
    "scaler.fit(features_train[numeric])\n",
    "features_train_scaled = scaler.transform(features_train[numeric])\n",
    "features_valid_scaled = scaler.transform(features_valid[numeric])"
   ]
  },
  {
   "cell_type": "markdown",
   "metadata": {},
   "source": [
    "Проверяем значение метрики _f1_ на моделях"
   ]
  },
  {
   "cell_type": "code",
   "execution_count": 37,
   "metadata": {},
   "outputs": [
    {
     "name": "stdout",
     "output_type": "stream",
     "text": [
      "F1 Дерево решений (масштабированный) = 0.4204131227217497\n"
     ]
    }
   ],
   "source": [
    "model = DecisionTreeClassifier(random_state=12345)\n",
    "model.fit(features_train_scaled, target_train)\n",
    "predicted_valid = model.predict(features_valid_scaled)\n",
    "f1 = f1_score(target_valid, predicted_valid)\n",
    "print(f'F1 Дерево решений (масштабированный) = {f1}')"
   ]
  },
  {
   "cell_type": "code",
   "execution_count": 38,
   "metadata": {},
   "outputs": [
    {
     "name": "stdout",
     "output_type": "stream",
     "text": [
      "F1 Случайный лес (масштабированный) = 0.46178343949044587\n"
     ]
    }
   ],
   "source": [
    "model = RandomForestClassifier(n_estimators=10,random_state=12345)\n",
    "model.fit(features_train_scaled, target_train)\n",
    "predicted_valid = model.predict(features_valid_scaled)\n",
    "f1 = f1_score(target_valid, predicted_valid)\n",
    "print(f'F1 Случайный лес (масштабированный) = {f1}')"
   ]
  },
  {
   "cell_type": "code",
   "execution_count": 39,
   "metadata": {
    "scrolled": true
   },
   "outputs": [
    {
     "name": "stdout",
     "output_type": "stream",
     "text": [
      "F1 Логистическая регрессия (масштабированный) = 0.11045364891518737\n"
     ]
    }
   ],
   "source": [
    "model = LogisticRegression(solver='liblinear',random_state=12345)\n",
    "model.fit(features_train_scaled, target_train)\n",
    "predicted_valid = model.predict(features_valid_scaled)\n",
    "f1 = f1_score(target_valid, predicted_valid)\n",
    "print(f'F1 Логистическая регрессия (масштабированный) = {f1}')"
   ]
  },
  {
   "cell_type": "markdown",
   "metadata": {},
   "source": [
    "## Борьба с дисбалансом"
   ]
  },
  {
   "cell_type": "markdown",
   "metadata": {},
   "source": [
    "Данные несбалансированные, отрицательных значений в 4 раза меньше положительных"
   ]
  },
  {
   "cell_type": "code",
   "execution_count": 40,
   "metadata": {},
   "outputs": [
    {
     "data": {
      "text/plain": [
       "0   0.80\n",
       "1   0.20\n",
       "Name: Exited, dtype: float64"
      ]
     },
     "execution_count": 40,
     "metadata": {},
     "output_type": "execute_result"
    }
   ],
   "source": [
    "data['Exited'].value_counts(normalize=True)"
   ]
  },
  {
   "cell_type": "markdown",
   "metadata": {},
   "source": [
    "### Уравнивание классов"
   ]
  },
  {
   "cell_type": "markdown",
   "metadata": {},
   "source": [
    "Проверяем на моделях значение метрики _f1_ при гиперпараметре _class_weight='balanced'_ (как с учетом масштабирования признаков, так и без них)"
   ]
  },
  {
   "cell_type": "code",
   "execution_count": 41,
   "metadata": {},
   "outputs": [
    {
     "name": "stdout",
     "output_type": "stream",
     "text": [
      "Дерево решений сбалансированная:\n",
      "F1 = 0.482593037214886\n",
      "F1 (масштабированный) = 0.424390243902439\n"
     ]
    }
   ],
   "source": [
    "model = DecisionTreeClassifier(class_weight='balanced',random_state=12345)\n",
    "model.fit(features_train, target_train)\n",
    "predicted_valid = model.predict(features_valid)\n",
    "f1 = f1_score(target_valid, predicted_valid)\n",
    "\n",
    "model.fit(features_train_scaled, target_train)\n",
    "predicted_valid_scaled = model.predict(features_valid_scaled)\n",
    "f1_scaled = f1_score(target_valid, predicted_valid_scaled)\n",
    "\n",
    "print(f'Дерево решений сбалансированная:')\n",
    "print(f'F1 = {f1}')\n",
    "print(f'F1 (масштабированный) = {f1_scaled}')"
   ]
  },
  {
   "cell_type": "code",
   "execution_count": 42,
   "metadata": {},
   "outputs": [
    {
     "name": "stdout",
     "output_type": "stream",
     "text": [
      "Случайный лес сбалансированная:\n",
      "F1 = 0.5718654434250765\n",
      "F1 (масштабированный) = 0.44871794871794873\n"
     ]
    }
   ],
   "source": [
    "model = RandomForestClassifier(n_estimators=10,class_weight='balanced',random_state=12345)\n",
    "model.fit(features_train, target_train)\n",
    "predicted_valid = model.predict(features_valid)\n",
    "f1 = f1_score(target_valid, predicted_valid)\n",
    "\n",
    "model.fit(features_train_scaled, target_train)\n",
    "predicted_valid_scaled = model.predict(features_valid_scaled)\n",
    "f1_scaled = f1_score(target_valid, predicted_valid_scaled)\n",
    "\n",
    "print(f'Случайный лес сбалансированная:')\n",
    "print(f'F1 = {f1}')\n",
    "print(f'F1 (масштабированный) = {f1_scaled}')"
   ]
  },
  {
   "cell_type": "code",
   "execution_count": 43,
   "metadata": {},
   "outputs": [
    {
     "name": "stdout",
     "output_type": "stream",
     "text": [
      "Логистическая регрессия сбалансированная:\n",
      "F1 = 0.4891846921797005\n",
      "F1 (масштабированный) = 0.4904679376083189\n"
     ]
    }
   ],
   "source": [
    "model = LogisticRegression(solver='liblinear',class_weight='balanced', random_state=12345)\n",
    "model.fit(features_train, target_train)\n",
    "predicted_valid = model.predict(features_valid)\n",
    "f1 = f1_score(target_valid, predicted_valid)\n",
    "\n",
    "model.fit(features_train_scaled, target_train)\n",
    "predicted_valid_scaled = model.predict(features_valid_scaled)\n",
    "f1_scaled = f1_score(target_valid, predicted_valid_scaled)\n",
    "\n",
    "print(f'Логистическая регрессия сбалансированная:')\n",
    "print(f'F1 = {f1}')\n",
    "print(f'F1 (масштабированный) = {f1_scaled}')"
   ]
  },
  {
   "cell_type": "markdown",
   "metadata": {},
   "source": [
    "__Вывод__: В целом, значение метрики возрасло, что свидетельствует о том, что уравнивание классов положительно сказалось на обучении модели"
   ]
  },
  {
   "cell_type": "markdown",
   "metadata": {},
   "source": [
    "### Увеличение выборки редких классов"
   ]
  },
  {
   "cell_type": "markdown",
   "metadata": {},
   "source": [
    "Функция по увеличению выборки:\n",
    "1. принимает признаки, целевые значения, значение во сколько раз увеличиваем выборки\n",
    "2. разделяет выборки по классам (0 и 1)\n",
    "3. увеличивает выборку по редкому классу _1_ и соединяет с выборкой по классу _0_\n",
    "4. перемешивает данные выборки\n",
    "5. возвращает увеличенные выборки"
   ]
  },
  {
   "cell_type": "code",
   "execution_count": 44,
   "metadata": {},
   "outputs": [],
   "source": [
    "def upsample(features, target, repeat):\n",
    "    features_zero = features[target == 0]\n",
    "    features_one = features[target == 1]\n",
    "    target_zero = target[target == 0]\n",
    "    target_one = target[target == 1]\n",
    "    \n",
    "    features_upsampled = pd.concat([features_zero] + [features_one] * repeat)\n",
    "    target_upsampled = pd.concat([target_zero] + [target_one] * repeat)\n",
    "    \n",
    "    features_upsampled, target_upsampled = shuffle(\n",
    "        features_upsampled, target_upsampled, random_state=12345\n",
    "    )\n",
    "    return features_upsampled, target_upsampled"
   ]
  },
  {
   "cell_type": "markdown",
   "metadata": {},
   "source": [
    "Применяем функцию к обучающей выборке"
   ]
  },
  {
   "cell_type": "code",
   "execution_count": 45,
   "metadata": {},
   "outputs": [],
   "source": [
    "features_upsampled, target_upsampled = upsample(features_train, target_train, 4)"
   ]
  },
  {
   "cell_type": "markdown",
   "metadata": {},
   "source": [
    "Масштабируем признаки увеличенной обучающей выборки"
   ]
  },
  {
   "cell_type": "code",
   "execution_count": 46,
   "metadata": {},
   "outputs": [],
   "source": [
    "features_upsampled_scaled = scaler.transform(features_upsampled[numeric])"
   ]
  },
  {
   "cell_type": "markdown",
   "metadata": {},
   "source": [
    "Проверяем на моделях значение метрики f1 на увеличенной обучающей выборке (как с учетом масштабирования признаков, так и без них)"
   ]
  },
  {
   "cell_type": "code",
   "execution_count": 47,
   "metadata": {},
   "outputs": [
    {
     "name": "stdout",
     "output_type": "stream",
     "text": [
      "Дерево решений Увеличенная:\n",
      "F1 = 0.4855072463768116\n",
      "F1 (масштабированный) = 0.4223300970873786\n"
     ]
    }
   ],
   "source": [
    "model = DecisionTreeClassifier(random_state=12345)\n",
    "model.fit(features_upsampled, target_upsampled)\n",
    "predicted_valid = model.predict(features_valid)\n",
    "f1 = f1_score(target_valid, predicted_valid)\n",
    "\n",
    "model.fit(features_upsampled_scaled, target_upsampled)\n",
    "predicted_valid_scaled = model.predict(features_valid_scaled)\n",
    "f1_scaled = f1_score(target_valid, predicted_valid_scaled)\n",
    "\n",
    "print(f'Дерево решений Увеличенная:')\n",
    "print(f'F1 = {f1}')\n",
    "print(f'F1 (масштабированный) = {f1_scaled}')"
   ]
  },
  {
   "cell_type": "code",
   "execution_count": 48,
   "metadata": {
    "scrolled": true
   },
   "outputs": [
    {
     "name": "stdout",
     "output_type": "stream",
     "text": [
      "Случайный лес Увеличенная:\n",
      "F1 = 0.5780189959294437\n",
      "F1 (масштабированный) = 0.5006877579092159\n"
     ]
    }
   ],
   "source": [
    "model = RandomForestClassifier(n_estimators=10,random_state=12345)\n",
    "model.fit(features_upsampled, target_upsampled)\n",
    "predicted_valid = model.predict(features_valid)\n",
    "f1 = f1_score(target_valid, predicted_valid)\n",
    "\n",
    "model.fit(features_upsampled_scaled, target_upsampled)\n",
    "predicted_valid_scaled = model.predict(features_valid_scaled)\n",
    "f1_scaled = f1_score(target_valid, predicted_valid_scaled)\n",
    "\n",
    "print(f'Случайный лес Увеличенная:')\n",
    "print(f'F1 = {f1}')\n",
    "print(f'F1 (масштабированный) = {f1_scaled}')"
   ]
  },
  {
   "cell_type": "code",
   "execution_count": 49,
   "metadata": {},
   "outputs": [
    {
     "name": "stdout",
     "output_type": "stream",
     "text": [
      "Логистическая регрессия Увеличенная:\n",
      "F1 = 0.45161290322580644\n",
      "F1 (масштабированный) = 0.4891209747606614\n"
     ]
    }
   ],
   "source": [
    "model = LogisticRegression(solver='liblinear', random_state=12345)\n",
    "model.fit(features_upsampled, target_upsampled)\n",
    "predicted_valid = model.predict(features_valid)\n",
    "f1 = f1_score(target_valid, predicted_valid)\n",
    "\n",
    "model.fit(features_upsampled_scaled, target_upsampled)\n",
    "predicted_valid_scaled = model.predict(features_valid_scaled)\n",
    "f1_scaled = f1_score(target_valid, predicted_valid_scaled)\n",
    "\n",
    "print(f'Логистическая регрессия Увеличенная:')\n",
    "print(f'F1 = {f1}')\n",
    "print(f'F1 (масштабированный) = {f1_scaled}')"
   ]
  },
  {
   "cell_type": "markdown",
   "metadata": {},
   "source": [
    "__Вывод__: Значение метрики возрасло сопоставимо с уравниванием классов"
   ]
  },
  {
   "cell_type": "markdown",
   "metadata": {},
   "source": [
    "### Уменьшение выборки частых классов"
   ]
  },
  {
   "cell_type": "markdown",
   "metadata": {},
   "source": [
    "Функция по уменьшению выборки:\n",
    "1. принимает признаки, целевые значения, значение какую долю от выборки оставить\n",
    "2. разделяет выборки по классам (0 и 1)\n",
    "3. случайным образом отбрасывает часть выборки по частому классу _0_ и соединяет с выборкой по классу _1_\n",
    "4. перемешивает данные выборки\n",
    "5. возвращает уменьшенные выборки"
   ]
  },
  {
   "cell_type": "code",
   "execution_count": 50,
   "metadata": {},
   "outputs": [],
   "source": [
    "def downsample(features, target, fraction):\n",
    "    features_zero = features[target == 0]\n",
    "    features_one = features[target == 1]\n",
    "    target_zero = target[target == 0]\n",
    "    target_one = target[target == 1]\n",
    "    \n",
    "    features_downsampled = pd.concat(\n",
    "        [features_zero.sample(frac=fraction, random_state=12345)] + [features_one]\n",
    "    )\n",
    "    target_downsampled = pd.concat(\n",
    "        [target_zero.sample(frac=fraction, random_state=12345)] + [target_one]\n",
    "    )\n",
    "    \n",
    "    features_downsampled, target_downsampled = shuffle(\n",
    "        features_downsampled, target_downsampled, random_state=12345\n",
    "    )\n",
    "    return features_downsampled, target_downsampled"
   ]
  },
  {
   "cell_type": "markdown",
   "metadata": {},
   "source": [
    "Применяем функцию к обучающей выборке"
   ]
  },
  {
   "cell_type": "code",
   "execution_count": 51,
   "metadata": {},
   "outputs": [],
   "source": [
    "features_downsampled, target_downsampled = downsample(features_train, target_train, 0.25)"
   ]
  },
  {
   "cell_type": "markdown",
   "metadata": {},
   "source": [
    "Масштабируем признаки уменьшенной обучающей выборки"
   ]
  },
  {
   "cell_type": "code",
   "execution_count": 52,
   "metadata": {},
   "outputs": [],
   "source": [
    "features_downsampled_scaled = scaler.transform(features_downsampled[numeric])"
   ]
  },
  {
   "cell_type": "markdown",
   "metadata": {},
   "source": [
    "Проверяем на моделях значение метрики f1 на уменьшенной обучающей выборке (как с учетом масштабирования признаков, так и без них)"
   ]
  },
  {
   "cell_type": "code",
   "execution_count": 53,
   "metadata": {},
   "outputs": [
    {
     "name": "stdout",
     "output_type": "stream",
     "text": [
      "Дерево решений Уменьшенная:\n",
      "F1 = 0.4871155444721529\n",
      "F1 (масштабированный) = 0.4610441767068273\n"
     ]
    }
   ],
   "source": [
    "model = DecisionTreeClassifier(random_state=12345)\n",
    "model.fit(features_downsampled, target_downsampled)\n",
    "predicted_valid = model.predict(features_valid)\n",
    "f1 = f1_score(target_valid, predicted_valid)\n",
    "\n",
    "model.fit(features_downsampled_scaled, target_downsampled)\n",
    "predicted_valid_scaled = model.predict(features_valid_scaled)\n",
    "f1_scaled = f1_score(target_valid, predicted_valid_scaled)\n",
    "\n",
    "print(f'Дерево решений Уменьшенная:')\n",
    "print(f'F1 = {f1}')\n",
    "print(f'F1 (масштабированный) = {f1_scaled}')"
   ]
  },
  {
   "cell_type": "code",
   "execution_count": 54,
   "metadata": {},
   "outputs": [
    {
     "name": "stdout",
     "output_type": "stream",
     "text": [
      "Случайный лес Уменьшенная:\n",
      "F1 = 0.56973293768546\n",
      "F1 (масштабированный) = 0.5346341463414634\n"
     ]
    }
   ],
   "source": [
    "model = RandomForestClassifier(n_estimators=10,random_state=12345)\n",
    "model.fit(features_downsampled, target_downsampled)\n",
    "predicted_valid = model.predict(features_valid)\n",
    "f1 = f1_score(target_valid, predicted_valid)\n",
    "\n",
    "model.fit(features_downsampled_scaled, target_downsampled)\n",
    "predicted_valid_scaled = model.predict(features_valid_scaled)\n",
    "f1_scaled = f1_score(target_valid, predicted_valid_scaled)\n",
    "\n",
    "print(f'Случайный лес Уменьшенная:')\n",
    "print(f'F1 = {f1}')\n",
    "print(f'F1 (масштабированный) = {f1_scaled}')"
   ]
  },
  {
   "cell_type": "code",
   "execution_count": 55,
   "metadata": {},
   "outputs": [
    {
     "name": "stdout",
     "output_type": "stream",
     "text": [
      "Логистическая регрессия Уменьшенная:\n",
      "F1 = 0.450592885375494\n",
      "F1 (масштабированный) = 0.4866723989681858\n"
     ]
    }
   ],
   "source": [
    "model = LogisticRegression(solver='liblinear', random_state=12345)\n",
    "model.fit(features_downsampled, target_downsampled)\n",
    "predicted_valid = model.predict(features_valid)\n",
    "f1 = f1_score(target_valid, predicted_valid)\n",
    "\n",
    "model.fit(features_downsampled_scaled, target_downsampled)\n",
    "predicted_valid_scaled = model.predict(features_valid_scaled)\n",
    "f1_scaled = f1_score(target_valid, predicted_valid_scaled)\n",
    "\n",
    "print(f'Логистическая регрессия Уменьшенная:')\n",
    "print(f'F1 = {f1}')\n",
    "print(f'F1 (масштабированный) = {f1_scaled}')"
   ]
  },
  {
   "cell_type": "markdown",
   "metadata": {},
   "source": [
    "__Вывод__: Значение метрики возрасло сопоставимо с уравниванием классов и уменшением выборки редких классов"
   ]
  },
  {
   "cell_type": "markdown",
   "metadata": {},
   "source": [
    "### Вывод:"
   ]
  },
  {
   "cell_type": "code",
   "execution_count": 56,
   "metadata": {},
   "outputs": [
    {
     "data": {
      "text/html": [
       "<div>\n",
       "<style scoped>\n",
       "    .dataframe tbody tr th:only-of-type {\n",
       "        vertical-align: middle;\n",
       "    }\n",
       "\n",
       "    .dataframe tbody tr th {\n",
       "        vertical-align: top;\n",
       "    }\n",
       "\n",
       "    .dataframe thead th {\n",
       "        text-align: right;\n",
       "    }\n",
       "</style>\n",
       "<table border=\"1\" class=\"dataframe\">\n",
       "  <thead>\n",
       "    <tr style=\"text-align: right;\">\n",
       "      <th></th>\n",
       "      <th>F1</th>\n",
       "      <th>Дерево решений</th>\n",
       "      <th>Случайный лес</th>\n",
       "      <th>Логистическая регрессия</th>\n",
       "    </tr>\n",
       "  </thead>\n",
       "  <tbody>\n",
       "    <tr>\n",
       "      <th>0</th>\n",
       "      <td>базовый</td>\n",
       "      <td>0.50</td>\n",
       "      <td>0.54</td>\n",
       "      <td>0.08</td>\n",
       "    </tr>\n",
       "    <tr>\n",
       "      <th>1</th>\n",
       "      <td>базовый (масштаб.)</td>\n",
       "      <td>0.42</td>\n",
       "      <td>0.46</td>\n",
       "      <td>0.11</td>\n",
       "    </tr>\n",
       "    <tr>\n",
       "      <th>2</th>\n",
       "      <td>-------------</td>\n",
       "      <td>---</td>\n",
       "      <td>---</td>\n",
       "      <td>---</td>\n",
       "    </tr>\n",
       "    <tr>\n",
       "      <th>3</th>\n",
       "      <td>сбалансированный</td>\n",
       "      <td>0.48</td>\n",
       "      <td>0.57</td>\n",
       "      <td>0.49</td>\n",
       "    </tr>\n",
       "    <tr>\n",
       "      <th>4</th>\n",
       "      <td>сбалансированный (масштаб.)</td>\n",
       "      <td>0.42</td>\n",
       "      <td>0.44</td>\n",
       "      <td>0.49</td>\n",
       "    </tr>\n",
       "    <tr>\n",
       "      <th>5</th>\n",
       "      <td>-------------</td>\n",
       "      <td>---</td>\n",
       "      <td>---</td>\n",
       "      <td>---</td>\n",
       "    </tr>\n",
       "    <tr>\n",
       "      <th>6</th>\n",
       "      <td>увеличенная выборка</td>\n",
       "      <td>0.48</td>\n",
       "      <td>0.58</td>\n",
       "      <td>0.45</td>\n",
       "    </tr>\n",
       "    <tr>\n",
       "      <th>7</th>\n",
       "      <td>увеличенная выборка (масштаб.)</td>\n",
       "      <td>0.42</td>\n",
       "      <td>0.50</td>\n",
       "      <td>0.48</td>\n",
       "    </tr>\n",
       "    <tr>\n",
       "      <th>8</th>\n",
       "      <td>-------------</td>\n",
       "      <td>---</td>\n",
       "      <td>---</td>\n",
       "      <td>---</td>\n",
       "    </tr>\n",
       "    <tr>\n",
       "      <th>9</th>\n",
       "      <td>уменьшенная выборка</td>\n",
       "      <td>0.48</td>\n",
       "      <td>0.56</td>\n",
       "      <td>0.45</td>\n",
       "    </tr>\n",
       "    <tr>\n",
       "      <th>10</th>\n",
       "      <td>уменьшенная выборка (масштаб.)</td>\n",
       "      <td>0.46</td>\n",
       "      <td>0.53</td>\n",
       "      <td>0.48</td>\n",
       "    </tr>\n",
       "  </tbody>\n",
       "</table>\n",
       "</div>"
      ],
      "text/plain": [
       "                                F1 Дерево решений Случайный лес  \\\n",
       "0                          базовый           0.50          0.54   \n",
       "1               базовый (масштаб.)           0.42          0.46   \n",
       "2                    -------------            ---           ---   \n",
       "3                 сбалансированный           0.48          0.57   \n",
       "4      сбалансированный (масштаб.)           0.42          0.44   \n",
       "5                    -------------            ---           ---   \n",
       "6              увеличенная выборка           0.48          0.58   \n",
       "7   увеличенная выборка (масштаб.)           0.42          0.50   \n",
       "8                    -------------            ---           ---   \n",
       "9              уменьшенная выборка           0.48          0.56   \n",
       "10  уменьшенная выборка (масштаб.)           0.46          0.53   \n",
       "\n",
       "   Логистическая регрессия  \n",
       "0                     0.08  \n",
       "1                     0.11  \n",
       "2                      ---  \n",
       "3                     0.49  \n",
       "4                     0.49  \n",
       "5                      ---  \n",
       "6                     0.45  \n",
       "7                     0.48  \n",
       "8                      ---  \n",
       "9                     0.45  \n",
       "10                    0.48  "
      ]
     },
     "execution_count": 56,
     "metadata": {},
     "output_type": "execute_result"
    }
   ],
   "source": [
    "table = pd.DataFrame(\n",
    "    data=[\n",
    "        ['базовый', 0.50, 0.54, 0.08],\n",
    "        ['базовый (масштаб.)', 0.42, 0.46, 0.11],\n",
    "        ['-------------', '---', '---', '---'],\n",
    "        ['сбалансированный',0.48, 0.5718, 0.49],\n",
    "       ['сбалансированный (масштаб.)', 0.42, 0.44, 0.49],\n",
    "        ['-------------', '---', '---', '---'],\n",
    "    ['увеличенная выборка', 0.48, 0.5780, 0.45],\n",
    "    ['увеличенная выборка (масштаб.)', 0.42, 0.50, 0.48],\n",
    "        ['-------------', '---', '---', '---'],\n",
    "    ['уменьшенная выборка', 0.48, 0.56, 0.45],\n",
    "    ['уменьшенная выборка (масштаб.)', 0.46, 0.53, 0.48]\n",
    "    ], \n",
    "    columns=['F1', 'Дерево решений', 'Случайный лес', 'Логистическая регрессия']\n",
    ")\n",
    "\n",
    "table"
   ]
  },
  {
   "cell_type": "markdown",
   "metadata": {},
   "source": [
    "Мы тремя разными способами боролись с несбалансированными классами, значение метрики _F1_ улучшились. Наилучшее значение показала модель Случайного леса при увеличенной выборке редкого класса и без стандартизации данных"
   ]
  },
  {
   "cell_type": "markdown",
   "metadata": {},
   "source": [
    "### Подбираем оптимальные гиперпараметры для моделей"
   ]
  },
  {
   "cell_type": "markdown",
   "metadata": {},
   "source": [
    "__Решающее дерево__"
   ]
  },
  {
   "cell_type": "code",
   "execution_count": 57,
   "metadata": {},
   "outputs": [
    {
     "name": "stdout",
     "output_type": "stream",
     "text": [
      "Дерево решений F1 = 0.5963791267305644, оптимальная глубина = 5\n"
     ]
    }
   ],
   "source": [
    "best_result = 0\n",
    "best_depth = 0\n",
    "\n",
    "for depth in range(1,60):\n",
    "    model = DecisionTreeClassifier(max_depth = depth, random_state=12345) #, class_weight = 'balanced')\n",
    "#     model.fit(features_train, target_train)\n",
    "    model.fit(features_upsampled, target_upsampled)\n",
    "    predicted_valid = model.predict(features_valid)\n",
    "    f1 = f1_score(target_valid, predicted_valid)\n",
    "    \n",
    "    if best_result < f1:\n",
    "        best_result = f1\n",
    "        best_depth = depth\n",
    "\n",
    "print(f'Дерево решений F1 = {best_result}, оптимальная глубина = {best_depth}')"
   ]
  },
  {
   "cell_type": "code",
   "execution_count": 58,
   "metadata": {},
   "outputs": [
    {
     "name": "stdout",
     "output_type": "stream",
     "text": [
      "F1: 0.5963791267305644\n",
      "AUC-ROC: 0.8310244134068074\n"
     ]
    }
   ],
   "source": [
    "model = DecisionTreeClassifier(max_depth = 5, random_state=12345)\n",
    "model.fit(features_upsampled, target_upsampled)\n",
    "predicted_valid = model.predict(features_valid)\n",
    "\n",
    "probabilities_valid = model.predict_proba(features_valid)\n",
    "probabilities_one_valid = probabilities_valid[:, 1]\n",
    "\n",
    "f1 = f1_score(target_valid, predicted_valid)\n",
    "auc_roc = roc_auc_score(target_valid, probabilities_one_valid)\n",
    "print(f'F1: {f1}')\n",
    "print(f'AUC-ROC: {auc_roc}')"
   ]
  },
  {
   "cell_type": "code",
   "execution_count": 59,
   "metadata": {},
   "outputs": [
    {
     "name": "stdout",
     "output_type": "stream",
     "text": [
      "Полнота: 0.6698564593301436\n",
      "Точность: 0.5374280230326296\n",
      "\n",
      "Матрица неточностей:\n",
      "[[1341  241]\n",
      " [ 138  280]]\n"
     ]
    }
   ],
   "source": [
    "print(f'Полнота: {recall_score(target_valid, predicted_valid)}')\n",
    "print(f'Точность: {precision_score(target_valid, predicted_valid)}')\n",
    "print()\n",
    "print(f'Матрица неточностей:')\n",
    "print(confusion_matrix(target_valid, predicted_valid))"
   ]
  },
  {
   "cell_type": "markdown",
   "metadata": {},
   "source": [
    "__Случайный лес__"
   ]
  },
  {
   "cell_type": "raw",
   "metadata": {},
   "source": [
    "best_result = 0\n",
    "best_depth = 0\n",
    "best_est = 0\n",
    "\n",
    "for est in range(10, 110, 10):\n",
    "    for depth in range(1, 11):\n",
    "        model = RandomForestClassifier(n_estimators = est, max_depth = depth, random_state=12345)\n",
    "        model.fit(features_upsampled, target_upsampled)\n",
    "#         model.fit(features_train, target_train)\n",
    "        predicted_valid = model.predict(features_valid)\n",
    "        f1 = f1_score(target_valid, predicted_valid)\n",
    "    \n",
    "        if best_result < f1:\n",
    "            best_result = f1\n",
    "            best_depth = depth\n",
    "            best_est = est\n",
    "            \n",
    "print(f'Случайный лес F1 = {best_result}, оптимальное кол-во:')\n",
    "print(f'деревьев = {best_est}')\n",
    "print(f'глубины = {best_depth}')"
   ]
  },
  {
   "cell_type": "code",
   "execution_count": 60,
   "metadata": {},
   "outputs": [
    {
     "name": "stdout",
     "output_type": "stream",
     "text": [
      "F1: 0.6318036286019211\n",
      "AUC-ROC: 0.8536707819427894\n"
     ]
    }
   ],
   "source": [
    "model = RandomForestClassifier(n_estimators = 90, max_depth = 9, random_state=12345)\n",
    "model.fit(features_upsampled, target_upsampled)\n",
    "predicted_valid = model.predict(features_valid)\n",
    "\n",
    "probabilities_valid = model.predict_proba(features_valid)\n",
    "probabilities_one_valid = probabilities_valid[:, 1]\n",
    "\n",
    "f1 = f1_score(target_valid, predicted_valid)\n",
    "auc_roc = roc_auc_score(target_valid, probabilities_one_valid)\n",
    "print(f'F1: {f1}')\n",
    "print(f'AUC-ROC: {auc_roc}')"
   ]
  },
  {
   "cell_type": "code",
   "execution_count": 61,
   "metadata": {},
   "outputs": [
    {
     "name": "stdout",
     "output_type": "stream",
     "text": [
      "Полнота: 0.7081339712918661\n",
      "Точность: 0.5703275529865125\n",
      "\n",
      "Матрица неточностей:\n",
      "[[1359  223]\n",
      " [ 122  296]]\n"
     ]
    }
   ],
   "source": [
    "print(f'Полнота: {recall_score(target_valid, predicted_valid)}')\n",
    "print(f'Точность: {precision_score(target_valid, predicted_valid)}')\n",
    "print()\n",
    "print(f'Матрица неточностей:')\n",
    "print(confusion_matrix(target_valid, predicted_valid))"
   ]
  },
  {
   "cell_type": "code",
   "execution_count": 62,
   "metadata": {},
   "outputs": [
    {
     "name": "stdout",
     "output_type": "stream",
     "text": [
      "Порог = 0.00 | Точность = 0.209, Полнота = 1.000 | Сумма:1.209 | Разница:-0.791\n",
      "Порог = 0.01 | Точность = 0.209, Полнота = 1.000 | Сумма:1.209 | Разница:-0.791\n",
      "Порог = 0.02 | Точность = 0.209, Полнота = 1.000 | Сумма:1.209 | Разница:-0.791\n",
      "Порог = 0.03 | Точность = 0.209, Полнота = 1.000 | Сумма:1.209 | Разница:-0.791\n",
      "Порог = 0.04 | Точность = 0.209, Полнота = 1.000 | Сумма:1.209 | Разница:-0.791\n",
      "Порог = 0.05 | Точность = 0.210, Полнота = 1.000 | Сумма:1.210 | Разница:-0.790\n",
      "Порог = 0.06 | Точность = 0.213, Полнота = 1.000 | Сумма:1.213 | Разница:-0.787\n",
      "Порог = 0.07 | Точность = 0.216, Полнота = 0.995 | Сумма:1.211 | Разница:-0.779\n",
      "Порог = 0.08 | Точность = 0.222, Полнота = 0.993 | Сумма:1.215 | Разница:-0.771\n",
      "Порог = 0.09 | Точность = 0.228, Полнота = 0.993 | Сумма:1.220 | Разница:-0.765\n",
      "Порог = 0.10 | Точность = 0.234, Полнота = 0.990 | Сумма:1.225 | Разница:-0.756\n",
      "Порог = 0.11 | Точность = 0.240, Полнота = 0.988 | Сумма:1.228 | Разница:-0.748\n",
      "Порог = 0.12 | Точность = 0.245, Полнота = 0.981 | Сумма:1.226 | Разница:-0.736\n",
      "Порог = 0.13 | Точность = 0.250, Полнота = 0.971 | Сумма:1.221 | Разница:-0.721\n",
      "Порог = 0.14 | Точность = 0.253, Полнота = 0.964 | Сумма:1.217 | Разница:-0.711\n",
      "Порог = 0.15 | Точность = 0.256, Полнота = 0.957 | Сумма:1.213 | Разница:-0.701\n",
      "Порог = 0.16 | Точность = 0.260, Полнота = 0.955 | Сумма:1.215 | Разница:-0.694\n",
      "Порог = 0.17 | Точность = 0.265, Полнота = 0.950 | Сумма:1.215 | Разница:-0.685\n",
      "Порог = 0.18 | Точность = 0.269, Полнота = 0.945 | Сумма:1.214 | Разница:-0.676\n",
      "Порог = 0.19 | Точность = 0.276, Полнота = 0.945 | Сумма:1.221 | Разница:-0.669\n",
      "Порог = 0.20 | Точность = 0.283, Полнота = 0.940 | Сумма:1.223 | Разница:-0.657\n",
      "Порог = 0.21 | Точность = 0.292, Полнота = 0.938 | Сумма:1.230 | Разница:-0.646\n",
      "Порог = 0.22 | Точность = 0.299, Полнота = 0.933 | Сумма:1.232 | Разница:-0.634\n",
      "Порог = 0.23 | Точность = 0.305, Полнота = 0.928 | Сумма:1.233 | Разница:-0.623\n",
      "Порог = 0.24 | Точность = 0.311, Полнота = 0.919 | Сумма:1.229 | Разница:-0.608\n",
      "Порог = 0.25 | Точность = 0.319, Полнота = 0.914 | Сумма:1.233 | Разница:-0.595\n",
      "Порог = 0.26 | Точность = 0.328, Полнота = 0.911 | Сумма:1.239 | Разница:-0.584\n",
      "Порог = 0.27 | Точность = 0.337, Полнота = 0.907 | Сумма:1.243 | Разница:-0.570\n",
      "Порог = 0.28 | Точность = 0.344, Полнота = 0.892 | Сумма:1.236 | Разница:-0.548\n",
      "Порог = 0.29 | Точность = 0.351, Полнота = 0.876 | Сумма:1.227 | Разница:-0.524\n",
      "Порог = 0.30 | Точность = 0.360, Полнота = 0.868 | Сумма:1.228 | Разница:-0.509\n",
      "Порог = 0.31 | Точность = 0.372, Полнота = 0.864 | Сумма:1.235 | Разница:-0.492\n",
      "Порог = 0.32 | Точность = 0.381, Полнота = 0.861 | Сумма:1.242 | Разница:-0.480\n",
      "Порог = 0.33 | Точность = 0.390, Полнота = 0.859 | Сумма:1.249 | Разница:-0.469\n",
      "Порог = 0.34 | Точность = 0.400, Полнота = 0.849 | Сумма:1.250 | Разница:-0.449\n",
      "Порог = 0.35 | Точность = 0.412, Полнота = 0.847 | Сумма:1.259 | Разница:-0.435\n",
      "Порог = 0.36 | Точность = 0.420, Полнота = 0.833 | Сумма:1.252 | Разница:-0.413\n",
      "Порог = 0.37 | Точность = 0.429, Полнота = 0.828 | Сумма:1.257 | Разница:-0.398\n",
      "Порог = 0.38 | Точность = 0.443, Полнота = 0.821 | Сумма:1.263 | Разница:-0.378\n",
      "Порог = 0.39 | Точность = 0.449, Полнота = 0.806 | Сумма:1.256 | Разница:-0.357\n",
      "Порог = 0.40 | Точность = 0.458, Полнота = 0.797 | Сумма:1.255 | Разница:-0.339\n",
      "Порог = 0.41 | Точность = 0.470, Полнота = 0.789 | Сумма:1.260 | Разница:-0.319\n",
      "Порог = 0.42 | Точность = 0.476, Полнота = 0.778 | Сумма:1.253 | Разница:-0.302\n",
      "Порог = 0.43 | Точность = 0.486, Полнота = 0.768 | Сумма:1.254 | Разница:-0.282\n",
      "Порог = 0.44 | Точность = 0.492, Полнота = 0.754 | Сумма:1.246 | Разница:-0.261\n",
      "Порог = 0.45 | Точность = 0.501, Полнота = 0.739 | Сумма:1.240 | Разница:-0.238\n",
      "Порог = 0.46 | Точность = 0.509, Полнота = 0.725 | Сумма:1.234 | Разница:-0.216\n",
      "Порог = 0.47 | Точность = 0.525, Полнота = 0.720 | Сумма:1.245 | Разница:-0.195\n",
      "Порог = 0.48 | Точность = 0.539, Полнота = 0.715 | Сумма:1.254 | Разница:-0.177\n",
      "Порог = 0.49 | Точность = 0.559, Полнота = 0.711 | Сумма:1.270 | Разница:-0.151\n",
      "Порог = 0.50 | Точность = 0.570, Полнота = 0.708 | Сумма:1.278 | Разница:-0.138\n",
      "Порог = 0.51 | Точность = 0.586, Полнота = 0.706 | Сумма:1.292 | Разница:-0.119\n",
      "Порог = 0.52 | Точность = 0.589, Полнота = 0.679 | Сумма:1.269 | Разница:-0.090\n",
      "Порог = 0.53 | Точность = 0.588, Полнота = 0.663 | Сумма:1.251 | Разница:-0.075\n",
      "Порог = 0.54 | Точность = 0.593, Полнота = 0.653 | Сумма:1.247 | Разница:-0.060\n",
      "Порог = 0.55 | Точность = 0.598, Полнота = 0.636 | Сумма:1.234 | Разница:-0.039\n",
      "Порог = 0.56 | Точность = 0.609, Полнота = 0.629 | Сумма:1.238 | Разница:-0.020\n",
      "Порог = 0.57 | Точность = 0.619, Полнота = 0.610 | Сумма:1.229 | Разница:0.009\n",
      "Порог = 0.58 | Точность = 0.633, Полнота = 0.598 | Сумма:1.231 | Разница:0.035\n",
      "Порог = 0.59 | Точность = 0.639, Полнота = 0.593 | Сумма:1.232 | Разница:0.046\n",
      "Порог = 0.60 | Точность = 0.657, Полнота = 0.586 | Сумма:1.243 | Разница:0.071\n",
      "Порог = 0.61 | Точность = 0.670, Полнота = 0.574 | Сумма:1.245 | Разница:0.096\n",
      "Порог = 0.62 | Точность = 0.685, Полнота = 0.562 | Сумма:1.247 | Разница:0.123\n",
      "Порог = 0.63 | Точность = 0.698, Полнота = 0.548 | Сумма:1.246 | Разница:0.150\n",
      "Порог = 0.64 | Точность = 0.698, Полнота = 0.531 | Сумма:1.229 | Разница:0.167\n",
      "Порог = 0.65 | Точность = 0.718, Полнота = 0.531 | Сумма:1.250 | Разница:0.187\n",
      "Порог = 0.66 | Точность = 0.727, Полнота = 0.517 | Сумма:1.244 | Разница:0.211\n",
      "Порог = 0.67 | Точность = 0.740, Полнота = 0.510 | Сумма:1.249 | Разница:0.230\n",
      "Порог = 0.68 | Точность = 0.753, Полнота = 0.495 | Сумма:1.248 | Разница:0.258\n",
      "Порог = 0.69 | Точность = 0.760, Полнота = 0.478 | Сумма:1.239 | Разница:0.282\n",
      "Порог = 0.70 | Точность = 0.771, Полнота = 0.459 | Сумма:1.230 | Разница:0.312\n",
      "Порог = 0.71 | Точность = 0.783, Полнота = 0.450 | Сумма:1.233 | Разница:0.334\n",
      "Порог = 0.72 | Точность = 0.797, Полнота = 0.433 | Сумма:1.230 | Разница:0.364\n",
      "Порог = 0.73 | Точность = 0.827, Полнота = 0.423 | Сумма:1.251 | Разница:0.404\n",
      "Порог = 0.74 | Точность = 0.841, Полнота = 0.404 | Сумма:1.245 | Разница:0.436\n",
      "Порог = 0.75 | Точность = 0.851, Полнота = 0.397 | Сумма:1.248 | Разница:0.454\n",
      "Порог = 0.76 | Точность = 0.862, Полнота = 0.388 | Сумма:1.249 | Разница:0.474\n",
      "Порог = 0.77 | Точность = 0.859, Полнота = 0.380 | Сумма:1.240 | Разница:0.479\n",
      "Порог = 0.78 | Точность = 0.861, Полнота = 0.371 | Сумма:1.232 | Разница:0.490\n",
      "Порог = 0.79 | Точность = 0.874, Полнота = 0.349 | Сумма:1.224 | Разница:0.525\n",
      "Порог = 0.80 | Точность = 0.873, Полнота = 0.328 | Сумма:1.200 | Разница:0.545\n",
      "Порог = 0.81 | Точность = 0.875, Полнота = 0.318 | Сумма:1.193 | Разница:0.557\n",
      "Порог = 0.82 | Точность = 0.877, Полнота = 0.306 | Сумма:1.183 | Разница:0.570\n",
      "Порог = 0.83 | Точность = 0.881, Полнота = 0.285 | Сумма:1.166 | Разница:0.597\n",
      "Порог = 0.84 | Точность = 0.882, Полнота = 0.268 | Сумма:1.150 | Разница:0.614\n",
      "Порог = 0.85 | Точность = 0.890, Полнота = 0.251 | Сумма:1.141 | Разница:0.639\n",
      "Порог = 0.86 | Точность = 0.899, Полнота = 0.234 | Сумма:1.134 | Разница:0.665\n",
      "Порог = 0.87 | Точность = 0.916, Полнота = 0.208 | Сумма:1.124 | Разница:0.708\n",
      "Порог = 0.88 | Точность = 0.914, Полнота = 0.177 | Сумма:1.091 | Разница:0.737\n",
      "Порог = 0.89 | Точность = 0.904, Полнота = 0.158 | Сумма:1.062 | Разница:0.746\n",
      "Порог = 0.90 | Точность = 0.910, Полнота = 0.146 | Сумма:1.056 | Разница:0.765\n",
      "Порог = 0.91 | Точность = 0.946, Полнота = 0.127 | Сумма:1.073 | Разница:0.820\n",
      "Порог = 0.92 | Точность = 0.935, Полнота = 0.103 | Сумма:1.038 | Разница:0.832\n",
      "Порог = 0.93 | Точность = 0.971, Полнота = 0.081 | Сумма:1.053 | Разница:0.890\n",
      "Порог = 0.94 | Точность = 1.000, Полнота = 0.060 | Сумма:1.060 | Разница:0.940\n",
      "Порог = 0.95 | Точность = 1.000, Полнота = 0.036 | Сумма:1.036 | Разница:0.964\n",
      "Порог = 0.96 | Точность = 1.000, Полнота = 0.017 | Сумма:1.017 | Разница:0.983\n",
      "Порог = 0.97 | Точность = 1.000, Полнота = 0.007 | Сумма:1.007 | Разница:0.993\n",
      "Порог = 0.98 | Точность = 0.000, Полнота = 0.000 | Сумма:0.000 | Разница:0.000\n",
      "Порог = 0.99 | Точность = 0.000, Полнота = 0.000 | Сумма:0.000 | Разница:0.000\n"
     ]
    }
   ],
   "source": [
    "for threshold in np.arange(0, 1, 0.01):\n",
    "    predicted_valid = probabilities_one_valid > threshold\n",
    "    precision = precision_score(target_valid, predicted_valid)\n",
    "    recall = recall_score(target_valid, predicted_valid)\n",
    "    \n",
    "    print('Порог = {:.2f} | Точность = {:.3f}, Полнота = {:.3f} | Сумма:{:.3f} | Разница:{:.3f}'.format(\n",
    "        threshold, precision, recall, (precision + recall), (precision - recall)\n",
    "    )\n",
    "         )"
   ]
  },
  {
   "cell_type": "code",
   "execution_count": 63,
   "metadata": {},
   "outputs": [
    {
     "data": {
      "image/png": "[encoded data removed]",
      "text/plain": [
       "<Figure size 432x432 with 1 Axes>"
      ]
     },
     "metadata": {
      "needs_background": "light"
     },
     "output_type": "display_data"
    }
   ],
   "source": [
    "model = RandomForestClassifier(n_estimators = 90, max_depth = 9, random_state=12345)\n",
    "model.fit(features_upsampled, target_upsampled)\n",
    "predicted_valid = model.predict(features_valid)\n",
    "\n",
    "probabilities_valid = model.predict_proba(features_valid)\n",
    "precision, recall, thresholds = precision_recall_curve(target_valid, probabilities_valid[:, 1])\n",
    "\n",
    "plt.figure(figsize=(6, 6))\n",
    "plt.plot(recall, precision)\n",
    "plt.xlabel('Полнота')\n",
    "plt.ylabel('Точность')\n",
    "plt.ylim([0.0, 1.05])\n",
    "plt.xlim([0.0, 1.0])\n",
    "plt.title('Кривая Точность - Полнота')\n",
    "plt.show() "
   ]
  },
  {
   "cell_type": "markdown",
   "metadata": {},
   "source": [
    "__Логистическая регрессия__"
   ]
  },
  {
   "cell_type": "code",
   "execution_count": 64,
   "metadata": {
    "scrolled": true
   },
   "outputs": [
    {
     "name": "stdout",
     "output_type": "stream",
     "text": [
      "Логистическая регрессия F1 = 0.4891846921797005\n",
      "AUC-ROC: 0.7540467217924135\n"
     ]
    }
   ],
   "source": [
    "model = LogisticRegression(solver='liblinear', random_state=12345, class_weight = 'balanced')\n",
    "model.fit(features_train, target_train)\n",
    "predicted_valid = model.predict(features_valid)\n",
    "f1 = f1_score(target_valid, predicted_valid)\n",
    "\n",
    "probabilities_valid = model.predict_proba(features_valid)\n",
    "probabilities_one_valid = probabilities_valid[:, 1]\n",
    "\n",
    "auc_roc = roc_auc_score(target_valid, probabilities_one_valid)\n",
    "\n",
    "print(f'Логистическая регрессия F1 = {f1}')\n",
    "print(f'AUC-ROC: {auc_roc}')"
   ]
  },
  {
   "cell_type": "code",
   "execution_count": 65,
   "metadata": {},
   "outputs": [
    {
     "name": "stdout",
     "output_type": "stream",
     "text": [
      "Полнота: 0.7033492822966507\n",
      "Точность: 0.375\n",
      "\n",
      "Матрица неточностей:\n",
      "[[1092  490]\n",
      " [ 124  294]]\n"
     ]
    }
   ],
   "source": [
    "print(f'Полнота: {recall_score(target_valid, predicted_valid)}')\n",
    "print(f'Точность: {precision_score(target_valid, predicted_valid)}')\n",
    "print()\n",
    "print(f'Матрица неточностей:')\n",
    "print(confusion_matrix(target_valid, predicted_valid))"
   ]
  },
  {
   "cell_type": "markdown",
   "metadata": {},
   "source": [
    "## Тестирование модели"
   ]
  },
  {
   "cell_type": "markdown",
   "metadata": {},
   "source": [
    "Объединим обучающую и валидационную выборки, чтобы обучить модель на бОльших данных"
   ]
  },
  {
   "cell_type": "code",
   "execution_count": 66,
   "metadata": {},
   "outputs": [
    {
     "data": {
      "text/plain": [
       "(11588, 11)"
      ]
     },
     "execution_count": 66,
     "metadata": {},
     "output_type": "execute_result"
    }
   ],
   "source": [
    "df_features = pd.concat([features_upsampled] + [features_valid])\n",
    "\n",
    "df_features.shape"
   ]
  },
  {
   "cell_type": "code",
   "execution_count": 67,
   "metadata": {},
   "outputs": [
    {
     "data": {
      "text/plain": [
       "(11588,)"
      ]
     },
     "execution_count": 67,
     "metadata": {},
     "output_type": "execute_result"
    }
   ],
   "source": [
    "df_target = pd.concat([target_upsampled] + [target_valid])\n",
    "\n",
    "df_target.shape"
   ]
  },
  {
   "cell_type": "markdown",
   "metadata": {},
   "source": [
    "Вычислим значение метрики _F1_ и посчитаем площадь под ROC-кривой для проверки модели на актуальность (насколько наша модель отличается от случайной) методом AUC-ROC. \n",
    "\n",
    "Для случайной модели AUC-ROC = 0.5"
   ]
  },
  {
   "cell_type": "markdown",
   "metadata": {},
   "source": [
    "### Решающее дерево"
   ]
  },
  {
   "cell_type": "code",
   "execution_count": 68,
   "metadata": {},
   "outputs": [
    {
     "name": "stdout",
     "output_type": "stream",
     "text": [
      "F1: 0.579381443298969\n",
      "AUC-ROC: 0.8361583699486261\n"
     ]
    }
   ],
   "source": [
    "model = DecisionTreeClassifier(max_depth = 5, random_state=12345)\n",
    "model.fit(df_features, df_target)\n",
    "\n",
    "predicted_test = model.predict(features_test)\n",
    "\n",
    "probabilities_test = model.predict_proba(features_test)\n",
    "probabilities_one_test = probabilities_test[:, 1]\n",
    "\n",
    "f1 = f1_score(target_test, predicted_test)\n",
    "auc_roc = roc_auc_score(target_test, probabilities_one_test)\n",
    "print(f'F1: {f1}')\n",
    "print(f'AUC-ROC: {auc_roc}')"
   ]
  },
  {
   "cell_type": "code",
   "execution_count": 69,
   "metadata": {},
   "outputs": [
    {
     "name": "stdout",
     "output_type": "stream",
     "text": [
      "Полнота: 0.6643026004728132\n",
      "Точность: 0.5137111517367459\n",
      "\n",
      "Матрица неточностей:\n",
      "[[1311  266]\n",
      " [ 142  281]]\n"
     ]
    }
   ],
   "source": [
    "print(f'Полнота: {recall_score(target_test, predicted_test)}')\n",
    "print(f'Точность: {precision_score(target_test, predicted_test)}')\n",
    "print()\n",
    "print(f'Матрица неточностей:')\n",
    "print(confusion_matrix(target_test, predicted_test))"
   ]
  },
  {
   "cell_type": "markdown",
   "metadata": {},
   "source": [
    "__Оценка важности признаков модели__"
   ]
  },
  {
   "cell_type": "code",
   "execution_count": 70,
   "metadata": {},
   "outputs": [],
   "source": [
    "importances = model.feature_importances_\n",
    "feature_list = list(df_features.columns)"
   ]
  },
  {
   "cell_type": "code",
   "execution_count": 71,
   "metadata": {},
   "outputs": [
    {
     "data": {
      "text/html": [
       "<div>\n",
       "<style scoped>\n",
       "    .dataframe tbody tr th:only-of-type {\n",
       "        vertical-align: middle;\n",
       "    }\n",
       "\n",
       "    .dataframe tbody tr th {\n",
       "        vertical-align: top;\n",
       "    }\n",
       "\n",
       "    .dataframe thead th {\n",
       "        text-align: right;\n",
       "    }\n",
       "</style>\n",
       "<table border=\"1\" class=\"dataframe\">\n",
       "  <thead>\n",
       "    <tr style=\"text-align: right;\">\n",
       "      <th></th>\n",
       "      <th>feature</th>\n",
       "      <th>importance</th>\n",
       "    </tr>\n",
       "  </thead>\n",
       "  <tbody>\n",
       "    <tr>\n",
       "      <th>0</th>\n",
       "      <td>Age</td>\n",
       "      <td>0.50</td>\n",
       "    </tr>\n",
       "    <tr>\n",
       "      <th>1</th>\n",
       "      <td>NumOfProducts</td>\n",
       "      <td>0.33</td>\n",
       "    </tr>\n",
       "    <tr>\n",
       "      <th>2</th>\n",
       "      <td>IsActiveMember</td>\n",
       "      <td>0.11</td>\n",
       "    </tr>\n",
       "    <tr>\n",
       "      <th>3</th>\n",
       "      <td>Balance</td>\n",
       "      <td>0.04</td>\n",
       "    </tr>\n",
       "    <tr>\n",
       "      <th>4</th>\n",
       "      <td>Geography_Germany</td>\n",
       "      <td>0.01</td>\n",
       "    </tr>\n",
       "    <tr>\n",
       "      <th>5</th>\n",
       "      <td>EstimatedSalary</td>\n",
       "      <td>0.00</td>\n",
       "    </tr>\n",
       "    <tr>\n",
       "      <th>6</th>\n",
       "      <td>CreditScore</td>\n",
       "      <td>0.00</td>\n",
       "    </tr>\n",
       "    <tr>\n",
       "      <th>7</th>\n",
       "      <td>Tenure</td>\n",
       "      <td>0.00</td>\n",
       "    </tr>\n",
       "    <tr>\n",
       "      <th>8</th>\n",
       "      <td>HasCrCard</td>\n",
       "      <td>0.00</td>\n",
       "    </tr>\n",
       "    <tr>\n",
       "      <th>9</th>\n",
       "      <td>Geography_Spain</td>\n",
       "      <td>0.00</td>\n",
       "    </tr>\n",
       "    <tr>\n",
       "      <th>10</th>\n",
       "      <td>Gender_Male</td>\n",
       "      <td>0.00</td>\n",
       "    </tr>\n",
       "  </tbody>\n",
       "</table>\n",
       "</div>"
      ],
      "text/plain": [
       "              feature  importance\n",
       "0                 Age        0.50\n",
       "1       NumOfProducts        0.33\n",
       "2      IsActiveMember        0.11\n",
       "3             Balance        0.04\n",
       "4   Geography_Germany        0.01\n",
       "5     EstimatedSalary        0.00\n",
       "6         CreditScore        0.00\n",
       "7              Tenure        0.00\n",
       "8           HasCrCard        0.00\n",
       "9     Geography_Spain        0.00\n",
       "10        Gender_Male        0.00"
      ]
     },
     "execution_count": 71,
     "metadata": {},
     "output_type": "execute_result"
    }
   ],
   "source": [
    "feature_results = pd.DataFrame(\n",
    "    {'feature': feature_list,'importance': importances}\n",
    ").sort_values('importance', ascending=False).reset_index(drop=True)\n",
    "\n",
    "feature_results"
   ]
  },
  {
   "cell_type": "code",
   "execution_count": 72,
   "metadata": {},
   "outputs": [
    {
     "data": {
      "image/png": "[encoded data removed]",
      "text/plain": [
       "<Figure size 1800x432 with 1 Axes>"
      ]
     },
     "metadata": {
      "needs_background": "light"
     },
     "output_type": "display_data"
    }
   ],
   "source": [
    "plt.figure(figsize=(25,6))\n",
    "sns.set_style('darkgrid')\n",
    "sns.barplot(x='feature', y='importance', data=feature_results)\n",
    "plt.title('Важность признаков модели '+ 'DecisionTreeClassifier')\n",
    "\n",
    "plt.show()"
   ]
  },
  {
   "cell_type": "code",
   "execution_count": 73,
   "metadata": {},
   "outputs": [
    {
     "name": "stdout",
     "output_type": "stream",
     "text": [
      "CPU times: user 23.9 ms, sys: 27 µs, total: 23.9 ms\n",
      "Wall time: 22 ms\n"
     ]
    },
    {
     "data": {
      "text/plain": [
       "DecisionTreeClassifier(max_depth=5, random_state=12345)"
      ]
     },
     "execution_count": 73,
     "metadata": {},
     "output_type": "execute_result"
    }
   ],
   "source": [
    "%%time\n",
    "model = DecisionTreeClassifier(max_depth = 5, random_state=12345)\n",
    "model.fit(df_features, df_target)"
   ]
  },
  {
   "cell_type": "markdown",
   "metadata": {},
   "source": [
    "### Случайный лес"
   ]
  },
  {
   "cell_type": "code",
   "execution_count": 74,
   "metadata": {
    "scrolled": true
   },
   "outputs": [
    {
     "name": "stdout",
     "output_type": "stream",
     "text": [
      "F1: 0.6141552511415526\n",
      "AUC-ROC: 0.8587721546881816\n"
     ]
    }
   ],
   "source": [
    "model = RandomForestClassifier(n_estimators = 90, max_depth = 9, random_state=12345)\n",
    "model.fit(df_features, df_target)\n",
    "\n",
    "predicted_test = model.predict(features_test)\n",
    "\n",
    "probabilities_test = model.predict_proba(features_test)\n",
    "probabilities_one_test = probabilities_test[:, 1]\n",
    "\n",
    "f1 = f1_score(target_test, predicted_test)\n",
    "auc_roc = roc_auc_score(target_test, probabilities_one_test)\n",
    "print(f'F1: {f1}')\n",
    "print(f'AUC-ROC: {auc_roc}')"
   ]
  },
  {
   "cell_type": "code",
   "execution_count": 75,
   "metadata": {
    "scrolled": false
   },
   "outputs": [
    {
     "name": "stdout",
     "output_type": "stream",
     "text": [
      "Полнота: 0.6359338061465721\n",
      "Точность: 0.5938189845474614\n",
      "\n",
      "Матрица неточностей:\n",
      "[[1393  184]\n",
      " [ 154  269]]\n"
     ]
    }
   ],
   "source": [
    "print(f'Полнота: {recall_score(target_test, predicted_test)}')\n",
    "print(f'Точность: {precision_score(target_test, predicted_test)}')\n",
    "print()\n",
    "print(f'Матрица неточностей:')\n",
    "print(confusion_matrix(target_test, predicted_test))"
   ]
  },
  {
   "cell_type": "code",
   "execution_count": 76,
   "metadata": {},
   "outputs": [
    {
     "data": {
      "image/png": "[encoded data removed]",
      "text/plain": [
       "<Figure size 432x432 with 1 Axes>"
      ]
     },
     "metadata": {},
     "output_type": "display_data"
    }
   ],
   "source": [
    "precision, recall, thresholds = precision_recall_curve(target_test, probabilities_one_test)\n",
    "\n",
    "plt.figure(figsize=(6, 6))\n",
    "plt.plot(recall, precision)\n",
    "plt.xlabel('Полнота')\n",
    "plt.ylabel('Точность')\n",
    "plt.ylim([0.0, 1.05])\n",
    "plt.xlim([0.0, 1.0])\n",
    "plt.title('Кривая Точность - Полнота')\n",
    "plt.show() "
   ]
  },
  {
   "cell_type": "markdown",
   "metadata": {},
   "source": [
    "__Оценка важности признаков модели__"
   ]
  },
  {
   "cell_type": "code",
   "execution_count": 77,
   "metadata": {},
   "outputs": [
    {
     "data": {
      "text/plain": [
       "array([0.05692147, 0.35529748, 0.03171523, 0.10330051, 0.23078288,\n",
       "       0.00852765, 0.06622856, 0.05932048, 0.0551526 , 0.0064284 ,\n",
       "       0.02632475])"
      ]
     },
     "execution_count": 77,
     "metadata": {},
     "output_type": "execute_result"
    }
   ],
   "source": [
    "importances = model.feature_importances_\n",
    "importances"
   ]
  },
  {
   "cell_type": "code",
   "execution_count": 78,
   "metadata": {},
   "outputs": [
    {
     "data": {
      "text/plain": [
       "['CreditScore',\n",
       " 'Age',\n",
       " 'Tenure',\n",
       " 'Balance',\n",
       " 'NumOfProducts',\n",
       " 'HasCrCard',\n",
       " 'IsActiveMember',\n",
       " 'EstimatedSalary',\n",
       " 'Geography_Germany',\n",
       " 'Geography_Spain',\n",
       " 'Gender_Male']"
      ]
     },
     "execution_count": 78,
     "metadata": {},
     "output_type": "execute_result"
    }
   ],
   "source": [
    "feature_list = list(df_features.columns)\n",
    "feature_list"
   ]
  },
  {
   "cell_type": "code",
   "execution_count": 79,
   "metadata": {},
   "outputs": [],
   "source": [
    "feature_results = pd.DataFrame({'feature': feature_list,'importance': importances})"
   ]
  },
  {
   "cell_type": "code",
   "execution_count": 80,
   "metadata": {},
   "outputs": [
    {
     "data": {
      "text/html": [
       "<div>\n",
       "<style scoped>\n",
       "    .dataframe tbody tr th:only-of-type {\n",
       "        vertical-align: middle;\n",
       "    }\n",
       "\n",
       "    .dataframe tbody tr th {\n",
       "        vertical-align: top;\n",
       "    }\n",
       "\n",
       "    .dataframe thead th {\n",
       "        text-align: right;\n",
       "    }\n",
       "</style>\n",
       "<table border=\"1\" class=\"dataframe\">\n",
       "  <thead>\n",
       "    <tr style=\"text-align: right;\">\n",
       "      <th></th>\n",
       "      <th>feature</th>\n",
       "      <th>importance</th>\n",
       "    </tr>\n",
       "  </thead>\n",
       "  <tbody>\n",
       "    <tr>\n",
       "      <th>0</th>\n",
       "      <td>Age</td>\n",
       "      <td>0.36</td>\n",
       "    </tr>\n",
       "    <tr>\n",
       "      <th>1</th>\n",
       "      <td>NumOfProducts</td>\n",
       "      <td>0.23</td>\n",
       "    </tr>\n",
       "    <tr>\n",
       "      <th>2</th>\n",
       "      <td>Balance</td>\n",
       "      <td>0.10</td>\n",
       "    </tr>\n",
       "    <tr>\n",
       "      <th>3</th>\n",
       "      <td>IsActiveMember</td>\n",
       "      <td>0.07</td>\n",
       "    </tr>\n",
       "    <tr>\n",
       "      <th>4</th>\n",
       "      <td>EstimatedSalary</td>\n",
       "      <td>0.06</td>\n",
       "    </tr>\n",
       "    <tr>\n",
       "      <th>5</th>\n",
       "      <td>CreditScore</td>\n",
       "      <td>0.06</td>\n",
       "    </tr>\n",
       "    <tr>\n",
       "      <th>6</th>\n",
       "      <td>Geography_Germany</td>\n",
       "      <td>0.06</td>\n",
       "    </tr>\n",
       "    <tr>\n",
       "      <th>7</th>\n",
       "      <td>Tenure</td>\n",
       "      <td>0.03</td>\n",
       "    </tr>\n",
       "    <tr>\n",
       "      <th>8</th>\n",
       "      <td>Gender_Male</td>\n",
       "      <td>0.03</td>\n",
       "    </tr>\n",
       "    <tr>\n",
       "      <th>9</th>\n",
       "      <td>HasCrCard</td>\n",
       "      <td>0.01</td>\n",
       "    </tr>\n",
       "    <tr>\n",
       "      <th>10</th>\n",
       "      <td>Geography_Spain</td>\n",
       "      <td>0.01</td>\n",
       "    </tr>\n",
       "  </tbody>\n",
       "</table>\n",
       "</div>"
      ],
      "text/plain": [
       "              feature  importance\n",
       "0                 Age        0.36\n",
       "1       NumOfProducts        0.23\n",
       "2             Balance        0.10\n",
       "3      IsActiveMember        0.07\n",
       "4     EstimatedSalary        0.06\n",
       "5         CreditScore        0.06\n",
       "6   Geography_Germany        0.06\n",
       "7              Tenure        0.03\n",
       "8         Gender_Male        0.03\n",
       "9           HasCrCard        0.01\n",
       "10    Geography_Spain        0.01"
      ]
     },
     "execution_count": 80,
     "metadata": {},
     "output_type": "execute_result"
    }
   ],
   "source": [
    "feature_results = feature_results.sort_values('importance', ascending=False).reset_index(drop=True)\n",
    "feature_results"
   ]
  },
  {
   "cell_type": "code",
   "execution_count": 81,
   "metadata": {},
   "outputs": [
    {
     "data": {
      "image/png": "[encoded data removed]",
      "text/plain": [
       "<Figure size 1800x432 with 1 Axes>"
      ]
     },
     "metadata": {},
     "output_type": "display_data"
    }
   ],
   "source": [
    "plt.figure(figsize=(25,6))\n",
    "sns.set_style('darkgrid')\n",
    "sns.barplot(x='feature', y='importance', data=feature_results)\n",
    "plt.title('Важность признаков модели '+ 'RandomForestClassifier')\n",
    "\n",
    "plt.show()"
   ]
  },
  {
   "cell_type": "code",
   "execution_count": 82,
   "metadata": {},
   "outputs": [
    {
     "name": "stdout",
     "output_type": "stream",
     "text": [
      "CPU times: user 716 ms, sys: 4.95 ms, total: 721 ms\n",
      "Wall time: 730 ms\n"
     ]
    },
    {
     "data": {
      "text/plain": [
       "RandomForestClassifier(max_depth=9, n_estimators=90, random_state=12345)"
      ]
     },
     "execution_count": 82,
     "metadata": {},
     "output_type": "execute_result"
    }
   ],
   "source": [
    "%%time\n",
    "model = RandomForestClassifier(n_estimators = 90, max_depth = 9, random_state=12345)\n",
    "model.fit(df_features, df_target)"
   ]
  },
  {
   "cell_type": "markdown",
   "metadata": {},
   "source": [
    "Для основной нашей модели построим ROC-кривую для наглядности наших предсказаний"
   ]
  },
  {
   "cell_type": "code",
   "execution_count": 83,
   "metadata": {},
   "outputs": [
    {
     "data": {
      "image/png": "[encoded data removed]",
      "text/plain": [
       "<Figure size 432x432 with 1 Axes>"
      ]
     },
     "metadata": {},
     "output_type": "display_data"
    }
   ],
   "source": [
    "fpr, tpr, thresholds = roc_curve(target_test, probabilities_one_test)\n",
    "\n",
    "plt.figure(figsize=(6,6))\n",
    "plt.plot(fpr, tpr)\n",
    "# plt.step(fpr, tpr, where='post')\n",
    "plt.plot([0,1],[0,1], linestyle='--')\n",
    "\n",
    "plt.xlim(0,1)\n",
    "plt.ylim(0,1)\n",
    "\n",
    "plt.xlabel('Доля ложноположительных предсказаний')\n",
    "plt.ylabel('Доля положительных ответов')\n",
    "plt.title('ROC-кривая')\n",
    "\n",
    "plt.show()"
   ]
  },
  {
   "cell_type": "markdown",
   "metadata": {},
   "source": [
    "### Логистическая регрессия"
   ]
  },
  {
   "cell_type": "code",
   "execution_count": 84,
   "metadata": {
    "scrolled": true
   },
   "outputs": [
    {
     "name": "stdout",
     "output_type": "stream",
     "text": [
      "F1: 0.430622009569378\n",
      "AUC-ROC: 0.6864426725191171\n"
     ]
    }
   ],
   "source": [
    "# df_features = pd.concat([features_train] + [features_valid])\n",
    "# df_target = pd.concat([target_train] + [target_valid])\n",
    "\n",
    "model = LogisticRegression(solver='liblinear', random_state=12345, class_weight = 'balanced')\n",
    "model.fit(df_features, df_target)\n",
    "\n",
    "predicted_test = model.predict(features_test)\n",
    "\n",
    "probabilities_test = model.predict_proba(features_test)\n",
    "probabilities_one_test = probabilities_test[:, 1]\n",
    "\n",
    "f1 = f1_score(target_test, predicted_test)\n",
    "auc_roc = roc_auc_score(target_test, probabilities_one_test)\n",
    "print(f'F1: {f1}')\n",
    "print(f'AUC-ROC: {auc_roc}')"
   ]
  },
  {
   "cell_type": "code",
   "execution_count": 85,
   "metadata": {},
   "outputs": [
    {
     "name": "stdout",
     "output_type": "stream",
     "text": [
      "Полнота: 0.6382978723404256\n",
      "Точность: 0.3249097472924188\n",
      "\n",
      "Матрица неточностей:\n",
      "[[1016  561]\n",
      " [ 153  270]]\n"
     ]
    }
   ],
   "source": [
    "print(f'Полнота: {recall_score(target_test, predicted_test)}')\n",
    "print(f'Точность: {precision_score(target_test, predicted_test)}')\n",
    "print()\n",
    "print(f'Матрица неточностей:')\n",
    "print(confusion_matrix(target_test, predicted_test))"
   ]
  },
  {
   "cell_type": "code",
   "execution_count": 86,
   "metadata": {
    "scrolled": true
   },
   "outputs": [
    {
     "name": "stdout",
     "output_type": "stream",
     "text": [
      "             feature  importance\n",
      "0                Age        0.06\n",
      "1  Geography_Germany        0.01\n",
      "2            Balance        0.00\n",
      "3    EstimatedSalary       -0.00\n",
      "4        CreditScore       -0.00\n"
     ]
    }
   ],
   "source": [
    "importances = model.coef_\n",
    "feature_list = list(df_features.columns)\n",
    "\n",
    "feature_results = pd.DataFrame({'feature': feature_list,'importance': importances[0]})\n",
    "\n",
    "feature_results = feature_results.sort_values('importance', ascending=False).reset_index(drop=True)\n",
    "print(feature_results.head())"
   ]
  },
  {
   "cell_type": "code",
   "execution_count": 87,
   "metadata": {},
   "outputs": [
    {
     "data": {
      "image/png": "[encoded data removed]",
      "text/plain": [
       "<Figure size 1800x432 with 1 Axes>"
      ]
     },
     "metadata": {},
     "output_type": "display_data"
    }
   ],
   "source": [
    "plt.figure(figsize=(25,6))\n",
    "sns.set_style('darkgrid')\n",
    "sns.barplot(x='feature', y='importance', data=feature_results)\n",
    "plt.title('Важность признаков модели '+ 'LogisticRegression')\n",
    "\n",
    "plt.show()"
   ]
  },
  {
   "cell_type": "code",
   "execution_count": 88,
   "metadata": {},
   "outputs": [
    {
     "name": "stdout",
     "output_type": "stream",
     "text": [
      "CPU times: user 41.6 ms, sys: 0 ns, total: 41.6 ms\n",
      "Wall time: 45.9 ms\n"
     ]
    },
    {
     "data": {
      "text/plain": [
       "LogisticRegression(class_weight='balanced', random_state=12345,\n",
       "                   solver='liblinear')"
      ]
     },
     "execution_count": 88,
     "metadata": {},
     "output_type": "execute_result"
    }
   ],
   "source": [
    "%%time\n",
    "model = LogisticRegression(solver='liblinear', random_state=12345, class_weight = 'balanced')\n",
    "model.fit(df_features, df_target)"
   ]
  }
 ],
 "metadata": {
  "ExecuteTimeLog": [
   {
    "duration": 616,
    "start_time": "2021-10-19T05:19:38.083Z"
   },
   {
    "duration": 54,
    "start_time": "2021-10-19T05:19:54.702Z"
   },
   {
    "duration": 27,
    "start_time": "2021-10-19T05:20:00.673Z"
   },
   {
    "duration": 12,
    "start_time": "2021-10-19T05:21:01.473Z"
   },
   {
    "duration": 9,
    "start_time": "2021-10-19T05:21:08.780Z"
   },
   {
    "duration": 21,
    "start_time": "2021-10-19T05:21:55.302Z"
   },
   {
    "duration": 8,
    "start_time": "2021-10-19T05:22:25.173Z"
   },
   {
    "duration": 14,
    "start_time": "2021-10-19T05:22:50.609Z"
   },
   {
    "duration": 17,
    "start_time": "2021-10-19T05:23:08.965Z"
   },
   {
    "duration": 3,
    "start_time": "2021-10-19T05:24:51.169Z"
   },
   {
    "duration": 7,
    "start_time": "2021-10-19T05:24:55.718Z"
   },
   {
    "duration": 13,
    "start_time": "2021-10-19T05:25:01.738Z"
   },
   {
    "duration": 7,
    "start_time": "2021-10-19T05:28:26.932Z"
   },
   {
    "duration": 4,
    "start_time": "2021-10-19T05:29:12.480Z"
   },
   {
    "duration": 15,
    "start_time": "2021-10-19T05:32:46.185Z"
   },
   {
    "duration": 5,
    "start_time": "2021-10-19T05:35:05.565Z"
   },
   {
    "duration": 2563,
    "start_time": "2021-10-19T05:38:44.240Z"
   },
   {
    "duration": 364,
    "start_time": "2021-10-19T05:39:30.969Z"
   },
   {
    "duration": 8,
    "start_time": "2021-10-19T05:39:44.320Z"
   },
   {
    "duration": 1915,
    "start_time": "2021-10-19T08:46:41.034Z"
   },
   {
    "duration": 48,
    "start_time": "2021-10-19T08:46:48.990Z"
   },
   {
    "duration": 391,
    "start_time": "2021-10-19T08:48:08.110Z"
   },
   {
    "duration": 1587,
    "start_time": "2021-10-19T08:48:23.549Z"
   },
   {
    "duration": 4,
    "start_time": "2021-10-19T08:48:25.138Z"
   },
   {
    "duration": 47,
    "start_time": "2021-10-19T08:48:25.145Z"
   },
   {
    "duration": 28,
    "start_time": "2021-10-19T08:48:25.196Z"
   },
   {
    "duration": 27,
    "start_time": "2021-10-19T08:48:25.227Z"
   },
   {
    "duration": 18,
    "start_time": "2021-10-19T08:48:25.258Z"
   },
   {
    "duration": 22,
    "start_time": "2021-10-19T08:48:25.279Z"
   },
   {
    "duration": 22,
    "start_time": "2021-10-19T08:48:25.307Z"
   },
   {
    "duration": 10,
    "start_time": "2021-10-19T08:48:25.359Z"
   },
   {
    "duration": 8,
    "start_time": "2021-10-19T08:48:25.372Z"
   },
   {
    "duration": 33,
    "start_time": "2021-10-19T08:48:25.389Z"
   },
   {
    "duration": 17,
    "start_time": "2021-10-19T08:48:25.424Z"
   },
   {
    "duration": 713,
    "start_time": "2021-10-19T08:48:25.444Z"
   },
   {
    "duration": 11,
    "start_time": "2021-10-19T08:48:26.160Z"
   },
   {
    "duration": 9621,
    "start_time": "2021-10-19T08:48:26.173Z"
   },
   {
    "duration": -46,
    "start_time": "2021-10-19T08:48:35.843Z"
   },
   {
    "duration": 9735,
    "start_time": "2021-10-19T08:49:35.301Z"
   },
   {
    "duration": 1007,
    "start_time": "2021-10-19T08:50:18.793Z"
   },
   {
    "duration": 332,
    "start_time": "2021-10-19T08:50:30.844Z"
   },
   {
    "duration": 10,
    "start_time": "2021-10-19T08:53:07.075Z"
   },
   {
    "duration": 10,
    "start_time": "2021-10-19T08:53:33.174Z"
   },
   {
    "duration": 32,
    "start_time": "2021-10-19T08:53:47.962Z"
   },
   {
    "duration": 469,
    "start_time": "2021-10-19T08:58:06.455Z"
   },
   {
    "duration": 7,
    "start_time": "2021-10-19T08:58:57.662Z"
   },
   {
    "duration": 9,
    "start_time": "2021-10-19T08:58:58.234Z"
   },
   {
    "duration": 8,
    "start_time": "2021-10-19T08:58:58.925Z"
   },
   {
    "duration": 5,
    "start_time": "2021-10-19T08:58:59.832Z"
   },
   {
    "duration": 6,
    "start_time": "2021-10-19T08:59:00.922Z"
   },
   {
    "duration": 48,
    "start_time": "2021-10-19T09:00:44.183Z"
   },
   {
    "duration": 117,
    "start_time": "2021-10-19T09:01:27.592Z"
   },
   {
    "duration": 122,
    "start_time": "2021-10-19T09:01:35.243Z"
   },
   {
    "duration": 101,
    "start_time": "2021-10-19T09:01:54.160Z"
   },
   {
    "duration": 125,
    "start_time": "2021-10-19T09:06:54.981Z"
   },
   {
    "duration": 11,
    "start_time": "2021-10-19T09:09:54.182Z"
   },
   {
    "duration": 4,
    "start_time": "2021-10-19T09:14:56.202Z"
   },
   {
    "duration": 5,
    "start_time": "2021-10-19T09:15:02.301Z"
   },
   {
    "duration": 6,
    "start_time": "2021-10-19T09:15:51.242Z"
   },
   {
    "duration": 11,
    "start_time": "2021-10-19T09:17:21.573Z"
   },
   {
    "duration": 24,
    "start_time": "2021-10-19T09:18:11.121Z"
   },
   {
    "duration": 506,
    "start_time": "2021-10-19T09:18:34.721Z"
   },
   {
    "duration": 14,
    "start_time": "2021-10-19T09:18:39.423Z"
   },
   {
    "duration": 101,
    "start_time": "2021-10-19T09:18:40.282Z"
   },
   {
    "duration": 104,
    "start_time": "2021-10-19T09:19:18.055Z"
   },
   {
    "duration": 44,
    "start_time": "2021-10-19T09:19:42.394Z"
   },
   {
    "duration": 4,
    "start_time": "2021-10-19T09:25:15.471Z"
   },
   {
    "duration": 12,
    "start_time": "2021-10-19T09:25:49.003Z"
   },
   {
    "duration": 12,
    "start_time": "2021-10-19T09:25:59.492Z"
   },
   {
    "duration": 502,
    "start_time": "2021-10-19T09:26:08.123Z"
   },
   {
    "duration": 1384,
    "start_time": "2021-10-19T09:26:39.246Z"
   },
   {
    "duration": 4,
    "start_time": "2021-10-19T09:26:40.632Z"
   },
   {
    "duration": 48,
    "start_time": "2021-10-19T09:26:40.639Z"
   },
   {
    "duration": 26,
    "start_time": "2021-10-19T09:26:40.690Z"
   },
   {
    "duration": 13,
    "start_time": "2021-10-19T09:26:40.718Z"
   },
   {
    "duration": 29,
    "start_time": "2021-10-19T09:26:40.733Z"
   },
   {
    "duration": 23,
    "start_time": "2021-10-19T09:26:40.764Z"
   },
   {
    "duration": 18,
    "start_time": "2021-10-19T09:26:40.790Z"
   },
   {
    "duration": 8,
    "start_time": "2021-10-19T09:26:40.811Z"
   },
   {
    "duration": 36,
    "start_time": "2021-10-19T09:26:40.822Z"
   },
   {
    "duration": 25,
    "start_time": "2021-10-19T09:26:40.860Z"
   },
   {
    "duration": 12,
    "start_time": "2021-10-19T09:26:40.888Z"
   },
   {
    "duration": 688,
    "start_time": "2021-10-19T09:26:40.902Z"
   },
   {
    "duration": 11,
    "start_time": "2021-10-19T09:26:41.592Z"
   },
   {
    "duration": 22,
    "start_time": "2021-10-19T09:26:41.605Z"
   },
   {
    "duration": 45,
    "start_time": "2021-10-19T09:26:41.630Z"
   },
   {
    "duration": 7,
    "start_time": "2021-10-19T09:26:41.678Z"
   },
   {
    "duration": 12,
    "start_time": "2021-10-19T09:26:41.688Z"
   },
   {
    "duration": 543,
    "start_time": "2021-10-19T09:26:41.703Z"
   },
   {
    "duration": -79,
    "start_time": "2021-10-19T09:26:42.328Z"
   },
   {
    "duration": -79,
    "start_time": "2021-10-19T09:26:42.330Z"
   },
   {
    "duration": -79,
    "start_time": "2021-10-19T09:26:42.331Z"
   },
   {
    "duration": -80,
    "start_time": "2021-10-19T09:26:42.333Z"
   },
   {
    "duration": -80,
    "start_time": "2021-10-19T09:26:42.334Z"
   },
   {
    "duration": -115,
    "start_time": "2021-10-19T09:26:42.371Z"
   },
   {
    "duration": -116,
    "start_time": "2021-10-19T09:26:42.373Z"
   },
   {
    "duration": -117,
    "start_time": "2021-10-19T09:26:42.375Z"
   },
   {
    "duration": -117,
    "start_time": "2021-10-19T09:26:42.377Z"
   },
   {
    "duration": -117,
    "start_time": "2021-10-19T09:26:42.378Z"
   },
   {
    "duration": -118,
    "start_time": "2021-10-19T09:26:42.380Z"
   },
   {
    "duration": -117,
    "start_time": "2021-10-19T09:26:42.381Z"
   },
   {
    "duration": -117,
    "start_time": "2021-10-19T09:26:42.382Z"
   },
   {
    "duration": 12,
    "start_time": "2021-10-19T09:27:36.107Z"
   },
   {
    "duration": 371,
    "start_time": "2021-10-19T09:27:45.637Z"
   },
   {
    "duration": 6,
    "start_time": "2021-10-19T09:27:52.776Z"
   },
   {
    "duration": 7,
    "start_time": "2021-10-19T09:27:54.165Z"
   },
   {
    "duration": 5,
    "start_time": "2021-10-19T09:27:54.944Z"
   },
   {
    "duration": 4,
    "start_time": "2021-10-19T09:27:56.175Z"
   },
   {
    "duration": 44,
    "start_time": "2021-10-19T09:27:58.495Z"
   },
   {
    "duration": 107,
    "start_time": "2021-10-19T09:28:00.212Z"
   },
   {
    "duration": 85,
    "start_time": "2021-10-19T09:28:01.574Z"
   },
   {
    "duration": 427,
    "start_time": "2021-10-19T09:28:06.183Z"
   },
   {
    "duration": 10,
    "start_time": "2021-10-19T09:29:16.968Z"
   },
   {
    "duration": 15,
    "start_time": "2021-10-19T09:29:32.340Z"
   },
   {
    "duration": 9,
    "start_time": "2021-10-19T09:31:14.030Z"
   },
   {
    "duration": 44,
    "start_time": "2021-10-19T09:33:11.789Z"
   },
   {
    "duration": 44,
    "start_time": "2021-10-19T09:33:17.732Z"
   },
   {
    "duration": 95,
    "start_time": "2021-10-19T09:33:20.176Z"
   },
   {
    "duration": 105,
    "start_time": "2021-10-19T09:33:25.052Z"
   },
   {
    "duration": 24,
    "start_time": "2021-10-19T09:33:36.172Z"
   },
   {
    "duration": 42,
    "start_time": "2021-10-19T09:34:49.382Z"
   },
   {
    "duration": 99,
    "start_time": "2021-10-19T09:35:05.990Z"
   },
   {
    "duration": 23,
    "start_time": "2021-10-19T09:35:27.348Z"
   },
   {
    "duration": 6,
    "start_time": "2021-10-19T09:44:08.107Z"
   },
   {
    "duration": 6,
    "start_time": "2021-10-19T09:45:05.114Z"
   },
   {
    "duration": 769,
    "start_time": "2021-10-19T09:45:10.970Z"
   },
   {
    "duration": 546,
    "start_time": "2021-10-19T09:47:08.640Z"
   },
   {
    "duration": 3,
    "start_time": "2021-10-19T09:48:14.175Z"
   },
   {
    "duration": 428,
    "start_time": "2021-10-19T09:48:14.770Z"
   },
   {
    "duration": 489,
    "start_time": "2021-10-19T14:03:57.609Z"
   },
   {
    "duration": 1425,
    "start_time": "2021-10-19T14:04:05.074Z"
   },
   {
    "duration": 441,
    "start_time": "2021-10-19T14:04:13.593Z"
   },
   {
    "duration": 1560,
    "start_time": "2021-10-19T14:04:45.306Z"
   },
   {
    "duration": 3,
    "start_time": "2021-10-19T14:04:46.869Z"
   },
   {
    "duration": 212,
    "start_time": "2021-10-19T14:04:46.875Z"
   },
   {
    "duration": 19,
    "start_time": "2021-10-19T14:04:47.090Z"
   },
   {
    "duration": 13,
    "start_time": "2021-10-19T14:04:47.111Z"
   },
   {
    "duration": 82,
    "start_time": "2021-10-19T14:04:47.127Z"
   },
   {
    "duration": 9,
    "start_time": "2021-10-19T14:04:47.211Z"
   },
   {
    "duration": 39,
    "start_time": "2021-10-19T14:04:47.223Z"
   },
   {
    "duration": 27,
    "start_time": "2021-10-19T14:04:47.265Z"
   },
   {
    "duration": 12,
    "start_time": "2021-10-19T14:04:47.294Z"
   },
   {
    "duration": 52,
    "start_time": "2021-10-19T14:04:47.308Z"
   },
   {
    "duration": 22,
    "start_time": "2021-10-19T14:04:47.363Z"
   },
   {
    "duration": 731,
    "start_time": "2021-10-19T14:04:47.387Z"
   },
   {
    "duration": 11,
    "start_time": "2021-10-19T14:04:48.120Z"
   },
   {
    "duration": 25,
    "start_time": "2021-10-19T14:04:48.134Z"
   },
   {
    "duration": 31,
    "start_time": "2021-10-19T14:04:48.161Z"
   },
   {
    "duration": 3795,
    "start_time": "2021-10-19T14:04:48.195Z"
   },
   {
    "duration": 33,
    "start_time": "2021-10-19T14:04:51.992Z"
   },
   {
    "duration": 31,
    "start_time": "2021-10-19T14:04:52.027Z"
   },
   {
    "duration": 9,
    "start_time": "2021-10-19T14:04:52.060Z"
   },
   {
    "duration": 9,
    "start_time": "2021-10-19T14:04:52.071Z"
   },
   {
    "duration": 5,
    "start_time": "2021-10-19T14:04:52.083Z"
   },
   {
    "duration": 6,
    "start_time": "2021-10-19T14:04:52.095Z"
   },
   {
    "duration": 85,
    "start_time": "2021-10-19T14:04:52.104Z"
   },
   {
    "duration": 124,
    "start_time": "2021-10-19T14:04:52.192Z"
   },
   {
    "duration": 65,
    "start_time": "2021-10-19T14:04:52.319Z"
   },
   {
    "duration": 5,
    "start_time": "2021-10-19T14:04:52.459Z"
   },
   {
    "duration": 98,
    "start_time": "2021-10-19T14:04:52.466Z"
   },
   {
    "duration": 23,
    "start_time": "2021-10-19T14:04:52.566Z"
   },
   {
    "duration": 49,
    "start_time": "2021-10-19T14:04:52.591Z"
   },
   {
    "duration": 131,
    "start_time": "2021-10-19T14:04:52.643Z"
   },
   {
    "duration": 85,
    "start_time": "2021-10-19T14:04:52.776Z"
   },
   {
    "duration": 98,
    "start_time": "2021-10-19T14:04:52.864Z"
   },
   {
    "duration": 100,
    "start_time": "2021-10-19T14:04:52.964Z"
   },
   {
    "duration": 228,
    "start_time": "2021-10-19T14:04:53.067Z"
   },
   {
    "duration": 268,
    "start_time": "2021-10-19T14:04:53.297Z"
   },
   {
    "duration": 6,
    "start_time": "2021-10-19T14:04:53.659Z"
   },
   {
    "duration": 97,
    "start_time": "2021-10-19T14:04:53.667Z"
   },
   {
    "duration": 7,
    "start_time": "2021-10-19T14:04:53.766Z"
   },
   {
    "duration": 128,
    "start_time": "2021-10-19T14:04:53.775Z"
   },
   {
    "duration": 319,
    "start_time": "2021-10-19T14:04:53.906Z"
   },
   {
    "duration": 243,
    "start_time": "2021-10-19T14:04:54.227Z"
   },
   {
    "duration": 87,
    "start_time": "2021-10-19T14:04:54.473Z"
   },
   {
    "duration": 108,
    "start_time": "2021-10-19T14:04:54.564Z"
   },
   {
    "duration": 9,
    "start_time": "2021-10-19T14:04:54.674Z"
   },
   {
    "duration": 42,
    "start_time": "2021-10-19T14:04:54.685Z"
   },
   {
    "duration": 132,
    "start_time": "2021-10-19T14:04:54.759Z"
   },
   {
    "duration": 166,
    "start_time": "2021-10-19T14:04:54.893Z"
   },
   {
    "duration": 103,
    "start_time": "2021-10-19T14:04:55.062Z"
   },
   {
    "duration": 46,
    "start_time": "2021-10-19T14:04:55.167Z"
   },
   {
    "duration": 983,
    "start_time": "2021-10-19T14:04:55.215Z"
   },
   {
    "duration": 159,
    "start_time": "2021-10-19T14:04:56.200Z"
   },
   {
    "duration": 100,
    "start_time": "2021-10-19T14:04:56.363Z"
   },
   {
    "duration": 6,
    "start_time": "2021-10-19T14:04:56.466Z"
   },
   {
    "duration": 88,
    "start_time": "2021-10-19T14:04:56.475Z"
   },
   {
    "duration": 1241,
    "start_time": "2021-10-19T14:04:56.566Z"
   },
   {
    "duration": 296,
    "start_time": "2021-10-19T14:04:57.809Z"
   },
   {
    "duration": 155,
    "start_time": "2021-10-19T14:04:58.109Z"
   },
   {
    "duration": 805,
    "start_time": "2021-10-19T14:07:28.813Z"
   },
   {
    "duration": 32,
    "start_time": "2021-10-19T14:07:50.712Z"
   },
   {
    "duration": 56,
    "start_time": "2021-10-19T14:08:18.921Z"
   },
   {
    "duration": 1586,
    "start_time": "2021-10-19T14:16:59.734Z"
   },
   {
    "duration": 4,
    "start_time": "2021-10-19T14:17:01.323Z"
   },
   {
    "duration": 152,
    "start_time": "2021-10-19T14:17:01.330Z"
   },
   {
    "duration": 22,
    "start_time": "2021-10-19T14:17:01.484Z"
   },
   {
    "duration": 59,
    "start_time": "2021-10-19T14:17:01.508Z"
   },
   {
    "duration": 112,
    "start_time": "2021-10-19T14:17:01.569Z"
   },
   {
    "duration": 9,
    "start_time": "2021-10-19T14:17:01.684Z"
   },
   {
    "duration": 99,
    "start_time": "2021-10-19T14:17:01.697Z"
   },
   {
    "duration": 76,
    "start_time": "2021-10-19T14:17:01.799Z"
   },
   {
    "duration": 34,
    "start_time": "2021-10-19T14:17:01.878Z"
   },
   {
    "duration": 71,
    "start_time": "2021-10-19T14:17:01.914Z"
   },
   {
    "duration": 66,
    "start_time": "2021-10-19T14:17:01.987Z"
   },
   {
    "duration": 727,
    "start_time": "2021-10-19T14:17:02.056Z"
   },
   {
    "duration": 14,
    "start_time": "2021-10-19T14:17:02.786Z"
   },
   {
    "duration": 30,
    "start_time": "2021-10-19T14:17:02.802Z"
   },
   {
    "duration": 90,
    "start_time": "2021-10-19T14:17:02.835Z"
   },
   {
    "duration": 4138,
    "start_time": "2021-10-19T14:17:02.928Z"
   },
   {
    "duration": 31,
    "start_time": "2021-10-19T14:17:07.069Z"
   },
   {
    "duration": 9,
    "start_time": "2021-10-19T14:17:07.102Z"
   },
   {
    "duration": 28,
    "start_time": "2021-10-19T14:17:07.113Z"
   },
   {
    "duration": 32,
    "start_time": "2021-10-19T14:17:07.143Z"
   },
   {
    "duration": 29,
    "start_time": "2021-10-19T14:17:07.177Z"
   },
   {
    "duration": 23,
    "start_time": "2021-10-19T14:17:07.211Z"
   },
   {
    "duration": 69,
    "start_time": "2021-10-19T14:17:07.237Z"
   },
   {
    "duration": 114,
    "start_time": "2021-10-19T14:17:07.308Z"
   },
   {
    "duration": 60,
    "start_time": "2021-10-19T14:17:07.425Z"
   },
   {
    "duration": 8,
    "start_time": "2021-10-19T14:17:07.562Z"
   },
   {
    "duration": 4,
    "start_time": "2021-10-19T14:17:07.658Z"
   },
   {
    "duration": 27,
    "start_time": "2021-10-19T14:17:07.665Z"
   },
   {
    "duration": 50,
    "start_time": "2021-10-19T14:17:07.695Z"
   },
   {
    "duration": 133,
    "start_time": "2021-10-19T14:17:07.748Z"
   },
   {
    "duration": 75,
    "start_time": "2021-10-19T14:17:07.884Z"
   },
   {
    "duration": 107,
    "start_time": "2021-10-19T14:17:07.962Z"
   },
   {
    "duration": 90,
    "start_time": "2021-10-19T14:17:08.071Z"
   },
   {
    "duration": 227,
    "start_time": "2021-10-19T14:17:08.164Z"
   },
   {
    "duration": 277,
    "start_time": "2021-10-19T14:17:08.393Z"
   },
   {
    "duration": 87,
    "start_time": "2021-10-19T14:17:08.674Z"
   },
   {
    "duration": 121,
    "start_time": "2021-10-19T14:17:08.766Z"
   },
   {
    "duration": 15,
    "start_time": "2021-10-19T14:17:08.889Z"
   },
   {
    "duration": 121,
    "start_time": "2021-10-19T14:17:08.906Z"
   },
   {
    "duration": 312,
    "start_time": "2021-10-19T14:17:09.030Z"
   },
   {
    "duration": 225,
    "start_time": "2021-10-19T14:17:09.345Z"
   },
   {
    "duration": 93,
    "start_time": "2021-10-19T14:17:09.573Z"
   },
   {
    "duration": 21,
    "start_time": "2021-10-19T14:17:09.759Z"
   },
   {
    "duration": 7,
    "start_time": "2021-10-19T14:17:09.783Z"
   },
   {
    "duration": 57,
    "start_time": "2021-10-19T14:17:09.792Z"
   },
   {
    "duration": 124,
    "start_time": "2021-10-19T14:17:09.858Z"
   },
   {
    "duration": 81,
    "start_time": "2021-10-19T14:17:09.985Z"
   },
   {
    "duration": 108,
    "start_time": "2021-10-19T14:17:10.159Z"
   },
   {
    "duration": 2760,
    "start_time": "2021-10-19T14:17:10.270Z"
   },
   {
    "duration": 46,
    "start_time": "2021-10-19T14:17:13.032Z"
   },
   {
    "duration": 427417,
    "start_time": "2021-10-19T14:17:13.080Z"
   },
   {
    "duration": 987,
    "start_time": "2021-10-19T14:24:20.500Z"
   },
   {
    "duration": 170,
    "start_time": "2021-10-19T14:24:21.490Z"
   },
   {
    "duration": 100,
    "start_time": "2021-10-19T14:24:21.663Z"
   },
   {
    "duration": 6,
    "start_time": "2021-10-19T14:24:21.765Z"
   },
   {
    "duration": 43,
    "start_time": "2021-10-19T14:24:21.773Z"
   },
   {
    "duration": 70,
    "start_time": "2021-10-19T14:24:21.818Z"
   },
   {
    "duration": 1225,
    "start_time": "2021-10-19T14:24:21.890Z"
   },
   {
    "duration": 1154,
    "start_time": "2021-10-19T14:24:23.118Z"
   },
   {
    "duration": 299,
    "start_time": "2021-10-19T14:24:24.275Z"
   },
   {
    "duration": 182,
    "start_time": "2021-10-19T14:24:24.576Z"
   },
   {
    "duration": 148,
    "start_time": "2021-10-19T14:24:24.762Z"
   },
   {
    "duration": 1560,
    "start_time": "2021-10-19T14:43:09.192Z"
   },
   {
    "duration": 4,
    "start_time": "2021-10-19T14:43:10.754Z"
   },
   {
    "duration": 124,
    "start_time": "2021-10-19T14:43:10.760Z"
   },
   {
    "duration": 23,
    "start_time": "2021-10-19T14:43:10.887Z"
   },
   {
    "duration": 4,
    "start_time": "2021-10-19T14:44:12.590Z"
   },
   {
    "duration": 51,
    "start_time": "2021-10-19T14:44:13.149Z"
   },
   {
    "duration": 9,
    "start_time": "2021-10-19T14:44:24.067Z"
   },
   {
    "duration": 20,
    "start_time": "2021-10-19T14:44:32.131Z"
   },
   {
    "duration": 21,
    "start_time": "2021-10-19T14:44:32.556Z"
   },
   {
    "duration": 6,
    "start_time": "2021-10-19T14:44:41.410Z"
   },
   {
    "duration": 24,
    "start_time": "2021-10-19T14:44:42.428Z"
   },
   {
    "duration": 6,
    "start_time": "2021-10-19T14:44:43.048Z"
   },
   {
    "duration": 730,
    "start_time": "2021-10-19T14:44:43.787Z"
   },
   {
    "duration": 11,
    "start_time": "2021-10-19T14:44:44.520Z"
   },
   {
    "duration": 8,
    "start_time": "2021-10-19T14:44:44.914Z"
   },
   {
    "duration": 16,
    "start_time": "2021-10-19T14:44:45.666Z"
   },
   {
    "duration": 4051,
    "start_time": "2021-10-19T14:44:45.908Z"
   },
   {
    "duration": 43,
    "start_time": "2021-10-19T14:44:49.961Z"
   },
   {
    "duration": 7,
    "start_time": "2021-10-19T14:54:29.102Z"
   },
   {
    "duration": 9,
    "start_time": "2021-10-19T14:54:29.844Z"
   },
   {
    "duration": 9,
    "start_time": "2021-10-19T14:54:31.554Z"
   },
   {
    "duration": 5,
    "start_time": "2021-10-19T14:54:31.979Z"
   },
   {
    "duration": 6,
    "start_time": "2021-10-19T14:54:37.284Z"
   },
   {
    "duration": 50,
    "start_time": "2021-10-19T14:55:13.560Z"
   },
   {
    "duration": 115,
    "start_time": "2021-10-19T14:55:13.731Z"
   },
   {
    "duration": 103,
    "start_time": "2021-10-19T14:55:13.901Z"
   },
   {
    "duration": 4,
    "start_time": "2021-10-19T14:55:43.045Z"
   },
   {
    "duration": 3,
    "start_time": "2021-10-19T14:55:43.251Z"
   },
   {
    "duration": 14,
    "start_time": "2021-10-19T14:55:43.480Z"
   },
   {
    "duration": 44,
    "start_time": "2021-10-19T14:55:43.913Z"
   },
   {
    "duration": 119,
    "start_time": "2021-10-19T14:55:44.116Z"
   },
   {
    "duration": 108,
    "start_time": "2021-10-19T14:55:44.292Z"
   },
   {
    "duration": 13,
    "start_time": "2021-10-19T14:56:59.942Z"
   },
   {
    "duration": 87,
    "start_time": "2021-10-19T14:58:07.721Z"
   },
   {
    "duration": 229,
    "start_time": "2021-10-19T14:58:07.903Z"
   },
   {
    "duration": 267,
    "start_time": "2021-10-19T14:58:08.134Z"
   },
   {
    "duration": 5,
    "start_time": "2021-10-19T14:59:03.844Z"
   },
   {
    "duration": 18,
    "start_time": "2021-10-19T14:59:05.568Z"
   },
   {
    "duration": 7,
    "start_time": "2021-10-19T14:59:51.229Z"
   },
   {
    "duration": 111,
    "start_time": "2021-10-19T14:59:52.984Z"
   },
   {
    "duration": 330,
    "start_time": "2021-10-19T14:59:53.789Z"
   },
   {
    "duration": 259,
    "start_time": "2021-10-19T14:59:54.356Z"
   },
   {
    "duration": 6,
    "start_time": "2021-10-19T15:00:14.191Z"
   },
   {
    "duration": 17,
    "start_time": "2021-10-19T15:00:14.581Z"
   },
   {
    "duration": 7,
    "start_time": "2021-10-19T15:00:15.212Z"
   },
   {
    "duration": 43,
    "start_time": "2021-10-19T15:00:16.936Z"
   },
   {
    "duration": 128,
    "start_time": "2021-10-19T15:00:17.679Z"
   },
   {
    "duration": 198,
    "start_time": "2021-10-19T15:00:18.508Z"
   },
   {
    "duration": 17,
    "start_time": "2021-10-19T15:00:34.918Z"
   },
   {
    "duration": 2923,
    "start_time": "2021-10-19T15:00:44.040Z"
   },
   {
    "duration": 54,
    "start_time": "2021-10-19T15:00:46.967Z"
   },
   {
    "duration": 440559,
    "start_time": "2021-10-19T15:00:47.025Z"
   },
   {
    "duration": 1025,
    "start_time": "2021-10-19T15:08:07.587Z"
   },
   {
    "duration": 186,
    "start_time": "2021-10-19T15:08:08.615Z"
   },
   {
    "duration": 97,
    "start_time": "2021-10-19T15:08:08.805Z"
   },
   {
    "duration": 7,
    "start_time": "2021-10-19T15:08:08.907Z"
   },
   {
    "duration": 85,
    "start_time": "2021-10-19T15:08:08.917Z"
   },
   {
    "duration": 39,
    "start_time": "2021-10-19T15:08:09.004Z"
   },
   {
    "duration": 1282,
    "start_time": "2021-10-19T15:08:09.046Z"
   },
   {
    "duration": 1277,
    "start_time": "2021-10-19T15:08:10.330Z"
   },
   {
    "duration": 303,
    "start_time": "2021-10-19T15:08:11.610Z"
   },
   {
    "duration": 186,
    "start_time": "2021-10-19T15:08:11.915Z"
   },
   {
    "duration": 146,
    "start_time": "2021-10-19T15:08:12.108Z"
   },
   {
    "duration": 3,
    "start_time": "2021-10-21T10:15:22.563Z"
   },
   {
    "duration": 423,
    "start_time": "2021-10-21T10:15:59.789Z"
   },
   {
    "duration": 1532,
    "start_time": "2021-10-21T10:16:07.128Z"
   },
   {
    "duration": 294,
    "start_time": "2021-10-21T10:16:10.301Z"
   },
   {
    "duration": 705,
    "start_time": "2021-10-21T10:16:19.194Z"
   },
   {
    "duration": 470,
    "start_time": "2021-10-21T10:16:35.681Z"
   },
   {
    "duration": 11,
    "start_time": "2021-10-21T10:16:54.036Z"
   },
   {
    "duration": 22,
    "start_time": "2021-10-21T10:17:00.799Z"
   },
   {
    "duration": 476,
    "start_time": "2021-10-21T10:30:51.222Z"
   },
   {
    "duration": 482,
    "start_time": "2021-10-21T10:31:10.289Z"
   },
   {
    "duration": 9,
    "start_time": "2021-10-21T10:31:33.445Z"
   },
   {
    "duration": 391,
    "start_time": "2021-10-21T10:32:20.744Z"
   },
   {
    "duration": 21,
    "start_time": "2021-10-21T10:32:51.471Z"
   },
   {
    "duration": 6,
    "start_time": "2021-10-21T10:32:58.738Z"
   },
   {
    "duration": 756,
    "start_time": "2021-10-21T10:33:02.189Z"
   },
   {
    "duration": 506,
    "start_time": "2021-10-21T10:33:13.453Z"
   },
   {
    "duration": 468,
    "start_time": "2021-10-21T10:33:33.385Z"
   },
   {
    "duration": 371,
    "start_time": "2021-10-21T10:33:40.692Z"
   },
   {
    "duration": 126,
    "start_time": "2021-10-21T10:34:57.309Z"
   },
   {
    "duration": 2049,
    "start_time": "2021-10-21T10:35:13.779Z"
   },
   {
    "duration": 561,
    "start_time": "2021-10-21T10:35:24.026Z"
   },
   {
    "duration": 745,
    "start_time": "2021-10-21T10:36:20.726Z"
   },
   {
    "duration": 395,
    "start_time": "2021-10-21T10:36:51.316Z"
   },
   {
    "duration": 404,
    "start_time": "2021-10-21T10:37:11.858Z"
   },
   {
    "duration": 398,
    "start_time": "2021-10-21T10:37:26.130Z"
   },
   {
    "duration": 402,
    "start_time": "2021-10-21T10:37:34.786Z"
   },
   {
    "duration": 398,
    "start_time": "2021-10-21T10:37:43.528Z"
   },
   {
    "duration": 554,
    "start_time": "2021-10-21T10:37:59.035Z"
   },
   {
    "duration": 11,
    "start_time": "2021-10-21T10:38:44.756Z"
   },
   {
    "duration": 15,
    "start_time": "2021-10-21T10:39:13.049Z"
   },
   {
    "duration": 10,
    "start_time": "2021-10-21T10:39:27.477Z"
   },
   {
    "duration": 123,
    "start_time": "2021-10-21T10:39:56.298Z"
   },
   {
    "duration": 10,
    "start_time": "2021-10-21T10:40:08.943Z"
   },
   {
    "duration": 9,
    "start_time": "2021-10-21T10:40:35.369Z"
   },
   {
    "duration": 11,
    "start_time": "2021-10-21T10:40:41.282Z"
   },
   {
    "duration": 9,
    "start_time": "2021-10-21T10:40:48.710Z"
   },
   {
    "duration": 507,
    "start_time": "2021-10-21T10:41:02.600Z"
   },
   {
    "duration": 546,
    "start_time": "2021-10-21T10:41:06.660Z"
   },
   {
    "duration": 535,
    "start_time": "2021-10-21T10:41:12.300Z"
   },
   {
    "duration": 9,
    "start_time": "2021-10-21T10:41:27.332Z"
   },
   {
    "duration": 21,
    "start_time": "2021-10-21T10:41:48.177Z"
   },
   {
    "duration": 6,
    "start_time": "2021-10-21T10:41:52.055Z"
   },
   {
    "duration": 721,
    "start_time": "2021-10-21T10:41:53.086Z"
   },
   {
    "duration": 10,
    "start_time": "2021-10-21T10:41:54.590Z"
   },
   {
    "duration": 586,
    "start_time": "2021-10-21T10:42:00.419Z"
   },
   {
    "duration": 10,
    "start_time": "2021-10-21T10:46:25.380Z"
   },
   {
    "duration": 20,
    "start_time": "2021-10-21T10:47:42.407Z"
   },
   {
    "duration": 22,
    "start_time": "2021-10-21T10:47:52.661Z"
   },
   {
    "duration": 23,
    "start_time": "2021-10-21T10:48:06.120Z"
   },
   {
    "duration": 22,
    "start_time": "2021-10-21T10:48:24.690Z"
   },
   {
    "duration": 21,
    "start_time": "2021-10-21T10:48:28.534Z"
   },
   {
    "duration": 4,
    "start_time": "2021-10-21T10:49:14.766Z"
   },
   {
    "duration": 22,
    "start_time": "2021-10-21T10:49:38.285Z"
   },
   {
    "duration": 6,
    "start_time": "2021-10-21T10:49:52.095Z"
   },
   {
    "duration": 119,
    "start_time": "2021-10-21T10:49:53.770Z"
   },
   {
    "duration": 9,
    "start_time": "2021-10-21T10:49:55.858Z"
   },
   {
    "duration": 559,
    "start_time": "2021-10-21T10:49:58.615Z"
   },
   {
    "duration": 22,
    "start_time": "2021-10-21T10:50:10.073Z"
   },
   {
    "duration": 20,
    "start_time": "2021-10-21T10:52:15.107Z"
   },
   {
    "duration": 21,
    "start_time": "2021-10-21T10:52:29.389Z"
   },
   {
    "duration": 20,
    "start_time": "2021-10-21T10:55:25.350Z"
   },
   {
    "duration": 20,
    "start_time": "2021-10-21T10:57:34.583Z"
   },
   {
    "duration": 14,
    "start_time": "2021-10-21T10:58:39.288Z"
   },
   {
    "duration": 119,
    "start_time": "2021-10-21T10:58:40.713Z"
   },
   {
    "duration": 562,
    "start_time": "2021-10-21T10:58:56.157Z"
   },
   {
    "duration": 131,
    "start_time": "2021-10-21T10:59:12.934Z"
   },
   {
    "duration": 21,
    "start_time": "2021-10-21T10:59:25.023Z"
   },
   {
    "duration": 14,
    "start_time": "2021-10-21T10:59:26.050Z"
   },
   {
    "duration": 720,
    "start_time": "2021-10-21T10:59:27.083Z"
   },
   {
    "duration": 578,
    "start_time": "2021-10-21T10:59:35.039Z"
   },
   {
    "duration": 5,
    "start_time": "2021-10-21T11:00:11.872Z"
   },
   {
    "duration": 7,
    "start_time": "2021-10-21T11:00:27.643Z"
   },
   {
    "duration": 17,
    "start_time": "2021-10-21T11:00:54.278Z"
   },
   {
    "duration": 9305,
    "start_time": "2021-10-21T11:02:25.143Z"
   },
   {
    "duration": 9499,
    "start_time": "2021-10-21T11:02:41.971Z"
   },
   {
    "duration": 10,
    "start_time": "2021-10-21T11:03:09.402Z"
   },
   {
    "duration": 10,
    "start_time": "2021-10-21T11:03:13.683Z"
   },
   {
    "duration": 1584,
    "start_time": "2021-10-21T12:09:05.060Z"
   },
   {
    "duration": 4,
    "start_time": "2021-10-21T12:09:06.647Z"
   },
   {
    "duration": 468,
    "start_time": "2021-10-21T12:09:06.654Z"
   },
   {
    "duration": 21,
    "start_time": "2021-10-21T12:09:07.125Z"
   },
   {
    "duration": 5,
    "start_time": "2021-10-21T12:09:07.149Z"
   },
   {
    "duration": 80,
    "start_time": "2021-10-21T12:09:07.156Z"
   },
   {
    "duration": 9,
    "start_time": "2021-10-21T12:09:07.238Z"
   },
   {
    "duration": 19,
    "start_time": "2021-10-21T12:09:07.251Z"
   },
   {
    "duration": 20,
    "start_time": "2021-10-21T12:09:07.302Z"
   },
   {
    "duration": 5,
    "start_time": "2021-10-21T12:09:07.325Z"
   },
   {
    "duration": 9,
    "start_time": "2021-10-21T12:09:07.332Z"
   },
   {
    "duration": 14,
    "start_time": "2021-10-21T12:09:07.343Z"
   },
   {
    "duration": 434,
    "start_time": "2021-10-21T12:09:07.360Z"
   },
   {
    "duration": 543,
    "start_time": "2021-10-21T12:09:07.800Z"
   },
   {
    "duration": 22,
    "start_time": "2021-10-21T12:09:08.345Z"
   },
   {
    "duration": 31,
    "start_time": "2021-10-21T12:09:08.369Z"
   },
   {
    "duration": 727,
    "start_time": "2021-10-21T12:09:08.403Z"
   },
   {
    "duration": 9,
    "start_time": "2021-10-21T12:09:09.132Z"
   },
   {
    "duration": 576,
    "start_time": "2021-10-21T12:09:09.143Z"
   },
   {
    "duration": 11,
    "start_time": "2021-10-21T12:09:09.722Z"
   },
   {
    "duration": 9,
    "start_time": "2021-10-21T12:09:09.735Z"
   },
   {
    "duration": 16,
    "start_time": "2021-10-21T12:09:09.747Z"
   },
   {
    "duration": 3,
    "start_time": "2021-10-21T12:09:09.805Z"
   },
   {
    "duration": 32,
    "start_time": "2021-10-21T12:09:09.812Z"
   },
   {
    "duration": 9,
    "start_time": "2021-10-21T12:09:09.846Z"
   },
   {
    "duration": 49,
    "start_time": "2021-10-21T12:09:09.857Z"
   },
   {
    "duration": 10,
    "start_time": "2021-10-21T12:09:09.908Z"
   },
   {
    "duration": 6,
    "start_time": "2021-10-21T12:09:09.920Z"
   },
   {
    "duration": 7,
    "start_time": "2021-10-21T12:09:09.929Z"
   },
   {
    "duration": 95,
    "start_time": "2021-10-21T12:09:09.939Z"
   },
   {
    "duration": 135,
    "start_time": "2021-10-21T12:09:10.037Z"
   },
   {
    "duration": 132,
    "start_time": "2021-10-21T12:09:10.175Z"
   },
   {
    "duration": 93,
    "start_time": "2021-10-21T12:09:10.310Z"
   },
   {
    "duration": 7,
    "start_time": "2021-10-21T12:09:10.405Z"
   },
   {
    "duration": 16,
    "start_time": "2021-10-21T12:09:10.414Z"
   },
   {
    "duration": 75,
    "start_time": "2021-10-21T12:09:10.432Z"
   },
   {
    "duration": 127,
    "start_time": "2021-10-21T12:09:10.510Z"
   },
   {
    "duration": 62,
    "start_time": "2021-10-21T12:09:10.640Z"
   },
   {
    "duration": 99,
    "start_time": "2021-10-21T12:09:10.706Z"
   },
   {
    "duration": 103,
    "start_time": "2021-10-21T12:09:10.807Z"
   },
   {
    "duration": 237,
    "start_time": "2021-10-21T12:09:10.913Z"
   },
   {
    "duration": 263,
    "start_time": "2021-10-21T12:09:11.153Z"
   },
   {
    "duration": 96,
    "start_time": "2021-10-21T12:09:11.506Z"
   },
   {
    "duration": 28,
    "start_time": "2021-10-21T12:09:11.605Z"
   },
   {
    "duration": 7,
    "start_time": "2021-10-21T12:09:11.635Z"
   },
   {
    "duration": 131,
    "start_time": "2021-10-21T12:09:11.644Z"
   },
   {
    "duration": 329,
    "start_time": "2021-10-21T12:09:11.778Z"
   },
   {
    "duration": 291,
    "start_time": "2021-10-21T12:09:12.110Z"
   },
   {
    "duration": 92,
    "start_time": "2021-10-21T12:09:12.410Z"
   },
   {
    "duration": 20,
    "start_time": "2021-10-21T12:09:12.504Z"
   },
   {
    "duration": 7,
    "start_time": "2021-10-21T12:09:12.526Z"
   },
   {
    "duration": 68,
    "start_time": "2021-10-21T12:09:12.535Z"
   },
   {
    "duration": 132,
    "start_time": "2021-10-21T12:09:12.605Z"
   },
   {
    "duration": 163,
    "start_time": "2021-10-21T12:09:12.740Z"
   },
   {
    "duration": 109,
    "start_time": "2021-10-21T12:09:12.906Z"
   },
   {
    "duration": 40,
    "start_time": "2021-10-21T12:09:13.018Z"
   },
   {
    "duration": 1042,
    "start_time": "2021-10-21T12:09:13.061Z"
   },
   {
    "duration": 198,
    "start_time": "2021-10-21T12:09:14.106Z"
   },
   {
    "duration": 99,
    "start_time": "2021-10-21T12:09:14.308Z"
   },
   {
    "duration": 8,
    "start_time": "2021-10-21T12:09:14.410Z"
   },
   {
    "duration": 49,
    "start_time": "2021-10-21T12:09:14.420Z"
   },
   {
    "duration": 43,
    "start_time": "2021-10-21T12:09:14.501Z"
   },
   {
    "duration": 962,
    "start_time": "2021-10-21T12:09:14.546Z"
   },
   {
    "duration": -140,
    "start_time": "2021-10-21T12:09:15.651Z"
   },
   {
    "duration": -139,
    "start_time": "2021-10-21T12:09:15.653Z"
   },
   {
    "duration": -211,
    "start_time": "2021-10-21T12:09:15.726Z"
   },
   {
    "duration": -219,
    "start_time": "2021-10-21T12:09:15.736Z"
   },
   {
    "duration": 1264,
    "start_time": "2021-10-21T12:13:59.147Z"
   },
   {
    "duration": 18,
    "start_time": "2021-10-21T12:14:04.599Z"
   },
   {
    "duration": 481,
    "start_time": "2021-10-21T12:14:21.491Z"
   },
   {
    "duration": 359,
    "start_time": "2021-10-21T12:14:33.376Z"
   },
   {
    "duration": 527,
    "start_time": "2021-10-21T12:15:08.543Z"
   },
   {
    "duration": 314,
    "start_time": "2021-10-21T12:15:15.536Z"
   },
   {
    "duration": 321,
    "start_time": "2021-10-21T12:16:18.518Z"
   },
   {
    "duration": 366,
    "start_time": "2021-10-21T12:17:57.774Z"
   },
   {
    "duration": 412,
    "start_time": "2021-10-21T12:18:04.074Z"
   },
   {
    "duration": 360,
    "start_time": "2021-10-21T12:19:32.366Z"
   },
   {
    "duration": 347,
    "start_time": "2021-10-21T12:19:47.588Z"
   },
   {
    "duration": 346,
    "start_time": "2021-10-21T12:19:57.763Z"
   },
   {
    "duration": 473,
    "start_time": "2021-10-21T12:20:03.740Z"
   },
   {
    "duration": 373,
    "start_time": "2021-10-21T12:20:44.792Z"
   },
   {
    "duration": 6,
    "start_time": "2021-10-21T12:22:03.457Z"
   },
   {
    "duration": 317,
    "start_time": "2021-10-21T12:23:34.572Z"
   },
   {
    "duration": 47,
    "start_time": "2021-10-21T12:23:42.061Z"
   },
   {
    "duration": 283,
    "start_time": "2021-10-21T12:23:45.808Z"
   },
   {
    "duration": 196,
    "start_time": "2021-10-21T12:24:30.205Z"
   },
   {
    "duration": 371,
    "start_time": "2021-10-21T12:24:31.160Z"
   },
   {
    "duration": 967,
    "start_time": "2021-10-21T12:26:00.885Z"
   },
   {
    "duration": 6,
    "start_time": "2021-10-21T12:26:02.681Z"
   },
   {
    "duration": 1091,
    "start_time": "2021-10-21T12:27:00.194Z"
   },
   {
    "duration": 6,
    "start_time": "2021-10-21T12:27:07.162Z"
   },
   {
    "duration": 319,
    "start_time": "2021-10-21T12:27:09.567Z"
   },
   {
    "duration": 919,
    "start_time": "2021-10-21T12:27:21.788Z"
   },
   {
    "duration": 7,
    "start_time": "2021-10-21T12:27:36.340Z"
   },
   {
    "duration": 955,
    "start_time": "2021-10-21T12:27:47.309Z"
   },
   {
    "duration": 924,
    "start_time": "2021-10-21T12:28:07.216Z"
   },
   {
    "duration": 135,
    "start_time": "2021-10-21T12:28:14.170Z"
   },
   {
    "duration": 37,
    "start_time": "2021-10-21T12:28:22.896Z"
   },
   {
    "duration": 38,
    "start_time": "2021-10-21T12:28:31.797Z"
   },
   {
    "duration": 929,
    "start_time": "2021-10-21T12:28:44.651Z"
   },
   {
    "duration": 1526,
    "start_time": "2021-10-21T12:29:12.745Z"
   },
   {
    "duration": 3,
    "start_time": "2021-10-21T12:29:14.274Z"
   },
   {
    "duration": 152,
    "start_time": "2021-10-21T12:29:14.280Z"
   },
   {
    "duration": 22,
    "start_time": "2021-10-21T12:29:14.434Z"
   },
   {
    "duration": 4,
    "start_time": "2021-10-21T12:29:14.459Z"
   },
   {
    "duration": 76,
    "start_time": "2021-10-21T12:29:14.466Z"
   },
   {
    "duration": 9,
    "start_time": "2021-10-21T12:29:14.545Z"
   },
   {
    "duration": 43,
    "start_time": "2021-10-21T12:29:14.559Z"
   },
   {
    "duration": 22,
    "start_time": "2021-10-21T12:29:14.605Z"
   },
   {
    "duration": 6,
    "start_time": "2021-10-21T12:29:14.630Z"
   },
   {
    "duration": 14,
    "start_time": "2021-10-21T12:29:14.639Z"
   },
   {
    "duration": 53,
    "start_time": "2021-10-21T12:29:14.656Z"
   },
   {
    "duration": 401,
    "start_time": "2021-10-21T12:29:14.711Z"
   },
   {
    "duration": 568,
    "start_time": "2021-10-21T12:29:15.116Z"
   },
   {
    "duration": 30,
    "start_time": "2021-10-21T12:29:15.687Z"
   },
   {
    "duration": 6,
    "start_time": "2021-10-21T12:29:15.719Z"
   },
   {
    "duration": 734,
    "start_time": "2021-10-21T12:29:15.727Z"
   },
   {
    "duration": 9,
    "start_time": "2021-10-21T12:29:16.463Z"
   },
   {
    "duration": 590,
    "start_time": "2021-10-21T12:29:16.475Z"
   },
   {
    "duration": 11,
    "start_time": "2021-10-21T12:29:17.067Z"
   },
   {
    "duration": 25,
    "start_time": "2021-10-21T12:29:17.081Z"
   },
   {
    "duration": 34,
    "start_time": "2021-10-21T12:29:17.108Z"
   },
   {
    "duration": 9,
    "start_time": "2021-10-21T12:29:17.149Z"
   },
   {
    "duration": 50,
    "start_time": "2021-10-21T12:29:17.164Z"
   },
   {
    "duration": 17,
    "start_time": "2021-10-21T12:29:17.217Z"
   },
   {
    "duration": 27,
    "start_time": "2021-10-21T12:29:17.237Z"
   },
   {
    "duration": 14,
    "start_time": "2021-10-21T12:29:17.267Z"
   },
   {
    "duration": 12,
    "start_time": "2021-10-21T12:29:17.284Z"
   },
   {
    "duration": 9,
    "start_time": "2021-10-21T12:29:17.298Z"
   },
   {
    "duration": 51,
    "start_time": "2021-10-21T12:29:17.309Z"
   },
   {
    "duration": 148,
    "start_time": "2021-10-21T12:29:17.364Z"
   },
   {
    "duration": 89,
    "start_time": "2021-10-21T12:29:17.515Z"
   },
   {
    "duration": 93,
    "start_time": "2021-10-21T12:29:17.608Z"
   },
   {
    "duration": 5,
    "start_time": "2021-10-21T12:29:17.704Z"
   },
   {
    "duration": 19,
    "start_time": "2021-10-21T12:29:17.712Z"
   },
   {
    "duration": 70,
    "start_time": "2021-10-21T12:29:17.734Z"
   },
   {
    "duration": 153,
    "start_time": "2021-10-21T12:29:17.807Z"
   },
   {
    "duration": 147,
    "start_time": "2021-10-21T12:29:17.963Z"
   },
   {
    "duration": 8,
    "start_time": "2021-10-21T12:29:18.113Z"
   },
   {
    "duration": 156,
    "start_time": "2021-10-21T12:29:18.123Z"
   },
   {
    "duration": 255,
    "start_time": "2021-10-21T12:29:18.281Z"
   },
   {
    "duration": 261,
    "start_time": "2021-10-21T12:29:18.539Z"
   },
   {
    "duration": 97,
    "start_time": "2021-10-21T12:29:18.804Z"
   },
   {
    "duration": 27,
    "start_time": "2021-10-21T12:29:18.904Z"
   },
   {
    "duration": 7,
    "start_time": "2021-10-21T12:29:18.934Z"
   },
   {
    "duration": 139,
    "start_time": "2021-10-21T12:29:18.943Z"
   },
   {
    "duration": 418,
    "start_time": "2021-10-21T12:29:19.085Z"
   },
   {
    "duration": 205,
    "start_time": "2021-10-21T12:29:19.506Z"
   },
   {
    "duration": 87,
    "start_time": "2021-10-21T12:29:19.715Z"
   },
   {
    "duration": 111,
    "start_time": "2021-10-21T12:29:19.805Z"
   },
   {
    "duration": 8,
    "start_time": "2021-10-21T12:29:19.918Z"
   },
   {
    "duration": 41,
    "start_time": "2021-10-21T12:29:19.928Z"
   },
   {
    "duration": 152,
    "start_time": "2021-10-21T12:29:19.972Z"
   },
   {
    "duration": 178,
    "start_time": "2021-10-21T12:29:20.127Z"
   },
   {
    "duration": 103,
    "start_time": "2021-10-21T12:29:20.309Z"
   },
   {
    "duration": 38,
    "start_time": "2021-10-21T12:29:20.414Z"
   },
   {
    "duration": 1048,
    "start_time": "2021-10-21T12:29:20.454Z"
   },
   {
    "duration": 204,
    "start_time": "2021-10-21T12:29:21.504Z"
   },
   {
    "duration": 14,
    "start_time": "2021-10-21T12:29:21.802Z"
   },
   {
    "duration": 8,
    "start_time": "2021-10-21T12:29:21.819Z"
   },
   {
    "duration": 114,
    "start_time": "2021-10-21T12:29:21.830Z"
   },
   {
    "duration": 298,
    "start_time": "2021-10-21T12:29:21.946Z"
   },
   {
    "duration": 55,
    "start_time": "2021-10-21T12:29:22.247Z"
   },
   {
    "duration": 1270,
    "start_time": "2021-10-21T12:29:22.304Z"
   },
   {
    "duration": 5,
    "start_time": "2021-10-21T12:29:23.577Z"
   },
   {
    "duration": 351,
    "start_time": "2021-10-21T12:29:23.584Z"
   },
   {
    "duration": 1184,
    "start_time": "2021-10-21T12:29:23.938Z"
   },
   {
    "duration": 383,
    "start_time": "2021-10-21T12:29:25.129Z"
   },
   {
    "duration": 187,
    "start_time": "2021-10-21T12:29:25.515Z"
   },
   {
    "duration": 605,
    "start_time": "2021-10-21T12:29:25.706Z"
   },
   {
    "duration": -176,
    "start_time": "2021-10-21T12:29:26.489Z"
   },
   {
    "duration": 354,
    "start_time": "2021-10-21T12:39:57.169Z"
   },
   {
    "duration": 1294,
    "start_time": "2021-10-21T12:40:06.476Z"
   },
   {
    "duration": 6,
    "start_time": "2021-10-21T12:40:14.329Z"
   },
   {
    "duration": 357,
    "start_time": "2021-10-21T12:40:17.219Z"
   },
   {
    "duration": 116,
    "start_time": "2021-10-21T12:41:01.324Z"
   },
   {
    "duration": 20,
    "start_time": "2021-10-21T12:41:08.739Z"
   },
   {
    "duration": 20,
    "start_time": "2021-10-21T12:41:18.001Z"
   },
   {
    "duration": 20,
    "start_time": "2021-10-21T12:41:29.546Z"
   },
   {
    "duration": 325,
    "start_time": "2021-10-21T12:41:36.367Z"
   },
   {
    "duration": 923,
    "start_time": "2021-10-21T12:41:43.904Z"
   },
   {
    "duration": 17,
    "start_time": "2021-10-21T12:46:22.917Z"
   },
   {
    "duration": 18,
    "start_time": "2021-10-21T12:46:27.694Z"
   },
   {
    "duration": 355,
    "start_time": "2021-10-21T12:47:13.868Z"
   },
   {
    "duration": 5,
    "start_time": "2021-10-21T12:47:26.186Z"
   },
   {
    "duration": 6,
    "start_time": "2021-10-21T12:47:43.572Z"
   },
   {
    "duration": 5,
    "start_time": "2021-10-21T12:48:39.119Z"
   },
   {
    "duration": 12,
    "start_time": "2021-10-21T12:49:01.541Z"
   },
   {
    "duration": 12,
    "start_time": "2021-10-21T12:50:59.895Z"
   },
   {
    "duration": 12,
    "start_time": "2021-10-21T12:51:06.439Z"
   },
   {
    "duration": 13,
    "start_time": "2021-10-21T12:51:22.969Z"
   },
   {
    "duration": 13,
    "start_time": "2021-10-21T12:51:34.715Z"
   },
   {
    "duration": 14,
    "start_time": "2021-10-21T12:51:50.587Z"
   },
   {
    "duration": 11,
    "start_time": "2021-10-21T12:51:55.292Z"
   },
   {
    "duration": 12,
    "start_time": "2021-10-21T12:52:03.168Z"
   },
   {
    "duration": 11,
    "start_time": "2021-10-21T12:52:18.536Z"
   },
   {
    "duration": 13,
    "start_time": "2021-10-21T12:52:20.906Z"
   },
   {
    "duration": 11,
    "start_time": "2021-10-21T12:52:31.130Z"
   },
   {
    "duration": 12,
    "start_time": "2021-10-21T12:52:35.432Z"
   },
   {
    "duration": 287,
    "start_time": "2021-10-21T12:54:42.862Z"
   },
   {
    "duration": 375,
    "start_time": "2021-10-21T12:54:53.539Z"
   },
   {
    "duration": 298,
    "start_time": "2021-10-21T12:54:56.564Z"
   },
   {
    "duration": 300,
    "start_time": "2021-10-21T12:55:03.387Z"
   },
   {
    "duration": 617,
    "start_time": "2021-10-21T12:55:22.031Z"
   },
   {
    "duration": 11,
    "start_time": "2021-10-21T13:15:35.516Z"
   },
   {
    "duration": 11,
    "start_time": "2021-10-21T13:15:39.694Z"
   },
   {
    "duration": 288,
    "start_time": "2021-10-21T13:15:48.969Z"
   },
   {
    "duration": 335,
    "start_time": "2021-10-21T13:16:01.870Z"
   },
   {
    "duration": 324,
    "start_time": "2021-10-21T13:17:16.999Z"
   },
   {
    "duration": 12,
    "start_time": "2021-10-21T13:17:40.288Z"
   },
   {
    "duration": 319,
    "start_time": "2021-10-21T13:17:43.271Z"
   },
   {
    "duration": 13,
    "start_time": "2021-10-21T13:18:01.718Z"
   },
   {
    "duration": 392,
    "start_time": "2021-10-21T13:18:13.967Z"
   },
   {
    "duration": 433,
    "start_time": "2021-10-21T13:18:21.388Z"
   },
   {
    "duration": 294,
    "start_time": "2021-10-21T13:19:09.583Z"
   },
   {
    "duration": 606,
    "start_time": "2021-10-21T13:19:33.664Z"
   },
   {
    "duration": 602,
    "start_time": "2021-10-21T13:19:44.942Z"
   },
   {
    "duration": 300,
    "start_time": "2021-10-21T13:19:57.556Z"
   },
   {
    "duration": 332,
    "start_time": "2021-10-21T13:21:46.985Z"
   },
   {
    "duration": 329,
    "start_time": "2021-10-21T13:21:56.634Z"
   },
   {
    "duration": 359,
    "start_time": "2021-10-21T13:22:05.475Z"
   },
   {
    "duration": 4,
    "start_time": "2021-10-21T14:08:32.501Z"
   },
   {
    "duration": 414,
    "start_time": "2021-10-21T14:08:55.239Z"
   },
   {
    "duration": 399,
    "start_time": "2021-10-21T14:09:01.237Z"
   },
   {
    "duration": 38,
    "start_time": "2021-10-21T14:09:07.259Z"
   },
   {
    "duration": 4,
    "start_time": "2021-10-21T14:09:09.983Z"
   },
   {
    "duration": 366,
    "start_time": "2021-10-21T14:09:10.734Z"
   },
   {
    "duration": 931,
    "start_time": "2021-10-21T14:09:19.710Z"
   },
   {
    "duration": 489,
    "start_time": "2021-10-21T14:09:27.289Z"
   },
   {
    "duration": 18,
    "start_time": "2021-10-21T14:16:25.911Z"
   },
   {
    "duration": 363,
    "start_time": "2021-10-21T14:18:22.976Z"
   },
   {
    "duration": 1215,
    "start_time": "2021-10-22T07:16:08.007Z"
   },
   {
    "duration": 3,
    "start_time": "2021-10-22T07:16:09.225Z"
   },
   {
    "duration": 6,
    "start_time": "2021-10-22T07:16:09.231Z"
   },
   {
    "duration": 109,
    "start_time": "2021-10-22T07:16:09.239Z"
   },
   {
    "duration": 14,
    "start_time": "2021-10-22T07:16:09.350Z"
   },
   {
    "duration": 4,
    "start_time": "2021-10-22T07:16:09.366Z"
   },
   {
    "duration": 40,
    "start_time": "2021-10-22T07:16:09.372Z"
   },
   {
    "duration": 6,
    "start_time": "2021-10-22T07:16:09.414Z"
   },
   {
    "duration": 13,
    "start_time": "2021-10-22T07:16:09.423Z"
   },
   {
    "duration": 13,
    "start_time": "2021-10-22T07:16:09.439Z"
   },
   {
    "duration": 25,
    "start_time": "2021-10-22T07:16:09.454Z"
   },
   {
    "duration": 8,
    "start_time": "2021-10-22T07:16:09.481Z"
   },
   {
    "duration": 7,
    "start_time": "2021-10-22T07:16:09.490Z"
   },
   {
    "duration": 258,
    "start_time": "2021-10-22T07:16:09.499Z"
   },
   {
    "duration": 318,
    "start_time": "2021-10-22T07:16:09.758Z"
   },
   {
    "duration": 13,
    "start_time": "2021-10-22T07:16:10.078Z"
   },
   {
    "duration": 4,
    "start_time": "2021-10-22T07:16:10.092Z"
   },
   {
    "duration": 428,
    "start_time": "2021-10-22T07:16:10.098Z"
   },
   {
    "duration": 6,
    "start_time": "2021-10-22T07:16:10.528Z"
   },
   {
    "duration": 440,
    "start_time": "2021-10-22T07:16:10.536Z"
   },
   {
    "duration": 10,
    "start_time": "2021-10-22T07:16:10.978Z"
   },
   {
    "duration": 8,
    "start_time": "2021-10-22T07:16:10.990Z"
   },
   {
    "duration": 12,
    "start_time": "2021-10-22T07:16:11.000Z"
   },
   {
    "duration": 3,
    "start_time": "2021-10-22T07:16:11.014Z"
   },
   {
    "duration": 58,
    "start_time": "2021-10-22T07:16:11.018Z"
   },
   {
    "duration": 7,
    "start_time": "2021-10-22T07:16:11.078Z"
   },
   {
    "duration": 7,
    "start_time": "2021-10-22T07:16:11.090Z"
   },
   {
    "duration": 6,
    "start_time": "2021-10-22T07:16:11.101Z"
   },
   {
    "duration": 5,
    "start_time": "2021-10-22T07:16:11.108Z"
   },
   {
    "duration": 5,
    "start_time": "2021-10-22T07:16:11.114Z"
   },
   {
    "duration": 70,
    "start_time": "2021-10-22T07:16:11.121Z"
   },
   {
    "duration": 89,
    "start_time": "2021-10-22T07:16:11.192Z"
   },
   {
    "duration": 98,
    "start_time": "2021-10-22T07:16:11.283Z"
   },
   {
    "duration": 93,
    "start_time": "2021-10-22T07:16:11.384Z"
   },
   {
    "duration": 5,
    "start_time": "2021-10-22T07:16:11.479Z"
   },
   {
    "duration": 10,
    "start_time": "2021-10-22T07:16:11.486Z"
   },
   {
    "duration": 32,
    "start_time": "2021-10-22T07:16:11.498Z"
   },
   {
    "duration": 105,
    "start_time": "2021-10-22T07:16:11.532Z"
   },
   {
    "duration": 38,
    "start_time": "2021-10-22T07:16:11.639Z"
   },
   {
    "duration": 99,
    "start_time": "2021-10-22T07:16:11.680Z"
   },
   {
    "duration": 110,
    "start_time": "2021-10-22T07:16:11.781Z"
   },
   {
    "duration": 159,
    "start_time": "2021-10-22T07:16:11.894Z"
   },
   {
    "duration": 128,
    "start_time": "2021-10-22T07:16:12.054Z"
   },
   {
    "duration": 96,
    "start_time": "2021-10-22T07:16:12.185Z"
   },
   {
    "duration": 104,
    "start_time": "2021-10-22T07:16:12.284Z"
   },
   {
    "duration": 6,
    "start_time": "2021-10-22T07:16:12.390Z"
   },
   {
    "duration": 93,
    "start_time": "2021-10-22T07:16:12.398Z"
   },
   {
    "duration": 272,
    "start_time": "2021-10-22T07:16:12.493Z"
   },
   {
    "duration": 116,
    "start_time": "2021-10-22T07:16:12.767Z"
   },
   {
    "duration": 92,
    "start_time": "2021-10-22T07:16:12.886Z"
   },
   {
    "duration": 105,
    "start_time": "2021-10-22T07:16:12.981Z"
   },
   {
    "duration": 5,
    "start_time": "2021-10-22T07:16:13.087Z"
   },
   {
    "duration": 42,
    "start_time": "2021-10-22T07:16:13.094Z"
   },
   {
    "duration": 96,
    "start_time": "2021-10-22T07:16:13.138Z"
   },
   {
    "duration": 47,
    "start_time": "2021-10-22T07:16:13.236Z"
   },
   {
    "duration": 193,
    "start_time": "2021-10-22T07:16:13.285Z"
   },
   {
    "duration": 2087,
    "start_time": "2021-10-22T07:16:13.479Z"
   },
   {
    "duration": 34,
    "start_time": "2021-10-22T07:16:15.568Z"
   },
   {
    "duration": 11,
    "start_time": "2021-10-22T07:16:15.604Z"
   },
   {
    "duration": 1268,
    "start_time": "2021-10-22T07:28:38.752Z"
   },
   {
    "duration": 3,
    "start_time": "2021-10-22T07:28:40.022Z"
   },
   {
    "duration": 5,
    "start_time": "2021-10-22T07:28:40.027Z"
   },
   {
    "duration": 124,
    "start_time": "2021-10-22T07:28:40.034Z"
   },
   {
    "duration": 15,
    "start_time": "2021-10-22T07:28:40.160Z"
   },
   {
    "duration": 3,
    "start_time": "2021-10-22T07:28:40.177Z"
   },
   {
    "duration": 38,
    "start_time": "2021-10-22T07:28:40.182Z"
   },
   {
    "duration": 8,
    "start_time": "2021-10-22T07:28:40.221Z"
   },
   {
    "duration": 14,
    "start_time": "2021-10-22T07:28:40.231Z"
   },
   {
    "duration": 43,
    "start_time": "2021-10-22T07:28:40.247Z"
   },
   {
    "duration": 5,
    "start_time": "2021-10-22T07:28:40.291Z"
   },
   {
    "duration": 8,
    "start_time": "2021-10-22T07:28:40.298Z"
   },
   {
    "duration": 8,
    "start_time": "2021-10-22T07:28:40.307Z"
   },
   {
    "duration": 262,
    "start_time": "2021-10-22T07:28:40.317Z"
   },
   {
    "duration": 324,
    "start_time": "2021-10-22T07:28:40.581Z"
   },
   {
    "duration": 14,
    "start_time": "2021-10-22T07:28:40.907Z"
   },
   {
    "duration": 4,
    "start_time": "2021-10-22T07:28:40.923Z"
   },
   {
    "duration": 431,
    "start_time": "2021-10-22T07:28:40.929Z"
   },
   {
    "duration": 14,
    "start_time": "2021-10-22T07:28:41.362Z"
   },
   {
    "duration": 332,
    "start_time": "2021-10-22T07:28:41.378Z"
   },
   {
    "duration": 9,
    "start_time": "2021-10-22T07:28:41.712Z"
   },
   {
    "duration": 5,
    "start_time": "2021-10-22T07:28:41.723Z"
   },
   {
    "duration": 11,
    "start_time": "2021-10-22T07:28:41.730Z"
   },
   {
    "duration": 3,
    "start_time": "2021-10-22T07:28:41.743Z"
   },
   {
    "duration": 48,
    "start_time": "2021-10-22T07:28:41.748Z"
   },
   {
    "duration": 6,
    "start_time": "2021-10-22T07:28:41.797Z"
   },
   {
    "duration": 5,
    "start_time": "2021-10-22T07:28:41.808Z"
   },
   {
    "duration": 5,
    "start_time": "2021-10-22T07:28:41.816Z"
   },
   {
    "duration": 4,
    "start_time": "2021-10-22T07:28:41.823Z"
   },
   {
    "duration": 7,
    "start_time": "2021-10-22T07:28:41.828Z"
   },
   {
    "duration": 65,
    "start_time": "2021-10-22T07:28:41.837Z"
   },
   {
    "duration": 92,
    "start_time": "2021-10-22T07:28:41.904Z"
   },
   {
    "duration": 80,
    "start_time": "2021-10-22T07:28:41.998Z"
   },
   {
    "duration": 3,
    "start_time": "2021-10-22T07:28:42.080Z"
   },
   {
    "duration": 101,
    "start_time": "2021-10-22T07:28:42.085Z"
   },
   {
    "duration": 14,
    "start_time": "2021-10-22T07:28:42.187Z"
   },
   {
    "duration": 33,
    "start_time": "2021-10-22T07:28:42.202Z"
   },
   {
    "duration": 99,
    "start_time": "2021-10-22T07:28:42.236Z"
   },
   {
    "duration": 43,
    "start_time": "2021-10-22T07:28:42.337Z"
   },
   {
    "duration": 8,
    "start_time": "2021-10-22T07:28:42.382Z"
   },
   {
    "duration": 63,
    "start_time": "2021-10-22T07:28:42.478Z"
   },
   {
    "duration": 203,
    "start_time": "2021-10-22T07:28:42.543Z"
   },
   {
    "duration": 136,
    "start_time": "2021-10-22T07:28:42.748Z"
   },
   {
    "duration": 91,
    "start_time": "2021-10-22T07:28:42.886Z"
   },
   {
    "duration": 102,
    "start_time": "2021-10-22T07:28:42.980Z"
   },
   {
    "duration": 5,
    "start_time": "2021-10-22T07:28:43.084Z"
   },
   {
    "duration": 89,
    "start_time": "2021-10-22T07:28:43.091Z"
   },
   {
    "duration": 318,
    "start_time": "2021-10-22T07:28:43.181Z"
   },
   {
    "duration": 183,
    "start_time": "2021-10-22T07:28:43.501Z"
   },
   {
    "duration": 91,
    "start_time": "2021-10-22T07:28:43.686Z"
   },
   {
    "duration": 98,
    "start_time": "2021-10-22T07:28:43.779Z"
   },
   {
    "duration": 6,
    "start_time": "2021-10-22T07:28:43.878Z"
   },
   {
    "duration": 32,
    "start_time": "2021-10-22T07:28:43.885Z"
   },
   {
    "duration": 115,
    "start_time": "2021-10-22T07:28:43.919Z"
   },
   {
    "duration": 145,
    "start_time": "2021-10-22T07:28:44.036Z"
   },
   {
    "duration": 104,
    "start_time": "2021-10-22T07:28:44.183Z"
   },
   {
    "duration": 2098,
    "start_time": "2021-10-22T07:28:44.378Z"
   },
   {
    "duration": 27,
    "start_time": "2021-10-22T07:28:46.478Z"
   },
   {
    "duration": 9,
    "start_time": "2021-10-22T07:28:46.507Z"
   },
   {
    "duration": 29723,
    "start_time": "2021-10-22T07:28:46.518Z"
   },
   {
    "duration": 790,
    "start_time": "2021-10-22T07:29:16.243Z"
   },
   {
    "duration": 10,
    "start_time": "2021-10-22T07:29:17.034Z"
   },
   {
    "duration": 330,
    "start_time": "2021-10-22T07:29:17.046Z"
   },
   {
    "duration": 853,
    "start_time": "2021-10-22T07:29:17.378Z"
   },
   {
    "duration": 57,
    "start_time": "2021-10-22T07:29:18.233Z"
   },
   {
    "duration": 90,
    "start_time": "2021-10-22T07:29:18.292Z"
   },
   {
    "duration": 94,
    "start_time": "2021-10-22T07:29:18.385Z"
   },
   {
    "duration": 11,
    "start_time": "2021-10-22T07:29:18.481Z"
   },
   {
    "duration": 57,
    "start_time": "2021-10-22T07:29:18.493Z"
   },
   {
    "duration": 10,
    "start_time": "2021-10-22T07:29:18.552Z"
   },
   {
    "duration": 13,
    "start_time": "2021-10-22T07:29:18.564Z"
   },
   {
    "duration": 31,
    "start_time": "2021-10-22T07:29:18.579Z"
   },
   {
    "duration": 226,
    "start_time": "2021-10-22T07:29:18.612Z"
   },
   {
    "duration": 341,
    "start_time": "2021-10-22T07:29:18.840Z"
   },
   {
    "duration": 28,
    "start_time": "2021-10-22T07:29:19.183Z"
   },
   {
    "duration": 968,
    "start_time": "2021-10-22T07:29:19.213Z"
   },
   {
    "duration": 10,
    "start_time": "2021-10-22T07:29:20.182Z"
   },
   {
    "duration": 186,
    "start_time": "2021-10-22T07:29:20.194Z"
   },
   {
    "duration": 11,
    "start_time": "2021-10-22T07:29:20.382Z"
   },
   {
    "duration": 15,
    "start_time": "2021-10-22T07:29:20.394Z"
   },
   {
    "duration": 18,
    "start_time": "2021-10-22T07:29:20.414Z"
   },
   {
    "duration": 21,
    "start_time": "2021-10-22T07:29:20.434Z"
   },
   {
    "duration": 241,
    "start_time": "2021-10-22T07:29:20.457Z"
   },
   {
    "duration": 179,
    "start_time": "2021-10-22T07:29:20.700Z"
   },
   {
    "duration": 771,
    "start_time": "2021-10-22T07:29:20.880Z"
   },
   {
    "duration": 182,
    "start_time": "2021-10-22T07:29:21.653Z"
   },
   {
    "duration": 55,
    "start_time": "2021-10-22T07:29:21.837Z"
   },
   {
    "duration": 89,
    "start_time": "2021-10-22T07:29:21.894Z"
   },
   {
    "duration": 120,
    "start_time": "2021-10-22T07:29:21.985Z"
   },
   {
    "duration": 1471,
    "start_time": "2021-10-22T09:08:06.335Z"
   },
   {
    "duration": 3,
    "start_time": "2021-10-22T09:08:07.809Z"
   },
   {
    "duration": 9,
    "start_time": "2021-10-22T09:08:07.815Z"
   },
   {
    "duration": 111,
    "start_time": "2021-10-22T09:08:07.826Z"
   },
   {
    "duration": 20,
    "start_time": "2021-10-22T09:08:07.939Z"
   },
   {
    "duration": 8,
    "start_time": "2021-10-22T09:08:07.963Z"
   },
   {
    "duration": 54,
    "start_time": "2021-10-22T09:08:08.021Z"
   },
   {
    "duration": 10,
    "start_time": "2021-10-22T09:08:08.334Z"
   },
   {
    "duration": 20,
    "start_time": "2021-10-22T09:08:08.475Z"
   },
   {
    "duration": 19,
    "start_time": "2021-10-22T09:08:08.790Z"
   },
   {
    "duration": 6,
    "start_time": "2021-10-22T09:08:09.051Z"
   },
   {
    "duration": 8,
    "start_time": "2021-10-22T09:08:09.343Z"
   },
   {
    "duration": 15,
    "start_time": "2021-10-22T09:08:09.491Z"
   },
   {
    "duration": 370,
    "start_time": "2021-10-22T09:08:09.656Z"
   },
   {
    "duration": 528,
    "start_time": "2021-10-22T09:08:10.029Z"
   },
   {
    "duration": 32,
    "start_time": "2021-10-22T09:08:10.560Z"
   },
   {
    "duration": 6,
    "start_time": "2021-10-22T09:08:10.595Z"
   },
   {
    "duration": 709,
    "start_time": "2021-10-22T09:08:10.603Z"
   },
   {
    "duration": 8,
    "start_time": "2021-10-22T09:08:11.314Z"
   },
   {
    "duration": 570,
    "start_time": "2021-10-22T09:08:11.324Z"
   },
   {
    "duration": 12,
    "start_time": "2021-10-22T09:08:12.760Z"
   },
   {
    "duration": 8,
    "start_time": "2021-10-22T09:08:13.129Z"
   },
   {
    "duration": 15,
    "start_time": "2021-10-22T09:08:14.167Z"
   },
   {
    "duration": 3,
    "start_time": "2021-10-22T09:08:14.395Z"
   },
   {
    "duration": 32,
    "start_time": "2021-10-22T09:08:15.620Z"
   },
   {
    "duration": 7,
    "start_time": "2021-10-22T09:08:17.720Z"
   },
   {
    "duration": 8,
    "start_time": "2021-10-22T09:08:17.893Z"
   },
   {
    "duration": 8,
    "start_time": "2021-10-22T09:08:18.068Z"
   },
   {
    "duration": 4,
    "start_time": "2021-10-22T09:08:18.240Z"
   },
   {
    "duration": 4,
    "start_time": "2021-10-22T09:08:18.392Z"
   },
   {
    "duration": 47,
    "start_time": "2021-10-22T09:08:18.896Z"
   },
   {
    "duration": 116,
    "start_time": "2021-10-22T09:08:19.077Z"
   },
   {
    "duration": 120,
    "start_time": "2021-10-22T09:08:19.268Z"
   },
   {
    "duration": 4,
    "start_time": "2021-10-22T09:08:19.946Z"
   },
   {
    "duration": 3,
    "start_time": "2021-10-22T09:08:20.664Z"
   },
   {
    "duration": 12,
    "start_time": "2021-10-22T09:08:20.854Z"
   },
   {
    "duration": 44,
    "start_time": "2021-10-22T09:08:22.817Z"
   },
   {
    "duration": 120,
    "start_time": "2021-10-22T09:08:22.979Z"
   },
   {
    "duration": 44,
    "start_time": "2021-10-22T09:08:23.142Z"
   },
   {
    "duration": 8,
    "start_time": "2021-10-22T09:08:24.367Z"
   },
   {
    "duration": 82,
    "start_time": "2021-10-22T09:08:25.141Z"
   },
   {
    "duration": 215,
    "start_time": "2021-10-22T09:08:25.549Z"
   },
   {
    "duration": 272,
    "start_time": "2021-10-22T09:08:29.112Z"
   },
   {
    "duration": 1874,
    "start_time": "2021-10-22T09:53:54.649Z"
   },
   {
    "duration": 371,
    "start_time": "2021-10-22T09:54:29.968Z"
   },
   {
    "duration": 1559,
    "start_time": "2021-10-22T09:54:54.470Z"
   },
   {
    "duration": 3,
    "start_time": "2021-10-22T09:54:56.031Z"
   },
   {
    "duration": 21,
    "start_time": "2021-10-22T09:54:56.036Z"
   },
   {
    "duration": 152,
    "start_time": "2021-10-22T09:54:56.059Z"
   },
   {
    "duration": 15,
    "start_time": "2021-10-22T09:54:56.213Z"
   },
   {
    "duration": 18,
    "start_time": "2021-10-22T09:54:56.230Z"
   },
   {
    "duration": 88,
    "start_time": "2021-10-22T09:54:56.250Z"
   },
   {
    "duration": 8,
    "start_time": "2021-10-22T09:54:56.342Z"
   },
   {
    "duration": 30,
    "start_time": "2021-10-22T09:54:56.353Z"
   },
   {
    "duration": 39,
    "start_time": "2021-10-22T09:54:56.385Z"
   },
   {
    "duration": 15,
    "start_time": "2021-10-22T09:54:56.426Z"
   },
   {
    "duration": 14,
    "start_time": "2021-10-22T09:54:56.443Z"
   },
   {
    "duration": 21,
    "start_time": "2021-10-22T09:54:56.459Z"
   },
   {
    "duration": 242,
    "start_time": "2021-10-22T09:54:56.482Z"
   },
   {
    "duration": 325,
    "start_time": "2021-10-22T09:54:56.726Z"
   },
   {
    "duration": 21,
    "start_time": "2021-10-22T09:54:57.052Z"
   },
   {
    "duration": 29,
    "start_time": "2021-10-22T09:54:57.075Z"
   },
   {
    "duration": 438,
    "start_time": "2021-10-22T09:54:57.106Z"
   },
   {
    "duration": 7,
    "start_time": "2021-10-22T09:54:57.546Z"
   },
   {
    "duration": 397,
    "start_time": "2021-10-22T09:54:57.554Z"
   },
   {
    "duration": 13,
    "start_time": "2021-10-22T09:54:57.953Z"
   },
   {
    "duration": 37,
    "start_time": "2021-10-22T09:54:57.968Z"
   },
   {
    "duration": 38,
    "start_time": "2021-10-22T09:54:58.009Z"
   },
   {
    "duration": 38,
    "start_time": "2021-10-22T09:54:58.050Z"
   },
   {
    "duration": 46,
    "start_time": "2021-10-22T09:54:58.090Z"
   },
   {
    "duration": 31,
    "start_time": "2021-10-22T09:54:58.138Z"
   },
   {
    "duration": 29,
    "start_time": "2021-10-22T09:54:58.171Z"
   },
   {
    "duration": 66,
    "start_time": "2021-10-22T09:54:58.202Z"
   },
   {
    "duration": 61,
    "start_time": "2021-10-22T09:54:58.270Z"
   },
   {
    "duration": 25,
    "start_time": "2021-10-22T09:54:58.333Z"
   },
   {
    "duration": 79,
    "start_time": "2021-10-22T09:54:58.360Z"
   },
   {
    "duration": 94,
    "start_time": "2021-10-22T09:54:58.442Z"
   },
   {
    "duration": 43,
    "start_time": "2021-10-22T09:54:58.538Z"
   },
   {
    "duration": 4,
    "start_time": "2021-10-22T09:54:58.665Z"
   },
   {
    "duration": 92,
    "start_time": "2021-10-22T09:54:58.673Z"
   },
   {
    "duration": 42,
    "start_time": "2021-10-22T09:54:58.767Z"
   },
   {
    "duration": 45,
    "start_time": "2021-10-22T09:54:58.811Z"
   },
   {
    "duration": 87,
    "start_time": "2021-10-22T09:54:58.858Z"
   },
   {
    "duration": 28,
    "start_time": "2021-10-22T09:54:58.947Z"
   },
   {
    "duration": 101,
    "start_time": "2021-10-22T09:54:59.064Z"
   },
   {
    "duration": 75,
    "start_time": "2021-10-22T09:54:59.167Z"
   },
   {
    "duration": 176,
    "start_time": "2021-10-22T09:54:59.244Z"
   },
   {
    "duration": 242,
    "start_time": "2021-10-22T09:54:59.422Z"
   },
   {
    "duration": 97,
    "start_time": "2021-10-22T09:54:59.666Z"
   },
   {
    "duration": 17,
    "start_time": "2021-10-22T09:54:59.766Z"
   },
   {
    "duration": 31,
    "start_time": "2021-10-22T09:54:59.785Z"
   },
   {
    "duration": 84,
    "start_time": "2021-10-22T09:54:59.818Z"
   },
   {
    "duration": 240,
    "start_time": "2021-10-22T09:54:59.904Z"
   },
   {
    "duration": 224,
    "start_time": "2021-10-22T09:55:00.146Z"
   },
   {
    "duration": 94,
    "start_time": "2021-10-22T09:55:00.373Z"
   },
   {
    "duration": 41,
    "start_time": "2021-10-22T09:55:00.469Z"
   },
   {
    "duration": 14,
    "start_time": "2021-10-22T09:55:00.512Z"
   },
   {
    "duration": 59,
    "start_time": "2021-10-22T09:55:00.528Z"
   },
   {
    "duration": 108,
    "start_time": "2021-10-22T09:55:00.590Z"
   },
   {
    "duration": 70,
    "start_time": "2021-10-22T09:55:00.701Z"
   },
   {
    "duration": 106,
    "start_time": "2021-10-22T09:55:00.863Z"
   },
   {
    "duration": 2233,
    "start_time": "2021-10-22T09:55:00.972Z"
   },
   {
    "duration": 30,
    "start_time": "2021-10-22T09:55:03.208Z"
   },
   {
    "duration": 29,
    "start_time": "2021-10-22T09:55:03.240Z"
   },
   {
    "duration": 733,
    "start_time": "2021-10-22T09:55:03.271Z"
   },
   {
    "duration": 10,
    "start_time": "2021-10-22T09:55:04.006Z"
   },
   {
    "duration": 365,
    "start_time": "2021-10-22T09:55:04.018Z"
   },
   {
    "duration": 914,
    "start_time": "2021-10-22T09:55:04.386Z"
   },
   {
    "duration": 161,
    "start_time": "2021-10-22T09:55:05.303Z"
   },
   {
    "duration": 103,
    "start_time": "2021-10-22T09:55:05.467Z"
   },
   {
    "duration": 8,
    "start_time": "2021-10-22T09:55:05.571Z"
   },
   {
    "duration": 6,
    "start_time": "2021-10-22T09:55:05.581Z"
   },
   {
    "duration": 69,
    "start_time": "2021-10-22T09:55:05.594Z"
   },
   {
    "duration": 10,
    "start_time": "2021-10-22T09:55:05.666Z"
   },
   {
    "duration": 5,
    "start_time": "2021-10-22T09:55:05.679Z"
   },
   {
    "duration": 13,
    "start_time": "2021-10-22T09:55:05.686Z"
   },
   {
    "duration": 251,
    "start_time": "2021-10-22T09:55:05.701Z"
   },
   {
    "duration": 271,
    "start_time": "2021-10-22T09:55:05.954Z"
   },
   {
    "duration": 40,
    "start_time": "2021-10-22T09:55:06.227Z"
   },
   {
    "duration": 868,
    "start_time": "2021-10-22T09:55:06.268Z"
   },
   {
    "duration": 10,
    "start_time": "2021-10-22T09:55:07.138Z"
   },
   {
    "duration": 202,
    "start_time": "2021-10-22T09:55:07.150Z"
   },
   {
    "duration": 19,
    "start_time": "2021-10-22T09:55:07.354Z"
   },
   {
    "duration": 4,
    "start_time": "2021-10-22T09:55:07.375Z"
   },
   {
    "duration": 8,
    "start_time": "2021-10-22T09:55:07.381Z"
   },
   {
    "duration": 13,
    "start_time": "2021-10-22T09:55:07.391Z"
   },
   {
    "duration": 254,
    "start_time": "2021-10-22T09:55:07.405Z"
   },
   {
    "duration": 187,
    "start_time": "2021-10-22T09:55:07.663Z"
   },
   {
    "duration": 841,
    "start_time": "2021-10-22T09:55:07.851Z"
   },
   {
    "duration": 198,
    "start_time": "2021-10-22T09:55:08.693Z"
   },
   {
    "duration": 169,
    "start_time": "2021-10-22T09:55:08.893Z"
   },
   {
    "duration": 97,
    "start_time": "2021-10-22T09:55:09.066Z"
   },
   {
    "duration": 541,
    "start_time": "2021-10-22T09:55:09.166Z"
   },
   {
    "duration": -96,
    "start_time": "2021-10-22T09:55:09.805Z"
   },
   {
    "duration": 1308,
    "start_time": "2021-10-22T09:56:17.034Z"
   },
   {
    "duration": 31,
    "start_time": "2021-10-22T09:56:41.789Z"
   },
   {
    "duration": 241,
    "start_time": "2021-10-22T09:56:48.608Z"
   },
   {
    "duration": 1316,
    "start_time": "2022-08-17T09:36:25.660Z"
   },
   {
    "duration": 3,
    "start_time": "2022-08-17T09:36:26.980Z"
   },
   {
    "duration": 26,
    "start_time": "2022-08-17T09:36:26.984Z"
   },
   {
    "duration": 74,
    "start_time": "2022-08-17T09:36:27.013Z"
   },
   {
    "duration": 15,
    "start_time": "2022-08-17T09:36:27.089Z"
   },
   {
    "duration": 10,
    "start_time": "2022-08-17T09:36:27.106Z"
   },
   {
    "duration": 43,
    "start_time": "2022-08-17T09:36:27.118Z"
   },
   {
    "duration": 7,
    "start_time": "2022-08-17T09:36:27.163Z"
   },
   {
    "duration": 17,
    "start_time": "2022-08-17T09:36:27.171Z"
   },
   {
    "duration": 24,
    "start_time": "2022-08-17T09:36:27.191Z"
   },
   {
    "duration": 4,
    "start_time": "2022-08-17T09:36:27.217Z"
   },
   {
    "duration": 7,
    "start_time": "2022-08-17T09:36:27.223Z"
   },
   {
    "duration": 7,
    "start_time": "2022-08-17T09:36:27.231Z"
   },
   {
    "duration": 180,
    "start_time": "2022-08-17T09:36:27.240Z"
   },
   {
    "duration": 270,
    "start_time": "2022-08-17T09:36:27.423Z"
   },
   {
    "duration": 14,
    "start_time": "2022-08-17T09:36:27.700Z"
   },
   {
    "duration": 5,
    "start_time": "2022-08-17T09:36:27.715Z"
   },
   {
    "duration": 305,
    "start_time": "2022-08-17T09:36:27.721Z"
   },
   {
    "duration": 6,
    "start_time": "2022-08-17T09:36:28.027Z"
   },
   {
    "duration": 276,
    "start_time": "2022-08-17T09:36:28.035Z"
   },
   {
    "duration": 12,
    "start_time": "2022-08-17T09:36:28.312Z"
   },
   {
    "duration": 6,
    "start_time": "2022-08-17T09:36:28.326Z"
   },
   {
    "duration": 16,
    "start_time": "2022-08-17T09:36:28.334Z"
   },
   {
    "duration": 2,
    "start_time": "2022-08-17T09:36:28.352Z"
   },
   {
    "duration": 20,
    "start_time": "2022-08-17T09:36:28.355Z"
   },
   {
    "duration": 28,
    "start_time": "2022-08-17T09:36:28.376Z"
   },
   {
    "duration": 8,
    "start_time": "2022-08-17T09:36:28.406Z"
   },
   {
    "duration": 4,
    "start_time": "2022-08-17T09:36:28.418Z"
   },
   {
    "duration": 5,
    "start_time": "2022-08-17T09:36:28.424Z"
   },
   {
    "duration": 6,
    "start_time": "2022-08-17T09:36:28.430Z"
   },
   {
    "duration": 34,
    "start_time": "2022-08-17T09:36:28.437Z"
   },
   {
    "duration": 95,
    "start_time": "2022-08-17T09:36:28.473Z"
   },
   {
    "duration": 131,
    "start_time": "2022-08-17T09:36:28.571Z"
   },
   {
    "duration": 4,
    "start_time": "2022-08-17T09:36:28.704Z"
   },
   {
    "duration": 102,
    "start_time": "2022-08-17T09:36:28.710Z"
   },
   {
    "duration": 18,
    "start_time": "2022-08-17T09:36:28.813Z"
   },
   {
    "duration": 29,
    "start_time": "2022-08-17T09:36:28.832Z"
   },
   {
    "duration": 83,
    "start_time": "2022-08-17T09:36:28.863Z"
   },
   {
    "duration": 55,
    "start_time": "2022-08-17T09:36:28.948Z"
   },
   {
    "duration": 7,
    "start_time": "2022-08-17T09:36:29.005Z"
   },
   {
    "duration": 64,
    "start_time": "2022-08-17T09:36:29.100Z"
   },
   {
    "duration": 153,
    "start_time": "2022-08-17T09:36:29.166Z"
   },
   {
    "duration": 85,
    "start_time": "2022-08-17T09:36:29.322Z"
   },
   {
    "duration": 91,
    "start_time": "2022-08-17T09:36:29.410Z"
   },
   {
    "duration": 106,
    "start_time": "2022-08-17T09:36:29.502Z"
   },
   {
    "duration": 6,
    "start_time": "2022-08-17T09:36:29.609Z"
   },
   {
    "duration": 70,
    "start_time": "2022-08-17T09:36:29.616Z"
   },
   {
    "duration": 224,
    "start_time": "2022-08-17T09:36:29.687Z"
   },
   {
    "duration": 93,
    "start_time": "2022-08-17T09:36:29.913Z"
   },
   {
    "duration": 7,
    "start_time": "2022-08-17T09:36:30.008Z"
   },
   {
    "duration": 116,
    "start_time": "2022-08-17T09:36:30.104Z"
   },
   {
    "duration": 6,
    "start_time": "2022-08-17T09:36:30.221Z"
   },
   {
    "duration": 32,
    "start_time": "2022-08-17T09:36:30.229Z"
   },
   {
    "duration": 80,
    "start_time": "2022-08-17T09:36:30.263Z"
   },
   {
    "duration": 59,
    "start_time": "2022-08-17T09:36:30.344Z"
   },
   {
    "duration": 101,
    "start_time": "2022-08-17T09:36:30.405Z"
   },
   {
    "duration": 1858,
    "start_time": "2022-08-17T09:36:30.507Z"
   },
   {
    "duration": 33,
    "start_time": "2022-08-17T09:36:32.367Z"
   },
   {
    "duration": 10,
    "start_time": "2022-08-17T09:36:32.402Z"
   },
   {
    "duration": 664,
    "start_time": "2022-08-17T09:36:32.413Z"
   },
   {
    "duration": 10,
    "start_time": "2022-08-17T09:36:33.078Z"
   },
   {
    "duration": 339,
    "start_time": "2022-08-17T09:36:33.089Z"
   },
   {
    "duration": 800,
    "start_time": "2022-08-17T09:36:33.430Z"
   },
   {
    "duration": 74,
    "start_time": "2022-08-17T09:36:34.232Z"
   },
   {
    "duration": 93,
    "start_time": "2022-08-17T09:36:34.307Z"
   },
   {
    "duration": 102,
    "start_time": "2022-08-17T09:36:34.402Z"
   },
   {
    "duration": 5,
    "start_time": "2022-08-17T09:36:34.506Z"
   },
   {
    "duration": 42,
    "start_time": "2022-08-17T09:36:34.513Z"
   },
   {
    "duration": 19,
    "start_time": "2022-08-17T09:36:34.557Z"
   },
   {
    "duration": 22,
    "start_time": "2022-08-17T09:36:34.577Z"
   },
   {
    "duration": 27,
    "start_time": "2022-08-17T09:36:34.601Z"
   },
   {
    "duration": 193,
    "start_time": "2022-08-17T09:36:34.630Z"
   },
   {
    "duration": 208,
    "start_time": "2022-08-17T09:36:34.825Z"
   },
   {
    "duration": 26,
    "start_time": "2022-08-17T09:36:35.035Z"
   },
   {
    "duration": 772,
    "start_time": "2022-08-17T09:36:35.062Z"
   },
   {
    "duration": 11,
    "start_time": "2022-08-17T09:36:35.836Z"
   },
   {
    "duration": 127,
    "start_time": "2022-08-17T09:36:35.849Z"
   },
   {
    "duration": 12,
    "start_time": "2022-08-17T09:36:35.978Z"
   },
   {
    "duration": 14,
    "start_time": "2022-08-17T09:36:35.992Z"
   },
   {
    "duration": 44,
    "start_time": "2022-08-17T09:36:36.007Z"
   },
   {
    "duration": 35,
    "start_time": "2022-08-17T09:36:36.053Z"
   },
   {
    "duration": 188,
    "start_time": "2022-08-17T09:36:36.093Z"
   },
   {
    "duration": 128,
    "start_time": "2022-08-17T09:36:36.282Z"
   },
   {
    "duration": 728,
    "start_time": "2022-08-17T09:36:36.411Z"
   },
   {
    "duration": 125,
    "start_time": "2022-08-17T09:36:37.140Z"
   },
   {
    "duration": 69,
    "start_time": "2022-08-17T09:36:37.267Z"
   },
   {
    "duration": 71,
    "start_time": "2022-08-17T09:36:37.338Z"
   },
   {
    "duration": 254,
    "start_time": "2022-08-17T09:36:37.411Z"
   },
   {
    "duration": 0,
    "start_time": "2022-08-17T09:36:37.666Z"
   },
   {
    "duration": 5,
    "start_time": "2022-08-17T09:37:01.765Z"
   },
   {
    "duration": 272,
    "start_time": "2022-08-17T09:41:02.249Z"
   },
   {
    "duration": 232,
    "start_time": "2022-08-17T09:42:12.806Z"
   },
   {
    "duration": 10,
    "start_time": "2022-08-17T09:42:22.769Z"
   },
   {
    "duration": 12,
    "start_time": "2022-08-17T09:42:23.009Z"
   },
   {
    "duration": 244,
    "start_time": "2022-08-17T09:42:25.049Z"
   },
   {
    "duration": 16,
    "start_time": "2022-08-17T09:47:54.899Z"
   },
   {
    "duration": 100,
    "start_time": "2022-08-17T09:48:06.107Z"
   },
   {
    "duration": 12,
    "start_time": "2022-08-17T09:48:08.027Z"
   },
   {
    "duration": 21,
    "start_time": "2022-08-17T09:48:09.140Z"
   },
   {
    "duration": 6,
    "start_time": "2022-08-17T09:48:41.612Z"
   },
   {
    "duration": 222,
    "start_time": "2022-08-17T09:50:35.851Z"
   },
   {
    "duration": 1453,
    "start_time": "2022-08-17T09:50:43.499Z"
   },
   {
    "duration": 3,
    "start_time": "2022-08-17T09:50:44.954Z"
   },
   {
    "duration": 7,
    "start_time": "2022-08-17T09:50:44.958Z"
   },
   {
    "duration": 163,
    "start_time": "2022-08-17T09:50:44.966Z"
   },
   {
    "duration": 16,
    "start_time": "2022-08-17T09:50:45.132Z"
   },
   {
    "duration": 3,
    "start_time": "2022-08-17T09:50:45.150Z"
   },
   {
    "duration": 46,
    "start_time": "2022-08-17T09:50:45.155Z"
   },
   {
    "duration": 7,
    "start_time": "2022-08-17T09:50:45.203Z"
   },
   {
    "duration": 16,
    "start_time": "2022-08-17T09:50:45.211Z"
   },
   {
    "duration": 17,
    "start_time": "2022-08-17T09:50:45.228Z"
   },
   {
    "duration": 5,
    "start_time": "2022-08-17T09:50:45.246Z"
   },
   {
    "duration": 7,
    "start_time": "2022-08-17T09:50:45.252Z"
   },
   {
    "duration": 9,
    "start_time": "2022-08-17T09:50:45.261Z"
   },
   {
    "duration": 155,
    "start_time": "2022-08-17T09:50:45.300Z"
   },
   {
    "duration": 247,
    "start_time": "2022-08-17T09:50:45.457Z"
   },
   {
    "duration": 14,
    "start_time": "2022-08-17T09:50:45.705Z"
   },
   {
    "duration": 4,
    "start_time": "2022-08-17T09:50:45.720Z"
   },
   {
    "duration": 313,
    "start_time": "2022-08-17T09:50:45.726Z"
   },
   {
    "duration": 6,
    "start_time": "2022-08-17T09:50:46.041Z"
   },
   {
    "duration": 258,
    "start_time": "2022-08-17T09:50:46.048Z"
   },
   {
    "duration": 12,
    "start_time": "2022-08-17T09:50:46.307Z"
   },
   {
    "duration": 5,
    "start_time": "2022-08-17T09:50:46.321Z"
   },
   {
    "duration": 12,
    "start_time": "2022-08-17T09:50:46.327Z"
   },
   {
    "duration": 2,
    "start_time": "2022-08-17T09:50:46.341Z"
   },
   {
    "duration": 17,
    "start_time": "2022-08-17T09:50:46.344Z"
   },
   {
    "duration": 37,
    "start_time": "2022-08-17T09:50:46.363Z"
   },
   {
    "duration": 85,
    "start_time": "2022-08-17T09:50:46.402Z"
   },
   {
    "duration": 11,
    "start_time": "2022-08-17T09:50:46.489Z"
   },
   {
    "duration": 3,
    "start_time": "2022-08-17T09:50:46.501Z"
   },
   {
    "duration": 5,
    "start_time": "2022-08-17T09:50:46.505Z"
   },
   {
    "duration": 35,
    "start_time": "2022-08-17T09:50:46.511Z"
   },
   {
    "duration": 89,
    "start_time": "2022-08-17T09:50:46.548Z"
   },
   {
    "duration": 64,
    "start_time": "2022-08-17T09:50:46.638Z"
   },
   {
    "duration": 3,
    "start_time": "2022-08-17T09:50:46.704Z"
   },
   {
    "duration": 95,
    "start_time": "2022-08-17T09:50:46.709Z"
   },
   {
    "duration": 17,
    "start_time": "2022-08-17T09:50:46.806Z"
   },
   {
    "duration": 29,
    "start_time": "2022-08-17T09:50:46.825Z"
   },
   {
    "duration": 93,
    "start_time": "2022-08-17T09:50:46.856Z"
   },
   {
    "duration": 50,
    "start_time": "2022-08-17T09:50:46.951Z"
   },
   {
    "duration": 7,
    "start_time": "2022-08-17T09:50:47.003Z"
   },
   {
    "duration": 145,
    "start_time": "2022-08-17T09:50:47.015Z"
   },
   {
    "duration": 169,
    "start_time": "2022-08-17T09:50:47.161Z"
   },
   {
    "duration": 74,
    "start_time": "2022-08-17T09:50:47.332Z"
   },
   {
    "duration": 6,
    "start_time": "2022-08-17T09:50:47.409Z"
   },
   {
    "duration": 183,
    "start_time": "2022-08-17T09:50:47.417Z"
   },
   {
    "duration": 11,
    "start_time": "2022-08-17T09:50:47.603Z"
   },
   {
    "duration": 71,
    "start_time": "2022-08-17T09:50:47.616Z"
   },
   {
    "duration": 205,
    "start_time": "2022-08-17T09:50:47.688Z"
   },
   {
    "duration": 207,
    "start_time": "2022-08-17T09:50:47.894Z"
   },
   {
    "duration": 5,
    "start_time": "2022-08-17T09:50:48.103Z"
   },
   {
    "duration": 105,
    "start_time": "2022-08-17T09:50:48.109Z"
   },
   {
    "duration": 5,
    "start_time": "2022-08-17T09:50:48.215Z"
   },
   {
    "duration": 33,
    "start_time": "2022-08-17T09:50:48.222Z"
   },
   {
    "duration": 97,
    "start_time": "2022-08-17T09:50:48.257Z"
   },
   {
    "duration": 47,
    "start_time": "2022-08-17T09:50:48.356Z"
   },
   {
    "duration": 192,
    "start_time": "2022-08-17T09:50:48.408Z"
   },
   {
    "duration": 1767,
    "start_time": "2022-08-17T09:50:48.602Z"
   },
   {
    "duration": 32,
    "start_time": "2022-08-17T09:50:50.371Z"
   },
   {
    "duration": 11,
    "start_time": "2022-08-17T09:50:50.405Z"
   },
   {
    "duration": 629,
    "start_time": "2022-08-17T09:50:50.417Z"
   },
   {
    "duration": 8,
    "start_time": "2022-08-17T09:50:51.047Z"
   },
   {
    "duration": 278,
    "start_time": "2022-08-17T09:50:51.057Z"
   },
   {
    "duration": 804,
    "start_time": "2022-08-17T09:50:51.337Z"
   },
   {
    "duration": 166,
    "start_time": "2022-08-17T09:50:52.143Z"
   },
   {
    "duration": 92,
    "start_time": "2022-08-17T09:50:52.311Z"
   },
   {
    "duration": 99,
    "start_time": "2022-08-17T09:50:52.405Z"
   },
   {
    "duration": 26,
    "start_time": "2022-08-17T09:50:52.506Z"
   },
   {
    "duration": 43,
    "start_time": "2022-08-17T09:50:52.533Z"
   },
   {
    "duration": 8,
    "start_time": "2022-08-17T09:50:52.578Z"
   },
   {
    "duration": 14,
    "start_time": "2022-08-17T09:50:52.588Z"
   },
   {
    "duration": 16,
    "start_time": "2022-08-17T09:50:52.603Z"
   },
   {
    "duration": 257,
    "start_time": "2022-08-17T09:50:52.621Z"
   },
   {
    "duration": 37,
    "start_time": "2022-08-17T09:50:52.880Z"
   },
   {
    "duration": 907,
    "start_time": "2022-08-17T09:50:52.919Z"
   },
   {
    "duration": 9,
    "start_time": "2022-08-17T09:50:53.827Z"
   },
   {
    "duration": 173,
    "start_time": "2022-08-17T09:50:53.838Z"
   },
   {
    "duration": 18,
    "start_time": "2022-08-17T09:50:54.014Z"
   },
   {
    "duration": 4,
    "start_time": "2022-08-17T09:50:54.033Z"
   },
   {
    "duration": 9,
    "start_time": "2022-08-17T09:50:54.038Z"
   },
   {
    "duration": 11,
    "start_time": "2022-08-17T09:50:54.048Z"
   },
   {
    "duration": 268,
    "start_time": "2022-08-17T09:50:54.061Z"
   },
   {
    "duration": 675,
    "start_time": "2022-08-17T09:50:54.331Z"
   },
   {
    "duration": 148,
    "start_time": "2022-08-17T09:50:55.008Z"
   },
   {
    "duration": 69,
    "start_time": "2022-08-17T09:50:55.158Z"
   },
   {
    "duration": 79,
    "start_time": "2022-08-17T09:50:55.230Z"
   },
   {
    "duration": 195,
    "start_time": "2022-08-17T09:50:55.310Z"
   },
   {
    "duration": 0,
    "start_time": "2022-08-17T09:50:55.507Z"
   },
   {
    "duration": 0,
    "start_time": "2022-08-17T09:50:55.508Z"
   },
   {
    "duration": 14,
    "start_time": "2022-08-17T09:53:21.067Z"
   },
   {
    "duration": 5,
    "start_time": "2022-08-17T09:53:33.322Z"
   },
   {
    "duration": 4,
    "start_time": "2022-08-17T09:53:47.448Z"
   },
   {
    "duration": 31,
    "start_time": "2022-08-17T09:54:10.250Z"
   },
   {
    "duration": 10,
    "start_time": "2022-08-17T09:54:10.939Z"
   },
   {
    "duration": 3,
    "start_time": "2022-08-17T09:54:17.739Z"
   },
   {
    "duration": 5,
    "start_time": "2022-08-17T09:54:22.668Z"
   },
   {
    "duration": 65,
    "start_time": "2022-08-17T09:56:42.363Z"
   },
   {
    "duration": 12,
    "start_time": "2022-08-17T09:56:44.825Z"
   },
   {
    "duration": 5,
    "start_time": "2022-08-17T09:56:46.250Z"
   },
   {
    "duration": 19,
    "start_time": "2022-08-17T09:56:49.669Z"
   },
   {
    "duration": 1459,
    "start_time": "2022-08-17T09:57:04.015Z"
   },
   {
    "duration": 3,
    "start_time": "2022-08-17T09:57:05.476Z"
   },
   {
    "duration": 15,
    "start_time": "2022-08-17T09:57:05.480Z"
   },
   {
    "duration": 74,
    "start_time": "2022-08-17T09:57:05.497Z"
   },
   {
    "duration": 15,
    "start_time": "2022-08-17T09:57:05.573Z"
   },
   {
    "duration": 17,
    "start_time": "2022-08-17T09:57:05.590Z"
   },
   {
    "duration": 55,
    "start_time": "2022-08-17T09:57:05.608Z"
   },
   {
    "duration": 8,
    "start_time": "2022-08-17T09:57:05.664Z"
   },
   {
    "duration": 29,
    "start_time": "2022-08-17T09:57:05.673Z"
   },
   {
    "duration": 18,
    "start_time": "2022-08-17T09:57:05.704Z"
   },
   {
    "duration": 20,
    "start_time": "2022-08-17T09:57:05.724Z"
   },
   {
    "duration": 24,
    "start_time": "2022-08-17T09:57:05.745Z"
   },
   {
    "duration": 18,
    "start_time": "2022-08-17T09:57:05.770Z"
   },
   {
    "duration": 192,
    "start_time": "2022-08-17T09:57:05.791Z"
   },
   {
    "duration": 278,
    "start_time": "2022-08-17T09:57:05.986Z"
   },
   {
    "duration": 15,
    "start_time": "2022-08-17T09:57:06.267Z"
   },
   {
    "duration": 19,
    "start_time": "2022-08-17T09:57:06.284Z"
   },
   {
    "duration": 319,
    "start_time": "2022-08-17T09:57:06.305Z"
   },
   {
    "duration": 6,
    "start_time": "2022-08-17T09:57:06.626Z"
   },
   {
    "duration": 281,
    "start_time": "2022-08-17T09:57:06.634Z"
   },
   {
    "duration": 13,
    "start_time": "2022-08-17T09:57:06.917Z"
   },
   {
    "duration": 7,
    "start_time": "2022-08-17T09:57:06.932Z"
   },
   {
    "duration": 13,
    "start_time": "2022-08-17T09:57:06.941Z"
   },
   {
    "duration": 2,
    "start_time": "2022-08-17T09:57:06.956Z"
   },
   {
    "duration": 50,
    "start_time": "2022-08-17T09:57:06.959Z"
   },
   {
    "duration": 92,
    "start_time": "2022-08-17T09:57:07.011Z"
   },
   {
    "duration": 8,
    "start_time": "2022-08-17T09:57:07.105Z"
   },
   {
    "duration": 22,
    "start_time": "2022-08-17T09:57:07.114Z"
   },
   {
    "duration": 8,
    "start_time": "2022-08-17T09:57:07.137Z"
   },
   {
    "duration": 5,
    "start_time": "2022-08-17T09:57:07.147Z"
   },
   {
    "duration": 49,
    "start_time": "2022-08-17T09:57:07.154Z"
   },
   {
    "duration": 79,
    "start_time": "2022-08-17T09:57:07.205Z"
   },
   {
    "duration": 35,
    "start_time": "2022-08-17T09:57:07.299Z"
   },
   {
    "duration": 66,
    "start_time": "2022-08-17T09:57:07.336Z"
   },
   {
    "duration": 97,
    "start_time": "2022-08-17T09:57:07.404Z"
   },
   {
    "duration": 16,
    "start_time": "2022-08-17T09:57:07.503Z"
   },
   {
    "duration": 30,
    "start_time": "2022-08-17T09:57:07.521Z"
   },
   {
    "duration": 105,
    "start_time": "2022-08-17T09:57:07.553Z"
   },
   {
    "duration": 49,
    "start_time": "2022-08-17T09:57:07.659Z"
   },
   {
    "duration": 97,
    "start_time": "2022-08-17T09:57:07.709Z"
   },
   {
    "duration": 108,
    "start_time": "2022-08-17T09:57:07.811Z"
   },
   {
    "duration": 159,
    "start_time": "2022-08-17T09:57:07.921Z"
   },
   {
    "duration": 220,
    "start_time": "2022-08-17T09:57:08.081Z"
   },
   {
    "duration": 5,
    "start_time": "2022-08-17T09:57:08.303Z"
   },
   {
    "duration": 115,
    "start_time": "2022-08-17T09:57:08.312Z"
   },
   {
    "duration": 5,
    "start_time": "2022-08-17T09:57:08.430Z"
   },
   {
    "duration": 84,
    "start_time": "2022-08-17T09:57:08.437Z"
   },
   {
    "duration": 213,
    "start_time": "2022-08-17T09:57:08.523Z"
   },
   {
    "duration": 75,
    "start_time": "2022-08-17T09:57:08.737Z"
   },
   {
    "duration": 88,
    "start_time": "2022-08-17T09:57:08.814Z"
   },
   {
    "duration": 109,
    "start_time": "2022-08-17T09:57:08.904Z"
   },
   {
    "duration": 7,
    "start_time": "2022-08-17T09:57:09.015Z"
   },
   {
    "duration": 39,
    "start_time": "2022-08-17T09:57:09.024Z"
   },
   {
    "duration": 99,
    "start_time": "2022-08-17T09:57:09.065Z"
   },
   {
    "duration": 38,
    "start_time": "2022-08-17T09:57:09.166Z"
   },
   {
    "duration": 99,
    "start_time": "2022-08-17T09:57:09.206Z"
   },
   {
    "duration": 1970,
    "start_time": "2022-08-17T09:57:09.307Z"
   },
   {
    "duration": 37,
    "start_time": "2022-08-17T09:57:11.278Z"
   },
   {
    "duration": 10,
    "start_time": "2022-08-17T09:57:11.317Z"
   },
   {
    "duration": 778,
    "start_time": "2022-08-17T09:57:11.329Z"
   },
   {
    "duration": 10,
    "start_time": "2022-08-17T09:57:12.109Z"
   },
   {
    "duration": 321,
    "start_time": "2022-08-17T09:57:12.121Z"
   },
   {
    "duration": 800,
    "start_time": "2022-08-17T09:57:12.443Z"
   },
   {
    "duration": 61,
    "start_time": "2022-08-17T09:57:13.245Z"
   },
   {
    "duration": 92,
    "start_time": "2022-08-17T09:57:13.309Z"
   },
   {
    "duration": 102,
    "start_time": "2022-08-17T09:57:13.403Z"
   },
   {
    "duration": 7,
    "start_time": "2022-08-17T09:57:13.507Z"
   },
   {
    "duration": 84,
    "start_time": "2022-08-17T09:57:13.516Z"
   },
   {
    "duration": 11,
    "start_time": "2022-08-17T09:57:13.601Z"
   },
   {
    "duration": 3,
    "start_time": "2022-08-17T09:57:13.614Z"
   },
   {
    "duration": 11,
    "start_time": "2022-08-17T09:57:13.619Z"
   },
   {
    "duration": 255,
    "start_time": "2022-08-17T09:57:13.632Z"
   },
   {
    "duration": 41,
    "start_time": "2022-08-17T09:57:13.889Z"
   },
   {
    "duration": 757,
    "start_time": "2022-08-17T09:57:13.931Z"
   },
   {
    "duration": 16,
    "start_time": "2022-08-17T09:57:14.689Z"
   },
   {
    "duration": 155,
    "start_time": "2022-08-17T09:57:14.706Z"
   },
   {
    "duration": 13,
    "start_time": "2022-08-17T09:57:14.863Z"
   },
   {
    "duration": 4,
    "start_time": "2022-08-17T09:57:14.878Z"
   },
   {
    "duration": 3,
    "start_time": "2022-08-17T09:57:14.900Z"
   },
   {
    "duration": 11,
    "start_time": "2022-08-17T09:57:14.905Z"
   },
   {
    "duration": 252,
    "start_time": "2022-08-17T09:57:14.918Z"
   },
   {
    "duration": 691,
    "start_time": "2022-08-17T09:57:15.171Z"
   },
   {
    "duration": 159,
    "start_time": "2022-08-17T09:57:15.864Z"
   },
   {
    "duration": 183,
    "start_time": "2022-08-17T09:57:16.025Z"
   },
   {
    "duration": 98,
    "start_time": "2022-08-17T09:57:16.210Z"
   },
   {
    "duration": 115,
    "start_time": "2022-08-17T09:57:16.310Z"
   },
   {
    "duration": 1,
    "start_time": "2022-08-17T09:57:16.426Z"
   },
   {
    "duration": 0,
    "start_time": "2022-08-17T09:57:16.428Z"
   },
   {
    "duration": 5,
    "start_time": "2022-08-17T09:57:50.823Z"
   },
   {
    "duration": 10,
    "start_time": "2022-08-17T09:58:12.553Z"
   },
   {
    "duration": 52,
    "start_time": "2022-08-17T10:45:49.886Z"
   },
   {
    "duration": 11,
    "start_time": "2022-08-17T10:45:51.159Z"
   },
   {
    "duration": 135,
    "start_time": "2022-08-17T10:45:58.966Z"
   },
   {
    "duration": 13,
    "start_time": "2022-08-17T10:46:01.302Z"
   },
   {
    "duration": 67,
    "start_time": "2022-08-17T10:46:07.870Z"
   },
   {
    "duration": 9,
    "start_time": "2022-08-17T10:46:08.880Z"
   },
   {
    "duration": 14,
    "start_time": "2022-08-17T10:46:15.664Z"
   },
   {
    "duration": 111,
    "start_time": "2022-08-17T11:16:56.301Z"
   },
   {
    "duration": 9,
    "start_time": "2022-08-17T11:17:08.001Z"
   },
   {
    "duration": 100,
    "start_time": "2022-08-17T11:18:04.901Z"
   },
   {
    "duration": 3,
    "start_time": "2022-08-17T11:18:09.002Z"
   },
   {
    "duration": 5,
    "start_time": "2022-08-17T11:18:13.601Z"
   },
   {
    "duration": 108,
    "start_time": "2022-08-17T11:18:21.101Z"
   },
   {
    "duration": 116,
    "start_time": "2022-08-17T11:18:46.203Z"
   },
   {
    "duration": 6,
    "start_time": "2022-08-17T11:18:51.104Z"
   },
   {
    "duration": 14,
    "start_time": "2022-08-17T11:19:04.803Z"
   },
   {
    "duration": 102,
    "start_time": "2022-08-17T11:19:31.306Z"
   },
   {
    "duration": 21,
    "start_time": "2022-08-17T11:19:37.281Z"
   },
   {
    "duration": 8,
    "start_time": "2022-08-17T11:29:56.291Z"
   },
   {
    "duration": 16,
    "start_time": "2022-08-17T11:30:05.452Z"
   },
   {
    "duration": 4,
    "start_time": "2022-08-17T11:30:54.101Z"
   },
   {
    "duration": 16,
    "start_time": "2022-08-17T11:31:29.472Z"
   },
   {
    "duration": 4,
    "start_time": "2022-08-17T11:31:44.632Z"
   },
   {
    "duration": 49,
    "start_time": "2022-08-17T11:31:59.127Z"
   },
   {
    "duration": 10,
    "start_time": "2022-08-17T11:32:01.779Z"
   },
   {
    "duration": 6,
    "start_time": "2022-08-17T11:32:08.082Z"
   },
   {
    "duration": 5,
    "start_time": "2022-08-17T11:32:17.071Z"
   },
   {
    "duration": 10,
    "start_time": "2022-08-17T11:32:31.526Z"
   },
   {
    "duration": 242,
    "start_time": "2022-08-17T11:32:35.851Z"
   },
   {
    "duration": 1462,
    "start_time": "2022-08-17T11:33:11.445Z"
   },
   {
    "duration": 3,
    "start_time": "2022-08-17T11:33:12.909Z"
   },
   {
    "duration": 14,
    "start_time": "2022-08-17T11:33:12.913Z"
   },
   {
    "duration": 119,
    "start_time": "2022-08-17T11:33:12.928Z"
   },
   {
    "duration": 17,
    "start_time": "2022-08-17T11:33:13.050Z"
   },
   {
    "duration": 14,
    "start_time": "2022-08-17T11:33:13.068Z"
   },
   {
    "duration": 39,
    "start_time": "2022-08-17T11:33:13.083Z"
   },
   {
    "duration": 7,
    "start_time": "2022-08-17T11:33:13.123Z"
   },
   {
    "duration": 14,
    "start_time": "2022-08-17T11:33:13.132Z"
   },
   {
    "duration": 15,
    "start_time": "2022-08-17T11:33:13.148Z"
   },
   {
    "duration": 5,
    "start_time": "2022-08-17T11:33:13.164Z"
   },
   {
    "duration": 6,
    "start_time": "2022-08-17T11:33:13.200Z"
   },
   {
    "duration": 10,
    "start_time": "2022-08-17T11:33:13.208Z"
   },
   {
    "duration": 186,
    "start_time": "2022-08-17T11:33:13.221Z"
   },
   {
    "duration": 256,
    "start_time": "2022-08-17T11:33:13.409Z"
   },
   {
    "duration": 16,
    "start_time": "2022-08-17T11:33:13.667Z"
   },
   {
    "duration": 15,
    "start_time": "2022-08-17T11:33:13.685Z"
   },
   {
    "duration": 330,
    "start_time": "2022-08-17T11:33:13.702Z"
   },
   {
    "duration": 7,
    "start_time": "2022-08-17T11:33:14.035Z"
   },
   {
    "duration": 275,
    "start_time": "2022-08-17T11:33:14.044Z"
   },
   {
    "duration": 13,
    "start_time": "2022-08-17T11:33:14.320Z"
   },
   {
    "duration": 11,
    "start_time": "2022-08-17T11:33:14.334Z"
   },
   {
    "duration": 14,
    "start_time": "2022-08-17T11:33:14.346Z"
   },
   {
    "duration": 3,
    "start_time": "2022-08-17T11:33:14.361Z"
   },
   {
    "duration": 46,
    "start_time": "2022-08-17T11:33:14.366Z"
   },
   {
    "duration": 104,
    "start_time": "2022-08-17T11:33:14.414Z"
   },
   {
    "duration": 10,
    "start_time": "2022-08-17T11:33:14.520Z"
   },
   {
    "duration": 10,
    "start_time": "2022-08-17T11:33:14.531Z"
   },
   {
    "duration": 5,
    "start_time": "2022-08-17T11:33:14.543Z"
   },
   {
    "duration": 13,
    "start_time": "2022-08-17T11:33:14.549Z"
   },
   {
    "duration": 57,
    "start_time": "2022-08-17T11:33:14.564Z"
   },
   {
    "duration": 80,
    "start_time": "2022-08-17T11:33:14.622Z"
   },
   {
    "duration": 34,
    "start_time": "2022-08-17T11:33:14.704Z"
   },
   {
    "duration": 3,
    "start_time": "2022-08-17T11:33:14.801Z"
   },
   {
    "duration": 94,
    "start_time": "2022-08-17T11:33:14.806Z"
   },
   {
    "duration": 16,
    "start_time": "2022-08-17T11:33:14.903Z"
   },
   {
    "duration": 38,
    "start_time": "2022-08-17T11:33:14.920Z"
   },
   {
    "duration": 102,
    "start_time": "2022-08-17T11:33:14.960Z"
   },
   {
    "duration": 39,
    "start_time": "2022-08-17T11:33:15.064Z"
   },
   {
    "duration": 95,
    "start_time": "2022-08-17T11:33:15.105Z"
   },
   {
    "duration": 64,
    "start_time": "2022-08-17T11:33:15.207Z"
   },
   {
    "duration": 174,
    "start_time": "2022-08-17T11:33:15.272Z"
   },
   {
    "duration": 151,
    "start_time": "2022-08-17T11:33:15.448Z"
   },
   {
    "duration": 6,
    "start_time": "2022-08-17T11:33:15.601Z"
   },
   {
    "duration": 107,
    "start_time": "2022-08-17T11:33:15.609Z"
   },
   {
    "duration": 6,
    "start_time": "2022-08-17T11:33:15.717Z"
   },
   {
    "duration": 78,
    "start_time": "2022-08-17T11:33:15.725Z"
   },
   {
    "duration": 203,
    "start_time": "2022-08-17T11:33:15.804Z"
   },
   {
    "duration": 103,
    "start_time": "2022-08-17T11:33:16.008Z"
   },
   {
    "duration": 87,
    "start_time": "2022-08-17T11:33:16.114Z"
   },
   {
    "duration": 97,
    "start_time": "2022-08-17T11:33:16.206Z"
   },
   {
    "duration": 5,
    "start_time": "2022-08-17T11:33:16.305Z"
   },
   {
    "duration": 30,
    "start_time": "2022-08-17T11:33:16.312Z"
   },
   {
    "duration": 107,
    "start_time": "2022-08-17T11:33:16.344Z"
   },
   {
    "duration": 150,
    "start_time": "2022-08-17T11:33:16.453Z"
   },
   {
    "duration": 102,
    "start_time": "2022-08-17T11:33:16.605Z"
   },
   {
    "duration": 1903,
    "start_time": "2022-08-17T11:33:16.709Z"
   },
   {
    "duration": 28,
    "start_time": "2022-08-17T11:33:18.614Z"
   },
   {
    "duration": 9,
    "start_time": "2022-08-17T11:33:18.644Z"
   },
   {
    "duration": 700,
    "start_time": "2022-08-17T11:33:18.654Z"
   },
   {
    "duration": 10,
    "start_time": "2022-08-17T11:33:19.356Z"
   },
   {
    "duration": 338,
    "start_time": "2022-08-17T11:33:19.368Z"
   },
   {
    "duration": 789,
    "start_time": "2022-08-17T11:33:19.708Z"
   },
   {
    "duration": 102,
    "start_time": "2022-08-17T11:33:20.500Z"
   },
   {
    "duration": 100,
    "start_time": "2022-08-17T11:33:20.603Z"
   },
   {
    "duration": 27,
    "start_time": "2022-08-17T11:33:20.705Z"
   },
   {
    "duration": 25,
    "start_time": "2022-08-17T11:33:20.734Z"
   },
   {
    "duration": 52,
    "start_time": "2022-08-17T11:33:20.761Z"
   },
   {
    "duration": 11,
    "start_time": "2022-08-17T11:33:20.815Z"
   },
   {
    "duration": 24,
    "start_time": "2022-08-17T11:33:20.828Z"
   },
   {
    "duration": 31,
    "start_time": "2022-08-17T11:33:20.854Z"
   },
   {
    "duration": 274,
    "start_time": "2022-08-17T11:33:20.886Z"
   },
   {
    "duration": 40,
    "start_time": "2022-08-17T11:33:21.161Z"
   },
   {
    "duration": 838,
    "start_time": "2022-08-17T11:33:21.202Z"
   },
   {
    "duration": 8,
    "start_time": "2022-08-17T11:33:22.042Z"
   },
   {
    "duration": 170,
    "start_time": "2022-08-17T11:33:22.052Z"
   },
   {
    "duration": 13,
    "start_time": "2022-08-17T11:33:22.224Z"
   },
   {
    "duration": 5,
    "start_time": "2022-08-17T11:33:22.239Z"
   },
   {
    "duration": 17,
    "start_time": "2022-08-17T11:33:22.246Z"
   },
   {
    "duration": 16,
    "start_time": "2022-08-17T11:33:22.265Z"
   },
   {
    "duration": 257,
    "start_time": "2022-08-17T11:33:22.282Z"
   },
   {
    "duration": 735,
    "start_time": "2022-08-17T11:33:22.540Z"
   },
   {
    "duration": 163,
    "start_time": "2022-08-17T11:33:23.278Z"
   },
   {
    "duration": 169,
    "start_time": "2022-08-17T11:33:23.442Z"
   },
   {
    "duration": 92,
    "start_time": "2022-08-17T11:33:23.613Z"
   },
   {
    "duration": 8,
    "start_time": "2022-08-17T11:33:23.707Z"
   },
   {
    "duration": 268,
    "start_time": "2022-08-17T11:33:23.716Z"
   },
   {
    "duration": 52,
    "start_time": "2022-08-17T11:33:23.986Z"
   }
  ],
  "kernelspec": {
   "display_name": "Python 3 (ipykernel)",
   "language": "python",
   "name": "python3"
  },
  "language_info": {
   "codemirror_mode": {
    "name": "ipython",
    "version": 3
   },
   "file_extension": ".py",
   "mimetype": "text/x-python",
   "name": "python",
   "nbconvert_exporter": "python",
   "pygments_lexer": "ipython3",
   "version": "3.9.5"
  },
  "toc": {
   "base_numbering": 1,
   "nav_menu": {},
   "number_sections": true,
   "sideBar": true,
   "skip_h1_title": true,
   "title_cell": "Содержание",
   "title_sidebar": "Contents",
   "toc_cell": true,
   "toc_position": {
    "height": "calc(100% - 180px)",
    "left": "10px",
    "top": "150px",
    "width": "288px"
   },
   "toc_section_display": true,
   "toc_window_display": true
  }
 },
 "nbformat": 4,
 "nbformat_minor": 2
}
