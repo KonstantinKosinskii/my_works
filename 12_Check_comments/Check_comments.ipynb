{
 "cells": [
  {
   "cell_type": "markdown",
   "metadata": {
    "toc": true
   },
   "source": [
    "<h1>Содержание<span class=\"tocSkip\"></span></h1>\n",
    "<div class=\"toc\"><ul class=\"toc-item\"><li><span><a href=\"#Подготовка\" data-toc-modified-id=\"Подготовка-1\"><span class=\"toc-item-num\">1&nbsp;&nbsp;</span>Подготовка</a></span><ul class=\"toc-item\"><li><span><a href=\"#Вывод:\" data-toc-modified-id=\"Вывод:-1.1\"><span class=\"toc-item-num\">1.1&nbsp;&nbsp;</span>Вывод:</a></span></li></ul></li><li><span><a href=\"#Обучение\" data-toc-modified-id=\"Обучение-2\"><span class=\"toc-item-num\">2&nbsp;&nbsp;</span>Обучение</a></span><ul class=\"toc-item\"><li><span><a href=\"#RandomForestClassifier\" data-toc-modified-id=\"RandomForestClassifier-2.1\"><span class=\"toc-item-num\">2.1&nbsp;&nbsp;</span>RandomForestClassifier</a></span></li><li><span><a href=\"#LGBMClassifier\" data-toc-modified-id=\"LGBMClassifier-2.2\"><span class=\"toc-item-num\">2.2&nbsp;&nbsp;</span>LGBMClassifier</a></span></li><li><span><a href=\"#LogisticRegression\" data-toc-modified-id=\"LogisticRegression-2.3\"><span class=\"toc-item-num\">2.3&nbsp;&nbsp;</span>LogisticRegression</a></span></li><li><span><a href=\"#DummyClassifier\" data-toc-modified-id=\"DummyClassifier-2.4\"><span class=\"toc-item-num\">2.4&nbsp;&nbsp;</span>DummyClassifier</a></span></li><li><span><a href=\"#Итоги\" data-toc-modified-id=\"Итоги-2.5\"><span class=\"toc-item-num\">2.5&nbsp;&nbsp;</span>Итоги</a></span></li><li><span><a href=\"#Вывод:\" data-toc-modified-id=\"Вывод:-2.6\"><span class=\"toc-item-num\">2.6&nbsp;&nbsp;</span>Вывод:</a></span></li></ul></li><li><span><a href=\"#Тестовая-выборка\" data-toc-modified-id=\"Тестовая-выборка-3\"><span class=\"toc-item-num\">3&nbsp;&nbsp;</span>Тестовая выборка</a></span><ul class=\"toc-item\"><li><span><a href=\"#RandomForestClassifier\" data-toc-modified-id=\"RandomForestClassifier-3.1\"><span class=\"toc-item-num\">3.1&nbsp;&nbsp;</span>RandomForestClassifier</a></span></li><li><span><a href=\"#LGBMClassifier\" data-toc-modified-id=\"LGBMClassifier-3.2\"><span class=\"toc-item-num\">3.2&nbsp;&nbsp;</span>LGBMClassifier</a></span></li><li><span><a href=\"#LogisticRegression\" data-toc-modified-id=\"LogisticRegression-3.3\"><span class=\"toc-item-num\">3.3&nbsp;&nbsp;</span>LogisticRegression</a></span></li><li><span><a href=\"#DummyClassifier\" data-toc-modified-id=\"DummyClassifier-3.4\"><span class=\"toc-item-num\">3.4&nbsp;&nbsp;</span>DummyClassifier</a></span></li><li><span><a href=\"#Итоги\" data-toc-modified-id=\"Итоги-3.5\"><span class=\"toc-item-num\">3.5&nbsp;&nbsp;</span>Итоги</a></span></li><li><span><a href=\"#Общий-вывод:\" data-toc-modified-id=\"Общий-вывод:-3.6\"><span class=\"toc-item-num\">3.6&nbsp;&nbsp;</span>Общий вывод:</a></span></li></ul></li></ul></div>"
   ]
  },
  {
   "cell_type": "markdown",
   "metadata": {},
   "source": [
    "## Подготовка"
   ]
  },
  {
   "cell_type": "code",
   "execution_count": 1,
   "metadata": {},
   "outputs": [],
   "source": [
    "import numpy as np\n",
    "import pandas as pd\n",
    "import matplotlib.pyplot as plt\n",
    "import seaborn as sns\n",
    "\n",
    "from pymystem3 import Mystem\n",
    "import re\n",
    "\n",
    "from sklearn.feature_extraction.text import TfidfVectorizer\n",
    "from sklearn.pipeline import Pipeline\n",
    "\n",
    "import nltk\n",
    "# nltk.download('wordnet')\n",
    "from nltk.stem import WordNetLemmatizer \n",
    "from nltk.corpus import stopwords as nltk_stopwords\n",
    "\n",
    "from sklearn.metrics import f1_score, recall_score, precision_score, confusion_matrix, precision_recall_curve,\\\n",
    "roc_curve, roc_auc_score\n",
    "from sklearn.model_selection import cross_val_score\n",
    "from sklearn.model_selection import train_test_split\n",
    "from sklearn.model_selection import GridSearchCV\n",
    "# from imblearn.over_sampling import SMOTE\n",
    "\n",
    "from sklearn.ensemble import RandomForestClassifier\n",
    "from sklearn.linear_model import LogisticRegression\n",
    "from lightgbm import LGBMClassifier\n",
    "from sklearn.dummy import DummyClassifier"
   ]
  },
  {
   "cell_type": "markdown",
   "metadata": {},
   "source": [
    "Отображение не более двух знаков после запятой"
   ]
  },
  {
   "cell_type": "code",
   "execution_count": 2,
   "metadata": {},
   "outputs": [],
   "source": [
    "pd.set_option('display.float_format','{:,.2f}'.format)"
   ]
  },
  {
   "cell_type": "markdown",
   "metadata": {},
   "source": [
    "Игнорирование предупреждений"
   ]
  },
  {
   "cell_type": "code",
   "execution_count": 3,
   "metadata": {},
   "outputs": [],
   "source": [
    "import warnings\n",
    "warnings.simplefilter('ignore')"
   ]
  },
  {
   "cell_type": "markdown",
   "metadata": {},
   "source": [
    "Загружаем данные"
   ]
  },
  {
   "cell_type": "code",
   "execution_count": 4,
   "metadata": {},
   "outputs": [
    {
     "data": {
      "text/html": [
       "<div>\n",
       "<style scoped>\n",
       "    .dataframe tbody tr th:only-of-type {\n",
       "        vertical-align: middle;\n",
       "    }\n",
       "\n",
       "    .dataframe tbody tr th {\n",
       "        vertical-align: top;\n",
       "    }\n",
       "\n",
       "    .dataframe thead th {\n",
       "        text-align: right;\n",
       "    }\n",
       "</style>\n",
       "<table border=\"1\" class=\"dataframe\">\n",
       "  <thead>\n",
       "    <tr style=\"text-align: right;\">\n",
       "      <th></th>\n",
       "      <th>text</th>\n",
       "      <th>toxic</th>\n",
       "    </tr>\n",
       "  </thead>\n",
       "  <tbody>\n",
       "    <tr>\n",
       "      <th>0</th>\n",
       "      <td>Explanation\\nWhy the edits made under my usern...</td>\n",
       "      <td>0</td>\n",
       "    </tr>\n",
       "    <tr>\n",
       "      <th>1</th>\n",
       "      <td>D'aww! He matches this background colour I'm s...</td>\n",
       "      <td>0</td>\n",
       "    </tr>\n",
       "    <tr>\n",
       "      <th>2</th>\n",
       "      <td>Hey man, I'm really not trying to edit war. It...</td>\n",
       "      <td>0</td>\n",
       "    </tr>\n",
       "    <tr>\n",
       "      <th>3</th>\n",
       "      <td>\"\\nMore\\nI can't make any real suggestions on ...</td>\n",
       "      <td>0</td>\n",
       "    </tr>\n",
       "    <tr>\n",
       "      <th>4</th>\n",
       "      <td>You, sir, are my hero. Any chance you remember...</td>\n",
       "      <td>0</td>\n",
       "    </tr>\n",
       "  </tbody>\n",
       "</table>\n",
       "</div>"
      ],
      "text/plain": [
       "                                                text  toxic\n",
       "0  Explanation\\nWhy the edits made under my usern...      0\n",
       "1  D'aww! He matches this background colour I'm s...      0\n",
       "2  Hey man, I'm really not trying to edit war. It...      0\n",
       "3  \"\\nMore\\nI can't make any real suggestions on ...      0\n",
       "4  You, sir, are my hero. Any chance you remember...      0"
      ]
     },
     "execution_count": 4,
     "metadata": {},
     "output_type": "execute_result"
    }
   ],
   "source": [
    "data = pd.read_csv('/datasets/toxic_comments.csv')\n",
    "data.head()"
   ]
  },
  {
   "cell_type": "code",
   "execution_count": 5,
   "metadata": {},
   "outputs": [
    {
     "name": "stdout",
     "output_type": "stream",
     "text": [
      "<class 'pandas.core.frame.DataFrame'>\n",
      "RangeIndex: 159571 entries, 0 to 159570\n",
      "Data columns (total 2 columns):\n",
      " #   Column  Non-Null Count   Dtype \n",
      "---  ------  --------------   ----- \n",
      " 0   text    159571 non-null  object\n",
      " 1   toxic   159571 non-null  int64 \n",
      "dtypes: int64(1), object(1)\n",
      "memory usage: 2.4+ MB\n"
     ]
    }
   ],
   "source": [
    "data.info()"
   ]
  },
  {
   "cell_type": "code",
   "execution_count": 6,
   "metadata": {},
   "outputs": [],
   "source": [
    "lemmatizer = WordNetLemmatizer()"
   ]
  },
  {
   "cell_type": "raw",
   "metadata": {},
   "source": [
    "%%timeit\n",
    "nltk.download('stopwords')"
   ]
  },
  {
   "cell_type": "markdown",
   "metadata": {},
   "source": [
    "Загружаем стоп-слова"
   ]
  },
  {
   "cell_type": "code",
   "execution_count": 7,
   "metadata": {},
   "outputs": [],
   "source": [
    "stopwords = set(nltk_stopwords.words('english'))\n",
    "count_tf_idf = TfidfVectorizer(stop_words = stopwords)"
   ]
  },
  {
   "cell_type": "markdown",
   "metadata": {},
   "source": [
    "Функция по очистке текста от всех символов (оставляет только буквы английского алфавита)"
   ]
  },
  {
   "cell_type": "code",
   "execution_count": 8,
   "metadata": {},
   "outputs": [],
   "source": [
    "def transform(text):\n",
    "    edited_text = re.sub(r'[^a-zA-Z]', ' ', text)\n",
    "    edited_text_finish = ' '.join(edited_text.split())\n",
    "#     lemma = lemmatizer.lemmatize(edited_text_finish)\n",
    "#     lemm_text = \"\".join(lemma)\n",
    "    return edited_text_finish"
   ]
  },
  {
   "cell_type": "markdown",
   "metadata": {},
   "source": [
    "Применяем функцию к нашему тексту"
   ]
  },
  {
   "cell_type": "code",
   "execution_count": 9,
   "metadata": {},
   "outputs": [],
   "source": [
    "data['edited_text'] = data['text'].apply(transform)"
   ]
  },
  {
   "cell_type": "code",
   "execution_count": 10,
   "metadata": {},
   "outputs": [
    {
     "data": {
      "text/plain": [
       "0    Explanation Why the edits made under my userna...\n",
       "1    D aww He matches this background colour I m se...\n",
       "2    Hey man I m really not trying to edit war It s...\n",
       "3    More I can t make any real suggestions on impr...\n",
       "4    You sir are my hero Any chance you remember wh...\n",
       "5    Congratulations from me as well use the tools ...\n",
       "6         COCKSUCKER BEFORE YOU PISS AROUND ON MY WORK\n",
       "7    Your vandalism to the Matt Shirvington article...\n",
       "8    Sorry if the word nonsense was offensive to yo...\n",
       "9    alignment on this subject and which are contra...\n",
       "Name: edited_text, dtype: object"
      ]
     },
     "execution_count": 10,
     "metadata": {},
     "output_type": "execute_result"
    }
   ],
   "source": [
    "data['edited_text'].head(10)"
   ]
  },
  {
   "cell_type": "code",
   "execution_count": 11,
   "metadata": {},
   "outputs": [],
   "source": [
    "def lemm(text):\n",
    "    word_list = nltk.word_tokenize(text)\n",
    "    lemm_text = \" \".join(([lemmatizer.lemmatize(w) for w in word_list]))\n",
    "    return lemm_text"
   ]
  },
  {
   "cell_type": "code",
   "execution_count": 12,
   "metadata": {},
   "outputs": [],
   "source": [
    "data['lemm_text'] = data['edited_text'].apply(lemm)"
   ]
  },
  {
   "cell_type": "code",
   "execution_count": 13,
   "metadata": {},
   "outputs": [
    {
     "data": {
      "text/plain": [
       "0    Explanation Why the edits made under my userna...\n",
       "1    D aww He match this background colour I m seem...\n",
       "2    Hey man I m really not trying to edit war It s...\n",
       "3    More I can t make any real suggestion on impro...\n",
       "4    You sir are my hero Any chance you remember wh...\n",
       "5    Congratulations from me a well use the tool we...\n",
       "6         COCKSUCKER BEFORE YOU PISS AROUND ON MY WORK\n",
       "7    Your vandalism to the Matt Shirvington article...\n",
       "8    Sorry if the word nonsense wa offensive to you...\n",
       "9    alignment on this subject and which are contra...\n",
       "Name: lemm_text, dtype: object"
      ]
     },
     "execution_count": 13,
     "metadata": {},
     "output_type": "execute_result"
    }
   ],
   "source": [
    "data['lemm_text'].head(10)"
   ]
  },
  {
   "cell_type": "markdown",
   "metadata": {},
   "source": [
    "### Вывод:\n",
    "1. получили на вход таблицу с текстом и разметкой о токсичности комментариев\n",
    "2. очистили текст от лишних символов"
   ]
  },
  {
   "cell_type": "markdown",
   "metadata": {},
   "source": [
    "## Обучение"
   ]
  },
  {
   "cell_type": "markdown",
   "metadata": {},
   "source": [
    "Деление данных на выборки"
   ]
  },
  {
   "cell_type": "code",
   "execution_count": 14,
   "metadata": {},
   "outputs": [],
   "source": [
    "features = data['lemm_text']\n",
    "target = data['toxic']"
   ]
  },
  {
   "cell_type": "code",
   "execution_count": 15,
   "metadata": {},
   "outputs": [],
   "source": [
    "features_train, features_valid, target_train, target_valid = train_test_split(\n",
    "    features, target, test_size = 0.4, random_state = 12345\n",
    ")"
   ]
  },
  {
   "cell_type": "code",
   "execution_count": 16,
   "metadata": {},
   "outputs": [],
   "source": [
    "features_valid, features_test, target_valid, target_test = train_test_split(\n",
    "    features_valid, target_valid, test_size=0.5, random_state=12345\n",
    ")"
   ]
  },
  {
   "cell_type": "markdown",
   "metadata": {},
   "source": [
    "Классы сильно разбаллансированы. Класса 0 больше в 9 раз. Что может негативно сказаться на обучении модели, модель будет просто предсказывать всегда класс 0, так она будет чаще попадать"
   ]
  },
  {
   "cell_type": "code",
   "execution_count": 17,
   "metadata": {},
   "outputs": [
    {
     "data": {
      "text/plain": [
       "0   0.90\n",
       "1   0.10\n",
       "Name: toxic, dtype: float64"
      ]
     },
     "execution_count": 17,
     "metadata": {},
     "output_type": "execute_result"
    }
   ],
   "source": [
    "target.value_counts(normalize=True)"
   ]
  },
  {
   "cell_type": "markdown",
   "metadata": {},
   "source": [
    "Векторизируем данные с учетом стоп-слов"
   ]
  },
  {
   "cell_type": "code",
   "execution_count": 18,
   "metadata": {},
   "outputs": [],
   "source": [
    "tf_idf_features_train = count_tf_idf.fit_transform(features_train.values)"
   ]
  },
  {
   "cell_type": "code",
   "execution_count": 19,
   "metadata": {},
   "outputs": [],
   "source": [
    "tf_idf_features_valid = count_tf_idf.transform(features_valid.values)"
   ]
  },
  {
   "cell_type": "code",
   "execution_count": 20,
   "metadata": {},
   "outputs": [],
   "source": [
    "tf_idf_features_test = count_tf_idf.transform(features_test.values)"
   ]
  },
  {
   "cell_type": "code",
   "execution_count": 21,
   "metadata": {},
   "outputs": [
    {
     "name": "stdout",
     "output_type": "stream",
     "text": [
      "(95742, 121737)\n",
      "(95742,)\n",
      "\n",
      "(31914, 121737)\n",
      "(31915,)\n",
      "\n",
      "(31915, 121737)\n",
      "(31915,)\n"
     ]
    }
   ],
   "source": [
    "print(tf_idf_features_train.shape)\n",
    "print(target_train.shape)\n",
    "print()\n",
    "print(tf_idf_features_valid.shape)\n",
    "print(target_test.shape)\n",
    "print()\n",
    "print(tf_idf_features_test.shape)\n",
    "print(target_test.shape)"
   ]
  },
  {
   "cell_type": "markdown",
   "metadata": {},
   "source": [
    "Функция по увеличению выборки с классом 1, так как его значительно меньше, чем класса 0"
   ]
  },
  {
   "cell_type": "code",
   "execution_count": 22,
   "metadata": {},
   "outputs": [],
   "source": [
    "def upsample(features, target, repeat):\n",
    "    features_zero = features[target == 0]\n",
    "    features_one = features[target == 1]\n",
    "    target_zero = target[target == 0]\n",
    "    target_one = target[target == 1]\n",
    "    \n",
    "    features_upsampled = pd.concat([features_zero] + [features_one] * repeat)\n",
    "    target_upsampled = pd.concat([target_zero] + [target_one] * repeat)\n",
    "    \n",
    "    features_upsampled, target_upsampled = shuffle(\n",
    "        features_upsampled, target_upsampled, random_state=12345\n",
    "    )\n",
    "    return features_upsampled, target_upsampled"
   ]
  },
  {
   "cell_type": "raw",
   "metadata": {},
   "source": [
    "features_train_upsampled, target_train_upsampled = upsample(tf_idf_features_train, target_train, 9)"
   ]
  },
  {
   "cell_type": "markdown",
   "metadata": {},
   "source": [
    "### RandomForestClassifier"
   ]
  },
  {
   "cell_type": "code",
   "execution_count": 23,
   "metadata": {},
   "outputs": [],
   "source": [
    "model_rf = RandomForestClassifier(n_estimators = 10, random_state=12345)"
   ]
  },
  {
   "cell_type": "code",
   "execution_count": 24,
   "metadata": {},
   "outputs": [
    {
     "name": "stdout",
     "output_type": "stream",
     "text": [
      "RandomForestClassifier: f1 = 0.66\n"
     ]
    }
   ],
   "source": [
    "model_rf.fit(tf_idf_features_train, target_train)\n",
    "predicted_valid = model_rf.predict(tf_idf_features_valid)\n",
    "f1 = f1_score(target_valid, predicted_valid)\n",
    "\n",
    "print('RandomForestClassifier: f1 = {:.2f}'.format(f1))"
   ]
  },
  {
   "cell_type": "raw",
   "metadata": {},
   "source": [
    "pipe_rf = Pipeline([(‘vect’, CountVectorizer()),\n",
    " (‘tfidf’, TfidfTransformer()),\n",
    " (‘model’, RandomForestClassifier())])"
   ]
  },
  {
   "cell_type": "markdown",
   "metadata": {},
   "source": [
    "Переберем гиперпараметры:\n",
    "- кол-во деревьев 50, 100\n",
    "- глубина 20, 50\n",
    "- с балансировкой классов"
   ]
  },
  {
   "cell_type": "code",
   "execution_count": 25,
   "metadata": {},
   "outputs": [],
   "source": [
    "model = RandomForestClassifier()\n",
    "parametrs_RF = {\n",
    "    'n_estimators': [50, 100],\n",
    "    'max_depth' : [20, 50],\n",
    "    'random_state': [12345],\n",
    "    'class_weight' : ['balanced']\n",
    "}\n",
    "grid_forest = GridSearchCV(model, param_grid=parametrs_RF, cv=3, scoring='f1')"
   ]
  },
  {
   "cell_type": "raw",
   "metadata": {},
   "source": [
    "grid_forest.fit(tf_idf_features_train, target_train)\n",
    "print(grid_forest.best_params_)\n",
    "print(grid_forest.best_score_)"
   ]
  },
  {
   "cell_type": "code",
   "execution_count": 26,
   "metadata": {},
   "outputs": [
    {
     "name": "stdout",
     "output_type": "stream",
     "text": [
      "RandomForestClassifier: f1 = 0.48\n",
      "кол-во деревьев: 50\n",
      "глубина: 50\n"
     ]
    }
   ],
   "source": [
    "best_est = 0\n",
    "best_depth = 0\n",
    "best_score_forest = 0.0\n",
    "best_model_forest = None\n",
    "\n",
    "for est in parametrs_RF['n_estimators']:\n",
    "    for depth in parametrs_RF['max_depth']:\n",
    "        model_RF = RandomForestClassifier(\n",
    "            random_state=12345,\n",
    "            n_estimators = est,\n",
    "            max_depth = depth,\n",
    "            class_weight='balanced'\n",
    "        )\n",
    "        model_RF.fit(tf_idf_features_train, target_train)\n",
    "        predicted_valid = model_RF.predict(tf_idf_features_valid)\n",
    "        score = f1_score(target_valid, predicted_valid)\n",
    "\n",
    "        if score > best_score_forest:\n",
    "            best_score_forest = score\n",
    "            best_est = est\n",
    "            best_depth = depth\n",
    "            best_model_forest = model_RF\n",
    "                \n",
    "\n",
    "print('RandomForestClassifier: f1 = {:.2f}'.format(best_score_forest))\n",
    "print(f'кол-во деревьев: {best_est}')\n",
    "print(f'глубина: {best_depth}')"
   ]
  },
  {
   "cell_type": "markdown",
   "metadata": {},
   "source": [
    "### LGBMClassifier"
   ]
  },
  {
   "cell_type": "code",
   "execution_count": 27,
   "metadata": {},
   "outputs": [],
   "source": [
    "model_lgbm = LGBMClassifier(class_weight='balanced', n_estimators = 10, metric='f1')"
   ]
  },
  {
   "cell_type": "code",
   "execution_count": 28,
   "metadata": {},
   "outputs": [
    {
     "name": "stdout",
     "output_type": "stream",
     "text": [
      "LGBMClassifier: f1 = 0.64\n"
     ]
    }
   ],
   "source": [
    "model_lgbm.fit(tf_idf_features_train, target_train)\n",
    "predicted_valid = model_lgbm.predict(tf_idf_features_valid)\n",
    "f1 = f1_score(target_valid, predicted_valid)\n",
    "\n",
    "print('LGBMClassifier: f1 = {:.2f}'.format(f1))"
   ]
  },
  {
   "cell_type": "markdown",
   "metadata": {},
   "source": [
    "Переберем гиперпараметры:\n",
    "- кол-во деревьев 50, 100\n",
    "- глубина 6, 12\n",
    "- с балансировкой классов"
   ]
  },
  {
   "cell_type": "code",
   "execution_count": 29,
   "metadata": {},
   "outputs": [],
   "source": [
    "model = LGBMClassifier()\n",
    "parametrs_LGBM = {\n",
    "    'n_estimators': [100],\n",
    "    'max_depth' : [12],\n",
    "    'random_state': [12345],\n",
    "    'class_weight' : ['balanced'],\n",
    "}\n",
    "grid_LGBM = GridSearchCV(model, param_grid=parametrs_LGBM, cv=3, scoring='f1')"
   ]
  },
  {
   "cell_type": "raw",
   "metadata": {},
   "source": [
    "grid_LGBM.fit(tf_idf_features_train, target_train)\n",
    "print(grid_LGBM.best_params_)\n",
    "print(grid_LGBM.best_score_)"
   ]
  },
  {
   "cell_type": "code",
   "execution_count": 30,
   "metadata": {},
   "outputs": [
    {
     "name": "stdout",
     "output_type": "stream",
     "text": [
      "LGBMClassifier: f1 = 0.72\n",
      "кол-во деревьев: 100\n",
      "глубина: 12\n"
     ]
    }
   ],
   "source": [
    "best_est = 0\n",
    "best_depth = 0\n",
    "best_score_LGBM = 0.0\n",
    "best_model_LGBM = None\n",
    "\n",
    "for est in parametrs_LGBM['n_estimators']:\n",
    "    for depth in parametrs_LGBM['max_depth']:\n",
    "        model_LGBM = LGBMClassifier(\n",
    "            random_state=12345,\n",
    "            n_estimators = est,\n",
    "            max_depth = depth,\n",
    "            class_weight='balanced'\n",
    "        )\n",
    "        model_LGBM.fit(tf_idf_features_train, target_train)\n",
    "        predicted_valid = model_LGBM.predict(tf_idf_features_valid)\n",
    "        score = f1_score(target_valid, predicted_valid)\n",
    "\n",
    "        if score > best_score_LGBM:\n",
    "            best_score_LGBM = score\n",
    "            best_est = est\n",
    "            best_depth = depth\n",
    "            best_model_LGBM = model_LGBM\n",
    "                \n",
    "\n",
    "print('LGBMClassifier: f1 = {:.2f}'.format(best_score_LGBM))\n",
    "print(f'кол-во деревьев: {best_est}')\n",
    "print(f'глубина: {best_depth}')"
   ]
  },
  {
   "cell_type": "markdown",
   "metadata": {},
   "source": [
    "Наилучший результат метрики показали 100 деревьев с глубиной 12"
   ]
  },
  {
   "cell_type": "markdown",
   "metadata": {},
   "source": [
    "### LogisticRegression"
   ]
  },
  {
   "cell_type": "code",
   "execution_count": 31,
   "metadata": {},
   "outputs": [],
   "source": [
    "model_LR = LogisticRegression(solver = 'liblinear', class_weight='balanced', random_state=12345)"
   ]
  },
  {
   "cell_type": "code",
   "execution_count": 32,
   "metadata": {},
   "outputs": [
    {
     "name": "stdout",
     "output_type": "stream",
     "text": [
      "LogisticRegression: f1 = 0.74\n"
     ]
    }
   ],
   "source": [
    "model_LR.fit(tf_idf_features_train, target_train)\n",
    "predicted_valid = model_LR.predict(tf_idf_features_valid)\n",
    "f1 = f1_score(target_valid, predicted_valid)\n",
    "\n",
    "print('LogisticRegression: f1 = {:.2f}'.format(f1))"
   ]
  },
  {
   "cell_type": "code",
   "execution_count": 33,
   "metadata": {},
   "outputs": [],
   "source": [
    "model = LogisticRegression()\n",
    "parametrs_LR = {\n",
    "    'solver': ['liblinear'],\n",
    "    'penalty' : ['l1', 'l2'],\n",
    "    'C' : [5, 10, 15],\n",
    "    'random_state': [12345],\n",
    "    'class_weight' : ['balanced'],\n",
    "}\n",
    "grid_LR = GridSearchCV(model, param_grid=parametrs_LR, cv=3, scoring='f1')"
   ]
  },
  {
   "cell_type": "code",
   "execution_count": 34,
   "metadata": {},
   "outputs": [
    {
     "name": "stdout",
     "output_type": "stream",
     "text": [
      "{'C': 10, 'class_weight': 'balanced', 'penalty': 'l2', 'random_state': 12345, 'solver': 'liblinear'}\n",
      "0.76\n"
     ]
    }
   ],
   "source": [
    "grid_LR.fit(tf_idf_features_train, target_train)\n",
    "print(grid_LR.best_params_)\n",
    "print('{:.2f}'.format(grid_LR.best_score_))"
   ]
  },
  {
   "cell_type": "code",
   "execution_count": 35,
   "metadata": {},
   "outputs": [
    {
     "data": {
      "text/plain": [
       "LogisticRegression(C=10, class_weight='balanced', random_state=12345,\n",
       "                   solver='liblinear')"
      ]
     },
     "execution_count": 35,
     "metadata": {},
     "output_type": "execute_result"
    }
   ],
   "source": [
    "grid_LR.best_estimator_"
   ]
  },
  {
   "cell_type": "raw",
   "metadata": {},
   "source": [
    "best_pen = 0\n",
    "best_c = 0\n",
    "best_score_LR = 0.0\n",
    "best_model_LR = None\n",
    "\n",
    "for pen in parametrs_LR['penalty']:\n",
    "    for c in parametrs_LR['C']:\n",
    "        model_LR = LogisticRegression(\n",
    "            solver = 'liblinear',\n",
    "            random_state=12345,\n",
    "            penalty = pen,\n",
    "            C = c,\n",
    "            class_weight='balanced'\n",
    "        )\n",
    "        model_LR.fit(tf_idf_features_train, target_train)\n",
    "        predicted_valid = model_LR.predict(tf_idf_features_valid)\n",
    "        score = f1_score(target_valid, predicted_valid)\n",
    "\n",
    "        if score > best_score_LGBM:\n",
    "            best_score_LR = score\n",
    "            best_pen = pen\n",
    "            best_c = c\n",
    "            best_model_LR = model_LR\n",
    "                \n",
    "\n",
    "print('LogisticRegression: f1 = {:.2f}'.format(best_score_LR))\n",
    "print(f'норма штрафа: {best_pen}')\n",
    "print(f'регуляризация: {best_c}')"
   ]
  },
  {
   "cell_type": "markdown",
   "metadata": {},
   "source": [
    "### DummyClassifier"
   ]
  },
  {
   "cell_type": "markdown",
   "metadata": {},
   "source": [
    "Константную модель построим на предсказании класса 0 всегда, так как она сильно чаще встречается"
   ]
  },
  {
   "cell_type": "code",
   "execution_count": 36,
   "metadata": {},
   "outputs": [],
   "source": [
    "model_Dummy = DummyClassifier(strategy = 'most_frequent')"
   ]
  },
  {
   "cell_type": "code",
   "execution_count": 37,
   "metadata": {},
   "outputs": [
    {
     "name": "stdout",
     "output_type": "stream",
     "text": [
      "DummyClassifier: f1 = 0.00\n"
     ]
    }
   ],
   "source": [
    "model_Dummy.fit(tf_idf_features_train, target_train)\n",
    "predicted_valid = model_Dummy.predict(tf_idf_features_valid)\n",
    "f1_Dummy = f1_score(target_valid, predicted_valid)\n",
    "\n",
    "print('DummyClassifier: f1 = {:.2f}'.format(f1_Dummy))"
   ]
  },
  {
   "cell_type": "markdown",
   "metadata": {},
   "source": [
    "### Итоги"
   ]
  },
  {
   "cell_type": "code",
   "execution_count": 39,
   "metadata": {},
   "outputs": [
    {
     "data": {
      "text/html": [
       "<div>\n",
       "<style scoped>\n",
       "    .dataframe tbody tr th:only-of-type {\n",
       "        vertical-align: middle;\n",
       "    }\n",
       "\n",
       "    .dataframe tbody tr th {\n",
       "        vertical-align: top;\n",
       "    }\n",
       "\n",
       "    .dataframe thead th {\n",
       "        text-align: right;\n",
       "    }\n",
       "</style>\n",
       "<table border=\"1\" class=\"dataframe\">\n",
       "  <thead>\n",
       "    <tr style=\"text-align: right;\">\n",
       "      <th></th>\n",
       "      <th>Model</th>\n",
       "      <th>f1_train</th>\n",
       "    </tr>\n",
       "  </thead>\n",
       "  <tbody>\n",
       "    <tr>\n",
       "      <th>0</th>\n",
       "      <td>RandomForestClassifier</td>\n",
       "      <td>0.48</td>\n",
       "    </tr>\n",
       "    <tr>\n",
       "      <th>1</th>\n",
       "      <td>LGBMClassifier</td>\n",
       "      <td>0.72</td>\n",
       "    </tr>\n",
       "    <tr>\n",
       "      <th>2</th>\n",
       "      <td>LogisticRegression</td>\n",
       "      <td>0.76</td>\n",
       "    </tr>\n",
       "    <tr>\n",
       "      <th>3</th>\n",
       "      <td>DummyClassifier</td>\n",
       "      <td>0.00</td>\n",
       "    </tr>\n",
       "  </tbody>\n",
       "</table>\n",
       "</div>"
      ],
      "text/plain": [
       "                    Model  f1_train\n",
       "0  RandomForestClassifier      0.48\n",
       "1          LGBMClassifier      0.72\n",
       "2      LogisticRegression      0.76\n",
       "3         DummyClassifier      0.00"
      ]
     },
     "execution_count": 39,
     "metadata": {},
     "output_type": "execute_result"
    }
   ],
   "source": [
    "values_models = pd.DataFrame(\n",
    "    [\n",
    "    ['RandomForestClassifier', best_score_forest],\n",
    "    ['LGBMClassifier', best_score_LGBM],\n",
    "    ['LogisticRegression', grid_LR.best_score_],\n",
    "    ['DummyClassifier', f1_Dummy],\n",
    "],\n",
    "    columns=['Model', 'f1_train']\n",
    ")\n",
    "values_models"
   ]
  },
  {
   "cell_type": "code",
   "execution_count": 40,
   "metadata": {},
   "outputs": [
    {
     "data": {
      "text/html": [
       "<div>\n",
       "<style scoped>\n",
       "    .dataframe tbody tr th:only-of-type {\n",
       "        vertical-align: middle;\n",
       "    }\n",
       "\n",
       "    .dataframe tbody tr th {\n",
       "        vertical-align: top;\n",
       "    }\n",
       "\n",
       "    .dataframe thead th {\n",
       "        text-align: right;\n",
       "    }\n",
       "</style>\n",
       "<table border=\"1\" class=\"dataframe\">\n",
       "  <thead>\n",
       "    <tr style=\"text-align: right;\">\n",
       "      <th></th>\n",
       "      <th>Model</th>\n",
       "      <th>f1_train</th>\n",
       "    </tr>\n",
       "  </thead>\n",
       "  <tbody>\n",
       "    <tr>\n",
       "      <th>2</th>\n",
       "      <td>LogisticRegression</td>\n",
       "      <td>0.76</td>\n",
       "    </tr>\n",
       "    <tr>\n",
       "      <th>1</th>\n",
       "      <td>LGBMClassifier</td>\n",
       "      <td>0.72</td>\n",
       "    </tr>\n",
       "    <tr>\n",
       "      <th>0</th>\n",
       "      <td>RandomForestClassifier</td>\n",
       "      <td>0.48</td>\n",
       "    </tr>\n",
       "    <tr>\n",
       "      <th>3</th>\n",
       "      <td>DummyClassifier</td>\n",
       "      <td>0.00</td>\n",
       "    </tr>\n",
       "  </tbody>\n",
       "</table>\n",
       "</div>"
      ],
      "text/plain": [
       "                    Model  f1_train\n",
       "2      LogisticRegression      0.76\n",
       "1          LGBMClassifier      0.72\n",
       "0  RandomForestClassifier      0.48\n",
       "3         DummyClassifier      0.00"
      ]
     },
     "execution_count": 40,
     "metadata": {},
     "output_type": "execute_result"
    }
   ],
   "source": [
    "sort = values_models.sort_values(by='f1_train', ascending=False)\n",
    "sort"
   ]
  },
  {
   "cell_type": "code",
   "execution_count": 41,
   "metadata": {
    "scrolled": true
   },
   "outputs": [
    {
     "data": {
      "image/png": "[encoded data removed]",
      "text/plain": [
       "<Figure size 864x432 with 1 Axes>"
      ]
     },
     "metadata": {
      "needs_background": "light"
     },
     "output_type": "display_data"
    }
   ],
   "source": [
    "plt.figure(figsize=(12,6))\n",
    "sns.set_style('darkgrid')\n",
    "\n",
    "sns.barplot(y=sort['Model'], x=sort['f1_train'])\n",
    "\n",
    "plt.title('Значение f1 для моделей на обучающей выборке')\n",
    "plt.show()"
   ]
  },
  {
   "cell_type": "markdown",
   "metadata": {},
   "source": [
    "### Вывод:\n",
    "1. обучили три модели: RandomForestClassifier, LGBMClassifier, LogisticRegression\n",
    "2. также константную модель DummyClassifier\n",
    "3. наилучший результат показала LogisticRegression и DummyClassifier с фиксированным предсказанием класса 0\n",
    "4. чуть хуже результат у LGBMClassifier и на последнем месте RandomForestClassifier"
   ]
  },
  {
   "cell_type": "markdown",
   "metadata": {},
   "source": [
    "## Тестовая выборка"
   ]
  },
  {
   "cell_type": "code",
   "execution_count": 42,
   "metadata": {},
   "outputs": [],
   "source": [
    "def test(model, features_train, target_train, features_test, target_test, model_name):\n",
    "    model.fit(features_train, target_train)\n",
    "    predicted_test = model.predict(features_test)\n",
    "    f1 = f1_score(target_test, predicted_test)\n",
    "\n",
    "    probabilities_test = model.predict_proba(features_test)\n",
    "    probabilities_one_test = probabilities_test[:, 1]\n",
    "    roc_auc = roc_auc_score(target_test, probabilities_one_test)\n",
    "\n",
    "    print(model_name, ': f1 = {:.2f}'.format(f1))\n",
    "    print(model_name, ': roc_auc = {:.2f}'.format(roc_auc))\n",
    "    \n",
    "    fpr, tpr, thresholds = roc_curve(target_test, probabilities_one_test)\n",
    "\n",
    "    plt.figure(figsize=(6,6))\n",
    "    plt.plot(fpr, tpr)\n",
    "    # plt.step(fpr, tpr, where='post')\n",
    "    plt.plot([0,1],[0,1], linestyle='--')\n",
    "    plt.xlim(0,1)\n",
    "    plt.ylim(0,1)\n",
    "    plt.xlabel('Доля ложноположительных предсказаний')\n",
    "    plt.ylabel('Доля положительных ответов')\n",
    "    plt.title('ROC-кривая ' + model_name)\n",
    "\n",
    "    plt.show()\n",
    "    \n",
    "    matrix = confusion_matrix(target_test, predicted_test)\n",
    "    print(matrix)\n",
    "    print()\n",
    "    recall = recall_score(target_test, predicted_test)\n",
    "    precision = precision_score(target_test, predicted_test)\n",
    "    print(model_name, ': recall = {:.2f}'.format(recall))\n",
    "    print(model_name, ': precision = {:.2f}'.format(precision))\n",
    "    \n",
    "    precision_plot, recall_plot, thresholds = precision_recall_curve(target_test, probabilities_one_test)\n",
    "\n",
    "    plt.figure(figsize=(6, 6))\n",
    "    plt.plot(recall_plot, precision_plot)\n",
    "    plt.xlabel('Полнота')\n",
    "    plt.ylabel('Точность')\n",
    "    plt.ylim([0.0, 1.05])\n",
    "    plt.xlim([0.0, 1.0])\n",
    "    plt.title('Кривая Точность - Полнота')\n",
    "    plt.show() \n",
    "    \n",
    "    return f1, recall, precision, roc_auc"
   ]
  },
  {
   "cell_type": "code",
   "execution_count": 43,
   "metadata": {},
   "outputs": [],
   "source": [
    "total_features = pd.concat([features_train] + [features_valid])\n",
    "total_target = pd.concat([target_train] + [target_valid])"
   ]
  },
  {
   "cell_type": "code",
   "execution_count": 44,
   "metadata": {},
   "outputs": [],
   "source": [
    "total_features_tf_idf = count_tf_idf.transform(total_features.values)"
   ]
  },
  {
   "cell_type": "markdown",
   "metadata": {},
   "source": [
    "### RandomForestClassifier"
   ]
  },
  {
   "cell_type": "code",
   "execution_count": 45,
   "metadata": {},
   "outputs": [
    {
     "name": "stdout",
     "output_type": "stream",
     "text": [
      "RandomForestClassifier : f1 = 0.45\n",
      "RandomForestClassifier : roc_auc = 0.88\n"
     ]
    },
    {
     "data": {
      "image/png": "[encoded data removed]",
      "text/plain": [
       "<Figure size 432x432 with 1 Axes>"
      ]
     },
     "metadata": {},
     "output_type": "display_data"
    },
    {
     "name": "stdout",
     "output_type": "stream",
     "text": [
      "[[23431  5274]\n",
      " [  765  2445]]\n",
      "\n",
      "RandomForestClassifier : recall = 0.76\n",
      "RandomForestClassifier : precision = 0.32\n"
     ]
    },
    {
     "data": {
      "image/png": "[encoded data removed]",
      "text/plain": [
       "<Figure size 432x432 with 1 Axes>"
      ]
     },
     "metadata": {},
     "output_type": "display_data"
    }
   ],
   "source": [
    "f1_test_RF, recall_test_RF, precision_test_RF, roc_auc_test_RF = test(\n",
    "    best_model_forest,\n",
    "    total_features_tf_idf, \n",
    "    total_target, \n",
    "    tf_idf_features_test, \n",
    "    target_test, \n",
    "    'RandomForestClassifier')"
   ]
  },
  {
   "cell_type": "markdown",
   "metadata": {},
   "source": [
    "### LGBMClassifier"
   ]
  },
  {
   "cell_type": "code",
   "execution_count": 46,
   "metadata": {},
   "outputs": [
    {
     "name": "stdout",
     "output_type": "stream",
     "text": [
      "LGBMClassifier : f1 = 0.72\n",
      "LGBMClassifier : roc_auc = 0.94\n"
     ]
    },
    {
     "data": {
      "image/png": "[encoded data removed]",
      "text/plain": [
       "<Figure size 432x432 with 1 Axes>"
      ]
     },
     "metadata": {},
     "output_type": "display_data"
    },
    {
     "name": "stdout",
     "output_type": "stream",
     "text": [
      "[[27576  1129]\n",
      " [  781  2429]]\n",
      "\n",
      "LGBMClassifier : recall = 0.76\n",
      "LGBMClassifier : precision = 0.68\n"
     ]
    },
    {
     "data": {
      "image/png": "[encoded data removed]",
      "text/plain": [
       "<Figure size 432x432 with 1 Axes>"
      ]
     },
     "metadata": {},
     "output_type": "display_data"
    }
   ],
   "source": [
    "f1_test_LGBM, recall_test_LGBM, precision_test_LGBM, roc_auc_test_LGBM = test(\n",
    "    best_model_LGBM,\n",
    "    total_features_tf_idf, \n",
    "    total_target, \n",
    "    tf_idf_features_test, \n",
    "    target_test, \n",
    "    'LGBMClassifier')"
   ]
  },
  {
   "cell_type": "markdown",
   "metadata": {},
   "source": [
    "### LogisticRegression"
   ]
  },
  {
   "cell_type": "code",
   "execution_count": 47,
   "metadata": {},
   "outputs": [
    {
     "name": "stdout",
     "output_type": "stream",
     "text": [
      "LogisticRegression : f1 = 0.76\n",
      "LogisticRegression : roc_auc = 0.97\n"
     ]
    },
    {
     "data": {
      "image/png": "[encoded data removed]",
      "text/plain": [
       "<Figure size 432x432 with 1 Axes>"
      ]
     },
     "metadata": {},
     "output_type": "display_data"
    },
    {
     "name": "stdout",
     "output_type": "stream",
     "text": [
      "[[27605  1100]\n",
      " [  583  2627]]\n",
      "\n",
      "LogisticRegression : recall = 0.82\n",
      "LogisticRegression : precision = 0.70\n"
     ]
    },
    {
     "data": {
      "image/png": "[encoded data removed]",
      "text/plain": [
       "<Figure size 432x432 with 1 Axes>"
      ]
     },
     "metadata": {},
     "output_type": "display_data"
    }
   ],
   "source": [
    "f1_test_LR, recall_test_LR, precision_test_LR, roc_auc_test_LR = test(\n",
    "    grid_LR.best_estimator_,\n",
    "    total_features_tf_idf, \n",
    "    total_target, \n",
    "    tf_idf_features_test, \n",
    "    target_test, \n",
    "    'LogisticRegression')"
   ]
  },
  {
   "cell_type": "markdown",
   "metadata": {},
   "source": [
    "### DummyClassifier"
   ]
  },
  {
   "cell_type": "code",
   "execution_count": 48,
   "metadata": {},
   "outputs": [
    {
     "name": "stdout",
     "output_type": "stream",
     "text": [
      "DummyClassifier : f1 = 0.00\n",
      "DummyClassifier : roc_auc = 0.50\n"
     ]
    },
    {
     "data": {
      "image/png": "[encoded data removed]",
      "text/plain": [
       "<Figure size 432x432 with 1 Axes>"
      ]
     },
     "metadata": {},
     "output_type": "display_data"
    },
    {
     "name": "stdout",
     "output_type": "stream",
     "text": [
      "[[28705     0]\n",
      " [ 3210     0]]\n",
      "\n",
      "DummyClassifier : recall = 0.00\n",
      "DummyClassifier : precision = 0.00\n"
     ]
    },
    {
     "data": {
      "image/png": "[encoded data removed]",
      "text/plain": [
       "<Figure size 432x432 with 1 Axes>"
      ]
     },
     "metadata": {},
     "output_type": "display_data"
    }
   ],
   "source": [
    "f1_test_Dummy, recall_test_Dummy, precision_test_Dummy, roc_auc_test_Dummy = test(\n",
    "    model_Dummy,\n",
    "    total_features_tf_idf, \n",
    "    total_target, \n",
    "    tf_idf_features_test, \n",
    "    target_test, \n",
    "    'DummyClassifier')"
   ]
  },
  {
   "cell_type": "markdown",
   "metadata": {},
   "source": [
    "Полнота и точность равны нулю, так как отсутствуют значения True Positive, которые участвуют в обеих формулах. Значения отсутствуют, так как мы постоянно предсказываем класс \"0\""
   ]
  },
  {
   "cell_type": "markdown",
   "metadata": {},
   "source": [
    "### Итоги"
   ]
  },
  {
   "cell_type": "code",
   "execution_count": 49,
   "metadata": {},
   "outputs": [],
   "source": [
    "values_models['f1_test'] = [f1_test_RF, f1_test_LGBM, f1_test_LR, f1_test_Dummy]\n",
    "values_models['recall'] = [recall_test_RF, recall_test_LGBM, recall_test_LR, recall_test_Dummy]\n",
    "values_models['precision'] = [precision_test_RF, precision_test_LGBM, precision_test_LR, precision_test_Dummy]\n",
    "values_models['roc_auc'] = [roc_auc_test_RF, roc_auc_test_LGBM, roc_auc_test_LR, roc_auc_test_Dummy]\n"
   ]
  },
  {
   "cell_type": "code",
   "execution_count": 50,
   "metadata": {},
   "outputs": [
    {
     "data": {
      "text/html": [
       "<div>\n",
       "<style scoped>\n",
       "    .dataframe tbody tr th:only-of-type {\n",
       "        vertical-align: middle;\n",
       "    }\n",
       "\n",
       "    .dataframe tbody tr th {\n",
       "        vertical-align: top;\n",
       "    }\n",
       "\n",
       "    .dataframe thead th {\n",
       "        text-align: right;\n",
       "    }\n",
       "</style>\n",
       "<table border=\"1\" class=\"dataframe\">\n",
       "  <thead>\n",
       "    <tr style=\"text-align: right;\">\n",
       "      <th></th>\n",
       "      <th>Model</th>\n",
       "      <th>f1_train</th>\n",
       "      <th>f1_test</th>\n",
       "      <th>recall</th>\n",
       "      <th>precision</th>\n",
       "      <th>roc_auc</th>\n",
       "    </tr>\n",
       "  </thead>\n",
       "  <tbody>\n",
       "    <tr>\n",
       "      <th>0</th>\n",
       "      <td>RandomForestClassifier</td>\n",
       "      <td>0.48</td>\n",
       "      <td>0.45</td>\n",
       "      <td>0.76</td>\n",
       "      <td>0.32</td>\n",
       "      <td>0.88</td>\n",
       "    </tr>\n",
       "    <tr>\n",
       "      <th>1</th>\n",
       "      <td>LGBMClassifier</td>\n",
       "      <td>0.72</td>\n",
       "      <td>0.72</td>\n",
       "      <td>0.76</td>\n",
       "      <td>0.68</td>\n",
       "      <td>0.94</td>\n",
       "    </tr>\n",
       "    <tr>\n",
       "      <th>2</th>\n",
       "      <td>LogisticRegression</td>\n",
       "      <td>0.76</td>\n",
       "      <td>0.76</td>\n",
       "      <td>0.82</td>\n",
       "      <td>0.70</td>\n",
       "      <td>0.97</td>\n",
       "    </tr>\n",
       "    <tr>\n",
       "      <th>3</th>\n",
       "      <td>DummyClassifier</td>\n",
       "      <td>0.00</td>\n",
       "      <td>0.00</td>\n",
       "      <td>0.00</td>\n",
       "      <td>0.00</td>\n",
       "      <td>0.50</td>\n",
       "    </tr>\n",
       "  </tbody>\n",
       "</table>\n",
       "</div>"
      ],
      "text/plain": [
       "                    Model  f1_train  f1_test  recall  precision  roc_auc\n",
       "0  RandomForestClassifier      0.48     0.45    0.76       0.32     0.88\n",
       "1          LGBMClassifier      0.72     0.72    0.76       0.68     0.94\n",
       "2      LogisticRegression      0.76     0.76    0.82       0.70     0.97\n",
       "3         DummyClassifier      0.00     0.00    0.00       0.00     0.50"
      ]
     },
     "execution_count": 50,
     "metadata": {},
     "output_type": "execute_result"
    }
   ],
   "source": [
    "values_models"
   ]
  },
  {
   "cell_type": "code",
   "execution_count": 51,
   "metadata": {},
   "outputs": [
    {
     "data": {
      "image/png": "[encoded data removed]",
      "text/plain": [
       "<Figure size 864x432 with 1 Axes>"
      ]
     },
     "metadata": {},
     "output_type": "display_data"
    }
   ],
   "source": [
    "plt.figure(figsize=(12,6))\n",
    "sns.set_style('darkgrid')\n",
    "\n",
    "sns.barplot(y=values_models['Model'], x=values_models['f1_test'])\n",
    "\n",
    "plt.title('Значение f1 для моделей на тестовой выборке')\n",
    "plt.show()"
   ]
  },
  {
   "cell_type": "code",
   "execution_count": 52,
   "metadata": {},
   "outputs": [
    {
     "data": {
      "image/png": "[encoded data removed]",
      "text/plain": [
       "<Figure size 1080x576 with 1 Axes>"
      ]
     },
     "metadata": {},
     "output_type": "display_data"
    }
   ],
   "source": [
    "fig, ax = plt.subplots(figsize=(15,8))\n",
    "# plt.subplots(1,2,1)\n",
    "ind = np.arange(len(values_models))\n",
    "width = 0.4\n",
    "\n",
    "ax.barh(ind, values_models['recall'],width, color='green', label='recall')\n",
    "ax.barh(ind + width, values_models['precision'], width, color='grey', label='precision')\n",
    "ax.set(yticks=ind + width, yticklabels=values_models['Model'])\n",
    "ax.legend()\n",
    "plt.title('precision_recall')\n",
    "\n",
    "plt.show()"
   ]
  },
  {
   "cell_type": "markdown",
   "metadata": {},
   "source": [
    "### Общий вывод:\n",
    "1. получили на вход таблицу с текстом и разметкой о токсичности комментариев для построения модели с целью предсказания положительных (класс 0) и отрицательных комментариев (класс 1)\n",
    "2. в предобработке очистили данных от лишних символов, оставив только буквы английского алфавита и привели слова к их словарной форме (лемматизировали)\n",
    "3. выявили значительную разбалансировку классов (9:1 отрицательного к положительному классу)\n",
    "4. обучили три модели: RandomForestClassifier, LGBMClassifier, LogisticRegression и константную модель с постоянным предсказанием класса 0, так как данный класс в 9 раз превышает класс 1\n",
    "5. с метрикой __f1_score__ наилучшим образом показала себя модель LogisticRegression, чуть хуже значение у модели LGBMClassifier\n",
    "6. на тестовой выборке результаты подтвердились, __f1_score__ почти не отличается от результатов на обучающей, что говорит о том, что модели не были переобучены\n",
    "7. наиболее предпочтительной выглядит модель LogisticRegression с __f1_score = 0.76__ и наивысшим результатом полноты и точности"
   ]
  },
  {
   "cell_type": "code",
   "execution_count": null,
   "metadata": {},
   "outputs": [],
   "source": []
  }
 ],
 "metadata": {
  "ExecuteTimeLog": [
   {
    "duration": 5086,
    "start_time": "2022-01-20T18:30:28.539Z"
   },
   {
    "duration": 592,
    "start_time": "2022-01-20T18:30:43.997Z"
   },
   {
    "duration": 23,
    "start_time": "2022-01-20T18:33:10.387Z"
   },
   {
    "duration": 23,
    "start_time": "2022-01-20T18:34:44.373Z"
   },
   {
    "duration": 996,
    "start_time": "2022-01-21T10:30:43.184Z"
   },
   {
    "duration": 3,
    "start_time": "2022-01-21T10:34:00.184Z"
   },
   {
    "duration": 300,
    "start_time": "2022-01-21T10:36:22.264Z"
   },
   {
    "duration": 268,
    "start_time": "2022-01-21T10:36:36.737Z"
   },
   {
    "duration": 3264,
    "start_time": "2022-01-21T10:36:39.743Z"
   },
   {
    "duration": 29,
    "start_time": "2022-01-21T10:36:43.009Z"
   },
   {
    "duration": 1061,
    "start_time": "2022-01-21T10:38:55.800Z"
   },
   {
    "duration": 3247,
    "start_time": "2022-01-21T10:38:58.207Z"
   },
   {
    "duration": 30,
    "start_time": "2022-01-21T10:39:02.619Z"
   },
   {
    "duration": 1116,
    "start_time": "2022-01-21T10:39:26.023Z"
   },
   {
    "duration": 3233,
    "start_time": "2022-01-21T10:39:27.141Z"
   },
   {
    "duration": 28,
    "start_time": "2022-01-21T10:39:30.376Z"
   },
   {
    "duration": 2177,
    "start_time": "2022-01-21T10:39:30.406Z"
   },
   {
    "duration": 4,
    "start_time": "2022-01-21T10:39:41.111Z"
   },
   {
    "duration": 3,
    "start_time": "2022-01-21T10:41:02.487Z"
   },
   {
    "duration": 153,
    "start_time": "2022-01-21T10:56:07.456Z"
   },
   {
    "duration": 236,
    "start_time": "2022-01-21T10:59:11.689Z"
   },
   {
    "duration": 317,
    "start_time": "2022-01-21T11:02:39.552Z"
   },
   {
    "duration": 221,
    "start_time": "2022-01-21T11:03:20.272Z"
   },
   {
    "duration": 2122,
    "start_time": "2022-01-21T11:04:15.960Z"
   },
   {
    "duration": 235,
    "start_time": "2022-01-21T11:05:35.809Z"
   },
   {
    "duration": 32,
    "start_time": "2022-01-21T11:06:08.345Z"
   },
   {
    "duration": 231,
    "start_time": "2022-01-21T11:06:16.160Z"
   },
   {
    "duration": 4,
    "start_time": "2022-01-21T11:06:53.875Z"
   },
   {
    "duration": 1138,
    "start_time": "2022-01-21T11:07:15.383Z"
   },
   {
    "duration": 3219,
    "start_time": "2022-01-21T11:07:16.523Z"
   },
   {
    "duration": 38,
    "start_time": "2022-01-21T11:07:19.745Z"
   },
   {
    "duration": 2182,
    "start_time": "2022-01-21T11:07:19.785Z"
   },
   {
    "duration": 3,
    "start_time": "2022-01-21T11:07:29.002Z"
   },
   {
    "duration": 3,
    "start_time": "2022-01-21T11:07:40.553Z"
   },
   {
    "duration": 601,
    "start_time": "2022-01-21T11:07:49.868Z"
   },
   {
    "duration": 3,
    "start_time": "2022-01-21T11:08:35.910Z"
   },
   {
    "duration": 5,
    "start_time": "2022-01-21T11:09:51.873Z"
   },
   {
    "duration": 1257,
    "start_time": "2022-01-21T11:11:29.896Z"
   },
   {
    "duration": 3338,
    "start_time": "2022-01-21T11:11:32.071Z"
   },
   {
    "duration": 30,
    "start_time": "2022-01-21T11:11:35.411Z"
   },
   {
    "duration": 2255,
    "start_time": "2022-01-21T11:11:36.452Z"
   },
   {
    "duration": 6,
    "start_time": "2022-01-21T11:11:40.171Z"
   },
   {
    "duration": 27591,
    "start_time": "2022-01-21T11:11:46.728Z"
   },
   {
    "duration": 4,
    "start_time": "2022-01-21T11:14:31.899Z"
   },
   {
    "duration": 380,
    "start_time": "2022-01-21T11:14:43.842Z"
   },
   {
    "duration": 231,
    "start_time": "2022-01-21T11:15:38.089Z"
   },
   {
    "duration": 25662,
    "start_time": "2022-01-21T11:17:35.744Z"
   },
   {
    "duration": 81488,
    "start_time": "2022-01-21T11:16:39.920Z"
   },
   {
    "duration": 5,
    "start_time": "2022-01-21T11:18:03.501Z"
   },
   {
    "duration": 6494,
    "start_time": "2022-01-21T11:19:03.222Z"
   },
   {
    "duration": 29,
    "start_time": "2022-01-21T11:19:12.455Z"
   },
   {
    "duration": 270,
    "start_time": "2022-01-21T11:20:42.412Z"
   },
   {
    "duration": 234,
    "start_time": "2022-01-21T11:21:41.454Z"
   },
   {
    "duration": 22476,
    "start_time": "2022-01-21T11:21:55.810Z"
   },
   {
    "duration": 211,
    "start_time": "2022-01-21T11:22:37.768Z"
   },
   {
    "duration": 301,
    "start_time": "2022-01-21T11:23:12.810Z"
   },
   {
    "duration": 225,
    "start_time": "2022-01-21T11:23:25.109Z"
   },
   {
    "duration": 222,
    "start_time": "2022-01-21T11:23:37.951Z"
   },
   {
    "duration": 32234,
    "start_time": "2022-01-21T11:23:44.507Z"
   },
   {
    "duration": 282,
    "start_time": "2022-01-21T11:25:13.073Z"
   },
   {
    "duration": 284,
    "start_time": "2022-01-21T11:30:22.708Z"
   },
   {
    "duration": 3,
    "start_time": "2022-01-21T11:32:51.254Z"
   },
   {
    "duration": 298,
    "start_time": "2022-01-21T11:32:58.158Z"
   },
   {
    "duration": 1056,
    "start_time": "2022-01-21T11:33:39.426Z"
   },
   {
    "duration": 3,
    "start_time": "2022-01-21T11:34:21.812Z"
   },
   {
    "duration": 4,
    "start_time": "2022-01-21T11:34:37.312Z"
   },
   {
    "duration": 4,
    "start_time": "2022-01-21T11:34:48.517Z"
   },
   {
    "duration": 3,
    "start_time": "2022-01-21T11:35:09.833Z"
   },
   {
    "duration": 4,
    "start_time": "2022-01-21T11:35:20.903Z"
   },
   {
    "duration": 6429,
    "start_time": "2022-01-21T11:35:43.824Z"
   },
   {
    "duration": 26,
    "start_time": "2022-01-21T11:35:56.320Z"
   },
   {
    "duration": 231,
    "start_time": "2022-01-21T11:36:07.873Z"
   },
   {
    "duration": 3,
    "start_time": "2022-01-21T11:40:33.080Z"
   },
   {
    "duration": 1199160,
    "start_time": "2022-01-21T11:40:39.875Z"
   },
   {
    "duration": 80986,
    "start_time": "2022-01-21T11:59:18.051Z"
   },
   {
    "duration": 1341,
    "start_time": "2022-01-21T12:03:06.743Z"
   },
   {
    "duration": 3353,
    "start_time": "2022-01-21T12:03:08.086Z"
   },
   {
    "duration": 39,
    "start_time": "2022-01-21T12:03:11.443Z"
   },
   {
    "duration": 2326,
    "start_time": "2022-01-21T12:03:11.484Z"
   },
   {
    "duration": 13,
    "start_time": "2022-01-21T12:03:13.813Z"
   },
   {
    "duration": 247,
    "start_time": "2022-01-21T12:03:13.828Z"
   },
   {
    "duration": 3,
    "start_time": "2022-01-21T12:03:14.078Z"
   },
   {
    "duration": 34,
    "start_time": "2022-01-21T12:03:14.083Z"
   },
   {
    "duration": 36,
    "start_time": "2022-01-21T12:03:14.119Z"
   },
   {
    "duration": 6598,
    "start_time": "2022-01-21T12:03:14.157Z"
   },
   {
    "duration": 1204,
    "start_time": "2022-01-21T15:30:50.887Z"
   },
   {
    "duration": 4798,
    "start_time": "2022-01-21T15:30:52.093Z"
   },
   {
    "duration": 27,
    "start_time": "2022-01-21T15:30:56.893Z"
   },
   {
    "duration": 3155,
    "start_time": "2022-01-21T15:30:56.922Z"
   },
   {
    "duration": 20,
    "start_time": "2022-01-21T15:31:00.080Z"
   },
   {
    "duration": 351,
    "start_time": "2022-01-21T15:31:00.102Z"
   },
   {
    "duration": 2217,
    "start_time": "2022-01-21T15:33:01.582Z"
   },
   {
    "duration": 81129,
    "start_time": "2022-01-21T15:31:42.672Z"
   },
   {
    "duration": 81124,
    "start_time": "2022-01-21T15:31:42.681Z"
   },
   {
    "duration": 81123,
    "start_time": "2022-01-21T15:31:42.683Z"
   },
   {
    "duration": 81121,
    "start_time": "2022-01-21T15:31:42.686Z"
   },
   {
    "duration": 81119,
    "start_time": "2022-01-21T15:31:42.689Z"
   },
   {
    "duration": 81118,
    "start_time": "2022-01-21T15:31:42.691Z"
   },
   {
    "duration": 81117,
    "start_time": "2022-01-21T15:31:42.693Z"
   },
   {
    "duration": 81116,
    "start_time": "2022-01-21T15:31:42.695Z"
   },
   {
    "duration": 81115,
    "start_time": "2022-01-21T15:31:42.697Z"
   },
   {
    "duration": 81114,
    "start_time": "2022-01-21T15:31:42.699Z"
   },
   {
    "duration": 81111,
    "start_time": "2022-01-21T15:31:42.703Z"
   },
   {
    "duration": -92,
    "start_time": "2022-01-21T16:03:42.894Z"
   },
   {
    "duration": 38319,
    "start_time": "2022-01-21T16:03:46.494Z"
   },
   {
    "duration": 3,
    "start_time": "2022-01-21T16:05:17.020Z"
   },
   {
    "duration": 1266,
    "start_time": "2022-01-21T16:05:19.687Z"
   },
   {
    "duration": 32,
    "start_time": "2022-01-21T16:05:21.992Z"
   },
   {
    "duration": 2274,
    "start_time": "2022-01-21T16:06:32.998Z"
   },
   {
    "duration": 3,
    "start_time": "2022-01-21T16:06:38.063Z"
   },
   {
    "duration": 173481,
    "start_time": "2022-01-21T16:06:39.586Z"
   },
   {
    "duration": -65,
    "start_time": "2022-01-21T17:11:17.648Z"
   },
   {
    "duration": -66,
    "start_time": "2022-01-21T17:11:17.650Z"
   },
   {
    "duration": 66,
    "start_time": "2022-01-21T17:15:20.065Z"
   },
   {
    "duration": 649,
    "start_time": "2022-01-21T17:18:03.942Z"
   },
   {
    "duration": 682,
    "start_time": "2022-01-21T17:18:23.333Z"
   },
   {
    "duration": 28,
    "start_time": "2022-01-21T17:18:48.438Z"
   },
   {
    "duration": 3,
    "start_time": "2022-01-21T17:19:02.111Z"
   },
   {
    "duration": 1279,
    "start_time": "2022-01-21T17:25:18.181Z"
   },
   {
    "duration": 684,
    "start_time": "2022-01-21T17:25:19.462Z"
   },
   {
    "duration": 30,
    "start_time": "2022-01-21T17:25:20.148Z"
   },
   {
    "duration": 18,
    "start_time": "2022-01-21T17:25:20.180Z"
   },
   {
    "duration": 802010,
    "start_time": "2022-01-21T17:25:20.200Z"
   },
   {
    "duration": -119,
    "start_time": "2022-01-21T17:38:42.331Z"
   },
   {
    "duration": -119,
    "start_time": "2022-01-21T17:38:42.332Z"
   },
   {
    "duration": -120,
    "start_time": "2022-01-21T17:38:42.334Z"
   },
   {
    "duration": -120,
    "start_time": "2022-01-21T17:38:42.335Z"
   },
   {
    "duration": -119,
    "start_time": "2022-01-21T17:38:42.335Z"
   },
   {
    "duration": -119,
    "start_time": "2022-01-21T17:38:42.336Z"
   },
   {
    "duration": -119,
    "start_time": "2022-01-21T17:38:42.337Z"
   },
   {
    "duration": -120,
    "start_time": "2022-01-21T17:38:42.338Z"
   },
   {
    "duration": 1290,
    "start_time": "2022-01-21T17:38:48.955Z"
   },
   {
    "duration": 701,
    "start_time": "2022-01-21T17:38:50.247Z"
   },
   {
    "duration": 31,
    "start_time": "2022-01-21T17:38:50.951Z"
   },
   {
    "duration": 3,
    "start_time": "2022-01-21T17:38:50.998Z"
   },
   {
    "duration": 861131,
    "start_time": "2022-01-21T17:38:51.003Z"
   },
   {
    "duration": -77,
    "start_time": "2022-01-21T17:53:12.216Z"
   },
   {
    "duration": -77,
    "start_time": "2022-01-21T17:53:12.217Z"
   },
   {
    "duration": -79,
    "start_time": "2022-01-21T17:53:12.221Z"
   },
   {
    "duration": -78,
    "start_time": "2022-01-21T17:53:12.221Z"
   },
   {
    "duration": -77,
    "start_time": "2022-01-21T17:53:12.222Z"
   },
   {
    "duration": -76,
    "start_time": "2022-01-21T17:53:12.222Z"
   },
   {
    "duration": -75,
    "start_time": "2022-01-21T17:53:12.223Z"
   },
   {
    "duration": -75,
    "start_time": "2022-01-21T17:53:12.224Z"
   },
   {
    "duration": 11,
    "start_time": "2022-01-21T17:53:15.000Z"
   },
   {
    "duration": 3,
    "start_time": "2022-01-21T17:53:16.961Z"
   },
   {
    "duration": 84016,
    "start_time": "2022-01-21T17:53:18.149Z"
   },
   {
    "duration": 7086,
    "start_time": "2022-01-21T17:56:53.148Z"
   },
   {
    "duration": 3,
    "start_time": "2022-01-21T17:57:02.575Z"
   },
   {
    "duration": 56,
    "start_time": "2022-01-21T17:57:03.280Z"
   },
   {
    "duration": 4,
    "start_time": "2022-01-21T17:57:03.994Z"
   },
   {
    "duration": 11,
    "start_time": "2022-01-21T17:57:07.624Z"
   },
   {
    "duration": 3,
    "start_time": "2022-01-21T18:24:15.941Z"
   },
   {
    "duration": 483197,
    "start_time": "2022-01-21T18:24:17.810Z"
   },
   {
    "duration": 1209,
    "start_time": "2022-01-22T06:10:47.610Z"
   },
   {
    "duration": 785,
    "start_time": "2022-01-22T06:10:48.821Z"
   },
   {
    "duration": 30,
    "start_time": "2022-01-22T06:10:49.608Z"
   },
   {
    "duration": 3,
    "start_time": "2022-01-22T06:10:49.640Z"
   },
   {
    "duration": 7,
    "start_time": "2022-01-22T06:10:49.644Z"
   },
   {
    "duration": 4,
    "start_time": "2022-01-22T06:10:49.653Z"
   },
   {
    "duration": 74539,
    "start_time": "2022-01-22T06:10:49.659Z"
   },
   {
    "duration": 6806,
    "start_time": "2022-01-22T06:12:04.200Z"
   },
   {
    "duration": 2,
    "start_time": "2022-01-22T06:12:11.009Z"
   },
   {
    "duration": 61,
    "start_time": "2022-01-22T06:12:11.013Z"
   },
   {
    "duration": 4,
    "start_time": "2022-01-22T06:12:11.076Z"
   },
   {
    "duration": 9,
    "start_time": "2022-01-22T06:12:11.097Z"
   },
   {
    "duration": 2,
    "start_time": "2022-01-22T06:12:11.108Z"
   },
   {
    "duration": 220394,
    "start_time": "2022-01-22T06:12:11.112Z"
   },
   {
    "duration": 236,
    "start_time": "2022-01-22T06:15:51.508Z"
   },
   {
    "duration": -122,
    "start_time": "2022-01-22T06:15:51.868Z"
   },
   {
    "duration": -123,
    "start_time": "2022-01-22T06:15:51.870Z"
   },
   {
    "duration": 4,
    "start_time": "2022-01-22T06:17:15.633Z"
   },
   {
    "duration": 3,
    "start_time": "2022-01-22T06:17:20.645Z"
   },
   {
    "duration": 467912,
    "start_time": "2022-01-22T06:17:23.228Z"
   },
   {
    "duration": 4,
    "start_time": "2022-01-22T06:25:11.142Z"
   },
   {
    "duration": 6964,
    "start_time": "2022-01-22T06:25:52.394Z"
   },
   {
    "duration": 3,
    "start_time": "2022-01-22T06:25:59.360Z"
   },
   {
    "duration": 51,
    "start_time": "2022-01-22T06:26:00.960Z"
   },
   {
    "duration": 46,
    "start_time": "2022-01-22T06:26:02.906Z"
   },
   {
    "duration": 5,
    "start_time": "2022-01-22T06:26:36.027Z"
   },
   {
    "duration": 4,
    "start_time": "2022-01-22T06:26:56.329Z"
   },
   {
    "duration": 393,
    "start_time": "2022-01-22T06:26:58.801Z"
   },
   {
    "duration": 4,
    "start_time": "2022-01-22T06:28:01.835Z"
   },
   {
    "duration": 368,
    "start_time": "2022-01-22T06:28:19.879Z"
   },
   {
    "duration": 361,
    "start_time": "2022-01-22T06:29:17.285Z"
   },
   {
    "duration": 4,
    "start_time": "2022-01-22T06:37:51.084Z"
   },
   {
    "duration": 146,
    "start_time": "2022-01-22T06:41:17.862Z"
   },
   {
    "duration": 139,
    "start_time": "2022-01-22T06:42:13.694Z"
   },
   {
    "duration": 159732,
    "start_time": "2022-01-22T06:42:51.771Z"
   },
   {
    "duration": 172,
    "start_time": "2022-01-22T06:45:44.908Z"
   },
   {
    "duration": 2,
    "start_time": "2022-01-22T06:45:55.649Z"
   },
   {
    "duration": 144,
    "start_time": "2022-01-22T06:46:03.732Z"
   },
   {
    "duration": 3,
    "start_time": "2022-01-22T06:46:17.168Z"
   },
   {
    "duration": 6,
    "start_time": "2022-01-22T06:46:57.752Z"
   },
   {
    "duration": 6,
    "start_time": "2022-01-22T06:47:09.016Z"
   },
   {
    "duration": 241,
    "start_time": "2022-01-22T06:47:19.969Z"
   },
   {
    "duration": 359,
    "start_time": "2022-01-22T06:47:58.194Z"
   },
   {
    "duration": 142,
    "start_time": "2022-01-22T06:48:40.291Z"
   },
   {
    "duration": 5,
    "start_time": "2022-01-22T06:48:51.804Z"
   },
   {
    "duration": 4,
    "start_time": "2022-01-22T06:49:33.041Z"
   },
   {
    "duration": 4,
    "start_time": "2022-01-22T06:51:22.599Z"
   },
   {
    "duration": 155,
    "start_time": "2022-01-22T06:52:53.555Z"
   },
   {
    "duration": 267,
    "start_time": "2022-01-22T06:53:09.167Z"
   },
   {
    "duration": 200960,
    "start_time": "2022-01-22T06:53:39.755Z"
   },
   {
    "duration": 6763,
    "start_time": "2022-01-22T06:59:39.086Z"
   },
   {
    "duration": 3,
    "start_time": "2022-01-22T06:59:45.851Z"
   },
   {
    "duration": 43,
    "start_time": "2022-01-22T06:59:47.501Z"
   },
   {
    "duration": 19,
    "start_time": "2022-01-22T06:59:56.409Z"
   },
   {
    "duration": 4,
    "start_time": "2022-01-22T06:59:58.037Z"
   },
   {
    "duration": 8,
    "start_time": "2022-01-22T07:00:08.613Z"
   },
   {
    "duration": 4,
    "start_time": "2022-01-22T07:00:12.559Z"
   },
   {
    "duration": 387,
    "start_time": "2022-01-22T07:00:25.159Z"
   },
   {
    "duration": 139,
    "start_time": "2022-01-22T07:01:14.433Z"
   },
   {
    "duration": 4,
    "start_time": "2022-01-22T07:01:26.686Z"
   },
   {
    "duration": 3,
    "start_time": "2022-01-22T07:01:36.048Z"
   },
   {
    "duration": 4,
    "start_time": "2022-01-22T07:01:38.735Z"
   },
   {
    "duration": 147,
    "start_time": "2022-01-22T07:01:49.425Z"
   },
   {
    "duration": 132,
    "start_time": "2022-01-22T07:01:54.739Z"
   },
   {
    "duration": 157,
    "start_time": "2022-01-22T07:02:00.934Z"
   },
   {
    "duration": 231,
    "start_time": "2022-01-22T07:02:09.786Z"
   },
   {
    "duration": 24,
    "start_time": "2022-01-22T07:02:17.059Z"
   },
   {
    "duration": 5,
    "start_time": "2022-01-22T07:02:50.197Z"
   },
   {
    "duration": 4,
    "start_time": "2022-01-22T07:03:11.619Z"
   },
   {
    "duration": 10,
    "start_time": "2022-01-22T07:03:20.012Z"
   },
   {
    "duration": 264,
    "start_time": "2022-01-22T07:03:24.208Z"
   },
   {
    "duration": 3,
    "start_time": "2022-01-22T07:04:35.817Z"
   },
   {
    "duration": 11210,
    "start_time": "2022-01-22T07:04:58.872Z"
   },
   {
    "duration": 4,
    "start_time": "2022-01-22T07:05:14.154Z"
   },
   {
    "duration": 4,
    "start_time": "2022-01-22T07:05:25.867Z"
   },
   {
    "duration": 136,
    "start_time": "2022-01-22T07:09:15.603Z"
   },
   {
    "duration": 4,
    "start_time": "2022-01-22T07:09:28.539Z"
   },
   {
    "duration": 5,
    "start_time": "2022-01-22T07:09:30.232Z"
   },
   {
    "duration": 6,
    "start_time": "2022-01-22T07:09:42.400Z"
   },
   {
    "duration": 6,
    "start_time": "2022-01-22T07:09:57.612Z"
   },
   {
    "duration": 3,
    "start_time": "2022-01-22T07:10:38.005Z"
   },
   {
    "duration": 4,
    "start_time": "2022-01-22T07:10:43.557Z"
   },
   {
    "duration": 11394,
    "start_time": "2022-01-22T07:10:55.428Z"
   },
   {
    "duration": 4,
    "start_time": "2022-01-22T07:11:08.424Z"
   },
   {
    "duration": 3,
    "start_time": "2022-01-22T07:11:35.455Z"
   },
   {
    "duration": 6,
    "start_time": "2022-01-22T07:11:43.641Z"
   },
   {
    "duration": 6,
    "start_time": "2022-01-22T07:11:59.457Z"
   },
   {
    "duration": 192995,
    "start_time": "2022-01-22T07:13:28.396Z"
   },
   {
    "duration": 3,
    "start_time": "2022-01-22T07:16:57.903Z"
   },
   {
    "duration": 44743,
    "start_time": "2022-01-22T07:16:59.255Z"
   },
   {
    "duration": 3,
    "start_time": "2022-01-22T07:17:44.000Z"
   },
   {
    "duration": 4,
    "start_time": "2022-01-22T07:18:07.153Z"
   },
   {
    "duration": 6,
    "start_time": "2022-01-22T07:18:07.774Z"
   },
   {
    "duration": 6,
    "start_time": "2022-01-22T07:18:10.359Z"
   },
   {
    "duration": 1097,
    "start_time": "2022-01-22T07:23:41.871Z"
   },
   {
    "duration": 179,
    "start_time": "2022-01-22T07:29:04.322Z"
   },
   {
    "duration": 137,
    "start_time": "2022-01-22T07:29:25.957Z"
   },
   {
    "duration": 200,
    "start_time": "2022-01-22T07:29:39.591Z"
   },
   {
    "duration": 182,
    "start_time": "2022-01-22T07:29:56.894Z"
   },
   {
    "duration": 3,
    "start_time": "2022-01-22T07:30:54.225Z"
   },
   {
    "duration": 193,
    "start_time": "2022-01-22T07:31:01.173Z"
   },
   {
    "duration": 168,
    "start_time": "2022-01-22T07:31:20.554Z"
   },
   {
    "duration": 167,
    "start_time": "2022-01-22T07:37:04.282Z"
   },
   {
    "duration": 2,
    "start_time": "2022-01-22T07:42:45.609Z"
   },
   {
    "duration": 49,
    "start_time": "2022-01-22T07:44:19.026Z"
   },
   {
    "duration": 3,
    "start_time": "2022-01-22T07:44:24.378Z"
   },
   {
    "duration": 2,
    "start_time": "2022-01-22T07:45:21.238Z"
   },
   {
    "duration": 171,
    "start_time": "2022-01-22T07:45:41.163Z"
   },
   {
    "duration": 3,
    "start_time": "2022-01-22T07:45:53.676Z"
   },
   {
    "duration": 913,
    "start_time": "2022-01-22T07:45:56.073Z"
   },
   {
    "duration": 3,
    "start_time": "2022-01-22T07:46:19.581Z"
   },
   {
    "duration": 10375,
    "start_time": "2022-01-22T07:46:28.456Z"
   },
   {
    "duration": 10705,
    "start_time": "2022-01-22T07:47:07.842Z"
   },
   {
    "duration": 3,
    "start_time": "2022-01-22T07:52:51.131Z"
   },
   {
    "duration": 188930,
    "start_time": "2022-01-22T07:52:53.255Z"
   },
   {
    "duration": 53,
    "start_time": "2022-01-22T07:59:00.643Z"
   },
   {
    "duration": 142,
    "start_time": "2022-01-22T07:59:07.974Z"
   },
   {
    "duration": 48,
    "start_time": "2022-01-22T08:07:33.048Z"
   },
   {
    "duration": 52,
    "start_time": "2022-01-22T08:07:45.526Z"
   },
   {
    "duration": 260,
    "start_time": "2022-01-22T08:07:58.865Z"
   },
   {
    "duration": 4,
    "start_time": "2022-01-22T08:09:20.965Z"
   },
   {
    "duration": 346558,
    "start_time": "2022-01-22T08:09:50.014Z"
   },
   {
    "duration": 4,
    "start_time": "2022-01-22T08:15:49.081Z"
   },
   {
    "duration": 4,
    "start_time": "2022-01-22T08:15:55.972Z"
   },
   {
    "duration": 2095,
    "start_time": "2022-01-22T08:19:10.647Z"
   },
   {
    "duration": 197,
    "start_time": "2022-01-22T08:20:09.076Z"
   },
   {
    "duration": 145,
    "start_time": "2022-01-22T08:20:47.062Z"
   },
   {
    "duration": 134,
    "start_time": "2022-01-22T08:22:56.259Z"
   },
   {
    "duration": 4,
    "start_time": "2022-01-22T08:23:16.233Z"
   },
   {
    "duration": 54,
    "start_time": "2022-01-22T08:26:33.176Z"
   },
   {
    "duration": 187,
    "start_time": "2022-01-22T08:26:42.292Z"
   },
   {
    "duration": 7133,
    "start_time": "2022-01-22T08:27:30.924Z"
   },
   {
    "duration": 3550,
    "start_time": "2022-01-22T08:27:38.060Z"
   },
   {
    "duration": 3,
    "start_time": "2022-01-22T08:27:41.612Z"
   },
   {
    "duration": 4449,
    "start_time": "2022-01-22T08:27:41.617Z"
   },
   {
    "duration": 30,
    "start_time": "2022-01-22T08:27:46.068Z"
   },
   {
    "duration": 5,
    "start_time": "2022-01-22T08:27:46.100Z"
   },
   {
    "duration": 15,
    "start_time": "2022-01-22T08:27:46.106Z"
   },
   {
    "duration": 3,
    "start_time": "2022-01-22T08:27:46.123Z"
   },
   {
    "duration": 74851,
    "start_time": "2022-01-22T08:27:46.129Z"
   },
   {
    "duration": 7040,
    "start_time": "2022-01-22T08:29:00.982Z"
   },
   {
    "duration": 2,
    "start_time": "2022-01-22T08:29:08.024Z"
   },
   {
    "duration": 80,
    "start_time": "2022-01-22T08:29:08.028Z"
   },
   {
    "duration": 27,
    "start_time": "2022-01-22T08:29:08.110Z"
   },
   {
    "duration": 4,
    "start_time": "2022-01-22T08:29:08.138Z"
   },
   {
    "duration": 17,
    "start_time": "2022-01-22T08:29:08.144Z"
   },
   {
    "duration": 19,
    "start_time": "2022-01-22T08:29:08.163Z"
   },
   {
    "duration": 758554,
    "start_time": "2022-01-22T08:29:08.184Z"
   },
   {
    "duration": -23,
    "start_time": "2022-01-22T08:41:46.763Z"
   },
   {
    "duration": -24,
    "start_time": "2022-01-22T08:41:46.765Z"
   },
   {
    "duration": -24,
    "start_time": "2022-01-22T08:41:46.766Z"
   },
   {
    "duration": -24,
    "start_time": "2022-01-22T08:41:46.767Z"
   },
   {
    "duration": -24,
    "start_time": "2022-01-22T08:41:46.768Z"
   },
   {
    "duration": -25,
    "start_time": "2022-01-22T08:41:46.769Z"
   },
   {
    "duration": -26,
    "start_time": "2022-01-22T08:41:46.771Z"
   },
   {
    "duration": -25,
    "start_time": "2022-01-22T08:41:46.771Z"
   },
   {
    "duration": -25,
    "start_time": "2022-01-22T08:41:46.772Z"
   },
   {
    "duration": -26,
    "start_time": "2022-01-22T08:41:46.774Z"
   },
   {
    "duration": -26,
    "start_time": "2022-01-22T08:41:46.775Z"
   },
   {
    "duration": -24,
    "start_time": "2022-01-22T08:41:46.775Z"
   },
   {
    "duration": -24,
    "start_time": "2022-01-22T08:41:46.776Z"
   },
   {
    "duration": -24,
    "start_time": "2022-01-22T08:41:46.777Z"
   },
   {
    "duration": -25,
    "start_time": "2022-01-22T08:41:46.778Z"
   },
   {
    "duration": 3,
    "start_time": "2022-01-22T08:41:51.293Z"
   },
   {
    "duration": 146509,
    "start_time": "2022-01-22T08:41:52.094Z"
   },
   {
    "duration": 3,
    "start_time": "2022-01-22T08:44:18.605Z"
   },
   {
    "duration": 353733,
    "start_time": "2022-01-22T08:44:18.610Z"
   },
   {
    "duration": 3,
    "start_time": "2022-01-22T08:50:12.345Z"
   },
   {
    "duration": 6,
    "start_time": "2022-01-22T08:50:12.350Z"
   },
   {
    "duration": 175849,
    "start_time": "2022-01-22T08:51:02.414Z"
   },
   {
    "duration": 7,
    "start_time": "2022-01-22T08:53:58.265Z"
   },
   {
    "duration": 3683,
    "start_time": "2022-01-22T08:55:26.800Z"
   },
   {
    "duration": 3,
    "start_time": "2022-01-22T08:57:00.832Z"
   },
   {
    "duration": 31777,
    "start_time": "2022-01-22T08:57:11.016Z"
   },
   {
    "duration": 3,
    "start_time": "2022-01-22T08:57:58.611Z"
   },
   {
    "duration": 17976,
    "start_time": "2022-01-22T08:58:00.524Z"
   },
   {
    "duration": 3,
    "start_time": "2022-01-22T09:03:30.687Z"
   },
   {
    "duration": 3977,
    "start_time": "2022-01-22T09:03:31.506Z"
   },
   {
    "duration": 3,
    "start_time": "2022-01-22T09:03:48.419Z"
   },
   {
    "duration": 135676,
    "start_time": "2022-01-22T09:03:50.682Z"
   },
   {
    "duration": 3,
    "start_time": "2022-01-22T09:08:25.440Z"
   },
   {
    "duration": 270970,
    "start_time": "2022-01-22T09:08:26.964Z"
   },
   {
    "duration": 43,
    "start_time": "2022-01-22T09:13:20.530Z"
   },
   {
    "duration": 3,
    "start_time": "2022-01-22T09:13:29.599Z"
   },
   {
    "duration": 8743,
    "start_time": "2022-01-22T09:13:31.390Z"
   },
   {
    "duration": 3,
    "start_time": "2022-01-22T09:13:56.668Z"
   },
   {
    "duration": 5134,
    "start_time": "2022-01-22T09:13:57.706Z"
   },
   {
    "duration": 309279,
    "start_time": "2022-01-22T09:14:13.987Z"
   },
   {
    "duration": 3,
    "start_time": "2022-01-22T09:20:56.293Z"
   },
   {
    "duration": 4025,
    "start_time": "2022-01-22T09:20:58.690Z"
   },
   {
    "duration": 139,
    "start_time": "2022-01-22T09:21:39.202Z"
   },
   {
    "duration": 3,
    "start_time": "2022-01-22T09:22:07.478Z"
   },
   {
    "duration": 170,
    "start_time": "2022-01-22T09:23:38.849Z"
   },
   {
    "duration": 2669,
    "start_time": "2022-01-22T09:24:57.104Z"
   },
   {
    "duration": 3,
    "start_time": "2022-01-22T09:28:13.410Z"
   },
   {
    "duration": 205,
    "start_time": "2022-01-22T09:28:33.957Z"
   },
   {
    "duration": 4,
    "start_time": "2022-01-22T09:28:40.877Z"
   },
   {
    "duration": 3,
    "start_time": "2022-01-22T09:28:41.398Z"
   },
   {
    "duration": 7094,
    "start_time": "2022-01-22T09:28:41.939Z"
   },
   {
    "duration": 29,
    "start_time": "2022-01-22T09:28:49.035Z"
   },
   {
    "duration": 33,
    "start_time": "2022-01-22T09:28:49.066Z"
   },
   {
    "duration": 3310,
    "start_time": "2022-01-22T09:32:07.808Z"
   },
   {
    "duration": 8,
    "start_time": "2022-01-22T09:32:35.739Z"
   },
   {
    "duration": 3,
    "start_time": "2022-01-22T09:32:36.542Z"
   },
   {
    "duration": 74978,
    "start_time": "2022-01-22T09:32:37.929Z"
   },
   {
    "duration": 6,
    "start_time": "2022-01-22T09:33:55.060Z"
   },
   {
    "duration": 3,
    "start_time": "2022-01-22T09:34:12.648Z"
   },
   {
    "duration": 2,
    "start_time": "2022-01-22T09:34:46.461Z"
   },
   {
    "duration": 36,
    "start_time": "2022-01-22T09:35:16.225Z"
   },
   {
    "duration": 7,
    "start_time": "2022-01-22T09:36:05.022Z"
   },
   {
    "duration": 4,
    "start_time": "2022-01-22T09:36:14.382Z"
   },
   {
    "duration": 6,
    "start_time": "2022-01-22T09:36:22.132Z"
   },
   {
    "duration": 5042,
    "start_time": "2022-01-22T09:36:29.102Z"
   },
   {
    "duration": 1578,
    "start_time": "2022-01-22T09:36:57.288Z"
   },
   {
    "duration": 4,
    "start_time": "2022-01-22T09:41:39.156Z"
   },
   {
    "duration": 5,
    "start_time": "2022-01-22T09:41:44.001Z"
   },
   {
    "duration": 197,
    "start_time": "2022-01-22T09:41:54.322Z"
   },
   {
    "duration": 4,
    "start_time": "2022-01-22T09:42:25.016Z"
   },
   {
    "duration": 3,
    "start_time": "2022-01-22T09:42:48.403Z"
   },
   {
    "duration": 192364,
    "start_time": "2022-01-22T09:42:49.655Z"
   },
   {
    "duration": 131,
    "start_time": "2022-01-22T09:46:43.471Z"
   },
   {
    "duration": 157,
    "start_time": "2022-01-22T09:46:55.943Z"
   },
   {
    "duration": 3,
    "start_time": "2022-01-22T09:48:21.964Z"
   },
   {
    "duration": 46608,
    "start_time": "2022-01-22T09:48:25.344Z"
   },
   {
    "duration": 4,
    "start_time": "2022-01-22T09:50:59.942Z"
   },
   {
    "duration": 1674400,
    "start_time": "2022-01-22T09:51:19.198Z"
   },
   {
    "duration": -461,
    "start_time": "2022-01-22T10:19:14.061Z"
   },
   {
    "duration": -461,
    "start_time": "2022-01-22T10:19:14.062Z"
   },
   {
    "duration": 83893,
    "start_time": "2022-01-22T10:19:21.498Z"
   },
   {
    "duration": 3,
    "start_time": "2022-01-22T10:20:51.564Z"
   },
   {
    "duration": 462118,
    "start_time": "2022-01-22T10:20:52.521Z"
   },
   {
    "duration": 820402,
    "start_time": "2022-01-22T10:28:46.045Z"
   },
   {
    "duration": 4,
    "start_time": "2022-01-22T10:42:36.714Z"
   },
   {
    "duration": 764961,
    "start_time": "2022-01-22T10:42:38.160Z"
   },
   {
    "duration": 134,
    "start_time": "2022-01-22T10:55:23.123Z"
   },
   {
    "duration": 412,
    "start_time": "2022-01-22T10:57:28.363Z"
   },
   {
    "duration": 3,
    "start_time": "2022-01-22T10:57:36.513Z"
   },
   {
    "duration": 33511,
    "start_time": "2022-01-22T10:57:38.006Z"
   },
   {
    "duration": 2,
    "start_time": "2022-01-22T10:58:20.989Z"
   },
   {
    "duration": 102,
    "start_time": "2022-01-22T10:58:23.296Z"
   },
   {
    "duration": 2,
    "start_time": "2022-01-22T11:01:18.482Z"
   },
   {
    "duration": 99,
    "start_time": "2022-01-22T11:01:20.814Z"
   },
   {
    "duration": 144,
    "start_time": "2022-01-22T11:01:32.171Z"
   },
   {
    "duration": 3,
    "start_time": "2022-01-22T11:01:46.939Z"
   },
   {
    "duration": 264,
    "start_time": "2022-01-22T11:02:06.154Z"
   },
   {
    "duration": 234,
    "start_time": "2022-01-22T11:02:17.529Z"
   },
   {
    "duration": 172,
    "start_time": "2022-01-22T11:03:08.277Z"
   },
   {
    "duration": 289,
    "start_time": "2022-01-22T11:03:38.604Z"
   },
   {
    "duration": 3,
    "start_time": "2022-01-22T11:05:01.502Z"
   },
   {
    "duration": 201144,
    "start_time": "2022-01-22T11:05:03.262Z"
   },
   {
    "duration": 3,
    "start_time": "2022-01-22T11:08:24.408Z"
   },
   {
    "duration": 4,
    "start_time": "2022-01-22T11:10:56.109Z"
   },
   {
    "duration": 4,
    "start_time": "2022-01-22T11:11:10.539Z"
   },
   {
    "duration": 389,
    "start_time": "2022-01-22T11:11:15.055Z"
   },
   {
    "duration": 3,
    "start_time": "2022-01-22T11:11:45.775Z"
   },
   {
    "duration": 3,
    "start_time": "2022-01-22T11:12:19.297Z"
   },
   {
    "duration": 138409,
    "start_time": "2022-01-22T11:12:21.584Z"
   },
   {
    "duration": 4,
    "start_time": "2022-01-22T11:24:03.299Z"
   },
   {
    "duration": 908946,
    "start_time": "2022-01-22T11:24:05.737Z"
   },
   {
    "duration": 3,
    "start_time": "2022-01-22T11:39:49.023Z"
   },
   {
    "duration": 170848,
    "start_time": "2022-01-22T11:39:50.764Z"
   },
   {
    "duration": 9,
    "start_time": "2022-01-22T11:44:03.987Z"
   },
   {
    "duration": 3,
    "start_time": "2022-01-22T11:44:26.218Z"
   },
   {
    "duration": 8,
    "start_time": "2022-01-22T11:44:29.955Z"
   },
   {
    "duration": 7,
    "start_time": "2022-01-22T11:44:37.906Z"
   },
   {
    "duration": 7,
    "start_time": "2022-01-22T11:44:56.829Z"
   },
   {
    "duration": 341,
    "start_time": "2022-01-22T11:45:02.125Z"
   },
   {
    "duration": 4,
    "start_time": "2022-01-22T11:46:33.227Z"
   },
   {
    "duration": 135,
    "start_time": "2022-01-22T11:47:40.155Z"
   },
   {
    "duration": 383239,
    "start_time": "2022-01-22T11:48:29.258Z"
   },
   {
    "duration": 482638,
    "start_time": "2022-01-22T11:54:55.345Z"
   },
   {
    "duration": 83334,
    "start_time": "2022-01-22T12:03:05.648Z"
   },
   {
    "duration": 172100,
    "start_time": "2022-01-22T12:04:46.158Z"
   },
   {
    "duration": 175,
    "start_time": "2022-01-22T12:07:54.197Z"
   },
   {
    "duration": 3,
    "start_time": "2022-01-22T12:07:59.730Z"
   },
   {
    "duration": 1150084,
    "start_time": "2022-01-22T12:08:02.761Z"
   },
   {
    "duration": 2107,
    "start_time": "2022-01-22T12:27:29.458Z"
   },
   {
    "duration": 3,
    "start_time": "2022-01-22T12:27:31.567Z"
   },
   {
    "duration": 14,
    "start_time": "2022-01-22T12:27:31.575Z"
   },
   {
    "duration": 668,
    "start_time": "2022-01-22T12:27:31.591Z"
   },
   {
    "duration": 38,
    "start_time": "2022-01-22T12:27:32.261Z"
   },
   {
    "duration": 5,
    "start_time": "2022-01-22T12:27:32.301Z"
   },
   {
    "duration": 30,
    "start_time": "2022-01-22T12:27:32.308Z"
   },
   {
    "duration": 12,
    "start_time": "2022-01-22T12:27:32.341Z"
   },
   {
    "duration": 77047,
    "start_time": "2022-01-22T12:27:32.355Z"
   },
   {
    "duration": 5,
    "start_time": "2022-01-22T12:28:49.404Z"
   },
   {
    "duration": 8,
    "start_time": "2022-01-22T12:28:49.411Z"
   },
   {
    "duration": 42,
    "start_time": "2022-01-22T12:28:49.421Z"
   },
   {
    "duration": 5174,
    "start_time": "2022-01-22T12:28:49.464Z"
   },
   {
    "duration": 1576,
    "start_time": "2022-01-22T12:28:54.639Z"
   },
   {
    "duration": 4,
    "start_time": "2022-01-22T12:28:56.217Z"
   },
   {
    "duration": 6,
    "start_time": "2022-01-22T12:28:56.223Z"
   },
   {
    "duration": 7,
    "start_time": "2022-01-22T12:28:56.230Z"
   },
   {
    "duration": 193542,
    "start_time": "2022-01-22T12:28:56.239Z"
   },
   {
    "duration": 4,
    "start_time": "2022-01-22T12:32:09.783Z"
   },
   {
    "duration": 169173,
    "start_time": "2022-01-22T12:32:09.796Z"
   },
   {
    "duration": 2,
    "start_time": "2022-01-22T12:34:58.972Z"
   },
   {
    "duration": 48157,
    "start_time": "2022-01-22T12:34:58.976Z"
   },
   {
    "duration": 4,
    "start_time": "2022-01-22T12:35:47.135Z"
   },
   {
    "duration": 1117916,
    "start_time": "2022-01-22T12:35:47.141Z"
   },
   {
    "duration": 2,
    "start_time": "2022-01-22T12:54:25.059Z"
   },
   {
    "duration": 33663,
    "start_time": "2022-01-22T12:54:25.064Z"
   },
   {
    "duration": 3,
    "start_time": "2022-01-22T12:54:58.729Z"
   },
   {
    "duration": 113,
    "start_time": "2022-01-22T12:54:58.733Z"
   },
   {
    "duration": 8,
    "start_time": "2022-01-22T12:54:58.848Z"
   },
   {
    "duration": 11,
    "start_time": "2022-01-22T12:54:58.858Z"
   },
   {
    "duration": 349,
    "start_time": "2022-01-22T12:54:58.871Z"
   },
   {
    "duration": 6706,
    "start_time": "2022-01-22T12:54:59.222Z"
   },
   {
    "duration": 668,
    "start_time": "2022-01-22T12:55:05.930Z"
   },
   {
    "duration": 37,
    "start_time": "2022-01-22T12:55:06.600Z"
   },
   {
    "duration": 639,
    "start_time": "2022-01-22T12:55:06.639Z"
   },
   {
    "duration": 705,
    "start_time": "2022-01-22T12:55:07.280Z"
   },
   {
    "duration": -1676550,
    "start_time": "2022-01-22T13:23:04.536Z"
   },
   {
    "duration": -1676549,
    "start_time": "2022-01-22T13:23:04.537Z"
   },
   {
    "duration": -1676550,
    "start_time": "2022-01-22T13:23:04.538Z"
   },
   {
    "duration": 3,
    "start_time": "2022-01-22T13:23:07.713Z"
   },
   {
    "duration": 620012,
    "start_time": "2022-01-22T13:23:12.093Z"
   },
   {
    "duration": 3,
    "start_time": "2022-01-22T13:33:50.367Z"
   },
   {
    "duration": 33761,
    "start_time": "2022-01-22T13:33:51.456Z"
   },
   {
    "duration": 3,
    "start_time": "2022-01-22T13:35:20.066Z"
   },
   {
    "duration": 97,
    "start_time": "2022-01-22T13:35:20.473Z"
   },
   {
    "duration": 8,
    "start_time": "2022-01-22T13:35:24.469Z"
   },
   {
    "duration": 8,
    "start_time": "2022-01-22T13:35:27.388Z"
   },
   {
    "duration": 321,
    "start_time": "2022-01-22T13:35:27.926Z"
   },
   {
    "duration": 667,
    "start_time": "2022-01-22T13:35:38.687Z"
   },
   {
    "duration": 39,
    "start_time": "2022-01-22T13:35:49.477Z"
   },
   {
    "duration": 38,
    "start_time": "2022-01-22T13:36:09.688Z"
   },
   {
    "duration": 606,
    "start_time": "2022-01-22T13:36:22.274Z"
   },
   {
    "duration": 612,
    "start_time": "2022-01-22T13:36:28.971Z"
   },
   {
    "duration": 808,
    "start_time": "2022-01-22T13:37:00.879Z"
   },
   {
    "duration": 791,
    "start_time": "2022-01-22T13:37:20.338Z"
   },
   {
    "duration": 616,
    "start_time": "2022-01-22T13:37:38.194Z"
   },
   {
    "duration": 4,
    "start_time": "2022-01-22T13:37:53.913Z"
   },
   {
    "duration": 4,
    "start_time": "2022-01-22T13:39:26.428Z"
   },
   {
    "duration": 8,
    "start_time": "2022-01-22T13:39:32.828Z"
   },
   {
    "duration": 8,
    "start_time": "2022-01-22T13:39:40.163Z"
   },
   {
    "duration": 637,
    "start_time": "2022-01-22T13:39:42.988Z"
   },
   {
    "duration": 4,
    "start_time": "2022-01-22T13:39:43.670Z"
   },
   {
    "duration": 3,
    "start_time": "2022-01-22T13:39:46.512Z"
   },
   {
    "duration": 8,
    "start_time": "2022-01-22T13:39:47.462Z"
   },
   {
    "duration": 644,
    "start_time": "2022-01-22T13:40:09.011Z"
   },
   {
    "duration": 155,
    "start_time": "2022-01-22T13:40:09.657Z"
   },
   {
    "duration": 5,
    "start_time": "2022-01-22T13:40:15.648Z"
   },
   {
    "duration": 3,
    "start_time": "2022-01-22T13:40:18.472Z"
   },
   {
    "duration": 9,
    "start_time": "2022-01-22T13:40:19.242Z"
   },
   {
    "duration": 7,
    "start_time": "2022-01-22T13:40:49.546Z"
   },
   {
    "duration": 4,
    "start_time": "2022-01-22T13:41:07.196Z"
   },
   {
    "duration": 215,
    "start_time": "2022-01-22T13:42:32.968Z"
   },
   {
    "duration": 10,
    "start_time": "2022-01-22T13:42:45.400Z"
   },
   {
    "duration": 9,
    "start_time": "2022-01-22T13:42:56.277Z"
   },
   {
    "duration": 9,
    "start_time": "2022-01-22T13:43:04.361Z"
   },
   {
    "duration": 131,
    "start_time": "2022-01-22T13:43:58.362Z"
   },
   {
    "duration": 5,
    "start_time": "2022-01-22T13:45:01.375Z"
   },
   {
    "duration": 5,
    "start_time": "2022-01-22T13:45:18.659Z"
   },
   {
    "duration": 3,
    "start_time": "2022-01-22T13:46:42.653Z"
   },
   {
    "duration": 132,
    "start_time": "2022-01-22T13:46:49.742Z"
   },
   {
    "duration": 6409,
    "start_time": "2022-01-22T13:47:16.171Z"
   },
   {
    "duration": 666,
    "start_time": "2022-01-22T13:47:39.915Z"
   },
   {
    "duration": 40,
    "start_time": "2022-01-22T13:47:48.649Z"
   },
   {
    "duration": 657,
    "start_time": "2022-01-22T13:47:51.595Z"
   },
   {
    "duration": 4,
    "start_time": "2022-01-22T13:47:52.254Z"
   },
   {
    "duration": 4,
    "start_time": "2022-01-22T13:47:52.907Z"
   },
   {
    "duration": 9,
    "start_time": "2022-01-22T13:47:54.432Z"
   },
   {
    "duration": 10,
    "start_time": "2022-01-22T13:47:55.060Z"
   },
   {
    "duration": 6331,
    "start_time": "2022-01-22T13:49:10.205Z"
   },
   {
    "duration": 155,
    "start_time": "2022-01-22T13:49:30.012Z"
   },
   {
    "duration": 108795,
    "start_time": "2022-01-22T13:49:39.436Z"
   },
   {
    "duration": 1694,
    "start_time": "2022-01-22T13:51:37.445Z"
   },
   {
    "duration": 37,
    "start_time": "2022-01-22T13:52:03.632Z"
   },
   {
    "duration": 132,
    "start_time": "2022-01-22T13:53:35.914Z"
   },
   {
    "duration": 15,
    "start_time": "2022-01-22T13:53:49.856Z"
   },
   {
    "duration": 15,
    "start_time": "2022-01-22T13:54:01.103Z"
   },
   {
    "duration": 5,
    "start_time": "2022-01-22T13:54:10.011Z"
   },
   {
    "duration": 660,
    "start_time": "2022-01-22T13:54:26.714Z"
   },
   {
    "duration": 156,
    "start_time": "2022-01-22T13:54:47.890Z"
   },
   {
    "duration": 4,
    "start_time": "2022-01-22T13:55:17.575Z"
   },
   {
    "duration": 13512,
    "start_time": "2022-01-22T13:55:47.916Z"
   },
   {
    "duration": 21,
    "start_time": "2022-01-22T13:56:08.666Z"
   },
   {
    "duration": 37,
    "start_time": "2022-01-22T13:56:34.100Z"
   },
   {
    "duration": 1721,
    "start_time": "2022-01-22T13:57:26.580Z"
   },
   {
    "duration": 12,
    "start_time": "2022-01-22T13:58:06.086Z"
   },
   {
    "duration": 165,
    "start_time": "2022-01-22T13:58:24.679Z"
   },
   {
    "duration": 9,
    "start_time": "2022-01-22T13:58:58.847Z"
   },
   {
    "duration": 19,
    "start_time": "2022-01-22T13:59:04.041Z"
   },
   {
    "duration": 5,
    "start_time": "2022-01-22T13:59:34.963Z"
   },
   {
    "duration": 5,
    "start_time": "2022-01-22T13:59:46.322Z"
   },
   {
    "duration": 6,
    "start_time": "2022-01-22T14:00:05.524Z"
   },
   {
    "duration": 34,
    "start_time": "2022-01-22T14:00:59.406Z"
   },
   {
    "duration": 7,
    "start_time": "2022-01-22T14:03:04.177Z"
   },
   {
    "duration": 140,
    "start_time": "2022-01-22T14:03:05.434Z"
   },
   {
    "duration": 20,
    "start_time": "2022-01-22T14:03:11.547Z"
   },
   {
    "duration": 42,
    "start_time": "2022-01-22T14:03:29.354Z"
   },
   {
    "duration": 41,
    "start_time": "2022-01-22T14:03:32.194Z"
   },
   {
    "duration": 34,
    "start_time": "2022-01-22T14:04:21.541Z"
   },
   {
    "duration": 37,
    "start_time": "2022-01-22T14:06:41.467Z"
   },
   {
    "duration": 36,
    "start_time": "2022-01-22T14:07:25.728Z"
   },
   {
    "duration": 637,
    "start_time": "2022-01-22T14:07:52.778Z"
   },
   {
    "duration": 38,
    "start_time": "2022-01-22T14:07:54.635Z"
   },
   {
    "duration": 36,
    "start_time": "2022-01-22T14:08:43.056Z"
   },
   {
    "duration": 34,
    "start_time": "2022-01-22T14:09:42.450Z"
   },
   {
    "duration": 6,
    "start_time": "2022-01-22T14:11:09.492Z"
   },
   {
    "duration": 8,
    "start_time": "2022-01-22T14:11:15.143Z"
   },
   {
    "duration": 356,
    "start_time": "2022-01-22T14:12:07.291Z"
   },
   {
    "duration": 378,
    "start_time": "2022-01-22T14:13:02.265Z"
   },
   {
    "duration": 6,
    "start_time": "2022-01-22T14:15:53.464Z"
   },
   {
    "duration": 140,
    "start_time": "2022-01-22T14:17:08.506Z"
   },
   {
    "duration": 150,
    "start_time": "2022-01-22T14:17:27.291Z"
   },
   {
    "duration": 569,
    "start_time": "2022-01-22T14:18:30.000Z"
   },
   {
    "duration": 579,
    "start_time": "2022-01-22T14:19:28.185Z"
   },
   {
    "duration": 556,
    "start_time": "2022-01-22T14:19:46.994Z"
   },
   {
    "duration": 565,
    "start_time": "2022-01-22T14:19:58.768Z"
   },
   {
    "duration": 314,
    "start_time": "2022-01-22T14:21:15.403Z"
   },
   {
    "duration": 141,
    "start_time": "2022-01-22T14:22:11.145Z"
   },
   {
    "duration": 363,
    "start_time": "2022-01-22T14:22:32.312Z"
   },
   {
    "duration": 416,
    "start_time": "2022-01-22T14:25:46.539Z"
   },
   {
    "duration": 407,
    "start_time": "2022-01-22T14:26:29.271Z"
   },
   {
    "duration": 306,
    "start_time": "2022-01-22T14:29:20.339Z"
   },
   {
    "duration": 313,
    "start_time": "2022-01-22T14:29:26.326Z"
   },
   {
    "duration": 333,
    "start_time": "2022-01-22T14:29:30.790Z"
   },
   {
    "duration": 356,
    "start_time": "2022-01-22T14:29:39.229Z"
   },
   {
    "duration": 380,
    "start_time": "2022-01-22T14:29:49.965Z"
   },
   {
    "duration": 897,
    "start_time": "2022-01-22T14:30:23.437Z"
   },
   {
    "duration": 11,
    "start_time": "2022-01-22T14:30:43.461Z"
   },
   {
    "duration": 4,
    "start_time": "2022-01-22T14:30:51.912Z"
   },
   {
    "duration": 4,
    "start_time": "2022-01-22T14:30:58.813Z"
   },
   {
    "duration": 5,
    "start_time": "2022-01-22T14:31:15.253Z"
   },
   {
    "duration": 5,
    "start_time": "2022-01-22T14:31:21.948Z"
   },
   {
    "duration": 10,
    "start_time": "2022-01-22T14:31:50.174Z"
   },
   {
    "duration": 5,
    "start_time": "2022-01-22T14:31:58.138Z"
   },
   {
    "duration": 4,
    "start_time": "2022-01-22T14:32:02.572Z"
   },
   {
    "duration": 5,
    "start_time": "2022-01-22T14:32:06.037Z"
   },
   {
    "duration": 136,
    "start_time": "2022-01-22T14:34:10.954Z"
   },
   {
    "duration": 328,
    "start_time": "2022-01-22T14:34:18.249Z"
   },
   {
    "duration": 298,
    "start_time": "2022-01-22T14:34:29.690Z"
   },
   {
    "duration": 6,
    "start_time": "2022-01-22T14:35:53.917Z"
   },
   {
    "duration": 137,
    "start_time": "2022-01-22T14:37:13.631Z"
   },
   {
    "duration": 51,
    "start_time": "2022-01-22T14:37:45.753Z"
   },
   {
    "duration": 11,
    "start_time": "2022-01-22T14:37:48.910Z"
   },
   {
    "duration": 283,
    "start_time": "2022-01-22T14:39:38.089Z"
   },
   {
    "duration": 408,
    "start_time": "2022-01-22T14:40:29.551Z"
   },
   {
    "duration": 407,
    "start_time": "2022-01-22T14:41:14.163Z"
   },
   {
    "duration": 285,
    "start_time": "2022-01-22T14:41:36.834Z"
   },
   {
    "duration": 416,
    "start_time": "2022-01-22T14:45:47.655Z"
   },
   {
    "duration": 16,
    "start_time": "2022-01-23T11:12:36.578Z"
   },
   {
    "duration": 9,
    "start_time": "2022-01-23T11:13:50.454Z"
   },
   {
    "duration": 144,
    "start_time": "2022-01-23T11:36:35.573Z"
   },
   {
    "duration": 6,
    "start_time": "2022-01-23T11:37:08.827Z"
   },
   {
    "duration": 6,
    "start_time": "2022-01-23T11:37:41.760Z"
   },
   {
    "duration": 354,
    "start_time": "2022-01-23T12:04:16.015Z"
   },
   {
    "duration": 148,
    "start_time": "2022-01-23T12:05:11.628Z"
   },
   {
    "duration": 60,
    "start_time": "2022-01-23T12:05:30.094Z"
   },
   {
    "duration": 71,
    "start_time": "2022-01-23T12:05:38.006Z"
   },
   {
    "duration": 4,
    "start_time": "2022-01-23T12:05:45.627Z"
   },
   {
    "duration": 15,
    "start_time": "2022-01-23T12:05:53.818Z"
   },
   {
    "duration": 15,
    "start_time": "2022-01-23T12:07:19.183Z"
   },
   {
    "duration": 1402,
    "start_time": "2022-01-23T12:08:38.744Z"
   },
   {
    "duration": 2,
    "start_time": "2022-01-23T12:08:40.148Z"
   },
   {
    "duration": 7,
    "start_time": "2022-01-23T12:08:40.152Z"
   },
   {
    "duration": 648,
    "start_time": "2022-01-23T12:08:40.161Z"
   },
   {
    "duration": 28,
    "start_time": "2022-01-23T12:08:40.810Z"
   },
   {
    "duration": 3,
    "start_time": "2022-01-23T12:08:40.840Z"
   },
   {
    "duration": 11,
    "start_time": "2022-01-23T12:08:40.844Z"
   },
   {
    "duration": 10,
    "start_time": "2022-01-23T12:08:40.858Z"
   },
   {
    "duration": 75710,
    "start_time": "2022-01-23T12:08:40.870Z"
   },
   {
    "duration": 6,
    "start_time": "2022-01-23T12:09:56.581Z"
   },
   {
    "duration": 9,
    "start_time": "2022-01-23T12:09:56.589Z"
   },
   {
    "duration": 40,
    "start_time": "2022-01-23T12:09:56.600Z"
   },
   {
    "duration": 8,
    "start_time": "2022-01-23T12:09:56.641Z"
   },
   {
    "duration": 5254,
    "start_time": "2022-01-23T12:09:56.651Z"
   },
   {
    "duration": 1682,
    "start_time": "2022-01-23T12:10:01.907Z"
   },
   {
    "duration": 3,
    "start_time": "2022-01-23T12:10:03.591Z"
   },
   {
    "duration": 5,
    "start_time": "2022-01-23T12:10:03.597Z"
   },
   {
    "duration": 7,
    "start_time": "2022-01-23T12:10:03.604Z"
   },
   {
    "duration": 190618,
    "start_time": "2022-01-23T12:10:03.613Z"
   },
   {
    "duration": 3,
    "start_time": "2022-01-23T12:13:14.233Z"
   },
   {
    "duration": 167804,
    "start_time": "2022-01-23T12:13:14.238Z"
   },
   {
    "duration": 3,
    "start_time": "2022-01-23T12:16:02.044Z"
   },
   {
    "duration": 45792,
    "start_time": "2022-01-23T12:16:02.050Z"
   },
   {
    "duration": 3,
    "start_time": "2022-01-23T12:16:47.845Z"
   },
   {
    "duration": 687791,
    "start_time": "2022-01-23T12:16:47.850Z"
   },
   {
    "duration": 2,
    "start_time": "2022-01-23T12:28:15.643Z"
   },
   {
    "duration": 33872,
    "start_time": "2022-01-23T12:28:15.647Z"
   },
   {
    "duration": 2,
    "start_time": "2022-01-23T12:28:49.521Z"
   },
   {
    "duration": 129,
    "start_time": "2022-01-23T12:28:49.525Z"
   },
   {
    "duration": 7,
    "start_time": "2022-01-23T12:28:49.656Z"
   },
   {
    "duration": 22,
    "start_time": "2022-01-23T12:28:49.665Z"
   },
   {
    "duration": 348,
    "start_time": "2022-01-23T12:28:49.689Z"
   },
   {
    "duration": 5,
    "start_time": "2022-01-23T12:28:50.039Z"
   },
   {
    "duration": 301,
    "start_time": "2022-01-23T12:28:50.045Z"
   },
   {
    "duration": 76903,
    "start_time": "2022-01-23T12:27:33.445Z"
   },
   {
    "duration": 76898,
    "start_time": "2022-01-23T12:27:33.451Z"
   },
   {
    "duration": 76894,
    "start_time": "2022-01-23T12:27:33.456Z"
   },
   {
    "duration": 76891,
    "start_time": "2022-01-23T12:27:33.460Z"
   },
   {
    "duration": 76887,
    "start_time": "2022-01-23T12:27:33.465Z"
   },
   {
    "duration": 76881,
    "start_time": "2022-01-23T12:27:33.472Z"
   },
   {
    "duration": 76879,
    "start_time": "2022-01-23T12:27:33.475Z"
   },
   {
    "duration": 76875,
    "start_time": "2022-01-23T12:27:33.480Z"
   },
   {
    "duration": 76871,
    "start_time": "2022-01-23T12:27:33.485Z"
   },
   {
    "duration": 76867,
    "start_time": "2022-01-23T12:27:33.490Z"
   },
   {
    "duration": 76863,
    "start_time": "2022-01-23T12:27:33.495Z"
   },
   {
    "duration": 76859,
    "start_time": "2022-01-23T12:27:33.500Z"
   },
   {
    "duration": 76856,
    "start_time": "2022-01-23T12:27:33.504Z"
   },
   {
    "duration": 76852,
    "start_time": "2022-01-23T12:27:33.509Z"
   },
   {
    "duration": 76849,
    "start_time": "2022-01-23T12:27:33.513Z"
   },
   {
    "duration": 76844,
    "start_time": "2022-01-23T12:27:33.519Z"
   },
   {
    "duration": 76842,
    "start_time": "2022-01-23T12:27:33.522Z"
   },
   {
    "duration": 76838,
    "start_time": "2022-01-23T12:27:33.527Z"
   },
   {
    "duration": 76836,
    "start_time": "2022-01-23T12:27:33.530Z"
   },
   {
    "duration": 76831,
    "start_time": "2022-01-23T12:27:33.536Z"
   },
   {
    "duration": 76828,
    "start_time": "2022-01-23T12:27:33.540Z"
   },
   {
    "duration": 76825,
    "start_time": "2022-01-23T12:27:33.545Z"
   },
   {
    "duration": 76821,
    "start_time": "2022-01-23T12:27:33.550Z"
   },
   {
    "duration": 76817,
    "start_time": "2022-01-23T12:27:33.555Z"
   },
   {
    "duration": 76815,
    "start_time": "2022-01-23T12:27:33.558Z"
   },
   {
    "duration": 76811,
    "start_time": "2022-01-23T12:27:33.563Z"
   },
   {
    "duration": 76808,
    "start_time": "2022-01-23T12:27:33.567Z"
   },
   {
    "duration": 76805,
    "start_time": "2022-01-23T12:27:33.571Z"
   },
   {
    "duration": 6225,
    "start_time": "2022-01-23T12:33:48.714Z"
   },
   {
    "duration": 638,
    "start_time": "2022-01-23T12:33:54.940Z"
   },
   {
    "duration": 41,
    "start_time": "2022-01-23T12:33:55.580Z"
   },
   {
    "duration": 5,
    "start_time": "2022-01-23T12:33:55.623Z"
   },
   {
    "duration": 11,
    "start_time": "2022-01-23T12:33:55.630Z"
   },
   {
    "duration": 1002,
    "start_time": "2022-01-23T12:33:55.643Z"
   },
   {
    "duration": 6,
    "start_time": "2022-01-23T12:33:56.648Z"
   },
   {
    "duration": 98,
    "start_time": "2022-01-23T12:33:56.657Z"
   },
   {
    "duration": 102,
    "start_time": "2022-01-23T12:33:56.759Z"
   },
   {
    "duration": 12,
    "start_time": "2022-01-23T12:33:56.863Z"
   },
   {
    "duration": 109033,
    "start_time": "2022-01-23T12:33:56.877Z"
   },
   {
    "duration": 1813,
    "start_time": "2022-01-23T12:35:45.912Z"
   },
   {
    "duration": 37,
    "start_time": "2022-01-23T12:35:47.727Z"
   },
   {
    "duration": 1771,
    "start_time": "2022-01-23T12:35:47.765Z"
   },
   {
    "duration": 13691,
    "start_time": "2022-01-23T12:35:49.538Z"
   },
   {
    "duration": 23,
    "start_time": "2022-01-23T12:36:03.231Z"
   },
   {
    "duration": 63,
    "start_time": "2022-01-23T12:36:03.256Z"
   },
   {
    "duration": 12,
    "start_time": "2022-01-23T12:36:03.321Z"
   },
   {
    "duration": 30,
    "start_time": "2022-01-23T12:36:03.335Z"
   },
   {
    "duration": 31,
    "start_time": "2022-01-23T12:36:03.367Z"
   },
   {
    "duration": 58,
    "start_time": "2022-01-23T12:36:03.400Z"
   },
   {
    "duration": 6,
    "start_time": "2022-01-23T12:36:03.460Z"
   },
   {
    "duration": 37,
    "start_time": "2022-01-23T12:36:03.469Z"
   },
   {
    "duration": 369,
    "start_time": "2022-01-23T12:36:03.508Z"
   },
   {
    "duration": 407,
    "start_time": "2022-01-23T12:36:03.879Z"
   },
   {
    "duration": 14,
    "start_time": "2022-01-23T12:36:04.288Z"
   },
   {
    "duration": 316,
    "start_time": "2022-01-23T12:36:04.303Z"
   },
   {
    "duration": 11,
    "start_time": "2022-01-23T12:36:04.621Z"
   },
   {
    "duration": 322,
    "start_time": "2022-01-23T12:36:04.634Z"
   },
   {
    "duration": 17,
    "start_time": "2022-01-23T12:36:04.958Z"
   },
   {
    "duration": 242,
    "start_time": "2022-01-24T14:02:13.739Z"
   },
   {
    "duration": 2149,
    "start_time": "2022-01-24T14:09:25.631Z"
   },
   {
    "duration": 3250,
    "start_time": "2022-01-24T14:10:06.507Z"
   },
   {
    "duration": 3,
    "start_time": "2022-01-24T14:10:13.030Z"
   },
   {
    "duration": 5,
    "start_time": "2022-01-24T14:11:19.476Z"
   },
   {
    "duration": 8073,
    "start_time": "2022-01-24T14:11:25.626Z"
   },
   {
    "duration": 7,
    "start_time": "2022-01-24T14:11:42.394Z"
   },
   {
    "duration": 3,
    "start_time": "2022-01-24T14:12:08.582Z"
   },
   {
    "duration": 4529,
    "start_time": "2022-01-24T14:12:15.528Z"
   },
   {
    "duration": 5,
    "start_time": "2022-01-24T14:12:23.953Z"
   },
   {
    "duration": 4,
    "start_time": "2022-01-24T14:13:38.557Z"
   },
   {
    "duration": 1842,
    "start_time": "2022-01-24T14:13:40.218Z"
   },
   {
    "duration": 6,
    "start_time": "2022-01-24T14:13:59.186Z"
   },
   {
    "duration": 3,
    "start_time": "2022-01-24T14:15:02.503Z"
   },
   {
    "duration": 1743,
    "start_time": "2022-01-24T14:15:03.634Z"
   },
   {
    "duration": 6,
    "start_time": "2022-01-24T14:15:06.555Z"
   },
   {
    "duration": 3,
    "start_time": "2022-01-24T14:16:39.385Z"
   },
   {
    "duration": 30,
    "start_time": "2022-01-24T14:16:40.046Z"
   },
   {
    "duration": 12,
    "start_time": "2022-01-24T14:16:41.630Z"
   },
   {
    "duration": 304,
    "start_time": "2022-01-24T14:16:44.553Z"
   },
   {
    "duration": 217,
    "start_time": "2022-01-24T14:16:44.919Z"
   },
   {
    "duration": 13,
    "start_time": "2022-01-24T14:16:53.040Z"
   },
   {
    "duration": 5804,
    "start_time": "2022-01-24T14:16:59.867Z"
   },
   {
    "duration": 1978,
    "start_time": "2022-01-24T14:17:05.673Z"
   },
   {
    "duration": 4,
    "start_time": "2022-01-24T14:17:07.654Z"
   },
   {
    "duration": 3,
    "start_time": "2022-01-24T14:17:38.067Z"
   },
   {
    "duration": 33919,
    "start_time": "2022-01-24T14:17:39.229Z"
   },
   {
    "duration": 3,
    "start_time": "2022-01-24T14:18:13.150Z"
   },
   {
    "duration": 262,
    "start_time": "2022-01-24T14:18:21.522Z"
   },
   {
    "duration": 3,
    "start_time": "2022-01-24T14:20:14.011Z"
   },
   {
    "duration": 625287,
    "start_time": "2022-01-24T14:20:17.254Z"
   },
   {
    "duration": -67,
    "start_time": "2022-01-24T14:30:42.614Z"
   },
   {
    "duration": 334,
    "start_time": "2022-01-24T14:30:55.050Z"
   },
   {
    "duration": 5,
    "start_time": "2022-01-24T14:31:27.231Z"
   },
   {
    "duration": 6,
    "start_time": "2022-01-24T14:31:46.363Z"
   },
   {
    "duration": 5,
    "start_time": "2022-01-24T14:31:59.907Z"
   },
   {
    "duration": 5,
    "start_time": "2022-01-24T14:32:16.590Z"
   },
   {
    "duration": 6,
    "start_time": "2022-01-24T14:32:27.155Z"
   },
   {
    "duration": 4,
    "start_time": "2022-01-24T14:33:01.075Z"
   },
   {
    "duration": 746369,
    "start_time": "2022-01-24T14:33:06.028Z"
   },
   {
    "duration": 5,
    "start_time": "2022-01-24T14:47:07.259Z"
   },
   {
    "duration": 120460,
    "start_time": "2022-01-24T14:47:09.716Z"
   },
   {
    "duration": 13456,
    "start_time": "2022-01-24T14:50:56.087Z"
   },
   {
    "duration": 24,
    "start_time": "2022-01-24T14:51:09.545Z"
   },
   {
    "duration": 6,
    "start_time": "2022-01-24T14:51:53.342Z"
   },
   {
    "duration": 169764,
    "start_time": "2022-01-24T14:51:54.687Z"
   },
   {
    "duration": 4,
    "start_time": "2022-01-24T14:56:00.781Z"
   },
   {
    "duration": 15071,
    "start_time": "2022-01-24T14:56:02.585Z"
   },
   {
    "duration": 22,
    "start_time": "2022-01-24T14:56:17.658Z"
   },
   {
    "duration": 3,
    "start_time": "2022-01-24T14:56:27.894Z"
   },
   {
    "duration": 20756,
    "start_time": "2022-01-24T14:56:28.999Z"
   },
   {
    "duration": 23,
    "start_time": "2022-01-24T14:56:49.757Z"
   },
   {
    "duration": 4,
    "start_time": "2022-01-24T14:57:04.468Z"
   },
   {
    "duration": 232237,
    "start_time": "2022-01-24T14:57:07.123Z"
   },
   {
    "duration": 20783,
    "start_time": "2022-01-24T15:06:18.770Z"
   },
   {
    "duration": 25,
    "start_time": "2022-01-24T15:06:39.555Z"
   },
   {
    "duration": 4,
    "start_time": "2022-01-24T15:07:05.892Z"
   },
   {
    "duration": 116202,
    "start_time": "2022-01-24T15:07:07.246Z"
   },
   {
    "duration": 3,
    "start_time": "2022-01-24T15:12:19.683Z"
   },
   {
    "duration": 3,
    "start_time": "2022-01-24T15:12:24.131Z"
   },
   {
    "duration": 25667,
    "start_time": "2022-01-24T15:12:25.483Z"
   },
   {
    "duration": 22,
    "start_time": "2022-01-24T15:12:51.152Z"
   },
   {
    "duration": 4,
    "start_time": "2022-01-24T15:13:56.093Z"
   },
   {
    "duration": 25789,
    "start_time": "2022-01-24T15:13:57.969Z"
   },
   {
    "duration": 25,
    "start_time": "2022-01-24T15:14:23.760Z"
   },
   {
    "duration": 3,
    "start_time": "2022-01-24T15:14:59.102Z"
   },
   {
    "duration": 6239,
    "start_time": "2022-01-24T15:15:00.118Z"
   },
   {
    "duration": 22,
    "start_time": "2022-01-24T15:15:06.359Z"
   },
   {
    "duration": 5,
    "start_time": "2022-01-24T15:15:31.157Z"
   },
   {
    "duration": 4,
    "start_time": "2022-01-24T15:15:39.325Z"
   },
   {
    "duration": 269971,
    "start_time": "2022-01-24T15:15:40.286Z"
   },
   {
    "duration": 2314,
    "start_time": "2022-01-24T19:02:46.679Z"
   },
   {
    "duration": 4,
    "start_time": "2022-01-24T19:02:56.047Z"
   },
   {
    "duration": 3,
    "start_time": "2022-01-24T19:02:57.124Z"
   },
   {
    "duration": 3160,
    "start_time": "2022-01-24T19:03:00.366Z"
   },
   {
    "duration": 3,
    "start_time": "2022-01-24T19:03:08.420Z"
   },
   {
    "duration": 3,
    "start_time": "2022-01-24T19:03:13.606Z"
   },
   {
    "duration": 4310,
    "start_time": "2022-01-24T19:03:18.402Z"
   },
   {
    "duration": 5,
    "start_time": "2022-01-24T19:03:22.714Z"
   },
   {
    "duration": 4,
    "start_time": "2022-01-24T19:03:37.051Z"
   },
   {
    "duration": 45263,
    "start_time": "2022-01-24T19:03:43.254Z"
   },
   {
    "duration": 5,
    "start_time": "2022-01-24T19:04:47.483Z"
   },
   {
    "duration": 3,
    "start_time": "2022-01-24T19:05:14.600Z"
   },
   {
    "duration": 2779,
    "start_time": "2022-01-24T19:05:16.350Z"
   },
   {
    "duration": 3,
    "start_time": "2022-01-24T19:06:12.674Z"
   },
   {
    "duration": 45073,
    "start_time": "2022-01-24T19:06:14.346Z"
   },
   {
    "duration": 6,
    "start_time": "2022-01-24T19:06:59.422Z"
   },
   {
    "duration": 4,
    "start_time": "2022-01-24T19:08:15.354Z"
   },
   {
    "duration": 978,
    "start_time": "2022-01-24T19:08:16.617Z"
   },
   {
    "duration": 6,
    "start_time": "2022-01-24T19:08:17.730Z"
   },
   {
    "duration": 4,
    "start_time": "2022-01-24T19:08:58.154Z"
   },
   {
    "duration": 83306,
    "start_time": "2022-01-24T19:09:00.700Z"
   },
   {
    "duration": 6,
    "start_time": "2022-01-24T19:10:26.240Z"
   },
   {
    "duration": 5,
    "start_time": "2022-01-24T19:11:03.039Z"
   },
   {
    "duration": 5,
    "start_time": "2022-01-24T19:11:08.142Z"
   },
   {
    "duration": 5,
    "start_time": "2022-01-24T19:12:04.508Z"
   },
   {
    "duration": 5,
    "start_time": "2022-01-24T19:12:08.120Z"
   },
   {
    "duration": 67,
    "start_time": "2022-01-24T19:47:11.996Z"
   },
   {
    "duration": 237,
    "start_time": "2022-01-24T19:47:58.064Z"
   },
   {
    "duration": 31,
    "start_time": "2022-01-24T19:49:08.487Z"
   },
   {
    "duration": 190,
    "start_time": "2022-01-24T19:49:20.923Z"
   },
   {
    "duration": 233,
    "start_time": "2022-01-24T19:49:26.579Z"
   },
   {
    "duration": 1616,
    "start_time": "2022-01-24T19:57:27.870Z"
   },
   {
    "duration": 3,
    "start_time": "2022-01-24T19:57:29.488Z"
   },
   {
    "duration": 10,
    "start_time": "2022-01-24T19:57:29.493Z"
   },
   {
    "duration": 676,
    "start_time": "2022-01-24T19:57:29.505Z"
   },
   {
    "duration": 93,
    "start_time": "2022-01-24T19:57:30.182Z"
   },
   {
    "duration": 3,
    "start_time": "2022-01-24T19:57:30.277Z"
   },
   {
    "duration": 10,
    "start_time": "2022-01-24T19:57:30.282Z"
   },
   {
    "duration": 13,
    "start_time": "2022-01-24T19:57:30.295Z"
   },
   {
    "duration": 4139,
    "start_time": "2022-01-24T19:57:30.311Z"
   },
   {
    "duration": 6,
    "start_time": "2022-01-24T19:57:34.452Z"
   },
   {
    "duration": 9,
    "start_time": "2022-01-24T19:57:34.460Z"
   },
   {
    "duration": 85056,
    "start_time": "2022-01-24T19:57:34.471Z"
   },
   {
    "duration": 6,
    "start_time": "2022-01-24T19:58:59.529Z"
   },
   {
    "duration": 6,
    "start_time": "2022-01-24T19:58:59.537Z"
   },
   {
    "duration": 43,
    "start_time": "2022-01-24T19:58:59.545Z"
   },
   {
    "duration": 24,
    "start_time": "2022-01-24T19:58:59.591Z"
   },
   {
    "duration": 5631,
    "start_time": "2022-01-24T19:58:59.617Z"
   },
   {
    "duration": 1749,
    "start_time": "2022-01-24T19:59:05.250Z"
   },
   {
    "duration": 7,
    "start_time": "2022-01-24T19:59:07.000Z"
   },
   {
    "duration": 5,
    "start_time": "2022-01-24T19:59:07.009Z"
   },
   {
    "duration": 8,
    "start_time": "2022-01-24T19:59:07.015Z"
   },
   {
    "duration": 1542,
    "start_time": "2022-01-24T20:38:35.555Z"
   },
   {
    "duration": 3,
    "start_time": "2022-01-24T20:38:37.100Z"
   },
   {
    "duration": 24,
    "start_time": "2022-01-24T20:38:37.106Z"
   },
   {
    "duration": 675,
    "start_time": "2022-01-24T20:38:37.133Z"
   },
   {
    "duration": 100,
    "start_time": "2022-01-24T20:38:37.810Z"
   },
   {
    "duration": 4,
    "start_time": "2022-01-24T20:38:37.912Z"
   },
   {
    "duration": 31,
    "start_time": "2022-01-24T20:38:37.917Z"
   },
   {
    "duration": 36,
    "start_time": "2022-01-24T20:38:37.950Z"
   },
   {
    "duration": 4109,
    "start_time": "2022-01-24T20:38:37.990Z"
   },
   {
    "duration": 6,
    "start_time": "2022-01-24T20:38:42.102Z"
   },
   {
    "duration": 7,
    "start_time": "2022-01-24T20:38:42.110Z"
   },
   {
    "duration": 82323,
    "start_time": "2022-01-24T20:38:42.118Z"
   },
   {
    "duration": 5,
    "start_time": "2022-01-24T20:40:04.443Z"
   },
   {
    "duration": 10,
    "start_time": "2022-01-24T20:40:04.449Z"
   },
   {
    "duration": 50,
    "start_time": "2022-01-24T20:40:04.461Z"
   },
   {
    "duration": 11,
    "start_time": "2022-01-24T20:40:04.513Z"
   },
   {
    "duration": 5700,
    "start_time": "2022-01-24T20:40:04.525Z"
   },
   {
    "duration": 1856,
    "start_time": "2022-01-24T20:40:10.227Z"
   },
   {
    "duration": 4,
    "start_time": "2022-01-24T20:40:12.085Z"
   },
   {
    "duration": 22,
    "start_time": "2022-01-24T20:40:12.091Z"
   },
   {
    "duration": 40,
    "start_time": "2022-01-24T20:40:12.115Z"
   },
   {
    "duration": 245390,
    "start_time": "2022-01-24T20:40:12.157Z"
   },
   {
    "duration": 21,
    "start_time": "2022-01-24T20:44:17.549Z"
   },
   {
    "duration": 5580,
    "start_time": "2022-01-24T20:44:17.573Z"
   },
   {
    "duration": 4,
    "start_time": "2022-01-24T20:44:23.154Z"
   },
   {
    "duration": 211013,
    "start_time": "2022-01-24T20:44:23.159Z"
   },
   {
    "duration": 3,
    "start_time": "2022-01-24T20:47:54.177Z"
   },
   {
    "duration": 46539,
    "start_time": "2022-01-24T20:47:54.183Z"
   },
   {
    "duration": 68,
    "start_time": "2022-01-24T20:48:40.724Z"
   },
   {
    "duration": -157,
    "start_time": "2022-01-24T20:48:40.951Z"
   },
   {
    "duration": -172,
    "start_time": "2022-01-24T20:48:40.968Z"
   },
   {
    "duration": -173,
    "start_time": "2022-01-24T20:48:40.970Z"
   },
   {
    "duration": -173,
    "start_time": "2022-01-24T20:48:40.971Z"
   },
   {
    "duration": -174,
    "start_time": "2022-01-24T20:48:40.973Z"
   },
   {
    "duration": -175,
    "start_time": "2022-01-24T20:48:40.975Z"
   },
   {
    "duration": -176,
    "start_time": "2022-01-24T20:48:40.977Z"
   },
   {
    "duration": -176,
    "start_time": "2022-01-24T20:48:40.978Z"
   },
   {
    "duration": -177,
    "start_time": "2022-01-24T20:48:40.980Z"
   },
   {
    "duration": -177,
    "start_time": "2022-01-24T20:48:40.981Z"
   },
   {
    "duration": -178,
    "start_time": "2022-01-24T20:48:40.983Z"
   },
   {
    "duration": -180,
    "start_time": "2022-01-24T20:48:40.986Z"
   },
   {
    "duration": -181,
    "start_time": "2022-01-24T20:48:40.988Z"
   },
   {
    "duration": -182,
    "start_time": "2022-01-24T20:48:40.990Z"
   },
   {
    "duration": -183,
    "start_time": "2022-01-24T20:48:40.992Z"
   },
   {
    "duration": -183,
    "start_time": "2022-01-24T20:48:40.993Z"
   },
   {
    "duration": -184,
    "start_time": "2022-01-24T20:48:40.995Z"
   },
   {
    "duration": -185,
    "start_time": "2022-01-24T20:48:40.997Z"
   },
   {
    "duration": -185,
    "start_time": "2022-01-24T20:48:40.998Z"
   },
   {
    "duration": -186,
    "start_time": "2022-01-24T20:48:41.000Z"
   },
   {
    "duration": -186,
    "start_time": "2022-01-24T20:48:41.001Z"
   },
   {
    "duration": -187,
    "start_time": "2022-01-24T20:48:41.002Z"
   },
   {
    "duration": -187,
    "start_time": "2022-01-24T20:48:41.003Z"
   },
   {
    "duration": -188,
    "start_time": "2022-01-24T20:48:41.005Z"
   },
   {
    "duration": -188,
    "start_time": "2022-01-24T20:48:41.006Z"
   },
   {
    "duration": -188,
    "start_time": "2022-01-24T20:48:41.007Z"
   },
   {
    "duration": -189,
    "start_time": "2022-01-24T20:48:41.009Z"
   },
   {
    "duration": -189,
    "start_time": "2022-01-24T20:48:41.010Z"
   },
   {
    "duration": -190,
    "start_time": "2022-01-24T20:48:41.012Z"
   },
   {
    "duration": -190,
    "start_time": "2022-01-24T20:48:41.013Z"
   },
   {
    "duration": -190,
    "start_time": "2022-01-24T20:48:41.014Z"
   },
   {
    "duration": -190,
    "start_time": "2022-01-24T20:48:41.015Z"
   },
   {
    "duration": -191,
    "start_time": "2022-01-24T20:48:41.017Z"
   },
   {
    "duration": -191,
    "start_time": "2022-01-24T20:48:41.018Z"
   },
   {
    "duration": -191,
    "start_time": "2022-01-24T20:48:41.019Z"
   },
   {
    "duration": -191,
    "start_time": "2022-01-24T20:48:41.020Z"
   },
   {
    "duration": -191,
    "start_time": "2022-01-24T20:48:41.021Z"
   },
   {
    "duration": -191,
    "start_time": "2022-01-24T20:48:41.022Z"
   },
   {
    "duration": -215,
    "start_time": "2022-01-24T20:48:41.047Z"
   },
   {
    "duration": -215,
    "start_time": "2022-01-24T20:48:41.048Z"
   },
   {
    "duration": -216,
    "start_time": "2022-01-24T20:48:41.050Z"
   },
   {
    "duration": 3,
    "start_time": "2022-01-24T20:50:22.555Z"
   },
   {
    "duration": 1072650,
    "start_time": "2022-01-24T20:50:22.568Z"
   },
   {
    "duration": 4,
    "start_time": "2022-01-24T21:08:15.221Z"
   },
   {
    "duration": 34537,
    "start_time": "2022-01-24T21:08:15.227Z"
   },
   {
    "duration": 5,
    "start_time": "2022-01-24T21:08:49.767Z"
   },
   {
    "duration": 284885,
    "start_time": "2022-01-24T21:08:49.774Z"
   },
   {
    "duration": 3,
    "start_time": "2022-01-24T21:13:34.661Z"
   },
   {
    "duration": 120,
    "start_time": "2022-01-24T21:13:34.665Z"
   },
   {
    "duration": 19,
    "start_time": "2022-01-24T21:13:34.788Z"
   },
   {
    "duration": 8,
    "start_time": "2022-01-24T21:13:34.810Z"
   },
   {
    "duration": 343,
    "start_time": "2022-01-24T21:13:34.819Z"
   },
   {
    "duration": 6217,
    "start_time": "2022-01-24T21:13:35.164Z"
   },
   {
    "duration": 710,
    "start_time": "2022-01-24T21:13:41.383Z"
   },
   {
    "duration": 66,
    "start_time": "2022-01-24T21:13:42.095Z"
   },
   {
    "duration": 6,
    "start_time": "2022-01-24T21:13:42.163Z"
   },
   {
    "duration": 9,
    "start_time": "2022-01-24T21:13:42.171Z"
   },
   {
    "duration": 710,
    "start_time": "2022-01-24T21:13:42.181Z"
   },
   {
    "duration": 4,
    "start_time": "2022-01-24T21:13:42.893Z"
   },
   {
    "duration": 3,
    "start_time": "2022-01-24T21:13:42.906Z"
   },
   {
    "duration": 12,
    "start_time": "2022-01-24T21:13:42.911Z"
   },
   {
    "duration": 10,
    "start_time": "2022-01-24T21:13:42.925Z"
   },
   {
    "duration": 120033,
    "start_time": "2022-01-24T21:13:42.937Z"
   },
   {
    "duration": 2042,
    "start_time": "2022-01-24T21:15:42.972Z"
   },
   {
    "duration": 67,
    "start_time": "2022-01-24T21:15:45.017Z"
   },
   {
    "duration": 1954,
    "start_time": "2022-01-24T21:15:45.086Z"
   },
   {
    "duration": 4,
    "start_time": "2022-01-24T21:15:47.042Z"
   },
   {
    "duration": 25593,
    "start_time": "2022-01-24T21:15:47.048Z"
   },
   {
    "duration": 25,
    "start_time": "2022-01-24T21:16:12.643Z"
   },
   {
    "duration": 85,
    "start_time": "2022-01-24T21:16:12.670Z"
   },
   {
    "duration": 12,
    "start_time": "2022-01-24T21:16:12.757Z"
   },
   {
    "duration": 9,
    "start_time": "2022-01-24T21:16:12.771Z"
   },
   {
    "duration": 37,
    "start_time": "2022-01-24T21:16:12.781Z"
   },
   {
    "duration": 63,
    "start_time": "2022-01-24T21:16:12.820Z"
   },
   {
    "duration": 26,
    "start_time": "2022-01-24T21:16:12.885Z"
   },
   {
    "duration": 23,
    "start_time": "2022-01-24T21:16:12.914Z"
   },
   {
    "duration": 341,
    "start_time": "2022-01-24T21:16:12.939Z"
   },
   {
    "duration": 409,
    "start_time": "2022-01-24T21:16:13.282Z"
   },
   {
    "duration": 15,
    "start_time": "2022-01-24T21:16:13.694Z"
   },
   {
    "duration": 305,
    "start_time": "2022-01-24T21:16:13.711Z"
   },
   {
    "duration": 11,
    "start_time": "2022-01-24T21:16:14.018Z"
   },
   {
    "duration": 307,
    "start_time": "2022-01-24T21:16:14.031Z"
   },
   {
    "duration": 17,
    "start_time": "2022-01-24T21:16:14.340Z"
   },
   {
    "duration": 2,
    "start_time": "2022-01-24T21:18:24.619Z"
   },
   {
    "duration": 112,
    "start_time": "2022-01-24T21:18:26.246Z"
   },
   {
    "duration": 9,
    "start_time": "2022-01-24T21:18:48.356Z"
   },
   {
    "duration": 18,
    "start_time": "2022-01-24T21:18:53.835Z"
   },
   {
    "duration": 56,
    "start_time": "2022-01-24T21:18:55.330Z"
   },
   {
    "duration": 5,
    "start_time": "2022-01-24T21:21:33.395Z"
   },
   {
    "duration": 7,
    "start_time": "2022-01-24T21:21:51.643Z"
   },
   {
    "duration": 3,
    "start_time": "2022-01-24T21:32:37.920Z"
   },
   {
    "duration": 344,
    "start_time": "2022-01-24T21:33:00.165Z"
   },
   {
    "duration": 224,
    "start_time": "2022-01-24T21:33:12.161Z"
   },
   {
    "duration": 386,
    "start_time": "2022-01-24T21:35:40.153Z"
   },
   {
    "duration": 344,
    "start_time": "2022-01-24T21:36:00.153Z"
   },
   {
    "duration": 4,
    "start_time": "2022-01-24T21:36:11.342Z"
   },
   {
    "duration": 6087,
    "start_time": "2022-01-24T21:36:25.491Z"
   },
   {
    "duration": 14,
    "start_time": "2022-01-24T21:36:47.885Z"
   },
   {
    "duration": 203,
    "start_time": "2022-01-24T21:37:06.765Z"
   },
   {
    "duration": 345,
    "start_time": "2022-01-24T21:37:39.418Z"
   },
   {
    "duration": 2364,
    "start_time": "2022-01-25T07:07:51.621Z"
   },
   {
    "duration": 4,
    "start_time": "2022-01-25T07:07:53.989Z"
   },
   {
    "duration": 4,
    "start_time": "2022-01-25T07:07:53.998Z"
   },
   {
    "duration": 928,
    "start_time": "2022-01-25T07:07:54.005Z"
   },
   {
    "duration": 116,
    "start_time": "2022-01-25T07:07:54.935Z"
   },
   {
    "duration": 14,
    "start_time": "2022-01-25T07:07:55.058Z"
   },
   {
    "duration": 36,
    "start_time": "2022-01-25T07:07:55.075Z"
   },
   {
    "duration": 3,
    "start_time": "2022-01-25T07:07:55.116Z"
   },
   {
    "duration": 7405,
    "start_time": "2022-01-25T07:07:55.122Z"
   },
   {
    "duration": 6,
    "start_time": "2022-01-25T07:08:02.529Z"
   },
   {
    "duration": 26,
    "start_time": "2022-01-25T07:08:02.538Z"
   },
   {
    "duration": 151785,
    "start_time": "2022-01-25T07:08:02.566Z"
   },
   {
    "duration": 12,
    "start_time": "2022-01-25T07:10:34.354Z"
   },
   {
    "duration": 25,
    "start_time": "2022-01-25T07:10:34.369Z"
   },
   {
    "duration": 40,
    "start_time": "2022-01-25T07:10:34.396Z"
   },
   {
    "duration": 23,
    "start_time": "2022-01-25T07:10:34.438Z"
   },
   {
    "duration": 9465,
    "start_time": "2022-01-25T07:10:34.464Z"
   },
   {
    "duration": 3067,
    "start_time": "2022-01-25T07:10:43.932Z"
   },
   {
    "duration": 6,
    "start_time": "2022-01-25T07:10:47.002Z"
   },
   {
    "duration": 9,
    "start_time": "2022-01-25T07:10:47.011Z"
   },
   {
    "duration": 8,
    "start_time": "2022-01-25T07:10:47.023Z"
   },
   {
    "duration": 312811,
    "start_time": "2022-01-25T07:10:47.033Z"
   },
   {
    "duration": 39,
    "start_time": "2022-01-25T07:15:59.850Z"
   },
   {
    "duration": 9612,
    "start_time": "2022-01-25T07:15:59.893Z"
   },
   {
    "duration": 5,
    "start_time": "2022-01-25T07:16:09.508Z"
   },
   {
    "duration": 258118,
    "start_time": "2022-01-25T07:16:09.515Z"
   },
   {
    "duration": 3,
    "start_time": "2022-01-25T07:20:27.636Z"
   },
   {
    "duration": 154433,
    "start_time": "2022-01-25T07:20:27.641Z"
   },
   {
    "duration": 6,
    "start_time": "2022-01-25T07:23:02.077Z"
   },
   {
    "duration": 2601001,
    "start_time": "2022-01-25T07:23:02.086Z"
   },
   {
    "duration": 4,
    "start_time": "2022-01-25T08:06:23.090Z"
   },
   {
    "duration": 34424,
    "start_time": "2022-01-25T08:06:23.096Z"
   },
   {
    "duration": 5,
    "start_time": "2022-01-25T08:06:57.523Z"
   },
   {
    "duration": 322782,
    "start_time": "2022-01-25T08:06:57.531Z"
   },
   {
    "duration": 4,
    "start_time": "2022-01-25T08:12:20.315Z"
   },
   {
    "duration": 140,
    "start_time": "2022-01-25T08:12:20.321Z"
   },
   {
    "duration": 11,
    "start_time": "2022-01-25T08:12:20.463Z"
   },
   {
    "duration": 13,
    "start_time": "2022-01-25T08:12:20.477Z"
   },
   {
    "duration": 530,
    "start_time": "2022-01-25T08:12:20.492Z"
   },
   {
    "duration": 9212,
    "start_time": "2022-01-25T08:12:21.025Z"
   },
   {
    "duration": 1282,
    "start_time": "2022-01-25T08:12:30.240Z"
   },
   {
    "duration": 131,
    "start_time": "2022-01-25T08:12:31.525Z"
   },
   {
    "duration": 9,
    "start_time": "2022-01-25T08:12:31.660Z"
   },
   {
    "duration": 9,
    "start_time": "2022-01-25T08:12:31.672Z"
   },
   {
    "duration": 1306,
    "start_time": "2022-01-25T08:12:31.683Z"
   },
   {
    "duration": 7,
    "start_time": "2022-01-25T08:12:32.992Z"
   },
   {
    "duration": 5,
    "start_time": "2022-01-25T08:12:33.002Z"
   },
   {
    "duration": 17,
    "start_time": "2022-01-25T08:12:33.009Z"
   },
   {
    "duration": 45,
    "start_time": "2022-01-25T08:12:33.029Z"
   },
   {
    "duration": 194298,
    "start_time": "2022-01-25T08:12:33.077Z"
   },
   {
    "duration": 2485,
    "start_time": "2022-01-25T08:15:47.378Z"
   },
   {
    "duration": 74,
    "start_time": "2022-01-25T08:15:49.866Z"
   },
   {
    "duration": 2433,
    "start_time": "2022-01-25T08:15:49.960Z"
   },
   {
    "duration": 4,
    "start_time": "2022-01-25T08:15:52.395Z"
   },
   {
    "duration": 26009,
    "start_time": "2022-01-25T08:15:52.402Z"
   },
   {
    "duration": 24,
    "start_time": "2022-01-25T08:16:18.414Z"
   },
   {
    "duration": 88,
    "start_time": "2022-01-25T08:16:18.440Z"
   },
   {
    "duration": 35,
    "start_time": "2022-01-25T08:16:18.530Z"
   },
   {
    "duration": 11,
    "start_time": "2022-01-25T08:16:18.567Z"
   },
   {
    "duration": 18,
    "start_time": "2022-01-25T08:16:18.580Z"
   },
   {
    "duration": 104,
    "start_time": "2022-01-25T08:16:18.600Z"
   },
   {
    "duration": 8,
    "start_time": "2022-01-25T08:16:18.707Z"
   },
   {
    "duration": 7,
    "start_time": "2022-01-25T08:16:18.717Z"
   },
   {
    "duration": 40,
    "start_time": "2022-01-25T08:16:18.726Z"
   },
   {
    "duration": 509,
    "start_time": "2022-01-25T08:16:18.769Z"
   },
   {
    "duration": 603,
    "start_time": "2022-01-25T08:16:19.281Z"
   },
   {
    "duration": 14,
    "start_time": "2022-01-25T08:16:19.887Z"
   },
   {
    "duration": 516,
    "start_time": "2022-01-25T08:16:19.910Z"
   },
   {
    "duration": 32,
    "start_time": "2022-01-25T08:16:20.429Z"
   },
   {
    "duration": 468,
    "start_time": "2022-01-25T08:16:20.464Z"
   },
   {
    "duration": 37,
    "start_time": "2022-01-25T08:16:20.935Z"
   },
   {
    "duration": 2132,
    "start_time": "2022-01-25T09:36:42.777Z"
   },
   {
    "duration": 4,
    "start_time": "2022-01-25T09:36:44.912Z"
   },
   {
    "duration": 4,
    "start_time": "2022-01-25T09:36:44.919Z"
   },
   {
    "duration": 829,
    "start_time": "2022-01-25T09:36:44.926Z"
   },
   {
    "duration": 116,
    "start_time": "2022-01-25T09:36:45.762Z"
   },
   {
    "duration": 3,
    "start_time": "2022-01-25T09:36:45.881Z"
   },
   {
    "duration": 8,
    "start_time": "2022-01-25T09:36:45.887Z"
   },
   {
    "duration": 4,
    "start_time": "2022-01-25T09:36:45.898Z"
   },
   {
    "duration": 6880,
    "start_time": "2022-01-25T09:36:45.907Z"
   },
   {
    "duration": 7,
    "start_time": "2022-01-25T09:36:52.791Z"
   },
   {
    "duration": 6,
    "start_time": "2022-01-25T09:36:52.801Z"
   },
   {
    "duration": 144738,
    "start_time": "2022-01-25T09:36:52.809Z"
   },
   {
    "duration": 8,
    "start_time": "2022-01-25T09:39:17.550Z"
   },
   {
    "duration": 19,
    "start_time": "2022-01-25T09:39:17.566Z"
   },
   {
    "duration": 37,
    "start_time": "2022-01-25T09:39:17.588Z"
   },
   {
    "duration": 19,
    "start_time": "2022-01-25T09:39:17.628Z"
   },
   {
    "duration": 8996,
    "start_time": "2022-01-25T09:39:17.666Z"
   },
   {
    "duration": 2928,
    "start_time": "2022-01-25T09:39:26.665Z"
   },
   {
    "duration": 5,
    "start_time": "2022-01-25T09:39:29.596Z"
   },
   {
    "duration": 6,
    "start_time": "2022-01-25T09:39:29.604Z"
   },
   {
    "duration": 5,
    "start_time": "2022-01-25T09:39:29.613Z"
   },
   {
    "duration": 271838,
    "start_time": "2022-01-25T09:39:29.620Z"
   },
   {
    "duration": 38,
    "start_time": "2022-01-25T09:44:01.461Z"
   },
   {
    "duration": 9179,
    "start_time": "2022-01-25T09:44:01.502Z"
   },
   {
    "duration": 5,
    "start_time": "2022-01-25T09:44:10.685Z"
   },
   {
    "duration": 273818,
    "start_time": "2022-01-25T09:44:10.692Z"
   },
   {
    "duration": 4,
    "start_time": "2022-01-25T09:48:44.518Z"
   },
   {
    "duration": 350376,
    "start_time": "2022-01-25T09:48:44.527Z"
   },
   {
    "duration": 5,
    "start_time": "2022-01-25T09:54:34.905Z"
   },
   {
    "duration": 2223,
    "start_time": "2022-01-25T10:41:02.656Z"
   },
   {
    "duration": 4,
    "start_time": "2022-01-25T10:41:04.882Z"
   },
   {
    "duration": 4,
    "start_time": "2022-01-25T10:41:04.889Z"
   },
   {
    "duration": 829,
    "start_time": "2022-01-25T10:41:04.896Z"
   },
   {
    "duration": 117,
    "start_time": "2022-01-25T10:41:05.728Z"
   },
   {
    "duration": 14,
    "start_time": "2022-01-25T10:41:05.847Z"
   },
   {
    "duration": 8,
    "start_time": "2022-01-25T10:41:05.865Z"
   },
   {
    "duration": 10,
    "start_time": "2022-01-25T10:41:05.878Z"
   },
   {
    "duration": 6582,
    "start_time": "2022-01-25T10:41:05.891Z"
   },
   {
    "duration": 7,
    "start_time": "2022-01-25T10:41:12.475Z"
   },
   {
    "duration": 6,
    "start_time": "2022-01-25T10:41:12.484Z"
   },
   {
    "duration": 145343,
    "start_time": "2022-01-25T10:41:12.493Z"
   },
   {
    "duration": 7,
    "start_time": "2022-01-25T10:43:37.839Z"
   },
   {
    "duration": 3,
    "start_time": "2022-01-25T10:43:37.859Z"
   },
   {
    "duration": 38,
    "start_time": "2022-01-25T10:43:37.864Z"
   },
   {
    "duration": 15,
    "start_time": "2022-01-25T10:43:37.905Z"
   },
   {
    "duration": 9076,
    "start_time": "2022-01-25T10:43:37.922Z"
   },
   {
    "duration": 2728,
    "start_time": "2022-01-25T10:43:47.000Z"
   },
   {
    "duration": 5,
    "start_time": "2022-01-25T10:43:49.731Z"
   },
   {
    "duration": 23,
    "start_time": "2022-01-25T10:43:49.739Z"
   },
   {
    "duration": 13,
    "start_time": "2022-01-25T10:43:49.765Z"
   },
   {
    "duration": 269838,
    "start_time": "2022-01-25T10:43:49.781Z"
   },
   {
    "duration": 7,
    "start_time": "2022-01-25T10:48:19.627Z"
   },
   {
    "duration": 285428,
    "start_time": "2022-01-25T10:48:19.639Z"
   },
   {
    "duration": 5,
    "start_time": "2022-01-25T10:53:05.071Z"
   },
   {
    "duration": 247039,
    "start_time": "2022-01-25T10:53:05.079Z"
   },
   {
    "duration": 4,
    "start_time": "2022-01-25T10:57:12.120Z"
   },
   {
    "duration": 2270358,
    "start_time": "2022-01-25T10:57:12.127Z"
   },
   {
    "duration": 4,
    "start_time": "2022-01-25T11:35:02.487Z"
   },
   {
    "duration": 35336,
    "start_time": "2022-01-25T11:35:02.493Z"
   },
   {
    "duration": 6,
    "start_time": "2022-01-25T11:35:37.832Z"
   },
   {
    "duration": 300579,
    "start_time": "2022-01-25T11:35:37.840Z"
   },
   {
    "duration": 4,
    "start_time": "2022-01-25T11:40:38.423Z"
   },
   {
    "duration": 153,
    "start_time": "2022-01-25T11:40:38.430Z"
   },
   {
    "duration": 14,
    "start_time": "2022-01-25T11:40:38.586Z"
   },
   {
    "duration": 14,
    "start_time": "2022-01-25T11:40:38.602Z"
   },
   {
    "duration": 547,
    "start_time": "2022-01-25T11:40:38.619Z"
   },
   {
    "duration": 9837,
    "start_time": "2022-01-25T11:40:39.168Z"
   },
   {
    "duration": 1153,
    "start_time": "2022-01-25T11:40:49.008Z"
   },
   {
    "duration": 116,
    "start_time": "2022-01-25T11:40:50.164Z"
   },
   {
    "duration": 7,
    "start_time": "2022-01-25T11:40:50.283Z"
   },
   {
    "duration": 7,
    "start_time": "2022-01-25T11:40:50.293Z"
   },
   {
    "duration": 1187,
    "start_time": "2022-01-25T11:40:50.302Z"
   },
   {
    "duration": 6,
    "start_time": "2022-01-25T11:40:51.491Z"
   },
   {
    "duration": 6,
    "start_time": "2022-01-25T11:40:51.499Z"
   },
   {
    "duration": 14,
    "start_time": "2022-01-25T11:40:51.507Z"
   },
   {
    "duration": 49,
    "start_time": "2022-01-25T11:40:51.523Z"
   },
   {
    "duration": 419014,
    "start_time": "2022-01-25T11:40:51.575Z"
   },
   {
    "duration": 2474,
    "start_time": "2022-01-25T11:47:50.592Z"
   },
   {
    "duration": 73,
    "start_time": "2022-01-25T11:47:53.074Z"
   },
   {
    "duration": 2421,
    "start_time": "2022-01-25T11:47:53.150Z"
   },
   {
    "duration": 4,
    "start_time": "2022-01-25T11:47:55.573Z"
   },
   {
    "duration": 34417,
    "start_time": "2022-01-25T11:47:55.580Z"
   },
   {
    "duration": 25,
    "start_time": "2022-01-25T11:48:29.999Z"
   },
   {
    "duration": 101,
    "start_time": "2022-01-25T11:48:30.026Z"
   },
   {
    "duration": 35,
    "start_time": "2022-01-25T11:48:30.130Z"
   },
   {
    "duration": 13,
    "start_time": "2022-01-25T11:48:30.167Z"
   },
   {
    "duration": 19,
    "start_time": "2022-01-25T11:48:30.183Z"
   },
   {
    "duration": 105,
    "start_time": "2022-01-25T11:48:30.205Z"
   },
   {
    "duration": 9,
    "start_time": "2022-01-25T11:48:30.313Z"
   },
   {
    "duration": 10,
    "start_time": "2022-01-25T11:48:30.324Z"
   },
   {
    "duration": 41,
    "start_time": "2022-01-25T11:48:30.336Z"
   },
   {
    "duration": 546,
    "start_time": "2022-01-25T11:48:30.379Z"
   },
   {
    "duration": 653,
    "start_time": "2022-01-25T11:48:30.928Z"
   },
   {
    "duration": 12,
    "start_time": "2022-01-25T11:48:31.583Z"
   },
   {
    "duration": 501,
    "start_time": "2022-01-25T11:48:31.598Z"
   },
   {
    "duration": 13,
    "start_time": "2022-01-25T11:48:32.102Z"
   },
   {
    "duration": 496,
    "start_time": "2022-01-25T11:48:32.122Z"
   },
   {
    "duration": 18,
    "start_time": "2022-01-25T11:48:32.621Z"
   },
   {
    "duration": 46,
    "start_time": "2022-01-25T12:27:24.322Z"
   },
   {
    "duration": 7,
    "start_time": "2022-01-25T12:27:26.859Z"
   },
   {
    "duration": 5,
    "start_time": "2022-01-25T12:27:30.427Z"
   },
   {
    "duration": 6,
    "start_time": "2022-01-25T12:27:39.621Z"
   },
   {
    "duration": 7,
    "start_time": "2022-01-25T12:31:43.917Z"
   },
   {
    "duration": 1112,
    "start_time": "2022-01-25T12:36:00.959Z"
   },
   {
    "duration": 4,
    "start_time": "2022-01-25T12:36:17.519Z"
   },
   {
    "duration": 6,
    "start_time": "2022-01-25T12:37:58.980Z"
   },
   {
    "duration": 285415,
    "start_time": "2022-01-25T12:38:02.880Z"
   },
   {
    "duration": 5,
    "start_time": "2022-01-25T12:43:07.731Z"
   },
   {
    "duration": 25355,
    "start_time": "2022-01-25T12:43:09.965Z"
   },
   {
    "duration": 39,
    "start_time": "2022-01-25T12:43:35.323Z"
   },
   {
    "duration": 4,
    "start_time": "2022-01-25T12:44:15.756Z"
   },
   {
    "duration": 27141,
    "start_time": "2022-01-25T12:44:17.076Z"
   },
   {
    "duration": 25,
    "start_time": "2022-01-25T12:44:44.220Z"
   },
   {
    "duration": 5,
    "start_time": "2022-01-25T12:45:15.487Z"
   },
   {
    "duration": 23323,
    "start_time": "2022-01-25T12:45:15.997Z"
   },
   {
    "duration": 23,
    "start_time": "2022-01-25T12:45:39.322Z"
   },
   {
    "duration": 5,
    "start_time": "2022-01-25T12:48:50.590Z"
   },
   {
    "duration": 12,
    "start_time": "2022-01-25T12:48:51.708Z"
   },
   {
    "duration": 12,
    "start_time": "2022-01-25T12:49:06.580Z"
   },
   {
    "duration": 12,
    "start_time": "2022-01-25T12:49:40.473Z"
   },
   {
    "duration": 11,
    "start_time": "2022-01-25T12:49:51.792Z"
   },
   {
    "duration": 11,
    "start_time": "2022-01-25T12:49:52.691Z"
   },
   {
    "duration": 9,
    "start_time": "2022-01-25T12:50:48.573Z"
   },
   {
    "duration": 2168,
    "start_time": "2022-01-25T12:51:45.293Z"
   },
   {
    "duration": 4,
    "start_time": "2022-01-25T12:51:47.465Z"
   },
   {
    "duration": 119,
    "start_time": "2022-01-25T12:51:47.481Z"
   },
   {
    "duration": 1005,
    "start_time": "2022-01-25T12:51:47.603Z"
   },
   {
    "duration": 138,
    "start_time": "2022-01-25T12:51:48.611Z"
   },
   {
    "duration": 3,
    "start_time": "2022-01-25T12:51:48.751Z"
   },
   {
    "duration": 15,
    "start_time": "2022-01-25T12:51:48.757Z"
   },
   {
    "duration": 10,
    "start_time": "2022-01-25T12:51:48.777Z"
   },
   {
    "duration": 6656,
    "start_time": "2022-01-25T12:51:48.790Z"
   },
   {
    "duration": 13,
    "start_time": "2022-01-25T12:51:55.448Z"
   },
   {
    "duration": 7,
    "start_time": "2022-01-25T12:51:55.464Z"
   },
   {
    "duration": 146880,
    "start_time": "2022-01-25T12:51:55.475Z"
   },
   {
    "duration": 8,
    "start_time": "2022-01-25T12:54:22.359Z"
   },
   {
    "duration": 4,
    "start_time": "2022-01-25T12:54:22.370Z"
   },
   {
    "duration": 51,
    "start_time": "2022-01-25T12:54:22.377Z"
   },
   {
    "duration": 184,
    "start_time": "2022-01-25T12:54:22.431Z"
   },
   {
    "duration": 10370,
    "start_time": "2022-01-25T12:54:22.618Z"
   },
   {
    "duration": 3035,
    "start_time": "2022-01-25T12:54:32.990Z"
   },
   {
    "duration": 7,
    "start_time": "2022-01-25T12:54:36.027Z"
   },
   {
    "duration": 44,
    "start_time": "2022-01-25T12:54:36.037Z"
   },
   {
    "duration": 6,
    "start_time": "2022-01-25T12:54:36.085Z"
   },
   {
    "duration": 269918,
    "start_time": "2022-01-25T12:54:36.094Z"
   },
   {
    "duration": 6,
    "start_time": "2022-01-25T12:59:06.022Z"
   },
   {
    "duration": 275877,
    "start_time": "2022-01-25T12:59:06.034Z"
   },
   {
    "duration": 5,
    "start_time": "2022-01-25T13:03:41.914Z"
   },
   {
    "duration": 417998,
    "start_time": "2022-01-25T13:03:41.922Z"
   },
   {
    "duration": 6,
    "start_time": "2022-01-25T13:10:39.923Z"
   },
   {
    "duration": 2202,
    "start_time": "2022-01-25T13:52:58.716Z"
   },
   {
    "duration": 3,
    "start_time": "2022-01-25T13:53:00.921Z"
   },
   {
    "duration": 6,
    "start_time": "2022-01-25T13:53:00.928Z"
   },
   {
    "duration": 968,
    "start_time": "2022-01-25T13:53:00.936Z"
   },
   {
    "duration": 127,
    "start_time": "2022-01-25T13:53:01.907Z"
   },
   {
    "duration": 4,
    "start_time": "2022-01-25T13:53:02.038Z"
   },
   {
    "duration": 7,
    "start_time": "2022-01-25T13:53:02.060Z"
   },
   {
    "duration": 13,
    "start_time": "2022-01-25T13:53:02.071Z"
   },
   {
    "duration": 6584,
    "start_time": "2022-01-25T13:53:02.088Z"
   },
   {
    "duration": 7,
    "start_time": "2022-01-25T13:53:08.675Z"
   },
   {
    "duration": 5,
    "start_time": "2022-01-25T13:53:08.684Z"
   },
   {
    "duration": 146835,
    "start_time": "2022-01-25T13:53:08.691Z"
   },
   {
    "duration": 7,
    "start_time": "2022-01-25T13:55:35.528Z"
   },
   {
    "duration": 22,
    "start_time": "2022-01-25T13:55:35.537Z"
   },
   {
    "duration": 42,
    "start_time": "2022-01-25T13:55:35.562Z"
   },
   {
    "duration": 15,
    "start_time": "2022-01-25T13:55:35.606Z"
   },
   {
    "duration": 9053,
    "start_time": "2022-01-25T13:55:35.623Z"
   },
   {
    "duration": 2816,
    "start_time": "2022-01-25T13:55:44.679Z"
   },
   {
    "duration": 7,
    "start_time": "2022-01-25T13:55:47.498Z"
   },
   {
    "duration": 15,
    "start_time": "2022-01-25T13:55:47.507Z"
   },
   {
    "duration": 5,
    "start_time": "2022-01-25T13:55:47.525Z"
   },
   {
    "duration": 298255,
    "start_time": "2022-01-25T13:55:47.533Z"
   },
   {
    "duration": 4,
    "start_time": "2022-01-25T14:00:45.794Z"
   },
   {
    "duration": 272202,
    "start_time": "2022-01-25T14:00:45.802Z"
   },
   {
    "duration": 3,
    "start_time": "2022-01-25T14:05:18.007Z"
   },
   {
    "duration": 242012,
    "start_time": "2022-01-25T14:05:18.013Z"
   },
   {
    "duration": 37,
    "start_time": "2022-01-25T14:09:20.028Z"
   },
   {
    "duration": 1257837,
    "start_time": "2022-01-25T14:09:20.069Z"
   },
   {
    "duration": 4,
    "start_time": "2022-01-25T14:30:17.909Z"
   },
   {
    "duration": 35215,
    "start_time": "2022-01-25T14:30:17.915Z"
   },
   {
    "duration": 5,
    "start_time": "2022-01-25T14:30:53.133Z"
   },
   {
    "duration": 296475,
    "start_time": "2022-01-25T14:30:53.160Z"
   },
   {
    "duration": 3,
    "start_time": "2022-01-25T14:35:49.638Z"
   },
   {
    "duration": 144,
    "start_time": "2022-01-25T14:35:49.643Z"
   },
   {
    "duration": 11,
    "start_time": "2022-01-25T14:35:49.790Z"
   },
   {
    "duration": 13,
    "start_time": "2022-01-25T14:35:49.803Z"
   },
   {
    "duration": 566,
    "start_time": "2022-01-25T14:35:49.819Z"
   },
   {
    "duration": 9601,
    "start_time": "2022-01-25T14:35:50.387Z"
   },
   {
    "duration": 1130,
    "start_time": "2022-01-25T14:35:59.990Z"
   },
   {
    "duration": 98,
    "start_time": "2022-01-25T14:36:01.123Z"
   },
   {
    "duration": 8,
    "start_time": "2022-01-25T14:36:01.224Z"
   },
   {
    "duration": 27,
    "start_time": "2022-01-25T14:36:01.235Z"
   },
   {
    "duration": 1147,
    "start_time": "2022-01-25T14:36:01.264Z"
   },
   {
    "duration": 4,
    "start_time": "2022-01-25T14:36:02.414Z"
   },
   {
    "duration": 12,
    "start_time": "2022-01-25T14:36:02.421Z"
   },
   {
    "duration": 157846,
    "start_time": "2022-01-25T14:36:02.435Z"
   },
   {
    "duration": 2417,
    "start_time": "2022-01-25T14:38:40.284Z"
   },
   {
    "duration": 130,
    "start_time": "2022-01-25T14:38:42.704Z"
   },
   {
    "duration": 2433,
    "start_time": "2022-01-25T14:38:42.837Z"
   },
   {
    "duration": 4,
    "start_time": "2022-01-25T14:38:45.273Z"
   },
   {
    "duration": 31724,
    "start_time": "2022-01-25T14:38:45.279Z"
   },
   {
    "duration": 23,
    "start_time": "2022-01-25T14:39:17.005Z"
   },
   {
    "duration": 97,
    "start_time": "2022-01-25T14:39:17.031Z"
   },
   {
    "duration": 30,
    "start_time": "2022-01-25T14:39:17.131Z"
   },
   {
    "duration": 13,
    "start_time": "2022-01-25T14:39:17.163Z"
   },
   {
    "duration": 19,
    "start_time": "2022-01-25T14:39:17.179Z"
   },
   {
    "duration": 113,
    "start_time": "2022-01-25T14:39:17.201Z"
   },
   {
    "duration": 7,
    "start_time": "2022-01-25T14:39:17.317Z"
   },
   {
    "duration": 7,
    "start_time": "2022-01-25T14:39:17.327Z"
   },
   {
    "duration": 10,
    "start_time": "2022-01-25T14:39:17.360Z"
   },
   {
    "duration": 532,
    "start_time": "2022-01-25T14:39:17.372Z"
   },
   {
    "duration": 615,
    "start_time": "2022-01-25T14:39:17.907Z"
   },
   {
    "duration": 12,
    "start_time": "2022-01-25T14:39:18.524Z"
   },
   {
    "duration": 487,
    "start_time": "2022-01-25T14:39:18.538Z"
   },
   {
    "duration": 12,
    "start_time": "2022-01-25T14:39:19.028Z"
   },
   {
    "duration": 480,
    "start_time": "2022-01-25T14:39:19.042Z"
   },
   {
    "duration": 19,
    "start_time": "2022-01-25T14:39:19.525Z"
   },
   {
    "duration": 430864,
    "start_time": "2022-01-26T12:03:11.488Z"
   },
   {
    "duration": 34,
    "start_time": "2022-01-26T12:10:24.148Z"
   },
   {
    "duration": 650,
    "start_time": "2022-01-26T12:10:30.597Z"
   },
   {
    "duration": 4,
    "start_time": "2022-01-26T12:10:44.119Z"
   },
   {
    "duration": 4003,
    "start_time": "2022-01-26T12:10:46.460Z"
   },
   {
    "duration": 5,
    "start_time": "2022-01-26T12:10:50.764Z"
   },
   {
    "duration": 3,
    "start_time": "2022-01-26T12:11:36.381Z"
   },
   {
    "duration": 1393,
    "start_time": "2022-01-26T12:11:38.765Z"
   },
   {
    "duration": 3,
    "start_time": "2022-01-26T12:12:08.765Z"
   },
   {
    "duration": 1923,
    "start_time": "2022-01-26T12:12:15.772Z"
   },
   {
    "duration": 5,
    "start_time": "2022-01-26T12:12:18.787Z"
   },
   {
    "duration": 4,
    "start_time": "2022-01-26T12:13:04.332Z"
   },
   {
    "duration": 79223,
    "start_time": "2022-01-26T12:13:16.673Z"
   },
   {
    "duration": 5,
    "start_time": "2022-01-26T12:14:35.898Z"
   },
   {
    "duration": 30,
    "start_time": "2022-04-27T09:51:41.997Z"
   },
   {
    "duration": 2395,
    "start_time": "2022-04-27T09:55:12.349Z"
   },
   {
    "duration": 4,
    "start_time": "2022-04-27T09:55:14.748Z"
   },
   {
    "duration": 9,
    "start_time": "2022-04-27T09:55:14.754Z"
   },
   {
    "duration": 1029,
    "start_time": "2022-04-27T09:55:14.766Z"
   },
   {
    "duration": 40,
    "start_time": "2022-04-27T09:55:15.797Z"
   },
   {
    "duration": 4,
    "start_time": "2022-04-27T09:55:15.840Z"
   },
   {
    "duration": 37,
    "start_time": "2022-04-27T09:55:15.847Z"
   },
   {
    "duration": 5,
    "start_time": "2022-04-27T09:55:15.886Z"
   },
   {
    "duration": 6956,
    "start_time": "2022-04-27T09:55:15.894Z"
   },
   {
    "duration": 7,
    "start_time": "2022-04-27T09:55:22.855Z"
   },
   {
    "duration": 20,
    "start_time": "2022-04-27T09:55:22.864Z"
   },
   {
    "duration": 144158,
    "start_time": "2022-04-27T09:55:22.886Z"
   },
   {
    "duration": 8,
    "start_time": "2022-04-27T09:57:47.047Z"
   },
   {
    "duration": 25,
    "start_time": "2022-04-27T09:57:47.057Z"
   },
   {
    "duration": 40,
    "start_time": "2022-04-27T09:57:47.084Z"
   },
   {
    "duration": 13,
    "start_time": "2022-04-27T09:57:47.126Z"
   },
   {
    "duration": 7803,
    "start_time": "2022-04-27T09:57:47.141Z"
   },
   {
    "duration": 4061,
    "start_time": "2022-04-27T09:57:54.947Z"
   },
   {
    "duration": 8,
    "start_time": "2022-04-27T09:57:59.010Z"
   },
   {
    "duration": 9,
    "start_time": "2022-04-27T09:57:59.020Z"
   },
   {
    "duration": 11,
    "start_time": "2022-04-27T09:57:59.032Z"
   },
   {
    "duration": 288772,
    "start_time": "2022-04-27T09:57:59.045Z"
   },
   {
    "duration": 6,
    "start_time": "2022-04-27T10:02:47.819Z"
   },
   {
    "duration": 263241,
    "start_time": "2022-04-27T10:02:47.828Z"
   },
   {
    "duration": 12,
    "start_time": "2022-04-27T10:07:11.071Z"
   },
   {
    "duration": 3143,
    "start_time": "2022-04-27T10:23:39.893Z"
   },
   {
    "duration": 5,
    "start_time": "2022-04-27T10:23:43.040Z"
   },
   {
    "duration": 7,
    "start_time": "2022-04-27T10:23:43.047Z"
   },
   {
    "duration": 1481,
    "start_time": "2022-04-27T10:23:43.057Z"
   },
   {
    "duration": 59,
    "start_time": "2022-04-27T10:23:44.541Z"
   },
   {
    "duration": 4,
    "start_time": "2022-04-27T10:23:44.602Z"
   },
   {
    "duration": 20,
    "start_time": "2022-04-27T10:23:44.608Z"
   },
   {
    "duration": 8,
    "start_time": "2022-04-27T10:23:44.631Z"
   },
   {
    "duration": 10171,
    "start_time": "2022-04-27T10:23:44.641Z"
   },
   {
    "duration": 7,
    "start_time": "2022-04-27T10:23:54.818Z"
   },
   {
    "duration": 10,
    "start_time": "2022-04-27T10:23:54.828Z"
   },
   {
    "duration": 139455,
    "start_time": "2022-04-27T10:23:54.841Z"
   },
   {
    "duration": 9,
    "start_time": "2022-04-27T10:26:14.301Z"
   },
   {
    "duration": 7,
    "start_time": "2022-04-27T10:26:14.312Z"
   },
   {
    "duration": 65,
    "start_time": "2022-04-27T10:26:14.321Z"
   },
   {
    "duration": 412,
    "start_time": "2022-04-27T10:26:14.389Z"
   },
   {
    "duration": 0,
    "start_time": "2022-04-27T10:26:14.807Z"
   },
   {
    "duration": 0,
    "start_time": "2022-04-27T10:26:14.809Z"
   },
   {
    "duration": 1,
    "start_time": "2022-04-27T10:26:14.812Z"
   },
   {
    "duration": 0,
    "start_time": "2022-04-27T10:26:14.814Z"
   },
   {
    "duration": 0,
    "start_time": "2022-04-27T10:26:14.816Z"
   },
   {
    "duration": 0,
    "start_time": "2022-04-27T10:26:14.818Z"
   },
   {
    "duration": 0,
    "start_time": "2022-04-27T10:26:14.819Z"
   },
   {
    "duration": 0,
    "start_time": "2022-04-27T10:26:14.821Z"
   },
   {
    "duration": 0,
    "start_time": "2022-04-27T10:26:14.823Z"
   },
   {
    "duration": 0,
    "start_time": "2022-04-27T10:26:14.824Z"
   },
   {
    "duration": 0,
    "start_time": "2022-04-27T10:26:14.827Z"
   },
   {
    "duration": 0,
    "start_time": "2022-04-27T10:26:14.829Z"
   },
   {
    "duration": 0,
    "start_time": "2022-04-27T10:26:14.830Z"
   },
   {
    "duration": 0,
    "start_time": "2022-04-27T10:26:14.832Z"
   },
   {
    "duration": 0,
    "start_time": "2022-04-27T10:26:14.834Z"
   },
   {
    "duration": 0,
    "start_time": "2022-04-27T10:26:14.835Z"
   },
   {
    "duration": 0,
    "start_time": "2022-04-27T10:26:14.837Z"
   },
   {
    "duration": 0,
    "start_time": "2022-04-27T10:26:14.839Z"
   },
   {
    "duration": 0,
    "start_time": "2022-04-27T10:26:14.841Z"
   },
   {
    "duration": 0,
    "start_time": "2022-04-27T10:26:14.894Z"
   },
   {
    "duration": 0,
    "start_time": "2022-04-27T10:26:14.897Z"
   },
   {
    "duration": 0,
    "start_time": "2022-04-27T10:26:14.899Z"
   },
   {
    "duration": 0,
    "start_time": "2022-04-27T10:26:14.900Z"
   },
   {
    "duration": 0,
    "start_time": "2022-04-27T10:26:14.902Z"
   },
   {
    "duration": 0,
    "start_time": "2022-04-27T10:26:14.903Z"
   },
   {
    "duration": 0,
    "start_time": "2022-04-27T10:26:14.905Z"
   },
   {
    "duration": 0,
    "start_time": "2022-04-27T10:26:14.908Z"
   },
   {
    "duration": 0,
    "start_time": "2022-04-27T10:26:14.910Z"
   },
   {
    "duration": 0,
    "start_time": "2022-04-27T10:26:14.911Z"
   },
   {
    "duration": 0,
    "start_time": "2022-04-27T10:26:14.913Z"
   },
   {
    "duration": 0,
    "start_time": "2022-04-27T10:26:14.914Z"
   },
   {
    "duration": 0,
    "start_time": "2022-04-27T10:26:14.916Z"
   },
   {
    "duration": 0,
    "start_time": "2022-04-27T10:26:14.917Z"
   },
   {
    "duration": 0,
    "start_time": "2022-04-27T10:26:14.918Z"
   },
   {
    "duration": 0,
    "start_time": "2022-04-27T10:26:14.920Z"
   },
   {
    "duration": 0,
    "start_time": "2022-04-27T10:26:14.922Z"
   },
   {
    "duration": 0,
    "start_time": "2022-04-27T10:26:14.924Z"
   },
   {
    "duration": 0,
    "start_time": "2022-04-27T10:26:14.925Z"
   },
   {
    "duration": 1,
    "start_time": "2022-04-27T10:26:14.926Z"
   },
   {
    "duration": 0,
    "start_time": "2022-04-27T10:26:14.928Z"
   },
   {
    "duration": 0,
    "start_time": "2022-04-27T10:26:14.930Z"
   },
   {
    "duration": 0,
    "start_time": "2022-04-27T10:26:14.931Z"
   },
   {
    "duration": 0,
    "start_time": "2022-04-27T10:26:14.932Z"
   },
   {
    "duration": 0,
    "start_time": "2022-04-27T10:26:14.934Z"
   },
   {
    "duration": 0,
    "start_time": "2022-04-27T10:26:14.936Z"
   },
   {
    "duration": 0,
    "start_time": "2022-04-27T10:26:14.938Z"
   },
   {
    "duration": 0,
    "start_time": "2022-04-27T10:26:14.988Z"
   },
   {
    "duration": 0,
    "start_time": "2022-04-27T10:26:14.990Z"
   },
   {
    "duration": 0,
    "start_time": "2022-04-27T10:26:14.994Z"
   },
   {
    "duration": 0,
    "start_time": "2022-04-27T10:26:14.999Z"
   },
   {
    "duration": 0,
    "start_time": "2022-04-27T10:26:15.001Z"
   },
   {
    "duration": 0,
    "start_time": "2022-04-27T10:26:15.004Z"
   },
   {
    "duration": 0,
    "start_time": "2022-04-27T10:26:15.006Z"
   },
   {
    "duration": 0,
    "start_time": "2022-04-27T10:26:15.010Z"
   },
   {
    "duration": 0,
    "start_time": "2022-04-27T10:26:15.011Z"
   },
   {
    "duration": 0,
    "start_time": "2022-04-27T10:26:15.014Z"
   },
   {
    "duration": 0,
    "start_time": "2022-04-27T10:26:15.017Z"
   },
   {
    "duration": 0,
    "start_time": "2022-04-27T10:26:15.019Z"
   },
   {
    "duration": 64,
    "start_time": "2022-04-27T10:27:05.307Z"
   },
   {
    "duration": 30,
    "start_time": "2022-04-27T10:27:06.125Z"
   },
   {
    "duration": 15,
    "start_time": "2022-04-27T10:27:10.535Z"
   },
   {
    "duration": 6838,
    "start_time": "2022-04-27T10:32:06.369Z"
   },
   {
    "duration": 2236,
    "start_time": "2022-04-27T10:32:13.210Z"
   },
   {
    "duration": 1992,
    "start_time": "2022-04-27T10:32:15.449Z"
   },
   {
    "duration": 8,
    "start_time": "2022-04-27T10:32:22.284Z"
   },
   {
    "duration": 6,
    "start_time": "2022-04-27T10:32:42.205Z"
   },
   {
    "duration": 43,
    "start_time": "2022-04-27T10:32:49.210Z"
   },
   {
    "duration": 53,
    "start_time": "2022-04-27T10:33:11.997Z"
   },
   {
    "duration": 6,
    "start_time": "2022-04-27T10:33:37.331Z"
   },
   {
    "duration": 6,
    "start_time": "2022-04-27T10:34:08.306Z"
   },
   {
    "duration": 43,
    "start_time": "2022-04-27T10:34:09.012Z"
   },
   {
    "duration": 13,
    "start_time": "2022-04-27T10:34:25.962Z"
   },
   {
    "duration": 4,
    "start_time": "2022-04-27T10:34:29.382Z"
   },
   {
    "duration": 14,
    "start_time": "2022-04-27T10:34:30.057Z"
   },
   {
    "duration": 5,
    "start_time": "2022-04-27T10:34:38.846Z"
   },
   {
    "duration": 47700,
    "start_time": "2022-04-27T10:34:39.358Z"
   },
   {
    "duration": 48871,
    "start_time": "2022-04-27T10:35:34.813Z"
   },
   {
    "duration": 5,
    "start_time": "2022-04-27T10:37:07.680Z"
   },
   {
    "duration": 306075,
    "start_time": "2022-04-27T10:37:19.113Z"
   },
   {
    "duration": 23476,
    "start_time": "2022-04-27T10:45:00.112Z"
   },
   {
    "duration": 23474,
    "start_time": "2022-04-27T10:45:38.707Z"
   },
   {
    "duration": 6,
    "start_time": "2022-04-27T10:47:49.959Z"
   },
   {
    "duration": 5,
    "start_time": "2022-04-27T10:47:57.399Z"
   },
   {
    "duration": 6,
    "start_time": "2022-04-27T10:48:25.586Z"
   },
   {
    "duration": 66106,
    "start_time": "2022-04-27T10:48:28.930Z"
   },
   {
    "duration": 6,
    "start_time": "2022-04-27T10:50:12.851Z"
   },
   {
    "duration": 45035,
    "start_time": "2022-04-27T10:50:14.651Z"
   },
   {
    "duration": 8,
    "start_time": "2022-04-27T10:50:59.689Z"
   },
   {
    "duration": 5,
    "start_time": "2022-04-27T10:52:17.638Z"
   },
   {
    "duration": 104496,
    "start_time": "2022-04-27T10:52:19.408Z"
   },
   {
    "duration": 6,
    "start_time": "2022-04-27T10:54:38.105Z"
   },
   {
    "duration": 150707,
    "start_time": "2022-04-27T10:54:38.386Z"
   },
   {
    "duration": 6,
    "start_time": "2022-04-27T10:57:37.507Z"
   },
   {
    "duration": 15688,
    "start_time": "2022-04-27T10:57:39.738Z"
   },
   {
    "duration": 5,
    "start_time": "2022-04-27T10:58:23.733Z"
   },
   {
    "duration": 167142,
    "start_time": "2022-04-27T10:58:25.326Z"
   },
   {
    "duration": 5,
    "start_time": "2022-04-27T11:01:44.240Z"
   },
   {
    "duration": 30997,
    "start_time": "2022-04-27T11:01:47.421Z"
   },
   {
    "duration": 4,
    "start_time": "2022-04-27T11:03:43.838Z"
   },
   {
    "duration": 360344,
    "start_time": "2022-04-27T11:03:45.458Z"
   },
   {
    "duration": 6,
    "start_time": "2022-04-27T11:09:45.806Z"
   },
   {
    "duration": 1021669,
    "start_time": "2022-04-27T11:09:45.815Z"
   },
   {
    "duration": 0,
    "start_time": "2022-04-27T11:26:47.487Z"
   },
   {
    "duration": 6,
    "start_time": "2022-04-27T11:27:03.918Z"
   },
   {
    "duration": 1390976,
    "start_time": "2022-04-27T11:27:09.723Z"
   },
   {
    "duration": 5,
    "start_time": "2022-04-27T11:54:55.065Z"
   },
   {
    "duration": 13392,
    "start_time": "2022-04-27T11:54:56.235Z"
   },
   {
    "duration": 5,
    "start_time": "2022-04-27T11:55:09.629Z"
   },
   {
    "duration": 269524,
    "start_time": "2022-04-27T12:01:04.388Z"
   },
   {
    "duration": 16,
    "start_time": "2022-04-27T12:08:11.396Z"
   },
   {
    "duration": 92494,
    "start_time": "2022-04-27T12:08:22.151Z"
   },
   {
    "duration": 7,
    "start_time": "2022-04-27T12:11:26.924Z"
   },
   {
    "duration": 140297,
    "start_time": "2022-04-27T12:11:29.551Z"
   },
   {
    "duration": 12,
    "start_time": "2022-04-27T12:14:34.443Z"
   },
   {
    "duration": 13,
    "start_time": "2022-04-27T12:15:20.074Z"
   },
   {
    "duration": 13,
    "start_time": "2022-04-27T12:15:39.183Z"
   },
   {
    "duration": 7,
    "start_time": "2022-04-27T12:16:34.580Z"
   },
   {
    "duration": 12,
    "start_time": "2022-04-27T12:17:54.922Z"
   },
   {
    "duration": 4,
    "start_time": "2022-04-27T12:18:22.836Z"
   },
   {
    "duration": 97,
    "start_time": "2022-04-27T12:18:23.663Z"
   },
   {
    "duration": 20,
    "start_time": "2022-04-27T12:19:29.799Z"
   },
   {
    "duration": 3,
    "start_time": "2022-04-27T12:20:57.805Z"
   },
   {
    "duration": 20,
    "start_time": "2022-04-27T12:20:59.305Z"
   },
   {
    "duration": 4,
    "start_time": "2022-04-27T12:21:18.309Z"
   },
   {
    "duration": 20,
    "start_time": "2022-04-27T12:21:18.805Z"
   },
   {
    "duration": 4,
    "start_time": "2022-04-27T12:22:29.291Z"
   },
   {
    "duration": 27,
    "start_time": "2022-04-27T12:22:30.956Z"
   },
   {
    "duration": 11,
    "start_time": "2022-04-27T12:23:28.287Z"
   },
   {
    "duration": 11,
    "start_time": "2022-04-27T12:23:56.697Z"
   },
   {
    "duration": 369,
    "start_time": "2022-04-27T12:23:58.767Z"
   },
   {
    "duration": 15,
    "start_time": "2022-04-27T12:25:15.989Z"
   },
   {
    "duration": 19,
    "start_time": "2022-04-27T12:27:56.282Z"
   },
   {
    "duration": 13,
    "start_time": "2022-04-27T12:28:02.942Z"
   },
   {
    "duration": 34333,
    "start_time": "2022-04-27T12:28:24.827Z"
   },
   {
    "duration": 34346,
    "start_time": "2022-04-27T12:29:59.914Z"
   },
   {
    "duration": 31306,
    "start_time": "2022-04-27T12:31:30.125Z"
   },
   {
    "duration": 16,
    "start_time": "2022-04-27T12:32:52.222Z"
   },
   {
    "duration": 10,
    "start_time": "2022-04-27T12:34:24.504Z"
   },
   {
    "duration": 14,
    "start_time": "2022-04-27T12:36:08.050Z"
   },
   {
    "duration": 8622,
    "start_time": "2022-04-27T12:36:08.725Z"
   },
   {
    "duration": 50658,
    "start_time": "2022-04-27T12:36:50.275Z"
   },
   {
    "duration": 35,
    "start_time": "2022-04-27T12:42:02.686Z"
   },
   {
    "duration": 8,
    "start_time": "2022-04-27T12:42:21.316Z"
   },
   {
    "duration": 23,
    "start_time": "2022-04-27T12:42:53.236Z"
   },
   {
    "duration": 70,
    "start_time": "2022-04-27T12:43:08.072Z"
   },
   {
    "duration": 63,
    "start_time": "2022-04-27T12:43:33.785Z"
   },
   {
    "duration": 102,
    "start_time": "2022-04-27T12:43:46.788Z"
   },
   {
    "duration": 1849,
    "start_time": "2022-04-27T12:44:33.829Z"
   },
   {
    "duration": 12,
    "start_time": "2022-04-27T12:44:56.223Z"
   },
   {
    "duration": 191800,
    "start_time": "2022-04-27T12:46:53.510Z"
   },
   {
    "duration": 0,
    "start_time": "2022-04-27T12:50:05.313Z"
   },
   {
    "duration": 691334,
    "start_time": "2022-04-27T12:50:15.579Z"
   },
   {
    "duration": 1184298,
    "start_time": "2022-04-27T13:01:46.916Z"
   },
   {
    "duration": 1573201,
    "start_time": "2022-04-27T13:21:31.218Z"
   },
   {
    "duration": 1502517,
    "start_time": "2022-04-27T13:47:44.422Z"
   },
   {
    "duration": 1249955,
    "start_time": "2022-04-27T14:12:46.944Z"
   },
   {
    "duration": 45152,
    "start_time": "2022-04-27T19:22:29.685Z"
   },
   {
    "duration": 44374,
    "start_time": "2022-04-27T19:23:14.840Z"
   },
   {
    "duration": 582,
    "start_time": "2022-04-27T19:23:59.216Z"
   },
   {
    "duration": 183237,
    "start_time": "2022-04-27T19:30:57.638Z"
   },
   {
    "duration": 37864,
    "start_time": "2022-04-27T19:34:00.883Z"
   },
   {
    "duration": 8,
    "start_time": "2022-04-27T19:37:30.402Z"
   },
   {
    "duration": 12,
    "start_time": "2022-04-27T19:37:31.961Z"
   },
   {
    "duration": 399,
    "start_time": "2022-04-27T19:38:22.828Z"
   },
   {
    "duration": 366,
    "start_time": "2022-04-27T19:38:37.133Z"
   },
   {
    "duration": 13,
    "start_time": "2022-04-27T19:38:55.919Z"
   },
   {
    "duration": 17,
    "start_time": "2022-04-27T19:41:08.326Z"
   },
   {
    "duration": 259,
    "start_time": "2022-04-27T19:41:12.916Z"
   },
   {
    "duration": 13,
    "start_time": "2022-04-27T19:41:51.659Z"
   },
   {
    "duration": 0,
    "start_time": "2022-04-27T19:41:51.674Z"
   },
   {
    "duration": 14,
    "start_time": "2022-04-27T19:41:53.760Z"
   },
   {
    "duration": 3,
    "start_time": "2022-04-27T19:46:04.523Z"
   },
   {
    "duration": 3,
    "start_time": "2022-04-27T20:26:34.699Z"
   },
   {
    "duration": 55,
    "start_time": "2022-04-27T20:27:36.880Z"
   },
   {
    "duration": 55,
    "start_time": "2022-04-27T20:27:51.040Z"
   },
   {
    "duration": 54,
    "start_time": "2022-04-27T20:28:06.025Z"
   },
   {
    "duration": 6,
    "start_time": "2022-04-27T20:28:09.249Z"
   },
   {
    "duration": 5,
    "start_time": "2022-04-27T20:28:22.659Z"
   },
   {
    "duration": 2400,
    "start_time": "2022-04-27T20:46:10.995Z"
   },
   {
    "duration": 3,
    "start_time": "2022-04-27T20:46:13.399Z"
   },
   {
    "duration": 14,
    "start_time": "2022-04-27T20:46:13.404Z"
   },
   {
    "duration": 1648,
    "start_time": "2022-04-27T20:46:13.421Z"
   },
   {
    "duration": 42,
    "start_time": "2022-04-27T20:46:15.071Z"
   },
   {
    "duration": 3,
    "start_time": "2022-04-27T20:46:15.115Z"
   },
   {
    "duration": 13,
    "start_time": "2022-04-27T20:46:15.120Z"
   },
   {
    "duration": 4,
    "start_time": "2022-04-27T20:46:15.135Z"
   },
   {
    "duration": 5899,
    "start_time": "2022-04-27T20:46:15.141Z"
   },
   {
    "duration": 7,
    "start_time": "2022-04-27T20:46:21.044Z"
   },
   {
    "duration": 12,
    "start_time": "2022-04-27T20:46:21.053Z"
   },
   {
    "duration": 132384,
    "start_time": "2022-04-27T20:46:21.067Z"
   },
   {
    "duration": 8,
    "start_time": "2022-04-27T20:48:33.453Z"
   },
   {
    "duration": 19,
    "start_time": "2022-04-27T20:48:33.463Z"
   },
   {
    "duration": 46,
    "start_time": "2022-04-27T20:48:33.485Z"
   },
   {
    "duration": 19,
    "start_time": "2022-04-27T20:48:33.533Z"
   },
   {
    "duration": 34,
    "start_time": "2022-04-27T20:48:33.555Z"
   },
   {
    "duration": 6519,
    "start_time": "2022-04-27T20:48:33.591Z"
   },
   {
    "duration": 2154,
    "start_time": "2022-04-27T20:48:40.112Z"
   },
   {
    "duration": 2183,
    "start_time": "2022-04-27T20:48:42.268Z"
   },
   {
    "duration": 6,
    "start_time": "2022-04-27T20:48:44.454Z"
   },
   {
    "duration": 26,
    "start_time": "2022-04-27T20:48:44.463Z"
   },
   {
    "duration": 14,
    "start_time": "2022-04-27T20:48:44.493Z"
   },
   {
    "duration": 51444,
    "start_time": "2022-04-27T20:48:44.509Z"
   },
   {
    "duration": 5,
    "start_time": "2022-04-27T20:49:35.956Z"
   },
   {
    "duration": 102353,
    "start_time": "2022-04-27T20:49:35.965Z"
   },
   {
    "duration": 3,
    "start_time": "2022-04-27T20:51:18.321Z"
   },
   {
    "duration": 74354,
    "start_time": "2022-04-27T20:51:18.330Z"
   },
   {
    "duration": 4,
    "start_time": "2022-04-27T20:52:32.686Z"
   },
   {
    "duration": 153032,
    "start_time": "2022-04-27T20:52:32.692Z"
   },
   {
    "duration": 57,
    "start_time": "2022-04-27T20:55:05.726Z"
   },
   {
    "duration": 13544,
    "start_time": "2022-04-27T20:55:05.785Z"
   },
   {
    "duration": 5,
    "start_time": "2022-04-27T20:55:19.331Z"
   },
   {
    "duration": 92389,
    "start_time": "2022-04-27T20:55:19.338Z"
   },
   {
    "duration": 4,
    "start_time": "2022-04-27T20:56:51.730Z"
   },
   {
    "duration": 46,
    "start_time": "2022-04-27T20:56:51.736Z"
   },
   {
    "duration": 12,
    "start_time": "2022-04-27T20:56:51.784Z"
   },
   {
    "duration": 13,
    "start_time": "2022-04-27T20:56:51.798Z"
   },
   {
    "duration": 446,
    "start_time": "2022-04-27T20:56:51.813Z"
   },
   {
    "duration": 21,
    "start_time": "2022-04-27T20:56:52.261Z"
   },
   {
    "duration": 18,
    "start_time": "2022-04-27T20:56:52.285Z"
   },
   {
    "duration": 8227,
    "start_time": "2022-04-27T20:56:52.306Z"
   },
   {
    "duration": 40903,
    "start_time": "2022-04-27T20:57:00.536Z"
   },
   {
    "duration": 222101,
    "start_time": "2022-04-27T20:57:41.441Z"
   },
   {
    "duration": 33862,
    "start_time": "2022-04-27T21:01:23.545Z"
   },
   {
    "duration": 577,
    "start_time": "2022-04-27T21:01:57.410Z"
   },
   {
    "duration": 10,
    "start_time": "2022-04-27T21:01:57.989Z"
   },
   {
    "duration": 17,
    "start_time": "2022-04-27T21:01:58.002Z"
   },
   {
    "duration": 328,
    "start_time": "2022-04-27T21:01:58.022Z"
   },
   {
    "duration": 389,
    "start_time": "2022-04-27T21:01:58.353Z"
   },
   {
    "duration": 292909,
    "start_time": "2022-04-28T06:59:33.493Z"
   },
   {
    "duration": 7,
    "start_time": "2022-04-28T07:11:15.940Z"
   },
   {
    "duration": 20,
    "start_time": "2022-04-28T07:13:59.532Z"
   },
   {
    "duration": 25710,
    "start_time": "2022-04-28T07:15:05.277Z"
   },
   {
    "duration": 2920,
    "start_time": "2022-04-28T07:28:01.700Z"
   },
   {
    "duration": 4,
    "start_time": "2022-04-28T07:28:04.622Z"
   },
   {
    "duration": 6,
    "start_time": "2022-04-28T07:28:04.629Z"
   },
   {
    "duration": 984,
    "start_time": "2022-04-28T07:28:04.638Z"
   },
   {
    "duration": 41,
    "start_time": "2022-04-28T07:28:05.624Z"
   },
   {
    "duration": 16,
    "start_time": "2022-04-28T07:28:05.667Z"
   },
   {
    "duration": 8,
    "start_time": "2022-04-28T07:28:05.685Z"
   },
   {
    "duration": 6,
    "start_time": "2022-04-28T07:28:05.695Z"
   },
   {
    "duration": 5722,
    "start_time": "2022-04-28T07:28:05.703Z"
   },
   {
    "duration": 8,
    "start_time": "2022-04-28T07:28:11.429Z"
   },
   {
    "duration": 13,
    "start_time": "2022-04-28T07:28:11.439Z"
   },
   {
    "duration": 158541,
    "start_time": "2022-04-28T07:28:11.454Z"
   },
   {
    "duration": 7,
    "start_time": "2022-04-28T07:30:49.997Z"
   },
   {
    "duration": 17,
    "start_time": "2022-04-28T07:30:50.006Z"
   },
   {
    "duration": 43,
    "start_time": "2022-04-28T07:30:50.025Z"
   },
   {
    "duration": 30,
    "start_time": "2022-04-28T07:30:50.070Z"
   },
   {
    "duration": 12,
    "start_time": "2022-04-28T07:30:50.102Z"
   },
   {
    "duration": 6427,
    "start_time": "2022-04-28T07:30:50.117Z"
   },
   {
    "duration": 1926,
    "start_time": "2022-04-28T07:30:56.547Z"
   },
   {
    "duration": 2031,
    "start_time": "2022-04-28T07:30:58.475Z"
   },
   {
    "duration": 7,
    "start_time": "2022-04-28T07:31:00.509Z"
   },
   {
    "duration": 37,
    "start_time": "2022-04-28T07:31:00.518Z"
   },
   {
    "duration": 14,
    "start_time": "2022-04-28T07:31:00.558Z"
   },
   {
    "duration": 57803,
    "start_time": "2022-04-28T07:31:00.575Z"
   },
   {
    "duration": 5,
    "start_time": "2022-04-28T07:31:58.381Z"
   },
   {
    "duration": 104271,
    "start_time": "2022-04-28T07:31:58.389Z"
   },
   {
    "duration": 4,
    "start_time": "2022-04-28T07:33:42.662Z"
   },
   {
    "duration": 165834,
    "start_time": "2022-04-28T07:33:42.684Z"
   },
   {
    "duration": 6,
    "start_time": "2022-04-28T07:36:28.521Z"
   },
   {
    "duration": 651263,
    "start_time": "2022-04-28T07:36:28.530Z"
   },
   {
    "duration": 3,
    "start_time": "2022-04-28T07:47:19.796Z"
   },
   {
    "duration": 13321,
    "start_time": "2022-04-28T07:47:19.802Z"
   },
   {
    "duration": 5,
    "start_time": "2022-04-28T07:47:33.126Z"
   },
   {
    "duration": 282875,
    "start_time": "2022-04-28T07:47:33.134Z"
   },
   {
    "duration": 10,
    "start_time": "2022-04-28T07:52:16.012Z"
   },
   {
    "duration": 14,
    "start_time": "2022-04-28T07:52:16.023Z"
   },
   {
    "duration": 47,
    "start_time": "2022-04-28T07:52:16.039Z"
   },
   {
    "duration": 213,
    "start_time": "2022-04-28T07:52:16.088Z"
   },
   {
    "duration": 0,
    "start_time": "2022-04-28T07:52:16.303Z"
   },
   {
    "duration": 0,
    "start_time": "2022-04-28T07:52:16.305Z"
   },
   {
    "duration": 0,
    "start_time": "2022-04-28T07:52:16.306Z"
   },
   {
    "duration": 0,
    "start_time": "2022-04-28T07:52:16.308Z"
   },
   {
    "duration": 0,
    "start_time": "2022-04-28T07:52:16.309Z"
   },
   {
    "duration": 0,
    "start_time": "2022-04-28T07:52:16.310Z"
   },
   {
    "duration": 0,
    "start_time": "2022-04-28T07:52:16.312Z"
   },
   {
    "duration": 0,
    "start_time": "2022-04-28T07:52:16.313Z"
   },
   {
    "duration": 0,
    "start_time": "2022-04-28T07:52:16.315Z"
   },
   {
    "duration": 0,
    "start_time": "2022-04-28T07:52:16.316Z"
   },
   {
    "duration": 0,
    "start_time": "2022-04-28T07:52:16.318Z"
   },
   {
    "duration": 0,
    "start_time": "2022-04-28T07:52:16.320Z"
   },
   {
    "duration": 0,
    "start_time": "2022-04-28T07:52:16.321Z"
   },
   {
    "duration": 11,
    "start_time": "2022-04-28T08:31:05.108Z"
   },
   {
    "duration": 11,
    "start_time": "2022-04-28T08:31:16.640Z"
   },
   {
    "duration": 310,
    "start_time": "2022-04-28T08:31:16.655Z"
   },
   {
    "duration": 16,
    "start_time": "2022-04-28T08:31:16.968Z"
   },
   {
    "duration": 18,
    "start_time": "2022-04-28T08:31:16.988Z"
   },
   {
    "duration": 7767,
    "start_time": "2022-04-28T08:31:17.008Z"
   },
   {
    "duration": 38243,
    "start_time": "2022-04-28T08:31:24.777Z"
   },
   {
    "duration": 729789,
    "start_time": "2022-04-28T08:32:03.022Z"
   },
   {
    "duration": 25293,
    "start_time": "2022-04-28T08:44:12.814Z"
   },
   {
    "duration": 560,
    "start_time": "2022-04-28T08:44:38.110Z"
   },
   {
    "duration": 8,
    "start_time": "2022-04-28T08:44:38.682Z"
   },
   {
    "duration": 24,
    "start_time": "2022-04-28T08:44:38.692Z"
   },
   {
    "duration": 318,
    "start_time": "2022-04-28T08:44:38.719Z"
   },
   {
    "duration": 435,
    "start_time": "2022-04-28T08:44:39.039Z"
   }
  ],
  "kernelspec": {
   "display_name": "Python 3",
   "language": "python",
   "name": "python3"
  },
  "language_info": {
   "codemirror_mode": {
    "name": "ipython",
    "version": 3
   },
   "file_extension": ".py",
   "mimetype": "text/x-python",
   "name": "python",
   "nbconvert_exporter": "python",
   "pygments_lexer": "ipython3",
   "version": "3.8.8"
  },
  "toc": {
   "base_numbering": 1,
   "nav_menu": {},
   "number_sections": true,
   "sideBar": true,
   "skip_h1_title": true,
   "title_cell": "Содержание",
   "title_sidebar": "Contents",
   "toc_cell": true,
   "toc_position": {
    "height": "calc(100% - 180px)",
    "left": "10px",
    "top": "150px",
    "width": "302.391px"
   },
   "toc_section_display": true,
   "toc_window_display": true
  }
 },
 "nbformat": 4,
 "nbformat_minor": 2
}
