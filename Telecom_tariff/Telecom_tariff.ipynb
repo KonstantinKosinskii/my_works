{
 "cells": [
  {
   "cell_type": "code",
   "execution_count": 1,
   "id": "4fff3c1d",
   "metadata": {},
   "outputs": [
    {
     "data": {
      "application/javascript": [
       "$.getScript('https://kmahelona.github.io/ipython_notebook_goodies/ipython_notebook_toc.js')\n"
      ],
      "text/plain": [
       "<IPython.core.display.Javascript object>"
      ]
     },
     "metadata": {},
     "output_type": "display_data"
    }
   ],
   "source": [
    "%%javascript\n",
    "$.getScript('https://kmahelona.github.io/ipython_notebook_goodies/ipython_notebook_toc.js')\n"
   ]
  },
  {
   "cell_type": "code",
   "execution_count": 2,
   "id": "faf7792f",
   "metadata": {},
   "outputs": [],
   "source": [
    "import pandas as pd\n",
    "from matplotlib import pyplot as plt\n",
    "from math import factorial\n",
    "import math\n",
    "from scipy.stats import norm\n",
    "from scipy import stats as st\n",
    "import numpy as np"
   ]
  },
  {
   "cell_type": "code",
   "execution_count": 3,
   "id": "2b7e101d",
   "metadata": {},
   "outputs": [],
   "source": [
    "pd.set_option('display.float_format', '{:,.2f}'.format)"
   ]
  },
  {
   "cell_type": "code",
   "execution_count": 4,
   "id": "23534054",
   "metadata": {},
   "outputs": [],
   "source": [
    "import warnings\n",
    "warnings.simplefilter('ignore')"
   ]
  },
  {
   "cell_type": "markdown",
   "id": "06aa2ba4",
   "metadata": {},
   "source": [
    "## Ознакомление с данными"
   ]
  },
  {
   "cell_type": "code",
   "execution_count": 5,
   "id": "6d43499b",
   "metadata": {},
   "outputs": [],
   "source": [
    "data_users = pd.read_csv('https://code.s3.yandex.net/datasets/users.csv')\n",
    "data_calls = pd.read_csv('https://code.s3.yandex.net/datasets/calls.csv')\n",
    "data_messages = pd.read_csv('https://code.s3.yandex.net/datasets/messages.csv')\n",
    "data_internet = pd.read_csv('https://code.s3.yandex.net/datasets/internet.csv')\n",
    "data_tariffs = pd.read_csv('https://code.s3.yandex.net/datasets/tariffs.csv')"
   ]
  },
  {
   "cell_type": "code",
   "execution_count": 6,
   "id": "2f132201",
   "metadata": {},
   "outputs": [],
   "source": [
    "def first_glance(data): # функция для ознакомления с данными датасетов\n",
    "    print(data.info())\n",
    "    print()\n",
    "    for i in range(len(data.columns)):\n",
    "        column = data.columns[i]\n",
    "        print(data[column].value_counts())\n",
    "        print()"
   ]
  },
  {
   "cell_type": "markdown",
   "id": "c2478c7e",
   "metadata": {},
   "source": [
    "Ознакомление с данным, представленными в таблицах."
   ]
  },
  {
   "cell_type": "code",
   "execution_count": 7,
   "id": "c86dbb1c",
   "metadata": {
    "scrolled": false
   },
   "outputs": [
    {
     "data": {
      "text/html": [
       "<div>\n",
       "<style scoped>\n",
       "    .dataframe tbody tr th:only-of-type {\n",
       "        vertical-align: middle;\n",
       "    }\n",
       "\n",
       "    .dataframe tbody tr th {\n",
       "        vertical-align: top;\n",
       "    }\n",
       "\n",
       "    .dataframe thead th {\n",
       "        text-align: right;\n",
       "    }\n",
       "</style>\n",
       "<table border=\"1\" class=\"dataframe\">\n",
       "  <thead>\n",
       "    <tr style=\"text-align: right;\">\n",
       "      <th></th>\n",
       "      <th>user_id</th>\n",
       "      <th>age</th>\n",
       "      <th>churn_date</th>\n",
       "      <th>city</th>\n",
       "      <th>first_name</th>\n",
       "      <th>last_name</th>\n",
       "      <th>reg_date</th>\n",
       "      <th>tariff</th>\n",
       "    </tr>\n",
       "  </thead>\n",
       "  <tbody>\n",
       "    <tr>\n",
       "      <th>0</th>\n",
       "      <td>1000</td>\n",
       "      <td>52</td>\n",
       "      <td>NaN</td>\n",
       "      <td>Краснодар</td>\n",
       "      <td>Рафаил</td>\n",
       "      <td>Верещагин</td>\n",
       "      <td>2018-05-25</td>\n",
       "      <td>ultra</td>\n",
       "    </tr>\n",
       "    <tr>\n",
       "      <th>1</th>\n",
       "      <td>1001</td>\n",
       "      <td>41</td>\n",
       "      <td>NaN</td>\n",
       "      <td>Москва</td>\n",
       "      <td>Иван</td>\n",
       "      <td>Ежов</td>\n",
       "      <td>2018-11-01</td>\n",
       "      <td>smart</td>\n",
       "    </tr>\n",
       "    <tr>\n",
       "      <th>2</th>\n",
       "      <td>1002</td>\n",
       "      <td>59</td>\n",
       "      <td>NaN</td>\n",
       "      <td>Стерлитамак</td>\n",
       "      <td>Евгений</td>\n",
       "      <td>Абрамович</td>\n",
       "      <td>2018-06-17</td>\n",
       "      <td>smart</td>\n",
       "    </tr>\n",
       "    <tr>\n",
       "      <th>3</th>\n",
       "      <td>1003</td>\n",
       "      <td>23</td>\n",
       "      <td>NaN</td>\n",
       "      <td>Москва</td>\n",
       "      <td>Белла</td>\n",
       "      <td>Белякова</td>\n",
       "      <td>2018-08-17</td>\n",
       "      <td>ultra</td>\n",
       "    </tr>\n",
       "    <tr>\n",
       "      <th>4</th>\n",
       "      <td>1004</td>\n",
       "      <td>68</td>\n",
       "      <td>NaN</td>\n",
       "      <td>Новокузнецк</td>\n",
       "      <td>Татьяна</td>\n",
       "      <td>Авдеенко</td>\n",
       "      <td>2018-05-14</td>\n",
       "      <td>ultra</td>\n",
       "    </tr>\n",
       "  </tbody>\n",
       "</table>\n",
       "</div>"
      ],
      "text/plain": [
       "   user_id  age churn_date         city first_name  last_name    reg_date  \\\n",
       "0     1000   52        NaN    Краснодар     Рафаил  Верещагин  2018-05-25   \n",
       "1     1001   41        NaN       Москва       Иван       Ежов  2018-11-01   \n",
       "2     1002   59        NaN  Стерлитамак    Евгений  Абрамович  2018-06-17   \n",
       "3     1003   23        NaN       Москва      Белла   Белякова  2018-08-17   \n",
       "4     1004   68        NaN  Новокузнецк    Татьяна   Авдеенко  2018-05-14   \n",
       "\n",
       "  tariff  \n",
       "0  ultra  \n",
       "1  smart  \n",
       "2  smart  \n",
       "3  ultra  \n",
       "4  ultra  "
      ]
     },
     "execution_count": 7,
     "metadata": {},
     "output_type": "execute_result"
    }
   ],
   "source": [
    "data_users.head()"
   ]
  },
  {
   "cell_type": "code",
   "execution_count": 8,
   "id": "70586c72",
   "metadata": {},
   "outputs": [
    {
     "name": "stdout",
     "output_type": "stream",
     "text": [
      "<class 'pandas.core.frame.DataFrame'>\n",
      "RangeIndex: 500 entries, 0 to 499\n",
      "Data columns (total 8 columns):\n",
      " #   Column      Non-Null Count  Dtype \n",
      "---  ------      --------------  ----- \n",
      " 0   user_id     500 non-null    int64 \n",
      " 1   age         500 non-null    int64 \n",
      " 2   churn_date  38 non-null     object\n",
      " 3   city        500 non-null    object\n",
      " 4   first_name  500 non-null    object\n",
      " 5   last_name   500 non-null    object\n",
      " 6   reg_date    500 non-null    object\n",
      " 7   tariff      500 non-null    object\n",
      "dtypes: int64(2), object(6)\n",
      "memory usage: 31.4+ KB\n",
      "None\n",
      "\n",
      "1024    1\n",
      "1353    1\n",
      "1366    1\n",
      "1365    1\n",
      "1364    1\n",
      "       ..\n",
      "1185    1\n",
      "1184    1\n",
      "1183    1\n",
      "1182    1\n",
      "1023    1\n",
      "Name: user_id, Length: 500, dtype: int64\n",
      "\n",
      "53    14\n",
      "42    14\n",
      "63    13\n",
      "64    13\n",
      "71    13\n",
      "21    12\n",
      "40    12\n",
      "73    12\n",
      "29    11\n",
      "39    11\n",
      "37    11\n",
      "47    11\n",
      "26    11\n",
      "41    10\n",
      "45    10\n",
      "58    10\n",
      "36    10\n",
      "70    10\n",
      "52    10\n",
      "65     9\n",
      "66     9\n",
      "56     9\n",
      "68     9\n",
      "20     9\n",
      "51     9\n",
      "50     9\n",
      "48     9\n",
      "30     9\n",
      "19     9\n",
      "24     9\n",
      "28     9\n",
      "27     9\n",
      "23     9\n",
      "62     8\n",
      "60     8\n",
      "55     8\n",
      "69     8\n",
      "44     8\n",
      "25     7\n",
      "31     7\n",
      "35     7\n",
      "67     7\n",
      "74     7\n",
      "43     7\n",
      "32     7\n",
      "46     7\n",
      "18     6\n",
      "59     6\n",
      "54     6\n",
      "75     6\n",
      "38     5\n",
      "34     5\n",
      "72     5\n",
      "33     5\n",
      "22     5\n",
      "57     4\n",
      "49     4\n",
      "61     3\n",
      "Name: age, dtype: int64\n",
      "\n",
      "2018-12-21    2\n",
      "2018-12-03    2\n",
      "2018-12-09    2\n",
      "2018-10-14    2\n",
      "2018-10-03    2\n",
      "2018-09-26    1\n",
      "2018-12-25    1\n",
      "2018-08-17    1\n",
      "2018-12-18    1\n",
      "2018-10-05    1\n",
      "2018-12-30    1\n",
      "2018-12-20    1\n",
      "2018-10-25    1\n",
      "2018-12-24    1\n",
      "2018-11-07    1\n",
      "2018-12-11    1\n",
      "2018-12-26    1\n",
      "2018-11-16    1\n",
      "2018-10-28    1\n",
      "2018-12-23    1\n",
      "2018-11-27    1\n",
      "2018-11-13    1\n",
      "2018-11-26    1\n",
      "2018-11-30    1\n",
      "2018-12-14    1\n",
      "2018-09-02    1\n",
      "2018-10-04    1\n",
      "2018-11-22    1\n",
      "2018-11-21    1\n",
      "2018-10-27    1\n",
      "2018-08-31    1\n",
      "2018-12-16    1\n",
      "2018-09-27    1\n",
      "Name: churn_date, dtype: int64\n",
      "\n",
      "Москва             99\n",
      "Санкт-Петербург    39\n",
      "Новосибирск        16\n",
      "Омск               14\n",
      "Казань             14\n",
      "                   ..\n",
      "Химки               1\n",
      "Подольск            1\n",
      "Архангельск         1\n",
      "Иваново             1\n",
      "Нижневартовск       1\n",
      "Name: city, Length: 76, dtype: int64\n",
      "\n",
      "Радим      6\n",
      "Леонид     5\n",
      "Пётр       5\n",
      "Алиса      4\n",
      "Марта      4\n",
      "          ..\n",
      "Трофим     1\n",
      "Леся       1\n",
      "Николай    1\n",
      "Майя       1\n",
      "Элла       1\n",
      "Name: first_name, Length: 246, dtype: int64\n",
      "\n",
      "Андреенко       5\n",
      "Аничкина        3\n",
      "Булгаков        3\n",
      "Анищенко        3\n",
      "Аркадьев        3\n",
      "               ..\n",
      "Платонова       1\n",
      "Седова          1\n",
      "Абалкин         1\n",
      "Красильников    1\n",
      "Розанова        1\n",
      "Name: last_name, Length: 419, dtype: int64\n",
      "\n",
      "2018-05-28    8\n",
      "2018-04-03    5\n",
      "2018-01-04    5\n",
      "2018-07-16    5\n",
      "2018-10-05    5\n",
      "             ..\n",
      "2018-07-08    1\n",
      "2018-05-19    1\n",
      "2018-07-06    1\n",
      "2018-04-23    1\n",
      "2018-10-30    1\n",
      "Name: reg_date, Length: 270, dtype: int64\n",
      "\n",
      "smart    351\n",
      "ultra    149\n",
      "Name: tariff, dtype: int64\n",
      "\n"
     ]
    }
   ],
   "source": [
    "first_glance(data_users)"
   ]
  },
  {
   "cell_type": "code",
   "execution_count": 9,
   "id": "3543309a",
   "metadata": {
    "scrolled": true
   },
   "outputs": [
    {
     "data": {
      "text/html": [
       "<div>\n",
       "<style scoped>\n",
       "    .dataframe tbody tr th:only-of-type {\n",
       "        vertical-align: middle;\n",
       "    }\n",
       "\n",
       "    .dataframe tbody tr th {\n",
       "        vertical-align: top;\n",
       "    }\n",
       "\n",
       "    .dataframe thead th {\n",
       "        text-align: right;\n",
       "    }\n",
       "</style>\n",
       "<table border=\"1\" class=\"dataframe\">\n",
       "  <thead>\n",
       "    <tr style=\"text-align: right;\">\n",
       "      <th></th>\n",
       "      <th>id</th>\n",
       "      <th>call_date</th>\n",
       "      <th>duration</th>\n",
       "      <th>user_id</th>\n",
       "    </tr>\n",
       "  </thead>\n",
       "  <tbody>\n",
       "    <tr>\n",
       "      <th>0</th>\n",
       "      <td>1000_0</td>\n",
       "      <td>2018-07-25</td>\n",
       "      <td>0.00</td>\n",
       "      <td>1000</td>\n",
       "    </tr>\n",
       "    <tr>\n",
       "      <th>1</th>\n",
       "      <td>1000_1</td>\n",
       "      <td>2018-08-17</td>\n",
       "      <td>0.00</td>\n",
       "      <td>1000</td>\n",
       "    </tr>\n",
       "    <tr>\n",
       "      <th>2</th>\n",
       "      <td>1000_2</td>\n",
       "      <td>2018-06-11</td>\n",
       "      <td>2.85</td>\n",
       "      <td>1000</td>\n",
       "    </tr>\n",
       "    <tr>\n",
       "      <th>3</th>\n",
       "      <td>1000_3</td>\n",
       "      <td>2018-09-21</td>\n",
       "      <td>13.80</td>\n",
       "      <td>1000</td>\n",
       "    </tr>\n",
       "    <tr>\n",
       "      <th>4</th>\n",
       "      <td>1000_4</td>\n",
       "      <td>2018-12-15</td>\n",
       "      <td>5.18</td>\n",
       "      <td>1000</td>\n",
       "    </tr>\n",
       "  </tbody>\n",
       "</table>\n",
       "</div>"
      ],
      "text/plain": [
       "       id   call_date  duration  user_id\n",
       "0  1000_0  2018-07-25      0.00     1000\n",
       "1  1000_1  2018-08-17      0.00     1000\n",
       "2  1000_2  2018-06-11      2.85     1000\n",
       "3  1000_3  2018-09-21     13.80     1000\n",
       "4  1000_4  2018-12-15      5.18     1000"
      ]
     },
     "execution_count": 9,
     "metadata": {},
     "output_type": "execute_result"
    }
   ],
   "source": [
    "data_calls.head()"
   ]
  },
  {
   "cell_type": "code",
   "execution_count": 10,
   "id": "5e2bb641",
   "metadata": {
    "scrolled": true
   },
   "outputs": [
    {
     "name": "stdout",
     "output_type": "stream",
     "text": [
      "<class 'pandas.core.frame.DataFrame'>\n",
      "RangeIndex: 202607 entries, 0 to 202606\n",
      "Data columns (total 4 columns):\n",
      " #   Column     Non-Null Count   Dtype  \n",
      "---  ------     --------------   -----  \n",
      " 0   id         202607 non-null  object \n",
      " 1   call_date  202607 non-null  object \n",
      " 2   duration   202607 non-null  float64\n",
      " 3   user_id    202607 non-null  int64  \n",
      "dtypes: float64(1), int64(1), object(2)\n",
      "memory usage: 6.2+ MB\n",
      "None\n",
      "\n",
      "1274_248    1\n",
      "1035_295    1\n",
      "1377_295    1\n",
      "1109_343    1\n",
      "1485_49     1\n",
      "           ..\n",
      "1379_599    1\n",
      "1454_492    1\n",
      "1078_952    1\n",
      "1428_53     1\n",
      "1471_3      1\n",
      "Name: id, Length: 202607, dtype: int64\n",
      "\n",
      "2018-12-31    1435\n",
      "2018-12-29    1202\n",
      "2018-12-30    1192\n",
      "2018-12-22    1158\n",
      "2018-12-26    1149\n",
      "              ... \n",
      "2018-01-05      20\n",
      "2018-01-07      18\n",
      "2018-01-02       9\n",
      "2018-01-03       7\n",
      "2018-01-01       5\n",
      "Name: call_date, Length: 365, dtype: int64\n",
      "\n",
      "0.00     39613\n",
      "5.50       142\n",
      "4.49       142\n",
      "6.15       141\n",
      "6.38       141\n",
      "         ...  \n",
      "26.32        1\n",
      "24.51        1\n",
      "27.24        1\n",
      "29.89        1\n",
      "27.43        1\n",
      "Name: duration, Length: 2871, dtype: int64\n",
      "\n",
      "1377    1760\n",
      "1168    1692\n",
      "1375    1560\n",
      "1453    1440\n",
      "1196    1240\n",
      "        ... \n",
      "1397      33\n",
      "1442      28\n",
      "1373      24\n",
      "1016      20\n",
      "1257      14\n",
      "Name: user_id, Length: 492, dtype: int64\n",
      "\n"
     ]
    }
   ],
   "source": [
    "first_glance(data_calls)"
   ]
  },
  {
   "cell_type": "code",
   "execution_count": 11,
   "id": "606dd179",
   "metadata": {
    "scrolled": true
   },
   "outputs": [
    {
     "data": {
      "text/html": [
       "<div>\n",
       "<style scoped>\n",
       "    .dataframe tbody tr th:only-of-type {\n",
       "        vertical-align: middle;\n",
       "    }\n",
       "\n",
       "    .dataframe tbody tr th {\n",
       "        vertical-align: top;\n",
       "    }\n",
       "\n",
       "    .dataframe thead th {\n",
       "        text-align: right;\n",
       "    }\n",
       "</style>\n",
       "<table border=\"1\" class=\"dataframe\">\n",
       "  <thead>\n",
       "    <tr style=\"text-align: right;\">\n",
       "      <th></th>\n",
       "      <th>id</th>\n",
       "      <th>message_date</th>\n",
       "      <th>user_id</th>\n",
       "    </tr>\n",
       "  </thead>\n",
       "  <tbody>\n",
       "    <tr>\n",
       "      <th>0</th>\n",
       "      <td>1000_0</td>\n",
       "      <td>2018-06-27</td>\n",
       "      <td>1000</td>\n",
       "    </tr>\n",
       "    <tr>\n",
       "      <th>1</th>\n",
       "      <td>1000_1</td>\n",
       "      <td>2018-10-08</td>\n",
       "      <td>1000</td>\n",
       "    </tr>\n",
       "    <tr>\n",
       "      <th>2</th>\n",
       "      <td>1000_2</td>\n",
       "      <td>2018-08-04</td>\n",
       "      <td>1000</td>\n",
       "    </tr>\n",
       "    <tr>\n",
       "      <th>3</th>\n",
       "      <td>1000_3</td>\n",
       "      <td>2018-06-16</td>\n",
       "      <td>1000</td>\n",
       "    </tr>\n",
       "    <tr>\n",
       "      <th>4</th>\n",
       "      <td>1000_4</td>\n",
       "      <td>2018-12-05</td>\n",
       "      <td>1000</td>\n",
       "    </tr>\n",
       "  </tbody>\n",
       "</table>\n",
       "</div>"
      ],
      "text/plain": [
       "       id message_date  user_id\n",
       "0  1000_0   2018-06-27     1000\n",
       "1  1000_1   2018-10-08     1000\n",
       "2  1000_2   2018-08-04     1000\n",
       "3  1000_3   2018-06-16     1000\n",
       "4  1000_4   2018-12-05     1000"
      ]
     },
     "execution_count": 11,
     "metadata": {},
     "output_type": "execute_result"
    }
   ],
   "source": [
    "data_messages.head()"
   ]
  },
  {
   "cell_type": "code",
   "execution_count": 12,
   "id": "5959a996",
   "metadata": {
    "scrolled": true
   },
   "outputs": [
    {
     "name": "stdout",
     "output_type": "stream",
     "text": [
      "<class 'pandas.core.frame.DataFrame'>\n",
      "RangeIndex: 123036 entries, 0 to 123035\n",
      "Data columns (total 3 columns):\n",
      " #   Column        Non-Null Count   Dtype \n",
      "---  ------        --------------   ----- \n",
      " 0   id            123036 non-null  object\n",
      " 1   message_date  123036 non-null  object\n",
      " 2   user_id       123036 non-null  int64 \n",
      "dtypes: int64(1), object(2)\n",
      "memory usage: 2.8+ MB\n",
      "None\n",
      "\n",
      "1274_248     1\n",
      "1045_63      1\n",
      "1285_1027    1\n",
      "1244_566     1\n",
      "1281_213     1\n",
      "            ..\n",
      "1243_470     1\n",
      "1385_656     1\n",
      "1052_222     1\n",
      "1178_126     1\n",
      "1007_208     1\n",
      "Name: id, Length: 123036, dtype: int64\n",
      "\n",
      "2018-12-31    859\n",
      "2018-12-30    765\n",
      "2018-12-21    712\n",
      "2018-12-29    702\n",
      "2018-12-26    699\n",
      "             ... \n",
      "2018-01-07     12\n",
      "2018-01-02     10\n",
      "2018-01-05     10\n",
      "2018-01-04     10\n",
      "2018-01-03      4\n",
      "Name: message_date, Length: 364, dtype: int64\n",
      "\n",
      "1277    1463\n",
      "1089    1408\n",
      "1231    1384\n",
      "1385    1380\n",
      "1356    1224\n",
      "        ... \n",
      "1111       6\n",
      "1279       5\n",
      "1074       3\n",
      "1159       2\n",
      "1141       1\n",
      "Name: user_id, Length: 426, dtype: int64\n",
      "\n"
     ]
    }
   ],
   "source": [
    "first_glance(data_messages)"
   ]
  },
  {
   "cell_type": "code",
   "execution_count": 13,
   "id": "c8584f6c",
   "metadata": {
    "scrolled": true
   },
   "outputs": [
    {
     "data": {
      "text/html": [
       "<div>\n",
       "<style scoped>\n",
       "    .dataframe tbody tr th:only-of-type {\n",
       "        vertical-align: middle;\n",
       "    }\n",
       "\n",
       "    .dataframe tbody tr th {\n",
       "        vertical-align: top;\n",
       "    }\n",
       "\n",
       "    .dataframe thead th {\n",
       "        text-align: right;\n",
       "    }\n",
       "</style>\n",
       "<table border=\"1\" class=\"dataframe\">\n",
       "  <thead>\n",
       "    <tr style=\"text-align: right;\">\n",
       "      <th></th>\n",
       "      <th>Unnamed: 0</th>\n",
       "      <th>id</th>\n",
       "      <th>mb_used</th>\n",
       "      <th>session_date</th>\n",
       "      <th>user_id</th>\n",
       "    </tr>\n",
       "  </thead>\n",
       "  <tbody>\n",
       "    <tr>\n",
       "      <th>0</th>\n",
       "      <td>0</td>\n",
       "      <td>1000_0</td>\n",
       "      <td>112.95</td>\n",
       "      <td>2018-11-25</td>\n",
       "      <td>1000</td>\n",
       "    </tr>\n",
       "    <tr>\n",
       "      <th>1</th>\n",
       "      <td>1</td>\n",
       "      <td>1000_1</td>\n",
       "      <td>1,052.81</td>\n",
       "      <td>2018-09-07</td>\n",
       "      <td>1000</td>\n",
       "    </tr>\n",
       "    <tr>\n",
       "      <th>2</th>\n",
       "      <td>2</td>\n",
       "      <td>1000_2</td>\n",
       "      <td>1,197.26</td>\n",
       "      <td>2018-06-25</td>\n",
       "      <td>1000</td>\n",
       "    </tr>\n",
       "    <tr>\n",
       "      <th>3</th>\n",
       "      <td>3</td>\n",
       "      <td>1000_3</td>\n",
       "      <td>550.27</td>\n",
       "      <td>2018-08-22</td>\n",
       "      <td>1000</td>\n",
       "    </tr>\n",
       "    <tr>\n",
       "      <th>4</th>\n",
       "      <td>4</td>\n",
       "      <td>1000_4</td>\n",
       "      <td>302.56</td>\n",
       "      <td>2018-09-24</td>\n",
       "      <td>1000</td>\n",
       "    </tr>\n",
       "  </tbody>\n",
       "</table>\n",
       "</div>"
      ],
      "text/plain": [
       "   Unnamed: 0      id  mb_used session_date  user_id\n",
       "0           0  1000_0   112.95   2018-11-25     1000\n",
       "1           1  1000_1 1,052.81   2018-09-07     1000\n",
       "2           2  1000_2 1,197.26   2018-06-25     1000\n",
       "3           3  1000_3   550.27   2018-08-22     1000\n",
       "4           4  1000_4   302.56   2018-09-24     1000"
      ]
     },
     "execution_count": 13,
     "metadata": {},
     "output_type": "execute_result"
    }
   ],
   "source": [
    "data_internet.head()"
   ]
  },
  {
   "cell_type": "code",
   "execution_count": 14,
   "id": "baf6b4a2",
   "metadata": {
    "scrolled": true
   },
   "outputs": [
    {
     "name": "stdout",
     "output_type": "stream",
     "text": [
      "<class 'pandas.core.frame.DataFrame'>\n",
      "RangeIndex: 149396 entries, 0 to 149395\n",
      "Data columns (total 5 columns):\n",
      " #   Column        Non-Null Count   Dtype  \n",
      "---  ------        --------------   -----  \n",
      " 0   Unnamed: 0    149396 non-null  int64  \n",
      " 1   id            149396 non-null  object \n",
      " 2   mb_used       149396 non-null  float64\n",
      " 3   session_date  149396 non-null  object \n",
      " 4   user_id       149396 non-null  int64  \n",
      "dtypes: float64(1), int64(2), object(2)\n",
      "memory usage: 5.7+ MB\n",
      "None\n",
      "\n",
      "0        1\n",
      "88702    1\n",
      "58057    1\n",
      "64202    1\n",
      "62155    1\n",
      "        ..\n",
      "58678    1\n",
      "60727    1\n",
      "38200    1\n",
      "40249    1\n",
      "2047     1\n",
      "Name: Unnamed: 0, Length: 149396, dtype: int64\n",
      "\n",
      "1274_248    1\n",
      "1059_28     1\n",
      "1270_78     1\n",
      "1237_41     1\n",
      "1092_206    1\n",
      "           ..\n",
      "1188_148    1\n",
      "1008_43     1\n",
      "1481_338    1\n",
      "1294_379    1\n",
      "1460_206    1\n",
      "Name: id, Length: 149396, dtype: int64\n",
      "\n",
      "0.00      19598\n",
      "335.91        9\n",
      "447.30        9\n",
      "197.56        9\n",
      "199.11        8\n",
      "          ...  \n",
      "182.69        1\n",
      "726.03        1\n",
      "315.12        1\n",
      "898.99        1\n",
      "677.66        1\n",
      "Name: mb_used, Length: 70003, dtype: int64\n",
      "\n",
      "2018-12-31    1057\n",
      "2018-12-30     903\n",
      "2018-12-25     859\n",
      "2018-12-26     844\n",
      "2018-12-22     834\n",
      "              ... \n",
      "2018-01-05      14\n",
      "2018-01-04       9\n",
      "2018-01-03       6\n",
      "2018-01-02       3\n",
      "2018-01-01       3\n",
      "Name: session_date, Length: 365, dtype: int64\n",
      "\n",
      "1496    834\n",
      "1227    812\n",
      "1204    789\n",
      "1240    764\n",
      "1251    759\n",
      "       ... \n",
      "1151     35\n",
      "1467     27\n",
      "1343     26\n",
      "1192     22\n",
      "1399      8\n",
      "Name: user_id, Length: 497, dtype: int64\n",
      "\n"
     ]
    }
   ],
   "source": [
    "first_glance(data_internet)"
   ]
  },
  {
   "cell_type": "code",
   "execution_count": 15,
   "id": "eb928564",
   "metadata": {
    "scrolled": true
   },
   "outputs": [
    {
     "data": {
      "text/html": [
       "<div>\n",
       "<style scoped>\n",
       "    .dataframe tbody tr th:only-of-type {\n",
       "        vertical-align: middle;\n",
       "    }\n",
       "\n",
       "    .dataframe tbody tr th {\n",
       "        vertical-align: top;\n",
       "    }\n",
       "\n",
       "    .dataframe thead th {\n",
       "        text-align: right;\n",
       "    }\n",
       "</style>\n",
       "<table border=\"1\" class=\"dataframe\">\n",
       "  <thead>\n",
       "    <tr style=\"text-align: right;\">\n",
       "      <th></th>\n",
       "      <th>messages_included</th>\n",
       "      <th>mb_per_month_included</th>\n",
       "      <th>minutes_included</th>\n",
       "      <th>rub_monthly_fee</th>\n",
       "      <th>rub_per_gb</th>\n",
       "      <th>rub_per_message</th>\n",
       "      <th>rub_per_minute</th>\n",
       "      <th>tariff_name</th>\n",
       "    </tr>\n",
       "  </thead>\n",
       "  <tbody>\n",
       "    <tr>\n",
       "      <th>0</th>\n",
       "      <td>50</td>\n",
       "      <td>15360</td>\n",
       "      <td>500</td>\n",
       "      <td>550</td>\n",
       "      <td>200</td>\n",
       "      <td>3</td>\n",
       "      <td>3</td>\n",
       "      <td>smart</td>\n",
       "    </tr>\n",
       "    <tr>\n",
       "      <th>1</th>\n",
       "      <td>1000</td>\n",
       "      <td>30720</td>\n",
       "      <td>3000</td>\n",
       "      <td>1950</td>\n",
       "      <td>150</td>\n",
       "      <td>1</td>\n",
       "      <td>1</td>\n",
       "      <td>ultra</td>\n",
       "    </tr>\n",
       "  </tbody>\n",
       "</table>\n",
       "</div>"
      ],
      "text/plain": [
       "   messages_included  mb_per_month_included  minutes_included  \\\n",
       "0                 50                  15360               500   \n",
       "1               1000                  30720              3000   \n",
       "\n",
       "   rub_monthly_fee  rub_per_gb  rub_per_message  rub_per_minute tariff_name  \n",
       "0              550         200                3               3       smart  \n",
       "1             1950         150                1               1       ultra  "
      ]
     },
     "execution_count": 15,
     "metadata": {},
     "output_type": "execute_result"
    }
   ],
   "source": [
    "data_tariffs.head()"
   ]
  },
  {
   "cell_type": "code",
   "execution_count": 16,
   "id": "64631f19",
   "metadata": {
    "scrolled": true
   },
   "outputs": [
    {
     "name": "stdout",
     "output_type": "stream",
     "text": [
      "<class 'pandas.core.frame.DataFrame'>\n",
      "RangeIndex: 2 entries, 0 to 1\n",
      "Data columns (total 8 columns):\n",
      " #   Column                 Non-Null Count  Dtype \n",
      "---  ------                 --------------  ----- \n",
      " 0   messages_included      2 non-null      int64 \n",
      " 1   mb_per_month_included  2 non-null      int64 \n",
      " 2   minutes_included       2 non-null      int64 \n",
      " 3   rub_monthly_fee        2 non-null      int64 \n",
      " 4   rub_per_gb             2 non-null      int64 \n",
      " 5   rub_per_message        2 non-null      int64 \n",
      " 6   rub_per_minute         2 non-null      int64 \n",
      " 7   tariff_name            2 non-null      object\n",
      "dtypes: int64(7), object(1)\n",
      "memory usage: 256.0+ bytes\n",
      "None\n",
      "\n",
      "1000    1\n",
      "50      1\n",
      "Name: messages_included, dtype: int64\n",
      "\n",
      "15360    1\n",
      "30720    1\n",
      "Name: mb_per_month_included, dtype: int64\n",
      "\n",
      "500     1\n",
      "3000    1\n",
      "Name: minutes_included, dtype: int64\n",
      "\n",
      "1950    1\n",
      "550     1\n",
      "Name: rub_monthly_fee, dtype: int64\n",
      "\n",
      "200    1\n",
      "150    1\n",
      "Name: rub_per_gb, dtype: int64\n",
      "\n",
      "1    1\n",
      "3    1\n",
      "Name: rub_per_message, dtype: int64\n",
      "\n",
      "1    1\n",
      "3    1\n",
      "Name: rub_per_minute, dtype: int64\n",
      "\n",
      "smart    1\n",
      "ultra    1\n",
      "Name: tariff_name, dtype: int64\n",
      "\n"
     ]
    }
   ],
   "source": [
    "first_glance(data_tariffs)"
   ]
  },
  {
   "cell_type": "markdown",
   "id": "66188a81",
   "metadata": {},
   "source": [
    "### Вывод:\n",
    "1. Пропущенные данные найдены только в таблице со пользователями, что свидетельствует о том, что контракт еще действует. Они не требуют обработки.\n",
    "2. В таблицах со звонками, сообщениями и интернетом колонка с датой имеет формат \"объект\", требует изменения.\n",
    "3. Все таблицы имеют общую колонку, что позволит объеденить данные.\n",
    "\n"
   ]
  },
  {
   "cell_type": "markdown",
   "id": "f8aac074",
   "metadata": {},
   "source": [
    "# Подготовка данных"
   ]
  },
  {
   "cell_type": "markdown",
   "id": "0c274179",
   "metadata": {},
   "source": [
    "## Работаем со звонками"
   ]
  },
  {
   "cell_type": "markdown",
   "id": "b2cc78e6",
   "metadata": {},
   "source": [
    "Создаем новый столбец и округляем минуты до большего значения."
   ]
  },
  {
   "cell_type": "code",
   "execution_count": 17,
   "id": "6502a3d9",
   "metadata": {},
   "outputs": [],
   "source": [
    "data_calls['rounded_duration'] = np.ceil(data_calls['duration'])"
   ]
  },
  {
   "cell_type": "code",
   "execution_count": 18,
   "id": "087ec705",
   "metadata": {},
   "outputs": [
    {
     "name": "stdout",
     "output_type": "stream",
     "text": [
      "<class 'pandas.core.frame.DataFrame'>\n",
      "RangeIndex: 202607 entries, 0 to 202606\n",
      "Data columns (total 5 columns):\n",
      " #   Column            Non-Null Count   Dtype  \n",
      "---  ------            --------------   -----  \n",
      " 0   id                202607 non-null  object \n",
      " 1   call_date         202607 non-null  object \n",
      " 2   duration          202607 non-null  float64\n",
      " 3   user_id           202607 non-null  int64  \n",
      " 4   rounded_duration  202607 non-null  float64\n",
      "dtypes: float64(2), int64(1), object(2)\n",
      "memory usage: 7.7+ MB\n"
     ]
    }
   ],
   "source": [
    "data_calls.info()"
   ]
  },
  {
   "cell_type": "markdown",
   "id": "ef53b8f6",
   "metadata": {},
   "source": [
    "Меняем формат округленных минут на целочисленный"
   ]
  },
  {
   "cell_type": "code",
   "execution_count": 19,
   "id": "14b1af18",
   "metadata": {},
   "outputs": [],
   "source": [
    "data_calls['rounded_duration'] = data_calls['rounded_duration'].astype('int')"
   ]
  },
  {
   "cell_type": "markdown",
   "id": "b992057e",
   "metadata": {},
   "source": [
    "С помощью функции меняем формат даты на корректный, после чего добавляем столбец с месяцем и годом для дальнейшей работы с ним"
   ]
  },
  {
   "cell_type": "code",
   "execution_count": 20,
   "id": "177beb83",
   "metadata": {},
   "outputs": [],
   "source": [
    "def type_date(column_date): \n",
    "    column_date = pd.to_datetime(column_date, format='%Y-%m-%d')\n",
    "    column_month = column_date.dt.to_period('M')\n",
    "    return column_month"
   ]
  },
  {
   "cell_type": "code",
   "execution_count": 21,
   "id": "47bf54dd",
   "metadata": {},
   "outputs": [
    {
     "data": {
      "text/html": [
       "<div>\n",
       "<style scoped>\n",
       "    .dataframe tbody tr th:only-of-type {\n",
       "        vertical-align: middle;\n",
       "    }\n",
       "\n",
       "    .dataframe tbody tr th {\n",
       "        vertical-align: top;\n",
       "    }\n",
       "\n",
       "    .dataframe thead th {\n",
       "        text-align: right;\n",
       "    }\n",
       "</style>\n",
       "<table border=\"1\" class=\"dataframe\">\n",
       "  <thead>\n",
       "    <tr style=\"text-align: right;\">\n",
       "      <th></th>\n",
       "      <th>id</th>\n",
       "      <th>call_date</th>\n",
       "      <th>duration</th>\n",
       "      <th>user_id</th>\n",
       "      <th>rounded_duration</th>\n",
       "      <th>month</th>\n",
       "    </tr>\n",
       "  </thead>\n",
       "  <tbody>\n",
       "    <tr>\n",
       "      <th>0</th>\n",
       "      <td>1000_0</td>\n",
       "      <td>2018-07-25</td>\n",
       "      <td>0.00</td>\n",
       "      <td>1000</td>\n",
       "      <td>0</td>\n",
       "      <td>2018-07</td>\n",
       "    </tr>\n",
       "    <tr>\n",
       "      <th>1</th>\n",
       "      <td>1000_1</td>\n",
       "      <td>2018-08-17</td>\n",
       "      <td>0.00</td>\n",
       "      <td>1000</td>\n",
       "      <td>0</td>\n",
       "      <td>2018-08</td>\n",
       "    </tr>\n",
       "    <tr>\n",
       "      <th>2</th>\n",
       "      <td>1000_2</td>\n",
       "      <td>2018-06-11</td>\n",
       "      <td>2.85</td>\n",
       "      <td>1000</td>\n",
       "      <td>3</td>\n",
       "      <td>2018-06</td>\n",
       "    </tr>\n",
       "  </tbody>\n",
       "</table>\n",
       "</div>"
      ],
      "text/plain": [
       "       id   call_date  duration  user_id  rounded_duration    month\n",
       "0  1000_0  2018-07-25      0.00     1000                 0  2018-07\n",
       "1  1000_1  2018-08-17      0.00     1000                 0  2018-08\n",
       "2  1000_2  2018-06-11      2.85     1000                 3  2018-06"
      ]
     },
     "execution_count": 21,
     "metadata": {},
     "output_type": "execute_result"
    }
   ],
   "source": [
    "data_calls['month'] = type_date(data_calls['call_date'])\n",
    "\n",
    "data_calls.head(3)"
   ]
  },
  {
   "cell_type": "code",
   "execution_count": 22,
   "id": "abadb4af",
   "metadata": {},
   "outputs": [
    {
     "name": "stdout",
     "output_type": "stream",
     "text": [
      "<class 'pandas.core.frame.DataFrame'>\n",
      "RangeIndex: 202607 entries, 0 to 202606\n",
      "Data columns (total 6 columns):\n",
      " #   Column            Non-Null Count   Dtype    \n",
      "---  ------            --------------   -----    \n",
      " 0   id                202607 non-null  object   \n",
      " 1   call_date         202607 non-null  object   \n",
      " 2   duration          202607 non-null  float64  \n",
      " 3   user_id           202607 non-null  int64    \n",
      " 4   rounded_duration  202607 non-null  int64    \n",
      " 5   month             202607 non-null  period[M]\n",
      "dtypes: float64(1), int64(2), object(2), period[M](1)\n",
      "memory usage: 9.3+ MB\n"
     ]
    }
   ],
   "source": [
    "data_calls.info()"
   ]
  },
  {
   "cell_type": "markdown",
   "id": "67813569",
   "metadata": {},
   "source": [
    "Добавляем в таблицу __Звонки__ колонки __тариф__ и __город__ из таблицы __Пользователи__"
   ]
  },
  {
   "cell_type": "code",
   "execution_count": 23,
   "id": "2c3ea60a",
   "metadata": {},
   "outputs": [],
   "source": [
    "def join_tariff(data):\n",
    "    data = data.merge(data_users[['user_id','tariff','city']], on='user_id', how='left')\n",
    "    return data"
   ]
  },
  {
   "cell_type": "code",
   "execution_count": 24,
   "id": "457ecfbf",
   "metadata": {},
   "outputs": [
    {
     "data": {
      "text/html": [
       "<div>\n",
       "<style scoped>\n",
       "    .dataframe tbody tr th:only-of-type {\n",
       "        vertical-align: middle;\n",
       "    }\n",
       "\n",
       "    .dataframe tbody tr th {\n",
       "        vertical-align: top;\n",
       "    }\n",
       "\n",
       "    .dataframe thead th {\n",
       "        text-align: right;\n",
       "    }\n",
       "</style>\n",
       "<table border=\"1\" class=\"dataframe\">\n",
       "  <thead>\n",
       "    <tr style=\"text-align: right;\">\n",
       "      <th></th>\n",
       "      <th>id</th>\n",
       "      <th>call_date</th>\n",
       "      <th>duration</th>\n",
       "      <th>user_id</th>\n",
       "      <th>rounded_duration</th>\n",
       "      <th>month</th>\n",
       "      <th>tariff</th>\n",
       "      <th>city</th>\n",
       "    </tr>\n",
       "  </thead>\n",
       "  <tbody>\n",
       "    <tr>\n",
       "      <th>0</th>\n",
       "      <td>1000_0</td>\n",
       "      <td>2018-07-25</td>\n",
       "      <td>0.00</td>\n",
       "      <td>1000</td>\n",
       "      <td>0</td>\n",
       "      <td>2018-07</td>\n",
       "      <td>ultra</td>\n",
       "      <td>Краснодар</td>\n",
       "    </tr>\n",
       "    <tr>\n",
       "      <th>1</th>\n",
       "      <td>1000_1</td>\n",
       "      <td>2018-08-17</td>\n",
       "      <td>0.00</td>\n",
       "      <td>1000</td>\n",
       "      <td>0</td>\n",
       "      <td>2018-08</td>\n",
       "      <td>ultra</td>\n",
       "      <td>Краснодар</td>\n",
       "    </tr>\n",
       "    <tr>\n",
       "      <th>2</th>\n",
       "      <td>1000_2</td>\n",
       "      <td>2018-06-11</td>\n",
       "      <td>2.85</td>\n",
       "      <td>1000</td>\n",
       "      <td>3</td>\n",
       "      <td>2018-06</td>\n",
       "      <td>ultra</td>\n",
       "      <td>Краснодар</td>\n",
       "    </tr>\n",
       "  </tbody>\n",
       "</table>\n",
       "</div>"
      ],
      "text/plain": [
       "       id   call_date  duration  user_id  rounded_duration    month tariff  \\\n",
       "0  1000_0  2018-07-25      0.00     1000                 0  2018-07  ultra   \n",
       "1  1000_1  2018-08-17      0.00     1000                 0  2018-08  ultra   \n",
       "2  1000_2  2018-06-11      2.85     1000                 3  2018-06  ultra   \n",
       "\n",
       "        city  \n",
       "0  Краснодар  \n",
       "1  Краснодар  \n",
       "2  Краснодар  "
      ]
     },
     "execution_count": 24,
     "metadata": {},
     "output_type": "execute_result"
    }
   ],
   "source": [
    "data_calls = join_tariff(data_calls)\n",
    "\n",
    "data_calls.head(3)"
   ]
  },
  {
   "cell_type": "markdown",
   "id": "65d0795e",
   "metadata": {},
   "source": [
    "Добавляем в таблицу __Звонки__ колонки __включенные в тариф минуты__, __стоимость тарифа в месяц__, __стоимость минуты в тарифе__ из таблицы __Тарифы__"
   ]
  },
  {
   "cell_type": "code",
   "execution_count": 25,
   "id": "0e902b64",
   "metadata": {},
   "outputs": [
    {
     "data": {
      "text/html": [
       "<div>\n",
       "<style scoped>\n",
       "    .dataframe tbody tr th:only-of-type {\n",
       "        vertical-align: middle;\n",
       "    }\n",
       "\n",
       "    .dataframe tbody tr th {\n",
       "        vertical-align: top;\n",
       "    }\n",
       "\n",
       "    .dataframe thead th {\n",
       "        text-align: right;\n",
       "    }\n",
       "</style>\n",
       "<table border=\"1\" class=\"dataframe\">\n",
       "  <thead>\n",
       "    <tr style=\"text-align: right;\">\n",
       "      <th></th>\n",
       "      <th>id</th>\n",
       "      <th>call_date</th>\n",
       "      <th>duration</th>\n",
       "      <th>user_id</th>\n",
       "      <th>rounded_duration</th>\n",
       "      <th>month</th>\n",
       "      <th>tariff</th>\n",
       "      <th>city</th>\n",
       "      <th>tariff_name</th>\n",
       "      <th>minutes_included</th>\n",
       "      <th>rub_monthly_fee</th>\n",
       "      <th>rub_per_minute</th>\n",
       "    </tr>\n",
       "  </thead>\n",
       "  <tbody>\n",
       "    <tr>\n",
       "      <th>0</th>\n",
       "      <td>1000_0</td>\n",
       "      <td>2018-07-25</td>\n",
       "      <td>0.00</td>\n",
       "      <td>1000</td>\n",
       "      <td>0</td>\n",
       "      <td>2018-07</td>\n",
       "      <td>ultra</td>\n",
       "      <td>Краснодар</td>\n",
       "      <td>ultra</td>\n",
       "      <td>3000</td>\n",
       "      <td>1950</td>\n",
       "      <td>1</td>\n",
       "    </tr>\n",
       "    <tr>\n",
       "      <th>1</th>\n",
       "      <td>1000_1</td>\n",
       "      <td>2018-08-17</td>\n",
       "      <td>0.00</td>\n",
       "      <td>1000</td>\n",
       "      <td>0</td>\n",
       "      <td>2018-08</td>\n",
       "      <td>ultra</td>\n",
       "      <td>Краснодар</td>\n",
       "      <td>ultra</td>\n",
       "      <td>3000</td>\n",
       "      <td>1950</td>\n",
       "      <td>1</td>\n",
       "    </tr>\n",
       "    <tr>\n",
       "      <th>2</th>\n",
       "      <td>1000_2</td>\n",
       "      <td>2018-06-11</td>\n",
       "      <td>2.85</td>\n",
       "      <td>1000</td>\n",
       "      <td>3</td>\n",
       "      <td>2018-06</td>\n",
       "      <td>ultra</td>\n",
       "      <td>Краснодар</td>\n",
       "      <td>ultra</td>\n",
       "      <td>3000</td>\n",
       "      <td>1950</td>\n",
       "      <td>1</td>\n",
       "    </tr>\n",
       "  </tbody>\n",
       "</table>\n",
       "</div>"
      ],
      "text/plain": [
       "       id   call_date  duration  user_id  rounded_duration    month tariff  \\\n",
       "0  1000_0  2018-07-25      0.00     1000                 0  2018-07  ultra   \n",
       "1  1000_1  2018-08-17      0.00     1000                 0  2018-08  ultra   \n",
       "2  1000_2  2018-06-11      2.85     1000                 3  2018-06  ultra   \n",
       "\n",
       "        city tariff_name  minutes_included  rub_monthly_fee  rub_per_minute  \n",
       "0  Краснодар       ultra              3000             1950               1  \n",
       "1  Краснодар       ultra              3000             1950               1  \n",
       "2  Краснодар       ultra              3000             1950               1  "
      ]
     },
     "execution_count": 25,
     "metadata": {},
     "output_type": "execute_result"
    }
   ],
   "source": [
    "data_calls = data_calls.merge(\n",
    "    data_tariffs[['tariff_name', 'minutes_included', 'rub_monthly_fee', 'rub_per_minute']],\n",
    "    left_on='tariff', right_on='tariff_name', how='left'\n",
    ")\n",
    "data_calls.head(3)"
   ]
  },
  {
   "cell_type": "markdown",
   "id": "aaed5765",
   "metadata": {},
   "source": [
    "Создаем таблицу и считаем общую сумму минут в месяц по каждому пользователю"
   ]
  },
  {
   "cell_type": "code",
   "execution_count": 26,
   "id": "72d9c8e8",
   "metadata": {},
   "outputs": [
    {
     "data": {
      "text/html": [
       "<div>\n",
       "<style scoped>\n",
       "    .dataframe tbody tr th:only-of-type {\n",
       "        vertical-align: middle;\n",
       "    }\n",
       "\n",
       "    .dataframe tbody tr th {\n",
       "        vertical-align: top;\n",
       "    }\n",
       "\n",
       "    .dataframe thead tr th {\n",
       "        text-align: left;\n",
       "    }\n",
       "</style>\n",
       "<table border=\"1\" class=\"dataframe\">\n",
       "  <thead>\n",
       "    <tr>\n",
       "      <th></th>\n",
       "      <th>user_id</th>\n",
       "      <th>month</th>\n",
       "      <th>tariff_name</th>\n",
       "      <th>minutes_included</th>\n",
       "      <th>rub_per_minute</th>\n",
       "      <th>sum</th>\n",
       "    </tr>\n",
       "    <tr>\n",
       "      <th></th>\n",
       "      <th></th>\n",
       "      <th></th>\n",
       "      <th></th>\n",
       "      <th></th>\n",
       "      <th></th>\n",
       "      <th>rounded_duration</th>\n",
       "    </tr>\n",
       "  </thead>\n",
       "  <tbody>\n",
       "    <tr>\n",
       "      <th>0</th>\n",
       "      <td>1000</td>\n",
       "      <td>2018-05</td>\n",
       "      <td>ultra</td>\n",
       "      <td>3000</td>\n",
       "      <td>1</td>\n",
       "      <td>159</td>\n",
       "    </tr>\n",
       "    <tr>\n",
       "      <th>1</th>\n",
       "      <td>1000</td>\n",
       "      <td>2018-06</td>\n",
       "      <td>ultra</td>\n",
       "      <td>3000</td>\n",
       "      <td>1</td>\n",
       "      <td>172</td>\n",
       "    </tr>\n",
       "    <tr>\n",
       "      <th>2</th>\n",
       "      <td>1000</td>\n",
       "      <td>2018-07</td>\n",
       "      <td>ultra</td>\n",
       "      <td>3000</td>\n",
       "      <td>1</td>\n",
       "      <td>340</td>\n",
       "    </tr>\n",
       "  </tbody>\n",
       "</table>\n",
       "</div>"
      ],
      "text/plain": [
       "  user_id    month tariff_name minutes_included rub_per_minute  \\\n",
       "                                                                 \n",
       "0    1000  2018-05       ultra             3000              1   \n",
       "1    1000  2018-06       ultra             3000              1   \n",
       "2    1000  2018-07       ultra             3000              1   \n",
       "\n",
       "               sum  \n",
       "  rounded_duration  \n",
       "0              159  \n",
       "1              172  \n",
       "2              340  "
      ]
     },
     "execution_count": 26,
     "metadata": {},
     "output_type": "execute_result"
    }
   ],
   "source": [
    "stats_calls = data_calls.pivot_table(\n",
    "    index=['user_id','month', 'tariff_name', 'minutes_included', 'rub_per_minute'], \n",
    "    values='rounded_duration', aggfunc=['sum']\n",
    ").reset_index()\n",
    "stats_calls.head(3)"
   ]
  },
  {
   "cell_type": "markdown",
   "id": "5701e073",
   "metadata": {},
   "source": [
    "Создаем столбец __дополнительная плата за звонки__:\n",
    "1. общая сумма минут - минуты, включенные в тариф\n",
    "2. отрицательные значения меняем на \"0\" (значит перерасхода не было)\n",
    "3. значения умножаем на стоимоть минуты сверх пакета"
   ]
  },
  {
   "cell_type": "code",
   "execution_count": 27,
   "id": "ac200e00",
   "metadata": {},
   "outputs": [],
   "source": [
    "def add_payment_column(column_1, column_2): # функция принимает два столбца, вычитает из первого второй, \n",
    "    new_column = column_1 - column_2        # обнуляет значения меньше нуля\n",
    "    new_column = new_column.where(new_column > 0, 0)\n",
    "    return new_column"
   ]
  },
  {
   "cell_type": "raw",
   "id": "ce506816",
   "metadata": {},
   "source": [
    "stats_calls['add_payment_calls'] = stats_calls[['sum', 'minutes_included']].apply(add_payment_column) # не работает"
   ]
  },
  {
   "cell_type": "code",
   "execution_count": 28,
   "id": "8378422e",
   "metadata": {},
   "outputs": [
    {
     "data": {
      "text/html": [
       "<div>\n",
       "<style scoped>\n",
       "    .dataframe tbody tr th:only-of-type {\n",
       "        vertical-align: middle;\n",
       "    }\n",
       "\n",
       "    .dataframe tbody tr th {\n",
       "        vertical-align: top;\n",
       "    }\n",
       "\n",
       "    .dataframe thead tr th {\n",
       "        text-align: left;\n",
       "    }\n",
       "</style>\n",
       "<table border=\"1\" class=\"dataframe\">\n",
       "  <thead>\n",
       "    <tr>\n",
       "      <th></th>\n",
       "      <th>user_id</th>\n",
       "      <th>month</th>\n",
       "      <th>tariff_name</th>\n",
       "      <th>minutes_included</th>\n",
       "      <th>rub_per_minute</th>\n",
       "      <th>sum</th>\n",
       "      <th>add_payment_calls</th>\n",
       "    </tr>\n",
       "    <tr>\n",
       "      <th></th>\n",
       "      <th></th>\n",
       "      <th></th>\n",
       "      <th></th>\n",
       "      <th></th>\n",
       "      <th></th>\n",
       "      <th>rounded_duration</th>\n",
       "      <th></th>\n",
       "    </tr>\n",
       "  </thead>\n",
       "  <tbody>\n",
       "    <tr>\n",
       "      <th>3171</th>\n",
       "      <td>1499</td>\n",
       "      <td>2018-10</td>\n",
       "      <td>smart</td>\n",
       "      <td>500</td>\n",
       "      <td>3</td>\n",
       "      <td>449</td>\n",
       "      <td>0</td>\n",
       "    </tr>\n",
       "    <tr>\n",
       "      <th>3172</th>\n",
       "      <td>1499</td>\n",
       "      <td>2018-11</td>\n",
       "      <td>smart</td>\n",
       "      <td>500</td>\n",
       "      <td>3</td>\n",
       "      <td>612</td>\n",
       "      <td>336</td>\n",
       "    </tr>\n",
       "    <tr>\n",
       "      <th>3173</th>\n",
       "      <td>1499</td>\n",
       "      <td>2018-12</td>\n",
       "      <td>smart</td>\n",
       "      <td>500</td>\n",
       "      <td>3</td>\n",
       "      <td>492</td>\n",
       "      <td>0</td>\n",
       "    </tr>\n",
       "  </tbody>\n",
       "</table>\n",
       "</div>"
      ],
      "text/plain": [
       "     user_id    month tariff_name minutes_included rub_per_minute  \\\n",
       "                                                                    \n",
       "3171    1499  2018-10       smart              500              3   \n",
       "3172    1499  2018-11       smart              500              3   \n",
       "3173    1499  2018-12       smart              500              3   \n",
       "\n",
       "                  sum add_payment_calls  \n",
       "     rounded_duration                    \n",
       "3171              449                 0  \n",
       "3172              612               336  \n",
       "3173              492                 0  "
      ]
     },
     "execution_count": 28,
     "metadata": {},
     "output_type": "execute_result"
    }
   ],
   "source": [
    "stats_calls['add_payment_calls'] = add_payment_column(\n",
    "    stats_calls['sum']['rounded_duration'], stats_calls['minutes_included']\n",
    ") * stats_calls['rub_per_minute']\n",
    "\n",
    "stats_calls.tail(3)"
   ]
  },
  {
   "cell_type": "markdown",
   "id": "65db8e81",
   "metadata": {},
   "source": [
    "## Работа с сообщениями"
   ]
  },
  {
   "cell_type": "code",
   "execution_count": 29,
   "id": "8cf716fb",
   "metadata": {},
   "outputs": [
    {
     "data": {
      "text/html": [
       "<div>\n",
       "<style scoped>\n",
       "    .dataframe tbody tr th:only-of-type {\n",
       "        vertical-align: middle;\n",
       "    }\n",
       "\n",
       "    .dataframe tbody tr th {\n",
       "        vertical-align: top;\n",
       "    }\n",
       "\n",
       "    .dataframe thead th {\n",
       "        text-align: right;\n",
       "    }\n",
       "</style>\n",
       "<table border=\"1\" class=\"dataframe\">\n",
       "  <thead>\n",
       "    <tr style=\"text-align: right;\">\n",
       "      <th></th>\n",
       "      <th>id</th>\n",
       "      <th>message_date</th>\n",
       "      <th>user_id</th>\n",
       "    </tr>\n",
       "  </thead>\n",
       "  <tbody>\n",
       "    <tr>\n",
       "      <th>0</th>\n",
       "      <td>1000_0</td>\n",
       "      <td>2018-06-27</td>\n",
       "      <td>1000</td>\n",
       "    </tr>\n",
       "    <tr>\n",
       "      <th>1</th>\n",
       "      <td>1000_1</td>\n",
       "      <td>2018-10-08</td>\n",
       "      <td>1000</td>\n",
       "    </tr>\n",
       "    <tr>\n",
       "      <th>2</th>\n",
       "      <td>1000_2</td>\n",
       "      <td>2018-08-04</td>\n",
       "      <td>1000</td>\n",
       "    </tr>\n",
       "  </tbody>\n",
       "</table>\n",
       "</div>"
      ],
      "text/plain": [
       "       id message_date  user_id\n",
       "0  1000_0   2018-06-27     1000\n",
       "1  1000_1   2018-10-08     1000\n",
       "2  1000_2   2018-08-04     1000"
      ]
     },
     "execution_count": 29,
     "metadata": {},
     "output_type": "execute_result"
    }
   ],
   "source": [
    "data_messages.head(3)"
   ]
  },
  {
   "cell_type": "markdown",
   "id": "4b9e0ab9",
   "metadata": {},
   "source": [
    "Выделяем колонку __месяц__ для последующей компановки данных"
   ]
  },
  {
   "cell_type": "code",
   "execution_count": 30,
   "id": "4610d617",
   "metadata": {},
   "outputs": [],
   "source": [
    "# data_messages['corr_message_date'] = pd.to_datetime(data_messages['message_date'], format='%Y-%m-%d')"
   ]
  },
  {
   "cell_type": "code",
   "execution_count": 31,
   "id": "7ce66fd4",
   "metadata": {},
   "outputs": [],
   "source": [
    "# data_messages['month'] = data_messages['message_date'].dt.month"
   ]
  },
  {
   "cell_type": "code",
   "execution_count": 32,
   "id": "31d9027e",
   "metadata": {},
   "outputs": [
    {
     "data": {
      "text/html": [
       "<div>\n",
       "<style scoped>\n",
       "    .dataframe tbody tr th:only-of-type {\n",
       "        vertical-align: middle;\n",
       "    }\n",
       "\n",
       "    .dataframe tbody tr th {\n",
       "        vertical-align: top;\n",
       "    }\n",
       "\n",
       "    .dataframe thead th {\n",
       "        text-align: right;\n",
       "    }\n",
       "</style>\n",
       "<table border=\"1\" class=\"dataframe\">\n",
       "  <thead>\n",
       "    <tr style=\"text-align: right;\">\n",
       "      <th></th>\n",
       "      <th>id</th>\n",
       "      <th>message_date</th>\n",
       "      <th>user_id</th>\n",
       "      <th>month</th>\n",
       "    </tr>\n",
       "  </thead>\n",
       "  <tbody>\n",
       "    <tr>\n",
       "      <th>0</th>\n",
       "      <td>1000_0</td>\n",
       "      <td>2018-06-27</td>\n",
       "      <td>1000</td>\n",
       "      <td>2018-06</td>\n",
       "    </tr>\n",
       "    <tr>\n",
       "      <th>1</th>\n",
       "      <td>1000_1</td>\n",
       "      <td>2018-10-08</td>\n",
       "      <td>1000</td>\n",
       "      <td>2018-10</td>\n",
       "    </tr>\n",
       "    <tr>\n",
       "      <th>2</th>\n",
       "      <td>1000_2</td>\n",
       "      <td>2018-08-04</td>\n",
       "      <td>1000</td>\n",
       "      <td>2018-08</td>\n",
       "    </tr>\n",
       "  </tbody>\n",
       "</table>\n",
       "</div>"
      ],
      "text/plain": [
       "       id message_date  user_id    month\n",
       "0  1000_0   2018-06-27     1000  2018-06\n",
       "1  1000_1   2018-10-08     1000  2018-10\n",
       "2  1000_2   2018-08-04     1000  2018-08"
      ]
     },
     "execution_count": 32,
     "metadata": {},
     "output_type": "execute_result"
    }
   ],
   "source": [
    "data_messages['month'] = type_date(data_messages['message_date'])\n",
    "\n",
    "data_messages.head(3)"
   ]
  },
  {
   "cell_type": "markdown",
   "id": "36f895fc",
   "metadata": {},
   "source": [
    "1. В таблицу __Сообщения__ добавляем столбец __тариф__ из таблицы __Пользователи__\n",
    "2. В таблицу __Сообщения__ добавляем столбцы: __кол-во сообщений, включенных в тариф, стоимость тарифа в месяц, стоимость сообщения сверх тарифа__ из таблицы __Тарифы__"
   ]
  },
  {
   "cell_type": "code",
   "execution_count": 33,
   "id": "8b602383",
   "metadata": {},
   "outputs": [
    {
     "data": {
      "text/html": [
       "<div>\n",
       "<style scoped>\n",
       "    .dataframe tbody tr th:only-of-type {\n",
       "        vertical-align: middle;\n",
       "    }\n",
       "\n",
       "    .dataframe tbody tr th {\n",
       "        vertical-align: top;\n",
       "    }\n",
       "\n",
       "    .dataframe thead th {\n",
       "        text-align: right;\n",
       "    }\n",
       "</style>\n",
       "<table border=\"1\" class=\"dataframe\">\n",
       "  <thead>\n",
       "    <tr style=\"text-align: right;\">\n",
       "      <th></th>\n",
       "      <th>id</th>\n",
       "      <th>message_date</th>\n",
       "      <th>user_id</th>\n",
       "      <th>month</th>\n",
       "      <th>tariff</th>\n",
       "      <th>city</th>\n",
       "    </tr>\n",
       "  </thead>\n",
       "  <tbody>\n",
       "    <tr>\n",
       "      <th>0</th>\n",
       "      <td>1000_0</td>\n",
       "      <td>2018-06-27</td>\n",
       "      <td>1000</td>\n",
       "      <td>2018-06</td>\n",
       "      <td>ultra</td>\n",
       "      <td>Краснодар</td>\n",
       "    </tr>\n",
       "    <tr>\n",
       "      <th>1</th>\n",
       "      <td>1000_1</td>\n",
       "      <td>2018-10-08</td>\n",
       "      <td>1000</td>\n",
       "      <td>2018-10</td>\n",
       "      <td>ultra</td>\n",
       "      <td>Краснодар</td>\n",
       "    </tr>\n",
       "    <tr>\n",
       "      <th>2</th>\n",
       "      <td>1000_2</td>\n",
       "      <td>2018-08-04</td>\n",
       "      <td>1000</td>\n",
       "      <td>2018-08</td>\n",
       "      <td>ultra</td>\n",
       "      <td>Краснодар</td>\n",
       "    </tr>\n",
       "  </tbody>\n",
       "</table>\n",
       "</div>"
      ],
      "text/plain": [
       "       id message_date  user_id    month tariff       city\n",
       "0  1000_0   2018-06-27     1000  2018-06  ultra  Краснодар\n",
       "1  1000_1   2018-10-08     1000  2018-10  ultra  Краснодар\n",
       "2  1000_2   2018-08-04     1000  2018-08  ultra  Краснодар"
      ]
     },
     "execution_count": 33,
     "metadata": {},
     "output_type": "execute_result"
    }
   ],
   "source": [
    "data_messages = join_tariff(data_messages)\n",
    "\n",
    "data_messages.head(3)"
   ]
  },
  {
   "cell_type": "code",
   "execution_count": 34,
   "id": "b36dc89a",
   "metadata": {},
   "outputs": [
    {
     "data": {
      "text/html": [
       "<div>\n",
       "<style scoped>\n",
       "    .dataframe tbody tr th:only-of-type {\n",
       "        vertical-align: middle;\n",
       "    }\n",
       "\n",
       "    .dataframe tbody tr th {\n",
       "        vertical-align: top;\n",
       "    }\n",
       "\n",
       "    .dataframe thead th {\n",
       "        text-align: right;\n",
       "    }\n",
       "</style>\n",
       "<table border=\"1\" class=\"dataframe\">\n",
       "  <thead>\n",
       "    <tr style=\"text-align: right;\">\n",
       "      <th></th>\n",
       "      <th>id</th>\n",
       "      <th>message_date</th>\n",
       "      <th>user_id</th>\n",
       "      <th>month</th>\n",
       "      <th>tariff</th>\n",
       "      <th>city</th>\n",
       "      <th>tariff_name</th>\n",
       "      <th>messages_included</th>\n",
       "      <th>rub_monthly_fee</th>\n",
       "      <th>rub_per_message</th>\n",
       "    </tr>\n",
       "  </thead>\n",
       "  <tbody>\n",
       "    <tr>\n",
       "      <th>0</th>\n",
       "      <td>1000_0</td>\n",
       "      <td>2018-06-27</td>\n",
       "      <td>1000</td>\n",
       "      <td>2018-06</td>\n",
       "      <td>ultra</td>\n",
       "      <td>Краснодар</td>\n",
       "      <td>ultra</td>\n",
       "      <td>1000</td>\n",
       "      <td>1950</td>\n",
       "      <td>1</td>\n",
       "    </tr>\n",
       "    <tr>\n",
       "      <th>1</th>\n",
       "      <td>1000_1</td>\n",
       "      <td>2018-10-08</td>\n",
       "      <td>1000</td>\n",
       "      <td>2018-10</td>\n",
       "      <td>ultra</td>\n",
       "      <td>Краснодар</td>\n",
       "      <td>ultra</td>\n",
       "      <td>1000</td>\n",
       "      <td>1950</td>\n",
       "      <td>1</td>\n",
       "    </tr>\n",
       "    <tr>\n",
       "      <th>2</th>\n",
       "      <td>1000_2</td>\n",
       "      <td>2018-08-04</td>\n",
       "      <td>1000</td>\n",
       "      <td>2018-08</td>\n",
       "      <td>ultra</td>\n",
       "      <td>Краснодар</td>\n",
       "      <td>ultra</td>\n",
       "      <td>1000</td>\n",
       "      <td>1950</td>\n",
       "      <td>1</td>\n",
       "    </tr>\n",
       "  </tbody>\n",
       "</table>\n",
       "</div>"
      ],
      "text/plain": [
       "       id message_date  user_id    month tariff       city tariff_name  \\\n",
       "0  1000_0   2018-06-27     1000  2018-06  ultra  Краснодар       ultra   \n",
       "1  1000_1   2018-10-08     1000  2018-10  ultra  Краснодар       ultra   \n",
       "2  1000_2   2018-08-04     1000  2018-08  ultra  Краснодар       ultra   \n",
       "\n",
       "   messages_included  rub_monthly_fee  rub_per_message  \n",
       "0               1000             1950                1  \n",
       "1               1000             1950                1  \n",
       "2               1000             1950                1  "
      ]
     },
     "execution_count": 34,
     "metadata": {},
     "output_type": "execute_result"
    }
   ],
   "source": [
    "data_messages = data_messages.merge(\n",
    "    data_tariffs[['tariff_name', 'messages_included', 'rub_monthly_fee', 'rub_per_message']],\n",
    "    left_on='tariff', right_on='tariff_name', how='left'\n",
    ")\n",
    "data_messages.head(3)"
   ]
  },
  {
   "cell_type": "markdown",
   "id": "533aad34",
   "metadata": {},
   "source": [
    "Создаем таблицу с количеством сообщений в разрезе месяцев и пользователей"
   ]
  },
  {
   "cell_type": "code",
   "execution_count": 35,
   "id": "3fc91208",
   "metadata": {},
   "outputs": [
    {
     "data": {
      "text/html": [
       "<div>\n",
       "<style scoped>\n",
       "    .dataframe tbody tr th:only-of-type {\n",
       "        vertical-align: middle;\n",
       "    }\n",
       "\n",
       "    .dataframe tbody tr th {\n",
       "        vertical-align: top;\n",
       "    }\n",
       "\n",
       "    .dataframe thead tr th {\n",
       "        text-align: left;\n",
       "    }\n",
       "</style>\n",
       "<table border=\"1\" class=\"dataframe\">\n",
       "  <thead>\n",
       "    <tr>\n",
       "      <th></th>\n",
       "      <th>user_id</th>\n",
       "      <th>month</th>\n",
       "      <th>tariff_name</th>\n",
       "      <th>messages_included</th>\n",
       "      <th>rub_per_message</th>\n",
       "      <th>count</th>\n",
       "    </tr>\n",
       "    <tr>\n",
       "      <th></th>\n",
       "      <th></th>\n",
       "      <th></th>\n",
       "      <th></th>\n",
       "      <th></th>\n",
       "      <th></th>\n",
       "      <th>message_date</th>\n",
       "    </tr>\n",
       "  </thead>\n",
       "  <tbody>\n",
       "    <tr>\n",
       "      <th>0</th>\n",
       "      <td>1000</td>\n",
       "      <td>2018-05</td>\n",
       "      <td>ultra</td>\n",
       "      <td>1000</td>\n",
       "      <td>1</td>\n",
       "      <td>22</td>\n",
       "    </tr>\n",
       "    <tr>\n",
       "      <th>1</th>\n",
       "      <td>1000</td>\n",
       "      <td>2018-06</td>\n",
       "      <td>ultra</td>\n",
       "      <td>1000</td>\n",
       "      <td>1</td>\n",
       "      <td>60</td>\n",
       "    </tr>\n",
       "    <tr>\n",
       "      <th>2</th>\n",
       "      <td>1000</td>\n",
       "      <td>2018-07</td>\n",
       "      <td>ultra</td>\n",
       "      <td>1000</td>\n",
       "      <td>1</td>\n",
       "      <td>75</td>\n",
       "    </tr>\n",
       "  </tbody>\n",
       "</table>\n",
       "</div>"
      ],
      "text/plain": [
       "  user_id    month tariff_name messages_included rub_per_message        count\n",
       "                                                                 message_date\n",
       "0    1000  2018-05       ultra              1000               1           22\n",
       "1    1000  2018-06       ultra              1000               1           60\n",
       "2    1000  2018-07       ultra              1000               1           75"
      ]
     },
     "execution_count": 35,
     "metadata": {},
     "output_type": "execute_result"
    }
   ],
   "source": [
    "stats_messages = data_messages.pivot_table(\n",
    "    index=['user_id','month','tariff_name', 'messages_included', 'rub_per_message'],\n",
    "    values='message_date', aggfunc=['count']).reset_index()\n",
    "stats_messages.head(3)"
   ]
  },
  {
   "cell_type": "markdown",
   "id": "254932f8",
   "metadata": {},
   "source": [
    "Создаем столбец __дополнительная плата за сообщения__:\n",
    "1. общее кол-во сообщений - кол-во, включенное в тариф\n",
    "2. отрицательные значения меняем на \"0\" (значит перерасхода не было)\n",
    "3. значения умножаем на стоимоть сообщения сверх пакета"
   ]
  },
  {
   "cell_type": "code",
   "execution_count": 36,
   "id": "8ac3de6f",
   "metadata": {},
   "outputs": [
    {
     "data": {
      "text/html": [
       "<div>\n",
       "<style scoped>\n",
       "    .dataframe tbody tr th:only-of-type {\n",
       "        vertical-align: middle;\n",
       "    }\n",
       "\n",
       "    .dataframe tbody tr th {\n",
       "        vertical-align: top;\n",
       "    }\n",
       "\n",
       "    .dataframe thead tr th {\n",
       "        text-align: left;\n",
       "    }\n",
       "</style>\n",
       "<table border=\"1\" class=\"dataframe\">\n",
       "  <thead>\n",
       "    <tr>\n",
       "      <th></th>\n",
       "      <th>user_id</th>\n",
       "      <th>month</th>\n",
       "      <th>tariff_name</th>\n",
       "      <th>messages_included</th>\n",
       "      <th>rub_per_message</th>\n",
       "      <th>count</th>\n",
       "      <th>add_payment_messages</th>\n",
       "    </tr>\n",
       "    <tr>\n",
       "      <th></th>\n",
       "      <th></th>\n",
       "      <th></th>\n",
       "      <th></th>\n",
       "      <th></th>\n",
       "      <th></th>\n",
       "      <th>message_date</th>\n",
       "      <th></th>\n",
       "    </tr>\n",
       "  </thead>\n",
       "  <tbody>\n",
       "    <tr>\n",
       "      <th>2714</th>\n",
       "      <td>1499</td>\n",
       "      <td>2018-10</td>\n",
       "      <td>smart</td>\n",
       "      <td>50</td>\n",
       "      <td>3</td>\n",
       "      <td>48</td>\n",
       "      <td>0</td>\n",
       "    </tr>\n",
       "    <tr>\n",
       "      <th>2715</th>\n",
       "      <td>1499</td>\n",
       "      <td>2018-11</td>\n",
       "      <td>smart</td>\n",
       "      <td>50</td>\n",
       "      <td>3</td>\n",
       "      <td>59</td>\n",
       "      <td>27</td>\n",
       "    </tr>\n",
       "    <tr>\n",
       "      <th>2716</th>\n",
       "      <td>1499</td>\n",
       "      <td>2018-12</td>\n",
       "      <td>smart</td>\n",
       "      <td>50</td>\n",
       "      <td>3</td>\n",
       "      <td>66</td>\n",
       "      <td>48</td>\n",
       "    </tr>\n",
       "  </tbody>\n",
       "</table>\n",
       "</div>"
      ],
      "text/plain": [
       "     user_id    month tariff_name messages_included rub_per_message  \\\n",
       "                                                                      \n",
       "2714    1499  2018-10       smart                50               3   \n",
       "2715    1499  2018-11       smart                50               3   \n",
       "2716    1499  2018-12       smart                50               3   \n",
       "\n",
       "            count add_payment_messages  \n",
       "     message_date                       \n",
       "2714           48                    0  \n",
       "2715           59                   27  \n",
       "2716           66                   48  "
      ]
     },
     "execution_count": 36,
     "metadata": {},
     "output_type": "execute_result"
    }
   ],
   "source": [
    "stats_messages['add_payment_messages'] = add_payment_column(\n",
    "    stats_messages['count']['message_date'], stats_messages['messages_included']\n",
    ") * stats_messages['rub_per_message']\n",
    "\n",
    "stats_messages.tail(3)"
   ]
  },
  {
   "cell_type": "markdown",
   "id": "8f162582",
   "metadata": {},
   "source": [
    "## Работа с трафиком"
   ]
  },
  {
   "cell_type": "code",
   "execution_count": 37,
   "id": "c0e3d7e5",
   "metadata": {},
   "outputs": [
    {
     "data": {
      "text/html": [
       "<div>\n",
       "<style scoped>\n",
       "    .dataframe tbody tr th:only-of-type {\n",
       "        vertical-align: middle;\n",
       "    }\n",
       "\n",
       "    .dataframe tbody tr th {\n",
       "        vertical-align: top;\n",
       "    }\n",
       "\n",
       "    .dataframe thead th {\n",
       "        text-align: right;\n",
       "    }\n",
       "</style>\n",
       "<table border=\"1\" class=\"dataframe\">\n",
       "  <thead>\n",
       "    <tr style=\"text-align: right;\">\n",
       "      <th></th>\n",
       "      <th>Unnamed: 0</th>\n",
       "      <th>id</th>\n",
       "      <th>mb_used</th>\n",
       "      <th>session_date</th>\n",
       "      <th>user_id</th>\n",
       "    </tr>\n",
       "  </thead>\n",
       "  <tbody>\n",
       "    <tr>\n",
       "      <th>0</th>\n",
       "      <td>0</td>\n",
       "      <td>1000_0</td>\n",
       "      <td>112.95</td>\n",
       "      <td>2018-11-25</td>\n",
       "      <td>1000</td>\n",
       "    </tr>\n",
       "    <tr>\n",
       "      <th>1</th>\n",
       "      <td>1</td>\n",
       "      <td>1000_1</td>\n",
       "      <td>1,052.81</td>\n",
       "      <td>2018-09-07</td>\n",
       "      <td>1000</td>\n",
       "    </tr>\n",
       "    <tr>\n",
       "      <th>2</th>\n",
       "      <td>2</td>\n",
       "      <td>1000_2</td>\n",
       "      <td>1,197.26</td>\n",
       "      <td>2018-06-25</td>\n",
       "      <td>1000</td>\n",
       "    </tr>\n",
       "    <tr>\n",
       "      <th>3</th>\n",
       "      <td>3</td>\n",
       "      <td>1000_3</td>\n",
       "      <td>550.27</td>\n",
       "      <td>2018-08-22</td>\n",
       "      <td>1000</td>\n",
       "    </tr>\n",
       "    <tr>\n",
       "      <th>4</th>\n",
       "      <td>4</td>\n",
       "      <td>1000_4</td>\n",
       "      <td>302.56</td>\n",
       "      <td>2018-09-24</td>\n",
       "      <td>1000</td>\n",
       "    </tr>\n",
       "  </tbody>\n",
       "</table>\n",
       "</div>"
      ],
      "text/plain": [
       "   Unnamed: 0      id  mb_used session_date  user_id\n",
       "0           0  1000_0   112.95   2018-11-25     1000\n",
       "1           1  1000_1 1,052.81   2018-09-07     1000\n",
       "2           2  1000_2 1,197.26   2018-06-25     1000\n",
       "3           3  1000_3   550.27   2018-08-22     1000\n",
       "4           4  1000_4   302.56   2018-09-24     1000"
      ]
     },
     "execution_count": 37,
     "metadata": {},
     "output_type": "execute_result"
    }
   ],
   "source": [
    "data_internet.head()"
   ]
  },
  {
   "cell_type": "markdown",
   "id": "1fe83ecc",
   "metadata": {},
   "source": [
    "Cоздаем столбец с месяцем"
   ]
  },
  {
   "cell_type": "code",
   "execution_count": 38,
   "id": "c3359ad9",
   "metadata": {},
   "outputs": [
    {
     "data": {
      "text/html": [
       "<div>\n",
       "<style scoped>\n",
       "    .dataframe tbody tr th:only-of-type {\n",
       "        vertical-align: middle;\n",
       "    }\n",
       "\n",
       "    .dataframe tbody tr th {\n",
       "        vertical-align: top;\n",
       "    }\n",
       "\n",
       "    .dataframe thead th {\n",
       "        text-align: right;\n",
       "    }\n",
       "</style>\n",
       "<table border=\"1\" class=\"dataframe\">\n",
       "  <thead>\n",
       "    <tr style=\"text-align: right;\">\n",
       "      <th></th>\n",
       "      <th>Unnamed: 0</th>\n",
       "      <th>id</th>\n",
       "      <th>mb_used</th>\n",
       "      <th>session_date</th>\n",
       "      <th>user_id</th>\n",
       "      <th>month</th>\n",
       "    </tr>\n",
       "  </thead>\n",
       "  <tbody>\n",
       "    <tr>\n",
       "      <th>0</th>\n",
       "      <td>0</td>\n",
       "      <td>1000_0</td>\n",
       "      <td>112.95</td>\n",
       "      <td>2018-11-25</td>\n",
       "      <td>1000</td>\n",
       "      <td>2018-11</td>\n",
       "    </tr>\n",
       "    <tr>\n",
       "      <th>1</th>\n",
       "      <td>1</td>\n",
       "      <td>1000_1</td>\n",
       "      <td>1,052.81</td>\n",
       "      <td>2018-09-07</td>\n",
       "      <td>1000</td>\n",
       "      <td>2018-09</td>\n",
       "    </tr>\n",
       "    <tr>\n",
       "      <th>2</th>\n",
       "      <td>2</td>\n",
       "      <td>1000_2</td>\n",
       "      <td>1,197.26</td>\n",
       "      <td>2018-06-25</td>\n",
       "      <td>1000</td>\n",
       "      <td>2018-06</td>\n",
       "    </tr>\n",
       "  </tbody>\n",
       "</table>\n",
       "</div>"
      ],
      "text/plain": [
       "   Unnamed: 0      id  mb_used session_date  user_id    month\n",
       "0           0  1000_0   112.95   2018-11-25     1000  2018-11\n",
       "1           1  1000_1 1,052.81   2018-09-07     1000  2018-09\n",
       "2           2  1000_2 1,197.26   2018-06-25     1000  2018-06"
      ]
     },
     "execution_count": 38,
     "metadata": {},
     "output_type": "execute_result"
    }
   ],
   "source": [
    "data_internet['month'] = type_date(data_internet['session_date'])\n",
    "\n",
    "data_internet.head(3)"
   ]
  },
  {
   "cell_type": "markdown",
   "id": "ccae9920",
   "metadata": {},
   "source": [
    "1. В таблицу __Интернет__ добавляем столбец __тариф__ из таблицы __Пользователи__\n",
    "2. В таблицу __Интернет__ добавляем столбцы __кол-во Мб в тарифе, стоимость тарифа в месяц, стоимостьГб в рублях__ из таблицы __Тарифы__"
   ]
  },
  {
   "cell_type": "code",
   "execution_count": 39,
   "id": "3330b6d3",
   "metadata": {},
   "outputs": [
    {
     "data": {
      "text/html": [
       "<div>\n",
       "<style scoped>\n",
       "    .dataframe tbody tr th:only-of-type {\n",
       "        vertical-align: middle;\n",
       "    }\n",
       "\n",
       "    .dataframe tbody tr th {\n",
       "        vertical-align: top;\n",
       "    }\n",
       "\n",
       "    .dataframe thead th {\n",
       "        text-align: right;\n",
       "    }\n",
       "</style>\n",
       "<table border=\"1\" class=\"dataframe\">\n",
       "  <thead>\n",
       "    <tr style=\"text-align: right;\">\n",
       "      <th></th>\n",
       "      <th>Unnamed: 0</th>\n",
       "      <th>id</th>\n",
       "      <th>mb_used</th>\n",
       "      <th>session_date</th>\n",
       "      <th>user_id</th>\n",
       "      <th>month</th>\n",
       "      <th>tariff</th>\n",
       "      <th>city</th>\n",
       "    </tr>\n",
       "  </thead>\n",
       "  <tbody>\n",
       "    <tr>\n",
       "      <th>0</th>\n",
       "      <td>0</td>\n",
       "      <td>1000_0</td>\n",
       "      <td>112.95</td>\n",
       "      <td>2018-11-25</td>\n",
       "      <td>1000</td>\n",
       "      <td>2018-11</td>\n",
       "      <td>ultra</td>\n",
       "      <td>Краснодар</td>\n",
       "    </tr>\n",
       "    <tr>\n",
       "      <th>1</th>\n",
       "      <td>1</td>\n",
       "      <td>1000_1</td>\n",
       "      <td>1,052.81</td>\n",
       "      <td>2018-09-07</td>\n",
       "      <td>1000</td>\n",
       "      <td>2018-09</td>\n",
       "      <td>ultra</td>\n",
       "      <td>Краснодар</td>\n",
       "    </tr>\n",
       "    <tr>\n",
       "      <th>2</th>\n",
       "      <td>2</td>\n",
       "      <td>1000_2</td>\n",
       "      <td>1,197.26</td>\n",
       "      <td>2018-06-25</td>\n",
       "      <td>1000</td>\n",
       "      <td>2018-06</td>\n",
       "      <td>ultra</td>\n",
       "      <td>Краснодар</td>\n",
       "    </tr>\n",
       "  </tbody>\n",
       "</table>\n",
       "</div>"
      ],
      "text/plain": [
       "   Unnamed: 0      id  mb_used session_date  user_id    month tariff  \\\n",
       "0           0  1000_0   112.95   2018-11-25     1000  2018-11  ultra   \n",
       "1           1  1000_1 1,052.81   2018-09-07     1000  2018-09  ultra   \n",
       "2           2  1000_2 1,197.26   2018-06-25     1000  2018-06  ultra   \n",
       "\n",
       "        city  \n",
       "0  Краснодар  \n",
       "1  Краснодар  \n",
       "2  Краснодар  "
      ]
     },
     "execution_count": 39,
     "metadata": {},
     "output_type": "execute_result"
    }
   ],
   "source": [
    "data_internet = join_tariff(data_internet)\n",
    "data_internet.head(3)"
   ]
  },
  {
   "cell_type": "code",
   "execution_count": 40,
   "id": "6098369c",
   "metadata": {},
   "outputs": [
    {
     "data": {
      "text/html": [
       "<div>\n",
       "<style scoped>\n",
       "    .dataframe tbody tr th:only-of-type {\n",
       "        vertical-align: middle;\n",
       "    }\n",
       "\n",
       "    .dataframe tbody tr th {\n",
       "        vertical-align: top;\n",
       "    }\n",
       "\n",
       "    .dataframe thead th {\n",
       "        text-align: right;\n",
       "    }\n",
       "</style>\n",
       "<table border=\"1\" class=\"dataframe\">\n",
       "  <thead>\n",
       "    <tr style=\"text-align: right;\">\n",
       "      <th></th>\n",
       "      <th>Unnamed: 0</th>\n",
       "      <th>id</th>\n",
       "      <th>mb_used</th>\n",
       "      <th>session_date</th>\n",
       "      <th>user_id</th>\n",
       "      <th>month</th>\n",
       "      <th>tariff</th>\n",
       "      <th>city</th>\n",
       "      <th>tariff_name</th>\n",
       "      <th>mb_per_month_included</th>\n",
       "      <th>rub_monthly_fee</th>\n",
       "      <th>rub_per_gb</th>\n",
       "    </tr>\n",
       "  </thead>\n",
       "  <tbody>\n",
       "    <tr>\n",
       "      <th>0</th>\n",
       "      <td>0</td>\n",
       "      <td>1000_0</td>\n",
       "      <td>112.95</td>\n",
       "      <td>2018-11-25</td>\n",
       "      <td>1000</td>\n",
       "      <td>2018-11</td>\n",
       "      <td>ultra</td>\n",
       "      <td>Краснодар</td>\n",
       "      <td>ultra</td>\n",
       "      <td>30720</td>\n",
       "      <td>1950</td>\n",
       "      <td>150</td>\n",
       "    </tr>\n",
       "    <tr>\n",
       "      <th>1</th>\n",
       "      <td>1</td>\n",
       "      <td>1000_1</td>\n",
       "      <td>1,052.81</td>\n",
       "      <td>2018-09-07</td>\n",
       "      <td>1000</td>\n",
       "      <td>2018-09</td>\n",
       "      <td>ultra</td>\n",
       "      <td>Краснодар</td>\n",
       "      <td>ultra</td>\n",
       "      <td>30720</td>\n",
       "      <td>1950</td>\n",
       "      <td>150</td>\n",
       "    </tr>\n",
       "    <tr>\n",
       "      <th>2</th>\n",
       "      <td>2</td>\n",
       "      <td>1000_2</td>\n",
       "      <td>1,197.26</td>\n",
       "      <td>2018-06-25</td>\n",
       "      <td>1000</td>\n",
       "      <td>2018-06</td>\n",
       "      <td>ultra</td>\n",
       "      <td>Краснодар</td>\n",
       "      <td>ultra</td>\n",
       "      <td>30720</td>\n",
       "      <td>1950</td>\n",
       "      <td>150</td>\n",
       "    </tr>\n",
       "  </tbody>\n",
       "</table>\n",
       "</div>"
      ],
      "text/plain": [
       "   Unnamed: 0      id  mb_used session_date  user_id    month tariff  \\\n",
       "0           0  1000_0   112.95   2018-11-25     1000  2018-11  ultra   \n",
       "1           1  1000_1 1,052.81   2018-09-07     1000  2018-09  ultra   \n",
       "2           2  1000_2 1,197.26   2018-06-25     1000  2018-06  ultra   \n",
       "\n",
       "        city tariff_name  mb_per_month_included  rub_monthly_fee  rub_per_gb  \n",
       "0  Краснодар       ultra                  30720             1950         150  \n",
       "1  Краснодар       ultra                  30720             1950         150  \n",
       "2  Краснодар       ultra                  30720             1950         150  "
      ]
     },
     "execution_count": 40,
     "metadata": {},
     "output_type": "execute_result"
    }
   ],
   "source": [
    "data_internet = data_internet.merge(\n",
    "    data_tariffs[['tariff_name', 'mb_per_month_included', 'rub_monthly_fee', 'rub_per_gb']],\n",
    "    left_on='tariff', right_on='tariff_name', how='left'\n",
    ")\n",
    "data_internet.head(3)"
   ]
  },
  {
   "cell_type": "markdown",
   "id": "2092591f",
   "metadata": {},
   "source": [
    "1. Создаем таблицу с количеством израсходованных Мб в разрезе месяцев и пользователей\n",
    "2. Добавляем столбец с округленным кол-вом Мб согласно условиям тарифа"
   ]
  },
  {
   "cell_type": "code",
   "execution_count": 41,
   "id": "8c17f4c9",
   "metadata": {},
   "outputs": [
    {
     "data": {
      "text/html": [
       "<div>\n",
       "<style scoped>\n",
       "    .dataframe tbody tr th:only-of-type {\n",
       "        vertical-align: middle;\n",
       "    }\n",
       "\n",
       "    .dataframe tbody tr th {\n",
       "        vertical-align: top;\n",
       "    }\n",
       "\n",
       "    .dataframe thead tr th {\n",
       "        text-align: left;\n",
       "    }\n",
       "</style>\n",
       "<table border=\"1\" class=\"dataframe\">\n",
       "  <thead>\n",
       "    <tr>\n",
       "      <th></th>\n",
       "      <th>user_id</th>\n",
       "      <th>month</th>\n",
       "      <th>tariff_name</th>\n",
       "      <th>mb_per_month_included</th>\n",
       "      <th>rub_per_gb</th>\n",
       "      <th>rub_monthly_fee</th>\n",
       "      <th>city</th>\n",
       "      <th>sum</th>\n",
       "    </tr>\n",
       "    <tr>\n",
       "      <th></th>\n",
       "      <th></th>\n",
       "      <th></th>\n",
       "      <th></th>\n",
       "      <th></th>\n",
       "      <th></th>\n",
       "      <th></th>\n",
       "      <th></th>\n",
       "      <th>mb_used</th>\n",
       "    </tr>\n",
       "  </thead>\n",
       "  <tbody>\n",
       "    <tr>\n",
       "      <th>0</th>\n",
       "      <td>1000</td>\n",
       "      <td>2018-05</td>\n",
       "      <td>ultra</td>\n",
       "      <td>30720</td>\n",
       "      <td>150</td>\n",
       "      <td>1950</td>\n",
       "      <td>Краснодар</td>\n",
       "      <td>2,253.49</td>\n",
       "    </tr>\n",
       "    <tr>\n",
       "      <th>1</th>\n",
       "      <td>1000</td>\n",
       "      <td>2018-06</td>\n",
       "      <td>ultra</td>\n",
       "      <td>30720</td>\n",
       "      <td>150</td>\n",
       "      <td>1950</td>\n",
       "      <td>Краснодар</td>\n",
       "      <td>23,233.77</td>\n",
       "    </tr>\n",
       "    <tr>\n",
       "      <th>2</th>\n",
       "      <td>1000</td>\n",
       "      <td>2018-07</td>\n",
       "      <td>ultra</td>\n",
       "      <td>30720</td>\n",
       "      <td>150</td>\n",
       "      <td>1950</td>\n",
       "      <td>Краснодар</td>\n",
       "      <td>14,003.64</td>\n",
       "    </tr>\n",
       "  </tbody>\n",
       "</table>\n",
       "</div>"
      ],
      "text/plain": [
       "  user_id    month tariff_name mb_per_month_included rub_per_gb  \\\n",
       "                                                                  \n",
       "0    1000  2018-05       ultra                 30720        150   \n",
       "1    1000  2018-06       ultra                 30720        150   \n",
       "2    1000  2018-07       ultra                 30720        150   \n",
       "\n",
       "  rub_monthly_fee       city       sum  \n",
       "                               mb_used  \n",
       "0            1950  Краснодар  2,253.49  \n",
       "1            1950  Краснодар 23,233.77  \n",
       "2            1950  Краснодар 14,003.64  "
      ]
     },
     "execution_count": 41,
     "metadata": {},
     "output_type": "execute_result"
    }
   ],
   "source": [
    "stats_internet = data_internet.pivot_table(\n",
    "    index=['user_id','month','tariff_name', 'mb_per_month_included', 'rub_per_gb', 'rub_monthly_fee', 'city'],\n",
    "    values='mb_used', aggfunc=['sum']).reset_index()\n",
    "stats_internet.head(3)"
   ]
  },
  {
   "cell_type": "code",
   "execution_count": 42,
   "id": "7a300696",
   "metadata": {},
   "outputs": [
    {
     "data": {
      "text/html": [
       "<div>\n",
       "<style scoped>\n",
       "    .dataframe tbody tr th:only-of-type {\n",
       "        vertical-align: middle;\n",
       "    }\n",
       "\n",
       "    .dataframe tbody tr th {\n",
       "        vertical-align: top;\n",
       "    }\n",
       "\n",
       "    .dataframe thead tr th {\n",
       "        text-align: left;\n",
       "    }\n",
       "</style>\n",
       "<table border=\"1\" class=\"dataframe\">\n",
       "  <thead>\n",
       "    <tr>\n",
       "      <th></th>\n",
       "      <th>user_id</th>\n",
       "      <th>month</th>\n",
       "      <th>tariff_name</th>\n",
       "      <th>mb_per_month_included</th>\n",
       "      <th>rub_per_gb</th>\n",
       "      <th>rub_monthly_fee</th>\n",
       "      <th>city</th>\n",
       "      <th>sum</th>\n",
       "      <th>rounded_mb_used</th>\n",
       "    </tr>\n",
       "    <tr>\n",
       "      <th></th>\n",
       "      <th></th>\n",
       "      <th></th>\n",
       "      <th></th>\n",
       "      <th></th>\n",
       "      <th></th>\n",
       "      <th></th>\n",
       "      <th></th>\n",
       "      <th>mb_used</th>\n",
       "      <th></th>\n",
       "    </tr>\n",
       "  </thead>\n",
       "  <tbody>\n",
       "    <tr>\n",
       "      <th>0</th>\n",
       "      <td>1000</td>\n",
       "      <td>2018-05</td>\n",
       "      <td>ultra</td>\n",
       "      <td>30720</td>\n",
       "      <td>150</td>\n",
       "      <td>1950</td>\n",
       "      <td>Краснодар</td>\n",
       "      <td>2,253.49</td>\n",
       "      <td>3,072.00</td>\n",
       "    </tr>\n",
       "    <tr>\n",
       "      <th>1</th>\n",
       "      <td>1000</td>\n",
       "      <td>2018-06</td>\n",
       "      <td>ultra</td>\n",
       "      <td>30720</td>\n",
       "      <td>150</td>\n",
       "      <td>1950</td>\n",
       "      <td>Краснодар</td>\n",
       "      <td>23,233.77</td>\n",
       "      <td>23,552.00</td>\n",
       "    </tr>\n",
       "    <tr>\n",
       "      <th>2</th>\n",
       "      <td>1000</td>\n",
       "      <td>2018-07</td>\n",
       "      <td>ultra</td>\n",
       "      <td>30720</td>\n",
       "      <td>150</td>\n",
       "      <td>1950</td>\n",
       "      <td>Краснодар</td>\n",
       "      <td>14,003.64</td>\n",
       "      <td>14,336.00</td>\n",
       "    </tr>\n",
       "  </tbody>\n",
       "</table>\n",
       "</div>"
      ],
      "text/plain": [
       "  user_id    month tariff_name mb_per_month_included rub_per_gb  \\\n",
       "                                                                  \n",
       "0    1000  2018-05       ultra                 30720        150   \n",
       "1    1000  2018-06       ultra                 30720        150   \n",
       "2    1000  2018-07       ultra                 30720        150   \n",
       "\n",
       "  rub_monthly_fee       city       sum rounded_mb_used  \n",
       "                               mb_used                  \n",
       "0            1950  Краснодар  2,253.49        3,072.00  \n",
       "1            1950  Краснодар 23,233.77       23,552.00  \n",
       "2            1950  Краснодар 14,003.64       14,336.00  "
      ]
     },
     "execution_count": 42,
     "metadata": {},
     "output_type": "execute_result"
    }
   ],
   "source": [
    "stats_internet['rounded_mb_used'] = np.ceil(stats_internet['sum']['mb_used'] / 1024) * 1024\n",
    "stats_internet.head(3)"
   ]
  },
  {
   "cell_type": "markdown",
   "id": "5b4067be",
   "metadata": {},
   "source": [
    "Создаем столбец __дополнительная плата за трафик__:\n",
    "1. общее кол-во Мб - кол-во, включенное в тариф\n",
    "2. отрицательные значения меняем на \"0\" (значит перерасхода не было)\n",
    "3. значения переводим в Гб и умножаем на стоимоть Гб сверх пакета\n",
    "4. отрицательные значения вновь меняем на \"0\""
   ]
  },
  {
   "cell_type": "code",
   "execution_count": 43,
   "id": "18896845",
   "metadata": {},
   "outputs": [
    {
     "data": {
      "text/html": [
       "<div>\n",
       "<style scoped>\n",
       "    .dataframe tbody tr th:only-of-type {\n",
       "        vertical-align: middle;\n",
       "    }\n",
       "\n",
       "    .dataframe tbody tr th {\n",
       "        vertical-align: top;\n",
       "    }\n",
       "\n",
       "    .dataframe thead tr th {\n",
       "        text-align: left;\n",
       "    }\n",
       "</style>\n",
       "<table border=\"1\" class=\"dataframe\">\n",
       "  <thead>\n",
       "    <tr>\n",
       "      <th></th>\n",
       "      <th>user_id</th>\n",
       "      <th>month</th>\n",
       "      <th>tariff_name</th>\n",
       "      <th>mb_per_month_included</th>\n",
       "      <th>rub_per_gb</th>\n",
       "      <th>rub_monthly_fee</th>\n",
       "      <th>city</th>\n",
       "      <th>sum</th>\n",
       "      <th>rounded_mb_used</th>\n",
       "      <th>add_payment_internet</th>\n",
       "    </tr>\n",
       "    <tr>\n",
       "      <th></th>\n",
       "      <th></th>\n",
       "      <th></th>\n",
       "      <th></th>\n",
       "      <th></th>\n",
       "      <th></th>\n",
       "      <th></th>\n",
       "      <th></th>\n",
       "      <th>mb_used</th>\n",
       "      <th></th>\n",
       "      <th></th>\n",
       "    </tr>\n",
       "  </thead>\n",
       "  <tbody>\n",
       "    <tr>\n",
       "      <th>3200</th>\n",
       "      <td>1499</td>\n",
       "      <td>2018-10</td>\n",
       "      <td>smart</td>\n",
       "      <td>15360</td>\n",
       "      <td>200</td>\n",
       "      <td>550</td>\n",
       "      <td>Пермь</td>\n",
       "      <td>17,788.51</td>\n",
       "      <td>18,432.00</td>\n",
       "      <td>600.00</td>\n",
       "    </tr>\n",
       "    <tr>\n",
       "      <th>3201</th>\n",
       "      <td>1499</td>\n",
       "      <td>2018-11</td>\n",
       "      <td>smart</td>\n",
       "      <td>15360</td>\n",
       "      <td>200</td>\n",
       "      <td>550</td>\n",
       "      <td>Пермь</td>\n",
       "      <td>17,963.31</td>\n",
       "      <td>18,432.00</td>\n",
       "      <td>600.00</td>\n",
       "    </tr>\n",
       "    <tr>\n",
       "      <th>3202</th>\n",
       "      <td>1499</td>\n",
       "      <td>2018-12</td>\n",
       "      <td>smart</td>\n",
       "      <td>15360</td>\n",
       "      <td>200</td>\n",
       "      <td>550</td>\n",
       "      <td>Пермь</td>\n",
       "      <td>13,055.58</td>\n",
       "      <td>13,312.00</td>\n",
       "      <td>0.00</td>\n",
       "    </tr>\n",
       "  </tbody>\n",
       "</table>\n",
       "</div>"
      ],
      "text/plain": [
       "     user_id    month tariff_name mb_per_month_included rub_per_gb  \\\n",
       "                                                                     \n",
       "3200    1499  2018-10       smart                 15360        200   \n",
       "3201    1499  2018-11       smart                 15360        200   \n",
       "3202    1499  2018-12       smart                 15360        200   \n",
       "\n",
       "     rub_monthly_fee   city       sum rounded_mb_used add_payment_internet  \n",
       "                              mb_used                                       \n",
       "3200             550  Пермь 17,788.51       18,432.00               600.00  \n",
       "3201             550  Пермь 17,963.31       18,432.00               600.00  \n",
       "3202             550  Пермь 13,055.58       13,312.00                 0.00  "
      ]
     },
     "execution_count": 43,
     "metadata": {},
     "output_type": "execute_result"
    }
   ],
   "source": [
    "stats_internet['add_payment_internet'] = (add_payment_column(\n",
    "    stats_internet['rounded_mb_used'], stats_internet['mb_per_month_included']\n",
    ") / 1024) * stats_internet['rub_per_gb']\n",
    "\n",
    "stats_internet.tail(3)"
   ]
  },
  {
   "cell_type": "markdown",
   "id": "7d99f894",
   "metadata": {},
   "source": [
    "## Всего выручка"
   ]
  },
  {
   "cell_type": "markdown",
   "id": "c950ebb0",
   "metadata": {},
   "source": [
    "Создаем таблицу с общими расходами сверх лимитов тарифов:\n",
    "\n",
    "1.1 из статистической таблицы _интернет_ добавляем столбцы __месяц; имя тарифа; плата за мегабайт сверх лимита__\n",
    "\n",
    "1.2 из статистической таблицы _звонки_ добавляем столбец __плата за звонки сверх лимита; месяная плата за тариф; город пользователя__\n",
    "\n",
    "2. из статистической таблицы _сообщений_ добавляем столбец __плата за сообщения сверх лимита__\n"
   ]
  },
  {
   "cell_type": "code",
   "execution_count": 44,
   "id": "576129ce",
   "metadata": {},
   "outputs": [
    {
     "data": {
      "text/html": [
       "<div>\n",
       "<style scoped>\n",
       "    .dataframe tbody tr th:only-of-type {\n",
       "        vertical-align: middle;\n",
       "    }\n",
       "\n",
       "    .dataframe tbody tr th {\n",
       "        vertical-align: top;\n",
       "    }\n",
       "\n",
       "    .dataframe thead tr th {\n",
       "        text-align: left;\n",
       "    }\n",
       "</style>\n",
       "<table border=\"1\" class=\"dataframe\">\n",
       "  <thead>\n",
       "    <tr>\n",
       "      <th></th>\n",
       "      <th>user_id</th>\n",
       "      <th>month</th>\n",
       "      <th>tariff_name</th>\n",
       "      <th>add_payment_internet</th>\n",
       "      <th>rub_monthly_fee</th>\n",
       "      <th>city</th>\n",
       "      <th>add_payment_calls</th>\n",
       "    </tr>\n",
       "    <tr>\n",
       "      <th></th>\n",
       "      <th></th>\n",
       "      <th></th>\n",
       "      <th></th>\n",
       "      <th></th>\n",
       "      <th></th>\n",
       "      <th></th>\n",
       "      <th></th>\n",
       "    </tr>\n",
       "  </thead>\n",
       "  <tbody>\n",
       "    <tr>\n",
       "      <th>0</th>\n",
       "      <td>1000</td>\n",
       "      <td>2018-05</td>\n",
       "      <td>ultra</td>\n",
       "      <td>0.00</td>\n",
       "      <td>1950</td>\n",
       "      <td>Краснодар</td>\n",
       "      <td>0.00</td>\n",
       "    </tr>\n",
       "    <tr>\n",
       "      <th>1</th>\n",
       "      <td>1000</td>\n",
       "      <td>2018-06</td>\n",
       "      <td>ultra</td>\n",
       "      <td>0.00</td>\n",
       "      <td>1950</td>\n",
       "      <td>Краснодар</td>\n",
       "      <td>0.00</td>\n",
       "    </tr>\n",
       "    <tr>\n",
       "      <th>2</th>\n",
       "      <td>1000</td>\n",
       "      <td>2018-07</td>\n",
       "      <td>ultra</td>\n",
       "      <td>0.00</td>\n",
       "      <td>1950</td>\n",
       "      <td>Краснодар</td>\n",
       "      <td>0.00</td>\n",
       "    </tr>\n",
       "  </tbody>\n",
       "</table>\n",
       "</div>"
      ],
      "text/plain": [
       "  user_id    month tariff_name add_payment_internet rub_monthly_fee  \\\n",
       "                                                                      \n",
       "0    1000  2018-05       ultra                 0.00            1950   \n",
       "1    1000  2018-06       ultra                 0.00            1950   \n",
       "2    1000  2018-07       ultra                 0.00            1950   \n",
       "\n",
       "        city add_payment_calls  \n",
       "                                \n",
       "0  Краснодар              0.00  \n",
       "1  Краснодар              0.00  \n",
       "2  Краснодар              0.00  "
      ]
     },
     "execution_count": 44,
     "metadata": {},
     "output_type": "execute_result"
    }
   ],
   "source": [
    "data_total = stats_internet[\n",
    "    ['user_id', 'month', 'tariff_name', 'add_payment_internet','rub_monthly_fee','city']\n",
    "].merge(\n",
    "    stats_calls[['user_id', 'month', 'add_payment_calls']], \n",
    "    on=['user_id', 'month'], how='left'\n",
    ")\n",
    "\n",
    "data_total.head(3)"
   ]
  },
  {
   "cell_type": "code",
   "execution_count": 45,
   "id": "1653c106",
   "metadata": {
    "scrolled": false
   },
   "outputs": [
    {
     "data": {
      "text/html": [
       "<div>\n",
       "<style scoped>\n",
       "    .dataframe tbody tr th:only-of-type {\n",
       "        vertical-align: middle;\n",
       "    }\n",
       "\n",
       "    .dataframe tbody tr th {\n",
       "        vertical-align: top;\n",
       "    }\n",
       "\n",
       "    .dataframe thead tr th {\n",
       "        text-align: left;\n",
       "    }\n",
       "</style>\n",
       "<table border=\"1\" class=\"dataframe\">\n",
       "  <thead>\n",
       "    <tr>\n",
       "      <th></th>\n",
       "      <th>user_id</th>\n",
       "      <th>month</th>\n",
       "      <th>tariff_name</th>\n",
       "      <th>add_payment_internet</th>\n",
       "      <th>rub_monthly_fee</th>\n",
       "      <th>city</th>\n",
       "      <th>add_payment_calls</th>\n",
       "      <th>add_payment_messages</th>\n",
       "    </tr>\n",
       "    <tr>\n",
       "      <th></th>\n",
       "      <th></th>\n",
       "      <th></th>\n",
       "      <th></th>\n",
       "      <th></th>\n",
       "      <th></th>\n",
       "      <th></th>\n",
       "      <th></th>\n",
       "      <th></th>\n",
       "    </tr>\n",
       "  </thead>\n",
       "  <tbody>\n",
       "    <tr>\n",
       "      <th>0</th>\n",
       "      <td>1000</td>\n",
       "      <td>2018-05</td>\n",
       "      <td>ultra</td>\n",
       "      <td>0.00</td>\n",
       "      <td>1950</td>\n",
       "      <td>Краснодар</td>\n",
       "      <td>0.00</td>\n",
       "      <td>0.00</td>\n",
       "    </tr>\n",
       "    <tr>\n",
       "      <th>1</th>\n",
       "      <td>1000</td>\n",
       "      <td>2018-06</td>\n",
       "      <td>ultra</td>\n",
       "      <td>0.00</td>\n",
       "      <td>1950</td>\n",
       "      <td>Краснодар</td>\n",
       "      <td>0.00</td>\n",
       "      <td>0.00</td>\n",
       "    </tr>\n",
       "    <tr>\n",
       "      <th>2</th>\n",
       "      <td>1000</td>\n",
       "      <td>2018-07</td>\n",
       "      <td>ultra</td>\n",
       "      <td>0.00</td>\n",
       "      <td>1950</td>\n",
       "      <td>Краснодар</td>\n",
       "      <td>0.00</td>\n",
       "      <td>0.00</td>\n",
       "    </tr>\n",
       "  </tbody>\n",
       "</table>\n",
       "</div>"
      ],
      "text/plain": [
       "  user_id    month tariff_name add_payment_internet rub_monthly_fee  \\\n",
       "                                                                      \n",
       "0    1000  2018-05       ultra                 0.00            1950   \n",
       "1    1000  2018-06       ultra                 0.00            1950   \n",
       "2    1000  2018-07       ultra                 0.00            1950   \n",
       "\n",
       "        city add_payment_calls add_payment_messages  \n",
       "                                                     \n",
       "0  Краснодар              0.00                 0.00  \n",
       "1  Краснодар              0.00                 0.00  \n",
       "2  Краснодар              0.00                 0.00  "
      ]
     },
     "execution_count": 45,
     "metadata": {},
     "output_type": "execute_result"
    }
   ],
   "source": [
    "data_total = data_total.merge(\n",
    "    stats_messages[['user_id', 'month', 'add_payment_messages']], on=['user_id', 'month'], how='left'\n",
    ")\n",
    "\n",
    "data_total.head(3)"
   ]
  },
  {
   "cell_type": "code",
   "execution_count": 46,
   "id": "7960005a",
   "metadata": {
    "scrolled": true
   },
   "outputs": [
    {
     "data": {
      "text/plain": [
       "497"
      ]
     },
     "execution_count": 46,
     "metadata": {},
     "output_type": "execute_result"
    }
   ],
   "source": [
    "data_total.user_id.nunique()"
   ]
  },
  {
   "cell_type": "markdown",
   "id": "cafec7f5",
   "metadata": {},
   "source": [
    "1. Проверяем на наличие пропусков\n",
    "2. Пропуски появились при объединении таблиц, так как кол-во записей в таблицах разное. Объединяли путем добавления в таблицу, где больше всего записей (статистическая таблица _интернет_) с использованием 'left'\n",
    "3. В столбцах __ст-ть сверх пакета звонков__ и __ст-ть сверх пакета сообщений__ заменяем пропуски на ноль для возможности корректной работы с данными"
   ]
  },
  {
   "cell_type": "code",
   "execution_count": 47,
   "id": "3d90aaa3",
   "metadata": {
    "scrolled": true
   },
   "outputs": [
    {
     "data": {
      "text/plain": [
       "user_id                     0\n",
       "month                       0\n",
       "tariff_name                 0\n",
       "add_payment_internet        0\n",
       "rub_monthly_fee             0\n",
       "city                        0\n",
       "add_payment_calls          40\n",
       "add_payment_messages      497\n",
       "dtype: int64"
      ]
     },
     "execution_count": 47,
     "metadata": {},
     "output_type": "execute_result"
    }
   ],
   "source": [
    "data_total.isna().sum()"
   ]
  },
  {
   "cell_type": "code",
   "execution_count": 48,
   "id": "95072ad6",
   "metadata": {},
   "outputs": [],
   "source": [
    "data_total['add_payment_calls'] = data_total['add_payment_calls'].fillna(0)"
   ]
  },
  {
   "cell_type": "code",
   "execution_count": 49,
   "id": "53f5352d",
   "metadata": {},
   "outputs": [],
   "source": [
    "data_total['add_payment_messages'] = data_total['add_payment_messages'].fillna(0)"
   ]
  },
  {
   "cell_type": "markdown",
   "id": "e6b9f8d9",
   "metadata": {},
   "source": [
    "1. Создаем столбец всего плата сверх пакета (звонки + минуты + трафик)\n",
    "2. Создаем столбец выручка (месячная плата + плата сверх пакета)\n",
    "3. Проверяем данные по таблице"
   ]
  },
  {
   "cell_type": "code",
   "execution_count": 50,
   "id": "13003cd6",
   "metadata": {},
   "outputs": [],
   "source": [
    "data_total['add_payment_total'] = (\n",
    "    data_total['add_payment_calls'] \n",
    "    + data_total['add_payment_messages']\n",
    "    + data_total['add_payment_internet']\n",
    ")"
   ]
  },
  {
   "cell_type": "code",
   "execution_count": 51,
   "id": "7d795481",
   "metadata": {},
   "outputs": [
    {
     "data": {
      "text/html": [
       "<div>\n",
       "<style scoped>\n",
       "    .dataframe tbody tr th:only-of-type {\n",
       "        vertical-align: middle;\n",
       "    }\n",
       "\n",
       "    .dataframe tbody tr th {\n",
       "        vertical-align: top;\n",
       "    }\n",
       "\n",
       "    .dataframe thead tr th {\n",
       "        text-align: left;\n",
       "    }\n",
       "</style>\n",
       "<table border=\"1\" class=\"dataframe\">\n",
       "  <thead>\n",
       "    <tr>\n",
       "      <th></th>\n",
       "      <th>user_id</th>\n",
       "      <th>month</th>\n",
       "      <th>tariff_name</th>\n",
       "      <th>add_payment_internet</th>\n",
       "      <th>rub_monthly_fee</th>\n",
       "      <th>city</th>\n",
       "      <th>add_payment_calls</th>\n",
       "      <th>add_payment_messages</th>\n",
       "      <th>add_payment_total</th>\n",
       "      <th>revenue</th>\n",
       "    </tr>\n",
       "    <tr>\n",
       "      <th></th>\n",
       "      <th></th>\n",
       "      <th></th>\n",
       "      <th></th>\n",
       "      <th></th>\n",
       "      <th></th>\n",
       "      <th></th>\n",
       "      <th></th>\n",
       "      <th></th>\n",
       "      <th></th>\n",
       "      <th></th>\n",
       "    </tr>\n",
       "  </thead>\n",
       "  <tbody>\n",
       "    <tr>\n",
       "      <th>3200</th>\n",
       "      <td>1499</td>\n",
       "      <td>2018-10</td>\n",
       "      <td>smart</td>\n",
       "      <td>600.00</td>\n",
       "      <td>550</td>\n",
       "      <td>Пермь</td>\n",
       "      <td>0.00</td>\n",
       "      <td>0.00</td>\n",
       "      <td>600.00</td>\n",
       "      <td>1,150.00</td>\n",
       "    </tr>\n",
       "    <tr>\n",
       "      <th>3201</th>\n",
       "      <td>1499</td>\n",
       "      <td>2018-11</td>\n",
       "      <td>smart</td>\n",
       "      <td>600.00</td>\n",
       "      <td>550</td>\n",
       "      <td>Пермь</td>\n",
       "      <td>336.00</td>\n",
       "      <td>27.00</td>\n",
       "      <td>963.00</td>\n",
       "      <td>1,513.00</td>\n",
       "    </tr>\n",
       "    <tr>\n",
       "      <th>3202</th>\n",
       "      <td>1499</td>\n",
       "      <td>2018-12</td>\n",
       "      <td>smart</td>\n",
       "      <td>0.00</td>\n",
       "      <td>550</td>\n",
       "      <td>Пермь</td>\n",
       "      <td>0.00</td>\n",
       "      <td>48.00</td>\n",
       "      <td>48.00</td>\n",
       "      <td>598.00</td>\n",
       "    </tr>\n",
       "  </tbody>\n",
       "</table>\n",
       "</div>"
      ],
      "text/plain": [
       "     user_id    month tariff_name add_payment_internet rub_monthly_fee   city  \\\n",
       "                                                                                \n",
       "3200    1499  2018-10       smart               600.00             550  Пермь   \n",
       "3201    1499  2018-11       smart               600.00             550  Пермь   \n",
       "3202    1499  2018-12       smart                 0.00             550  Пермь   \n",
       "\n",
       "     add_payment_calls add_payment_messages add_payment_total  revenue  \n",
       "                                                                        \n",
       "3200              0.00                 0.00            600.00 1,150.00  \n",
       "3201            336.00                27.00            963.00 1,513.00  \n",
       "3202              0.00                48.00             48.00   598.00  "
      ]
     },
     "execution_count": 51,
     "metadata": {},
     "output_type": "execute_result"
    }
   ],
   "source": [
    "data_total['revenue'] = data_total['rub_monthly_fee'] + data_total['add_payment_total']\n",
    "\n",
    "data_total.tail(3)"
   ]
  },
  {
   "cell_type": "code",
   "execution_count": 52,
   "id": "c292f189",
   "metadata": {
    "scrolled": true
   },
   "outputs": [
    {
     "name": "stdout",
     "output_type": "stream",
     "text": [
      "<class 'pandas.core.frame.DataFrame'>\n",
      "Int64Index: 3203 entries, 0 to 3202\n",
      "Data columns (total 10 columns):\n",
      " #   Column                    Non-Null Count  Dtype    \n",
      "---  ------                    --------------  -----    \n",
      " 0   (user_id, )               3203 non-null   int64    \n",
      " 1   (month, )                 3203 non-null   period[M]\n",
      " 2   (tariff_name, )           3203 non-null   object   \n",
      " 3   (add_payment_internet, )  3203 non-null   float64  \n",
      " 4   (rub_monthly_fee, )       3203 non-null   int64    \n",
      " 5   (city, )                  3203 non-null   object   \n",
      " 6   (add_payment_calls, )     3203 non-null   float64  \n",
      " 7   (add_payment_messages, )  3203 non-null   float64  \n",
      " 8   (add_payment_total, )     3203 non-null   float64  \n",
      " 9   (revenue, )               3203 non-null   float64  \n",
      "dtypes: float64(5), int64(2), object(2), period[M](1)\n",
      "memory usage: 275.3+ KB\n"
     ]
    }
   ],
   "source": [
    "data_total.info()"
   ]
  },
  {
   "cell_type": "markdown",
   "id": "6d517d76",
   "metadata": {},
   "source": [
    "# Анализ данных"
   ]
  },
  {
   "cell_type": "markdown",
   "id": "7f219038",
   "metadata": {},
   "source": [
    "## Звонки"
   ]
  },
  {
   "cell_type": "code",
   "execution_count": 53,
   "id": "a76acf09",
   "metadata": {
    "scrolled": false
   },
   "outputs": [
    {
     "data": {
      "text/html": [
       "<div>\n",
       "<style scoped>\n",
       "    .dataframe tbody tr th:only-of-type {\n",
       "        vertical-align: middle;\n",
       "    }\n",
       "\n",
       "    .dataframe tbody tr th {\n",
       "        vertical-align: top;\n",
       "    }\n",
       "\n",
       "    .dataframe thead tr th {\n",
       "        text-align: left;\n",
       "    }\n",
       "\n",
       "    .dataframe thead tr:last-of-type th {\n",
       "        text-align: right;\n",
       "    }\n",
       "</style>\n",
       "<table border=\"1\" class=\"dataframe\">\n",
       "  <thead>\n",
       "    <tr>\n",
       "      <th></th>\n",
       "      <th>add_payment_calls</th>\n",
       "      <th>sum</th>\n",
       "    </tr>\n",
       "    <tr>\n",
       "      <th></th>\n",
       "      <th></th>\n",
       "      <th>rounded_duration</th>\n",
       "    </tr>\n",
       "    <tr>\n",
       "      <th>tariff_name</th>\n",
       "      <th></th>\n",
       "      <th></th>\n",
       "    </tr>\n",
       "  </thead>\n",
       "  <tbody>\n",
       "    <tr>\n",
       "      <th>smart</th>\n",
       "      <td>125.15</td>\n",
       "      <td>419.06</td>\n",
       "    </tr>\n",
       "    <tr>\n",
       "      <th>ultra</th>\n",
       "      <td>0.00</td>\n",
       "      <td>545.45</td>\n",
       "    </tr>\n",
       "  </tbody>\n",
       "</table>\n",
       "</div>"
      ],
      "text/plain": [
       "            add_payment_calls              sum\n",
       "                              rounded_duration\n",
       "tariff_name                                   \n",
       "smart                  125.15           419.06\n",
       "ultra                    0.00           545.45"
      ]
     },
     "execution_count": 53,
     "metadata": {},
     "output_type": "execute_result"
    }
   ],
   "source": [
    "stats_calls.pivot_table(index='tariff_name', values=['sum','add_payment_calls'], aggfunc='mean')"
   ]
  },
  {
   "cell_type": "markdown",
   "id": "d4c6f48e",
   "metadata": {},
   "source": [
    "Формируем срезы по тарифам"
   ]
  },
  {
   "cell_type": "code",
   "execution_count": 54,
   "id": "451a2334",
   "metadata": {},
   "outputs": [],
   "source": [
    "stats_smart = stats_calls.loc[stats_calls['tariff_name'] == \"smart\"]"
   ]
  },
  {
   "cell_type": "code",
   "execution_count": 55,
   "id": "0cc450ac",
   "metadata": {},
   "outputs": [],
   "source": [
    "stats_ultra = stats_calls.loc[stats_calls['tariff_name'] == \"ultra\"]"
   ]
  },
  {
   "cell_type": "markdown",
   "id": "ec2bacb1",
   "metadata": {},
   "source": [
    "Пользователи тарифа Смарт чаще всего проговаривают от 350 до 550 минут в месяц"
   ]
  },
  {
   "cell_type": "code",
   "execution_count": 56,
   "id": "fe7325c0",
   "metadata": {
    "scrolled": true
   },
   "outputs": [
    {
     "data": {
      "text/plain": [
       "array([[<AxesSubplot:title={'center':\"('sum', 'rounded_duration')\"}>]],\n",
       "      dtype=object)"
      ]
     },
     "execution_count": 56,
     "metadata": {},
     "output_type": "execute_result"
    },
    {
     "data": {
      "image/png": "[encoded data removed]",
      "text/plain": [
       "<Figure size 432x288 with 1 Axes>"
      ]
     },
     "metadata": {
      "needs_background": "light"
     },
     "output_type": "display_data"
    }
   ],
   "source": [
    "stats_smart.hist('sum', bins=70) # количество потраченных минут в месяц тариф Смарт"
   ]
  },
  {
   "cell_type": "code",
   "execution_count": 57,
   "id": "5ccf325a",
   "metadata": {},
   "outputs": [
    {
     "data": {
      "text/plain": [
       "rounded_duration\n",
       "437                 10\n",
       "348                  9\n",
       "532                  9\n",
       "290                  9\n",
       "401                  9\n",
       "dtype: int64"
      ]
     },
     "execution_count": 57,
     "metadata": {},
     "output_type": "execute_result"
    }
   ],
   "source": [
    "stats_smart['sum'].value_counts().head(5)"
   ]
  },
  {
   "cell_type": "markdown",
   "id": "a2e21bc4",
   "metadata": {},
   "source": [
    "Пользователи тарифа Ультра чаще всего проговаривают от 500 до 700 минут в месяц"
   ]
  },
  {
   "cell_type": "code",
   "execution_count": 58,
   "id": "3ee36833",
   "metadata": {},
   "outputs": [
    {
     "data": {
      "text/plain": [
       "array([[<AxesSubplot:title={'center':\"('sum', 'rounded_duration')\"}>]],\n",
       "      dtype=object)"
      ]
     },
     "execution_count": 58,
     "metadata": {},
     "output_type": "execute_result"
    },
    {
     "data": {
      "image/png": "[encoded data removed]",
      "text/plain": [
       "<Figure size 432x288 with 1 Axes>"
      ]
     },
     "metadata": {
      "needs_background": "light"
     },
     "output_type": "display_data"
    }
   ],
   "source": [
    "stats_ultra.hist('sum', bins=70) # количество потраченных минут в месяц тариф Ультра"
   ]
  },
  {
   "cell_type": "code",
   "execution_count": 59,
   "id": "5d802cd9",
   "metadata": {},
   "outputs": [
    {
     "data": {
      "text/plain": [
       "rounded_duration\n",
       "567                 5\n",
       "813                 5\n",
       "368                 5\n",
       "0                   4\n",
       "627                 4\n",
       "dtype: int64"
      ]
     },
     "execution_count": 59,
     "metadata": {},
     "output_type": "execute_result"
    }
   ],
   "source": [
    "stats_ultra['sum'].value_counts().head()"
   ]
  },
  {
   "cell_type": "markdown",
   "id": "885d9d0c",
   "metadata": {},
   "source": [
    "На тарифе Смарт свыше 935 минут в месяц считается выбросами и встречается крайне редко"
   ]
  },
  {
   "cell_type": "code",
   "execution_count": 60,
   "id": "5adc336d",
   "metadata": {
    "scrolled": true
   },
   "outputs": [
    {
     "data": {
      "text/plain": [
       "<function matplotlib.pyplot.show(close=None, block=None)>"
      ]
     },
     "execution_count": 60,
     "metadata": {},
     "output_type": "execute_result"
    },
    {
     "data": {
      "image/png": "[encoded data removed]",
      "text/plain": [
       "<Figure size 432x288 with 1 Axes>"
      ]
     },
     "metadata": {
      "needs_background": "light"
     },
     "output_type": "display_data"
    }
   ],
   "source": [
    "plt.boxplot(stats_smart['sum']['rounded_duration'])\n",
    "plt.show"
   ]
  },
  {
   "cell_type": "code",
   "execution_count": 61,
   "id": "8ce9b0e5",
   "metadata": {},
   "outputs": [
    {
     "data": {
      "text/plain": [
       "count   2,223.00\n",
       "mean      419.06\n",
       "std       189.33\n",
       "min         0.00\n",
       "25%       285.00\n",
       "50%       423.00\n",
       "75%       545.50\n",
       "max     1,435.00\n",
       "Name: rounded_duration, dtype: float64"
      ]
     },
     "execution_count": 61,
     "metadata": {},
     "output_type": "execute_result"
    }
   ],
   "source": [
    "stats_smart['sum']['rounded_duration'].describe()"
   ]
  },
  {
   "cell_type": "markdown",
   "id": "03f8090e",
   "metadata": {},
   "source": [
    "Для тарифа Ультра значения свыше 1425 минут в месяц считаются выбросами, так как встречаются крайне редко"
   ]
  },
  {
   "cell_type": "code",
   "execution_count": 62,
   "id": "00dd5bb4",
   "metadata": {},
   "outputs": [
    {
     "data": {
      "text/plain": [
       "<function matplotlib.pyplot.show(close=None, block=None)>"
      ]
     },
     "execution_count": 62,
     "metadata": {},
     "output_type": "execute_result"
    },
    {
     "data": {
      "image/png": "[encoded data removed]",
      "text/plain": [
       "<Figure size 432x288 with 1 Axes>"
      ]
     },
     "metadata": {
      "needs_background": "light"
     },
     "output_type": "display_data"
    }
   ],
   "source": [
    "plt.boxplot(stats_ultra['sum']['rounded_duration'])\n",
    "plt.show"
   ]
  },
  {
   "cell_type": "code",
   "execution_count": 63,
   "id": "2312912d",
   "metadata": {
    "scrolled": true
   },
   "outputs": [
    {
     "data": {
      "text/plain": [
       "count     951.00\n",
       "mean      545.45\n",
       "std       306.93\n",
       "min         0.00\n",
       "25%       310.00\n",
       "50%       528.00\n",
       "75%       756.50\n",
       "max     1,673.00\n",
       "Name: rounded_duration, dtype: float64"
      ]
     },
     "execution_count": 63,
     "metadata": {},
     "output_type": "execute_result"
    }
   ],
   "source": [
    "stats_ultra['sum']['rounded_duration'].describe()"
   ]
  },
  {
   "cell_type": "markdown",
   "id": "d1f80f8c",
   "metadata": {},
   "source": [
    "Количество затраченных минут на тарифе Смарт нормально распеределено вокруг среднего 419 минут"
   ]
  },
  {
   "cell_type": "code",
   "execution_count": 64,
   "id": "a6cad126",
   "metadata": {
    "scrolled": false
   },
   "outputs": [
    {
     "data": {
      "text/plain": [
       "<AxesSubplot:ylabel='Density'>"
      ]
     },
     "execution_count": 64,
     "metadata": {},
     "output_type": "execute_result"
    },
    {
     "data": {
      "image/png": "[encoded data removed]",
      "text/plain": [
       "<Figure size 648x360 with 1 Axes>"
      ]
     },
     "metadata": {
      "needs_background": "light"
     },
     "output_type": "display_data"
    }
   ],
   "source": [
    "stats_smart.pivot_table(index='month', values='sum', aggfunc='mean').plot(kind='kde', grid=True, figsize=(9, 5))"
   ]
  },
  {
   "cell_type": "code",
   "execution_count": 65,
   "id": "fbeec3d8",
   "metadata": {},
   "outputs": [
    {
     "data": {
      "text/plain": [
       "rounded_duration   35,844.19\n",
       "dtype: float64"
      ]
     },
     "execution_count": 65,
     "metadata": {},
     "output_type": "execute_result"
    }
   ],
   "source": [
    "variance_calls_smart = np.var(stats_smart['sum'], ddof=1)\n",
    "variance_calls_smart"
   ]
  },
  {
   "cell_type": "code",
   "execution_count": 66,
   "id": "b7c1dbd0",
   "metadata": {},
   "outputs": [
    {
     "data": {
      "text/plain": [
       "rounded_duration   189.33\n",
       "dtype: float64"
      ]
     },
     "execution_count": 66,
     "metadata": {},
     "output_type": "execute_result"
    }
   ],
   "source": [
    "std_dev_calls_smart = np.sqrt(variance_calls_smart)\n",
    "std_dev_calls_smart"
   ]
  },
  {
   "cell_type": "markdown",
   "id": "bc3ab1c3",
   "metadata": {},
   "source": [
    "Количество затраченных минут на тарифе Ультра нормально распеределено вокруг среднего 545 минут"
   ]
  },
  {
   "cell_type": "code",
   "execution_count": 67,
   "id": "a21c2660",
   "metadata": {
    "scrolled": true
   },
   "outputs": [
    {
     "data": {
      "text/plain": [
       "<AxesSubplot:ylabel='Density'>"
      ]
     },
     "execution_count": 67,
     "metadata": {},
     "output_type": "execute_result"
    },
    {
     "data": {
      "image/png": "[encoded data removed]",
      "text/plain": [
       "<Figure size 648x360 with 1 Axes>"
      ]
     },
     "metadata": {
      "needs_background": "light"
     },
     "output_type": "display_data"
    }
   ],
   "source": [
    "stats_ultra.pivot_table(index='month', values='sum', aggfunc='mean').plot(kind='kde', grid=True, figsize=(9, 5))"
   ]
  },
  {
   "cell_type": "code",
   "execution_count": 68,
   "id": "cbe2c13b",
   "metadata": {},
   "outputs": [
    {
     "data": {
      "text/plain": [
       "rounded_duration   94,203.42\n",
       "dtype: float64"
      ]
     },
     "execution_count": 68,
     "metadata": {},
     "output_type": "execute_result"
    }
   ],
   "source": [
    "variance_calls_ultra = np.var(stats_ultra['sum'], ddof=1)\n",
    "variance_calls_ultra"
   ]
  },
  {
   "cell_type": "code",
   "execution_count": 69,
   "id": "5fa2a8fc",
   "metadata": {},
   "outputs": [
    {
     "data": {
      "text/plain": [
       "rounded_duration   306.93\n",
       "dtype: float64"
      ]
     },
     "execution_count": 69,
     "metadata": {},
     "output_type": "execute_result"
    }
   ],
   "source": [
    "std_dev_calls_ultra = np.sqrt(variance_calls_ultra)\n",
    "std_dev_calls_ultra"
   ]
  },
  {
   "cell_type": "markdown",
   "id": "1a0df460",
   "metadata": {},
   "source": [
    "## Сообщения"
   ]
  },
  {
   "cell_type": "code",
   "execution_count": 70,
   "id": "9bcdf136",
   "metadata": {
    "scrolled": true
   },
   "outputs": [
    {
     "data": {
      "text/html": [
       "<div>\n",
       "<style scoped>\n",
       "    .dataframe tbody tr th:only-of-type {\n",
       "        vertical-align: middle;\n",
       "    }\n",
       "\n",
       "    .dataframe tbody tr th {\n",
       "        vertical-align: top;\n",
       "    }\n",
       "\n",
       "    .dataframe thead tr th {\n",
       "        text-align: left;\n",
       "    }\n",
       "\n",
       "    .dataframe thead tr:last-of-type th {\n",
       "        text-align: right;\n",
       "    }\n",
       "</style>\n",
       "<table border=\"1\" class=\"dataframe\">\n",
       "  <thead>\n",
       "    <tr>\n",
       "      <th></th>\n",
       "      <th>add_payment_messages</th>\n",
       "      <th>count</th>\n",
       "    </tr>\n",
       "    <tr>\n",
       "      <th></th>\n",
       "      <th></th>\n",
       "      <th>message_date</th>\n",
       "    </tr>\n",
       "    <tr>\n",
       "      <th>tariff_name</th>\n",
       "      <th></th>\n",
       "      <th></th>\n",
       "    </tr>\n",
       "  </thead>\n",
       "  <tbody>\n",
       "    <tr>\n",
       "      <th>smart</th>\n",
       "      <td>20.18</td>\n",
       "      <td>38.72</td>\n",
       "    </tr>\n",
       "    <tr>\n",
       "      <th>ultra</th>\n",
       "      <td>0.00</td>\n",
       "      <td>61.16</td>\n",
       "    </tr>\n",
       "  </tbody>\n",
       "</table>\n",
       "</div>"
      ],
      "text/plain": [
       "            add_payment_messages        count\n",
       "                                 message_date\n",
       "tariff_name                                  \n",
       "smart                      20.18        38.72\n",
       "ultra                       0.00        61.16"
      ]
     },
     "execution_count": 70,
     "metadata": {},
     "output_type": "execute_result"
    }
   ],
   "source": [
    "stats_messages.pivot_table(index='tariff_name', values=['count', 'add_payment_messages'], aggfunc='mean')"
   ]
  },
  {
   "cell_type": "markdown",
   "id": "ca3ff849",
   "metadata": {},
   "source": [
    "Делаем срез данным по Тарифам"
   ]
  },
  {
   "cell_type": "code",
   "execution_count": 71,
   "id": "a3d5939a",
   "metadata": {},
   "outputs": [],
   "source": [
    "smart_messages = stats_messages.loc[stats_messages['tariff_name'] == \"smart\"]"
   ]
  },
  {
   "cell_type": "code",
   "execution_count": 72,
   "id": "c9101f26",
   "metadata": {},
   "outputs": [],
   "source": [
    "ultra_messages = stats_messages.loc[stats_messages['tariff_name'] == \"ultra\"]"
   ]
  },
  {
   "cell_type": "markdown",
   "id": "6b11796d",
   "metadata": {},
   "source": [
    "__Тариф Смарт__"
   ]
  },
  {
   "cell_type": "code",
   "execution_count": 73,
   "id": "26d97216",
   "metadata": {
    "scrolled": true
   },
   "outputs": [
    {
     "data": {
      "text/plain": [
       "array([[<AxesSubplot:title={'center':'message_date'}>]], dtype=object)"
      ]
     },
     "execution_count": 73,
     "metadata": {},
     "output_type": "execute_result"
    },
    {
     "data": {
      "image/png": "[encoded data removed]",
      "text/plain": [
       "<Figure size 432x288 with 1 Axes>"
      ]
     },
     "metadata": {
      "needs_background": "light"
     },
     "output_type": "display_data"
    }
   ],
   "source": [
    "smart_messages['count'].hist(bins=30) # количество отправленных сообщений в месяц тариф Смарт"
   ]
  },
  {
   "cell_type": "code",
   "execution_count": 74,
   "id": "7fc19203",
   "metadata": {},
   "outputs": [
    {
     "data": {
      "text/plain": [
       "message_date\n",
       "20              39\n",
       "16              38\n",
       "13              37\n",
       "14              36\n",
       "25              35\n",
       "dtype: int64"
      ]
     },
     "execution_count": 74,
     "metadata": {},
     "output_type": "execute_result"
    }
   ],
   "source": [
    "smart_messages['count'].value_counts().head()"
   ]
  },
  {
   "cell_type": "markdown",
   "id": "a047ec10",
   "metadata": {},
   "source": [
    "Пользователи тарифа Смарт крайне редко отправляют более 112 сообщений в месяц"
   ]
  },
  {
   "cell_type": "code",
   "execution_count": 75,
   "id": "cd4227a0",
   "metadata": {},
   "outputs": [
    {
     "data": {
      "text/plain": [
       "<function matplotlib.pyplot.show(close=None, block=None)>"
      ]
     },
     "execution_count": 75,
     "metadata": {},
     "output_type": "execute_result"
    },
    {
     "data": {
      "image/png": "[encoded data removed]",
      "text/plain": [
       "<Figure size 432x288 with 1 Axes>"
      ]
     },
     "metadata": {
      "needs_background": "light"
     },
     "output_type": "display_data"
    }
   ],
   "source": [
    "plt.boxplot(smart_messages['count'])\n",
    "plt.show"
   ]
  },
  {
   "cell_type": "code",
   "execution_count": 76,
   "id": "afd7bde8",
   "metadata": {
    "scrolled": true
   },
   "outputs": [
    {
     "data": {
      "text/html": [
       "<div>\n",
       "<style scoped>\n",
       "    .dataframe tbody tr th:only-of-type {\n",
       "        vertical-align: middle;\n",
       "    }\n",
       "\n",
       "    .dataframe tbody tr th {\n",
       "        vertical-align: top;\n",
       "    }\n",
       "\n",
       "    .dataframe thead th {\n",
       "        text-align: right;\n",
       "    }\n",
       "</style>\n",
       "<table border=\"1\" class=\"dataframe\">\n",
       "  <thead>\n",
       "    <tr style=\"text-align: right;\">\n",
       "      <th></th>\n",
       "      <th>message_date</th>\n",
       "    </tr>\n",
       "  </thead>\n",
       "  <tbody>\n",
       "    <tr>\n",
       "      <th>count</th>\n",
       "      <td>1,922.00</td>\n",
       "    </tr>\n",
       "    <tr>\n",
       "      <th>mean</th>\n",
       "      <td>38.72</td>\n",
       "    </tr>\n",
       "    <tr>\n",
       "      <th>std</th>\n",
       "      <td>26.79</td>\n",
       "    </tr>\n",
       "    <tr>\n",
       "      <th>min</th>\n",
       "      <td>1.00</td>\n",
       "    </tr>\n",
       "    <tr>\n",
       "      <th>25%</th>\n",
       "      <td>17.00</td>\n",
       "    </tr>\n",
       "    <tr>\n",
       "      <th>50%</th>\n",
       "      <td>34.00</td>\n",
       "    </tr>\n",
       "    <tr>\n",
       "      <th>75%</th>\n",
       "      <td>55.00</td>\n",
       "    </tr>\n",
       "    <tr>\n",
       "      <th>max</th>\n",
       "      <td>143.00</td>\n",
       "    </tr>\n",
       "  </tbody>\n",
       "</table>\n",
       "</div>"
      ],
      "text/plain": [
       "       message_date\n",
       "count      1,922.00\n",
       "mean          38.72\n",
       "std           26.79\n",
       "min            1.00\n",
       "25%           17.00\n",
       "50%           34.00\n",
       "75%           55.00\n",
       "max          143.00"
      ]
     },
     "execution_count": 76,
     "metadata": {},
     "output_type": "execute_result"
    }
   ],
   "source": [
    "smart_messages['count'].describe()"
   ]
  },
  {
   "cell_type": "markdown",
   "id": "68519614",
   "metadata": {},
   "source": [
    "Количество сообщений в месяц нормально распределено вокруг среднего в 39 сообщений"
   ]
  },
  {
   "cell_type": "code",
   "execution_count": 77,
   "id": "876ad58b",
   "metadata": {},
   "outputs": [
    {
     "data": {
      "text/plain": [
       "<AxesSubplot:ylabel='Density'>"
      ]
     },
     "execution_count": 77,
     "metadata": {},
     "output_type": "execute_result"
    },
    {
     "data": {
      "image/png": "[encoded data removed]",
      "text/plain": [
       "<Figure size 648x360 with 1 Axes>"
      ]
     },
     "metadata": {
      "needs_background": "light"
     },
     "output_type": "display_data"
    }
   ],
   "source": [
    "smart_messages.pivot_table(index='month', values='count', aggfunc='mean').plot(kind='kde', grid=True, figsize=(9, 5))"
   ]
  },
  {
   "cell_type": "code",
   "execution_count": 78,
   "id": "9afe3ac4",
   "metadata": {},
   "outputs": [
    {
     "data": {
      "text/plain": [
       "message_date   717.59\n",
       "dtype: float64"
      ]
     },
     "execution_count": 78,
     "metadata": {},
     "output_type": "execute_result"
    }
   ],
   "source": [
    "variance_messages_smart = np.var(smart_messages['count'], ddof=1)\n",
    "variance_messages_smart"
   ]
  },
  {
   "cell_type": "code",
   "execution_count": 79,
   "id": "9a40f0e7",
   "metadata": {},
   "outputs": [
    {
     "data": {
      "text/plain": [
       "message_date   26.79\n",
       "dtype: float64"
      ]
     },
     "execution_count": 79,
     "metadata": {},
     "output_type": "execute_result"
    }
   ],
   "source": [
    "std_dev_messages_smart = np.sqrt(variance_messages_smart)\n",
    "std_dev_messages_smart"
   ]
  },
  {
   "cell_type": "markdown",
   "id": "6c62b454",
   "metadata": {},
   "source": [
    "__Тариф Ультра__"
   ]
  },
  {
   "cell_type": "code",
   "execution_count": 80,
   "id": "59e604ba",
   "metadata": {},
   "outputs": [
    {
     "data": {
      "text/plain": [
       "array([[<AxesSubplot:title={'center':'message_date'}>]], dtype=object)"
      ]
     },
     "execution_count": 80,
     "metadata": {},
     "output_type": "execute_result"
    },
    {
     "data": {
      "image/png": "[encoded data removed]",
      "text/plain": [
       "<Figure size 432x288 with 1 Axes>"
      ]
     },
     "metadata": {
      "needs_background": "light"
     },
     "output_type": "display_data"
    }
   ],
   "source": [
    "ultra_messages['count'].hist(bins=30) # количество отправленных сообщений в месяц тариф Ультра"
   ]
  },
  {
   "cell_type": "code",
   "execution_count": 81,
   "id": "610943ce",
   "metadata": {},
   "outputs": [
    {
     "data": {
      "text/plain": [
       "message_date\n",
       "20              13\n",
       "6               13\n",
       "40              13\n",
       "18              12\n",
       "17              12\n",
       "dtype: int64"
      ]
     },
     "execution_count": 81,
     "metadata": {},
     "output_type": "execute_result"
    }
   ],
   "source": [
    "ultra_messages['count'].value_counts().head()"
   ]
  },
  {
   "cell_type": "markdown",
   "id": "f0032fc9",
   "metadata": {},
   "source": [
    "Пользователи тарифа Ультра крайне редко отправляют более 183 сообщений в месяц. А максимальное количество отправленных в месяц сообщений равняетя 224. При включенных в тариф Ультра 1000 сообщений в месяц."
   ]
  },
  {
   "cell_type": "code",
   "execution_count": 82,
   "id": "404954b3",
   "metadata": {},
   "outputs": [
    {
     "data": {
      "text/plain": [
       "<function matplotlib.pyplot.show(close=None, block=None)>"
      ]
     },
     "execution_count": 82,
     "metadata": {},
     "output_type": "execute_result"
    },
    {
     "data": {
      "image/png": "[encoded data removed]",
      "text/plain": [
       "<Figure size 432x288 with 1 Axes>"
      ]
     },
     "metadata": {
      "needs_background": "light"
     },
     "output_type": "display_data"
    }
   ],
   "source": [
    "plt.boxplot(ultra_messages['count'])\n",
    "plt.show"
   ]
  },
  {
   "cell_type": "code",
   "execution_count": 83,
   "id": "df870426",
   "metadata": {},
   "outputs": [
    {
     "data": {
      "text/html": [
       "<div>\n",
       "<style scoped>\n",
       "    .dataframe tbody tr th:only-of-type {\n",
       "        vertical-align: middle;\n",
       "    }\n",
       "\n",
       "    .dataframe tbody tr th {\n",
       "        vertical-align: top;\n",
       "    }\n",
       "\n",
       "    .dataframe thead th {\n",
       "        text-align: right;\n",
       "    }\n",
       "</style>\n",
       "<table border=\"1\" class=\"dataframe\">\n",
       "  <thead>\n",
       "    <tr style=\"text-align: right;\">\n",
       "      <th></th>\n",
       "      <th>message_date</th>\n",
       "    </tr>\n",
       "  </thead>\n",
       "  <tbody>\n",
       "    <tr>\n",
       "      <th>count</th>\n",
       "      <td>795.00</td>\n",
       "    </tr>\n",
       "    <tr>\n",
       "      <th>mean</th>\n",
       "      <td>61.16</td>\n",
       "    </tr>\n",
       "    <tr>\n",
       "      <th>std</th>\n",
       "      <td>45.93</td>\n",
       "    </tr>\n",
       "    <tr>\n",
       "      <th>min</th>\n",
       "      <td>1.00</td>\n",
       "    </tr>\n",
       "    <tr>\n",
       "      <th>25%</th>\n",
       "      <td>24.00</td>\n",
       "    </tr>\n",
       "    <tr>\n",
       "      <th>50%</th>\n",
       "      <td>51.00</td>\n",
       "    </tr>\n",
       "    <tr>\n",
       "      <th>75%</th>\n",
       "      <td>87.50</td>\n",
       "    </tr>\n",
       "    <tr>\n",
       "      <th>max</th>\n",
       "      <td>224.00</td>\n",
       "    </tr>\n",
       "  </tbody>\n",
       "</table>\n",
       "</div>"
      ],
      "text/plain": [
       "       message_date\n",
       "count        795.00\n",
       "mean          61.16\n",
       "std           45.93\n",
       "min            1.00\n",
       "25%           24.00\n",
       "50%           51.00\n",
       "75%           87.50\n",
       "max          224.00"
      ]
     },
     "execution_count": 83,
     "metadata": {},
     "output_type": "execute_result"
    }
   ],
   "source": [
    "ultra_messages['count'].describe()"
   ]
  },
  {
   "cell_type": "code",
   "execution_count": 84,
   "id": "083b48ff",
   "metadata": {},
   "outputs": [
    {
     "data": {
      "text/plain": [
       "<AxesSubplot:ylabel='Density'>"
      ]
     },
     "execution_count": 84,
     "metadata": {},
     "output_type": "execute_result"
    },
    {
     "data": {
      "image/png": "[encoded data removed]",
      "text/plain": [
       "<Figure size 648x360 with 1 Axes>"
      ]
     },
     "metadata": {
      "needs_background": "light"
     },
     "output_type": "display_data"
    }
   ],
   "source": [
    "ultra_messages.pivot_table(index='month', values='count', aggfunc='mean').plot(kind='kde', grid=True, figsize=(9, 5))"
   ]
  },
  {
   "cell_type": "code",
   "execution_count": 85,
   "id": "736a9e89",
   "metadata": {
    "scrolled": true
   },
   "outputs": [
    {
     "data": {
      "text/plain": [
       "message_date   2,109.66\n",
       "dtype: float64"
      ]
     },
     "execution_count": 85,
     "metadata": {},
     "output_type": "execute_result"
    }
   ],
   "source": [
    "variance_messages_ultra = np.var(ultra_messages['count'], ddof=1)\n",
    "variance_messages_ultra"
   ]
  },
  {
   "cell_type": "code",
   "execution_count": 86,
   "id": "e29a4cef",
   "metadata": {
    "scrolled": true
   },
   "outputs": [
    {
     "data": {
      "text/plain": [
       "message_date   45.93\n",
       "dtype: float64"
      ]
     },
     "execution_count": 86,
     "metadata": {},
     "output_type": "execute_result"
    }
   ],
   "source": [
    "std_dev_messages_ultra = np.sqrt(variance_messages_ultra)\n",
    "std_dev_messages_ultra"
   ]
  },
  {
   "cell_type": "markdown",
   "id": "19c5ede4",
   "metadata": {},
   "source": [
    "## Интернет трафик"
   ]
  },
  {
   "cell_type": "code",
   "execution_count": 87,
   "id": "5ba7a4ff",
   "metadata": {
    "scrolled": false
   },
   "outputs": [
    {
     "data": {
      "text/html": [
       "<div>\n",
       "<style scoped>\n",
       "    .dataframe tbody tr th:only-of-type {\n",
       "        vertical-align: middle;\n",
       "    }\n",
       "\n",
       "    .dataframe tbody tr th {\n",
       "        vertical-align: top;\n",
       "    }\n",
       "\n",
       "    .dataframe thead tr th {\n",
       "        text-align: left;\n",
       "    }\n",
       "\n",
       "    .dataframe thead tr:last-of-type th {\n",
       "        text-align: right;\n",
       "    }\n",
       "</style>\n",
       "<table border=\"1\" class=\"dataframe\">\n",
       "  <thead>\n",
       "    <tr>\n",
       "      <th></th>\n",
       "      <th>add_payment_internet</th>\n",
       "      <th>rounded_mb_used</th>\n",
       "    </tr>\n",
       "    <tr>\n",
       "      <th></th>\n",
       "      <th></th>\n",
       "      <th></th>\n",
       "    </tr>\n",
       "    <tr>\n",
       "      <th>tariff_name</th>\n",
       "      <th></th>\n",
       "      <th></th>\n",
       "    </tr>\n",
       "  </thead>\n",
       "  <tbody>\n",
       "    <tr>\n",
       "      <th>smart</th>\n",
       "      <td>598.03</td>\n",
       "      <td>16,728.24</td>\n",
       "    </tr>\n",
       "    <tr>\n",
       "      <th>ultra</th>\n",
       "      <td>121.38</td>\n",
       "      <td>20,167.02</td>\n",
       "    </tr>\n",
       "  </tbody>\n",
       "</table>\n",
       "</div>"
      ],
      "text/plain": [
       "            add_payment_internet rounded_mb_used\n",
       "                                                \n",
       "tariff_name                                     \n",
       "smart                     598.03       16,728.24\n",
       "ultra                     121.38       20,167.02"
      ]
     },
     "execution_count": 87,
     "metadata": {},
     "output_type": "execute_result"
    }
   ],
   "source": [
    "stats_internet.pivot_table(index='tariff_name', values=['rounded_mb_used','add_payment_internet'], aggfunc='mean')"
   ]
  },
  {
   "cell_type": "markdown",
   "id": "8065f027",
   "metadata": {},
   "source": [
    "Делаем срез по тарифам"
   ]
  },
  {
   "cell_type": "code",
   "execution_count": 88,
   "id": "c9a511d0",
   "metadata": {},
   "outputs": [],
   "source": [
    "internet_smart = stats_internet.loc[stats_internet['tariff_name'] == \"smart\"]"
   ]
  },
  {
   "cell_type": "code",
   "execution_count": 89,
   "id": "431f68f5",
   "metadata": {},
   "outputs": [],
   "source": [
    "internet_ultra = stats_internet.loc[stats_internet['tariff_name'] == \"ultra\"]"
   ]
  },
  {
   "cell_type": "markdown",
   "id": "8bf13dd4",
   "metadata": {},
   "source": [
    "__Тариф Смарт__"
   ]
  },
  {
   "cell_type": "markdown",
   "id": "0f861518",
   "metadata": {},
   "source": [
    "Пользователи тарифа Смарт чаще всего в месяц тратят от 15 до 20 Гб в месяц"
   ]
  },
  {
   "cell_type": "code",
   "execution_count": 90,
   "id": "6862c2dc",
   "metadata": {
    "scrolled": true
   },
   "outputs": [
    {
     "data": {
      "text/plain": [
       "array([[<AxesSubplot:title={'center':'mb_used'}>]], dtype=object)"
      ]
     },
     "execution_count": 90,
     "metadata": {},
     "output_type": "execute_result"
    },
    {
     "data": {
      "image/png": "[encoded data removed]",
      "text/plain": [
       "<Figure size 432x288 with 1 Axes>"
      ]
     },
     "metadata": {
      "needs_background": "light"
     },
     "output_type": "display_data"
    }
   ],
   "source": [
    "internet_smart['sum'].hist(bins=50) # количество использованного траффика в МБ в месяц тариф Смарт"
   ]
  },
  {
   "cell_type": "code",
   "execution_count": 91,
   "id": "1d98944c",
   "metadata": {},
   "outputs": [
    {
     "data": {
      "text/plain": [
       "mb_used  \n",
       "0.00         1\n",
       "18,837.98    1\n",
       "18,802.13    1\n",
       "18,806.02    1\n",
       "18,811.52    1\n",
       "dtype: int64"
      ]
     },
     "execution_count": 91,
     "metadata": {},
     "output_type": "execute_result"
    }
   ],
   "source": [
    "internet_smart['sum'].value_counts().head()"
   ]
  },
  {
   "cell_type": "markdown",
   "id": "c8239bda",
   "metadata": {},
   "source": [
    "Пользователи тарифа Смарт крайне редко используют более 31 Гб траффика в месяц"
   ]
  },
  {
   "cell_type": "code",
   "execution_count": 92,
   "id": "3f1580c0",
   "metadata": {},
   "outputs": [
    {
     "data": {
      "text/plain": [
       "<function matplotlib.pyplot.show(close=None, block=None)>"
      ]
     },
     "execution_count": 92,
     "metadata": {},
     "output_type": "execute_result"
    },
    {
     "data": {
      "image/png": "[encoded data removed]",
      "text/plain": [
       "<Figure size 432x288 with 1 Axes>"
      ]
     },
     "metadata": {
      "needs_background": "light"
     },
     "output_type": "display_data"
    }
   ],
   "source": [
    "plt.boxplot(internet_smart['sum'])\n",
    "plt.show"
   ]
  },
  {
   "cell_type": "code",
   "execution_count": 93,
   "id": "c8239870",
   "metadata": {
    "scrolled": true
   },
   "outputs": [
    {
     "data": {
      "text/html": [
       "<div>\n",
       "<style scoped>\n",
       "    .dataframe tbody tr th:only-of-type {\n",
       "        vertical-align: middle;\n",
       "    }\n",
       "\n",
       "    .dataframe tbody tr th {\n",
       "        vertical-align: top;\n",
       "    }\n",
       "\n",
       "    .dataframe thead th {\n",
       "        text-align: right;\n",
       "    }\n",
       "</style>\n",
       "<table border=\"1\" class=\"dataframe\">\n",
       "  <thead>\n",
       "    <tr style=\"text-align: right;\">\n",
       "      <th></th>\n",
       "      <th>mb_used</th>\n",
       "    </tr>\n",
       "  </thead>\n",
       "  <tbody>\n",
       "    <tr>\n",
       "      <th>count</th>\n",
       "      <td>2,228.00</td>\n",
       "    </tr>\n",
       "    <tr>\n",
       "      <th>mean</th>\n",
       "      <td>16,215.66</td>\n",
       "    </tr>\n",
       "    <tr>\n",
       "      <th>std</th>\n",
       "      <td>5,861.74</td>\n",
       "    </tr>\n",
       "    <tr>\n",
       "      <th>min</th>\n",
       "      <td>0.00</td>\n",
       "    </tr>\n",
       "    <tr>\n",
       "      <th>25%</th>\n",
       "      <td>12,649.27</td>\n",
       "    </tr>\n",
       "    <tr>\n",
       "      <th>50%</th>\n",
       "      <td>16,507.74</td>\n",
       "    </tr>\n",
       "    <tr>\n",
       "      <th>75%</th>\n",
       "      <td>20,043.79</td>\n",
       "    </tr>\n",
       "    <tr>\n",
       "      <th>max</th>\n",
       "      <td>38,552.45</td>\n",
       "    </tr>\n",
       "  </tbody>\n",
       "</table>\n",
       "</div>"
      ],
      "text/plain": [
       "        mb_used\n",
       "count  2,228.00\n",
       "mean  16,215.66\n",
       "std    5,861.74\n",
       "min        0.00\n",
       "25%   12,649.27\n",
       "50%   16,507.74\n",
       "75%   20,043.79\n",
       "max   38,552.45"
      ]
     },
     "execution_count": 93,
     "metadata": {},
     "output_type": "execute_result"
    }
   ],
   "source": [
    "internet_smart['sum'].describe()"
   ]
  },
  {
   "cell_type": "markdown",
   "id": "74c9c3e1",
   "metadata": {},
   "source": [
    "Количество сообщений в месяц нормально распределено вокруг среднего в 16 Гб"
   ]
  },
  {
   "cell_type": "code",
   "execution_count": 94,
   "id": "7eb2d491",
   "metadata": {},
   "outputs": [
    {
     "data": {
      "text/plain": [
       "<AxesSubplot:ylabel='Density'>"
      ]
     },
     "execution_count": 94,
     "metadata": {},
     "output_type": "execute_result"
    },
    {
     "data": {
      "image/png": "[encoded data removed]",
      "text/plain": [
       "<Figure size 648x360 with 1 Axes>"
      ]
     },
     "metadata": {
      "needs_background": "light"
     },
     "output_type": "display_data"
    }
   ],
   "source": [
    "internet_smart.pivot_table(index='month', values='sum', aggfunc='mean').plot(kind='kde', grid=True, figsize=(9, 5))"
   ]
  },
  {
   "cell_type": "code",
   "execution_count": 95,
   "id": "b91c39d6",
   "metadata": {},
   "outputs": [
    {
     "data": {
      "text/plain": [
       "mb_used   34,359,951.68\n",
       "dtype: float64"
      ]
     },
     "execution_count": 95,
     "metadata": {},
     "output_type": "execute_result"
    }
   ],
   "source": [
    "variance_internet_smart = np.var(internet_smart['sum'], ddof=1)\n",
    "variance_internet_smart"
   ]
  },
  {
   "cell_type": "code",
   "execution_count": 96,
   "id": "745a3fe7",
   "metadata": {},
   "outputs": [
    {
     "data": {
      "text/plain": [
       "mb_used   5,861.74\n",
       "dtype: float64"
      ]
     },
     "execution_count": 96,
     "metadata": {},
     "output_type": "execute_result"
    }
   ],
   "source": [
    "std_dev_internet_smart = np.sqrt(variance_internet_smart)\n",
    "std_dev_internet_smart"
   ]
  },
  {
   "cell_type": "markdown",
   "id": "fe58bdb4",
   "metadata": {},
   "source": [
    "__Тариф Ультра__"
   ]
  },
  {
   "cell_type": "markdown",
   "id": "0f8cb64b",
   "metadata": {},
   "source": [
    "Пользователи тарифа Смарт чаще всего в месяц тратят от 15 до 20 Гб в месяц"
   ]
  },
  {
   "cell_type": "code",
   "execution_count": 97,
   "id": "2f868113",
   "metadata": {
    "scrolled": true
   },
   "outputs": [
    {
     "data": {
      "text/plain": [
       "array([[<AxesSubplot:title={'center':'mb_used'}>]], dtype=object)"
      ]
     },
     "execution_count": 97,
     "metadata": {},
     "output_type": "execute_result"
    },
    {
     "data": {
      "image/png": "[encoded data removed]",
      "text/plain": [
       "<Figure size 432x288 with 1 Axes>"
      ]
     },
     "metadata": {
      "needs_background": "light"
     },
     "output_type": "display_data"
    }
   ],
   "source": [
    "internet_ultra['sum'].hist(bins=30) # количество использованного траффика в МБ в месяц тариф Ультра"
   ]
  },
  {
   "cell_type": "code",
   "execution_count": 98,
   "id": "525f8752",
   "metadata": {},
   "outputs": [
    {
     "data": {
      "text/plain": [
       "mb_used  \n",
       "0.00         1\n",
       "24,622.91    1\n",
       "23,422.76    1\n",
       "23,426.76    1\n",
       "23,449.02    1\n",
       "dtype: int64"
      ]
     },
     "execution_count": 98,
     "metadata": {},
     "output_type": "execute_result"
    }
   ],
   "source": [
    "internet_ultra['sum'].value_counts().head()"
   ]
  },
  {
   "cell_type": "markdown",
   "id": "041b5f39",
   "metadata": {},
   "source": [
    "Пользователи тарифа Смарт крайне редко используют более 50 Гб траффика в месяц"
   ]
  },
  {
   "cell_type": "code",
   "execution_count": 99,
   "id": "704bf286",
   "metadata": {},
   "outputs": [
    {
     "data": {
      "text/plain": [
       "<function matplotlib.pyplot.show(close=None, block=None)>"
      ]
     },
     "execution_count": 99,
     "metadata": {},
     "output_type": "execute_result"
    },
    {
     "data": {
      "image/png": "[encoded data removed]",
      "text/plain": [
       "<Figure size 432x288 with 1 Axes>"
      ]
     },
     "metadata": {
      "needs_background": "light"
     },
     "output_type": "display_data"
    }
   ],
   "source": [
    "plt.boxplot(internet_ultra['sum'])\n",
    "plt.show"
   ]
  },
  {
   "cell_type": "code",
   "execution_count": 100,
   "id": "75f0f004",
   "metadata": {
    "scrolled": true
   },
   "outputs": [
    {
     "data": {
      "text/html": [
       "<div>\n",
       "<style scoped>\n",
       "    .dataframe tbody tr th:only-of-type {\n",
       "        vertical-align: middle;\n",
       "    }\n",
       "\n",
       "    .dataframe tbody tr th {\n",
       "        vertical-align: top;\n",
       "    }\n",
       "\n",
       "    .dataframe thead th {\n",
       "        text-align: right;\n",
       "    }\n",
       "</style>\n",
       "<table border=\"1\" class=\"dataframe\">\n",
       "  <thead>\n",
       "    <tr style=\"text-align: right;\">\n",
       "      <th></th>\n",
       "      <th>mb_used</th>\n",
       "    </tr>\n",
       "  </thead>\n",
       "  <tbody>\n",
       "    <tr>\n",
       "      <th>count</th>\n",
       "      <td>975.00</td>\n",
       "    </tr>\n",
       "    <tr>\n",
       "      <th>mean</th>\n",
       "      <td>19,668.49</td>\n",
       "    </tr>\n",
       "    <tr>\n",
       "      <th>std</th>\n",
       "      <td>9,943.05</td>\n",
       "    </tr>\n",
       "    <tr>\n",
       "      <th>min</th>\n",
       "      <td>0.00</td>\n",
       "    </tr>\n",
       "    <tr>\n",
       "      <th>25%</th>\n",
       "      <td>12,008.31</td>\n",
       "    </tr>\n",
       "    <tr>\n",
       "      <th>50%</th>\n",
       "      <td>19,394.29</td>\n",
       "    </tr>\n",
       "    <tr>\n",
       "      <th>75%</th>\n",
       "      <td>26,896.55</td>\n",
       "    </tr>\n",
       "    <tr>\n",
       "      <th>max</th>\n",
       "      <td>49,745.69</td>\n",
       "    </tr>\n",
       "  </tbody>\n",
       "</table>\n",
       "</div>"
      ],
      "text/plain": [
       "        mb_used\n",
       "count    975.00\n",
       "mean  19,668.49\n",
       "std    9,943.05\n",
       "min        0.00\n",
       "25%   12,008.31\n",
       "50%   19,394.29\n",
       "75%   26,896.55\n",
       "max   49,745.69"
      ]
     },
     "execution_count": 100,
     "metadata": {},
     "output_type": "execute_result"
    }
   ],
   "source": [
    "internet_ultra['sum'].describe()"
   ]
  },
  {
   "cell_type": "markdown",
   "id": "1277f5e3",
   "metadata": {},
   "source": [
    "Количество сообщений в месяц нормально распределено вокруг среднего в 19 Гб"
   ]
  },
  {
   "cell_type": "code",
   "execution_count": 101,
   "id": "003ee431",
   "metadata": {},
   "outputs": [
    {
     "data": {
      "text/plain": [
       "<AxesSubplot:ylabel='Density'>"
      ]
     },
     "execution_count": 101,
     "metadata": {},
     "output_type": "execute_result"
    },
    {
     "data": {
      "image/png": "[encoded data removed]",
      "text/plain": [
       "<Figure size 648x360 with 1 Axes>"
      ]
     },
     "metadata": {
      "needs_background": "light"
     },
     "output_type": "display_data"
    }
   ],
   "source": [
    "internet_ultra.pivot_table(index='month', values='sum', aggfunc='mean').plot(kind='kde', grid=True, figsize=(9, 5))"
   ]
  },
  {
   "cell_type": "code",
   "execution_count": 102,
   "id": "8b848542",
   "metadata": {},
   "outputs": [
    {
     "data": {
      "text/plain": [
       "mb_used   98,864,248.95\n",
       "dtype: float64"
      ]
     },
     "execution_count": 102,
     "metadata": {},
     "output_type": "execute_result"
    }
   ],
   "source": [
    "variance_internet_ultra = np.var(internet_ultra['sum'], ddof=1)\n",
    "variance_internet_ultra"
   ]
  },
  {
   "cell_type": "code",
   "execution_count": 103,
   "id": "591d861a",
   "metadata": {},
   "outputs": [
    {
     "data": {
      "text/plain": [
       "mb_used   9,943.05\n",
       "dtype: float64"
      ]
     },
     "execution_count": 103,
     "metadata": {},
     "output_type": "execute_result"
    }
   ],
   "source": [
    "std_dev_internet_ultra = np.sqrt(variance_internet_ultra)\n",
    "std_dev_internet_ultra"
   ]
  },
  {
   "cell_type": "markdown",
   "id": "22cf5145",
   "metadata": {},
   "source": [
    "## Общее"
   ]
  },
  {
   "cell_type": "markdown",
   "id": "45210560",
   "metadata": {},
   "source": [
    "Средняя оплата в рублях сверх пакетов услуг в разрезе месяцев. Так как тариф Ультра включает более расширенные пакеты услуг, доплата за услуги в месяц у пользователей этого тарифа значительно меньше, чем у пользователей тарифа Смарт."
   ]
  },
  {
   "cell_type": "code",
   "execution_count": 104,
   "id": "3cc361df",
   "metadata": {
    "scrolled": true
   },
   "outputs": [
    {
     "data": {
      "text/plain": [
       "tariff_name  month  \n",
       "smart        2018-01     171.32\n",
       "             2018-02     277.60\n",
       "             2018-03     614.62\n",
       "             2018-04     413.09\n",
       "             2018-05     647.51\n",
       "             2018-06     654.02\n",
       "             2018-07     673.95\n",
       "             2018-08     773.89\n",
       "             2018-09     699.95\n",
       "             2018-10     814.85\n",
       "             2018-11     793.05\n",
       "             2018-12   1,028.53\n",
       "ultra        2018-01       0.00\n",
       "             2018-02      27.27\n",
       "             2018-03      64.86\n",
       "             2018-04      51.82\n",
       "             2018-05     111.36\n",
       "             2018-06      90.36\n",
       "             2018-07     170.00\n",
       "             2018-08     134.43\n",
       "             2018-09      75.00\n",
       "             2018-10     116.80\n",
       "             2018-11     143.23\n",
       "             2018-12     190.22\n",
       "Name: add_payment_total, dtype: float64"
      ]
     },
     "execution_count": 104,
     "metadata": {},
     "output_type": "execute_result"
    }
   ],
   "source": [
    "data_total.groupby(['tariff_name','month'])['add_payment_total'].mean()"
   ]
  },
  {
   "cell_type": "markdown",
   "id": "d52cc8f2",
   "metadata": {},
   "source": [
    "Средняя выручка в месяц в разрезе тарифов. Несмотря на доплаты сверх пакетов услуг, пользователи тарифа Смарт ежемесячно тратят меньше средств на сотового оператора."
   ]
  },
  {
   "cell_type": "code",
   "execution_count": 105,
   "id": "cffef5f8",
   "metadata": {},
   "outputs": [
    {
     "data": {
      "text/plain": [
       "tariff_name  month  \n",
       "smart        2018-01     721.32\n",
       "             2018-02     827.60\n",
       "             2018-03   1,164.62\n",
       "             2018-04     963.09\n",
       "             2018-05   1,197.51\n",
       "             2018-06   1,204.02\n",
       "             2018-07   1,223.95\n",
       "             2018-08   1,323.89\n",
       "             2018-09   1,249.95\n",
       "             2018-10   1,364.85\n",
       "             2018-11   1,343.05\n",
       "             2018-12   1,578.53\n",
       "ultra        2018-01   1,950.00\n",
       "             2018-02   1,977.27\n",
       "             2018-03   2,014.86\n",
       "             2018-04   2,001.82\n",
       "             2018-05   2,061.36\n",
       "             2018-06   2,040.36\n",
       "             2018-07   2,120.00\n",
       "             2018-08   2,084.43\n",
       "             2018-09   2,025.00\n",
       "             2018-10   2,066.80\n",
       "             2018-11   2,093.23\n",
       "             2018-12   2,140.22\n",
       "Name: revenue, dtype: float64"
      ]
     },
     "execution_count": 105,
     "metadata": {},
     "output_type": "execute_result"
    }
   ],
   "source": [
    "data_total.groupby(['tariff_name','month'])['revenue'].mean()"
   ]
  },
  {
   "cell_type": "markdown",
   "id": "0ccd9fb3",
   "metadata": {},
   "source": [
    "Делаем срезы с тарифами Ультра и Смарт."
   ]
  },
  {
   "cell_type": "code",
   "execution_count": 106,
   "id": "374a8773",
   "metadata": {},
   "outputs": [],
   "source": [
    "ultra = data_total[data_total['tariff_name'] == 'ultra']"
   ]
  },
  {
   "cell_type": "code",
   "execution_count": 107,
   "id": "9cd4488b",
   "metadata": {},
   "outputs": [],
   "source": [
    "smart = data_total[data_total['tariff_name'] == 'smart']"
   ]
  },
  {
   "cell_type": "markdown",
   "id": "7f397430",
   "metadata": {},
   "source": [
    "Распределение расходов сверх лимита услуг тарифа"
   ]
  },
  {
   "cell_type": "code",
   "execution_count": 108,
   "id": "d73c4747",
   "metadata": {},
   "outputs": [
    {
     "data": {
      "text/plain": [
       "<AxesSubplot:ylabel='Density'>"
      ]
     },
     "execution_count": 108,
     "metadata": {},
     "output_type": "execute_result"
    },
    {
     "data": {
      "image/png": "[encoded data removed]",
      "text/plain": [
       "<Figure size 648x288 with 1 Axes>"
      ]
     },
     "metadata": {
      "needs_background": "light"
     },
     "output_type": "display_data"
    }
   ],
   "source": [
    "ultra.groupby('month')['add_payment_total'].mean().plot(grid=True, figsize=(9, 4), kind='kde')"
   ]
  },
  {
   "cell_type": "code",
   "execution_count": 109,
   "id": "9fc486c6",
   "metadata": {},
   "outputs": [
    {
     "data": {
      "text/plain": [
       "<AxesSubplot:ylabel='Density'>"
      ]
     },
     "execution_count": 109,
     "metadata": {},
     "output_type": "execute_result"
    },
    {
     "data": {
      "image/png": "[encoded data removed]",
      "text/plain": [
       "<Figure size 648x288 with 1 Axes>"
      ]
     },
     "metadata": {
      "needs_background": "light"
     },
     "output_type": "display_data"
    }
   ],
   "source": [
    "smart.groupby('month')['add_payment_total'].mean().plot(grid=True, figsize=(9, 4), kind='kde')"
   ]
  },
  {
   "cell_type": "markdown",
   "id": "4a5c2f10",
   "metadata": {},
   "source": [
    "Распределение выручки "
   ]
  },
  {
   "cell_type": "code",
   "execution_count": 110,
   "id": "abaa7e4c",
   "metadata": {},
   "outputs": [
    {
     "data": {
      "text/plain": [
       "<AxesSubplot:ylabel='Density'>"
      ]
     },
     "execution_count": 110,
     "metadata": {},
     "output_type": "execute_result"
    },
    {
     "data": {
      "image/png": "[encoded data removed]",
      "text/plain": [
       "<Figure size 432x288 with 1 Axes>"
      ]
     },
     "metadata": {
      "needs_background": "light"
     },
     "output_type": "display_data"
    }
   ],
   "source": [
    "ultra.groupby('month')['revenue'].mean().plot(grid=True, kind='kde')"
   ]
  },
  {
   "cell_type": "code",
   "execution_count": 111,
   "id": "b6803941",
   "metadata": {},
   "outputs": [
    {
     "data": {
      "text/plain": [
       "<AxesSubplot:ylabel='Density'>"
      ]
     },
     "execution_count": 111,
     "metadata": {},
     "output_type": "execute_result"
    },
    {
     "data": {
      "image/png": "[encoded data removed]",
      "text/plain": [
       "<Figure size 432x288 with 1 Axes>"
      ]
     },
     "metadata": {
      "needs_background": "light"
     },
     "output_type": "display_data"
    }
   ],
   "source": [
    "smart.groupby('month')['revenue'].mean().plot(grid=True, kind='kde') # "
   ]
  },
  {
   "cell_type": "markdown",
   "id": "b7f74e97",
   "metadata": {},
   "source": [
    "# Проверка гипотез"
   ]
  },
  {
   "cell_type": "markdown",
   "id": "d59d85e1",
   "metadata": {},
   "source": [
    "## Гипотеза № 1 - средняя выручка пользователей тарифов «Ультра» и «Смарт» различаются"
   ]
  },
  {
   "cell_type": "markdown",
   "id": "f59cdf43",
   "metadata": {},
   "source": [
    "Нулевая гипотеза утверждает о равенстве средней выручки обоих тарифов, тогда Гипотеза альтернативная гипотеза будет свидетельствовать об обратном.\n",
    "\n",
    "Н0: средняя выручка Ультра = средняя выручка Смарт\n",
    "\n",
    "Н1: ср. выручки двух тарифов не равны\n",
    "\n",
    "Р-уровень значимости = 0.05"
   ]
  },
  {
   "cell_type": "markdown",
   "id": "4c18b533",
   "metadata": {},
   "source": [
    "Дисперсия выборок значительно отличается, поэтому параметр _equal_val_ установили как _False_"
   ]
  },
  {
   "cell_type": "code",
   "execution_count": 112,
   "id": "17d96e88",
   "metadata": {},
   "outputs": [
    {
     "data": {
      "text/plain": [
       "142819.9494550624"
      ]
     },
     "execution_count": 112,
     "metadata": {},
     "output_type": "execute_result"
    }
   ],
   "source": [
    "variance_revenue_ultra = np.var(ultra['revenue'], ddof=1)\n",
    "variance_revenue_ultra"
   ]
  },
  {
   "cell_type": "code",
   "execution_count": 113,
   "id": "d19536d3",
   "metadata": {},
   "outputs": [
    {
     "data": {
      "text/plain": [
       "669840.4808481111"
      ]
     },
     "execution_count": 113,
     "metadata": {},
     "output_type": "execute_result"
    }
   ],
   "source": [
    "variance_revenue_smart = np.var(smart['revenue'], ddof=1)\n",
    "variance_revenue_smart"
   ]
  },
  {
   "cell_type": "markdown",
   "id": "667aa1b7",
   "metadata": {},
   "source": [
    "Распределение выборки - выручка по тарифу Ультра нормальное.\n",
    "\n",
    "Распределение выборки - выручка по тарифу Смарт тоже нормальное, но имеет пололжительную скошенность (вправо), это означает, что медиана < среднего значения."
   ]
  },
  {
   "cell_type": "code",
   "execution_count": 114,
   "id": "15af5ac5",
   "metadata": {
    "scrolled": true
   },
   "outputs": [
    {
     "data": {
      "text/plain": [
       "<AxesSubplot:ylabel='Density'>"
      ]
     },
     "execution_count": 114,
     "metadata": {},
     "output_type": "execute_result"
    },
    {
     "data": {
      "image/png": "[encoded data removed]",
      "text/plain": [
       "<Figure size 432x288 with 1 Axes>"
      ]
     },
     "metadata": {
      "needs_background": "light"
     },
     "output_type": "display_data"
    }
   ],
   "source": [
    "ultra['revenue'].plot(kind='kde')"
   ]
  },
  {
   "cell_type": "code",
   "execution_count": 115,
   "id": "297e42d6",
   "metadata": {
    "scrolled": true
   },
   "outputs": [
    {
     "data": {
      "text/plain": [
       "<AxesSubplot:ylabel='Density'>"
      ]
     },
     "execution_count": 115,
     "metadata": {},
     "output_type": "execute_result"
    },
    {
     "data": {
      "image/png": "[encoded data removed]",
      "text/plain": [
       "<Figure size 432x288 with 1 Axes>"
      ]
     },
     "metadata": {
      "needs_background": "light"
     },
     "output_type": "display_data"
    }
   ],
   "source": [
    "smart['revenue'].plot(kind='kde')"
   ]
  },
  {
   "cell_type": "code",
   "execution_count": 116,
   "id": "5a644294",
   "metadata": {},
   "outputs": [
    {
     "name": "stdout",
     "output_type": "stream",
     "text": [
      "count     975.00\n",
      "mean    2,071.38\n",
      "std       377.92\n",
      "min     1,950.00\n",
      "25%     1,950.00\n",
      "50%     1,950.00\n",
      "75%     1,950.00\n",
      "max     4,800.00\n",
      "Name: revenue, dtype: float64\n",
      "\n",
      "count   2,228.00\n",
      "mean    1,290.31\n",
      "std       818.44\n",
      "min       550.00\n",
      "25%       550.00\n",
      "50%     1,026.50\n",
      "75%     1,750.00\n",
      "max     6,770.00\n",
      "Name: revenue, dtype: float64\n"
     ]
    }
   ],
   "source": [
    "print(ultra['revenue'].describe())\n",
    "print()\n",
    "print(smart['revenue'].describe())"
   ]
  },
  {
   "cell_type": "code",
   "execution_count": 117,
   "id": "a8e55f23",
   "metadata": {},
   "outputs": [
    {
     "name": "stdout",
     "output_type": "stream",
     "text": [
      "p-значение: 5.22403940028982e-249\n",
      "Отвергаем Н0\n"
     ]
    }
   ],
   "source": [
    "alpha = 0.05\n",
    "results_1 = st.ttest_ind(ultra['revenue'], smart['revenue'], equal_var=False)\n",
    "print(f'p-значение: {results_1.pvalue}')\n",
    "if results_1.pvalue < alpha:\n",
    "    print(f\"Отвергаем Н0\")\n",
    "else:\n",
    "    print(f'Не получилось отвергнуть Н0')"
   ]
  },
  {
   "cell_type": "markdown",
   "id": "cac6d5e2",
   "metadata": {},
   "source": [
    "Для проверки гипотезы о равенстве средних значений двух выборок изпользовали тест Стьюдента. Нулевая гипотеза была отвергнута, так как p-значение, полученное в тесте, много меньше уровня значимости, установленного в 5%, что свидетельствует об очень низкой вероятности того, что среднее значение этих выборок равны, что наглядно видно по значению среднего по каждой выборке ('2071 != 1291')"
   ]
  },
  {
   "cell_type": "markdown",
   "id": "f1f1231a",
   "metadata": {},
   "source": [
    "## Гипотеза № 2 - средняя выручка пользователей из Москвы отличается от выручки пользователей из других регионов"
   ]
  },
  {
   "cell_type": "markdown",
   "id": "928610c0",
   "metadata": {},
   "source": [
    "Нулева гипотеза утверждает о равенстве средней выручки пользователей из Москвы и других регионов, альтернативная гипотеза свидетельствует об обратном.\n",
    "\n",
    "Н0: средняя выручка из Москвы = средняя выручка из остальных регионов\n",
    "\n",
    "Н1: ср. выручки из Москвы и других регионов не равны\n",
    "\n",
    "Р-уровень значимости = 0.05"
   ]
  },
  {
   "cell_type": "markdown",
   "id": "c505ec6a",
   "metadata": {},
   "source": [
    "1. Проверяем уникальность значений в столбце __город__\n",
    "2. Формируем массив данных с выручкой пользователей из Москвы\n",
    "3. Формируем массив данных с выручкой пользователей из остальных городов"
   ]
  },
  {
   "cell_type": "code",
   "execution_count": 118,
   "id": "1369a1d7",
   "metadata": {
    "scrolled": true
   },
   "outputs": [
    {
     "data": {
      "text/plain": [
       "array(['Краснодар', 'Москва', 'Стерлитамак', 'Новокузнецк',\n",
       "       'Набережные Челны', 'Ульяновск', 'Челябинск', 'Пермь', 'Тюмень',\n",
       "       'Самара', 'Санкт-Петербург', 'Иваново', 'Чебоксары', 'Омск', 'Уфа',\n",
       "       'Томск', 'Чита', 'Мурманск', 'Петрозаводск', 'Тверь',\n",
       "       'Екатеринбург', 'Махачкала', 'Вологда', 'Череповец', 'Ярославль',\n",
       "       'Сочи', 'Хабаровск', 'Ставрополь', 'Рязань', 'Улан-Удэ', 'Тула',\n",
       "       'Саратов', 'Ростов-на-Дону', 'Казань', 'Иркутск', 'Курск',\n",
       "       'Калуга', 'Якутск', 'Астрахань', 'Химки', 'Владикавказ',\n",
       "       'Волгоград', 'Саранск', 'Ижевск', 'Новосибирск', 'Брянск',\n",
       "       'Тольятти', 'Нижний Тагил', 'Орёл', 'Белгород', 'Воронеж',\n",
       "       'Курган', 'Барнаул', 'Красноярск', 'Архангельск', 'Липецк',\n",
       "       'Кемерово', 'Киров', 'Сургут', 'Пенза', 'Волжский', 'Магнитогорск',\n",
       "       'Нижний Новгород', 'Кострома', 'Владивосток', 'Тамбов', 'Балашиха',\n",
       "       'Севастополь', 'Калининград', 'Оренбург', 'Смоленск',\n",
       "       'Нижневартовск', 'Владимир', 'Новороссийск', 'Грозный', 'Подольск'],\n",
       "      dtype=object)"
      ]
     },
     "execution_count": 118,
     "metadata": {},
     "output_type": "execute_result"
    }
   ],
   "source": [
    "data_total['city'].unique()"
   ]
  },
  {
   "cell_type": "code",
   "execution_count": 119,
   "id": "d3ea7fdf",
   "metadata": {},
   "outputs": [],
   "source": [
    "capital = data_total[data_total['city'] == \"Москва\"]['revenue']"
   ]
  },
  {
   "cell_type": "code",
   "execution_count": 120,
   "id": "211793bb",
   "metadata": {},
   "outputs": [],
   "source": [
    "others = data_total[data_total['city'] != \"Москва\"]['revenue']"
   ]
  },
  {
   "cell_type": "markdown",
   "id": "8a87f86c",
   "metadata": {},
   "source": [
    "Дисперсия выборок не значительно отличается, поэтому параметр _equal_val_ установили как _True_"
   ]
  },
  {
   "cell_type": "code",
   "execution_count": 121,
   "id": "afaee291",
   "metadata": {},
   "outputs": [
    {
     "data": {
      "text/plain": [
       "565636.467011886"
      ]
     },
     "execution_count": 121,
     "metadata": {},
     "output_type": "execute_result"
    }
   ],
   "source": [
    "variance_revenue_capital = np.var(capital, ddof=1)\n",
    "variance_revenue_capital"
   ]
  },
  {
   "cell_type": "code",
   "execution_count": 122,
   "id": "5f361c92",
   "metadata": {},
   "outputs": [
    {
     "data": {
      "text/plain": [
       "655848.968318485"
      ]
     },
     "execution_count": 122,
     "metadata": {},
     "output_type": "execute_result"
    }
   ],
   "source": [
    "variance_revenue_others = np.var(others, ddof=1)\n",
    "variance_revenue_others"
   ]
  },
  {
   "cell_type": "code",
   "execution_count": 123,
   "id": "6aa122cd",
   "metadata": {},
   "outputs": [
    {
     "data": {
      "text/plain": [
       "<AxesSubplot:ylabel='Density'>"
      ]
     },
     "execution_count": 123,
     "metadata": {},
     "output_type": "execute_result"
    },
    {
     "data": {
      "image/png": "[encoded data removed]",
      "text/plain": [
       "<Figure size 432x288 with 1 Axes>"
      ]
     },
     "metadata": {
      "needs_background": "light"
     },
     "output_type": "display_data"
    }
   ],
   "source": [
    "capital.plot(kind='kde')"
   ]
  },
  {
   "cell_type": "code",
   "execution_count": 124,
   "id": "ddfa1f92",
   "metadata": {},
   "outputs": [
    {
     "data": {
      "text/plain": [
       "<AxesSubplot:ylabel='Density'>"
      ]
     },
     "execution_count": 124,
     "metadata": {},
     "output_type": "execute_result"
    },
    {
     "data": {
      "image/png": "[encoded data removed]",
      "text/plain": [
       "<Figure size 432x288 with 1 Axes>"
      ]
     },
     "metadata": {
      "needs_background": "light"
     },
     "output_type": "display_data"
    }
   ],
   "source": [
    "others.plot(kind='kde')"
   ]
  },
  {
   "cell_type": "code",
   "execution_count": 125,
   "id": "5d265345",
   "metadata": {
    "scrolled": true
   },
   "outputs": [
    {
     "name": "stdout",
     "output_type": "stream",
     "text": [
      "p-значение: 0.521500152176397\n",
      "Не получилось отвергнуть Н0\n"
     ]
    }
   ],
   "source": [
    "alpha = 0.05\n",
    "results_2 = st.ttest_ind(capital, others, equal_var=True)\n",
    "print(f'p-значение: {results_2.pvalue}')\n",
    "if results_2.pvalue < alpha:\n",
    "    print(f\"Отвергаем Н0\")\n",
    "else:\n",
    "    print(f'Не получилось отвергнуть Н0')"
   ]
  },
  {
   "cell_type": "code",
   "execution_count": 126,
   "id": "2b13f7d8",
   "metadata": {},
   "outputs": [
    {
     "name": "stdout",
     "output_type": "stream",
     "text": [
      "count     611.00\n",
      "mean    1,546.71\n",
      "std       752.09\n",
      "min       550.00\n",
      "25%       780.50\n",
      "50%     1,750.00\n",
      "75%     1,950.00\n",
      "max     5,321.00\n",
      "Name: revenue, dtype: float64\n",
      "\n",
      "count   2,592.00\n",
      "mean    1,523.67\n",
      "std       809.85\n",
      "min       550.00\n",
      "25%       750.00\n",
      "50%     1,575.00\n",
      "75%     1,950.00\n",
      "max     6,770.00\n",
      "Name: revenue, dtype: float64\n"
     ]
    }
   ],
   "source": [
    "print(capital.describe())\n",
    "print()\n",
    "print(others.describe())"
   ]
  },
  {
   "cell_type": "code",
   "execution_count": 127,
   "id": "32d8fe6f",
   "metadata": {},
   "outputs": [],
   "source": [
    "stats_others = data_total[data_total['city'] != \"Москва\"]\n",
    "stats_capital = data_total[data_total['city'] == \"Москва\"]"
   ]
  },
  {
   "cell_type": "code",
   "execution_count": 128,
   "id": "fa08ec6b",
   "metadata": {},
   "outputs": [
    {
     "data": {
      "text/plain": [
       "<AxesSubplot:ylabel='Density'>"
      ]
     },
     "execution_count": 128,
     "metadata": {},
     "output_type": "execute_result"
    },
    {
     "data": {
      "image/png": "[encoded data removed]",
      "text/plain": [
       "<Figure size 432x288 with 1 Axes>"
      ]
     },
     "metadata": {
      "needs_background": "light"
     },
     "output_type": "display_data"
    }
   ],
   "source": [
    "stats_others.groupby('month')['revenue'].mean().plot(grid=True, kind='kde')"
   ]
  },
  {
   "cell_type": "code",
   "execution_count": 129,
   "id": "a35659b1",
   "metadata": {},
   "outputs": [
    {
     "data": {
      "text/plain": [
       "<AxesSubplot:ylabel='Density'>"
      ]
     },
     "execution_count": 129,
     "metadata": {},
     "output_type": "execute_result"
    },
    {
     "data": {
      "image/png": "[encoded data removed]",
      "text/plain": [
       "<Figure size 432x288 with 1 Axes>"
      ]
     },
     "metadata": {
      "needs_background": "light"
     },
     "output_type": "display_data"
    }
   ],
   "source": [
    "stats_capital.groupby('month')['revenue'].mean().plot(grid=True, kind='kde')"
   ]
  },
  {
   "cell_type": "markdown",
   "id": "5745cb36",
   "metadata": {},
   "source": [
    "Для проверки гипотезы о равенстве средних значений двух выборок изпользовали тест Стьюдента. Отвергнуть нулевую гипотезу не получилось, так как p-значение, полученное в тесте, много больше уровня значимости, установленного в 5%."
   ]
  },
  {
   "cell_type": "markdown",
   "id": "fec075c9",
   "metadata": {},
   "source": [
    "# Общий вывод"
   ]
  },
  {
   "cell_type": "markdown",
   "id": "777ccb13",
   "metadata": {},
   "source": [
    "1. Получены следующие таблицы: users, calls, messages, internet, tariffs.\n",
    "\n",
    "    Данные без каких-либо серьезных недочетов, только формат даты некорректен, но приведен в нужный для анализа формат.\n",
    "2. Для таблиц calls, messages, internet были посчитана стоимость доплаты сверх лимита, установленного тарифом и получена общая сумма в разрезе каждого пользователя помесячно.\n",
    "    Также посчитана вычислена вырука в месяц по каждому пользователю.\n",
    "3. Проанализированны данные звонков, сообщений и траффика, вычислены средние значения, дисперсия и стандартное отклонение.\n",
    "4. Проверены гипотезы статистическим тестом Стьюдента:\n",
    "- \"_средняя выручка пользователей тарифов «Ультра» и «Смарт» различаются_\"\n",
    "\n",
    "    сделаны выводы, что действительно различаются, так как р-значение сильно меньше уровня значимости в 5% (5.22 * 10**(-249))\n",
    "    \n",
    "\n",
    "\n",
    "- \"_средняя выручка пользователей из Москвы отличается от выручки пользователей из других регионов_\"\n",
    "\n",
    "    сделаны выводы, что среднее значение выручки от пользователей в Москве и других регионах не отличается, так как р-значение (52%) сильно больше уровня значимости в 5% \n"
   ]
  }
 ],
 "metadata": {
  "ExecuteTimeLog": [
   {
    "duration": 99,
    "start_time": "2021-09-11T12:10:54.259Z"
   },
   {
    "duration": 1190,
    "start_time": "2021-09-11T12:10:54.360Z"
   },
   {
    "duration": 3,
    "start_time": "2021-09-11T12:10:55.552Z"
   },
   {
    "duration": 864,
    "start_time": "2021-09-11T12:10:55.556Z"
   },
   {
    "duration": 3,
    "start_time": "2021-09-11T12:10:56.422Z"
   },
   {
    "duration": 15,
    "start_time": "2021-09-11T12:10:56.427Z"
   },
   {
    "duration": 23,
    "start_time": "2021-09-11T12:10:56.444Z"
   },
   {
    "duration": 7,
    "start_time": "2021-09-11T12:10:56.469Z"
   },
   {
    "duration": 253,
    "start_time": "2021-09-11T12:10:56.479Z"
   },
   {
    "duration": 12,
    "start_time": "2021-09-11T12:10:56.734Z"
   },
   {
    "duration": 121,
    "start_time": "2021-09-11T12:10:56.747Z"
   },
   {
    "duration": 9,
    "start_time": "2021-09-11T12:10:56.869Z"
   },
   {
    "duration": 181,
    "start_time": "2021-09-11T12:10:56.880Z"
   },
   {
    "duration": 9,
    "start_time": "2021-09-11T12:10:57.063Z"
   },
   {
    "duration": 18,
    "start_time": "2021-09-11T12:10:57.075Z"
   },
   {
    "duration": 5,
    "start_time": "2021-09-11T12:10:57.095Z"
   },
   {
    "duration": 58,
    "start_time": "2021-09-11T12:10:57.102Z"
   },
   {
    "duration": 4,
    "start_time": "2021-09-11T12:10:57.162Z"
   },
   {
    "duration": 28,
    "start_time": "2021-09-11T12:10:57.168Z"
   },
   {
    "duration": 24,
    "start_time": "2021-09-11T12:10:57.198Z"
   },
   {
    "duration": 23,
    "start_time": "2021-09-11T12:10:57.241Z"
   },
   {
    "duration": 10,
    "start_time": "2021-09-11T12:10:57.266Z"
   },
   {
    "duration": 65,
    "start_time": "2021-09-11T12:10:57.277Z"
   },
   {
    "duration": 57,
    "start_time": "2021-09-11T12:10:57.344Z"
   },
   {
    "duration": 122,
    "start_time": "2021-09-11T12:10:57.402Z"
   },
   {
    "duration": 30,
    "start_time": "2021-09-11T12:10:57.526Z"
   },
   {
    "duration": 17,
    "start_time": "2021-09-11T12:10:57.561Z"
   },
   {
    "duration": 17,
    "start_time": "2021-09-11T12:10:57.581Z"
   },
   {
    "duration": 9,
    "start_time": "2021-09-11T12:10:57.600Z"
   },
   {
    "duration": 39,
    "start_time": "2021-09-11T12:10:57.611Z"
   },
   {
    "duration": 16,
    "start_time": "2021-09-11T12:10:57.652Z"
   },
   {
    "duration": 26,
    "start_time": "2021-09-11T12:10:57.669Z"
   },
   {
    "duration": 59,
    "start_time": "2021-09-11T12:10:57.697Z"
   },
   {
    "duration": 50,
    "start_time": "2021-09-11T12:10:57.758Z"
   },
   {
    "duration": 32,
    "start_time": "2021-09-11T12:10:57.810Z"
   },
   {
    "duration": 15,
    "start_time": "2021-09-11T12:10:57.844Z"
   },
   {
    "duration": 14,
    "start_time": "2021-09-11T12:10:57.861Z"
   },
   {
    "duration": 14,
    "start_time": "2021-09-11T12:10:57.877Z"
   },
   {
    "duration": 48,
    "start_time": "2021-09-11T12:10:57.893Z"
   },
   {
    "duration": 19,
    "start_time": "2021-09-11T12:10:57.943Z"
   },
   {
    "duration": 38,
    "start_time": "2021-09-11T12:10:57.964Z"
   },
   {
    "duration": 68,
    "start_time": "2021-09-11T12:10:58.004Z"
   },
   {
    "duration": 69,
    "start_time": "2021-09-11T12:10:58.073Z"
   },
   {
    "duration": 14,
    "start_time": "2021-09-11T12:10:58.143Z"
   },
   {
    "duration": 15,
    "start_time": "2021-09-11T12:10:58.159Z"
   },
   {
    "duration": 16,
    "start_time": "2021-09-11T12:10:58.176Z"
   },
   {
    "duration": 15,
    "start_time": "2021-09-11T12:10:58.194Z"
   },
   {
    "duration": 15,
    "start_time": "2021-09-11T12:10:58.242Z"
   },
   {
    "duration": 27,
    "start_time": "2021-09-11T12:10:58.259Z"
   },
   {
    "duration": 53,
    "start_time": "2021-09-11T12:10:58.288Z"
   },
   {
    "duration": 7,
    "start_time": "2021-09-11T12:10:58.342Z"
   },
   {
    "duration": 7,
    "start_time": "2021-09-11T12:10:58.351Z"
   },
   {
    "duration": 9,
    "start_time": "2021-09-11T12:10:58.360Z"
   },
   {
    "duration": 11,
    "start_time": "2021-09-11T12:10:58.371Z"
   },
   {
    "duration": 13,
    "start_time": "2021-09-11T12:10:58.383Z"
   },
   {
    "duration": 12,
    "start_time": "2021-09-11T12:10:58.399Z"
   },
   {
    "duration": 49,
    "start_time": "2021-09-11T12:10:58.413Z"
   },
   {
    "duration": 306,
    "start_time": "2021-09-11T12:10:58.464Z"
   },
   {
    "duration": 394,
    "start_time": "2021-09-11T12:10:58.772Z"
   },
   {
    "duration": 11,
    "start_time": "2021-09-11T12:10:59.157Z"
   },
   {
    "duration": 9,
    "start_time": "2021-09-11T12:10:59.161Z"
   },
   {
    "duration": 6,
    "start_time": "2021-09-11T12:10:59.164Z"
   },
   {
    "duration": 5,
    "start_time": "2021-09-11T12:10:59.167Z"
   },
   {
    "duration": -1,
    "start_time": "2021-09-11T12:10:59.174Z"
   },
   {
    "duration": -3,
    "start_time": "2021-09-11T12:10:59.177Z"
   },
   {
    "duration": -6,
    "start_time": "2021-09-11T12:10:59.181Z"
   },
   {
    "duration": -8,
    "start_time": "2021-09-11T12:10:59.184Z"
   },
   {
    "duration": -11,
    "start_time": "2021-09-11T12:10:59.188Z"
   },
   {
    "duration": -13,
    "start_time": "2021-09-11T12:10:59.191Z"
   },
   {
    "duration": -16,
    "start_time": "2021-09-11T12:10:59.195Z"
   },
   {
    "duration": -51,
    "start_time": "2021-09-11T12:10:59.231Z"
   },
   {
    "duration": -54,
    "start_time": "2021-09-11T12:10:59.235Z"
   },
   {
    "duration": -57,
    "start_time": "2021-09-11T12:10:59.239Z"
   },
   {
    "duration": -60,
    "start_time": "2021-09-11T12:10:59.243Z"
   },
   {
    "duration": -62,
    "start_time": "2021-09-11T12:10:59.246Z"
   },
   {
    "duration": -66,
    "start_time": "2021-09-11T12:10:59.251Z"
   },
   {
    "duration": -68,
    "start_time": "2021-09-11T12:10:59.254Z"
   },
   {
    "duration": -71,
    "start_time": "2021-09-11T12:10:59.258Z"
   },
   {
    "duration": -74,
    "start_time": "2021-09-11T12:10:59.262Z"
   },
   {
    "duration": -77,
    "start_time": "2021-09-11T12:10:59.266Z"
   },
   {
    "duration": -80,
    "start_time": "2021-09-11T12:10:59.269Z"
   },
   {
    "duration": -83,
    "start_time": "2021-09-11T12:10:59.273Z"
   },
   {
    "duration": -86,
    "start_time": "2021-09-11T12:10:59.277Z"
   },
   {
    "duration": -89,
    "start_time": "2021-09-11T12:10:59.281Z"
   },
   {
    "duration": -91,
    "start_time": "2021-09-11T12:10:59.284Z"
   },
   {
    "duration": -94,
    "start_time": "2021-09-11T12:10:59.288Z"
   },
   {
    "duration": -97,
    "start_time": "2021-09-11T12:10:59.291Z"
   },
   {
    "duration": -100,
    "start_time": "2021-09-11T12:10:59.295Z"
   },
   {
    "duration": -103,
    "start_time": "2021-09-11T12:10:59.299Z"
   },
   {
    "duration": -105,
    "start_time": "2021-09-11T12:10:59.302Z"
   },
   {
    "duration": -108,
    "start_time": "2021-09-11T12:10:59.306Z"
   },
   {
    "duration": -111,
    "start_time": "2021-09-11T12:10:59.310Z"
   },
   {
    "duration": -115,
    "start_time": "2021-09-11T12:10:59.314Z"
   },
   {
    "duration": -118,
    "start_time": "2021-09-11T12:10:59.318Z"
   },
   {
    "duration": -121,
    "start_time": "2021-09-11T12:10:59.322Z"
   },
   {
    "duration": -126,
    "start_time": "2021-09-11T12:10:59.328Z"
   },
   {
    "duration": -129,
    "start_time": "2021-09-11T12:10:59.332Z"
   },
   {
    "duration": -132,
    "start_time": "2021-09-11T12:10:59.335Z"
   },
   {
    "duration": -150,
    "start_time": "2021-09-11T12:10:59.354Z"
   },
   {
    "duration": -153,
    "start_time": "2021-09-11T12:10:59.358Z"
   },
   {
    "duration": -120,
    "start_time": "2021-09-11T12:10:59.361Z"
   },
   {
    "duration": -123,
    "start_time": "2021-09-11T12:10:59.365Z"
   },
   {
    "duration": -131,
    "start_time": "2021-09-11T12:10:59.374Z"
   },
   {
    "duration": -134,
    "start_time": "2021-09-11T12:10:59.378Z"
   },
   {
    "duration": -137,
    "start_time": "2021-09-11T12:10:59.381Z"
   },
   {
    "duration": -139,
    "start_time": "2021-09-11T12:10:59.384Z"
   },
   {
    "duration": -142,
    "start_time": "2021-09-11T12:10:59.388Z"
   },
   {
    "duration": 4,
    "start_time": "2021-09-11T12:12:34.981Z"
   },
   {
    "duration": 4,
    "start_time": "2021-09-11T12:13:05.763Z"
   },
   {
    "duration": 6,
    "start_time": "2021-09-11T12:13:48.356Z"
   },
   {
    "duration": 7,
    "start_time": "2021-09-11T12:14:02.394Z"
   },
   {
    "duration": 10,
    "start_time": "2021-09-11T12:15:29.395Z"
   },
   {
    "duration": 18,
    "start_time": "2021-09-11T12:16:15.987Z"
   },
   {
    "duration": 92,
    "start_time": "2021-09-11T12:16:22.595Z"
   },
   {
    "duration": 265,
    "start_time": "2021-09-11T12:16:25.825Z"
   },
   {
    "duration": 10,
    "start_time": "2021-09-11T12:16:39.534Z"
   },
   {
    "duration": 17,
    "start_time": "2021-09-11T12:16:44.516Z"
   },
   {
    "duration": 39,
    "start_time": "2022-08-09T17:41:32.373Z"
   },
   {
    "duration": 1030,
    "start_time": "2022-08-09T17:41:32.414Z"
   },
   {
    "duration": 2,
    "start_time": "2022-08-09T17:41:33.446Z"
   },
   {
    "duration": 8,
    "start_time": "2022-08-09T17:41:33.450Z"
   },
   {
    "duration": 1113,
    "start_time": "2022-08-09T17:41:33.461Z"
   },
   {
    "duration": 3,
    "start_time": "2022-08-09T17:41:34.576Z"
   },
   {
    "duration": 16,
    "start_time": "2022-08-09T17:41:34.580Z"
   },
   {
    "duration": 21,
    "start_time": "2022-08-09T17:41:34.597Z"
   },
   {
    "duration": 7,
    "start_time": "2022-08-09T17:41:34.620Z"
   },
   {
    "duration": 261,
    "start_time": "2022-08-09T17:41:34.628Z"
   },
   {
    "duration": 14,
    "start_time": "2022-08-09T17:41:34.891Z"
   },
   {
    "duration": 139,
    "start_time": "2022-08-09T17:41:34.907Z"
   },
   {
    "duration": 8,
    "start_time": "2022-08-09T17:41:35.048Z"
   },
   {
    "duration": 169,
    "start_time": "2022-08-09T17:41:35.059Z"
   },
   {
    "duration": 7,
    "start_time": "2022-08-09T17:41:35.230Z"
   },
   {
    "duration": 22,
    "start_time": "2022-08-09T17:41:35.239Z"
   },
   {
    "duration": 6,
    "start_time": "2022-08-09T17:41:35.262Z"
   },
   {
    "duration": 43,
    "start_time": "2022-08-09T17:41:35.269Z"
   },
   {
    "duration": 4,
    "start_time": "2022-08-09T17:41:35.315Z"
   },
   {
    "duration": 5,
    "start_time": "2022-08-09T17:41:35.321Z"
   },
   {
    "duration": 60,
    "start_time": "2022-08-09T17:41:35.327Z"
   },
   {
    "duration": 33,
    "start_time": "2022-08-09T17:41:35.389Z"
   },
   {
    "duration": 3,
    "start_time": "2022-08-09T17:41:35.423Z"
   },
   {
    "duration": 45,
    "start_time": "2022-08-09T17:41:35.428Z"
   },
   {
    "duration": 62,
    "start_time": "2022-08-09T17:41:35.475Z"
   },
   {
    "duration": 94,
    "start_time": "2022-08-09T17:41:35.539Z"
   },
   {
    "duration": 3,
    "start_time": "2022-08-09T17:41:35.634Z"
   },
   {
    "duration": 17,
    "start_time": "2022-08-09T17:41:35.639Z"
   },
   {
    "duration": 7,
    "start_time": "2022-08-09T17:41:35.657Z"
   },
   {
    "duration": 14,
    "start_time": "2022-08-09T17:41:35.665Z"
   },
   {
    "duration": 21,
    "start_time": "2022-08-09T17:41:35.680Z"
   },
   {
    "duration": 33,
    "start_time": "2022-08-09T17:41:35.703Z"
   },
   {
    "duration": 21,
    "start_time": "2022-08-09T17:41:35.738Z"
   },
   {
    "duration": 51,
    "start_time": "2022-08-09T17:41:35.761Z"
   },
   {
    "duration": 63,
    "start_time": "2022-08-09T17:41:35.814Z"
   },
   {
    "duration": 32,
    "start_time": "2022-08-09T17:41:35.879Z"
   },
   {
    "duration": 8,
    "start_time": "2022-08-09T17:41:35.913Z"
   },
   {
    "duration": 41,
    "start_time": "2022-08-09T17:41:35.922Z"
   },
   {
    "duration": 56,
    "start_time": "2022-08-09T17:41:35.964Z"
   },
   {
    "duration": 43,
    "start_time": "2022-08-09T17:41:36.022Z"
   },
   {
    "duration": 89,
    "start_time": "2022-08-09T17:41:36.070Z"
   },
   {
    "duration": 13,
    "start_time": "2022-08-09T17:41:36.161Z"
   },
   {
    "duration": 36,
    "start_time": "2022-08-09T17:41:36.176Z"
   },
   {
    "duration": 22,
    "start_time": "2022-08-09T17:41:36.214Z"
   },
   {
    "duration": 22,
    "start_time": "2022-08-09T17:41:36.238Z"
   },
   {
    "duration": 6,
    "start_time": "2022-08-09T17:41:36.261Z"
   },
   {
    "duration": 36,
    "start_time": "2022-08-09T17:41:36.268Z"
   },
   {
    "duration": 6,
    "start_time": "2022-08-09T17:41:36.306Z"
   },
   {
    "duration": 9,
    "start_time": "2022-08-09T17:41:36.314Z"
   },
   {
    "duration": 15,
    "start_time": "2022-08-09T17:41:36.325Z"
   },
   {
    "duration": 19,
    "start_time": "2022-08-09T17:41:36.342Z"
   },
   {
    "duration": 11,
    "start_time": "2022-08-09T17:41:36.363Z"
   },
   {
    "duration": 41,
    "start_time": "2022-08-09T17:41:36.376Z"
   },
   {
    "duration": 6,
    "start_time": "2022-08-09T17:41:36.418Z"
   },
   {
    "duration": 14,
    "start_time": "2022-08-09T17:41:36.425Z"
   },
   {
    "duration": 206,
    "start_time": "2022-08-09T17:41:36.441Z"
   },
   {
    "duration": 8,
    "start_time": "2022-08-09T17:41:36.648Z"
   },
   {
    "duration": 220,
    "start_time": "2022-08-09T17:41:36.657Z"
   },
   {
    "duration": 8,
    "start_time": "2022-08-09T17:41:36.879Z"
   },
   {
    "duration": 96,
    "start_time": "2022-08-09T17:41:36.889Z"
   },
   {
    "duration": 9,
    "start_time": "2022-08-09T17:41:37.000Z"
   },
   {
    "duration": 102,
    "start_time": "2022-08-09T17:41:37.010Z"
   },
   {
    "duration": 9,
    "start_time": "2022-08-09T17:41:37.113Z"
   },
   {
    "duration": 173,
    "start_time": "2022-08-09T17:41:37.123Z"
   },
   {
    "duration": 7,
    "start_time": "2022-08-09T17:41:37.298Z"
   },
   {
    "duration": 12,
    "start_time": "2022-08-09T17:41:37.306Z"
   },
   {
    "duration": 158,
    "start_time": "2022-08-09T17:41:37.319Z"
   },
   {
    "duration": 6,
    "start_time": "2022-08-09T17:41:37.479Z"
   },
   {
    "duration": 14,
    "start_time": "2022-08-09T17:41:37.487Z"
   },
   {
    "duration": 29,
    "start_time": "2022-08-09T17:41:37.503Z"
   },
   {
    "duration": 6,
    "start_time": "2022-08-09T17:41:37.534Z"
   },
   {
    "duration": 10,
    "start_time": "2022-08-09T17:41:37.541Z"
   },
   {
    "duration": 170,
    "start_time": "2022-08-09T17:41:37.553Z"
   },
   {
    "duration": 8,
    "start_time": "2022-08-09T17:41:37.724Z"
   },
   {
    "duration": 191,
    "start_time": "2022-08-09T17:41:37.733Z"
   },
   {
    "duration": 11,
    "start_time": "2022-08-09T17:41:37.926Z"
   },
   {
    "duration": 165,
    "start_time": "2022-08-09T17:41:37.939Z"
   },
   {
    "duration": 7,
    "start_time": "2022-08-09T17:41:38.105Z"
   },
   {
    "duration": 16,
    "start_time": "2022-08-09T17:41:38.114Z"
   },
   {
    "duration": 170,
    "start_time": "2022-08-09T17:41:38.132Z"
   },
   {
    "duration": 8,
    "start_time": "2022-08-09T17:41:38.304Z"
   },
   {
    "duration": 89,
    "start_time": "2022-08-09T17:41:38.313Z"
   },
   {
    "duration": 11,
    "start_time": "2022-08-09T17:41:38.404Z"
   },
   {
    "duration": 171,
    "start_time": "2022-08-09T17:41:38.417Z"
   },
   {
    "duration": 14,
    "start_time": "2022-08-09T17:41:38.589Z"
   },
   {
    "duration": 8,
    "start_time": "2022-08-09T17:41:38.604Z"
   },
   {
    "duration": 33,
    "start_time": "2022-08-09T17:41:38.613Z"
   },
   {
    "duration": 5,
    "start_time": "2022-08-09T17:41:38.648Z"
   },
   {
    "duration": 10,
    "start_time": "2022-08-09T17:41:38.654Z"
   },
   {
    "duration": 200,
    "start_time": "2022-08-09T17:41:38.666Z"
   },
   {
    "duration": 9,
    "start_time": "2022-08-09T17:41:38.868Z"
   },
   {
    "duration": 123,
    "start_time": "2022-08-09T17:41:38.879Z"
   },
   {
    "duration": 14,
    "start_time": "2022-08-09T17:41:39.004Z"
   },
   {
    "duration": 178,
    "start_time": "2022-08-09T17:41:39.019Z"
   },
   {
    "duration": 7,
    "start_time": "2022-08-09T17:41:39.199Z"
   },
   {
    "duration": 8,
    "start_time": "2022-08-09T17:41:39.208Z"
   },
   {
    "duration": 168,
    "start_time": "2022-08-09T17:41:39.218Z"
   },
   {
    "duration": 15,
    "start_time": "2022-08-09T17:41:39.388Z"
   },
   {
    "duration": 79,
    "start_time": "2022-08-09T17:41:39.404Z"
   },
   {
    "duration": 28,
    "start_time": "2022-08-09T17:41:39.485Z"
   },
   {
    "duration": 280,
    "start_time": "2022-08-09T17:41:39.515Z"
   },
   {
    "duration": 8,
    "start_time": "2022-08-09T17:41:39.797Z"
   },
   {
    "duration": 18,
    "start_time": "2022-08-09T17:41:39.807Z"
   },
   {
    "duration": 35,
    "start_time": "2022-08-09T17:41:39.827Z"
   },
   {
    "duration": 20,
    "start_time": "2022-08-09T17:41:39.864Z"
   },
   {
    "duration": 17,
    "start_time": "2022-08-09T17:41:39.886Z"
   },
   {
    "duration": 11,
    "start_time": "2022-08-09T17:41:39.905Z"
   },
   {
    "duration": 139,
    "start_time": "2022-08-09T17:41:39.918Z"
   },
   {
    "duration": 158,
    "start_time": "2022-08-09T17:41:40.058Z"
   },
   {
    "duration": 163,
    "start_time": "2022-08-09T17:41:40.218Z"
   },
   {
    "duration": 147,
    "start_time": "2022-08-09T17:41:40.383Z"
   },
   {
    "duration": 6,
    "start_time": "2022-08-09T17:41:40.532Z"
   },
   {
    "duration": 27,
    "start_time": "2022-08-09T17:41:40.539Z"
   },
   {
    "duration": 158,
    "start_time": "2022-08-09T17:41:40.567Z"
   },
   {
    "duration": 152,
    "start_time": "2022-08-09T17:41:40.726Z"
   },
   {
    "duration": 24,
    "start_time": "2022-08-09T17:41:40.880Z"
   },
   {
    "duration": 8,
    "start_time": "2022-08-09T17:41:40.905Z"
   },
   {
    "duration": 11,
    "start_time": "2022-08-09T17:41:40.914Z"
   },
   {
    "duration": 9,
    "start_time": "2022-08-09T17:41:40.926Z"
   },
   {
    "duration": 11,
    "start_time": "2022-08-09T17:41:40.937Z"
   },
   {
    "duration": 9,
    "start_time": "2022-08-09T17:41:40.950Z"
   },
   {
    "duration": 5,
    "start_time": "2022-08-09T17:41:40.966Z"
   },
   {
    "duration": 162,
    "start_time": "2022-08-09T17:41:40.973Z"
   },
   {
    "duration": 174,
    "start_time": "2022-08-09T17:41:41.136Z"
   },
   {
    "duration": 4,
    "start_time": "2022-08-09T17:41:41.312Z"
   },
   {
    "duration": 12,
    "start_time": "2022-08-09T17:41:41.317Z"
   },
   {
    "duration": 8,
    "start_time": "2022-08-09T17:41:41.331Z"
   },
   {
    "duration": 186,
    "start_time": "2022-08-09T17:41:41.341Z"
   },
   {
    "duration": 157,
    "start_time": "2022-08-09T17:41:41.529Z"
   },
   {
    "duration": 34,
    "start_time": "2022-08-09T17:41:44.506Z"
   },
   {
    "duration": 37,
    "start_time": "2022-08-09T17:41:54.959Z"
   },
   {
    "duration": 1100,
    "start_time": "2022-08-09T17:41:54.998Z"
   },
   {
    "duration": 3,
    "start_time": "2022-08-09T17:41:56.099Z"
   },
   {
    "duration": 13,
    "start_time": "2022-08-09T17:41:56.103Z"
   },
   {
    "duration": 798,
    "start_time": "2022-08-09T17:41:56.118Z"
   },
   {
    "duration": 4,
    "start_time": "2022-08-09T17:41:56.917Z"
   },
   {
    "duration": 19,
    "start_time": "2022-08-09T17:41:56.923Z"
   },
   {
    "duration": 27,
    "start_time": "2022-08-09T17:41:56.944Z"
   },
   {
    "duration": 8,
    "start_time": "2022-08-09T17:41:56.973Z"
   },
   {
    "duration": 251,
    "start_time": "2022-08-09T17:41:56.999Z"
   },
   {
    "duration": 7,
    "start_time": "2022-08-09T17:41:57.251Z"
   },
   {
    "duration": 141,
    "start_time": "2022-08-09T17:41:57.260Z"
   },
   {
    "duration": 9,
    "start_time": "2022-08-09T17:41:57.403Z"
   },
   {
    "duration": 187,
    "start_time": "2022-08-09T17:41:57.416Z"
   },
   {
    "duration": 10,
    "start_time": "2022-08-09T17:41:57.605Z"
   },
   {
    "duration": 32,
    "start_time": "2022-08-09T17:41:57.616Z"
   },
   {
    "duration": 5,
    "start_time": "2022-08-09T17:41:57.650Z"
   },
   {
    "duration": 30,
    "start_time": "2022-08-09T17:41:57.657Z"
   },
   {
    "duration": 4,
    "start_time": "2022-08-09T17:41:57.689Z"
   },
   {
    "duration": 34,
    "start_time": "2022-08-09T17:41:57.699Z"
   },
   {
    "duration": 64,
    "start_time": "2022-08-09T17:41:57.735Z"
   },
   {
    "duration": 22,
    "start_time": "2022-08-09T17:41:57.800Z"
   },
   {
    "duration": 3,
    "start_time": "2022-08-09T17:41:57.824Z"
   },
   {
    "duration": 53,
    "start_time": "2022-08-09T17:41:57.828Z"
   },
   {
    "duration": 63,
    "start_time": "2022-08-09T17:41:57.883Z"
   },
   {
    "duration": 106,
    "start_time": "2022-08-09T17:41:57.948Z"
   },
   {
    "duration": 4,
    "start_time": "2022-08-09T17:41:58.055Z"
   },
   {
    "duration": 20,
    "start_time": "2022-08-09T17:41:58.060Z"
   },
   {
    "duration": 18,
    "start_time": "2022-08-09T17:41:58.082Z"
   },
   {
    "duration": 2,
    "start_time": "2022-08-09T17:41:58.102Z"
   },
   {
    "duration": 7,
    "start_time": "2022-08-09T17:41:58.105Z"
   },
   {
    "duration": 37,
    "start_time": "2022-08-09T17:41:58.114Z"
   },
   {
    "duration": 25,
    "start_time": "2022-08-09T17:41:58.152Z"
   },
   {
    "duration": 49,
    "start_time": "2022-08-09T17:41:58.178Z"
   },
   {
    "duration": 81,
    "start_time": "2022-08-09T17:41:58.229Z"
   },
   {
    "duration": 17,
    "start_time": "2022-08-09T17:41:58.312Z"
   },
   {
    "duration": 14,
    "start_time": "2022-08-09T17:41:58.331Z"
   },
   {
    "duration": 66,
    "start_time": "2022-08-09T17:41:58.346Z"
   },
   {
    "duration": 45,
    "start_time": "2022-08-09T17:41:58.413Z"
   },
   {
    "duration": 67,
    "start_time": "2022-08-09T17:41:58.460Z"
   },
   {
    "duration": 99,
    "start_time": "2022-08-09T17:41:58.532Z"
   },
   {
    "duration": 13,
    "start_time": "2022-08-09T17:41:58.633Z"
   },
   {
    "duration": 16,
    "start_time": "2022-08-09T17:41:58.648Z"
   },
   {
    "duration": 48,
    "start_time": "2022-08-09T17:41:58.665Z"
   },
   {
    "duration": 22,
    "start_time": "2022-08-09T17:41:58.715Z"
   },
   {
    "duration": 7,
    "start_time": "2022-08-09T17:41:58.739Z"
   },
   {
    "duration": 10,
    "start_time": "2022-08-09T17:41:58.747Z"
   },
   {
    "duration": 6,
    "start_time": "2022-08-09T17:41:58.759Z"
   },
   {
    "duration": 33,
    "start_time": "2022-08-09T17:41:58.767Z"
   },
   {
    "duration": 8,
    "start_time": "2022-08-09T17:41:58.802Z"
   },
   {
    "duration": 24,
    "start_time": "2022-08-09T17:41:58.812Z"
   },
   {
    "duration": 12,
    "start_time": "2022-08-09T17:41:58.838Z"
   },
   {
    "duration": 23,
    "start_time": "2022-08-09T17:41:58.852Z"
   },
   {
    "duration": 27,
    "start_time": "2022-08-09T17:41:58.877Z"
   },
   {
    "duration": 17,
    "start_time": "2022-08-09T17:41:58.906Z"
   },
   {
    "duration": 229,
    "start_time": "2022-08-09T17:41:58.924Z"
   },
   {
    "duration": 9,
    "start_time": "2022-08-09T17:41:59.155Z"
   },
   {
    "duration": 227,
    "start_time": "2022-08-09T17:41:59.166Z"
   },
   {
    "duration": 13,
    "start_time": "2022-08-09T17:41:59.395Z"
   },
   {
    "duration": 132,
    "start_time": "2022-08-09T17:41:59.409Z"
   },
   {
    "duration": 10,
    "start_time": "2022-08-09T17:41:59.543Z"
   },
   {
    "duration": 121,
    "start_time": "2022-08-09T17:41:59.555Z"
   },
   {
    "duration": 9,
    "start_time": "2022-08-09T17:41:59.677Z"
   },
   {
    "duration": 166,
    "start_time": "2022-08-09T17:41:59.688Z"
   },
   {
    "duration": 8,
    "start_time": "2022-08-09T17:41:59.856Z"
   },
   {
    "duration": 23,
    "start_time": "2022-08-09T17:41:59.866Z"
   },
   {
    "duration": 172,
    "start_time": "2022-08-09T17:41:59.891Z"
   },
   {
    "duration": 7,
    "start_time": "2022-08-09T17:42:00.065Z"
   },
   {
    "duration": 35,
    "start_time": "2022-08-09T17:42:00.073Z"
   },
   {
    "duration": 43,
    "start_time": "2022-08-09T17:42:00.112Z"
   },
   {
    "duration": 29,
    "start_time": "2022-08-09T17:42:00.157Z"
   },
   {
    "duration": 37,
    "start_time": "2022-08-09T17:42:00.188Z"
   },
   {
    "duration": 211,
    "start_time": "2022-08-09T17:42:00.227Z"
   },
   {
    "duration": 8,
    "start_time": "2022-08-09T17:42:00.440Z"
   },
   {
    "duration": 214,
    "start_time": "2022-08-09T17:42:00.450Z"
   },
   {
    "duration": 16,
    "start_time": "2022-08-09T17:42:00.668Z"
   },
   {
    "duration": 249,
    "start_time": "2022-08-09T17:42:00.687Z"
   },
   {
    "duration": 8,
    "start_time": "2022-08-09T17:42:00.938Z"
   },
   {
    "duration": 45,
    "start_time": "2022-08-09T17:42:00.947Z"
   },
   {
    "duration": 294,
    "start_time": "2022-08-09T17:42:00.994Z"
   },
   {
    "duration": 15,
    "start_time": "2022-08-09T17:42:01.290Z"
   },
   {
    "duration": 204,
    "start_time": "2022-08-09T17:42:01.306Z"
   },
   {
    "duration": 21,
    "start_time": "2022-08-09T17:42:01.512Z"
   },
   {
    "duration": 282,
    "start_time": "2022-08-09T17:42:01.535Z"
   },
   {
    "duration": 9,
    "start_time": "2022-08-09T17:42:01.819Z"
   },
   {
    "duration": 96,
    "start_time": "2022-08-09T17:42:01.830Z"
   },
   {
    "duration": 75,
    "start_time": "2022-08-09T17:42:01.928Z"
   },
   {
    "duration": 48,
    "start_time": "2022-08-09T17:42:02.005Z"
   },
   {
    "duration": 58,
    "start_time": "2022-08-09T17:42:02.055Z"
   },
   {
    "duration": 218,
    "start_time": "2022-08-09T17:42:02.115Z"
   },
   {
    "duration": 9,
    "start_time": "2022-08-09T17:42:02.335Z"
   },
   {
    "duration": 152,
    "start_time": "2022-08-09T17:42:02.350Z"
   },
   {
    "duration": 13,
    "start_time": "2022-08-09T17:42:02.504Z"
   },
   {
    "duration": 214,
    "start_time": "2022-08-09T17:42:02.518Z"
   },
   {
    "duration": 8,
    "start_time": "2022-08-09T17:42:02.734Z"
   },
   {
    "duration": 31,
    "start_time": "2022-08-09T17:42:02.744Z"
   },
   {
    "duration": 171,
    "start_time": "2022-08-09T17:42:02.776Z"
   },
   {
    "duration": 9,
    "start_time": "2022-08-09T17:42:02.948Z"
   },
   {
    "duration": 103,
    "start_time": "2022-08-09T17:42:02.958Z"
   },
   {
    "duration": 12,
    "start_time": "2022-08-09T17:42:03.062Z"
   },
   {
    "duration": 292,
    "start_time": "2022-08-09T17:42:03.076Z"
   },
   {
    "duration": 7,
    "start_time": "2022-08-09T17:42:03.370Z"
   },
   {
    "duration": 36,
    "start_time": "2022-08-09T17:42:03.378Z"
   },
   {
    "duration": 30,
    "start_time": "2022-08-09T17:42:03.416Z"
   },
   {
    "duration": 31,
    "start_time": "2022-08-09T17:42:03.448Z"
   },
   {
    "duration": 53,
    "start_time": "2022-08-09T17:42:03.481Z"
   },
   {
    "duration": 35,
    "start_time": "2022-08-09T17:42:03.535Z"
   },
   {
    "duration": 175,
    "start_time": "2022-08-09T17:42:03.572Z"
   },
   {
    "duration": 155,
    "start_time": "2022-08-09T17:42:03.748Z"
   },
   {
    "duration": 145,
    "start_time": "2022-08-09T17:42:03.904Z"
   },
   {
    "duration": 142,
    "start_time": "2022-08-09T17:42:04.051Z"
   },
   {
    "duration": 6,
    "start_time": "2022-08-09T17:42:04.199Z"
   },
   {
    "duration": 34,
    "start_time": "2022-08-09T17:42:04.206Z"
   },
   {
    "duration": 143,
    "start_time": "2022-08-09T17:42:04.242Z"
   },
   {
    "duration": 146,
    "start_time": "2022-08-09T17:42:04.387Z"
   },
   {
    "duration": 12,
    "start_time": "2022-08-09T17:42:04.535Z"
   },
   {
    "duration": 12,
    "start_time": "2022-08-09T17:42:04.548Z"
   },
   {
    "duration": 8,
    "start_time": "2022-08-09T17:42:04.562Z"
   },
   {
    "duration": 30,
    "start_time": "2022-08-09T17:42:04.571Z"
   },
   {
    "duration": 7,
    "start_time": "2022-08-09T17:42:04.603Z"
   },
   {
    "duration": 7,
    "start_time": "2022-08-09T17:42:04.611Z"
   },
   {
    "duration": 5,
    "start_time": "2022-08-09T17:42:04.624Z"
   },
   {
    "duration": 158,
    "start_time": "2022-08-09T17:42:04.630Z"
   },
   {
    "duration": 184,
    "start_time": "2022-08-09T17:42:04.799Z"
   },
   {
    "duration": 5,
    "start_time": "2022-08-09T17:42:04.985Z"
   },
   {
    "duration": 16,
    "start_time": "2022-08-09T17:42:04.992Z"
   },
   {
    "duration": 7,
    "start_time": "2022-08-09T17:42:05.009Z"
   },
   {
    "duration": 154,
    "start_time": "2022-08-09T17:42:05.017Z"
   },
   {
    "duration": 132,
    "start_time": "2022-08-09T17:42:05.172Z"
   }
  ],
  "kernelspec": {
   "display_name": "Python 3 (ipykernel)",
   "language": "python",
   "name": "python3"
  },
  "language_info": {
   "codemirror_mode": {
    "name": "ipython",
    "version": 3
   },
   "file_extension": ".py",
   "mimetype": "text/x-python",
   "name": "python",
   "nbconvert_exporter": "python",
   "pygments_lexer": "ipython3",
   "version": "3.9.5"
  },
  "toc": {
   "base_numbering": 1,
   "nav_menu": {},
   "number_sections": true,
   "sideBar": true,
   "skip_h1_title": true,
   "title_cell": "Table of Contents",
   "title_sidebar": "Contents",
   "toc_cell": false,
   "toc_position": {
    "height": "calc(100% - 180px)",
    "left": "10px",
    "top": "150px",
    "width": "288px"
   },
   "toc_section_display": true,
   "toc_window_display": true
  }
 },
 "nbformat": 4,
 "nbformat_minor": 5
}
