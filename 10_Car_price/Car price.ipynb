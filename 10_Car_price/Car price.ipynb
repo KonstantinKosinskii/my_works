{
 "cells": [
  {
   "cell_type": "markdown",
   "metadata": {},
   "source": [
    "## Подготовка данных"
   ]
  },
  {
   "cell_type": "code",
   "execution_count": 1,
   "metadata": {},
   "outputs": [],
   "source": [
    "import pandas as pd\n",
    "import numpy as np\n",
    "import matplotlib.pyplot as plt\n",
    "import seaborn as sns\n",
    "import time\n",
    "import math\n",
    "from scipy.stats import norm\n",
    "from scipy import stats as st\n",
    "\n",
    "from sklearn.metrics import mean_squared_error\n",
    "from sklearn.preprocessing import OrdinalEncoder\n",
    "from sklearn.model_selection import train_test_split\n",
    "from sklearn.model_selection import cross_val_score\n",
    "from sklearn.metrics import make_scorer \n",
    "\n",
    "from lightgbm import LGBMRegressor\n",
    "from catboost import CatBoostRegressor\n",
    "from sklearn.ensemble import RandomForestRegressor\n",
    "from sklearn.linear_model import LinearRegression\n",
    "from sklearn.dummy import DummyRegressor"
   ]
  },
  {
   "cell_type": "markdown",
   "metadata": {},
   "source": [
    "Устанавливаем отображение до двух знаков после запятой"
   ]
  },
  {
   "cell_type": "code",
   "execution_count": 2,
   "metadata": {},
   "outputs": [],
   "source": [
    "pd.set_option('display.float_format', '{:,.2f}'.format)"
   ]
  },
  {
   "cell_type": "markdown",
   "metadata": {},
   "source": [
    "### Ознакомление с данными"
   ]
  },
  {
   "cell_type": "markdown",
   "metadata": {},
   "source": [
    "Загружаем данные"
   ]
  },
  {
   "cell_type": "code",
   "execution_count": 3,
   "metadata": {},
   "outputs": [
    {
     "data": {
      "text/html": [
       "<div>\n",
       "<style scoped>\n",
       "    .dataframe tbody tr th:only-of-type {\n",
       "        vertical-align: middle;\n",
       "    }\n",
       "\n",
       "    .dataframe tbody tr th {\n",
       "        vertical-align: top;\n",
       "    }\n",
       "\n",
       "    .dataframe thead th {\n",
       "        text-align: right;\n",
       "    }\n",
       "</style>\n",
       "<table border=\"1\" class=\"dataframe\">\n",
       "  <thead>\n",
       "    <tr style=\"text-align: right;\">\n",
       "      <th></th>\n",
       "      <th>DateCrawled</th>\n",
       "      <th>Price</th>\n",
       "      <th>VehicleType</th>\n",
       "      <th>RegistrationYear</th>\n",
       "      <th>Gearbox</th>\n",
       "      <th>Power</th>\n",
       "      <th>Model</th>\n",
       "      <th>Kilometer</th>\n",
       "      <th>RegistrationMonth</th>\n",
       "      <th>FuelType</th>\n",
       "      <th>Brand</th>\n",
       "      <th>NotRepaired</th>\n",
       "      <th>DateCreated</th>\n",
       "      <th>NumberOfPictures</th>\n",
       "      <th>PostalCode</th>\n",
       "      <th>LastSeen</th>\n",
       "    </tr>\n",
       "  </thead>\n",
       "  <tbody>\n",
       "    <tr>\n",
       "      <td>0</td>\n",
       "      <td>2016-03-24 11:52:17</td>\n",
       "      <td>480</td>\n",
       "      <td>NaN</td>\n",
       "      <td>1993</td>\n",
       "      <td>manual</td>\n",
       "      <td>0</td>\n",
       "      <td>golf</td>\n",
       "      <td>150000</td>\n",
       "      <td>0</td>\n",
       "      <td>petrol</td>\n",
       "      <td>volkswagen</td>\n",
       "      <td>NaN</td>\n",
       "      <td>2016-03-24 00:00:00</td>\n",
       "      <td>0</td>\n",
       "      <td>70435</td>\n",
       "      <td>2016-04-07 03:16:57</td>\n",
       "    </tr>\n",
       "    <tr>\n",
       "      <td>1</td>\n",
       "      <td>2016-03-24 10:58:45</td>\n",
       "      <td>18300</td>\n",
       "      <td>coupe</td>\n",
       "      <td>2011</td>\n",
       "      <td>manual</td>\n",
       "      <td>190</td>\n",
       "      <td>NaN</td>\n",
       "      <td>125000</td>\n",
       "      <td>5</td>\n",
       "      <td>gasoline</td>\n",
       "      <td>audi</td>\n",
       "      <td>yes</td>\n",
       "      <td>2016-03-24 00:00:00</td>\n",
       "      <td>0</td>\n",
       "      <td>66954</td>\n",
       "      <td>2016-04-07 01:46:50</td>\n",
       "    </tr>\n",
       "    <tr>\n",
       "      <td>2</td>\n",
       "      <td>2016-03-14 12:52:21</td>\n",
       "      <td>9800</td>\n",
       "      <td>suv</td>\n",
       "      <td>2004</td>\n",
       "      <td>auto</td>\n",
       "      <td>163</td>\n",
       "      <td>grand</td>\n",
       "      <td>125000</td>\n",
       "      <td>8</td>\n",
       "      <td>gasoline</td>\n",
       "      <td>jeep</td>\n",
       "      <td>NaN</td>\n",
       "      <td>2016-03-14 00:00:00</td>\n",
       "      <td>0</td>\n",
       "      <td>90480</td>\n",
       "      <td>2016-04-05 12:47:46</td>\n",
       "    </tr>\n",
       "    <tr>\n",
       "      <td>3</td>\n",
       "      <td>2016-03-17 16:54:04</td>\n",
       "      <td>1500</td>\n",
       "      <td>small</td>\n",
       "      <td>2001</td>\n",
       "      <td>manual</td>\n",
       "      <td>75</td>\n",
       "      <td>golf</td>\n",
       "      <td>150000</td>\n",
       "      <td>6</td>\n",
       "      <td>petrol</td>\n",
       "      <td>volkswagen</td>\n",
       "      <td>no</td>\n",
       "      <td>2016-03-17 00:00:00</td>\n",
       "      <td>0</td>\n",
       "      <td>91074</td>\n",
       "      <td>2016-03-17 17:40:17</td>\n",
       "    </tr>\n",
       "    <tr>\n",
       "      <td>4</td>\n",
       "      <td>2016-03-31 17:25:20</td>\n",
       "      <td>3600</td>\n",
       "      <td>small</td>\n",
       "      <td>2008</td>\n",
       "      <td>manual</td>\n",
       "      <td>69</td>\n",
       "      <td>fabia</td>\n",
       "      <td>90000</td>\n",
       "      <td>7</td>\n",
       "      <td>gasoline</td>\n",
       "      <td>skoda</td>\n",
       "      <td>no</td>\n",
       "      <td>2016-03-31 00:00:00</td>\n",
       "      <td>0</td>\n",
       "      <td>60437</td>\n",
       "      <td>2016-04-06 10:17:21</td>\n",
       "    </tr>\n",
       "  </tbody>\n",
       "</table>\n",
       "</div>"
      ],
      "text/plain": [
       "           DateCrawled  Price VehicleType  RegistrationYear Gearbox  Power  \\\n",
       "0  2016-03-24 11:52:17    480         NaN              1993  manual      0   \n",
       "1  2016-03-24 10:58:45  18300       coupe              2011  manual    190   \n",
       "2  2016-03-14 12:52:21   9800         suv              2004    auto    163   \n",
       "3  2016-03-17 16:54:04   1500       small              2001  manual     75   \n",
       "4  2016-03-31 17:25:20   3600       small              2008  manual     69   \n",
       "\n",
       "   Model  Kilometer  RegistrationMonth  FuelType       Brand NotRepaired  \\\n",
       "0   golf     150000                  0    petrol  volkswagen         NaN   \n",
       "1    NaN     125000                  5  gasoline        audi         yes   \n",
       "2  grand     125000                  8  gasoline        jeep         NaN   \n",
       "3   golf     150000                  6    petrol  volkswagen          no   \n",
       "4  fabia      90000                  7  gasoline       skoda          no   \n",
       "\n",
       "           DateCreated  NumberOfPictures  PostalCode             LastSeen  \n",
       "0  2016-03-24 00:00:00                 0       70435  2016-04-07 03:16:57  \n",
       "1  2016-03-24 00:00:00                 0       66954  2016-04-07 01:46:50  \n",
       "2  2016-03-14 00:00:00                 0       90480  2016-04-05 12:47:46  \n",
       "3  2016-03-17 00:00:00                 0       91074  2016-03-17 17:40:17  \n",
       "4  2016-03-31 00:00:00                 0       60437  2016-04-06 10:17:21  "
      ]
     },
     "execution_count": 3,
     "metadata": {},
     "output_type": "execute_result"
    }
   ],
   "source": [
    "data = pd.read_csv('/datasets/autos.csv')\n",
    "data.head()"
   ]
  },
  {
   "cell_type": "code",
   "execution_count": 4,
   "metadata": {},
   "outputs": [
    {
     "name": "stdout",
     "output_type": "stream",
     "text": [
      "<class 'pandas.core.frame.DataFrame'>\n",
      "RangeIndex: 354369 entries, 0 to 354368\n",
      "Data columns (total 16 columns):\n",
      "DateCrawled          354369 non-null object\n",
      "Price                354369 non-null int64\n",
      "VehicleType          316879 non-null object\n",
      "RegistrationYear     354369 non-null int64\n",
      "Gearbox              334536 non-null object\n",
      "Power                354369 non-null int64\n",
      "Model                334664 non-null object\n",
      "Kilometer            354369 non-null int64\n",
      "RegistrationMonth    354369 non-null int64\n",
      "FuelType             321474 non-null object\n",
      "Brand                354369 non-null object\n",
      "NotRepaired          283215 non-null object\n",
      "DateCreated          354369 non-null object\n",
      "NumberOfPictures     354369 non-null int64\n",
      "PostalCode           354369 non-null int64\n",
      "LastSeen             354369 non-null object\n",
      "dtypes: int64(7), object(9)\n",
      "memory usage: 43.3+ MB\n"
     ]
    }
   ],
   "source": [
    "data.info()"
   ]
  },
  {
   "cell_type": "code",
   "execution_count": 5,
   "metadata": {},
   "outputs": [
    {
     "data": {
      "text/plain": [
       "count   354,369.00\n",
       "mean      2,004.23\n",
       "std          90.23\n",
       "min       1,000.00\n",
       "25%       1,999.00\n",
       "50%       2,003.00\n",
       "75%       2,008.00\n",
       "max       9,999.00\n",
       "Name: RegistrationYear, dtype: float64"
      ]
     },
     "execution_count": 5,
     "metadata": {},
     "output_type": "execute_result"
    }
   ],
   "source": [
    "data['RegistrationYear'].describe()"
   ]
  },
  {
   "cell_type": "markdown",
   "metadata": {},
   "source": [
    "Количество пропусков по столбцам"
   ]
  },
  {
   "cell_type": "code",
   "execution_count": 6,
   "metadata": {},
   "outputs": [
    {
     "data": {
      "text/plain": [
       "DateCrawled              0\n",
       "Price                    0\n",
       "VehicleType          37490\n",
       "RegistrationYear         0\n",
       "Gearbox              19833\n",
       "Power                    0\n",
       "Model                19705\n",
       "Kilometer                0\n",
       "RegistrationMonth        0\n",
       "FuelType             32895\n",
       "Brand                    0\n",
       "NotRepaired          71154\n",
       "DateCreated              0\n",
       "NumberOfPictures         0\n",
       "PostalCode               0\n",
       "LastSeen                 0\n",
       "dtype: int64"
      ]
     },
     "execution_count": 6,
     "metadata": {},
     "output_type": "execute_result"
    }
   ],
   "source": [
    "data.isna().sum()"
   ]
  },
  {
   "cell_type": "markdown",
   "metadata": {},
   "source": [
    "Процент пропусков по столбцам"
   ]
  },
  {
   "cell_type": "code",
   "execution_count": 7,
   "metadata": {},
   "outputs": [
    {
     "data": {
      "text/plain": [
       "DateCrawled         0.00\n",
       "Price               0.00\n",
       "VehicleType         0.11\n",
       "RegistrationYear    0.00\n",
       "Gearbox             0.06\n",
       "Power               0.00\n",
       "Model               0.06\n",
       "Kilometer           0.00\n",
       "RegistrationMonth   0.00\n",
       "FuelType            0.09\n",
       "Brand               0.00\n",
       "NotRepaired         0.20\n",
       "DateCreated         0.00\n",
       "NumberOfPictures    0.00\n",
       "PostalCode          0.00\n",
       "LastSeen            0.00\n",
       "dtype: float64"
      ]
     },
     "execution_count": 7,
     "metadata": {},
     "output_type": "execute_result"
    }
   ],
   "source": [
    "data.isna().mean()"
   ]
  },
  {
   "cell_type": "code",
   "execution_count": 8,
   "metadata": {},
   "outputs": [],
   "source": [
    "columns_nan = ['VehicleType', 'Gearbox', 'Model', 'FuelType', 'NotRepaired']"
   ]
  },
  {
   "cell_type": "markdown",
   "metadata": {},
   "source": [
    "Посмотрим уникальные значения колонок"
   ]
  },
  {
   "cell_type": "code",
   "execution_count": 9,
   "metadata": {},
   "outputs": [
    {
     "name": "stdout",
     "output_type": "stream",
     "text": [
      "2016-03-24 14:49:47    7\n",
      "2016-03-19 21:49:56    6\n",
      "2016-03-26 22:57:31    6\n",
      "2016-03-31 18:50:16    5\n",
      "2016-04-02 21:54:36    5\n",
      "                      ..\n",
      "2016-03-26 12:45:41    1\n",
      "2016-04-01 15:38:27    1\n",
      "2016-03-19 10:53:10    1\n",
      "2016-03-27 16:58:16    1\n",
      "2016-03-25 21:48:20    1\n",
      "Name: DateCrawled, Length: 271174, dtype: int64\n",
      "\n",
      "0        10772\n",
      "500       5670\n",
      "1500      5394\n",
      "1000      4649\n",
      "1200      4594\n",
      "         ...  \n",
      "13440        1\n",
      "1414         1\n",
      "8069         1\n",
      "10370        1\n",
      "384          1\n",
      "Name: Price, Length: 3731, dtype: int64\n",
      "\n",
      "sedan          91457\n",
      "small          79831\n",
      "wagon          65166\n",
      "bus            28775\n",
      "convertible    20203\n",
      "coupe          16163\n",
      "suv            11996\n",
      "other           3288\n",
      "Name: VehicleType, dtype: int64\n",
      "\n",
      "2000    24490\n",
      "1999    22728\n",
      "2005    22109\n",
      "2001    20124\n",
      "2006    19900\n",
      "        ...  \n",
      "3200        1\n",
      "1920        1\n",
      "1919        1\n",
      "1915        1\n",
      "8455        1\n",
      "Name: RegistrationYear, Length: 151, dtype: int64\n",
      "\n",
      "manual    268251\n",
      "auto       66285\n",
      "Name: Gearbox, dtype: int64\n",
      "\n",
      "0        40225\n",
      "75       24023\n",
      "60       15897\n",
      "150      14590\n",
      "101      13298\n",
      "         ...  \n",
      "16311        1\n",
      "1360         1\n",
      "1968         1\n",
      "6226         1\n",
      "6006         1\n",
      "Name: Power, Length: 712, dtype: int64\n",
      "\n",
      "golf                  29232\n",
      "other                 24421\n",
      "3er                   19761\n",
      "polo                  13066\n",
      "corsa                 12570\n",
      "                      ...  \n",
      "serie_2                   8\n",
      "rangerover                4\n",
      "serie_3                   4\n",
      "serie_1                   2\n",
      "range_rover_evoque        2\n",
      "Name: Model, Length: 250, dtype: int64\n",
      "\n",
      "150000    238209\n",
      "125000     36454\n",
      "100000     14882\n",
      "90000      11567\n",
      "80000      10047\n",
      "70000       8593\n",
      "60000       7444\n",
      "5000        6397\n",
      "50000       6232\n",
      "40000       4911\n",
      "30000       4436\n",
      "20000       3975\n",
      "10000       1222\n",
      "Name: Kilometer, dtype: int64\n",
      "\n",
      "0     37352\n",
      "3     34373\n",
      "6     31508\n",
      "4     29270\n",
      "5     29153\n",
      "7     27213\n",
      "10    26099\n",
      "12    24289\n",
      "11    24186\n",
      "9     23813\n",
      "1     23219\n",
      "8     22627\n",
      "2     21267\n",
      "Name: RegistrationMonth, dtype: int64\n",
      "\n",
      "petrol      216352\n",
      "gasoline     98720\n",
      "lpg           5310\n",
      "cng            565\n",
      "hybrid         233\n",
      "other          204\n",
      "electric        90\n",
      "Name: FuelType, dtype: int64\n",
      "\n",
      "volkswagen        77013\n",
      "opel              39931\n",
      "bmw               36914\n",
      "mercedes_benz     32046\n",
      "audi              29456\n",
      "ford              25179\n",
      "renault           17927\n",
      "peugeot           10998\n",
      "fiat               9643\n",
      "seat               6907\n",
      "mazda              5615\n",
      "skoda              5500\n",
      "smart              5246\n",
      "citroen            5148\n",
      "nissan             4941\n",
      "toyota             4606\n",
      "hyundai            3587\n",
      "sonstige_autos     3374\n",
      "volvo              3210\n",
      "mini               3202\n",
      "mitsubishi         3022\n",
      "honda              2817\n",
      "kia                2465\n",
      "suzuki             2323\n",
      "alfa_romeo         2314\n",
      "chevrolet          1754\n",
      "chrysler           1439\n",
      "dacia               900\n",
      "daihatsu            806\n",
      "subaru              762\n",
      "porsche             758\n",
      "jeep                677\n",
      "trabant             589\n",
      "land_rover          545\n",
      "daewoo              542\n",
      "saab                526\n",
      "jaguar              505\n",
      "rover               486\n",
      "lancia              471\n",
      "lada                225\n",
      "Name: Brand, dtype: int64\n",
      "\n",
      "no     247161\n",
      "yes     36054\n",
      "Name: NotRepaired, dtype: int64\n",
      "\n",
      "2016-04-03 00:00:00    13719\n",
      "2016-04-04 00:00:00    13317\n",
      "2016-03-20 00:00:00    12918\n",
      "2016-03-12 00:00:00    12840\n",
      "2016-03-21 00:00:00    12691\n",
      "                       ...  \n",
      "2015-11-10 00:00:00        1\n",
      "2015-08-07 00:00:00        1\n",
      "2015-11-12 00:00:00        1\n",
      "2016-01-06 00:00:00        1\n",
      "2016-01-16 00:00:00        1\n",
      "Name: DateCreated, Length: 109, dtype: int64\n",
      "\n",
      "0    354369\n",
      "Name: NumberOfPictures, dtype: int64\n",
      "\n",
      "10115    819\n",
      "65428    613\n",
      "66333    343\n",
      "44145    317\n",
      "32257    317\n",
      "        ... \n",
      "6725       1\n",
      "6922       1\n",
      "85071      1\n",
      "97528      1\n",
      "63931      1\n",
      "Name: PostalCode, Length: 8143, dtype: int64\n",
      "\n",
      "2016-04-06 13:45:54    17\n",
      "2016-04-06 08:46:30    16\n",
      "2016-04-06 12:15:45    16\n",
      "2016-04-06 09:46:00    16\n",
      "2016-04-06 01:15:23    16\n",
      "                       ..\n",
      "2016-03-25 22:18:34     1\n",
      "2016-03-23 06:45:59     1\n",
      "2016-03-28 11:15:51     1\n",
      "2016-04-05 07:42:53     1\n",
      "2016-03-11 02:45:58     1\n",
      "Name: LastSeen, Length: 179150, dtype: int64\n",
      "\n"
     ]
    }
   ],
   "source": [
    "for i in data.columns:\n",
    "    print(data[i].value_counts())\n",
    "    print()"
   ]
  },
  {
   "cell_type": "markdown",
   "metadata": {},
   "source": [
    "Предполагаем, что тип кузова может зависеть от модели.  \n",
    "Поэтому делаем срез по данным без пропусков в колонках: __Тип Кузова, Модель, Тип коробки передач, Вид Топлива__"
   ]
  },
  {
   "cell_type": "code",
   "execution_count": 10,
   "metadata": {},
   "outputs": [
    {
     "data": {
      "text/html": [
       "<div>\n",
       "<style scoped>\n",
       "    .dataframe tbody tr th:only-of-type {\n",
       "        vertical-align: middle;\n",
       "    }\n",
       "\n",
       "    .dataframe tbody tr th {\n",
       "        vertical-align: top;\n",
       "    }\n",
       "\n",
       "    .dataframe thead th {\n",
       "        text-align: right;\n",
       "    }\n",
       "</style>\n",
       "<table border=\"1\" class=\"dataframe\">\n",
       "  <thead>\n",
       "    <tr style=\"text-align: right;\">\n",
       "      <th></th>\n",
       "      <th>DateCrawled</th>\n",
       "      <th>Price</th>\n",
       "      <th>VehicleType</th>\n",
       "      <th>RegistrationYear</th>\n",
       "      <th>Gearbox</th>\n",
       "      <th>Power</th>\n",
       "      <th>Model</th>\n",
       "      <th>Kilometer</th>\n",
       "      <th>RegistrationMonth</th>\n",
       "      <th>FuelType</th>\n",
       "      <th>Brand</th>\n",
       "      <th>NotRepaired</th>\n",
       "      <th>DateCreated</th>\n",
       "      <th>NumberOfPictures</th>\n",
       "      <th>PostalCode</th>\n",
       "      <th>LastSeen</th>\n",
       "    </tr>\n",
       "  </thead>\n",
       "  <tbody>\n",
       "    <tr>\n",
       "      <td>2</td>\n",
       "      <td>2016-03-14 12:52:21</td>\n",
       "      <td>9800</td>\n",
       "      <td>suv</td>\n",
       "      <td>2004</td>\n",
       "      <td>auto</td>\n",
       "      <td>163</td>\n",
       "      <td>grand</td>\n",
       "      <td>125000</td>\n",
       "      <td>8</td>\n",
       "      <td>gasoline</td>\n",
       "      <td>jeep</td>\n",
       "      <td>NaN</td>\n",
       "      <td>2016-03-14 00:00:00</td>\n",
       "      <td>0</td>\n",
       "      <td>90480</td>\n",
       "      <td>2016-04-05 12:47:46</td>\n",
       "    </tr>\n",
       "    <tr>\n",
       "      <td>3</td>\n",
       "      <td>2016-03-17 16:54:04</td>\n",
       "      <td>1500</td>\n",
       "      <td>small</td>\n",
       "      <td>2001</td>\n",
       "      <td>manual</td>\n",
       "      <td>75</td>\n",
       "      <td>golf</td>\n",
       "      <td>150000</td>\n",
       "      <td>6</td>\n",
       "      <td>petrol</td>\n",
       "      <td>volkswagen</td>\n",
       "      <td>no</td>\n",
       "      <td>2016-03-17 00:00:00</td>\n",
       "      <td>0</td>\n",
       "      <td>91074</td>\n",
       "      <td>2016-03-17 17:40:17</td>\n",
       "    </tr>\n",
       "    <tr>\n",
       "      <td>4</td>\n",
       "      <td>2016-03-31 17:25:20</td>\n",
       "      <td>3600</td>\n",
       "      <td>small</td>\n",
       "      <td>2008</td>\n",
       "      <td>manual</td>\n",
       "      <td>69</td>\n",
       "      <td>fabia</td>\n",
       "      <td>90000</td>\n",
       "      <td>7</td>\n",
       "      <td>gasoline</td>\n",
       "      <td>skoda</td>\n",
       "      <td>no</td>\n",
       "      <td>2016-03-31 00:00:00</td>\n",
       "      <td>0</td>\n",
       "      <td>60437</td>\n",
       "      <td>2016-04-06 10:17:21</td>\n",
       "    </tr>\n",
       "    <tr>\n",
       "      <td>5</td>\n",
       "      <td>2016-04-04 17:36:23</td>\n",
       "      <td>650</td>\n",
       "      <td>sedan</td>\n",
       "      <td>1995</td>\n",
       "      <td>manual</td>\n",
       "      <td>102</td>\n",
       "      <td>3er</td>\n",
       "      <td>150000</td>\n",
       "      <td>10</td>\n",
       "      <td>petrol</td>\n",
       "      <td>bmw</td>\n",
       "      <td>yes</td>\n",
       "      <td>2016-04-04 00:00:00</td>\n",
       "      <td>0</td>\n",
       "      <td>33775</td>\n",
       "      <td>2016-04-06 19:17:07</td>\n",
       "    </tr>\n",
       "    <tr>\n",
       "      <td>6</td>\n",
       "      <td>2016-04-01 20:48:51</td>\n",
       "      <td>2200</td>\n",
       "      <td>convertible</td>\n",
       "      <td>2004</td>\n",
       "      <td>manual</td>\n",
       "      <td>109</td>\n",
       "      <td>2_reihe</td>\n",
       "      <td>150000</td>\n",
       "      <td>8</td>\n",
       "      <td>petrol</td>\n",
       "      <td>peugeot</td>\n",
       "      <td>no</td>\n",
       "      <td>2016-04-01 00:00:00</td>\n",
       "      <td>0</td>\n",
       "      <td>67112</td>\n",
       "      <td>2016-04-05 18:18:39</td>\n",
       "    </tr>\n",
       "    <tr>\n",
       "      <td>7</td>\n",
       "      <td>2016-03-21 18:54:38</td>\n",
       "      <td>0</td>\n",
       "      <td>sedan</td>\n",
       "      <td>1980</td>\n",
       "      <td>manual</td>\n",
       "      <td>50</td>\n",
       "      <td>other</td>\n",
       "      <td>40000</td>\n",
       "      <td>7</td>\n",
       "      <td>petrol</td>\n",
       "      <td>volkswagen</td>\n",
       "      <td>no</td>\n",
       "      <td>2016-03-21 00:00:00</td>\n",
       "      <td>0</td>\n",
       "      <td>19348</td>\n",
       "      <td>2016-03-25 16:47:58</td>\n",
       "    </tr>\n",
       "    <tr>\n",
       "      <td>8</td>\n",
       "      <td>2016-04-04 23:42:13</td>\n",
       "      <td>14500</td>\n",
       "      <td>bus</td>\n",
       "      <td>2014</td>\n",
       "      <td>manual</td>\n",
       "      <td>125</td>\n",
       "      <td>c_max</td>\n",
       "      <td>30000</td>\n",
       "      <td>8</td>\n",
       "      <td>petrol</td>\n",
       "      <td>ford</td>\n",
       "      <td>NaN</td>\n",
       "      <td>2016-04-04 00:00:00</td>\n",
       "      <td>0</td>\n",
       "      <td>94505</td>\n",
       "      <td>2016-04-04 23:42:13</td>\n",
       "    </tr>\n",
       "    <tr>\n",
       "      <td>10</td>\n",
       "      <td>2016-03-26 19:54:18</td>\n",
       "      <td>2000</td>\n",
       "      <td>sedan</td>\n",
       "      <td>2004</td>\n",
       "      <td>manual</td>\n",
       "      <td>105</td>\n",
       "      <td>3_reihe</td>\n",
       "      <td>150000</td>\n",
       "      <td>12</td>\n",
       "      <td>petrol</td>\n",
       "      <td>mazda</td>\n",
       "      <td>no</td>\n",
       "      <td>2016-03-26 00:00:00</td>\n",
       "      <td>0</td>\n",
       "      <td>96224</td>\n",
       "      <td>2016-04-06 10:45:34</td>\n",
       "    </tr>\n",
       "    <tr>\n",
       "      <td>11</td>\n",
       "      <td>2016-04-07 10:06:22</td>\n",
       "      <td>2799</td>\n",
       "      <td>wagon</td>\n",
       "      <td>2005</td>\n",
       "      <td>manual</td>\n",
       "      <td>140</td>\n",
       "      <td>passat</td>\n",
       "      <td>150000</td>\n",
       "      <td>12</td>\n",
       "      <td>gasoline</td>\n",
       "      <td>volkswagen</td>\n",
       "      <td>yes</td>\n",
       "      <td>2016-04-07 00:00:00</td>\n",
       "      <td>0</td>\n",
       "      <td>57290</td>\n",
       "      <td>2016-04-07 10:25:17</td>\n",
       "    </tr>\n",
       "    <tr>\n",
       "      <td>12</td>\n",
       "      <td>2016-03-15 22:49:09</td>\n",
       "      <td>999</td>\n",
       "      <td>wagon</td>\n",
       "      <td>1995</td>\n",
       "      <td>manual</td>\n",
       "      <td>115</td>\n",
       "      <td>passat</td>\n",
       "      <td>150000</td>\n",
       "      <td>11</td>\n",
       "      <td>petrol</td>\n",
       "      <td>volkswagen</td>\n",
       "      <td>NaN</td>\n",
       "      <td>2016-03-15 00:00:00</td>\n",
       "      <td>0</td>\n",
       "      <td>37269</td>\n",
       "      <td>2016-04-01 13:16:16</td>\n",
       "    </tr>\n",
       "  </tbody>\n",
       "</table>\n",
       "</div>"
      ],
      "text/plain": [
       "            DateCrawled  Price  VehicleType  RegistrationYear Gearbox  Power  \\\n",
       "2   2016-03-14 12:52:21   9800          suv              2004    auto    163   \n",
       "3   2016-03-17 16:54:04   1500        small              2001  manual     75   \n",
       "4   2016-03-31 17:25:20   3600        small              2008  manual     69   \n",
       "5   2016-04-04 17:36:23    650        sedan              1995  manual    102   \n",
       "6   2016-04-01 20:48:51   2200  convertible              2004  manual    109   \n",
       "7   2016-03-21 18:54:38      0        sedan              1980  manual     50   \n",
       "8   2016-04-04 23:42:13  14500          bus              2014  manual    125   \n",
       "10  2016-03-26 19:54:18   2000        sedan              2004  manual    105   \n",
       "11  2016-04-07 10:06:22   2799        wagon              2005  manual    140   \n",
       "12  2016-03-15 22:49:09    999        wagon              1995  manual    115   \n",
       "\n",
       "      Model  Kilometer  RegistrationMonth  FuelType       Brand NotRepaired  \\\n",
       "2     grand     125000                  8  gasoline        jeep         NaN   \n",
       "3      golf     150000                  6    petrol  volkswagen          no   \n",
       "4     fabia      90000                  7  gasoline       skoda          no   \n",
       "5       3er     150000                 10    petrol         bmw         yes   \n",
       "6   2_reihe     150000                  8    petrol     peugeot          no   \n",
       "7     other      40000                  7    petrol  volkswagen          no   \n",
       "8     c_max      30000                  8    petrol        ford         NaN   \n",
       "10  3_reihe     150000                 12    petrol       mazda          no   \n",
       "11   passat     150000                 12  gasoline  volkswagen         yes   \n",
       "12   passat     150000                 11    petrol  volkswagen         NaN   \n",
       "\n",
       "            DateCreated  NumberOfPictures  PostalCode             LastSeen  \n",
       "2   2016-03-14 00:00:00                 0       90480  2016-04-05 12:47:46  \n",
       "3   2016-03-17 00:00:00                 0       91074  2016-03-17 17:40:17  \n",
       "4   2016-03-31 00:00:00                 0       60437  2016-04-06 10:17:21  \n",
       "5   2016-04-04 00:00:00                 0       33775  2016-04-06 19:17:07  \n",
       "6   2016-04-01 00:00:00                 0       67112  2016-04-05 18:18:39  \n",
       "7   2016-03-21 00:00:00                 0       19348  2016-03-25 16:47:58  \n",
       "8   2016-04-04 00:00:00                 0       94505  2016-04-04 23:42:13  \n",
       "10  2016-03-26 00:00:00                 0       96224  2016-04-06 10:45:34  \n",
       "11  2016-04-07 00:00:00                 0       57290  2016-04-07 10:25:17  \n",
       "12  2016-03-15 00:00:00                 0       37269  2016-04-01 13:16:16  "
      ]
     },
     "execution_count": 10,
     "metadata": {},
     "output_type": "execute_result"
    }
   ],
   "source": [
    "df_vehicle = data.loc[\n",
    "    (~data['VehicleType'].isna()) & \n",
    "    (~data['Model'].isna()) &\n",
    "    (~data['Gearbox'].isna()) &\n",
    "    (~data['FuelType'].isna())\n",
    "]\n",
    "df_vehicle.head(10)"
   ]
  },
  {
   "cell_type": "markdown",
   "metadata": {},
   "source": [
    "Группируем тип кузова по моделям.  \n",
    "Получаем, что у одной модели может быть много типов кузова"
   ]
  },
  {
   "cell_type": "code",
   "execution_count": 11,
   "metadata": {},
   "outputs": [
    {
     "data": {
      "text/html": [
       "<div>\n",
       "<style scoped>\n",
       "    .dataframe tbody tr th:only-of-type {\n",
       "        vertical-align: middle;\n",
       "    }\n",
       "\n",
       "    .dataframe tbody tr th {\n",
       "        vertical-align: top;\n",
       "    }\n",
       "\n",
       "    .dataframe thead th {\n",
       "        text-align: right;\n",
       "    }\n",
       "</style>\n",
       "<table border=\"1\" class=\"dataframe\">\n",
       "  <thead>\n",
       "    <tr style=\"text-align: right;\">\n",
       "      <th></th>\n",
       "      <th></th>\n",
       "      <th>Power</th>\n",
       "    </tr>\n",
       "    <tr>\n",
       "      <th>Model</th>\n",
       "      <th>VehicleType</th>\n",
       "      <th></th>\n",
       "    </tr>\n",
       "  </thead>\n",
       "  <tbody>\n",
       "    <tr>\n",
       "      <td rowspan=\"4\" valign=\"top\">100</td>\n",
       "      <td>convertible</td>\n",
       "      <td>1</td>\n",
       "    </tr>\n",
       "    <tr>\n",
       "      <td>coupe</td>\n",
       "      <td>2</td>\n",
       "    </tr>\n",
       "    <tr>\n",
       "      <td>sedan</td>\n",
       "      <td>264</td>\n",
       "    </tr>\n",
       "    <tr>\n",
       "      <td>wagon</td>\n",
       "      <td>99</td>\n",
       "    </tr>\n",
       "    <tr>\n",
       "      <td>145</td>\n",
       "      <td>coupe</td>\n",
       "      <td>2</td>\n",
       "    </tr>\n",
       "    <tr>\n",
       "      <td>...</td>\n",
       "      <td>...</td>\n",
       "      <td>...</td>\n",
       "    </tr>\n",
       "    <tr>\n",
       "      <td rowspan=\"5\" valign=\"top\">zafira</td>\n",
       "      <td>other</td>\n",
       "      <td>20</td>\n",
       "    </tr>\n",
       "    <tr>\n",
       "      <td>sedan</td>\n",
       "      <td>19</td>\n",
       "    </tr>\n",
       "    <tr>\n",
       "      <td>small</td>\n",
       "      <td>9</td>\n",
       "    </tr>\n",
       "    <tr>\n",
       "      <td>suv</td>\n",
       "      <td>5</td>\n",
       "    </tr>\n",
       "    <tr>\n",
       "      <td>wagon</td>\n",
       "      <td>176</td>\n",
       "    </tr>\n",
       "  </tbody>\n",
       "</table>\n",
       "<p>1092 rows × 1 columns</p>\n",
       "</div>"
      ],
      "text/plain": [
       "                    Power\n",
       "Model  VehicleType       \n",
       "100    convertible      1\n",
       "       coupe            2\n",
       "       sedan          264\n",
       "       wagon           99\n",
       "145    coupe            2\n",
       "...                   ...\n",
       "zafira other           20\n",
       "       sedan           19\n",
       "       small            9\n",
       "       suv              5\n",
       "       wagon          176\n",
       "\n",
       "[1092 rows x 1 columns]"
      ]
     },
     "execution_count": 11,
     "metadata": {},
     "output_type": "execute_result"
    }
   ],
   "source": [
    "df_vehicle_pivot =  df_vehicle.pivot_table(\n",
    "    index=['Model','VehicleType'],\n",
    "    values='Power',\n",
    "    aggfunc='count'\n",
    ")\n",
    "df_vehicle_pivot"
   ]
  },
  {
   "cell_type": "markdown",
   "metadata": {},
   "source": [
    "Типы кузова на примере модели Зафира (марка - Опель)"
   ]
  },
  {
   "cell_type": "code",
   "execution_count": 12,
   "metadata": {},
   "outputs": [
    {
     "data": {
      "text/html": [
       "<div>\n",
       "<style scoped>\n",
       "    .dataframe tbody tr th:only-of-type {\n",
       "        vertical-align: middle;\n",
       "    }\n",
       "\n",
       "    .dataframe tbody tr th {\n",
       "        vertical-align: top;\n",
       "    }\n",
       "\n",
       "    .dataframe thead th {\n",
       "        text-align: right;\n",
       "    }\n",
       "</style>\n",
       "<table border=\"1\" class=\"dataframe\">\n",
       "  <thead>\n",
       "    <tr style=\"text-align: right;\">\n",
       "      <th></th>\n",
       "      <th>Model</th>\n",
       "      <th>VehicleType</th>\n",
       "    </tr>\n",
       "  </thead>\n",
       "  <tbody>\n",
       "    <tr>\n",
       "      <td>349</td>\n",
       "      <td>zafira</td>\n",
       "      <td>bus</td>\n",
       "    </tr>\n",
       "    <tr>\n",
       "      <td>405</td>\n",
       "      <td>zafira</td>\n",
       "      <td>bus</td>\n",
       "    </tr>\n",
       "    <tr>\n",
       "      <td>571</td>\n",
       "      <td>zafira</td>\n",
       "      <td>bus</td>\n",
       "    </tr>\n",
       "    <tr>\n",
       "      <td>792</td>\n",
       "      <td>zafira</td>\n",
       "      <td>other</td>\n",
       "    </tr>\n",
       "    <tr>\n",
       "      <td>810</td>\n",
       "      <td>zafira</td>\n",
       "      <td>wagon</td>\n",
       "    </tr>\n",
       "  </tbody>\n",
       "</table>\n",
       "</div>"
      ],
      "text/plain": [
       "      Model VehicleType\n",
       "349  zafira         bus\n",
       "405  zafira         bus\n",
       "571  zafira         bus\n",
       "792  zafira       other\n",
       "810  zafira       wagon"
      ]
     },
     "execution_count": 12,
     "metadata": {},
     "output_type": "execute_result"
    }
   ],
   "source": [
    "df_vehicle.loc[df_vehicle['Model'] == 'zafira', ['Model', 'VehicleType']].head()"
   ]
  },
  {
   "cell_type": "markdown",
   "metadata": {},
   "source": [
    "Модель Зафира имеет следующие типы кузова:\n",
    "1. автобус\n",
    "2. фургон\n",
    "3. другой\n",
    "4. седан\n",
    "5. малый авто\n",
    "6. внедорожник\n",
    "7. купе  \n",
    "\n",
    "Типы кузова седан, внедорожник и купе объективно не применимы к Опель Зафира, так как это автомобиль типа минивэн.  \n",
    "\n",
    "Делаем вывод, что по модели мы не сможем восстановить пропущенные данные в колонке Тип Кузова, так как одна модель имеет несколько типов кузова.  \n",
    "К тому же типы кузова в данных зачастую ошибочные, что так же может негативно сказаться на обучении модели, так как будет сложнее искать закономерности."
   ]
  },
  {
   "cell_type": "code",
   "execution_count": 13,
   "metadata": {},
   "outputs": [
    {
     "data": {
      "text/plain": [
       "bus      2241\n",
       "wagon     176\n",
       "other      20\n",
       "sedan      19\n",
       "small       9\n",
       "suv         5\n",
       "coupe       1\n",
       "Name: VehicleType, dtype: int64"
      ]
     },
     "execution_count": 13,
     "metadata": {},
     "output_type": "execute_result"
    }
   ],
   "source": [
    "df_vehicle.loc[df_vehicle['Model'] == 'zafira','VehicleType'].value_counts()"
   ]
  },
  {
   "cell_type": "markdown",
   "metadata": {},
   "source": [
    "Заменям пропущенные значения во всем ДатаФрейме на \"неизвестно\", так как процент пропусков большой и расставание с ними может недообучить модель."
   ]
  },
  {
   "cell_type": "code",
   "execution_count": 14,
   "metadata": {},
   "outputs": [
    {
     "name": "stdout",
     "output_type": "stream",
     "text": [
      "<class 'pandas.core.frame.DataFrame'>\n",
      "RangeIndex: 354369 entries, 0 to 354368\n",
      "Data columns (total 16 columns):\n",
      "DateCrawled          354369 non-null object\n",
      "Price                354369 non-null int64\n",
      "VehicleType          354369 non-null object\n",
      "RegistrationYear     354369 non-null int64\n",
      "Gearbox              354369 non-null object\n",
      "Power                354369 non-null int64\n",
      "Model                354369 non-null object\n",
      "Kilometer            354369 non-null int64\n",
      "RegistrationMonth    354369 non-null int64\n",
      "FuelType             354369 non-null object\n",
      "Brand                354369 non-null object\n",
      "NotRepaired          354369 non-null object\n",
      "DateCreated          354369 non-null object\n",
      "NumberOfPictures     354369 non-null int64\n",
      "PostalCode           354369 non-null int64\n",
      "LastSeen             354369 non-null object\n",
      "dtypes: int64(7), object(9)\n",
      "memory usage: 43.3+ MB\n"
     ]
    }
   ],
   "source": [
    "data_upd = data.fillna(value = 'unknown')\n",
    "data_upd.info()"
   ]
  },
  {
   "cell_type": "markdown",
   "metadata": {},
   "source": [
    "### Удаление лишних колонок"
   ]
  },
  {
   "cell_type": "markdown",
   "metadata": {},
   "source": [
    "Колонки: __Дата скачивания анкеты, Месяц регистрации авто, Дата создания объявления, Количество фото в объявлении, Почтовый индекс и дата последней активности пользователя__ могут только запутать модель, так как напрямую не могут влиять на цену, а также увеличит время обучения модели.  \n",
    "Поэтому удалим эти колонки из данных."
   ]
  },
  {
   "cell_type": "code",
   "execution_count": 15,
   "metadata": {},
   "outputs": [
    {
     "name": "stdout",
     "output_type": "stream",
     "text": [
      "<class 'pandas.core.frame.DataFrame'>\n",
      "RangeIndex: 354369 entries, 0 to 354368\n",
      "Data columns (total 10 columns):\n",
      "Price               354369 non-null int64\n",
      "VehicleType         354369 non-null object\n",
      "RegistrationYear    354369 non-null int64\n",
      "Gearbox             354369 non-null object\n",
      "Power               354369 non-null int64\n",
      "Model               354369 non-null object\n",
      "Kilometer           354369 non-null int64\n",
      "FuelType            354369 non-null object\n",
      "Brand               354369 non-null object\n",
      "NotRepaired         354369 non-null object\n",
      "dtypes: int64(4), object(6)\n",
      "memory usage: 27.0+ MB\n"
     ]
    }
   ],
   "source": [
    "data_upd = data_upd.drop(\n",
    "    ['DateCrawled', 'RegistrationMonth','DateCreated', 'NumberOfPictures', 'PostalCode', 'LastSeen'],\n",
    "axis='columns')\n",
    "data_upd.info()"
   ]
  },
  {
   "cell_type": "code",
   "execution_count": 16,
   "metadata": {},
   "outputs": [],
   "source": [
    "data_upd_vehicle_type = data_upd.drop('VehicleType',axis='columns')"
   ]
  },
  {
   "cell_type": "markdown",
   "metadata": {},
   "source": [
    "### Аномалии"
   ]
  },
  {
   "cell_type": "markdown",
   "metadata": {},
   "source": [
    "1. Выделяем колонки с числовыми значениями.  \n",
    "2. Пишем функцию по просмотру распределения данных в этих колонках\n",
    "3. Ознакамливаемся с данными"
   ]
  },
  {
   "cell_type": "code",
   "execution_count": 17,
   "metadata": {},
   "outputs": [],
   "source": [
    "columns_int = ['Price', 'RegistrationYear', 'Power', 'Kilometer']"
   ]
  },
  {
   "cell_type": "code",
   "execution_count": 18,
   "metadata": {},
   "outputs": [],
   "source": [
    "def distribution(data, columns):\n",
    "    for name in columns:\n",
    "        plt.figure(figsize=(15,6))\n",
    "        sns.set_style('darkgrid')\n",
    "        \n",
    "        plt.subplot(211)\n",
    "        sns.distplot(data[name])\n",
    "        plt.title('Распределение '+ name)\n",
    "        \n",
    "        plt.subplot(212)\n",
    "        sns.boxplot(data[name])\n",
    "\n",
    "        plt.tight_layout\n",
    "        plt.show()\n",
    "        print(data[name].describe())"
   ]
  },
  {
   "cell_type": "markdown",
   "metadata": {},
   "source": [
    "1. в колонке __Цена__ данные имееют Логнормальное распределение, чем выше цена - тем меньше таких объявлений. Теоретически цена может быть любой, например, за эксклюзивные авто\n",
    "2. в колонке __Год регистрации__ есть явно ошибочные значения из будущего (превышающие текущий 2021 год)\n",
    "3. в колонке __Мощность__ также много аномальных значений лошадиных сил, сильно превышающих 1000 л.с.\n",
    "4. в колонке __Пробег__ все значения допустимы"
   ]
  },
  {
   "cell_type": "code",
   "execution_count": 19,
   "metadata": {},
   "outputs": [
    {
     "data": {
      "image/png": "[encoded data removed]",
      "text/plain": [
       "<Figure size 1080x432 with 2 Axes>"
      ]
     },
     "metadata": {
      "needs_background": "light"
     },
     "output_type": "display_data"
    },
    {
     "name": "stdout",
     "output_type": "stream",
     "text": [
      "count   354,369.00\n",
      "mean      4,416.66\n",
      "std       4,514.16\n",
      "min           0.00\n",
      "25%       1,050.00\n",
      "50%       2,700.00\n",
      "75%       6,400.00\n",
      "max      20,000.00\n",
      "Name: Price, dtype: float64\n"
     ]
    },
    {
     "data": {
      "image/png": "[encoded data removed]",
      "text/plain": [
       "<Figure size 1080x432 with 2 Axes>"
      ]
     },
     "metadata": {},
     "output_type": "display_data"
    },
    {
     "name": "stdout",
     "output_type": "stream",
     "text": [
      "count   354,369.00\n",
      "mean      2,004.23\n",
      "std          90.23\n",
      "min       1,000.00\n",
      "25%       1,999.00\n",
      "50%       2,003.00\n",
      "75%       2,008.00\n",
      "max       9,999.00\n",
      "Name: RegistrationYear, dtype: float64\n"
     ]
    },
    {
     "data": {
      "image/png": "[encoded data removed]",
      "text/plain": [
       "<Figure size 1080x432 with 2 Axes>"
      ]
     },
     "metadata": {},
     "output_type": "display_data"
    },
    {
     "name": "stdout",
     "output_type": "stream",
     "text": [
      "count   354,369.00\n",
      "mean        110.09\n",
      "std         189.85\n",
      "min           0.00\n",
      "25%          69.00\n",
      "50%         105.00\n",
      "75%         143.00\n",
      "max      20,000.00\n",
      "Name: Power, dtype: float64\n"
     ]
    },
    {
     "data": {
      "image/png": "[encoded data removed]",
      "text/plain": [
       "<Figure size 1080x432 with 2 Axes>"
      ]
     },
     "metadata": {},
     "output_type": "display_data"
    },
    {
     "name": "stdout",
     "output_type": "stream",
     "text": [
      "count   354,369.00\n",
      "mean    128,211.17\n",
      "std      37,905.34\n",
      "min       5,000.00\n",
      "25%     125,000.00\n",
      "50%     150,000.00\n",
      "75%     150,000.00\n",
      "max     150,000.00\n",
      "Name: Kilometer, dtype: float64\n"
     ]
    }
   ],
   "source": [
    "distribution(data_upd, columns_int)"
   ]
  },
  {
   "cell_type": "markdown",
   "metadata": {},
   "source": [
    "Посмотрим на распределение колонки __Год регистрации__ с 1970 по 2020 год  \n",
    "Значения раньше 1986 года крайне редкие (выбросы), модель может подстроиться под эти значения, что негативно скажется на общем алгоритме предсказаний"
   ]
  },
  {
   "cell_type": "code",
   "execution_count": 20,
   "metadata": {},
   "outputs": [
    {
     "data": {
      "image/png": "[encoded data removed]",
      "text/plain": [
       "<Figure size 1080x432 with 2 Axes>"
      ]
     },
     "metadata": {},
     "output_type": "display_data"
    }
   ],
   "source": [
    "plt.figure(figsize=(15,6))\n",
    "\n",
    "plt.subplot(211)\n",
    "sns.distplot(data_upd.loc[\n",
    "    (data_upd['RegistrationYear'] < 2021) & \n",
    "    (data_upd['RegistrationYear'] > 1970), 'RegistrationYear'\n",
    "])\n",
    "plt.title('Распределение Год регистрации')\n",
    "        \n",
    "plt.subplot(212)\n",
    "sns.boxplot(data_upd.loc[\n",
    "    (data_upd['RegistrationYear'] < 2021) & \n",
    "    (data_upd['RegistrationYear'] > 1970), 'RegistrationYear'\n",
    "])\n",
    "\n",
    "plt.show()"
   ]
  },
  {
   "cell_type": "markdown",
   "metadata": {},
   "source": [
    "Здесь явно опечатки в дате регистрации авто"
   ]
  },
  {
   "cell_type": "code",
   "execution_count": 21,
   "metadata": {},
   "outputs": [
    {
     "data": {
      "text/html": [
       "<div>\n",
       "<style scoped>\n",
       "    .dataframe tbody tr th:only-of-type {\n",
       "        vertical-align: middle;\n",
       "    }\n",
       "\n",
       "    .dataframe tbody tr th {\n",
       "        vertical-align: top;\n",
       "    }\n",
       "\n",
       "    .dataframe thead th {\n",
       "        text-align: right;\n",
       "    }\n",
       "</style>\n",
       "<table border=\"1\" class=\"dataframe\">\n",
       "  <thead>\n",
       "    <tr style=\"text-align: right;\">\n",
       "      <th></th>\n",
       "      <th>Price</th>\n",
       "      <th>VehicleType</th>\n",
       "      <th>RegistrationYear</th>\n",
       "      <th>Gearbox</th>\n",
       "      <th>Power</th>\n",
       "      <th>Model</th>\n",
       "      <th>Kilometer</th>\n",
       "      <th>FuelType</th>\n",
       "      <th>Brand</th>\n",
       "      <th>NotRepaired</th>\n",
       "    </tr>\n",
       "  </thead>\n",
       "  <tbody>\n",
       "    <tr>\n",
       "      <td>622</td>\n",
       "      <td>0</td>\n",
       "      <td>unknown</td>\n",
       "      <td>1111</td>\n",
       "      <td>unknown</td>\n",
       "      <td>0</td>\n",
       "      <td>unknown</td>\n",
       "      <td>5000</td>\n",
       "      <td>unknown</td>\n",
       "      <td>opel</td>\n",
       "      <td>unknown</td>\n",
       "    </tr>\n",
       "    <tr>\n",
       "      <td>16062</td>\n",
       "      <td>190</td>\n",
       "      <td>unknown</td>\n",
       "      <td>1000</td>\n",
       "      <td>unknown</td>\n",
       "      <td>0</td>\n",
       "      <td>mondeo</td>\n",
       "      <td>5000</td>\n",
       "      <td>unknown</td>\n",
       "      <td>ford</td>\n",
       "      <td>unknown</td>\n",
       "    </tr>\n",
       "    <tr>\n",
       "      <td>18224</td>\n",
       "      <td>7999</td>\n",
       "      <td>unknown</td>\n",
       "      <td>1500</td>\n",
       "      <td>manual</td>\n",
       "      <td>224</td>\n",
       "      <td>impreza</td>\n",
       "      <td>5000</td>\n",
       "      <td>unknown</td>\n",
       "      <td>subaru</td>\n",
       "      <td>unknown</td>\n",
       "    </tr>\n",
       "    <tr>\n",
       "      <td>34332</td>\n",
       "      <td>450</td>\n",
       "      <td>unknown</td>\n",
       "      <td>1800</td>\n",
       "      <td>unknown</td>\n",
       "      <td>1800</td>\n",
       "      <td>unknown</td>\n",
       "      <td>5000</td>\n",
       "      <td>unknown</td>\n",
       "      <td>mitsubishi</td>\n",
       "      <td>no</td>\n",
       "    </tr>\n",
       "    <tr>\n",
       "      <td>38875</td>\n",
       "      <td>1234</td>\n",
       "      <td>unknown</td>\n",
       "      <td>1234</td>\n",
       "      <td>unknown</td>\n",
       "      <td>26</td>\n",
       "      <td>unknown</td>\n",
       "      <td>5000</td>\n",
       "      <td>unknown</td>\n",
       "      <td>trabant</td>\n",
       "      <td>unknown</td>\n",
       "    </tr>\n",
       "    <tr>\n",
       "      <td>...</td>\n",
       "      <td>...</td>\n",
       "      <td>...</td>\n",
       "      <td>...</td>\n",
       "      <td>...</td>\n",
       "      <td>...</td>\n",
       "      <td>...</td>\n",
       "      <td>...</td>\n",
       "      <td>...</td>\n",
       "      <td>...</td>\n",
       "      <td>...</td>\n",
       "    </tr>\n",
       "    <tr>\n",
       "      <td>323443</td>\n",
       "      <td>30</td>\n",
       "      <td>unknown</td>\n",
       "      <td>1000</td>\n",
       "      <td>unknown</td>\n",
       "      <td>0</td>\n",
       "      <td>unknown</td>\n",
       "      <td>5000</td>\n",
       "      <td>unknown</td>\n",
       "      <td>audi</td>\n",
       "      <td>unknown</td>\n",
       "    </tr>\n",
       "    <tr>\n",
       "      <td>325739</td>\n",
       "      <td>400</td>\n",
       "      <td>unknown</td>\n",
       "      <td>1000</td>\n",
       "      <td>unknown</td>\n",
       "      <td>0</td>\n",
       "      <td>unknown</td>\n",
       "      <td>5000</td>\n",
       "      <td>unknown</td>\n",
       "      <td>mercedes_benz</td>\n",
       "      <td>unknown</td>\n",
       "    </tr>\n",
       "    <tr>\n",
       "      <td>340759</td>\n",
       "      <td>700</td>\n",
       "      <td>unknown</td>\n",
       "      <td>1600</td>\n",
       "      <td>manual</td>\n",
       "      <td>1600</td>\n",
       "      <td>a3</td>\n",
       "      <td>150000</td>\n",
       "      <td>petrol</td>\n",
       "      <td>audi</td>\n",
       "      <td>no</td>\n",
       "    </tr>\n",
       "    <tr>\n",
       "      <td>348830</td>\n",
       "      <td>1</td>\n",
       "      <td>unknown</td>\n",
       "      <td>1000</td>\n",
       "      <td>unknown</td>\n",
       "      <td>1000</td>\n",
       "      <td>unknown</td>\n",
       "      <td>150000</td>\n",
       "      <td>unknown</td>\n",
       "      <td>sonstige_autos</td>\n",
       "      <td>unknown</td>\n",
       "    </tr>\n",
       "    <tr>\n",
       "      <td>351682</td>\n",
       "      <td>11500</td>\n",
       "      <td>unknown</td>\n",
       "      <td>1800</td>\n",
       "      <td>unknown</td>\n",
       "      <td>16</td>\n",
       "      <td>other</td>\n",
       "      <td>5000</td>\n",
       "      <td>petrol</td>\n",
       "      <td>fiat</td>\n",
       "      <td>unknown</td>\n",
       "    </tr>\n",
       "  </tbody>\n",
       "</table>\n",
       "<p>66 rows × 10 columns</p>\n",
       "</div>"
      ],
      "text/plain": [
       "        Price VehicleType  RegistrationYear  Gearbox  Power    Model  \\\n",
       "622         0     unknown              1111  unknown      0  unknown   \n",
       "16062     190     unknown              1000  unknown      0   mondeo   \n",
       "18224    7999     unknown              1500   manual    224  impreza   \n",
       "34332     450     unknown              1800  unknown   1800  unknown   \n",
       "38875    1234     unknown              1234  unknown     26  unknown   \n",
       "...       ...         ...               ...      ...    ...      ...   \n",
       "323443     30     unknown              1000  unknown      0  unknown   \n",
       "325739    400     unknown              1000  unknown      0  unknown   \n",
       "340759    700     unknown              1600   manual   1600       a3   \n",
       "348830      1     unknown              1000  unknown   1000  unknown   \n",
       "351682  11500     unknown              1800  unknown     16    other   \n",
       "\n",
       "        Kilometer FuelType           Brand NotRepaired  \n",
       "622          5000  unknown            opel     unknown  \n",
       "16062        5000  unknown            ford     unknown  \n",
       "18224        5000  unknown          subaru     unknown  \n",
       "34332        5000  unknown      mitsubishi          no  \n",
       "38875        5000  unknown         trabant     unknown  \n",
       "...           ...      ...             ...         ...  \n",
       "323443       5000  unknown            audi     unknown  \n",
       "325739       5000  unknown   mercedes_benz     unknown  \n",
       "340759     150000   petrol            audi          no  \n",
       "348830     150000  unknown  sonstige_autos     unknown  \n",
       "351682       5000   petrol            fiat     unknown  \n",
       "\n",
       "[66 rows x 10 columns]"
      ]
     },
     "execution_count": 21,
     "metadata": {},
     "output_type": "execute_result"
    }
   ],
   "source": [
    "data_upd.loc[\n",
    "    data_upd['RegistrationYear'] < 1900]"
   ]
  },
  {
   "cell_type": "markdown",
   "metadata": {},
   "source": [
    "Данные в марках авто также зачастую неактуальные, так как концерны основаны позже года регистрации, указанного в данных:  \n",
    "[Mercedes-Benz](https://ru.wikipedia.org/wiki/Mercedes-Benz) с 1926 года  \n",
    "[BMW](https://ru.wikipedia.org/wiki/BMW) с 1916 год  \n",
    "[Volkswagen](https://ru.wikipedia.org/wiki/Volkswagen) с 1937 года  \n",
    "[Ford](https://ru.wikipedia.org/wiki/Ford) с 1903 года"
   ]
  },
  {
   "cell_type": "code",
   "execution_count": 22,
   "metadata": {},
   "outputs": [
    {
     "data": {
      "text/plain": [
       "sonstige_autos    14\n",
       "volkswagen        14\n",
       "mercedes_benz      6\n",
       "opel               5\n",
       "trabant            4\n",
       "bmw                3\n",
       "mitsubishi         2\n",
       "ford               2\n",
       "citroen            2\n",
       "audi               2\n",
       "fiat               2\n",
       "alfa_romeo         2\n",
       "chrysler           1\n",
       "land_rover         1\n",
       "renault            1\n",
       "rover              1\n",
       "peugeot            1\n",
       "skoda              1\n",
       "subaru             1\n",
       "porsche            1\n",
       "Name: Brand, dtype: int64"
      ]
     },
     "execution_count": 22,
     "metadata": {},
     "output_type": "execute_result"
    }
   ],
   "source": [
    "data_upd.loc[\n",
    "    data_upd['RegistrationYear'] < 1900, 'Brand'].value_counts()"
   ]
  },
  {
   "cell_type": "markdown",
   "metadata": {},
   "source": [
    "Удаляем значения из колонки __Год регистрации__ позднее 2016 года (самая поздняя дата объявлений) и ранее 1900 года"
   ]
  },
  {
   "cell_type": "code",
   "execution_count": 23,
   "metadata": {},
   "outputs": [
    {
     "data": {
      "text/plain": [
       "14596"
      ]
     },
     "execution_count": 23,
     "metadata": {},
     "output_type": "execute_result"
    }
   ],
   "source": [
    "len(data_upd.loc[(data_upd['RegistrationYear'] > 2016) | (data_upd['RegistrationYear'] < 1900)])"
   ]
  },
  {
   "cell_type": "code",
   "execution_count": 24,
   "metadata": {},
   "outputs": [],
   "source": [
    "data_upd = data_upd.drop(\n",
    "    data_upd.loc[\n",
    "        (data_upd['RegistrationYear'] > 2016) | \n",
    "        (data_upd['RegistrationYear'] < 1900)\n",
    "    ].index\n",
    ").reset_index(drop=True)"
   ]
  },
  {
   "cell_type": "markdown",
   "metadata": {},
   "source": [
    "Посмотрим на распределение колонки __Мощность__ менее 1000 л.с.  \n",
    "Свыше 251 л.с. значения уже крайне редко встречаются, однако такие характеристики авто вполне реальны"
   ]
  },
  {
   "cell_type": "code",
   "execution_count": 25,
   "metadata": {},
   "outputs": [
    {
     "data": {
      "image/png": "[encoded data removed]",
      "text/plain": [
       "<Figure size 1080x432 with 2 Axes>"
      ]
     },
     "metadata": {},
     "output_type": "display_data"
    }
   ],
   "source": [
    "plt.figure(figsize=(15,6))\n",
    "\n",
    "plt.subplot(211)\n",
    "sns.distplot(data_upd.loc[\n",
    "    (data_upd['Power'] < 1000), 'Power'\n",
    "])\n",
    "plt.title('Распределение мощности')\n",
    "        \n",
    "plt.subplot(212)\n",
    "sns.boxplot(data_upd.loc[\n",
    "    (data_upd['Power'] < 1000), 'Power'\n",
    "])\n",
    "\n",
    "plt.show()"
   ]
  },
  {
   "cell_type": "markdown",
   "metadata": {},
   "source": [
    "[Мощность 1001 л.с.](https://ru.wikipedia.org/wiki/Bugatti_Veyron)\n",
    "Так как самый быстрый серийный автомобиль в мире имеет мощность двигателя 1001 л.с., а также при взгляде на автомобили с мощностью более 1000 л.с. выявляем объективное несоответствие, например, toyota corolla, opel vectra, audi a6 и тд не имеют в характеристиках такой мощности."
   ]
  },
  {
   "cell_type": "code",
   "execution_count": 26,
   "metadata": {},
   "outputs": [
    {
     "data": {
      "text/html": [
       "<div>\n",
       "<style scoped>\n",
       "    .dataframe tbody tr th:only-of-type {\n",
       "        vertical-align: middle;\n",
       "    }\n",
       "\n",
       "    .dataframe tbody tr th {\n",
       "        vertical-align: top;\n",
       "    }\n",
       "\n",
       "    .dataframe thead th {\n",
       "        text-align: right;\n",
       "    }\n",
       "</style>\n",
       "<table border=\"1\" class=\"dataframe\">\n",
       "  <thead>\n",
       "    <tr style=\"text-align: right;\">\n",
       "      <th></th>\n",
       "      <th>Price</th>\n",
       "      <th>VehicleType</th>\n",
       "      <th>RegistrationYear</th>\n",
       "      <th>Gearbox</th>\n",
       "      <th>Power</th>\n",
       "      <th>Model</th>\n",
       "      <th>Kilometer</th>\n",
       "      <th>FuelType</th>\n",
       "      <th>Brand</th>\n",
       "      <th>NotRepaired</th>\n",
       "    </tr>\n",
       "  </thead>\n",
       "  <tbody>\n",
       "    <tr>\n",
       "      <td>1735</td>\n",
       "      <td>3200</td>\n",
       "      <td>small</td>\n",
       "      <td>2004</td>\n",
       "      <td>manual</td>\n",
       "      <td>1398</td>\n",
       "      <td>corolla</td>\n",
       "      <td>5000</td>\n",
       "      <td>petrol</td>\n",
       "      <td>toyota</td>\n",
       "      <td>no</td>\n",
       "    </tr>\n",
       "    <tr>\n",
       "      <td>2012</td>\n",
       "      <td>0</td>\n",
       "      <td>sedan</td>\n",
       "      <td>1999</td>\n",
       "      <td>unknown</td>\n",
       "      <td>1799</td>\n",
       "      <td>vectra</td>\n",
       "      <td>150000</td>\n",
       "      <td>petrol</td>\n",
       "      <td>opel</td>\n",
       "      <td>yes</td>\n",
       "    </tr>\n",
       "    <tr>\n",
       "      <td>5080</td>\n",
       "      <td>500</td>\n",
       "      <td>wagon</td>\n",
       "      <td>1999</td>\n",
       "      <td>manual</td>\n",
       "      <td>1001</td>\n",
       "      <td>astra</td>\n",
       "      <td>150000</td>\n",
       "      <td>petrol</td>\n",
       "      <td>opel</td>\n",
       "      <td>unknown</td>\n",
       "    </tr>\n",
       "    <tr>\n",
       "      <td>7310</td>\n",
       "      <td>1499</td>\n",
       "      <td>small</td>\n",
       "      <td>1999</td>\n",
       "      <td>manual</td>\n",
       "      <td>7515</td>\n",
       "      <td>lupo</td>\n",
       "      <td>150000</td>\n",
       "      <td>petrol</td>\n",
       "      <td>volkswagen</td>\n",
       "      <td>unknown</td>\n",
       "    </tr>\n",
       "    <tr>\n",
       "      <td>7364</td>\n",
       "      <td>1500</td>\n",
       "      <td>small</td>\n",
       "      <td>2000</td>\n",
       "      <td>manual</td>\n",
       "      <td>1400</td>\n",
       "      <td>unknown</td>\n",
       "      <td>150000</td>\n",
       "      <td>petrol</td>\n",
       "      <td>honda</td>\n",
       "      <td>unknown</td>\n",
       "    </tr>\n",
       "    <tr>\n",
       "      <td>...</td>\n",
       "      <td>...</td>\n",
       "      <td>...</td>\n",
       "      <td>...</td>\n",
       "      <td>...</td>\n",
       "      <td>...</td>\n",
       "      <td>...</td>\n",
       "      <td>...</td>\n",
       "      <td>...</td>\n",
       "      <td>...</td>\n",
       "      <td>...</td>\n",
       "    </tr>\n",
       "    <tr>\n",
       "      <td>334288</td>\n",
       "      <td>1000</td>\n",
       "      <td>wagon</td>\n",
       "      <td>1996</td>\n",
       "      <td>manual</td>\n",
       "      <td>2598</td>\n",
       "      <td>a6</td>\n",
       "      <td>150000</td>\n",
       "      <td>unknown</td>\n",
       "      <td>audi</td>\n",
       "      <td>unknown</td>\n",
       "    </tr>\n",
       "    <tr>\n",
       "      <td>334494</td>\n",
       "      <td>7500</td>\n",
       "      <td>sedan</td>\n",
       "      <td>2011</td>\n",
       "      <td>manual</td>\n",
       "      <td>1548</td>\n",
       "      <td>scenic</td>\n",
       "      <td>90000</td>\n",
       "      <td>petrol</td>\n",
       "      <td>renault</td>\n",
       "      <td>unknown</td>\n",
       "    </tr>\n",
       "    <tr>\n",
       "      <td>334574</td>\n",
       "      <td>250</td>\n",
       "      <td>small</td>\n",
       "      <td>1999</td>\n",
       "      <td>manual</td>\n",
       "      <td>1241</td>\n",
       "      <td>ypsilon</td>\n",
       "      <td>150000</td>\n",
       "      <td>petrol</td>\n",
       "      <td>lancia</td>\n",
       "      <td>yes</td>\n",
       "    </tr>\n",
       "    <tr>\n",
       "      <td>337435</td>\n",
       "      <td>1500</td>\n",
       "      <td>bus</td>\n",
       "      <td>2001</td>\n",
       "      <td>manual</td>\n",
       "      <td>1001</td>\n",
       "      <td>zafira</td>\n",
       "      <td>5000</td>\n",
       "      <td>gasoline</td>\n",
       "      <td>opel</td>\n",
       "      <td>no</td>\n",
       "    </tr>\n",
       "    <tr>\n",
       "      <td>339665</td>\n",
       "      <td>399</td>\n",
       "      <td>other</td>\n",
       "      <td>1994</td>\n",
       "      <td>unknown</td>\n",
       "      <td>1103</td>\n",
       "      <td>3er</td>\n",
       "      <td>150000</td>\n",
       "      <td>unknown</td>\n",
       "      <td>bmw</td>\n",
       "      <td>unknown</td>\n",
       "    </tr>\n",
       "  </tbody>\n",
       "</table>\n",
       "<p>277 rows × 10 columns</p>\n",
       "</div>"
      ],
      "text/plain": [
       "        Price VehicleType  RegistrationYear  Gearbox  Power    Model  \\\n",
       "1735     3200       small              2004   manual   1398  corolla   \n",
       "2012        0       sedan              1999  unknown   1799   vectra   \n",
       "5080      500       wagon              1999   manual   1001    astra   \n",
       "7310     1499       small              1999   manual   7515     lupo   \n",
       "7364     1500       small              2000   manual   1400  unknown   \n",
       "...       ...         ...               ...      ...    ...      ...   \n",
       "334288   1000       wagon              1996   manual   2598       a6   \n",
       "334494   7500       sedan              2011   manual   1548   scenic   \n",
       "334574    250       small              1999   manual   1241  ypsilon   \n",
       "337435   1500         bus              2001   manual   1001   zafira   \n",
       "339665    399       other              1994  unknown   1103      3er   \n",
       "\n",
       "        Kilometer  FuelType       Brand NotRepaired  \n",
       "1735         5000    petrol      toyota          no  \n",
       "2012       150000    petrol        opel         yes  \n",
       "5080       150000    petrol        opel     unknown  \n",
       "7310       150000    petrol  volkswagen     unknown  \n",
       "7364       150000    petrol       honda     unknown  \n",
       "...           ...       ...         ...         ...  \n",
       "334288     150000   unknown        audi     unknown  \n",
       "334494      90000    petrol     renault     unknown  \n",
       "334574     150000    petrol      lancia         yes  \n",
       "337435       5000  gasoline        opel          no  \n",
       "339665     150000   unknown         bmw     unknown  \n",
       "\n",
       "[277 rows x 10 columns]"
      ]
     },
     "execution_count": 26,
     "metadata": {},
     "output_type": "execute_result"
    }
   ],
   "source": [
    "data_upd.loc[\n",
    "    (data_upd['Power'] > 1000)]"
   ]
  },
  {
   "cell_type": "markdown",
   "metadata": {},
   "source": [
    "Смущают значения лошадиных сил равных нулю. Видимо, пользователи просто не указали их при заполнении анкеты"
   ]
  },
  {
   "cell_type": "code",
   "execution_count": 27,
   "metadata": {},
   "outputs": [
    {
     "data": {
      "text/html": [
       "<div>\n",
       "<style scoped>\n",
       "    .dataframe tbody tr th:only-of-type {\n",
       "        vertical-align: middle;\n",
       "    }\n",
       "\n",
       "    .dataframe tbody tr th {\n",
       "        vertical-align: top;\n",
       "    }\n",
       "\n",
       "    .dataframe thead th {\n",
       "        text-align: right;\n",
       "    }\n",
       "</style>\n",
       "<table border=\"1\" class=\"dataframe\">\n",
       "  <thead>\n",
       "    <tr style=\"text-align: right;\">\n",
       "      <th></th>\n",
       "      <th>Price</th>\n",
       "      <th>VehicleType</th>\n",
       "      <th>RegistrationYear</th>\n",
       "      <th>Gearbox</th>\n",
       "      <th>Power</th>\n",
       "      <th>Model</th>\n",
       "      <th>Kilometer</th>\n",
       "      <th>FuelType</th>\n",
       "      <th>Brand</th>\n",
       "      <th>NotRepaired</th>\n",
       "    </tr>\n",
       "  </thead>\n",
       "  <tbody>\n",
       "    <tr>\n",
       "      <td>0</td>\n",
       "      <td>480</td>\n",
       "      <td>unknown</td>\n",
       "      <td>1993</td>\n",
       "      <td>manual</td>\n",
       "      <td>0</td>\n",
       "      <td>golf</td>\n",
       "      <td>150000</td>\n",
       "      <td>petrol</td>\n",
       "      <td>volkswagen</td>\n",
       "      <td>unknown</td>\n",
       "    </tr>\n",
       "    <tr>\n",
       "      <td>15</td>\n",
       "      <td>450</td>\n",
       "      <td>small</td>\n",
       "      <td>1910</td>\n",
       "      <td>unknown</td>\n",
       "      <td>0</td>\n",
       "      <td>ka</td>\n",
       "      <td>5000</td>\n",
       "      <td>petrol</td>\n",
       "      <td>ford</td>\n",
       "      <td>unknown</td>\n",
       "    </tr>\n",
       "    <tr>\n",
       "      <td>30</td>\n",
       "      <td>245</td>\n",
       "      <td>sedan</td>\n",
       "      <td>1994</td>\n",
       "      <td>unknown</td>\n",
       "      <td>0</td>\n",
       "      <td>golf</td>\n",
       "      <td>150000</td>\n",
       "      <td>petrol</td>\n",
       "      <td>volkswagen</td>\n",
       "      <td>no</td>\n",
       "    </tr>\n",
       "    <tr>\n",
       "      <td>35</td>\n",
       "      <td>1500</td>\n",
       "      <td>unknown</td>\n",
       "      <td>2016</td>\n",
       "      <td>unknown</td>\n",
       "      <td>0</td>\n",
       "      <td>kangoo</td>\n",
       "      <td>150000</td>\n",
       "      <td>gasoline</td>\n",
       "      <td>renault</td>\n",
       "      <td>no</td>\n",
       "    </tr>\n",
       "    <tr>\n",
       "      <td>38</td>\n",
       "      <td>0</td>\n",
       "      <td>unknown</td>\n",
       "      <td>1990</td>\n",
       "      <td>unknown</td>\n",
       "      <td>0</td>\n",
       "      <td>corsa</td>\n",
       "      <td>150000</td>\n",
       "      <td>petrol</td>\n",
       "      <td>opel</td>\n",
       "      <td>unknown</td>\n",
       "    </tr>\n",
       "    <tr>\n",
       "      <td>...</td>\n",
       "      <td>...</td>\n",
       "      <td>...</td>\n",
       "      <td>...</td>\n",
       "      <td>...</td>\n",
       "      <td>...</td>\n",
       "      <td>...</td>\n",
       "      <td>...</td>\n",
       "      <td>...</td>\n",
       "      <td>...</td>\n",
       "      <td>...</td>\n",
       "    </tr>\n",
       "    <tr>\n",
       "      <td>339742</td>\n",
       "      <td>180</td>\n",
       "      <td>unknown</td>\n",
       "      <td>1995</td>\n",
       "      <td>unknown</td>\n",
       "      <td>0</td>\n",
       "      <td>unknown</td>\n",
       "      <td>125000</td>\n",
       "      <td>petrol</td>\n",
       "      <td>opel</td>\n",
       "      <td>unknown</td>\n",
       "    </tr>\n",
       "    <tr>\n",
       "      <td>339750</td>\n",
       "      <td>2600</td>\n",
       "      <td>unknown</td>\n",
       "      <td>2005</td>\n",
       "      <td>auto</td>\n",
       "      <td>0</td>\n",
       "      <td>c_klasse</td>\n",
       "      <td>150000</td>\n",
       "      <td>unknown</td>\n",
       "      <td>mercedes_benz</td>\n",
       "      <td>unknown</td>\n",
       "    </tr>\n",
       "    <tr>\n",
       "      <td>339767</td>\n",
       "      <td>1150</td>\n",
       "      <td>bus</td>\n",
       "      <td>2000</td>\n",
       "      <td>manual</td>\n",
       "      <td>0</td>\n",
       "      <td>zafira</td>\n",
       "      <td>150000</td>\n",
       "      <td>petrol</td>\n",
       "      <td>opel</td>\n",
       "      <td>no</td>\n",
       "    </tr>\n",
       "    <tr>\n",
       "      <td>339768</td>\n",
       "      <td>0</td>\n",
       "      <td>unknown</td>\n",
       "      <td>2005</td>\n",
       "      <td>manual</td>\n",
       "      <td>0</td>\n",
       "      <td>colt</td>\n",
       "      <td>150000</td>\n",
       "      <td>petrol</td>\n",
       "      <td>mitsubishi</td>\n",
       "      <td>yes</td>\n",
       "    </tr>\n",
       "    <tr>\n",
       "      <td>339769</td>\n",
       "      <td>2200</td>\n",
       "      <td>unknown</td>\n",
       "      <td>2005</td>\n",
       "      <td>unknown</td>\n",
       "      <td>0</td>\n",
       "      <td>unknown</td>\n",
       "      <td>20000</td>\n",
       "      <td>unknown</td>\n",
       "      <td>sonstige_autos</td>\n",
       "      <td>unknown</td>\n",
       "    </tr>\n",
       "  </tbody>\n",
       "</table>\n",
       "<p>36453 rows × 10 columns</p>\n",
       "</div>"
      ],
      "text/plain": [
       "        Price VehicleType  RegistrationYear  Gearbox  Power     Model  \\\n",
       "0         480     unknown              1993   manual      0      golf   \n",
       "15        450       small              1910  unknown      0        ka   \n",
       "30        245       sedan              1994  unknown      0      golf   \n",
       "35       1500     unknown              2016  unknown      0    kangoo   \n",
       "38          0     unknown              1990  unknown      0     corsa   \n",
       "...       ...         ...               ...      ...    ...       ...   \n",
       "339742    180     unknown              1995  unknown      0   unknown   \n",
       "339750   2600     unknown              2005     auto      0  c_klasse   \n",
       "339767   1150         bus              2000   manual      0    zafira   \n",
       "339768      0     unknown              2005   manual      0      colt   \n",
       "339769   2200     unknown              2005  unknown      0   unknown   \n",
       "\n",
       "        Kilometer  FuelType           Brand NotRepaired  \n",
       "0          150000    petrol      volkswagen     unknown  \n",
       "15           5000    petrol            ford     unknown  \n",
       "30         150000    petrol      volkswagen          no  \n",
       "35         150000  gasoline         renault          no  \n",
       "38         150000    petrol            opel     unknown  \n",
       "...           ...       ...             ...         ...  \n",
       "339742     125000    petrol            opel     unknown  \n",
       "339750     150000   unknown   mercedes_benz     unknown  \n",
       "339767     150000    petrol            opel          no  \n",
       "339768     150000    petrol      mitsubishi         yes  \n",
       "339769      20000   unknown  sonstige_autos     unknown  \n",
       "\n",
       "[36453 rows x 10 columns]"
      ]
     },
     "execution_count": 27,
     "metadata": {},
     "output_type": "execute_result"
    }
   ],
   "source": [
    "data_upd.loc[\n",
    "    (data_upd['Power'] == 0)]"
   ]
  },
  {
   "cell_type": "markdown",
   "metadata": {},
   "source": [
    "Удаляем значения в колонке __Мощность__ выше 1000 л.с., так как это единичные данные, которые ошибочны"
   ]
  },
  {
   "cell_type": "code",
   "execution_count": 28,
   "metadata": {},
   "outputs": [
    {
     "data": {
      "text/plain": [
       "277"
      ]
     },
     "execution_count": 28,
     "metadata": {},
     "output_type": "execute_result"
    }
   ],
   "source": [
    "len(data_upd.loc[data_upd['Power'] > 1000])"
   ]
  },
  {
   "cell_type": "code",
   "execution_count": 29,
   "metadata": {},
   "outputs": [],
   "source": [
    "data_upd = data_upd.drop(\n",
    "    data_upd.loc[data_upd['Power'] > 1000].index\n",
    ").reset_index(drop=True)"
   ]
  },
  {
   "cell_type": "code",
   "execution_count": 30,
   "metadata": {},
   "outputs": [
    {
     "data": {
      "text/plain": [
       "count   339,496.00\n",
       "mean      2,002.48\n",
       "std           7.09\n",
       "min       1,910.00\n",
       "25%       1,999.00\n",
       "50%       2,003.00\n",
       "75%       2,007.00\n",
       "max       2,016.00\n",
       "Name: RegistrationYear, dtype: float64"
      ]
     },
     "execution_count": 30,
     "metadata": {},
     "output_type": "execute_result"
    }
   ],
   "source": [
    "data_upd['RegistrationYear'].describe()"
   ]
  },
  {
   "cell_type": "markdown",
   "metadata": {},
   "source": [
    "Сгруппируем авто по возрасту на основании квартилей"
   ]
  },
  {
   "cell_type": "code",
   "execution_count": 31,
   "metadata": {},
   "outputs": [],
   "source": [
    "def year_status(year):\n",
    "    if year <= 1999:\n",
    "        return 'очень старый'\n",
    "    elif 1999 < year <= 2003:\n",
    "        return 'старый'\n",
    "    elif  2003< year <= 2007:\n",
    "        return 'средний'\n",
    "    else:\n",
    "        return 'почти новый'"
   ]
  },
  {
   "cell_type": "code",
   "execution_count": 32,
   "metadata": {},
   "outputs": [
    {
     "data": {
      "text/html": [
       "<div>\n",
       "<style scoped>\n",
       "    .dataframe tbody tr th:only-of-type {\n",
       "        vertical-align: middle;\n",
       "    }\n",
       "\n",
       "    .dataframe tbody tr th {\n",
       "        vertical-align: top;\n",
       "    }\n",
       "\n",
       "    .dataframe thead th {\n",
       "        text-align: right;\n",
       "    }\n",
       "</style>\n",
       "<table border=\"1\" class=\"dataframe\">\n",
       "  <thead>\n",
       "    <tr style=\"text-align: right;\">\n",
       "      <th></th>\n",
       "      <th>Price</th>\n",
       "      <th>VehicleType</th>\n",
       "      <th>RegistrationYear</th>\n",
       "      <th>Gearbox</th>\n",
       "      <th>Power</th>\n",
       "      <th>Model</th>\n",
       "      <th>Kilometer</th>\n",
       "      <th>FuelType</th>\n",
       "      <th>Brand</th>\n",
       "      <th>NotRepaired</th>\n",
       "      <th>year_status</th>\n",
       "    </tr>\n",
       "  </thead>\n",
       "  <tbody>\n",
       "    <tr>\n",
       "      <td>0</td>\n",
       "      <td>480</td>\n",
       "      <td>unknown</td>\n",
       "      <td>1993</td>\n",
       "      <td>manual</td>\n",
       "      <td>0</td>\n",
       "      <td>golf</td>\n",
       "      <td>150000</td>\n",
       "      <td>petrol</td>\n",
       "      <td>volkswagen</td>\n",
       "      <td>unknown</td>\n",
       "      <td>очень старый</td>\n",
       "    </tr>\n",
       "  </tbody>\n",
       "</table>\n",
       "</div>"
      ],
      "text/plain": [
       "   Price VehicleType  RegistrationYear Gearbox  Power Model  Kilometer  \\\n",
       "0    480     unknown              1993  manual      0  golf     150000   \n",
       "\n",
       "  FuelType       Brand NotRepaired   year_status  \n",
       "0   petrol  volkswagen     unknown  очень старый  "
      ]
     },
     "execution_count": 32,
     "metadata": {},
     "output_type": "execute_result"
    }
   ],
   "source": [
    "data_upd['year_status'] = data_upd['RegistrationYear'].apply(year_status)\n",
    "data_upd.head(1)"
   ]
  },
  {
   "cell_type": "code",
   "execution_count": 33,
   "metadata": {},
   "outputs": [
    {
     "data": {
      "image/png": "[encoded data removed]",
      "text/plain": [
       "<Figure size 1080x720 with 1 Axes>"
      ]
     },
     "metadata": {},
     "output_type": "display_data"
    }
   ],
   "source": [
    "plt.figure(figsize=(15,10))\n",
    "figure = sns.boxplot(\n",
    "    x=data_upd['year_status'],\n",
    "    y=data_upd['Price'],\n",
    "    data=pd.melt(data_upd)\n",
    ")\n",
    "plt.title('Цена по возрастным группам авто')\n",
    "\n",
    "plt.show()"
   ]
  },
  {
   "cell_type": "code",
   "execution_count": 34,
   "metadata": {},
   "outputs": [
    {
     "data": {
      "text/plain": [
       "year_status\n",
       "очень старый   1,816.11\n",
       "почти новый    9,049.80\n",
       "средний        5,587.19\n",
       "старый         2,539.88\n",
       "Name: Price, dtype: float64"
      ]
     },
     "execution_count": 34,
     "metadata": {},
     "output_type": "execute_result"
    }
   ],
   "source": [
    "mean_price = data_upd.groupby('year_status')['Price'].mean()\n",
    "mean_price"
   ]
  },
  {
   "cell_type": "code",
   "execution_count": 35,
   "metadata": {},
   "outputs": [
    {
     "data": {
      "image/png": "[encoded data removed]",
      "text/plain": [
       "<Figure size 504x504 with 1 Axes>"
      ]
     },
     "metadata": {},
     "output_type": "display_data"
    }
   ],
   "source": [
    "fig = plt.figure(figsize=(7,7))\n",
    "mean_price.plot(\n",
    "    kind='pie',\n",
    "    y=mean_price,\n",
    "    title='Доли объявлений авто по возрастным группам',\n",
    "    legend=True,\n",
    "    autopct='%1.0f%%',\n",
    "    shadow=True\n",
    ")\n",
    "\n",
    "plt.show()"
   ]
  },
  {
   "cell_type": "markdown",
   "metadata": {},
   "source": [
    "Практически половину выборки заняли новые авто"
   ]
  },
  {
   "cell_type": "markdown",
   "metadata": {},
   "source": [
    "Нулевая гипотеза утверждает о равенстве средней цены обеих возрастных групп авто, тогда альтернативная гипотеза будет свидетельствовать об обратном.\n",
    "\n",
    "Н0: средняя цена Старых авто = средняя цена Новых авто\n",
    "\n",
    "Н1: ср. цены двух групп отличаются\n",
    "\n",
    "Р-уровень значимости = 0.05"
   ]
  },
  {
   "cell_type": "markdown",
   "metadata": {},
   "source": [
    "Для проверки гипотезы укрупним группы:  \n",
    "- очень старый + старый = Старые авто\n",
    "- средний + почти новый = Новые авто"
   ]
  },
  {
   "cell_type": "code",
   "execution_count": 36,
   "metadata": {},
   "outputs": [],
   "source": [
    "old = data_upd.loc[\n",
    "    (data_upd['year_status'] == 'очень старый') |\n",
    "    (data_upd['year_status'] == 'старый'), 'Price'\n",
    "     ]\n",
    "new = data_upd.loc[\n",
    "    (data_upd['year_status'] == 'средний') |\n",
    "    (data_upd['year_status'] == 'почти новый'), 'Price'\n",
    "     ]"
   ]
  },
  {
   "cell_type": "code",
   "execution_count": 37,
   "metadata": {},
   "outputs": [
    {
     "name": "stdout",
     "output_type": "stream",
     "text": [
      "Дисперсия цены старых и очень старых авто: 6,162,783.92\n"
     ]
    }
   ],
   "source": [
    "variance_old = np.var(old, ddof=1)\n",
    "print('Дисперсия цены старых и очень старых авто: {:,.2f}'.format(variance_old))"
   ]
  },
  {
   "cell_type": "code",
   "execution_count": 38,
   "metadata": {},
   "outputs": [
    {
     "data": {
      "image/png": "[encoded data removed]",
      "text/plain": [
       "<Figure size 720x504 with 1 Axes>"
      ]
     },
     "metadata": {},
     "output_type": "display_data"
    }
   ],
   "source": [
    "plt.figure(figsize=(10,7))\n",
    "sns.distplot(old)\n",
    "\n",
    "plt.show()"
   ]
  },
  {
   "cell_type": "code",
   "execution_count": 39,
   "metadata": {},
   "outputs": [
    {
     "data": {
      "text/plain": [
       "count   185,475.00\n",
       "mean      2,141.52\n",
       "std       2,482.50\n",
       "min           0.00\n",
       "25%         700.00\n",
       "50%       1,400.00\n",
       "75%       2,600.00\n",
       "max      20,000.00\n",
       "Name: Price, dtype: float64"
      ]
     },
     "execution_count": 39,
     "metadata": {},
     "output_type": "execute_result"
    }
   ],
   "source": [
    "old.describe()"
   ]
  },
  {
   "cell_type": "code",
   "execution_count": 40,
   "metadata": {},
   "outputs": [
    {
     "name": "stdout",
     "output_type": "stream",
     "text": [
      "Дисперсия цены средних и почти новых авто: 23,722,046.56\n"
     ]
    }
   ],
   "source": [
    "variance_new = np.var(new, ddof=1)\n",
    "print('Дисперсия цены средних и почти новых авто: {:,.2f}'.format(variance_new))"
   ]
  },
  {
   "cell_type": "code",
   "execution_count": 41,
   "metadata": {},
   "outputs": [
    {
     "data": {
      "image/png": "[encoded data removed]",
      "text/plain": [
       "<Figure size 720x504 with 1 Axes>"
      ]
     },
     "metadata": {},
     "output_type": "display_data"
    }
   ],
   "source": [
    "plt.figure(figsize=(10,7))\n",
    "sns.distplot(new)\n",
    "\n",
    "plt.show()"
   ]
  },
  {
   "cell_type": "code",
   "execution_count": 42,
   "metadata": {},
   "outputs": [
    {
     "data": {
      "text/plain": [
       "count   154,021.00\n",
       "mean      7,279.55\n",
       "std       4,870.53\n",
       "min           0.00\n",
       "25%       3,500.00\n",
       "50%       6,299.00\n",
       "75%      10,250.00\n",
       "max      20,000.00\n",
       "Name: Price, dtype: float64"
      ]
     },
     "execution_count": 42,
     "metadata": {},
     "output_type": "execute_result"
    }
   ],
   "source": [
    "new.describe()"
   ]
  },
  {
   "cell_type": "markdown",
   "metadata": {},
   "source": [
    "Так как дисперсия силльно разница equal_var=False"
   ]
  },
  {
   "cell_type": "code",
   "execution_count": 43,
   "metadata": {},
   "outputs": [
    {
     "name": "stdout",
     "output_type": "stream",
     "text": [
      "p-значение: 0.0\n",
      "Отвергаем Н0\n"
     ]
    }
   ],
   "source": [
    "alpha = 0.05\n",
    "result = st.ttest_ind(old, new, equal_var=False)\n",
    "print(f'p-значение: {result.pvalue}')\n",
    "if result.pvalue < alpha:\n",
    "    print(f\"Отвергаем Н0\")\n",
    "else:\n",
    "    print(f'Не получилось отвергнуть Н0')"
   ]
  },
  {
   "cell_type": "markdown",
   "metadata": {},
   "source": [
    "Для проверки гипотезы о равенстве средних значений двух выборок изпользовали тест Стьюдента. Отвергаем нулевую гипотезу, так как p-значение, полученное в тесте, много меньше уровня значимости, установленного в 5%."
   ]
  },
  {
   "cell_type": "markdown",
   "metadata": {},
   "source": [
    "Удалим колонку с возрастными группами, чтобы не мешалась при формировании выборок для моделирования"
   ]
  },
  {
   "cell_type": "code",
   "execution_count": 44,
   "metadata": {},
   "outputs": [],
   "source": [
    "data_upd = data_upd.drop('year_status', axis='columns')"
   ]
  },
  {
   "cell_type": "markdown",
   "metadata": {},
   "source": [
    "Проверяем отсутствие пропусков"
   ]
  },
  {
   "cell_type": "code",
   "execution_count": 45,
   "metadata": {
    "scrolled": false
   },
   "outputs": [
    {
     "name": "stdout",
     "output_type": "stream",
     "text": [
      "<class 'pandas.core.frame.DataFrame'>\n",
      "RangeIndex: 339496 entries, 0 to 339495\n",
      "Data columns (total 10 columns):\n",
      "Price               339496 non-null int64\n",
      "VehicleType         339496 non-null object\n",
      "RegistrationYear    339496 non-null int64\n",
      "Gearbox             339496 non-null object\n",
      "Power               339496 non-null int64\n",
      "Model               339496 non-null object\n",
      "Kilometer           339496 non-null int64\n",
      "FuelType            339496 non-null object\n",
      "Brand               339496 non-null object\n",
      "NotRepaired         339496 non-null object\n",
      "dtypes: int64(4), object(6)\n",
      "memory usage: 25.9+ MB\n"
     ]
    }
   ],
   "source": [
    "data_upd.info()"
   ]
  },
  {
   "cell_type": "code",
   "execution_count": 46,
   "metadata": {},
   "outputs": [
    {
     "data": {
      "text/html": [
       "<div>\n",
       "<style scoped>\n",
       "    .dataframe tbody tr th:only-of-type {\n",
       "        vertical-align: middle;\n",
       "    }\n",
       "\n",
       "    .dataframe tbody tr th {\n",
       "        vertical-align: top;\n",
       "    }\n",
       "\n",
       "    .dataframe thead th {\n",
       "        text-align: right;\n",
       "    }\n",
       "</style>\n",
       "<table border=\"1\" class=\"dataframe\">\n",
       "  <thead>\n",
       "    <tr style=\"text-align: right;\">\n",
       "      <th></th>\n",
       "      <th>Price</th>\n",
       "      <th>VehicleType</th>\n",
       "      <th>RegistrationYear</th>\n",
       "      <th>Gearbox</th>\n",
       "      <th>Power</th>\n",
       "      <th>Model</th>\n",
       "      <th>Kilometer</th>\n",
       "      <th>FuelType</th>\n",
       "      <th>Brand</th>\n",
       "      <th>NotRepaired</th>\n",
       "    </tr>\n",
       "  </thead>\n",
       "  <tbody>\n",
       "    <tr>\n",
       "      <td>0</td>\n",
       "      <td>480</td>\n",
       "      <td>unknown</td>\n",
       "      <td>1993</td>\n",
       "      <td>manual</td>\n",
       "      <td>0</td>\n",
       "      <td>golf</td>\n",
       "      <td>150000</td>\n",
       "      <td>petrol</td>\n",
       "      <td>volkswagen</td>\n",
       "      <td>unknown</td>\n",
       "    </tr>\n",
       "    <tr>\n",
       "      <td>1</td>\n",
       "      <td>18300</td>\n",
       "      <td>coupe</td>\n",
       "      <td>2011</td>\n",
       "      <td>manual</td>\n",
       "      <td>190</td>\n",
       "      <td>unknown</td>\n",
       "      <td>125000</td>\n",
       "      <td>gasoline</td>\n",
       "      <td>audi</td>\n",
       "      <td>yes</td>\n",
       "    </tr>\n",
       "    <tr>\n",
       "      <td>2</td>\n",
       "      <td>9800</td>\n",
       "      <td>suv</td>\n",
       "      <td>2004</td>\n",
       "      <td>auto</td>\n",
       "      <td>163</td>\n",
       "      <td>grand</td>\n",
       "      <td>125000</td>\n",
       "      <td>gasoline</td>\n",
       "      <td>jeep</td>\n",
       "      <td>unknown</td>\n",
       "    </tr>\n",
       "    <tr>\n",
       "      <td>3</td>\n",
       "      <td>1500</td>\n",
       "      <td>small</td>\n",
       "      <td>2001</td>\n",
       "      <td>manual</td>\n",
       "      <td>75</td>\n",
       "      <td>golf</td>\n",
       "      <td>150000</td>\n",
       "      <td>petrol</td>\n",
       "      <td>volkswagen</td>\n",
       "      <td>no</td>\n",
       "    </tr>\n",
       "    <tr>\n",
       "      <td>4</td>\n",
       "      <td>3600</td>\n",
       "      <td>small</td>\n",
       "      <td>2008</td>\n",
       "      <td>manual</td>\n",
       "      <td>69</td>\n",
       "      <td>fabia</td>\n",
       "      <td>90000</td>\n",
       "      <td>gasoline</td>\n",
       "      <td>skoda</td>\n",
       "      <td>no</td>\n",
       "    </tr>\n",
       "  </tbody>\n",
       "</table>\n",
       "</div>"
      ],
      "text/plain": [
       "   Price VehicleType  RegistrationYear Gearbox  Power    Model  Kilometer  \\\n",
       "0    480     unknown              1993  manual      0     golf     150000   \n",
       "1  18300       coupe              2011  manual    190  unknown     125000   \n",
       "2   9800         suv              2004    auto    163    grand     125000   \n",
       "3   1500       small              2001  manual     75     golf     150000   \n",
       "4   3600       small              2008  manual     69    fabia      90000   \n",
       "\n",
       "   FuelType       Brand NotRepaired  \n",
       "0    petrol  volkswagen     unknown  \n",
       "1  gasoline        audi         yes  \n",
       "2  gasoline        jeep     unknown  \n",
       "3    petrol  volkswagen          no  \n",
       "4  gasoline       skoda          no  "
      ]
     },
     "execution_count": 46,
     "metadata": {},
     "output_type": "execute_result"
    }
   ],
   "source": [
    "data_upd.head()"
   ]
  },
  {
   "cell_type": "markdown",
   "metadata": {},
   "source": [
    "### Дубликаты"
   ]
  },
  {
   "cell_type": "markdown",
   "metadata": {},
   "source": [
    "Найденные дубликаты, на самом деле не дубликаты"
   ]
  },
  {
   "cell_type": "code",
   "execution_count": 47,
   "metadata": {},
   "outputs": [
    {
     "data": {
      "text/plain": [
       "44093"
      ]
     },
     "execution_count": 47,
     "metadata": {},
     "output_type": "execute_result"
    }
   ],
   "source": [
    "data_upd.duplicated().sum()"
   ]
  },
  {
   "cell_type": "code",
   "execution_count": 48,
   "metadata": {},
   "outputs": [
    {
     "data": {
      "text/html": [
       "<div>\n",
       "<style scoped>\n",
       "    .dataframe tbody tr th:only-of-type {\n",
       "        vertical-align: middle;\n",
       "    }\n",
       "\n",
       "    .dataframe tbody tr th {\n",
       "        vertical-align: top;\n",
       "    }\n",
       "\n",
       "    .dataframe thead th {\n",
       "        text-align: right;\n",
       "    }\n",
       "</style>\n",
       "<table border=\"1\" class=\"dataframe\">\n",
       "  <thead>\n",
       "    <tr style=\"text-align: right;\">\n",
       "      <th></th>\n",
       "      <th>Price</th>\n",
       "      <th>VehicleType</th>\n",
       "      <th>RegistrationYear</th>\n",
       "      <th>Gearbox</th>\n",
       "      <th>Power</th>\n",
       "      <th>Model</th>\n",
       "      <th>Kilometer</th>\n",
       "      <th>FuelType</th>\n",
       "      <th>Brand</th>\n",
       "      <th>NotRepaired</th>\n",
       "    </tr>\n",
       "  </thead>\n",
       "  <tbody>\n",
       "    <tr>\n",
       "      <td>1063</td>\n",
       "      <td>950</td>\n",
       "      <td>small</td>\n",
       "      <td>1999</td>\n",
       "      <td>manual</td>\n",
       "      <td>60</td>\n",
       "      <td>polo</td>\n",
       "      <td>150000</td>\n",
       "      <td>petrol</td>\n",
       "      <td>volkswagen</td>\n",
       "      <td>no</td>\n",
       "    </tr>\n",
       "    <tr>\n",
       "      <td>1329</td>\n",
       "      <td>0</td>\n",
       "      <td>unknown</td>\n",
       "      <td>2000</td>\n",
       "      <td>unknown</td>\n",
       "      <td>0</td>\n",
       "      <td>unknown</td>\n",
       "      <td>150000</td>\n",
       "      <td>unknown</td>\n",
       "      <td>volvo</td>\n",
       "      <td>unknown</td>\n",
       "    </tr>\n",
       "    <tr>\n",
       "      <td>2073</td>\n",
       "      <td>0</td>\n",
       "      <td>coupe</td>\n",
       "      <td>2002</td>\n",
       "      <td>manual</td>\n",
       "      <td>129</td>\n",
       "      <td>c_klasse</td>\n",
       "      <td>150000</td>\n",
       "      <td>petrol</td>\n",
       "      <td>mercedes_benz</td>\n",
       "      <td>no</td>\n",
       "    </tr>\n",
       "    <tr>\n",
       "      <td>2707</td>\n",
       "      <td>1499</td>\n",
       "      <td>small</td>\n",
       "      <td>2001</td>\n",
       "      <td>manual</td>\n",
       "      <td>58</td>\n",
       "      <td>corsa</td>\n",
       "      <td>150000</td>\n",
       "      <td>petrol</td>\n",
       "      <td>opel</td>\n",
       "      <td>no</td>\n",
       "    </tr>\n",
       "    <tr>\n",
       "      <td>2892</td>\n",
       "      <td>2800</td>\n",
       "      <td>wagon</td>\n",
       "      <td>2005</td>\n",
       "      <td>unknown</td>\n",
       "      <td>0</td>\n",
       "      <td>touran</td>\n",
       "      <td>150000</td>\n",
       "      <td>gasoline</td>\n",
       "      <td>volkswagen</td>\n",
       "      <td>no</td>\n",
       "    </tr>\n",
       "    <tr>\n",
       "      <td>...</td>\n",
       "      <td>...</td>\n",
       "      <td>...</td>\n",
       "      <td>...</td>\n",
       "      <td>...</td>\n",
       "      <td>...</td>\n",
       "      <td>...</td>\n",
       "      <td>...</td>\n",
       "      <td>...</td>\n",
       "      <td>...</td>\n",
       "      <td>...</td>\n",
       "    </tr>\n",
       "    <tr>\n",
       "      <td>339479</td>\n",
       "      <td>6500</td>\n",
       "      <td>sedan</td>\n",
       "      <td>2003</td>\n",
       "      <td>auto</td>\n",
       "      <td>145</td>\n",
       "      <td>e_klasse</td>\n",
       "      <td>150000</td>\n",
       "      <td>gasoline</td>\n",
       "      <td>mercedes_benz</td>\n",
       "      <td>no</td>\n",
       "    </tr>\n",
       "    <tr>\n",
       "      <td>339482</td>\n",
       "      <td>4400</td>\n",
       "      <td>sedan</td>\n",
       "      <td>2008</td>\n",
       "      <td>manual</td>\n",
       "      <td>105</td>\n",
       "      <td>leon</td>\n",
       "      <td>150000</td>\n",
       "      <td>gasoline</td>\n",
       "      <td>seat</td>\n",
       "      <td>no</td>\n",
       "    </tr>\n",
       "    <tr>\n",
       "      <td>339485</td>\n",
       "      <td>1490</td>\n",
       "      <td>small</td>\n",
       "      <td>1998</td>\n",
       "      <td>manual</td>\n",
       "      <td>50</td>\n",
       "      <td>lupo</td>\n",
       "      <td>150000</td>\n",
       "      <td>petrol</td>\n",
       "      <td>volkswagen</td>\n",
       "      <td>no</td>\n",
       "    </tr>\n",
       "    <tr>\n",
       "      <td>339486</td>\n",
       "      <td>7900</td>\n",
       "      <td>sedan</td>\n",
       "      <td>2010</td>\n",
       "      <td>manual</td>\n",
       "      <td>140</td>\n",
       "      <td>golf</td>\n",
       "      <td>150000</td>\n",
       "      <td>gasoline</td>\n",
       "      <td>volkswagen</td>\n",
       "      <td>no</td>\n",
       "    </tr>\n",
       "    <tr>\n",
       "      <td>339490</td>\n",
       "      <td>1150</td>\n",
       "      <td>bus</td>\n",
       "      <td>2000</td>\n",
       "      <td>manual</td>\n",
       "      <td>0</td>\n",
       "      <td>zafira</td>\n",
       "      <td>150000</td>\n",
       "      <td>petrol</td>\n",
       "      <td>opel</td>\n",
       "      <td>no</td>\n",
       "    </tr>\n",
       "  </tbody>\n",
       "</table>\n",
       "<p>44093 rows × 10 columns</p>\n",
       "</div>"
      ],
      "text/plain": [
       "        Price VehicleType  RegistrationYear  Gearbox  Power     Model  \\\n",
       "1063      950       small              1999   manual     60      polo   \n",
       "1329        0     unknown              2000  unknown      0   unknown   \n",
       "2073        0       coupe              2002   manual    129  c_klasse   \n",
       "2707     1499       small              2001   manual     58     corsa   \n",
       "2892     2800       wagon              2005  unknown      0    touran   \n",
       "...       ...         ...               ...      ...    ...       ...   \n",
       "339479   6500       sedan              2003     auto    145  e_klasse   \n",
       "339482   4400       sedan              2008   manual    105      leon   \n",
       "339485   1490       small              1998   manual     50      lupo   \n",
       "339486   7900       sedan              2010   manual    140      golf   \n",
       "339490   1150         bus              2000   manual      0    zafira   \n",
       "\n",
       "        Kilometer  FuelType          Brand NotRepaired  \n",
       "1063       150000    petrol     volkswagen          no  \n",
       "1329       150000   unknown          volvo     unknown  \n",
       "2073       150000    petrol  mercedes_benz          no  \n",
       "2707       150000    petrol           opel          no  \n",
       "2892       150000  gasoline     volkswagen          no  \n",
       "...           ...       ...            ...         ...  \n",
       "339479     150000  gasoline  mercedes_benz          no  \n",
       "339482     150000  gasoline           seat          no  \n",
       "339485     150000    petrol     volkswagen          no  \n",
       "339486     150000  gasoline     volkswagen          no  \n",
       "339490     150000    petrol           opel          no  \n",
       "\n",
       "[44093 rows x 10 columns]"
      ]
     },
     "execution_count": 48,
     "metadata": {},
     "output_type": "execute_result"
    }
   ],
   "source": [
    "data_upd.loc[data_upd.duplicated()]"
   ]
  },
  {
   "cell_type": "markdown",
   "metadata": {},
   "source": [
    "### Корреляция"
   ]
  },
  {
   "cell_type": "markdown",
   "metadata": {},
   "source": [
    "Проверим корреляцию между числовыми данными"
   ]
  },
  {
   "cell_type": "code",
   "execution_count": 49,
   "metadata": {
    "scrolled": true
   },
   "outputs": [
    {
     "data": {
      "text/html": [
       "<div>\n",
       "<style scoped>\n",
       "    .dataframe tbody tr th:only-of-type {\n",
       "        vertical-align: middle;\n",
       "    }\n",
       "\n",
       "    .dataframe tbody tr th {\n",
       "        vertical-align: top;\n",
       "    }\n",
       "\n",
       "    .dataframe thead th {\n",
       "        text-align: right;\n",
       "    }\n",
       "</style>\n",
       "<table border=\"1\" class=\"dataframe\">\n",
       "  <thead>\n",
       "    <tr style=\"text-align: right;\">\n",
       "      <th></th>\n",
       "      <th>Price</th>\n",
       "      <th>RegistrationYear</th>\n",
       "      <th>Power</th>\n",
       "      <th>Kilometer</th>\n",
       "    </tr>\n",
       "  </thead>\n",
       "  <tbody>\n",
       "    <tr>\n",
       "      <td>Price</td>\n",
       "      <td>1.00</td>\n",
       "      <td>0.43</td>\n",
       "      <td>0.48</td>\n",
       "      <td>-0.34</td>\n",
       "    </tr>\n",
       "    <tr>\n",
       "      <td>RegistrationYear</td>\n",
       "      <td>0.43</td>\n",
       "      <td>1.00</td>\n",
       "      <td>0.16</td>\n",
       "      <td>-0.20</td>\n",
       "    </tr>\n",
       "    <tr>\n",
       "      <td>Power</td>\n",
       "      <td>0.48</td>\n",
       "      <td>0.16</td>\n",
       "      <td>1.00</td>\n",
       "      <td>0.09</td>\n",
       "    </tr>\n",
       "    <tr>\n",
       "      <td>Kilometer</td>\n",
       "      <td>-0.34</td>\n",
       "      <td>-0.20</td>\n",
       "      <td>0.09</td>\n",
       "      <td>1.00</td>\n",
       "    </tr>\n",
       "  </tbody>\n",
       "</table>\n",
       "</div>"
      ],
      "text/plain": [
       "                  Price  RegistrationYear  Power  Kilometer\n",
       "Price              1.00              0.43   0.48      -0.34\n",
       "RegistrationYear   0.43              1.00   0.16      -0.20\n",
       "Power              0.48              0.16   1.00       0.09\n",
       "Kilometer         -0.34             -0.20   0.09       1.00"
      ]
     },
     "execution_count": 49,
     "metadata": {},
     "output_type": "execute_result"
    }
   ],
   "source": [
    "data_upd[columns_int].corr()"
   ]
  },
  {
   "cell_type": "markdown",
   "metadata": {},
   "source": [
    "Значительных взаимосвязей не выявлено, которые могли бы негативно повлиять на обучение модели"
   ]
  },
  {
   "cell_type": "code",
   "execution_count": 50,
   "metadata": {},
   "outputs": [
    {
     "data": {
      "image/png": "[encoded data removed]",
      "text/plain": [
       "<Figure size 720x720 with 20 Axes>"
      ]
     },
     "metadata": {},
     "output_type": "display_data"
    }
   ],
   "source": [
    "sns.pairplot(data_upd[columns_int].corr())\n",
    "plt.show()"
   ]
  },
  {
   "cell_type": "markdown",
   "metadata": {},
   "source": [
    "### Вывод:\n",
    "1. пропущенные значения заменили на вставку \"unknown\", так как пропуски составили значительный процент от общего массива данных\n",
    "2. удалили столбцы, не влияющие на целевой признак - цену авто\n",
    "3. выявили аномалии в столбце __Мощность__ и нереальные значения в столбце __Год регистрации авто__\n",
    "4. сильной взаимосвязи между значениями признаков не выявлено"
   ]
  },
  {
   "cell_type": "markdown",
   "metadata": {},
   "source": [
    "## Обучение моделей"
   ]
  },
  {
   "cell_type": "markdown",
   "metadata": {},
   "source": [
    "### Формирование выборок"
   ]
  },
  {
   "cell_type": "markdown",
   "metadata": {},
   "source": [
    "Выделяем признаки для обучения и целевой признак"
   ]
  },
  {
   "cell_type": "code",
   "execution_count": 51,
   "metadata": {},
   "outputs": [],
   "source": [
    "features = data_upd.drop('Price', axis='columns')\n",
    "target = data_upd['Price']"
   ]
  },
  {
   "cell_type": "code",
   "execution_count": 52,
   "metadata": {},
   "outputs": [],
   "source": [
    "features_train, features_valid, target_train, target_valid = train_test_split(\n",
    "    features, target, test_size=0.40, random_state=12345)"
   ]
  },
  {
   "cell_type": "code",
   "execution_count": 53,
   "metadata": {},
   "outputs": [],
   "source": [
    "features_valid, features_test, target_valid, target_test = train_test_split(\n",
    "    features_valid, target_valid, test_size=0.50, random_state=12345)"
   ]
  },
  {
   "cell_type": "code",
   "execution_count": 54,
   "metadata": {},
   "outputs": [
    {
     "name": "stdout",
     "output_type": "stream",
     "text": [
      "(203697, 9)\n",
      "(67899, 9)\n",
      "(67900, 9)\n"
     ]
    }
   ],
   "source": [
    "print(features_train.shape)\n",
    "print(features_valid.shape)\n",
    "print(features_test.shape)"
   ]
  },
  {
   "cell_type": "code",
   "execution_count": 55,
   "metadata": {},
   "outputs": [
    {
     "name": "stdout",
     "output_type": "stream",
     "text": [
      "(203697,)\n",
      "(67899,)\n",
      "(67900,)\n"
     ]
    }
   ],
   "source": [
    "print(target_train.shape)\n",
    "print(target_valid.shape)\n",
    "print(target_test.shape)"
   ]
  },
  {
   "cell_type": "markdown",
   "metadata": {},
   "source": [
    "Кодируем категориальные признаки методом Ordinal Encoding в числовые и формируем выборки"
   ]
  },
  {
   "cell_type": "code",
   "execution_count": 56,
   "metadata": {},
   "outputs": [],
   "source": [
    "categorical=['VehicleType','Gearbox','Model','FuelType','Brand','NotRepaired']"
   ]
  },
  {
   "cell_type": "code",
   "execution_count": 57,
   "metadata": {},
   "outputs": [
    {
     "data": {
      "text/html": [
       "<div>\n",
       "<style scoped>\n",
       "    .dataframe tbody tr th:only-of-type {\n",
       "        vertical-align: middle;\n",
       "    }\n",
       "\n",
       "    .dataframe tbody tr th {\n",
       "        vertical-align: top;\n",
       "    }\n",
       "\n",
       "    .dataframe thead th {\n",
       "        text-align: right;\n",
       "    }\n",
       "</style>\n",
       "<table border=\"1\" class=\"dataframe\">\n",
       "  <thead>\n",
       "    <tr style=\"text-align: right;\">\n",
       "      <th></th>\n",
       "      <th>Price</th>\n",
       "      <th>VehicleType</th>\n",
       "      <th>RegistrationYear</th>\n",
       "      <th>Gearbox</th>\n",
       "      <th>Power</th>\n",
       "      <th>Model</th>\n",
       "      <th>Kilometer</th>\n",
       "      <th>FuelType</th>\n",
       "      <th>Brand</th>\n",
       "      <th>NotRepaired</th>\n",
       "    </tr>\n",
       "  </thead>\n",
       "  <tbody>\n",
       "    <tr>\n",
       "      <td>339495</td>\n",
       "      <td>3400</td>\n",
       "      <td>wagon</td>\n",
       "      <td>2002</td>\n",
       "      <td>manual</td>\n",
       "      <td>100</td>\n",
       "      <td>golf</td>\n",
       "      <td>150000</td>\n",
       "      <td>gasoline</td>\n",
       "      <td>volkswagen</td>\n",
       "      <td>unknown</td>\n",
       "    </tr>\n",
       "  </tbody>\n",
       "</table>\n",
       "</div>"
      ],
      "text/plain": [
       "        Price VehicleType  RegistrationYear Gearbox  Power Model  Kilometer  \\\n",
       "339495   3400       wagon              2002  manual    100  golf     150000   \n",
       "\n",
       "        FuelType       Brand NotRepaired  \n",
       "339495  gasoline  volkswagen     unknown  "
      ]
     },
     "execution_count": 57,
     "metadata": {},
     "output_type": "execute_result"
    }
   ],
   "source": [
    "data_ordinal = data_upd.copy(deep=True)\n",
    "data_ordinal.tail(1)"
   ]
  },
  {
   "cell_type": "code",
   "execution_count": 58,
   "metadata": {},
   "outputs": [
    {
     "data": {
      "text/html": [
       "<div>\n",
       "<style scoped>\n",
       "    .dataframe tbody tr th:only-of-type {\n",
       "        vertical-align: middle;\n",
       "    }\n",
       "\n",
       "    .dataframe tbody tr th {\n",
       "        vertical-align: top;\n",
       "    }\n",
       "\n",
       "    .dataframe thead th {\n",
       "        text-align: right;\n",
       "    }\n",
       "</style>\n",
       "<table border=\"1\" class=\"dataframe\">\n",
       "  <thead>\n",
       "    <tr style=\"text-align: right;\">\n",
       "      <th></th>\n",
       "      <th>Price</th>\n",
       "      <th>VehicleType</th>\n",
       "      <th>RegistrationYear</th>\n",
       "      <th>Gearbox</th>\n",
       "      <th>Power</th>\n",
       "      <th>Model</th>\n",
       "      <th>Kilometer</th>\n",
       "      <th>FuelType</th>\n",
       "      <th>Brand</th>\n",
       "      <th>NotRepaired</th>\n",
       "    </tr>\n",
       "  </thead>\n",
       "  <tbody>\n",
       "    <tr>\n",
       "      <td>339495</td>\n",
       "      <td>3400</td>\n",
       "      <td>wagon</td>\n",
       "      <td>2002</td>\n",
       "      <td>manual</td>\n",
       "      <td>100</td>\n",
       "      <td>golf</td>\n",
       "      <td>150000</td>\n",
       "      <td>gasoline</td>\n",
       "      <td>volkswagen</td>\n",
       "      <td>unknown</td>\n",
       "    </tr>\n",
       "  </tbody>\n",
       "</table>\n",
       "</div>"
      ],
      "text/plain": [
       "        Price VehicleType  RegistrationYear Gearbox  Power Model  Kilometer  \\\n",
       "339495   3400       wagon              2002  manual    100  golf     150000   \n",
       "\n",
       "        FuelType       Brand NotRepaired  \n",
       "339495  gasoline  volkswagen     unknown  "
      ]
     },
     "execution_count": 58,
     "metadata": {},
     "output_type": "execute_result"
    }
   ],
   "source": [
    "data_upd.tail(1)"
   ]
  },
  {
   "cell_type": "code",
   "execution_count": 59,
   "metadata": {},
   "outputs": [
    {
     "data": {
      "text/html": [
       "<div>\n",
       "<style scoped>\n",
       "    .dataframe tbody tr th:only-of-type {\n",
       "        vertical-align: middle;\n",
       "    }\n",
       "\n",
       "    .dataframe tbody tr th {\n",
       "        vertical-align: top;\n",
       "    }\n",
       "\n",
       "    .dataframe thead th {\n",
       "        text-align: right;\n",
       "    }\n",
       "</style>\n",
       "<table border=\"1\" class=\"dataframe\">\n",
       "  <thead>\n",
       "    <tr style=\"text-align: right;\">\n",
       "      <th></th>\n",
       "      <th>Price</th>\n",
       "      <th>VehicleType</th>\n",
       "      <th>RegistrationYear</th>\n",
       "      <th>Gearbox</th>\n",
       "      <th>Power</th>\n",
       "      <th>Model</th>\n",
       "      <th>Kilometer</th>\n",
       "      <th>FuelType</th>\n",
       "      <th>Brand</th>\n",
       "      <th>NotRepaired</th>\n",
       "    </tr>\n",
       "  </thead>\n",
       "  <tbody>\n",
       "    <tr>\n",
       "      <td>0</td>\n",
       "      <td>480</td>\n",
       "      <td>7.00</td>\n",
       "      <td>1993</td>\n",
       "      <td>1.00</td>\n",
       "      <td>0</td>\n",
       "      <td>116.00</td>\n",
       "      <td>150000</td>\n",
       "      <td>6.00</td>\n",
       "      <td>38.00</td>\n",
       "      <td>1.00</td>\n",
       "    </tr>\n",
       "    <tr>\n",
       "      <td>1</td>\n",
       "      <td>18300</td>\n",
       "      <td>2.00</td>\n",
       "      <td>2011</td>\n",
       "      <td>1.00</td>\n",
       "      <td>190</td>\n",
       "      <td>228.00</td>\n",
       "      <td>125000</td>\n",
       "      <td>2.00</td>\n",
       "      <td>1.00</td>\n",
       "      <td>2.00</td>\n",
       "    </tr>\n",
       "    <tr>\n",
       "      <td>2</td>\n",
       "      <td>9800</td>\n",
       "      <td>6.00</td>\n",
       "      <td>2004</td>\n",
       "      <td>0.00</td>\n",
       "      <td>163</td>\n",
       "      <td>117.00</td>\n",
       "      <td>125000</td>\n",
       "      <td>2.00</td>\n",
       "      <td>14.00</td>\n",
       "      <td>1.00</td>\n",
       "    </tr>\n",
       "  </tbody>\n",
       "</table>\n",
       "</div>"
      ],
      "text/plain": [
       "   Price  VehicleType  RegistrationYear  Gearbox  Power  Model  Kilometer  \\\n",
       "0    480         7.00              1993     1.00      0 116.00     150000   \n",
       "1  18300         2.00              2011     1.00    190 228.00     125000   \n",
       "2   9800         6.00              2004     0.00    163 117.00     125000   \n",
       "\n",
       "   FuelType  Brand  NotRepaired  \n",
       "0      6.00  38.00         1.00  \n",
       "1      2.00   1.00         2.00  \n",
       "2      2.00  14.00         1.00  "
      ]
     },
     "execution_count": 59,
     "metadata": {},
     "output_type": "execute_result"
    }
   ],
   "source": [
    "encoder = OrdinalEncoder()\n",
    "encoder.fit(data_ordinal[categorical])\n",
    "data_ordinal[categorical] = encoder.transform(data_ordinal[categorical])\n",
    "data_ordinal.head(3)"
   ]
  },
  {
   "cell_type": "code",
   "execution_count": 60,
   "metadata": {},
   "outputs": [],
   "source": [
    "features_ordinal = data_ordinal.drop('Price', axis='columns')\n",
    "target_ordinal = data_ordinal['Price']"
   ]
  },
  {
   "cell_type": "code",
   "execution_count": 61,
   "metadata": {},
   "outputs": [],
   "source": [
    "features_train_ordinal, features_valid_ordinal, target_train_ordinal, target_valid_ordinal = train_test_split(\n",
    "    features_ordinal, target_ordinal, test_size=0.4, random_state=12345)"
   ]
  },
  {
   "cell_type": "code",
   "execution_count": 62,
   "metadata": {},
   "outputs": [],
   "source": [
    "features_valid_ordinal, features_test_ordinal, target_valid_ordinal, target_test_ordinal = train_test_split(\n",
    "    features_valid_ordinal, target_valid_ordinal, test_size=0.5, random_state=12345)"
   ]
  },
  {
   "cell_type": "code",
   "execution_count": 63,
   "metadata": {},
   "outputs": [
    {
     "name": "stdout",
     "output_type": "stream",
     "text": [
      "(203697, 9)\n",
      "(67899, 9)\n",
      "(67900, 9)\n"
     ]
    }
   ],
   "source": [
    "print(features_train_ordinal.shape)\n",
    "print(features_valid_ordinal.shape)\n",
    "print(features_test_ordinal.shape)"
   ]
  },
  {
   "cell_type": "code",
   "execution_count": 64,
   "metadata": {},
   "outputs": [
    {
     "name": "stdout",
     "output_type": "stream",
     "text": [
      "(203697,)\n",
      "(67899,)\n",
      "(67900,)\n"
     ]
    }
   ],
   "source": [
    "print(target_train_ordinal.shape)\n",
    "print(target_valid_ordinal.shape)\n",
    "print(target_test_ordinal.shape)"
   ]
  },
  {
   "cell_type": "markdown",
   "metadata": {},
   "source": [
    "Кодируем категориальные признаки методом One Hot Encoding в числовые и формируем выборки"
   ]
  },
  {
   "cell_type": "code",
   "execution_count": 65,
   "metadata": {},
   "outputs": [
    {
     "data": {
      "text/html": [
       "<div>\n",
       "<style scoped>\n",
       "    .dataframe tbody tr th:only-of-type {\n",
       "        vertical-align: middle;\n",
       "    }\n",
       "\n",
       "    .dataframe tbody tr th {\n",
       "        vertical-align: top;\n",
       "    }\n",
       "\n",
       "    .dataframe thead th {\n",
       "        text-align: right;\n",
       "    }\n",
       "</style>\n",
       "<table border=\"1\" class=\"dataframe\">\n",
       "  <thead>\n",
       "    <tr style=\"text-align: right;\">\n",
       "      <th></th>\n",
       "      <th>Price</th>\n",
       "      <th>RegistrationYear</th>\n",
       "      <th>Power</th>\n",
       "      <th>Kilometer</th>\n",
       "      <th>VehicleType_convertible</th>\n",
       "      <th>VehicleType_coupe</th>\n",
       "      <th>VehicleType_other</th>\n",
       "      <th>VehicleType_sedan</th>\n",
       "      <th>VehicleType_small</th>\n",
       "      <th>VehicleType_suv</th>\n",
       "      <th>...</th>\n",
       "      <th>Brand_smart</th>\n",
       "      <th>Brand_sonstige_autos</th>\n",
       "      <th>Brand_subaru</th>\n",
       "      <th>Brand_suzuki</th>\n",
       "      <th>Brand_toyota</th>\n",
       "      <th>Brand_trabant</th>\n",
       "      <th>Brand_volkswagen</th>\n",
       "      <th>Brand_volvo</th>\n",
       "      <th>NotRepaired_unknown</th>\n",
       "      <th>NotRepaired_yes</th>\n",
       "    </tr>\n",
       "  </thead>\n",
       "  <tbody>\n",
       "    <tr>\n",
       "      <td>0</td>\n",
       "      <td>480</td>\n",
       "      <td>1993</td>\n",
       "      <td>0</td>\n",
       "      <td>150000</td>\n",
       "      <td>0</td>\n",
       "      <td>0</td>\n",
       "      <td>0</td>\n",
       "      <td>0</td>\n",
       "      <td>0</td>\n",
       "      <td>0</td>\n",
       "      <td>...</td>\n",
       "      <td>0</td>\n",
       "      <td>0</td>\n",
       "      <td>0</td>\n",
       "      <td>0</td>\n",
       "      <td>0</td>\n",
       "      <td>0</td>\n",
       "      <td>1</td>\n",
       "      <td>0</td>\n",
       "      <td>1</td>\n",
       "      <td>0</td>\n",
       "    </tr>\n",
       "    <tr>\n",
       "      <td>1</td>\n",
       "      <td>18300</td>\n",
       "      <td>2011</td>\n",
       "      <td>190</td>\n",
       "      <td>125000</td>\n",
       "      <td>0</td>\n",
       "      <td>1</td>\n",
       "      <td>0</td>\n",
       "      <td>0</td>\n",
       "      <td>0</td>\n",
       "      <td>0</td>\n",
       "      <td>...</td>\n",
       "      <td>0</td>\n",
       "      <td>0</td>\n",
       "      <td>0</td>\n",
       "      <td>0</td>\n",
       "      <td>0</td>\n",
       "      <td>0</td>\n",
       "      <td>0</td>\n",
       "      <td>0</td>\n",
       "      <td>0</td>\n",
       "      <td>1</td>\n",
       "    </tr>\n",
       "    <tr>\n",
       "      <td>2</td>\n",
       "      <td>9800</td>\n",
       "      <td>2004</td>\n",
       "      <td>163</td>\n",
       "      <td>125000</td>\n",
       "      <td>0</td>\n",
       "      <td>0</td>\n",
       "      <td>0</td>\n",
       "      <td>0</td>\n",
       "      <td>0</td>\n",
       "      <td>1</td>\n",
       "      <td>...</td>\n",
       "      <td>0</td>\n",
       "      <td>0</td>\n",
       "      <td>0</td>\n",
       "      <td>0</td>\n",
       "      <td>0</td>\n",
       "      <td>0</td>\n",
       "      <td>0</td>\n",
       "      <td>0</td>\n",
       "      <td>1</td>\n",
       "      <td>0</td>\n",
       "    </tr>\n",
       "  </tbody>\n",
       "</table>\n",
       "<p>3 rows × 312 columns</p>\n",
       "</div>"
      ],
      "text/plain": [
       "   Price  RegistrationYear  Power  Kilometer  VehicleType_convertible  \\\n",
       "0    480              1993      0     150000                        0   \n",
       "1  18300              2011    190     125000                        0   \n",
       "2   9800              2004    163     125000                        0   \n",
       "\n",
       "   VehicleType_coupe  VehicleType_other  VehicleType_sedan  VehicleType_small  \\\n",
       "0                  0                  0                  0                  0   \n",
       "1                  1                  0                  0                  0   \n",
       "2                  0                  0                  0                  0   \n",
       "\n",
       "   VehicleType_suv  ...  Brand_smart  Brand_sonstige_autos  Brand_subaru  \\\n",
       "0                0  ...            0                     0             0   \n",
       "1                0  ...            0                     0             0   \n",
       "2                1  ...            0                     0             0   \n",
       "\n",
       "   Brand_suzuki  Brand_toyota  Brand_trabant  Brand_volkswagen  Brand_volvo  \\\n",
       "0             0             0              0                 1            0   \n",
       "1             0             0              0                 0            0   \n",
       "2             0             0              0                 0            0   \n",
       "\n",
       "   NotRepaired_unknown  NotRepaired_yes  \n",
       "0                    1                0  \n",
       "1                    0                1  \n",
       "2                    1                0  \n",
       "\n",
       "[3 rows x 312 columns]"
      ]
     },
     "execution_count": 65,
     "metadata": {},
     "output_type": "execute_result"
    }
   ],
   "source": [
    "data_ohe = pd.get_dummies(data_upd, drop_first=True)\n",
    "data_ohe.head(3)"
   ]
  },
  {
   "cell_type": "code",
   "execution_count": 66,
   "metadata": {},
   "outputs": [],
   "source": [
    "features_ohe = data_ohe.drop('Price', axis='columns')\n",
    "target_ohe = data_ohe['Price']"
   ]
  },
  {
   "cell_type": "code",
   "execution_count": 67,
   "metadata": {},
   "outputs": [],
   "source": [
    "features_train_ohe, features_valid_ohe, target_train_ohe, target_valid_ohe = train_test_split(\n",
    "    features_ohe, target_ohe, test_size=0.4, random_state=12345)"
   ]
  },
  {
   "cell_type": "code",
   "execution_count": 68,
   "metadata": {},
   "outputs": [],
   "source": [
    "features_valid_ohe, features_test_ohe, target_valid_ohe, target_test_ohe = train_test_split(\n",
    "    features_valid_ohe, target_valid_ohe, test_size=0.5, random_state=12345)"
   ]
  },
  {
   "cell_type": "code",
   "execution_count": 69,
   "metadata": {},
   "outputs": [
    {
     "name": "stdout",
     "output_type": "stream",
     "text": [
      "(203697, 311)\n",
      "(67899, 311)\n",
      "(67900, 311)\n"
     ]
    }
   ],
   "source": [
    "print(features_train_ohe.shape)\n",
    "print(features_valid_ohe.shape)\n",
    "print(features_test_ohe.shape)"
   ]
  },
  {
   "cell_type": "code",
   "execution_count": 70,
   "metadata": {},
   "outputs": [
    {
     "name": "stdout",
     "output_type": "stream",
     "text": [
      "(203697,)\n",
      "(67899,)\n",
      "(67900,)\n"
     ]
    }
   ],
   "source": [
    "print(target_train_ohe.shape)\n",
    "print(target_valid_ohe.shape)\n",
    "print(target_test_ohe.shape)"
   ]
  },
  {
   "cell_type": "markdown",
   "metadata": {},
   "source": [
    "__Обучение моделей__"
   ]
  },
  {
   "cell_type": "markdown",
   "metadata": {},
   "source": [
    "### Случайный лес"
   ]
  },
  {
   "cell_type": "code",
   "execution_count": 71,
   "metadata": {},
   "outputs": [
    {
     "name": "stdout",
     "output_type": "stream",
     "text": [
      "Модель Случайный лес: RMSE = 1820.84\n"
     ]
    }
   ],
   "source": [
    "model = RandomForestRegressor(n_estimators=5, random_state=12345)\n",
    "model.fit(features_train_ohe, target_train_ohe)\n",
    "prediction_valid = model.predict(features_valid_ohe)\n",
    "rmse = np.sqrt(mean_squared_error(target_valid_ohe, prediction_valid))\n",
    "\n",
    "print('Модель Случайный лес: RMSE = {:.2f}'.format(rmse))"
   ]
  },
  {
   "cell_type": "markdown",
   "metadata": {},
   "source": [
    "Проверяем с теми же параметрами, но кросс-валидацией.  \n",
    "Результат даже хуже"
   ]
  },
  {
   "cell_type": "code",
   "execution_count": 72,
   "metadata": {},
   "outputs": [
    {
     "name": "stdout",
     "output_type": "stream",
     "text": [
      "Модель Случайный лес (cross_val): RMSE = 1858.88\n"
     ]
    }
   ],
   "source": [
    "model = RandomForestRegressor(n_estimators=5, random_state=12345)\n",
    "\n",
    "score_val = cross_val_score(\n",
    "    model,\n",
    "    features_train_ohe,\n",
    "    target_train_ohe,\n",
    "    scoring='neg_mean_squared_error',\n",
    "    cv=5)\n",
    "\n",
    "score = pd.Series(score_val).mean()\n",
    "\n",
    "rmse = np.sqrt(score* (-1))\n",
    "\n",
    "\n",
    "print('Модель Случайный лес (cross_val): RMSE = {:.2f}'.format(rmse))"
   ]
  },
  {
   "cell_type": "markdown",
   "metadata": {},
   "source": [
    "Перебираем гиперпараметр количество деревьев от 10 до 20.  \n",
    "Наилучший результат при 20 деревьях"
   ]
  },
  {
   "cell_type": "code",
   "execution_count": 73,
   "metadata": {},
   "outputs": [
    {
     "name": "stdout",
     "output_type": "stream",
     "text": [
      "Случайный лес: RMSE = 1750.82\n",
      "кол-во деревьев: 20\n"
     ]
    }
   ],
   "source": [
    "best_est = 0\n",
    "best_score_forest = 5000\n",
    "best_model_forest = None\n",
    "\n",
    "for est in range(10, 21, 10):\n",
    "    model = RandomForestRegressor(\n",
    "        random_state=12345,\n",
    "        n_estimators = est\n",
    "    )\n",
    "        \n",
    "    model.fit(features_train_ohe, target_train_ohe)\n",
    "    prediction_valid = model.predict(features_valid_ohe)\n",
    "        \n",
    "    score = np.sqrt(mean_squared_error(target_valid_ohe, prediction_valid))\n",
    "        \n",
    "    if score < best_score_forest:\n",
    "        best_score_forest = score\n",
    "        best_est = est\n",
    "        best_model_forest = model\n",
    "                \n",
    "\n",
    "print('Случайный лес: RMSE = {:.2f}'.format(best_score_forest))\n",
    "print(f'кол-во деревьев: {best_est}')"
   ]
  },
  {
   "cell_type": "markdown",
   "metadata": {},
   "source": [
    "### Линейная регрессия"
   ]
  },
  {
   "cell_type": "code",
   "execution_count": 74,
   "metadata": {},
   "outputs": [
    {
     "name": "stdout",
     "output_type": "stream",
     "text": [
      "Модель Линейная регрессия: RMSE = 2769.52\n"
     ]
    }
   ],
   "source": [
    "model_LNR = LinearRegression()\n",
    "model_LNR.fit(features_train_ohe, target_train_ohe)\n",
    "prediction_valid = model_LNR.predict(features_valid_ohe)\n",
    "score_LNR = np.sqrt(mean_squared_error(target_valid_ohe, prediction_valid))\n",
    "\n",
    "print('Модель Линейная регрессия: RMSE = {:.2f}'.format(score_LNR))"
   ]
  },
  {
   "cell_type": "markdown",
   "metadata": {},
   "source": [
    "### CatBoostRegressor"
   ]
  },
  {
   "cell_type": "raw",
   "metadata": {},
   "source": [
    "def rmse(target, predictions):\n",
    "    rmse = (mean_squared_error(target, predictions)) ** 0.5\n",
    "    return rmse"
   ]
  },
  {
   "cell_type": "raw",
   "metadata": {},
   "source": [
    "my_score = make_scorer(rmse, greater_is_better = False)"
   ]
  },
  {
   "cell_type": "markdown",
   "metadata": {},
   "source": [
    "Проверяем метрику на модели CatBoostRegressor, при 10 итерациях"
   ]
  },
  {
   "cell_type": "code",
   "execution_count": 75,
   "metadata": {},
   "outputs": [
    {
     "name": "stdout",
     "output_type": "stream",
     "text": [
      "0:\tlearn: 4464.1083833\ttotal: 348ms\tremaining: 3.13s\n",
      "9:\tlearn: 3818.0834307\ttotal: 2.34s\tremaining: 0us\n",
      "Модель CatBoostRegressor: RMSE = 3789.36\n"
     ]
    }
   ],
   "source": [
    "model = CatBoostRegressor(loss_function=\"RMSE\", iterations=10, verbose=10)\n",
    "\n",
    "categorical=['VehicleType','Gearbox','Model','FuelType','Brand','NotRepaired']\n",
    "\n",
    "model.fit(features_train, target_train, cat_features=categorical)\n",
    "prediction_valid = model.predict(features_valid)\n",
    "rmse = np.sqrt(mean_squared_error(target_valid, prediction_valid))\n",
    "\n",
    "print('Модель CatBoostRegressor: RMSE = {:.2f}'.format(rmse))"
   ]
  },
  {
   "cell_type": "markdown",
   "metadata": {},
   "source": [
    "Перебираем гиперпараметры: кол-во итераций от 100 до 200 с шагом 50, глубина дерева от 6 до 10 с шагом 2.  \n",
    "Наилучший результат при 200 деревьях с глубиной дерева 10"
   ]
  },
  {
   "cell_type": "code",
   "execution_count": 76,
   "metadata": {
    "scrolled": true
   },
   "outputs": [
    {
     "name": "stdout",
     "output_type": "stream",
     "text": [
      "0:\tlearn: 4464.1083833\ttotal: 149ms\tremaining: 14.7s\n",
      "99:\tlearn: 2108.8057130\ttotal: 20.7s\tremaining: 0us\n",
      "0:\tlearn: 4459.5908630\ttotal: 225ms\tremaining: 22.3s\n",
      "99:\tlearn: 2015.8155074\ttotal: 27.7s\tremaining: 0us\n",
      "0:\tlearn: 4455.7438010\ttotal: 245ms\tremaining: 24.3s\n",
      "99:\tlearn: 1944.8773785\ttotal: 30.7s\tremaining: 0us\n",
      "0:\tlearn: 4464.1083833\ttotal: 123ms\tremaining: 18.3s\n",
      "100:\tlearn: 2105.4438358\ttotal: 20.8s\tremaining: 10.1s\n",
      "149:\tlearn: 2006.2929172\ttotal: 30.8s\tremaining: 0us\n",
      "0:\tlearn: 4459.5908630\ttotal: 215ms\tremaining: 32.1s\n",
      "100:\tlearn: 2012.8165363\ttotal: 27.3s\tremaining: 13.2s\n",
      "149:\tlearn: 1921.8485379\ttotal: 40.5s\tremaining: 0us\n",
      "0:\tlearn: 4455.7438010\ttotal: 259ms\tremaining: 38.6s\n",
      "100:\tlearn: 1941.9144026\ttotal: 31.5s\tremaining: 15.3s\n",
      "149:\tlearn: 1853.1683810\ttotal: 46.6s\tremaining: 0us\n",
      "0:\tlearn: 4463.0405921\ttotal: 480ms\tremaining: 1m 35s\n",
      "100:\tlearn: 2083.5212736\ttotal: 44.4s\tremaining: 43.6s\n",
      "199:\tlearn: 1937.6028004\ttotal: 1m 29s\tremaining: 0us\n",
      "0:\tlearn: 4458.2161357\ttotal: 610ms\tremaining: 2m 1s\n",
      "100:\tlearn: 1993.4185245\ttotal: 1m 2s\tremaining: 1m 1s\n",
      "199:\tlearn: 1860.4954897\ttotal: 2m 1s\tremaining: 0us\n",
      "0:\tlearn: 4453.0612130\ttotal: 794ms\tremaining: 2m 38s\n",
      "100:\tlearn: 1920.9935207\ttotal: 1m 27s\tremaining: 1m 25s\n",
      "199:\tlearn: 1791.0831462\ttotal: 2m 55s\tremaining: 0us\n",
      "CatBoostRegressor: RMSE = 1819.80\n",
      "кол-во итераций: 200\n",
      "глубина: 10\n"
     ]
    }
   ],
   "source": [
    "best_iterations = 0\n",
    "best_depth = 0\n",
    "best_score_CBR = 5000\n",
    "best_model_CDR = None\n",
    "\n",
    "for iteration in range(100, 210, 50):\n",
    "    for depth in range(6, 11, 2):\n",
    "        model = CatBoostRegressor(\n",
    "            loss_function=\"RMSE\",\n",
    "            iterations = iteration,\n",
    "            depth = depth,\n",
    "            verbose=100\n",
    "        )\n",
    "        \n",
    "        model.fit(features_train, target_train, cat_features=categorical)\n",
    "        prediction_valid = model.predict(features_valid)\n",
    "\n",
    "        score = np.sqrt(mean_squared_error(target_valid, prediction_valid))\n",
    "\n",
    "        if score < best_score_CBR:\n",
    "            best_score_CBR = score\n",
    "            best_iterations = iteration\n",
    "            best_depth = depth\n",
    "            best_model_CDR = model\n",
    "                \n",
    "\n",
    "print('CatBoostRegressor: RMSE = {:.2f}'.format(best_score_CBR))\n",
    "print(f'кол-во итераций: {best_iterations}')\n",
    "print(f'глубина: {best_depth}')"
   ]
  },
  {
   "cell_type": "markdown",
   "metadata": {},
   "source": [
    "Проверяем на тех же настройках при кросс-валидации, результат хуже"
   ]
  },
  {
   "cell_type": "code",
   "execution_count": 77,
   "metadata": {},
   "outputs": [
    {
     "name": "stdout",
     "output_type": "stream",
     "text": [
      "0:\tlearn: 4454.3202990\ttotal: 83.5ms\tremaining: 16.6s\n",
      "199:\tlearn: 1853.7819857\ttotal: 28.7s\tremaining: 0us\n",
      "0:\tlearn: 4452.7075201\ttotal: 84.3ms\tremaining: 16.8s\n",
      "199:\tlearn: 1849.2196925\ttotal: 28.1s\tremaining: 0us\n",
      "0:\tlearn: 4462.4788865\ttotal: 43.2ms\tremaining: 8.59s\n",
      "199:\tlearn: 1859.5885773\ttotal: 28.5s\tremaining: 0us\n",
      "Модель CatBoostRegressor (cross_val): RMSE = 1886.95\n"
     ]
    }
   ],
   "source": [
    "model = CatBoostRegressor(loss_function=\"RMSE\", iterations=200, depth=10, verbose=200)\n",
    "score_val = cross_val_score(\n",
    "    model,\n",
    "    features_train_ohe, \n",
    "    target_train_ohe,\n",
    "    scoring = 'neg_mean_squared_error',\n",
    "    cv=3)\n",
    "\n",
    "score = pd.Series(score_val).mean()\n",
    "\n",
    "print('Модель CatBoostRegressor (cross_val): RMSE = {:.2f}'.format(np.sqrt(score* (-1))))"
   ]
  },
  {
   "cell_type": "markdown",
   "metadata": {},
   "source": [
    "### LGBMRegressor"
   ]
  },
  {
   "cell_type": "markdown",
   "metadata": {},
   "source": [
    "Проверяем метрику на модели LGBMRegressor, при 10 итерациях"
   ]
  },
  {
   "cell_type": "code",
   "execution_count": 78,
   "metadata": {},
   "outputs": [
    {
     "name": "stdout",
     "output_type": "stream",
     "text": [
      "Модель LGBMRegressor: RMSE = 2671.39\n"
     ]
    }
   ],
   "source": [
    "model = LGBMRegressor(metric=\"rmse\", n_estimators=10)\n",
    "\n",
    "model.fit(features_train_ohe, target_train_ohe)\n",
    "prediction_valid = model.predict(features_valid_ohe)\n",
    "rmse = np.sqrt(mean_squared_error(target_valid_ohe, prediction_valid))\n",
    "\n",
    "print('Модель LGBMRegressor: RMSE = {:.2f}'.format(rmse))"
   ]
  },
  {
   "cell_type": "markdown",
   "metadata": {},
   "source": [
    "Перебираем гиперпараметры: кол-во итераций от 100 до 200 с шагом 100, глубина дерева от 8 до 10 с шагом 2.  \n",
    "Наилучший результат при 200 деревьях с глубиной дерева 10"
   ]
  },
  {
   "cell_type": "code",
   "execution_count": 79,
   "metadata": {},
   "outputs": [
    {
     "name": "stdout",
     "output_type": "stream",
     "text": [
      "LGBMRegressor: RMSE = 1754.57\n",
      "кол-во итераций: 200\n",
      "глубина: 10\n"
     ]
    }
   ],
   "source": [
    "best_estimators = 0\n",
    "best_depth = 0\n",
    "best_score_LGBMR = 10000\n",
    "best_model_LGBMR = None\n",
    "\n",
    "for est in range(100, 210, 100):\n",
    "    for depth in range(8, 11, 2):\n",
    "        model = LGBMRegressor(\n",
    "            metric=\"rmse\",\n",
    "            n_estimators = est,\n",
    "            max_depth = depth\n",
    "        )\n",
    "        \n",
    "        model.fit(features_train_ohe, target_train_ohe)\n",
    "        prediction_valid = model.predict(features_valid_ohe)\n",
    "\n",
    "        score = np.sqrt(mean_squared_error(target_valid_ohe, prediction_valid))\n",
    "\n",
    "        if score < best_score_LGBMR:\n",
    "            best_score_LGBMR = score\n",
    "            best_estimators = est\n",
    "            best_depth = depth\n",
    "            best_model_LGBMR = model\n",
    "                \n",
    "\n",
    "print('LGBMRegressor: RMSE = {:.2f}'.format(best_score_LGBMR))\n",
    "print(f'кол-во итераций: {best_estimators}')\n",
    "print(f'глубина: {best_depth}')"
   ]
  },
  {
   "cell_type": "markdown",
   "metadata": {},
   "source": [
    "### DummyRegressor"
   ]
  },
  {
   "cell_type": "markdown",
   "metadata": {},
   "source": [
    "Проверяем модель на вменяемость с помощью константной модели со средним значением  \n",
    "Построены модели актуальны, так как метрика значительно лучше, чем у константной модели"
   ]
  },
  {
   "cell_type": "code",
   "execution_count": 80,
   "metadata": {},
   "outputs": [
    {
     "name": "stdout",
     "output_type": "stream",
     "text": [
      "Модель DummyRegressor: RMSE = 4514.40\n"
     ]
    }
   ],
   "source": [
    "model=DummyRegressor(strategy='mean')\n",
    "\n",
    "model.fit(features_train_ohe, target_train_ohe)\n",
    "prediction_valid = model.predict(features_valid_ohe)\n",
    "\n",
    "score_dummy = np.sqrt(mean_squared_error(target_valid_ohe, prediction_valid))\n",
    "\n",
    "print('Модель DummyRegressor: RMSE = {:.2f}'.format(score_dummy))"
   ]
  },
  {
   "cell_type": "markdown",
   "metadata": {},
   "source": [
    "### Итоги"
   ]
  },
  {
   "cell_type": "code",
   "execution_count": 81,
   "metadata": {},
   "outputs": [
    {
     "data": {
      "text/html": [
       "<div>\n",
       "<style scoped>\n",
       "    .dataframe tbody tr th:only-of-type {\n",
       "        vertical-align: middle;\n",
       "    }\n",
       "\n",
       "    .dataframe tbody tr th {\n",
       "        vertical-align: top;\n",
       "    }\n",
       "\n",
       "    .dataframe thead th {\n",
       "        text-align: right;\n",
       "    }\n",
       "</style>\n",
       "<table border=\"1\" class=\"dataframe\">\n",
       "  <thead>\n",
       "    <tr style=\"text-align: right;\">\n",
       "      <th></th>\n",
       "      <th>Model</th>\n",
       "      <th>RMSE_valid</th>\n",
       "    </tr>\n",
       "  </thead>\n",
       "  <tbody>\n",
       "    <tr>\n",
       "      <td>0</td>\n",
       "      <td>RandomForestRegressor</td>\n",
       "      <td>1,750.82</td>\n",
       "    </tr>\n",
       "    <tr>\n",
       "      <td>1</td>\n",
       "      <td>LinearRegression</td>\n",
       "      <td>2,769.52</td>\n",
       "    </tr>\n",
       "    <tr>\n",
       "      <td>2</td>\n",
       "      <td>CatBoostRegressor</td>\n",
       "      <td>1,819.80</td>\n",
       "    </tr>\n",
       "    <tr>\n",
       "      <td>3</td>\n",
       "      <td>LGBMRegressor</td>\n",
       "      <td>1,754.57</td>\n",
       "    </tr>\n",
       "    <tr>\n",
       "      <td>4</td>\n",
       "      <td>DummyRegressor</td>\n",
       "      <td>4,514.40</td>\n",
       "    </tr>\n",
       "  </tbody>\n",
       "</table>\n",
       "</div>"
      ],
      "text/plain": [
       "                   Model  RMSE_valid\n",
       "0  RandomForestRegressor    1,750.82\n",
       "1       LinearRegression    2,769.52\n",
       "2      CatBoostRegressor    1,819.80\n",
       "3          LGBMRegressor    1,754.57\n",
       "4         DummyRegressor    4,514.40"
      ]
     },
     "execution_count": 81,
     "metadata": {},
     "output_type": "execute_result"
    }
   ],
   "source": [
    "values_models = pd.DataFrame([\n",
    "    ['RandomForestRegressor', best_score_forest],\n",
    "    ['LinearRegression', score_LNR],\n",
    "    ['CatBoostRegressor',best_score_CBR],\n",
    "    ['LGBMRegressor', best_score_LGBMR],\n",
    "    ['DummyRegressor', score_dummy]\n",
    "],\n",
    "    columns=['Model', 'RMSE_valid']\n",
    ")\n",
    "values_models"
   ]
  },
  {
   "cell_type": "code",
   "execution_count": 82,
   "metadata": {
    "scrolled": true
   },
   "outputs": [
    {
     "data": {
      "text/html": [
       "<div>\n",
       "<style scoped>\n",
       "    .dataframe tbody tr th:only-of-type {\n",
       "        vertical-align: middle;\n",
       "    }\n",
       "\n",
       "    .dataframe tbody tr th {\n",
       "        vertical-align: top;\n",
       "    }\n",
       "\n",
       "    .dataframe thead th {\n",
       "        text-align: right;\n",
       "    }\n",
       "</style>\n",
       "<table border=\"1\" class=\"dataframe\">\n",
       "  <thead>\n",
       "    <tr style=\"text-align: right;\">\n",
       "      <th></th>\n",
       "      <th>Model</th>\n",
       "      <th>RMSE_valid</th>\n",
       "    </tr>\n",
       "  </thead>\n",
       "  <tbody>\n",
       "    <tr>\n",
       "      <td>0</td>\n",
       "      <td>RandomForestRegressor</td>\n",
       "      <td>1,750.82</td>\n",
       "    </tr>\n",
       "    <tr>\n",
       "      <td>3</td>\n",
       "      <td>LGBMRegressor</td>\n",
       "      <td>1,754.57</td>\n",
       "    </tr>\n",
       "    <tr>\n",
       "      <td>2</td>\n",
       "      <td>CatBoostRegressor</td>\n",
       "      <td>1,819.80</td>\n",
       "    </tr>\n",
       "    <tr>\n",
       "      <td>1</td>\n",
       "      <td>LinearRegression</td>\n",
       "      <td>2,769.52</td>\n",
       "    </tr>\n",
       "    <tr>\n",
       "      <td>4</td>\n",
       "      <td>DummyRegressor</td>\n",
       "      <td>4,514.40</td>\n",
       "    </tr>\n",
       "  </tbody>\n",
       "</table>\n",
       "</div>"
      ],
      "text/plain": [
       "                   Model  RMSE_valid\n",
       "0  RandomForestRegressor    1,750.82\n",
       "3          LGBMRegressor    1,754.57\n",
       "2      CatBoostRegressor    1,819.80\n",
       "1       LinearRegression    2,769.52\n",
       "4         DummyRegressor    4,514.40"
      ]
     },
     "execution_count": 82,
     "metadata": {},
     "output_type": "execute_result"
    }
   ],
   "source": [
    "sort = values_models.sort_values(by='RMSE_valid',ascending=True)\n",
    "sort"
   ]
  },
  {
   "cell_type": "code",
   "execution_count": 83,
   "metadata": {},
   "outputs": [
    {
     "data": {
      "image/png": "[encoded data removed]",
      "text/plain": [
       "<Figure size 864x432 with 1 Axes>"
      ]
     },
     "metadata": {},
     "output_type": "display_data"
    }
   ],
   "source": [
    "plt.figure(figsize=(12,6))\n",
    "sns.set_style('darkgrid')\n",
    "\n",
    "sns.barplot(y=sort['Model'], x=sort['RMSE_valid'])\n",
    "\n",
    "plt.title('Значение RMSE для моделей на валидационной выборке')\n",
    "plt.show()"
   ]
  },
  {
   "cell_type": "markdown",
   "metadata": {},
   "source": [
    "### Вывод:\n",
    "1. построили 4 разные модели\n",
    "2. постарались немного улучшить модели подбором гиперпараметров\n",
    "3. Линейная регрессия показала результат метрики сильно хуже остальных моделей. Остальные модели имеют приблизительно одинаковые значения, Случаный лес имеет наилучший результат\n",
    "4. все модели адекватны, так как константная модель сильно хуже выполнила предсказания\n"
   ]
  },
  {
   "cell_type": "markdown",
   "metadata": {},
   "source": [
    "## Анализ моделей"
   ]
  },
  {
   "cell_type": "markdown",
   "metadata": {},
   "source": [
    "Так как лучшие показатели метрики RMSE показали модели без кросс-валидации, объединим обучающую и валидационную выборки для более обширного обучения модели"
   ]
  },
  {
   "cell_type": "code",
   "execution_count": 84,
   "metadata": {},
   "outputs": [
    {
     "data": {
      "text/plain": [
       "(271596, 9)"
      ]
     },
     "metadata": {},
     "output_type": "display_data"
    },
    {
     "data": {
      "text/plain": [
       "(271596,)"
      ]
     },
     "execution_count": 84,
     "metadata": {},
     "output_type": "execute_result"
    }
   ],
   "source": [
    "df_features = pd.concat([features_train] + [features_valid])\n",
    "df_target = pd.concat([target_train] + [target_valid])\n",
    "\n",
    "display(df_features.shape)\n",
    "df_target.shape"
   ]
  },
  {
   "cell_type": "code",
   "execution_count": 85,
   "metadata": {},
   "outputs": [
    {
     "data": {
      "text/plain": [
       "(271596, 9)"
      ]
     },
     "metadata": {},
     "output_type": "display_data"
    },
    {
     "data": {
      "text/plain": [
       "(271596,)"
      ]
     },
     "execution_count": 85,
     "metadata": {},
     "output_type": "execute_result"
    }
   ],
   "source": [
    "df_features_ordinal = pd.concat([features_train_ordinal] + [features_valid_ordinal])\n",
    "df_target_ordinal = pd.concat([target_train_ordinal] + [target_valid_ordinal])\n",
    "\n",
    "display(df_features_ordinal.shape)\n",
    "df_target_ordinal.shape"
   ]
  },
  {
   "cell_type": "code",
   "execution_count": 86,
   "metadata": {},
   "outputs": [
    {
     "data": {
      "text/plain": [
       "(271596, 311)"
      ]
     },
     "metadata": {},
     "output_type": "display_data"
    },
    {
     "data": {
      "text/plain": [
       "(271596,)"
      ]
     },
     "execution_count": 86,
     "metadata": {},
     "output_type": "execute_result"
    }
   ],
   "source": [
    "df_features_ohe = pd.concat([features_train_ohe] + [features_valid_ohe])\n",
    "df_target_ohe = pd.concat([target_train_ohe] + [target_valid_ohe])\n",
    "\n",
    "display(df_features_ohe.shape)\n",
    "df_target_ohe.shape"
   ]
  },
  {
   "cell_type": "markdown",
   "metadata": {},
   "source": [
    "# Вычисляем значение метрики на тестовой выборке и время выполнения обучения и предсказания модели"
   ]
  },
  {
   "cell_type": "markdown",
   "metadata": {},
   "source": [
    "### Случайный лес"
   ]
  },
  {
   "cell_type": "markdown",
   "metadata": {},
   "source": [
    "__OHE__"
   ]
  },
  {
   "cell_type": "code",
   "execution_count": 87,
   "metadata": {},
   "outputs": [
    {
     "name": "stdout",
     "output_type": "stream",
     "text": [
      "CPU times: user 2min 11s, sys: 0 ns, total: 2min 11s\n",
      "Wall time: 2min 13s\n"
     ]
    },
    {
     "data": {
      "text/plain": [
       "RandomForestRegressor(bootstrap=True, criterion='mse', max_depth=None,\n",
       "                      max_features='auto', max_leaf_nodes=None,\n",
       "                      min_impurity_decrease=0.0, min_impurity_split=None,\n",
       "                      min_samples_leaf=1, min_samples_split=2,\n",
       "                      min_weight_fraction_leaf=0.0, n_estimators=20,\n",
       "                      n_jobs=None, oob_score=False, random_state=12345,\n",
       "                      verbose=0, warm_start=False)"
      ]
     },
     "execution_count": 87,
     "metadata": {},
     "output_type": "execute_result"
    }
   ],
   "source": [
    "%%time\n",
    "best_model_forest.fit(df_features_ohe, df_target_ohe)"
   ]
  },
  {
   "cell_type": "code",
   "execution_count": 88,
   "metadata": {},
   "outputs": [
    {
     "data": {
      "text/plain": [
       "135.29417634010315"
      ]
     },
     "execution_count": 88,
     "metadata": {},
     "output_type": "execute_result"
    }
   ],
   "source": [
    "start = time.time()\n",
    "best_model_forest.fit(df_features_ohe, df_target_ohe)\n",
    "end = time.time()\n",
    "time_fit_forest_ohe = end-start # in seconds\n",
    "time_fit_forest_ohe"
   ]
  },
  {
   "cell_type": "code",
   "execution_count": 89,
   "metadata": {},
   "outputs": [
    {
     "name": "stdout",
     "output_type": "stream",
     "text": [
      "CPU times: user 877 ms, sys: 0 ns, total: 877 ms\n",
      "Wall time: 883 ms\n"
     ]
    }
   ],
   "source": [
    "%%time\n",
    "prediction_test_ohe = best_model_forest.predict(features_test_ohe)"
   ]
  },
  {
   "cell_type": "code",
   "execution_count": 90,
   "metadata": {},
   "outputs": [
    {
     "data": {
      "text/plain": [
       "0.922199010848999"
      ]
     },
     "execution_count": 90,
     "metadata": {},
     "output_type": "execute_result"
    }
   ],
   "source": [
    "start = time.time()\n",
    "prediction_test_ohe = best_model_forest.predict(features_test_ohe)\n",
    "end = time.time()\n",
    "time_predict_forest_ohe = end-start # in seconds\n",
    "time_predict_forest_ohe"
   ]
  },
  {
   "cell_type": "markdown",
   "metadata": {},
   "source": [
    "__Ordinal__"
   ]
  },
  {
   "cell_type": "code",
   "execution_count": 91,
   "metadata": {},
   "outputs": [
    {
     "data": {
      "text/plain": [
       "13.836913347244263"
      ]
     },
     "execution_count": 91,
     "metadata": {},
     "output_type": "execute_result"
    }
   ],
   "source": [
    "start = time.time()\n",
    "best_model_forest.fit(df_features_ordinal, df_target_ordinal)\n",
    "end = time.time()\n",
    "time_fit_forest = end-start # in seconds\n",
    "time_fit_forest"
   ]
  },
  {
   "cell_type": "code",
   "execution_count": 92,
   "metadata": {},
   "outputs": [
    {
     "data": {
      "text/plain": [
       "0.5749862194061279"
      ]
     },
     "execution_count": 92,
     "metadata": {},
     "output_type": "execute_result"
    }
   ],
   "source": [
    "start = time.time()\n",
    "prediction_test = best_model_forest.predict(features_test_ordinal)\n",
    "end = time.time()\n",
    "time_predict_forest = end-start # in seconds\n",
    "time_predict_forest"
   ]
  },
  {
   "cell_type": "code",
   "execution_count": 93,
   "metadata": {},
   "outputs": [
    {
     "name": "stdout",
     "output_type": "stream",
     "text": [
      "RandomForestRegressor (OHE): RMSE = 1731.65\n"
     ]
    }
   ],
   "source": [
    "score_forest_test_ohe = np.sqrt(mean_squared_error(target_test_ohe, prediction_test_ohe))\n",
    "print('RandomForestRegressor (OHE): RMSE = {:.2f}'.format(score_forest_test_ohe))"
   ]
  },
  {
   "cell_type": "code",
   "execution_count": 94,
   "metadata": {},
   "outputs": [
    {
     "name": "stdout",
     "output_type": "stream",
     "text": [
      "RandomForestRegressor: RMSE = 1748.35\n"
     ]
    }
   ],
   "source": [
    "score_forest_test = np.sqrt(mean_squared_error(target_test_ordinal, prediction_test))\n",
    "print('RandomForestRegressor: RMSE = {:.2f}'.format(score_forest_test))"
   ]
  },
  {
   "cell_type": "code",
   "execution_count": 95,
   "metadata": {},
   "outputs": [],
   "source": [
    "importances = best_model_forest.feature_importances_\n",
    "\n",
    "feature_list = list(df_features.columns)\n",
    "\n",
    "feature_results = pd.DataFrame({'feature': feature_list,'importance': importances})"
   ]
  },
  {
   "cell_type": "code",
   "execution_count": 96,
   "metadata": {},
   "outputs": [
    {
     "data": {
      "text/html": [
       "<div>\n",
       "<style scoped>\n",
       "    .dataframe tbody tr th:only-of-type {\n",
       "        vertical-align: middle;\n",
       "    }\n",
       "\n",
       "    .dataframe tbody tr th {\n",
       "        vertical-align: top;\n",
       "    }\n",
       "\n",
       "    .dataframe thead th {\n",
       "        text-align: right;\n",
       "    }\n",
       "</style>\n",
       "<table border=\"1\" class=\"dataframe\">\n",
       "  <thead>\n",
       "    <tr style=\"text-align: right;\">\n",
       "      <th></th>\n",
       "      <th>feature</th>\n",
       "      <th>importance</th>\n",
       "    </tr>\n",
       "  </thead>\n",
       "  <tbody>\n",
       "    <tr>\n",
       "      <td>0</td>\n",
       "      <td>RegistrationYear</td>\n",
       "      <td>0.53</td>\n",
       "    </tr>\n",
       "    <tr>\n",
       "      <td>1</td>\n",
       "      <td>Power</td>\n",
       "      <td>0.26</td>\n",
       "    </tr>\n",
       "    <tr>\n",
       "      <td>2</td>\n",
       "      <td>Brand</td>\n",
       "      <td>0.04</td>\n",
       "    </tr>\n",
       "    <tr>\n",
       "      <td>3</td>\n",
       "      <td>Model</td>\n",
       "      <td>0.04</td>\n",
       "    </tr>\n",
       "    <tr>\n",
       "      <td>4</td>\n",
       "      <td>VehicleType</td>\n",
       "      <td>0.04</td>\n",
       "    </tr>\n",
       "    <tr>\n",
       "      <td>5</td>\n",
       "      <td>Kilometer</td>\n",
       "      <td>0.04</td>\n",
       "    </tr>\n",
       "    <tr>\n",
       "      <td>6</td>\n",
       "      <td>NotRepaired</td>\n",
       "      <td>0.02</td>\n",
       "    </tr>\n",
       "    <tr>\n",
       "      <td>7</td>\n",
       "      <td>FuelType</td>\n",
       "      <td>0.01</td>\n",
       "    </tr>\n",
       "    <tr>\n",
       "      <td>8</td>\n",
       "      <td>Gearbox</td>\n",
       "      <td>0.01</td>\n",
       "    </tr>\n",
       "  </tbody>\n",
       "</table>\n",
       "</div>"
      ],
      "text/plain": [
       "            feature  importance\n",
       "0  RegistrationYear        0.53\n",
       "1             Power        0.26\n",
       "2             Brand        0.04\n",
       "3             Model        0.04\n",
       "4       VehicleType        0.04\n",
       "5         Kilometer        0.04\n",
       "6       NotRepaired        0.02\n",
       "7          FuelType        0.01\n",
       "8           Gearbox        0.01"
      ]
     },
     "execution_count": 96,
     "metadata": {},
     "output_type": "execute_result"
    }
   ],
   "source": [
    "feature_results = feature_results.sort_values('importance', ascending=False).reset_index(drop=True)\n",
    "feature_results"
   ]
  },
  {
   "cell_type": "code",
   "execution_count": 97,
   "metadata": {},
   "outputs": [
    {
     "data": {
      "image/png": "[encoded data removed]",
      "text/plain": [
       "<Figure size 1080x432 with 1 Axes>"
      ]
     },
     "metadata": {},
     "output_type": "display_data"
    }
   ],
   "source": [
    "plt.figure(figsize=(15,6))\n",
    "sns.set_style('darkgrid')\n",
    "\n",
    "sns.barplot(x='feature', y='importance', data=feature_results)#, sort=False)\n",
    "\n",
    "plt.show()"
   ]
  },
  {
   "cell_type": "markdown",
   "metadata": {},
   "source": [
    "### Линейная регрессия"
   ]
  },
  {
   "cell_type": "markdown",
   "metadata": {},
   "source": [
    "__OHE__"
   ]
  },
  {
   "cell_type": "code",
   "execution_count": 98,
   "metadata": {},
   "outputs": [
    {
     "name": "stdout",
     "output_type": "stream",
     "text": [
      "CPU times: user 18.3 s, sys: 4.1 s, total: 22.4 s\n",
      "Wall time: 22.4 s\n"
     ]
    },
    {
     "data": {
      "text/plain": [
       "LinearRegression(copy_X=True, fit_intercept=True, n_jobs=None, normalize=False)"
      ]
     },
     "execution_count": 98,
     "metadata": {},
     "output_type": "execute_result"
    }
   ],
   "source": [
    "%%time\n",
    "model_LNR.fit(df_features_ohe, df_target_ohe)"
   ]
  },
  {
   "cell_type": "code",
   "execution_count": 99,
   "metadata": {},
   "outputs": [
    {
     "data": {
      "text/plain": [
       "21.60268259048462"
      ]
     },
     "execution_count": 99,
     "metadata": {},
     "output_type": "execute_result"
    }
   ],
   "source": [
    "start = time.time()\n",
    "model_LNR.fit(df_features_ohe, df_target_ohe)\n",
    "end = time.time()\n",
    "time_fit_LNR_ohe = end-start # in seconds\n",
    "time_fit_LNR_ohe"
   ]
  },
  {
   "cell_type": "code",
   "execution_count": 100,
   "metadata": {},
   "outputs": [
    {
     "name": "stdout",
     "output_type": "stream",
     "text": [
      "CPU times: user 83.7 ms, sys: 117 ms, total: 201 ms\n",
      "Wall time: 198 ms\n"
     ]
    }
   ],
   "source": [
    "%%time\n",
    "prediction_test = model_LNR.predict(features_test_ohe)"
   ]
  },
  {
   "cell_type": "code",
   "execution_count": 101,
   "metadata": {},
   "outputs": [
    {
     "data": {
      "text/plain": [
       "0.2054896354675293"
      ]
     },
     "execution_count": 101,
     "metadata": {},
     "output_type": "execute_result"
    }
   ],
   "source": [
    "start = time.time()\n",
    "prediction_test_ohe = model_LNR.predict(features_test_ohe)\n",
    "end = time.time()\n",
    "time_predict_LNR_ohe = end-start # in seconds\n",
    "time_predict_LNR_ohe"
   ]
  },
  {
   "cell_type": "markdown",
   "metadata": {},
   "source": [
    "__Ordinal__"
   ]
  },
  {
   "cell_type": "code",
   "execution_count": 102,
   "metadata": {},
   "outputs": [
    {
     "data": {
      "text/plain": [
       "0.1365823745727539"
      ]
     },
     "execution_count": 102,
     "metadata": {},
     "output_type": "execute_result"
    }
   ],
   "source": [
    "start = time.time()\n",
    "model_LNR.fit(df_features_ordinal, df_target_ordinal)\n",
    "end = time.time()\n",
    "time_fit_LNR = end-start # in seconds\n",
    "time_fit_LNR"
   ]
  },
  {
   "cell_type": "code",
   "execution_count": 103,
   "metadata": {},
   "outputs": [
    {
     "data": {
      "text/plain": [
       "0.0031113624572753906"
      ]
     },
     "execution_count": 103,
     "metadata": {},
     "output_type": "execute_result"
    }
   ],
   "source": [
    "start = time.time()\n",
    "prediction_test = model_LNR.predict(features_test_ordinal)\n",
    "end = time.time()\n",
    "time_predict_LNR = end-start # in seconds\n",
    "time_predict_LNR"
   ]
  },
  {
   "cell_type": "code",
   "execution_count": 104,
   "metadata": {},
   "outputs": [
    {
     "name": "stdout",
     "output_type": "stream",
     "text": [
      "LinearRegression (OHE): RMSE = 2807.61\n"
     ]
    }
   ],
   "source": [
    "score_LNR_test_ohe = np.sqrt(mean_squared_error(target_test_ohe, prediction_test_ohe))\n",
    "print('LinearRegression (OHE): RMSE = {:.2f}'.format(score_LNR_test_ohe))"
   ]
  },
  {
   "cell_type": "code",
   "execution_count": 105,
   "metadata": {},
   "outputs": [
    {
     "name": "stdout",
     "output_type": "stream",
     "text": [
      "LinearRegression: RMSE = 3159.60\n"
     ]
    }
   ],
   "source": [
    "score_LNR_test = np.sqrt(mean_squared_error(target_test_ordinal, prediction_test))\n",
    "print('LinearRegression: RMSE = {:.2f}'.format(score_LNR_test))"
   ]
  },
  {
   "cell_type": "code",
   "execution_count": 106,
   "metadata": {},
   "outputs": [],
   "source": [
    "importances = model_LNR.coef_\n",
    "\n",
    "feature_list = list(df_features.columns)\n",
    "\n",
    "feature_results = pd.DataFrame({'feature': feature_list,'importance': importances})"
   ]
  },
  {
   "cell_type": "code",
   "execution_count": 107,
   "metadata": {},
   "outputs": [
    {
     "data": {
      "text/html": [
       "<div>\n",
       "<style scoped>\n",
       "    .dataframe tbody tr th:only-of-type {\n",
       "        vertical-align: middle;\n",
       "    }\n",
       "\n",
       "    .dataframe tbody tr th {\n",
       "        vertical-align: top;\n",
       "    }\n",
       "\n",
       "    .dataframe thead th {\n",
       "        text-align: right;\n",
       "    }\n",
       "</style>\n",
       "<table border=\"1\" class=\"dataframe\">\n",
       "  <thead>\n",
       "    <tr style=\"text-align: right;\">\n",
       "      <th></th>\n",
       "      <th>feature</th>\n",
       "      <th>importance</th>\n",
       "    </tr>\n",
       "  </thead>\n",
       "  <tbody>\n",
       "    <tr>\n",
       "      <td>0</td>\n",
       "      <td>RegistrationYear</td>\n",
       "      <td>154.55</td>\n",
       "    </tr>\n",
       "    <tr>\n",
       "      <td>1</td>\n",
       "      <td>Power</td>\n",
       "      <td>27.13</td>\n",
       "    </tr>\n",
       "    <tr>\n",
       "      <td>2</td>\n",
       "      <td>Model</td>\n",
       "      <td>0.76</td>\n",
       "    </tr>\n",
       "    <tr>\n",
       "      <td>3</td>\n",
       "      <td>Kilometer</td>\n",
       "      <td>-0.04</td>\n",
       "    </tr>\n",
       "    <tr>\n",
       "      <td>4</td>\n",
       "      <td>Brand</td>\n",
       "      <td>-3.28</td>\n",
       "    </tr>\n",
       "    <tr>\n",
       "      <td>5</td>\n",
       "      <td>VehicleType</td>\n",
       "      <td>-159.49</td>\n",
       "    </tr>\n",
       "    <tr>\n",
       "      <td>6</td>\n",
       "      <td>FuelType</td>\n",
       "      <td>-464.06</td>\n",
       "    </tr>\n",
       "    <tr>\n",
       "      <td>7</td>\n",
       "      <td>Gearbox</td>\n",
       "      <td>-498.20</td>\n",
       "    </tr>\n",
       "    <tr>\n",
       "      <td>8</td>\n",
       "      <td>NotRepaired</td>\n",
       "      <td>-875.08</td>\n",
       "    </tr>\n",
       "  </tbody>\n",
       "</table>\n",
       "</div>"
      ],
      "text/plain": [
       "            feature  importance\n",
       "0  RegistrationYear      154.55\n",
       "1             Power       27.13\n",
       "2             Model        0.76\n",
       "3         Kilometer       -0.04\n",
       "4             Brand       -3.28\n",
       "5       VehicleType     -159.49\n",
       "6          FuelType     -464.06\n",
       "7           Gearbox     -498.20\n",
       "8       NotRepaired     -875.08"
      ]
     },
     "execution_count": 107,
     "metadata": {},
     "output_type": "execute_result"
    }
   ],
   "source": [
    "feature_results = feature_results.sort_values('importance', ascending=False).reset_index(drop=True)\n",
    "feature_results"
   ]
  },
  {
   "cell_type": "code",
   "execution_count": 108,
   "metadata": {},
   "outputs": [
    {
     "data": {
      "image/png": "[encoded data removed]",
      "text/plain": [
       "<Figure size 1080x432 with 1 Axes>"
      ]
     },
     "metadata": {},
     "output_type": "display_data"
    }
   ],
   "source": [
    "plt.figure(figsize=(15,6))\n",
    "sns.set_style('darkgrid')\n",
    "\n",
    "sns.barplot(x='feature', y='importance', data=feature_results)#, sort=False)\n",
    "\n",
    "plt.show()"
   ]
  },
  {
   "cell_type": "markdown",
   "metadata": {},
   "source": [
    "### CatBoostRegressor"
   ]
  },
  {
   "cell_type": "code",
   "execution_count": 109,
   "metadata": {},
   "outputs": [
    {
     "name": "stdout",
     "output_type": "stream",
     "text": [
      "0:\tlearn: 4445.4365607\ttotal: 1.16s\tremaining: 3m 50s\n",
      "100:\tlearn: 1912.9650305\ttotal: 1m 49s\tremaining: 1m 47s\n",
      "199:\tlearn: 1786.1386753\ttotal: 3m 42s\tremaining: 0us\n",
      "CPU times: user 3min 29s, sys: 13.1 s, total: 3min 42s\n",
      "Wall time: 3min 45s\n"
     ]
    },
    {
     "data": {
      "text/plain": [
       "<catboost.core.CatBoostRegressor at 0x7fc4c490e050>"
      ]
     },
     "execution_count": 109,
     "metadata": {},
     "output_type": "execute_result"
    }
   ],
   "source": [
    "%%time\n",
    "best_model_CDR.fit(df_features, df_target, cat_features=categorical)"
   ]
  },
  {
   "cell_type": "code",
   "execution_count": 110,
   "metadata": {},
   "outputs": [
    {
     "name": "stdout",
     "output_type": "stream",
     "text": [
      "0:\tlearn: 4445.4365607\ttotal: 1.11s\tremaining: 3m 41s\n",
      "100:\tlearn: 1912.9650305\ttotal: 1m 50s\tremaining: 1m 48s\n",
      "199:\tlearn: 1786.1386753\ttotal: 3m 43s\tremaining: 0us\n"
     ]
    },
    {
     "data": {
      "text/plain": [
       "225.33904910087585"
      ]
     },
     "execution_count": 110,
     "metadata": {},
     "output_type": "execute_result"
    }
   ],
   "source": [
    "start = time.time()\n",
    "best_model_CDR.fit(df_features, df_target, cat_features=categorical)\n",
    "end = time.time()\n",
    "time_fit_CBR = end-start # in seconds\n",
    "time_fit_CBR"
   ]
  },
  {
   "cell_type": "code",
   "execution_count": 111,
   "metadata": {},
   "outputs": [
    {
     "name": "stdout",
     "output_type": "stream",
     "text": [
      "CPU times: user 314 ms, sys: 7.56 ms, total: 322 ms\n",
      "Wall time: 302 ms\n"
     ]
    }
   ],
   "source": [
    "%%time\n",
    "prediction_test = best_model_CDR.predict(features_test)"
   ]
  },
  {
   "cell_type": "code",
   "execution_count": 112,
   "metadata": {},
   "outputs": [
    {
     "data": {
      "text/plain": [
       "0.3852517604827881"
      ]
     },
     "execution_count": 112,
     "metadata": {},
     "output_type": "execute_result"
    }
   ],
   "source": [
    "start = time.time()\n",
    "prediction_test = best_model_CDR.predict(features_test)\n",
    "end = time.time()\n",
    "time_predict_CBR = end-start # in seconds\n",
    "time_predict_CBR"
   ]
  },
  {
   "cell_type": "code",
   "execution_count": 113,
   "metadata": {},
   "outputs": [
    {
     "name": "stdout",
     "output_type": "stream",
     "text": [
      "CatBoostRegressor: RMSE = 1824.19\n"
     ]
    }
   ],
   "source": [
    "score_CBR_test = np.sqrt(mean_squared_error(target_test_ohe, prediction_test))\n",
    "print('CatBoostRegressor: RMSE = {:.2f}'.format(score_CBR_test))"
   ]
  },
  {
   "cell_type": "code",
   "execution_count": 114,
   "metadata": {},
   "outputs": [],
   "source": [
    "importances = best_model_CDR.feature_importances_\n",
    "\n",
    "feature_list = list(df_features.columns)\n",
    "\n",
    "feature_results = pd.DataFrame({'feature': feature_list,'importance': importances})"
   ]
  },
  {
   "cell_type": "code",
   "execution_count": 115,
   "metadata": {},
   "outputs": [
    {
     "data": {
      "text/html": [
       "<div>\n",
       "<style scoped>\n",
       "    .dataframe tbody tr th:only-of-type {\n",
       "        vertical-align: middle;\n",
       "    }\n",
       "\n",
       "    .dataframe tbody tr th {\n",
       "        vertical-align: top;\n",
       "    }\n",
       "\n",
       "    .dataframe thead th {\n",
       "        text-align: right;\n",
       "    }\n",
       "</style>\n",
       "<table border=\"1\" class=\"dataframe\">\n",
       "  <thead>\n",
       "    <tr style=\"text-align: right;\">\n",
       "      <th></th>\n",
       "      <th>feature</th>\n",
       "      <th>importance</th>\n",
       "    </tr>\n",
       "  </thead>\n",
       "  <tbody>\n",
       "    <tr>\n",
       "      <td>0</td>\n",
       "      <td>RegistrationYear</td>\n",
       "      <td>34.19</td>\n",
       "    </tr>\n",
       "    <tr>\n",
       "      <td>1</td>\n",
       "      <td>Power</td>\n",
       "      <td>20.63</td>\n",
       "    </tr>\n",
       "    <tr>\n",
       "      <td>2</td>\n",
       "      <td>VehicleType</td>\n",
       "      <td>13.47</td>\n",
       "    </tr>\n",
       "    <tr>\n",
       "      <td>3</td>\n",
       "      <td>Brand</td>\n",
       "      <td>11.06</td>\n",
       "    </tr>\n",
       "    <tr>\n",
       "      <td>4</td>\n",
       "      <td>Kilometer</td>\n",
       "      <td>9.23</td>\n",
       "    </tr>\n",
       "    <tr>\n",
       "      <td>5</td>\n",
       "      <td>Model</td>\n",
       "      <td>4.00</td>\n",
       "    </tr>\n",
       "    <tr>\n",
       "      <td>6</td>\n",
       "      <td>NotRepaired</td>\n",
       "      <td>3.87</td>\n",
       "    </tr>\n",
       "    <tr>\n",
       "      <td>7</td>\n",
       "      <td>FuelType</td>\n",
       "      <td>2.36</td>\n",
       "    </tr>\n",
       "    <tr>\n",
       "      <td>8</td>\n",
       "      <td>Gearbox</td>\n",
       "      <td>1.18</td>\n",
       "    </tr>\n",
       "  </tbody>\n",
       "</table>\n",
       "</div>"
      ],
      "text/plain": [
       "            feature  importance\n",
       "0  RegistrationYear       34.19\n",
       "1             Power       20.63\n",
       "2       VehicleType       13.47\n",
       "3             Brand       11.06\n",
       "4         Kilometer        9.23\n",
       "5             Model        4.00\n",
       "6       NotRepaired        3.87\n",
       "7          FuelType        2.36\n",
       "8           Gearbox        1.18"
      ]
     },
     "execution_count": 115,
     "metadata": {},
     "output_type": "execute_result"
    }
   ],
   "source": [
    "feature_results = feature_results.sort_values('importance', ascending=False).reset_index(drop=True)\n",
    "feature_results"
   ]
  },
  {
   "cell_type": "code",
   "execution_count": 116,
   "metadata": {},
   "outputs": [
    {
     "data": {
      "image/png": "[encoded data removed]",
      "text/plain": [
       "<Figure size 1080x432 with 1 Axes>"
      ]
     },
     "metadata": {},
     "output_type": "display_data"
    }
   ],
   "source": [
    "plt.figure(figsize=(15,6))\n",
    "sns.set_style('darkgrid')\n",
    "\n",
    "sns.barplot(x='feature', y='importance', data=feature_results)#, sort=False)\n",
    "\n",
    "plt.show()"
   ]
  },
  {
   "cell_type": "markdown",
   "metadata": {},
   "source": [
    "### LGBMRegressor"
   ]
  },
  {
   "cell_type": "markdown",
   "metadata": {},
   "source": [
    "__OHE__"
   ]
  },
  {
   "cell_type": "code",
   "execution_count": 117,
   "metadata": {},
   "outputs": [
    {
     "name": "stdout",
     "output_type": "stream",
     "text": [
      "CPU times: user 14.5 s, sys: 337 ms, total: 14.8 s\n",
      "Wall time: 15 s\n"
     ]
    },
    {
     "data": {
      "text/plain": [
       "LGBMRegressor(boosting_type='gbdt', class_weight=None, colsample_bytree=1.0,\n",
       "              importance_type='split', learning_rate=0.1, max_depth=10,\n",
       "              metric='rmse', min_child_samples=20, min_child_weight=0.001,\n",
       "              min_split_gain=0.0, n_estimators=200, n_jobs=-1, num_leaves=31,\n",
       "              objective=None, random_state=None, reg_alpha=0.0, reg_lambda=0.0,\n",
       "              silent=True, subsample=1.0, subsample_for_bin=200000,\n",
       "              subsample_freq=0)"
      ]
     },
     "execution_count": 117,
     "metadata": {},
     "output_type": "execute_result"
    }
   ],
   "source": [
    "%%time\n",
    "best_model_LGBMR.fit(df_features_ohe, df_target_ohe)"
   ]
  },
  {
   "cell_type": "code",
   "execution_count": 118,
   "metadata": {},
   "outputs": [
    {
     "data": {
      "text/plain": [
       "15.894765138626099"
      ]
     },
     "execution_count": 118,
     "metadata": {},
     "output_type": "execute_result"
    }
   ],
   "source": [
    "start = time.time()\n",
    "best_model_LGBMR.fit(df_features_ohe, df_target_ohe)\n",
    "end = time.time()\n",
    "time_fit_LGBMR_ohe = end-start # in seconds\n",
    "time_fit_LGBMR_ohe"
   ]
  },
  {
   "cell_type": "code",
   "execution_count": 119,
   "metadata": {},
   "outputs": [
    {
     "name": "stdout",
     "output_type": "stream",
     "text": [
      "CPU times: user 1.07 s, sys: 62.9 ms, total: 1.13 s\n",
      "Wall time: 1.19 s\n"
     ]
    }
   ],
   "source": [
    "%%time\n",
    "prediction_test = best_model_LGBMR.predict(features_test_ohe)"
   ]
  },
  {
   "cell_type": "code",
   "execution_count": 120,
   "metadata": {},
   "outputs": [
    {
     "data": {
      "text/plain": [
       "1.1032838821411133"
      ]
     },
     "execution_count": 120,
     "metadata": {},
     "output_type": "execute_result"
    }
   ],
   "source": [
    "start = time.time()\n",
    "prediction_test_ohe = best_model_LGBMR.predict(features_test_ohe)\n",
    "end = time.time()\n",
    "time_predict_LGBMR_ohe = end-start # in seconds\n",
    "time_predict_LGBMR_ohe"
   ]
  },
  {
   "cell_type": "markdown",
   "metadata": {},
   "source": [
    "__Ordinal__"
   ]
  },
  {
   "cell_type": "code",
   "execution_count": 121,
   "metadata": {},
   "outputs": [
    {
     "data": {
      "text/plain": [
       "13.388784170150757"
      ]
     },
     "execution_count": 121,
     "metadata": {},
     "output_type": "execute_result"
    }
   ],
   "source": [
    "start = time.time()\n",
    "best_model_LGBMR.fit(df_features_ordinal, df_target_ordinal)\n",
    "end = time.time()\n",
    "time_fit_LGBMR = end-start # in seconds\n",
    "time_fit_LGBMR"
   ]
  },
  {
   "cell_type": "code",
   "execution_count": 122,
   "metadata": {},
   "outputs": [
    {
     "data": {
      "text/plain": [
       "0.9045872688293457"
      ]
     },
     "execution_count": 122,
     "metadata": {},
     "output_type": "execute_result"
    }
   ],
   "source": [
    "start = time.time()\n",
    "prediction_test = best_model_LGBMR.predict(features_test_ordinal)\n",
    "end = time.time()\n",
    "time_predict_LGBMR = end-start # in seconds\n",
    "time_predict_LGBMR"
   ]
  },
  {
   "cell_type": "code",
   "execution_count": 123,
   "metadata": {},
   "outputs": [
    {
     "name": "stdout",
     "output_type": "stream",
     "text": [
      "LGBMRegressor (OHE): RMSE = 1763.14\n"
     ]
    }
   ],
   "source": [
    "score_LGBMR_test_ohe = np.sqrt(mean_squared_error(target_test_ohe, prediction_test_ohe))\n",
    "print('LGBMRegressor (OHE): RMSE = {:.2f}'.format(score_LGBMR_test_ohe))"
   ]
  },
  {
   "cell_type": "code",
   "execution_count": 124,
   "metadata": {},
   "outputs": [
    {
     "name": "stdout",
     "output_type": "stream",
     "text": [
      "LGBMRegressor: RMSE = 1758.44\n"
     ]
    }
   ],
   "source": [
    "score_LGBMR_test = np.sqrt(mean_squared_error(target_test_ordinal, prediction_test))\n",
    "print('LGBMRegressor: RMSE = {:.2f}'.format(score_LGBMR_test))"
   ]
  },
  {
   "cell_type": "code",
   "execution_count": 125,
   "metadata": {},
   "outputs": [],
   "source": [
    "importances = best_model_LGBMR.feature_importances_\n",
    "\n",
    "feature_list = list(df_features.columns)\n",
    "\n",
    "feature_results = pd.DataFrame({'feature': feature_list,'importance': importances})"
   ]
  },
  {
   "cell_type": "code",
   "execution_count": 126,
   "metadata": {},
   "outputs": [
    {
     "data": {
      "text/html": [
       "<div>\n",
       "<style scoped>\n",
       "    .dataframe tbody tr th:only-of-type {\n",
       "        vertical-align: middle;\n",
       "    }\n",
       "\n",
       "    .dataframe tbody tr th {\n",
       "        vertical-align: top;\n",
       "    }\n",
       "\n",
       "    .dataframe thead th {\n",
       "        text-align: right;\n",
       "    }\n",
       "</style>\n",
       "<table border=\"1\" class=\"dataframe\">\n",
       "  <thead>\n",
       "    <tr style=\"text-align: right;\">\n",
       "      <th></th>\n",
       "      <th>feature</th>\n",
       "      <th>importance</th>\n",
       "    </tr>\n",
       "  </thead>\n",
       "  <tbody>\n",
       "    <tr>\n",
       "      <td>0</td>\n",
       "      <td>RegistrationYear</td>\n",
       "      <td>1344</td>\n",
       "    </tr>\n",
       "    <tr>\n",
       "      <td>1</td>\n",
       "      <td>Power</td>\n",
       "      <td>1295</td>\n",
       "    </tr>\n",
       "    <tr>\n",
       "      <td>2</td>\n",
       "      <td>Model</td>\n",
       "      <td>883</td>\n",
       "    </tr>\n",
       "    <tr>\n",
       "      <td>3</td>\n",
       "      <td>Brand</td>\n",
       "      <td>875</td>\n",
       "    </tr>\n",
       "    <tr>\n",
       "      <td>4</td>\n",
       "      <td>VehicleType</td>\n",
       "      <td>560</td>\n",
       "    </tr>\n",
       "    <tr>\n",
       "      <td>5</td>\n",
       "      <td>Kilometer</td>\n",
       "      <td>524</td>\n",
       "    </tr>\n",
       "    <tr>\n",
       "      <td>6</td>\n",
       "      <td>FuelType</td>\n",
       "      <td>218</td>\n",
       "    </tr>\n",
       "    <tr>\n",
       "      <td>7</td>\n",
       "      <td>NotRepaired</td>\n",
       "      <td>165</td>\n",
       "    </tr>\n",
       "    <tr>\n",
       "      <td>8</td>\n",
       "      <td>Gearbox</td>\n",
       "      <td>136</td>\n",
       "    </tr>\n",
       "  </tbody>\n",
       "</table>\n",
       "</div>"
      ],
      "text/plain": [
       "            feature  importance\n",
       "0  RegistrationYear        1344\n",
       "1             Power        1295\n",
       "2             Model         883\n",
       "3             Brand         875\n",
       "4       VehicleType         560\n",
       "5         Kilometer         524\n",
       "6          FuelType         218\n",
       "7       NotRepaired         165\n",
       "8           Gearbox         136"
      ]
     },
     "execution_count": 126,
     "metadata": {},
     "output_type": "execute_result"
    }
   ],
   "source": [
    "feature_results = feature_results.sort_values('importance', ascending=False).reset_index(drop=True)\n",
    "feature_results"
   ]
  },
  {
   "cell_type": "code",
   "execution_count": 127,
   "metadata": {},
   "outputs": [
    {
     "data": {
      "image/png": "[encoded data removed]",
      "text/plain": [
       "<Figure size 1080x432 with 1 Axes>"
      ]
     },
     "metadata": {},
     "output_type": "display_data"
    }
   ],
   "source": [
    "plt.figure(figsize=(15,6))\n",
    "sns.set_style('darkgrid')\n",
    "\n",
    "sns.barplot(x='feature', y='importance', data=feature_results)#, sort=False)\n",
    "\n",
    "plt.show()"
   ]
  },
  {
   "cell_type": "markdown",
   "metadata": {},
   "source": [
    "### DummyRegressor"
   ]
  },
  {
   "cell_type": "code",
   "execution_count": 128,
   "metadata": {},
   "outputs": [
    {
     "name": "stdout",
     "output_type": "stream",
     "text": [
      "Модель DummyRegressor: RMSE = 4564.33\n"
     ]
    }
   ],
   "source": [
    "model=DummyRegressor(strategy='mean')\n",
    "\n",
    "model.fit(df_features_ordinal, df_target_ordinal)\n",
    "prediction_valid = model.predict(features_test_ordinal)\n",
    "\n",
    "score_dummy_test = np.sqrt(mean_squared_error(target_test_ordinal, prediction_valid))\n",
    "\n",
    "print('Модель DummyRegressor: RMSE = {:.2f}'.format(score_dummy_test))"
   ]
  },
  {
   "cell_type": "markdown",
   "metadata": {},
   "source": [
    "### Итоги"
   ]
  },
  {
   "cell_type": "code",
   "execution_count": 129,
   "metadata": {},
   "outputs": [],
   "source": [
    "values_models['RMSE_test'] = [score_forest_test, score_LNR_test, score_CBR_test, score_LGBMR_test,score_dummy_test]\n",
    "values_models['time_fit_(s)'] = [time_fit_forest, time_fit_LNR, time_fit_CBR, time_fit_LGBMR,0]\n",
    "values_models['time_predict_(s)'] = [time_predict_forest, time_predict_LNR, time_predict_CBR, time_predict_LGBMR,0]"
   ]
  },
  {
   "cell_type": "code",
   "execution_count": 130,
   "metadata": {},
   "outputs": [
    {
     "data": {
      "text/html": [
       "<div>\n",
       "<style scoped>\n",
       "    .dataframe tbody tr th:only-of-type {\n",
       "        vertical-align: middle;\n",
       "    }\n",
       "\n",
       "    .dataframe tbody tr th {\n",
       "        vertical-align: top;\n",
       "    }\n",
       "\n",
       "    .dataframe thead th {\n",
       "        text-align: right;\n",
       "    }\n",
       "</style>\n",
       "<table border=\"1\" class=\"dataframe\">\n",
       "  <thead>\n",
       "    <tr style=\"text-align: right;\">\n",
       "      <th></th>\n",
       "      <th>Model</th>\n",
       "      <th>RMSE_valid</th>\n",
       "      <th>RMSE_test</th>\n",
       "      <th>time_fit_(s)</th>\n",
       "      <th>time_predict_(s)</th>\n",
       "    </tr>\n",
       "  </thead>\n",
       "  <tbody>\n",
       "    <tr>\n",
       "      <td>0</td>\n",
       "      <td>RandomForestRegressor</td>\n",
       "      <td>1,750.82</td>\n",
       "      <td>1,748.35</td>\n",
       "      <td>13.84</td>\n",
       "      <td>0.57</td>\n",
       "    </tr>\n",
       "    <tr>\n",
       "      <td>1</td>\n",
       "      <td>LinearRegression</td>\n",
       "      <td>2,769.52</td>\n",
       "      <td>3,159.60</td>\n",
       "      <td>0.14</td>\n",
       "      <td>0.00</td>\n",
       "    </tr>\n",
       "    <tr>\n",
       "      <td>2</td>\n",
       "      <td>CatBoostRegressor</td>\n",
       "      <td>1,819.80</td>\n",
       "      <td>1,824.19</td>\n",
       "      <td>225.34</td>\n",
       "      <td>0.39</td>\n",
       "    </tr>\n",
       "    <tr>\n",
       "      <td>3</td>\n",
       "      <td>LGBMRegressor</td>\n",
       "      <td>1,754.57</td>\n",
       "      <td>1,758.44</td>\n",
       "      <td>13.39</td>\n",
       "      <td>0.90</td>\n",
       "    </tr>\n",
       "    <tr>\n",
       "      <td>4</td>\n",
       "      <td>DummyRegressor</td>\n",
       "      <td>4,514.40</td>\n",
       "      <td>4,564.33</td>\n",
       "      <td>0.00</td>\n",
       "      <td>0.00</td>\n",
       "    </tr>\n",
       "  </tbody>\n",
       "</table>\n",
       "</div>"
      ],
      "text/plain": [
       "                   Model  RMSE_valid  RMSE_test  time_fit_(s)  \\\n",
       "0  RandomForestRegressor    1,750.82   1,748.35         13.84   \n",
       "1       LinearRegression    2,769.52   3,159.60          0.14   \n",
       "2      CatBoostRegressor    1,819.80   1,824.19        225.34   \n",
       "3          LGBMRegressor    1,754.57   1,758.44         13.39   \n",
       "4         DummyRegressor    4,514.40   4,564.33          0.00   \n",
       "\n",
       "   time_predict_(s)  \n",
       "0              0.57  \n",
       "1              0.00  \n",
       "2              0.39  \n",
       "3              0.90  \n",
       "4              0.00  "
      ]
     },
     "execution_count": 130,
     "metadata": {},
     "output_type": "execute_result"
    }
   ],
   "source": [
    "values_models"
   ]
  },
  {
   "cell_type": "code",
   "execution_count": 131,
   "metadata": {
    "scrolled": true
   },
   "outputs": [
    {
     "data": {
      "image/png": "[encoded data removed]",
      "text/plain": [
       "<Figure size 864x1152 with 3 Axes>"
      ]
     },
     "metadata": {},
     "output_type": "display_data"
    }
   ],
   "source": [
    "plt.figure(figsize=(12,16))\n",
    "sns.set_style('darkgrid')\n",
    "\n",
    "plt.subplot(311)\n",
    "plt.title('Значение RMSE для моделей на тестовой выборке')\n",
    "sns.barplot(x=values_models['Model'], y=values_models['RMSE_test'])\n",
    "\n",
    "plt.subplot(312)\n",
    "plt.title('Время обучения моделей (сек)')\n",
    "sns.barplot(x=values_models['Model'], y=values_models['time_fit_(s)'])\n",
    "\n",
    "plt.subplot(313)\n",
    "plt.title('Время предсказания моделей (сек)')\n",
    "sns.barplot(x=values_models['Model'], y=values_models['time_predict_(s)'])\n",
    "\n",
    "plt.tight_layout\n",
    "plt.show()"
   ]
  },
  {
   "cell_type": "code",
   "execution_count": 132,
   "metadata": {},
   "outputs": [
    {
     "data": {
      "text/html": [
       "<div>\n",
       "<style scoped>\n",
       "    .dataframe tbody tr th:only-of-type {\n",
       "        vertical-align: middle;\n",
       "    }\n",
       "\n",
       "    .dataframe tbody tr th {\n",
       "        vertical-align: top;\n",
       "    }\n",
       "\n",
       "    .dataframe thead th {\n",
       "        text-align: right;\n",
       "    }\n",
       "</style>\n",
       "<table border=\"1\" class=\"dataframe\">\n",
       "  <thead>\n",
       "    <tr style=\"text-align: right;\">\n",
       "      <th></th>\n",
       "      <th>Model</th>\n",
       "      <th>time_fit_(ordinal)</th>\n",
       "      <th>time_fit_(ohe)</th>\n",
       "      <th>time_predict_(ordinal)</th>\n",
       "      <th>time_predict_(ohe)</th>\n",
       "    </tr>\n",
       "  </thead>\n",
       "  <tbody>\n",
       "    <tr>\n",
       "      <td>0</td>\n",
       "      <td>RandomForestRegressor</td>\n",
       "      <td>13.84</td>\n",
       "      <td>135.29</td>\n",
       "      <td>0.57</td>\n",
       "      <td>0.92</td>\n",
       "    </tr>\n",
       "    <tr>\n",
       "      <td>1</td>\n",
       "      <td>LinearRegression</td>\n",
       "      <td>0.14</td>\n",
       "      <td>21.60</td>\n",
       "      <td>0.00</td>\n",
       "      <td>0.21</td>\n",
       "    </tr>\n",
       "    <tr>\n",
       "      <td>2</td>\n",
       "      <td>LGBMRegressor</td>\n",
       "      <td>13.39</td>\n",
       "      <td>15.89</td>\n",
       "      <td>0.90</td>\n",
       "      <td>1.10</td>\n",
       "    </tr>\n",
       "  </tbody>\n",
       "</table>\n",
       "</div>"
      ],
      "text/plain": [
       "                   Model  time_fit_(ordinal)  time_fit_(ohe)  \\\n",
       "0  RandomForestRegressor               13.84          135.29   \n",
       "1       LinearRegression                0.14           21.60   \n",
       "2          LGBMRegressor               13.39           15.89   \n",
       "\n",
       "   time_predict_(ordinal)  time_predict_(ohe)  \n",
       "0                    0.57                0.92  \n",
       "1                    0.00                0.21  \n",
       "2                    0.90                1.10  "
      ]
     },
     "execution_count": 132,
     "metadata": {},
     "output_type": "execute_result"
    }
   ],
   "source": [
    "time_encoding = pd.DataFrame([\n",
    "    ['RandomForestRegressor', time_fit_forest, time_fit_forest_ohe, time_predict_forest, time_predict_forest_ohe],\n",
    "    ['LinearRegression', time_fit_LNR, time_fit_LNR_ohe, time_predict_LNR, time_predict_LNR_ohe],\n",
    "#     ['CatBoostRegressor', time_fit_CBR, time_fit_CBR_ohe, time_predict_CBR, time_predict_CBR_ohe],\n",
    "    ['LGBMRegressor', time_fit_LGBMR, time_fit_LGBMR_ohe, time_predict_LGBMR, time_predict_LGBMR_ohe]\n",
    "],\n",
    "    columns=['Model', 'time_fit_(ordinal)', 'time_fit_(ohe)', 'time_predict_(ordinal)', 'time_predict_(ohe)']\n",
    ")\n",
    "time_encoding"
   ]
  },
  {
   "cell_type": "code",
   "execution_count": 143,
   "metadata": {},
   "outputs": [
    {
     "data": {
      "image/png": "[encoded data removed]",
      "text/plain": [
       "<Figure size 720x360 with 1 Axes>"
      ]
     },
     "metadata": {},
     "output_type": "display_data"
    },
    {
     "data": {
      "image/png": "[encoded data removed]",
      "text/plain": [
       "<Figure size 720x360 with 1 Axes>"
      ]
     },
     "metadata": {},
     "output_type": "display_data"
    }
   ],
   "source": [
    "fig, ax = plt.subplots(figsize=(10,5))\n",
    "# plt.subplots(1,2,1)\n",
    "ind = np.arange(len(time_encoding))\n",
    "width = 0.4\n",
    "\n",
    "ax.barh(ind, time_encoding['time_fit_(ordinal)'],width, color='green', label='time_fit_(ordinal)')\n",
    "ax.barh(ind + width, time_encoding['time_fit_(ohe)'], width, color='grey', label='time_fit_(ohe)')\n",
    "ax.set(yticks=ind + width, yticklabels=time_encoding['Model'])\n",
    "ax.legend()\n",
    "plt.title('time_fit')\n",
    "\n",
    "plt.show()\n",
    "\n",
    "fig, ax2 = plt.subplots(figsize=(10,5))\n",
    "ax2.barh(ind, time_encoding['time_predict_(ordinal)'],width,  color='green', label='time_predict_(ordinal)')\n",
    "ax2.barh(ind + width, time_encoding['time_predict_(ohe)'], width, color='grey', label='time_predict_(ohe)')\n",
    "\n",
    "ax2.set(yticks=ind + width, yticklabels=time_encoding['Model'])\n",
    "ax2.legend()\n",
    "plt.title('time_predict')\n",
    "\n",
    "plt.show()"
   ]
  },
  {
   "cell_type": "markdown",
   "metadata": {},
   "source": [
    "## Общий вывод:"
   ]
  },
  {
   "cell_type": "markdown",
   "metadata": {},
   "source": [
    "1. получили таблицу с целью построения модели предсказания рыночной стоимости автомобилей (целевой признак) на основании признаков, содержащихся в таблице\n",
    "2. провели предподготовку данных: заменили пропуски, удалили столбцы, не влияющие на целевой признак, избавились от аномальных и нереальных значений, проверили корреляцию признаков\n",
    "3. обучили 4 модели (метрика RMSE) и выполнили предсказания на валидационной выборке: RandomForestRegressor, LinearRegression, CatBoostRegressor, LGBMRegressor. Наилучший результат у RandomForestRegressor, наихудший - LinearRegression\n",
    "4. проверили модели на адекватность: значение метрики RMSE у константной модели значительно хуже\n",
    "5. выполнили предсказания на тестовой выборке и замерили время обучения моделей и время предсказания моделями:\n",
    "- RandomForestRegressor показал наилучшие значения предсказания, однако время обучения и предсказания модели довольно длительные;\n",
    "- LinearRegression обучается и предсказывает очень быстро, но качество предсказаний сильно ниже остальных моделей;\n",
    "- CatBoostRegressor обучается сильно дольше всех, но быстро предсказывает, качество предсказаний немного хуже LGBMRegressor;\n",
    "- LGBMRegressor на втором месте по качеству предсказаний и первая по времени обучения модели, но на последнем месте по времени предсказания.  \n",
    "\n",
    "Золотой серединой выглядит модель LGBMRegressor, довольно хорошее качество предсказаний, очень быстрое обучение (всего несколько секунд) и, учитывая, что предсказания выполняются всего лишь на несколько милисекунд медленнее остальных моделей, относительно недолгое время предсказаний.  \n",
    "Однако необходимо учесть количество предсказаний в промежутке времени, так как модель обучится однажды, а предсказывать будет часто и много раз, возможно, разница в несколько милисекунд на крупном отрезке даст сильную задержку.\n",
    "\n"
   ]
  }
 ],
 "metadata": {
  "ExecuteTimeLog": [
   {
    "duration": 734,
    "start_time": "2021-12-25T13:37:26.053Z"
   },
   {
    "duration": 1125,
    "start_time": "2021-12-25T13:37:37.977Z"
   },
   {
    "duration": 1254,
    "start_time": "2021-12-25T13:37:41.338Z"
   },
   {
    "duration": 1128,
    "start_time": "2021-12-25T13:39:22.366Z"
   },
   {
    "duration": 155,
    "start_time": "2021-12-25T13:39:42.554Z"
   },
   {
    "duration": 155,
    "start_time": "2021-12-25T13:41:03.406Z"
   },
   {
    "duration": 4,
    "start_time": "2021-12-25T13:43:54.875Z"
   },
   {
    "duration": 153,
    "start_time": "2021-12-25T13:43:59.175Z"
   },
   {
    "duration": 7,
    "start_time": "2021-12-25T13:44:31.070Z"
   },
   {
    "duration": 47,
    "start_time": "2021-12-25T13:44:41.825Z"
   },
   {
    "duration": 22,
    "start_time": "2021-12-25T13:46:29.451Z"
   },
   {
    "duration": 27,
    "start_time": "2021-12-25T13:46:35.451Z"
   },
   {
    "duration": 20,
    "start_time": "2021-12-25T13:46:52.687Z"
   },
   {
    "duration": 20,
    "start_time": "2021-12-25T13:48:23.723Z"
   },
   {
    "duration": 164,
    "start_time": "2021-12-25T13:49:13.223Z"
   },
   {
    "duration": 151,
    "start_time": "2021-12-25T13:49:21.706Z"
   },
   {
    "duration": 156,
    "start_time": "2021-12-25T13:50:35.110Z"
   },
   {
    "duration": 155,
    "start_time": "2021-12-25T13:50:52.435Z"
   },
   {
    "duration": 150,
    "start_time": "2021-12-25T13:51:02.845Z"
   },
   {
    "duration": 153,
    "start_time": "2021-12-25T13:51:11.096Z"
   },
   {
    "duration": 624,
    "start_time": "2021-12-25T13:51:38.216Z"
   },
   {
    "duration": 549,
    "start_time": "2021-12-25T13:51:43.095Z"
   },
   {
    "duration": 514,
    "start_time": "2021-12-25T13:52:22.256Z"
   },
   {
    "duration": 152,
    "start_time": "2021-12-25T13:53:16.677Z"
   },
   {
    "duration": 4,
    "start_time": "2021-12-25T13:55:05.759Z"
   },
   {
    "duration": 3,
    "start_time": "2021-12-25T13:58:39.618Z"
   },
   {
    "duration": 202,
    "start_time": "2021-12-25T13:58:48.693Z"
   },
   {
    "duration": 4,
    "start_time": "2021-12-25T13:58:59.267Z"
   },
   {
    "duration": 200,
    "start_time": "2021-12-25T13:59:05.507Z"
   },
   {
    "duration": 79,
    "start_time": "2021-12-25T14:01:45.981Z"
   },
   {
    "duration": 79,
    "start_time": "2021-12-25T14:02:02.639Z"
   },
   {
    "duration": 120,
    "start_time": "2021-12-25T14:02:46.626Z"
   },
   {
    "duration": 128,
    "start_time": "2021-12-25T14:03:22.478Z"
   },
   {
    "duration": 118,
    "start_time": "2021-12-25T14:05:44.679Z"
   },
   {
    "duration": 483,
    "start_time": "2021-12-25T14:06:10.555Z"
   },
   {
    "duration": 22,
    "start_time": "2021-12-25T14:18:34.041Z"
   },
   {
    "duration": 4,
    "start_time": "2021-12-25T14:18:44.151Z"
   },
   {
    "duration": 6,
    "start_time": "2021-12-25T14:18:46.776Z"
   },
   {
    "duration": 312,
    "start_time": "2021-12-25T14:18:53.872Z"
   },
   {
    "duration": 40,
    "start_time": "2021-12-25T14:19:06.907Z"
   },
   {
    "duration": 5,
    "start_time": "2021-12-25T14:19:09.322Z"
   },
   {
    "duration": 7,
    "start_time": "2021-12-25T14:19:15.638Z"
   },
   {
    "duration": 9115,
    "start_time": "2021-12-25T14:19:48.152Z"
   },
   {
    "duration": 520,
    "start_time": "2021-12-25T14:22:04.975Z"
   },
   {
    "duration": 51,
    "start_time": "2021-12-25T14:24:06.732Z"
   },
   {
    "duration": 77,
    "start_time": "2021-12-25T14:24:11.336Z"
   },
   {
    "duration": 57,
    "start_time": "2021-12-25T14:24:31.070Z"
   },
   {
    "duration": 32,
    "start_time": "2021-12-25T14:25:08.562Z"
   },
   {
    "duration": 32,
    "start_time": "2021-12-25T14:25:17.832Z"
   },
   {
    "duration": 75,
    "start_time": "2021-12-25T14:25:55.094Z"
   },
   {
    "duration": 341,
    "start_time": "2021-12-25T14:26:51.935Z"
   },
   {
    "duration": 125,
    "start_time": "2021-12-25T14:27:08.865Z"
   },
   {
    "duration": 360,
    "start_time": "2021-12-25T14:27:36.497Z"
   },
   {
    "duration": 328,
    "start_time": "2021-12-25T14:27:47.295Z"
   },
   {
    "duration": 221,
    "start_time": "2021-12-25T14:28:06.361Z"
   },
   {
    "duration": 336,
    "start_time": "2021-12-25T14:28:46.322Z"
   },
   {
    "duration": 135,
    "start_time": "2021-12-25T14:29:37.262Z"
   },
   {
    "duration": 7833,
    "start_time": "2021-12-25T14:30:24.887Z"
   },
   {
    "duration": 7888,
    "start_time": "2021-12-25T14:31:05.929Z"
   },
   {
    "duration": 80,
    "start_time": "2021-12-25T14:32:13.452Z"
   },
   {
    "duration": 32,
    "start_time": "2021-12-25T14:32:38.556Z"
   },
   {
    "duration": 331,
    "start_time": "2021-12-25T14:35:46.252Z"
   },
   {
    "duration": 39,
    "start_time": "2021-12-25T14:35:57.458Z"
   },
   {
    "duration": 43,
    "start_time": "2021-12-25T14:36:10.928Z"
   },
   {
    "duration": 26,
    "start_time": "2021-12-25T14:36:20.303Z"
   },
   {
    "duration": 32,
    "start_time": "2021-12-25T14:36:53.949Z"
   },
   {
    "duration": 29,
    "start_time": "2021-12-25T14:37:03.159Z"
   },
   {
    "duration": 118,
    "start_time": "2021-12-25T14:38:41.920Z"
   },
   {
    "duration": 67,
    "start_time": "2021-12-25T14:39:28.556Z"
   },
   {
    "duration": 117,
    "start_time": "2021-12-25T14:48:10.272Z"
   },
   {
    "duration": 137,
    "start_time": "2021-12-25T14:48:19.219Z"
   },
   {
    "duration": 349,
    "start_time": "2021-12-25T14:49:39.291Z"
   },
   {
    "duration": 89,
    "start_time": "2021-12-25T14:50:44.902Z"
   },
   {
    "duration": 45,
    "start_time": "2021-12-25T14:50:55.117Z"
   },
   {
    "duration": 48,
    "start_time": "2021-12-25T14:51:57.084Z"
   },
   {
    "duration": 27,
    "start_time": "2021-12-25T14:52:22.942Z"
   },
   {
    "duration": 43,
    "start_time": "2021-12-25T14:52:53.694Z"
   },
   {
    "duration": 27,
    "start_time": "2021-12-25T14:52:54.083Z"
   },
   {
    "duration": 40,
    "start_time": "2021-12-25T14:53:50.725Z"
   },
   {
    "duration": 34,
    "start_time": "2021-12-25T14:54:32.035Z"
   },
   {
    "duration": 335,
    "start_time": "2021-12-25T14:58:13.731Z"
   },
   {
    "duration": 466,
    "start_time": "2021-12-25T14:58:22.933Z"
   },
   {
    "duration": 751,
    "start_time": "2021-12-25T15:01:59.597Z"
   },
   {
    "duration": 4,
    "start_time": "2021-12-25T15:02:57.186Z"
   },
   {
    "duration": 909,
    "start_time": "2021-12-25T15:03:09.932Z"
   },
   {
    "duration": 5,
    "start_time": "2021-12-25T15:03:31.668Z"
   },
   {
    "duration": 1033,
    "start_time": "2021-12-25T15:03:32.733Z"
   },
   {
    "duration": 6,
    "start_time": "2021-12-25T15:05:20.344Z"
   },
   {
    "duration": 4,
    "start_time": "2021-12-25T15:05:34.971Z"
   },
   {
    "duration": 892,
    "start_time": "2021-12-25T15:05:35.540Z"
   },
   {
    "duration": 305,
    "start_time": "2021-12-25T15:06:01.116Z"
   },
   {
    "duration": 4,
    "start_time": "2021-12-25T15:06:08.241Z"
   },
   {
    "duration": 12,
    "start_time": "2021-12-25T15:06:19.716Z"
   },
   {
    "duration": 654,
    "start_time": "2021-12-25T15:06:49.942Z"
   },
   {
    "duration": 425,
    "start_time": "2021-12-25T15:10:44.710Z"
   },
   {
    "duration": 348,
    "start_time": "2021-12-25T15:12:24.207Z"
   },
   {
    "duration": 29,
    "start_time": "2021-12-25T15:12:31.423Z"
   },
   {
    "duration": 314,
    "start_time": "2021-12-25T15:12:40.901Z"
   },
   {
    "duration": 492,
    "start_time": "2021-12-25T15:12:57.717Z"
   },
   {
    "duration": 146,
    "start_time": "2021-12-25T15:12:59.592Z"
   },
   {
    "duration": 100,
    "start_time": "2021-12-25T15:14:14.609Z"
   },
   {
    "duration": 4,
    "start_time": "2021-12-25T15:14:20.023Z"
   },
   {
    "duration": 330,
    "start_time": "2021-12-25T15:14:25.228Z"
   },
   {
    "duration": 3,
    "start_time": "2021-12-25T15:14:34.288Z"
   },
   {
    "duration": 305,
    "start_time": "2021-12-25T15:14:35.773Z"
   },
   {
    "duration": 17,
    "start_time": "2021-12-25T15:14:42.164Z"
   },
   {
    "duration": 17,
    "start_time": "2021-12-25T15:15:01.484Z"
   },
   {
    "duration": 399,
    "start_time": "2021-12-25T15:15:20.459Z"
   },
   {
    "duration": 417,
    "start_time": "2021-12-25T15:15:35.670Z"
   },
   {
    "duration": 398,
    "start_time": "2021-12-25T15:15:47.999Z"
   },
   {
    "duration": 4,
    "start_time": "2021-12-25T15:17:02.686Z"
   },
   {
    "duration": 419,
    "start_time": "2021-12-25T15:17:36.932Z"
   },
   {
    "duration": 5,
    "start_time": "2021-12-25T15:17:52.591Z"
   },
   {
    "duration": 2137,
    "start_time": "2021-12-25T15:17:53.791Z"
   },
   {
    "duration": 4,
    "start_time": "2021-12-25T15:18:41.044Z"
   },
   {
    "duration": 769,
    "start_time": "2021-12-25T15:18:42.527Z"
   },
   {
    "duration": 5,
    "start_time": "2021-12-25T15:21:07.475Z"
   },
   {
    "duration": 1332,
    "start_time": "2021-12-25T15:21:10.385Z"
   },
   {
    "duration": 5,
    "start_time": "2021-12-25T15:21:22.355Z"
   },
   {
    "duration": 4655,
    "start_time": "2021-12-25T15:21:24.005Z"
   },
   {
    "duration": 5,
    "start_time": "2021-12-25T15:21:54.441Z"
   },
   {
    "duration": 5200,
    "start_time": "2021-12-25T15:21:55.550Z"
   },
   {
    "duration": 6,
    "start_time": "2021-12-25T15:22:23.451Z"
   },
   {
    "duration": 4931,
    "start_time": "2021-12-25T15:22:25.797Z"
   },
   {
    "duration": 6,
    "start_time": "2021-12-25T15:22:46.567Z"
   },
   {
    "duration": 5106,
    "start_time": "2021-12-25T15:22:48.486Z"
   },
   {
    "duration": 5,
    "start_time": "2021-12-25T15:23:32.888Z"
   },
   {
    "duration": 4473,
    "start_time": "2021-12-25T15:23:34.117Z"
   },
   {
    "duration": 5,
    "start_time": "2021-12-25T15:24:02.213Z"
   },
   {
    "duration": 4732,
    "start_time": "2021-12-25T15:24:03.472Z"
   },
   {
    "duration": 5,
    "start_time": "2021-12-25T15:25:28.615Z"
   },
   {
    "duration": 5046,
    "start_time": "2021-12-25T15:25:30.189Z"
   },
   {
    "duration": 4812,
    "start_time": "2021-12-25T15:28:06.611Z"
   },
   {
    "duration": 38,
    "start_time": "2021-12-25T15:29:12.267Z"
   },
   {
    "duration": 63,
    "start_time": "2021-12-25T15:29:56.502Z"
   },
   {
    "duration": 601,
    "start_time": "2021-12-25T15:30:25.109Z"
   },
   {
    "duration": 316,
    "start_time": "2021-12-25T15:30:43.529Z"
   },
   {
    "duration": 287,
    "start_time": "2021-12-25T15:30:55.394Z"
   },
   {
    "duration": 285,
    "start_time": "2021-12-25T15:31:36.795Z"
   },
   {
    "duration": 706,
    "start_time": "2021-12-25T15:32:11.731Z"
   },
   {
    "duration": 959,
    "start_time": "2021-12-25T15:32:41.372Z"
   },
   {
    "duration": 710,
    "start_time": "2021-12-25T15:32:46.036Z"
   },
   {
    "duration": 1895,
    "start_time": "2021-12-25T15:32:55.351Z"
   },
   {
    "duration": 304,
    "start_time": "2021-12-25T15:33:13.772Z"
   },
   {
    "duration": 1424,
    "start_time": "2021-12-25T15:34:01.427Z"
   },
   {
    "duration": 628,
    "start_time": "2021-12-25T15:34:28.863Z"
   },
   {
    "duration": 502,
    "start_time": "2021-12-25T15:34:35.837Z"
   },
   {
    "duration": 506,
    "start_time": "2021-12-25T15:35:08.327Z"
   },
   {
    "duration": 706,
    "start_time": "2021-12-25T15:38:26.797Z"
   },
   {
    "duration": 429,
    "start_time": "2021-12-25T15:38:34.011Z"
   },
   {
    "duration": 426,
    "start_time": "2021-12-25T15:38:41.840Z"
   },
   {
    "duration": 435,
    "start_time": "2021-12-25T15:38:46.431Z"
   },
   {
    "duration": 415,
    "start_time": "2021-12-25T15:42:02.530Z"
   },
   {
    "duration": 96,
    "start_time": "2021-12-25T15:44:16.513Z"
   },
   {
    "duration": 106,
    "start_time": "2021-12-25T15:44:46.783Z"
   },
   {
    "duration": 52,
    "start_time": "2021-12-25T15:45:14.562Z"
   },
   {
    "duration": 141,
    "start_time": "2021-12-25T15:46:08.473Z"
   },
   {
    "duration": 8,
    "start_time": "2021-12-25T15:46:29.639Z"
   },
   {
    "duration": 14,
    "start_time": "2021-12-25T15:46:32.248Z"
   },
   {
    "duration": 10,
    "start_time": "2021-12-25T15:46:39.673Z"
   },
   {
    "duration": 412,
    "start_time": "2021-12-25T15:47:53.310Z"
   },
   {
    "duration": 159,
    "start_time": "2021-12-25T15:47:55.724Z"
   },
   {
    "duration": 3,
    "start_time": "2021-12-25T15:48:00.780Z"
   },
   {
    "duration": 6,
    "start_time": "2021-12-25T15:48:01.995Z"
   },
   {
    "duration": 4922,
    "start_time": "2021-12-25T15:48:03.120Z"
   },
   {
    "duration": 435,
    "start_time": "2021-12-25T15:48:36.841Z"
   },
   {
    "duration": 9,
    "start_time": "2021-12-25T15:48:40.636Z"
   },
   {
    "duration": 14,
    "start_time": "2021-12-25T15:49:21.736Z"
   },
   {
    "duration": 39,
    "start_time": "2021-12-25T15:50:10.315Z"
   },
   {
    "duration": 9,
    "start_time": "2021-12-25T15:50:27.242Z"
   },
   {
    "duration": 15,
    "start_time": "2021-12-25T15:50:40.427Z"
   },
   {
    "duration": 400,
    "start_time": "2021-12-25T15:50:49.187Z"
   },
   {
    "duration": 425,
    "start_time": "2021-12-25T15:50:57.059Z"
   },
   {
    "duration": 81,
    "start_time": "2021-12-25T15:51:15.168Z"
   },
   {
    "duration": 411,
    "start_time": "2021-12-25T15:51:17.313Z"
   },
   {
    "duration": 71,
    "start_time": "2021-12-25T15:51:28.533Z"
   },
   {
    "duration": 98,
    "start_time": "2021-12-25T15:51:29.598Z"
   },
   {
    "duration": 17,
    "start_time": "2021-12-25T15:52:38.389Z"
   },
   {
    "duration": 33,
    "start_time": "2021-12-25T15:52:51.500Z"
   },
   {
    "duration": 171,
    "start_time": "2021-12-25T15:56:02.378Z"
   },
   {
    "duration": 165,
    "start_time": "2021-12-25T15:57:16.074Z"
   },
   {
    "duration": 27,
    "start_time": "2021-12-25T15:57:39.384Z"
   },
   {
    "duration": 163,
    "start_time": "2021-12-25T15:59:20.891Z"
   },
   {
    "duration": 163,
    "start_time": "2021-12-25T15:59:31.766Z"
   },
   {
    "duration": 207,
    "start_time": "2021-12-25T16:00:05.832Z"
   },
   {
    "duration": 15,
    "start_time": "2021-12-25T16:01:15.538Z"
   },
   {
    "duration": 442,
    "start_time": "2021-12-25T16:08:58.011Z"
   },
   {
    "duration": 518,
    "start_time": "2021-12-25T16:10:02.436Z"
   },
   {
    "duration": 183,
    "start_time": "2021-12-25T16:14:46.734Z"
   },
   {
    "duration": 25,
    "start_time": "2021-12-25T16:56:45.694Z"
   },
   {
    "duration": 152,
    "start_time": "2021-12-25T16:59:11.630Z"
   },
   {
    "duration": 152,
    "start_time": "2021-12-25T17:00:51.893Z"
   },
   {
    "duration": 27,
    "start_time": "2021-12-25T17:10:33.677Z"
   },
   {
    "duration": 425,
    "start_time": "2021-12-25T17:13:54.214Z"
   },
   {
    "duration": 403,
    "start_time": "2021-12-25T17:15:52.957Z"
   },
   {
    "duration": 7,
    "start_time": "2021-12-25T17:16:01.026Z"
   },
   {
    "duration": 8494,
    "start_time": "2021-12-25T17:21:45.927Z"
   },
   {
    "duration": 68830,
    "start_time": "2021-12-25T17:22:15.611Z"
   },
   {
    "duration": 8187,
    "start_time": "2021-12-25T17:24:13.873Z"
   },
   {
    "duration": 8013,
    "start_time": "2021-12-25T17:24:33.929Z"
   },
   {
    "duration": 18,
    "start_time": "2021-12-25T17:25:33.960Z"
   },
   {
    "duration": 4,
    "start_time": "2021-12-25T17:26:52.486Z"
   },
   {
    "duration": 4,
    "start_time": "2021-12-25T17:26:52.786Z"
   },
   {
    "duration": 1383,
    "start_time": "2021-12-25T17:37:53.007Z"
   },
   {
    "duration": 215,
    "start_time": "2021-12-25T17:41:47.446Z"
   },
   {
    "duration": 1103,
    "start_time": "2021-12-25T17:44:34.323Z"
   },
   {
    "duration": 4,
    "start_time": "2021-12-25T17:45:11.764Z"
   },
   {
    "duration": 4,
    "start_time": "2021-12-25T17:45:12.873Z"
   },
   {
    "duration": 83094,
    "start_time": "2021-12-25T17:46:30.860Z"
   },
   {
    "duration": 5,
    "start_time": "2021-12-25T17:48:42.367Z"
   },
   {
    "duration": 84362,
    "start_time": "2021-12-25T17:48:52.548Z"
   },
   {
    "duration": 76806,
    "start_time": "2021-12-25T17:52:26.801Z"
   },
   {
    "duration": 41869,
    "start_time": "2021-12-25T17:53:52.528Z"
   },
   {
    "duration": 30568,
    "start_time": "2021-12-25T17:55:50.549Z"
   },
   {
    "duration": 103,
    "start_time": "2021-12-25T18:01:19.849Z"
   },
   {
    "duration": 127658,
    "start_time": "2021-12-25T18:01:28.504Z"
   },
   {
    "duration": 128024,
    "start_time": "2021-12-25T18:05:23.693Z"
   },
   {
    "duration": 125816,
    "start_time": "2021-12-25T18:09:22.122Z"
   },
   {
    "duration": 1062646,
    "start_time": "2021-12-25T18:12:21.599Z"
   },
   {
    "duration": 447322,
    "start_time": "2021-12-25T18:30:07.921Z"
   },
   {
    "duration": 48380,
    "start_time": "2021-12-25T18:36:46.866Z"
   },
   {
    "duration": 484737,
    "start_time": "2021-12-25T18:37:39.113Z"
   },
   {
    "duration": 1837,
    "start_time": "2021-12-25T18:46:42.294Z"
   },
   {
    "duration": 5,
    "start_time": "2021-12-25T18:46:44.136Z"
   },
   {
    "duration": 1495,
    "start_time": "2021-12-25T18:46:44.145Z"
   },
   {
    "duration": 176,
    "start_time": "2021-12-25T18:46:45.642Z"
   },
   {
    "duration": 164,
    "start_time": "2021-12-25T18:46:45.821Z"
   },
   {
    "duration": 167,
    "start_time": "2021-12-25T18:46:45.987Z"
   },
   {
    "duration": 4,
    "start_time": "2021-12-25T18:46:46.157Z"
   },
   {
    "duration": 7,
    "start_time": "2021-12-25T18:46:46.164Z"
   },
   {
    "duration": 218,
    "start_time": "2021-12-25T18:46:46.173Z"
   },
   {
    "duration": 71,
    "start_time": "2021-12-25T18:46:46.393Z"
   },
   {
    "duration": 161,
    "start_time": "2021-12-25T18:46:46.466Z"
   },
   {
    "duration": 118,
    "start_time": "2021-12-25T18:46:46.629Z"
   },
   {
    "duration": 33,
    "start_time": "2021-12-25T18:46:46.750Z"
   },
   {
    "duration": 44,
    "start_time": "2021-12-25T18:46:46.785Z"
   },
   {
    "duration": 613,
    "start_time": "2021-12-25T18:46:46.831Z"
   },
   {
    "duration": 166,
    "start_time": "2021-12-25T18:46:47.447Z"
   },
   {
    "duration": 5,
    "start_time": "2021-12-25T18:46:47.617Z"
   },
   {
    "duration": 7,
    "start_time": "2021-12-25T18:46:47.624Z"
   },
   {
    "duration": 4845,
    "start_time": "2021-12-25T18:46:47.633Z"
   },
   {
    "duration": 450,
    "start_time": "2021-12-25T18:46:52.480Z"
   },
   {
    "duration": 14,
    "start_time": "2021-12-25T18:46:52.933Z"
   },
   {
    "duration": 131,
    "start_time": "2021-12-25T18:46:52.951Z"
   },
   {
    "duration": 519,
    "start_time": "2021-12-25T18:46:53.085Z"
   },
   {
    "duration": 17,
    "start_time": "2021-12-25T18:46:53.606Z"
   },
   {
    "duration": 111,
    "start_time": "2021-12-25T18:46:53.625Z"
   },
   {
    "duration": 100,
    "start_time": "2021-12-25T18:46:53.738Z"
   },
   {
    "duration": 15,
    "start_time": "2021-12-25T18:46:53.841Z"
   },
   {
    "duration": 191,
    "start_time": "2021-12-25T18:46:53.858Z"
   },
   {
    "duration": 206,
    "start_time": "2021-12-25T18:46:54.051Z"
   },
   {
    "duration": 34,
    "start_time": "2021-12-25T18:46:54.259Z"
   },
   {
    "duration": 8065,
    "start_time": "2021-12-25T18:46:54.295Z"
   },
   {
    "duration": 26,
    "start_time": "2021-12-25T18:47:02.363Z"
   },
   {
    "duration": 173,
    "start_time": "2021-12-25T18:47:02.391Z"
   },
   {
    "duration": 4,
    "start_time": "2021-12-25T18:47:02.567Z"
   },
   {
    "duration": 10,
    "start_time": "2021-12-25T18:47:02.573Z"
   },
   {
    "duration": 1507,
    "start_time": "2021-12-25T18:47:02.585Z"
   },
   {
    "duration": 226,
    "start_time": "2021-12-25T18:47:04.094Z"
   },
   {
    "duration": 1171,
    "start_time": "2021-12-25T18:47:04.323Z"
   },
   {
    "duration": 6,
    "start_time": "2021-12-25T18:47:05.497Z"
   },
   {
    "duration": 6,
    "start_time": "2021-12-25T18:47:05.518Z"
   },
   {
    "duration": 42051,
    "start_time": "2021-12-25T18:47:05.526Z"
   },
   {
    "duration": 100,
    "start_time": "2021-12-25T18:47:47.579Z"
   },
   {
    "duration": 48388,
    "start_time": "2021-12-25T18:46:59.293Z"
   },
   {
    "duration": 48387,
    "start_time": "2021-12-25T18:46:59.296Z"
   },
   {
    "duration": 48386,
    "start_time": "2021-12-25T18:46:59.298Z"
   },
   {
    "duration": 165409,
    "start_time": "2021-12-25T18:47:59.604Z"
   },
   {
    "duration": 162980,
    "start_time": "2021-12-25T18:51:21.807Z"
   },
   {
    "duration": 5,
    "start_time": "2021-12-25T18:55:50.329Z"
   },
   {
    "duration": 162976,
    "start_time": "2021-12-25T18:56:10.425Z"
   },
   {
    "duration": 167375,
    "start_time": "2021-12-25T18:59:46.130Z"
   },
   {
    "duration": 257069,
    "start_time": "2021-12-25T19:03:18.863Z"
   },
   {
    "duration": 29105,
    "start_time": "2021-12-25T19:15:15.320Z"
   },
   {
    "duration": 402,
    "start_time": "2021-12-25T19:15:44.428Z"
   },
   {
    "duration": 4,
    "start_time": "2021-12-25T19:25:06.214Z"
   },
   {
    "duration": 6,
    "start_time": "2021-12-25T19:25:35.863Z"
   },
   {
    "duration": 4,
    "start_time": "2021-12-25T19:26:29.579Z"
   },
   {
    "duration": 2177,
    "start_time": "2021-12-25T19:27:15.300Z"
   },
   {
    "duration": 4269,
    "start_time": "2021-12-25T19:27:38.461Z"
   },
   {
    "duration": 1611,
    "start_time": "2021-12-25T19:32:29.390Z"
   },
   {
    "duration": 12,
    "start_time": "2021-12-25T19:32:31.005Z"
   },
   {
    "duration": 1173,
    "start_time": "2021-12-25T19:32:31.021Z"
   },
   {
    "duration": 177,
    "start_time": "2021-12-25T19:32:32.197Z"
   },
   {
    "duration": 163,
    "start_time": "2021-12-25T19:32:32.376Z"
   },
   {
    "duration": 171,
    "start_time": "2021-12-25T19:32:32.542Z"
   },
   {
    "duration": 5,
    "start_time": "2021-12-25T19:32:32.717Z"
   },
   {
    "duration": 9,
    "start_time": "2021-12-25T19:32:32.724Z"
   },
   {
    "duration": 218,
    "start_time": "2021-12-25T19:32:32.737Z"
   },
   {
    "duration": 79,
    "start_time": "2021-12-25T19:32:32.958Z"
   },
   {
    "duration": 159,
    "start_time": "2021-12-25T19:32:33.039Z"
   },
   {
    "duration": 118,
    "start_time": "2021-12-25T19:32:33.200Z"
   },
   {
    "duration": 33,
    "start_time": "2021-12-25T19:32:33.321Z"
   },
   {
    "duration": 28,
    "start_time": "2021-12-25T19:32:33.356Z"
   },
   {
    "duration": 548,
    "start_time": "2021-12-25T19:32:33.386Z"
   },
   {
    "duration": 169,
    "start_time": "2021-12-25T19:32:33.937Z"
   },
   {
    "duration": 8,
    "start_time": "2021-12-25T19:32:34.109Z"
   },
   {
    "duration": 8,
    "start_time": "2021-12-25T19:32:34.120Z"
   },
   {
    "duration": 4845,
    "start_time": "2021-12-25T19:32:34.131Z"
   },
   {
    "duration": 445,
    "start_time": "2021-12-25T19:32:38.979Z"
   },
   {
    "duration": 15,
    "start_time": "2021-12-25T19:32:39.426Z"
   },
   {
    "duration": 132,
    "start_time": "2021-12-25T19:32:39.443Z"
   },
   {
    "duration": 426,
    "start_time": "2021-12-25T19:32:39.577Z"
   },
   {
    "duration": 17,
    "start_time": "2021-12-25T19:32:40.005Z"
   },
   {
    "duration": 107,
    "start_time": "2021-12-25T19:32:40.024Z"
   },
   {
    "duration": 101,
    "start_time": "2021-12-25T19:32:40.134Z"
   },
   {
    "duration": 15,
    "start_time": "2021-12-25T19:32:40.240Z"
   },
   {
    "duration": 183,
    "start_time": "2021-12-25T19:32:40.257Z"
   },
   {
    "duration": 208,
    "start_time": "2021-12-25T19:32:40.442Z"
   },
   {
    "duration": 34,
    "start_time": "2021-12-25T19:32:40.653Z"
   },
   {
    "duration": 8036,
    "start_time": "2021-12-25T19:32:40.689Z"
   },
   {
    "duration": 27,
    "start_time": "2021-12-25T19:32:48.727Z"
   },
   {
    "duration": 170,
    "start_time": "2021-12-25T19:32:48.756Z"
   },
   {
    "duration": 5,
    "start_time": "2021-12-25T19:32:48.928Z"
   },
   {
    "duration": 8,
    "start_time": "2021-12-25T19:32:48.936Z"
   },
   {
    "duration": 488,
    "start_time": "2021-12-25T19:33:54.173Z"
   },
   {
    "duration": 1527,
    "start_time": "2021-12-25T19:34:24.866Z"
   },
   {
    "duration": 5,
    "start_time": "2021-12-25T19:34:26.396Z"
   },
   {
    "duration": 1168,
    "start_time": "2021-12-25T19:34:26.405Z"
   },
   {
    "duration": 178,
    "start_time": "2021-12-25T19:34:27.576Z"
   },
   {
    "duration": 169,
    "start_time": "2021-12-25T19:34:27.757Z"
   },
   {
    "duration": 167,
    "start_time": "2021-12-25T19:34:27.929Z"
   },
   {
    "duration": 18,
    "start_time": "2021-12-25T19:34:28.099Z"
   },
   {
    "duration": 6,
    "start_time": "2021-12-25T19:34:28.120Z"
   },
   {
    "duration": 219,
    "start_time": "2021-12-25T19:34:28.132Z"
   },
   {
    "duration": 80,
    "start_time": "2021-12-25T19:34:28.355Z"
   },
   {
    "duration": 163,
    "start_time": "2021-12-25T19:34:28.438Z"
   },
   {
    "duration": 115,
    "start_time": "2021-12-25T19:34:28.603Z"
   },
   {
    "duration": 33,
    "start_time": "2021-12-25T19:34:28.721Z"
   },
   {
    "duration": 27,
    "start_time": "2021-12-25T19:34:28.756Z"
   },
   {
    "duration": 504,
    "start_time": "2021-12-25T19:34:28.817Z"
   },
   {
    "duration": 164,
    "start_time": "2021-12-25T19:34:29.324Z"
   },
   {
    "duration": 5,
    "start_time": "2021-12-25T19:34:29.491Z"
   },
   {
    "duration": 23,
    "start_time": "2021-12-25T19:34:29.498Z"
   },
   {
    "duration": 4974,
    "start_time": "2021-12-25T19:34:29.524Z"
   },
   {
    "duration": 468,
    "start_time": "2021-12-25T19:34:34.501Z"
   },
   {
    "duration": 15,
    "start_time": "2021-12-25T19:34:34.972Z"
   },
   {
    "duration": 133,
    "start_time": "2021-12-25T19:34:34.990Z"
   },
   {
    "duration": 429,
    "start_time": "2021-12-25T19:34:35.125Z"
   },
   {
    "duration": 9,
    "start_time": "2021-12-25T19:34:35.557Z"
   },
   {
    "duration": 116,
    "start_time": "2021-12-25T19:34:35.568Z"
   },
   {
    "duration": 110,
    "start_time": "2021-12-25T19:34:35.687Z"
   },
   {
    "duration": 26,
    "start_time": "2021-12-25T19:34:35.804Z"
   },
   {
    "duration": 189,
    "start_time": "2021-12-25T19:34:35.833Z"
   },
   {
    "duration": 200,
    "start_time": "2021-12-25T19:34:36.024Z"
   },
   {
    "duration": 35,
    "start_time": "2021-12-25T19:34:36.226Z"
   },
   {
    "duration": 8586,
    "start_time": "2021-12-25T19:34:36.263Z"
   },
   {
    "duration": 26,
    "start_time": "2021-12-25T19:34:44.851Z"
   },
   {
    "duration": 181,
    "start_time": "2021-12-25T19:34:44.879Z"
   },
   {
    "duration": 9,
    "start_time": "2021-12-25T19:34:45.062Z"
   },
   {
    "duration": 20,
    "start_time": "2021-12-25T19:34:45.074Z"
   },
   {
    "duration": 1465,
    "start_time": "2021-12-25T19:34:45.097Z"
   },
   {
    "duration": 322,
    "start_time": "2021-12-25T19:34:46.564Z"
   },
   {
    "duration": 1132,
    "start_time": "2021-12-25T19:34:46.888Z"
   },
   {
    "duration": 6,
    "start_time": "2021-12-25T19:34:48.023Z"
   },
   {
    "duration": 8,
    "start_time": "2021-12-25T19:34:48.032Z"
   },
   {
    "duration": 35377,
    "start_time": "2021-12-25T19:34:48.043Z"
   },
   {
    "duration": 92,
    "start_time": "2021-12-25T19:35:23.424Z"
   },
   {
    "duration": 7,
    "start_time": "2021-12-25T19:35:23.518Z"
   },
   {
    "duration": 1611,
    "start_time": "2021-12-25T19:36:26.474Z"
   },
   {
    "duration": 3,
    "start_time": "2021-12-25T19:36:28.088Z"
   },
   {
    "duration": 1150,
    "start_time": "2021-12-25T19:36:28.094Z"
   },
   {
    "duration": 179,
    "start_time": "2021-12-25T19:36:29.247Z"
   },
   {
    "duration": 165,
    "start_time": "2021-12-25T19:36:29.429Z"
   },
   {
    "duration": 176,
    "start_time": "2021-12-25T19:36:29.596Z"
   },
   {
    "duration": 4,
    "start_time": "2021-12-25T19:36:29.774Z"
   },
   {
    "duration": 5,
    "start_time": "2021-12-25T19:36:29.782Z"
   },
   {
    "duration": 234,
    "start_time": "2021-12-25T19:36:29.790Z"
   },
   {
    "duration": 72,
    "start_time": "2021-12-25T19:36:30.027Z"
   },
   {
    "duration": 176,
    "start_time": "2021-12-25T19:36:30.101Z"
   },
   {
    "duration": 119,
    "start_time": "2021-12-25T19:36:30.279Z"
   },
   {
    "duration": 42,
    "start_time": "2021-12-25T19:36:30.401Z"
   },
   {
    "duration": 56,
    "start_time": "2021-12-25T19:36:30.445Z"
   },
   {
    "duration": 554,
    "start_time": "2021-12-25T19:36:30.503Z"
   },
   {
    "duration": 165,
    "start_time": "2021-12-25T19:36:31.060Z"
   },
   {
    "duration": 4,
    "start_time": "2021-12-25T19:36:31.227Z"
   },
   {
    "duration": 9,
    "start_time": "2021-12-25T19:36:31.233Z"
   },
   {
    "duration": 4962,
    "start_time": "2021-12-25T19:36:31.244Z"
   },
   {
    "duration": 548,
    "start_time": "2021-12-25T19:36:36.218Z"
   },
   {
    "duration": 15,
    "start_time": "2021-12-25T19:36:36.768Z"
   },
   {
    "duration": 132,
    "start_time": "2021-12-25T19:36:36.785Z"
   },
   {
    "duration": 434,
    "start_time": "2021-12-25T19:36:36.921Z"
   },
   {
    "duration": 8,
    "start_time": "2021-12-25T19:36:37.358Z"
   },
   {
    "duration": 112,
    "start_time": "2021-12-25T19:36:37.368Z"
   },
   {
    "duration": 101,
    "start_time": "2021-12-25T19:36:37.483Z"
   },
   {
    "duration": 32,
    "start_time": "2021-12-25T19:36:37.587Z"
   },
   {
    "duration": 187,
    "start_time": "2021-12-25T19:36:37.621Z"
   },
   {
    "duration": 215,
    "start_time": "2021-12-25T19:36:37.810Z"
   },
   {
    "duration": 36,
    "start_time": "2021-12-25T19:36:38.028Z"
   },
   {
    "duration": 8681,
    "start_time": "2021-12-25T19:36:38.067Z"
   },
   {
    "duration": 29,
    "start_time": "2021-12-25T19:36:46.751Z"
   },
   {
    "duration": 178,
    "start_time": "2021-12-25T19:36:46.783Z"
   },
   {
    "duration": 5,
    "start_time": "2021-12-25T19:36:46.963Z"
   },
   {
    "duration": 8,
    "start_time": "2021-12-25T19:36:46.971Z"
   },
   {
    "duration": 1460,
    "start_time": "2021-12-25T19:36:46.982Z"
   },
   {
    "duration": 224,
    "start_time": "2021-12-25T19:36:48.446Z"
   },
   {
    "duration": 1145,
    "start_time": "2021-12-25T19:36:48.672Z"
   },
   {
    "duration": 6,
    "start_time": "2021-12-25T19:36:49.819Z"
   },
   {
    "duration": 6,
    "start_time": "2021-12-25T19:36:49.828Z"
   },
   {
    "duration": 29680,
    "start_time": "2021-12-25T19:36:49.838Z"
   },
   {
    "duration": 5,
    "start_time": "2021-12-25T19:37:19.521Z"
   },
   {
    "duration": 8,
    "start_time": "2021-12-25T19:37:19.528Z"
   },
   {
    "duration": 551,
    "start_time": "2021-12-25T19:37:19.539Z"
   },
   {
    "duration": 6,
    "start_time": "2021-12-25T19:38:07.891Z"
   },
   {
    "duration": 10946,
    "start_time": "2021-12-25T19:38:18.362Z"
   },
   {
    "duration": 6640,
    "start_time": "2021-12-25T19:39:22.487Z"
   },
   {
    "duration": 3584,
    "start_time": "2021-12-25T19:41:12.289Z"
   },
   {
    "duration": 6909,
    "start_time": "2021-12-25T19:41:57.035Z"
   },
   {
    "duration": 6996,
    "start_time": "2021-12-25T19:42:23.285Z"
   },
   {
    "duration": 7266,
    "start_time": "2021-12-25T19:42:55.986Z"
   },
   {
    "duration": 4,
    "start_time": "2021-12-25T19:43:22.746Z"
   },
   {
    "duration": 4,
    "start_time": "2021-12-25T19:43:24.395Z"
   },
   {
    "duration": 6724,
    "start_time": "2021-12-25T19:43:28.611Z"
   },
   {
    "duration": 6547,
    "start_time": "2021-12-25T19:45:34.388Z"
   },
   {
    "duration": 4,
    "start_time": "2021-12-25T19:45:47.528Z"
   },
   {
    "duration": 4,
    "start_time": "2021-12-25T19:45:47.725Z"
   },
   {
    "duration": 43139,
    "start_time": "2021-12-25T19:47:26.680Z"
   },
   {
    "duration": 6765,
    "start_time": "2021-12-25T19:50:59.473Z"
   },
   {
    "duration": 6784,
    "start_time": "2021-12-25T19:51:19.663Z"
   },
   {
    "duration": 7001,
    "start_time": "2021-12-25T19:51:34.469Z"
   },
   {
    "duration": 44128,
    "start_time": "2021-12-25T19:52:03.754Z"
   },
   {
    "duration": 44231,
    "start_time": "2021-12-25T19:53:39.601Z"
   },
   {
    "duration": 44621,
    "start_time": "2021-12-25T19:55:42.213Z"
   },
   {
    "duration": 45185,
    "start_time": "2021-12-25T19:57:10.115Z"
   },
   {
    "duration": 6695,
    "start_time": "2021-12-25T19:58:38.345Z"
   },
   {
    "duration": 45113,
    "start_time": "2021-12-25T19:58:45.043Z"
   },
   {
    "duration": 6709,
    "start_time": "2021-12-25T20:00:55.448Z"
   },
   {
    "duration": 6956,
    "start_time": "2021-12-25T20:01:06.818Z"
   },
   {
    "duration": 256924,
    "start_time": "2021-12-25T20:04:05.863Z"
   },
   {
    "duration": 501812,
    "start_time": "2021-12-25T20:09:10.918Z"
   },
   {
    "duration": 4,
    "start_time": "2021-12-25T20:21:07.214Z"
   },
   {
    "duration": 9537,
    "start_time": "2021-12-25T20:21:09.837Z"
   },
   {
    "duration": 4,
    "start_time": "2021-12-25T20:22:31.543Z"
   },
   {
    "duration": 8501,
    "start_time": "2021-12-25T20:22:35.519Z"
   },
   {
    "duration": 119319,
    "start_time": "2021-12-25T20:24:32.731Z"
   },
   {
    "duration": 189101,
    "start_time": "2021-12-25T20:31:27.428Z"
   },
   {
    "duration": 569436,
    "start_time": "2021-12-25T20:35:56.127Z"
   },
   {
    "duration": 510143,
    "start_time": "2021-12-25T20:45:48.081Z"
   },
   {
    "duration": 101,
    "start_time": "2021-12-25T20:55:16.649Z"
   },
   {
    "duration": 76984,
    "start_time": "2021-12-25T20:55:23.145Z"
   },
   {
    "duration": 2280,
    "start_time": "2021-12-26T15:45:11.752Z"
   },
   {
    "duration": 5,
    "start_time": "2021-12-26T15:45:14.036Z"
   },
   {
    "duration": 1737,
    "start_time": "2021-12-26T15:45:14.045Z"
   },
   {
    "duration": 278,
    "start_time": "2021-12-26T15:45:15.786Z"
   },
   {
    "duration": 270,
    "start_time": "2021-12-26T15:45:16.067Z"
   },
   {
    "duration": 276,
    "start_time": "2021-12-26T15:45:16.340Z"
   },
   {
    "duration": 7,
    "start_time": "2021-12-26T15:45:16.620Z"
   },
   {
    "duration": 15,
    "start_time": "2021-12-26T15:45:16.630Z"
   },
   {
    "duration": 226,
    "start_time": "2021-12-26T15:45:16.648Z"
   },
   {
    "duration": 87,
    "start_time": "2021-12-26T15:45:16.876Z"
   },
   {
    "duration": 160,
    "start_time": "2021-12-26T15:45:16.966Z"
   },
   {
    "duration": 116,
    "start_time": "2021-12-26T15:45:17.129Z"
   },
   {
    "duration": 45,
    "start_time": "2021-12-26T15:45:17.247Z"
   },
   {
    "duration": 69,
    "start_time": "2021-12-26T15:45:17.295Z"
   },
   {
    "duration": 763,
    "start_time": "2021-12-26T15:45:17.367Z"
   },
   {
    "duration": 237,
    "start_time": "2021-12-26T15:45:18.133Z"
   },
   {
    "duration": 3,
    "start_time": "2021-12-26T15:45:18.373Z"
   },
   {
    "duration": 6,
    "start_time": "2021-12-26T15:45:18.379Z"
   },
   {
    "duration": 4886,
    "start_time": "2021-12-26T15:45:18.389Z"
   },
   {
    "duration": 470,
    "start_time": "2021-12-26T15:45:23.277Z"
   },
   {
    "duration": 26,
    "start_time": "2021-12-26T15:45:23.751Z"
   },
   {
    "duration": 184,
    "start_time": "2021-12-26T15:45:23.781Z"
   },
   {
    "duration": 707,
    "start_time": "2021-12-26T15:45:23.974Z"
   },
   {
    "duration": 11,
    "start_time": "2021-12-26T15:45:24.686Z"
   },
   {
    "duration": 160,
    "start_time": "2021-12-26T15:45:24.700Z"
   },
   {
    "duration": 165,
    "start_time": "2021-12-26T15:45:24.864Z"
   },
   {
    "duration": 45,
    "start_time": "2021-12-26T15:45:25.032Z"
   },
   {
    "duration": 284,
    "start_time": "2021-12-26T15:45:25.080Z"
   },
   {
    "duration": 346,
    "start_time": "2021-12-26T15:45:25.368Z"
   },
   {
    "duration": 80,
    "start_time": "2021-12-26T15:45:25.718Z"
   },
   {
    "duration": 13982,
    "start_time": "2021-12-26T15:45:25.801Z"
   },
   {
    "duration": 38,
    "start_time": "2021-12-26T15:45:39.786Z"
   },
   {
    "duration": 219,
    "start_time": "2021-12-26T15:45:39.827Z"
   },
   {
    "duration": 14,
    "start_time": "2021-12-26T15:45:40.050Z"
   },
   {
    "duration": 6,
    "start_time": "2021-12-26T15:45:40.068Z"
   },
   {
    "duration": 1607,
    "start_time": "2021-12-26T15:45:40.078Z"
   },
   {
    "duration": 234,
    "start_time": "2021-12-26T15:45:41.688Z"
   },
   {
    "duration": 1251,
    "start_time": "2021-12-26T15:45:41.924Z"
   },
   {
    "duration": 4,
    "start_time": "2021-12-26T15:45:43.178Z"
   },
   {
    "duration": 7,
    "start_time": "2021-12-26T15:45:43.184Z"
   },
   {
    "duration": 45222,
    "start_time": "2021-12-26T15:45:43.194Z"
   },
   {
    "duration": 59848,
    "start_time": "2021-12-26T15:45:28.571Z"
   },
   {
    "duration": 59847,
    "start_time": "2021-12-26T15:45:28.574Z"
   },
   {
    "duration": 59846,
    "start_time": "2021-12-26T15:45:28.577Z"
   },
   {
    "duration": 59813,
    "start_time": "2021-12-26T15:45:28.612Z"
   },
   {
    "duration": 59810,
    "start_time": "2021-12-26T15:45:28.616Z"
   },
   {
    "duration": 59809,
    "start_time": "2021-12-26T15:45:28.619Z"
   },
   {
    "duration": 59805,
    "start_time": "2021-12-26T15:45:28.625Z"
   },
   {
    "duration": 59805,
    "start_time": "2021-12-26T15:45:28.627Z"
   },
   {
    "duration": 59804,
    "start_time": "2021-12-26T15:45:28.629Z"
   },
   {
    "duration": 2271,
    "start_time": "2021-12-26T15:50:25.925Z"
   },
   {
    "duration": 5,
    "start_time": "2021-12-26T15:50:28.201Z"
   },
   {
    "duration": 1306,
    "start_time": "2021-12-26T15:50:28.213Z"
   },
   {
    "duration": 194,
    "start_time": "2021-12-26T15:50:29.522Z"
   },
   {
    "duration": 180,
    "start_time": "2021-12-26T15:50:29.719Z"
   },
   {
    "duration": 173,
    "start_time": "2021-12-26T15:50:29.901Z"
   },
   {
    "duration": 3,
    "start_time": "2021-12-26T15:50:30.078Z"
   },
   {
    "duration": 6,
    "start_time": "2021-12-26T15:50:30.085Z"
   },
   {
    "duration": 237,
    "start_time": "2021-12-26T15:50:30.093Z"
   },
   {
    "duration": 81,
    "start_time": "2021-12-26T15:50:30.333Z"
   },
   {
    "duration": 159,
    "start_time": "2021-12-26T15:50:30.417Z"
   },
   {
    "duration": 122,
    "start_time": "2021-12-26T15:50:30.579Z"
   },
   {
    "duration": 38,
    "start_time": "2021-12-26T15:50:30.703Z"
   },
   {
    "duration": 43,
    "start_time": "2021-12-26T15:50:30.764Z"
   },
   {
    "duration": 842,
    "start_time": "2021-12-26T15:50:30.811Z"
   },
   {
    "duration": 242,
    "start_time": "2021-12-26T15:50:31.664Z"
   },
   {
    "duration": 5,
    "start_time": "2021-12-26T15:50:31.909Z"
   },
   {
    "duration": 9,
    "start_time": "2021-12-26T15:50:31.917Z"
   },
   {
    "duration": 4933,
    "start_time": "2021-12-26T15:50:31.930Z"
   },
   {
    "duration": 471,
    "start_time": "2021-12-26T15:50:36.865Z"
   },
   {
    "duration": 28,
    "start_time": "2021-12-26T15:50:37.338Z"
   },
   {
    "duration": 137,
    "start_time": "2021-12-26T15:50:37.372Z"
   },
   {
    "duration": 422,
    "start_time": "2021-12-26T15:50:37.512Z"
   },
   {
    "duration": 8,
    "start_time": "2021-12-26T15:50:37.936Z"
   },
   {
    "duration": 101,
    "start_time": "2021-12-26T15:50:37.964Z"
   },
   {
    "duration": 104,
    "start_time": "2021-12-26T15:50:38.068Z"
   },
   {
    "duration": 16,
    "start_time": "2021-12-26T15:50:38.175Z"
   },
   {
    "duration": 193,
    "start_time": "2021-12-26T15:50:38.194Z"
   },
   {
    "duration": 221,
    "start_time": "2021-12-26T15:50:38.390Z"
   },
   {
    "duration": 72,
    "start_time": "2021-12-26T15:50:38.615Z"
   },
   {
    "duration": 13905,
    "start_time": "2021-12-26T15:50:38.690Z"
   },
   {
    "duration": 40,
    "start_time": "2021-12-26T15:50:52.598Z"
   },
   {
    "duration": 225,
    "start_time": "2021-12-26T15:50:52.641Z"
   },
   {
    "duration": 95,
    "start_time": "2021-12-26T15:50:52.869Z"
   },
   {
    "duration": 6,
    "start_time": "2021-12-26T15:50:52.968Z"
   },
   {
    "duration": 6,
    "start_time": "2021-12-26T15:50:52.977Z"
   },
   {
    "duration": 1680,
    "start_time": "2021-12-26T15:50:52.986Z"
   },
   {
    "duration": 298,
    "start_time": "2021-12-26T15:50:54.669Z"
   },
   {
    "duration": 1302,
    "start_time": "2021-12-26T15:50:54.970Z"
   },
   {
    "duration": 361,
    "start_time": "2021-12-26T15:50:56.275Z"
   },
   {
    "duration": 5,
    "start_time": "2021-12-26T15:50:56.638Z"
   },
   {
    "duration": 18,
    "start_time": "2021-12-26T15:50:56.645Z"
   },
   {
    "duration": 45789,
    "start_time": "2021-12-26T15:50:56.666Z"
   },
   {
    "duration": 155894,
    "start_time": "2021-12-26T15:51:42.463Z"
   },
   {
    "duration": 262634,
    "start_time": "2021-12-26T15:54:18.363Z"
   },
   {
    "duration": 30071,
    "start_time": "2021-12-26T15:58:41.000Z"
   },
   {
    "duration": 5,
    "start_time": "2021-12-26T15:59:11.075Z"
   },
   {
    "duration": 6,
    "start_time": "2021-12-26T15:59:11.084Z"
   },
   {
    "duration": 6217,
    "start_time": "2021-12-26T15:59:11.093Z"
   },
   {
    "duration": 549264,
    "start_time": "2021-12-26T15:59:17.313Z"
   },
   {
    "duration": 352622,
    "start_time": "2021-12-26T16:08:26.580Z"
   },
   {
    "duration": 66987,
    "start_time": "2021-12-26T16:14:19.205Z"
   },
   {
    "duration": 99,
    "start_time": "2021-12-26T16:15:44.604Z"
   },
   {
    "duration": 74989,
    "start_time": "2021-12-26T16:16:05.486Z"
   },
   {
    "duration": 297178,
    "start_time": "2021-12-26T16:17:44.217Z"
   },
   {
    "duration": 452222,
    "start_time": "2021-12-26T16:26:43.163Z"
   },
   {
    "duration": 32,
    "start_time": "2021-12-26T16:39:59.097Z"
   },
   {
    "duration": 611,
    "start_time": "2021-12-26T17:03:57.398Z"
   },
   {
    "duration": 359,
    "start_time": "2021-12-26T17:06:04.306Z"
   },
   {
    "duration": 479,
    "start_time": "2021-12-26T17:06:47.767Z"
   },
   {
    "duration": 299,
    "start_time": "2021-12-26T17:09:29.051Z"
   },
   {
    "duration": 330,
    "start_time": "2021-12-26T17:09:50.399Z"
   },
   {
    "duration": 312,
    "start_time": "2021-12-26T17:10:49.365Z"
   },
   {
    "duration": 4,
    "start_time": "2021-12-26T17:12:08.087Z"
   },
   {
    "duration": 4,
    "start_time": "2021-12-26T17:12:15.287Z"
   },
   {
    "duration": 339,
    "start_time": "2021-12-26T17:12:30.348Z"
   },
   {
    "duration": 63603,
    "start_time": "2021-12-26T17:13:24.951Z"
   },
   {
    "duration": 46750,
    "start_time": "2021-12-26T17:14:37.432Z"
   },
   {
    "duration": 2989,
    "start_time": "2021-12-26T17:19:48.243Z"
   },
   {
    "duration": 734,
    "start_time": "2021-12-26T17:22:30.636Z"
   },
   {
    "duration": 2689,
    "start_time": "2021-12-26T17:22:47.571Z"
   },
   {
    "duration": 47460,
    "start_time": "2021-12-26T17:23:08.526Z"
   },
   {
    "duration": 2997,
    "start_time": "2021-12-26T17:24:22.544Z"
   },
   {
    "duration": 755,
    "start_time": "2021-12-26T17:25:57.595Z"
   },
   {
    "duration": 1582,
    "start_time": "2021-12-26T17:29:23.275Z"
   },
   {
    "duration": 4,
    "start_time": "2021-12-26T17:29:24.860Z"
   },
   {
    "duration": 1182,
    "start_time": "2021-12-26T17:29:24.867Z"
   },
   {
    "duration": 190,
    "start_time": "2021-12-26T17:29:26.053Z"
   },
   {
    "duration": 188,
    "start_time": "2021-12-26T17:29:26.246Z"
   },
   {
    "duration": 189,
    "start_time": "2021-12-26T17:29:26.436Z"
   },
   {
    "duration": 5,
    "start_time": "2021-12-26T17:29:26.628Z"
   },
   {
    "duration": 31,
    "start_time": "2021-12-26T17:29:26.638Z"
   },
   {
    "duration": 237,
    "start_time": "2021-12-26T17:29:26.673Z"
   },
   {
    "duration": 78,
    "start_time": "2021-12-26T17:29:26.913Z"
   },
   {
    "duration": 168,
    "start_time": "2021-12-26T17:29:26.994Z"
   },
   {
    "duration": 120,
    "start_time": "2021-12-26T17:29:27.165Z"
   },
   {
    "duration": 32,
    "start_time": "2021-12-26T17:29:27.288Z"
   },
   {
    "duration": 48,
    "start_time": "2021-12-26T17:29:27.323Z"
   },
   {
    "duration": 553,
    "start_time": "2021-12-26T17:29:27.374Z"
   },
   {
    "duration": 175,
    "start_time": "2021-12-26T17:29:27.930Z"
   },
   {
    "duration": 3,
    "start_time": "2021-12-26T17:29:28.108Z"
   },
   {
    "duration": 5,
    "start_time": "2021-12-26T17:29:28.114Z"
   },
   {
    "duration": 5229,
    "start_time": "2021-12-26T17:29:28.123Z"
   },
   {
    "duration": 470,
    "start_time": "2021-12-26T17:29:33.364Z"
   },
   {
    "duration": 32,
    "start_time": "2021-12-26T17:29:33.837Z"
   },
   {
    "duration": 127,
    "start_time": "2021-12-26T17:29:33.872Z"
   },
   {
    "duration": 545,
    "start_time": "2021-12-26T17:29:34.005Z"
   },
   {
    "duration": 22,
    "start_time": "2021-12-26T17:29:34.554Z"
   },
   {
    "duration": 125,
    "start_time": "2021-12-26T17:29:34.581Z"
   },
   {
    "duration": 173,
    "start_time": "2021-12-26T17:29:34.709Z"
   },
   {
    "duration": 21,
    "start_time": "2021-12-26T17:29:34.885Z"
   },
   {
    "duration": 202,
    "start_time": "2021-12-26T17:29:34.909Z"
   },
   {
    "duration": 221,
    "start_time": "2021-12-26T17:29:35.114Z"
   },
   {
    "duration": 46,
    "start_time": "2021-12-26T17:29:35.338Z"
   },
   {
    "duration": 9154,
    "start_time": "2021-12-26T17:29:35.387Z"
   },
   {
    "duration": 35,
    "start_time": "2021-12-26T17:29:44.545Z"
   },
   {
    "duration": 197,
    "start_time": "2021-12-26T17:29:44.586Z"
   },
   {
    "duration": 83,
    "start_time": "2021-12-26T17:29:44.785Z"
   },
   {
    "duration": 8,
    "start_time": "2021-12-26T17:29:44.871Z"
   },
   {
    "duration": 15,
    "start_time": "2021-12-26T17:29:44.882Z"
   },
   {
    "duration": 1468,
    "start_time": "2021-12-26T17:29:44.900Z"
   },
   {
    "duration": 261,
    "start_time": "2021-12-26T17:29:46.371Z"
   },
   {
    "duration": 1854,
    "start_time": "2021-12-26T17:29:46.635Z"
   },
   {
    "duration": 559,
    "start_time": "2021-12-26T17:29:48.492Z"
   },
   {
    "duration": 16,
    "start_time": "2021-12-26T17:29:49.054Z"
   },
   {
    "duration": 7,
    "start_time": "2021-12-26T17:29:49.074Z"
   },
   {
    "duration": 38157,
    "start_time": "2021-12-26T17:29:49.084Z"
   },
   {
    "duration": 145867,
    "start_time": "2021-12-26T17:30:27.243Z"
   },
   {
    "duration": 1093787,
    "start_time": "2021-12-26T17:32:53.113Z"
   },
   {
    "duration": 59635,
    "start_time": "2021-12-26T17:50:07.268Z"
   },
   {
    "duration": 59634,
    "start_time": "2021-12-26T17:50:07.270Z"
   },
   {
    "duration": 59630,
    "start_time": "2021-12-26T17:50:07.276Z"
   },
   {
    "duration": 59629,
    "start_time": "2021-12-26T17:50:07.278Z"
   },
   {
    "duration": 59629,
    "start_time": "2021-12-26T17:50:07.280Z"
   },
   {
    "duration": 59629,
    "start_time": "2021-12-26T17:50:07.282Z"
   },
   {
    "duration": 59627,
    "start_time": "2021-12-26T17:50:07.285Z"
   },
   {
    "duration": 59626,
    "start_time": "2021-12-26T17:50:07.287Z"
   },
   {
    "duration": 59624,
    "start_time": "2021-12-26T17:50:07.290Z"
   },
   {
    "duration": 226457,
    "start_time": "2021-12-26T17:51:33.252Z"
   },
   {
    "duration": 32964,
    "start_time": "2021-12-26T17:55:19.713Z"
   },
   {
    "duration": 7,
    "start_time": "2021-12-26T17:55:52.683Z"
   },
   {
    "duration": 9,
    "start_time": "2021-12-26T17:55:52.772Z"
   },
   {
    "duration": 6225,
    "start_time": "2021-12-26T17:55:52.785Z"
   },
   {
    "duration": 997589,
    "start_time": "2021-12-26T17:55:59.014Z"
   },
   {
    "duration": 134998,
    "start_time": "2021-12-26T18:12:36.606Z"
   },
   {
    "duration": 5,
    "start_time": "2021-12-26T18:14:51.608Z"
   },
   {
    "duration": 1085,
    "start_time": "2021-12-26T18:18:29.381Z"
   },
   {
    "duration": 1642,
    "start_time": "2021-12-26T18:18:38.784Z"
   },
   {
    "duration": 1631,
    "start_time": "2021-12-26T18:18:47.034Z"
   },
   {
    "duration": 93,
    "start_time": "2021-12-26T18:19:21.910Z"
   },
   {
    "duration": 91,
    "start_time": "2021-12-26T18:19:26.815Z"
   },
   {
    "duration": 51,
    "start_time": "2021-12-26T18:19:29.996Z"
   },
   {
    "duration": 1682,
    "start_time": "2021-12-26T18:21:48.057Z"
   },
   {
    "duration": 12,
    "start_time": "2021-12-26T18:35:00.317Z"
   },
   {
    "duration": 38,
    "start_time": "2021-12-26T18:35:06.654Z"
   },
   {
    "duration": 309,
    "start_time": "2021-12-26T18:43:22.352Z"
   },
   {
    "duration": 2187,
    "start_time": "2021-12-26T18:44:15.417Z"
   },
   {
    "duration": 5,
    "start_time": "2021-12-26T18:44:17.608Z"
   },
   {
    "duration": 1689,
    "start_time": "2021-12-26T18:44:17.622Z"
   },
   {
    "duration": 166,
    "start_time": "2021-12-26T18:44:19.313Z"
   },
   {
    "duration": 169,
    "start_time": "2021-12-26T18:44:19.482Z"
   },
   {
    "duration": 157,
    "start_time": "2021-12-26T18:44:19.662Z"
   },
   {
    "duration": 3,
    "start_time": "2021-12-26T18:44:19.823Z"
   },
   {
    "duration": 4,
    "start_time": "2021-12-26T18:44:19.829Z"
   },
   {
    "duration": 343,
    "start_time": "2021-12-26T18:44:19.835Z"
   },
   {
    "duration": 169,
    "start_time": "2021-12-26T18:44:20.181Z"
   },
   {
    "duration": 116,
    "start_time": "2021-12-26T18:44:20.353Z"
   },
   {
    "duration": 33,
    "start_time": "2021-12-26T18:44:20.471Z"
   },
   {
    "duration": 25,
    "start_time": "2021-12-26T18:44:20.507Z"
   },
   {
    "duration": 542,
    "start_time": "2021-12-26T18:44:20.562Z"
   },
   {
    "duration": 167,
    "start_time": "2021-12-26T18:44:21.106Z"
   },
   {
    "duration": 3,
    "start_time": "2021-12-26T18:44:21.275Z"
   },
   {
    "duration": 8,
    "start_time": "2021-12-26T18:44:21.281Z"
   },
   {
    "duration": 5359,
    "start_time": "2021-12-26T18:44:21.292Z"
   },
   {
    "duration": 1153,
    "start_time": "2021-12-26T18:44:26.662Z"
   },
   {
    "duration": 14,
    "start_time": "2021-12-26T18:44:27.818Z"
   },
   {
    "duration": 140,
    "start_time": "2021-12-26T18:44:27.834Z"
   },
   {
    "duration": 1118,
    "start_time": "2021-12-26T18:44:27.979Z"
   },
   {
    "duration": 39,
    "start_time": "2021-12-26T18:44:29.102Z"
   },
   {
    "duration": 9,
    "start_time": "2021-12-26T18:44:29.166Z"
   },
   {
    "duration": 113,
    "start_time": "2021-12-26T18:44:29.178Z"
   },
   {
    "duration": 106,
    "start_time": "2021-12-26T18:44:29.295Z"
   },
   {
    "duration": 16,
    "start_time": "2021-12-26T18:44:29.403Z"
   },
   {
    "duration": 202,
    "start_time": "2021-12-26T18:44:29.422Z"
   },
   {
    "duration": 215,
    "start_time": "2021-12-26T18:44:29.627Z"
   },
   {
    "duration": 44,
    "start_time": "2021-12-26T18:44:29.846Z"
   },
   {
    "duration": 9473,
    "start_time": "2021-12-26T18:44:29.893Z"
   },
   {
    "duration": 30,
    "start_time": "2021-12-26T18:44:39.368Z"
   },
   {
    "duration": 183,
    "start_time": "2021-12-26T18:44:39.400Z"
   },
   {
    "duration": 78,
    "start_time": "2021-12-26T18:44:39.585Z"
   },
   {
    "duration": 6,
    "start_time": "2021-12-26T18:44:39.665Z"
   },
   {
    "duration": 5,
    "start_time": "2021-12-26T18:44:39.673Z"
   },
   {
    "duration": 1454,
    "start_time": "2021-12-26T18:44:39.680Z"
   },
   {
    "duration": 232,
    "start_time": "2021-12-26T18:44:41.137Z"
   },
   {
    "duration": 1154,
    "start_time": "2021-12-26T18:44:41.371Z"
   },
   {
    "duration": 355,
    "start_time": "2021-12-26T18:44:42.528Z"
   },
   {
    "duration": 5,
    "start_time": "2021-12-26T18:44:42.886Z"
   },
   {
    "duration": 5,
    "start_time": "2021-12-26T18:44:42.895Z"
   },
   {
    "duration": 29461,
    "start_time": "2021-12-26T18:44:42.903Z"
   },
   {
    "duration": 4,
    "start_time": "2021-12-26T18:45:12.367Z"
   },
   {
    "duration": 5,
    "start_time": "2021-12-26T18:45:12.374Z"
   },
   {
    "duration": 48506,
    "start_time": "2021-12-26T18:45:12.381Z"
   },
   {
    "duration": 398,
    "start_time": "2021-12-26T18:46:00.890Z"
   },
   {
    "duration": 325,
    "start_time": "2021-12-26T18:46:54.125Z"
   },
   {
    "duration": 1098895,
    "start_time": "2021-12-26T18:47:21.214Z"
   },
   {
    "duration": 704773,
    "start_time": "2021-12-26T19:06:06.907Z"
   },
   {
    "duration": 24793,
    "start_time": "2021-12-26T19:38:22.477Z"
   },
   {
    "duration": 235,
    "start_time": "2021-12-26T19:38:57.472Z"
   },
   {
    "duration": 3,
    "start_time": "2021-12-26T19:39:42.661Z"
   },
   {
    "duration": 234,
    "start_time": "2021-12-26T19:39:48.143Z"
   },
   {
    "duration": 4,
    "start_time": "2021-12-26T19:40:17.798Z"
   },
   {
    "duration": 12,
    "start_time": "2021-12-26T19:40:19.178Z"
   },
   {
    "duration": 398,
    "start_time": "2021-12-26T19:44:44.643Z"
   },
   {
    "duration": 244,
    "start_time": "2021-12-26T19:45:28.759Z"
   },
   {
    "duration": 7,
    "start_time": "2021-12-26T19:45:34.683Z"
   },
   {
    "duration": 665,
    "start_time": "2021-12-26T19:45:38.808Z"
   },
   {
    "duration": 10,
    "start_time": "2021-12-26T19:45:50.929Z"
   },
   {
    "duration": 10,
    "start_time": "2021-12-26T19:46:01.556Z"
   },
   {
    "duration": 376,
    "start_time": "2021-12-26T19:46:13.609Z"
   },
   {
    "duration": 387,
    "start_time": "2021-12-26T19:46:44.196Z"
   },
   {
    "duration": 391,
    "start_time": "2021-12-26T19:47:33.292Z"
   },
   {
    "duration": 433,
    "start_time": "2021-12-26T19:48:08.797Z"
   },
   {
    "duration": 885,
    "start_time": "2021-12-26T19:49:47.981Z"
   },
   {
    "duration": 788,
    "start_time": "2021-12-26T19:50:04.231Z"
   },
   {
    "duration": 277,
    "start_time": "2021-12-26T19:54:09.973Z"
   },
   {
    "duration": 524,
    "start_time": "2021-12-26T19:54:15.988Z"
   },
   {
    "duration": 402,
    "start_time": "2021-12-26T19:54:21.267Z"
   },
   {
    "duration": 13,
    "start_time": "2021-12-26T19:55:06.088Z"
   },
   {
    "duration": 373,
    "start_time": "2021-12-26T19:55:06.958Z"
   },
   {
    "duration": 98,
    "start_time": "2021-12-26T19:59:36.187Z"
   },
   {
    "duration": 75,
    "start_time": "2021-12-26T19:59:47.883Z"
   },
   {
    "duration": 55,
    "start_time": "2021-12-26T20:00:30.903Z"
   },
   {
    "duration": 209,
    "start_time": "2021-12-26T20:03:52.701Z"
   },
   {
    "duration": 247,
    "start_time": "2021-12-26T20:04:20.586Z"
   },
   {
    "duration": 7,
    "start_time": "2021-12-26T20:04:21.845Z"
   },
   {
    "duration": 617,
    "start_time": "2021-12-26T20:08:23.546Z"
   },
   {
    "duration": 11,
    "start_time": "2021-12-26T20:08:33.693Z"
   },
   {
    "duration": 520,
    "start_time": "2021-12-26T20:08:36.164Z"
   },
   {
    "duration": 562,
    "start_time": "2021-12-26T20:08:59.436Z"
   },
   {
    "duration": 580,
    "start_time": "2021-12-26T20:09:05.532Z"
   },
   {
    "duration": 175,
    "start_time": "2021-12-26T20:13:03.074Z"
   },
   {
    "duration": 176,
    "start_time": "2021-12-26T20:13:05.669Z"
   },
   {
    "duration": 6,
    "start_time": "2021-12-26T20:13:06.450Z"
   },
   {
    "duration": 12,
    "start_time": "2021-12-26T20:27:54.037Z"
   },
   {
    "duration": 283,
    "start_time": "2021-12-26T20:27:57.691Z"
   },
   {
    "duration": 11,
    "start_time": "2021-12-26T20:28:03.495Z"
   },
   {
    "duration": 500,
    "start_time": "2021-12-26T20:28:07.530Z"
   },
   {
    "duration": 1977,
    "start_time": "2021-12-26T20:31:33.302Z"
   },
   {
    "duration": 4,
    "start_time": "2021-12-26T20:31:35.282Z"
   },
   {
    "duration": 1368,
    "start_time": "2021-12-26T20:31:35.289Z"
   },
   {
    "duration": 176,
    "start_time": "2021-12-26T20:31:36.663Z"
   },
   {
    "duration": 177,
    "start_time": "2021-12-26T20:31:36.842Z"
   },
   {
    "duration": 218,
    "start_time": "2021-12-26T20:31:37.023Z"
   },
   {
    "duration": 4,
    "start_time": "2021-12-26T20:31:37.245Z"
   },
   {
    "duration": 18,
    "start_time": "2021-12-26T20:31:37.251Z"
   },
   {
    "duration": 219,
    "start_time": "2021-12-26T20:31:37.271Z"
   },
   {
    "duration": 192,
    "start_time": "2021-12-26T20:31:37.492Z"
   },
   {
    "duration": 121,
    "start_time": "2021-12-26T20:31:37.686Z"
   },
   {
    "duration": 36,
    "start_time": "2021-12-26T20:31:37.810Z"
   },
   {
    "duration": 31,
    "start_time": "2021-12-26T20:31:37.848Z"
   },
   {
    "duration": 598,
    "start_time": "2021-12-26T20:31:37.881Z"
   },
   {
    "duration": 182,
    "start_time": "2021-12-26T20:31:38.481Z"
   },
   {
    "duration": 4,
    "start_time": "2021-12-26T20:31:38.666Z"
   },
   {
    "duration": 8,
    "start_time": "2021-12-26T20:31:38.672Z"
   },
   {
    "duration": 5049,
    "start_time": "2021-12-26T20:31:38.687Z"
   },
   {
    "duration": 1133,
    "start_time": "2021-12-26T20:31:43.740Z"
   },
   {
    "duration": 15,
    "start_time": "2021-12-26T20:31:44.876Z"
   },
   {
    "duration": 142,
    "start_time": "2021-12-26T20:31:44.894Z"
   },
   {
    "duration": 1390,
    "start_time": "2021-12-26T20:31:45.038Z"
   },
   {
    "duration": 54,
    "start_time": "2021-12-26T20:31:46.431Z"
   },
   {
    "duration": 7,
    "start_time": "2021-12-26T20:31:46.488Z"
   },
   {
    "duration": 118,
    "start_time": "2021-12-26T20:31:46.498Z"
   },
   {
    "duration": 110,
    "start_time": "2021-12-26T20:31:46.618Z"
   },
   {
    "duration": 33,
    "start_time": "2021-12-26T20:31:46.731Z"
   },
   {
    "duration": 195,
    "start_time": "2021-12-26T20:31:46.767Z"
   },
   {
    "duration": 213,
    "start_time": "2021-12-26T20:31:46.965Z"
   },
   {
    "duration": 45,
    "start_time": "2021-12-26T20:31:47.181Z"
   },
   {
    "duration": 8269,
    "start_time": "2021-12-26T20:31:47.228Z"
   },
   {
    "duration": 28,
    "start_time": "2021-12-26T20:31:55.499Z"
   },
   {
    "duration": 196,
    "start_time": "2021-12-26T20:31:55.529Z"
   },
   {
    "duration": 86,
    "start_time": "2021-12-26T20:31:55.728Z"
   },
   {
    "duration": 5,
    "start_time": "2021-12-26T20:31:55.817Z"
   },
   {
    "duration": 8,
    "start_time": "2021-12-26T20:31:55.825Z"
   },
   {
    "duration": 1379,
    "start_time": "2021-12-26T20:31:55.836Z"
   },
   {
    "duration": 231,
    "start_time": "2021-12-26T20:31:57.217Z"
   },
   {
    "duration": 1167,
    "start_time": "2021-12-26T20:31:57.451Z"
   },
   {
    "duration": 353,
    "start_time": "2021-12-26T20:31:58.620Z"
   },
   {
    "duration": 5,
    "start_time": "2021-12-26T20:31:58.975Z"
   },
   {
    "duration": 8,
    "start_time": "2021-12-26T20:31:58.983Z"
   },
   {
    "duration": 131653,
    "start_time": "2021-12-26T20:31:58.994Z"
   },
   {
    "duration": 202429,
    "start_time": "2021-12-26T20:34:10.650Z"
   },
   {
    "duration": 24480,
    "start_time": "2021-12-26T20:37:33.082Z"
   },
   {
    "duration": 6310,
    "start_time": "2021-12-26T20:37:57.568Z"
   },
   {
    "duration": 968508,
    "start_time": "2021-12-26T20:38:03.882Z"
   },
   {
    "duration": 139286,
    "start_time": "2021-12-26T20:54:12.393Z"
   },
   {
    "duration": 4183,
    "start_time": "2021-12-26T20:56:31.682Z"
   },
   {
    "duration": 150504,
    "start_time": "2021-12-26T20:56:35.868Z"
   },
   {
    "duration": 12,
    "start_time": "2021-12-26T20:59:06.376Z"
   },
   {
    "duration": 18,
    "start_time": "2021-12-26T20:59:06.391Z"
   },
   {
    "duration": 542,
    "start_time": "2021-12-26T20:59:06.411Z"
   },
   {
    "duration": 51,
    "start_time": "2021-12-26T20:59:06.965Z"
   },
   {
    "duration": 76,
    "start_time": "2021-12-26T20:59:07.019Z"
   },
   {
    "duration": 185346,
    "start_time": "2021-12-26T20:59:07.097Z"
   },
   {
    "duration": 1146,
    "start_time": "2021-12-26T21:02:12.446Z"
   },
   {
    "duration": 7,
    "start_time": "2021-12-26T21:02:13.596Z"
   },
   {
    "duration": 30569,
    "start_time": "2021-12-26T21:02:13.606Z"
   },
   {
    "duration": 289,
    "start_time": "2021-12-26T21:02:44.179Z"
   },
   {
    "duration": 98,
    "start_time": "2021-12-26T21:02:44.471Z"
   },
   {
    "duration": 9759,
    "start_time": "2021-12-26T21:02:44.573Z"
   },
   {
    "duration": 542,
    "start_time": "2021-12-26T21:02:54.334Z"
   },
   {
    "duration": 6,
    "start_time": "2021-12-26T21:02:54.878Z"
   },
   {
    "duration": 22286,
    "start_time": "2021-12-26T21:02:54.886Z"
   },
   {
    "duration": 2113,
    "start_time": "2021-12-26T21:03:17.175Z"
   },
   {
    "duration": 6,
    "start_time": "2021-12-26T21:03:19.290Z"
   },
   {
    "duration": 147018,
    "start_time": "2021-12-26T21:07:48.070Z"
   },
   {
    "duration": 186509,
    "start_time": "2021-12-26T21:10:23.965Z"
   },
   {
    "duration": 1160,
    "start_time": "2021-12-26T21:13:30.477Z"
   },
   {
    "duration": 5,
    "start_time": "2021-12-26T21:13:31.640Z"
   },
   {
    "duration": 30024,
    "start_time": "2021-12-26T21:13:31.648Z"
   },
   {
    "duration": 288,
    "start_time": "2021-12-26T21:14:01.674Z"
   },
   {
    "duration": 96,
    "start_time": "2021-12-26T21:14:01.968Z"
   },
   {
    "duration": 386608,
    "start_time": "2021-12-26T21:14:02.066Z"
   },
   {
    "duration": 589,
    "start_time": "2021-12-26T21:20:28.679Z"
   },
   {
    "duration": 7,
    "start_time": "2021-12-26T21:20:29.272Z"
   },
   {
    "duration": 27691,
    "start_time": "2021-12-26T21:20:29.283Z"
   },
   {
    "duration": 2096,
    "start_time": "2021-12-26T21:20:56.976Z"
   },
   {
    "duration": 6,
    "start_time": "2021-12-26T21:20:59.075Z"
   },
   {
    "duration": 103,
    "start_time": "2021-12-26T21:21:27.902Z"
   },
   {
    "duration": 45942,
    "start_time": "2021-12-26T21:23:02.234Z"
   },
   {
    "duration": 316,
    "start_time": "2021-12-27T05:16:22.340Z"
   },
   {
    "duration": 1205,
    "start_time": "2021-12-27T05:18:40.834Z"
   },
   {
    "duration": 3,
    "start_time": "2021-12-27T05:18:42.040Z"
   },
   {
    "duration": 764,
    "start_time": "2021-12-27T05:18:42.045Z"
   },
   {
    "duration": 121,
    "start_time": "2021-12-27T05:18:42.812Z"
   },
   {
    "duration": 122,
    "start_time": "2021-12-27T05:18:42.934Z"
   },
   {
    "duration": 121,
    "start_time": "2021-12-27T05:18:43.058Z"
   },
   {
    "duration": 3,
    "start_time": "2021-12-27T05:18:43.180Z"
   },
   {
    "duration": 6,
    "start_time": "2021-12-27T05:18:43.185Z"
   },
   {
    "duration": 166,
    "start_time": "2021-12-27T05:18:43.192Z"
   },
   {
    "duration": 105,
    "start_time": "2021-12-27T05:18:43.360Z"
   },
   {
    "duration": 80,
    "start_time": "2021-12-27T05:18:43.466Z"
   },
   {
    "duration": 24,
    "start_time": "2021-12-27T05:18:43.547Z"
   },
   {
    "duration": 18,
    "start_time": "2021-12-27T05:18:43.572Z"
   },
   {
    "duration": 398,
    "start_time": "2021-12-27T05:18:43.592Z"
   },
   {
    "duration": 151,
    "start_time": "2021-12-27T05:18:43.992Z"
   },
   {
    "duration": 3,
    "start_time": "2021-12-27T05:18:44.145Z"
   },
   {
    "duration": 5,
    "start_time": "2021-12-27T05:18:44.150Z"
   },
   {
    "duration": 2795,
    "start_time": "2021-12-27T05:18:44.157Z"
   },
   {
    "duration": 642,
    "start_time": "2021-12-27T05:18:46.954Z"
   },
   {
    "duration": 10,
    "start_time": "2021-12-27T05:18:47.598Z"
   },
   {
    "duration": 81,
    "start_time": "2021-12-27T05:18:47.610Z"
   },
   {
    "duration": 672,
    "start_time": "2021-12-27T05:18:47.693Z"
   },
   {
    "duration": 22,
    "start_time": "2021-12-27T05:18:48.369Z"
   },
   {
    "duration": 7,
    "start_time": "2021-12-27T05:18:48.393Z"
   },
   {
    "duration": 77,
    "start_time": "2021-12-27T05:18:48.401Z"
   },
   {
    "duration": 76,
    "start_time": "2021-12-27T05:18:48.479Z"
   },
   {
    "duration": 9,
    "start_time": "2021-12-27T05:18:48.557Z"
   },
   {
    "duration": 121,
    "start_time": "2021-12-27T05:18:48.567Z"
   },
   {
    "duration": 128,
    "start_time": "2021-12-27T05:18:48.689Z"
   },
   {
    "duration": 29,
    "start_time": "2021-12-27T05:18:48.818Z"
   },
   {
    "duration": 4761,
    "start_time": "2021-12-27T05:18:48.849Z"
   },
   {
    "duration": 25,
    "start_time": "2021-12-27T05:18:53.612Z"
   },
   {
    "duration": 69,
    "start_time": "2021-12-27T05:18:53.639Z"
   },
   {
    "duration": 44,
    "start_time": "2021-12-27T05:18:53.710Z"
   },
   {
    "duration": 3,
    "start_time": "2021-12-27T05:18:53.756Z"
   },
   {
    "duration": 17,
    "start_time": "2021-12-27T05:18:53.760Z"
   },
   {
    "duration": 749,
    "start_time": "2021-12-27T05:18:53.779Z"
   },
   {
    "duration": 198,
    "start_time": "2021-12-27T05:18:54.529Z"
   },
   {
    "duration": 695,
    "start_time": "2021-12-27T05:18:54.729Z"
   },
   {
    "duration": 248,
    "start_time": "2021-12-27T05:18:55.427Z"
   },
   {
    "duration": 3,
    "start_time": "2021-12-27T05:18:55.677Z"
   },
   {
    "duration": 14,
    "start_time": "2021-12-27T05:18:55.682Z"
   },
   {
    "duration": 17031,
    "start_time": "2021-12-27T05:18:55.698Z"
   },
   {
    "duration": 95,
    "start_time": "2021-12-27T05:19:12.736Z"
   },
   {
    "duration": 376,
    "start_time": "2021-12-27T05:19:12.832Z"
   },
   {
    "duration": -72,
    "start_time": "2021-12-27T05:19:13.282Z"
   },
   {
    "duration": -72,
    "start_time": "2021-12-27T05:19:13.283Z"
   },
   {
    "duration": -73,
    "start_time": "2021-12-27T05:19:13.284Z"
   },
   {
    "duration": -74,
    "start_time": "2021-12-27T05:19:13.286Z"
   },
   {
    "duration": -75,
    "start_time": "2021-12-27T05:19:13.288Z"
   },
   {
    "duration": -75,
    "start_time": "2021-12-27T05:19:13.289Z"
   },
   {
    "duration": -76,
    "start_time": "2021-12-27T05:19:13.290Z"
   },
   {
    "duration": -76,
    "start_time": "2021-12-27T05:19:13.291Z"
   },
   {
    "duration": -77,
    "start_time": "2021-12-27T05:19:13.293Z"
   },
   {
    "duration": -77,
    "start_time": "2021-12-27T05:19:13.294Z"
   },
   {
    "duration": -77,
    "start_time": "2021-12-27T05:19:13.295Z"
   },
   {
    "duration": -78,
    "start_time": "2021-12-27T05:19:13.297Z"
   },
   {
    "duration": -78,
    "start_time": "2021-12-27T05:19:13.298Z"
   },
   {
    "duration": -78,
    "start_time": "2021-12-27T05:19:13.299Z"
   },
   {
    "duration": -79,
    "start_time": "2021-12-27T05:19:13.300Z"
   },
   {
    "duration": -79,
    "start_time": "2021-12-27T05:19:13.301Z"
   },
   {
    "duration": -99,
    "start_time": "2021-12-27T05:19:13.322Z"
   },
   {
    "duration": 1188,
    "start_time": "2021-12-27T05:35:19.539Z"
   },
   {
    "duration": 3,
    "start_time": "2021-12-27T05:35:20.729Z"
   },
   {
    "duration": 762,
    "start_time": "2021-12-27T05:35:20.733Z"
   },
   {
    "duration": 113,
    "start_time": "2021-12-27T05:35:21.496Z"
   },
   {
    "duration": 117,
    "start_time": "2021-12-27T05:35:21.611Z"
   },
   {
    "duration": 115,
    "start_time": "2021-12-27T05:35:21.729Z"
   },
   {
    "duration": 3,
    "start_time": "2021-12-27T05:35:21.845Z"
   },
   {
    "duration": 9,
    "start_time": "2021-12-27T05:35:21.850Z"
   },
   {
    "duration": 150,
    "start_time": "2021-12-27T05:35:21.860Z"
   },
   {
    "duration": 97,
    "start_time": "2021-12-27T05:35:22.011Z"
   },
   {
    "duration": 72,
    "start_time": "2021-12-27T05:35:22.110Z"
   },
   {
    "duration": 24,
    "start_time": "2021-12-27T05:35:22.183Z"
   },
   {
    "duration": 29,
    "start_time": "2021-12-27T05:35:22.209Z"
   },
   {
    "duration": 376,
    "start_time": "2021-12-27T05:35:22.240Z"
   },
   {
    "duration": 113,
    "start_time": "2021-12-27T05:35:22.618Z"
   },
   {
    "duration": 3,
    "start_time": "2021-12-27T05:35:22.732Z"
   },
   {
    "duration": 4,
    "start_time": "2021-12-27T05:35:22.737Z"
   },
   {
    "duration": 2896,
    "start_time": "2021-12-27T05:35:22.743Z"
   },
   {
    "duration": 633,
    "start_time": "2021-12-27T05:35:25.641Z"
   },
   {
    "duration": 9,
    "start_time": "2021-12-27T05:35:26.276Z"
   },
   {
    "duration": 81,
    "start_time": "2021-12-27T05:35:26.287Z"
   },
   {
    "duration": 624,
    "start_time": "2021-12-27T05:35:26.369Z"
   },
   {
    "duration": 31,
    "start_time": "2021-12-27T05:35:26.997Z"
   },
   {
    "duration": 6,
    "start_time": "2021-12-27T05:35:27.030Z"
   },
   {
    "duration": 61,
    "start_time": "2021-12-27T05:35:27.037Z"
   },
   {
    "duration": 82,
    "start_time": "2021-12-27T05:35:27.100Z"
   },
   {
    "duration": 9,
    "start_time": "2021-12-27T05:35:27.184Z"
   },
   {
    "duration": 117,
    "start_time": "2021-12-27T05:35:27.195Z"
   },
   {
    "duration": 128,
    "start_time": "2021-12-27T05:35:27.313Z"
   },
   {
    "duration": 24,
    "start_time": "2021-12-27T05:35:27.443Z"
   },
   {
    "duration": 4887,
    "start_time": "2021-12-27T05:35:27.469Z"
   },
   {
    "duration": 16,
    "start_time": "2021-12-27T05:35:32.357Z"
   },
   {
    "duration": 82,
    "start_time": "2021-12-27T05:35:32.375Z"
   },
   {
    "duration": 28,
    "start_time": "2021-12-27T05:35:32.459Z"
   },
   {
    "duration": 3,
    "start_time": "2021-12-27T05:35:32.489Z"
   },
   {
    "duration": 5,
    "start_time": "2021-12-27T05:35:32.493Z"
   },
   {
    "duration": 728,
    "start_time": "2021-12-27T05:35:32.500Z"
   },
   {
    "duration": 194,
    "start_time": "2021-12-27T05:35:33.229Z"
   },
   {
    "duration": 692,
    "start_time": "2021-12-27T05:35:33.427Z"
   },
   {
    "duration": 253,
    "start_time": "2021-12-27T05:35:34.121Z"
   },
   {
    "duration": 3,
    "start_time": "2021-12-27T05:35:34.376Z"
   },
   {
    "duration": 6,
    "start_time": "2021-12-27T05:35:34.380Z"
   },
   {
    "duration": 24952,
    "start_time": "2021-12-27T05:35:34.388Z"
   },
   {
    "duration": 97001,
    "start_time": "2021-12-27T05:35:59.342Z"
   },
   {
    "duration": 145717,
    "start_time": "2021-12-27T05:37:36.344Z"
   },
   {
    "duration": 16871,
    "start_time": "2021-12-27T05:40:02.062Z"
   },
   {
    "duration": 4246,
    "start_time": "2021-12-27T05:40:18.935Z"
   },
   {
    "duration": 591356,
    "start_time": "2021-12-27T05:40:23.183Z"
   },
   {
    "duration": 94800,
    "start_time": "2021-12-27T05:50:14.541Z"
   },
   {
    "duration": 2693,
    "start_time": "2021-12-27T05:51:49.343Z"
   },
   {
    "duration": 41201,
    "start_time": "2021-12-27T05:51:52.038Z"
   },
   {
    "duration": 5,
    "start_time": "2021-12-27T05:52:33.241Z"
   },
   {
    "duration": 8,
    "start_time": "2021-12-27T05:52:33.248Z"
   },
   {
    "duration": 6,
    "start_time": "2021-12-27T05:52:33.258Z"
   },
   {
    "duration": 309,
    "start_time": "2021-12-27T05:52:33.265Z"
   },
   {
    "duration": 28,
    "start_time": "2021-12-27T05:52:33.576Z"
   },
   {
    "duration": 54,
    "start_time": "2021-12-27T05:52:33.606Z"
   },
   {
    "duration": 364,
    "start_time": "2021-12-27T05:52:33.661Z"
   },
   {
    "duration": 103,
    "start_time": "2021-12-27T05:52:33.924Z"
   },
   {
    "duration": 95,
    "start_time": "2021-12-27T05:52:33.933Z"
   },
   {
    "duration": 94,
    "start_time": "2021-12-27T05:52:33.935Z"
   },
   {
    "duration": 93,
    "start_time": "2021-12-27T05:52:33.937Z"
   },
   {
    "duration": 92,
    "start_time": "2021-12-27T05:52:33.939Z"
   },
   {
    "duration": 91,
    "start_time": "2021-12-27T05:52:33.941Z"
   },
   {
    "duration": 90,
    "start_time": "2021-12-27T05:52:33.943Z"
   },
   {
    "duration": 90,
    "start_time": "2021-12-27T05:52:33.944Z"
   },
   {
    "duration": 88,
    "start_time": "2021-12-27T05:52:33.946Z"
   },
   {
    "duration": 88,
    "start_time": "2021-12-27T05:52:33.948Z"
   },
   {
    "duration": 88,
    "start_time": "2021-12-27T05:52:33.949Z"
   },
   {
    "duration": 86,
    "start_time": "2021-12-27T05:52:33.951Z"
   },
   {
    "duration": 85,
    "start_time": "2021-12-27T05:52:33.953Z"
   },
   {
    "duration": 3,
    "start_time": "2021-12-27T06:06:03.548Z"
   },
   {
    "duration": 132137,
    "start_time": "2021-12-27T06:06:04.790Z"
   },
   {
    "duration": 869,
    "start_time": "2021-12-27T06:12:08.839Z"
   },
   {
    "duration": 3,
    "start_time": "2021-12-27T06:12:09.710Z"
   },
   {
    "duration": 21813,
    "start_time": "2021-12-27T06:12:09.715Z"
   },
   {
    "duration": 199,
    "start_time": "2021-12-27T06:12:31.530Z"
   },
   {
    "duration": 6,
    "start_time": "2021-12-27T06:12:31.731Z"
   },
   {
    "duration": 135641,
    "start_time": "2021-12-27T06:15:02.821Z"
   },
   {
    "duration": 903,
    "start_time": "2021-12-27T06:17:18.464Z"
   },
   {
    "duration": 135120,
    "start_time": "2021-12-27T06:17:19.370Z"
   },
   {
    "duration": 889,
    "start_time": "2021-12-27T06:19:34.493Z"
   },
   {
    "duration": 5,
    "start_time": "2021-12-27T06:19:35.384Z"
   },
   {
    "duration": 22844,
    "start_time": "2021-12-27T06:19:35.391Z"
   },
   {
    "duration": 209,
    "start_time": "2021-12-27T06:19:58.236Z"
   },
   {
    "duration": 22387,
    "start_time": "2021-12-27T06:19:58.447Z"
   },
   {
    "duration": 290,
    "start_time": "2021-12-27T06:20:20.837Z"
   },
   {
    "duration": 6,
    "start_time": "2021-12-27T06:20:21.130Z"
   },
   {
    "duration": 156,
    "start_time": "2021-12-27T06:20:28.976Z"
   },
   {
    "duration": 227816,
    "start_time": "2021-12-27T06:27:35.530Z"
   },
   {
    "duration": 229913,
    "start_time": "2021-12-27T06:31:23.347Z"
   },
   {
    "duration": 280,
    "start_time": "2021-12-27T06:35:13.261Z"
   },
   {
    "duration": 297,
    "start_time": "2021-12-27T06:35:13.543Z"
   },
   {
    "duration": 4,
    "start_time": "2021-12-27T06:35:13.841Z"
   },
   {
    "duration": 17893,
    "start_time": "2021-12-27T06:35:13.847Z"
   },
   {
    "duration": 16597,
    "start_time": "2021-12-27T06:35:31.742Z"
   },
   {
    "duration": 1195,
    "start_time": "2021-12-27T06:35:48.341Z"
   },
   {
    "duration": 1197,
    "start_time": "2021-12-27T06:35:49.538Z"
   },
   {
    "duration": 5,
    "start_time": "2021-12-27T06:35:50.737Z"
   },
   {
    "duration": 7,
    "start_time": "2021-12-27T06:45:27.452Z"
   },
   {
    "duration": 308,
    "start_time": "2021-12-27T06:48:29.653Z"
   },
   {
    "duration": 290,
    "start_time": "2021-12-27T06:49:01.443Z"
   },
   {
    "duration": 5,
    "start_time": "2021-12-27T06:49:15.433Z"
   },
   {
    "duration": 8,
    "start_time": "2021-12-27T06:49:17.782Z"
   },
   {
    "duration": 6,
    "start_time": "2021-12-27T06:50:36.051Z"
   },
   {
    "duration": 6,
    "start_time": "2021-12-27T06:51:45.640Z"
   },
   {
    "duration": 4,
    "start_time": "2021-12-27T06:51:58.513Z"
   },
   {
    "duration": 7,
    "start_time": "2021-12-27T06:51:59.312Z"
   },
   {
    "duration": 4,
    "start_time": "2021-12-27T06:54:10.602Z"
   },
   {
    "duration": 9,
    "start_time": "2021-12-27T06:54:11.110Z"
   },
   {
    "duration": 7,
    "start_time": "2021-12-27T06:54:55.552Z"
   },
   {
    "duration": 6,
    "start_time": "2021-12-27T06:55:01.172Z"
   },
   {
    "duration": 9,
    "start_time": "2021-12-27T06:55:01.952Z"
   },
   {
    "duration": 6,
    "start_time": "2021-12-27T06:59:16.211Z"
   },
   {
    "duration": 10,
    "start_time": "2021-12-27T06:59:20.892Z"
   },
   {
    "duration": 6,
    "start_time": "2021-12-27T06:59:56.823Z"
   },
   {
    "duration": 9,
    "start_time": "2021-12-27T06:59:58.059Z"
   },
   {
    "duration": 8,
    "start_time": "2021-12-27T07:00:02.964Z"
   },
   {
    "duration": 5,
    "start_time": "2021-12-27T07:00:06.894Z"
   },
   {
    "duration": 8,
    "start_time": "2021-12-27T07:00:07.472Z"
   },
   {
    "duration": 306,
    "start_time": "2021-12-27T07:00:31.215Z"
   },
   {
    "duration": 687,
    "start_time": "2021-12-27T07:00:46.484Z"
   },
   {
    "duration": 969,
    "start_time": "2021-12-27T07:01:22.375Z"
   },
   {
    "duration": 4,
    "start_time": "2021-12-27T07:02:24.842Z"
   },
   {
    "duration": 8,
    "start_time": "2021-12-27T07:02:31.894Z"
   },
   {
    "duration": 5,
    "start_time": "2021-12-27T07:02:37.100Z"
   },
   {
    "duration": 7,
    "start_time": "2021-12-27T07:02:37.781Z"
   },
   {
    "duration": 449,
    "start_time": "2021-12-27T07:02:49.681Z"
   },
   {
    "duration": 514,
    "start_time": "2021-12-27T07:03:06.072Z"
   },
   {
    "duration": 515,
    "start_time": "2021-12-27T07:06:09.414Z"
   },
   {
    "duration": 544,
    "start_time": "2021-12-27T07:06:17.091Z"
   },
   {
    "duration": 430,
    "start_time": "2021-12-27T07:07:56.820Z"
   },
   {
    "duration": 268,
    "start_time": "2021-12-27T07:08:15.701Z"
   },
   {
    "duration": 751,
    "start_time": "2021-12-27T07:08:56.211Z"
   },
   {
    "duration": 566,
    "start_time": "2021-12-27T08:19:24.024Z"
   },
   {
    "duration": 574,
    "start_time": "2021-12-27T08:19:43.744Z"
   },
   {
    "duration": 560,
    "start_time": "2021-12-27T08:19:48.653Z"
   },
   {
    "duration": 651,
    "start_time": "2021-12-27T08:19:54.326Z"
   },
   {
    "duration": 557,
    "start_time": "2021-12-27T08:20:06.824Z"
   },
   {
    "duration": 567,
    "start_time": "2021-12-27T08:20:14.376Z"
   },
   {
    "duration": 8,
    "start_time": "2021-12-27T08:20:42.376Z"
   },
   {
    "duration": 5,
    "start_time": "2021-12-27T08:20:48.534Z"
   },
   {
    "duration": 8,
    "start_time": "2021-12-27T08:20:49.794Z"
   },
   {
    "duration": 7975,
    "start_time": "2021-12-27T08:20:52.136Z"
   },
   {
    "duration": 556,
    "start_time": "2021-12-27T08:21:08.184Z"
   },
   {
    "duration": 1228,
    "start_time": "2021-12-27T09:14:36.497Z"
   },
   {
    "duration": 2,
    "start_time": "2021-12-27T09:14:37.727Z"
   },
   {
    "duration": 759,
    "start_time": "2021-12-27T09:14:37.731Z"
   },
   {
    "duration": 208,
    "start_time": "2021-12-27T09:14:38.493Z"
   },
   {
    "duration": 208,
    "start_time": "2021-12-27T09:14:38.703Z"
   },
   {
    "duration": 208,
    "start_time": "2021-12-27T09:14:38.913Z"
   },
   {
    "duration": 4,
    "start_time": "2021-12-27T09:14:39.123Z"
   },
   {
    "duration": 5,
    "start_time": "2021-12-27T09:14:39.129Z"
   },
   {
    "duration": 158,
    "start_time": "2021-12-27T09:14:39.136Z"
   },
   {
    "duration": 104,
    "start_time": "2021-12-27T09:14:39.295Z"
   },
   {
    "duration": 68,
    "start_time": "2021-12-27T09:14:39.400Z"
   },
   {
    "duration": 24,
    "start_time": "2021-12-27T09:14:39.469Z"
   },
   {
    "duration": 33,
    "start_time": "2021-12-27T09:14:39.494Z"
   },
   {
    "duration": 361,
    "start_time": "2021-12-27T09:14:39.529Z"
   },
   {
    "duration": 115,
    "start_time": "2021-12-27T09:14:39.892Z"
   },
   {
    "duration": 2,
    "start_time": "2021-12-27T09:14:40.009Z"
   },
   {
    "duration": 16,
    "start_time": "2021-12-27T09:14:40.013Z"
   },
   {
    "duration": 3032,
    "start_time": "2021-12-27T09:14:40.031Z"
   },
   {
    "duration": 670,
    "start_time": "2021-12-27T09:14:43.064Z"
   },
   {
    "duration": 10,
    "start_time": "2021-12-27T09:14:43.735Z"
   },
   {
    "duration": 88,
    "start_time": "2021-12-27T09:14:43.746Z"
   },
   {
    "duration": 649,
    "start_time": "2021-12-27T09:14:43.835Z"
   },
   {
    "duration": 21,
    "start_time": "2021-12-27T09:14:44.488Z"
   },
   {
    "duration": 5,
    "start_time": "2021-12-27T09:14:44.527Z"
   },
   {
    "duration": 64,
    "start_time": "2021-12-27T09:14:44.534Z"
   },
   {
    "duration": 84,
    "start_time": "2021-12-27T09:14:44.599Z"
   },
   {
    "duration": 9,
    "start_time": "2021-12-27T09:14:44.684Z"
   },
   {
    "duration": 127,
    "start_time": "2021-12-27T09:14:44.695Z"
   },
   {
    "duration": 135,
    "start_time": "2021-12-27T09:14:44.823Z"
   },
   {
    "duration": 25,
    "start_time": "2021-12-27T09:14:44.960Z"
   },
   {
    "duration": 5750,
    "start_time": "2021-12-27T09:14:44.986Z"
   },
   {
    "duration": 16,
    "start_time": "2021-12-27T09:14:50.737Z"
   },
   {
    "duration": 87,
    "start_time": "2021-12-27T09:14:50.755Z"
   },
   {
    "duration": 31,
    "start_time": "2021-12-27T09:14:50.844Z"
   },
   {
    "duration": 4,
    "start_time": "2021-12-27T09:14:50.877Z"
   },
   {
    "duration": 6,
    "start_time": "2021-12-27T09:14:50.882Z"
   },
   {
    "duration": 710,
    "start_time": "2021-12-27T09:14:50.890Z"
   },
   {
    "duration": 196,
    "start_time": "2021-12-27T09:14:51.601Z"
   },
   {
    "duration": 703,
    "start_time": "2021-12-27T09:14:51.799Z"
   },
   {
    "duration": 252,
    "start_time": "2021-12-27T09:14:52.504Z"
   },
   {
    "duration": 3,
    "start_time": "2021-12-27T09:14:52.758Z"
   },
   {
    "duration": 11,
    "start_time": "2021-12-27T09:14:52.763Z"
   },
   {
    "duration": 24680,
    "start_time": "2021-12-27T09:14:52.776Z"
   },
   {
    "duration": 98227,
    "start_time": "2021-12-27T09:15:17.458Z"
   },
   {
    "duration": 181041,
    "start_time": "2021-12-27T09:16:55.687Z"
   },
   {
    "duration": 23997,
    "start_time": "2021-12-27T09:19:56.731Z"
   },
   {
    "duration": 4827,
    "start_time": "2021-12-27T09:20:20.730Z"
   },
   {
    "duration": 615987,
    "start_time": "2021-12-27T09:20:25.559Z"
   },
   {
    "duration": 96092,
    "start_time": "2021-12-27T09:30:41.548Z"
   },
   {
    "duration": 2792,
    "start_time": "2021-12-27T09:32:17.641Z"
   },
   {
    "duration": 42307,
    "start_time": "2021-12-27T09:32:20.434Z"
   },
   {
    "duration": 5,
    "start_time": "2021-12-27T09:33:02.743Z"
   },
   {
    "duration": 8,
    "start_time": "2021-12-27T09:33:02.749Z"
   },
   {
    "duration": 69,
    "start_time": "2021-12-27T09:33:02.759Z"
   },
   {
    "duration": 7311,
    "start_time": "2021-12-27T09:33:02.830Z"
   },
   {
    "duration": -1011019,
    "start_time": "2021-12-27T09:50:01.162Z"
   },
   {
    "duration": -1011018,
    "start_time": "2021-12-27T09:50:01.163Z"
   },
   {
    "duration": -1011018,
    "start_time": "2021-12-27T09:50:01.164Z"
   },
   {
    "duration": -1011018,
    "start_time": "2021-12-27T09:50:01.165Z"
   },
   {
    "duration": -1011018,
    "start_time": "2021-12-27T09:50:01.166Z"
   },
   {
    "duration": -1011019,
    "start_time": "2021-12-27T09:50:01.167Z"
   },
   {
    "duration": -1011053,
    "start_time": "2021-12-27T09:50:01.202Z"
   },
   {
    "duration": -1011063,
    "start_time": "2021-12-27T09:50:01.213Z"
   },
   {
    "duration": -1011063,
    "start_time": "2021-12-27T09:50:01.214Z"
   },
   {
    "duration": -1011063,
    "start_time": "2021-12-27T09:50:01.215Z"
   },
   {
    "duration": -1011064,
    "start_time": "2021-12-27T09:50:01.217Z"
   },
   {
    "duration": -1011064,
    "start_time": "2021-12-27T09:50:01.218Z"
   },
   {
    "duration": -1011072,
    "start_time": "2021-12-27T09:50:01.227Z"
   },
   {
    "duration": -1011072,
    "start_time": "2021-12-27T09:50:01.228Z"
   },
   {
    "duration": -1011073,
    "start_time": "2021-12-27T09:50:01.230Z"
   },
   {
    "duration": -1011073,
    "start_time": "2021-12-27T09:50:01.231Z"
   },
   {
    "duration": -1011081,
    "start_time": "2021-12-27T09:50:01.240Z"
   },
   {
    "duration": -1011081,
    "start_time": "2021-12-27T09:50:01.241Z"
   },
   {
    "duration": -1011082,
    "start_time": "2021-12-27T09:50:01.242Z"
   },
   {
    "duration": -1011082,
    "start_time": "2021-12-27T09:50:01.243Z"
   },
   {
    "duration": -1011082,
    "start_time": "2021-12-27T09:50:01.245Z"
   },
   {
    "duration": -1011083,
    "start_time": "2021-12-27T09:50:01.246Z"
   },
   {
    "duration": -1011097,
    "start_time": "2021-12-27T09:50:01.261Z"
   },
   {
    "duration": -1011099,
    "start_time": "2021-12-27T09:50:01.264Z"
   },
   {
    "duration": -1011108,
    "start_time": "2021-12-27T09:50:01.275Z"
   },
   {
    "duration": -1011113,
    "start_time": "2021-12-27T09:50:01.280Z"
   },
   {
    "duration": 264,
    "start_time": "2021-12-27T09:51:18.298Z"
   },
   {
    "duration": 31,
    "start_time": "2021-12-27T09:51:18.564Z"
   },
   {
    "duration": 55,
    "start_time": "2021-12-27T09:51:18.598Z"
   },
   {
    "duration": 135501,
    "start_time": "2021-12-27T09:51:18.656Z"
   },
   {
    "duration": 137678,
    "start_time": "2021-12-27T09:53:34.159Z"
   },
   {
    "duration": 890,
    "start_time": "2021-12-27T09:55:51.838Z"
   },
   {
    "duration": 903,
    "start_time": "2021-12-27T09:55:52.730Z"
   },
   {
    "duration": 4,
    "start_time": "2021-12-27T09:55:53.635Z"
   },
   {
    "duration": 22388,
    "start_time": "2021-12-27T09:55:53.641Z"
   },
   {
    "duration": 23224,
    "start_time": "2021-12-27T09:56:16.031Z"
   },
   {
    "duration": 172,
    "start_time": "2021-12-27T09:56:39.257Z"
   },
   {
    "duration": 296,
    "start_time": "2021-12-27T09:56:39.431Z"
   },
   {
    "duration": 5,
    "start_time": "2021-12-27T09:56:39.730Z"
   },
   {
    "duration": 232553,
    "start_time": "2021-12-27T09:56:39.737Z"
   },
   {
    "duration": 232522,
    "start_time": "2021-12-27T10:00:32.291Z"
   },
   {
    "duration": 316,
    "start_time": "2021-12-27T10:04:24.815Z"
   },
   {
    "duration": 300,
    "start_time": "2021-12-27T10:04:25.133Z"
   },
   {
    "duration": 5,
    "start_time": "2021-12-27T10:04:25.434Z"
   },
   {
    "duration": 15795,
    "start_time": "2021-12-27T10:04:25.441Z"
   },
   {
    "duration": 15409,
    "start_time": "2021-12-27T10:04:41.237Z"
   },
   {
    "duration": 1193,
    "start_time": "2021-12-27T10:04:56.647Z"
   },
   {
    "duration": 1195,
    "start_time": "2021-12-27T10:04:57.841Z"
   },
   {
    "duration": 5,
    "start_time": "2021-12-27T10:04:59.040Z"
   },
   {
    "duration": 6,
    "start_time": "2021-12-27T10:04:59.047Z"
   },
   {
    "duration": 5,
    "start_time": "2021-12-27T10:04:59.055Z"
   },
   {
    "duration": 10,
    "start_time": "2021-12-27T10:04:59.062Z"
   },
   {
    "duration": 601,
    "start_time": "2021-12-27T10:04:59.073Z"
   },
   {
    "duration": 1212,
    "start_time": "2021-12-27T10:52:15.736Z"
   },
   {
    "duration": 3,
    "start_time": "2021-12-27T10:52:16.950Z"
   },
   {
    "duration": 764,
    "start_time": "2021-12-27T10:52:17.231Z"
   },
   {
    "duration": 114,
    "start_time": "2021-12-27T10:52:18.580Z"
   },
   {
    "duration": 105,
    "start_time": "2021-12-27T10:52:20.818Z"
   },
   {
    "duration": 109,
    "start_time": "2021-12-27T10:52:21.682Z"
   },
   {
    "duration": 2,
    "start_time": "2021-12-27T10:52:22.137Z"
   },
   {
    "duration": 3,
    "start_time": "2021-12-27T10:52:26.248Z"
   },
   {
    "duration": 138,
    "start_time": "2021-12-27T10:52:26.989Z"
   },
   {
    "duration": 96,
    "start_time": "2021-12-27T10:52:28.342Z"
   },
   {
    "duration": 60,
    "start_time": "2021-12-27T10:52:29.028Z"
   },
   {
    "duration": 23,
    "start_time": "2021-12-27T10:52:29.739Z"
   },
   {
    "duration": 19,
    "start_time": "2021-12-27T10:52:30.148Z"
   },
   {
    "duration": 351,
    "start_time": "2021-12-27T10:52:30.503Z"
   },
   {
    "duration": 105,
    "start_time": "2021-12-27T10:52:31.012Z"
   },
   {
    "duration": 2,
    "start_time": "2021-12-27T10:55:46.786Z"
   },
   {
    "duration": 4,
    "start_time": "2021-12-27T10:55:48.246Z"
   },
   {
    "duration": 2799,
    "start_time": "2021-12-27T10:55:51.921Z"
   },
   {
    "duration": 1001,
    "start_time": "2021-12-27T10:56:08.341Z"
   },
   {
    "duration": 9,
    "start_time": "2021-12-27T10:56:13.587Z"
   },
   {
    "duration": 64,
    "start_time": "2021-12-27T10:56:46.952Z"
   },
   {
    "duration": 682,
    "start_time": "2021-12-27T10:56:47.985Z"
   },
   {
    "duration": 22,
    "start_time": "2021-12-27T10:56:49.435Z"
   },
   {
    "duration": 6,
    "start_time": "2021-12-27T10:56:55.031Z"
   },
   {
    "duration": 68,
    "start_time": "2021-12-27T10:56:59.444Z"
   },
   {
    "duration": 71,
    "start_time": "2021-12-27T10:57:22.145Z"
   },
   {
    "duration": 10,
    "start_time": "2021-12-27T10:57:22.636Z"
   },
   {
    "duration": 102,
    "start_time": "2021-12-27T10:57:27.555Z"
   },
   {
    "duration": 23,
    "start_time": "2021-12-27T10:59:11.660Z"
   },
   {
    "duration": 15,
    "start_time": "2021-12-27T10:59:56.554Z"
   },
   {
    "duration": 69,
    "start_time": "2021-12-27T10:59:56.862Z"
   },
   {
    "duration": 32,
    "start_time": "2021-12-27T10:59:57.052Z"
   },
   {
    "duration": 4,
    "start_time": "2021-12-27T10:59:57.446Z"
   },
   {
    "duration": 4,
    "start_time": "2021-12-27T10:59:58.149Z"
   },
   {
    "duration": 876,
    "start_time": "2021-12-27T11:00:00.946Z"
   },
   {
    "duration": 195,
    "start_time": "2021-12-27T11:00:01.824Z"
   },
   {
    "duration": 431,
    "start_time": "2021-12-27T11:03:36.265Z"
   },
   {
    "duration": 16,
    "start_time": "2021-12-27T11:03:54.467Z"
   },
   {
    "duration": 1572,
    "start_time": "2021-12-27T16:31:30.304Z"
   },
   {
    "duration": 4,
    "start_time": "2021-12-27T16:31:31.879Z"
   },
   {
    "duration": 1087,
    "start_time": "2021-12-27T16:31:31.886Z"
   },
   {
    "duration": 172,
    "start_time": "2021-12-27T16:31:32.976Z"
   },
   {
    "duration": 181,
    "start_time": "2021-12-27T16:31:33.150Z"
   },
   {
    "duration": 170,
    "start_time": "2021-12-27T16:31:33.334Z"
   },
   {
    "duration": 4,
    "start_time": "2021-12-27T16:31:33.506Z"
   },
   {
    "duration": 5,
    "start_time": "2021-12-27T16:31:33.528Z"
   },
   {
    "duration": 229,
    "start_time": "2021-12-27T16:31:33.536Z"
   },
   {
    "duration": 169,
    "start_time": "2021-12-27T16:31:33.767Z"
   },
   {
    "duration": 104,
    "start_time": "2021-12-27T16:31:33.944Z"
   },
   {
    "duration": 30,
    "start_time": "2021-12-27T16:31:34.050Z"
   },
   {
    "duration": 43,
    "start_time": "2021-12-27T16:31:34.083Z"
   },
   {
    "duration": 537,
    "start_time": "2021-12-27T16:31:34.129Z"
   },
   {
    "duration": 157,
    "start_time": "2021-12-27T16:31:34.669Z"
   },
   {
    "duration": 5,
    "start_time": "2021-12-27T16:31:34.829Z"
   },
   {
    "duration": 28,
    "start_time": "2021-12-27T16:31:34.836Z"
   },
   {
    "duration": 4773,
    "start_time": "2021-12-27T16:31:34.866Z"
   },
   {
    "duration": 1117,
    "start_time": "2021-12-27T16:31:39.642Z"
   },
   {
    "duration": 18,
    "start_time": "2021-12-27T16:31:40.761Z"
   },
   {
    "duration": 100,
    "start_time": "2021-12-27T16:32:36.002Z"
   },
   {
    "duration": 90,
    "start_time": "2021-12-27T16:32:40.523Z"
   },
   {
    "duration": 33,
    "start_time": "2021-12-27T16:32:46.624Z"
   },
   {
    "duration": 36,
    "start_time": "2021-12-27T16:35:31.236Z"
   },
   {
    "duration": 44,
    "start_time": "2021-12-27T16:35:46.124Z"
   },
   {
    "duration": 37,
    "start_time": "2021-12-27T16:36:10.613Z"
   },
   {
    "duration": 18,
    "start_time": "2021-12-27T16:37:03.332Z"
   },
   {
    "duration": 149,
    "start_time": "2021-12-27T16:47:21.106Z"
   },
   {
    "duration": 112,
    "start_time": "2021-12-27T16:47:36.065Z"
   },
   {
    "duration": 15,
    "start_time": "2021-12-27T16:47:52.505Z"
   },
   {
    "duration": 17,
    "start_time": "2021-12-27T16:47:59.437Z"
   },
   {
    "duration": 15,
    "start_time": "2021-12-27T16:48:09.964Z"
   },
   {
    "duration": 1069,
    "start_time": "2021-12-27T16:49:34.172Z"
   },
   {
    "duration": 1101,
    "start_time": "2021-12-27T16:50:00.091Z"
   },
   {
    "duration": 32,
    "start_time": "2021-12-27T16:50:34.402Z"
   },
   {
    "duration": 9,
    "start_time": "2021-12-27T16:50:54.985Z"
   },
   {
    "duration": 37,
    "start_time": "2021-12-27T16:51:02.404Z"
   },
   {
    "duration": 26,
    "start_time": "2021-12-27T16:51:11.885Z"
   },
   {
    "duration": 9,
    "start_time": "2021-12-27T16:51:16.072Z"
   },
   {
    "duration": 17,
    "start_time": "2021-12-27T16:52:24.254Z"
   },
   {
    "duration": 106,
    "start_time": "2021-12-27T16:52:37.554Z"
   },
   {
    "duration": 138,
    "start_time": "2021-12-27T16:58:48.653Z"
   },
   {
    "duration": 104,
    "start_time": "2021-12-27T16:58:51.621Z"
   },
   {
    "duration": 62,
    "start_time": "2021-12-27T16:58:57.951Z"
   },
   {
    "duration": 36,
    "start_time": "2021-12-27T16:59:10.152Z"
   },
   {
    "duration": 100,
    "start_time": "2021-12-27T17:06:42.112Z"
   },
   {
    "duration": 94,
    "start_time": "2021-12-27T17:07:02.514Z"
   },
   {
    "duration": 16,
    "start_time": "2021-12-27T17:07:16.152Z"
   },
   {
    "duration": 166,
    "start_time": "2021-12-27T17:07:27.179Z"
   },
   {
    "duration": 183,
    "start_time": "2021-12-27T17:07:30.921Z"
   },
   {
    "duration": 35,
    "start_time": "2021-12-27T17:07:36.172Z"
   },
   {
    "duration": 98,
    "start_time": "2021-12-27T17:09:41.673Z"
   },
   {
    "duration": 27,
    "start_time": "2021-12-27T17:09:51.365Z"
   },
   {
    "duration": 17,
    "start_time": "2021-12-27T17:10:11.632Z"
   },
   {
    "duration": 4,
    "start_time": "2021-12-27T17:17:23.630Z"
   },
   {
    "duration": 481,
    "start_time": "2021-12-27T17:18:29.157Z"
   },
   {
    "duration": 331,
    "start_time": "2021-12-27T17:18:37.841Z"
   },
   {
    "duration": 132,
    "start_time": "2021-12-27T17:19:35.799Z"
   },
   {
    "duration": 7,
    "start_time": "2021-12-27T17:19:42.289Z"
   },
   {
    "duration": 401,
    "start_time": "2021-12-27T17:19:49.702Z"
   },
   {
    "duration": 717,
    "start_time": "2021-12-27T17:21:06.192Z"
   },
   {
    "duration": 1670,
    "start_time": "2021-12-27T17:22:23.692Z"
   },
   {
    "duration": 16,
    "start_time": "2021-12-27T17:22:29.061Z"
   },
   {
    "duration": 1704,
    "start_time": "2021-12-27T17:23:22.972Z"
   },
   {
    "duration": 692,
    "start_time": "2021-12-27T17:23:41.671Z"
   },
   {
    "duration": 16,
    "start_time": "2021-12-27T17:23:43.782Z"
   },
   {
    "duration": 39,
    "start_time": "2021-12-27T17:29:49.652Z"
   },
   {
    "duration": 48,
    "start_time": "2021-12-27T17:29:59.499Z"
   },
   {
    "duration": 15,
    "start_time": "2021-12-27T17:30:09.180Z"
   },
   {
    "duration": 1966,
    "start_time": "2021-12-27T17:30:58.832Z"
   },
   {
    "duration": 37,
    "start_time": "2021-12-27T17:31:04.219Z"
   },
   {
    "duration": 915,
    "start_time": "2021-12-27T17:31:37.651Z"
   },
   {
    "duration": 32,
    "start_time": "2021-12-27T17:35:33.715Z"
   },
   {
    "duration": 14,
    "start_time": "2021-12-27T17:35:40.242Z"
   },
   {
    "duration": 26,
    "start_time": "2021-12-27T17:38:57.172Z"
   },
   {
    "duration": 178,
    "start_time": "2021-12-27T17:38:58.121Z"
   },
   {
    "duration": 67,
    "start_time": "2021-12-27T17:38:58.952Z"
   },
   {
    "duration": 7,
    "start_time": "2021-12-27T17:39:35.672Z"
   },
   {
    "duration": 5,
    "start_time": "2021-12-27T17:39:36.202Z"
   },
   {
    "duration": 334,
    "start_time": "2021-12-27T17:39:48.683Z"
   },
   {
    "duration": -1956,
    "start_time": "2021-12-27T17:39:50.975Z"
   },
   {
    "duration": 125,
    "start_time": "2021-12-27T17:40:12.392Z"
   },
   {
    "duration": 1308,
    "start_time": "2021-12-27T17:40:12.841Z"
   },
   {
    "duration": 1211,
    "start_time": "2021-12-27T17:40:18.071Z"
   },
   {
    "duration": 220,
    "start_time": "2021-12-27T17:40:24.641Z"
   },
   {
    "duration": 1199,
    "start_time": "2021-12-27T17:40:25.352Z"
   },
   {
    "duration": 503,
    "start_time": "2021-12-27T17:40:26.554Z"
   },
   {
    "duration": 4,
    "start_time": "2021-12-27T17:40:27.060Z"
   },
   {
    "duration": 5,
    "start_time": "2021-12-27T17:40:27.301Z"
   },
   {
    "duration": 56,
    "start_time": "2021-12-27T17:41:46.512Z"
   },
   {
    "duration": 103,
    "start_time": "2021-12-27T17:59:57.389Z"
   },
   {
    "duration": 392,
    "start_time": "2021-12-27T18:00:35.510Z"
   },
   {
    "duration": 2143,
    "start_time": "2021-12-29T05:09:26.340Z"
   },
   {
    "duration": 5,
    "start_time": "2021-12-29T05:09:28.486Z"
   },
   {
    "duration": 1190,
    "start_time": "2021-12-29T05:09:28.494Z"
   },
   {
    "duration": 169,
    "start_time": "2021-12-29T05:09:29.688Z"
   },
   {
    "duration": 172,
    "start_time": "2021-12-29T05:09:29.863Z"
   },
   {
    "duration": 176,
    "start_time": "2021-12-29T05:09:30.038Z"
   },
   {
    "duration": 5,
    "start_time": "2021-12-29T05:09:30.217Z"
   },
   {
    "duration": 13,
    "start_time": "2021-12-29T05:09:30.227Z"
   },
   {
    "duration": 235,
    "start_time": "2021-12-29T05:09:30.244Z"
   },
   {
    "duration": 165,
    "start_time": "2021-12-29T05:09:30.481Z"
   },
   {
    "duration": 119,
    "start_time": "2021-12-29T05:09:30.649Z"
   },
   {
    "duration": 33,
    "start_time": "2021-12-29T05:09:30.770Z"
   },
   {
    "duration": 37,
    "start_time": "2021-12-29T05:09:30.805Z"
   },
   {
    "duration": 544,
    "start_time": "2021-12-29T05:09:30.863Z"
   },
   {
    "duration": 171,
    "start_time": "2021-12-29T05:09:31.410Z"
   },
   {
    "duration": 36,
    "start_time": "2021-12-29T05:09:31.584Z"
   },
   {
    "duration": 3,
    "start_time": "2021-12-29T05:09:31.622Z"
   },
   {
    "duration": 6,
    "start_time": "2021-12-29T05:09:31.628Z"
   },
   {
    "duration": 5211,
    "start_time": "2021-12-29T05:09:31.662Z"
   },
   {
    "duration": 1335,
    "start_time": "2021-12-29T05:09:36.876Z"
   },
   {
    "duration": 30,
    "start_time": "2021-12-29T05:09:38.213Z"
   },
   {
    "duration": 13,
    "start_time": "2021-12-29T05:09:38.262Z"
   },
   {
    "duration": 22,
    "start_time": "2021-12-29T05:09:38.283Z"
   },
   {
    "duration": 171,
    "start_time": "2021-12-29T05:09:38.310Z"
   },
   {
    "duration": 1573,
    "start_time": "2021-12-29T05:09:38.484Z"
   },
   {
    "duration": 44,
    "start_time": "2021-12-29T05:09:40.064Z"
   },
   {
    "duration": 75,
    "start_time": "2021-12-29T05:09:40.111Z"
   },
   {
    "duration": 9,
    "start_time": "2021-12-29T05:09:40.189Z"
   },
   {
    "duration": 131,
    "start_time": "2021-12-29T05:09:40.200Z"
   },
   {
    "duration": 172,
    "start_time": "2021-12-29T05:09:40.334Z"
   },
   {
    "duration": 22,
    "start_time": "2021-12-29T05:09:40.508Z"
   },
   {
    "duration": 267,
    "start_time": "2021-12-29T05:09:40.533Z"
   },
   {
    "duration": 285,
    "start_time": "2021-12-29T05:09:40.803Z"
   },
   {
    "duration": 52,
    "start_time": "2021-12-29T05:09:41.091Z"
   },
   {
    "duration": 9301,
    "start_time": "2021-12-29T05:09:41.164Z"
   },
   {
    "duration": 27,
    "start_time": "2021-12-29T05:09:50.468Z"
   },
   {
    "duration": 186,
    "start_time": "2021-12-29T05:09:50.497Z"
   },
   {
    "duration": 67,
    "start_time": "2021-12-29T05:09:50.685Z"
   },
   {
    "duration": 6,
    "start_time": "2021-12-29T05:09:50.763Z"
   },
   {
    "duration": 16,
    "start_time": "2021-12-29T05:09:50.771Z"
   },
   {
    "duration": 19,
    "start_time": "2021-12-29T05:09:50.790Z"
   },
   {
    "duration": 70,
    "start_time": "2021-12-29T05:09:50.812Z"
   },
   {
    "duration": 14,
    "start_time": "2021-12-29T05:09:50.884Z"
   },
   {
    "duration": 1375,
    "start_time": "2021-12-29T05:09:50.901Z"
   },
   {
    "duration": 22,
    "start_time": "2021-12-29T05:09:52.279Z"
   },
   {
    "duration": 89,
    "start_time": "2021-12-29T05:09:52.304Z"
   },
   {
    "duration": 34,
    "start_time": "2021-12-29T05:09:52.395Z"
   },
   {
    "duration": 5,
    "start_time": "2021-12-29T05:09:52.432Z"
   },
   {
    "duration": 29,
    "start_time": "2021-12-29T05:09:52.439Z"
   },
   {
    "duration": 1591,
    "start_time": "2021-12-29T05:09:52.471Z"
   },
   {
    "duration": 235,
    "start_time": "2021-12-29T05:09:54.065Z"
   },
   {
    "duration": 1855,
    "start_time": "2021-12-29T05:09:54.304Z"
   },
   {
    "duration": 601,
    "start_time": "2021-12-29T05:09:56.163Z"
   },
   {
    "duration": 6,
    "start_time": "2021-12-29T05:09:56.767Z"
   },
   {
    "duration": 7,
    "start_time": "2021-12-29T05:09:56.776Z"
   },
   {
    "duration": 40848,
    "start_time": "2021-12-29T05:09:56.786Z"
   },
   {
    "duration": 126171,
    "start_time": "2021-12-29T05:10:37.636Z"
   },
   {
    "duration": 210388,
    "start_time": "2021-12-29T05:12:43.810Z"
   },
   {
    "duration": 27062,
    "start_time": "2021-12-29T05:16:14.202Z"
   },
   {
    "duration": 5854,
    "start_time": "2021-12-29T05:16:41.268Z"
   },
   {
    "duration": 1530,
    "start_time": "2021-12-29T05:47:25.199Z"
   },
   {
    "duration": 4,
    "start_time": "2021-12-29T05:47:26.731Z"
   },
   {
    "duration": 1161,
    "start_time": "2021-12-29T05:47:26.739Z"
   },
   {
    "duration": 178,
    "start_time": "2021-12-29T05:47:27.904Z"
   },
   {
    "duration": 177,
    "start_time": "2021-12-29T05:47:28.085Z"
   },
   {
    "duration": 167,
    "start_time": "2021-12-29T05:47:28.264Z"
   },
   {
    "duration": 4,
    "start_time": "2021-12-29T05:47:28.433Z"
   },
   {
    "duration": 5,
    "start_time": "2021-12-29T05:47:28.440Z"
   },
   {
    "duration": 209,
    "start_time": "2021-12-29T05:47:28.464Z"
   },
   {
    "duration": 159,
    "start_time": "2021-12-29T05:47:28.676Z"
   },
   {
    "duration": 112,
    "start_time": "2021-12-29T05:47:28.837Z"
   },
   {
    "duration": 36,
    "start_time": "2021-12-29T05:47:28.952Z"
   },
   {
    "duration": 26,
    "start_time": "2021-12-29T05:47:28.990Z"
   },
   {
    "duration": 554,
    "start_time": "2021-12-29T05:47:29.019Z"
   },
   {
    "duration": 165,
    "start_time": "2021-12-29T05:47:29.575Z"
   },
   {
    "duration": 44,
    "start_time": "2021-12-29T05:47:29.743Z"
   },
   {
    "duration": 4,
    "start_time": "2021-12-29T05:47:29.790Z"
   },
   {
    "duration": 8,
    "start_time": "2021-12-29T05:47:29.797Z"
   },
   {
    "duration": 4736,
    "start_time": "2021-12-29T05:47:29.807Z"
   },
   {
    "duration": 1208,
    "start_time": "2021-12-29T05:47:34.545Z"
   },
   {
    "duration": 33,
    "start_time": "2021-12-29T05:47:35.756Z"
   },
   {
    "duration": 9,
    "start_time": "2021-12-29T05:47:35.791Z"
   },
   {
    "duration": 19,
    "start_time": "2021-12-29T05:47:35.802Z"
   },
   {
    "duration": 160,
    "start_time": "2021-12-29T05:47:35.823Z"
   },
   {
    "duration": 1225,
    "start_time": "2021-12-29T05:47:35.986Z"
   },
   {
    "duration": 50,
    "start_time": "2021-12-29T05:47:37.214Z"
   },
   {
    "duration": 38,
    "start_time": "2021-12-29T05:47:37.271Z"
   },
   {
    "duration": 8,
    "start_time": "2021-12-29T05:47:37.313Z"
   },
   {
    "duration": 141,
    "start_time": "2021-12-29T05:47:37.324Z"
   },
   {
    "duration": 167,
    "start_time": "2021-12-29T05:47:37.468Z"
   },
   {
    "duration": 36,
    "start_time": "2021-12-29T05:47:37.638Z"
   },
   {
    "duration": 252,
    "start_time": "2021-12-29T05:47:37.677Z"
   },
   {
    "duration": 291,
    "start_time": "2021-12-29T05:47:37.933Z"
   },
   {
    "duration": 65,
    "start_time": "2021-12-29T05:47:38.227Z"
   },
   {
    "duration": 11778,
    "start_time": "2021-12-29T05:47:38.295Z"
   },
   {
    "duration": 31,
    "start_time": "2021-12-29T05:47:50.076Z"
   },
   {
    "duration": 203,
    "start_time": "2021-12-29T05:47:50.110Z"
   },
   {
    "duration": 89,
    "start_time": "2021-12-29T05:47:50.316Z"
   },
   {
    "duration": 6,
    "start_time": "2021-12-29T05:47:50.408Z"
   },
   {
    "duration": 17,
    "start_time": "2021-12-29T05:47:50.417Z"
   },
   {
    "duration": 5,
    "start_time": "2021-12-29T05:47:50.436Z"
   },
   {
    "duration": 72,
    "start_time": "2021-12-29T05:47:50.443Z"
   },
   {
    "duration": 14,
    "start_time": "2021-12-29T05:47:50.517Z"
   },
   {
    "duration": 1423,
    "start_time": "2021-12-29T05:47:50.534Z"
   },
   {
    "duration": 23,
    "start_time": "2021-12-29T05:47:51.963Z"
   },
   {
    "duration": 87,
    "start_time": "2021-12-29T05:47:51.988Z"
   },
   {
    "duration": 35,
    "start_time": "2021-12-29T05:47:52.077Z"
   },
   {
    "duration": 5,
    "start_time": "2021-12-29T05:47:52.114Z"
   },
   {
    "duration": 8,
    "start_time": "2021-12-29T05:47:52.121Z"
   },
   {
    "duration": 1531,
    "start_time": "2021-12-29T05:47:52.131Z"
   },
   {
    "duration": 228,
    "start_time": "2021-12-29T05:47:53.664Z"
   },
   {
    "duration": 1159,
    "start_time": "2021-12-29T05:47:53.895Z"
   },
   {
    "duration": 354,
    "start_time": "2021-12-29T05:47:55.057Z"
   },
   {
    "duration": 5,
    "start_time": "2021-12-29T05:47:55.413Z"
   },
   {
    "duration": 6,
    "start_time": "2021-12-29T05:47:55.420Z"
   },
   {
    "duration": 33017,
    "start_time": "2021-12-29T05:47:55.428Z"
   },
   {
    "duration": 126714,
    "start_time": "2021-12-29T05:48:28.449Z"
   },
   {
    "duration": 193626,
    "start_time": "2021-12-29T05:50:35.165Z"
   },
   {
    "duration": 28882,
    "start_time": "2021-12-29T05:53:48.793Z"
   },
   {
    "duration": 5937,
    "start_time": "2021-12-29T05:54:17.678Z"
   },
   {
    "duration": 954170,
    "start_time": "2021-12-29T05:54:23.618Z"
   },
   {
    "duration": 139601,
    "start_time": "2021-12-29T06:10:17.791Z"
   },
   {
    "duration": 39369,
    "start_time": "2021-12-29T06:12:37.395Z"
   },
   {
    "duration": 2126,
    "start_time": "2021-12-29T06:43:42.129Z"
   },
   {
    "duration": 5,
    "start_time": "2021-12-29T06:43:44.258Z"
   },
   {
    "duration": 1177,
    "start_time": "2021-12-29T06:43:44.268Z"
   },
   {
    "duration": 175,
    "start_time": "2021-12-29T06:43:45.447Z"
   },
   {
    "duration": 174,
    "start_time": "2021-12-29T06:43:45.624Z"
   },
   {
    "duration": 193,
    "start_time": "2021-12-29T06:43:45.801Z"
   },
   {
    "duration": 4,
    "start_time": "2021-12-29T06:43:45.996Z"
   },
   {
    "duration": 6,
    "start_time": "2021-12-29T06:43:46.003Z"
   },
   {
    "duration": 245,
    "start_time": "2021-12-29T06:43:46.014Z"
   },
   {
    "duration": 177,
    "start_time": "2021-12-29T06:43:46.262Z"
   },
   {
    "duration": 138,
    "start_time": "2021-12-29T06:43:46.442Z"
   },
   {
    "duration": 32,
    "start_time": "2021-12-29T06:43:46.583Z"
   },
   {
    "duration": 51,
    "start_time": "2021-12-29T06:43:46.618Z"
   },
   {
    "duration": 577,
    "start_time": "2021-12-29T06:43:46.672Z"
   },
   {
    "duration": 180,
    "start_time": "2021-12-29T06:43:47.251Z"
   },
   {
    "duration": 52,
    "start_time": "2021-12-29T06:43:47.433Z"
   },
   {
    "duration": 13,
    "start_time": "2021-12-29T06:43:47.487Z"
   },
   {
    "duration": 8,
    "start_time": "2021-12-29T06:43:47.503Z"
   },
   {
    "duration": 7065,
    "start_time": "2021-12-29T06:43:47.514Z"
   },
   {
    "duration": 1597,
    "start_time": "2021-12-29T06:43:54.583Z"
   },
   {
    "duration": 41,
    "start_time": "2021-12-29T06:43:56.184Z"
   },
   {
    "duration": 35,
    "start_time": "2021-12-29T06:43:56.228Z"
   },
   {
    "duration": 20,
    "start_time": "2021-12-29T06:43:56.265Z"
   },
   {
    "duration": 145,
    "start_time": "2021-12-29T06:43:56.287Z"
   },
   {
    "duration": 1065,
    "start_time": "2021-12-29T06:43:56.435Z"
   },
   {
    "duration": 29,
    "start_time": "2021-12-29T06:43:57.503Z"
   },
   {
    "duration": 36,
    "start_time": "2021-12-29T06:43:57.564Z"
   },
   {
    "duration": 8,
    "start_time": "2021-12-29T06:43:57.604Z"
   },
   {
    "duration": 122,
    "start_time": "2021-12-29T06:43:57.615Z"
   },
   {
    "duration": 114,
    "start_time": "2021-12-29T06:43:57.739Z"
   },
   {
    "duration": 16,
    "start_time": "2021-12-29T06:43:57.864Z"
   },
   {
    "duration": 192,
    "start_time": "2021-12-29T06:43:57.883Z"
   },
   {
    "duration": 210,
    "start_time": "2021-12-29T06:43:58.078Z"
   },
   {
    "duration": 35,
    "start_time": "2021-12-29T06:43:58.291Z"
   },
   {
    "duration": 9922,
    "start_time": "2021-12-29T06:43:58.329Z"
   },
   {
    "duration": 30,
    "start_time": "2021-12-29T06:44:08.262Z"
   },
   {
    "duration": 182,
    "start_time": "2021-12-29T06:44:08.296Z"
   },
   {
    "duration": 91,
    "start_time": "2021-12-29T06:44:08.481Z"
   },
   {
    "duration": 6,
    "start_time": "2021-12-29T06:44:08.574Z"
   },
   {
    "duration": 8,
    "start_time": "2021-12-29T06:44:08.583Z"
   },
   {
    "duration": 10,
    "start_time": "2021-12-29T06:44:08.594Z"
   },
   {
    "duration": 82,
    "start_time": "2021-12-29T06:44:08.607Z"
   },
   {
    "duration": 16,
    "start_time": "2021-12-29T06:44:08.691Z"
   },
   {
    "duration": 1954,
    "start_time": "2021-12-29T06:44:08.710Z"
   },
   {
    "duration": 26,
    "start_time": "2021-12-29T06:44:10.667Z"
   },
   {
    "duration": 120,
    "start_time": "2021-12-29T06:44:10.696Z"
   },
   {
    "duration": 56,
    "start_time": "2021-12-29T06:44:10.819Z"
   },
   {
    "duration": 6,
    "start_time": "2021-12-29T06:44:10.878Z"
   },
   {
    "duration": 7,
    "start_time": "2021-12-29T06:44:10.886Z"
   },
   {
    "duration": 1586,
    "start_time": "2021-12-29T06:44:10.896Z"
   },
   {
    "duration": 233,
    "start_time": "2021-12-29T06:44:12.484Z"
   },
   {
    "duration": 1157,
    "start_time": "2021-12-29T06:44:12.720Z"
   },
   {
    "duration": 345,
    "start_time": "2021-12-29T06:44:13.880Z"
   },
   {
    "duration": 5,
    "start_time": "2021-12-29T06:44:14.227Z"
   },
   {
    "duration": 27,
    "start_time": "2021-12-29T06:44:14.235Z"
   },
   {
    "duration": 35624,
    "start_time": "2021-12-29T06:44:14.265Z"
   },
   {
    "duration": 131350,
    "start_time": "2021-12-29T06:44:49.892Z"
   },
   {
    "duration": 224870,
    "start_time": "2021-12-29T06:47:01.245Z"
   },
   {
    "duration": 31747,
    "start_time": "2021-12-29T06:50:46.117Z"
   },
   {
    "duration": 6205,
    "start_time": "2021-12-29T06:51:17.868Z"
   },
   {
    "duration": 960994,
    "start_time": "2021-12-29T06:51:24.075Z"
   },
   {
    "duration": 140524,
    "start_time": "2021-12-29T07:07:25.073Z"
   },
   {
    "duration": 50306,
    "start_time": "2021-12-29T07:09:45.665Z"
   },
   {
    "duration": 688879,
    "start_time": "2021-12-29T07:10:35.974Z"
   },
   {
    "duration": -312,
    "start_time": "2021-12-29T07:22:05.171Z"
   },
   {
    "duration": -313,
    "start_time": "2021-12-29T07:22:05.174Z"
   },
   {
    "duration": -314,
    "start_time": "2021-12-29T07:22:05.177Z"
   },
   {
    "duration": -315,
    "start_time": "2021-12-29T07:22:05.179Z"
   },
   {
    "duration": -314,
    "start_time": "2021-12-29T07:22:05.182Z"
   },
   {
    "duration": -313,
    "start_time": "2021-12-29T07:22:05.184Z"
   },
   {
    "duration": -314,
    "start_time": "2021-12-29T07:22:05.186Z"
   },
   {
    "duration": -313,
    "start_time": "2021-12-29T07:22:05.188Z"
   },
   {
    "duration": -327,
    "start_time": "2021-12-29T07:22:05.204Z"
   },
   {
    "duration": -326,
    "start_time": "2021-12-29T07:22:05.206Z"
   },
   {
    "duration": -337,
    "start_time": "2021-12-29T07:22:05.220Z"
   },
   {
    "duration": -336,
    "start_time": "2021-12-29T07:22:05.221Z"
   },
   {
    "duration": -336,
    "start_time": "2021-12-29T07:22:05.223Z"
   },
   {
    "duration": -337,
    "start_time": "2021-12-29T07:22:05.225Z"
   },
   {
    "duration": -337,
    "start_time": "2021-12-29T07:22:05.226Z"
   },
   {
    "duration": -338,
    "start_time": "2021-12-29T07:22:05.228Z"
   },
   {
    "duration": -339,
    "start_time": "2021-12-29T07:22:05.230Z"
   },
   {
    "duration": -339,
    "start_time": "2021-12-29T07:22:05.231Z"
   },
   {
    "duration": -360,
    "start_time": "2021-12-29T07:22:05.253Z"
   },
   {
    "duration": -361,
    "start_time": "2021-12-29T07:22:05.255Z"
   },
   {
    "duration": -362,
    "start_time": "2021-12-29T07:22:05.257Z"
   },
   {
    "duration": -383,
    "start_time": "2021-12-29T07:22:05.279Z"
   },
   {
    "duration": -409,
    "start_time": "2021-12-29T07:22:05.307Z"
   },
   {
    "duration": -410,
    "start_time": "2021-12-29T07:22:05.309Z"
   },
   {
    "duration": -412,
    "start_time": "2021-12-29T07:22:05.311Z"
   },
   {
    "duration": -412,
    "start_time": "2021-12-29T07:22:05.312Z"
   },
   {
    "duration": -413,
    "start_time": "2021-12-29T07:22:05.314Z"
   },
   {
    "duration": -412,
    "start_time": "2021-12-29T07:22:05.315Z"
   },
   {
    "duration": -412,
    "start_time": "2021-12-29T07:22:05.316Z"
   },
   {
    "duration": -412,
    "start_time": "2021-12-29T07:22:05.318Z"
   },
   {
    "duration": -412,
    "start_time": "2021-12-29T07:22:05.319Z"
   },
   {
    "duration": -412,
    "start_time": "2021-12-29T07:22:05.321Z"
   },
   {
    "duration": -412,
    "start_time": "2021-12-29T07:22:05.322Z"
   },
   {
    "duration": -422,
    "start_time": "2021-12-29T07:22:05.389Z"
   },
   {
    "duration": -441,
    "start_time": "2021-12-29T07:22:05.412Z"
   },
   {
    "duration": -433,
    "start_time": "2021-12-29T07:22:05.414Z"
   },
   {
    "duration": -431,
    "start_time": "2021-12-29T07:22:05.415Z"
   },
   {
    "duration": -431,
    "start_time": "2021-12-29T07:22:05.417Z"
   },
   {
    "duration": -430,
    "start_time": "2021-12-29T07:22:05.418Z"
   },
   {
    "duration": -430,
    "start_time": "2021-12-29T07:22:05.420Z"
   },
   {
    "duration": -429,
    "start_time": "2021-12-29T07:22:05.421Z"
   },
   {
    "duration": -436,
    "start_time": "2021-12-29T07:22:05.430Z"
   },
   {
    "duration": -436,
    "start_time": "2021-12-29T07:22:05.432Z"
   },
   {
    "duration": -435,
    "start_time": "2021-12-29T07:22:05.434Z"
   },
   {
    "duration": -434,
    "start_time": "2021-12-29T07:22:05.435Z"
   },
   {
    "duration": -434,
    "start_time": "2021-12-29T07:22:05.437Z"
   },
   {
    "duration": 761077,
    "start_time": "2021-12-29T07:22:19.848Z"
   },
   {
    "duration": -216,
    "start_time": "2021-12-29T07:35:01.148Z"
   },
   {
    "duration": -217,
    "start_time": "2021-12-29T07:35:01.151Z"
   },
   {
    "duration": -219,
    "start_time": "2021-12-29T07:35:01.155Z"
   },
   {
    "duration": -220,
    "start_time": "2021-12-29T07:35:01.158Z"
   },
   {
    "duration": -221,
    "start_time": "2021-12-29T07:35:01.161Z"
   },
   {
    "duration": -223,
    "start_time": "2021-12-29T07:35:01.164Z"
   },
   {
    "duration": -224,
    "start_time": "2021-12-29T07:35:01.167Z"
   },
   {
    "duration": -225,
    "start_time": "2021-12-29T07:35:01.170Z"
   },
   {
    "duration": -226,
    "start_time": "2021-12-29T07:35:01.173Z"
   },
   {
    "duration": -227,
    "start_time": "2021-12-29T07:35:01.175Z"
   },
   {
    "duration": -227,
    "start_time": "2021-12-29T07:35:01.177Z"
   },
   {
    "duration": -227,
    "start_time": "2021-12-29T07:35:01.179Z"
   },
   {
    "duration": -227,
    "start_time": "2021-12-29T07:35:01.181Z"
   },
   {
    "duration": -228,
    "start_time": "2021-12-29T07:35:01.183Z"
   },
   {
    "duration": -248,
    "start_time": "2021-12-29T07:35:01.205Z"
   },
   {
    "duration": -255,
    "start_time": "2021-12-29T07:35:01.214Z"
   },
   {
    "duration": -255,
    "start_time": "2021-12-29T07:35:01.216Z"
   },
   {
    "duration": -255,
    "start_time": "2021-12-29T07:35:01.218Z"
   },
   {
    "duration": -257,
    "start_time": "2021-12-29T07:35:01.221Z"
   },
   {
    "duration": -253,
    "start_time": "2021-12-29T07:35:01.222Z"
   },
   {
    "duration": -254,
    "start_time": "2021-12-29T07:35:01.224Z"
   },
   {
    "duration": -245,
    "start_time": "2021-12-29T07:35:01.225Z"
   },
   {
    "duration": -245,
    "start_time": "2021-12-29T07:35:01.227Z"
   },
   {
    "duration": -245,
    "start_time": "2021-12-29T07:35:01.229Z"
   },
   {
    "duration": -245,
    "start_time": "2021-12-29T07:35:01.230Z"
   },
   {
    "duration": -245,
    "start_time": "2021-12-29T07:35:01.232Z"
   },
   {
    "duration": -246,
    "start_time": "2021-12-29T07:35:01.234Z"
   },
   {
    "duration": -245,
    "start_time": "2021-12-29T07:35:01.235Z"
   },
   {
    "duration": -246,
    "start_time": "2021-12-29T07:35:01.237Z"
   },
   {
    "duration": -245,
    "start_time": "2021-12-29T07:35:01.238Z"
   },
   {
    "duration": -246,
    "start_time": "2021-12-29T07:35:01.240Z"
   },
   {
    "duration": -245,
    "start_time": "2021-12-29T07:35:01.241Z"
   },
   {
    "duration": -290,
    "start_time": "2021-12-29T07:35:01.287Z"
   },
   {
    "duration": -290,
    "start_time": "2021-12-29T07:35:01.289Z"
   },
   {
    "duration": -291,
    "start_time": "2021-12-29T07:35:01.291Z"
   },
   {
    "duration": -291,
    "start_time": "2021-12-29T07:35:01.293Z"
   },
   {
    "duration": -291,
    "start_time": "2021-12-29T07:35:01.294Z"
   },
   {
    "duration": -290,
    "start_time": "2021-12-29T07:35:01.295Z"
   },
   {
    "duration": -235,
    "start_time": "2021-12-29T07:35:01.297Z"
   },
   {
    "duration": -235,
    "start_time": "2021-12-29T07:35:01.299Z"
   },
   {
    "duration": -234,
    "start_time": "2021-12-29T07:35:01.300Z"
   },
   {
    "duration": -233,
    "start_time": "2021-12-29T07:35:01.302Z"
   },
   {
    "duration": -232,
    "start_time": "2021-12-29T07:35:01.303Z"
   },
   {
    "duration": -233,
    "start_time": "2021-12-29T07:35:01.305Z"
   },
   {
    "duration": -233,
    "start_time": "2021-12-29T07:35:01.306Z"
   },
   {
    "duration": -233,
    "start_time": "2021-12-29T07:35:01.308Z"
   },
   {
    "duration": 365617,
    "start_time": "2021-12-29T07:35:36.578Z"
   },
   {
    "duration": 26,
    "start_time": "2021-12-29T07:41:42.172Z"
   },
   {
    "duration": 23,
    "start_time": "2021-12-29T07:41:42.176Z"
   },
   {
    "duration": 22,
    "start_time": "2021-12-29T07:41:42.179Z"
   },
   {
    "duration": -1,
    "start_time": "2021-12-29T07:41:42.203Z"
   },
   {
    "duration": 33279,
    "start_time": "2021-12-29T07:42:20.663Z"
   },
   {
    "duration": 216878,
    "start_time": "2021-12-29T07:43:04.916Z"
   },
   {
    "duration": 47425,
    "start_time": "2021-12-29T07:50:39.181Z"
   },
   {
    "duration": 80873,
    "start_time": "2021-12-29T07:52:23.006Z"
   },
   {
    "duration": 1033,
    "start_time": "2021-12-29T07:54:51.913Z"
   },
   {
    "duration": 85,
    "start_time": "2021-12-29T07:59:04.987Z"
   },
   {
    "duration": 167748,
    "start_time": "2021-12-29T08:02:21.477Z"
   },
   {
    "duration": 1387,
    "start_time": "2021-12-29T09:31:06.169Z"
   },
   {
    "duration": 4,
    "start_time": "2021-12-29T09:31:07.560Z"
   },
   {
    "duration": 773,
    "start_time": "2021-12-29T09:31:07.567Z"
   },
   {
    "duration": 129,
    "start_time": "2021-12-29T09:31:08.342Z"
   },
   {
    "duration": 130,
    "start_time": "2021-12-29T09:31:08.473Z"
   },
   {
    "duration": 126,
    "start_time": "2021-12-29T09:31:08.605Z"
   },
   {
    "duration": 3,
    "start_time": "2021-12-29T09:31:08.733Z"
   },
   {
    "duration": 727,
    "start_time": "2021-12-29T09:31:08.739Z"
   },
   {
    "duration": 115,
    "start_time": "2021-12-29T09:31:09.469Z"
   },
   {
    "duration": 80,
    "start_time": "2021-12-29T09:31:09.585Z"
   },
   {
    "duration": 27,
    "start_time": "2021-12-29T09:31:09.667Z"
   },
   {
    "duration": 19,
    "start_time": "2021-12-29T09:31:09.696Z"
   },
   {
    "duration": 401,
    "start_time": "2021-12-29T09:31:09.717Z"
   },
   {
    "duration": 111,
    "start_time": "2021-12-29T09:31:10.120Z"
   },
   {
    "duration": 31,
    "start_time": "2021-12-29T09:31:10.232Z"
   },
   {
    "duration": 5,
    "start_time": "2021-12-29T09:31:10.265Z"
   },
   {
    "duration": 6,
    "start_time": "2021-12-29T09:31:10.272Z"
   },
   {
    "duration": 2989,
    "start_time": "2021-12-29T09:31:10.279Z"
   },
   {
    "duration": 685,
    "start_time": "2021-12-29T09:31:13.270Z"
   },
   {
    "duration": 19,
    "start_time": "2021-12-29T09:31:13.957Z"
   },
   {
    "duration": 6,
    "start_time": "2021-12-29T09:31:13.978Z"
   },
   {
    "duration": 14,
    "start_time": "2021-12-29T09:31:13.986Z"
   },
   {
    "duration": 99,
    "start_time": "2021-12-29T09:31:14.004Z"
   },
   {
    "duration": 661,
    "start_time": "2021-12-29T09:31:14.106Z"
   },
   {
    "duration": 19,
    "start_time": "2021-12-29T09:31:14.769Z"
   },
   {
    "duration": 23,
    "start_time": "2021-12-29T09:31:14.789Z"
   },
   {
    "duration": 5,
    "start_time": "2021-12-29T09:31:14.814Z"
   },
   {
    "duration": 86,
    "start_time": "2021-12-29T09:31:14.821Z"
   },
   {
    "duration": 81,
    "start_time": "2021-12-29T09:31:14.909Z"
   },
   {
    "duration": 25,
    "start_time": "2021-12-29T09:31:14.992Z"
   },
   {
    "duration": 148,
    "start_time": "2021-12-29T09:31:15.019Z"
   },
   {
    "duration": 135,
    "start_time": "2021-12-29T09:31:15.169Z"
   },
   {
    "duration": 27,
    "start_time": "2021-12-29T09:31:15.306Z"
   },
   {
    "duration": 5216,
    "start_time": "2021-12-29T09:31:15.335Z"
   },
   {
    "duration": 18,
    "start_time": "2021-12-29T09:31:20.560Z"
   },
   {
    "duration": 87,
    "start_time": "2021-12-29T09:31:20.580Z"
   },
   {
    "duration": 36,
    "start_time": "2021-12-29T09:31:20.669Z"
   },
   {
    "duration": 4,
    "start_time": "2021-12-29T09:31:20.708Z"
   },
   {
    "duration": 34,
    "start_time": "2021-12-29T09:31:20.714Z"
   },
   {
    "duration": 13,
    "start_time": "2021-12-29T09:31:20.749Z"
   },
   {
    "duration": 44,
    "start_time": "2021-12-29T09:31:20.764Z"
   },
   {
    "duration": 10,
    "start_time": "2021-12-29T09:31:20.810Z"
   },
   {
    "duration": 984,
    "start_time": "2021-12-29T09:31:20.821Z"
   },
   {
    "duration": 17,
    "start_time": "2021-12-29T09:31:21.807Z"
   },
   {
    "duration": 76,
    "start_time": "2021-12-29T09:31:21.826Z"
   },
   {
    "duration": 29,
    "start_time": "2021-12-29T09:31:21.904Z"
   },
   {
    "duration": 4,
    "start_time": "2021-12-29T09:31:21.934Z"
   },
   {
    "duration": 20,
    "start_time": "2021-12-29T09:31:21.939Z"
   },
   {
    "duration": 901,
    "start_time": "2021-12-29T09:31:21.961Z"
   },
   {
    "duration": 202,
    "start_time": "2021-12-29T09:31:22.864Z"
   },
   {
    "duration": 777,
    "start_time": "2021-12-29T09:31:23.067Z"
   },
   {
    "duration": 275,
    "start_time": "2021-12-29T09:31:23.846Z"
   },
   {
    "duration": 4,
    "start_time": "2021-12-29T09:31:24.123Z"
   },
   {
    "duration": 6,
    "start_time": "2021-12-29T09:31:24.129Z"
   },
   {
    "duration": 27141,
    "start_time": "2021-12-29T09:31:24.137Z"
   },
   {
    "duration": 105356,
    "start_time": "2021-12-29T09:31:51.281Z"
   },
   {
    "duration": 162597,
    "start_time": "2021-12-29T09:33:36.640Z"
   },
   {
    "duration": 24230,
    "start_time": "2021-12-29T09:36:19.238Z"
   },
   {
    "duration": 4243,
    "start_time": "2021-12-29T09:36:43.561Z"
   },
   {
    "duration": 263138,
    "start_time": "2021-12-29T09:36:47.806Z"
   },
   {
    "duration": -58284,
    "start_time": "2021-12-29T09:42:09.231Z"
   },
   {
    "duration": -58287,
    "start_time": "2021-12-29T09:42:09.235Z"
   },
   {
    "duration": -58289,
    "start_time": "2021-12-29T09:42:09.238Z"
   },
   {
    "duration": -58290,
    "start_time": "2021-12-29T09:42:09.240Z"
   },
   {
    "duration": -58291,
    "start_time": "2021-12-29T09:42:09.242Z"
   },
   {
    "duration": -58293,
    "start_time": "2021-12-29T09:42:09.245Z"
   },
   {
    "duration": -58294,
    "start_time": "2021-12-29T09:42:09.247Z"
   },
   {
    "duration": -58315,
    "start_time": "2021-12-29T09:42:09.269Z"
   },
   {
    "duration": -58322,
    "start_time": "2021-12-29T09:42:09.277Z"
   },
   {
    "duration": -58332,
    "start_time": "2021-12-29T09:42:09.288Z"
   },
   {
    "duration": -58333,
    "start_time": "2021-12-29T09:42:09.290Z"
   },
   {
    "duration": -58334,
    "start_time": "2021-12-29T09:42:09.292Z"
   },
   {
    "duration": -58335,
    "start_time": "2021-12-29T09:42:09.294Z"
   },
   {
    "duration": -58343,
    "start_time": "2021-12-29T09:42:09.304Z"
   },
   {
    "duration": -58361,
    "start_time": "2021-12-29T09:42:09.323Z"
   },
   {
    "duration": -58431,
    "start_time": "2021-12-29T09:42:09.394Z"
   },
   {
    "duration": -58432,
    "start_time": "2021-12-29T09:42:09.396Z"
   },
   {
    "duration": -58492,
    "start_time": "2021-12-29T09:42:09.457Z"
   },
   {
    "duration": -58493,
    "start_time": "2021-12-29T09:42:09.459Z"
   },
   {
    "duration": -58494,
    "start_time": "2021-12-29T09:42:09.460Z"
   },
   {
    "duration": -58495,
    "start_time": "2021-12-29T09:42:09.462Z"
   },
   {
    "duration": -58496,
    "start_time": "2021-12-29T09:42:09.464Z"
   },
   {
    "duration": -58497,
    "start_time": "2021-12-29T09:42:09.466Z"
   },
   {
    "duration": -58497,
    "start_time": "2021-12-29T09:42:09.467Z"
   },
   {
    "duration": -58497,
    "start_time": "2021-12-29T09:42:09.468Z"
   },
   {
    "duration": -58516,
    "start_time": "2021-12-29T09:42:09.488Z"
   },
   {
    "duration": -58518,
    "start_time": "2021-12-29T09:42:09.490Z"
   },
   {
    "duration": -58519,
    "start_time": "2021-12-29T09:42:09.492Z"
   },
   {
    "duration": -58518,
    "start_time": "2021-12-29T09:42:09.493Z"
   },
   {
    "duration": -58530,
    "start_time": "2021-12-29T09:42:09.506Z"
   },
   {
    "duration": -58530,
    "start_time": "2021-12-29T09:42:09.507Z"
   },
   {
    "duration": -58531,
    "start_time": "2021-12-29T09:42:09.509Z"
   },
   {
    "duration": -58532,
    "start_time": "2021-12-29T09:42:09.511Z"
   },
   {
    "duration": -58533,
    "start_time": "2021-12-29T09:42:09.513Z"
   },
   {
    "duration": -58533,
    "start_time": "2021-12-29T09:42:09.514Z"
   },
   {
    "duration": -58534,
    "start_time": "2021-12-29T09:42:09.516Z"
   },
   {
    "duration": -58534,
    "start_time": "2021-12-29T09:42:09.518Z"
   },
   {
    "duration": -58533,
    "start_time": "2021-12-29T09:42:09.519Z"
   },
   {
    "duration": -58534,
    "start_time": "2021-12-29T09:42:09.521Z"
   },
   {
    "duration": -58535,
    "start_time": "2021-12-29T09:42:09.523Z"
   },
   {
    "duration": -58534,
    "start_time": "2021-12-29T09:42:09.524Z"
   },
   {
    "duration": -58535,
    "start_time": "2021-12-29T09:42:09.526Z"
   },
   {
    "duration": -58554,
    "start_time": "2021-12-29T09:42:09.547Z"
   },
   {
    "duration": -58555,
    "start_time": "2021-12-29T09:42:09.549Z"
   },
   {
    "duration": -58556,
    "start_time": "2021-12-29T09:42:09.551Z"
   },
   {
    "duration": -58556,
    "start_time": "2021-12-29T09:42:09.553Z"
   },
   {
    "duration": -58556,
    "start_time": "2021-12-29T09:42:09.554Z"
   },
   {
    "duration": -58556,
    "start_time": "2021-12-29T09:42:09.556Z"
   },
   {
    "duration": -58497,
    "start_time": "2021-12-29T09:42:09.558Z"
   },
   {
    "duration": 638080,
    "start_time": "2021-12-29T09:42:23.192Z"
   },
   {
    "duration": 102614,
    "start_time": "2021-12-29T09:53:21.356Z"
   },
   {
    "duration": 3504,
    "start_time": "2021-12-29T09:55:24.666Z"
   },
   {
    "duration": 47248,
    "start_time": "2021-12-29T09:55:32.929Z"
   },
   {
    "duration": 6,
    "start_time": "2021-12-29T09:56:48.147Z"
   },
   {
    "duration": 8,
    "start_time": "2021-12-29T09:56:56.399Z"
   },
   {
    "duration": 9,
    "start_time": "2021-12-29T09:56:56.410Z"
   },
   {
    "duration": 301,
    "start_time": "2021-12-29T09:56:56.422Z"
   },
   {
    "duration": 65,
    "start_time": "2021-12-29T09:56:56.725Z"
   },
   {
    "duration": 41,
    "start_time": "2021-12-29T09:56:56.793Z"
   },
   {
    "duration": 163,
    "start_time": "2021-12-29T09:56:56.836Z"
   },
   {
    "duration": 292,
    "start_time": "2021-12-29T09:56:57.001Z"
   },
   {
    "duration": 219,
    "start_time": "2021-12-29T09:56:57.295Z"
   },
   {
    "duration": -106,
    "start_time": "2021-12-29T09:56:57.623Z"
   },
   {
    "duration": -107,
    "start_time": "2021-12-29T09:56:57.625Z"
   },
   {
    "duration": -108,
    "start_time": "2021-12-29T09:56:57.628Z"
   },
   {
    "duration": -110,
    "start_time": "2021-12-29T09:56:57.631Z"
   },
   {
    "duration": -139,
    "start_time": "2021-12-29T09:56:57.662Z"
   },
   {
    "duration": -147,
    "start_time": "2021-12-29T09:56:57.671Z"
   },
   {
    "duration": -149,
    "start_time": "2021-12-29T09:56:57.674Z"
   },
   {
    "duration": -149,
    "start_time": "2021-12-29T09:56:57.676Z"
   },
   {
    "duration": -150,
    "start_time": "2021-12-29T09:56:57.678Z"
   },
   {
    "duration": -159,
    "start_time": "2021-12-29T09:56:57.688Z"
   },
   {
    "duration": -159,
    "start_time": "2021-12-29T09:56:57.690Z"
   },
   {
    "duration": -159,
    "start_time": "2021-12-29T09:56:57.691Z"
   },
   {
    "duration": -159,
    "start_time": "2021-12-29T09:56:57.693Z"
   },
   {
    "duration": -160,
    "start_time": "2021-12-29T09:56:57.695Z"
   },
   {
    "duration": -161,
    "start_time": "2021-12-29T09:56:57.697Z"
   },
   {
    "duration": -161,
    "start_time": "2021-12-29T09:56:57.699Z"
   },
   {
    "duration": -162,
    "start_time": "2021-12-29T09:56:57.701Z"
   },
   {
    "duration": -173,
    "start_time": "2021-12-29T09:56:57.713Z"
   },
   {
    "duration": -174,
    "start_time": "2021-12-29T09:56:57.716Z"
   },
   {
    "duration": -181,
    "start_time": "2021-12-29T09:56:57.724Z"
   },
   {
    "duration": -192,
    "start_time": "2021-12-29T09:56:57.736Z"
   },
   {
    "duration": -191,
    "start_time": "2021-12-29T09:56:57.737Z"
   },
   {
    "duration": -192,
    "start_time": "2021-12-29T09:56:57.739Z"
   },
   {
    "duration": -193,
    "start_time": "2021-12-29T09:56:57.741Z"
   },
   {
    "duration": -192,
    "start_time": "2021-12-29T09:56:57.742Z"
   },
   {
    "duration": -193,
    "start_time": "2021-12-29T09:56:57.744Z"
   },
   {
    "duration": -214,
    "start_time": "2021-12-29T09:56:57.766Z"
   },
   {
    "duration": -219,
    "start_time": "2021-12-29T09:56:57.773Z"
   },
   {
    "duration": -222,
    "start_time": "2021-12-29T09:56:57.777Z"
   },
   {
    "duration": -223,
    "start_time": "2021-12-29T09:56:57.780Z"
   },
   {
    "duration": -225,
    "start_time": "2021-12-29T09:56:57.783Z"
   },
   {
    "duration": -227,
    "start_time": "2021-12-29T09:56:57.786Z"
   },
   {
    "duration": -238,
    "start_time": "2021-12-29T09:56:57.798Z"
   },
   {
    "duration": -241,
    "start_time": "2021-12-29T09:56:57.802Z"
   },
   {
    "duration": -240,
    "start_time": "2021-12-29T09:56:57.803Z"
   },
   {
    "duration": -242,
    "start_time": "2021-12-29T09:56:57.806Z"
   },
   {
    "duration": -243,
    "start_time": "2021-12-29T09:56:57.808Z"
   },
   {
    "duration": 164873,
    "start_time": "2021-12-29T09:58:51.453Z"
   },
   {
    "duration": 148510,
    "start_time": "2021-12-29T10:03:05.168Z"
   },
   {
    "duration": 147592,
    "start_time": "2021-12-29T10:05:33.680Z"
   },
   {
    "duration": 15025,
    "start_time": "2021-12-29T10:08:01.274Z"
   },
   {
    "duration": 273,
    "start_time": "2021-12-29T10:08:16.301Z"
   },
   {
    "duration": 375,
    "start_time": "2021-12-29T10:08:16.576Z"
   },
   {
    "duration": -143,
    "start_time": "2021-12-29T10:08:17.097Z"
   },
   {
    "duration": -145,
    "start_time": "2021-12-29T10:08:17.100Z"
   },
   {
    "duration": -147,
    "start_time": "2021-12-29T10:08:17.103Z"
   },
   {
    "duration": -148,
    "start_time": "2021-12-29T10:08:17.105Z"
   },
   {
    "duration": -150,
    "start_time": "2021-12-29T10:08:17.108Z"
   },
   {
    "duration": -151,
    "start_time": "2021-12-29T10:08:17.110Z"
   },
   {
    "duration": -163,
    "start_time": "2021-12-29T10:08:17.123Z"
   },
   {
    "duration": -165,
    "start_time": "2021-12-29T10:08:17.126Z"
   },
   {
    "duration": -166,
    "start_time": "2021-12-29T10:08:17.128Z"
   },
   {
    "duration": -166,
    "start_time": "2021-12-29T10:08:17.129Z"
   },
   {
    "duration": -167,
    "start_time": "2021-12-29T10:08:17.132Z"
   },
   {
    "duration": -168,
    "start_time": "2021-12-29T10:08:17.133Z"
   },
   {
    "duration": -169,
    "start_time": "2021-12-29T10:08:17.135Z"
   },
   {
    "duration": -170,
    "start_time": "2021-12-29T10:08:17.137Z"
   },
   {
    "duration": -171,
    "start_time": "2021-12-29T10:08:17.139Z"
   },
   {
    "duration": -173,
    "start_time": "2021-12-29T10:08:17.142Z"
   },
   {
    "duration": -174,
    "start_time": "2021-12-29T10:08:17.144Z"
   },
   {
    "duration": -187,
    "start_time": "2021-12-29T10:08:17.157Z"
   },
   {
    "duration": -189,
    "start_time": "2021-12-29T10:08:17.160Z"
   },
   {
    "duration": -189,
    "start_time": "2021-12-29T10:08:17.161Z"
   },
   {
    "duration": -190,
    "start_time": "2021-12-29T10:08:17.163Z"
   },
   {
    "duration": -191,
    "start_time": "2021-12-29T10:08:17.165Z"
   },
   {
    "duration": -191,
    "start_time": "2021-12-29T10:08:17.166Z"
   },
   {
    "duration": -193,
    "start_time": "2021-12-29T10:08:17.168Z"
   },
   {
    "duration": -194,
    "start_time": "2021-12-29T10:08:17.170Z"
   },
   {
    "duration": -195,
    "start_time": "2021-12-29T10:08:17.172Z"
   },
   {
    "duration": -195,
    "start_time": "2021-12-29T10:08:17.173Z"
   },
   {
    "duration": -197,
    "start_time": "2021-12-29T10:08:17.175Z"
   },
   {
    "duration": -197,
    "start_time": "2021-12-29T10:08:17.176Z"
   },
   {
    "duration": -198,
    "start_time": "2021-12-29T10:08:17.178Z"
   },
   {
    "duration": -199,
    "start_time": "2021-12-29T10:08:17.180Z"
   },
   {
    "duration": -199,
    "start_time": "2021-12-29T10:08:17.181Z"
   },
   {
    "duration": -216,
    "start_time": "2021-12-29T10:08:17.198Z"
   },
   {
    "duration": -216,
    "start_time": "2021-12-29T10:08:17.200Z"
   },
   {
    "duration": 35,
    "start_time": "2021-12-29T10:25:47.715Z"
   },
   {
    "duration": 18,
    "start_time": "2021-12-29T10:25:48.465Z"
   },
   {
    "duration": 41,
    "start_time": "2021-12-29T10:25:49.116Z"
   },
   {
    "duration": 245,
    "start_time": "2021-12-29T10:25:55.194Z"
   },
   {
    "duration": 30,
    "start_time": "2021-12-29T10:27:30.554Z"
   },
   {
    "duration": 21,
    "start_time": "2021-12-29T10:27:40.406Z"
   },
   {
    "duration": 146617,
    "start_time": "2021-12-29T10:28:21.576Z"
   },
   {
    "duration": 148076,
    "start_time": "2021-12-29T10:30:48.194Z"
   },
   {
    "duration": 14773,
    "start_time": "2021-12-29T10:33:16.272Z"
   },
   {
    "duration": 270,
    "start_time": "2021-12-29T10:33:31.047Z"
   },
   {
    "duration": 317,
    "start_time": "2021-12-29T10:33:31.319Z"
   },
   {
    "duration": -95,
    "start_time": "2021-12-29T10:33:31.734Z"
   },
   {
    "duration": -97,
    "start_time": "2021-12-29T10:33:31.737Z"
   },
   {
    "duration": -112,
    "start_time": "2021-12-29T10:33:31.753Z"
   },
   {
    "duration": -127,
    "start_time": "2021-12-29T10:33:31.769Z"
   },
   {
    "duration": -127,
    "start_time": "2021-12-29T10:33:31.771Z"
   },
   {
    "duration": -129,
    "start_time": "2021-12-29T10:33:31.774Z"
   },
   {
    "duration": -130,
    "start_time": "2021-12-29T10:33:31.776Z"
   },
   {
    "duration": -131,
    "start_time": "2021-12-29T10:33:31.779Z"
   },
   {
    "duration": -132,
    "start_time": "2021-12-29T10:33:31.781Z"
   },
   {
    "duration": -134,
    "start_time": "2021-12-29T10:33:31.784Z"
   },
   {
    "duration": -135,
    "start_time": "2021-12-29T10:33:31.786Z"
   },
   {
    "duration": -135,
    "start_time": "2021-12-29T10:33:31.788Z"
   },
   {
    "duration": -140,
    "start_time": "2021-12-29T10:33:31.794Z"
   },
   {
    "duration": -142,
    "start_time": "2021-12-29T10:33:31.797Z"
   },
   {
    "duration": -142,
    "start_time": "2021-12-29T10:33:31.799Z"
   },
   {
    "duration": -142,
    "start_time": "2021-12-29T10:33:31.800Z"
   },
   {
    "duration": -143,
    "start_time": "2021-12-29T10:33:31.802Z"
   },
   {
    "duration": -144,
    "start_time": "2021-12-29T10:33:31.804Z"
   },
   {
    "duration": -144,
    "start_time": "2021-12-29T10:33:31.805Z"
   },
   {
    "duration": -144,
    "start_time": "2021-12-29T10:33:31.807Z"
   },
   {
    "duration": -144,
    "start_time": "2021-12-29T10:33:31.808Z"
   },
   {
    "duration": -145,
    "start_time": "2021-12-29T10:33:31.810Z"
   },
   {
    "duration": -145,
    "start_time": "2021-12-29T10:33:31.811Z"
   },
   {
    "duration": -146,
    "start_time": "2021-12-29T10:33:31.813Z"
   },
   {
    "duration": -146,
    "start_time": "2021-12-29T10:33:31.814Z"
   },
   {
    "duration": -146,
    "start_time": "2021-12-29T10:33:31.815Z"
   },
   {
    "duration": -147,
    "start_time": "2021-12-29T10:33:31.817Z"
   },
   {
    "duration": -147,
    "start_time": "2021-12-29T10:33:31.818Z"
   },
   {
    "duration": -148,
    "start_time": "2021-12-29T10:33:31.820Z"
   },
   {
    "duration": -173,
    "start_time": "2021-12-29T10:33:31.847Z"
   },
   {
    "duration": -173,
    "start_time": "2021-12-29T10:33:31.848Z"
   },
   {
    "duration": -174,
    "start_time": "2021-12-29T10:33:31.850Z"
   },
   {
    "duration": -174,
    "start_time": "2021-12-29T10:33:31.851Z"
   },
   {
    "duration": -173,
    "start_time": "2021-12-29T10:33:31.852Z"
   },
   {
    "duration": 159536,
    "start_time": "2021-12-29T10:36:20.252Z"
   },
   {
    "duration": 146492,
    "start_time": "2021-12-29T10:40:41.313Z"
   },
   {
    "duration": 148558,
    "start_time": "2021-12-29T10:43:07.807Z"
   },
   {
    "duration": 14422,
    "start_time": "2021-12-29T10:45:36.368Z"
   },
   {
    "duration": 260,
    "start_time": "2021-12-29T10:45:50.792Z"
   },
   {
    "duration": 307,
    "start_time": "2021-12-29T10:45:51.054Z"
   },
   {
    "duration": -76,
    "start_time": "2021-12-29T10:45:51.439Z"
   },
   {
    "duration": -93,
    "start_time": "2021-12-29T10:45:51.457Z"
   },
   {
    "duration": -110,
    "start_time": "2021-12-29T10:45:51.475Z"
   },
   {
    "duration": -112,
    "start_time": "2021-12-29T10:45:51.478Z"
   },
   {
    "duration": -114,
    "start_time": "2021-12-29T10:45:51.481Z"
   },
   {
    "duration": -115,
    "start_time": "2021-12-29T10:45:51.483Z"
   },
   {
    "duration": -117,
    "start_time": "2021-12-29T10:45:51.486Z"
   },
   {
    "duration": -119,
    "start_time": "2021-12-29T10:45:51.489Z"
   },
   {
    "duration": 659,
    "start_time": "2021-12-29T10:46:46.865Z"
   },
   {
    "duration": 1197,
    "start_time": "2021-12-29T10:47:09.108Z"
   },
   {
    "duration": 3,
    "start_time": "2021-12-29T10:47:10.306Z"
   },
   {
    "duration": 812,
    "start_time": "2021-12-29T10:47:10.311Z"
   },
   {
    "duration": 132,
    "start_time": "2021-12-29T10:47:11.125Z"
   },
   {
    "duration": 125,
    "start_time": "2021-12-29T10:47:11.260Z"
   },
   {
    "duration": 155,
    "start_time": "2021-12-29T10:47:11.387Z"
   },
   {
    "duration": 14,
    "start_time": "2021-12-29T10:47:11.549Z"
   },
   {
    "duration": 1060,
    "start_time": "2021-12-29T10:47:11.567Z"
   },
   {
    "duration": 116,
    "start_time": "2021-12-29T10:47:12.630Z"
   },
   {
    "duration": 84,
    "start_time": "2021-12-29T10:47:12.748Z"
   },
   {
    "duration": 35,
    "start_time": "2021-12-29T10:47:12.834Z"
   },
   {
    "duration": 19,
    "start_time": "2021-12-29T10:47:12.871Z"
   },
   {
    "duration": 415,
    "start_time": "2021-12-29T10:47:12.891Z"
   },
   {
    "duration": 123,
    "start_time": "2021-12-29T10:47:13.308Z"
   },
   {
    "duration": 27,
    "start_time": "2021-12-29T10:47:13.433Z"
   },
   {
    "duration": 6,
    "start_time": "2021-12-29T10:47:13.463Z"
   },
   {
    "duration": 9,
    "start_time": "2021-12-29T10:47:13.470Z"
   },
   {
    "duration": 2932,
    "start_time": "2021-12-29T10:47:13.480Z"
   },
   {
    "duration": 679,
    "start_time": "2021-12-29T10:47:16.415Z"
   },
   {
    "duration": 18,
    "start_time": "2021-12-29T10:47:17.096Z"
   },
   {
    "duration": 6,
    "start_time": "2021-12-29T10:47:17.115Z"
   },
   {
    "duration": 12,
    "start_time": "2021-12-29T10:47:17.123Z"
   },
   {
    "duration": 95,
    "start_time": "2021-12-29T10:47:17.138Z"
   },
   {
    "duration": 668,
    "start_time": "2021-12-29T10:47:17.237Z"
   },
   {
    "duration": 18,
    "start_time": "2021-12-29T10:47:17.907Z"
   },
   {
    "duration": 40,
    "start_time": "2021-12-29T10:47:17.927Z"
   },
   {
    "duration": 7,
    "start_time": "2021-12-29T10:47:17.969Z"
   },
   {
    "duration": 83,
    "start_time": "2021-12-29T10:47:17.978Z"
   },
   {
    "duration": 74,
    "start_time": "2021-12-29T10:47:18.063Z"
   },
   {
    "duration": 22,
    "start_time": "2021-12-29T10:47:18.139Z"
   },
   {
    "duration": 120,
    "start_time": "2021-12-29T10:47:18.163Z"
   },
   {
    "duration": 144,
    "start_time": "2021-12-29T10:47:18.285Z"
   },
   {
    "duration": 36,
    "start_time": "2021-12-29T10:47:18.431Z"
   },
   {
    "duration": 5028,
    "start_time": "2021-12-29T10:47:18.469Z"
   },
   {
    "duration": 18,
    "start_time": "2021-12-29T10:47:23.499Z"
   },
   {
    "duration": 93,
    "start_time": "2021-12-29T10:47:23.519Z"
   },
   {
    "duration": 36,
    "start_time": "2021-12-29T10:47:23.613Z"
   },
   {
    "duration": 11,
    "start_time": "2021-12-29T10:47:23.650Z"
   },
   {
    "duration": 4,
    "start_time": "2021-12-29T10:47:23.662Z"
   },
   {
    "duration": 6,
    "start_time": "2021-12-29T10:47:23.667Z"
   },
   {
    "duration": 37,
    "start_time": "2021-12-29T10:47:23.674Z"
   },
   {
    "duration": 9,
    "start_time": "2021-12-29T10:47:23.713Z"
   },
   {
    "duration": 1005,
    "start_time": "2021-12-29T10:47:23.724Z"
   },
   {
    "duration": 30,
    "start_time": "2021-12-29T10:47:24.732Z"
   },
   {
    "duration": 61,
    "start_time": "2021-12-29T10:47:24.764Z"
   },
   {
    "duration": 41,
    "start_time": "2021-12-29T10:47:24.827Z"
   },
   {
    "duration": 4,
    "start_time": "2021-12-29T10:47:24.869Z"
   },
   {
    "duration": 6,
    "start_time": "2021-12-29T10:47:24.874Z"
   },
   {
    "duration": 827,
    "start_time": "2021-12-29T10:47:24.882Z"
   },
   {
    "duration": 203,
    "start_time": "2021-12-29T10:47:25.711Z"
   },
   {
    "duration": 744,
    "start_time": "2021-12-29T10:47:25.916Z"
   },
   {
    "duration": 262,
    "start_time": "2021-12-29T10:47:26.662Z"
   },
   {
    "duration": 4,
    "start_time": "2021-12-29T10:47:26.926Z"
   },
   {
    "duration": 12,
    "start_time": "2021-12-29T10:47:26.931Z"
   },
   {
    "duration": 26564,
    "start_time": "2021-12-29T10:47:26.945Z"
   },
   {
    "duration": 103829,
    "start_time": "2021-12-29T10:47:53.511Z"
   },
   {
    "duration": 161765,
    "start_time": "2021-12-29T10:49:37.341Z"
   },
   {
    "duration": 20759,
    "start_time": "2021-12-29T10:52:19.108Z"
   },
   {
    "duration": 4198,
    "start_time": "2021-12-29T10:52:39.870Z"
   },
   {
    "duration": 622205,
    "start_time": "2021-12-29T10:52:44.070Z"
   },
   {
    "duration": 101595,
    "start_time": "2021-12-29T11:03:06.277Z"
   },
   {
    "duration": 3094,
    "start_time": "2021-12-29T11:04:47.873Z"
   },
   {
    "duration": 46116,
    "start_time": "2021-12-29T11:04:50.969Z"
   },
   {
    "duration": 78,
    "start_time": "2021-12-29T11:05:37.086Z"
   },
   {
    "duration": 7,
    "start_time": "2021-12-29T11:05:37.166Z"
   },
   {
    "duration": 8,
    "start_time": "2021-12-29T11:05:37.175Z"
   },
   {
    "duration": 304,
    "start_time": "2021-12-29T11:05:37.184Z"
   },
   {
    "duration": 32,
    "start_time": "2021-12-29T11:05:37.494Z"
   },
   {
    "duration": 33,
    "start_time": "2021-12-29T11:05:37.528Z"
   },
   {
    "duration": 41,
    "start_time": "2021-12-29T11:05:37.563Z"
   },
   {
    "duration": 150025,
    "start_time": "2021-12-29T11:05:37.606Z"
   },
   {
    "duration": 155108,
    "start_time": "2021-12-29T11:08:07.633Z"
   },
   {
    "duration": 15579,
    "start_time": "2021-12-29T11:10:42.743Z"
   },
   {
    "duration": 370,
    "start_time": "2021-12-29T11:10:58.324Z"
   },
   {
    "duration": 325,
    "start_time": "2021-12-29T11:10:58.696Z"
   },
   {
    "duration": -318071,
    "start_time": "2021-12-29T11:16:17.094Z"
   },
   {
    "duration": -318071,
    "start_time": "2021-12-29T11:16:17.095Z"
   },
   {
    "duration": -318073,
    "start_time": "2021-12-29T11:16:17.097Z"
   },
   {
    "duration": -318083,
    "start_time": "2021-12-29T11:16:17.108Z"
   },
   {
    "duration": -318084,
    "start_time": "2021-12-29T11:16:17.110Z"
   },
   {
    "duration": -318085,
    "start_time": "2021-12-29T11:16:17.112Z"
   },
   {
    "duration": -318085,
    "start_time": "2021-12-29T11:16:17.113Z"
   },
   {
    "duration": -318087,
    "start_time": "2021-12-29T11:16:17.115Z"
   },
   {
    "duration": -318102,
    "start_time": "2021-12-29T11:16:17.131Z"
   },
   {
    "duration": -318103,
    "start_time": "2021-12-29T11:16:17.133Z"
   },
   {
    "duration": -318132,
    "start_time": "2021-12-29T11:16:17.163Z"
   },
   {
    "duration": -318133,
    "start_time": "2021-12-29T11:16:17.165Z"
   },
   {
    "duration": -318134,
    "start_time": "2021-12-29T11:16:17.167Z"
   },
   {
    "duration": -318142,
    "start_time": "2021-12-29T11:16:17.176Z"
   },
   {
    "duration": -318150,
    "start_time": "2021-12-29T11:16:17.184Z"
   },
   {
    "duration": -318044,
    "start_time": "2021-12-29T11:16:17.186Z"
   },
   {
    "duration": -318051,
    "start_time": "2021-12-29T11:16:17.194Z"
   },
   {
    "duration": -318212,
    "start_time": "2021-12-29T11:16:17.357Z"
   },
   {
    "duration": -318213,
    "start_time": "2021-12-29T11:16:17.359Z"
   },
   {
    "duration": -318212,
    "start_time": "2021-12-29T11:16:17.361Z"
   },
   {
    "duration": -318214,
    "start_time": "2021-12-29T11:16:17.364Z"
   },
   {
    "duration": -318206,
    "start_time": "2021-12-29T11:16:17.366Z"
   },
   {
    "duration": -318205,
    "start_time": "2021-12-29T11:16:17.367Z"
   },
   {
    "duration": -318205,
    "start_time": "2021-12-29T11:16:17.369Z"
   },
   {
    "duration": -318206,
    "start_time": "2021-12-29T11:16:17.371Z"
   },
   {
    "duration": -318206,
    "start_time": "2021-12-29T11:16:17.373Z"
   },
   {
    "duration": -318207,
    "start_time": "2021-12-29T11:16:17.375Z"
   },
   {
    "duration": -318207,
    "start_time": "2021-12-29T11:16:17.377Z"
   },
   {
    "duration": -318208,
    "start_time": "2021-12-29T11:16:17.379Z"
   },
   {
    "duration": -318208,
    "start_time": "2021-12-29T11:16:17.381Z"
   },
   {
    "duration": -318209,
    "start_time": "2021-12-29T11:16:17.383Z"
   },
   {
    "duration": -318208,
    "start_time": "2021-12-29T11:16:17.384Z"
   },
   {
    "duration": -318222,
    "start_time": "2021-12-29T11:16:17.399Z"
   },
   {
    "duration": -318222,
    "start_time": "2021-12-29T11:16:17.401Z"
   },
   {
    "duration": 649,
    "start_time": "2021-12-29T11:17:07.841Z"
   },
   {
    "duration": 309,
    "start_time": "2021-12-29T11:17:29.962Z"
   },
   {
    "duration": 5,
    "start_time": "2021-12-29T11:17:35.053Z"
   },
   {
    "duration": 17,
    "start_time": "2021-12-29T11:18:29.426Z"
   },
   {
    "duration": 152622,
    "start_time": "2021-12-29T11:19:19.215Z"
   },
   {
    "duration": 1060,
    "start_time": "2021-12-29T11:21:51.839Z"
   },
   {
    "duration": 1082,
    "start_time": "2021-12-29T11:21:52.901Z"
   },
   {
    "duration": 5,
    "start_time": "2021-12-29T11:23:37.499Z"
   },
   {
    "duration": 5,
    "start_time": "2021-12-29T11:23:38.829Z"
   },
   {
    "duration": 59,
    "start_time": "2021-12-29T11:23:50.957Z"
   },
   {
    "duration": 55,
    "start_time": "2021-12-29T11:24:14.765Z"
   },
   {
    "duration": 4,
    "start_time": "2021-12-29T11:24:50.988Z"
   },
   {
    "duration": 277,
    "start_time": "2021-12-29T11:24:56.006Z"
   },
   {
    "duration": 5,
    "start_time": "2021-12-29T11:25:49.146Z"
   },
   {
    "duration": 19,
    "start_time": "2021-12-29T11:26:01.930Z"
   },
   {
    "duration": 8,
    "start_time": "2021-12-29T11:28:23.264Z"
   },
   {
    "duration": 15501,
    "start_time": "2021-12-29T11:33:02.272Z"
   },
   {
    "duration": 4,
    "start_time": "2021-12-29T11:33:38.251Z"
   },
   {
    "duration": 55,
    "start_time": "2021-12-29T11:33:46.881Z"
   },
   {
    "duration": 5,
    "start_time": "2021-12-29T11:33:48.161Z"
   },
   {
    "duration": 4,
    "start_time": "2021-12-29T11:34:09.871Z"
   },
   {
    "duration": 4,
    "start_time": "2021-12-29T11:34:11.381Z"
   },
   {
    "duration": 13,
    "start_time": "2021-12-29T11:34:16.822Z"
   },
   {
    "duration": 250,
    "start_time": "2021-12-29T11:34:33.116Z"
   },
   {
    "duration": 239,
    "start_time": "2021-12-29T11:36:05.081Z"
   },
   {
    "duration": 273,
    "start_time": "2021-12-29T11:36:59.428Z"
   },
   {
    "duration": 228,
    "start_time": "2021-12-29T11:37:21.824Z"
   },
   {
    "duration": 7,
    "start_time": "2021-12-29T11:37:45.958Z"
   },
   {
    "duration": 275,
    "start_time": "2021-12-29T11:38:32.740Z"
   },
   {
    "duration": 10,
    "start_time": "2021-12-29T11:38:55.022Z"
   },
   {
    "duration": 7,
    "start_time": "2021-12-29T11:38:56.353Z"
   },
   {
    "duration": 280,
    "start_time": "2021-12-29T11:38:57.983Z"
   },
   {
    "duration": 268,
    "start_time": "2021-12-29T11:41:53.683Z"
   },
   {
    "duration": 277,
    "start_time": "2021-12-29T11:43:59.232Z"
   },
   {
    "duration": 276,
    "start_time": "2021-12-29T11:45:49.579Z"
   },
   {
    "duration": 276,
    "start_time": "2021-12-29T11:46:27.113Z"
   },
   {
    "duration": 259,
    "start_time": "2021-12-29T11:48:29.259Z"
   },
   {
    "duration": 248,
    "start_time": "2021-12-29T11:48:35.102Z"
   },
   {
    "duration": 510,
    "start_time": "2021-12-29T11:48:51.213Z"
   },
   {
    "duration": 528,
    "start_time": "2021-12-29T11:50:26.786Z"
   },
   {
    "duration": 357,
    "start_time": "2021-12-29T11:50:41.592Z"
   },
   {
    "duration": 287,
    "start_time": "2021-12-29T11:50:57.581Z"
   },
   {
    "duration": 271,
    "start_time": "2021-12-29T11:51:09.211Z"
   },
   {
    "duration": 52,
    "start_time": "2021-12-29T11:52:23.847Z"
   },
   {
    "duration": 7,
    "start_time": "2021-12-29T11:52:24.888Z"
   },
   {
    "duration": 271,
    "start_time": "2021-12-29T11:52:26.942Z"
   },
   {
    "duration": 27569,
    "start_time": "2021-12-29T11:54:39.993Z"
   },
   {
    "duration": 27897,
    "start_time": "2021-12-29T11:55:07.565Z"
   },
   {
    "duration": 204,
    "start_time": "2021-12-29T11:55:35.464Z"
   },
   {
    "duration": 298,
    "start_time": "2021-12-29T11:55:35.670Z"
   },
   {
    "duration": 243,
    "start_time": "2021-12-29T11:55:35.970Z"
   },
   {
    "duration": 50,
    "start_time": "2021-12-29T11:55:36.216Z"
   },
   {
    "duration": 5,
    "start_time": "2021-12-29T11:55:36.268Z"
   },
   {
    "duration": 98,
    "start_time": "2021-12-29T11:55:36.362Z"
   },
   {
    "duration": 210,
    "start_time": "2021-12-29T11:55:36.463Z"
   },
   {
    "duration": -307,
    "start_time": "2021-12-29T11:55:36.982Z"
   },
   {
    "duration": -310,
    "start_time": "2021-12-29T11:55:36.986Z"
   },
   {
    "duration": 3,
    "start_time": "2021-12-29T11:57:17.304Z"
   },
   {
    "duration": 4,
    "start_time": "2021-12-29T11:57:23.235Z"
   },
   {
    "duration": 4,
    "start_time": "2021-12-29T11:57:43.086Z"
   },
   {
    "duration": 9,
    "start_time": "2021-12-29T11:57:45.546Z"
   },
   {
    "duration": 264,
    "start_time": "2021-12-29T11:57:47.475Z"
   },
   {
    "duration": 4,
    "start_time": "2021-12-29T11:58:46.824Z"
   },
   {
    "duration": 9,
    "start_time": "2021-12-29T11:58:51.825Z"
   },
   {
    "duration": 281,
    "start_time": "2021-12-29T11:58:56.175Z"
   },
   {
    "duration": 4,
    "start_time": "2021-12-29T12:00:15.221Z"
   },
   {
    "duration": 4,
    "start_time": "2021-12-29T12:01:34.872Z"
   },
   {
    "duration": 9,
    "start_time": "2021-12-29T12:01:35.505Z"
   },
   {
    "duration": 363,
    "start_time": "2021-12-29T12:01:36.921Z"
   },
   {
    "duration": 4,
    "start_time": "2021-12-29T12:05:29.273Z"
   },
   {
    "duration": 10,
    "start_time": "2021-12-29T12:05:30.893Z"
   },
   {
    "duration": 284,
    "start_time": "2021-12-29T12:05:44.957Z"
   },
   {
    "duration": 224,
    "start_time": "2021-12-29T12:07:38.747Z"
   },
   {
    "duration": 27167,
    "start_time": "2021-12-29T12:07:55.504Z"
   },
   {
    "duration": 19091,
    "start_time": "2021-12-29T12:08:22.673Z"
   },
   {
    "duration": 1211,
    "start_time": "2021-12-29T12:08:41.766Z"
   },
   {
    "duration": 1290,
    "start_time": "2021-12-29T12:08:42.979Z"
   },
   {
    "duration": 14902,
    "start_time": "2021-12-29T12:08:44.270Z"
   },
   {
    "duration": 1013,
    "start_time": "2021-12-29T12:08:59.174Z"
   },
   {
    "duration": 4,
    "start_time": "2021-12-29T12:09:00.189Z"
   },
   {
    "duration": 15,
    "start_time": "2021-12-29T12:09:00.196Z"
   },
   {
    "duration": 6,
    "start_time": "2021-12-29T12:09:00.213Z"
   },
   {
    "duration": 41,
    "start_time": "2021-12-29T12:09:00.221Z"
   },
   {
    "duration": 307,
    "start_time": "2021-12-29T12:09:00.264Z"
   },
   {
    "duration": 6,
    "start_time": "2021-12-29T12:13:35.290Z"
   },
   {
    "duration": 215,
    "start_time": "2021-12-29T12:13:36.324Z"
   },
   {
    "duration": 9,
    "start_time": "2021-12-29T12:13:36.872Z"
   },
   {
    "duration": -188,
    "start_time": "2021-12-29T12:20:24.912Z"
   },
   {
    "duration": -192,
    "start_time": "2021-12-29T12:20:24.917Z"
   },
   {
    "duration": -196,
    "start_time": "2021-12-29T12:20:24.922Z"
   },
   {
    "duration": -197,
    "start_time": "2021-12-29T12:20:24.925Z"
   },
   {
    "duration": -200,
    "start_time": "2021-12-29T12:20:24.929Z"
   },
   {
    "duration": -203,
    "start_time": "2021-12-29T12:20:24.933Z"
   },
   {
    "duration": -205,
    "start_time": "2021-12-29T12:20:24.936Z"
   },
   {
    "duration": -207,
    "start_time": "2021-12-29T12:20:24.939Z"
   },
   {
    "duration": 235290,
    "start_time": "2021-12-29T12:20:56.732Z"
   },
   {
    "duration": 1208,
    "start_time": "2021-12-29T16:45:51.200Z"
   },
   {
    "duration": 2,
    "start_time": "2021-12-29T16:45:52.410Z"
   },
   {
    "duration": 801,
    "start_time": "2021-12-29T16:45:52.414Z"
   },
   {
    "duration": 125,
    "start_time": "2021-12-29T16:45:53.217Z"
   },
   {
    "duration": 118,
    "start_time": "2021-12-29T16:45:53.344Z"
   },
   {
    "duration": 128,
    "start_time": "2021-12-29T16:45:53.464Z"
   },
   {
    "duration": 2,
    "start_time": "2021-12-29T16:45:53.594Z"
   },
   {
    "duration": 676,
    "start_time": "2021-12-29T16:45:53.597Z"
   },
   {
    "duration": 102,
    "start_time": "2021-12-29T16:45:54.275Z"
   },
   {
    "duration": 75,
    "start_time": "2021-12-29T16:45:54.379Z"
   },
   {
    "duration": 37,
    "start_time": "2021-12-29T16:45:54.455Z"
   },
   {
    "duration": 19,
    "start_time": "2021-12-29T16:45:54.493Z"
   },
   {
    "duration": 389,
    "start_time": "2021-12-29T16:45:54.514Z"
   },
   {
    "duration": 112,
    "start_time": "2021-12-29T16:45:54.905Z"
   },
   {
    "duration": 24,
    "start_time": "2021-12-29T16:45:55.018Z"
   },
   {
    "duration": 6,
    "start_time": "2021-12-29T16:45:55.044Z"
   },
   {
    "duration": 5,
    "start_time": "2021-12-29T16:45:55.051Z"
   },
   {
    "duration": 3098,
    "start_time": "2021-12-29T16:45:55.058Z"
   },
   {
    "duration": 704,
    "start_time": "2021-12-29T16:45:58.158Z"
   },
   {
    "duration": 29,
    "start_time": "2021-12-29T16:45:58.864Z"
   },
   {
    "duration": 6,
    "start_time": "2021-12-29T16:45:58.894Z"
   },
   {
    "duration": 12,
    "start_time": "2021-12-29T16:45:58.901Z"
   },
   {
    "duration": 86,
    "start_time": "2021-12-29T16:45:58.915Z"
   },
   {
    "duration": 680,
    "start_time": "2021-12-29T16:45:59.003Z"
   },
   {
    "duration": 22,
    "start_time": "2021-12-29T16:45:59.684Z"
   },
   {
    "duration": 20,
    "start_time": "2021-12-29T16:45:59.708Z"
   },
   {
    "duration": 5,
    "start_time": "2021-12-29T16:45:59.732Z"
   },
   {
    "duration": 75,
    "start_time": "2021-12-29T16:45:59.739Z"
   },
   {
    "duration": 90,
    "start_time": "2021-12-29T16:45:59.816Z"
   },
   {
    "duration": 11,
    "start_time": "2021-12-29T16:45:59.908Z"
   },
   {
    "duration": 135,
    "start_time": "2021-12-29T16:45:59.921Z"
   },
   {
    "duration": 142,
    "start_time": "2021-12-29T16:46:00.058Z"
   },
   {
    "duration": 26,
    "start_time": "2021-12-29T16:46:00.201Z"
   },
   {
    "duration": 5267,
    "start_time": "2021-12-29T16:46:00.229Z"
   },
   {
    "duration": 16,
    "start_time": "2021-12-29T16:46:05.498Z"
   },
   {
    "duration": 87,
    "start_time": "2021-12-29T16:46:05.516Z"
   },
   {
    "duration": 30,
    "start_time": "2021-12-29T16:46:05.605Z"
   },
   {
    "duration": 3,
    "start_time": "2021-12-29T16:46:05.637Z"
   },
   {
    "duration": 8,
    "start_time": "2021-12-29T16:46:05.641Z"
   },
   {
    "duration": 5,
    "start_time": "2021-12-29T16:46:05.651Z"
   },
   {
    "duration": 59,
    "start_time": "2021-12-29T16:46:05.658Z"
   },
   {
    "duration": 10,
    "start_time": "2021-12-29T16:46:05.719Z"
   },
   {
    "duration": 930,
    "start_time": "2021-12-29T16:46:05.731Z"
   },
   {
    "duration": 29,
    "start_time": "2021-12-29T16:46:06.663Z"
   },
   {
    "duration": 55,
    "start_time": "2021-12-29T16:46:06.694Z"
   },
   {
    "duration": 45,
    "start_time": "2021-12-29T16:46:06.751Z"
   },
   {
    "duration": 4,
    "start_time": "2021-12-29T16:46:06.798Z"
   },
   {
    "duration": 6,
    "start_time": "2021-12-29T16:46:06.804Z"
   },
   {
    "duration": 719,
    "start_time": "2021-12-29T16:46:06.811Z"
   },
   {
    "duration": 217,
    "start_time": "2021-12-29T16:46:07.532Z"
   },
   {
    "duration": 728,
    "start_time": "2021-12-29T16:46:07.750Z"
   },
   {
    "duration": 259,
    "start_time": "2021-12-29T16:46:08.480Z"
   },
   {
    "duration": 4,
    "start_time": "2021-12-29T16:46:08.741Z"
   },
   {
    "duration": 6,
    "start_time": "2021-12-29T16:46:08.747Z"
   },
   {
    "duration": 24718,
    "start_time": "2021-12-29T16:46:08.754Z"
   },
   {
    "duration": 95742,
    "start_time": "2021-12-29T16:46:33.474Z"
   },
   {
    "duration": 148677,
    "start_time": "2021-12-29T16:48:09.218Z"
   },
   {
    "duration": 19903,
    "start_time": "2021-12-29T16:50:37.897Z"
   },
   {
    "duration": 3937,
    "start_time": "2021-12-29T16:50:57.802Z"
   },
   {
    "duration": 623059,
    "start_time": "2021-12-29T16:51:01.741Z"
   },
   {
    "duration": 99901,
    "start_time": "2021-12-29T17:01:24.802Z"
   },
   {
    "duration": 2893,
    "start_time": "2021-12-29T17:03:04.705Z"
   },
   {
    "duration": 47604,
    "start_time": "2021-12-29T17:03:07.602Z"
   },
   {
    "duration": 5,
    "start_time": "2021-12-29T17:03:55.208Z"
   },
   {
    "duration": 9,
    "start_time": "2021-12-29T17:03:55.215Z"
   },
   {
    "duration": 8,
    "start_time": "2021-12-29T17:03:55.226Z"
   },
   {
    "duration": 362,
    "start_time": "2021-12-29T17:03:55.236Z"
   },
   {
    "duration": 32,
    "start_time": "2021-12-29T17:03:55.599Z"
   },
   {
    "duration": 17,
    "start_time": "2021-12-29T17:03:55.632Z"
   },
   {
    "duration": 67,
    "start_time": "2021-12-29T17:03:55.651Z"
   },
   {
    "duration": 138041,
    "start_time": "2021-12-29T17:03:55.720Z"
   },
   {
    "duration": 138536,
    "start_time": "2021-12-29T17:06:13.763Z"
   },
   {
    "duration": 990,
    "start_time": "2021-12-29T17:08:32.301Z"
   },
   {
    "duration": 1085,
    "start_time": "2021-12-29T17:08:33.292Z"
   },
   {
    "duration": 14626,
    "start_time": "2021-12-29T17:08:34.379Z"
   },
   {
    "duration": 637,
    "start_time": "2021-12-29T17:08:49.006Z"
   },
   {
    "duration": 4,
    "start_time": "2021-12-29T17:08:49.645Z"
   },
   {
    "duration": 25,
    "start_time": "2021-12-29T17:08:49.650Z"
   },
   {
    "duration": 50,
    "start_time": "2021-12-29T17:08:49.676Z"
   },
   {
    "duration": 7,
    "start_time": "2021-12-29T17:08:49.728Z"
   },
   {
    "duration": 307,
    "start_time": "2021-12-29T17:08:49.742Z"
   },
   {
    "duration": 26642,
    "start_time": "2021-12-29T17:08:50.051Z"
   },
   {
    "duration": 24604,
    "start_time": "2021-12-29T17:09:16.695Z"
   },
   {
    "duration": 291,
    "start_time": "2021-12-29T17:09:41.301Z"
   },
   {
    "duration": 300,
    "start_time": "2021-12-29T17:09:41.594Z"
   },
   {
    "duration": 156,
    "start_time": "2021-12-29T17:09:41.896Z"
   },
   {
    "duration": 44,
    "start_time": "2021-12-29T17:09:42.054Z"
   },
   {
    "duration": 94,
    "start_time": "2021-12-29T17:09:42.100Z"
   },
   {
    "duration": 96,
    "start_time": "2021-12-29T17:09:42.196Z"
   },
   {
    "duration": 4,
    "start_time": "2021-12-29T17:09:42.294Z"
   },
   {
    "duration": 26,
    "start_time": "2021-12-29T17:09:42.300Z"
   },
   {
    "duration": 304,
    "start_time": "2021-12-29T17:09:42.328Z"
   },
   {
    "duration": 243908,
    "start_time": "2021-12-29T17:09:42.634Z"
   },
   {
    "duration": 238507,
    "start_time": "2021-12-29T17:13:46.543Z"
   },
   {
    "duration": 347,
    "start_time": "2021-12-29T17:17:45.052Z"
   },
   {
    "duration": 311,
    "start_time": "2021-12-29T17:17:45.401Z"
   },
   {
    "duration": 81,
    "start_time": "2021-12-29T17:17:45.714Z"
   },
   {
    "duration": 8,
    "start_time": "2021-12-29T17:17:45.797Z"
   },
   {
    "duration": 12,
    "start_time": "2021-12-29T17:17:45.808Z"
   },
   {
    "duration": 353,
    "start_time": "2021-12-29T17:17:45.822Z"
   },
   {
    "duration": 26825,
    "start_time": "2021-12-29T17:17:46.177Z"
   },
   {
    "duration": 17104,
    "start_time": "2021-12-29T17:18:13.003Z"
   },
   {
    "duration": 1311,
    "start_time": "2021-12-29T17:18:30.109Z"
   },
   {
    "duration": 1271,
    "start_time": "2021-12-29T17:18:31.422Z"
   },
   {
    "duration": 14403,
    "start_time": "2021-12-29T17:18:32.695Z"
   },
   {
    "duration": 932,
    "start_time": "2021-12-29T17:18:47.100Z"
   },
   {
    "duration": 61,
    "start_time": "2021-12-29T17:18:48.033Z"
   },
   {
    "duration": 9,
    "start_time": "2021-12-29T17:18:48.097Z"
   },
   {
    "duration": 4,
    "start_time": "2021-12-29T17:18:48.108Z"
   },
   {
    "duration": 10,
    "start_time": "2021-12-29T17:18:48.114Z"
   },
   {
    "duration": 301,
    "start_time": "2021-12-29T17:18:48.126Z"
   },
   {
    "duration": 5,
    "start_time": "2021-12-29T17:18:48.429Z"
   },
   {
    "duration": 5,
    "start_time": "2021-12-29T17:18:48.436Z"
   },
   {
    "duration": 10,
    "start_time": "2021-12-29T17:18:48.442Z"
   },
   {
    "duration": 881,
    "start_time": "2021-12-29T17:18:48.454Z"
   },
   {
    "duration": 225,
    "start_time": "2021-12-29T17:18:49.336Z"
   },
   {
    "duration": 9,
    "start_time": "2021-12-29T17:21:50.968Z"
   },
   {
    "duration": 3849,
    "start_time": "2021-12-29T17:24:35.433Z"
   },
   {
    "duration": 490,
    "start_time": "2021-12-29T17:24:51.543Z"
   },
   {
    "duration": 3587,
    "start_time": "2021-12-29T17:25:37.818Z"
   },
   {
    "duration": 494,
    "start_time": "2021-12-29T17:26:49.750Z"
   },
   {
    "duration": 524,
    "start_time": "2021-12-29T17:27:52.048Z"
   },
   {
    "duration": 631,
    "start_time": "2021-12-29T17:28:21.749Z"
   },
   {
    "duration": 575,
    "start_time": "2021-12-29T17:28:34.958Z"
   },
   {
    "duration": 533,
    "start_time": "2021-12-29T17:28:41.619Z"
   },
   {
    "duration": 569,
    "start_time": "2021-12-29T17:30:08.954Z"
   },
   {
    "duration": 609,
    "start_time": "2021-12-29T17:30:29.525Z"
   },
   {
    "duration": 584,
    "start_time": "2021-12-29T17:30:44.438Z"
   },
   {
    "duration": 418,
    "start_time": "2021-12-29T17:31:14.576Z"
   },
   {
    "duration": 3803,
    "start_time": "2021-12-29T17:31:53.004Z"
   },
   {
    "duration": 565,
    "start_time": "2021-12-29T17:32:10.916Z"
   },
   {
    "duration": 353,
    "start_time": "2021-12-29T17:32:49.994Z"
   },
   {
    "duration": 270,
    "start_time": "2021-12-29T17:32:58.053Z"
   },
   {
    "duration": 233,
    "start_time": "2021-12-29T17:33:05.391Z"
   },
   {
    "duration": 229,
    "start_time": "2021-12-29T17:33:32.835Z"
   },
   {
    "duration": 330,
    "start_time": "2021-12-29T17:34:49.551Z"
   },
   {
    "duration": 244,
    "start_time": "2021-12-29T17:35:08.439Z"
   },
   {
    "duration": 380,
    "start_time": "2021-12-29T17:37:59.860Z"
   },
   {
    "duration": 292,
    "start_time": "2021-12-29T17:38:20.911Z"
   },
   {
    "duration": 289,
    "start_time": "2021-12-29T17:38:55.505Z"
   },
   {
    "duration": 10,
    "start_time": "2021-12-29T17:42:24.344Z"
   },
   {
    "duration": 278,
    "start_time": "2021-12-29T17:42:38.716Z"
   },
   {
    "duration": 5,
    "start_time": "2021-12-29T17:44:24.111Z"
   },
   {
    "duration": 380,
    "start_time": "2021-12-29T17:45:22.541Z"
   },
   {
    "duration": 370,
    "start_time": "2021-12-29T17:46:10.229Z"
   },
   {
    "duration": 278,
    "start_time": "2021-12-29T17:46:45.750Z"
   },
   {
    "duration": 42,
    "start_time": "2021-12-29T17:47:26.911Z"
   },
   {
    "duration": 50,
    "start_time": "2021-12-29T17:47:32.331Z"
   },
   {
    "duration": 329,
    "start_time": "2021-12-29T17:47:47.265Z"
   },
   {
    "duration": 335,
    "start_time": "2021-12-29T17:48:03.223Z"
   },
   {
    "duration": 387,
    "start_time": "2021-12-29T17:48:13.207Z"
   },
   {
    "duration": 320,
    "start_time": "2021-12-29T17:51:14.989Z"
   },
   {
    "duration": 51,
    "start_time": "2021-12-29T17:51:25.048Z"
   },
   {
    "duration": 295,
    "start_time": "2021-12-29T17:51:29.618Z"
   },
   {
    "duration": 240,
    "start_time": "2021-12-29T17:51:37.388Z"
   },
   {
    "duration": 245,
    "start_time": "2021-12-29T17:51:59.451Z"
   },
   {
    "duration": 228,
    "start_time": "2021-12-29T17:52:54.029Z"
   },
   {
    "duration": 214,
    "start_time": "2021-12-29T17:53:55.250Z"
   },
   {
    "duration": 3842,
    "start_time": "2021-12-29T17:54:20.840Z"
   },
   {
    "duration": 173,
    "start_time": "2021-12-29T17:54:43.499Z"
   },
   {
    "duration": 402,
    "start_time": "2021-12-29T17:55:03.889Z"
   },
   {
    "duration": 3233,
    "start_time": "2021-12-29T17:56:08.667Z"
   },
   {
    "duration": 3780,
    "start_time": "2021-12-29T17:56:22.548Z"
   },
   {
    "duration": 142,
    "start_time": "2021-12-29T17:56:48.628Z"
   },
   {
    "duration": 325,
    "start_time": "2021-12-29T18:01:35.736Z"
   },
   {
    "duration": 46,
    "start_time": "2021-12-29T18:01:43.233Z"
   },
   {
    "duration": 349,
    "start_time": "2021-12-29T18:01:50.951Z"
   },
   {
    "duration": 147,
    "start_time": "2021-12-29T18:02:36.273Z"
   },
   {
    "duration": 143,
    "start_time": "2021-12-29T18:04:27.891Z"
   },
   {
    "duration": 230,
    "start_time": "2021-12-29T18:04:32.680Z"
   },
   {
    "duration": 219,
    "start_time": "2021-12-29T18:04:50.091Z"
   },
   {
    "duration": 283,
    "start_time": "2021-12-29T18:04:57.730Z"
   },
   {
    "duration": 215,
    "start_time": "2021-12-29T18:05:01.218Z"
   },
   {
    "duration": 220,
    "start_time": "2021-12-29T18:05:26.710Z"
   },
   {
    "duration": 3826,
    "start_time": "2021-12-29T18:06:01.144Z"
   },
   {
    "duration": 210,
    "start_time": "2021-12-29T18:06:13.361Z"
   },
   {
    "duration": 4042,
    "start_time": "2021-12-29T18:06:40.735Z"
   },
   {
    "duration": 202,
    "start_time": "2021-12-29T18:06:52.252Z"
   },
   {
    "duration": 198,
    "start_time": "2021-12-29T18:07:28.465Z"
   },
   {
    "duration": 203,
    "start_time": "2021-12-29T18:07:42.410Z"
   },
   {
    "duration": 211,
    "start_time": "2021-12-29T18:08:04.145Z"
   },
   {
    "duration": 208,
    "start_time": "2021-12-29T18:08:17.887Z"
   },
   {
    "duration": 210,
    "start_time": "2021-12-29T18:08:37.667Z"
   },
   {
    "duration": 46,
    "start_time": "2021-12-29T18:11:37.098Z"
   },
   {
    "duration": 47,
    "start_time": "2021-12-29T18:11:51.119Z"
   },
   {
    "duration": 174,
    "start_time": "2021-12-29T18:11:57.205Z"
   },
   {
    "duration": 219,
    "start_time": "2021-12-29T18:15:53.786Z"
   },
   {
    "duration": 385,
    "start_time": "2021-12-29T18:16:05.608Z"
   },
   {
    "duration": 266,
    "start_time": "2021-12-29T18:16:38.400Z"
   },
   {
    "duration": 497,
    "start_time": "2021-12-29T18:17:18.865Z"
   },
   {
    "duration": 412,
    "start_time": "2021-12-29T18:17:31.405Z"
   },
   {
    "duration": 252,
    "start_time": "2021-12-29T18:17:41.135Z"
   },
   {
    "duration": 257,
    "start_time": "2021-12-29T18:18:19.791Z"
   },
   {
    "duration": 259,
    "start_time": "2021-12-29T18:18:28.981Z"
   },
   {
    "duration": 248,
    "start_time": "2021-12-29T18:18:36.770Z"
   },
   {
    "duration": 251,
    "start_time": "2021-12-29T18:18:42.442Z"
   },
   {
    "duration": 254,
    "start_time": "2021-12-29T18:18:55.980Z"
   },
   {
    "duration": 259,
    "start_time": "2021-12-29T18:19:24.083Z"
   },
   {
    "duration": 256,
    "start_time": "2021-12-29T18:19:50.142Z"
   },
   {
    "duration": 258,
    "start_time": "2021-12-29T18:20:32.924Z"
   },
   {
    "duration": 260,
    "start_time": "2021-12-29T18:20:45.061Z"
   },
   {
    "duration": 255,
    "start_time": "2021-12-29T18:20:55.885Z"
   },
   {
    "duration": 276,
    "start_time": "2021-12-29T18:21:12.152Z"
   },
   {
    "duration": 372,
    "start_time": "2021-12-29T18:21:27.744Z"
   },
   {
    "duration": 255,
    "start_time": "2021-12-29T18:21:43.274Z"
   },
   {
    "duration": 291,
    "start_time": "2021-12-29T18:23:01.774Z"
   },
   {
    "duration": 269,
    "start_time": "2021-12-29T18:23:38.480Z"
   },
   {
    "duration": 260,
    "start_time": "2021-12-29T18:24:46.186Z"
   },
   {
    "duration": 386,
    "start_time": "2021-12-29T18:24:54.772Z"
   },
   {
    "duration": 257,
    "start_time": "2021-12-29T18:25:06.511Z"
   },
   {
    "duration": 1256,
    "start_time": "2021-12-29T18:25:37.907Z"
   },
   {
    "duration": 16,
    "start_time": "2021-12-29T18:25:49.053Z"
   },
   {
    "duration": 296,
    "start_time": "2021-12-29T18:26:00.943Z"
   },
   {
    "duration": 350,
    "start_time": "2021-12-29T18:26:21.097Z"
   },
   {
    "duration": -69,
    "start_time": "2021-12-29T18:26:54.124Z"
   },
   {
    "duration": -77,
    "start_time": "2021-12-29T18:28:11.019Z"
   },
   {
    "duration": 585,
    "start_time": "2021-12-29T18:28:46.181Z"
   },
   {
    "duration": 57,
    "start_time": "2021-12-29T18:30:22.195Z"
   },
   {
    "duration": 140,
    "start_time": "2021-12-29T18:31:02.169Z"
   },
   {
    "duration": 145,
    "start_time": "2021-12-29T18:32:46.426Z"
   },
   {
    "duration": 137,
    "start_time": "2021-12-29T18:33:13.704Z"
   },
   {
    "duration": 297,
    "start_time": "2021-12-29T18:33:31.545Z"
   },
   {
    "duration": 577,
    "start_time": "2021-12-29T18:33:54.568Z"
   },
   {
    "duration": 656,
    "start_time": "2021-12-29T18:34:07.202Z"
   },
   {
    "duration": 160,
    "start_time": "2021-12-29T18:34:30.350Z"
   },
   {
    "duration": 546,
    "start_time": "2021-12-29T18:34:41.607Z"
   },
   {
    "duration": 797,
    "start_time": "2021-12-29T18:34:46.802Z"
   },
   {
    "duration": 858,
    "start_time": "2021-12-29T18:35:15.150Z"
   },
   {
    "duration": 421,
    "start_time": "2021-12-29T18:35:19.034Z"
   },
   {
    "duration": 500,
    "start_time": "2021-12-29T18:36:37.944Z"
   },
   {
    "duration": 623,
    "start_time": "2021-12-29T18:36:44.764Z"
   },
   {
    "duration": 581,
    "start_time": "2021-12-29T18:37:09.362Z"
   },
   {
    "duration": 563,
    "start_time": "2021-12-29T18:37:18.337Z"
   },
   {
    "duration": 588,
    "start_time": "2021-12-29T18:38:01.123Z"
   },
   {
    "duration": 573,
    "start_time": "2021-12-29T18:38:13.253Z"
   },
   {
    "duration": 17,
    "start_time": "2021-12-29T18:38:44.824Z"
   },
   {
    "duration": 4,
    "start_time": "2021-12-29T18:45:16.748Z"
   },
   {
    "duration": 81,
    "start_time": "2021-12-29T18:46:17.404Z"
   },
   {
    "duration": 85,
    "start_time": "2021-12-29T18:46:25.148Z"
   },
   {
    "duration": 68,
    "start_time": "2021-12-29T18:47:16.447Z"
   },
   {
    "duration": 27,
    "start_time": "2021-12-29T18:47:19.859Z"
   },
   {
    "duration": 40,
    "start_time": "2021-12-29T18:49:14.005Z"
   },
   {
    "duration": 238,
    "start_time": "2021-12-29T18:50:58.755Z"
   },
   {
    "duration": 292,
    "start_time": "2021-12-29T18:51:11.142Z"
   },
   {
    "duration": 334,
    "start_time": "2021-12-29T18:51:15.045Z"
   },
   {
    "duration": 883,
    "start_time": "2021-12-29T18:51:39.552Z"
   },
   {
    "duration": 308,
    "start_time": "2021-12-30T05:18:27.496Z"
   },
   {
    "duration": 1187,
    "start_time": "2021-12-30T05:18:38.646Z"
   },
   {
    "duration": 2,
    "start_time": "2021-12-30T05:18:39.835Z"
   },
   {
    "duration": 776,
    "start_time": "2021-12-30T05:18:39.839Z"
   },
   {
    "duration": 122,
    "start_time": "2021-12-30T05:18:40.616Z"
   },
   {
    "duration": 15,
    "start_time": "2021-12-30T05:18:40.740Z"
   },
   {
    "duration": 88,
    "start_time": "2021-12-30T05:18:40.757Z"
   },
   {
    "duration": 39,
    "start_time": "2021-12-30T05:18:40.808Z"
   },
   {
    "duration": 38,
    "start_time": "2021-12-30T05:18:40.810Z"
   },
   {
    "duration": 37,
    "start_time": "2021-12-30T05:18:40.812Z"
   },
   {
    "duration": 36,
    "start_time": "2021-12-30T05:18:40.814Z"
   },
   {
    "duration": 15,
    "start_time": "2021-12-30T05:18:40.836Z"
   },
   {
    "duration": 13,
    "start_time": "2021-12-30T05:18:40.838Z"
   },
   {
    "duration": 12,
    "start_time": "2021-12-30T05:18:40.840Z"
   },
   {
    "duration": 12,
    "start_time": "2021-12-30T05:18:40.841Z"
   },
   {
    "duration": 1,
    "start_time": "2021-12-30T05:18:40.852Z"
   },
   {
    "duration": 0,
    "start_time": "2021-12-30T05:18:40.854Z"
   },
   {
    "duration": -1,
    "start_time": "2021-12-30T05:18:40.856Z"
   },
   {
    "duration": -1,
    "start_time": "2021-12-30T05:18:40.857Z"
   },
   {
    "duration": -3,
    "start_time": "2021-12-30T05:18:40.859Z"
   },
   {
    "duration": -4,
    "start_time": "2021-12-30T05:18:40.861Z"
   },
   {
    "duration": -5,
    "start_time": "2021-12-30T05:18:40.863Z"
   },
   {
    "duration": -6,
    "start_time": "2021-12-30T05:18:40.864Z"
   },
   {
    "duration": -7,
    "start_time": "2021-12-30T05:18:40.866Z"
   },
   {
    "duration": -8,
    "start_time": "2021-12-30T05:18:40.868Z"
   },
   {
    "duration": -9,
    "start_time": "2021-12-30T05:18:40.870Z"
   },
   {
    "duration": -31,
    "start_time": "2021-12-30T05:18:40.892Z"
   },
   {
    "duration": -32,
    "start_time": "2021-12-30T05:18:40.894Z"
   },
   {
    "duration": -32,
    "start_time": "2021-12-30T05:18:40.895Z"
   },
   {
    "duration": -34,
    "start_time": "2021-12-30T05:18:40.897Z"
   },
   {
    "duration": -35,
    "start_time": "2021-12-30T05:18:40.899Z"
   },
   {
    "duration": -37,
    "start_time": "2021-12-30T05:18:40.902Z"
   },
   {
    "duration": -38,
    "start_time": "2021-12-30T05:18:40.904Z"
   },
   {
    "duration": -39,
    "start_time": "2021-12-30T05:18:40.905Z"
   },
   {
    "duration": -40,
    "start_time": "2021-12-30T05:18:40.907Z"
   },
   {
    "duration": -41,
    "start_time": "2021-12-30T05:18:40.909Z"
   },
   {
    "duration": -42,
    "start_time": "2021-12-30T05:18:40.910Z"
   },
   {
    "duration": -63,
    "start_time": "2021-12-30T05:18:40.932Z"
   },
   {
    "duration": 3,
    "start_time": "2021-12-30T05:19:05.716Z"
   },
   {
    "duration": 5,
    "start_time": "2021-12-30T05:19:05.721Z"
   },
   {
    "duration": 728,
    "start_time": "2021-12-30T05:19:05.728Z"
   },
   {
    "duration": 118,
    "start_time": "2021-12-30T05:19:06.458Z"
   },
   {
    "duration": 15,
    "start_time": "2021-12-30T05:19:06.578Z"
   },
   {
    "duration": 160,
    "start_time": "2021-12-30T05:19:06.594Z"
   },
   {
    "duration": 64,
    "start_time": "2021-12-30T05:19:06.692Z"
   },
   {
    "duration": 63,
    "start_time": "2021-12-30T05:19:06.694Z"
   },
   {
    "duration": 62,
    "start_time": "2021-12-30T05:19:06.696Z"
   },
   {
    "duration": 61,
    "start_time": "2021-12-30T05:19:06.698Z"
   },
   {
    "duration": 60,
    "start_time": "2021-12-30T05:19:06.700Z"
   },
   {
    "duration": 26,
    "start_time": "2021-12-30T05:19:06.735Z"
   },
   {
    "duration": 24,
    "start_time": "2021-12-30T05:19:06.737Z"
   },
   {
    "duration": 23,
    "start_time": "2021-12-30T05:19:06.739Z"
   },
   {
    "duration": 23,
    "start_time": "2021-12-30T05:19:06.740Z"
   },
   {
    "duration": 8,
    "start_time": "2021-12-30T05:19:06.756Z"
   },
   {
    "duration": 7,
    "start_time": "2021-12-30T05:19:06.758Z"
   },
   {
    "duration": 5,
    "start_time": "2021-12-30T05:19:06.760Z"
   },
   {
    "duration": 5,
    "start_time": "2021-12-30T05:19:06.761Z"
   },
   {
    "duration": 4,
    "start_time": "2021-12-30T05:19:06.763Z"
   },
   {
    "duration": 3,
    "start_time": "2021-12-30T05:19:06.765Z"
   },
   {
    "duration": 3,
    "start_time": "2021-12-30T05:19:06.766Z"
   },
   {
    "duration": 2,
    "start_time": "2021-12-30T05:19:06.768Z"
   },
   {
    "duration": 2,
    "start_time": "2021-12-30T05:19:06.769Z"
   },
   {
    "duration": 1,
    "start_time": "2021-12-30T05:19:06.771Z"
   },
   {
    "duration": -19,
    "start_time": "2021-12-30T05:19:06.791Z"
   },
   {
    "duration": -20,
    "start_time": "2021-12-30T05:19:06.793Z"
   },
   {
    "duration": -21,
    "start_time": "2021-12-30T05:19:06.795Z"
   },
   {
    "duration": -21,
    "start_time": "2021-12-30T05:19:06.796Z"
   },
   {
    "duration": -23,
    "start_time": "2021-12-30T05:19:06.798Z"
   },
   {
    "duration": -24,
    "start_time": "2021-12-30T05:19:06.800Z"
   },
   {
    "duration": -26,
    "start_time": "2021-12-30T05:19:06.803Z"
   },
   {
    "duration": -27,
    "start_time": "2021-12-30T05:19:06.805Z"
   },
   {
    "duration": -27,
    "start_time": "2021-12-30T05:19:06.806Z"
   },
   {
    "duration": -28,
    "start_time": "2021-12-30T05:19:06.808Z"
   },
   {
    "duration": -29,
    "start_time": "2021-12-30T05:19:06.810Z"
   },
   {
    "duration": -29,
    "start_time": "2021-12-30T05:19:06.811Z"
   },
   {
    "duration": 1236,
    "start_time": "2021-12-30T05:19:24.796Z"
   },
   {
    "duration": 2,
    "start_time": "2021-12-30T05:19:26.034Z"
   },
   {
    "duration": 775,
    "start_time": "2021-12-30T05:19:26.038Z"
   },
   {
    "duration": 120,
    "start_time": "2021-12-30T05:19:26.815Z"
   },
   {
    "duration": 16,
    "start_time": "2021-12-30T05:19:26.936Z"
   },
   {
    "duration": 89,
    "start_time": "2021-12-30T05:19:26.954Z"
   },
   {
    "duration": 75,
    "start_time": "2021-12-30T05:19:26.973Z"
   },
   {
    "duration": 75,
    "start_time": "2021-12-30T05:19:26.974Z"
   },
   {
    "duration": 63,
    "start_time": "2021-12-30T05:19:26.986Z"
   },
   {
    "duration": 63,
    "start_time": "2021-12-30T05:19:26.987Z"
   },
   {
    "duration": 40,
    "start_time": "2021-12-30T05:19:27.011Z"
   },
   {
    "duration": 39,
    "start_time": "2021-12-30T05:19:27.013Z"
   },
   {
    "duration": 39,
    "start_time": "2021-12-30T05:19:27.014Z"
   },
   {
    "duration": 38,
    "start_time": "2021-12-30T05:19:27.016Z"
   },
   {
    "duration": 37,
    "start_time": "2021-12-30T05:19:27.018Z"
   },
   {
    "duration": 35,
    "start_time": "2021-12-30T05:19:27.020Z"
   },
   {
    "duration": 35,
    "start_time": "2021-12-30T05:19:27.021Z"
   },
   {
    "duration": 34,
    "start_time": "2021-12-30T05:19:27.023Z"
   },
   {
    "duration": 9,
    "start_time": "2021-12-30T05:19:27.049Z"
   },
   {
    "duration": 8,
    "start_time": "2021-12-30T05:19:27.051Z"
   },
   {
    "duration": 7,
    "start_time": "2021-12-30T05:19:27.053Z"
   },
   {
    "duration": 7,
    "start_time": "2021-12-30T05:19:27.054Z"
   },
   {
    "duration": 6,
    "start_time": "2021-12-30T05:19:27.056Z"
   },
   {
    "duration": -58,
    "start_time": "2021-12-30T05:19:27.121Z"
   },
   {
    "duration": -59,
    "start_time": "2021-12-30T05:19:27.123Z"
   },
   {
    "duration": -60,
    "start_time": "2021-12-30T05:19:27.125Z"
   },
   {
    "duration": -61,
    "start_time": "2021-12-30T05:19:27.127Z"
   },
   {
    "duration": -61,
    "start_time": "2021-12-30T05:19:27.128Z"
   },
   {
    "duration": -62,
    "start_time": "2021-12-30T05:19:27.130Z"
   },
   {
    "duration": -62,
    "start_time": "2021-12-30T05:19:27.131Z"
   },
   {
    "duration": -64,
    "start_time": "2021-12-30T05:19:27.133Z"
   },
   {
    "duration": -188,
    "start_time": "2021-12-30T05:19:27.258Z"
   },
   {
    "duration": -308,
    "start_time": "2021-12-30T05:19:27.379Z"
   },
   {
    "duration": -361,
    "start_time": "2021-12-30T05:19:27.433Z"
   },
   {
    "duration": -362,
    "start_time": "2021-12-30T05:19:27.435Z"
   },
   {
    "duration": -362,
    "start_time": "2021-12-30T05:19:27.436Z"
   },
   {
    "duration": -363,
    "start_time": "2021-12-30T05:19:27.438Z"
   },
   {
    "duration": -364,
    "start_time": "2021-12-30T05:19:27.440Z"
   },
   {
    "duration": -364,
    "start_time": "2021-12-30T05:19:27.441Z"
   },
   {
    "duration": -365,
    "start_time": "2021-12-30T05:19:27.443Z"
   },
   {
    "duration": -365,
    "start_time": "2021-12-30T05:19:27.444Z"
   },
   {
    "duration": -366,
    "start_time": "2021-12-30T05:19:27.446Z"
   },
   {
    "duration": -367,
    "start_time": "2021-12-30T05:19:27.448Z"
   },
   {
    "duration": -368,
    "start_time": "2021-12-30T05:19:27.450Z"
   },
   {
    "duration": -368,
    "start_time": "2021-12-30T05:19:27.451Z"
   },
   {
    "duration": -369,
    "start_time": "2021-12-30T05:19:27.453Z"
   },
   {
    "duration": -369,
    "start_time": "2021-12-30T05:19:27.454Z"
   },
   {
    "duration": -370,
    "start_time": "2021-12-30T05:19:27.456Z"
   },
   {
    "duration": -371,
    "start_time": "2021-12-30T05:19:27.458Z"
   },
   {
    "duration": -372,
    "start_time": "2021-12-30T05:19:27.459Z"
   },
   {
    "duration": -373,
    "start_time": "2021-12-30T05:19:27.461Z"
   },
   {
    "duration": -374,
    "start_time": "2021-12-30T05:19:27.462Z"
   },
   {
    "duration": -375,
    "start_time": "2021-12-30T05:19:27.464Z"
   },
   {
    "duration": -377,
    "start_time": "2021-12-30T05:19:27.466Z"
   },
   {
    "duration": -377,
    "start_time": "2021-12-30T05:19:27.467Z"
   },
   {
    "duration": -341,
    "start_time": "2021-12-30T05:19:27.469Z"
   },
   {
    "duration": -341,
    "start_time": "2021-12-30T05:19:27.470Z"
   },
   {
    "duration": -342,
    "start_time": "2021-12-30T05:19:27.472Z"
   },
   {
    "duration": -342,
    "start_time": "2021-12-30T05:19:27.473Z"
   },
   {
    "duration": -343,
    "start_time": "2021-12-30T05:19:27.475Z"
   },
   {
    "duration": -343,
    "start_time": "2021-12-30T05:19:27.477Z"
   },
   {
    "duration": -509,
    "start_time": "2021-12-30T05:19:27.644Z"
   },
   {
    "duration": -598,
    "start_time": "2021-12-30T05:19:27.733Z"
   },
   {
    "duration": -599,
    "start_time": "2021-12-30T05:19:27.735Z"
   },
   {
    "duration": -600,
    "start_time": "2021-12-30T05:19:27.737Z"
   },
   {
    "duration": -601,
    "start_time": "2021-12-30T05:19:27.739Z"
   },
   {
    "duration": -601,
    "start_time": "2021-12-30T05:19:27.740Z"
   },
   {
    "duration": -602,
    "start_time": "2021-12-30T05:19:27.742Z"
   },
   {
    "duration": -602,
    "start_time": "2021-12-30T05:19:27.743Z"
   },
   {
    "duration": -603,
    "start_time": "2021-12-30T05:19:27.745Z"
   },
   {
    "duration": -604,
    "start_time": "2021-12-30T05:19:27.747Z"
   },
   {
    "duration": -604,
    "start_time": "2021-12-30T05:19:27.748Z"
   },
   {
    "duration": -605,
    "start_time": "2021-12-30T05:19:27.750Z"
   },
   {
    "duration": -606,
    "start_time": "2021-12-30T05:19:27.752Z"
   },
   {
    "duration": -606,
    "start_time": "2021-12-30T05:19:27.753Z"
   },
   {
    "duration": -607,
    "start_time": "2021-12-30T05:19:27.755Z"
   },
   {
    "duration": -607,
    "start_time": "2021-12-30T05:19:27.756Z"
   },
   {
    "duration": -608,
    "start_time": "2021-12-30T05:19:27.758Z"
   },
   {
    "duration": -608,
    "start_time": "2021-12-30T05:19:27.759Z"
   },
   {
    "duration": -609,
    "start_time": "2021-12-30T05:19:27.761Z"
   },
   {
    "duration": -610,
    "start_time": "2021-12-30T05:19:27.763Z"
   },
   {
    "duration": -611,
    "start_time": "2021-12-30T05:19:27.765Z"
   },
   {
    "duration": -611,
    "start_time": "2021-12-30T05:19:27.766Z"
   },
   {
    "duration": -612,
    "start_time": "2021-12-30T05:19:27.768Z"
   },
   {
    "duration": -613,
    "start_time": "2021-12-30T05:19:27.770Z"
   },
   {
    "duration": -613,
    "start_time": "2021-12-30T05:19:27.771Z"
   },
   {
    "duration": -614,
    "start_time": "2021-12-30T05:19:27.773Z"
   },
   {
    "duration": -615,
    "start_time": "2021-12-30T05:19:27.774Z"
   },
   {
    "duration": -616,
    "start_time": "2021-12-30T05:19:27.776Z"
   },
   {
    "duration": -616,
    "start_time": "2021-12-30T05:19:27.777Z"
   },
   {
    "duration": -617,
    "start_time": "2021-12-30T05:19:27.779Z"
   },
   {
    "duration": -618,
    "start_time": "2021-12-30T05:19:27.781Z"
   },
   {
    "duration": -618,
    "start_time": "2021-12-30T05:19:27.782Z"
   },
   {
    "duration": -620,
    "start_time": "2021-12-30T05:19:27.784Z"
   },
   {
    "duration": -646,
    "start_time": "2021-12-30T05:19:27.811Z"
   },
   {
    "duration": -648,
    "start_time": "2021-12-30T05:19:27.813Z"
   },
   {
    "duration": -649,
    "start_time": "2021-12-30T05:19:27.815Z"
   },
   {
    "duration": -588,
    "start_time": "2021-12-30T05:19:27.816Z"
   },
   {
    "duration": -589,
    "start_time": "2021-12-30T05:19:27.818Z"
   },
   {
    "duration": -589,
    "start_time": "2021-12-30T05:19:27.819Z"
   },
   {
    "duration": -590,
    "start_time": "2021-12-30T05:19:27.821Z"
   },
   {
    "duration": -591,
    "start_time": "2021-12-30T05:19:27.823Z"
   },
   {
    "duration": -592,
    "start_time": "2021-12-30T05:19:27.824Z"
   },
   {
    "duration": -593,
    "start_time": "2021-12-30T05:19:27.826Z"
   },
   {
    "duration": -599,
    "start_time": "2021-12-30T05:19:27.833Z"
   },
   {
    "duration": -600,
    "start_time": "2021-12-30T05:19:27.835Z"
   },
   {
    "duration": -601,
    "start_time": "2021-12-30T05:19:27.837Z"
   },
   {
    "duration": -601,
    "start_time": "2021-12-30T05:19:27.838Z"
   },
   {
    "duration": -602,
    "start_time": "2021-12-30T05:19:27.840Z"
   },
   {
    "duration": -602,
    "start_time": "2021-12-30T05:19:27.841Z"
   },
   {
    "duration": -603,
    "start_time": "2021-12-30T05:19:27.843Z"
   },
   {
    "duration": -603,
    "start_time": "2021-12-30T05:19:27.844Z"
   },
   {
    "duration": -604,
    "start_time": "2021-12-30T05:19:27.846Z"
   },
   {
    "duration": -605,
    "start_time": "2021-12-30T05:19:27.848Z"
   },
   {
    "duration": -605,
    "start_time": "2021-12-30T05:19:27.849Z"
   },
   {
    "duration": -606,
    "start_time": "2021-12-30T05:19:27.851Z"
   },
   {
    "duration": -606,
    "start_time": "2021-12-30T05:19:27.852Z"
   },
   {
    "duration": -607,
    "start_time": "2021-12-30T05:19:27.854Z"
   },
   {
    "duration": -608,
    "start_time": "2021-12-30T05:19:27.855Z"
   },
   {
    "duration": -609,
    "start_time": "2021-12-30T05:19:27.857Z"
   },
   {
    "duration": -609,
    "start_time": "2021-12-30T05:19:27.858Z"
   },
   {
    "duration": -610,
    "start_time": "2021-12-30T05:19:27.860Z"
   },
   {
    "duration": -611,
    "start_time": "2021-12-30T05:19:27.862Z"
   },
   {
    "duration": -612,
    "start_time": "2021-12-30T05:19:27.864Z"
   },
   {
    "duration": -612,
    "start_time": "2021-12-30T05:19:27.865Z"
   },
   {
    "duration": -613,
    "start_time": "2021-12-30T05:19:27.867Z"
   },
   {
    "duration": -614,
    "start_time": "2021-12-30T05:19:27.869Z"
   },
   {
    "duration": 1202,
    "start_time": "2021-12-30T05:20:18.324Z"
   },
   {
    "duration": 3,
    "start_time": "2021-12-30T05:20:19.527Z"
   },
   {
    "duration": 771,
    "start_time": "2021-12-30T05:20:19.532Z"
   },
   {
    "duration": 117,
    "start_time": "2021-12-30T05:20:20.305Z"
   },
   {
    "duration": 17,
    "start_time": "2021-12-30T05:20:20.423Z"
   },
   {
    "duration": 116,
    "start_time": "2021-12-30T05:20:20.441Z"
   },
   {
    "duration": 133,
    "start_time": "2021-12-30T05:20:20.559Z"
   },
   {
    "duration": 3,
    "start_time": "2021-12-30T05:20:20.694Z"
   },
   {
    "duration": 689,
    "start_time": "2021-12-30T05:20:20.698Z"
   },
   {
    "duration": 98,
    "start_time": "2021-12-30T05:20:21.389Z"
   },
   {
    "duration": 72,
    "start_time": "2021-12-30T05:20:21.488Z"
   },
   {
    "duration": 23,
    "start_time": "2021-12-30T05:20:21.562Z"
   },
   {
    "duration": 17,
    "start_time": "2021-12-30T05:20:21.587Z"
   },
   {
    "duration": 375,
    "start_time": "2021-12-30T05:20:21.605Z"
   },
   {
    "duration": 110,
    "start_time": "2021-12-30T05:20:21.982Z"
   },
   {
    "duration": 22,
    "start_time": "2021-12-30T05:20:22.093Z"
   },
   {
    "duration": 3,
    "start_time": "2021-12-30T05:20:22.127Z"
   },
   {
    "duration": 8,
    "start_time": "2021-12-30T05:20:22.131Z"
   },
   {
    "duration": 2745,
    "start_time": "2021-12-30T05:20:22.140Z"
   },
   {
    "duration": 640,
    "start_time": "2021-12-30T05:20:24.887Z"
   },
   {
    "duration": 17,
    "start_time": "2021-12-30T05:20:25.528Z"
   },
   {
    "duration": 6,
    "start_time": "2021-12-30T05:20:25.546Z"
   },
   {
    "duration": 13,
    "start_time": "2021-12-30T05:20:25.555Z"
   },
   {
    "duration": 90,
    "start_time": "2021-12-30T05:20:25.571Z"
   },
   {
    "duration": 604,
    "start_time": "2021-12-30T05:20:25.663Z"
   },
   {
    "duration": 17,
    "start_time": "2021-12-30T05:20:26.269Z"
   },
   {
    "duration": 20,
    "start_time": "2021-12-30T05:20:26.288Z"
   },
   {
    "duration": 18,
    "start_time": "2021-12-30T05:20:26.310Z"
   },
   {
    "duration": 58,
    "start_time": "2021-12-30T05:20:26.329Z"
   },
   {
    "duration": 3,
    "start_time": "2021-12-30T05:20:26.388Z"
   },
   {
    "duration": 97,
    "start_time": "2021-12-30T05:20:26.392Z"
   },
   {
    "duration": 57,
    "start_time": "2021-12-30T05:20:26.491Z"
   },
   {
    "duration": 812,
    "start_time": "2021-12-30T05:20:26.549Z"
   },
   {
    "duration": 407,
    "start_time": "2021-12-30T05:20:27.363Z"
   },
   {
    "duration": -56,
    "start_time": "2021-12-30T05:20:27.829Z"
   },
   {
    "duration": -58,
    "start_time": "2021-12-30T05:20:27.832Z"
   },
   {
    "duration": -85,
    "start_time": "2021-12-30T05:20:27.860Z"
   },
   {
    "duration": -96,
    "start_time": "2021-12-30T05:20:27.872Z"
   },
   {
    "duration": -97,
    "start_time": "2021-12-30T05:20:27.874Z"
   },
   {
    "duration": -98,
    "start_time": "2021-12-30T05:20:27.876Z"
   },
   {
    "duration": -99,
    "start_time": "2021-12-30T05:20:27.878Z"
   },
   {
    "duration": -100,
    "start_time": "2021-12-30T05:20:27.880Z"
   },
   {
    "duration": -101,
    "start_time": "2021-12-30T05:20:27.882Z"
   },
   {
    "duration": -102,
    "start_time": "2021-12-30T05:20:27.884Z"
   },
   {
    "duration": -103,
    "start_time": "2021-12-30T05:20:27.886Z"
   },
   {
    "duration": -103,
    "start_time": "2021-12-30T05:20:27.887Z"
   },
   {
    "duration": -104,
    "start_time": "2021-12-30T05:20:27.889Z"
   },
   {
    "duration": -105,
    "start_time": "2021-12-30T05:20:27.891Z"
   },
   {
    "duration": -106,
    "start_time": "2021-12-30T05:20:27.893Z"
   },
   {
    "duration": -107,
    "start_time": "2021-12-30T05:20:27.894Z"
   },
   {
    "duration": -108,
    "start_time": "2021-12-30T05:20:27.896Z"
   },
   {
    "duration": -108,
    "start_time": "2021-12-30T05:20:27.897Z"
   },
   {
    "duration": -109,
    "start_time": "2021-12-30T05:20:27.899Z"
   },
   {
    "duration": -110,
    "start_time": "2021-12-30T05:20:27.901Z"
   },
   {
    "duration": -110,
    "start_time": "2021-12-30T05:20:27.902Z"
   },
   {
    "duration": -111,
    "start_time": "2021-12-30T05:20:27.904Z"
   },
   {
    "duration": -112,
    "start_time": "2021-12-30T05:20:27.906Z"
   },
   {
    "duration": -112,
    "start_time": "2021-12-30T05:20:27.907Z"
   },
   {
    "duration": -113,
    "start_time": "2021-12-30T05:20:27.909Z"
   },
   {
    "duration": -113,
    "start_time": "2021-12-30T05:20:27.910Z"
   },
   {
    "duration": -114,
    "start_time": "2021-12-30T05:20:27.912Z"
   },
   {
    "duration": -114,
    "start_time": "2021-12-30T05:20:27.913Z"
   },
   {
    "duration": -135,
    "start_time": "2021-12-30T05:20:27.935Z"
   },
   {
    "duration": -136,
    "start_time": "2021-12-30T05:20:27.937Z"
   },
   {
    "duration": -137,
    "start_time": "2021-12-30T05:20:27.939Z"
   },
   {
    "duration": -138,
    "start_time": "2021-12-30T05:20:27.941Z"
   },
   {
    "duration": -138,
    "start_time": "2021-12-30T05:20:27.942Z"
   },
   {
    "duration": -139,
    "start_time": "2021-12-30T05:20:27.944Z"
   },
   {
    "duration": -140,
    "start_time": "2021-12-30T05:20:27.946Z"
   },
   {
    "duration": -140,
    "start_time": "2021-12-30T05:20:27.947Z"
   },
   {
    "duration": -141,
    "start_time": "2021-12-30T05:20:27.949Z"
   },
   {
    "duration": -142,
    "start_time": "2021-12-30T05:20:27.951Z"
   },
   {
    "duration": -143,
    "start_time": "2021-12-30T05:20:27.953Z"
   },
   {
    "duration": -128,
    "start_time": "2021-12-30T05:20:27.954Z"
   },
   {
    "duration": -129,
    "start_time": "2021-12-30T05:20:27.956Z"
   },
   {
    "duration": -129,
    "start_time": "2021-12-30T05:20:27.957Z"
   },
   {
    "duration": -130,
    "start_time": "2021-12-30T05:20:27.959Z"
   },
   {
    "duration": -131,
    "start_time": "2021-12-30T05:20:27.961Z"
   },
   {
    "duration": -131,
    "start_time": "2021-12-30T05:20:27.962Z"
   },
   {
    "duration": -132,
    "start_time": "2021-12-30T05:20:27.964Z"
   },
   {
    "duration": -133,
    "start_time": "2021-12-30T05:20:27.966Z"
   },
   {
    "duration": -133,
    "start_time": "2021-12-30T05:20:27.967Z"
   },
   {
    "duration": -134,
    "start_time": "2021-12-30T05:20:27.969Z"
   },
   {
    "duration": -134,
    "start_time": "2021-12-30T05:20:27.970Z"
   },
   {
    "duration": -135,
    "start_time": "2021-12-30T05:20:27.972Z"
   },
   {
    "duration": -136,
    "start_time": "2021-12-30T05:20:27.974Z"
   },
   {
    "duration": -136,
    "start_time": "2021-12-30T05:20:27.975Z"
   },
   {
    "duration": -137,
    "start_time": "2021-12-30T05:20:27.977Z"
   },
   {
    "duration": -138,
    "start_time": "2021-12-30T05:20:27.979Z"
   },
   {
    "duration": -138,
    "start_time": "2021-12-30T05:20:27.980Z"
   },
   {
    "duration": -139,
    "start_time": "2021-12-30T05:20:27.982Z"
   },
   {
    "duration": -139,
    "start_time": "2021-12-30T05:20:27.983Z"
   },
   {
    "duration": -140,
    "start_time": "2021-12-30T05:20:27.985Z"
   },
   {
    "duration": -141,
    "start_time": "2021-12-30T05:20:27.987Z"
   },
   {
    "duration": -142,
    "start_time": "2021-12-30T05:20:27.989Z"
   },
   {
    "duration": -142,
    "start_time": "2021-12-30T05:20:27.990Z"
   },
   {
    "duration": -143,
    "start_time": "2021-12-30T05:20:27.992Z"
   },
   {
    "duration": -144,
    "start_time": "2021-12-30T05:20:27.993Z"
   },
   {
    "duration": -145,
    "start_time": "2021-12-30T05:20:27.995Z"
   },
   {
    "duration": -145,
    "start_time": "2021-12-30T05:20:27.996Z"
   },
   {
    "duration": -146,
    "start_time": "2021-12-30T05:20:27.998Z"
   },
   {
    "duration": -147,
    "start_time": "2021-12-30T05:20:28.000Z"
   },
   {
    "duration": -146,
    "start_time": "2021-12-30T05:20:28.001Z"
   },
   {
    "duration": -147,
    "start_time": "2021-12-30T05:20:28.003Z"
   },
   {
    "duration": -147,
    "start_time": "2021-12-30T05:20:28.004Z"
   },
   {
    "duration": -148,
    "start_time": "2021-12-30T05:20:28.006Z"
   },
   {
    "duration": -149,
    "start_time": "2021-12-30T05:20:28.008Z"
   },
   {
    "duration": -149,
    "start_time": "2021-12-30T05:20:28.009Z"
   },
   {
    "duration": -151,
    "start_time": "2021-12-30T05:20:28.011Z"
   },
   {
    "duration": -151,
    "start_time": "2021-12-30T05:20:28.012Z"
   },
   {
    "duration": -152,
    "start_time": "2021-12-30T05:20:28.014Z"
   },
   {
    "duration": -153,
    "start_time": "2021-12-30T05:20:28.016Z"
   },
   {
    "duration": -196,
    "start_time": "2021-12-30T05:20:28.060Z"
   },
   {
    "duration": -200,
    "start_time": "2021-12-30T05:20:28.065Z"
   },
   {
    "duration": -141,
    "start_time": "2021-12-30T05:20:28.067Z"
   },
   {
    "duration": -140,
    "start_time": "2021-12-30T05:20:28.068Z"
   },
   {
    "duration": -141,
    "start_time": "2021-12-30T05:20:28.070Z"
   },
   {
    "duration": -142,
    "start_time": "2021-12-30T05:20:28.072Z"
   },
   {
    "duration": -142,
    "start_time": "2021-12-30T05:20:28.073Z"
   },
   {
    "duration": -143,
    "start_time": "2021-12-30T05:20:28.075Z"
   },
   {
    "duration": -143,
    "start_time": "2021-12-30T05:20:28.076Z"
   },
   {
    "duration": -144,
    "start_time": "2021-12-30T05:20:28.078Z"
   },
   {
    "duration": -145,
    "start_time": "2021-12-30T05:20:28.080Z"
   },
   {
    "duration": -145,
    "start_time": "2021-12-30T05:20:28.081Z"
   },
   {
    "duration": 813,
    "start_time": "2021-12-30T05:21:07.124Z"
   },
   {
    "duration": 903,
    "start_time": "2021-12-30T05:21:32.804Z"
   },
   {
    "duration": 96,
    "start_time": "2021-12-30T05:22:27.433Z"
   },
   {
    "duration": 408,
    "start_time": "2021-12-30T05:22:32.101Z"
   },
   {
    "duration": 570,
    "start_time": "2021-12-30T05:23:03.363Z"
   },
   {
    "duration": 371,
    "start_time": "2021-12-30T05:24:08.335Z"
   },
   {
    "duration": 486,
    "start_time": "2021-12-30T05:24:25.616Z"
   },
   {
    "duration": 470,
    "start_time": "2021-12-30T05:24:48.175Z"
   },
   {
    "duration": 24,
    "start_time": "2021-12-30T05:25:52.584Z"
   },
   {
    "duration": 8145,
    "start_time": "2021-12-30T05:26:01.197Z"
   },
   {
    "duration": 24,
    "start_time": "2021-12-30T05:26:33.036Z"
   },
   {
    "duration": 68,
    "start_time": "2021-12-30T05:26:45.845Z"
   },
   {
    "duration": 147,
    "start_time": "2021-12-30T05:27:09.916Z"
   },
   {
    "duration": 134,
    "start_time": "2021-12-30T05:27:30.508Z"
   },
   {
    "duration": 521,
    "start_time": "2021-12-30T05:27:46.665Z"
   },
   {
    "duration": 292,
    "start_time": "2021-12-30T05:27:52.554Z"
   },
   {
    "duration": 26,
    "start_time": "2021-12-30T05:28:14.517Z"
   },
   {
    "duration": 156,
    "start_time": "2021-12-30T05:28:34.421Z"
   },
   {
    "duration": 150,
    "start_time": "2021-12-30T05:29:47.123Z"
   },
   {
    "duration": 681,
    "start_time": "2021-12-30T05:37:13.006Z"
   },
   {
    "duration": 57,
    "start_time": "2021-12-30T05:37:32.184Z"
   },
   {
    "duration": 37,
    "start_time": "2021-12-30T05:37:49.624Z"
   },
   {
    "duration": 424,
    "start_time": "2021-12-30T05:37:58.724Z"
   },
   {
    "duration": 402,
    "start_time": "2021-12-30T05:38:15.334Z"
   },
   {
    "duration": 472,
    "start_time": "2021-12-30T05:38:38.824Z"
   },
   {
    "duration": 4,
    "start_time": "2021-12-30T05:40:01.315Z"
   },
   {
    "duration": 36,
    "start_time": "2021-12-30T05:42:09.621Z"
   },
   {
    "duration": 37,
    "start_time": "2021-12-30T05:42:29.239Z"
   },
   {
    "duration": 37,
    "start_time": "2021-12-30T05:43:42.779Z"
   },
   {
    "duration": 95,
    "start_time": "2021-12-30T05:43:53.319Z"
   },
   {
    "duration": 310,
    "start_time": "2021-12-30T05:43:58.518Z"
   },
   {
    "duration": 329,
    "start_time": "2021-12-30T05:46:12.201Z"
   },
   {
    "duration": 36,
    "start_time": "2021-12-30T05:46:22.319Z"
   },
   {
    "duration": 37,
    "start_time": "2021-12-30T05:46:27.779Z"
   },
   {
    "duration": 36,
    "start_time": "2021-12-30T05:46:34.347Z"
   },
   {
    "duration": 36,
    "start_time": "2021-12-30T05:46:44.777Z"
   },
   {
    "duration": 36,
    "start_time": "2021-12-30T05:47:35.145Z"
   },
   {
    "duration": 36,
    "start_time": "2021-12-30T05:49:05.018Z"
   },
   {
    "duration": 38,
    "start_time": "2021-12-30T05:49:10.188Z"
   },
   {
    "duration": 67,
    "start_time": "2021-12-30T05:49:42.725Z"
   },
   {
    "duration": 140,
    "start_time": "2021-12-30T05:51:46.613Z"
   },
   {
    "duration": 830,
    "start_time": "2021-12-30T05:52:15.473Z"
   },
   {
    "duration": 27,
    "start_time": "2021-12-30T05:53:03.663Z"
   },
   {
    "duration": 1172,
    "start_time": "2021-12-30T06:37:50.267Z"
   },
   {
    "duration": 2,
    "start_time": "2021-12-30T06:37:51.441Z"
   },
   {
    "duration": 778,
    "start_time": "2021-12-30T06:37:51.445Z"
   },
   {
    "duration": 116,
    "start_time": "2021-12-30T06:37:52.227Z"
   },
   {
    "duration": 15,
    "start_time": "2021-12-30T06:37:52.345Z"
   },
   {
    "duration": 121,
    "start_time": "2021-12-30T06:37:52.362Z"
   },
   {
    "duration": 118,
    "start_time": "2021-12-30T06:37:52.484Z"
   },
   {
    "duration": 3,
    "start_time": "2021-12-30T06:37:52.604Z"
   },
   {
    "duration": 685,
    "start_time": "2021-12-30T06:37:52.610Z"
   },
   {
    "duration": 107,
    "start_time": "2021-12-30T06:37:53.297Z"
   },
   {
    "duration": 75,
    "start_time": "2021-12-30T06:37:53.406Z"
   },
   {
    "duration": 23,
    "start_time": "2021-12-30T06:37:53.483Z"
   },
   {
    "duration": 34,
    "start_time": "2021-12-30T06:37:53.507Z"
   },
   {
    "duration": 378,
    "start_time": "2021-12-30T06:37:53.542Z"
   },
   {
    "duration": 110,
    "start_time": "2021-12-30T06:37:53.922Z"
   },
   {
    "duration": 24,
    "start_time": "2021-12-30T06:37:54.034Z"
   },
   {
    "duration": 6,
    "start_time": "2021-12-30T06:37:54.060Z"
   },
   {
    "duration": 5,
    "start_time": "2021-12-30T06:37:54.068Z"
   },
   {
    "duration": 2800,
    "start_time": "2021-12-30T06:37:54.074Z"
   },
   {
    "duration": 646,
    "start_time": "2021-12-30T06:37:56.876Z"
   },
   {
    "duration": 17,
    "start_time": "2021-12-30T06:37:57.524Z"
   },
   {
    "duration": 6,
    "start_time": "2021-12-30T06:37:57.542Z"
   },
   {
    "duration": 10,
    "start_time": "2021-12-30T06:37:57.552Z"
   },
   {
    "duration": 93,
    "start_time": "2021-12-30T06:37:57.564Z"
   },
   {
    "duration": 624,
    "start_time": "2021-12-30T06:37:57.659Z"
   },
   {
    "duration": 17,
    "start_time": "2021-12-30T06:37:58.285Z"
   },
   {
    "duration": 40,
    "start_time": "2021-12-30T06:37:58.303Z"
   },
   {
    "duration": 5,
    "start_time": "2021-12-30T06:37:58.344Z"
   },
   {
    "duration": 57,
    "start_time": "2021-12-30T06:37:58.350Z"
   },
   {
    "duration": 19,
    "start_time": "2021-12-30T06:37:58.408Z"
   },
   {
    "duration": 85,
    "start_time": "2021-12-30T06:37:58.429Z"
   },
   {
    "duration": 840,
    "start_time": "2021-12-30T06:37:58.516Z"
   },
   {
    "duration": 25,
    "start_time": "2021-12-30T06:37:59.357Z"
   },
   {
    "duration": 159,
    "start_time": "2021-12-30T06:37:59.384Z"
   },
   {
    "duration": 37,
    "start_time": "2021-12-30T06:37:59.545Z"
   },
   {
    "duration": 512,
    "start_time": "2021-12-30T06:37:59.583Z"
   },
   {
    "duration": 45,
    "start_time": "2021-12-30T06:38:00.097Z"
   },
   {
    "duration": 429,
    "start_time": "2021-12-30T06:38:00.144Z"
   },
   {
    "duration": 71,
    "start_time": "2021-12-30T06:38:00.575Z"
   },
   {
    "duration": 1457,
    "start_time": "2021-12-30T06:38:00.648Z"
   },
   {
    "duration": -43,
    "start_time": "2021-12-30T06:38:02.152Z"
   },
   {
    "duration": -46,
    "start_time": "2021-12-30T06:38:02.156Z"
   },
   {
    "duration": -62,
    "start_time": "2021-12-30T06:38:02.173Z"
   },
   {
    "duration": -64,
    "start_time": "2021-12-30T06:38:02.176Z"
   },
   {
    "duration": -66,
    "start_time": "2021-12-30T06:38:02.178Z"
   },
   {
    "duration": -67,
    "start_time": "2021-12-30T06:38:02.181Z"
   },
   {
    "duration": -69,
    "start_time": "2021-12-30T06:38:02.183Z"
   },
   {
    "duration": -71,
    "start_time": "2021-12-30T06:38:02.186Z"
   },
   {
    "duration": -72,
    "start_time": "2021-12-30T06:38:02.188Z"
   },
   {
    "duration": -86,
    "start_time": "2021-12-30T06:38:02.203Z"
   },
   {
    "duration": -87,
    "start_time": "2021-12-30T06:38:02.205Z"
   },
   {
    "duration": -88,
    "start_time": "2021-12-30T06:38:02.207Z"
   },
   {
    "duration": -89,
    "start_time": "2021-12-30T06:38:02.209Z"
   },
   {
    "duration": -89,
    "start_time": "2021-12-30T06:38:02.211Z"
   },
   {
    "duration": -90,
    "start_time": "2021-12-30T06:38:02.213Z"
   },
   {
    "duration": -91,
    "start_time": "2021-12-30T06:38:02.215Z"
   },
   {
    "duration": -93,
    "start_time": "2021-12-30T06:38:02.217Z"
   },
   {
    "duration": -93,
    "start_time": "2021-12-30T06:38:02.219Z"
   },
   {
    "duration": -94,
    "start_time": "2021-12-30T06:38:02.221Z"
   },
   {
    "duration": -95,
    "start_time": "2021-12-30T06:38:02.223Z"
   },
   {
    "duration": -97,
    "start_time": "2021-12-30T06:38:02.225Z"
   },
   {
    "duration": -98,
    "start_time": "2021-12-30T06:38:02.227Z"
   },
   {
    "duration": -99,
    "start_time": "2021-12-30T06:38:02.229Z"
   },
   {
    "duration": -100,
    "start_time": "2021-12-30T06:38:02.231Z"
   },
   {
    "duration": -101,
    "start_time": "2021-12-30T06:38:02.233Z"
   },
   {
    "duration": -102,
    "start_time": "2021-12-30T06:38:02.235Z"
   },
   {
    "duration": -103,
    "start_time": "2021-12-30T06:38:02.237Z"
   },
   {
    "duration": -104,
    "start_time": "2021-12-30T06:38:02.239Z"
   },
   {
    "duration": -104,
    "start_time": "2021-12-30T06:38:02.240Z"
   },
   {
    "duration": -105,
    "start_time": "2021-12-30T06:38:02.242Z"
   },
   {
    "duration": -107,
    "start_time": "2021-12-30T06:38:02.244Z"
   },
   {
    "duration": -108,
    "start_time": "2021-12-30T06:38:02.246Z"
   },
   {
    "duration": -129,
    "start_time": "2021-12-30T06:38:02.268Z"
   },
   {
    "duration": -130,
    "start_time": "2021-12-30T06:38:02.270Z"
   },
   {
    "duration": -132,
    "start_time": "2021-12-30T06:38:02.273Z"
   },
   {
    "duration": -134,
    "start_time": "2021-12-30T06:38:02.275Z"
   },
   {
    "duration": -440,
    "start_time": "2021-12-30T06:38:02.582Z"
   },
   {
    "duration": -636,
    "start_time": "2021-12-30T06:38:02.779Z"
   },
   {
    "duration": -699,
    "start_time": "2021-12-30T06:38:02.844Z"
   },
   {
    "duration": -700,
    "start_time": "2021-12-30T06:38:02.846Z"
   },
   {
    "duration": -701,
    "start_time": "2021-12-30T06:38:02.848Z"
   },
   {
    "duration": -702,
    "start_time": "2021-12-30T06:38:02.850Z"
   },
   {
    "duration": -704,
    "start_time": "2021-12-30T06:38:02.852Z"
   },
   {
    "duration": -705,
    "start_time": "2021-12-30T06:38:02.854Z"
   },
   {
    "duration": -706,
    "start_time": "2021-12-30T06:38:02.856Z"
   },
   {
    "duration": -707,
    "start_time": "2021-12-30T06:38:02.858Z"
   },
   {
    "duration": -708,
    "start_time": "2021-12-30T06:38:02.860Z"
   },
   {
    "duration": -709,
    "start_time": "2021-12-30T06:38:02.862Z"
   },
   {
    "duration": -710,
    "start_time": "2021-12-30T06:38:02.864Z"
   },
   {
    "duration": -711,
    "start_time": "2021-12-30T06:38:02.866Z"
   },
   {
    "duration": -712,
    "start_time": "2021-12-30T06:38:02.868Z"
   },
   {
    "duration": -713,
    "start_time": "2021-12-30T06:38:02.870Z"
   },
   {
    "duration": -714,
    "start_time": "2021-12-30T06:38:02.871Z"
   },
   {
    "duration": -714,
    "start_time": "2021-12-30T06:38:02.873Z"
   },
   {
    "duration": -716,
    "start_time": "2021-12-30T06:38:02.875Z"
   },
   {
    "duration": -717,
    "start_time": "2021-12-30T06:38:02.877Z"
   },
   {
    "duration": -718,
    "start_time": "2021-12-30T06:38:02.879Z"
   },
   {
    "duration": -719,
    "start_time": "2021-12-30T06:38:02.881Z"
   },
   {
    "duration": -720,
    "start_time": "2021-12-30T06:38:02.883Z"
   },
   {
    "duration": -722,
    "start_time": "2021-12-30T06:38:02.886Z"
   },
   {
    "duration": -723,
    "start_time": "2021-12-30T06:38:02.888Z"
   },
   {
    "duration": -724,
    "start_time": "2021-12-30T06:38:02.890Z"
   },
   {
    "duration": -725,
    "start_time": "2021-12-30T06:38:02.892Z"
   },
   {
    "duration": -725,
    "start_time": "2021-12-30T06:38:02.894Z"
   },
   {
    "duration": -669,
    "start_time": "2021-12-30T06:38:02.896Z"
   },
   {
    "duration": -670,
    "start_time": "2021-12-30T06:38:02.898Z"
   },
   {
    "duration": -671,
    "start_time": "2021-12-30T06:38:02.900Z"
   },
   {
    "duration": -672,
    "start_time": "2021-12-30T06:38:02.902Z"
   },
   {
    "duration": -673,
    "start_time": "2021-12-30T06:38:02.904Z"
   },
   {
    "duration": -674,
    "start_time": "2021-12-30T06:38:02.906Z"
   },
   {
    "duration": -675,
    "start_time": "2021-12-30T06:38:02.908Z"
   },
   {
    "duration": -675,
    "start_time": "2021-12-30T06:38:02.909Z"
   },
   {
    "duration": -676,
    "start_time": "2021-12-30T06:38:02.911Z"
   },
   {
    "duration": -677,
    "start_time": "2021-12-30T06:38:02.913Z"
   },
   {
    "duration": -678,
    "start_time": "2021-12-30T06:38:02.915Z"
   },
   {
    "duration": -679,
    "start_time": "2021-12-30T06:38:02.917Z"
   },
   {
    "duration": -680,
    "start_time": "2021-12-30T06:38:02.919Z"
   },
   {
    "duration": -681,
    "start_time": "2021-12-30T06:38:02.921Z"
   },
   {
    "duration": -682,
    "start_time": "2021-12-30T06:38:02.923Z"
   },
   {
    "duration": -683,
    "start_time": "2021-12-30T06:38:02.925Z"
   },
   {
    "duration": -683,
    "start_time": "2021-12-30T06:38:02.927Z"
   },
   {
    "duration": -684,
    "start_time": "2021-12-30T06:38:02.929Z"
   },
   {
    "duration": -685,
    "start_time": "2021-12-30T06:38:02.931Z"
   },
   {
    "duration": -686,
    "start_time": "2021-12-30T06:38:02.933Z"
   },
   {
    "duration": -687,
    "start_time": "2021-12-30T06:38:02.935Z"
   },
   {
    "duration": -688,
    "start_time": "2021-12-30T06:38:02.937Z"
   },
   {
    "duration": -689,
    "start_time": "2021-12-30T06:38:02.939Z"
   },
   {
    "duration": -690,
    "start_time": "2021-12-30T06:38:02.941Z"
   },
   {
    "duration": -726,
    "start_time": "2021-12-30T06:38:02.977Z"
   },
   {
    "duration": -726,
    "start_time": "2021-12-30T06:38:02.979Z"
   },
   {
    "duration": 6,
    "start_time": "2021-12-30T06:40:06.010Z"
   },
   {
    "duration": 6,
    "start_time": "2021-12-30T06:40:18.376Z"
   },
   {
    "duration": 5,
    "start_time": "2021-12-30T06:43:37.906Z"
   },
   {
    "duration": 389,
    "start_time": "2021-12-30T06:43:48.404Z"
   },
   {
    "duration": 4,
    "start_time": "2021-12-30T06:44:15.068Z"
   },
   {
    "duration": 5,
    "start_time": "2021-12-30T06:44:31.916Z"
   },
   {
    "duration": 360,
    "start_time": "2021-12-30T06:44:43.117Z"
   },
   {
    "duration": 6,
    "start_time": "2021-12-30T06:44:51.137Z"
   },
   {
    "duration": 12,
    "start_time": "2021-12-30T06:46:45.087Z"
   },
   {
    "duration": 11,
    "start_time": "2021-12-30T06:47:01.877Z"
   },
   {
    "duration": 1296,
    "start_time": "2021-12-30T06:51:44.813Z"
   },
   {
    "duration": 2,
    "start_time": "2021-12-30T06:51:46.111Z"
   },
   {
    "duration": 782,
    "start_time": "2021-12-30T06:51:46.115Z"
   },
   {
    "duration": 121,
    "start_time": "2021-12-30T06:51:46.899Z"
   },
   {
    "duration": 18,
    "start_time": "2021-12-30T06:51:47.022Z"
   },
   {
    "duration": 116,
    "start_time": "2021-12-30T06:51:47.042Z"
   },
   {
    "duration": 120,
    "start_time": "2021-12-30T06:51:47.159Z"
   },
   {
    "duration": 2,
    "start_time": "2021-12-30T06:51:47.280Z"
   },
   {
    "duration": 648,
    "start_time": "2021-12-30T06:51:47.285Z"
   },
   {
    "duration": 111,
    "start_time": "2021-12-30T06:51:47.935Z"
   },
   {
    "duration": 66,
    "start_time": "2021-12-30T06:51:48.048Z"
   },
   {
    "duration": 30,
    "start_time": "2021-12-30T06:51:48.115Z"
   },
   {
    "duration": 16,
    "start_time": "2021-12-30T06:51:48.147Z"
   },
   {
    "duration": 377,
    "start_time": "2021-12-30T06:51:48.165Z"
   },
   {
    "duration": 109,
    "start_time": "2021-12-30T06:51:48.543Z"
   },
   {
    "duration": 22,
    "start_time": "2021-12-30T06:51:48.653Z"
   },
   {
    "duration": 5,
    "start_time": "2021-12-30T06:51:48.676Z"
   },
   {
    "duration": 4,
    "start_time": "2021-12-30T06:51:48.683Z"
   },
   {
    "duration": 2919,
    "start_time": "2021-12-30T06:51:48.689Z"
   },
   {
    "duration": 619,
    "start_time": "2021-12-30T06:51:51.610Z"
   },
   {
    "duration": 16,
    "start_time": "2021-12-30T06:51:52.230Z"
   },
   {
    "duration": 5,
    "start_time": "2021-12-30T06:51:52.248Z"
   },
   {
    "duration": 10,
    "start_time": "2021-12-30T06:51:52.254Z"
   },
   {
    "duration": 93,
    "start_time": "2021-12-30T06:51:52.265Z"
   },
   {
    "duration": 629,
    "start_time": "2021-12-30T06:51:52.360Z"
   },
   {
    "duration": 16,
    "start_time": "2021-12-30T06:51:52.991Z"
   },
   {
    "duration": 33,
    "start_time": "2021-12-30T06:51:53.010Z"
   },
   {
    "duration": 5,
    "start_time": "2021-12-30T06:51:53.046Z"
   },
   {
    "duration": 53,
    "start_time": "2021-12-30T06:51:53.053Z"
   },
   {
    "duration": 4,
    "start_time": "2021-12-30T06:51:53.128Z"
   },
   {
    "duration": 82,
    "start_time": "2021-12-30T06:51:53.134Z"
   },
   {
    "duration": 839,
    "start_time": "2021-12-30T06:51:53.218Z"
   },
   {
    "duration": 23,
    "start_time": "2021-12-30T06:51:54.058Z"
   },
   {
    "duration": 164,
    "start_time": "2021-12-30T06:51:54.083Z"
   },
   {
    "duration": 79,
    "start_time": "2021-12-30T06:51:54.248Z"
   },
   {
    "duration": 4,
    "start_time": "2021-12-30T06:51:54.329Z"
   },
   {
    "duration": 466,
    "start_time": "2021-12-30T06:51:54.334Z"
   },
   {
    "duration": 11,
    "start_time": "2021-12-30T06:51:54.802Z"
   },
   {
    "duration": 15,
    "start_time": "2021-12-30T06:51:54.814Z"
   },
   {
    "duration": 372,
    "start_time": "2021-12-30T06:51:54.830Z"
   },
   {
    "duration": 10,
    "start_time": "2021-12-30T06:51:55.204Z"
   },
   {
    "duration": 15,
    "start_time": "2021-12-30T06:51:55.216Z"
   },
   {
    "duration": 78,
    "start_time": "2021-12-30T06:51:55.232Z"
   },
   {
    "duration": 10,
    "start_time": "2021-12-30T06:51:55.327Z"
   },
   {
    "duration": 129,
    "start_time": "2021-12-30T06:51:55.338Z"
   },
   {
    "duration": 143,
    "start_time": "2021-12-30T06:51:55.469Z"
   },
   {
    "duration": 27,
    "start_time": "2021-12-30T06:51:55.614Z"
   },
   {
    "duration": 4647,
    "start_time": "2021-12-30T06:51:55.643Z"
   },
   {
    "duration": 20,
    "start_time": "2021-12-30T06:52:00.292Z"
   },
   {
    "duration": 97,
    "start_time": "2021-12-30T06:52:00.313Z"
   },
   {
    "duration": 46,
    "start_time": "2021-12-30T06:52:00.411Z"
   },
   {
    "duration": 4,
    "start_time": "2021-12-30T06:52:00.459Z"
   },
   {
    "duration": 10,
    "start_time": "2021-12-30T06:52:00.465Z"
   },
   {
    "duration": 7,
    "start_time": "2021-12-30T06:52:00.476Z"
   },
   {
    "duration": 54,
    "start_time": "2021-12-30T06:52:00.485Z"
   },
   {
    "duration": 10,
    "start_time": "2021-12-30T06:52:00.540Z"
   },
   {
    "duration": 1072,
    "start_time": "2021-12-30T06:52:00.551Z"
   },
   {
    "duration": 19,
    "start_time": "2021-12-30T06:52:01.627Z"
   },
   {
    "duration": 59,
    "start_time": "2021-12-30T06:52:01.647Z"
   },
   {
    "duration": 44,
    "start_time": "2021-12-30T06:52:01.707Z"
   },
   {
    "duration": 4,
    "start_time": "2021-12-30T06:52:01.753Z"
   },
   {
    "duration": 5,
    "start_time": "2021-12-30T06:52:01.759Z"
   },
   {
    "duration": 704,
    "start_time": "2021-12-30T06:52:01.765Z"
   },
   {
    "duration": 192,
    "start_time": "2021-12-30T06:52:02.471Z"
   },
   {
    "duration": 699,
    "start_time": "2021-12-30T06:52:02.665Z"
   },
   {
    "duration": 240,
    "start_time": "2021-12-30T06:52:03.366Z"
   },
   {
    "duration": 3,
    "start_time": "2021-12-30T06:52:03.608Z"
   },
   {
    "duration": 27,
    "start_time": "2021-12-30T06:52:03.613Z"
   },
   {
    "duration": 24093,
    "start_time": "2021-12-30T06:52:03.641Z"
   },
   {
    "duration": 97696,
    "start_time": "2021-12-30T06:52:27.736Z"
   },
   {
    "duration": 143770,
    "start_time": "2021-12-30T06:54:05.434Z"
   },
   {
    "duration": 17933,
    "start_time": "2021-12-30T06:56:29.205Z"
   },
   {
    "duration": 8452,
    "start_time": "2021-12-30T06:56:47.228Z"
   },
   {
    "duration": -215,
    "start_time": "2021-12-30T06:56:55.900Z"
   },
   {
    "duration": -229,
    "start_time": "2021-12-30T06:56:55.915Z"
   },
   {
    "duration": -230,
    "start_time": "2021-12-30T06:56:55.918Z"
   },
   {
    "duration": -232,
    "start_time": "2021-12-30T06:56:55.921Z"
   },
   {
    "duration": -244,
    "start_time": "2021-12-30T06:56:55.934Z"
   },
   {
    "duration": -246,
    "start_time": "2021-12-30T06:56:55.937Z"
   },
   {
    "duration": -247,
    "start_time": "2021-12-30T06:56:55.940Z"
   },
   {
    "duration": -248,
    "start_time": "2021-12-30T06:56:55.942Z"
   },
   {
    "duration": -249,
    "start_time": "2021-12-30T06:56:55.944Z"
   },
   {
    "duration": -249,
    "start_time": "2021-12-30T06:56:55.946Z"
   },
   {
    "duration": -251,
    "start_time": "2021-12-30T06:56:55.949Z"
   },
   {
    "duration": -252,
    "start_time": "2021-12-30T06:56:55.952Z"
   },
   {
    "duration": -253,
    "start_time": "2021-12-30T06:56:55.954Z"
   },
   {
    "duration": -253,
    "start_time": "2021-12-30T06:56:55.956Z"
   },
   {
    "duration": -255,
    "start_time": "2021-12-30T06:56:55.959Z"
   },
   {
    "duration": -256,
    "start_time": "2021-12-30T06:56:55.961Z"
   },
   {
    "duration": -256,
    "start_time": "2021-12-30T06:56:55.963Z"
   },
   {
    "duration": -257,
    "start_time": "2021-12-30T06:56:55.965Z"
   },
   {
    "duration": -272,
    "start_time": "2021-12-30T06:56:55.981Z"
   },
   {
    "duration": -272,
    "start_time": "2021-12-30T06:56:55.983Z"
   },
   {
    "duration": -274,
    "start_time": "2021-12-30T06:56:55.986Z"
   },
   {
    "duration": -274,
    "start_time": "2021-12-30T06:56:55.988Z"
   },
   {
    "duration": -275,
    "start_time": "2021-12-30T06:56:55.990Z"
   },
   {
    "duration": -276,
    "start_time": "2021-12-30T06:56:55.992Z"
   },
   {
    "duration": -276,
    "start_time": "2021-12-30T06:56:55.994Z"
   },
   {
    "duration": -277,
    "start_time": "2021-12-30T06:56:55.996Z"
   },
   {
    "duration": -278,
    "start_time": "2021-12-30T06:56:55.998Z"
   },
   {
    "duration": -278,
    "start_time": "2021-12-30T06:56:56.000Z"
   },
   {
    "duration": -279,
    "start_time": "2021-12-30T06:56:56.002Z"
   },
   {
    "duration": -280,
    "start_time": "2021-12-30T06:56:56.004Z"
   },
   {
    "duration": -281,
    "start_time": "2021-12-30T06:56:56.006Z"
   },
   {
    "duration": -282,
    "start_time": "2021-12-30T06:56:56.008Z"
   },
   {
    "duration": -283,
    "start_time": "2021-12-30T06:56:56.010Z"
   },
   {
    "duration": -283,
    "start_time": "2021-12-30T06:56:56.012Z"
   },
   {
    "duration": -284,
    "start_time": "2021-12-30T06:56:56.014Z"
   },
   {
    "duration": -285,
    "start_time": "2021-12-30T06:56:56.016Z"
   },
   {
    "duration": -285,
    "start_time": "2021-12-30T06:56:56.018Z"
   },
   {
    "duration": -302,
    "start_time": "2021-12-30T06:56:56.036Z"
   },
   {
    "duration": -303,
    "start_time": "2021-12-30T06:56:56.039Z"
   },
   {
    "duration": -303,
    "start_time": "2021-12-30T06:56:56.040Z"
   },
   {
    "duration": -304,
    "start_time": "2021-12-30T06:56:56.042Z"
   },
   {
    "duration": -304,
    "start_time": "2021-12-30T06:56:56.044Z"
   },
   {
    "duration": -305,
    "start_time": "2021-12-30T06:56:56.046Z"
   },
   {
    "duration": -306,
    "start_time": "2021-12-30T06:56:56.048Z"
   },
   {
    "duration": -306,
    "start_time": "2021-12-30T06:56:56.050Z"
   },
   {
    "duration": -307,
    "start_time": "2021-12-30T06:56:56.052Z"
   },
   {
    "duration": -312,
    "start_time": "2021-12-30T06:56:56.058Z"
   },
   {
    "duration": -316,
    "start_time": "2021-12-30T06:56:56.064Z"
   },
   {
    "duration": -317,
    "start_time": "2021-12-30T06:56:56.066Z"
   },
   {
    "duration": -330,
    "start_time": "2021-12-30T06:56:56.080Z"
   },
   {
    "duration": -330,
    "start_time": "2021-12-30T06:56:56.082Z"
   },
   {
    "duration": -331,
    "start_time": "2021-12-30T06:56:56.084Z"
   },
   {
    "duration": -332,
    "start_time": "2021-12-30T06:56:56.086Z"
   },
   {
    "duration": -332,
    "start_time": "2021-12-30T06:56:56.088Z"
   },
   {
    "duration": -336,
    "start_time": "2021-12-30T06:56:56.093Z"
   },
   {
    "duration": -338,
    "start_time": "2021-12-30T06:56:56.096Z"
   },
   {
    "duration": -338,
    "start_time": "2021-12-30T06:56:56.098Z"
   },
   {
    "duration": -339,
    "start_time": "2021-12-30T06:56:56.100Z"
   },
   {
    "duration": 16,
    "start_time": "2021-12-30T07:04:43.972Z"
   },
   {
    "duration": 3,
    "start_time": "2021-12-30T07:05:21.262Z"
   },
   {
    "duration": 78,
    "start_time": "2021-12-30T07:05:22.293Z"
   },
   {
    "duration": 922,
    "start_time": "2021-12-30T07:05:24.135Z"
   },
   {
    "duration": 26,
    "start_time": "2021-12-30T07:05:30.134Z"
   },
   {
    "duration": 145,
    "start_time": "2021-12-30T07:05:31.044Z"
   },
   {
    "duration": 8274,
    "start_time": "2021-12-30T07:07:33.950Z"
   },
   {
    "duration": 1230,
    "start_time": "2021-12-30T07:09:44.297Z"
   },
   {
    "duration": 2,
    "start_time": "2021-12-30T07:09:45.529Z"
   },
   {
    "duration": 773,
    "start_time": "2021-12-30T07:09:45.533Z"
   },
   {
    "duration": 120,
    "start_time": "2021-12-30T07:09:46.307Z"
   },
   {
    "duration": 16,
    "start_time": "2021-12-30T07:09:46.429Z"
   },
   {
    "duration": 121,
    "start_time": "2021-12-30T07:09:46.447Z"
   },
   {
    "duration": 112,
    "start_time": "2021-12-30T07:09:46.570Z"
   },
   {
    "duration": 2,
    "start_time": "2021-12-30T07:09:46.684Z"
   },
   {
    "duration": 665,
    "start_time": "2021-12-30T07:09:46.688Z"
   },
   {
    "duration": 105,
    "start_time": "2021-12-30T07:09:47.355Z"
   },
   {
    "duration": 73,
    "start_time": "2021-12-30T07:09:47.461Z"
   },
   {
    "duration": 23,
    "start_time": "2021-12-30T07:09:47.536Z"
   },
   {
    "duration": 17,
    "start_time": "2021-12-30T07:09:47.560Z"
   },
   {
    "duration": 381,
    "start_time": "2021-12-30T07:09:47.578Z"
   },
   {
    "duration": 121,
    "start_time": "2021-12-30T07:09:47.960Z"
   },
   {
    "duration": 22,
    "start_time": "2021-12-30T07:09:48.083Z"
   },
   {
    "duration": 4,
    "start_time": "2021-12-30T07:09:48.107Z"
   },
   {
    "duration": 16,
    "start_time": "2021-12-30T07:09:48.112Z"
   },
   {
    "duration": 3023,
    "start_time": "2021-12-30T07:09:48.129Z"
   },
   {
    "duration": 642,
    "start_time": "2021-12-30T07:09:51.154Z"
   },
   {
    "duration": 17,
    "start_time": "2021-12-30T07:09:51.797Z"
   },
   {
    "duration": 6,
    "start_time": "2021-12-30T07:09:51.827Z"
   },
   {
    "duration": 10,
    "start_time": "2021-12-30T07:09:51.835Z"
   },
   {
    "duration": 89,
    "start_time": "2021-12-30T07:09:51.847Z"
   },
   {
    "duration": 664,
    "start_time": "2021-12-30T07:09:51.937Z"
   },
   {
    "duration": 26,
    "start_time": "2021-12-30T07:09:52.602Z"
   },
   {
    "duration": 23,
    "start_time": "2021-12-30T07:09:52.633Z"
   },
   {
    "duration": 5,
    "start_time": "2021-12-30T07:09:52.660Z"
   },
   {
    "duration": 86,
    "start_time": "2021-12-30T07:09:52.667Z"
   },
   {
    "duration": 17,
    "start_time": "2021-12-30T07:09:52.755Z"
   },
   {
    "duration": 13,
    "start_time": "2021-12-30T07:09:52.774Z"
   },
   {
    "duration": 113,
    "start_time": "2021-12-30T07:09:52.789Z"
   },
   {
    "duration": 869,
    "start_time": "2021-12-30T07:09:52.904Z"
   },
   {
    "duration": 24,
    "start_time": "2021-12-30T07:09:53.775Z"
   },
   {
    "duration": 175,
    "start_time": "2021-12-30T07:09:53.801Z"
   },
   {
    "duration": 92,
    "start_time": "2021-12-30T07:09:53.978Z"
   },
   {
    "duration": 5,
    "start_time": "2021-12-30T07:09:54.072Z"
   },
   {
    "duration": 502,
    "start_time": "2021-12-30T07:09:54.079Z"
   },
   {
    "duration": 12,
    "start_time": "2021-12-30T07:09:54.583Z"
   },
   {
    "duration": 5,
    "start_time": "2021-12-30T07:09:54.597Z"
   },
   {
    "duration": 388,
    "start_time": "2021-12-30T07:09:54.604Z"
   },
   {
    "duration": 12,
    "start_time": "2021-12-30T07:09:54.994Z"
   },
   {
    "duration": 24,
    "start_time": "2021-12-30T07:09:55.008Z"
   },
   {
    "duration": 93,
    "start_time": "2021-12-30T07:09:55.034Z"
   },
   {
    "duration": 10,
    "start_time": "2021-12-30T07:09:55.129Z"
   },
   {
    "duration": 140,
    "start_time": "2021-12-30T07:09:55.141Z"
   },
   {
    "duration": 146,
    "start_time": "2021-12-30T07:09:55.283Z"
   },
   {
    "duration": 26,
    "start_time": "2021-12-30T07:09:55.431Z"
   },
   {
    "duration": 4802,
    "start_time": "2021-12-30T07:09:55.459Z"
   },
   {
    "duration": 17,
    "start_time": "2021-12-30T07:10:00.263Z"
   },
   {
    "duration": 96,
    "start_time": "2021-12-30T07:10:00.282Z"
   },
   {
    "duration": 38,
    "start_time": "2021-12-30T07:10:00.380Z"
   },
   {
    "duration": 4,
    "start_time": "2021-12-30T07:10:00.428Z"
   },
   {
    "duration": 15,
    "start_time": "2021-12-30T07:10:00.433Z"
   },
   {
    "duration": 5,
    "start_time": "2021-12-30T07:10:00.450Z"
   },
   {
    "duration": 48,
    "start_time": "2021-12-30T07:10:00.457Z"
   },
   {
    "duration": 8,
    "start_time": "2021-12-30T07:10:00.506Z"
   },
   {
    "duration": 1013,
    "start_time": "2021-12-30T07:10:00.527Z"
   },
   {
    "duration": 20,
    "start_time": "2021-12-30T07:10:01.542Z"
   },
   {
    "duration": 86,
    "start_time": "2021-12-30T07:10:01.563Z"
   },
   {
    "duration": 42,
    "start_time": "2021-12-30T07:10:01.651Z"
   },
   {
    "duration": 4,
    "start_time": "2021-12-30T07:10:01.695Z"
   },
   {
    "duration": 11,
    "start_time": "2021-12-30T07:10:01.701Z"
   },
   {
    "duration": 689,
    "start_time": "2021-12-30T07:10:01.727Z"
   },
   {
    "duration": 201,
    "start_time": "2021-12-30T07:10:02.417Z"
   },
   {
    "duration": 701,
    "start_time": "2021-12-30T07:10:02.620Z"
   },
   {
    "duration": 246,
    "start_time": "2021-12-30T07:10:03.322Z"
   },
   {
    "duration": 4,
    "start_time": "2021-12-30T07:10:03.570Z"
   },
   {
    "duration": 5,
    "start_time": "2021-12-30T07:10:03.576Z"
   },
   {
    "duration": 24265,
    "start_time": "2021-12-30T07:10:03.582Z"
   },
   {
    "duration": 93991,
    "start_time": "2021-12-30T07:10:27.848Z"
   },
   {
    "duration": 144130,
    "start_time": "2021-12-30T07:12:01.841Z"
   },
   {
    "duration": 17260,
    "start_time": "2021-12-30T07:14:25.973Z"
   },
   {
    "duration": 5702,
    "start_time": "2021-12-30T07:14:43.235Z"
   },
   {
    "duration": 593998,
    "start_time": "2021-12-30T07:14:48.939Z"
   },
   {
    "duration": 98297,
    "start_time": "2021-12-30T07:24:42.939Z"
   },
   {
    "duration": 2123,
    "start_time": "2021-12-30T07:26:21.238Z"
   },
   {
    "duration": -169,
    "start_time": "2021-12-30T07:26:23.533Z"
   },
   {
    "duration": -172,
    "start_time": "2021-12-30T07:26:23.537Z"
   },
   {
    "duration": -175,
    "start_time": "2021-12-30T07:26:23.541Z"
   },
   {
    "duration": -192,
    "start_time": "2021-12-30T07:26:23.559Z"
   },
   {
    "duration": -194,
    "start_time": "2021-12-30T07:26:23.562Z"
   },
   {
    "duration": -196,
    "start_time": "2021-12-30T07:26:23.564Z"
   },
   {
    "duration": -207,
    "start_time": "2021-12-30T07:26:23.576Z"
   },
   {
    "duration": -208,
    "start_time": "2021-12-30T07:26:23.578Z"
   },
   {
    "duration": -210,
    "start_time": "2021-12-30T07:26:23.581Z"
   },
   {
    "duration": -211,
    "start_time": "2021-12-30T07:26:23.583Z"
   },
   {
    "duration": -212,
    "start_time": "2021-12-30T07:26:23.585Z"
   },
   {
    "duration": -214,
    "start_time": "2021-12-30T07:26:23.587Z"
   },
   {
    "duration": -216,
    "start_time": "2021-12-30T07:26:23.590Z"
   },
   {
    "duration": -217,
    "start_time": "2021-12-30T07:26:23.592Z"
   },
   {
    "duration": -218,
    "start_time": "2021-12-30T07:26:23.594Z"
   },
   {
    "duration": -219,
    "start_time": "2021-12-30T07:26:23.596Z"
   },
   {
    "duration": -220,
    "start_time": "2021-12-30T07:26:23.598Z"
   },
   {
    "duration": -221,
    "start_time": "2021-12-30T07:26:23.600Z"
   },
   {
    "duration": -235,
    "start_time": "2021-12-30T07:26:23.615Z"
   },
   {
    "duration": -243,
    "start_time": "2021-12-30T07:26:23.623Z"
   },
   {
    "duration": -245,
    "start_time": "2021-12-30T07:26:23.626Z"
   },
   {
    "duration": -246,
    "start_time": "2021-12-30T07:26:23.628Z"
   },
   {
    "duration": -247,
    "start_time": "2021-12-30T07:26:23.630Z"
   },
   {
    "duration": -249,
    "start_time": "2021-12-30T07:26:23.632Z"
   },
   {
    "duration": -250,
    "start_time": "2021-12-30T07:26:23.634Z"
   },
   {
    "duration": -251,
    "start_time": "2021-12-30T07:26:23.636Z"
   },
   {
    "duration": -252,
    "start_time": "2021-12-30T07:26:23.638Z"
   },
   {
    "duration": -253,
    "start_time": "2021-12-30T07:26:23.640Z"
   },
   {
    "duration": -254,
    "start_time": "2021-12-30T07:26:23.642Z"
   },
   {
    "duration": -284,
    "start_time": "2021-12-30T07:26:23.673Z"
   },
   {
    "duration": -287,
    "start_time": "2021-12-30T07:26:23.676Z"
   },
   {
    "duration": -287,
    "start_time": "2021-12-30T07:26:23.677Z"
   },
   {
    "duration": -288,
    "start_time": "2021-12-30T07:26:23.679Z"
   },
   {
    "duration": -305,
    "start_time": "2021-12-30T07:26:23.696Z"
   },
   {
    "duration": -306,
    "start_time": "2021-12-30T07:26:23.698Z"
   },
   {
    "duration": -307,
    "start_time": "2021-12-30T07:26:23.700Z"
   },
   {
    "duration": -308,
    "start_time": "2021-12-30T07:26:23.702Z"
   },
   {
    "duration": -326,
    "start_time": "2021-12-30T07:26:23.721Z"
   },
   {
    "duration": -328,
    "start_time": "2021-12-30T07:26:23.723Z"
   },
   {
    "duration": -329,
    "start_time": "2021-12-30T07:26:23.725Z"
   },
   {
    "duration": -330,
    "start_time": "2021-12-30T07:26:23.727Z"
   },
   {
    "duration": -331,
    "start_time": "2021-12-30T07:26:23.729Z"
   },
   {
    "duration": -346,
    "start_time": "2021-12-30T07:26:23.772Z"
   },
   {
    "duration": -360,
    "start_time": "2021-12-30T07:26:23.787Z"
   },
   {
    "duration": -361,
    "start_time": "2021-12-30T07:26:23.789Z"
   },
   {
    "duration": -362,
    "start_time": "2021-12-30T07:26:23.791Z"
   },
   {
    "duration": -363,
    "start_time": "2021-12-30T07:26:23.793Z"
   },
   {
    "duration": -364,
    "start_time": "2021-12-30T07:26:23.795Z"
   },
   {
    "duration": -366,
    "start_time": "2021-12-30T07:26:23.797Z"
   },
   {
    "duration": -366,
    "start_time": "2021-12-30T07:26:23.798Z"
   },
   {
    "duration": -367,
    "start_time": "2021-12-30T07:26:23.800Z"
   },
   {
    "duration": -368,
    "start_time": "2021-12-30T07:26:23.802Z"
   },
   {
    "duration": -372,
    "start_time": "2021-12-30T07:26:23.807Z"
   },
   {
    "duration": -374,
    "start_time": "2021-12-30T07:26:23.810Z"
   },
   {
    "duration": -376,
    "start_time": "2021-12-30T07:26:23.812Z"
   },
   {
    "duration": 16,
    "start_time": "2021-12-30T07:30:00.076Z"
   },
   {
    "duration": 72,
    "start_time": "2021-12-30T07:30:01.928Z"
   },
   {
    "duration": 1183,
    "start_time": "2021-12-30T07:30:22.048Z"
   },
   {
    "duration": 3,
    "start_time": "2021-12-30T07:30:23.232Z"
   },
   {
    "duration": 748,
    "start_time": "2021-12-30T07:30:23.237Z"
   },
   {
    "duration": 117,
    "start_time": "2021-12-30T07:30:23.987Z"
   },
   {
    "duration": 25,
    "start_time": "2021-12-30T07:30:24.106Z"
   },
   {
    "duration": 119,
    "start_time": "2021-12-30T07:30:24.133Z"
   },
   {
    "duration": 118,
    "start_time": "2021-12-30T07:30:24.254Z"
   },
   {
    "duration": 3,
    "start_time": "2021-12-30T07:30:24.374Z"
   },
   {
    "duration": 651,
    "start_time": "2021-12-30T07:30:24.380Z"
   },
   {
    "duration": 112,
    "start_time": "2021-12-30T07:30:25.034Z"
   },
   {
    "duration": 65,
    "start_time": "2021-12-30T07:30:25.148Z"
   },
   {
    "duration": 33,
    "start_time": "2021-12-30T07:30:25.215Z"
   },
   {
    "duration": 18,
    "start_time": "2021-12-30T07:30:25.250Z"
   },
   {
    "duration": 389,
    "start_time": "2021-12-30T07:30:25.270Z"
   },
   {
    "duration": 117,
    "start_time": "2021-12-30T07:30:25.661Z"
   },
   {
    "duration": 23,
    "start_time": "2021-12-30T07:30:25.780Z"
   },
   {
    "duration": 4,
    "start_time": "2021-12-30T07:30:25.805Z"
   },
   {
    "duration": 16,
    "start_time": "2021-12-30T07:30:25.811Z"
   },
   {
    "duration": 2744,
    "start_time": "2021-12-30T07:30:25.829Z"
   },
   {
    "duration": 638,
    "start_time": "2021-12-30T07:30:28.574Z"
   },
   {
    "duration": 27,
    "start_time": "2021-12-30T07:30:29.213Z"
   },
   {
    "duration": 6,
    "start_time": "2021-12-30T07:30:29.241Z"
   },
   {
    "duration": 10,
    "start_time": "2021-12-30T07:30:29.249Z"
   },
   {
    "duration": 89,
    "start_time": "2021-12-30T07:30:29.260Z"
   },
   {
    "duration": 623,
    "start_time": "2021-12-30T07:30:29.350Z"
   },
   {
    "duration": 17,
    "start_time": "2021-12-30T07:30:29.974Z"
   },
   {
    "duration": 42,
    "start_time": "2021-12-30T07:30:29.995Z"
   },
   {
    "duration": 5,
    "start_time": "2021-12-30T07:30:30.040Z"
   },
   {
    "duration": 69,
    "start_time": "2021-12-30T07:30:30.046Z"
   },
   {
    "duration": 17,
    "start_time": "2021-12-30T07:30:30.117Z"
   },
   {
    "duration": 22,
    "start_time": "2021-12-30T07:30:30.135Z"
   },
   {
    "duration": 104,
    "start_time": "2021-12-30T07:30:30.159Z"
   },
   {
    "duration": 819,
    "start_time": "2021-12-30T07:30:30.264Z"
   },
   {
    "duration": 25,
    "start_time": "2021-12-30T07:30:31.084Z"
   },
   {
    "duration": 164,
    "start_time": "2021-12-30T07:30:31.111Z"
   },
   {
    "duration": 74,
    "start_time": "2021-12-30T07:30:31.277Z"
   },
   {
    "duration": 4,
    "start_time": "2021-12-30T07:30:31.352Z"
   },
   {
    "duration": 478,
    "start_time": "2021-12-30T07:30:31.358Z"
   },
   {
    "duration": 11,
    "start_time": "2021-12-30T07:30:31.838Z"
   },
   {
    "duration": 5,
    "start_time": "2021-12-30T07:30:31.851Z"
   },
   {
    "duration": 386,
    "start_time": "2021-12-30T07:30:31.857Z"
   },
   {
    "duration": 9,
    "start_time": "2021-12-30T07:30:32.245Z"
   },
   {
    "duration": 5,
    "start_time": "2021-12-30T07:30:32.256Z"
   },
   {
    "duration": 33,
    "start_time": "2021-12-30T07:30:32.263Z"
   },
   {
    "duration": 78,
    "start_time": "2021-12-30T07:30:32.298Z"
   },
   {
    "duration": 15,
    "start_time": "2021-12-30T07:30:32.377Z"
   },
   {
    "duration": 123,
    "start_time": "2021-12-30T07:30:32.394Z"
   },
   {
    "duration": 118,
    "start_time": "2021-12-30T07:30:32.518Z"
   },
   {
    "duration": 25,
    "start_time": "2021-12-30T07:30:32.637Z"
   },
   {
    "duration": 4570,
    "start_time": "2021-12-30T07:30:32.663Z"
   },
   {
    "duration": 15,
    "start_time": "2021-12-30T07:30:37.235Z"
   },
   {
    "duration": 87,
    "start_time": "2021-12-30T07:30:37.251Z"
   },
   {
    "duration": 31,
    "start_time": "2021-12-30T07:30:37.339Z"
   },
   {
    "duration": 4,
    "start_time": "2021-12-30T07:30:37.371Z"
   },
   {
    "duration": 5,
    "start_time": "2021-12-30T07:30:37.377Z"
   },
   {
    "duration": 4,
    "start_time": "2021-12-30T07:30:37.384Z"
   },
   {
    "duration": 60,
    "start_time": "2021-12-30T07:30:37.389Z"
   },
   {
    "duration": 10,
    "start_time": "2021-12-30T07:30:37.451Z"
   },
   {
    "duration": 922,
    "start_time": "2021-12-30T07:30:37.463Z"
   },
   {
    "duration": 17,
    "start_time": "2021-12-30T07:30:38.387Z"
   },
   {
    "duration": 64,
    "start_time": "2021-12-30T07:30:38.405Z"
   },
   {
    "duration": 28,
    "start_time": "2021-12-30T07:30:38.471Z"
   },
   {
    "duration": 4,
    "start_time": "2021-12-30T07:30:38.501Z"
   },
   {
    "duration": 3,
    "start_time": "2021-12-30T07:30:38.528Z"
   },
   {
    "duration": 679,
    "start_time": "2021-12-30T07:30:38.533Z"
   },
   {
    "duration": 188,
    "start_time": "2021-12-30T07:30:39.214Z"
   },
   {
    "duration": 681,
    "start_time": "2021-12-30T07:30:39.404Z"
   },
   {
    "duration": 236,
    "start_time": "2021-12-30T07:30:40.087Z"
   },
   {
    "duration": 3,
    "start_time": "2021-12-30T07:30:40.327Z"
   },
   {
    "duration": 5,
    "start_time": "2021-12-30T07:30:40.332Z"
   },
   {
    "duration": 23961,
    "start_time": "2021-12-30T07:30:40.339Z"
   },
   {
    "duration": 92592,
    "start_time": "2021-12-30T07:31:04.301Z"
   },
   {
    "duration": 143738,
    "start_time": "2021-12-30T07:32:36.895Z"
   },
   {
    "duration": 16393,
    "start_time": "2021-12-30T07:35:00.635Z"
   },
   {
    "duration": 4552,
    "start_time": "2021-12-30T07:35:17.031Z"
   },
   {
    "duration": 604455,
    "start_time": "2021-12-30T07:35:21.584Z"
   },
   {
    "duration": 98193,
    "start_time": "2021-12-30T07:45:26.041Z"
   },
   {
    "duration": 2600,
    "start_time": "2021-12-30T07:47:04.235Z"
   },
   {
    "duration": 41220,
    "start_time": "2021-12-30T07:47:06.836Z"
   },
   {
    "duration": 72,
    "start_time": "2021-12-30T07:47:48.058Z"
   },
   {
    "duration": 7,
    "start_time": "2021-12-30T07:47:48.137Z"
   },
   {
    "duration": 7,
    "start_time": "2021-12-30T07:47:48.146Z"
   },
   {
    "duration": 282,
    "start_time": "2021-12-30T07:47:48.155Z"
   },
   {
    "duration": 29,
    "start_time": "2021-12-30T07:47:48.438Z"
   },
   {
    "duration": 17,
    "start_time": "2021-12-30T07:47:48.468Z"
   },
   {
    "duration": 63,
    "start_time": "2021-12-30T07:47:48.486Z"
   },
   {
    "duration": 133627,
    "start_time": "2021-12-30T07:47:48.551Z"
   },
   {
    "duration": 135298,
    "start_time": "2021-12-30T07:50:02.180Z"
   },
   {
    "duration": 886,
    "start_time": "2021-12-30T07:52:17.479Z"
   },
   {
    "duration": 926,
    "start_time": "2021-12-30T07:52:18.367Z"
   },
   {
    "duration": 13842,
    "start_time": "2021-12-30T07:52:19.295Z"
   },
   {
    "duration": 579,
    "start_time": "2021-12-30T07:52:33.138Z"
   },
   {
    "duration": 10,
    "start_time": "2021-12-30T07:52:33.719Z"
   },
   {
    "duration": 5,
    "start_time": "2021-12-30T07:52:33.730Z"
   },
   {
    "duration": 47,
    "start_time": "2021-12-30T07:52:33.736Z"
   },
   {
    "duration": 7,
    "start_time": "2021-12-30T07:52:33.784Z"
   },
   {
    "duration": 283,
    "start_time": "2021-12-30T07:52:33.793Z"
   },
   {
    "duration": 22450,
    "start_time": "2021-12-30T07:52:34.078Z"
   },
   {
    "duration": 21697,
    "start_time": "2021-12-30T07:52:56.530Z"
   },
   {
    "duration": 202,
    "start_time": "2021-12-30T07:53:18.229Z"
   },
   {
    "duration": 294,
    "start_time": "2021-12-30T07:53:18.433Z"
   },
   {
    "duration": 141,
    "start_time": "2021-12-30T07:53:18.730Z"
   },
   {
    "duration": 56,
    "start_time": "2021-12-30T07:53:18.873Z"
   },
   {
    "duration": 101,
    "start_time": "2021-12-30T07:53:18.932Z"
   },
   {
    "duration": 4,
    "start_time": "2021-12-30T07:53:19.034Z"
   },
   {
    "duration": 4,
    "start_time": "2021-12-30T07:53:19.039Z"
   },
   {
    "duration": 9,
    "start_time": "2021-12-30T07:53:19.045Z"
   },
   {
    "duration": 273,
    "start_time": "2021-12-30T07:53:19.056Z"
   },
   {
    "duration": 225059,
    "start_time": "2021-12-30T07:53:19.331Z"
   },
   {
    "duration": 225343,
    "start_time": "2021-12-30T07:57:04.391Z"
   },
   {
    "duration": 306,
    "start_time": "2021-12-30T08:00:49.736Z"
   },
   {
    "duration": 389,
    "start_time": "2021-12-30T08:00:50.044Z"
   },
   {
    "duration": 3,
    "start_time": "2021-12-30T08:00:50.435Z"
   },
   {
    "duration": 4,
    "start_time": "2021-12-30T08:00:50.440Z"
   },
   {
    "duration": 9,
    "start_time": "2021-12-30T08:00:50.446Z"
   },
   {
    "duration": 281,
    "start_time": "2021-12-30T08:00:50.456Z"
   },
   {
    "duration": 14998,
    "start_time": "2021-12-30T08:00:50.738Z"
   },
   {
    "duration": 15898,
    "start_time": "2021-12-30T08:01:05.738Z"
   },
   {
    "duration": 1198,
    "start_time": "2021-12-30T08:01:21.638Z"
   },
   {
    "duration": 1107,
    "start_time": "2021-12-30T08:01:22.838Z"
   },
   {
    "duration": 13393,
    "start_time": "2021-12-30T08:01:23.947Z"
   },
   {
    "duration": 987,
    "start_time": "2021-12-30T08:01:37.342Z"
   },
   {
    "duration": 6,
    "start_time": "2021-12-30T08:01:38.331Z"
   },
   {
    "duration": 32,
    "start_time": "2021-12-30T08:01:38.340Z"
   },
   {
    "duration": 6,
    "start_time": "2021-12-30T08:01:38.374Z"
   },
   {
    "duration": 12,
    "start_time": "2021-12-30T08:01:38.382Z"
   },
   {
    "duration": 276,
    "start_time": "2021-12-30T08:01:38.396Z"
   },
   {
    "duration": 5,
    "start_time": "2021-12-30T08:01:38.674Z"
   },
   {
    "duration": 10,
    "start_time": "2021-12-30T08:01:38.681Z"
   },
   {
    "duration": 10,
    "start_time": "2021-12-30T08:01:38.693Z"
   },
   {
    "duration": 586,
    "start_time": "2021-12-30T08:01:38.704Z"
   },
   {
    "duration": 9,
    "start_time": "2021-12-30T08:01:39.292Z"
   },
   {
    "duration": 826,
    "start_time": "2021-12-30T08:01:39.303Z"
   },
   {
    "duration": 537,
    "start_time": "2021-12-30T08:08:34.343Z"
   },
   {
    "duration": 526,
    "start_time": "2021-12-30T08:08:44.183Z"
   },
   {
    "duration": 529,
    "start_time": "2021-12-30T08:08:55.465Z"
   },
   {
    "duration": 509,
    "start_time": "2021-12-30T08:09:13.003Z"
   },
   {
    "duration": 619,
    "start_time": "2021-12-30T08:10:06.232Z"
   },
   {
    "duration": 1347,
    "start_time": "2021-12-30T08:10:45.087Z"
   },
   {
    "duration": 524,
    "start_time": "2021-12-30T08:10:56.280Z"
   },
   {
    "duration": 524,
    "start_time": "2021-12-30T08:11:19.705Z"
   },
   {
    "duration": 603,
    "start_time": "2021-12-30T08:11:39.192Z"
   },
   {
    "duration": 546,
    "start_time": "2021-12-30T08:12:09.139Z"
   }
  ],
  "kernelspec": {
   "display_name": "Python 3 (ipykernel)",
   "language": "python",
   "name": "python3"
  },
  "language_info": {
   "codemirror_mode": {
    "name": "ipython",
    "version": 3
   },
   "file_extension": ".py",
   "mimetype": "text/x-python",
   "name": "python",
   "nbconvert_exporter": "python",
   "pygments_lexer": "ipython3",
   "version": "3.9.5"
  },
  "toc": {
   "base_numbering": 1,
   "nav_menu": {},
   "number_sections": true,
   "sideBar": true,
   "skip_h1_title": true,
   "title_cell": "Table of Contents",
   "title_sidebar": "Contents",
   "toc_cell": false,
   "toc_position": {
    "height": "calc(100% - 180px)",
    "left": "10px",
    "top": "150px",
    "width": "238px"
   },
   "toc_section_display": true,
   "toc_window_display": true
  }
 },
 "nbformat": 4,
 "nbformat_minor": 2
}
