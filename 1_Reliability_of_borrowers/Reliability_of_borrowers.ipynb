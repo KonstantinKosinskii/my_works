{
 "cells": [
  {
   "cell_type": "markdown",
   "metadata": {},
   "source": [
    "# Исследование надёжности заёмщиков\n",
    "\n",
    "Нужно разобраться, влияет ли семейное положение и количество детей клиента на факт погашения кредита в срок. Входные данные от банка — статистика о платёжеспособности клиентов.\n",
    "\n",
    "Результаты исследования будут учтены при построении модели кредитного скоринга"
   ]
  },
  {
   "cell_type": "markdown",
   "metadata": {},
   "source": [
    "# Описание данных\n",
    "`children` — количество детей в семье  \n",
    "`days_employed` — общий трудовой стаж в днях  \n",
    "`dob_years` — возраст клиента в годах  \n",
    "`education` — уровень образования клиента  \n",
    "`education_id` — идентификатор уровня образования  \n",
    "`family_status` — семейное положение  \n",
    "`family_status_id` — идентификатор семейного положения  \n",
    "`gender` — пол клиента  \n",
    "`income_type` — тип занятости  \n",
    "`debt` — имел ли задолженность по возврату кредитов  \n",
    "`total_income` — ежемесячный доход  \n",
    "`purpose` — цель получения кредита  "
   ]
  },
  {
   "cell_type": "markdown",
   "metadata": {},
   "source": [
    "## Откройте файл с данными и изучите общую информацию"
   ]
  },
  {
   "cell_type": "code",
   "execution_count": 1,
   "metadata": {},
   "outputs": [],
   "source": [
    "import pandas as pd\n",
    "import matplotlib.pyplot as plt\n",
    "import seaborn as sns\n",
    "from pymystem3 import Mystem\n",
    "from collections import Counter"
   ]
  },
  {
   "cell_type": "markdown",
   "metadata": {},
   "source": [
    "Установка отображения не более 2х знаков после запятой и игнорирование предупреждений"
   ]
  },
  {
   "cell_type": "code",
   "execution_count": 2,
   "metadata": {},
   "outputs": [],
   "source": [
    "pd.set_option('display.float_format', '{:,.2f}'.format)"
   ]
  },
  {
   "cell_type": "code",
   "execution_count": 3,
   "metadata": {},
   "outputs": [],
   "source": [
    "import warnings\n",
    "warnings.simplefilter('ignore')"
   ]
  },
  {
   "cell_type": "markdown",
   "metadata": {},
   "source": [
    "Загружаем данные"
   ]
  },
  {
   "cell_type": "code",
   "execution_count": 4,
   "metadata": {},
   "outputs": [
    {
     "data": {
      "text/html": [
       "<div>\n",
       "<style scoped>\n",
       "    .dataframe tbody tr th:only-of-type {\n",
       "        vertical-align: middle;\n",
       "    }\n",
       "\n",
       "    .dataframe tbody tr th {\n",
       "        vertical-align: top;\n",
       "    }\n",
       "\n",
       "    .dataframe thead th {\n",
       "        text-align: right;\n",
       "    }\n",
       "</style>\n",
       "<table border=\"1\" class=\"dataframe\">\n",
       "  <thead>\n",
       "    <tr style=\"text-align: right;\">\n",
       "      <th></th>\n",
       "      <th>children</th>\n",
       "      <th>days_employed</th>\n",
       "      <th>dob_years</th>\n",
       "      <th>education</th>\n",
       "      <th>education_id</th>\n",
       "      <th>family_status</th>\n",
       "      <th>family_status_id</th>\n",
       "      <th>gender</th>\n",
       "      <th>income_type</th>\n",
       "      <th>debt</th>\n",
       "      <th>total_income</th>\n",
       "      <th>purpose</th>\n",
       "    </tr>\n",
       "  </thead>\n",
       "  <tbody>\n",
       "    <tr>\n",
       "      <th>0</th>\n",
       "      <td>1</td>\n",
       "      <td>-8,437.67</td>\n",
       "      <td>42</td>\n",
       "      <td>высшее</td>\n",
       "      <td>0</td>\n",
       "      <td>женат / замужем</td>\n",
       "      <td>0</td>\n",
       "      <td>F</td>\n",
       "      <td>сотрудник</td>\n",
       "      <td>0</td>\n",
       "      <td>253,875.64</td>\n",
       "      <td>покупка жилья</td>\n",
       "    </tr>\n",
       "    <tr>\n",
       "      <th>1</th>\n",
       "      <td>1</td>\n",
       "      <td>-4,024.80</td>\n",
       "      <td>36</td>\n",
       "      <td>среднее</td>\n",
       "      <td>1</td>\n",
       "      <td>женат / замужем</td>\n",
       "      <td>0</td>\n",
       "      <td>F</td>\n",
       "      <td>сотрудник</td>\n",
       "      <td>0</td>\n",
       "      <td>112,080.01</td>\n",
       "      <td>приобретение автомобиля</td>\n",
       "    </tr>\n",
       "    <tr>\n",
       "      <th>2</th>\n",
       "      <td>0</td>\n",
       "      <td>-5,623.42</td>\n",
       "      <td>33</td>\n",
       "      <td>Среднее</td>\n",
       "      <td>1</td>\n",
       "      <td>женат / замужем</td>\n",
       "      <td>0</td>\n",
       "      <td>M</td>\n",
       "      <td>сотрудник</td>\n",
       "      <td>0</td>\n",
       "      <td>145,885.95</td>\n",
       "      <td>покупка жилья</td>\n",
       "    </tr>\n",
       "    <tr>\n",
       "      <th>3</th>\n",
       "      <td>3</td>\n",
       "      <td>-4,124.75</td>\n",
       "      <td>32</td>\n",
       "      <td>среднее</td>\n",
       "      <td>1</td>\n",
       "      <td>женат / замужем</td>\n",
       "      <td>0</td>\n",
       "      <td>M</td>\n",
       "      <td>сотрудник</td>\n",
       "      <td>0</td>\n",
       "      <td>267,628.55</td>\n",
       "      <td>дополнительное образование</td>\n",
       "    </tr>\n",
       "    <tr>\n",
       "      <th>4</th>\n",
       "      <td>0</td>\n",
       "      <td>340,266.07</td>\n",
       "      <td>53</td>\n",
       "      <td>среднее</td>\n",
       "      <td>1</td>\n",
       "      <td>гражданский брак</td>\n",
       "      <td>1</td>\n",
       "      <td>F</td>\n",
       "      <td>пенсионер</td>\n",
       "      <td>0</td>\n",
       "      <td>158,616.08</td>\n",
       "      <td>сыграть свадьбу</td>\n",
       "    </tr>\n",
       "  </tbody>\n",
       "</table>\n",
       "</div>"
      ],
      "text/plain": [
       "   children  days_employed  dob_years education  education_id  \\\n",
       "0         1      -8,437.67         42    высшее             0   \n",
       "1         1      -4,024.80         36   среднее             1   \n",
       "2         0      -5,623.42         33   Среднее             1   \n",
       "3         3      -4,124.75         32   среднее             1   \n",
       "4         0     340,266.07         53   среднее             1   \n",
       "\n",
       "      family_status  family_status_id gender income_type  debt  total_income  \\\n",
       "0   женат / замужем                 0      F   сотрудник     0    253,875.64   \n",
       "1   женат / замужем                 0      F   сотрудник     0    112,080.01   \n",
       "2   женат / замужем                 0      M   сотрудник     0    145,885.95   \n",
       "3   женат / замужем                 0      M   сотрудник     0    267,628.55   \n",
       "4  гражданский брак                 1      F   пенсионер     0    158,616.08   \n",
       "\n",
       "                      purpose  \n",
       "0               покупка жилья  \n",
       "1     приобретение автомобиля  \n",
       "2               покупка жилья  \n",
       "3  дополнительное образование  \n",
       "4             сыграть свадьбу  "
      ]
     },
     "execution_count": 4,
     "metadata": {},
     "output_type": "execute_result"
    }
   ],
   "source": [
    "df = pd.read_csv('/datasets/data.csv')\n",
    "df.head()"
   ]
  },
  {
   "cell_type": "code",
   "execution_count": 5,
   "metadata": {},
   "outputs": [],
   "source": [
    "data = df.copy(deep=True)"
   ]
  },
  {
   "cell_type": "markdown",
   "metadata": {},
   "source": [
    "Функция для ознакомления с данными"
   ]
  },
  {
   "cell_type": "code",
   "execution_count": 6,
   "metadata": {},
   "outputs": [],
   "source": [
    "def first_glance(data):\n",
    "    display(data.info())\n",
    "    print()\n",
    "    for i in range(len(data.columns)):\n",
    "        column = data.columns[i]\n",
    "        print(data[column].value_counts())\n",
    "        print('---') "
   ]
  },
  {
   "cell_type": "code",
   "execution_count": 7,
   "metadata": {},
   "outputs": [
    {
     "name": "stdout",
     "output_type": "stream",
     "text": [
      "<class 'pandas.core.frame.DataFrame'>\n",
      "RangeIndex: 21525 entries, 0 to 21524\n",
      "Data columns (total 12 columns):\n",
      " #   Column            Non-Null Count  Dtype  \n",
      "---  ------            --------------  -----  \n",
      " 0   children          21525 non-null  int64  \n",
      " 1   days_employed     19351 non-null  float64\n",
      " 2   dob_years         21525 non-null  int64  \n",
      " 3   education         21525 non-null  object \n",
      " 4   education_id      21525 non-null  int64  \n",
      " 5   family_status     21525 non-null  object \n",
      " 6   family_status_id  21525 non-null  int64  \n",
      " 7   gender            21525 non-null  object \n",
      " 8   income_type       21525 non-null  object \n",
      " 9   debt              21525 non-null  int64  \n",
      " 10  total_income      19351 non-null  float64\n",
      " 11  purpose           21525 non-null  object \n",
      "dtypes: float64(2), int64(5), object(5)\n",
      "memory usage: 2.0+ MB\n"
     ]
    },
    {
     "data": {
      "text/plain": [
       "None"
      ]
     },
     "metadata": {},
     "output_type": "display_data"
    },
    {
     "name": "stdout",
     "output_type": "stream",
     "text": [
      "\n",
      " 0     14149\n",
      " 1      4818\n",
      " 2      2055\n",
      " 3       330\n",
      " 20       76\n",
      "-1        47\n",
      " 4        41\n",
      " 5         9\n",
      "Name: children, dtype: int64\n",
      "---\n",
      "-327.69      1\n",
      "-1,580.62    1\n",
      "-4,122.46    1\n",
      "-2,828.24    1\n",
      "-2,636.09    1\n",
      "            ..\n",
      "-7,120.52    1\n",
      "-2,146.88    1\n",
      "-881.45      1\n",
      "-794.67      1\n",
      "-3,382.11    1\n",
      "Name: days_employed, Length: 19351, dtype: int64\n",
      "---\n",
      "35    617\n",
      "40    609\n",
      "41    607\n",
      "34    603\n",
      "38    598\n",
      "42    597\n",
      "33    581\n",
      "39    573\n",
      "31    560\n",
      "36    555\n",
      "44    547\n",
      "29    545\n",
      "30    540\n",
      "48    538\n",
      "37    537\n",
      "50    514\n",
      "43    513\n",
      "32    510\n",
      "49    508\n",
      "28    503\n",
      "45    497\n",
      "27    493\n",
      "56    487\n",
      "52    484\n",
      "47    480\n",
      "54    479\n",
      "46    475\n",
      "58    461\n",
      "57    460\n",
      "53    459\n",
      "51    448\n",
      "59    444\n",
      "55    443\n",
      "26    408\n",
      "60    377\n",
      "25    357\n",
      "61    355\n",
      "62    352\n",
      "63    269\n",
      "64    265\n",
      "24    264\n",
      "23    254\n",
      "65    194\n",
      "66    183\n",
      "22    183\n",
      "67    167\n",
      "21    111\n",
      "0     101\n",
      "68     99\n",
      "69     85\n",
      "70     65\n",
      "71     58\n",
      "20     51\n",
      "72     33\n",
      "19     14\n",
      "73      8\n",
      "74      6\n",
      "75      1\n",
      "Name: dob_years, dtype: int64\n",
      "---\n",
      "среднее                13750\n",
      "высшее                  4718\n",
      "СРЕДНЕЕ                  772\n",
      "Среднее                  711\n",
      "неоконченное высшее      668\n",
      "ВЫСШЕЕ                   274\n",
      "Высшее                   268\n",
      "начальное                250\n",
      "Неоконченное высшее       47\n",
      "НЕОКОНЧЕННОЕ ВЫСШЕЕ       29\n",
      "НАЧАЛЬНОЕ                 17\n",
      "Начальное                 15\n",
      "ученая степень             4\n",
      "Ученая степень             1\n",
      "УЧЕНАЯ СТЕПЕНЬ             1\n",
      "Name: education, dtype: int64\n",
      "---\n",
      "1    15233\n",
      "0     5260\n",
      "2      744\n",
      "3      282\n",
      "4        6\n",
      "Name: education_id, dtype: int64\n",
      "---\n",
      "женат / замужем          12380\n",
      "гражданский брак          4177\n",
      "Не женат / не замужем     2813\n",
      "в разводе                 1195\n",
      "вдовец / вдова             960\n",
      "Name: family_status, dtype: int64\n",
      "---\n",
      "0    12380\n",
      "1     4177\n",
      "4     2813\n",
      "3     1195\n",
      "2      960\n",
      "Name: family_status_id, dtype: int64\n",
      "---\n",
      "F      14236\n",
      "M       7288\n",
      "XNA        1\n",
      "Name: gender, dtype: int64\n",
      "---\n",
      "сотрудник          11119\n",
      "компаньон           5085\n",
      "пенсионер           3856\n",
      "госслужащий         1459\n",
      "предприниматель        2\n",
      "безработный            2\n",
      "в декрете              1\n",
      "студент                1\n",
      "Name: income_type, dtype: int64\n",
      "---\n",
      "0    19784\n",
      "1     1741\n",
      "Name: debt, dtype: int64\n",
      "---\n",
      "169,846.43    1\n",
      "257,737.08    1\n",
      "200,508.68    1\n",
      "106,196.24    1\n",
      "248,730.17    1\n",
      "             ..\n",
      "175,057.27    1\n",
      "101,516.60    1\n",
      "239,154.17    1\n",
      "165,009.73    1\n",
      "189,255.29    1\n",
      "Name: total_income, Length: 19351, dtype: int64\n",
      "---\n",
      "свадьба                                   797\n",
      "на проведение свадьбы                     777\n",
      "сыграть свадьбу                           774\n",
      "операции с недвижимостью                  676\n",
      "покупка коммерческой недвижимости         664\n",
      "покупка жилья для сдачи                   653\n",
      "операции с жильем                         653\n",
      "операции с коммерческой недвижимостью     651\n",
      "жилье                                     647\n",
      "покупка жилья                             647\n",
      "покупка жилья для семьи                   641\n",
      "строительство собственной недвижимости    635\n",
      "недвижимость                              634\n",
      "операции со своей недвижимостью           630\n",
      "строительство жилой недвижимости          626\n",
      "покупка недвижимости                      624\n",
      "строительство недвижимости                620\n",
      "покупка своего жилья                      620\n",
      "ремонт жилью                              612\n",
      "покупка жилой недвижимости                607\n",
      "на покупку своего автомобиля              505\n",
      "заняться высшим образованием              496\n",
      "автомобиль                                495\n",
      "сделка с подержанным автомобилем          489\n",
      "свой автомобиль                           480\n",
      "на покупку подержанного автомобиля        479\n",
      "автомобили                                478\n",
      "на покупку автомобиля                     472\n",
      "дополнительное образование                462\n",
      "приобретение автомобиля                   462\n",
      "сделка с автомобилем                      455\n",
      "высшее образование                        453\n",
      "получение дополнительного образования     447\n",
      "образование                               447\n",
      "получение образования                     443\n",
      "профильное образование                    436\n",
      "получение высшего образования             426\n",
      "заняться образованием                     412\n",
      "Name: purpose, dtype: int64\n",
      "---\n"
     ]
    }
   ],
   "source": [
    "first_glance(data) "
   ]
  },
  {
   "cell_type": "markdown",
   "metadata": {},
   "source": [
    "**Вывод**"
   ]
  },
  {
   "cell_type": "markdown",
   "metadata": {},
   "source": [
    "1. в столбцах _days_employed, total_income_ и _gender_ содержатся пустые значения\n",
    "2. в столбцах _days_employed_ и _children_ содержатся отрицательные значения\n",
    "3. в столбце _education_ значения в разных регистрах\n",
    "4. в столбце _family_status_ регистр отличается, но дублирование значений отсуствует"
   ]
  },
  {
   "cell_type": "markdown",
   "metadata": {},
   "source": [
    "## Предобработка данных"
   ]
  },
  {
   "cell_type": "markdown",
   "metadata": {},
   "source": [
    "### Обработка пропусков"
   ]
  },
  {
   "cell_type": "code",
   "execution_count": 8,
   "metadata": {},
   "outputs": [
    {
     "data": {
      "text/html": [
       "<div>\n",
       "<style scoped>\n",
       "    .dataframe tbody tr th:only-of-type {\n",
       "        vertical-align: middle;\n",
       "    }\n",
       "\n",
       "    .dataframe tbody tr th {\n",
       "        vertical-align: top;\n",
       "    }\n",
       "\n",
       "    .dataframe thead th {\n",
       "        text-align: right;\n",
       "    }\n",
       "</style>\n",
       "<table border=\"1\" class=\"dataframe\">\n",
       "  <thead>\n",
       "    <tr style=\"text-align: right;\">\n",
       "      <th></th>\n",
       "      <th>children</th>\n",
       "      <th>days_employed</th>\n",
       "      <th>dob_years</th>\n",
       "      <th>education</th>\n",
       "      <th>education_id</th>\n",
       "      <th>family_status</th>\n",
       "      <th>family_status_id</th>\n",
       "      <th>gender</th>\n",
       "      <th>income_type</th>\n",
       "      <th>debt</th>\n",
       "      <th>total_income</th>\n",
       "      <th>purpose</th>\n",
       "    </tr>\n",
       "  </thead>\n",
       "  <tbody>\n",
       "    <tr>\n",
       "      <th>12</th>\n",
       "      <td>0</td>\n",
       "      <td>NaN</td>\n",
       "      <td>65</td>\n",
       "      <td>среднее</td>\n",
       "      <td>1</td>\n",
       "      <td>гражданский брак</td>\n",
       "      <td>1</td>\n",
       "      <td>M</td>\n",
       "      <td>пенсионер</td>\n",
       "      <td>0</td>\n",
       "      <td>NaN</td>\n",
       "      <td>сыграть свадьбу</td>\n",
       "    </tr>\n",
       "    <tr>\n",
       "      <th>26</th>\n",
       "      <td>0</td>\n",
       "      <td>NaN</td>\n",
       "      <td>41</td>\n",
       "      <td>среднее</td>\n",
       "      <td>1</td>\n",
       "      <td>женат / замужем</td>\n",
       "      <td>0</td>\n",
       "      <td>M</td>\n",
       "      <td>госслужащий</td>\n",
       "      <td>0</td>\n",
       "      <td>NaN</td>\n",
       "      <td>образование</td>\n",
       "    </tr>\n",
       "    <tr>\n",
       "      <th>29</th>\n",
       "      <td>0</td>\n",
       "      <td>NaN</td>\n",
       "      <td>63</td>\n",
       "      <td>среднее</td>\n",
       "      <td>1</td>\n",
       "      <td>Не женат / не замужем</td>\n",
       "      <td>4</td>\n",
       "      <td>F</td>\n",
       "      <td>пенсионер</td>\n",
       "      <td>0</td>\n",
       "      <td>NaN</td>\n",
       "      <td>строительство жилой недвижимости</td>\n",
       "    </tr>\n",
       "    <tr>\n",
       "      <th>41</th>\n",
       "      <td>0</td>\n",
       "      <td>NaN</td>\n",
       "      <td>50</td>\n",
       "      <td>среднее</td>\n",
       "      <td>1</td>\n",
       "      <td>женат / замужем</td>\n",
       "      <td>0</td>\n",
       "      <td>F</td>\n",
       "      <td>госслужащий</td>\n",
       "      <td>0</td>\n",
       "      <td>NaN</td>\n",
       "      <td>сделка с подержанным автомобилем</td>\n",
       "    </tr>\n",
       "    <tr>\n",
       "      <th>55</th>\n",
       "      <td>0</td>\n",
       "      <td>NaN</td>\n",
       "      <td>54</td>\n",
       "      <td>среднее</td>\n",
       "      <td>1</td>\n",
       "      <td>гражданский брак</td>\n",
       "      <td>1</td>\n",
       "      <td>F</td>\n",
       "      <td>пенсионер</td>\n",
       "      <td>1</td>\n",
       "      <td>NaN</td>\n",
       "      <td>сыграть свадьбу</td>\n",
       "    </tr>\n",
       "  </tbody>\n",
       "</table>\n",
       "</div>"
      ],
      "text/plain": [
       "    children  days_employed  dob_years education  education_id  \\\n",
       "12         0            NaN         65   среднее             1   \n",
       "26         0            NaN         41   среднее             1   \n",
       "29         0            NaN         63   среднее             1   \n",
       "41         0            NaN         50   среднее             1   \n",
       "55         0            NaN         54   среднее             1   \n",
       "\n",
       "            family_status  family_status_id gender  income_type  debt  \\\n",
       "12       гражданский брак                 1      M    пенсионер     0   \n",
       "26        женат / замужем                 0      M  госслужащий     0   \n",
       "29  Не женат / не замужем                 4      F    пенсионер     0   \n",
       "41        женат / замужем                 0      F  госслужащий     0   \n",
       "55       гражданский брак                 1      F    пенсионер     1   \n",
       "\n",
       "    total_income                           purpose  \n",
       "12           NaN                   сыграть свадьбу  \n",
       "26           NaN                       образование  \n",
       "29           NaN  строительство жилой недвижимости  \n",
       "41           NaN  сделка с подержанным автомобилем  \n",
       "55           NaN                   сыграть свадьбу  "
      ]
     },
     "execution_count": 8,
     "metadata": {},
     "output_type": "execute_result"
    }
   ],
   "source": [
    "data[data['days_employed'].isna()].head()"
   ]
  },
  {
   "cell_type": "code",
   "execution_count": 9,
   "metadata": {},
   "outputs": [
    {
     "data": {
      "text/plain": [
       "children               0\n",
       "days_employed       2174\n",
       "dob_years              0\n",
       "education              0\n",
       "education_id           0\n",
       "family_status          0\n",
       "family_status_id       0\n",
       "gender                 0\n",
       "income_type            0\n",
       "debt                   0\n",
       "total_income        2174\n",
       "purpose                0\n",
       "dtype: int64"
      ]
     },
     "execution_count": 9,
     "metadata": {},
     "output_type": "execute_result"
    }
   ],
   "source": [
    "data.isna().sum()"
   ]
  },
  {
   "cell_type": "code",
   "execution_count": 10,
   "metadata": {},
   "outputs": [
    {
     "data": {
      "text/plain": [
       "children           0.00\n",
       "days_employed      0.10\n",
       "dob_years          0.00\n",
       "education          0.00\n",
       "education_id       0.00\n",
       "family_status      0.00\n",
       "family_status_id   0.00\n",
       "gender             0.00\n",
       "income_type        0.00\n",
       "debt               0.00\n",
       "total_income       0.10\n",
       "purpose            0.00\n",
       "dtype: float64"
      ]
     },
     "execution_count": 10,
     "metadata": {},
     "output_type": "execute_result"
    }
   ],
   "source": [
    "data.isna().mean()"
   ]
  },
  {
   "cell_type": "markdown",
   "metadata": {},
   "source": [
    "пропуски в столбцах _days_employed_ и _total_income_ составили 10%, что составляет немалую часть данных"
   ]
  },
  {
   "cell_type": "markdown",
   "metadata": {},
   "source": [
    "Функция по построению графиков распределения и боксплот"
   ]
  },
  {
   "cell_type": "code",
   "execution_count": 11,
   "metadata": {},
   "outputs": [],
   "source": [
    "def distribution(series):\n",
    "    plt.figure(figsize=(15,8))\n",
    "    sns.set_style('darkgrid')\n",
    "  \n",
    "    plt.subplot(211)\n",
    "    plt.title('Распределение ' + series.name)\n",
    "    sns.distplot(series)\n",
    "    \n",
    "    plt.subplot(212)\n",
    "    sns.boxplot(series)\n",
    "\n",
    "    plt.show()\n",
    "    display(series.describe())"
   ]
  },
  {
   "cell_type": "markdown",
   "metadata": {},
   "source": [
    "# Отрицательные значения в столбце \"стаж\""
   ]
  },
  {
   "cell_type": "markdown",
   "metadata": {},
   "source": [
    "Заменим отрицательные значения в графе стаж на положительные, скорее всего клиенты при заполнении формы перепутали поля"
   ]
  },
  {
   "cell_type": "code",
   "execution_count": 12,
   "metadata": {},
   "outputs": [],
   "source": [
    "data['days_employed'] = data['days_employed'].apply(abs)"
   ]
  },
  {
   "cell_type": "code",
   "execution_count": 13,
   "metadata": {
    "scrolled": true
   },
   "outputs": [
    {
     "data": {
      "text/plain": [
       "0"
      ]
     },
     "execution_count": 13,
     "metadata": {},
     "output_type": "execute_result"
    }
   ],
   "source": [
    "len(data[data['days_employed'] < 0])"
   ]
  },
  {
   "cell_type": "markdown",
   "metadata": {},
   "source": [
    "# Замена пропусков в столбце о доходах"
   ]
  },
  {
   "cell_type": "code",
   "execution_count": 14,
   "metadata": {},
   "outputs": [
    {
     "data": {
      "text/html": [
       "<div>\n",
       "<style scoped>\n",
       "    .dataframe tbody tr th:only-of-type {\n",
       "        vertical-align: middle;\n",
       "    }\n",
       "\n",
       "    .dataframe tbody tr th {\n",
       "        vertical-align: top;\n",
       "    }\n",
       "\n",
       "    .dataframe thead th {\n",
       "        text-align: right;\n",
       "    }\n",
       "</style>\n",
       "<table border=\"1\" class=\"dataframe\">\n",
       "  <thead>\n",
       "    <tr style=\"text-align: right;\">\n",
       "      <th></th>\n",
       "      <th>children</th>\n",
       "      <th>days_employed</th>\n",
       "      <th>dob_years</th>\n",
       "      <th>education</th>\n",
       "      <th>education_id</th>\n",
       "      <th>family_status</th>\n",
       "      <th>family_status_id</th>\n",
       "      <th>gender</th>\n",
       "      <th>income_type</th>\n",
       "      <th>debt</th>\n",
       "      <th>total_income</th>\n",
       "      <th>purpose</th>\n",
       "    </tr>\n",
       "  </thead>\n",
       "  <tbody>\n",
       "    <tr>\n",
       "      <th>12</th>\n",
       "      <td>0</td>\n",
       "      <td>NaN</td>\n",
       "      <td>65</td>\n",
       "      <td>среднее</td>\n",
       "      <td>1</td>\n",
       "      <td>гражданский брак</td>\n",
       "      <td>1</td>\n",
       "      <td>M</td>\n",
       "      <td>пенсионер</td>\n",
       "      <td>0</td>\n",
       "      <td>NaN</td>\n",
       "      <td>сыграть свадьбу</td>\n",
       "    </tr>\n",
       "    <tr>\n",
       "      <th>26</th>\n",
       "      <td>0</td>\n",
       "      <td>NaN</td>\n",
       "      <td>41</td>\n",
       "      <td>среднее</td>\n",
       "      <td>1</td>\n",
       "      <td>женат / замужем</td>\n",
       "      <td>0</td>\n",
       "      <td>M</td>\n",
       "      <td>госслужащий</td>\n",
       "      <td>0</td>\n",
       "      <td>NaN</td>\n",
       "      <td>образование</td>\n",
       "    </tr>\n",
       "    <tr>\n",
       "      <th>29</th>\n",
       "      <td>0</td>\n",
       "      <td>NaN</td>\n",
       "      <td>63</td>\n",
       "      <td>среднее</td>\n",
       "      <td>1</td>\n",
       "      <td>Не женат / не замужем</td>\n",
       "      <td>4</td>\n",
       "      <td>F</td>\n",
       "      <td>пенсионер</td>\n",
       "      <td>0</td>\n",
       "      <td>NaN</td>\n",
       "      <td>строительство жилой недвижимости</td>\n",
       "    </tr>\n",
       "  </tbody>\n",
       "</table>\n",
       "</div>"
      ],
      "text/plain": [
       "    children  days_employed  dob_years education  education_id  \\\n",
       "12         0            NaN         65   среднее             1   \n",
       "26         0            NaN         41   среднее             1   \n",
       "29         0            NaN         63   среднее             1   \n",
       "\n",
       "            family_status  family_status_id gender  income_type  debt  \\\n",
       "12       гражданский брак                 1      M    пенсионер     0   \n",
       "26        женат / замужем                 0      M  госслужащий     0   \n",
       "29  Не женат / не замужем                 4      F    пенсионер     0   \n",
       "\n",
       "    total_income                           purpose  \n",
       "12           NaN                   сыграть свадьбу  \n",
       "26           NaN                       образование  \n",
       "29           NaN  строительство жилой недвижимости  "
      ]
     },
     "execution_count": 14,
     "metadata": {},
     "output_type": "execute_result"
    }
   ],
   "source": [
    "data[data['total_income'].isna()].head(3)"
   ]
  },
  {
   "cell_type": "code",
   "execution_count": 15,
   "metadata": {},
   "outputs": [
    {
     "data": {
      "image/png": "[encoded data removed]",
      "text/plain": [
       "<Figure size 1080x576 with 2 Axes>"
      ]
     },
     "metadata": {
      "needs_background": "light"
     },
     "output_type": "display_data"
    },
    {
     "data": {
      "text/plain": [
       "count      19,351.00\n",
       "mean      167,422.30\n",
       "std       102,971.57\n",
       "min        20,667.26\n",
       "25%       103,053.15\n",
       "50%       145,017.94\n",
       "75%       203,435.07\n",
       "max     2,265,604.03\n",
       "Name: total_income, dtype: float64"
      ]
     },
     "metadata": {},
     "output_type": "display_data"
    }
   ],
   "source": [
    "distribution(data['total_income'])"
   ]
  },
  {
   "cell_type": "markdown",
   "metadata": {},
   "source": [
    "Доходы распределены нормальным образом с выбросами после 1.5 млн"
   ]
  },
  {
   "cell_type": "markdown",
   "metadata": {},
   "source": [
    "Функция по замене значений в колонке_2 по медианным значениям колонки_1"
   ]
  },
  {
   "cell_type": "code",
   "execution_count": 16,
   "metadata": {},
   "outputs": [],
   "source": [
    "def replace(data, column_1, column_2, threshold, operation):\n",
    "    # Группируем данные\n",
    "    median_values = data.pivot_table(index = column_1.name, values = column_2.name, aggfunc='median').reset_index()\n",
    "    \n",
    "    # Создаем словарь по сгруппированным данным\n",
    "    our_dict = {}\n",
    "    for i in range(len(median_values)):\n",
    "        our_dict[median_values.loc[i ,column_1.name]] = median_values.loc[i, column_2.name]\n",
    "    \n",
    "    # Подставляем значение из словаря вместо значений column_2\n",
    "    for i in range(len(data)):\n",
    "        try:\n",
    "            if operation == 0: \n",
    "                if pd.isna(data.loc[i, column_2.name]): # при пропусках\n",
    "                    temp = data.loc[i, column_1.name] \n",
    "                    data.loc[i, column_2.name] = our_dict[temp]\n",
    "            elif operation == 1:\n",
    "                if data.loc[i, column_2.name] == threshold: # при равенстве числу\n",
    "                    temp = data.loc[i, column_1.name] \n",
    "                    data.loc[i, column_2.name] = our_dict[temp]\n",
    "            elif operation == 2:\n",
    "                if data.loc[i, column_2.name] > threshold: # при превышении значения\n",
    "                    temp = data.loc[i, column_1.name] \n",
    "                    data.loc[i, column_2.name] = our_dict[temp]\n",
    "        except:\n",
    "            print('отсутствующий индекс: ', data.index[i])"
   ]
  },
  {
   "cell_type": "markdown",
   "metadata": {},
   "source": [
    "Заменяем пропущенные значения в __total_income__"
   ]
  },
  {
   "cell_type": "code",
   "execution_count": 17,
   "metadata": {},
   "outputs": [],
   "source": [
    "replace(data, data['income_type'], data['total_income'], threshold = 0, operation = 0)"
   ]
  },
  {
   "cell_type": "code",
   "execution_count": 18,
   "metadata": {},
   "outputs": [
    {
     "data": {
      "text/plain": [
       "0"
      ]
     },
     "execution_count": 18,
     "metadata": {},
     "output_type": "execute_result"
    }
   ],
   "source": [
    "data['total_income'].isna().sum()"
   ]
  },
  {
   "cell_type": "markdown",
   "metadata": {},
   "source": [
    "# Замена 0 в столбце \"возраст\""
   ]
  },
  {
   "cell_type": "code",
   "execution_count": 19,
   "metadata": {},
   "outputs": [
    {
     "data": {
      "image/png": "[encoded data removed]",
      "text/plain": [
       "<Figure size 1080x576 with 2 Axes>"
      ]
     },
     "metadata": {},
     "output_type": "display_data"
    },
    {
     "data": {
      "text/plain": [
       "count   21,525.00\n",
       "mean        43.29\n",
       "std         12.57\n",
       "min          0.00\n",
       "25%         33.00\n",
       "50%         42.00\n",
       "75%         53.00\n",
       "max         75.00\n",
       "Name: dob_years, dtype: float64"
      ]
     },
     "metadata": {},
     "output_type": "display_data"
    }
   ],
   "source": [
    "distribution(data['dob_years'])"
   ]
  },
  {
   "cell_type": "markdown",
   "metadata": {},
   "source": [
    "Чаще всего люди берут кредиты с 34 лет по 53 года"
   ]
  },
  {
   "cell_type": "code",
   "execution_count": 20,
   "metadata": {},
   "outputs": [
    {
     "data": {
      "text/html": [
       "<div>\n",
       "<style scoped>\n",
       "    .dataframe tbody tr th:only-of-type {\n",
       "        vertical-align: middle;\n",
       "    }\n",
       "\n",
       "    .dataframe tbody tr th {\n",
       "        vertical-align: top;\n",
       "    }\n",
       "\n",
       "    .dataframe thead th {\n",
       "        text-align: right;\n",
       "    }\n",
       "</style>\n",
       "<table border=\"1\" class=\"dataframe\">\n",
       "  <thead>\n",
       "    <tr style=\"text-align: right;\">\n",
       "      <th></th>\n",
       "      <th>children</th>\n",
       "      <th>days_employed</th>\n",
       "      <th>dob_years</th>\n",
       "      <th>education</th>\n",
       "      <th>education_id</th>\n",
       "      <th>family_status</th>\n",
       "      <th>family_status_id</th>\n",
       "      <th>gender</th>\n",
       "      <th>income_type</th>\n",
       "      <th>debt</th>\n",
       "      <th>total_income</th>\n",
       "      <th>purpose</th>\n",
       "    </tr>\n",
       "  </thead>\n",
       "  <tbody>\n",
       "    <tr>\n",
       "      <th>99</th>\n",
       "      <td>0</td>\n",
       "      <td>346,541.62</td>\n",
       "      <td>0</td>\n",
       "      <td>Среднее</td>\n",
       "      <td>1</td>\n",
       "      <td>женат / замужем</td>\n",
       "      <td>0</td>\n",
       "      <td>F</td>\n",
       "      <td>пенсионер</td>\n",
       "      <td>0</td>\n",
       "      <td>71,291.52</td>\n",
       "      <td>автомобиль</td>\n",
       "    </tr>\n",
       "    <tr>\n",
       "      <th>149</th>\n",
       "      <td>0</td>\n",
       "      <td>2,664.27</td>\n",
       "      <td>0</td>\n",
       "      <td>среднее</td>\n",
       "      <td>1</td>\n",
       "      <td>в разводе</td>\n",
       "      <td>3</td>\n",
       "      <td>F</td>\n",
       "      <td>сотрудник</td>\n",
       "      <td>0</td>\n",
       "      <td>70,176.44</td>\n",
       "      <td>операции с жильем</td>\n",
       "    </tr>\n",
       "    <tr>\n",
       "      <th>270</th>\n",
       "      <td>3</td>\n",
       "      <td>1,872.66</td>\n",
       "      <td>0</td>\n",
       "      <td>среднее</td>\n",
       "      <td>1</td>\n",
       "      <td>женат / замужем</td>\n",
       "      <td>0</td>\n",
       "      <td>F</td>\n",
       "      <td>сотрудник</td>\n",
       "      <td>0</td>\n",
       "      <td>102,166.46</td>\n",
       "      <td>ремонт жилью</td>\n",
       "    </tr>\n",
       "  </tbody>\n",
       "</table>\n",
       "</div>"
      ],
      "text/plain": [
       "     children  days_employed  dob_years education  education_id  \\\n",
       "99          0     346,541.62          0   Среднее             1   \n",
       "149         0       2,664.27          0   среднее             1   \n",
       "270         3       1,872.66          0   среднее             1   \n",
       "\n",
       "       family_status  family_status_id gender income_type  debt  total_income  \\\n",
       "99   женат / замужем                 0      F   пенсионер     0     71,291.52   \n",
       "149        в разводе                 3      F   сотрудник     0     70,176.44   \n",
       "270  женат / замужем                 0      F   сотрудник     0    102,166.46   \n",
       "\n",
       "               purpose  \n",
       "99          автомобиль  \n",
       "149  операции с жильем  \n",
       "270       ремонт жилью  "
      ]
     },
     "execution_count": 20,
     "metadata": {},
     "output_type": "execute_result"
    }
   ],
   "source": [
    "data[data['dob_years'] == 0].head(3)"
   ]
  },
  {
   "cell_type": "code",
   "execution_count": 21,
   "metadata": {},
   "outputs": [
    {
     "data": {
      "text/plain": [
       "101"
      ]
     },
     "execution_count": 21,
     "metadata": {},
     "output_type": "execute_result"
    }
   ],
   "source": [
    "len(data[data['dob_years'] == 0])"
   ]
  },
  {
   "cell_type": "code",
   "execution_count": 22,
   "metadata": {},
   "outputs": [],
   "source": [
    "replace(data, data['income_type'], data['dob_years'], threshold = 0, operation = 1)"
   ]
  },
  {
   "cell_type": "code",
   "execution_count": 23,
   "metadata": {},
   "outputs": [
    {
     "data": {
      "text/plain": [
       "0"
      ]
     },
     "execution_count": 23,
     "metadata": {},
     "output_type": "execute_result"
    }
   ],
   "source": [
    "len(data[data['dob_years'] == 0])"
   ]
  },
  {
   "cell_type": "code",
   "execution_count": 24,
   "metadata": {},
   "outputs": [],
   "source": [
    "data['dob_years'] = data['dob_years'].astype('int')"
   ]
  },
  {
   "cell_type": "code",
   "execution_count": 25,
   "metadata": {},
   "outputs": [
    {
     "data": {
      "text/plain": [
       "array([42, 36, 33, 32, 53, 27, 43, 50, 35, 41, 40, 65, 54, 56, 26, 48, 24,\n",
       "       21, 57, 67, 28, 63, 62, 47, 34, 68, 25, 31, 30, 20, 49, 37, 45, 61,\n",
       "       64, 44, 52, 46, 23, 38, 39, 51, 60, 59, 29, 55, 58, 71, 22, 73, 66,\n",
       "       69, 19, 72, 70, 74, 75])"
      ]
     },
     "execution_count": 25,
     "metadata": {},
     "output_type": "execute_result"
    }
   ],
   "source": [
    "data['dob_years'].unique() # проверяем изменения"
   ]
  },
  {
   "cell_type": "markdown",
   "metadata": {},
   "source": [
    "# Замена пропусков в столбце \"стаж\""
   ]
  },
  {
   "cell_type": "code",
   "execution_count": 26,
   "metadata": {},
   "outputs": [
    {
     "data": {
      "text/html": [
       "<div>\n",
       "<style scoped>\n",
       "    .dataframe tbody tr th:only-of-type {\n",
       "        vertical-align: middle;\n",
       "    }\n",
       "\n",
       "    .dataframe tbody tr th {\n",
       "        vertical-align: top;\n",
       "    }\n",
       "\n",
       "    .dataframe thead th {\n",
       "        text-align: right;\n",
       "    }\n",
       "</style>\n",
       "<table border=\"1\" class=\"dataframe\">\n",
       "  <thead>\n",
       "    <tr style=\"text-align: right;\">\n",
       "      <th></th>\n",
       "      <th>children</th>\n",
       "      <th>days_employed</th>\n",
       "      <th>dob_years</th>\n",
       "      <th>education_id</th>\n",
       "      <th>family_status_id</th>\n",
       "      <th>debt</th>\n",
       "      <th>total_income</th>\n",
       "    </tr>\n",
       "  </thead>\n",
       "  <tbody>\n",
       "    <tr>\n",
       "      <th>count</th>\n",
       "      <td>21,525.00</td>\n",
       "      <td>19,351.00</td>\n",
       "      <td>21,525.00</td>\n",
       "      <td>21,525.00</td>\n",
       "      <td>21,525.00</td>\n",
       "      <td>21,525.00</td>\n",
       "      <td>21,525.00</td>\n",
       "    </tr>\n",
       "    <tr>\n",
       "      <th>mean</th>\n",
       "      <td>0.54</td>\n",
       "      <td>66,914.73</td>\n",
       "      <td>43.50</td>\n",
       "      <td>0.82</td>\n",
       "      <td>0.97</td>\n",
       "      <td>0.08</td>\n",
       "      <td>165,225.32</td>\n",
       "    </tr>\n",
       "    <tr>\n",
       "      <th>std</th>\n",
       "      <td>1.38</td>\n",
       "      <td>139,030.88</td>\n",
       "      <td>12.23</td>\n",
       "      <td>0.55</td>\n",
       "      <td>1.42</td>\n",
       "      <td>0.27</td>\n",
       "      <td>98,043.67</td>\n",
       "    </tr>\n",
       "    <tr>\n",
       "      <th>min</th>\n",
       "      <td>-1.00</td>\n",
       "      <td>24.14</td>\n",
       "      <td>19.00</td>\n",
       "      <td>0.00</td>\n",
       "      <td>0.00</td>\n",
       "      <td>0.00</td>\n",
       "      <td>20,667.26</td>\n",
       "    </tr>\n",
       "    <tr>\n",
       "      <th>25%</th>\n",
       "      <td>0.00</td>\n",
       "      <td>927.01</td>\n",
       "      <td>34.00</td>\n",
       "      <td>1.00</td>\n",
       "      <td>0.00</td>\n",
       "      <td>0.00</td>\n",
       "      <td>107,798.17</td>\n",
       "    </tr>\n",
       "    <tr>\n",
       "      <th>50%</th>\n",
       "      <td>0.00</td>\n",
       "      <td>2,194.22</td>\n",
       "      <td>43.00</td>\n",
       "      <td>1.00</td>\n",
       "      <td>0.00</td>\n",
       "      <td>0.00</td>\n",
       "      <td>142,594.40</td>\n",
       "    </tr>\n",
       "    <tr>\n",
       "      <th>75%</th>\n",
       "      <td>1.00</td>\n",
       "      <td>5,537.88</td>\n",
       "      <td>53.00</td>\n",
       "      <td>1.00</td>\n",
       "      <td>1.00</td>\n",
       "      <td>0.00</td>\n",
       "      <td>195,549.94</td>\n",
       "    </tr>\n",
       "    <tr>\n",
       "      <th>max</th>\n",
       "      <td>20.00</td>\n",
       "      <td>401,755.40</td>\n",
       "      <td>75.00</td>\n",
       "      <td>4.00</td>\n",
       "      <td>4.00</td>\n",
       "      <td>1.00</td>\n",
       "      <td>2,265,604.03</td>\n",
       "    </tr>\n",
       "  </tbody>\n",
       "</table>\n",
       "</div>"
      ],
      "text/plain": [
       "       children  days_employed  dob_years  education_id  family_status_id  \\\n",
       "count 21,525.00      19,351.00  21,525.00     21,525.00         21,525.00   \n",
       "mean       0.54      66,914.73      43.50          0.82              0.97   \n",
       "std        1.38     139,030.88      12.23          0.55              1.42   \n",
       "min       -1.00          24.14      19.00          0.00              0.00   \n",
       "25%        0.00         927.01      34.00          1.00              0.00   \n",
       "50%        0.00       2,194.22      43.00          1.00              0.00   \n",
       "75%        1.00       5,537.88      53.00          1.00              1.00   \n",
       "max       20.00     401,755.40      75.00          4.00              4.00   \n",
       "\n",
       "           debt  total_income  \n",
       "count 21,525.00     21,525.00  \n",
       "mean       0.08    165,225.32  \n",
       "std        0.27     98,043.67  \n",
       "min        0.00     20,667.26  \n",
       "25%        0.00    107,798.17  \n",
       "50%        0.00    142,594.40  \n",
       "75%        0.00    195,549.94  \n",
       "max        1.00  2,265,604.03  "
      ]
     },
     "execution_count": 26,
     "metadata": {},
     "output_type": "execute_result"
    }
   ],
   "source": [
    "data.describe() # ознакамливаемся с данными по столбцам"
   ]
  },
  {
   "cell_type": "markdown",
   "metadata": {},
   "source": [
    "Функция по категоризации возраста"
   ]
  },
  {
   "cell_type": "code",
   "execution_count": 27,
   "metadata": {},
   "outputs": [],
   "source": [
    "def dob_years_grouped(years): \n",
    "    if years < 34:\n",
    "        return 'до 34'\n",
    "    elif 34 <= years < 43:\n",
    "        return '33 - 41'\n",
    "    elif 43 <= years < 53:\n",
    "        return '43 - 52'\n",
    "    elif 53 <= years:\n",
    "        return '53+'"
   ]
  },
  {
   "cell_type": "markdown",
   "metadata": {},
   "source": [
    "Добавляем новый столбец с категориями по возрасту"
   ]
  },
  {
   "cell_type": "code",
   "execution_count": 28,
   "metadata": {},
   "outputs": [],
   "source": [
    "data['age_group'] = data['dob_years'].apply(dob_years_grouped)"
   ]
  },
  {
   "cell_type": "code",
   "execution_count": 29,
   "metadata": {},
   "outputs": [
    {
     "data": {
      "text/plain": [
       "53+        5770\n",
       "33 - 41    5377\n",
       "до 34      5374\n",
       "43 - 52    5004\n",
       "Name: age_group, dtype: int64"
      ]
     },
     "execution_count": 29,
     "metadata": {},
     "output_type": "execute_result"
    }
   ],
   "source": [
    "data['age_group'].value_counts()"
   ]
  },
  {
   "cell_type": "code",
   "execution_count": 30,
   "metadata": {},
   "outputs": [
    {
     "data": {
      "image/png": "[encoded data removed]",
      "text/plain": [
       "<Figure size 1080x576 with 2 Axes>"
      ]
     },
     "metadata": {},
     "output_type": "display_data"
    },
    {
     "data": {
      "text/plain": [
       "count    19,351.00\n",
       "mean     66,914.73\n",
       "std     139,030.88\n",
       "min          24.14\n",
       "25%         927.01\n",
       "50%       2,194.22\n",
       "75%       5,537.88\n",
       "max     401,755.40\n",
       "Name: days_employed, dtype: float64"
      ]
     },
     "metadata": {},
     "output_type": "display_data"
    }
   ],
   "source": [
    "distribution(data['days_employed'])"
   ]
  },
  {
   "cell_type": "code",
   "execution_count": 31,
   "metadata": {},
   "outputs": [
    {
     "data": {
      "text/plain": [
       "3445"
      ]
     },
     "execution_count": 31,
     "metadata": {},
     "output_type": "execute_result"
    }
   ],
   "source": [
    "len(data[data['days_employed'] > 30000])"
   ]
  },
  {
   "cell_type": "markdown",
   "metadata": {},
   "source": [
    "Трудовой стаж более 30.000 дней выглядит неправдоподобно (более 80 лет), требуется уточнить происхождение информации"
   ]
  },
  {
   "cell_type": "code",
   "execution_count": 32,
   "metadata": {},
   "outputs": [
    {
     "data": {
      "image/png": "[encoded data removed]",
      "text/plain": [
       "<Figure size 1080x576 with 2 Axes>"
      ]
     },
     "metadata": {},
     "output_type": "display_data"
    },
    {
     "data": {
      "text/plain": [
       "count   15,906.00\n",
       "mean     2,353.02\n",
       "std      2,304.24\n",
       "min         24.14\n",
       "25%        756.37\n",
       "50%      1,630.02\n",
       "75%      3,157.48\n",
       "max     18,388.95\n",
       "Name: days_employed, dtype: float64"
      ]
     },
     "metadata": {},
     "output_type": "display_data"
    }
   ],
   "source": [
    "distribution(data.loc[data['days_employed'] < 30000,'days_employed'])"
   ]
  },
  {
   "cell_type": "markdown",
   "metadata": {},
   "source": [
    "Так как в __days_employed__ присутствуют нереальные значения, заменим их на Nan и вместе с изначальными пропусками заменим на значение медианы по возрастной группе. Так как таких значений много и терять их нецелесообразно"
   ]
  },
  {
   "cell_type": "code",
   "execution_count": 35,
   "metadata": {},
   "outputs": [],
   "source": [
    "data.loc[data['days_employed'] > 30000, 'days_employed'] = None"
   ]
  },
  {
   "cell_type": "code",
   "execution_count": 36,
   "metadata": {},
   "outputs": [
    {
     "data": {
      "text/plain": [
       "5619"
      ]
     },
     "execution_count": 36,
     "metadata": {},
     "output_type": "execute_result"
    }
   ],
   "source": [
    "data['days_employed'].isna().sum()"
   ]
  },
  {
   "cell_type": "code",
   "execution_count": 37,
   "metadata": {},
   "outputs": [],
   "source": [
    "replace(data, data['age_group'], data['days_employed'], threshold = 0, operation = 0)"
   ]
  },
  {
   "cell_type": "code",
   "execution_count": 38,
   "metadata": {},
   "outputs": [
    {
     "data": {
      "image/png": "[encoded data removed]",
      "text/plain": [
       "<Figure size 1080x576 with 2 Axes>"
      ]
     },
     "metadata": {},
     "output_type": "display_data"
    },
    {
     "data": {
      "text/plain": [
       "count   21,525.00\n",
       "mean     2,301.34\n",
       "std      1,992.10\n",
       "min         24.14\n",
       "25%      1,025.61\n",
       "50%      2,105.63\n",
       "75%      2,518.17\n",
       "max     18,388.95\n",
       "Name: days_employed, dtype: float64"
      ]
     },
     "metadata": {},
     "output_type": "display_data"
    }
   ],
   "source": [
    "distribution(data['days_employed'])"
   ]
  },
  {
   "cell_type": "code",
   "execution_count": 39,
   "metadata": {},
   "outputs": [
    {
     "name": "stdout",
     "output_type": "stream",
     "text": [
      "<class 'pandas.core.frame.DataFrame'>\n",
      "RangeIndex: 21525 entries, 0 to 21524\n",
      "Data columns (total 13 columns):\n",
      " #   Column            Non-Null Count  Dtype  \n",
      "---  ------            --------------  -----  \n",
      " 0   children          21525 non-null  int64  \n",
      " 1   days_employed     21525 non-null  float64\n",
      " 2   dob_years         21525 non-null  int64  \n",
      " 3   education         21525 non-null  object \n",
      " 4   education_id      21525 non-null  int64  \n",
      " 5   family_status     21525 non-null  object \n",
      " 6   family_status_id  21525 non-null  int64  \n",
      " 7   gender            21525 non-null  object \n",
      " 8   income_type       21525 non-null  object \n",
      " 9   debt              21525 non-null  int64  \n",
      " 10  total_income      21525 non-null  float64\n",
      " 11  purpose           21525 non-null  object \n",
      " 12  age_group         21525 non-null  object \n",
      "dtypes: float64(2), int64(5), object(6)\n",
      "memory usage: 2.1+ MB\n"
     ]
    }
   ],
   "source": [
    "data.info()"
   ]
  },
  {
   "cell_type": "markdown",
   "metadata": {},
   "source": [
    "# Аномальные значения в _gender_"
   ]
  },
  {
   "cell_type": "code",
   "execution_count": 40,
   "metadata": {},
   "outputs": [
    {
     "data": {
      "text/html": [
       "<div>\n",
       "<style scoped>\n",
       "    .dataframe tbody tr th:only-of-type {\n",
       "        vertical-align: middle;\n",
       "    }\n",
       "\n",
       "    .dataframe tbody tr th {\n",
       "        vertical-align: top;\n",
       "    }\n",
       "\n",
       "    .dataframe thead th {\n",
       "        text-align: right;\n",
       "    }\n",
       "</style>\n",
       "<table border=\"1\" class=\"dataframe\">\n",
       "  <thead>\n",
       "    <tr style=\"text-align: right;\">\n",
       "      <th></th>\n",
       "      <th>children</th>\n",
       "      <th>days_employed</th>\n",
       "      <th>dob_years</th>\n",
       "      <th>education</th>\n",
       "      <th>education_id</th>\n",
       "      <th>family_status</th>\n",
       "      <th>family_status_id</th>\n",
       "      <th>gender</th>\n",
       "      <th>income_type</th>\n",
       "      <th>debt</th>\n",
       "      <th>total_income</th>\n",
       "      <th>purpose</th>\n",
       "      <th>age_group</th>\n",
       "    </tr>\n",
       "  </thead>\n",
       "  <tbody>\n",
       "    <tr>\n",
       "      <th>10701</th>\n",
       "      <td>0</td>\n",
       "      <td>2,358.60</td>\n",
       "      <td>24</td>\n",
       "      <td>неоконченное высшее</td>\n",
       "      <td>2</td>\n",
       "      <td>гражданский брак</td>\n",
       "      <td>1</td>\n",
       "      <td>XNA</td>\n",
       "      <td>компаньон</td>\n",
       "      <td>0</td>\n",
       "      <td>203,905.16</td>\n",
       "      <td>покупка недвижимости</td>\n",
       "      <td>до 34</td>\n",
       "    </tr>\n",
       "  </tbody>\n",
       "</table>\n",
       "</div>"
      ],
      "text/plain": [
       "       children  days_employed  dob_years            education  education_id  \\\n",
       "10701         0       2,358.60         24  неоконченное высшее             2   \n",
       "\n",
       "          family_status  family_status_id gender income_type  debt  \\\n",
       "10701  гражданский брак                 1    XNA   компаньон     0   \n",
       "\n",
       "       total_income               purpose age_group  \n",
       "10701    203,905.16  покупка недвижимости     до 34  "
      ]
     },
     "execution_count": 40,
     "metadata": {},
     "output_type": "execute_result"
    }
   ],
   "source": [
    "data[data['gender'] == 'XNA'].head()"
   ]
  },
  {
   "cell_type": "markdown",
   "metadata": {},
   "source": [
    "Так как всего одна строка с некорректным значением пола, удалим данное наблюдение"
   ]
  },
  {
   "cell_type": "code",
   "execution_count": 41,
   "metadata": {},
   "outputs": [],
   "source": [
    "data = data.drop(data[data['gender'] == 'XNA'].index)"
   ]
  },
  {
   "cell_type": "code",
   "execution_count": 42,
   "metadata": {},
   "outputs": [
    {
     "data": {
      "text/plain": [
       "F    14236\n",
       "M     7288\n",
       "Name: gender, dtype: int64"
      ]
     },
     "execution_count": 42,
     "metadata": {},
     "output_type": "execute_result"
    }
   ],
   "source": [
    "data['gender'].value_counts()"
   ]
  },
  {
   "cell_type": "markdown",
   "metadata": {},
   "source": [
    "# Замена нестандартных значений в столбце \"количество детей\""
   ]
  },
  {
   "cell_type": "markdown",
   "metadata": {},
   "source": [
    "Значение -1 и 20, скорее всего, опечатки"
   ]
  },
  {
   "cell_type": "code",
   "execution_count": 43,
   "metadata": {},
   "outputs": [
    {
     "data": {
      "text/plain": [
       " 0     14148\n",
       " 1      4818\n",
       " 2      2055\n",
       " 3       330\n",
       " 20       76\n",
       "-1        47\n",
       " 4        41\n",
       " 5         9\n",
       "Name: children, dtype: int64"
      ]
     },
     "execution_count": 43,
     "metadata": {},
     "output_type": "execute_result"
    }
   ],
   "source": [
    "data['children'].value_counts() # "
   ]
  },
  {
   "cell_type": "code",
   "execution_count": 44,
   "metadata": {},
   "outputs": [
    {
     "data": {
      "text/html": [
       "<div>\n",
       "<style scoped>\n",
       "    .dataframe tbody tr th:only-of-type {\n",
       "        vertical-align: middle;\n",
       "    }\n",
       "\n",
       "    .dataframe tbody tr th {\n",
       "        vertical-align: top;\n",
       "    }\n",
       "\n",
       "    .dataframe thead th {\n",
       "        text-align: right;\n",
       "    }\n",
       "</style>\n",
       "<table border=\"1\" class=\"dataframe\">\n",
       "  <thead>\n",
       "    <tr style=\"text-align: right;\">\n",
       "      <th></th>\n",
       "      <th>children</th>\n",
       "      <th>days_employed</th>\n",
       "      <th>dob_years</th>\n",
       "      <th>education</th>\n",
       "      <th>education_id</th>\n",
       "      <th>family_status</th>\n",
       "      <th>family_status_id</th>\n",
       "      <th>gender</th>\n",
       "      <th>income_type</th>\n",
       "      <th>debt</th>\n",
       "      <th>total_income</th>\n",
       "      <th>purpose</th>\n",
       "      <th>age_group</th>\n",
       "    </tr>\n",
       "  </thead>\n",
       "  <tbody>\n",
       "    <tr>\n",
       "      <th>606</th>\n",
       "      <td>20</td>\n",
       "      <td>880.22</td>\n",
       "      <td>21</td>\n",
       "      <td>среднее</td>\n",
       "      <td>1</td>\n",
       "      <td>женат / замужем</td>\n",
       "      <td>0</td>\n",
       "      <td>M</td>\n",
       "      <td>компаньон</td>\n",
       "      <td>0</td>\n",
       "      <td>145,334.87</td>\n",
       "      <td>покупка жилья</td>\n",
       "      <td>до 34</td>\n",
       "    </tr>\n",
       "    <tr>\n",
       "      <th>720</th>\n",
       "      <td>20</td>\n",
       "      <td>855.60</td>\n",
       "      <td>44</td>\n",
       "      <td>среднее</td>\n",
       "      <td>1</td>\n",
       "      <td>женат / замужем</td>\n",
       "      <td>0</td>\n",
       "      <td>F</td>\n",
       "      <td>компаньон</td>\n",
       "      <td>0</td>\n",
       "      <td>112,998.74</td>\n",
       "      <td>покупка недвижимости</td>\n",
       "      <td>43 - 52</td>\n",
       "    </tr>\n",
       "    <tr>\n",
       "      <th>1074</th>\n",
       "      <td>20</td>\n",
       "      <td>3,310.41</td>\n",
       "      <td>56</td>\n",
       "      <td>среднее</td>\n",
       "      <td>1</td>\n",
       "      <td>женат / замужем</td>\n",
       "      <td>0</td>\n",
       "      <td>F</td>\n",
       "      <td>сотрудник</td>\n",
       "      <td>1</td>\n",
       "      <td>229,518.54</td>\n",
       "      <td>получение образования</td>\n",
       "      <td>53+</td>\n",
       "    </tr>\n",
       "  </tbody>\n",
       "</table>\n",
       "</div>"
      ],
      "text/plain": [
       "      children  days_employed  dob_years education  education_id  \\\n",
       "606         20         880.22         21   среднее             1   \n",
       "720         20         855.60         44   среднее             1   \n",
       "1074        20       3,310.41         56   среднее             1   \n",
       "\n",
       "        family_status  family_status_id gender income_type  debt  \\\n",
       "606   женат / замужем                 0      M   компаньон     0   \n",
       "720   женат / замужем                 0      F   компаньон     0   \n",
       "1074  женат / замужем                 0      F   сотрудник     1   \n",
       "\n",
       "      total_income                purpose age_group  \n",
       "606     145,334.87          покупка жилья     до 34  \n",
       "720     112,998.74   покупка недвижимости   43 - 52  \n",
       "1074    229,518.54  получение образования       53+  "
      ]
     },
     "execution_count": 44,
     "metadata": {},
     "output_type": "execute_result"
    }
   ],
   "source": [
    "data.loc[data['children'] == 20].head(3)"
   ]
  },
  {
   "cell_type": "markdown",
   "metadata": {},
   "source": [
    "Значение равное 20 детям, вероятнее всего, опечатка. Так, например, в стр. 606 у человека в возрасте 21 год уже 20 детей."
   ]
  },
  {
   "cell_type": "code",
   "execution_count": 45,
   "metadata": {},
   "outputs": [],
   "source": [
    "data['children'] = data['children'].replace(-1,1) # меняем значение -1 на 1"
   ]
  },
  {
   "cell_type": "code",
   "execution_count": 46,
   "metadata": {},
   "outputs": [],
   "source": [
    "data['children'] = data['children'].replace(20,2) # меняем значение 20 на 2"
   ]
  },
  {
   "cell_type": "code",
   "execution_count": 47,
   "metadata": {},
   "outputs": [
    {
     "data": {
      "text/plain": [
       "0    14148\n",
       "1     4865\n",
       "2     2131\n",
       "3      330\n",
       "4       41\n",
       "5        9\n",
       "Name: children, dtype: int64"
      ]
     },
     "execution_count": 47,
     "metadata": {},
     "output_type": "execute_result"
    }
   ],
   "source": [
    "data['children'].value_counts() # проверяем изменение"
   ]
  },
  {
   "cell_type": "markdown",
   "metadata": {},
   "source": [
    "**Вывод**"
   ]
  },
  {
   "cell_type": "markdown",
   "metadata": {},
   "source": [
    "1. в столбце _days_employed_ отрицательные значения преобразованы в положительные. Это могло быть вызвано тем, что в форме на сайте банка люди ошиблись в начальной и конечной дате стажа, в этом случае возможно доработать форму, чтобы дата окончания стажа не была позже даты его начала.\n",
    "2. в столбце _total_income_ пустые значения заменены на значение медианы в разрезе типов дохода (income_type).\n",
    "3. в столбце _days_employed_ стаж равный \"0\" заменили на значение медианы в разрезе типов дохода (income_type).\n",
    "4. в столбце _days_employed_ пустые значения заменены на значение медианы в разрезе возрастных категорий. Для этого выполнена категоризация возраста по квантилям и добавлен новый столбец 'age_group'. Также аномальные значения более 30.000 дней стажа (более 80 лет) заменили также значений медианы в разрезе возрастных категорий.\n",
    "5. в столбце _gender_ аномальное значение _XNA_ было удалено, так как кол-во строк с аномальным значением составило менее 1% общей выборки.\n",
    "6. отрицательное значение в столбце _children_, а также выброс в количестве 20 детей были заменены на 1 ребенка и 2 детей, соответственно. Вероятнее всего, это человеческий фактор, так как в данных для человека 21 года соотвествует значение 20 детей, что наименее вероятно.Для исключения опечатки в количестве детей возможно в форме на сайте банка исключить ручной ввод и добавить выбор из предложенных значений."
   ]
  },
  {
   "cell_type": "markdown",
   "metadata": {},
   "source": [
    "### Замена типа данных"
   ]
  },
  {
   "cell_type": "code",
   "execution_count": 48,
   "metadata": {},
   "outputs": [
    {
     "name": "stdout",
     "output_type": "stream",
     "text": [
      "<class 'pandas.core.frame.DataFrame'>\n",
      "Int64Index: 21524 entries, 0 to 21524\n",
      "Data columns (total 13 columns):\n",
      " #   Column            Non-Null Count  Dtype  \n",
      "---  ------            --------------  -----  \n",
      " 0   children          21524 non-null  int64  \n",
      " 1   days_employed     21524 non-null  float64\n",
      " 2   dob_years         21524 non-null  int64  \n",
      " 3   education         21524 non-null  object \n",
      " 4   education_id      21524 non-null  int64  \n",
      " 5   family_status     21524 non-null  object \n",
      " 6   family_status_id  21524 non-null  int64  \n",
      " 7   gender            21524 non-null  object \n",
      " 8   income_type       21524 non-null  object \n",
      " 9   debt              21524 non-null  int64  \n",
      " 10  total_income      21524 non-null  float64\n",
      " 11  purpose           21524 non-null  object \n",
      " 12  age_group         21524 non-null  object \n",
      "dtypes: float64(2), int64(5), object(6)\n",
      "memory usage: 2.3+ MB\n"
     ]
    }
   ],
   "source": [
    "data.info() # проверка типов данных по столбцам"
   ]
  },
  {
   "cell_type": "code",
   "execution_count": 49,
   "metadata": {},
   "outputs": [],
   "source": [
    "data['days_employed'] = data['days_employed'].astype('int') # в столбце 'days_employed' меняем тип данных на целочисленный"
   ]
  },
  {
   "cell_type": "code",
   "execution_count": 50,
   "metadata": {},
   "outputs": [],
   "source": [
    "data['total_income'] = data['total_income'].astype('int') # в столбце 'total_income' меняем тип данных на целочисленный"
   ]
  },
  {
   "cell_type": "code",
   "execution_count": 51,
   "metadata": {},
   "outputs": [
    {
     "data": {
      "text/html": [
       "<div>\n",
       "<style scoped>\n",
       "    .dataframe tbody tr th:only-of-type {\n",
       "        vertical-align: middle;\n",
       "    }\n",
       "\n",
       "    .dataframe tbody tr th {\n",
       "        vertical-align: top;\n",
       "    }\n",
       "\n",
       "    .dataframe thead th {\n",
       "        text-align: right;\n",
       "    }\n",
       "</style>\n",
       "<table border=\"1\" class=\"dataframe\">\n",
       "  <thead>\n",
       "    <tr style=\"text-align: right;\">\n",
       "      <th></th>\n",
       "      <th>children</th>\n",
       "      <th>days_employed</th>\n",
       "      <th>dob_years</th>\n",
       "      <th>education</th>\n",
       "      <th>education_id</th>\n",
       "      <th>family_status</th>\n",
       "      <th>family_status_id</th>\n",
       "      <th>gender</th>\n",
       "      <th>income_type</th>\n",
       "      <th>debt</th>\n",
       "      <th>total_income</th>\n",
       "      <th>purpose</th>\n",
       "      <th>age_group</th>\n",
       "    </tr>\n",
       "  </thead>\n",
       "  <tbody>\n",
       "    <tr>\n",
       "      <th>0</th>\n",
       "      <td>1</td>\n",
       "      <td>8437</td>\n",
       "      <td>42</td>\n",
       "      <td>высшее</td>\n",
       "      <td>0</td>\n",
       "      <td>женат / замужем</td>\n",
       "      <td>0</td>\n",
       "      <td>F</td>\n",
       "      <td>сотрудник</td>\n",
       "      <td>0</td>\n",
       "      <td>253875</td>\n",
       "      <td>покупка жилья</td>\n",
       "      <td>33 - 41</td>\n",
       "    </tr>\n",
       "  </tbody>\n",
       "</table>\n",
       "</div>"
      ],
      "text/plain": [
       "   children  days_employed  dob_years education  education_id  \\\n",
       "0         1           8437         42    высшее             0   \n",
       "\n",
       "     family_status  family_status_id gender income_type  debt  total_income  \\\n",
       "0  женат / замужем                 0      F   сотрудник     0        253875   \n",
       "\n",
       "         purpose age_group  \n",
       "0  покупка жилья   33 - 41  "
      ]
     },
     "execution_count": 51,
     "metadata": {},
     "output_type": "execute_result"
    }
   ],
   "source": [
    "data.head(1) # проверка произведенных изменений"
   ]
  },
  {
   "cell_type": "code",
   "execution_count": 52,
   "metadata": {},
   "outputs": [
    {
     "name": "stdout",
     "output_type": "stream",
     "text": [
      "<class 'pandas.core.frame.DataFrame'>\n",
      "Int64Index: 21524 entries, 0 to 21524\n",
      "Data columns (total 13 columns):\n",
      " #   Column            Non-Null Count  Dtype \n",
      "---  ------            --------------  ----- \n",
      " 0   children          21524 non-null  int64 \n",
      " 1   days_employed     21524 non-null  int64 \n",
      " 2   dob_years         21524 non-null  int64 \n",
      " 3   education         21524 non-null  object\n",
      " 4   education_id      21524 non-null  int64 \n",
      " 5   family_status     21524 non-null  object\n",
      " 6   family_status_id  21524 non-null  int64 \n",
      " 7   gender            21524 non-null  object\n",
      " 8   income_type       21524 non-null  object\n",
      " 9   debt              21524 non-null  int64 \n",
      " 10  total_income      21524 non-null  int64 \n",
      " 11  purpose           21524 non-null  object\n",
      " 12  age_group         21524 non-null  object\n",
      "dtypes: int64(7), object(6)\n",
      "memory usage: 2.3+ MB\n"
     ]
    }
   ],
   "source": [
    "data.info() # проверка произведенных изменений"
   ]
  },
  {
   "cell_type": "markdown",
   "metadata": {},
   "source": [
    "**Вывод**"
   ]
  },
  {
   "cell_type": "markdown",
   "metadata": {},
   "source": [
    "1. так как в столбцах _days_employed_ и _total_income_ более двух знаков после запятой (6 знаков), выполнили преобразование значений столбцов в целочисленный тип данных (_int_) для удобства осуществления математических вычислений"
   ]
  },
  {
   "cell_type": "markdown",
   "metadata": {},
   "source": [
    "### Обработка дубликатов"
   ]
  },
  {
   "cell_type": "code",
   "execution_count": 53,
   "metadata": {},
   "outputs": [
    {
     "data": {
      "text/plain": [
       "среднее                13750\n",
       "высшее                  4718\n",
       "СРЕДНЕЕ                  772\n",
       "Среднее                  711\n",
       "неоконченное высшее      667\n",
       "ВЫСШЕЕ                   274\n",
       "Высшее                   268\n",
       "начальное                250\n",
       "Неоконченное высшее       47\n",
       "НЕОКОНЧЕННОЕ ВЫСШЕЕ       29\n",
       "НАЧАЛЬНОЕ                 17\n",
       "Начальное                 15\n",
       "ученая степень             4\n",
       "Ученая степень             1\n",
       "УЧЕНАЯ СТЕПЕНЬ             1\n",
       "Name: education, dtype: int64"
      ]
     },
     "execution_count": 53,
     "metadata": {},
     "output_type": "execute_result"
    }
   ],
   "source": [
    "data['education'].value_counts()"
   ]
  },
  {
   "cell_type": "markdown",
   "metadata": {},
   "source": [
    "Приведем к нижнему регистру"
   ]
  },
  {
   "cell_type": "code",
   "execution_count": 54,
   "metadata": {},
   "outputs": [],
   "source": [
    "data['education'] = data['education'].str.lower()"
   ]
  },
  {
   "cell_type": "code",
   "execution_count": 55,
   "metadata": {},
   "outputs": [
    {
     "data": {
      "text/plain": [
       "среднее                15233\n",
       "высшее                  5260\n",
       "неоконченное высшее      743\n",
       "начальное                282\n",
       "ученая степень             6\n",
       "Name: education, dtype: int64"
      ]
     },
     "execution_count": 55,
     "metadata": {},
     "output_type": "execute_result"
    }
   ],
   "source": [
    "data['education'].value_counts()"
   ]
  },
  {
   "cell_type": "code",
   "execution_count": 56,
   "metadata": {},
   "outputs": [
    {
     "data": {
      "text/html": [
       "<div>\n",
       "<style scoped>\n",
       "    .dataframe tbody tr th:only-of-type {\n",
       "        vertical-align: middle;\n",
       "    }\n",
       "\n",
       "    .dataframe tbody tr th {\n",
       "        vertical-align: top;\n",
       "    }\n",
       "\n",
       "    .dataframe thead th {\n",
       "        text-align: right;\n",
       "    }\n",
       "</style>\n",
       "<table border=\"1\" class=\"dataframe\">\n",
       "  <thead>\n",
       "    <tr style=\"text-align: right;\">\n",
       "      <th></th>\n",
       "      <th>children</th>\n",
       "      <th>days_employed</th>\n",
       "      <th>dob_years</th>\n",
       "      <th>education</th>\n",
       "      <th>education_id</th>\n",
       "      <th>family_status</th>\n",
       "      <th>family_status_id</th>\n",
       "      <th>gender</th>\n",
       "      <th>income_type</th>\n",
       "      <th>debt</th>\n",
       "      <th>total_income</th>\n",
       "      <th>purpose</th>\n",
       "      <th>age_group</th>\n",
       "    </tr>\n",
       "  </thead>\n",
       "  <tbody>\n",
       "    <tr>\n",
       "      <th>9604</th>\n",
       "      <td>0</td>\n",
       "      <td>2373</td>\n",
       "      <td>71</td>\n",
       "      <td>среднее</td>\n",
       "      <td>1</td>\n",
       "      <td>гражданский брак</td>\n",
       "      <td>1</td>\n",
       "      <td>F</td>\n",
       "      <td>пенсионер</td>\n",
       "      <td>0</td>\n",
       "      <td>118514</td>\n",
       "      <td>на проведение свадьбы</td>\n",
       "      <td>53+</td>\n",
       "    </tr>\n",
       "    <tr>\n",
       "      <th>7938</th>\n",
       "      <td>0</td>\n",
       "      <td>2373</td>\n",
       "      <td>71</td>\n",
       "      <td>среднее</td>\n",
       "      <td>1</td>\n",
       "      <td>гражданский брак</td>\n",
       "      <td>1</td>\n",
       "      <td>F</td>\n",
       "      <td>пенсионер</td>\n",
       "      <td>0</td>\n",
       "      <td>118514</td>\n",
       "      <td>на проведение свадьбы</td>\n",
       "      <td>53+</td>\n",
       "    </tr>\n",
       "    <tr>\n",
       "      <th>9528</th>\n",
       "      <td>0</td>\n",
       "      <td>2373</td>\n",
       "      <td>66</td>\n",
       "      <td>среднее</td>\n",
       "      <td>1</td>\n",
       "      <td>вдовец / вдова</td>\n",
       "      <td>2</td>\n",
       "      <td>F</td>\n",
       "      <td>пенсионер</td>\n",
       "      <td>0</td>\n",
       "      <td>118514</td>\n",
       "      <td>операции со своей недвижимостью</td>\n",
       "      <td>53+</td>\n",
       "    </tr>\n",
       "    <tr>\n",
       "      <th>20187</th>\n",
       "      <td>0</td>\n",
       "      <td>2373</td>\n",
       "      <td>65</td>\n",
       "      <td>среднее</td>\n",
       "      <td>1</td>\n",
       "      <td>гражданский брак</td>\n",
       "      <td>1</td>\n",
       "      <td>F</td>\n",
       "      <td>пенсионер</td>\n",
       "      <td>0</td>\n",
       "      <td>118514</td>\n",
       "      <td>сыграть свадьбу</td>\n",
       "      <td>53+</td>\n",
       "    </tr>\n",
       "    <tr>\n",
       "      <th>17338</th>\n",
       "      <td>0</td>\n",
       "      <td>2373</td>\n",
       "      <td>64</td>\n",
       "      <td>среднее</td>\n",
       "      <td>1</td>\n",
       "      <td>гражданский брак</td>\n",
       "      <td>1</td>\n",
       "      <td>F</td>\n",
       "      <td>пенсионер</td>\n",
       "      <td>0</td>\n",
       "      <td>118514</td>\n",
       "      <td>сыграть свадьбу</td>\n",
       "      <td>53+</td>\n",
       "    </tr>\n",
       "  </tbody>\n",
       "</table>\n",
       "</div>"
      ],
      "text/plain": [
       "       children  days_employed  dob_years education  education_id  \\\n",
       "9604          0           2373         71   среднее             1   \n",
       "7938          0           2373         71   среднее             1   \n",
       "9528          0           2373         66   среднее             1   \n",
       "20187         0           2373         65   среднее             1   \n",
       "17338         0           2373         64   среднее             1   \n",
       "\n",
       "          family_status  family_status_id gender income_type  debt  \\\n",
       "9604   гражданский брак                 1      F   пенсионер     0   \n",
       "7938   гражданский брак                 1      F   пенсионер     0   \n",
       "9528     вдовец / вдова                 2      F   пенсионер     0   \n",
       "20187  гражданский брак                 1      F   пенсионер     0   \n",
       "17338  гражданский брак                 1      F   пенсионер     0   \n",
       "\n",
       "       total_income                          purpose age_group  \n",
       "9604         118514            на проведение свадьбы       53+  \n",
       "7938         118514            на проведение свадьбы       53+  \n",
       "9528         118514  операции со своей недвижимостью       53+  \n",
       "20187        118514                  сыграть свадьбу       53+  \n",
       "17338        118514                  сыграть свадьбу       53+  "
      ]
     },
     "execution_count": 56,
     "metadata": {},
     "output_type": "execute_result"
    }
   ],
   "source": [
    "data[data.duplicated()].sort_values(by='dob_years', ascending=False).head()"
   ]
  },
  {
   "cell_type": "code",
   "execution_count": 57,
   "metadata": {},
   "outputs": [
    {
     "data": {
      "text/plain": [
       "71"
      ]
     },
     "execution_count": 57,
     "metadata": {},
     "output_type": "execute_result"
    }
   ],
   "source": [
    "data.duplicated().sum() # считаем кол-во строк дубликатов"
   ]
  },
  {
   "cell_type": "code",
   "execution_count": 58,
   "metadata": {},
   "outputs": [],
   "source": [
    "data = data.drop_duplicates().reset_index(drop=True) # удаляем дублированные строки, обновляем индексы"
   ]
  },
  {
   "cell_type": "code",
   "execution_count": 59,
   "metadata": {},
   "outputs": [
    {
     "name": "stdout",
     "output_type": "stream",
     "text": [
      "<class 'pandas.core.frame.DataFrame'>\n",
      "RangeIndex: 21453 entries, 0 to 21452\n",
      "Data columns (total 13 columns):\n",
      " #   Column            Non-Null Count  Dtype \n",
      "---  ------            --------------  ----- \n",
      " 0   children          21453 non-null  int64 \n",
      " 1   days_employed     21453 non-null  int64 \n",
      " 2   dob_years         21453 non-null  int64 \n",
      " 3   education         21453 non-null  object\n",
      " 4   education_id      21453 non-null  int64 \n",
      " 5   family_status     21453 non-null  object\n",
      " 6   family_status_id  21453 non-null  int64 \n",
      " 7   gender            21453 non-null  object\n",
      " 8   income_type       21453 non-null  object\n",
      " 9   debt              21453 non-null  int64 \n",
      " 10  total_income      21453 non-null  int64 \n",
      " 11  purpose           21453 non-null  object\n",
      " 12  age_group         21453 non-null  object\n",
      "dtypes: int64(7), object(6)\n",
      "memory usage: 2.1+ MB\n"
     ]
    }
   ],
   "source": [
    "data.info() # проверяем кол-во строк"
   ]
  },
  {
   "cell_type": "markdown",
   "metadata": {},
   "source": [
    "**Вывод**"
   ]
  },
  {
   "cell_type": "markdown",
   "metadata": {},
   "source": [
    "1. Выявлены дубликаты в столбце _education_, вызванные написание букв в различных регистрах. Может быть вызвано тем, что люди заполняют от руки данную информацию в форме на сайте.\n",
    "2. Для исключения дубликатов в столбце _education_ использовался метод str.lower() для приведения значений в нижний регистр, что позволило значительно сократить кол-во уникальных значений.\n",
    "3. Для поиска дублированных строк в data использовался метод _duplicated()_, для удаления дулирующих строк (71 строка) - метод _drop_duplicates()_.\n",
    "4. Возможно запредить ручной ввод данных об образовании и добавить возможность выбора из списка для исключения дубликатов."
   ]
  },
  {
   "cell_type": "markdown",
   "metadata": {},
   "source": [
    "### Лемматизация"
   ]
  },
  {
   "cell_type": "code",
   "execution_count": 60,
   "metadata": {},
   "outputs": [
    {
     "data": {
      "text/plain": [
       "свадьба                                   791\n",
       "на проведение свадьбы                     768\n",
       "сыграть свадьбу                           765\n",
       "операции с недвижимостью                  675\n",
       "покупка коммерческой недвижимости         661\n",
       "операции с жильем                         652\n",
       "покупка жилья для сдачи                   651\n",
       "операции с коммерческой недвижимостью     650\n",
       "жилье                                     646\n",
       "покупка жилья                             646\n",
       "покупка жилья для семьи                   638\n",
       "строительство собственной недвижимости    635\n",
       "недвижимость                              633\n",
       "операции со своей недвижимостью           627\n",
       "строительство жилой недвижимости          624\n",
       "покупка недвижимости                      620\n",
       "покупка своего жилья                      620\n",
       "строительство недвижимости                619\n",
       "ремонт жилью                              607\n",
       "покупка жилой недвижимости                606\n",
       "на покупку своего автомобиля              505\n",
       "заняться высшим образованием              496\n",
       "автомобиль                                494\n",
       "сделка с подержанным автомобилем          486\n",
       "на покупку подержанного автомобиля        478\n",
       "свой автомобиль                           478\n",
       "автомобили                                478\n",
       "на покупку автомобиля                     471\n",
       "приобретение автомобиля                   461\n",
       "дополнительное образование                460\n",
       "сделка с автомобилем                      455\n",
       "высшее образование                        452\n",
       "образование                               447\n",
       "получение дополнительного образования     446\n",
       "получение образования                     442\n",
       "профильное образование                    436\n",
       "получение высшего образования             426\n",
       "заняться образованием                     408\n",
       "Name: purpose, dtype: int64"
      ]
     },
     "execution_count": 60,
     "metadata": {},
     "output_type": "execute_result"
    }
   ],
   "source": [
    "data['purpose'].value_counts() # просморт уникальных значений целей кредита"
   ]
  },
  {
   "cell_type": "code",
   "execution_count": 61,
   "metadata": {},
   "outputs": [],
   "source": [
    "m = Mystem()"
   ]
  },
  {
   "cell_type": "code",
   "execution_count": 62,
   "metadata": {},
   "outputs": [
    {
     "name": "stdout",
     "output_type": "stream",
     "text": [
      "Counter({' ': 33569, '\\n': 21453, 'недвижимость': 6350, 'покупка': 5896, 'жилье': 4460, 'автомобиль': 4306, 'образование': 4013, 'с': 2918, 'операция': 2604, 'свадьба': 2324, 'свой': 2230, 'на': 2222, 'строительство': 1878, 'высокий': 1374, 'получение': 1314, 'коммерческий': 1311, 'для': 1289, 'жилой': 1230, 'сделка': 941, 'дополнительный': 906, 'заниматься': 904, 'проведение': 768, 'сыграть': 765, 'сдача': 651, 'семья': 638, 'собственный': 635, 'со': 627, 'ремонт': 607, 'подержанный': 486, 'подержать': 478, 'приобретение': 461, 'профильный': 436})\n"
     ]
    }
   ],
   "source": [
    "try:                                 # функция по подсчету Лемм по целям кредита\n",
    "    text =[]\n",
    "    for row in data['purpose']:\n",
    "        lemmas = m.lemmatize(row)\n",
    "        text += lemmas\n",
    "    print(Counter(text))\n",
    "except:\n",
    "    print('Не сработало')"
   ]
  },
  {
   "cell_type": "code",
   "execution_count": 63,
   "metadata": {},
   "outputs": [],
   "source": [
    "def get_lemma (column): # функция по категоризации данных по значению леммы из столбца 'purpose'\n",
    "    lemmas = m.lemmatize(column)\n",
    "    if 'свадьба' in lemmas:\n",
    "        return 'свадьба'\n",
    "    elif 'недвижимость' in lemmas:\n",
    "        return 'недвижимость'\n",
    "    elif 'жилье' in lemmas:\n",
    "        return 'недвижимость'\n",
    "    elif 'автомобиль' in lemmas:\n",
    "        return 'автомобиль'\n",
    "    elif 'образование' in lemmas:\n",
    "        return 'образование'\n",
    "    else:\n",
    "        return 'не распознано'"
   ]
  },
  {
   "cell_type": "markdown",
   "metadata": {},
   "source": [
    "применение функции и добавление нового столбца с обобщенными категориями по столбцу _purpose_"
   ]
  },
  {
   "cell_type": "code",
   "execution_count": 64,
   "metadata": {},
   "outputs": [],
   "source": [
    "data['lemmas'] = data['purpose'].apply(get_lemma)"
   ]
  },
  {
   "cell_type": "code",
   "execution_count": 65,
   "metadata": {},
   "outputs": [
    {
     "data": {
      "text/plain": [
       "недвижимость    10810\n",
       "автомобиль       4306\n",
       "образование      4013\n",
       "свадьба          2324\n",
       "Name: lemmas, dtype: int64"
      ]
     },
     "execution_count": 65,
     "metadata": {},
     "output_type": "execute_result"
    }
   ],
   "source": [
    "data['lemmas'].value_counts().sort_values(ascending=False)"
   ]
  },
  {
   "cell_type": "markdown",
   "metadata": {},
   "source": [
    "**Вывод**"
   ]
  },
  {
   "cell_type": "markdown",
   "metadata": {},
   "source": [
    "1. проведена лемматизация по целям кредита и методом _Counter_ подсчитаны наиболее часто встречающиеся леммы.\n",
    "2. осуществлена категоризация данных по леммам в разрезе целей кредита: свадьба, недвижимость, автомобиль, образование.\n",
    "3. добавлен новый столбец _lemmas_ с категорией цели кредита (наиболее популярен кредит на недвижимость)\n"
   ]
  },
  {
   "cell_type": "markdown",
   "metadata": {},
   "source": [
    "### Категоризация данных"
   ]
  },
  {
   "cell_type": "code",
   "execution_count": 66,
   "metadata": {},
   "outputs": [
    {
     "data": {
      "text/html": [
       "<div>\n",
       "<style scoped>\n",
       "    .dataframe tbody tr th:only-of-type {\n",
       "        vertical-align: middle;\n",
       "    }\n",
       "\n",
       "    .dataframe tbody tr th {\n",
       "        vertical-align: top;\n",
       "    }\n",
       "\n",
       "    .dataframe thead th {\n",
       "        text-align: right;\n",
       "    }\n",
       "</style>\n",
       "<table border=\"1\" class=\"dataframe\">\n",
       "  <thead>\n",
       "    <tr style=\"text-align: right;\">\n",
       "      <th></th>\n",
       "      <th>children</th>\n",
       "      <th>days_employed</th>\n",
       "      <th>dob_years</th>\n",
       "      <th>education_id</th>\n",
       "      <th>family_status_id</th>\n",
       "      <th>debt</th>\n",
       "      <th>total_income</th>\n",
       "    </tr>\n",
       "  </thead>\n",
       "  <tbody>\n",
       "    <tr>\n",
       "      <th>count</th>\n",
       "      <td>21,453.00</td>\n",
       "      <td>21,453.00</td>\n",
       "      <td>21,453.00</td>\n",
       "      <td>21,453.00</td>\n",
       "      <td>21,453.00</td>\n",
       "      <td>21,453.00</td>\n",
       "      <td>21,453.00</td>\n",
       "    </tr>\n",
       "    <tr>\n",
       "      <th>mean</th>\n",
       "      <td>0.48</td>\n",
       "      <td>2,301.59</td>\n",
       "      <td>43.48</td>\n",
       "      <td>0.82</td>\n",
       "      <td>0.97</td>\n",
       "      <td>0.08</td>\n",
       "      <td>165,317.77</td>\n",
       "    </tr>\n",
       "    <tr>\n",
       "      <th>std</th>\n",
       "      <td>0.76</td>\n",
       "      <td>1,995.27</td>\n",
       "      <td>12.23</td>\n",
       "      <td>0.55</td>\n",
       "      <td>1.42</td>\n",
       "      <td>0.27</td>\n",
       "      <td>98,189.24</td>\n",
       "    </tr>\n",
       "    <tr>\n",
       "      <th>min</th>\n",
       "      <td>0.00</td>\n",
       "      <td>24.00</td>\n",
       "      <td>19.00</td>\n",
       "      <td>0.00</td>\n",
       "      <td>0.00</td>\n",
       "      <td>0.00</td>\n",
       "      <td>20,667.00</td>\n",
       "    </tr>\n",
       "    <tr>\n",
       "      <th>25%</th>\n",
       "      <td>0.00</td>\n",
       "      <td>1,023.00</td>\n",
       "      <td>33.00</td>\n",
       "      <td>1.00</td>\n",
       "      <td>0.00</td>\n",
       "      <td>0.00</td>\n",
       "      <td>107,620.00</td>\n",
       "    </tr>\n",
       "    <tr>\n",
       "      <th>50%</th>\n",
       "      <td>0.00</td>\n",
       "      <td>2,105.00</td>\n",
       "      <td>42.00</td>\n",
       "      <td>1.00</td>\n",
       "      <td>0.00</td>\n",
       "      <td>0.00</td>\n",
       "      <td>142,594.00</td>\n",
       "    </tr>\n",
       "    <tr>\n",
       "      <th>75%</th>\n",
       "      <td>1.00</td>\n",
       "      <td>2,523.00</td>\n",
       "      <td>53.00</td>\n",
       "      <td>1.00</td>\n",
       "      <td>1.00</td>\n",
       "      <td>0.00</td>\n",
       "      <td>195,818.00</td>\n",
       "    </tr>\n",
       "    <tr>\n",
       "      <th>max</th>\n",
       "      <td>5.00</td>\n",
       "      <td>18,388.00</td>\n",
       "      <td>75.00</td>\n",
       "      <td>4.00</td>\n",
       "      <td>4.00</td>\n",
       "      <td>1.00</td>\n",
       "      <td>2,265,604.00</td>\n",
       "    </tr>\n",
       "  </tbody>\n",
       "</table>\n",
       "</div>"
      ],
      "text/plain": [
       "       children  days_employed  dob_years  education_id  family_status_id  \\\n",
       "count 21,453.00      21,453.00  21,453.00     21,453.00         21,453.00   \n",
       "mean       0.48       2,301.59      43.48          0.82              0.97   \n",
       "std        0.76       1,995.27      12.23          0.55              1.42   \n",
       "min        0.00          24.00      19.00          0.00              0.00   \n",
       "25%        0.00       1,023.00      33.00          1.00              0.00   \n",
       "50%        0.00       2,105.00      42.00          1.00              0.00   \n",
       "75%        1.00       2,523.00      53.00          1.00              1.00   \n",
       "max        5.00      18,388.00      75.00          4.00              4.00   \n",
       "\n",
       "           debt  total_income  \n",
       "count 21,453.00     21,453.00  \n",
       "mean       0.08    165,317.77  \n",
       "std        0.27     98,189.24  \n",
       "min        0.00     20,667.00  \n",
       "25%        0.00    107,620.00  \n",
       "50%        0.00    142,594.00  \n",
       "75%        0.00    195,818.00  \n",
       "max        1.00  2,265,604.00  "
      ]
     },
     "execution_count": 66,
     "metadata": {},
     "output_type": "execute_result"
    }
   ],
   "source": [
    "data.describe()"
   ]
  },
  {
   "cell_type": "code",
   "execution_count": 67,
   "metadata": {},
   "outputs": [],
   "source": [
    "def income_grouped(income): # функция по категоризации дохода\n",
    "    if 0 <= income < 107620:\n",
    "        return 'low'\n",
    "    elif 107620 <= income < 142594:\n",
    "        return 'middle'\n",
    "    elif 142594 <= income <= 195818:\n",
    "        return 'high'\n",
    "    elif 195818 < income:\n",
    "        return 'extra_high'"
   ]
  },
  {
   "cell_type": "code",
   "execution_count": 68,
   "metadata": {},
   "outputs": [],
   "source": [
    "data['income_groupe'] = data['total_income'].apply(income_grouped) # добавляем новый столбец с категориями по доходу"
   ]
  },
  {
   "cell_type": "code",
   "execution_count": 69,
   "metadata": {},
   "outputs": [],
   "source": [
    "def having_children(number): # функция по определению наличия детей\n",
    "    if 0 < number:\n",
    "        return 'есть дети'\n",
    "    elif number == 0:\n",
    "        return 'нет детей'"
   ]
  },
  {
   "cell_type": "code",
   "execution_count": 70,
   "metadata": {},
   "outputs": [],
   "source": [
    "data['having_children'] = data['children'].apply(having_children) # добавляем столбец со значение наличия ребенка в семье"
   ]
  },
  {
   "cell_type": "code",
   "execution_count": 71,
   "metadata": {},
   "outputs": [
    {
     "data": {
      "text/plain": [
       "нет детей    14090\n",
       "есть дети     7363\n",
       "Name: having_children, dtype: int64"
      ]
     },
     "execution_count": 71,
     "metadata": {},
     "output_type": "execute_result"
    }
   ],
   "source": [
    "data['having_children'].value_counts() # проверяем"
   ]
  },
  {
   "cell_type": "markdown",
   "metadata": {},
   "source": [
    "**Вывод**"
   ]
  },
  {
   "cell_type": "markdown",
   "metadata": {},
   "source": [
    "1. проведена категоризация данных по уровню дохода, выделено 4 группы по квантилям 25%-50-75\n",
    "2. добавлен новый столбец _income_groupe_ с категорией дохода\n",
    "3. проведена категоризация данных по наличию детей в семье.\n",
    "4. добавлен новый столбец _having_children_.\n",
    "5. \n",
    "- в п. 2.1 выполнена категоризация по возрастной категории и добавлен столбец _age_group_.\n",
    "- в п. 2.4 выполнена категоризация данных по цели кредита и добавлен столбец _lemmas_."
   ]
  },
  {
   "cell_type": "markdown",
   "metadata": {},
   "source": [
    "## Ответьте на вопросы"
   ]
  },
  {
   "cell_type": "markdown",
   "metadata": {},
   "source": [
    "- Есть ли зависимость между наличием детей и возвратом кредита в срок?"
   ]
  },
  {
   "cell_type": "markdown",
   "metadata": {},
   "source": [
    "Функция по группировке данных по колонке_1 и добавлением столбца с соотношением"
   ]
  },
  {
   "cell_type": "code",
   "execution_count": 72,
   "metadata": {},
   "outputs": [],
   "source": [
    "def count(data, column_1, column_2):\n",
    "    grouped = data.groupby(column_1.name, as_index=False).agg({column_2.name:['count', 'sum']}) \n",
    "    grouped['ratio'] = grouped[column_2.name]['sum'] / grouped[column_2.name]['count'] * 100\n",
    "    display(grouped.sort_values(by='ratio', ascending=True))"
   ]
  },
  {
   "cell_type": "code",
   "execution_count": 73,
   "metadata": {},
   "outputs": [
    {
     "data": {
      "text/html": [
       "<div>\n",
       "<style scoped>\n",
       "    .dataframe tbody tr th:only-of-type {\n",
       "        vertical-align: middle;\n",
       "    }\n",
       "\n",
       "    .dataframe tbody tr th {\n",
       "        vertical-align: top;\n",
       "    }\n",
       "\n",
       "    .dataframe thead tr th {\n",
       "        text-align: left;\n",
       "    }\n",
       "</style>\n",
       "<table border=\"1\" class=\"dataframe\">\n",
       "  <thead>\n",
       "    <tr>\n",
       "      <th></th>\n",
       "      <th>having_children</th>\n",
       "      <th colspan=\"2\" halign=\"left\">debt</th>\n",
       "      <th>ratio</th>\n",
       "    </tr>\n",
       "    <tr>\n",
       "      <th></th>\n",
       "      <th></th>\n",
       "      <th>count</th>\n",
       "      <th>sum</th>\n",
       "      <th></th>\n",
       "    </tr>\n",
       "  </thead>\n",
       "  <tbody>\n",
       "    <tr>\n",
       "      <th>1</th>\n",
       "      <td>нет детей</td>\n",
       "      <td>14090</td>\n",
       "      <td>1063</td>\n",
       "      <td>7.54</td>\n",
       "    </tr>\n",
       "    <tr>\n",
       "      <th>0</th>\n",
       "      <td>есть дети</td>\n",
       "      <td>7363</td>\n",
       "      <td>678</td>\n",
       "      <td>9.21</td>\n",
       "    </tr>\n",
       "  </tbody>\n",
       "</table>\n",
       "</div>"
      ],
      "text/plain": [
       "  having_children   debt       ratio\n",
       "                   count   sum      \n",
       "1       нет детей  14090  1063  7.54\n",
       "0       есть дети   7363   678  9.21"
      ]
     },
     "metadata": {},
     "output_type": "display_data"
    }
   ],
   "source": [
    "count(data, data['having_children'], data['debt'])"
   ]
  },
  {
   "cell_type": "markdown",
   "metadata": {},
   "source": [
    "Заемщики с детьми чаще имели просроченную задолженность, возможно, при нехватке денежных средств расставляли приоритет в сторону детей"
   ]
  },
  {
   "cell_type": "markdown",
   "metadata": {},
   "source": [
    "- Есть ли зависимость между семейным положением и возвратом кредита в срок?"
   ]
  },
  {
   "cell_type": "code",
   "execution_count": 74,
   "metadata": {},
   "outputs": [
    {
     "data": {
      "text/html": [
       "<div>\n",
       "<style scoped>\n",
       "    .dataframe tbody tr th:only-of-type {\n",
       "        vertical-align: middle;\n",
       "    }\n",
       "\n",
       "    .dataframe tbody tr th {\n",
       "        vertical-align: top;\n",
       "    }\n",
       "\n",
       "    .dataframe thead tr th {\n",
       "        text-align: left;\n",
       "    }\n",
       "</style>\n",
       "<table border=\"1\" class=\"dataframe\">\n",
       "  <thead>\n",
       "    <tr>\n",
       "      <th></th>\n",
       "      <th>family_status</th>\n",
       "      <th colspan=\"2\" halign=\"left\">debt</th>\n",
       "      <th>ratio</th>\n",
       "    </tr>\n",
       "    <tr>\n",
       "      <th></th>\n",
       "      <th></th>\n",
       "      <th>count</th>\n",
       "      <th>sum</th>\n",
       "      <th></th>\n",
       "    </tr>\n",
       "  </thead>\n",
       "  <tbody>\n",
       "    <tr>\n",
       "      <th>2</th>\n",
       "      <td>вдовец / вдова</td>\n",
       "      <td>959</td>\n",
       "      <td>63</td>\n",
       "      <td>6.57</td>\n",
       "    </tr>\n",
       "    <tr>\n",
       "      <th>1</th>\n",
       "      <td>в разводе</td>\n",
       "      <td>1195</td>\n",
       "      <td>85</td>\n",
       "      <td>7.11</td>\n",
       "    </tr>\n",
       "    <tr>\n",
       "      <th>4</th>\n",
       "      <td>женат / замужем</td>\n",
       "      <td>12339</td>\n",
       "      <td>931</td>\n",
       "      <td>7.55</td>\n",
       "    </tr>\n",
       "    <tr>\n",
       "      <th>3</th>\n",
       "      <td>гражданский брак</td>\n",
       "      <td>4150</td>\n",
       "      <td>388</td>\n",
       "      <td>9.35</td>\n",
       "    </tr>\n",
       "    <tr>\n",
       "      <th>0</th>\n",
       "      <td>Не женат / не замужем</td>\n",
       "      <td>2810</td>\n",
       "      <td>274</td>\n",
       "      <td>9.75</td>\n",
       "    </tr>\n",
       "  </tbody>\n",
       "</table>\n",
       "</div>"
      ],
      "text/plain": [
       "           family_status   debt      ratio\n",
       "                          count  sum      \n",
       "2         вдовец / вдова    959   63  6.57\n",
       "1              в разводе   1195   85  7.11\n",
       "4        женат / замужем  12339  931  7.55\n",
       "3       гражданский брак   4150  388  9.35\n",
       "0  Не женат / не замужем   2810  274  9.75"
      ]
     },
     "metadata": {},
     "output_type": "display_data"
    }
   ],
   "source": [
    "count(data, data['family_status'], data['debt'])"
   ]
  },
  {
   "cell_type": "markdown",
   "metadata": {},
   "source": [
    "Люди, находящиеся в официальном браке, либо состоящие в нем ранее, имели меньший процент задолженности по кредитам.\n",
    "Следовательно, высокий процент наличия задолженности по кредиту у не женатых (не замужних) людей и людей в гражданском браке."
   ]
  },
  {
   "cell_type": "markdown",
   "metadata": {},
   "source": [
    "- Есть ли зависимость между уровнем дохода и возвратом кредита в срок?"
   ]
  },
  {
   "cell_type": "code",
   "execution_count": 75,
   "metadata": {},
   "outputs": [
    {
     "data": {
      "text/html": [
       "<div>\n",
       "<style scoped>\n",
       "    .dataframe tbody tr th:only-of-type {\n",
       "        vertical-align: middle;\n",
       "    }\n",
       "\n",
       "    .dataframe tbody tr th {\n",
       "        vertical-align: top;\n",
       "    }\n",
       "\n",
       "    .dataframe thead tr th {\n",
       "        text-align: left;\n",
       "    }\n",
       "</style>\n",
       "<table border=\"1\" class=\"dataframe\">\n",
       "  <thead>\n",
       "    <tr>\n",
       "      <th></th>\n",
       "      <th>income_groupe</th>\n",
       "      <th colspan=\"2\" halign=\"left\">debt</th>\n",
       "      <th>ratio</th>\n",
       "    </tr>\n",
       "    <tr>\n",
       "      <th></th>\n",
       "      <th></th>\n",
       "      <th>count</th>\n",
       "      <th>sum</th>\n",
       "      <th></th>\n",
       "    </tr>\n",
       "  </thead>\n",
       "  <tbody>\n",
       "    <tr>\n",
       "      <th>0</th>\n",
       "      <td>extra_high</td>\n",
       "      <td>5363</td>\n",
       "      <td>383</td>\n",
       "      <td>7.14</td>\n",
       "    </tr>\n",
       "    <tr>\n",
       "      <th>2</th>\n",
       "      <td>low</td>\n",
       "      <td>5363</td>\n",
       "      <td>427</td>\n",
       "      <td>7.96</td>\n",
       "    </tr>\n",
       "    <tr>\n",
       "      <th>1</th>\n",
       "      <td>high</td>\n",
       "      <td>6317</td>\n",
       "      <td>546</td>\n",
       "      <td>8.64</td>\n",
       "    </tr>\n",
       "    <tr>\n",
       "      <th>3</th>\n",
       "      <td>middle</td>\n",
       "      <td>4410</td>\n",
       "      <td>385</td>\n",
       "      <td>8.73</td>\n",
       "    </tr>\n",
       "  </tbody>\n",
       "</table>\n",
       "</div>"
      ],
      "text/plain": [
       "  income_groupe  debt      ratio\n",
       "                count  sum      \n",
       "0    extra_high  5363  383  7.14\n",
       "2           low  5363  427  7.96\n",
       "1          high  6317  546  8.64\n",
       "3        middle  4410  385  8.73"
      ]
     },
     "metadata": {},
     "output_type": "display_data"
    }
   ],
   "source": [
    "count(data, data['income_groupe'], data['debt'])"
   ]
  },
  {
   "cell_type": "markdown",
   "metadata": {},
   "source": [
    "Люди с самым высоким порогом дохода имеют наименьшее количество задолженности (умеют считать деньги и не хотят пеерплачивать по процентам), на втором месте люди с низким доходом, вероятно, так как имеют немного кредитов и тщательно следят за платежами во избежании просрочек, чтобы не платить дополнительных денежных средств по пеням и штрафам. Чаще всех имели задолженность люди со средним уровнем дохода - 8,7% и высоким - 8,6%, вероятно, так как сильно закредитованы и имеют более одного кредита."
   ]
  },
  {
   "cell_type": "markdown",
   "metadata": {},
   "source": [
    "- Как разные цели кредита влияют на его возврат в срок?"
   ]
  },
  {
   "cell_type": "code",
   "execution_count": 76,
   "metadata": {},
   "outputs": [
    {
     "data": {
      "text/html": [
       "<div>\n",
       "<style scoped>\n",
       "    .dataframe tbody tr th:only-of-type {\n",
       "        vertical-align: middle;\n",
       "    }\n",
       "\n",
       "    .dataframe tbody tr th {\n",
       "        vertical-align: top;\n",
       "    }\n",
       "\n",
       "    .dataframe thead tr th {\n",
       "        text-align: left;\n",
       "    }\n",
       "</style>\n",
       "<table border=\"1\" class=\"dataframe\">\n",
       "  <thead>\n",
       "    <tr>\n",
       "      <th></th>\n",
       "      <th>lemmas</th>\n",
       "      <th colspan=\"2\" halign=\"left\">debt</th>\n",
       "      <th>ratio</th>\n",
       "    </tr>\n",
       "    <tr>\n",
       "      <th></th>\n",
       "      <th></th>\n",
       "      <th>count</th>\n",
       "      <th>sum</th>\n",
       "      <th></th>\n",
       "    </tr>\n",
       "  </thead>\n",
       "  <tbody>\n",
       "    <tr>\n",
       "      <th>1</th>\n",
       "      <td>недвижимость</td>\n",
       "      <td>10810</td>\n",
       "      <td>782</td>\n",
       "      <td>7.23</td>\n",
       "    </tr>\n",
       "    <tr>\n",
       "      <th>3</th>\n",
       "      <td>свадьба</td>\n",
       "      <td>2324</td>\n",
       "      <td>186</td>\n",
       "      <td>8.00</td>\n",
       "    </tr>\n",
       "    <tr>\n",
       "      <th>2</th>\n",
       "      <td>образование</td>\n",
       "      <td>4013</td>\n",
       "      <td>370</td>\n",
       "      <td>9.22</td>\n",
       "    </tr>\n",
       "    <tr>\n",
       "      <th>0</th>\n",
       "      <td>автомобиль</td>\n",
       "      <td>4306</td>\n",
       "      <td>403</td>\n",
       "      <td>9.36</td>\n",
       "    </tr>\n",
       "  </tbody>\n",
       "</table>\n",
       "</div>"
      ],
      "text/plain": [
       "         lemmas   debt      ratio\n",
       "                 count  sum      \n",
       "1  недвижимость  10810  782  7.23\n",
       "3       свадьба   2324  186  8.00\n",
       "2   образование   4013  370  9.22\n",
       "0    автомобиль   4306  403  9.36"
      ]
     },
     "metadata": {},
     "output_type": "display_data"
    }
   ],
   "source": [
    "count(data, data['lemmas'], data['debt'])"
   ]
  },
  {
   "cell_type": "markdown",
   "metadata": {},
   "source": [
    "Самая низкая вероятность задолженности по кредиту у людей, взявших кредит на покупку недвижимости, вероятно, так как это крупные суммы для них и обдуманный шаг, так как оформление занимает длительное время.  \n",
    "Чуть чаще имеют задолженность люди, взявшие кредит на свадьбу, вероятно, вызвано тем, что относительно небольшая сумма кредита.  \n",
    "Чаще остальных имели просрочки люди, взявшие кредит на автомобиль - 9,4% и образование - 9,2%."
   ]
  },
  {
   "cell_type": "markdown",
   "metadata": {},
   "source": [
    "## Общий вывод"
   ]
  },
  {
   "cell_type": "markdown",
   "metadata": {},
   "source": [
    "1. Получили таблицу о платежеспособности клиентов банка, оформивших кредит, для анализа на предмет зависимостей:\n",
    "- семейного положения и задолженности по кредиту;\n",
    "- наличия детей и задолженности по кредиту.\n",
    "2. В данных выявлены следующие недостатки:\n",
    "- отсутствующие значения (столбцы: стаж и доход);\n",
    "- некорректные значения (столбцы: стаж и пол);\n",
    "- аномальные значения (столбцы: количество детей);\n",
    "- дублирующиеся строки (столбцы: образование и цель кредита).\n",
    "3. Для исключения недостатков рассмотреть следующие доработки:\n",
    "- обязательность заполнения форм: стаж и доход;\n",
    "- отменить ручной ввод и предоставить выбор из списка в формах: пол, количество детей, образование, цель кредита;\n",
    "- установить проверку на положительные значения в форме стаж, не превыщающие, например, 30.000 дней\n",
    "4. Данные обработаны.\n",
    "5. Выявлено:\n",
    "- что семейное положение влияет на вероятность возникновения задолженности по кредиту. Люди, состояющие в официальном браке ранее или на текущий момент реже остальных имели задолженность по кредиту;\n",
    "- что наличие детей влияет на вероятность возникновения задолженности по кредиту. Люди имеющие детей, чаще имеют просрочки по кредитам.\n",
    "\n"
   ]
  }
 ],
 "metadata": {
  "ExecuteTimeLog": [
   {
    "duration": 777,
    "start_time": "2021-08-09T08:14:49.861Z"
   },
   {
    "duration": 92,
    "start_time": "2021-08-09T08:15:12.605Z"
   },
   {
    "duration": 79,
    "start_time": "2021-08-09T08:16:26.048Z"
   },
   {
    "duration": 77,
    "start_time": "2021-08-09T08:16:54.369Z"
   },
   {
    "duration": 67,
    "start_time": "2021-08-09T08:17:40.977Z"
   },
   {
    "duration": 70,
    "start_time": "2021-08-09T08:27:27.564Z"
   },
   {
    "duration": 82,
    "start_time": "2021-08-09T08:27:39.992Z"
   },
   {
    "duration": 68,
    "start_time": "2021-08-09T08:30:05.066Z"
   },
   {
    "duration": 71,
    "start_time": "2021-08-09T08:30:14.407Z"
   },
   {
    "duration": 84,
    "start_time": "2021-08-09T08:31:50.946Z"
   },
   {
    "duration": 23,
    "start_time": "2021-08-09T08:32:06.037Z"
   },
   {
    "duration": 33,
    "start_time": "2021-08-09T08:33:12.041Z"
   },
   {
    "duration": 69,
    "start_time": "2021-08-09T08:33:52.193Z"
   },
   {
    "duration": 62,
    "start_time": "2021-08-09T08:35:51.536Z"
   },
   {
    "duration": 22,
    "start_time": "2021-08-09T08:35:55.320Z"
   },
   {
    "duration": 15,
    "start_time": "2021-08-09T08:36:01.725Z"
   },
   {
    "duration": 11,
    "start_time": "2021-08-09T08:36:07.000Z"
   },
   {
    "duration": 6,
    "start_time": "2021-08-09T08:40:00.052Z"
   },
   {
    "duration": 8,
    "start_time": "2021-08-09T08:40:22.681Z"
   },
   {
    "duration": 10,
    "start_time": "2021-08-09T08:46:04.083Z"
   },
   {
    "duration": 10,
    "start_time": "2021-08-09T08:46:34.451Z"
   },
   {
    "duration": 10,
    "start_time": "2021-08-09T08:46:53.253Z"
   },
   {
    "duration": 6,
    "start_time": "2021-08-09T08:48:58.498Z"
   },
   {
    "duration": 8,
    "start_time": "2021-08-09T08:52:16.095Z"
   },
   {
    "duration": 5,
    "start_time": "2021-08-09T08:52:46.991Z"
   },
   {
    "duration": 9,
    "start_time": "2021-08-09T08:53:29.150Z"
   },
   {
    "duration": 4,
    "start_time": "2021-08-09T08:54:12.375Z"
   },
   {
    "duration": 15,
    "start_time": "2021-08-09T08:54:34.635Z"
   },
   {
    "duration": 4,
    "start_time": "2021-08-09T08:59:30.892Z"
   },
   {
    "duration": 13,
    "start_time": "2021-08-09T09:02:09.068Z"
   },
   {
    "duration": 20,
    "start_time": "2021-08-09T09:02:22.557Z"
   },
   {
    "duration": 3,
    "start_time": "2021-08-09T09:03:20.854Z"
   },
   {
    "duration": 11,
    "start_time": "2021-08-09T09:03:23.226Z"
   },
   {
    "duration": 20,
    "start_time": "2021-08-09T09:03:26.134Z"
   },
   {
    "duration": 19,
    "start_time": "2021-08-09T09:03:50.919Z"
   },
   {
    "duration": 18,
    "start_time": "2021-08-09T09:04:08.419Z"
   },
   {
    "duration": 20,
    "start_time": "2021-08-09T09:05:31.156Z"
   },
   {
    "duration": 62,
    "start_time": "2021-08-09T09:06:49.194Z"
   },
   {
    "duration": 20,
    "start_time": "2021-08-09T09:06:49.259Z"
   },
   {
    "duration": 17,
    "start_time": "2021-08-09T09:06:49.281Z"
   },
   {
    "duration": 8,
    "start_time": "2021-08-09T09:06:49.301Z"
   },
   {
    "duration": 10,
    "start_time": "2021-08-09T09:06:49.312Z"
   },
   {
    "duration": 9,
    "start_time": "2021-08-09T09:06:49.357Z"
   },
   {
    "duration": 29,
    "start_time": "2021-08-09T09:06:49.368Z"
   },
   {
    "duration": 9,
    "start_time": "2021-08-09T09:06:49.402Z"
   },
   {
    "duration": 5,
    "start_time": "2021-08-09T09:06:49.415Z"
   },
   {
    "duration": 8,
    "start_time": "2021-08-09T09:06:49.456Z"
   },
   {
    "duration": 13,
    "start_time": "2021-08-09T09:06:49.467Z"
   },
   {
    "duration": 7,
    "start_time": "2021-08-09T09:06:49.483Z"
   },
   {
    "duration": 17,
    "start_time": "2021-08-09T09:06:49.492Z"
   },
   {
    "duration": 46,
    "start_time": "2021-08-09T09:06:49.512Z"
   },
   {
    "duration": 4,
    "start_time": "2021-08-09T09:06:49.562Z"
   },
   {
    "duration": 16,
    "start_time": "2021-08-09T09:06:49.569Z"
   },
   {
    "duration": 26,
    "start_time": "2021-08-09T09:06:49.587Z"
   },
   {
    "duration": 47,
    "start_time": "2021-08-09T09:06:49.616Z"
   },
   {
    "duration": 60,
    "start_time": "2021-08-09T09:07:49.073Z"
   },
   {
    "duration": 20,
    "start_time": "2021-08-09T09:07:54.440Z"
   },
   {
    "duration": 14,
    "start_time": "2021-08-09T09:07:59.303Z"
   },
   {
    "duration": 10,
    "start_time": "2021-08-09T09:08:01.569Z"
   },
   {
    "duration": 10,
    "start_time": "2021-08-09T09:08:02.901Z"
   },
   {
    "duration": 10,
    "start_time": "2021-08-09T09:08:03.913Z"
   },
   {
    "duration": 22,
    "start_time": "2021-08-09T09:08:11.356Z"
   },
   {
    "duration": 8,
    "start_time": "2021-08-09T09:08:19.195Z"
   },
   {
    "duration": 5,
    "start_time": "2021-08-09T09:08:20.920Z"
   },
   {
    "duration": 4,
    "start_time": "2021-08-09T09:08:22.213Z"
   },
   {
    "duration": 8,
    "start_time": "2021-08-09T09:08:23.199Z"
   },
   {
    "duration": 5,
    "start_time": "2021-08-09T09:08:24.112Z"
   },
   {
    "duration": 14,
    "start_time": "2021-08-09T09:08:25.512Z"
   },
   {
    "duration": 21,
    "start_time": "2021-08-09T09:08:33.351Z"
   },
   {
    "duration": 4,
    "start_time": "2021-08-09T09:08:35.842Z"
   },
   {
    "duration": 12,
    "start_time": "2021-08-09T09:08:38.204Z"
   },
   {
    "duration": 20,
    "start_time": "2021-08-09T09:08:42.193Z"
   },
   {
    "duration": 19,
    "start_time": "2021-08-09T09:08:44.704Z"
   },
   {
    "duration": 19,
    "start_time": "2021-08-09T09:09:31.909Z"
   },
   {
    "duration": 19,
    "start_time": "2021-08-09T09:10:07.497Z"
   },
   {
    "duration": 17,
    "start_time": "2021-08-09T09:10:13.670Z"
   },
   {
    "duration": 12,
    "start_time": "2021-08-09T09:10:30.050Z"
   },
   {
    "duration": 12,
    "start_time": "2021-08-09T09:10:37.335Z"
   },
   {
    "duration": 60,
    "start_time": "2021-08-09T09:11:21.032Z"
   },
   {
    "duration": 19,
    "start_time": "2021-08-09T09:11:21.437Z"
   },
   {
    "duration": 14,
    "start_time": "2021-08-09T09:11:21.787Z"
   },
   {
    "duration": 11,
    "start_time": "2021-08-09T09:11:22.195Z"
   },
   {
    "duration": 9,
    "start_time": "2021-08-09T09:11:22.800Z"
   },
   {
    "duration": 20,
    "start_time": "2021-08-09T09:11:23.160Z"
   },
   {
    "duration": 23,
    "start_time": "2021-08-09T09:11:26.604Z"
   },
   {
    "duration": 9,
    "start_time": "2021-08-09T09:11:30.738Z"
   },
   {
    "duration": 6,
    "start_time": "2021-08-09T09:11:31.813Z"
   },
   {
    "duration": 5,
    "start_time": "2021-08-09T09:11:32.589Z"
   },
   {
    "duration": 9,
    "start_time": "2021-08-09T09:11:34.186Z"
   },
   {
    "duration": 6,
    "start_time": "2021-08-09T09:11:34.698Z"
   },
   {
    "duration": 15,
    "start_time": "2021-08-09T09:11:39.272Z"
   },
   {
    "duration": 17,
    "start_time": "2021-08-09T09:11:41.136Z"
   },
   {
    "duration": 4,
    "start_time": "2021-08-09T09:11:43.887Z"
   },
   {
    "duration": 14,
    "start_time": "2021-08-09T09:11:45.027Z"
   },
   {
    "duration": 18,
    "start_time": "2021-08-09T09:11:47.672Z"
   },
   {
    "duration": 18,
    "start_time": "2021-08-09T09:11:50.114Z"
   },
   {
    "duration": 5,
    "start_time": "2021-08-09T09:30:35.281Z"
   },
   {
    "duration": 17,
    "start_time": "2021-08-09T09:30:49.544Z"
   },
   {
    "duration": 4,
    "start_time": "2021-08-09T09:31:44.971Z"
   },
   {
    "duration": 5,
    "start_time": "2021-08-09T09:31:46.609Z"
   },
   {
    "duration": 18,
    "start_time": "2021-08-09T09:32:00.233Z"
   },
   {
    "duration": 14,
    "start_time": "2021-08-09T09:32:09.963Z"
   },
   {
    "duration": 10,
    "start_time": "2021-08-09T09:38:25.545Z"
   },
   {
    "duration": 379,
    "start_time": "2021-08-09T09:43:05.162Z"
   },
   {
    "duration": 283,
    "start_time": "2021-08-09T09:43:14.190Z"
   },
   {
    "duration": 15,
    "start_time": "2021-08-09T09:43:19.578Z"
   },
   {
    "duration": 17,
    "start_time": "2021-08-09T09:43:27.604Z"
   },
   {
    "duration": 11,
    "start_time": "2021-08-09T09:43:49.790Z"
   },
   {
    "duration": 33,
    "start_time": "2021-08-09T09:46:06.849Z"
   },
   {
    "duration": 21,
    "start_time": "2021-08-09T09:46:16.433Z"
   },
   {
    "duration": 22,
    "start_time": "2021-08-09T09:46:44.201Z"
   },
   {
    "duration": 41,
    "start_time": "2021-08-09T09:48:15.349Z"
   },
   {
    "duration": 36,
    "start_time": "2021-08-09T09:48:46.374Z"
   },
   {
    "duration": 9,
    "start_time": "2021-08-09T09:52:07.435Z"
   },
   {
    "duration": 355,
    "start_time": "2021-08-09T09:53:58.672Z"
   },
   {
    "duration": 3,
    "start_time": "2021-08-09T09:54:48.885Z"
   },
   {
    "duration": 3,
    "start_time": "2021-08-09T09:54:49.420Z"
   },
   {
    "duration": 248,
    "start_time": "2021-08-09T09:54:50.260Z"
   },
   {
    "duration": 322,
    "start_time": "2021-08-09T10:00:07.510Z"
   },
   {
    "duration": 4,
    "start_time": "2021-08-09T10:05:12.988Z"
   },
   {
    "duration": 273,
    "start_time": "2021-08-09T10:05:25.447Z"
   },
   {
    "duration": 7,
    "start_time": "2021-08-09T10:05:58.281Z"
   },
   {
    "duration": 4,
    "start_time": "2021-08-09T10:15:58.611Z"
   },
   {
    "duration": 5,
    "start_time": "2021-08-09T10:15:59.054Z"
   },
   {
    "duration": 93,
    "start_time": "2021-08-09T10:15:59.782Z"
   },
   {
    "duration": 97,
    "start_time": "2021-08-09T10:16:07.140Z"
   },
   {
    "duration": 5,
    "start_time": "2021-08-09T10:16:47.575Z"
   },
   {
    "duration": 1290,
    "start_time": "2021-08-09T10:17:37.678Z"
   },
   {
    "duration": 472,
    "start_time": "2021-08-09T10:18:38.044Z"
   },
   {
    "duration": 280,
    "start_time": "2021-08-09T10:19:30.199Z"
   },
   {
    "duration": 219,
    "start_time": "2021-08-09T10:20:24.590Z"
   },
   {
    "duration": 286,
    "start_time": "2021-08-09T10:20:30.800Z"
   },
   {
    "duration": 274,
    "start_time": "2021-08-09T10:20:40.525Z"
   },
   {
    "duration": 4092,
    "start_time": "2021-08-09T10:20:48.295Z"
   },
   {
    "duration": 295,
    "start_time": "2021-08-09T10:21:31.279Z"
   },
   {
    "duration": 275,
    "start_time": "2021-08-09T10:21:45.598Z"
   },
   {
    "duration": 268,
    "start_time": "2021-08-09T10:22:05.470Z"
   },
   {
    "duration": 267,
    "start_time": "2021-08-09T10:22:13.947Z"
   },
   {
    "duration": 286,
    "start_time": "2021-08-09T10:22:48.191Z"
   },
   {
    "duration": 4248,
    "start_time": "2021-08-09T10:23:04.466Z"
   },
   {
    "duration": 266,
    "start_time": "2021-08-09T10:23:38.081Z"
   },
   {
    "duration": 272,
    "start_time": "2021-08-09T10:24:07.743Z"
   },
   {
    "duration": 249,
    "start_time": "2021-08-09T10:24:26.478Z"
   },
   {
    "duration": 4215,
    "start_time": "2021-08-09T10:24:32.498Z"
   },
   {
    "duration": 274,
    "start_time": "2021-08-09T10:24:39.208Z"
   },
   {
    "duration": 803,
    "start_time": "2021-08-09T10:25:21.228Z"
   },
   {
    "duration": 266,
    "start_time": "2021-08-09T10:25:29.135Z"
   },
   {
    "duration": 288,
    "start_time": "2021-08-09T10:25:43.600Z"
   },
   {
    "duration": 404,
    "start_time": "2021-08-09T10:26:30.816Z"
   },
   {
    "duration": 270,
    "start_time": "2021-08-09T10:26:35.298Z"
   },
   {
    "duration": 7,
    "start_time": "2021-08-09T10:27:12.267Z"
   },
   {
    "duration": 4,
    "start_time": "2021-08-09T10:27:19.523Z"
   },
   {
    "duration": 293,
    "start_time": "2021-08-09T10:27:35.077Z"
   },
   {
    "duration": 295,
    "start_time": "2021-08-09T10:28:17.294Z"
   },
   {
    "duration": 267,
    "start_time": "2021-08-09T10:28:17.655Z"
   },
   {
    "duration": 243,
    "start_time": "2021-08-09T10:29:50.736Z"
   },
   {
    "duration": 3,
    "start_time": "2021-08-09T10:39:03.084Z"
   },
   {
    "duration": 4,
    "start_time": "2021-08-09T10:39:03.640Z"
   },
   {
    "duration": 260,
    "start_time": "2021-08-09T10:39:06.946Z"
   },
   {
    "duration": 877,
    "start_time": "2021-08-09T10:51:48.568Z"
   },
   {
    "duration": 5,
    "start_time": "2021-08-09T10:52:18.000Z"
   },
   {
    "duration": 5,
    "start_time": "2021-08-09T10:52:37.140Z"
   },
   {
    "duration": 333,
    "start_time": "2021-08-09T10:53:05.741Z"
   },
   {
    "duration": 4,
    "start_time": "2021-08-09T10:53:21.525Z"
   },
   {
    "duration": 991,
    "start_time": "2021-08-09T10:53:24.260Z"
   },
   {
    "duration": 5,
    "start_time": "2021-08-09T10:53:40.802Z"
   },
   {
    "duration": 6,
    "start_time": "2021-08-09T10:53:49.706Z"
   },
   {
    "duration": 5,
    "start_time": "2021-08-09T10:54:14.769Z"
   },
   {
    "duration": 2938,
    "start_time": "2021-08-09T10:54:19.254Z"
   },
   {
    "duration": 22,
    "start_time": "2021-08-09T10:54:34.068Z"
   },
   {
    "duration": 5,
    "start_time": "2021-08-09T10:56:46.114Z"
   },
   {
    "duration": 4,
    "start_time": "2021-08-09T10:56:49.742Z"
   },
   {
    "duration": 4,
    "start_time": "2021-08-09T10:57:18.007Z"
   },
   {
    "duration": 5,
    "start_time": "2021-08-09T10:57:19.969Z"
   },
   {
    "duration": 4,
    "start_time": "2021-08-09T10:57:38.597Z"
   },
   {
    "duration": 5,
    "start_time": "2021-08-09T10:57:40.570Z"
   },
   {
    "duration": 5,
    "start_time": "2021-08-09T10:57:50.131Z"
   },
   {
    "duration": 2999,
    "start_time": "2021-08-09T10:57:51.223Z"
   },
   {
    "duration": 17,
    "start_time": "2021-08-09T10:57:54.224Z"
   },
   {
    "duration": 12150,
    "start_time": "2021-08-09T10:59:52.022Z"
   },
   {
    "duration": 4,
    "start_time": "2021-08-09T11:00:05.546Z"
   },
   {
    "duration": 5,
    "start_time": "2021-08-09T11:00:06.029Z"
   },
   {
    "duration": 316,
    "start_time": "2021-08-09T11:00:54.567Z"
   },
   {
    "duration": 12228,
    "start_time": "2021-08-09T11:01:06.483Z"
   },
   {
    "duration": 6,
    "start_time": "2021-08-09T11:04:04.996Z"
   },
   {
    "duration": 3007,
    "start_time": "2021-08-09T11:04:06.537Z"
   },
   {
    "duration": 22,
    "start_time": "2021-08-09T11:04:09.557Z"
   },
   {
    "duration": 17919,
    "start_time": "2021-08-09T11:05:21.440Z"
   },
   {
    "duration": 23498,
    "start_time": "2021-08-09T11:05:44.685Z"
   },
   {
    "duration": 18119,
    "start_time": "2021-08-09T11:07:21.300Z"
   },
   {
    "duration": 18075,
    "start_time": "2021-08-09T11:09:05.011Z"
   },
   {
    "duration": 18178,
    "start_time": "2021-08-09T11:09:38.686Z"
   },
   {
    "duration": 5,
    "start_time": "2021-08-09T11:10:30.513Z"
   },
   {
    "duration": 3169,
    "start_time": "2021-08-09T11:10:30.521Z"
   },
   {
    "duration": 18,
    "start_time": "2021-08-09T11:10:33.693Z"
   },
   {
    "duration": 5,
    "start_time": "2021-08-09T11:10:52.393Z"
   },
   {
    "duration": 2974,
    "start_time": "2021-08-09T11:10:53.068Z"
   },
   {
    "duration": 17,
    "start_time": "2021-08-09T11:10:56.807Z"
   },
   {
    "duration": 17790,
    "start_time": "2021-08-09T11:11:26.103Z"
   },
   {
    "duration": 9,
    "start_time": "2021-08-09T11:12:56.058Z"
   },
   {
    "duration": 1301,
    "start_time": "2021-08-09T11:12:56.959Z"
   },
   {
    "duration": 19816,
    "start_time": "2021-08-09T11:14:11.148Z"
   },
   {
    "duration": 23,
    "start_time": "2021-08-09T11:14:30.968Z"
   },
   {
    "duration": 26494,
    "start_time": "2021-08-09T11:16:03.367Z"
   },
   {
    "duration": 19,
    "start_time": "2021-08-09T11:16:39.090Z"
   },
   {
    "duration": 5,
    "start_time": "2021-08-09T11:16:52.529Z"
   },
   {
    "duration": 3284,
    "start_time": "2021-08-09T11:17:02.707Z"
   },
   {
    "duration": 17,
    "start_time": "2021-08-09T11:17:08.613Z"
   },
   {
    "duration": 5,
    "start_time": "2021-08-09T11:17:20.827Z"
   },
   {
    "duration": 66149,
    "start_time": "2021-08-09T11:17:24.382Z"
   },
   {
    "duration": 29,
    "start_time": "2021-08-09T11:18:30.533Z"
   },
   {
    "duration": 8,
    "start_time": "2021-08-09T11:19:16.658Z"
   },
   {
    "duration": 66874,
    "start_time": "2021-08-09T11:19:19.458Z"
   },
   {
    "duration": 19,
    "start_time": "2021-08-09T11:20:32.197Z"
   },
   {
    "duration": 8,
    "start_time": "2021-08-09T11:26:12.964Z"
   },
   {
    "duration": 18054,
    "start_time": "2021-08-09T11:26:52.963Z"
   },
   {
    "duration": 4,
    "start_time": "2021-08-09T11:30:59.091Z"
   },
   {
    "duration": 568,
    "start_time": "2021-08-09T11:31:03.033Z"
   },
   {
    "duration": 5,
    "start_time": "2021-08-09T11:31:53.007Z"
   },
   {
    "duration": 615,
    "start_time": "2021-08-09T11:31:59.968Z"
   },
   {
    "duration": 6,
    "start_time": "2021-08-09T11:33:29.567Z"
   },
   {
    "duration": 4744,
    "start_time": "2021-08-09T11:33:38.091Z"
   },
   {
    "duration": 19,
    "start_time": "2021-08-09T11:33:44.876Z"
   },
   {
    "duration": 4,
    "start_time": "2021-08-09T11:34:01.644Z"
   },
   {
    "duration": 4,
    "start_time": "2021-08-09T11:34:12.271Z"
   },
   {
    "duration": 5191,
    "start_time": "2021-08-09T11:34:19.142Z"
   },
   {
    "duration": 18,
    "start_time": "2021-08-09T11:34:40.083Z"
   },
   {
    "duration": 5,
    "start_time": "2021-08-09T11:35:10.306Z"
   },
   {
    "duration": 3389,
    "start_time": "2021-08-09T11:35:17.367Z"
   },
   {
    "duration": 18,
    "start_time": "2021-08-09T11:35:23.401Z"
   },
   {
    "duration": 10,
    "start_time": "2021-08-09T11:36:11.130Z"
   },
   {
    "duration": 26,
    "start_time": "2021-08-09T12:19:57.478Z"
   },
   {
    "duration": 30,
    "start_time": "2021-08-09T12:22:37.166Z"
   },
   {
    "duration": 26,
    "start_time": "2021-08-09T12:23:13.589Z"
   },
   {
    "duration": 9,
    "start_time": "2021-08-09T12:24:12.279Z"
   },
   {
    "duration": 17,
    "start_time": "2021-08-09T12:24:30.490Z"
   },
   {
    "duration": 11,
    "start_time": "2021-08-09T12:30:22.724Z"
   },
   {
    "duration": 9,
    "start_time": "2021-08-09T12:31:16.474Z"
   },
   {
    "duration": 9,
    "start_time": "2021-08-09T12:33:04.292Z"
   },
   {
    "duration": 8,
    "start_time": "2021-08-09T12:33:37.021Z"
   },
   {
    "duration": 8,
    "start_time": "2021-08-09T12:34:26.569Z"
   },
   {
    "duration": 9,
    "start_time": "2021-08-09T12:36:50.601Z"
   },
   {
    "duration": 7,
    "start_time": "2021-08-09T12:37:40.186Z"
   },
   {
    "duration": 6,
    "start_time": "2021-08-09T12:38:13.716Z"
   },
   {
    "duration": 7,
    "start_time": "2021-08-09T12:38:28.319Z"
   },
   {
    "duration": 7,
    "start_time": "2021-08-09T12:38:39.523Z"
   },
   {
    "duration": 7,
    "start_time": "2021-08-09T12:39:22.145Z"
   },
   {
    "duration": 13,
    "start_time": "2021-08-09T12:39:37.361Z"
   },
   {
    "duration": 9,
    "start_time": "2021-08-09T12:40:52.826Z"
   },
   {
    "duration": 12,
    "start_time": "2021-08-09T12:41:06.010Z"
   },
   {
    "duration": 13,
    "start_time": "2021-08-09T12:42:00.797Z"
   },
   {
    "duration": 19,
    "start_time": "2021-08-09T12:42:29.566Z"
   },
   {
    "duration": 65,
    "start_time": "2021-08-09T12:43:50.534Z"
   },
   {
    "duration": 19,
    "start_time": "2021-08-09T12:43:50.999Z"
   },
   {
    "duration": 15,
    "start_time": "2021-08-09T12:43:51.514Z"
   },
   {
    "duration": 10,
    "start_time": "2021-08-09T12:43:52.314Z"
   },
   {
    "duration": 10,
    "start_time": "2021-08-09T12:43:52.958Z"
   },
   {
    "duration": 10,
    "start_time": "2021-08-09T12:43:53.422Z"
   },
   {
    "duration": 9,
    "start_time": "2021-08-09T12:43:53.962Z"
   },
   {
    "duration": 7,
    "start_time": "2021-08-09T12:43:54.474Z"
   },
   {
    "duration": 7,
    "start_time": "2021-08-09T12:43:55.118Z"
   },
   {
    "duration": 5,
    "start_time": "2021-08-09T12:43:55.986Z"
   },
   {
    "duration": 10,
    "start_time": "2021-08-09T12:43:56.602Z"
   },
   {
    "duration": 22,
    "start_time": "2021-08-09T12:44:00.438Z"
   },
   {
    "duration": 7,
    "start_time": "2021-08-09T12:44:01.556Z"
   },
   {
    "duration": 5,
    "start_time": "2021-08-09T12:44:02.600Z"
   },
   {
    "duration": 5,
    "start_time": "2021-08-09T12:44:03.220Z"
   },
   {
    "duration": 8,
    "start_time": "2021-08-09T12:44:03.776Z"
   },
   {
    "duration": 5,
    "start_time": "2021-08-09T12:44:04.491Z"
   },
   {
    "duration": 22,
    "start_time": "2021-08-09T12:44:05.194Z"
   },
   {
    "duration": 17,
    "start_time": "2021-08-09T12:44:06.012Z"
   },
   {
    "duration": 5,
    "start_time": "2021-08-09T12:44:07.290Z"
   },
   {
    "duration": 14,
    "start_time": "2021-08-09T12:44:08.078Z"
   },
   {
    "duration": 17,
    "start_time": "2021-08-09T12:44:09.010Z"
   },
   {
    "duration": 18,
    "start_time": "2021-08-09T12:44:10.802Z"
   },
   {
    "duration": 19,
    "start_time": "2021-08-09T12:44:11.717Z"
   },
   {
    "duration": 6,
    "start_time": "2021-08-09T12:44:14.513Z"
   },
   {
    "duration": 5,
    "start_time": "2021-08-09T12:44:16.476Z"
   },
   {
    "duration": 16,
    "start_time": "2021-08-09T12:44:17.588Z"
   },
   {
    "duration": 17,
    "start_time": "2021-08-09T12:44:22.347Z"
   },
   {
    "duration": 10,
    "start_time": "2021-08-09T12:44:38.895Z"
   },
   {
    "duration": 16,
    "start_time": "2021-08-09T12:44:39.763Z"
   },
   {
    "duration": 11,
    "start_time": "2021-08-09T12:44:42.003Z"
   },
   {
    "duration": 27,
    "start_time": "2021-08-09T12:44:44.269Z"
   },
   {
    "duration": 5,
    "start_time": "2021-08-09T12:44:45.865Z"
   },
   {
    "duration": 4384,
    "start_time": "2021-08-09T12:44:46.444Z"
   },
   {
    "duration": 12,
    "start_time": "2021-08-09T12:44:53.226Z"
   },
   {
    "duration": 241,
    "start_time": "2021-08-09T12:51:39.297Z"
   },
   {
    "duration": 13,
    "start_time": "2021-08-09T12:51:46.798Z"
   },
   {
    "duration": 44,
    "start_time": "2021-08-09T12:52:30.180Z"
   },
   {
    "duration": 8,
    "start_time": "2021-08-09T12:55:52.987Z"
   },
   {
    "duration": 14,
    "start_time": "2021-08-09T12:56:23.950Z"
   },
   {
    "duration": -4833,
    "start_time": "2021-08-09T12:58:09.309Z"
   },
   {
    "duration": 7312,
    "start_time": "2021-08-09T12:58:23.093Z"
   },
   {
    "duration": 13,
    "start_time": "2021-08-09T12:59:34.947Z"
   },
   {
    "duration": 10,
    "start_time": "2021-08-09T12:59:49.321Z"
   },
   {
    "duration": 13,
    "start_time": "2021-08-09T12:59:53.151Z"
   },
   {
    "duration": 87,
    "start_time": "2021-08-09T13:00:21.689Z"
   },
   {
    "duration": 269,
    "start_time": "2021-08-09T13:00:28.815Z"
   },
   {
    "duration": 250,
    "start_time": "2021-08-09T13:00:48.030Z"
   },
   {
    "duration": 6608,
    "start_time": "2021-08-09T13:01:08.169Z"
   },
   {
    "duration": 7,
    "start_time": "2021-08-09T13:02:03.585Z"
   },
   {
    "duration": 15,
    "start_time": "2021-08-09T13:02:58.351Z"
   },
   {
    "duration": 7,
    "start_time": "2021-08-09T13:03:08.721Z"
   },
   {
    "duration": 16,
    "start_time": "2021-08-09T13:03:56.207Z"
   },
   {
    "duration": 754,
    "start_time": "2021-08-09T13:03:58.671Z"
   },
   {
    "duration": 259,
    "start_time": "2021-08-09T13:04:28.318Z"
   },
   {
    "duration": 276,
    "start_time": "2021-08-09T13:05:22.067Z"
   },
   {
    "duration": 61,
    "start_time": "2021-08-09T13:06:00.843Z"
   },
   {
    "duration": 21,
    "start_time": "2021-08-09T13:06:01.520Z"
   },
   {
    "duration": 16,
    "start_time": "2021-08-09T13:06:02.031Z"
   },
   {
    "duration": 10,
    "start_time": "2021-08-09T13:06:02.603Z"
   },
   {
    "duration": 9,
    "start_time": "2021-08-09T13:06:03.161Z"
   },
   {
    "duration": 10,
    "start_time": "2021-08-09T13:06:03.688Z"
   },
   {
    "duration": 10,
    "start_time": "2021-08-09T13:06:04.269Z"
   },
   {
    "duration": 6,
    "start_time": "2021-08-09T13:06:04.916Z"
   },
   {
    "duration": 6,
    "start_time": "2021-08-09T13:06:05.629Z"
   },
   {
    "duration": 6,
    "start_time": "2021-08-09T13:06:06.308Z"
   },
   {
    "duration": 10,
    "start_time": "2021-08-09T13:06:07.000Z"
   },
   {
    "duration": 22,
    "start_time": "2021-08-09T13:06:10.305Z"
   },
   {
    "duration": 8,
    "start_time": "2021-08-09T13:06:10.965Z"
   },
   {
    "duration": 5,
    "start_time": "2021-08-09T13:06:11.624Z"
   },
   {
    "duration": 5,
    "start_time": "2021-08-09T13:06:12.254Z"
   },
   {
    "duration": 7,
    "start_time": "2021-08-09T13:06:12.934Z"
   },
   {
    "duration": 4,
    "start_time": "2021-08-09T13:06:15.822Z"
   },
   {
    "duration": 14,
    "start_time": "2021-08-09T13:06:16.814Z"
   },
   {
    "duration": 18,
    "start_time": "2021-08-09T13:06:20.486Z"
   },
   {
    "duration": 5,
    "start_time": "2021-08-09T13:06:23.731Z"
   },
   {
    "duration": 14,
    "start_time": "2021-08-09T13:06:24.295Z"
   },
   {
    "duration": 17,
    "start_time": "2021-08-09T13:06:25.844Z"
   },
   {
    "duration": 18,
    "start_time": "2021-08-09T13:06:29.537Z"
   },
   {
    "duration": 19,
    "start_time": "2021-08-09T13:06:30.518Z"
   },
   {
    "duration": 9,
    "start_time": "2021-08-09T13:06:35.290Z"
   },
   {
    "duration": 7,
    "start_time": "2021-08-09T13:06:36.750Z"
   },
   {
    "duration": 278,
    "start_time": "2021-08-09T13:06:46.871Z"
   },
   {
    "duration": 13,
    "start_time": "2021-08-09T13:07:15.706Z"
   },
   {
    "duration": 270,
    "start_time": "2021-08-09T13:07:46.188Z"
   },
   {
    "duration": 255,
    "start_time": "2021-08-09T13:08:13.597Z"
   },
   {
    "duration": 264,
    "start_time": "2021-08-09T13:08:42.862Z"
   },
   {
    "duration": 275,
    "start_time": "2021-08-09T13:08:58.066Z"
   },
   {
    "duration": 274,
    "start_time": "2021-08-09T13:09:13.850Z"
   },
   {
    "duration": 266,
    "start_time": "2021-08-09T13:09:29.508Z"
   },
   {
    "duration": 246,
    "start_time": "2021-08-09T13:09:35.845Z"
   },
   {
    "duration": 298,
    "start_time": "2021-08-09T13:10:03.630Z"
   },
   {
    "duration": 336,
    "start_time": "2021-08-09T13:10:14.088Z"
   },
   {
    "duration": 322,
    "start_time": "2021-08-09T15:10:44.284Z"
   },
   {
    "duration": 890,
    "start_time": "2021-08-09T15:11:25.175Z"
   },
   {
    "duration": 28,
    "start_time": "2021-08-09T15:11:26.068Z"
   },
   {
    "duration": 9,
    "start_time": "2021-08-09T15:13:47.877Z"
   },
   {
    "duration": 11,
    "start_time": "2021-08-09T15:14:59.427Z"
   },
   {
    "duration": 7,
    "start_time": "2021-08-09T15:15:21.717Z"
   },
   {
    "duration": 7,
    "start_time": "2021-08-09T15:16:07.114Z"
   },
   {
    "duration": 8,
    "start_time": "2021-08-09T15:16:30.662Z"
   },
   {
    "duration": 12,
    "start_time": "2021-08-09T15:17:00.938Z"
   },
   {
    "duration": 9,
    "start_time": "2021-08-09T15:17:51.421Z"
   },
   {
    "duration": 7,
    "start_time": "2021-08-09T15:18:27.468Z"
   },
   {
    "duration": 14,
    "start_time": "2021-08-09T15:18:55.322Z"
   },
   {
    "duration": 10,
    "start_time": "2021-08-09T15:19:36.251Z"
   },
   {
    "duration": 8,
    "start_time": "2021-08-09T15:20:12.741Z"
   },
   {
    "duration": 12,
    "start_time": "2021-08-09T15:21:00.787Z"
   },
   {
    "duration": 10,
    "start_time": "2021-08-09T15:21:20.947Z"
   },
   {
    "duration": 19,
    "start_time": "2021-08-09T15:24:05.099Z"
   },
   {
    "duration": 12,
    "start_time": "2021-08-09T15:24:45.803Z"
   },
   {
    "duration": 20,
    "start_time": "2021-08-09T15:27:37.427Z"
   },
   {
    "duration": 815,
    "start_time": "2021-08-09T15:27:48.050Z"
   },
   {
    "duration": 27,
    "start_time": "2021-08-09T15:27:49.303Z"
   },
   {
    "duration": 19,
    "start_time": "2021-08-09T15:27:51.207Z"
   },
   {
    "duration": 8,
    "start_time": "2021-08-09T15:27:52.307Z"
   },
   {
    "duration": 12,
    "start_time": "2021-08-09T15:27:52.850Z"
   },
   {
    "duration": 6,
    "start_time": "2021-08-09T15:27:53.446Z"
   },
   {
    "duration": 7,
    "start_time": "2021-08-09T15:27:54.506Z"
   },
   {
    "duration": 9,
    "start_time": "2021-08-09T15:27:54.967Z"
   },
   {
    "duration": 9,
    "start_time": "2021-08-09T15:27:55.438Z"
   },
   {
    "duration": 6,
    "start_time": "2021-08-09T15:27:55.923Z"
   },
   {
    "duration": 10,
    "start_time": "2021-08-09T15:27:56.414Z"
   },
   {
    "duration": 10,
    "start_time": "2021-08-09T15:27:56.905Z"
   },
   {
    "duration": 10,
    "start_time": "2021-08-09T15:27:57.516Z"
   },
   {
    "duration": 12,
    "start_time": "2021-08-09T15:27:58.160Z"
   },
   {
    "duration": 10,
    "start_time": "2021-08-09T15:27:58.937Z"
   },
   {
    "duration": 21,
    "start_time": "2021-08-09T15:28:02.080Z"
   },
   {
    "duration": 7,
    "start_time": "2021-08-09T15:28:03.944Z"
   },
   {
    "duration": 5,
    "start_time": "2021-08-09T15:28:04.932Z"
   },
   {
    "duration": 5,
    "start_time": "2021-08-09T15:28:05.418Z"
   },
   {
    "duration": 8,
    "start_time": "2021-08-09T15:28:05.858Z"
   },
   {
    "duration": 4,
    "start_time": "2021-08-09T15:28:06.730Z"
   },
   {
    "duration": 14,
    "start_time": "2021-08-09T15:28:11.078Z"
   },
   {
    "duration": 17,
    "start_time": "2021-08-09T15:28:11.982Z"
   },
   {
    "duration": 5,
    "start_time": "2021-08-09T15:28:13.874Z"
   },
   {
    "duration": 17,
    "start_time": "2021-08-09T15:28:14.473Z"
   },
   {
    "duration": 17,
    "start_time": "2021-08-09T15:28:17.456Z"
   },
   {
    "duration": 19,
    "start_time": "2021-08-09T15:28:18.348Z"
   },
   {
    "duration": 10,
    "start_time": "2021-08-09T15:28:22.480Z"
   },
   {
    "duration": 8,
    "start_time": "2021-08-09T15:30:08.531Z"
   },
   {
    "duration": 5,
    "start_time": "2021-08-09T15:31:00.645Z"
   },
   {
    "duration": 6,
    "start_time": "2021-08-09T15:31:15.902Z"
   },
   {
    "duration": 6,
    "start_time": "2021-08-09T15:33:24.033Z"
   },
   {
    "duration": 8,
    "start_time": "2021-08-09T15:35:01.151Z"
   },
   {
    "duration": 6,
    "start_time": "2021-08-09T15:35:54.322Z"
   },
   {
    "duration": 5,
    "start_time": "2021-08-09T15:36:12.893Z"
   },
   {
    "duration": 5,
    "start_time": "2021-08-09T15:36:13.253Z"
   },
   {
    "duration": 8,
    "start_time": "2021-08-09T15:36:13.629Z"
   },
   {
    "duration": 15,
    "start_time": "2021-08-09T15:38:52.677Z"
   },
   {
    "duration": 59,
    "start_time": "2021-08-09T15:41:02.210Z"
   },
   {
    "duration": 738,
    "start_time": "2021-08-09T15:41:50.709Z"
   },
   {
    "duration": 26,
    "start_time": "2021-08-09T15:41:51.450Z"
   },
   {
    "duration": 28,
    "start_time": "2021-08-09T15:41:51.479Z"
   },
   {
    "duration": 11,
    "start_time": "2021-08-09T15:41:51.510Z"
   },
   {
    "duration": 11,
    "start_time": "2021-08-09T15:41:51.677Z"
   },
   {
    "duration": 6,
    "start_time": "2021-08-09T15:41:51.851Z"
   },
   {
    "duration": 6,
    "start_time": "2021-08-09T15:41:52.262Z"
   },
   {
    "duration": 9,
    "start_time": "2021-08-09T15:41:52.459Z"
   },
   {
    "duration": 10,
    "start_time": "2021-08-09T15:41:52.658Z"
   },
   {
    "duration": 6,
    "start_time": "2021-08-09T15:41:52.847Z"
   },
   {
    "duration": 10,
    "start_time": "2021-08-09T15:41:53.043Z"
   },
   {
    "duration": 10,
    "start_time": "2021-08-09T15:41:53.219Z"
   },
   {
    "duration": 8,
    "start_time": "2021-08-09T15:41:53.587Z"
   },
   {
    "duration": 10,
    "start_time": "2021-08-09T15:41:53.915Z"
   },
   {
    "duration": 11,
    "start_time": "2021-08-09T15:41:54.411Z"
   },
   {
    "duration": 19,
    "start_time": "2021-08-09T15:41:57.087Z"
   },
   {
    "duration": 8,
    "start_time": "2021-08-09T15:41:58.951Z"
   },
   {
    "duration": 5,
    "start_time": "2021-08-09T15:41:59.319Z"
   },
   {
    "duration": 5,
    "start_time": "2021-08-09T15:41:59.706Z"
   },
   {
    "duration": 7,
    "start_time": "2021-08-09T15:42:00.031Z"
   },
   {
    "duration": 5,
    "start_time": "2021-08-09T15:42:00.326Z"
   },
   {
    "duration": 14,
    "start_time": "2021-08-09T15:42:00.893Z"
   },
   {
    "duration": 19,
    "start_time": "2021-08-09T15:42:01.581Z"
   },
   {
    "duration": 4,
    "start_time": "2021-08-09T15:42:03.085Z"
   },
   {
    "duration": 20,
    "start_time": "2021-08-09T15:42:03.749Z"
   },
   {
    "duration": 17,
    "start_time": "2021-08-09T15:42:04.769Z"
   },
   {
    "duration": 18,
    "start_time": "2021-08-09T15:42:05.249Z"
   },
   {
    "duration": 6,
    "start_time": "2021-08-09T15:42:05.741Z"
   },
   {
    "duration": 7,
    "start_time": "2021-08-09T15:42:06.465Z"
   },
   {
    "duration": 5,
    "start_time": "2021-08-09T15:42:09.445Z"
   },
   {
    "duration": 7,
    "start_time": "2021-08-09T15:42:10.666Z"
   },
   {
    "duration": 9,
    "start_time": "2021-08-09T15:42:11.478Z"
   },
   {
    "duration": 6,
    "start_time": "2021-08-09T15:42:12.514Z"
   },
   {
    "duration": 4,
    "start_time": "2021-08-09T15:42:13.279Z"
   },
   {
    "duration": 12,
    "start_time": "2021-08-09T15:42:14.503Z"
   },
   {
    "duration": 22,
    "start_time": "2021-08-09T15:42:18.819Z"
   },
   {
    "duration": 6,
    "start_time": "2021-08-09T15:42:19.253Z"
   },
   {
    "duration": 6,
    "start_time": "2021-08-09T15:42:20.021Z"
   },
   {
    "duration": 27,
    "start_time": "2021-08-09T15:42:21.133Z"
   },
   {
    "duration": 23,
    "start_time": "2021-08-09T15:42:27.632Z"
   },
   {
    "duration": 80,
    "start_time": "2021-08-09T15:42:34.097Z"
   },
   {
    "duration": 67,
    "start_time": "2021-08-09T15:43:20.198Z"
   },
   {
    "duration": 43,
    "start_time": "2021-08-09T15:49:24.267Z"
   },
   {
    "duration": 45,
    "start_time": "2021-08-09T15:50:00.038Z"
   },
   {
    "duration": 50,
    "start_time": "2021-08-09T15:50:30.717Z"
   },
   {
    "duration": 44,
    "start_time": "2021-08-09T15:50:58.724Z"
   },
   {
    "duration": 35,
    "start_time": "2021-08-09T15:52:53.240Z"
   },
   {
    "duration": 27,
    "start_time": "2021-08-09T15:55:22.274Z"
   },
   {
    "duration": 47,
    "start_time": "2021-08-09T15:55:41.010Z"
   },
   {
    "duration": 26,
    "start_time": "2021-08-09T15:55:44.474Z"
   },
   {
    "duration": 21,
    "start_time": "2021-08-09T15:55:52.427Z"
   },
   {
    "duration": 49,
    "start_time": "2021-08-09T15:57:25.641Z"
   },
   {
    "duration": 25,
    "start_time": "2021-08-09T15:58:00.796Z"
   },
   {
    "duration": 14,
    "start_time": "2021-08-09T15:58:15.316Z"
   },
   {
    "duration": 14,
    "start_time": "2021-08-09T15:58:59.525Z"
   },
   {
    "duration": 91,
    "start_time": "2021-08-09T16:12:58.346Z"
   },
   {
    "duration": 25,
    "start_time": "2021-08-09T16:12:58.761Z"
   },
   {
    "duration": 22,
    "start_time": "2021-08-09T16:12:59.257Z"
   },
   {
    "duration": 10,
    "start_time": "2021-08-09T16:12:59.685Z"
   },
   {
    "duration": 14,
    "start_time": "2021-08-09T16:13:00.109Z"
   },
   {
    "duration": 8,
    "start_time": "2021-08-09T16:13:00.523Z"
   },
   {
    "duration": 7,
    "start_time": "2021-08-09T16:13:01.415Z"
   },
   {
    "duration": 13,
    "start_time": "2021-08-09T16:13:01.783Z"
   },
   {
    "duration": 10,
    "start_time": "2021-08-09T16:13:02.182Z"
   },
   {
    "duration": 6,
    "start_time": "2021-08-09T16:13:02.562Z"
   },
   {
    "duration": 9,
    "start_time": "2021-08-09T16:13:02.971Z"
   },
   {
    "duration": 10,
    "start_time": "2021-08-09T16:13:03.396Z"
   },
   {
    "duration": 8,
    "start_time": "2021-08-09T16:13:03.803Z"
   },
   {
    "duration": 13,
    "start_time": "2021-08-09T16:13:04.222Z"
   },
   {
    "duration": 10,
    "start_time": "2021-08-09T16:13:04.630Z"
   },
   {
    "duration": 21,
    "start_time": "2021-08-09T16:13:06.595Z"
   },
   {
    "duration": 8,
    "start_time": "2021-08-09T16:13:07.043Z"
   },
   {
    "duration": 5,
    "start_time": "2021-08-09T16:13:07.506Z"
   },
   {
    "duration": 5,
    "start_time": "2021-08-09T16:13:08.022Z"
   },
   {
    "duration": 8,
    "start_time": "2021-08-09T16:13:08.506Z"
   },
   {
    "duration": 4,
    "start_time": "2021-08-09T16:13:09.011Z"
   },
   {
    "duration": 15,
    "start_time": "2021-08-09T16:13:09.496Z"
   },
   {
    "duration": 18,
    "start_time": "2021-08-09T16:13:10.061Z"
   },
   {
    "duration": 5,
    "start_time": "2021-08-09T16:13:10.688Z"
   },
   {
    "duration": 21,
    "start_time": "2021-08-09T16:13:11.224Z"
   },
   {
    "duration": 18,
    "start_time": "2021-08-09T16:13:11.824Z"
   },
   {
    "duration": 19,
    "start_time": "2021-08-09T16:13:16.428Z"
   },
   {
    "duration": 6,
    "start_time": "2021-08-09T16:13:16.976Z"
   },
   {
    "duration": 6,
    "start_time": "2021-08-09T16:13:17.772Z"
   },
   {
    "duration": 6,
    "start_time": "2021-08-09T16:13:18.997Z"
   },
   {
    "duration": 7,
    "start_time": "2021-08-09T16:13:19.493Z"
   },
   {
    "duration": 9,
    "start_time": "2021-08-09T16:13:20.373Z"
   },
   {
    "duration": 5,
    "start_time": "2021-08-09T16:13:20.822Z"
   },
   {
    "duration": 5,
    "start_time": "2021-08-09T16:13:23.542Z"
   },
   {
    "duration": 9,
    "start_time": "2021-08-09T16:13:29.115Z"
   },
   {
    "duration": 15,
    "start_time": "2021-08-09T16:13:30.759Z"
   },
   {
    "duration": 5,
    "start_time": "2021-08-09T16:13:31.228Z"
   },
   {
    "duration": 6,
    "start_time": "2021-08-09T16:13:31.775Z"
   },
   {
    "duration": 17,
    "start_time": "2021-08-09T16:13:32.276Z"
   },
   {
    "duration": 15,
    "start_time": "2021-08-09T16:13:32.952Z"
   },
   {
    "duration": 46,
    "start_time": "2021-08-09T16:13:36.000Z"
   },
   {
    "duration": 24,
    "start_time": "2021-08-09T16:13:37.054Z"
   },
   {
    "duration": 28,
    "start_time": "2021-08-09T16:13:38.549Z"
   },
   {
    "duration": 15,
    "start_time": "2021-08-09T16:13:39.245Z"
   },
   {
    "duration": 11,
    "start_time": "2021-08-09T16:13:40.625Z"
   },
   {
    "duration": 17,
    "start_time": "2021-08-09T16:13:42.045Z"
   },
   {
    "duration": 11,
    "start_time": "2021-08-09T16:13:42.829Z"
   },
   {
    "duration": 9,
    "start_time": "2021-08-09T16:13:46.586Z"
   },
   {
    "duration": 5,
    "start_time": "2021-08-09T16:13:49.367Z"
   },
   {
    "duration": 4671,
    "start_time": "2021-08-09T16:13:51.147Z"
   },
   {
    "duration": 12,
    "start_time": "2021-08-09T16:13:59.449Z"
   },
   {
    "duration": 19,
    "start_time": "2021-08-09T16:14:23.482Z"
   },
   {
    "duration": 10,
    "start_time": "2021-08-09T16:16:31.987Z"
   },
   {
    "duration": 76,
    "start_time": "2021-08-09T16:20:27.862Z"
   },
   {
    "duration": 5,
    "start_time": "2021-08-09T16:32:24.114Z"
   },
   {
    "duration": 14,
    "start_time": "2021-08-09T16:32:26.426Z"
   },
   {
    "duration": 19,
    "start_time": "2021-08-09T16:32:40.418Z"
   },
   {
    "duration": 4,
    "start_time": "2021-08-09T16:33:32.295Z"
   },
   {
    "duration": 13,
    "start_time": "2021-08-09T16:33:33.403Z"
   },
   {
    "duration": 19,
    "start_time": "2021-08-09T16:33:34.039Z"
   },
   {
    "duration": 4,
    "start_time": "2021-08-09T16:42:47.500Z"
   },
   {
    "duration": 15,
    "start_time": "2021-08-09T16:43:36.638Z"
   },
   {
    "duration": 20,
    "start_time": "2021-08-09T16:43:59.681Z"
   },
   {
    "duration": 10,
    "start_time": "2021-08-09T16:45:33.765Z"
   },
   {
    "duration": 10,
    "start_time": "2021-08-09T16:46:30.889Z"
   },
   {
    "duration": 360,
    "start_time": "2021-08-09T16:55:12.434Z"
   },
   {
    "duration": 17,
    "start_time": "2021-08-09T16:55:26.234Z"
   },
   {
    "duration": 6,
    "start_time": "2021-08-09T16:59:28.533Z"
   },
   {
    "duration": 8,
    "start_time": "2021-08-09T16:59:35.149Z"
   },
   {
    "duration": 7,
    "start_time": "2021-08-09T16:59:46.098Z"
   },
   {
    "duration": 24,
    "start_time": "2021-08-09T17:00:00.255Z"
   },
   {
    "duration": 23,
    "start_time": "2021-08-09T17:00:37.342Z"
   },
   {
    "duration": 6,
    "start_time": "2021-08-09T17:00:46.488Z"
   },
   {
    "duration": 6,
    "start_time": "2021-08-09T17:00:54.234Z"
   },
   {
    "duration": 15,
    "start_time": "2021-08-09T17:01:39.630Z"
   },
   {
    "duration": 5,
    "start_time": "2021-08-09T17:05:02.945Z"
   },
   {
    "duration": 8,
    "start_time": "2021-08-09T17:08:28.598Z"
   },
   {
    "duration": 10,
    "start_time": "2021-08-09T17:08:46.157Z"
   },
   {
    "duration": 7472,
    "start_time": "2021-08-09T17:09:03.610Z"
   },
   {
    "duration": 5,
    "start_time": "2021-08-09T17:09:32.403Z"
   },
   {
    "duration": 6,
    "start_time": "2021-08-09T17:09:39.340Z"
   },
   {
    "duration": 12,
    "start_time": "2021-08-09T17:10:21.739Z"
   },
   {
    "duration": 5,
    "start_time": "2021-08-09T17:10:22.830Z"
   },
   {
    "duration": 6,
    "start_time": "2021-08-09T17:11:00.505Z"
   },
   {
    "duration": 6,
    "start_time": "2021-08-09T17:11:34.610Z"
   },
   {
    "duration": 654,
    "start_time": "2021-08-10T06:36:07.456Z"
   },
   {
    "duration": 16,
    "start_time": "2021-08-10T06:36:08.112Z"
   },
   {
    "duration": 10,
    "start_time": "2021-08-10T06:36:08.130Z"
   },
   {
    "duration": 5,
    "start_time": "2021-08-10T06:36:08.142Z"
   },
   {
    "duration": 8,
    "start_time": "2021-08-10T06:36:08.149Z"
   },
   {
    "duration": 27,
    "start_time": "2021-08-10T06:36:08.158Z"
   },
   {
    "duration": 3,
    "start_time": "2021-08-10T06:36:08.187Z"
   },
   {
    "duration": 7,
    "start_time": "2021-08-10T06:36:08.192Z"
   },
   {
    "duration": 6,
    "start_time": "2021-08-10T06:36:08.201Z"
   },
   {
    "duration": 5,
    "start_time": "2021-08-10T06:36:08.209Z"
   },
   {
    "duration": 7,
    "start_time": "2021-08-10T06:36:08.215Z"
   },
   {
    "duration": 7,
    "start_time": "2021-08-10T06:36:08.223Z"
   },
   {
    "duration": 8,
    "start_time": "2021-08-10T06:36:08.232Z"
   },
   {
    "duration": 44,
    "start_time": "2021-08-10T06:36:08.242Z"
   },
   {
    "duration": 7,
    "start_time": "2021-08-10T06:36:08.287Z"
   },
   {
    "duration": 13,
    "start_time": "2021-08-10T06:36:08.296Z"
   },
   {
    "duration": 5,
    "start_time": "2021-08-10T06:36:08.310Z"
   },
   {
    "duration": 4,
    "start_time": "2021-08-10T06:36:08.316Z"
   },
   {
    "duration": 5,
    "start_time": "2021-08-10T06:36:08.321Z"
   },
   {
    "duration": 6,
    "start_time": "2021-08-10T06:36:08.327Z"
   },
   {
    "duration": 5,
    "start_time": "2021-08-10T06:36:08.334Z"
   },
   {
    "duration": 44,
    "start_time": "2021-08-10T06:36:08.341Z"
   },
   {
    "duration": 12,
    "start_time": "2021-08-10T06:36:08.388Z"
   },
   {
    "duration": 5,
    "start_time": "2021-08-10T06:36:08.402Z"
   },
   {
    "duration": 13,
    "start_time": "2021-08-10T06:36:08.408Z"
   },
   {
    "duration": 11,
    "start_time": "2021-08-10T06:36:08.422Z"
   },
   {
    "duration": 12,
    "start_time": "2021-08-10T06:36:08.435Z"
   },
   {
    "duration": 3,
    "start_time": "2021-08-10T06:36:08.449Z"
   },
   {
    "duration": 31,
    "start_time": "2021-08-10T06:36:08.454Z"
   },
   {
    "duration": 4,
    "start_time": "2021-08-10T06:36:08.487Z"
   },
   {
    "duration": 20,
    "start_time": "2021-08-10T06:36:08.492Z"
   },
   {
    "duration": 17,
    "start_time": "2021-08-10T06:36:08.513Z"
   },
   {
    "duration": 23,
    "start_time": "2021-08-10T06:36:08.532Z"
   },
   {
    "duration": 12,
    "start_time": "2021-08-10T06:36:08.556Z"
   },
   {
    "duration": 26,
    "start_time": "2021-08-10T06:36:08.569Z"
   },
   {
    "duration": 36,
    "start_time": "2021-08-10T06:36:08.596Z"
   },
   {
    "duration": 19,
    "start_time": "2021-08-10T06:36:08.633Z"
   },
   {
    "duration": 20,
    "start_time": "2021-08-10T06:36:08.654Z"
   },
   {
    "duration": 24,
    "start_time": "2021-08-10T06:36:08.676Z"
   },
   {
    "duration": 22,
    "start_time": "2021-08-10T06:36:08.701Z"
   },
   {
    "duration": 42,
    "start_time": "2021-08-10T06:36:08.725Z"
   },
   {
    "duration": 14,
    "start_time": "2021-08-10T06:36:08.769Z"
   },
   {
    "duration": 18,
    "start_time": "2021-08-10T06:36:08.785Z"
   },
   {
    "duration": 14,
    "start_time": "2021-08-10T06:36:08.805Z"
   },
   {
    "duration": 7,
    "start_time": "2021-08-10T06:36:08.821Z"
   },
   {
    "duration": 13,
    "start_time": "2021-08-10T06:36:08.830Z"
   },
   {
    "duration": 8,
    "start_time": "2021-08-10T06:36:08.845Z"
   },
   {
    "duration": 38,
    "start_time": "2021-08-10T06:36:08.855Z"
   },
   {
    "duration": 6,
    "start_time": "2021-08-10T06:36:08.894Z"
   },
   {
    "duration": 4,
    "start_time": "2021-08-10T06:36:08.901Z"
   },
   {
    "duration": 3250,
    "start_time": "2021-08-10T06:36:08.907Z"
   },
   {
    "duration": 8,
    "start_time": "2021-08-10T06:36:12.159Z"
   },
   {
    "duration": 48,
    "start_time": "2021-08-10T06:36:12.169Z"
   },
   {
    "duration": 3,
    "start_time": "2021-08-10T06:36:12.219Z"
   },
   {
    "duration": 11,
    "start_time": "2021-08-10T06:36:12.224Z"
   },
   {
    "duration": 11,
    "start_time": "2021-08-10T06:36:12.236Z"
   },
   {
    "duration": 6,
    "start_time": "2021-08-10T06:36:12.249Z"
   },
   {
    "duration": 32,
    "start_time": "2021-08-10T06:36:12.256Z"
   },
   {
    "duration": 9,
    "start_time": "2021-08-10T06:36:12.290Z"
   },
   {
    "duration": 4,
    "start_time": "2021-08-10T06:36:12.301Z"
   },
   {
    "duration": 20,
    "start_time": "2021-08-10T06:36:12.307Z"
   },
   {
    "duration": 4,
    "start_time": "2021-08-10T06:36:12.329Z"
   },
   {
    "duration": 7,
    "start_time": "2021-08-10T06:36:12.334Z"
   },
   {
    "duration": 8,
    "start_time": "2021-08-10T06:36:12.342Z"
   },
   {
    "duration": 4,
    "start_time": "2021-08-10T06:36:12.352Z"
   },
   {
    "duration": 4,
    "start_time": "2021-08-10T06:36:12.385Z"
   },
   {
    "duration": 5,
    "start_time": "2021-08-10T06:36:12.390Z"
   },
   {
    "duration": 4,
    "start_time": "2021-08-10T06:36:12.399Z"
   },
   {
    "duration": 7,
    "start_time": "2021-08-10T06:36:12.404Z"
   },
   {
    "duration": 8,
    "start_time": "2021-08-10T07:00:11.646Z"
   },
   {
    "duration": 11,
    "start_time": "2021-08-10T07:01:54.282Z"
   },
   {
    "duration": 24,
    "start_time": "2021-08-10T07:02:05.035Z"
   },
   {
    "duration": 8,
    "start_time": "2021-08-10T07:02:12.052Z"
   },
   {
    "duration": 9,
    "start_time": "2021-08-10T07:02:26.530Z"
   },
   {
    "duration": 13,
    "start_time": "2021-08-10T07:02:36.811Z"
   },
   {
    "duration": 212,
    "start_time": "2021-08-10T11:19:07.930Z"
   },
   {
    "duration": 549,
    "start_time": "2021-08-10T11:19:14.544Z"
   },
   {
    "duration": 18,
    "start_time": "2021-08-10T11:19:15.095Z"
   },
   {
    "duration": 11,
    "start_time": "2021-08-10T11:19:16.008Z"
   },
   {
    "duration": 5,
    "start_time": "2021-08-10T11:19:16.743Z"
   },
   {
    "duration": 4,
    "start_time": "2021-08-10T11:19:36.139Z"
   },
   {
    "duration": 4,
    "start_time": "2021-08-10T11:19:43.173Z"
   },
   {
    "duration": 3,
    "start_time": "2021-08-10T11:24:29.470Z"
   },
   {
    "duration": 420,
    "start_time": "2021-08-10T11:24:37.458Z"
   },
   {
    "duration": 3,
    "start_time": "2021-08-10T11:26:17.726Z"
   },
   {
    "duration": 372,
    "start_time": "2021-08-10T11:26:20.457Z"
   },
   {
    "duration": 55,
    "start_time": "2021-08-10T11:27:17.728Z"
   },
   {
    "duration": 362,
    "start_time": "2021-08-10T11:27:18.915Z"
   },
   {
    "duration": 3,
    "start_time": "2021-08-10T11:27:46.960Z"
   },
   {
    "duration": 3,
    "start_time": "2021-08-10T11:28:26.745Z"
   },
   {
    "duration": 11,
    "start_time": "2021-08-10T11:28:28.657Z"
   },
   {
    "duration": 3,
    "start_time": "2021-08-10T11:28:37.111Z"
   },
   {
    "duration": 12,
    "start_time": "2021-08-10T11:28:37.918Z"
   },
   {
    "duration": 4,
    "start_time": "2021-08-10T11:28:56.182Z"
   },
   {
    "duration": 10,
    "start_time": "2021-08-10T11:29:38.871Z"
   },
   {
    "duration": 13,
    "start_time": "2021-08-10T11:29:44.559Z"
   },
   {
    "duration": 11,
    "start_time": "2021-08-10T11:29:51.248Z"
   },
   {
    "duration": 3,
    "start_time": "2021-08-10T11:30:21.909Z"
   },
   {
    "duration": 14,
    "start_time": "2021-08-10T11:30:22.972Z"
   },
   {
    "duration": 3,
    "start_time": "2021-08-10T11:31:06.111Z"
   },
   {
    "duration": 356,
    "start_time": "2021-08-10T11:31:07.627Z"
   },
   {
    "duration": 179,
    "start_time": "2021-08-10T11:32:45.462Z"
   },
   {
    "duration": 304,
    "start_time": "2021-08-10T11:33:02.515Z"
   },
   {
    "duration": 183,
    "start_time": "2021-08-10T11:33:19.895Z"
   },
   {
    "duration": 4,
    "start_time": "2021-08-10T11:34:07.351Z"
   },
   {
    "duration": 4,
    "start_time": "2021-08-10T11:34:16.769Z"
   },
   {
    "duration": 363,
    "start_time": "2021-08-10T11:34:18.190Z"
   },
   {
    "duration": 3,
    "start_time": "2021-08-10T11:35:12.825Z"
   },
   {
    "duration": 12,
    "start_time": "2021-08-10T11:35:14.529Z"
   },
   {
    "duration": 3,
    "start_time": "2021-08-10T11:35:39.425Z"
   },
   {
    "duration": 15,
    "start_time": "2021-08-10T11:35:40.202Z"
   },
   {
    "duration": 4,
    "start_time": "2021-08-10T11:36:01.745Z"
   },
   {
    "duration": 16,
    "start_time": "2021-08-10T11:36:02.290Z"
   },
   {
    "duration": 16,
    "start_time": "2021-08-10T11:36:11.875Z"
   },
   {
    "duration": 109,
    "start_time": "2021-08-10T11:36:35.913Z"
   },
   {
    "duration": 16,
    "start_time": "2021-08-10T11:36:36.677Z"
   },
   {
    "duration": 3,
    "start_time": "2021-08-10T11:36:50.011Z"
   },
   {
    "duration": 15,
    "start_time": "2021-08-10T11:36:53.009Z"
   },
   {
    "duration": 3,
    "start_time": "2021-08-10T11:37:43.237Z"
   },
   {
    "duration": 12,
    "start_time": "2021-08-10T11:37:53.099Z"
   },
   {
    "duration": 3,
    "start_time": "2021-08-10T11:38:21.408Z"
   },
   {
    "duration": 12,
    "start_time": "2021-08-10T11:38:22.064Z"
   },
   {
    "duration": 3,
    "start_time": "2021-08-10T11:38:35.753Z"
   },
   {
    "duration": 12,
    "start_time": "2021-08-10T11:38:36.748Z"
   },
   {
    "duration": 3,
    "start_time": "2021-08-10T11:38:46.137Z"
   },
   {
    "duration": 12,
    "start_time": "2021-08-10T11:38:46.762Z"
   },
   {
    "duration": 3,
    "start_time": "2021-08-10T11:39:09.175Z"
   },
   {
    "duration": 1039,
    "start_time": "2021-08-10T11:39:09.764Z"
   },
   {
    "duration": 3,
    "start_time": "2021-08-10T11:39:32.359Z"
   },
   {
    "duration": 11,
    "start_time": "2021-08-10T11:39:32.772Z"
   },
   {
    "duration": 3,
    "start_time": "2021-08-10T11:39:39.800Z"
   },
   {
    "duration": 10,
    "start_time": "2021-08-10T11:39:40.433Z"
   },
   {
    "duration": 3,
    "start_time": "2021-08-10T11:40:29.791Z"
   },
   {
    "duration": 12,
    "start_time": "2021-08-10T11:40:30.272Z"
   },
   {
    "duration": 60,
    "start_time": "2021-08-10T11:40:44.929Z"
   },
   {
    "duration": 177,
    "start_time": "2021-08-10T11:41:19.769Z"
   },
   {
    "duration": 182,
    "start_time": "2021-08-10T11:41:43.550Z"
   },
   {
    "duration": 3,
    "start_time": "2021-08-10T11:42:13.807Z"
   },
   {
    "duration": 360,
    "start_time": "2021-08-10T11:42:16.759Z"
   },
   {
    "duration": 4,
    "start_time": "2021-08-10T11:42:40.653Z"
   },
   {
    "duration": 172,
    "start_time": "2021-08-10T11:43:26.730Z"
   },
   {
    "duration": 4768,
    "start_time": "2021-08-10T11:43:59.301Z"
   },
   {
    "duration": 4489,
    "start_time": "2021-08-10T11:44:08.746Z"
   },
   {
    "duration": 5189,
    "start_time": "2021-08-10T11:44:52.531Z"
   },
   {
    "duration": 4,
    "start_time": "2021-08-10T11:45:28.437Z"
   },
   {
    "duration": 21,
    "start_time": "2021-08-10T11:45:40.296Z"
   },
   {
    "duration": 30,
    "start_time": "2021-08-10T11:45:53.505Z"
   },
   {
    "duration": 4,
    "start_time": "2021-08-10T11:47:05.463Z"
   },
   {
    "duration": 11,
    "start_time": "2021-08-10T11:47:09.482Z"
   },
   {
    "duration": 3,
    "start_time": "2021-08-10T11:47:35.724Z"
   },
   {
    "duration": 5,
    "start_time": "2021-08-10T11:47:36.461Z"
   },
   {
    "duration": 56,
    "start_time": "2021-08-10T11:48:34.577Z"
   },
   {
    "duration": 3,
    "start_time": "2021-08-10T11:48:59.391Z"
   },
   {
    "duration": 6,
    "start_time": "2021-08-10T11:48:59.951Z"
   },
   {
    "duration": 3,
    "start_time": "2021-08-10T11:49:57.356Z"
   },
   {
    "duration": 6,
    "start_time": "2021-08-10T11:49:58.182Z"
   },
   {
    "duration": 3,
    "start_time": "2021-08-10T11:50:15.761Z"
   },
   {
    "duration": 6,
    "start_time": "2021-08-10T11:50:16.678Z"
   },
   {
    "duration": 3,
    "start_time": "2021-08-10T11:51:51.153Z"
   },
   {
    "duration": 7,
    "start_time": "2021-08-10T11:52:03.323Z"
   },
   {
    "duration": 3,
    "start_time": "2021-08-10T11:52:57.638Z"
   },
   {
    "duration": 6,
    "start_time": "2021-08-10T11:53:10.027Z"
   },
   {
    "duration": 56,
    "start_time": "2021-08-10T11:53:40.264Z"
   },
   {
    "duration": 3,
    "start_time": "2021-08-10T11:53:50.576Z"
   },
   {
    "duration": 348,
    "start_time": "2021-08-10T11:53:51.328Z"
   },
   {
    "duration": 3,
    "start_time": "2021-08-10T11:54:20.102Z"
   },
   {
    "duration": 8,
    "start_time": "2021-08-10T11:54:20.633Z"
   },
   {
    "duration": 3,
    "start_time": "2021-08-10T11:55:00.123Z"
   },
   {
    "duration": 348,
    "start_time": "2021-08-10T11:55:01.523Z"
   },
   {
    "duration": 32,
    "start_time": "2021-08-10T11:55:55.079Z"
   },
   {
    "duration": 3,
    "start_time": "2021-08-10T11:58:27.326Z"
   },
   {
    "duration": 6,
    "start_time": "2021-08-10T11:58:30.756Z"
   },
   {
    "duration": 3,
    "start_time": "2021-08-10T11:58:55.025Z"
   },
   {
    "duration": 8,
    "start_time": "2021-08-10T11:58:55.725Z"
   },
   {
    "duration": 63,
    "start_time": "2021-08-10T11:59:18.920Z"
   },
   {
    "duration": 3,
    "start_time": "2021-08-10T11:59:41.558Z"
   },
   {
    "duration": 8,
    "start_time": "2021-08-10T11:59:44.278Z"
   },
   {
    "duration": 3,
    "start_time": "2021-08-10T12:00:42.784Z"
   },
   {
    "duration": 5,
    "start_time": "2021-08-10T12:00:43.587Z"
   },
   {
    "duration": 3,
    "start_time": "2021-08-10T12:01:19.559Z"
   },
   {
    "duration": 6,
    "start_time": "2021-08-10T12:01:20.301Z"
   },
   {
    "duration": 3,
    "start_time": "2021-08-10T12:01:37.839Z"
   },
   {
    "duration": 31,
    "start_time": "2021-08-10T12:01:38.409Z"
   },
   {
    "duration": 3,
    "start_time": "2021-08-10T12:01:49.995Z"
   },
   {
    "duration": 29,
    "start_time": "2021-08-10T12:01:51.059Z"
   },
   {
    "duration": 3,
    "start_time": "2021-08-10T12:02:03.062Z"
   },
   {
    "duration": 32,
    "start_time": "2021-08-10T12:02:03.656Z"
   },
   {
    "duration": 3,
    "start_time": "2021-08-10T12:02:56.131Z"
   },
   {
    "duration": 29,
    "start_time": "2021-08-10T12:02:56.648Z"
   },
   {
    "duration": 3,
    "start_time": "2021-08-10T12:03:18.445Z"
   },
   {
    "duration": 42,
    "start_time": "2021-08-10T12:03:19.248Z"
   },
   {
    "duration": 4,
    "start_time": "2021-08-10T12:03:29.467Z"
   },
   {
    "duration": 31,
    "start_time": "2021-08-10T12:03:30.423Z"
   },
   {
    "duration": 66,
    "start_time": "2021-08-10T12:04:00.719Z"
   },
   {
    "duration": 32,
    "start_time": "2021-08-10T12:04:02.739Z"
   },
   {
    "duration": 61,
    "start_time": "2021-08-10T12:04:13.625Z"
   },
   {
    "duration": 3,
    "start_time": "2021-08-10T12:04:41.577Z"
   },
   {
    "duration": 372,
    "start_time": "2021-08-10T12:04:42.433Z"
   },
   {
    "duration": 3,
    "start_time": "2021-08-10T12:04:49.934Z"
   },
   {
    "duration": 3,
    "start_time": "2021-08-10T12:05:12.430Z"
   },
   {
    "duration": 494,
    "start_time": "2021-08-10T12:05:13.050Z"
   },
   {
    "duration": 3,
    "start_time": "2021-08-10T12:05:26.511Z"
   },
   {
    "duration": 48,
    "start_time": "2021-08-10T12:05:30.926Z"
   },
   {
    "duration": 3,
    "start_time": "2021-08-10T12:05:39.719Z"
   },
   {
    "duration": 30,
    "start_time": "2021-08-10T12:05:40.672Z"
   },
   {
    "duration": 3,
    "start_time": "2021-08-10T12:06:34.678Z"
   },
   {
    "duration": 35,
    "start_time": "2021-08-10T12:06:35.634Z"
   },
   {
    "duration": 3,
    "start_time": "2021-08-10T12:06:48.070Z"
   },
   {
    "duration": 39,
    "start_time": "2021-08-10T12:06:48.778Z"
   },
   {
    "duration": 4,
    "start_time": "2021-08-10T12:07:00.875Z"
   },
   {
    "duration": 38,
    "start_time": "2021-08-10T12:07:01.319Z"
   },
   {
    "duration": 255,
    "start_time": "2021-08-10T12:28:38.211Z"
   },
   {
    "duration": 5,
    "start_time": "2021-08-10T12:28:48.906Z"
   },
   {
    "duration": 10,
    "start_time": "2021-08-10T12:29:23.953Z"
   },
   {
    "duration": 5,
    "start_time": "2021-08-10T12:29:50.681Z"
   },
   {
    "duration": 10,
    "start_time": "2021-08-10T12:30:02.752Z"
   },
   {
    "duration": 8,
    "start_time": "2021-08-10T12:35:48.821Z"
   },
   {
    "duration": 7,
    "start_time": "2021-08-10T12:36:29.319Z"
   },
   {
    "duration": 4,
    "start_time": "2021-08-10T12:39:18.425Z"
   },
   {
    "duration": 13,
    "start_time": "2021-08-10T12:39:22.779Z"
   },
   {
    "duration": 9,
    "start_time": "2021-08-10T12:39:40.694Z"
   },
   {
    "duration": 626,
    "start_time": "2021-08-10T12:40:33.562Z"
   },
   {
    "duration": 18,
    "start_time": "2021-08-10T12:40:34.863Z"
   },
   {
    "duration": 3,
    "start_time": "2021-08-10T12:40:36.164Z"
   },
   {
    "duration": 36,
    "start_time": "2021-08-10T12:40:37.636Z"
   },
   {
    "duration": 13,
    "start_time": "2021-08-10T12:40:44.570Z"
   },
   {
    "duration": 5,
    "start_time": "2021-08-10T12:40:45.957Z"
   },
   {
    "duration": 4,
    "start_time": "2021-08-10T12:40:51.445Z"
   },
   {
    "duration": 10,
    "start_time": "2021-08-10T12:40:52.823Z"
   },
   {
    "duration": 3,
    "start_time": "2021-08-10T12:41:21.056Z"
   },
   {
    "duration": 10,
    "start_time": "2021-08-10T12:41:26.064Z"
   },
   {
    "duration": 10,
    "start_time": "2021-08-10T12:41:37.962Z"
   },
   {
    "duration": 7,
    "start_time": "2021-08-10T12:41:50.625Z"
   },
   {
    "duration": 5,
    "start_time": "2021-08-10T12:44:35.210Z"
   },
   {
    "duration": 8,
    "start_time": "2021-08-10T12:44:43.651Z"
   },
   {
    "duration": 8,
    "start_time": "2021-08-10T12:44:58.423Z"
   },
   {
    "duration": 258,
    "start_time": "2021-08-10T12:46:30.853Z"
   },
   {
    "duration": 7,
    "start_time": "2021-08-10T12:47:00.526Z"
   },
   {
    "duration": 8,
    "start_time": "2021-08-10T12:47:44.479Z"
   },
   {
    "duration": 12,
    "start_time": "2021-08-10T12:49:43.418Z"
   },
   {
    "duration": 14,
    "start_time": "2021-08-10T12:50:06.848Z"
   },
   {
    "duration": 7,
    "start_time": "2021-08-10T12:50:53.349Z"
   },
   {
    "duration": 8,
    "start_time": "2021-08-10T12:51:12.664Z"
   },
   {
    "duration": 7,
    "start_time": "2021-08-10T13:15:38.800Z"
   },
   {
    "duration": 22,
    "start_time": "2021-08-10T13:20:02.754Z"
   },
   {
    "duration": 7,
    "start_time": "2021-08-10T13:20:11.609Z"
   },
   {
    "duration": 21,
    "start_time": "2021-08-10T13:20:37.103Z"
   },
   {
    "duration": 208,
    "start_time": "2021-08-10T13:21:49.800Z"
   },
   {
    "duration": 6,
    "start_time": "2021-08-10T13:22:30.059Z"
   },
   {
    "duration": 8,
    "start_time": "2021-08-10T13:22:35.337Z"
   },
   {
    "duration": 11,
    "start_time": "2021-08-10T13:22:54.241Z"
   },
   {
    "duration": 8,
    "start_time": "2021-08-10T13:23:00.487Z"
   },
   {
    "duration": 22,
    "start_time": "2021-08-10T13:23:11.524Z"
   },
   {
    "duration": 65,
    "start_time": "2021-08-10T13:27:04.476Z"
   },
   {
    "duration": 8,
    "start_time": "2021-08-10T13:27:19.804Z"
   },
   {
    "duration": 8,
    "start_time": "2021-08-10T13:39:20.627Z"
   },
   {
    "duration": 8,
    "start_time": "2021-08-10T13:39:22.518Z"
   },
   {
    "duration": 8,
    "start_time": "2021-08-10T13:39:22.882Z"
   },
   {
    "duration": 7,
    "start_time": "2021-08-10T13:39:23.227Z"
   },
   {
    "duration": 9,
    "start_time": "2021-08-10T13:39:23.570Z"
   },
   {
    "duration": 9,
    "start_time": "2021-08-10T13:39:23.906Z"
   },
   {
    "duration": 9,
    "start_time": "2021-08-10T13:39:24.306Z"
   },
   {
    "duration": 9,
    "start_time": "2021-08-10T13:39:24.754Z"
   },
   {
    "duration": 7,
    "start_time": "2021-08-10T13:39:25.314Z"
   },
   {
    "duration": 20,
    "start_time": "2021-08-10T13:40:11.367Z"
   },
   {
    "duration": 8,
    "start_time": "2021-08-10T13:42:02.860Z"
   },
   {
    "duration": 21,
    "start_time": "2021-08-10T13:42:07.295Z"
   },
   {
    "duration": 7,
    "start_time": "2021-08-10T13:42:44.917Z"
   },
   {
    "duration": 21,
    "start_time": "2021-08-10T13:42:47.277Z"
   },
   {
    "duration": 7,
    "start_time": "2021-08-10T13:43:21.433Z"
   },
   {
    "duration": 6,
    "start_time": "2021-08-10T13:43:21.813Z"
   },
   {
    "duration": 7,
    "start_time": "2021-08-10T13:43:22.165Z"
   },
   {
    "duration": 8,
    "start_time": "2021-08-10T13:43:22.788Z"
   },
   {
    "duration": 21,
    "start_time": "2021-08-10T13:43:25.629Z"
   },
   {
    "duration": 8,
    "start_time": "2021-08-10T13:43:47.834Z"
   },
   {
    "duration": 8,
    "start_time": "2021-08-10T13:43:47.985Z"
   },
   {
    "duration": 6,
    "start_time": "2021-08-10T13:43:48.126Z"
   },
   {
    "duration": 8,
    "start_time": "2021-08-10T13:43:48.290Z"
   },
   {
    "duration": 8,
    "start_time": "2021-08-10T13:43:48.441Z"
   },
   {
    "duration": 8,
    "start_time": "2021-08-10T13:43:48.621Z"
   },
   {
    "duration": 7,
    "start_time": "2021-08-10T13:43:49.234Z"
   },
   {
    "duration": 6,
    "start_time": "2021-08-10T13:43:49.806Z"
   },
   {
    "duration": 24,
    "start_time": "2021-08-10T13:43:50.758Z"
   },
   {
    "duration": 7,
    "start_time": "2021-08-10T13:44:14.580Z"
   },
   {
    "duration": 4,
    "start_time": "2021-08-10T13:44:22.941Z"
   },
   {
    "duration": 3,
    "start_time": "2021-08-10T13:51:16.669Z"
   },
   {
    "duration": 9,
    "start_time": "2021-08-10T13:53:21.787Z"
   },
   {
    "duration": 9,
    "start_time": "2021-08-10T13:56:35.772Z"
   },
   {
    "duration": 8,
    "start_time": "2021-08-10T13:56:36.108Z"
   },
   {
    "duration": 6,
    "start_time": "2021-08-10T13:56:36.448Z"
   },
   {
    "duration": 7,
    "start_time": "2021-08-10T13:56:36.792Z"
   },
   {
    "duration": 8,
    "start_time": "2021-08-10T13:56:37.131Z"
   },
   {
    "duration": 7,
    "start_time": "2021-08-10T13:56:37.448Z"
   },
   {
    "duration": 7,
    "start_time": "2021-08-10T13:56:37.793Z"
   },
   {
    "duration": 7,
    "start_time": "2021-08-10T13:56:38.186Z"
   },
   {
    "duration": 9,
    "start_time": "2021-08-10T13:57:04.388Z"
   },
   {
    "duration": 7,
    "start_time": "2021-08-10T13:57:11.491Z"
   },
   {
    "duration": 7,
    "start_time": "2021-08-10T13:57:25.618Z"
   },
   {
    "duration": 7,
    "start_time": "2021-08-10T13:58:52.275Z"
   },
   {
    "duration": 6,
    "start_time": "2021-08-10T13:59:05.898Z"
   },
   {
    "duration": 4,
    "start_time": "2021-08-10T14:00:15.318Z"
   },
   {
    "duration": 5,
    "start_time": "2021-08-10T14:00:17.036Z"
   },
   {
    "duration": 4,
    "start_time": "2021-08-10T14:06:27.120Z"
   },
   {
    "duration": 5,
    "start_time": "2021-08-10T14:12:52.141Z"
   },
   {
    "duration": 3,
    "start_time": "2021-08-10T14:17:58.762Z"
   },
   {
    "duration": 32,
    "start_time": "2021-08-10T14:18:14.478Z"
   },
   {
    "duration": 3,
    "start_time": "2021-08-10T14:26:19.503Z"
   },
   {
    "duration": 8,
    "start_time": "2021-08-10T14:26:19.882Z"
   },
   {
    "duration": 8,
    "start_time": "2021-08-10T14:26:20.246Z"
   },
   {
    "duration": 10,
    "start_time": "2021-08-10T14:27:46.290Z"
   },
   {
    "duration": 65,
    "start_time": "2021-08-10T14:30:08.699Z"
   },
   {
    "duration": 79,
    "start_time": "2021-08-10T14:30:08.966Z"
   },
   {
    "duration": 560,
    "start_time": "2021-08-10T14:30:22.892Z"
   },
   {
    "duration": 228,
    "start_time": "2021-08-10T14:30:40.872Z"
   },
   {
    "duration": 7,
    "start_time": "2021-08-10T14:30:51.670Z"
   },
   {
    "duration": 7,
    "start_time": "2021-08-10T14:30:52.492Z"
   },
   {
    "duration": 7,
    "start_time": "2021-08-10T14:31:05.050Z"
   },
   {
    "duration": 6,
    "start_time": "2021-08-10T14:31:10.636Z"
   },
   {
    "duration": 10,
    "start_time": "2021-08-10T14:31:18.278Z"
   },
   {
    "duration": 13,
    "start_time": "2021-08-10T14:32:22.035Z"
   },
   {
    "duration": 12,
    "start_time": "2021-08-10T14:38:27.293Z"
   },
   {
    "duration": 215,
    "start_time": "2021-08-10T14:39:12.018Z"
   },
   {
    "duration": 25,
    "start_time": "2021-08-10T14:39:57.679Z"
   },
   {
    "duration": 12,
    "start_time": "2021-08-10T14:40:16.374Z"
   },
   {
    "duration": 8,
    "start_time": "2021-08-10T14:41:34.578Z"
   },
   {
    "duration": 9,
    "start_time": "2021-08-10T14:41:36.317Z"
   },
   {
    "duration": 7,
    "start_time": "2021-08-10T14:41:54.012Z"
   },
   {
    "duration": 8,
    "start_time": "2021-08-10T14:50:24.087Z"
   },
   {
    "duration": 20,
    "start_time": "2021-08-10T14:53:42.703Z"
   },
   {
    "duration": 186,
    "start_time": "2021-08-10T14:54:09.688Z"
   },
   {
    "duration": 54,
    "start_time": "2021-08-10T14:54:28.440Z"
   },
   {
    "duration": 23,
    "start_time": "2021-08-10T14:54:51.506Z"
   },
   {
    "duration": 13,
    "start_time": "2021-08-10T14:54:57.552Z"
   },
   {
    "duration": 13,
    "start_time": "2021-08-10T14:55:40.586Z"
   },
   {
    "duration": 14,
    "start_time": "2021-08-10T14:55:50.443Z"
   },
   {
    "duration": 577,
    "start_time": "2021-08-10T15:05:07.135Z"
   },
   {
    "duration": 17,
    "start_time": "2021-08-10T15:05:15.745Z"
   },
   {
    "duration": 3,
    "start_time": "2021-08-10T15:05:37.628Z"
   },
   {
    "duration": 38,
    "start_time": "2021-08-10T15:05:38.552Z"
   },
   {
    "duration": 14,
    "start_time": "2021-08-10T15:05:44.190Z"
   },
   {
    "duration": 6,
    "start_time": "2021-08-10T15:05:45.453Z"
   },
   {
    "duration": 10,
    "start_time": "2021-08-10T15:05:47.469Z"
   },
   {
    "duration": 5,
    "start_time": "2021-08-10T15:05:48.473Z"
   },
   {
    "duration": 2,
    "start_time": "2021-08-10T15:05:52.536Z"
   },
   {
    "duration": 9,
    "start_time": "2021-08-10T15:05:53.276Z"
   },
   {
    "duration": 8,
    "start_time": "2021-08-10T15:06:00.602Z"
   },
   {
    "duration": 8,
    "start_time": "2021-08-10T15:06:04.413Z"
   },
   {
    "duration": 8,
    "start_time": "2021-08-10T15:06:05.217Z"
   },
   {
    "duration": 8,
    "start_time": "2021-08-10T15:06:05.697Z"
   },
   {
    "duration": 7,
    "start_time": "2021-08-10T15:06:06.121Z"
   },
   {
    "duration": 7,
    "start_time": "2021-08-10T15:06:06.497Z"
   },
   {
    "duration": 7,
    "start_time": "2021-08-10T15:06:06.813Z"
   },
   {
    "duration": 7,
    "start_time": "2021-08-10T15:06:07.098Z"
   },
   {
    "duration": 7,
    "start_time": "2021-08-10T15:06:07.382Z"
   },
   {
    "duration": 4,
    "start_time": "2021-08-10T15:06:07.810Z"
   },
   {
    "duration": 4,
    "start_time": "2021-08-10T15:06:14.503Z"
   },
   {
    "duration": 8,
    "start_time": "2021-08-10T15:06:16.015Z"
   },
   {
    "duration": 8,
    "start_time": "2021-08-10T15:06:17.559Z"
   },
   {
    "duration": 8,
    "start_time": "2021-08-10T15:06:17.948Z"
   },
   {
    "duration": 8,
    "start_time": "2021-08-10T15:06:18.251Z"
   },
   {
    "duration": 8,
    "start_time": "2021-08-10T15:06:18.523Z"
   },
   {
    "duration": 8,
    "start_time": "2021-08-10T15:06:18.831Z"
   },
   {
    "duration": 7,
    "start_time": "2021-08-10T15:06:19.621Z"
   },
   {
    "duration": 8,
    "start_time": "2021-08-10T15:06:20.017Z"
   },
   {
    "duration": 7,
    "start_time": "2021-08-10T15:06:20.477Z"
   },
   {
    "duration": 4,
    "start_time": "2021-08-10T15:06:21.237Z"
   },
   {
    "duration": 5,
    "start_time": "2021-08-10T15:06:22.081Z"
   },
   {
    "duration": 2,
    "start_time": "2021-08-10T15:06:24.825Z"
   },
   {
    "duration": 30,
    "start_time": "2021-08-10T15:06:26.049Z"
   },
   {
    "duration": 3,
    "start_time": "2021-08-10T15:06:27.705Z"
   },
   {
    "duration": 8,
    "start_time": "2021-08-10T15:06:28.223Z"
   },
   {
    "duration": 7,
    "start_time": "2021-08-10T15:06:29.603Z"
   },
   {
    "duration": 11,
    "start_time": "2021-08-10T15:06:32.239Z"
   },
   {
    "duration": 7,
    "start_time": "2021-08-10T15:06:33.694Z"
   },
   {
    "duration": 7,
    "start_time": "2021-08-10T15:06:34.447Z"
   },
   {
    "duration": 7,
    "start_time": "2021-08-10T15:06:34.811Z"
   },
   {
    "duration": 7,
    "start_time": "2021-08-10T15:06:35.183Z"
   },
   {
    "duration": 12,
    "start_time": "2021-08-10T15:06:36.120Z"
   },
   {
    "duration": 5,
    "start_time": "2021-08-10T15:07:22.740Z"
   },
   {
    "duration": 11,
    "start_time": "2021-08-10T15:07:30.429Z"
   },
   {
    "duration": 12,
    "start_time": "2021-08-10T15:07:57.939Z"
   },
   {
    "duration": 12,
    "start_time": "2021-08-10T15:08:08.623Z"
   },
   {
    "duration": 12,
    "start_time": "2021-08-10T15:08:25.144Z"
   },
   {
    "duration": 7,
    "start_time": "2021-08-10T15:08:28.274Z"
   },
   {
    "duration": 7,
    "start_time": "2021-08-10T15:08:28.946Z"
   },
   {
    "duration": 6,
    "start_time": "2021-08-10T15:08:34.402Z"
   },
   {
    "duration": 13,
    "start_time": "2021-08-10T15:08:36.436Z"
   },
   {
    "duration": 4,
    "start_time": "2021-08-10T15:08:37.360Z"
   },
   {
    "duration": 4,
    "start_time": "2021-08-10T15:08:39.084Z"
   },
   {
    "duration": 6,
    "start_time": "2021-08-10T15:08:44.817Z"
   },
   {
    "duration": 11,
    "start_time": "2021-08-10T15:08:50.214Z"
   },
   {
    "duration": 4,
    "start_time": "2021-08-10T15:09:02.703Z"
   },
   {
    "duration": 4,
    "start_time": "2021-08-10T15:09:03.465Z"
   },
   {
    "duration": 11,
    "start_time": "2021-08-10T15:09:07.209Z"
   },
   {
    "duration": 13,
    "start_time": "2021-08-10T15:09:16.519Z"
   },
   {
    "duration": 8,
    "start_time": "2021-08-10T15:09:27.568Z"
   },
   {
    "duration": 12,
    "start_time": "2021-08-10T15:09:30.250Z"
   },
   {
    "duration": 9,
    "start_time": "2021-08-10T15:09:32.918Z"
   },
   {
    "duration": 32,
    "start_time": "2021-08-10T15:09:40.425Z"
   },
   {
    "duration": 36,
    "start_time": "2021-08-10T15:10:04.454Z"
   },
   {
    "duration": 30,
    "start_time": "2021-08-10T15:10:46.553Z"
   },
   {
    "duration": 17,
    "start_time": "2021-08-10T15:10:48.961Z"
   },
   {
    "duration": 20,
    "start_time": "2021-08-10T15:10:56.010Z"
   },
   {
    "duration": 12,
    "start_time": "2021-08-10T15:10:57.774Z"
   },
   {
    "duration": 285,
    "start_time": "2021-08-11T07:25:35.939Z"
   },
   {
    "duration": 4,
    "start_time": "2021-08-11T07:25:44.246Z"
   },
   {
    "duration": 8382,
    "start_time": "2021-08-11T07:25:44.905Z"
   },
   {
    "duration": 175,
    "start_time": "2021-08-11T07:27:21.595Z"
   },
   {
    "duration": 59,
    "start_time": "2021-08-11T07:33:28.888Z"
   },
   {
    "duration": 65,
    "start_time": "2021-08-11T07:33:35.869Z"
   },
   {
    "duration": 169,
    "start_time": "2021-08-11T07:33:42.487Z"
   },
   {
    "duration": 238,
    "start_time": "2021-08-11T07:33:56.161Z"
   },
   {
    "duration": 7744,
    "start_time": "2021-08-11T07:36:16.899Z"
   },
   {
    "duration": 7090,
    "start_time": "2021-08-11T07:38:34.900Z"
   },
   {
    "duration": 212,
    "start_time": "2021-08-11T07:38:54.564Z"
   },
   {
    "duration": 2822,
    "start_time": "2021-08-11T07:39:19.075Z"
   },
   {
    "duration": 2713,
    "start_time": "2021-08-11T07:42:01.351Z"
   },
   {
    "duration": 2862,
    "start_time": "2021-08-11T07:44:10.830Z"
   },
   {
    "duration": 3017,
    "start_time": "2021-08-11T07:44:21.732Z"
   },
   {
    "duration": 2798,
    "start_time": "2021-08-11T07:44:30.590Z"
   },
   {
    "duration": 2588,
    "start_time": "2021-08-11T07:46:11.381Z"
   },
   {
    "duration": 2893,
    "start_time": "2021-08-11T07:46:26.291Z"
   },
   {
    "duration": 467,
    "start_time": "2021-08-11T11:31:59.994Z"
   },
   {
    "duration": 6,
    "start_time": "2021-08-11T11:32:11.884Z"
   },
   {
    "duration": 434,
    "start_time": "2021-08-11T11:32:12.324Z"
   },
   {
    "duration": 823,
    "start_time": "2021-08-11T11:32:31.295Z"
   },
   {
    "duration": 28,
    "start_time": "2021-08-11T11:32:32.775Z"
   },
   {
    "duration": 5,
    "start_time": "2021-08-11T11:32:34.406Z"
   },
   {
    "duration": 66,
    "start_time": "2021-08-11T11:32:37.198Z"
   },
   {
    "duration": 21,
    "start_time": "2021-08-11T11:32:40.984Z"
   },
   {
    "duration": 9,
    "start_time": "2021-08-11T11:32:41.769Z"
   },
   {
    "duration": 18,
    "start_time": "2021-08-11T11:32:46.967Z"
   },
   {
    "duration": 7,
    "start_time": "2021-08-11T11:32:47.935Z"
   },
   {
    "duration": 3,
    "start_time": "2021-08-11T11:32:55.341Z"
   },
   {
    "duration": 15,
    "start_time": "2021-08-11T11:32:59.504Z"
   },
   {
    "duration": 11,
    "start_time": "2021-08-11T11:33:17.382Z"
   },
   {
    "duration": 10,
    "start_time": "2021-08-11T11:33:18.291Z"
   },
   {
    "duration": 10,
    "start_time": "2021-08-11T11:33:18.791Z"
   },
   {
    "duration": 9,
    "start_time": "2021-08-11T11:33:19.335Z"
   },
   {
    "duration": 10,
    "start_time": "2021-08-11T11:33:19.787Z"
   },
   {
    "duration": 10,
    "start_time": "2021-08-11T11:33:20.214Z"
   },
   {
    "duration": 10,
    "start_time": "2021-08-11T11:33:21.123Z"
   },
   {
    "duration": 15,
    "start_time": "2021-08-11T11:33:21.495Z"
   },
   {
    "duration": 13,
    "start_time": "2021-08-11T11:33:22.048Z"
   },
   {
    "duration": 8,
    "start_time": "2021-08-11T11:33:23.311Z"
   },
   {
    "duration": 9,
    "start_time": "2021-08-11T11:33:24.842Z"
   },
   {
    "duration": 15,
    "start_time": "2021-08-11T11:33:25.989Z"
   },
   {
    "duration": 14,
    "start_time": "2021-08-11T11:33:26.473Z"
   },
   {
    "duration": 15,
    "start_time": "2021-08-11T11:33:26.917Z"
   },
   {
    "duration": 10,
    "start_time": "2021-08-11T11:33:27.297Z"
   },
   {
    "duration": 10,
    "start_time": "2021-08-11T11:33:27.605Z"
   },
   {
    "duration": 10,
    "start_time": "2021-08-11T11:33:27.989Z"
   },
   {
    "duration": 11,
    "start_time": "2021-08-11T11:33:28.437Z"
   },
   {
    "duration": 12,
    "start_time": "2021-08-11T11:33:28.889Z"
   },
   {
    "duration": 11,
    "start_time": "2021-08-11T11:33:29.661Z"
   },
   {
    "duration": 5,
    "start_time": "2021-08-11T11:33:30.205Z"
   },
   {
    "duration": 6,
    "start_time": "2021-08-11T11:33:30.901Z"
   },
   {
    "duration": 3,
    "start_time": "2021-08-11T11:33:32.164Z"
   },
   {
    "duration": 62,
    "start_time": "2021-08-11T11:33:33.216Z"
   },
   {
    "duration": 5,
    "start_time": "2021-08-11T11:33:39.855Z"
   },
   {
    "duration": 19,
    "start_time": "2021-08-11T11:33:40.570Z"
   },
   {
    "duration": 14,
    "start_time": "2021-08-11T11:33:45.727Z"
   },
   {
    "duration": 14,
    "start_time": "2021-08-11T11:33:46.485Z"
   },
   {
    "duration": 9,
    "start_time": "2021-08-11T11:33:46.929Z"
   },
   {
    "duration": 11,
    "start_time": "2021-08-11T11:33:47.775Z"
   },
   {
    "duration": 10,
    "start_time": "2021-08-11T11:33:48.196Z"
   },
   {
    "duration": 9,
    "start_time": "2021-08-11T11:33:48.604Z"
   },
   {
    "duration": 7,
    "start_time": "2021-08-11T11:33:49.176Z"
   },
   {
    "duration": 17,
    "start_time": "2021-08-11T11:33:49.988Z"
   },
   {
    "duration": 16,
    "start_time": "2021-08-11T11:33:53.230Z"
   },
   {
    "duration": 19,
    "start_time": "2021-08-11T11:33:54.383Z"
   },
   {
    "duration": 19,
    "start_time": "2021-08-11T11:33:59.194Z"
   },
   {
    "duration": 11,
    "start_time": "2021-08-11T11:34:01.097Z"
   },
   {
    "duration": 10,
    "start_time": "2021-08-11T11:34:01.590Z"
   },
   {
    "duration": 9,
    "start_time": "2021-08-11T11:34:17.925Z"
   },
   {
    "duration": 19,
    "start_time": "2021-08-11T11:34:18.890Z"
   },
   {
    "duration": 5,
    "start_time": "2021-08-11T11:34:21.027Z"
   },
   {
    "duration": 5,
    "start_time": "2021-08-11T11:34:22.124Z"
   },
   {
    "duration": 9,
    "start_time": "2021-08-11T11:34:23.243Z"
   },
   {
    "duration": 16,
    "start_time": "2021-08-11T11:34:34.572Z"
   },
   {
    "duration": 5,
    "start_time": "2021-08-11T11:34:35.157Z"
   },
   {
    "duration": 5,
    "start_time": "2021-08-11T11:34:37.217Z"
   },
   {
    "duration": 19,
    "start_time": "2021-08-11T11:34:38.462Z"
   },
   {
    "duration": 20,
    "start_time": "2021-08-11T11:34:38.987Z"
   },
   {
    "duration": 10,
    "start_time": "2021-08-11T11:34:43.743Z"
   },
   {
    "duration": 16,
    "start_time": "2021-08-11T11:34:44.231Z"
   },
   {
    "duration": 11,
    "start_time": "2021-08-11T11:34:44.715Z"
   },
   {
    "duration": 51,
    "start_time": "2021-08-11T11:34:45.407Z"
   },
   {
    "duration": 24,
    "start_time": "2021-08-11T11:34:45.811Z"
   },
   {
    "duration": 32,
    "start_time": "2021-08-11T11:34:46.347Z"
   },
   {
    "duration": 15,
    "start_time": "2021-08-11T11:34:47.095Z"
   },
   {
    "duration": 11,
    "start_time": "2021-08-11T11:34:51.836Z"
   },
   {
    "duration": 9,
    "start_time": "2021-08-11T11:34:52.637Z"
   },
   {
    "duration": 5044,
    "start_time": "2021-08-11T11:34:54.088Z"
   },
   {
    "duration": 5,
    "start_time": "2021-08-11T11:35:05.949Z"
   },
   {
    "duration": 3867,
    "start_time": "2021-08-11T11:35:12.816Z"
   },
   {
    "duration": 10,
    "start_time": "2021-08-11T11:35:16.685Z"
   },
   {
    "duration": 47,
    "start_time": "2021-08-11T11:35:19.986Z"
   },
   {
    "duration": 488,
    "start_time": "2021-08-11T11:41:17.844Z"
   },
   {
    "duration": 44,
    "start_time": "2021-08-11T11:41:35.123Z"
   },
   {
    "duration": 357,
    "start_time": "2021-08-11T11:41:47.309Z"
   },
   {
    "duration": 11,
    "start_time": "2021-08-11T11:41:58.961Z"
   },
   {
    "duration": 43,
    "start_time": "2021-08-11T11:42:24.461Z"
   },
   {
    "duration": 4,
    "start_time": "2021-08-11T11:43:42.228Z"
   },
   {
    "duration": 14,
    "start_time": "2021-08-11T11:44:24.458Z"
   },
   {
    "duration": 11,
    "start_time": "2021-08-11T11:44:26.761Z"
   },
   {
    "duration": 3,
    "start_time": "2021-08-11T11:57:50.078Z"
   },
   {
    "duration": 9054,
    "start_time": "2021-08-11T11:58:37.605Z"
   },
   {
    "duration": 15,
    "start_time": "2021-08-11T11:58:58.777Z"
   },
   {
    "duration": 8,
    "start_time": "2021-08-11T11:59:27.926Z"
   },
   {
    "duration": 15,
    "start_time": "2021-08-11T12:01:37.083Z"
   },
   {
    "duration": 40,
    "start_time": "2021-08-11T12:01:45.286Z"
   },
   {
    "duration": 23,
    "start_time": "2021-08-11T12:01:54.912Z"
   },
   {
    "duration": 27,
    "start_time": "2021-08-11T12:02:05.484Z"
   },
   {
    "duration": 18,
    "start_time": "2021-08-11T12:02:19.320Z"
   },
   {
    "duration": 7,
    "start_time": "2021-08-11T12:02:49.497Z"
   },
   {
    "duration": 7,
    "start_time": "2021-08-11T12:03:07.345Z"
   },
   {
    "duration": 6,
    "start_time": "2021-08-11T12:03:20.164Z"
   },
   {
    "duration": 5,
    "start_time": "2021-08-11T12:04:42.820Z"
   },
   {
    "duration": 6,
    "start_time": "2021-08-11T12:04:43.132Z"
   },
   {
    "duration": 11,
    "start_time": "2021-08-11T12:08:08.232Z"
   },
   {
    "duration": 5,
    "start_time": "2021-08-11T12:08:08.659Z"
   },
   {
    "duration": 17,
    "start_time": "2021-08-11T12:08:09.163Z"
   },
   {
    "duration": 6,
    "start_time": "2021-08-11T12:08:09.667Z"
   },
   {
    "duration": 7,
    "start_time": "2021-08-11T12:08:10.185Z"
   },
   {
    "duration": 11,
    "start_time": "2021-08-11T12:08:18.286Z"
   },
   {
    "duration": 6,
    "start_time": "2021-08-11T13:13:38.835Z"
   },
   {
    "duration": 18,
    "start_time": "2021-08-11T13:19:00.092Z"
   },
   {
    "duration": 23,
    "start_time": "2021-08-11T13:19:04.092Z"
   },
   {
    "duration": 37,
    "start_time": "2021-08-11T13:19:30.399Z"
   },
   {
    "duration": 9,
    "start_time": "2021-08-11T13:20:22.212Z"
   },
   {
    "duration": 12,
    "start_time": "2021-08-11T13:20:51.459Z"
   },
   {
    "duration": 18,
    "start_time": "2021-08-11T13:20:56.978Z"
   },
   {
    "duration": 5,
    "start_time": "2021-08-11T13:21:33.374Z"
   },
   {
    "duration": 6,
    "start_time": "2021-08-11T13:22:49.612Z"
   },
   {
    "duration": 20,
    "start_time": "2021-08-11T13:32:35.334Z"
   },
   {
    "duration": 19,
    "start_time": "2021-08-11T13:34:17.534Z"
   },
   {
    "duration": 8,
    "start_time": "2021-08-11T13:34:34.373Z"
   },
   {
    "duration": 9185,
    "start_time": "2021-08-11T13:34:42.042Z"
   },
   {
    "duration": 11,
    "start_time": "2021-08-11T13:34:55.341Z"
   },
   {
    "duration": 8694,
    "start_time": "2021-08-11T13:35:57.319Z"
   },
   {
    "duration": 8738,
    "start_time": "2021-08-11T13:36:34.341Z"
   },
   {
    "duration": 325,
    "start_time": "2021-08-11T13:37:37.769Z"
   },
   {
    "duration": 381,
    "start_time": "2021-08-11T13:37:55.957Z"
   },
   {
    "duration": 11008,
    "start_time": "2021-08-11T13:38:06.910Z"
   },
   {
    "duration": 373,
    "start_time": "2021-08-11T13:38:27.271Z"
   },
   {
    "duration": 9524,
    "start_time": "2021-08-11T13:38:47.853Z"
   },
   {
    "duration": 334,
    "start_time": "2021-08-11T13:39:06.130Z"
   },
   {
    "duration": 1372,
    "start_time": "2021-08-11T13:46:10.538Z"
   },
   {
    "duration": 378,
    "start_time": "2021-08-11T13:46:19.802Z"
   },
   {
    "duration": 406,
    "start_time": "2021-08-11T13:47:30.297Z"
   },
   {
    "duration": 384,
    "start_time": "2021-08-11T13:48:01.422Z"
   },
   {
    "duration": 24,
    "start_time": "2021-08-11T13:49:32.397Z"
   },
   {
    "duration": 28,
    "start_time": "2021-08-11T13:49:40.893Z"
   },
   {
    "duration": 45,
    "start_time": "2021-08-11T13:52:56.059Z"
   },
   {
    "duration": 43,
    "start_time": "2021-08-11T13:53:13.727Z"
   },
   {
    "duration": 8380,
    "start_time": "2021-08-11T13:55:08.437Z"
   },
   {
    "duration": 13,
    "start_time": "2021-08-11T13:55:50.827Z"
   },
   {
    "duration": 36,
    "start_time": "2021-08-11T13:55:57.169Z"
   },
   {
    "duration": 17,
    "start_time": "2021-08-11T13:57:21.186Z"
   },
   {
    "duration": 15,
    "start_time": "2021-08-11T13:57:45.684Z"
   },
   {
    "duration": 20,
    "start_time": "2021-08-11T13:58:14.237Z"
   },
   {
    "duration": 16,
    "start_time": "2021-08-11T13:58:15.581Z"
   },
   {
    "duration": 418,
    "start_time": "2021-08-11T14:03:45.279Z"
   },
   {
    "duration": 17,
    "start_time": "2021-08-11T14:03:54.433Z"
   },
   {
    "duration": 17,
    "start_time": "2021-08-11T14:03:55.428Z"
   },
   {
    "duration": 19,
    "start_time": "2021-08-11T14:06:26.291Z"
   },
   {
    "duration": 17,
    "start_time": "2021-08-11T14:07:53.327Z"
   },
   {
    "duration": 4,
    "start_time": "2021-08-11T14:13:24.835Z"
   },
   {
    "duration": 11,
    "start_time": "2021-08-11T14:13:25.254Z"
   },
   {
    "duration": 10,
    "start_time": "2021-08-11T14:13:26.374Z"
   },
   {
    "duration": 28,
    "start_time": "2021-08-11T14:13:33.469Z"
   },
   {
    "duration": 17,
    "start_time": "2021-08-11T14:13:42.850Z"
   },
   {
    "duration": 22,
    "start_time": "2021-08-11T14:14:12.648Z"
   },
   {
    "duration": 126,
    "start_time": "2021-08-11T14:14:53.166Z"
   },
   {
    "duration": 1184,
    "start_time": "2021-08-11T14:15:17.228Z"
   },
   {
    "duration": 124,
    "start_time": "2021-08-11T14:15:22.634Z"
   },
   {
    "duration": 19,
    "start_time": "2021-08-11T14:15:35.918Z"
   },
   {
    "duration": 17,
    "start_time": "2021-08-11T14:17:35.657Z"
   },
   {
    "duration": 15,
    "start_time": "2021-08-11T14:18:43.597Z"
   },
   {
    "duration": 313,
    "start_time": "2021-08-11T14:19:19.688Z"
   },
   {
    "duration": 15,
    "start_time": "2021-08-11T14:19:36.819Z"
   },
   {
    "duration": 19,
    "start_time": "2021-08-11T14:23:18.382Z"
   },
   {
    "duration": 16,
    "start_time": "2021-08-11T14:24:11.005Z"
   },
   {
    "duration": 19,
    "start_time": "2021-08-11T14:24:34.151Z"
   },
   {
    "duration": 13,
    "start_time": "2021-08-11T14:25:00.830Z"
   },
   {
    "duration": 1123,
    "start_time": "2021-08-12T09:33:57.877Z"
   },
   {
    "duration": 40,
    "start_time": "2021-08-12T09:33:59.003Z"
   },
   {
    "duration": 16,
    "start_time": "2021-08-12T09:33:59.048Z"
   },
   {
    "duration": 98,
    "start_time": "2021-08-12T09:33:59.067Z"
   },
   {
    "duration": 30,
    "start_time": "2021-08-12T09:33:59.168Z"
   },
   {
    "duration": 10,
    "start_time": "2021-08-12T09:33:59.201Z"
   },
   {
    "duration": 51,
    "start_time": "2021-08-12T09:33:59.214Z"
   },
   {
    "duration": 8,
    "start_time": "2021-08-12T09:33:59.270Z"
   },
   {
    "duration": 4,
    "start_time": "2021-08-12T09:33:59.282Z"
   },
   {
    "duration": 21,
    "start_time": "2021-08-12T09:33:59.289Z"
   },
   {
    "duration": 52,
    "start_time": "2021-08-12T09:33:59.313Z"
   },
   {
    "duration": 14,
    "start_time": "2021-08-12T09:33:59.368Z"
   },
   {
    "duration": 20,
    "start_time": "2021-08-12T09:33:59.385Z"
   },
   {
    "duration": 15,
    "start_time": "2021-08-12T09:33:59.409Z"
   },
   {
    "duration": 39,
    "start_time": "2021-08-12T09:33:59.427Z"
   },
   {
    "duration": 15,
    "start_time": "2021-08-12T09:33:59.469Z"
   },
   {
    "duration": 14,
    "start_time": "2021-08-12T09:33:59.487Z"
   },
   {
    "duration": 15,
    "start_time": "2021-08-12T09:33:59.504Z"
   },
   {
    "duration": 44,
    "start_time": "2021-08-12T09:33:59.522Z"
   },
   {
    "duration": 8,
    "start_time": "2021-08-12T09:33:59.569Z"
   },
   {
    "duration": 8,
    "start_time": "2021-08-12T09:33:59.580Z"
   },
   {
    "duration": 12,
    "start_time": "2021-08-12T09:33:59.590Z"
   },
   {
    "duration": 9,
    "start_time": "2021-08-12T09:33:59.608Z"
   },
   {
    "duration": 48,
    "start_time": "2021-08-12T09:33:59.621Z"
   },
   {
    "duration": 9,
    "start_time": "2021-08-12T09:33:59.672Z"
   },
   {
    "duration": 10,
    "start_time": "2021-08-12T09:33:59.684Z"
   },
   {
    "duration": 11,
    "start_time": "2021-08-12T09:33:59.697Z"
   },
   {
    "duration": 52,
    "start_time": "2021-08-12T09:33:59.710Z"
   },
   {
    "duration": 15,
    "start_time": "2021-08-12T09:33:59.765Z"
   },
   {
    "duration": 14,
    "start_time": "2021-08-12T09:33:59.783Z"
   },
   {
    "duration": 6,
    "start_time": "2021-08-12T09:33:59.800Z"
   },
   {
    "duration": 7,
    "start_time": "2021-08-12T09:33:59.809Z"
   },
   {
    "duration": 43,
    "start_time": "2021-08-12T09:33:59.819Z"
   },
   {
    "duration": 67,
    "start_time": "2021-08-12T09:33:59.865Z"
   },
   {
    "duration": 5,
    "start_time": "2021-08-12T09:33:59.935Z"
   },
   {
    "duration": 19,
    "start_time": "2021-08-12T09:33:59.963Z"
   },
   {
    "duration": 14,
    "start_time": "2021-08-12T09:33:59.985Z"
   },
   {
    "duration": 34,
    "start_time": "2021-08-12T09:34:00.002Z"
   },
   {
    "duration": 40,
    "start_time": "2021-08-12T09:34:00.038Z"
   },
   {
    "duration": 9,
    "start_time": "2021-08-12T09:34:00.081Z"
   },
   {
    "duration": 27,
    "start_time": "2021-08-12T09:34:00.092Z"
   },
   {
    "duration": 19,
    "start_time": "2021-08-12T09:34:00.122Z"
   },
   {
    "duration": 9,
    "start_time": "2021-08-12T09:34:00.144Z"
   },
   {
    "duration": 20,
    "start_time": "2021-08-12T09:34:00.156Z"
   },
   {
    "duration": 16,
    "start_time": "2021-08-12T09:34:00.180Z"
   },
   {
    "duration": 24,
    "start_time": "2021-08-12T09:34:00.199Z"
   },
   {
    "duration": 53,
    "start_time": "2021-08-12T09:34:00.226Z"
   },
   {
    "duration": 37,
    "start_time": "2021-08-12T09:34:00.282Z"
   },
   {
    "duration": 44,
    "start_time": "2021-08-12T09:34:00.323Z"
   },
   {
    "duration": 22,
    "start_time": "2021-08-12T09:34:00.370Z"
   },
   {
    "duration": 46,
    "start_time": "2021-08-12T09:34:00.395Z"
   },
   {
    "duration": 22,
    "start_time": "2021-08-12T09:34:00.444Z"
   },
   {
    "duration": 20,
    "start_time": "2021-08-12T09:34:00.469Z"
   },
   {
    "duration": 13,
    "start_time": "2021-08-12T09:34:00.492Z"
   },
   {
    "duration": 22,
    "start_time": "2021-08-12T09:34:00.508Z"
   },
   {
    "duration": 6,
    "start_time": "2021-08-12T09:34:00.533Z"
   },
   {
    "duration": 23,
    "start_time": "2021-08-12T09:34:00.542Z"
   },
   {
    "duration": 35,
    "start_time": "2021-08-12T09:34:00.568Z"
   },
   {
    "duration": 33,
    "start_time": "2021-08-12T09:34:00.606Z"
   },
   {
    "duration": 26,
    "start_time": "2021-08-12T09:34:00.642Z"
   },
   {
    "duration": 30,
    "start_time": "2021-08-12T09:34:00.671Z"
   },
   {
    "duration": 50,
    "start_time": "2021-08-12T09:34:00.704Z"
   },
   {
    "duration": 81,
    "start_time": "2021-08-12T09:34:00.757Z"
   },
   {
    "duration": 44,
    "start_time": "2021-08-12T09:34:00.841Z"
   },
   {
    "duration": 42,
    "start_time": "2021-08-12T09:34:00.888Z"
   },
   {
    "duration": 38,
    "start_time": "2021-08-12T09:34:00.934Z"
   },
   {
    "duration": 19,
    "start_time": "2021-08-12T09:34:00.975Z"
   },
   {
    "duration": 10,
    "start_time": "2021-08-12T09:34:01.006Z"
   },
   {
    "duration": 4693,
    "start_time": "2021-08-12T09:34:01.020Z"
   },
   {
    "duration": 5,
    "start_time": "2021-08-12T09:34:05.716Z"
   },
   {
    "duration": 3921,
    "start_time": "2021-08-12T09:34:05.724Z"
   },
   {
    "duration": 20,
    "start_time": "2021-08-12T09:34:09.647Z"
   },
   {
    "duration": 17,
    "start_time": "2021-08-12T09:34:09.670Z"
   },
   {
    "duration": 75,
    "start_time": "2021-08-12T09:34:09.690Z"
   },
   {
    "duration": 4,
    "start_time": "2021-08-12T09:34:09.768Z"
   },
   {
    "duration": 23,
    "start_time": "2021-08-12T09:34:09.775Z"
   },
   {
    "duration": 26,
    "start_time": "2021-08-12T09:34:09.801Z"
   },
   {
    "duration": 6,
    "start_time": "2021-08-12T09:34:09.829Z"
   },
   {
    "duration": 31,
    "start_time": "2021-08-12T09:34:09.837Z"
   },
   {
    "duration": 12,
    "start_time": "2021-08-12T09:34:09.871Z"
   },
   {
    "duration": 37,
    "start_time": "2021-08-12T09:34:09.886Z"
   },
   {
    "duration": 41,
    "start_time": "2021-08-12T09:34:09.925Z"
   },
   {
    "duration": 19,
    "start_time": "2021-08-12T09:34:09.968Z"
   },
   {
    "duration": 16,
    "start_time": "2021-08-12T09:34:09.989Z"
   },
   {
    "duration": 29,
    "start_time": "2021-08-12T09:34:10.007Z"
   },
   {
    "duration": 38,
    "start_time": "2021-08-12T09:34:10.038Z"
   },
   {
    "duration": 15,
    "start_time": "2021-08-12T09:34:10.079Z"
   },
   {
    "duration": 29,
    "start_time": "2021-08-12T09:34:10.096Z"
   },
   {
    "duration": 48,
    "start_time": "2021-08-12T09:34:10.128Z"
   },
   {
    "duration": 42,
    "start_time": "2021-08-12T09:34:10.178Z"
   },
   {
    "duration": 15,
    "start_time": "2021-08-12T09:34:10.223Z"
   },
   {
    "duration": 9,
    "start_time": "2021-08-12T09:38:00.008Z"
   },
   {
    "duration": 1074,
    "start_time": "2021-08-12T09:38:12.716Z"
   },
   {
    "duration": 39,
    "start_time": "2021-08-12T09:38:13.793Z"
   },
   {
    "duration": 25,
    "start_time": "2021-08-12T09:38:13.836Z"
   },
   {
    "duration": 72,
    "start_time": "2021-08-12T09:38:13.865Z"
   },
   {
    "duration": 21,
    "start_time": "2021-08-12T09:38:17.021Z"
   },
   {
    "duration": 9,
    "start_time": "2021-08-12T09:38:17.641Z"
   },
   {
    "duration": 9,
    "start_time": "2021-08-12T09:38:18.661Z"
   },
   {
    "duration": 16,
    "start_time": "2021-08-12T09:48:42.596Z"
   },
   {
    "duration": 122,
    "start_time": "2021-08-12T09:51:30.251Z"
   },
   {
    "duration": 113,
    "start_time": "2021-08-12T09:51:47.928Z"
   },
   {
    "duration": 129,
    "start_time": "2021-08-12T09:52:09.507Z"
   },
   {
    "duration": 18,
    "start_time": "2021-08-12T09:52:16.505Z"
   },
   {
    "duration": 123,
    "start_time": "2021-08-12T09:52:27.651Z"
   },
   {
    "duration": 121,
    "start_time": "2021-08-12T09:52:47.249Z"
   },
   {
    "duration": 11,
    "start_time": "2021-08-12T09:53:36.296Z"
   },
   {
    "duration": 9,
    "start_time": "2021-08-12T09:53:36.934Z"
   },
   {
    "duration": 8,
    "start_time": "2021-08-12T10:07:11.182Z"
   },
   {
    "duration": 877,
    "start_time": "2021-08-12T11:22:58.194Z"
   },
   {
    "duration": 28,
    "start_time": "2021-08-12T11:22:59.074Z"
   },
   {
    "duration": 15,
    "start_time": "2021-08-12T11:22:59.104Z"
   },
   {
    "duration": 67,
    "start_time": "2021-08-12T11:22:59.122Z"
   },
   {
    "duration": 19,
    "start_time": "2021-08-12T11:22:59.191Z"
   },
   {
    "duration": 10,
    "start_time": "2021-08-12T11:22:59.212Z"
   },
   {
    "duration": 7,
    "start_time": "2021-08-12T11:22:59.224Z"
   },
   {
    "duration": 13,
    "start_time": "2021-08-12T11:22:59.264Z"
   },
   {
    "duration": 4,
    "start_time": "2021-08-12T11:22:59.281Z"
   },
   {
    "duration": 16,
    "start_time": "2021-08-12T11:22:59.288Z"
   },
   {
    "duration": 12,
    "start_time": "2021-08-12T11:22:59.306Z"
   },
   {
    "duration": 10,
    "start_time": "2021-08-12T11:22:59.362Z"
   },
   {
    "duration": 30,
    "start_time": "2021-08-12T11:22:59.374Z"
   },
   {
    "duration": 17,
    "start_time": "2021-08-12T11:22:59.406Z"
   },
   {
    "duration": 9,
    "start_time": "2021-08-12T11:22:59.426Z"
   },
   {
    "duration": 13,
    "start_time": "2021-08-12T11:22:59.438Z"
   },
   {
    "duration": 24,
    "start_time": "2021-08-12T11:22:59.453Z"
   },
   {
    "duration": 14,
    "start_time": "2021-08-12T11:22:59.480Z"
   },
   {
    "duration": 28,
    "start_time": "2021-08-12T11:22:59.497Z"
   },
   {
    "duration": 28,
    "start_time": "2021-08-12T11:22:59.528Z"
   },
   {
    "duration": 24,
    "start_time": "2021-08-12T11:22:59.559Z"
   },
   {
    "duration": 14,
    "start_time": "2021-08-12T11:22:59.586Z"
   },
   {
    "duration": 121,
    "start_time": "2021-08-12T11:22:59.606Z"
   },
   {
    "duration": -1562,
    "start_time": "2021-08-12T11:23:01.296Z"
   },
   {
    "duration": -1564,
    "start_time": "2021-08-12T11:23:01.300Z"
   },
   {
    "duration": -1566,
    "start_time": "2021-08-12T11:23:01.304Z"
   },
   {
    "duration": -1568,
    "start_time": "2021-08-12T11:23:01.308Z"
   },
   {
    "duration": -1585,
    "start_time": "2021-08-12T11:23:01.327Z"
   },
   {
    "duration": -1586,
    "start_time": "2021-08-12T11:23:01.330Z"
   },
   {
    "duration": -1589,
    "start_time": "2021-08-12T11:23:01.335Z"
   },
   {
    "duration": -1590,
    "start_time": "2021-08-12T11:23:01.338Z"
   },
   {
    "duration": -1592,
    "start_time": "2021-08-12T11:23:01.342Z"
   },
   {
    "duration": -1594,
    "start_time": "2021-08-12T11:23:01.346Z"
   },
   {
    "duration": -1639,
    "start_time": "2021-08-12T11:23:01.393Z"
   },
   {
    "duration": -1640,
    "start_time": "2021-08-12T11:23:01.396Z"
   },
   {
    "duration": -1642,
    "start_time": "2021-08-12T11:23:01.400Z"
   },
   {
    "duration": -1644,
    "start_time": "2021-08-12T11:23:01.404Z"
   },
   {
    "duration": -1644,
    "start_time": "2021-08-12T11:23:01.407Z"
   },
   {
    "duration": -1646,
    "start_time": "2021-08-12T11:23:01.411Z"
   },
   {
    "duration": -1647,
    "start_time": "2021-08-12T11:23:01.415Z"
   },
   {
    "duration": -1648,
    "start_time": "2021-08-12T11:23:01.418Z"
   },
   {
    "duration": -1650,
    "start_time": "2021-08-12T11:23:01.422Z"
   },
   {
    "duration": -1661,
    "start_time": "2021-08-12T11:23:01.435Z"
   },
   {
    "duration": -1663,
    "start_time": "2021-08-12T11:23:01.439Z"
   },
   {
    "duration": -1664,
    "start_time": "2021-08-12T11:23:01.442Z"
   },
   {
    "duration": -1665,
    "start_time": "2021-08-12T11:23:01.446Z"
   },
   {
    "duration": -1666,
    "start_time": "2021-08-12T11:23:01.449Z"
   },
   {
    "duration": -1668,
    "start_time": "2021-08-12T11:23:01.453Z"
   },
   {
    "duration": -1670,
    "start_time": "2021-08-12T11:23:01.457Z"
   },
   {
    "duration": -1672,
    "start_time": "2021-08-12T11:23:01.461Z"
   },
   {
    "duration": -1690,
    "start_time": "2021-08-12T11:23:01.481Z"
   },
   {
    "duration": -1692,
    "start_time": "2021-08-12T11:23:01.485Z"
   },
   {
    "duration": -1693,
    "start_time": "2021-08-12T11:23:01.488Z"
   },
   {
    "duration": -1712,
    "start_time": "2021-08-12T11:23:01.510Z"
   },
   {
    "duration": -1714,
    "start_time": "2021-08-12T11:23:01.514Z"
   },
   {
    "duration": -1715,
    "start_time": "2021-08-12T11:23:01.517Z"
   },
   {
    "duration": -1717,
    "start_time": "2021-08-12T11:23:01.521Z"
   },
   {
    "duration": -1663,
    "start_time": "2021-08-12T11:23:01.525Z"
   },
   {
    "duration": -1664,
    "start_time": "2021-08-12T11:23:01.528Z"
   },
   {
    "duration": -1665,
    "start_time": "2021-08-12T11:23:01.532Z"
   },
   {
    "duration": -1672,
    "start_time": "2021-08-12T11:23:01.541Z"
   },
   {
    "duration": -1674,
    "start_time": "2021-08-12T11:23:01.545Z"
   },
   {
    "duration": -1676,
    "start_time": "2021-08-12T11:23:01.549Z"
   },
   {
    "duration": -1678,
    "start_time": "2021-08-12T11:23:01.553Z"
   },
   {
    "duration": -1680,
    "start_time": "2021-08-12T11:23:01.557Z"
   },
   {
    "duration": -1681,
    "start_time": "2021-08-12T11:23:01.560Z"
   },
   {
    "duration": -1683,
    "start_time": "2021-08-12T11:23:01.564Z"
   },
   {
    "duration": -1684,
    "start_time": "2021-08-12T11:23:01.567Z"
   },
   {
    "duration": -1686,
    "start_time": "2021-08-12T11:23:01.571Z"
   },
   {
    "duration": -1686,
    "start_time": "2021-08-12T11:23:01.574Z"
   },
   {
    "duration": -1698,
    "start_time": "2021-08-12T11:23:01.587Z"
   },
   {
    "duration": -1698,
    "start_time": "2021-08-12T11:23:01.590Z"
   },
   {
    "duration": -1700,
    "start_time": "2021-08-12T11:23:01.594Z"
   },
   {
    "duration": -1701,
    "start_time": "2021-08-12T11:23:01.597Z"
   },
   {
    "duration": -1703,
    "start_time": "2021-08-12T11:23:01.601Z"
   },
   {
    "duration": -1642,
    "start_time": "2021-08-12T11:23:01.604Z"
   },
   {
    "duration": -1643,
    "start_time": "2021-08-12T11:23:01.607Z"
   },
   {
    "duration": -1644,
    "start_time": "2021-08-12T11:23:01.611Z"
   },
   {
    "duration": -1645,
    "start_time": "2021-08-12T11:23:01.614Z"
   },
   {
    "duration": -1647,
    "start_time": "2021-08-12T11:23:01.618Z"
   },
   {
    "duration": -1649,
    "start_time": "2021-08-12T11:23:01.622Z"
   },
   {
    "duration": -1650,
    "start_time": "2021-08-12T11:23:01.625Z"
   },
   {
    "duration": -1651,
    "start_time": "2021-08-12T11:23:01.629Z"
   },
   {
    "duration": -1656,
    "start_time": "2021-08-12T11:23:01.636Z"
   },
   {
    "duration": -1668,
    "start_time": "2021-08-12T11:23:01.650Z"
   },
   {
    "duration": -1670,
    "start_time": "2021-08-12T11:23:01.654Z"
   },
   {
    "duration": -1674,
    "start_time": "2021-08-12T11:23:01.660Z"
   },
   {
    "duration": -1676,
    "start_time": "2021-08-12T11:23:01.664Z"
   },
   {
    "duration": -1677,
    "start_time": "2021-08-12T11:23:01.667Z"
   },
   {
    "duration": -1682,
    "start_time": "2021-08-12T11:23:01.673Z"
   },
   {
    "duration": 809,
    "start_time": "2021-08-12T11:29:37.079Z"
   },
   {
    "duration": 46,
    "start_time": "2021-08-12T11:29:38.048Z"
   },
   {
    "duration": 6,
    "start_time": "2021-08-12T11:29:39.120Z"
   },
   {
    "duration": 74,
    "start_time": "2021-08-12T11:29:39.795Z"
   },
   {
    "duration": 20,
    "start_time": "2021-08-12T11:29:43.769Z"
   },
   {
    "duration": 9,
    "start_time": "2021-08-12T11:29:44.473Z"
   },
   {
    "duration": 10,
    "start_time": "2021-08-12T11:29:45.109Z"
   },
   {
    "duration": 14,
    "start_time": "2021-08-12T11:29:49.093Z"
   },
   {
    "duration": 4,
    "start_time": "2021-08-12T11:29:51.690Z"
   },
   {
    "duration": 14,
    "start_time": "2021-08-12T11:29:52.251Z"
   },
   {
    "duration": 12,
    "start_time": "2021-08-12T11:29:53.963Z"
   },
   {
    "duration": 13,
    "start_time": "2021-08-12T11:30:37.356Z"
   },
   {
    "duration": 9,
    "start_time": "2021-08-12T11:30:48.678Z"
   },
   {
    "duration": 10,
    "start_time": "2021-08-12T11:31:06.554Z"
   },
   {
    "duration": 121,
    "start_time": "2021-08-12T11:31:23.714Z"
   },
   {
    "duration": 9,
    "start_time": "2021-08-12T11:31:35.175Z"
   },
   {
    "duration": 12,
    "start_time": "2021-08-12T11:32:23.196Z"
   },
   {
    "duration": 11,
    "start_time": "2021-08-12T11:32:31.873Z"
   },
   {
    "duration": 10,
    "start_time": "2021-08-12T11:32:34.567Z"
   },
   {
    "duration": 10,
    "start_time": "2021-08-12T11:32:35.108Z"
   },
   {
    "duration": 11,
    "start_time": "2021-08-12T11:32:35.463Z"
   },
   {
    "duration": 11,
    "start_time": "2021-08-12T11:32:35.844Z"
   },
   {
    "duration": 11,
    "start_time": "2021-08-12T11:32:36.267Z"
   },
   {
    "duration": 10,
    "start_time": "2021-08-12T11:32:36.599Z"
   },
   {
    "duration": 10,
    "start_time": "2021-08-12T11:32:36.971Z"
   },
   {
    "duration": 11,
    "start_time": "2021-08-12T11:32:37.347Z"
   },
   {
    "duration": 7,
    "start_time": "2021-08-12T11:32:37.676Z"
   },
   {
    "duration": 7,
    "start_time": "2021-08-12T11:32:38.455Z"
   },
   {
    "duration": 11,
    "start_time": "2021-08-12T11:32:40.735Z"
   },
   {
    "duration": 11,
    "start_time": "2021-08-12T11:32:42.136Z"
   },
   {
    "duration": 10,
    "start_time": "2021-08-12T11:32:42.392Z"
   },
   {
    "duration": 11,
    "start_time": "2021-08-12T11:32:42.595Z"
   },
   {
    "duration": 10,
    "start_time": "2021-08-12T11:32:42.815Z"
   },
   {
    "duration": 10,
    "start_time": "2021-08-12T11:32:43.036Z"
   },
   {
    "duration": 10,
    "start_time": "2021-08-12T11:32:43.246Z"
   },
   {
    "duration": 10,
    "start_time": "2021-08-12T11:32:43.486Z"
   },
   {
    "duration": 9,
    "start_time": "2021-08-12T11:32:43.826Z"
   },
   {
    "duration": 5,
    "start_time": "2021-08-12T11:32:44.178Z"
   },
   {
    "duration": 6,
    "start_time": "2021-08-12T11:32:44.822Z"
   },
   {
    "duration": 3,
    "start_time": "2021-08-12T11:32:46.373Z"
   },
   {
    "duration": 45,
    "start_time": "2021-08-12T11:32:46.762Z"
   },
   {
    "duration": 4,
    "start_time": "2021-08-12T11:32:47.037Z"
   },
   {
    "duration": 13,
    "start_time": "2021-08-12T11:32:49.349Z"
   },
   {
    "duration": 11,
    "start_time": "2021-08-12T11:32:51.657Z"
   },
   {
    "duration": 16,
    "start_time": "2021-08-12T11:32:54.963Z"
   },
   {
    "duration": 9,
    "start_time": "2021-08-12T11:32:58.835Z"
   },
   {
    "duration": 9,
    "start_time": "2021-08-12T11:32:59.031Z"
   },
   {
    "duration": 9,
    "start_time": "2021-08-12T11:32:59.227Z"
   },
   {
    "duration": 10,
    "start_time": "2021-08-12T11:32:59.443Z"
   },
   {
    "duration": 7,
    "start_time": "2021-08-12T11:32:59.783Z"
   },
   {
    "duration": 15,
    "start_time": "2021-08-12T11:33:02.085Z"
   },
   {
    "duration": 19,
    "start_time": "2021-08-12T11:33:09.088Z"
   },
   {
    "duration": 6,
    "start_time": "2021-08-12T11:33:10.751Z"
   },
   {
    "duration": 11,
    "start_time": "2021-08-12T11:33:11.463Z"
   },
   {
    "duration": 9,
    "start_time": "2021-08-12T11:33:13.167Z"
   },
   {
    "duration": 8,
    "start_time": "2021-08-12T11:33:17.730Z"
   },
   {
    "duration": 20,
    "start_time": "2021-08-12T11:33:19.609Z"
   },
   {
    "duration": 5,
    "start_time": "2021-08-12T11:33:21.001Z"
   },
   {
    "duration": 5,
    "start_time": "2021-08-12T11:33:23.529Z"
   },
   {
    "duration": 9,
    "start_time": "2021-08-12T11:33:24.528Z"
   },
   {
    "duration": 22,
    "start_time": "2021-08-12T11:33:27.553Z"
   },
   {
    "duration": 5,
    "start_time": "2021-08-12T11:33:28.028Z"
   },
   {
    "duration": 6,
    "start_time": "2021-08-12T11:33:28.666Z"
   },
   {
    "duration": 24,
    "start_time": "2021-08-12T11:33:29.191Z"
   },
   {
    "duration": 18,
    "start_time": "2021-08-12T11:33:34.654Z"
   },
   {
    "duration": 10,
    "start_time": "2021-08-12T11:33:37.151Z"
   },
   {
    "duration": 16,
    "start_time": "2021-08-12T11:33:38.140Z"
   },
   {
    "duration": 11,
    "start_time": "2021-08-12T11:33:38.664Z"
   },
   {
    "duration": 51,
    "start_time": "2021-08-12T11:33:39.160Z"
   },
   {
    "duration": 24,
    "start_time": "2021-08-12T11:33:43.340Z"
   },
   {
    "duration": 27,
    "start_time": "2021-08-12T11:33:45.020Z"
   },
   {
    "duration": 16,
    "start_time": "2021-08-12T11:33:45.553Z"
   },
   {
    "duration": 11,
    "start_time": "2021-08-12T11:33:49.942Z"
   },
   {
    "duration": 8,
    "start_time": "2021-08-12T11:33:50.647Z"
   },
   {
    "duration": 4814,
    "start_time": "2021-08-12T11:33:51.786Z"
   },
   {
    "duration": 5,
    "start_time": "2021-08-12T11:33:56.603Z"
   },
   {
    "duration": 3881,
    "start_time": "2021-08-12T11:33:56.612Z"
   },
   {
    "duration": 10,
    "start_time": "2021-08-12T11:34:00.495Z"
   },
   {
    "duration": 68,
    "start_time": "2021-08-12T11:34:01.688Z"
   },
   {
    "duration": 7,
    "start_time": "2021-08-12T11:34:02.656Z"
   },
   {
    "duration": 16,
    "start_time": "2021-08-12T11:34:04.267Z"
   },
   {
    "duration": 11,
    "start_time": "2021-08-12T11:34:04.652Z"
   },
   {
    "duration": 4,
    "start_time": "2021-08-12T11:34:06.362Z"
   },
   {
    "duration": 12,
    "start_time": "2021-08-12T11:34:07.325Z"
   },
   {
    "duration": 10,
    "start_time": "2021-08-12T11:34:08.086Z"
   },
   {
    "duration": 10,
    "start_time": "2021-08-12T11:35:11.950Z"
   },
   {
    "duration": 28,
    "start_time": "2021-08-12T11:35:14.985Z"
   },
   {
    "duration": 24,
    "start_time": "2021-08-12T11:35:15.942Z"
   },
   {
    "duration": 21,
    "start_time": "2021-08-12T11:35:19.075Z"
   },
   {
    "duration": 16,
    "start_time": "2021-08-12T11:35:19.773Z"
   },
   {
    "duration": 15,
    "start_time": "2021-08-12T11:35:20.487Z"
   },
   {
    "duration": 18,
    "start_time": "2021-08-12T11:35:22.647Z"
   },
   {
    "duration": 23,
    "start_time": "2021-08-12T11:35:23.192Z"
   },
   {
    "duration": 21,
    "start_time": "2021-08-12T11:35:23.680Z"
   },
   {
    "duration": 24,
    "start_time": "2021-08-12T11:35:26.183Z"
   },
   {
    "duration": 16,
    "start_time": "2021-08-12T11:35:26.902Z"
   },
   {
    "duration": 15,
    "start_time": "2021-08-12T11:35:28.586Z"
   },
   {
    "duration": 879,
    "start_time": "2021-08-12T11:35:43.396Z"
   },
   {
    "duration": 29,
    "start_time": "2021-08-12T11:35:44.278Z"
   },
   {
    "duration": 5,
    "start_time": "2021-08-12T11:35:44.310Z"
   },
   {
    "duration": 88,
    "start_time": "2021-08-12T11:35:44.318Z"
   },
   {
    "duration": 24,
    "start_time": "2021-08-12T11:35:44.408Z"
   },
   {
    "duration": 31,
    "start_time": "2021-08-12T11:35:44.435Z"
   },
   {
    "duration": 17,
    "start_time": "2021-08-12T11:35:44.469Z"
   },
   {
    "duration": 13,
    "start_time": "2021-08-12T11:35:44.490Z"
   },
   {
    "duration": 4,
    "start_time": "2021-08-12T11:35:44.506Z"
   },
   {
    "duration": 55,
    "start_time": "2021-08-12T11:35:44.513Z"
   },
   {
    "duration": 16,
    "start_time": "2021-08-12T11:35:44.571Z"
   },
   {
    "duration": 18,
    "start_time": "2021-08-12T11:35:44.591Z"
   },
   {
    "duration": 13,
    "start_time": "2021-08-12T11:35:44.612Z"
   },
   {
    "duration": 41,
    "start_time": "2021-08-12T11:35:44.628Z"
   },
   {
    "duration": 14,
    "start_time": "2021-08-12T11:35:44.672Z"
   },
   {
    "duration": 13,
    "start_time": "2021-08-12T11:35:44.688Z"
   },
   {
    "duration": 13,
    "start_time": "2021-08-12T11:35:44.704Z"
   },
   {
    "duration": 11,
    "start_time": "2021-08-12T11:35:44.720Z"
   },
   {
    "duration": 38,
    "start_time": "2021-08-12T11:35:44.733Z"
   },
   {
    "duration": 12,
    "start_time": "2021-08-12T11:35:44.773Z"
   },
   {
    "duration": 14,
    "start_time": "2021-08-12T11:35:44.787Z"
   },
   {
    "duration": 6,
    "start_time": "2021-08-12T11:35:44.803Z"
   },
   {
    "duration": 44,
    "start_time": "2021-08-12T11:35:44.817Z"
   },
   {
    "duration": 11,
    "start_time": "2021-08-12T11:35:44.865Z"
   },
   {
    "duration": 12,
    "start_time": "2021-08-12T11:35:44.878Z"
   },
   {
    "duration": 13,
    "start_time": "2021-08-12T11:35:44.892Z"
   },
   {
    "duration": 16,
    "start_time": "2021-08-12T11:35:44.908Z"
   },
   {
    "duration": 39,
    "start_time": "2021-08-12T11:35:44.927Z"
   },
   {
    "duration": 16,
    "start_time": "2021-08-12T11:35:44.969Z"
   },
   {
    "duration": 16,
    "start_time": "2021-08-12T11:35:44.988Z"
   },
   {
    "duration": 19,
    "start_time": "2021-08-12T11:35:45.007Z"
   },
   {
    "duration": 17,
    "start_time": "2021-08-12T11:35:45.028Z"
   },
   {
    "duration": 20,
    "start_time": "2021-08-12T11:35:45.047Z"
   },
   {
    "duration": 8,
    "start_time": "2021-08-12T11:35:45.071Z"
   },
   {
    "duration": 58,
    "start_time": "2021-08-12T11:35:45.081Z"
   },
   {
    "duration": 5,
    "start_time": "2021-08-12T11:35:45.162Z"
   },
   {
    "duration": 25,
    "start_time": "2021-08-12T11:35:45.170Z"
   },
   {
    "duration": 9,
    "start_time": "2021-08-12T11:35:45.198Z"
   },
   {
    "duration": 20,
    "start_time": "2021-08-12T11:35:45.210Z"
   },
   {
    "duration": 35,
    "start_time": "2021-08-12T11:35:45.233Z"
   },
   {
    "duration": 12,
    "start_time": "2021-08-12T11:35:45.271Z"
   },
   {
    "duration": 19,
    "start_time": "2021-08-12T11:35:45.286Z"
   },
   {
    "duration": 16,
    "start_time": "2021-08-12T11:35:45.308Z"
   },
   {
    "duration": 12,
    "start_time": "2021-08-12T11:35:45.327Z"
   },
   {
    "duration": 38,
    "start_time": "2021-08-12T11:35:45.341Z"
   },
   {
    "duration": 22,
    "start_time": "2021-08-12T11:35:45.382Z"
   },
   {
    "duration": 9,
    "start_time": "2021-08-12T11:35:45.406Z"
   },
   {
    "duration": 50,
    "start_time": "2021-08-12T11:35:45.417Z"
   },
   {
    "duration": 15,
    "start_time": "2021-08-12T11:35:45.469Z"
   },
   {
    "duration": 25,
    "start_time": "2021-08-12T11:35:45.486Z"
   },
   {
    "duration": 22,
    "start_time": "2021-08-12T11:35:45.513Z"
   },
   {
    "duration": 24,
    "start_time": "2021-08-12T11:35:45.538Z"
   },
   {
    "duration": 15,
    "start_time": "2021-08-12T11:35:45.565Z"
   },
   {
    "duration": 21,
    "start_time": "2021-08-12T11:35:45.582Z"
   },
   {
    "duration": 20,
    "start_time": "2021-08-12T11:35:45.606Z"
   },
   {
    "duration": 5,
    "start_time": "2021-08-12T11:35:45.629Z"
   },
   {
    "duration": 11,
    "start_time": "2021-08-12T11:35:45.636Z"
   },
   {
    "duration": 32,
    "start_time": "2021-08-12T11:35:45.650Z"
   },
   {
    "duration": 22,
    "start_time": "2021-08-12T11:35:45.685Z"
   },
   {
    "duration": 11,
    "start_time": "2021-08-12T11:35:45.710Z"
   },
   {
    "duration": 51,
    "start_time": "2021-08-12T11:35:45.724Z"
   },
   {
    "duration": 12,
    "start_time": "2021-08-12T11:35:45.778Z"
   },
   {
    "duration": 81,
    "start_time": "2021-08-12T11:35:45.792Z"
   },
   {
    "duration": 25,
    "start_time": "2021-08-12T11:35:45.875Z"
   },
   {
    "duration": 29,
    "start_time": "2021-08-12T11:35:45.902Z"
   },
   {
    "duration": 40,
    "start_time": "2021-08-12T11:35:45.933Z"
   },
   {
    "duration": 11,
    "start_time": "2021-08-12T11:35:45.976Z"
   },
   {
    "duration": 10,
    "start_time": "2021-08-12T11:35:45.995Z"
   },
   {
    "duration": 4854,
    "start_time": "2021-08-12T11:35:46.008Z"
   },
   {
    "duration": 5,
    "start_time": "2021-08-12T11:35:50.865Z"
   },
   {
    "duration": 3838,
    "start_time": "2021-08-12T11:35:50.873Z"
   },
   {
    "duration": 10,
    "start_time": "2021-08-12T11:35:54.713Z"
   },
   {
    "duration": 69,
    "start_time": "2021-08-12T11:35:54.725Z"
   },
   {
    "duration": 4,
    "start_time": "2021-08-12T11:35:54.796Z"
   },
   {
    "duration": 45,
    "start_time": "2021-08-12T11:35:54.802Z"
   },
   {
    "duration": 21,
    "start_time": "2021-08-12T11:35:54.849Z"
   },
   {
    "duration": 24,
    "start_time": "2021-08-12T11:35:54.872Z"
   },
   {
    "duration": 17,
    "start_time": "2021-08-12T11:35:54.898Z"
   },
   {
    "duration": 25,
    "start_time": "2021-08-12T11:35:54.917Z"
   },
   {
    "duration": 35,
    "start_time": "2021-08-12T11:35:54.945Z"
   },
   {
    "duration": 22,
    "start_time": "2021-08-12T11:35:54.983Z"
   },
   {
    "duration": 20,
    "start_time": "2021-08-12T11:35:55.008Z"
   },
   {
    "duration": 44,
    "start_time": "2021-08-12T11:35:55.030Z"
   },
   {
    "duration": 17,
    "start_time": "2021-08-12T11:35:55.077Z"
   },
   {
    "duration": 28,
    "start_time": "2021-08-12T11:35:55.097Z"
   },
   {
    "duration": 46,
    "start_time": "2021-08-12T11:35:55.128Z"
   },
   {
    "duration": 18,
    "start_time": "2021-08-12T11:35:55.177Z"
   },
   {
    "duration": 29,
    "start_time": "2021-08-12T11:35:55.198Z"
   },
   {
    "duration": 47,
    "start_time": "2021-08-12T11:35:55.230Z"
   },
   {
    "duration": 17,
    "start_time": "2021-08-12T11:35:55.280Z"
   },
   {
    "duration": 809,
    "start_time": "2021-08-12T11:46:55.217Z"
   },
   {
    "duration": 27,
    "start_time": "2021-08-12T11:46:56.029Z"
   },
   {
    "duration": 5,
    "start_time": "2021-08-12T11:46:56.063Z"
   },
   {
    "duration": 64,
    "start_time": "2021-08-12T11:46:56.071Z"
   },
   {
    "duration": 41,
    "start_time": "2021-08-12T11:46:56.138Z"
   },
   {
    "duration": 9,
    "start_time": "2021-08-12T11:46:56.181Z"
   },
   {
    "duration": 14,
    "start_time": "2021-08-12T11:46:56.192Z"
   },
   {
    "duration": 15,
    "start_time": "2021-08-12T11:46:56.210Z"
   },
   {
    "duration": 4,
    "start_time": "2021-08-12T11:46:56.262Z"
   },
   {
    "duration": 16,
    "start_time": "2021-08-12T11:46:56.269Z"
   },
   {
    "duration": 13,
    "start_time": "2021-08-12T11:46:56.288Z"
   },
   {
    "duration": 12,
    "start_time": "2021-08-12T11:46:56.304Z"
   },
   {
    "duration": 47,
    "start_time": "2021-08-12T11:46:56.319Z"
   },
   {
    "duration": 14,
    "start_time": "2021-08-12T11:46:56.368Z"
   },
   {
    "duration": 12,
    "start_time": "2021-08-12T11:46:56.384Z"
   },
   {
    "duration": 11,
    "start_time": "2021-08-12T11:46:56.398Z"
   },
   {
    "duration": 11,
    "start_time": "2021-08-12T11:46:56.412Z"
   },
   {
    "duration": 39,
    "start_time": "2021-08-12T11:46:56.426Z"
   },
   {
    "duration": 9,
    "start_time": "2021-08-12T11:46:56.467Z"
   },
   {
    "duration": 12,
    "start_time": "2021-08-12T11:46:56.478Z"
   },
   {
    "duration": 8,
    "start_time": "2021-08-12T11:46:56.493Z"
   },
   {
    "duration": 9,
    "start_time": "2021-08-12T11:46:56.503Z"
   },
   {
    "duration": 44,
    "start_time": "2021-08-12T11:46:56.519Z"
   },
   {
    "duration": 11,
    "start_time": "2021-08-12T11:46:56.567Z"
   },
   {
    "duration": 13,
    "start_time": "2021-08-12T11:46:56.580Z"
   },
   {
    "duration": 8,
    "start_time": "2021-08-12T11:46:56.596Z"
   },
   {
    "duration": 55,
    "start_time": "2021-08-12T11:46:56.607Z"
   },
   {
    "duration": 10,
    "start_time": "2021-08-12T11:46:56.665Z"
   },
   {
    "duration": 12,
    "start_time": "2021-08-12T11:46:56.678Z"
   },
   {
    "duration": 10,
    "start_time": "2021-08-12T11:46:56.693Z"
   },
   {
    "duration": 18,
    "start_time": "2021-08-12T11:46:56.706Z"
   },
   {
    "duration": 36,
    "start_time": "2021-08-12T11:46:56.727Z"
   },
   {
    "duration": 6,
    "start_time": "2021-08-12T11:46:56.766Z"
   },
   {
    "duration": 10,
    "start_time": "2021-08-12T11:46:56.774Z"
   },
   {
    "duration": 52,
    "start_time": "2021-08-12T11:46:56.787Z"
   },
   {
    "duration": 4,
    "start_time": "2021-08-12T11:46:56.863Z"
   },
   {
    "duration": 18,
    "start_time": "2021-08-12T11:46:56.870Z"
   },
   {
    "duration": 11,
    "start_time": "2021-08-12T11:46:56.890Z"
   },
   {
    "duration": 15,
    "start_time": "2021-08-12T11:46:56.904Z"
   },
   {
    "duration": 41,
    "start_time": "2021-08-12T11:46:56.921Z"
   },
   {
    "duration": 12,
    "start_time": "2021-08-12T11:46:56.965Z"
   },
   {
    "duration": 12,
    "start_time": "2021-08-12T11:46:56.979Z"
   },
   {
    "duration": 10,
    "start_time": "2021-08-12T11:46:56.993Z"
   },
   {
    "duration": 9,
    "start_time": "2021-08-12T11:46:57.006Z"
   },
   {
    "duration": 51,
    "start_time": "2021-08-12T11:46:57.018Z"
   },
   {
    "duration": 19,
    "start_time": "2021-08-12T11:46:57.072Z"
   },
   {
    "duration": 7,
    "start_time": "2021-08-12T11:46:57.095Z"
   },
   {
    "duration": 16,
    "start_time": "2021-08-12T11:46:57.105Z"
   },
   {
    "duration": 43,
    "start_time": "2021-08-12T11:46:57.123Z"
   },
   {
    "duration": 8,
    "start_time": "2021-08-12T11:46:57.169Z"
   },
   {
    "duration": 21,
    "start_time": "2021-08-12T11:46:57.180Z"
   },
   {
    "duration": 7,
    "start_time": "2021-08-12T11:46:57.203Z"
   },
   {
    "duration": 8,
    "start_time": "2021-08-12T11:46:57.213Z"
   },
   {
    "duration": 9,
    "start_time": "2021-08-12T11:46:57.263Z"
   },
   {
    "duration": 16,
    "start_time": "2021-08-12T11:46:57.275Z"
   },
   {
    "duration": 5,
    "start_time": "2021-08-12T11:46:57.293Z"
   },
   {
    "duration": 9,
    "start_time": "2021-08-12T11:46:57.301Z"
   },
   {
    "duration": 56,
    "start_time": "2021-08-12T11:46:57.312Z"
   },
   {
    "duration": 32,
    "start_time": "2021-08-12T11:46:57.370Z"
   },
   {
    "duration": 12,
    "start_time": "2021-08-12T11:46:57.404Z"
   },
   {
    "duration": 29,
    "start_time": "2021-08-12T11:46:57.419Z"
   },
   {
    "duration": 35,
    "start_time": "2021-08-12T11:46:57.450Z"
   },
   {
    "duration": 90,
    "start_time": "2021-08-12T11:46:57.488Z"
   },
   {
    "duration": 38,
    "start_time": "2021-08-12T11:46:57.582Z"
   },
   {
    "duration": 61,
    "start_time": "2021-08-12T11:46:57.623Z"
   },
   {
    "duration": 16,
    "start_time": "2021-08-12T11:46:57.686Z"
   },
   {
    "duration": 13,
    "start_time": "2021-08-12T11:46:57.705Z"
   },
   {
    "duration": 34,
    "start_time": "2021-08-12T11:46:57.728Z"
   },
   {
    "duration": 4735,
    "start_time": "2021-08-12T11:46:57.766Z"
   },
   {
    "duration": 6,
    "start_time": "2021-08-12T11:47:02.504Z"
   },
   {
    "duration": 3593,
    "start_time": "2021-08-12T11:47:02.512Z"
   },
   {
    "duration": 10,
    "start_time": "2021-08-12T11:47:06.108Z"
   },
   {
    "duration": 67,
    "start_time": "2021-08-12T11:47:06.121Z"
   },
   {
    "duration": 5,
    "start_time": "2021-08-12T11:47:06.191Z"
   },
   {
    "duration": 25,
    "start_time": "2021-08-12T11:47:06.198Z"
   },
   {
    "duration": 9,
    "start_time": "2021-08-12T11:47:06.226Z"
   },
   {
    "duration": 3,
    "start_time": "2021-08-12T11:47:06.262Z"
   },
   {
    "duration": 15,
    "start_time": "2021-08-12T11:47:06.268Z"
   },
   {
    "duration": 15,
    "start_time": "2021-08-12T11:47:06.285Z"
   },
   {
    "duration": 35,
    "start_time": "2021-08-12T11:47:06.302Z"
   },
   {
    "duration": 39,
    "start_time": "2021-08-12T11:47:06.340Z"
   },
   {
    "duration": 18,
    "start_time": "2021-08-12T11:47:06.381Z"
   },
   {
    "duration": 16,
    "start_time": "2021-08-12T11:47:06.401Z"
   },
   {
    "duration": 69,
    "start_time": "2021-08-12T11:47:06.420Z"
   },
   {
    "duration": 32,
    "start_time": "2021-08-12T11:47:06.491Z"
   },
   {
    "duration": 16,
    "start_time": "2021-08-12T11:47:06.525Z"
   },
   {
    "duration": 33,
    "start_time": "2021-08-12T11:47:06.543Z"
   },
   {
    "duration": 31,
    "start_time": "2021-08-12T11:47:06.580Z"
   },
   {
    "duration": 18,
    "start_time": "2021-08-12T11:47:06.614Z"
   },
   {
    "duration": 38,
    "start_time": "2021-08-12T11:47:06.635Z"
   },
   {
    "duration": 796,
    "start_time": "2021-08-12T14:47:16.885Z"
   },
   {
    "duration": 27,
    "start_time": "2021-08-12T14:47:17.683Z"
   },
   {
    "duration": 9,
    "start_time": "2021-08-12T14:47:17.714Z"
   },
   {
    "duration": 79,
    "start_time": "2021-08-12T14:47:17.726Z"
   },
   {
    "duration": 19,
    "start_time": "2021-08-12T14:47:17.808Z"
   },
   {
    "duration": 28,
    "start_time": "2021-08-12T14:47:17.830Z"
   },
   {
    "duration": 22,
    "start_time": "2021-08-12T14:47:17.860Z"
   },
   {
    "duration": 14,
    "start_time": "2021-08-12T14:47:17.886Z"
   },
   {
    "duration": 3,
    "start_time": "2021-08-12T14:47:17.903Z"
   },
   {
    "duration": 16,
    "start_time": "2021-08-12T14:47:17.909Z"
   },
   {
    "duration": 40,
    "start_time": "2021-08-12T14:47:17.928Z"
   },
   {
    "duration": 16,
    "start_time": "2021-08-12T14:47:17.971Z"
   },
   {
    "duration": 16,
    "start_time": "2021-08-12T14:47:17.990Z"
   },
   {
    "duration": 16,
    "start_time": "2021-08-12T14:47:18.008Z"
   },
   {
    "duration": 35,
    "start_time": "2021-08-12T14:47:18.026Z"
   },
   {
    "duration": 33,
    "start_time": "2021-08-12T14:47:18.063Z"
   },
   {
    "duration": 16,
    "start_time": "2021-08-12T14:47:18.098Z"
   },
   {
    "duration": 16,
    "start_time": "2021-08-12T14:47:18.117Z"
   },
   {
    "duration": 11,
    "start_time": "2021-08-12T14:47:18.136Z"
   },
   {
    "duration": 10,
    "start_time": "2021-08-12T14:47:18.149Z"
   },
   {
    "duration": 10,
    "start_time": "2021-08-12T14:47:18.161Z"
   },
   {
    "duration": 15,
    "start_time": "2021-08-12T14:47:18.173Z"
   },
   {
    "duration": 16,
    "start_time": "2021-08-12T14:47:18.194Z"
   },
   {
    "duration": 9,
    "start_time": "2021-08-12T14:47:18.214Z"
   },
   {
    "duration": 39,
    "start_time": "2021-08-12T14:47:18.225Z"
   },
   {
    "duration": 18,
    "start_time": "2021-08-12T14:47:18.266Z"
   },
   {
    "duration": 18,
    "start_time": "2021-08-12T14:47:18.287Z"
   },
   {
    "duration": 20,
    "start_time": "2021-08-12T14:47:18.307Z"
   },
   {
    "duration": 15,
    "start_time": "2021-08-12T14:47:18.329Z"
   },
   {
    "duration": 28,
    "start_time": "2021-08-12T14:47:18.346Z"
   },
   {
    "duration": 14,
    "start_time": "2021-08-12T14:47:18.376Z"
   },
   {
    "duration": 10,
    "start_time": "2021-08-12T14:47:18.392Z"
   },
   {
    "duration": 15,
    "start_time": "2021-08-12T14:47:18.404Z"
   },
   {
    "duration": 5,
    "start_time": "2021-08-12T14:47:18.421Z"
   },
   {
    "duration": 54,
    "start_time": "2021-08-12T14:47:18.429Z"
   },
   {
    "duration": 4,
    "start_time": "2021-08-12T14:47:18.485Z"
   },
   {
    "duration": 15,
    "start_time": "2021-08-12T14:47:18.492Z"
   },
   {
    "duration": 21,
    "start_time": "2021-08-12T14:47:18.509Z"
   },
   {
    "duration": 33,
    "start_time": "2021-08-12T14:47:18.532Z"
   },
   {
    "duration": 20,
    "start_time": "2021-08-12T14:47:18.568Z"
   },
   {
    "duration": 22,
    "start_time": "2021-08-12T14:47:18.590Z"
   },
   {
    "duration": 25,
    "start_time": "2021-08-12T14:47:18.614Z"
   },
   {
    "duration": 29,
    "start_time": "2021-08-12T14:47:18.641Z"
   },
   {
    "duration": 15,
    "start_time": "2021-08-12T14:47:18.673Z"
   },
   {
    "duration": 17,
    "start_time": "2021-08-12T14:47:18.692Z"
   },
   {
    "duration": 20,
    "start_time": "2021-08-12T14:47:18.712Z"
   },
   {
    "duration": 8,
    "start_time": "2021-08-12T14:47:18.755Z"
   },
   {
    "duration": 15,
    "start_time": "2021-08-12T14:47:18.766Z"
   },
   {
    "duration": 12,
    "start_time": "2021-08-12T14:47:18.783Z"
   },
   {
    "duration": 15,
    "start_time": "2021-08-12T14:47:18.797Z"
   },
   {
    "duration": 51,
    "start_time": "2021-08-12T14:47:18.814Z"
   },
   {
    "duration": 18,
    "start_time": "2021-08-12T14:47:18.868Z"
   },
   {
    "duration": 18,
    "start_time": "2021-08-12T14:47:18.889Z"
   },
   {
    "duration": 17,
    "start_time": "2021-08-12T14:47:18.910Z"
   },
   {
    "duration": 25,
    "start_time": "2021-08-12T14:47:18.930Z"
   },
   {
    "duration": 12,
    "start_time": "2021-08-12T14:47:18.958Z"
   },
   {
    "duration": 15,
    "start_time": "2021-08-12T14:47:18.972Z"
   },
   {
    "duration": 38,
    "start_time": "2021-08-12T14:47:18.989Z"
   },
   {
    "duration": 37,
    "start_time": "2021-08-12T14:47:19.030Z"
   },
   {
    "duration": 11,
    "start_time": "2021-08-12T14:47:19.070Z"
   },
   {
    "duration": 20,
    "start_time": "2021-08-12T14:47:19.083Z"
   },
   {
    "duration": 21,
    "start_time": "2021-08-12T14:47:19.105Z"
   },
   {
    "duration": 74,
    "start_time": "2021-08-12T14:47:19.128Z"
   },
   {
    "duration": 32,
    "start_time": "2021-08-12T14:47:19.204Z"
   },
   {
    "duration": 31,
    "start_time": "2021-08-12T14:47:19.256Z"
   },
   {
    "duration": 18,
    "start_time": "2021-08-12T14:47:19.290Z"
   },
   {
    "duration": 39,
    "start_time": "2021-08-12T14:47:19.318Z"
   },
   {
    "duration": 10,
    "start_time": "2021-08-12T14:47:19.361Z"
   },
   {
    "duration": 4529,
    "start_time": "2021-08-12T14:47:19.373Z"
   },
   {
    "duration": 6,
    "start_time": "2021-08-12T14:47:23.905Z"
   },
   {
    "duration": 3625,
    "start_time": "2021-08-12T14:47:23.913Z"
   },
   {
    "duration": 20,
    "start_time": "2021-08-12T14:47:27.541Z"
   },
   {
    "duration": 51,
    "start_time": "2021-08-12T14:47:27.564Z"
   },
   {
    "duration": 4,
    "start_time": "2021-08-12T14:47:27.617Z"
   },
   {
    "duration": 44,
    "start_time": "2021-08-12T14:47:27.623Z"
   },
   {
    "duration": 9,
    "start_time": "2021-08-12T14:47:27.670Z"
   },
   {
    "duration": 5,
    "start_time": "2021-08-12T14:47:27.681Z"
   },
   {
    "duration": 17,
    "start_time": "2021-08-12T14:47:27.688Z"
   },
   {
    "duration": 11,
    "start_time": "2021-08-12T14:47:27.708Z"
   },
   {
    "duration": 57,
    "start_time": "2021-08-12T14:47:27.721Z"
   },
   {
    "duration": 22,
    "start_time": "2021-08-12T14:47:27.780Z"
   },
   {
    "duration": 18,
    "start_time": "2021-08-12T14:47:27.804Z"
   },
   {
    "duration": 44,
    "start_time": "2021-08-12T14:47:27.825Z"
   },
   {
    "duration": 18,
    "start_time": "2021-08-12T14:47:27.871Z"
   },
   {
    "duration": 23,
    "start_time": "2021-08-12T14:47:27.892Z"
   },
   {
    "duration": 37,
    "start_time": "2021-08-12T14:47:27.918Z"
   },
   {
    "duration": 15,
    "start_time": "2021-08-12T14:47:27.958Z"
   },
   {
    "duration": 27,
    "start_time": "2021-08-12T14:47:27.976Z"
   },
   {
    "duration": 15,
    "start_time": "2021-08-12T14:47:28.006Z"
   },
   {
    "duration": 16,
    "start_time": "2021-08-12T14:47:28.056Z"
   },
   {
    "duration": 517,
    "start_time": "2022-04-27T05:15:33.720Z"
   },
   {
    "duration": 113,
    "start_time": "2022-04-27T05:15:34.239Z"
   },
   {
    "duration": 5,
    "start_time": "2022-04-27T05:15:34.354Z"
   },
   {
    "duration": 70,
    "start_time": "2022-04-27T05:15:34.361Z"
   },
   {
    "duration": 22,
    "start_time": "2022-04-27T05:15:34.433Z"
   },
   {
    "duration": 37,
    "start_time": "2022-04-27T05:15:34.458Z"
   },
   {
    "duration": 18,
    "start_time": "2022-04-27T05:15:34.497Z"
   },
   {
    "duration": 7,
    "start_time": "2022-04-27T05:15:34.518Z"
   },
   {
    "duration": 19,
    "start_time": "2022-04-27T05:15:34.527Z"
   },
   {
    "duration": 41,
    "start_time": "2022-04-27T05:15:34.550Z"
   },
   {
    "duration": 12,
    "start_time": "2022-04-27T05:15:34.593Z"
   },
   {
    "duration": 7,
    "start_time": "2022-04-27T05:15:34.607Z"
   },
   {
    "duration": 10,
    "start_time": "2022-04-27T05:15:34.617Z"
   },
   {
    "duration": 10,
    "start_time": "2022-04-27T05:15:34.630Z"
   },
   {
    "duration": 42,
    "start_time": "2022-04-27T05:15:34.643Z"
   },
   {
    "duration": 10,
    "start_time": "2022-04-27T05:15:34.687Z"
   },
   {
    "duration": 10,
    "start_time": "2022-04-27T05:15:34.698Z"
   },
   {
    "duration": 10,
    "start_time": "2022-04-27T05:15:34.710Z"
   },
   {
    "duration": 10,
    "start_time": "2022-04-27T05:15:34.722Z"
   },
   {
    "duration": 12,
    "start_time": "2022-04-27T05:15:34.734Z"
   },
   {
    "duration": 35,
    "start_time": "2022-04-27T05:15:34.748Z"
   },
   {
    "duration": 15,
    "start_time": "2022-04-27T05:15:34.785Z"
   },
   {
    "duration": 8,
    "start_time": "2022-04-27T05:15:34.802Z"
   },
   {
    "duration": 8,
    "start_time": "2022-04-27T05:15:34.813Z"
   },
   {
    "duration": 8,
    "start_time": "2022-04-27T05:15:34.823Z"
   },
   {
    "duration": 9,
    "start_time": "2022-04-27T05:15:34.833Z"
   },
   {
    "duration": 8,
    "start_time": "2022-04-27T05:15:34.882Z"
   },
   {
    "duration": 7,
    "start_time": "2022-04-27T05:15:34.897Z"
   },
   {
    "duration": 11,
    "start_time": "2022-04-27T05:15:34.906Z"
   },
   {
    "duration": 8,
    "start_time": "2022-04-27T05:15:34.919Z"
   },
   {
    "duration": 8,
    "start_time": "2022-04-27T05:15:34.929Z"
   },
   {
    "duration": 8,
    "start_time": "2022-04-27T05:15:34.940Z"
   },
   {
    "duration": 3,
    "start_time": "2022-04-27T05:15:34.983Z"
   },
   {
    "duration": 47,
    "start_time": "2022-04-27T05:15:34.989Z"
   },
   {
    "duration": 4,
    "start_time": "2022-04-27T05:15:35.038Z"
   },
   {
    "duration": 37,
    "start_time": "2022-04-27T05:15:35.045Z"
   },
   {
    "duration": 9,
    "start_time": "2022-04-27T05:15:35.084Z"
   },
   {
    "duration": 16,
    "start_time": "2022-04-27T05:15:35.095Z"
   },
   {
    "duration": 7,
    "start_time": "2022-04-27T05:15:35.113Z"
   },
   {
    "duration": 14,
    "start_time": "2022-04-27T05:15:35.122Z"
   },
   {
    "duration": 10,
    "start_time": "2022-04-27T05:15:35.138Z"
   },
   {
    "duration": 33,
    "start_time": "2022-04-27T05:15:35.150Z"
   },
   {
    "duration": 6,
    "start_time": "2022-04-27T05:15:35.185Z"
   },
   {
    "duration": 29,
    "start_time": "2022-04-27T05:15:35.193Z"
   },
   {
    "duration": 23,
    "start_time": "2022-04-27T05:15:35.224Z"
   },
   {
    "duration": 37,
    "start_time": "2022-04-27T05:15:35.248Z"
   },
   {
    "duration": 13,
    "start_time": "2022-04-27T05:15:35.288Z"
   },
   {
    "duration": 10,
    "start_time": "2022-04-27T05:15:35.303Z"
   },
   {
    "duration": 15,
    "start_time": "2022-04-27T05:15:35.315Z"
   },
   {
    "duration": 51,
    "start_time": "2022-04-27T05:15:35.332Z"
   },
   {
    "duration": 8,
    "start_time": "2022-04-27T05:15:35.385Z"
   },
   {
    "duration": 8,
    "start_time": "2022-04-27T05:15:35.395Z"
   },
   {
    "duration": 12,
    "start_time": "2022-04-27T05:15:35.405Z"
   },
   {
    "duration": 24,
    "start_time": "2022-04-27T05:15:35.419Z"
   },
   {
    "duration": 4,
    "start_time": "2022-04-27T05:15:35.445Z"
   },
   {
    "duration": 34,
    "start_time": "2022-04-27T05:15:35.451Z"
   },
   {
    "duration": 24,
    "start_time": "2022-04-27T05:15:35.487Z"
   },
   {
    "duration": 24,
    "start_time": "2022-04-27T05:15:35.513Z"
   },
   {
    "duration": 9,
    "start_time": "2022-04-27T05:15:35.539Z"
   },
   {
    "duration": 43,
    "start_time": "2022-04-27T05:15:35.551Z"
   },
   {
    "duration": 16,
    "start_time": "2022-04-27T05:15:35.596Z"
   },
   {
    "duration": 67,
    "start_time": "2022-04-27T05:15:35.614Z"
   },
   {
    "duration": 28,
    "start_time": "2022-04-27T05:15:35.684Z"
   },
   {
    "duration": 30,
    "start_time": "2022-04-27T05:15:35.714Z"
   },
   {
    "duration": 42,
    "start_time": "2022-04-27T05:15:35.746Z"
   },
   {
    "duration": 10,
    "start_time": "2022-04-27T05:15:35.790Z"
   },
   {
    "duration": 6,
    "start_time": "2022-04-27T05:15:35.802Z"
   },
   {
    "duration": 5122,
    "start_time": "2022-04-27T05:15:35.810Z"
   },
   {
    "duration": 6,
    "start_time": "2022-04-27T05:15:40.935Z"
   },
   {
    "duration": 5575,
    "start_time": "2022-04-27T05:15:40.944Z"
   },
   {
    "duration": 11,
    "start_time": "2022-04-27T05:15:46.521Z"
   },
   {
    "duration": 67,
    "start_time": "2022-04-27T05:15:46.534Z"
   },
   {
    "duration": 5,
    "start_time": "2022-04-27T05:15:46.603Z"
   },
   {
    "duration": 39,
    "start_time": "2022-04-27T05:15:46.610Z"
   },
   {
    "duration": 16,
    "start_time": "2022-04-27T05:15:46.651Z"
   },
   {
    "duration": 17,
    "start_time": "2022-04-27T05:15:46.670Z"
   },
   {
    "duration": 12,
    "start_time": "2022-04-27T05:15:46.690Z"
   },
   {
    "duration": 11,
    "start_time": "2022-04-27T05:15:46.705Z"
   },
   {
    "duration": 20,
    "start_time": "2022-04-27T05:15:46.719Z"
   },
   {
    "duration": 40,
    "start_time": "2022-04-27T05:15:46.742Z"
   },
   {
    "duration": 18,
    "start_time": "2022-04-27T05:15:46.784Z"
   },
   {
    "duration": 16,
    "start_time": "2022-04-27T05:15:46.810Z"
   },
   {
    "duration": 16,
    "start_time": "2022-04-27T05:15:46.828Z"
   },
   {
    "duration": 19,
    "start_time": "2022-04-27T05:15:46.882Z"
   },
   {
    "duration": 17,
    "start_time": "2022-04-27T05:15:46.903Z"
   },
   {
    "duration": 18,
    "start_time": "2022-04-27T05:15:46.923Z"
   },
   {
    "duration": 53,
    "start_time": "2022-04-27T05:15:46.943Z"
   },
   {
    "duration": 16,
    "start_time": "2022-04-27T05:15:46.998Z"
   },
   {
    "duration": 17,
    "start_time": "2022-04-27T05:15:47.016Z"
   },
   {
    "duration": 5,
    "start_time": "2022-04-27T05:18:17.062Z"
   },
   {
    "duration": 71,
    "start_time": "2022-04-27T05:18:19.515Z"
   },
   {
    "duration": 5,
    "start_time": "2022-04-27T05:18:42.840Z"
   },
   {
    "duration": 72,
    "start_time": "2022-04-27T05:18:43.439Z"
   },
   {
    "duration": 4,
    "start_time": "2022-04-27T05:19:35.805Z"
   },
   {
    "duration": 85,
    "start_time": "2022-04-27T05:19:38.327Z"
   },
   {
    "duration": 9,
    "start_time": "2022-04-27T05:22:04.849Z"
   },
   {
    "duration": 9,
    "start_time": "2022-04-27T05:22:19.354Z"
   },
   {
    "duration": 32,
    "start_time": "2022-04-27T05:22:24.949Z"
   },
   {
    "duration": 10,
    "start_time": "2022-04-27T05:22:49.579Z"
   },
   {
    "duration": 12,
    "start_time": "2022-04-27T05:22:50.570Z"
   },
   {
    "duration": 7,
    "start_time": "2022-04-27T05:22:57.170Z"
   },
   {
    "duration": 12,
    "start_time": "2022-04-27T05:23:25.025Z"
   },
   {
    "duration": 175,
    "start_time": "2022-04-27T05:25:02.061Z"
   },
   {
    "duration": 23,
    "start_time": "2022-04-27T05:29:06.041Z"
   },
   {
    "duration": 5,
    "start_time": "2022-04-27T05:31:00.823Z"
   },
   {
    "duration": 1380,
    "start_time": "2022-04-27T05:33:26.520Z"
   },
   {
    "duration": 8,
    "start_time": "2022-04-27T05:33:44.760Z"
   },
   {
    "duration": 565,
    "start_time": "2022-04-27T05:36:03.332Z"
   },
   {
    "duration": 4,
    "start_time": "2022-04-27T05:36:03.900Z"
   },
   {
    "duration": 104,
    "start_time": "2022-04-27T05:36:03.905Z"
   },
   {
    "duration": 5,
    "start_time": "2022-04-27T05:36:04.012Z"
   },
   {
    "duration": 83,
    "start_time": "2022-04-27T05:36:04.018Z"
   },
   {
    "duration": 18,
    "start_time": "2022-04-27T05:36:04.103Z"
   },
   {
    "duration": 15,
    "start_time": "2022-04-27T05:36:04.123Z"
   },
   {
    "duration": 47,
    "start_time": "2022-04-27T05:36:04.141Z"
   },
   {
    "duration": 10,
    "start_time": "2022-04-27T05:36:04.190Z"
   },
   {
    "duration": 9,
    "start_time": "2022-04-27T05:36:04.204Z"
   },
   {
    "duration": 11,
    "start_time": "2022-04-27T05:36:04.215Z"
   },
   {
    "duration": 58,
    "start_time": "2022-04-27T05:36:04.228Z"
   },
   {
    "duration": 5,
    "start_time": "2022-04-27T05:36:04.288Z"
   },
   {
    "duration": 2203,
    "start_time": "2022-04-27T05:36:04.296Z"
   },
   {
    "duration": 8,
    "start_time": "2022-04-27T05:36:06.502Z"
   },
   {
    "duration": 122,
    "start_time": "2022-04-27T05:36:06.512Z"
   },
   {
    "duration": 0,
    "start_time": "2022-04-27T05:36:06.639Z"
   },
   {
    "duration": 1,
    "start_time": "2022-04-27T05:36:06.640Z"
   },
   {
    "duration": 0,
    "start_time": "2022-04-27T05:36:06.642Z"
   },
   {
    "duration": 0,
    "start_time": "2022-04-27T05:36:06.645Z"
   },
   {
    "duration": 0,
    "start_time": "2022-04-27T05:36:06.647Z"
   },
   {
    "duration": 0,
    "start_time": "2022-04-27T05:36:06.649Z"
   },
   {
    "duration": 0,
    "start_time": "2022-04-27T05:36:06.651Z"
   },
   {
    "duration": 0,
    "start_time": "2022-04-27T05:36:06.652Z"
   },
   {
    "duration": 0,
    "start_time": "2022-04-27T05:36:06.654Z"
   },
   {
    "duration": 0,
    "start_time": "2022-04-27T05:36:06.656Z"
   },
   {
    "duration": 0,
    "start_time": "2022-04-27T05:36:06.658Z"
   },
   {
    "duration": 0,
    "start_time": "2022-04-27T05:36:06.660Z"
   },
   {
    "duration": 0,
    "start_time": "2022-04-27T05:36:06.662Z"
   },
   {
    "duration": 0,
    "start_time": "2022-04-27T05:36:06.664Z"
   },
   {
    "duration": 0,
    "start_time": "2022-04-27T05:36:06.666Z"
   },
   {
    "duration": 0,
    "start_time": "2022-04-27T05:36:06.668Z"
   },
   {
    "duration": 0,
    "start_time": "2022-04-27T05:36:06.669Z"
   },
   {
    "duration": 0,
    "start_time": "2022-04-27T05:36:06.671Z"
   },
   {
    "duration": 0,
    "start_time": "2022-04-27T05:36:06.673Z"
   },
   {
    "duration": 0,
    "start_time": "2022-04-27T05:36:06.675Z"
   },
   {
    "duration": 0,
    "start_time": "2022-04-27T05:36:06.682Z"
   },
   {
    "duration": 0,
    "start_time": "2022-04-27T05:36:06.684Z"
   },
   {
    "duration": 0,
    "start_time": "2022-04-27T05:36:06.686Z"
   },
   {
    "duration": 0,
    "start_time": "2022-04-27T05:36:06.687Z"
   },
   {
    "duration": 0,
    "start_time": "2022-04-27T05:36:06.689Z"
   },
   {
    "duration": 0,
    "start_time": "2022-04-27T05:36:06.691Z"
   },
   {
    "duration": 0,
    "start_time": "2022-04-27T05:36:06.693Z"
   },
   {
    "duration": 0,
    "start_time": "2022-04-27T05:36:06.695Z"
   },
   {
    "duration": 0,
    "start_time": "2022-04-27T05:36:06.697Z"
   },
   {
    "duration": 0,
    "start_time": "2022-04-27T05:36:06.699Z"
   },
   {
    "duration": 0,
    "start_time": "2022-04-27T05:36:06.700Z"
   },
   {
    "duration": 0,
    "start_time": "2022-04-27T05:36:06.702Z"
   },
   {
    "duration": 0,
    "start_time": "2022-04-27T05:36:06.704Z"
   },
   {
    "duration": 0,
    "start_time": "2022-04-27T05:36:06.705Z"
   },
   {
    "duration": 0,
    "start_time": "2022-04-27T05:36:06.707Z"
   },
   {
    "duration": 0,
    "start_time": "2022-04-27T05:36:06.709Z"
   },
   {
    "duration": 0,
    "start_time": "2022-04-27T05:36:06.711Z"
   },
   {
    "duration": 0,
    "start_time": "2022-04-27T05:36:06.713Z"
   },
   {
    "duration": 0,
    "start_time": "2022-04-27T05:36:06.715Z"
   },
   {
    "duration": 0,
    "start_time": "2022-04-27T05:36:06.717Z"
   },
   {
    "duration": 0,
    "start_time": "2022-04-27T05:36:06.719Z"
   },
   {
    "duration": 0,
    "start_time": "2022-04-27T05:36:06.721Z"
   },
   {
    "duration": 0,
    "start_time": "2022-04-27T05:36:06.782Z"
   },
   {
    "duration": 0,
    "start_time": "2022-04-27T05:36:06.784Z"
   },
   {
    "duration": 0,
    "start_time": "2022-04-27T05:36:06.786Z"
   },
   {
    "duration": 0,
    "start_time": "2022-04-27T05:36:06.788Z"
   },
   {
    "duration": 0,
    "start_time": "2022-04-27T05:36:06.789Z"
   },
   {
    "duration": 0,
    "start_time": "2022-04-27T05:36:06.792Z"
   },
   {
    "duration": 0,
    "start_time": "2022-04-27T05:36:06.794Z"
   },
   {
    "duration": 0,
    "start_time": "2022-04-27T05:36:06.795Z"
   },
   {
    "duration": 0,
    "start_time": "2022-04-27T05:36:06.797Z"
   },
   {
    "duration": 0,
    "start_time": "2022-04-27T05:36:06.798Z"
   },
   {
    "duration": 0,
    "start_time": "2022-04-27T05:36:06.801Z"
   },
   {
    "duration": 0,
    "start_time": "2022-04-27T05:36:06.802Z"
   },
   {
    "duration": 0,
    "start_time": "2022-04-27T05:36:06.804Z"
   },
   {
    "duration": 0,
    "start_time": "2022-04-27T05:36:06.806Z"
   },
   {
    "duration": 0,
    "start_time": "2022-04-27T05:36:06.808Z"
   },
   {
    "duration": 0,
    "start_time": "2022-04-27T05:36:06.810Z"
   },
   {
    "duration": 0,
    "start_time": "2022-04-27T05:36:06.811Z"
   },
   {
    "duration": 0,
    "start_time": "2022-04-27T05:36:06.813Z"
   },
   {
    "duration": 0,
    "start_time": "2022-04-27T05:36:06.815Z"
   },
   {
    "duration": 0,
    "start_time": "2022-04-27T05:36:06.817Z"
   },
   {
    "duration": 0,
    "start_time": "2022-04-27T05:36:06.883Z"
   },
   {
    "duration": 0,
    "start_time": "2022-04-27T05:36:06.885Z"
   },
   {
    "duration": 0,
    "start_time": "2022-04-27T05:36:06.886Z"
   },
   {
    "duration": 0,
    "start_time": "2022-04-27T05:36:06.888Z"
   },
   {
    "duration": 0,
    "start_time": "2022-04-27T05:36:06.890Z"
   },
   {
    "duration": 0,
    "start_time": "2022-04-27T05:36:06.892Z"
   },
   {
    "duration": 0,
    "start_time": "2022-04-27T05:36:06.894Z"
   },
   {
    "duration": 0,
    "start_time": "2022-04-27T05:36:06.896Z"
   },
   {
    "duration": 0,
    "start_time": "2022-04-27T05:36:06.898Z"
   },
   {
    "duration": 0,
    "start_time": "2022-04-27T05:36:06.900Z"
   },
   {
    "duration": 0,
    "start_time": "2022-04-27T05:36:06.901Z"
   },
   {
    "duration": 0,
    "start_time": "2022-04-27T05:36:06.903Z"
   },
   {
    "duration": 0,
    "start_time": "2022-04-27T05:36:06.905Z"
   },
   {
    "duration": 0,
    "start_time": "2022-04-27T05:36:06.907Z"
   },
   {
    "duration": 0,
    "start_time": "2022-04-27T05:36:06.909Z"
   },
   {
    "duration": 12,
    "start_time": "2022-04-27T05:36:48.752Z"
   },
   {
    "duration": 38,
    "start_time": "2022-04-27T05:37:13.623Z"
   },
   {
    "duration": 19,
    "start_time": "2022-04-27T05:37:18.963Z"
   },
   {
    "duration": 13,
    "start_time": "2022-04-27T05:37:52.534Z"
   },
   {
    "duration": 187,
    "start_time": "2022-04-27T05:38:58.986Z"
   },
   {
    "duration": 23,
    "start_time": "2022-04-27T05:39:25.850Z"
   },
   {
    "duration": 15,
    "start_time": "2022-04-27T05:39:33.215Z"
   },
   {
    "duration": 7,
    "start_time": "2022-04-27T05:40:12.216Z"
   },
   {
    "duration": 28,
    "start_time": "2022-04-27T05:40:24.201Z"
   },
   {
    "duration": 10,
    "start_time": "2022-04-27T05:40:40.446Z"
   },
   {
    "duration": 12,
    "start_time": "2022-04-27T05:40:53.586Z"
   },
   {
    "duration": 513,
    "start_time": "2022-04-27T05:41:08.715Z"
   },
   {
    "duration": 4,
    "start_time": "2022-04-27T05:41:09.231Z"
   },
   {
    "duration": 120,
    "start_time": "2022-04-27T05:41:09.237Z"
   },
   {
    "duration": 5,
    "start_time": "2022-04-27T05:41:09.360Z"
   },
   {
    "duration": 59,
    "start_time": "2022-04-27T05:41:09.381Z"
   },
   {
    "duration": 48,
    "start_time": "2022-04-27T05:41:09.442Z"
   },
   {
    "duration": 14,
    "start_time": "2022-04-27T05:41:09.492Z"
   },
   {
    "duration": 13,
    "start_time": "2022-04-27T05:41:09.508Z"
   },
   {
    "duration": 9,
    "start_time": "2022-04-27T05:41:09.524Z"
   },
   {
    "duration": 53,
    "start_time": "2022-04-27T05:41:09.538Z"
   },
   {
    "duration": 25,
    "start_time": "2022-04-27T05:41:09.592Z"
   },
   {
    "duration": 12,
    "start_time": "2022-04-27T05:41:09.619Z"
   },
   {
    "duration": 56,
    "start_time": "2022-04-27T05:41:09.634Z"
   },
   {
    "duration": 5,
    "start_time": "2022-04-27T05:41:09.693Z"
   },
   {
    "duration": 1666,
    "start_time": "2022-04-27T05:41:09.701Z"
   },
   {
    "duration": 13,
    "start_time": "2022-04-27T05:41:11.370Z"
   },
   {
    "duration": 15,
    "start_time": "2022-04-27T05:41:11.386Z"
   },
   {
    "duration": 121,
    "start_time": "2022-04-27T05:41:11.403Z"
   },
   {
    "duration": 0,
    "start_time": "2022-04-27T05:41:11.529Z"
   },
   {
    "duration": 0,
    "start_time": "2022-04-27T05:41:11.531Z"
   },
   {
    "duration": 0,
    "start_time": "2022-04-27T05:41:11.532Z"
   },
   {
    "duration": 0,
    "start_time": "2022-04-27T05:41:11.534Z"
   },
   {
    "duration": 0,
    "start_time": "2022-04-27T05:41:11.536Z"
   },
   {
    "duration": 0,
    "start_time": "2022-04-27T05:41:11.537Z"
   },
   {
    "duration": 0,
    "start_time": "2022-04-27T05:41:11.538Z"
   },
   {
    "duration": 0,
    "start_time": "2022-04-27T05:41:11.539Z"
   },
   {
    "duration": 0,
    "start_time": "2022-04-27T05:41:11.540Z"
   },
   {
    "duration": 0,
    "start_time": "2022-04-27T05:41:11.541Z"
   },
   {
    "duration": 0,
    "start_time": "2022-04-27T05:41:11.543Z"
   },
   {
    "duration": 0,
    "start_time": "2022-04-27T05:41:11.544Z"
   },
   {
    "duration": 0,
    "start_time": "2022-04-27T05:41:11.546Z"
   },
   {
    "duration": 0,
    "start_time": "2022-04-27T05:41:11.547Z"
   },
   {
    "duration": 0,
    "start_time": "2022-04-27T05:41:11.549Z"
   },
   {
    "duration": 0,
    "start_time": "2022-04-27T05:41:11.551Z"
   },
   {
    "duration": 0,
    "start_time": "2022-04-27T05:41:11.552Z"
   },
   {
    "duration": 0,
    "start_time": "2022-04-27T05:41:11.553Z"
   },
   {
    "duration": 0,
    "start_time": "2022-04-27T05:41:11.554Z"
   },
   {
    "duration": 0,
    "start_time": "2022-04-27T05:41:11.556Z"
   },
   {
    "duration": 0,
    "start_time": "2022-04-27T05:41:11.557Z"
   },
   {
    "duration": 0,
    "start_time": "2022-04-27T05:41:11.558Z"
   },
   {
    "duration": 0,
    "start_time": "2022-04-27T05:41:11.559Z"
   },
   {
    "duration": 0,
    "start_time": "2022-04-27T05:41:11.560Z"
   },
   {
    "duration": 0,
    "start_time": "2022-04-27T05:41:11.561Z"
   },
   {
    "duration": 0,
    "start_time": "2022-04-27T05:41:11.562Z"
   },
   {
    "duration": 0,
    "start_time": "2022-04-27T05:41:11.563Z"
   },
   {
    "duration": 0,
    "start_time": "2022-04-27T05:41:11.564Z"
   },
   {
    "duration": 0,
    "start_time": "2022-04-27T05:41:11.582Z"
   },
   {
    "duration": 0,
    "start_time": "2022-04-27T05:41:11.583Z"
   },
   {
    "duration": 0,
    "start_time": "2022-04-27T05:41:11.584Z"
   },
   {
    "duration": 0,
    "start_time": "2022-04-27T05:41:11.585Z"
   },
   {
    "duration": 0,
    "start_time": "2022-04-27T05:41:11.586Z"
   },
   {
    "duration": 0,
    "start_time": "2022-04-27T05:41:11.587Z"
   },
   {
    "duration": 0,
    "start_time": "2022-04-27T05:41:11.588Z"
   },
   {
    "duration": 0,
    "start_time": "2022-04-27T05:41:11.590Z"
   },
   {
    "duration": 0,
    "start_time": "2022-04-27T05:41:11.591Z"
   },
   {
    "duration": 0,
    "start_time": "2022-04-27T05:41:11.593Z"
   },
   {
    "duration": 0,
    "start_time": "2022-04-27T05:41:11.594Z"
   },
   {
    "duration": 0,
    "start_time": "2022-04-27T05:41:11.596Z"
   },
   {
    "duration": 0,
    "start_time": "2022-04-27T05:41:11.597Z"
   },
   {
    "duration": 0,
    "start_time": "2022-04-27T05:41:11.599Z"
   },
   {
    "duration": 0,
    "start_time": "2022-04-27T05:41:11.600Z"
   },
   {
    "duration": 0,
    "start_time": "2022-04-27T05:41:11.601Z"
   },
   {
    "duration": 0,
    "start_time": "2022-04-27T05:41:11.602Z"
   },
   {
    "duration": 0,
    "start_time": "2022-04-27T05:41:11.604Z"
   },
   {
    "duration": 0,
    "start_time": "2022-04-27T05:41:11.605Z"
   },
   {
    "duration": 0,
    "start_time": "2022-04-27T05:41:11.607Z"
   },
   {
    "duration": 0,
    "start_time": "2022-04-27T05:41:11.609Z"
   },
   {
    "duration": 0,
    "start_time": "2022-04-27T05:41:11.611Z"
   },
   {
    "duration": 0,
    "start_time": "2022-04-27T05:41:11.613Z"
   },
   {
    "duration": 0,
    "start_time": "2022-04-27T05:41:11.615Z"
   },
   {
    "duration": 0,
    "start_time": "2022-04-27T05:41:11.617Z"
   },
   {
    "duration": 0,
    "start_time": "2022-04-27T05:41:11.618Z"
   },
   {
    "duration": 0,
    "start_time": "2022-04-27T05:41:11.682Z"
   },
   {
    "duration": 0,
    "start_time": "2022-04-27T05:41:11.684Z"
   },
   {
    "duration": 0,
    "start_time": "2022-04-27T05:41:11.686Z"
   },
   {
    "duration": 0,
    "start_time": "2022-04-27T05:41:11.688Z"
   },
   {
    "duration": 0,
    "start_time": "2022-04-27T05:41:11.690Z"
   },
   {
    "duration": 0,
    "start_time": "2022-04-27T05:41:11.692Z"
   },
   {
    "duration": 0,
    "start_time": "2022-04-27T05:41:11.694Z"
   },
   {
    "duration": 0,
    "start_time": "2022-04-27T05:41:11.695Z"
   },
   {
    "duration": 0,
    "start_time": "2022-04-27T05:41:11.697Z"
   },
   {
    "duration": 0,
    "start_time": "2022-04-27T05:41:11.699Z"
   },
   {
    "duration": 0,
    "start_time": "2022-04-27T05:41:11.701Z"
   },
   {
    "duration": 0,
    "start_time": "2022-04-27T05:41:11.703Z"
   },
   {
    "duration": 0,
    "start_time": "2022-04-27T05:41:11.705Z"
   },
   {
    "duration": 1,
    "start_time": "2022-04-27T05:41:11.706Z"
   },
   {
    "duration": 0,
    "start_time": "2022-04-27T05:41:11.709Z"
   },
   {
    "duration": 0,
    "start_time": "2022-04-27T05:41:11.711Z"
   },
   {
    "duration": 0,
    "start_time": "2022-04-27T05:41:11.712Z"
   },
   {
    "duration": 0,
    "start_time": "2022-04-27T05:41:11.714Z"
   },
   {
    "duration": 0,
    "start_time": "2022-04-27T05:41:11.716Z"
   },
   {
    "duration": 0,
    "start_time": "2022-04-27T05:41:11.718Z"
   },
   {
    "duration": 0,
    "start_time": "2022-04-27T05:41:11.783Z"
   },
   {
    "duration": 0,
    "start_time": "2022-04-27T05:41:11.785Z"
   },
   {
    "duration": 0,
    "start_time": "2022-04-27T05:41:11.786Z"
   },
   {
    "duration": 12,
    "start_time": "2022-04-27T05:43:20.230Z"
   },
   {
    "duration": 32,
    "start_time": "2022-04-27T05:43:28.301Z"
   },
   {
    "duration": 26,
    "start_time": "2022-04-27T05:43:47.096Z"
   },
   {
    "duration": 15,
    "start_time": "2022-04-27T05:44:45.313Z"
   },
   {
    "duration": 15,
    "start_time": "2022-04-27T05:44:50.577Z"
   },
   {
    "duration": 178,
    "start_time": "2022-04-27T05:45:09.417Z"
   },
   {
    "duration": 6,
    "start_time": "2022-04-27T05:52:13.144Z"
   },
   {
    "duration": 635,
    "start_time": "2022-04-27T05:52:36.722Z"
   },
   {
    "duration": 5,
    "start_time": "2022-04-27T05:52:37.360Z"
   },
   {
    "duration": 112,
    "start_time": "2022-04-27T05:52:37.383Z"
   },
   {
    "duration": 4,
    "start_time": "2022-04-27T05:52:37.500Z"
   },
   {
    "duration": 82,
    "start_time": "2022-04-27T05:52:37.507Z"
   },
   {
    "duration": 19,
    "start_time": "2022-04-27T05:52:37.591Z"
   },
   {
    "duration": 22,
    "start_time": "2022-04-27T05:52:37.613Z"
   },
   {
    "duration": 44,
    "start_time": "2022-04-27T05:52:37.637Z"
   },
   {
    "duration": 10,
    "start_time": "2022-04-27T05:52:37.684Z"
   },
   {
    "duration": 12,
    "start_time": "2022-04-27T05:52:37.699Z"
   },
   {
    "duration": 31,
    "start_time": "2022-04-27T05:52:37.714Z"
   },
   {
    "duration": 44,
    "start_time": "2022-04-27T05:52:37.747Z"
   },
   {
    "duration": 6,
    "start_time": "2022-04-27T05:52:37.794Z"
   },
   {
    "duration": 124,
    "start_time": "2022-04-27T05:52:37.802Z"
   },
   {
    "duration": 0,
    "start_time": "2022-04-27T05:52:37.931Z"
   },
   {
    "duration": 0,
    "start_time": "2022-04-27T05:52:37.933Z"
   },
   {
    "duration": 0,
    "start_time": "2022-04-27T05:52:37.934Z"
   },
   {
    "duration": 0,
    "start_time": "2022-04-27T05:52:37.936Z"
   },
   {
    "duration": 0,
    "start_time": "2022-04-27T05:52:37.937Z"
   },
   {
    "duration": 0,
    "start_time": "2022-04-27T05:52:37.939Z"
   },
   {
    "duration": 0,
    "start_time": "2022-04-27T05:52:37.940Z"
   },
   {
    "duration": 0,
    "start_time": "2022-04-27T05:52:37.942Z"
   },
   {
    "duration": 1,
    "start_time": "2022-04-27T05:52:37.943Z"
   },
   {
    "duration": 0,
    "start_time": "2022-04-27T05:52:37.945Z"
   },
   {
    "duration": 0,
    "start_time": "2022-04-27T05:52:37.947Z"
   },
   {
    "duration": 0,
    "start_time": "2022-04-27T05:52:37.948Z"
   },
   {
    "duration": 0,
    "start_time": "2022-04-27T05:52:37.950Z"
   },
   {
    "duration": 0,
    "start_time": "2022-04-27T05:52:37.951Z"
   },
   {
    "duration": 0,
    "start_time": "2022-04-27T05:52:37.982Z"
   },
   {
    "duration": 0,
    "start_time": "2022-04-27T05:52:37.983Z"
   },
   {
    "duration": 0,
    "start_time": "2022-04-27T05:52:37.985Z"
   },
   {
    "duration": 0,
    "start_time": "2022-04-27T05:52:37.987Z"
   },
   {
    "duration": 0,
    "start_time": "2022-04-27T05:52:37.989Z"
   },
   {
    "duration": 0,
    "start_time": "2022-04-27T05:52:37.990Z"
   },
   {
    "duration": 1,
    "start_time": "2022-04-27T05:52:37.991Z"
   },
   {
    "duration": 1,
    "start_time": "2022-04-27T05:52:37.993Z"
   },
   {
    "duration": 0,
    "start_time": "2022-04-27T05:52:37.995Z"
   },
   {
    "duration": 0,
    "start_time": "2022-04-27T05:52:37.996Z"
   },
   {
    "duration": 0,
    "start_time": "2022-04-27T05:52:37.998Z"
   },
   {
    "duration": 0,
    "start_time": "2022-04-27T05:52:37.999Z"
   },
   {
    "duration": 1,
    "start_time": "2022-04-27T05:52:38.000Z"
   },
   {
    "duration": 0,
    "start_time": "2022-04-27T05:52:38.002Z"
   },
   {
    "duration": 0,
    "start_time": "2022-04-27T05:52:38.004Z"
   },
   {
    "duration": 0,
    "start_time": "2022-04-27T05:52:38.006Z"
   },
   {
    "duration": 0,
    "start_time": "2022-04-27T05:52:38.007Z"
   },
   {
    "duration": 0,
    "start_time": "2022-04-27T05:52:38.008Z"
   },
   {
    "duration": 0,
    "start_time": "2022-04-27T05:52:38.010Z"
   },
   {
    "duration": 0,
    "start_time": "2022-04-27T05:52:38.011Z"
   },
   {
    "duration": 0,
    "start_time": "2022-04-27T05:52:38.013Z"
   },
   {
    "duration": 0,
    "start_time": "2022-04-27T05:52:38.015Z"
   },
   {
    "duration": 0,
    "start_time": "2022-04-27T05:52:38.017Z"
   },
   {
    "duration": 0,
    "start_time": "2022-04-27T05:52:38.083Z"
   },
   {
    "duration": 0,
    "start_time": "2022-04-27T05:52:38.085Z"
   },
   {
    "duration": 0,
    "start_time": "2022-04-27T05:52:38.087Z"
   },
   {
    "duration": 0,
    "start_time": "2022-04-27T05:52:38.089Z"
   },
   {
    "duration": 0,
    "start_time": "2022-04-27T05:52:38.092Z"
   },
   {
    "duration": 0,
    "start_time": "2022-04-27T05:52:38.094Z"
   },
   {
    "duration": 0,
    "start_time": "2022-04-27T05:52:38.095Z"
   },
   {
    "duration": 0,
    "start_time": "2022-04-27T05:52:38.097Z"
   },
   {
    "duration": 0,
    "start_time": "2022-04-27T05:52:38.099Z"
   },
   {
    "duration": 0,
    "start_time": "2022-04-27T05:52:38.101Z"
   },
   {
    "duration": 0,
    "start_time": "2022-04-27T05:52:38.103Z"
   },
   {
    "duration": 0,
    "start_time": "2022-04-27T05:52:38.105Z"
   },
   {
    "duration": 0,
    "start_time": "2022-04-27T05:52:38.107Z"
   },
   {
    "duration": 0,
    "start_time": "2022-04-27T05:52:38.109Z"
   },
   {
    "duration": 0,
    "start_time": "2022-04-27T05:52:38.111Z"
   },
   {
    "duration": 0,
    "start_time": "2022-04-27T05:52:38.114Z"
   },
   {
    "duration": 0,
    "start_time": "2022-04-27T05:52:38.116Z"
   },
   {
    "duration": 0,
    "start_time": "2022-04-27T05:52:38.181Z"
   },
   {
    "duration": 0,
    "start_time": "2022-04-27T05:52:38.183Z"
   },
   {
    "duration": 0,
    "start_time": "2022-04-27T05:52:38.185Z"
   },
   {
    "duration": 0,
    "start_time": "2022-04-27T05:52:38.187Z"
   },
   {
    "duration": 0,
    "start_time": "2022-04-27T05:52:38.189Z"
   },
   {
    "duration": 0,
    "start_time": "2022-04-27T05:52:38.191Z"
   },
   {
    "duration": 0,
    "start_time": "2022-04-27T05:52:38.193Z"
   },
   {
    "duration": 0,
    "start_time": "2022-04-27T05:52:38.195Z"
   },
   {
    "duration": 0,
    "start_time": "2022-04-27T05:52:38.197Z"
   },
   {
    "duration": 0,
    "start_time": "2022-04-27T05:52:38.199Z"
   },
   {
    "duration": 0,
    "start_time": "2022-04-27T05:52:38.201Z"
   },
   {
    "duration": 0,
    "start_time": "2022-04-27T05:52:38.203Z"
   },
   {
    "duration": 0,
    "start_time": "2022-04-27T05:52:38.205Z"
   },
   {
    "duration": 0,
    "start_time": "2022-04-27T05:52:38.206Z"
   },
   {
    "duration": 0,
    "start_time": "2022-04-27T05:52:38.208Z"
   },
   {
    "duration": 0,
    "start_time": "2022-04-27T05:52:38.210Z"
   },
   {
    "duration": 1,
    "start_time": "2022-04-27T05:52:38.211Z"
   },
   {
    "duration": 0,
    "start_time": "2022-04-27T05:52:38.213Z"
   },
   {
    "duration": 1,
    "start_time": "2022-04-27T05:52:38.214Z"
   },
   {
    "duration": 0,
    "start_time": "2022-04-27T05:52:38.216Z"
   },
   {
    "duration": 0,
    "start_time": "2022-04-27T05:52:38.217Z"
   },
   {
    "duration": 0,
    "start_time": "2022-04-27T05:52:38.282Z"
   },
   {
    "duration": 0,
    "start_time": "2022-04-27T05:52:38.284Z"
   },
   {
    "duration": 0,
    "start_time": "2022-04-27T05:52:38.286Z"
   },
   {
    "duration": 0,
    "start_time": "2022-04-27T05:52:38.288Z"
   },
   {
    "duration": 1,
    "start_time": "2022-04-27T05:52:38.290Z"
   },
   {
    "duration": 0,
    "start_time": "2022-04-27T05:52:38.292Z"
   },
   {
    "duration": 0,
    "start_time": "2022-04-27T05:52:38.294Z"
   },
   {
    "duration": 0,
    "start_time": "2022-04-27T05:52:38.297Z"
   },
   {
    "duration": 31,
    "start_time": "2022-04-27T05:52:51.188Z"
   },
   {
    "duration": 23,
    "start_time": "2022-04-27T05:53:50.080Z"
   },
   {
    "duration": 7,
    "start_time": "2022-04-27T05:54:58.285Z"
   },
   {
    "duration": 1348,
    "start_time": "2022-04-27T05:55:01.285Z"
   },
   {
    "duration": 12,
    "start_time": "2022-04-27T05:55:17.170Z"
   },
   {
    "duration": 21,
    "start_time": "2022-04-27T05:56:37.467Z"
   },
   {
    "duration": 6,
    "start_time": "2022-04-27T05:57:00.087Z"
   },
   {
    "duration": 6,
    "start_time": "2022-04-27T05:57:10.873Z"
   },
   {
    "duration": 14,
    "start_time": "2022-04-27T06:00:40.560Z"
   },
   {
    "duration": 273,
    "start_time": "2022-04-27T06:01:59.266Z"
   },
   {
    "duration": 6,
    "start_time": "2022-04-27T06:02:02.852Z"
   },
   {
    "duration": 9,
    "start_time": "2022-04-27T06:02:54.048Z"
   },
   {
    "duration": 317,
    "start_time": "2022-04-27T06:02:59.133Z"
   },
   {
    "duration": 8,
    "start_time": "2022-04-27T06:03:02.342Z"
   },
   {
    "duration": 686,
    "start_time": "2022-04-27T06:03:37.408Z"
   },
   {
    "duration": 5,
    "start_time": "2022-04-27T06:03:38.096Z"
   },
   {
    "duration": 110,
    "start_time": "2022-04-27T06:03:38.103Z"
   },
   {
    "duration": 4,
    "start_time": "2022-04-27T06:03:38.216Z"
   },
   {
    "duration": 93,
    "start_time": "2022-04-27T06:03:38.222Z"
   },
   {
    "duration": 19,
    "start_time": "2022-04-27T06:03:38.317Z"
   },
   {
    "duration": 13,
    "start_time": "2022-04-27T06:03:38.338Z"
   },
   {
    "duration": 22,
    "start_time": "2022-04-27T06:03:38.385Z"
   },
   {
    "duration": 16,
    "start_time": "2022-04-27T06:03:38.410Z"
   },
   {
    "duration": 13,
    "start_time": "2022-04-27T06:03:38.430Z"
   },
   {
    "duration": 53,
    "start_time": "2022-04-27T06:03:38.446Z"
   },
   {
    "duration": 6,
    "start_time": "2022-04-27T06:03:38.505Z"
   },
   {
    "duration": 1413,
    "start_time": "2022-04-27T06:03:38.514Z"
   },
   {
    "duration": 6,
    "start_time": "2022-04-27T06:03:39.930Z"
   },
   {
    "duration": 9,
    "start_time": "2022-04-27T06:03:39.939Z"
   },
   {
    "duration": 133,
    "start_time": "2022-04-27T06:03:39.950Z"
   },
   {
    "duration": 0,
    "start_time": "2022-04-27T06:03:40.088Z"
   },
   {
    "duration": 0,
    "start_time": "2022-04-27T06:03:40.092Z"
   },
   {
    "duration": 0,
    "start_time": "2022-04-27T06:03:40.094Z"
   },
   {
    "duration": 0,
    "start_time": "2022-04-27T06:03:40.095Z"
   },
   {
    "duration": 0,
    "start_time": "2022-04-27T06:03:40.097Z"
   },
   {
    "duration": 0,
    "start_time": "2022-04-27T06:03:40.100Z"
   },
   {
    "duration": 1,
    "start_time": "2022-04-27T06:03:40.101Z"
   },
   {
    "duration": 0,
    "start_time": "2022-04-27T06:03:40.103Z"
   },
   {
    "duration": 0,
    "start_time": "2022-04-27T06:03:40.104Z"
   },
   {
    "duration": 0,
    "start_time": "2022-04-27T06:03:40.106Z"
   },
   {
    "duration": 0,
    "start_time": "2022-04-27T06:03:40.108Z"
   },
   {
    "duration": 0,
    "start_time": "2022-04-27T06:03:40.109Z"
   },
   {
    "duration": 0,
    "start_time": "2022-04-27T06:03:40.111Z"
   },
   {
    "duration": 1,
    "start_time": "2022-04-27T06:03:40.112Z"
   },
   {
    "duration": 0,
    "start_time": "2022-04-27T06:03:40.114Z"
   },
   {
    "duration": 0,
    "start_time": "2022-04-27T06:03:40.115Z"
   },
   {
    "duration": 0,
    "start_time": "2022-04-27T06:03:40.122Z"
   },
   {
    "duration": 0,
    "start_time": "2022-04-27T06:03:40.124Z"
   },
   {
    "duration": 0,
    "start_time": "2022-04-27T06:03:40.126Z"
   },
   {
    "duration": 0,
    "start_time": "2022-04-27T06:03:40.128Z"
   },
   {
    "duration": 0,
    "start_time": "2022-04-27T06:03:40.130Z"
   },
   {
    "duration": 0,
    "start_time": "2022-04-27T06:03:40.132Z"
   },
   {
    "duration": 0,
    "start_time": "2022-04-27T06:03:40.134Z"
   },
   {
    "duration": 0,
    "start_time": "2022-04-27T06:03:40.186Z"
   },
   {
    "duration": 0,
    "start_time": "2022-04-27T06:03:40.190Z"
   },
   {
    "duration": 0,
    "start_time": "2022-04-27T06:03:40.191Z"
   },
   {
    "duration": 0,
    "start_time": "2022-04-27T06:03:40.195Z"
   },
   {
    "duration": 0,
    "start_time": "2022-04-27T06:03:40.197Z"
   },
   {
    "duration": 0,
    "start_time": "2022-04-27T06:03:40.199Z"
   },
   {
    "duration": 0,
    "start_time": "2022-04-27T06:03:40.200Z"
   },
   {
    "duration": 1,
    "start_time": "2022-04-27T06:03:40.201Z"
   },
   {
    "duration": 0,
    "start_time": "2022-04-27T06:03:40.203Z"
   },
   {
    "duration": 0,
    "start_time": "2022-04-27T06:03:40.204Z"
   },
   {
    "duration": 0,
    "start_time": "2022-04-27T06:03:40.205Z"
   },
   {
    "duration": 0,
    "start_time": "2022-04-27T06:03:40.209Z"
   },
   {
    "duration": 0,
    "start_time": "2022-04-27T06:03:40.210Z"
   },
   {
    "duration": 0,
    "start_time": "2022-04-27T06:03:40.212Z"
   },
   {
    "duration": 0,
    "start_time": "2022-04-27T06:03:40.213Z"
   },
   {
    "duration": 0,
    "start_time": "2022-04-27T06:03:40.215Z"
   },
   {
    "duration": 0,
    "start_time": "2022-04-27T06:03:40.217Z"
   },
   {
    "duration": 0,
    "start_time": "2022-04-27T06:03:40.218Z"
   },
   {
    "duration": 0,
    "start_time": "2022-04-27T06:03:40.220Z"
   },
   {
    "duration": 0,
    "start_time": "2022-04-27T06:03:40.221Z"
   },
   {
    "duration": 0,
    "start_time": "2022-04-27T06:03:40.223Z"
   },
   {
    "duration": 0,
    "start_time": "2022-04-27T06:03:40.224Z"
   },
   {
    "duration": 0,
    "start_time": "2022-04-27T06:03:40.289Z"
   },
   {
    "duration": 0,
    "start_time": "2022-04-27T06:03:40.290Z"
   },
   {
    "duration": 0,
    "start_time": "2022-04-27T06:03:40.291Z"
   },
   {
    "duration": 0,
    "start_time": "2022-04-27T06:03:40.292Z"
   },
   {
    "duration": 0,
    "start_time": "2022-04-27T06:03:40.294Z"
   },
   {
    "duration": 0,
    "start_time": "2022-04-27T06:03:40.295Z"
   },
   {
    "duration": 0,
    "start_time": "2022-04-27T06:03:40.297Z"
   },
   {
    "duration": 0,
    "start_time": "2022-04-27T06:03:40.298Z"
   },
   {
    "duration": 0,
    "start_time": "2022-04-27T06:03:40.299Z"
   },
   {
    "duration": 0,
    "start_time": "2022-04-27T06:03:40.301Z"
   },
   {
    "duration": 0,
    "start_time": "2022-04-27T06:03:40.302Z"
   },
   {
    "duration": 0,
    "start_time": "2022-04-27T06:03:40.303Z"
   },
   {
    "duration": 0,
    "start_time": "2022-04-27T06:03:40.305Z"
   },
   {
    "duration": 0,
    "start_time": "2022-04-27T06:03:40.307Z"
   },
   {
    "duration": 1,
    "start_time": "2022-04-27T06:03:40.308Z"
   },
   {
    "duration": 0,
    "start_time": "2022-04-27T06:03:40.310Z"
   },
   {
    "duration": 0,
    "start_time": "2022-04-27T06:03:40.312Z"
   },
   {
    "duration": 0,
    "start_time": "2022-04-27T06:03:40.313Z"
   },
   {
    "duration": 0,
    "start_time": "2022-04-27T06:03:40.315Z"
   },
   {
    "duration": 0,
    "start_time": "2022-04-27T06:03:40.316Z"
   },
   {
    "duration": 0,
    "start_time": "2022-04-27T06:03:40.318Z"
   },
   {
    "duration": 0,
    "start_time": "2022-04-27T06:03:40.319Z"
   },
   {
    "duration": 1,
    "start_time": "2022-04-27T06:03:40.320Z"
   },
   {
    "duration": 0,
    "start_time": "2022-04-27T06:03:40.322Z"
   },
   {
    "duration": 0,
    "start_time": "2022-04-27T06:03:40.323Z"
   },
   {
    "duration": 8,
    "start_time": "2022-04-27T06:03:47.438Z"
   },
   {
    "duration": 12,
    "start_time": "2022-04-27T06:04:00.053Z"
   },
   {
    "duration": 7,
    "start_time": "2022-04-27T06:04:28.944Z"
   },
   {
    "duration": 17,
    "start_time": "2022-04-27T06:05:20.320Z"
   },
   {
    "duration": 35,
    "start_time": "2022-04-27T06:05:51.955Z"
   },
   {
    "duration": 19,
    "start_time": "2022-04-27T06:06:02.263Z"
   },
   {
    "duration": 16,
    "start_time": "2022-04-27T06:06:37.182Z"
   },
   {
    "duration": 170,
    "start_time": "2022-04-27T06:08:07.258Z"
   },
   {
    "duration": 8,
    "start_time": "2022-04-27T06:08:16.348Z"
   },
   {
    "duration": 13,
    "start_time": "2022-04-27T06:08:32.862Z"
   },
   {
    "duration": 11,
    "start_time": "2022-04-27T06:08:35.954Z"
   },
   {
    "duration": 19,
    "start_time": "2022-04-27T06:08:43.754Z"
   },
   {
    "duration": 12,
    "start_time": "2022-04-27T06:09:01.679Z"
   },
   {
    "duration": 11,
    "start_time": "2022-04-27T06:09:10.738Z"
   },
   {
    "duration": 7,
    "start_time": "2022-04-27T06:09:29.793Z"
   },
   {
    "duration": 7,
    "start_time": "2022-04-27T06:10:18.946Z"
   },
   {
    "duration": 7,
    "start_time": "2022-04-27T06:10:33.270Z"
   },
   {
    "duration": 542,
    "start_time": "2022-04-27T06:10:38.161Z"
   },
   {
    "duration": 7,
    "start_time": "2022-04-27T06:10:50.792Z"
   },
   {
    "duration": 9,
    "start_time": "2022-04-27T06:11:05.791Z"
   },
   {
    "duration": 16,
    "start_time": "2022-04-27T06:11:15.781Z"
   },
   {
    "duration": 5,
    "start_time": "2022-04-27T06:11:56.431Z"
   },
   {
    "duration": 6,
    "start_time": "2022-04-27T06:11:59.311Z"
   },
   {
    "duration": 41,
    "start_time": "2022-04-27T06:14:03.410Z"
   },
   {
    "duration": 6,
    "start_time": "2022-04-27T06:14:17.554Z"
   },
   {
    "duration": 13,
    "start_time": "2022-04-27T06:14:44.463Z"
   },
   {
    "duration": 12,
    "start_time": "2022-04-27T06:14:45.378Z"
   },
   {
    "duration": 8,
    "start_time": "2022-04-27T06:15:40.115Z"
   },
   {
    "duration": 24,
    "start_time": "2022-04-27T06:15:42.740Z"
   },
   {
    "duration": 34,
    "start_time": "2022-04-27T06:16:54.847Z"
   },
   {
    "duration": 19,
    "start_time": "2022-04-27T06:16:59.046Z"
   },
   {
    "duration": 2191,
    "start_time": "2022-04-27T06:17:17.452Z"
   },
   {
    "duration": 11,
    "start_time": "2022-04-27T06:17:27.726Z"
   },
   {
    "duration": 2059,
    "start_time": "2022-04-27T06:17:34.941Z"
   },
   {
    "duration": 18,
    "start_time": "2022-04-27T06:17:47.391Z"
   },
   {
    "duration": 18,
    "start_time": "2022-04-27T06:20:03.715Z"
   },
   {
    "duration": 11,
    "start_time": "2022-04-27T06:21:23.335Z"
   },
   {
    "duration": 12,
    "start_time": "2022-04-27T06:21:52.750Z"
   },
   {
    "duration": 7,
    "start_time": "2022-04-27T06:22:31.513Z"
   },
   {
    "duration": 21,
    "start_time": "2022-04-27T06:24:28.367Z"
   },
   {
    "duration": 19,
    "start_time": "2022-04-27T06:25:37.154Z"
   },
   {
    "duration": 7,
    "start_time": "2022-04-27T06:25:55.785Z"
   },
   {
    "duration": 13,
    "start_time": "2022-04-27T06:26:17.790Z"
   },
   {
    "duration": 121,
    "start_time": "2022-04-27T06:26:36.150Z"
   },
   {
    "duration": 18,
    "start_time": "2022-04-27T06:26:44.430Z"
   },
   {
    "duration": 17,
    "start_time": "2022-04-27T06:26:50.731Z"
   },
   {
    "duration": 9,
    "start_time": "2022-04-27T06:29:32.360Z"
   },
   {
    "duration": 9,
    "start_time": "2022-04-27T06:29:35.869Z"
   },
   {
    "duration": 10,
    "start_time": "2022-04-27T06:29:36.392Z"
   },
   {
    "duration": 8,
    "start_time": "2022-04-27T06:52:21.487Z"
   },
   {
    "duration": 20,
    "start_time": "2022-04-27T06:53:40.918Z"
   },
   {
    "duration": 5,
    "start_time": "2022-04-27T06:54:40.469Z"
   },
   {
    "duration": 7,
    "start_time": "2022-04-27T06:54:40.994Z"
   },
   {
    "duration": 9,
    "start_time": "2022-04-27T06:54:48.214Z"
   },
   {
    "duration": 9,
    "start_time": "2022-04-27T06:57:40.127Z"
   },
   {
    "duration": 4,
    "start_time": "2022-04-27T06:57:44.281Z"
   },
   {
    "duration": 4,
    "start_time": "2022-04-27T06:57:44.716Z"
   },
   {
    "duration": 92,
    "start_time": "2022-04-27T06:57:45.272Z"
   },
   {
    "duration": 5,
    "start_time": "2022-04-27T06:57:46.276Z"
   },
   {
    "duration": 30,
    "start_time": "2022-04-27T06:58:01.277Z"
   },
   {
    "duration": 508,
    "start_time": "2022-04-27T06:58:35.408Z"
   },
   {
    "duration": 4,
    "start_time": "2022-04-27T06:58:35.918Z"
   },
   {
    "duration": 114,
    "start_time": "2022-04-27T06:58:35.925Z"
   },
   {
    "duration": 4,
    "start_time": "2022-04-27T06:58:36.042Z"
   },
   {
    "duration": 7,
    "start_time": "2022-04-27T06:58:36.048Z"
   },
   {
    "duration": 94,
    "start_time": "2022-04-27T06:58:36.057Z"
   },
   {
    "duration": 47,
    "start_time": "2022-04-27T06:58:36.153Z"
   },
   {
    "duration": 16,
    "start_time": "2022-04-27T06:58:36.203Z"
   },
   {
    "duration": 15,
    "start_time": "2022-04-27T06:58:36.221Z"
   },
   {
    "duration": 44,
    "start_time": "2022-04-27T06:58:36.242Z"
   },
   {
    "duration": 13,
    "start_time": "2022-04-27T06:58:36.289Z"
   },
   {
    "duration": 18,
    "start_time": "2022-04-27T06:58:36.305Z"
   },
   {
    "duration": 7,
    "start_time": "2022-04-27T06:58:36.325Z"
   },
   {
    "duration": 1615,
    "start_time": "2022-04-27T06:58:36.334Z"
   },
   {
    "duration": 8,
    "start_time": "2022-04-27T06:58:37.952Z"
   },
   {
    "duration": 22,
    "start_time": "2022-04-27T06:58:37.962Z"
   },
   {
    "duration": 21,
    "start_time": "2022-04-27T06:58:37.986Z"
   },
   {
    "duration": 9,
    "start_time": "2022-04-27T06:58:38.009Z"
   },
   {
    "duration": 440,
    "start_time": "2022-04-27T06:58:38.020Z"
   },
   {
    "duration": 8,
    "start_time": "2022-04-27T06:58:38.462Z"
   },
   {
    "duration": 5,
    "start_time": "2022-04-27T06:58:38.482Z"
   },
   {
    "duration": 11,
    "start_time": "2022-04-27T06:58:38.489Z"
   },
   {
    "duration": 43,
    "start_time": "2022-04-27T06:58:38.502Z"
   },
   {
    "duration": 5,
    "start_time": "2022-04-27T06:58:38.547Z"
   },
   {
    "duration": 13,
    "start_time": "2022-04-27T06:58:38.582Z"
   },
   {
    "duration": 11,
    "start_time": "2022-04-27T06:58:38.598Z"
   },
   {
    "duration": 27,
    "start_time": "2022-04-27T06:58:38.611Z"
   },
   {
    "duration": 7,
    "start_time": "2022-04-27T06:58:38.644Z"
   },
   {
    "duration": 1349,
    "start_time": "2022-04-27T06:58:38.681Z"
   },
   {
    "duration": 7,
    "start_time": "2022-04-27T06:58:40.032Z"
   },
   {
    "duration": 40,
    "start_time": "2022-04-27T06:58:40.042Z"
   },
   {
    "duration": 18,
    "start_time": "2022-04-27T06:58:40.085Z"
   },
   {
    "duration": 15,
    "start_time": "2022-04-27T06:58:40.105Z"
   },
   {
    "duration": 10,
    "start_time": "2022-04-27T06:58:40.122Z"
   },
   {
    "duration": 9,
    "start_time": "2022-04-27T06:58:40.134Z"
   },
   {
    "duration": 20,
    "start_time": "2022-04-27T06:58:40.182Z"
   },
   {
    "duration": 5,
    "start_time": "2022-04-27T06:58:40.205Z"
   },
   {
    "duration": 5,
    "start_time": "2022-04-27T06:58:40.213Z"
   },
   {
    "duration": 9,
    "start_time": "2022-04-27T06:58:40.221Z"
   },
   {
    "duration": 131,
    "start_time": "2022-04-27T06:58:40.232Z"
   },
   {
    "duration": 0,
    "start_time": "2022-04-27T06:58:40.365Z"
   },
   {
    "duration": 0,
    "start_time": "2022-04-27T06:58:40.367Z"
   },
   {
    "duration": 0,
    "start_time": "2022-04-27T06:58:40.382Z"
   },
   {
    "duration": 0,
    "start_time": "2022-04-27T06:58:40.383Z"
   },
   {
    "duration": 0,
    "start_time": "2022-04-27T06:58:40.385Z"
   },
   {
    "duration": 0,
    "start_time": "2022-04-27T06:58:40.387Z"
   },
   {
    "duration": 0,
    "start_time": "2022-04-27T06:58:40.389Z"
   },
   {
    "duration": 0,
    "start_time": "2022-04-27T06:58:40.391Z"
   },
   {
    "duration": 0,
    "start_time": "2022-04-27T06:58:40.393Z"
   },
   {
    "duration": 0,
    "start_time": "2022-04-27T06:58:40.395Z"
   },
   {
    "duration": 1,
    "start_time": "2022-04-27T06:58:40.397Z"
   },
   {
    "duration": 0,
    "start_time": "2022-04-27T06:58:40.400Z"
   },
   {
    "duration": 0,
    "start_time": "2022-04-27T06:58:40.401Z"
   },
   {
    "duration": 0,
    "start_time": "2022-04-27T06:58:40.403Z"
   },
   {
    "duration": 0,
    "start_time": "2022-04-27T06:58:40.406Z"
   },
   {
    "duration": 0,
    "start_time": "2022-04-27T06:58:40.408Z"
   },
   {
    "duration": 0,
    "start_time": "2022-04-27T06:58:40.410Z"
   },
   {
    "duration": 0,
    "start_time": "2022-04-27T06:58:40.412Z"
   },
   {
    "duration": 0,
    "start_time": "2022-04-27T06:58:40.414Z"
   },
   {
    "duration": 0,
    "start_time": "2022-04-27T06:58:40.416Z"
   },
   {
    "duration": 0,
    "start_time": "2022-04-27T06:58:40.418Z"
   },
   {
    "duration": 0,
    "start_time": "2022-04-27T06:58:40.420Z"
   },
   {
    "duration": 0,
    "start_time": "2022-04-27T06:58:40.483Z"
   },
   {
    "duration": 0,
    "start_time": "2022-04-27T06:58:40.485Z"
   },
   {
    "duration": 0,
    "start_time": "2022-04-27T06:58:40.487Z"
   },
   {
    "duration": 0,
    "start_time": "2022-04-27T06:58:40.489Z"
   },
   {
    "duration": 0,
    "start_time": "2022-04-27T06:58:40.492Z"
   },
   {
    "duration": 0,
    "start_time": "2022-04-27T06:58:40.497Z"
   },
   {
    "duration": 0,
    "start_time": "2022-04-27T06:58:40.498Z"
   },
   {
    "duration": 0,
    "start_time": "2022-04-27T06:58:40.500Z"
   },
   {
    "duration": 0,
    "start_time": "2022-04-27T06:58:40.502Z"
   },
   {
    "duration": 0,
    "start_time": "2022-04-27T06:58:40.503Z"
   },
   {
    "duration": 0,
    "start_time": "2022-04-27T06:58:40.504Z"
   },
   {
    "duration": 0,
    "start_time": "2022-04-27T06:58:40.506Z"
   },
   {
    "duration": 0,
    "start_time": "2022-04-27T06:58:40.507Z"
   },
   {
    "duration": 0,
    "start_time": "2022-04-27T06:58:40.508Z"
   },
   {
    "duration": 21,
    "start_time": "2022-04-27T06:58:53.529Z"
   },
   {
    "duration": 5,
    "start_time": "2022-04-27T06:59:25.059Z"
   },
   {
    "duration": 5,
    "start_time": "2022-04-27T06:59:25.284Z"
   },
   {
    "duration": 17,
    "start_time": "2022-04-27T06:59:30.565Z"
   },
   {
    "duration": 23,
    "start_time": "2022-04-27T06:59:30.789Z"
   },
   {
    "duration": 16,
    "start_time": "2022-04-27T06:59:35.440Z"
   },
   {
    "duration": 10,
    "start_time": "2022-04-27T07:00:31.136Z"
   },
   {
    "duration": 16,
    "start_time": "2022-04-27T07:00:53.350Z"
   },
   {
    "duration": 13,
    "start_time": "2022-04-27T07:01:06.641Z"
   },
   {
    "duration": 54,
    "start_time": "2022-04-27T07:01:33.626Z"
   },
   {
    "duration": 49,
    "start_time": "2022-04-27T07:02:45.553Z"
   },
   {
    "duration": 30,
    "start_time": "2022-04-27T07:03:10.813Z"
   },
   {
    "duration": 38,
    "start_time": "2022-04-27T07:05:06.271Z"
   },
   {
    "duration": 1277,
    "start_time": "2022-04-27T07:06:02.552Z"
   },
   {
    "duration": 61,
    "start_time": "2022-04-27T07:08:14.149Z"
   },
   {
    "duration": 4,
    "start_time": "2022-04-27T07:08:33.589Z"
   },
   {
    "duration": 1307,
    "start_time": "2022-04-27T07:08:39.515Z"
   },
   {
    "duration": 5,
    "start_time": "2022-04-27T07:10:14.286Z"
   },
   {
    "duration": 963,
    "start_time": "2022-04-27T07:10:26.521Z"
   },
   {
    "duration": 5,
    "start_time": "2022-04-27T07:11:10.912Z"
   },
   {
    "duration": 1092,
    "start_time": "2022-04-27T07:11:11.617Z"
   },
   {
    "duration": 203,
    "start_time": "2022-04-27T07:12:26.243Z"
   },
   {
    "duration": 1031,
    "start_time": "2022-04-27T07:14:07.558Z"
   },
   {
    "duration": 145,
    "start_time": "2022-04-27T07:14:29.620Z"
   },
   {
    "duration": 299,
    "start_time": "2022-04-27T07:14:34.000Z"
   },
   {
    "duration": 4,
    "start_time": "2022-04-27T07:14:37.030Z"
   },
   {
    "duration": 1001,
    "start_time": "2022-04-27T07:14:44.846Z"
   },
   {
    "duration": 6,
    "start_time": "2022-04-27T07:15:29.049Z"
   },
   {
    "duration": 4,
    "start_time": "2022-04-27T07:16:18.012Z"
   },
   {
    "duration": 45,
    "start_time": "2022-04-27T07:17:29.818Z"
   },
   {
    "duration": 11,
    "start_time": "2022-04-27T07:17:45.883Z"
   },
   {
    "duration": 4,
    "start_time": "2022-04-27T07:18:34.816Z"
   },
   {
    "duration": 33,
    "start_time": "2022-04-27T07:18:40.140Z"
   },
   {
    "duration": 5,
    "start_time": "2022-04-27T07:18:58.543Z"
   },
   {
    "duration": 33,
    "start_time": "2022-04-27T07:19:06.809Z"
   },
   {
    "duration": 31,
    "start_time": "2022-04-27T07:19:27.435Z"
   },
   {
    "duration": 11,
    "start_time": "2022-04-27T07:19:41.111Z"
   },
   {
    "duration": 11,
    "start_time": "2022-04-27T07:19:47.461Z"
   },
   {
    "duration": 5,
    "start_time": "2022-04-27T07:20:25.111Z"
   },
   {
    "duration": 5,
    "start_time": "2022-04-27T07:20:55.306Z"
   },
   {
    "duration": 11,
    "start_time": "2022-04-27T07:21:05.747Z"
   },
   {
    "duration": 9,
    "start_time": "2022-04-27T07:21:49.593Z"
   },
   {
    "duration": 10,
    "start_time": "2022-04-27T07:21:57.302Z"
   },
   {
    "duration": 244,
    "start_time": "2022-04-27T07:24:11.915Z"
   },
   {
    "duration": 1123,
    "start_time": "2022-04-27T07:24:27.845Z"
   },
   {
    "duration": 1011,
    "start_time": "2022-04-27T07:24:37.849Z"
   },
   {
    "duration": 10,
    "start_time": "2022-04-27T07:24:42.530Z"
   },
   {
    "duration": 965,
    "start_time": "2022-04-27T07:24:48.248Z"
   },
   {
    "duration": 6,
    "start_time": "2022-04-27T07:25:09.125Z"
   },
   {
    "duration": 5,
    "start_time": "2022-04-27T07:25:38.150Z"
   },
   {
    "duration": 11,
    "start_time": "2022-04-27T07:26:05.750Z"
   },
   {
    "duration": 9,
    "start_time": "2022-04-27T07:26:20.781Z"
   },
   {
    "duration": 970,
    "start_time": "2022-04-27T07:29:44.815Z"
   },
   {
    "duration": 1134,
    "start_time": "2022-04-27T07:30:13.781Z"
   },
   {
    "duration": 6,
    "start_time": "2022-04-27T07:31:45.761Z"
   },
   {
    "duration": 820,
    "start_time": "2022-04-27T07:31:49.841Z"
   },
   {
    "duration": 833,
    "start_time": "2022-04-27T07:33:33.163Z"
   },
   {
    "duration": 11,
    "start_time": "2022-04-27T07:34:06.539Z"
   },
   {
    "duration": 6,
    "start_time": "2022-04-27T07:34:12.689Z"
   },
   {
    "duration": 995,
    "start_time": "2022-04-27T07:35:08.475Z"
   },
   {
    "duration": 167,
    "start_time": "2022-04-27T07:35:57.421Z"
   },
   {
    "duration": 30,
    "start_time": "2022-04-27T07:36:00.555Z"
   },
   {
    "duration": 13,
    "start_time": "2022-04-27T07:36:06.453Z"
   },
   {
    "duration": 32,
    "start_time": "2022-04-27T07:36:11.820Z"
   },
   {
    "duration": 29,
    "start_time": "2022-04-27T07:36:19.322Z"
   },
   {
    "duration": 9,
    "start_time": "2022-04-27T07:36:26.761Z"
   },
   {
    "duration": 7,
    "start_time": "2022-04-27T07:40:23.210Z"
   },
   {
    "duration": 265,
    "start_time": "2022-04-27T07:40:38.990Z"
   },
   {
    "duration": 7,
    "start_time": "2022-04-27T07:41:46.957Z"
   },
   {
    "duration": 259,
    "start_time": "2022-04-27T07:42:35.513Z"
   },
   {
    "duration": 864,
    "start_time": "2022-04-27T07:42:57.010Z"
   },
   {
    "duration": 7,
    "start_time": "2022-04-27T07:46:20.142Z"
   },
   {
    "duration": 1711,
    "start_time": "2022-04-27T07:46:34.392Z"
   },
   {
    "duration": 6,
    "start_time": "2022-04-27T07:46:36.105Z"
   },
   {
    "duration": 10,
    "start_time": "2022-04-27T07:46:36.113Z"
   },
   {
    "duration": 107,
    "start_time": "2022-04-27T07:46:36.126Z"
   },
   {
    "duration": 5,
    "start_time": "2022-04-27T07:46:36.235Z"
   },
   {
    "duration": 10,
    "start_time": "2022-04-27T07:46:36.243Z"
   },
   {
    "duration": 77,
    "start_time": "2022-04-27T07:46:36.256Z"
   },
   {
    "duration": 20,
    "start_time": "2022-04-27T07:46:36.335Z"
   },
   {
    "duration": 17,
    "start_time": "2022-04-27T07:46:36.381Z"
   },
   {
    "duration": 23,
    "start_time": "2022-04-27T07:46:36.402Z"
   },
   {
    "duration": 7,
    "start_time": "2022-04-27T07:46:36.428Z"
   },
   {
    "duration": 19,
    "start_time": "2022-04-27T07:46:36.437Z"
   },
   {
    "duration": 27,
    "start_time": "2022-04-27T07:46:36.458Z"
   },
   {
    "duration": 899,
    "start_time": "2022-04-27T07:46:36.488Z"
   },
   {
    "duration": 10,
    "start_time": "2022-04-27T07:46:37.389Z"
   },
   {
    "duration": 12,
    "start_time": "2022-04-27T07:46:37.401Z"
   },
   {
    "duration": 887,
    "start_time": "2022-04-27T07:46:37.415Z"
   },
   {
    "duration": 18,
    "start_time": "2022-04-27T07:46:38.304Z"
   },
   {
    "duration": 933,
    "start_time": "2022-04-27T07:46:38.324Z"
   },
   {
    "duration": 7,
    "start_time": "2022-04-27T07:46:39.259Z"
   },
   {
    "duration": 1398,
    "start_time": "2022-04-27T07:46:39.268Z"
   },
   {
    "duration": 14,
    "start_time": "2022-04-27T07:46:40.668Z"
   },
   {
    "duration": 899,
    "start_time": "2022-04-27T07:46:40.685Z"
   },
   {
    "duration": 153,
    "start_time": "2022-04-27T07:46:41.586Z"
   },
   {
    "duration": 0,
    "start_time": "2022-04-27T07:46:41.836Z"
   },
   {
    "duration": 0,
    "start_time": "2022-04-27T07:46:41.838Z"
   },
   {
    "duration": 0,
    "start_time": "2022-04-27T07:46:41.840Z"
   },
   {
    "duration": 0,
    "start_time": "2022-04-27T07:46:41.841Z"
   },
   {
    "duration": 0,
    "start_time": "2022-04-27T07:46:41.843Z"
   },
   {
    "duration": 0,
    "start_time": "2022-04-27T07:46:41.844Z"
   },
   {
    "duration": 0,
    "start_time": "2022-04-27T07:46:41.845Z"
   },
   {
    "duration": 0,
    "start_time": "2022-04-27T07:46:41.847Z"
   },
   {
    "duration": 0,
    "start_time": "2022-04-27T07:46:41.849Z"
   },
   {
    "duration": 0,
    "start_time": "2022-04-27T07:46:41.850Z"
   },
   {
    "duration": 0,
    "start_time": "2022-04-27T07:46:41.852Z"
   },
   {
    "duration": 0,
    "start_time": "2022-04-27T07:46:41.853Z"
   },
   {
    "duration": 0,
    "start_time": "2022-04-27T07:46:41.882Z"
   },
   {
    "duration": 0,
    "start_time": "2022-04-27T07:46:41.883Z"
   },
   {
    "duration": 0,
    "start_time": "2022-04-27T07:46:41.885Z"
   },
   {
    "duration": 0,
    "start_time": "2022-04-27T07:46:41.887Z"
   },
   {
    "duration": 0,
    "start_time": "2022-04-27T07:46:41.889Z"
   },
   {
    "duration": 0,
    "start_time": "2022-04-27T07:46:41.890Z"
   },
   {
    "duration": 0,
    "start_time": "2022-04-27T07:46:41.892Z"
   },
   {
    "duration": 0,
    "start_time": "2022-04-27T07:46:41.893Z"
   },
   {
    "duration": 0,
    "start_time": "2022-04-27T07:46:41.895Z"
   },
   {
    "duration": 0,
    "start_time": "2022-04-27T07:46:41.896Z"
   },
   {
    "duration": 0,
    "start_time": "2022-04-27T07:46:41.898Z"
   },
   {
    "duration": 0,
    "start_time": "2022-04-27T07:46:41.899Z"
   },
   {
    "duration": 0,
    "start_time": "2022-04-27T07:46:41.901Z"
   },
   {
    "duration": 0,
    "start_time": "2022-04-27T07:46:41.902Z"
   },
   {
    "duration": 0,
    "start_time": "2022-04-27T07:46:41.904Z"
   },
   {
    "duration": 0,
    "start_time": "2022-04-27T07:46:41.905Z"
   },
   {
    "duration": 0,
    "start_time": "2022-04-27T07:46:41.907Z"
   },
   {
    "duration": 0,
    "start_time": "2022-04-27T07:46:41.908Z"
   },
   {
    "duration": 0,
    "start_time": "2022-04-27T07:46:41.910Z"
   },
   {
    "duration": 0,
    "start_time": "2022-04-27T07:46:41.911Z"
   },
   {
    "duration": 0,
    "start_time": "2022-04-27T07:46:41.913Z"
   },
   {
    "duration": 0,
    "start_time": "2022-04-27T07:46:41.914Z"
   },
   {
    "duration": 0,
    "start_time": "2022-04-27T07:46:41.915Z"
   },
   {
    "duration": 0,
    "start_time": "2022-04-27T07:46:41.917Z"
   },
   {
    "duration": 0,
    "start_time": "2022-04-27T07:46:41.918Z"
   },
   {
    "duration": 0,
    "start_time": "2022-04-27T07:46:41.920Z"
   },
   {
    "duration": 0,
    "start_time": "2022-04-27T07:46:41.981Z"
   },
   {
    "duration": 0,
    "start_time": "2022-04-27T07:46:41.983Z"
   },
   {
    "duration": 0,
    "start_time": "2022-04-27T07:46:41.985Z"
   },
   {
    "duration": 0,
    "start_time": "2022-04-27T07:46:41.986Z"
   },
   {
    "duration": 0,
    "start_time": "2022-04-27T07:46:41.988Z"
   },
   {
    "duration": 0,
    "start_time": "2022-04-27T07:46:41.989Z"
   },
   {
    "duration": 0,
    "start_time": "2022-04-27T07:46:41.991Z"
   },
   {
    "duration": 0,
    "start_time": "2022-04-27T07:46:41.992Z"
   },
   {
    "duration": 0,
    "start_time": "2022-04-27T07:46:41.994Z"
   },
   {
    "duration": 0,
    "start_time": "2022-04-27T07:46:41.995Z"
   },
   {
    "duration": 0,
    "start_time": "2022-04-27T07:46:41.997Z"
   },
   {
    "duration": 0,
    "start_time": "2022-04-27T07:46:41.998Z"
   },
   {
    "duration": 0,
    "start_time": "2022-04-27T07:46:42.000Z"
   },
   {
    "duration": 0,
    "start_time": "2022-04-27T07:46:42.001Z"
   },
   {
    "duration": 0,
    "start_time": "2022-04-27T07:46:42.003Z"
   },
   {
    "duration": 0,
    "start_time": "2022-04-27T07:46:42.004Z"
   },
   {
    "duration": 0,
    "start_time": "2022-04-27T07:46:42.006Z"
   },
   {
    "duration": 0,
    "start_time": "2022-04-27T07:46:42.007Z"
   },
   {
    "duration": 0,
    "start_time": "2022-04-27T07:46:42.009Z"
   },
   {
    "duration": 0,
    "start_time": "2022-04-27T07:46:42.010Z"
   },
   {
    "duration": 0,
    "start_time": "2022-04-27T07:46:42.012Z"
   },
   {
    "duration": 0,
    "start_time": "2022-04-27T07:46:42.013Z"
   },
   {
    "duration": 1,
    "start_time": "2022-04-27T07:46:42.014Z"
   },
   {
    "duration": 0,
    "start_time": "2022-04-27T07:46:42.016Z"
   },
   {
    "duration": 8,
    "start_time": "2022-04-27T07:47:07.223Z"
   },
   {
    "duration": 18,
    "start_time": "2022-04-27T07:47:10.613Z"
   },
   {
    "duration": 7,
    "start_time": "2022-04-27T07:47:11.874Z"
   },
   {
    "duration": 316,
    "start_time": "2022-04-27T07:47:40.810Z"
   },
   {
    "duration": 9,
    "start_time": "2022-04-27T07:47:42.429Z"
   },
   {
    "duration": 9,
    "start_time": "2022-04-27T07:48:53.337Z"
   },
   {
    "duration": 260,
    "start_time": "2022-04-27T07:49:02.259Z"
   },
   {
    "duration": 7,
    "start_time": "2022-04-27T07:49:03.054Z"
   },
   {
    "duration": 12,
    "start_time": "2022-04-27T07:49:21.730Z"
   },
   {
    "duration": 41,
    "start_time": "2022-04-27T07:49:31.646Z"
   },
   {
    "duration": 5,
    "start_time": "2022-04-27T07:49:33.699Z"
   },
   {
    "duration": 14,
    "start_time": "2022-04-27T07:49:34.959Z"
   },
   {
    "duration": 10,
    "start_time": "2022-04-27T07:49:36.386Z"
   },
   {
    "duration": 25,
    "start_time": "2022-04-27T07:49:41.485Z"
   },
   {
    "duration": 6,
    "start_time": "2022-04-27T07:49:43.960Z"
   },
   {
    "duration": 1502,
    "start_time": "2022-04-27T07:49:44.635Z"
   },
   {
    "duration": 7,
    "start_time": "2022-04-27T07:49:56.395Z"
   },
   {
    "duration": 11,
    "start_time": "2022-04-27T07:49:56.967Z"
   },
   {
    "duration": 267,
    "start_time": "2022-04-27T07:50:08.470Z"
   },
   {
    "duration": 828,
    "start_time": "2022-04-27T07:50:10.555Z"
   },
   {
    "duration": 268,
    "start_time": "2022-04-27T07:50:43.482Z"
   },
   {
    "duration": 835,
    "start_time": "2022-04-27T07:50:44.637Z"
   },
   {
    "duration": 2352,
    "start_time": "2022-04-27T07:51:25.888Z"
   },
   {
    "duration": 853,
    "start_time": "2022-04-27T07:51:28.827Z"
   },
   {
    "duration": 10,
    "start_time": "2022-04-27T07:54:37.559Z"
   },
   {
    "duration": 266,
    "start_time": "2022-04-27T07:55:23.146Z"
   },
   {
    "duration": 9,
    "start_time": "2022-04-27T07:58:48.220Z"
   },
   {
    "duration": 8,
    "start_time": "2022-04-27T07:59:30.784Z"
   },
   {
    "duration": 51,
    "start_time": "2022-04-27T07:59:56.195Z"
   },
   {
    "duration": 35,
    "start_time": "2022-04-27T08:00:33.217Z"
   },
   {
    "duration": 605,
    "start_time": "2022-04-27T08:01:21.697Z"
   },
   {
    "duration": 676,
    "start_time": "2022-04-27T08:01:40.792Z"
   },
   {
    "duration": 14,
    "start_time": "2022-04-27T08:02:06.889Z"
   },
   {
    "duration": 12,
    "start_time": "2022-04-27T08:02:16.058Z"
   },
   {
    "duration": 513,
    "start_time": "2022-04-27T08:02:26.431Z"
   },
   {
    "duration": 1545,
    "start_time": "2022-04-27T08:02:36.675Z"
   },
   {
    "duration": 5,
    "start_time": "2022-04-27T08:02:38.223Z"
   },
   {
    "duration": 8,
    "start_time": "2022-04-27T08:02:38.230Z"
   },
   {
    "duration": 102,
    "start_time": "2022-04-27T08:02:38.240Z"
   },
   {
    "duration": 4,
    "start_time": "2022-04-27T08:02:38.344Z"
   },
   {
    "duration": 7,
    "start_time": "2022-04-27T08:02:38.350Z"
   },
   {
    "duration": 76,
    "start_time": "2022-04-27T08:02:38.359Z"
   },
   {
    "duration": 18,
    "start_time": "2022-04-27T08:02:38.437Z"
   },
   {
    "duration": 14,
    "start_time": "2022-04-27T08:02:38.482Z"
   },
   {
    "duration": 13,
    "start_time": "2022-04-27T08:02:38.500Z"
   },
   {
    "duration": 5,
    "start_time": "2022-04-27T08:02:38.515Z"
   },
   {
    "duration": 17,
    "start_time": "2022-04-27T08:02:38.522Z"
   },
   {
    "duration": 43,
    "start_time": "2022-04-27T08:02:38.541Z"
   },
   {
    "duration": 908,
    "start_time": "2022-04-27T08:02:38.586Z"
   },
   {
    "duration": 8,
    "start_time": "2022-04-27T08:02:39.496Z"
   },
   {
    "duration": 7,
    "start_time": "2022-04-27T08:02:39.506Z"
   },
   {
    "duration": 907,
    "start_time": "2022-04-27T08:02:39.515Z"
   },
   {
    "duration": 18,
    "start_time": "2022-04-27T08:02:40.424Z"
   },
   {
    "duration": 922,
    "start_time": "2022-04-27T08:02:40.444Z"
   },
   {
    "duration": 16,
    "start_time": "2022-04-27T08:02:41.368Z"
   },
   {
    "duration": 1415,
    "start_time": "2022-04-27T08:02:41.386Z"
   },
   {
    "duration": 6,
    "start_time": "2022-04-27T08:02:42.804Z"
   },
   {
    "duration": 878,
    "start_time": "2022-04-27T08:02:42.811Z"
   },
   {
    "duration": 18,
    "start_time": "2022-04-27T08:02:43.691Z"
   },
   {
    "duration": 9,
    "start_time": "2022-04-27T08:02:43.712Z"
   },
   {
    "duration": 429,
    "start_time": "2022-04-27T08:02:43.723Z"
   },
   {
    "duration": 7,
    "start_time": "2022-04-27T08:02:44.155Z"
   },
   {
    "duration": 5,
    "start_time": "2022-04-27T08:02:44.183Z"
   },
   {
    "duration": 9,
    "start_time": "2022-04-27T08:02:44.191Z"
   },
   {
    "duration": 44,
    "start_time": "2022-04-27T08:02:44.202Z"
   },
   {
    "duration": 4,
    "start_time": "2022-04-27T08:02:44.249Z"
   },
   {
    "duration": 38,
    "start_time": "2022-04-27T08:02:44.255Z"
   },
   {
    "duration": 17,
    "start_time": "2022-04-27T08:02:44.295Z"
   },
   {
    "duration": 31,
    "start_time": "2022-04-27T08:02:44.314Z"
   },
   {
    "duration": 6,
    "start_time": "2022-04-27T08:02:44.348Z"
   },
   {
    "duration": 1417,
    "start_time": "2022-04-27T08:02:44.356Z"
   },
   {
    "duration": 11,
    "start_time": "2022-04-27T08:02:45.775Z"
   },
   {
    "duration": 15,
    "start_time": "2022-04-27T08:02:45.788Z"
   },
   {
    "duration": 446,
    "start_time": "2022-04-27T08:02:45.805Z"
   },
   {
    "duration": 153,
    "start_time": "2022-04-27T08:02:46.253Z"
   },
   {
    "duration": 0,
    "start_time": "2022-04-27T08:02:46.409Z"
   },
   {
    "duration": 0,
    "start_time": "2022-04-27T08:02:46.411Z"
   },
   {
    "duration": 0,
    "start_time": "2022-04-27T08:02:46.412Z"
   },
   {
    "duration": 0,
    "start_time": "2022-04-27T08:02:46.414Z"
   },
   {
    "duration": 0,
    "start_time": "2022-04-27T08:02:46.415Z"
   },
   {
    "duration": 0,
    "start_time": "2022-04-27T08:02:46.416Z"
   },
   {
    "duration": 0,
    "start_time": "2022-04-27T08:02:46.417Z"
   },
   {
    "duration": 0,
    "start_time": "2022-04-27T08:02:46.418Z"
   },
   {
    "duration": 0,
    "start_time": "2022-04-27T08:02:46.420Z"
   },
   {
    "duration": 0,
    "start_time": "2022-04-27T08:02:46.421Z"
   },
   {
    "duration": 0,
    "start_time": "2022-04-27T08:02:46.422Z"
   },
   {
    "duration": 0,
    "start_time": "2022-04-27T08:02:46.423Z"
   },
   {
    "duration": 0,
    "start_time": "2022-04-27T08:02:46.424Z"
   },
   {
    "duration": 0,
    "start_time": "2022-04-27T08:02:46.426Z"
   },
   {
    "duration": 0,
    "start_time": "2022-04-27T08:02:46.427Z"
   },
   {
    "duration": 0,
    "start_time": "2022-04-27T08:02:46.428Z"
   },
   {
    "duration": 0,
    "start_time": "2022-04-27T08:02:46.431Z"
   },
   {
    "duration": 0,
    "start_time": "2022-04-27T08:02:46.433Z"
   },
   {
    "duration": 0,
    "start_time": "2022-04-27T08:02:46.435Z"
   },
   {
    "duration": 0,
    "start_time": "2022-04-27T08:02:46.437Z"
   },
   {
    "duration": 0,
    "start_time": "2022-04-27T08:02:46.482Z"
   },
   {
    "duration": 0,
    "start_time": "2022-04-27T08:02:46.485Z"
   },
   {
    "duration": 0,
    "start_time": "2022-04-27T08:02:46.487Z"
   },
   {
    "duration": 0,
    "start_time": "2022-04-27T08:02:46.490Z"
   },
   {
    "duration": 0,
    "start_time": "2022-04-27T08:02:46.491Z"
   },
   {
    "duration": 0,
    "start_time": "2022-04-27T08:02:46.493Z"
   },
   {
    "duration": 0,
    "start_time": "2022-04-27T08:02:46.496Z"
   },
   {
    "duration": 0,
    "start_time": "2022-04-27T08:02:46.498Z"
   },
   {
    "duration": 0,
    "start_time": "2022-04-27T08:02:46.500Z"
   },
   {
    "duration": 1,
    "start_time": "2022-04-27T08:02:46.502Z"
   },
   {
    "duration": 0,
    "start_time": "2022-04-27T08:02:46.505Z"
   },
   {
    "duration": 1,
    "start_time": "2022-04-27T08:02:46.506Z"
   },
   {
    "duration": 1,
    "start_time": "2022-04-27T08:02:46.508Z"
   },
   {
    "duration": 0,
    "start_time": "2022-04-27T08:02:46.511Z"
   },
   {
    "duration": 0,
    "start_time": "2022-04-27T08:02:46.513Z"
   },
   {
    "duration": 0,
    "start_time": "2022-04-27T08:02:46.515Z"
   },
   {
    "duration": 0,
    "start_time": "2022-04-27T08:02:46.517Z"
   },
   {
    "duration": 0,
    "start_time": "2022-04-27T08:02:46.583Z"
   },
   {
    "duration": 0,
    "start_time": "2022-04-27T08:02:46.586Z"
   },
   {
    "duration": 1,
    "start_time": "2022-04-27T08:02:46.587Z"
   },
   {
    "duration": 0,
    "start_time": "2022-04-27T08:02:46.590Z"
   },
   {
    "duration": 0,
    "start_time": "2022-04-27T08:02:46.592Z"
   },
   {
    "duration": 0,
    "start_time": "2022-04-27T08:02:46.594Z"
   },
   {
    "duration": 0,
    "start_time": "2022-04-27T08:02:46.596Z"
   },
   {
    "duration": 0,
    "start_time": "2022-04-27T08:02:46.598Z"
   },
   {
    "duration": 0,
    "start_time": "2022-04-27T08:02:46.600Z"
   },
   {
    "duration": 33,
    "start_time": "2022-04-27T08:03:11.067Z"
   },
   {
    "duration": 8,
    "start_time": "2022-04-27T08:03:35.382Z"
   },
   {
    "duration": 19,
    "start_time": "2022-04-27T08:03:45.597Z"
   },
   {
    "duration": 12,
    "start_time": "2022-04-27T08:04:29.772Z"
   },
   {
    "duration": 6,
    "start_time": "2022-04-27T08:04:36.463Z"
   },
   {
    "duration": 21,
    "start_time": "2022-04-27T08:04:38.743Z"
   },
   {
    "duration": 13,
    "start_time": "2022-04-27T08:04:46.543Z"
   },
   {
    "duration": 1621,
    "start_time": "2022-04-27T08:04:56.501Z"
   },
   {
    "duration": 5,
    "start_time": "2022-04-27T08:04:58.125Z"
   },
   {
    "duration": 6,
    "start_time": "2022-04-27T08:04:58.132Z"
   },
   {
    "duration": 102,
    "start_time": "2022-04-27T08:04:58.141Z"
   },
   {
    "duration": 4,
    "start_time": "2022-04-27T08:04:58.246Z"
   },
   {
    "duration": 6,
    "start_time": "2022-04-27T08:04:58.252Z"
   },
   {
    "duration": 77,
    "start_time": "2022-04-27T08:04:58.260Z"
   },
   {
    "duration": 18,
    "start_time": "2022-04-27T08:04:58.339Z"
   },
   {
    "duration": 13,
    "start_time": "2022-04-27T08:04:58.381Z"
   },
   {
    "duration": 13,
    "start_time": "2022-04-27T08:04:58.398Z"
   },
   {
    "duration": 5,
    "start_time": "2022-04-27T08:04:58.413Z"
   },
   {
    "duration": 17,
    "start_time": "2022-04-27T08:04:58.421Z"
   },
   {
    "duration": 46,
    "start_time": "2022-04-27T08:04:58.440Z"
   },
   {
    "duration": 892,
    "start_time": "2022-04-27T08:04:58.489Z"
   },
   {
    "duration": 9,
    "start_time": "2022-04-27T08:04:59.384Z"
   },
   {
    "duration": 10,
    "start_time": "2022-04-27T08:04:59.396Z"
   },
   {
    "duration": 901,
    "start_time": "2022-04-27T08:04:59.408Z"
   },
   {
    "duration": 20,
    "start_time": "2022-04-27T08:05:00.312Z"
   },
   {
    "duration": 824,
    "start_time": "2022-04-27T08:05:00.335Z"
   },
   {
    "duration": 21,
    "start_time": "2022-04-27T08:05:01.161Z"
   },
   {
    "duration": 1381,
    "start_time": "2022-04-27T08:05:01.184Z"
   },
   {
    "duration": 14,
    "start_time": "2022-04-27T08:05:02.567Z"
   },
   {
    "duration": 891,
    "start_time": "2022-04-27T08:05:02.583Z"
   },
   {
    "duration": 21,
    "start_time": "2022-04-27T08:05:03.481Z"
   },
   {
    "duration": 8,
    "start_time": "2022-04-27T08:05:03.505Z"
   },
   {
    "duration": 438,
    "start_time": "2022-04-27T08:05:03.515Z"
   },
   {
    "duration": 9,
    "start_time": "2022-04-27T08:05:03.955Z"
   },
   {
    "duration": 5,
    "start_time": "2022-04-27T08:05:03.986Z"
   },
   {
    "duration": 9,
    "start_time": "2022-04-27T08:05:03.994Z"
   },
   {
    "duration": 40,
    "start_time": "2022-04-27T08:05:04.005Z"
   },
   {
    "duration": 37,
    "start_time": "2022-04-27T08:05:04.048Z"
   },
   {
    "duration": 15,
    "start_time": "2022-04-27T08:05:04.088Z"
   },
   {
    "duration": 19,
    "start_time": "2022-04-27T08:05:04.105Z"
   },
   {
    "duration": 28,
    "start_time": "2022-04-27T08:05:04.126Z"
   },
   {
    "duration": 27,
    "start_time": "2022-04-27T08:05:04.157Z"
   },
   {
    "duration": 1374,
    "start_time": "2022-04-27T08:05:04.187Z"
   },
   {
    "duration": 7,
    "start_time": "2022-04-27T08:05:05.563Z"
   },
   {
    "duration": 144,
    "start_time": "2022-04-27T08:05:05.582Z"
   },
   {
    "duration": 0,
    "start_time": "2022-04-27T08:05:05.729Z"
   },
   {
    "duration": 0,
    "start_time": "2022-04-27T08:05:05.731Z"
   },
   {
    "duration": 0,
    "start_time": "2022-04-27T08:05:05.733Z"
   },
   {
    "duration": 0,
    "start_time": "2022-04-27T08:05:05.735Z"
   },
   {
    "duration": 0,
    "start_time": "2022-04-27T08:05:05.737Z"
   },
   {
    "duration": 0,
    "start_time": "2022-04-27T08:05:05.740Z"
   },
   {
    "duration": 0,
    "start_time": "2022-04-27T08:05:05.742Z"
   },
   {
    "duration": 1,
    "start_time": "2022-04-27T08:05:05.744Z"
   },
   {
    "duration": 1,
    "start_time": "2022-04-27T08:05:05.746Z"
   },
   {
    "duration": 0,
    "start_time": "2022-04-27T08:05:05.749Z"
   },
   {
    "duration": 0,
    "start_time": "2022-04-27T08:05:05.782Z"
   },
   {
    "duration": 0,
    "start_time": "2022-04-27T08:05:05.784Z"
   },
   {
    "duration": 0,
    "start_time": "2022-04-27T08:05:05.785Z"
   },
   {
    "duration": 0,
    "start_time": "2022-04-27T08:05:05.787Z"
   },
   {
    "duration": 0,
    "start_time": "2022-04-27T08:05:05.788Z"
   },
   {
    "duration": 0,
    "start_time": "2022-04-27T08:05:05.789Z"
   },
   {
    "duration": 0,
    "start_time": "2022-04-27T08:05:05.790Z"
   },
   {
    "duration": 0,
    "start_time": "2022-04-27T08:05:05.792Z"
   },
   {
    "duration": 0,
    "start_time": "2022-04-27T08:05:05.793Z"
   },
   {
    "duration": 0,
    "start_time": "2022-04-27T08:05:05.795Z"
   },
   {
    "duration": 0,
    "start_time": "2022-04-27T08:05:05.796Z"
   },
   {
    "duration": 0,
    "start_time": "2022-04-27T08:05:05.797Z"
   },
   {
    "duration": 0,
    "start_time": "2022-04-27T08:05:05.799Z"
   },
   {
    "duration": 0,
    "start_time": "2022-04-27T08:05:05.800Z"
   },
   {
    "duration": 0,
    "start_time": "2022-04-27T08:05:05.801Z"
   },
   {
    "duration": 0,
    "start_time": "2022-04-27T08:05:05.803Z"
   },
   {
    "duration": 0,
    "start_time": "2022-04-27T08:05:05.804Z"
   },
   {
    "duration": 0,
    "start_time": "2022-04-27T08:05:05.806Z"
   },
   {
    "duration": 0,
    "start_time": "2022-04-27T08:05:05.807Z"
   },
   {
    "duration": 0,
    "start_time": "2022-04-27T08:05:05.808Z"
   },
   {
    "duration": 0,
    "start_time": "2022-04-27T08:05:05.810Z"
   },
   {
    "duration": 0,
    "start_time": "2022-04-27T08:05:05.812Z"
   },
   {
    "duration": 0,
    "start_time": "2022-04-27T08:05:05.813Z"
   },
   {
    "duration": 0,
    "start_time": "2022-04-27T08:05:05.814Z"
   },
   {
    "duration": 0,
    "start_time": "2022-04-27T08:05:05.816Z"
   },
   {
    "duration": 0,
    "start_time": "2022-04-27T08:05:05.817Z"
   },
   {
    "duration": 0,
    "start_time": "2022-04-27T08:05:05.818Z"
   },
   {
    "duration": 0,
    "start_time": "2022-04-27T08:05:05.820Z"
   },
   {
    "duration": 0,
    "start_time": "2022-04-27T08:05:05.882Z"
   },
   {
    "duration": 0,
    "start_time": "2022-04-27T08:05:05.883Z"
   },
   {
    "duration": 0,
    "start_time": "2022-04-27T08:05:05.885Z"
   },
   {
    "duration": 0,
    "start_time": "2022-04-27T08:05:05.886Z"
   },
   {
    "duration": 0,
    "start_time": "2022-04-27T08:05:05.888Z"
   },
   {
    "duration": 1,
    "start_time": "2022-04-27T08:05:05.889Z"
   },
   {
    "duration": 0,
    "start_time": "2022-04-27T08:05:05.891Z"
   },
   {
    "duration": 0,
    "start_time": "2022-04-27T08:05:05.892Z"
   },
   {
    "duration": 0,
    "start_time": "2022-04-27T08:05:05.894Z"
   },
   {
    "duration": 0,
    "start_time": "2022-04-27T08:05:05.895Z"
   },
   {
    "duration": 0,
    "start_time": "2022-04-27T08:05:05.896Z"
   },
   {
    "duration": 0,
    "start_time": "2022-04-27T08:05:05.898Z"
   },
   {
    "duration": 6,
    "start_time": "2022-04-27T08:05:21.912Z"
   },
   {
    "duration": 13,
    "start_time": "2022-04-27T08:05:24.701Z"
   },
   {
    "duration": 6,
    "start_time": "2022-04-27T08:05:46.136Z"
   },
   {
    "duration": 8,
    "start_time": "2022-04-27T08:05:58.842Z"
   },
   {
    "duration": 34,
    "start_time": "2022-04-27T08:06:05.861Z"
   },
   {
    "duration": 20,
    "start_time": "2022-04-27T08:06:12.567Z"
   },
   {
    "duration": 933,
    "start_time": "2022-04-27T08:07:27.269Z"
   },
   {
    "duration": 11,
    "start_time": "2022-04-27T08:08:32.758Z"
   },
   {
    "duration": 1526,
    "start_time": "2022-04-27T08:08:38.186Z"
   },
   {
    "duration": 5,
    "start_time": "2022-04-27T08:08:39.715Z"
   },
   {
    "duration": 8,
    "start_time": "2022-04-27T08:08:39.722Z"
   },
   {
    "duration": 103,
    "start_time": "2022-04-27T08:08:39.733Z"
   },
   {
    "duration": 5,
    "start_time": "2022-04-27T08:08:39.838Z"
   },
   {
    "duration": 12,
    "start_time": "2022-04-27T08:08:39.845Z"
   },
   {
    "duration": 74,
    "start_time": "2022-04-27T08:08:39.859Z"
   },
   {
    "duration": 46,
    "start_time": "2022-04-27T08:08:39.935Z"
   },
   {
    "duration": 16,
    "start_time": "2022-04-27T08:08:39.984Z"
   },
   {
    "duration": 14,
    "start_time": "2022-04-27T08:08:40.006Z"
   },
   {
    "duration": 8,
    "start_time": "2022-04-27T08:08:40.022Z"
   },
   {
    "duration": 15,
    "start_time": "2022-04-27T08:08:40.032Z"
   },
   {
    "duration": 37,
    "start_time": "2022-04-27T08:08:40.050Z"
   },
   {
    "duration": 886,
    "start_time": "2022-04-27T08:08:40.089Z"
   },
   {
    "duration": 11,
    "start_time": "2022-04-27T08:08:40.982Z"
   },
   {
    "duration": 12,
    "start_time": "2022-04-27T08:08:40.996Z"
   },
   {
    "duration": 886,
    "start_time": "2022-04-27T08:08:41.011Z"
   },
   {
    "duration": 20,
    "start_time": "2022-04-27T08:08:41.899Z"
   },
   {
    "duration": 837,
    "start_time": "2022-04-27T08:08:41.921Z"
   },
   {
    "duration": 21,
    "start_time": "2022-04-27T08:08:42.760Z"
   },
   {
    "duration": 1404,
    "start_time": "2022-04-27T08:08:42.784Z"
   },
   {
    "duration": 6,
    "start_time": "2022-04-27T08:08:44.191Z"
   },
   {
    "duration": 857,
    "start_time": "2022-04-27T08:08:44.199Z"
   },
   {
    "duration": 27,
    "start_time": "2022-04-27T08:08:45.058Z"
   },
   {
    "duration": 43,
    "start_time": "2022-04-27T08:08:45.087Z"
   },
   {
    "duration": 434,
    "start_time": "2022-04-27T08:08:45.133Z"
   },
   {
    "duration": 14,
    "start_time": "2022-04-27T08:08:45.569Z"
   },
   {
    "duration": 6,
    "start_time": "2022-04-27T08:08:45.590Z"
   },
   {
    "duration": 13,
    "start_time": "2022-04-27T08:08:45.598Z"
   },
   {
    "duration": 43,
    "start_time": "2022-04-27T08:08:45.613Z"
   },
   {
    "duration": 5,
    "start_time": "2022-04-27T08:08:45.681Z"
   },
   {
    "duration": 20,
    "start_time": "2022-04-27T08:08:45.688Z"
   },
   {
    "duration": 14,
    "start_time": "2022-04-27T08:08:45.710Z"
   },
   {
    "duration": 857,
    "start_time": "2022-04-27T08:08:45.726Z"
   },
   {
    "duration": 5,
    "start_time": "2022-04-27T08:08:46.585Z"
   },
   {
    "duration": 10,
    "start_time": "2022-04-27T08:08:46.592Z"
   },
   {
    "duration": 3683,
    "start_time": "2022-04-27T08:08:46.604Z"
   },
   {
    "duration": 21,
    "start_time": "2022-04-27T08:08:50.290Z"
   },
   {
    "duration": 162,
    "start_time": "2022-04-27T08:08:50.313Z"
   },
   {
    "duration": 0,
    "start_time": "2022-04-27T08:08:50.477Z"
   },
   {
    "duration": 0,
    "start_time": "2022-04-27T08:08:50.482Z"
   },
   {
    "duration": 0,
    "start_time": "2022-04-27T08:08:50.484Z"
   },
   {
    "duration": 0,
    "start_time": "2022-04-27T08:08:50.485Z"
   },
   {
    "duration": 0,
    "start_time": "2022-04-27T08:08:50.487Z"
   },
   {
    "duration": 0,
    "start_time": "2022-04-27T08:08:50.490Z"
   },
   {
    "duration": 1,
    "start_time": "2022-04-27T08:08:50.491Z"
   },
   {
    "duration": 0,
    "start_time": "2022-04-27T08:08:50.495Z"
   },
   {
    "duration": 0,
    "start_time": "2022-04-27T08:08:50.497Z"
   },
   {
    "duration": 0,
    "start_time": "2022-04-27T08:08:50.498Z"
   },
   {
    "duration": 0,
    "start_time": "2022-04-27T08:08:50.500Z"
   },
   {
    "duration": 0,
    "start_time": "2022-04-27T08:08:50.501Z"
   },
   {
    "duration": 0,
    "start_time": "2022-04-27T08:08:50.503Z"
   },
   {
    "duration": 0,
    "start_time": "2022-04-27T08:08:50.504Z"
   },
   {
    "duration": 0,
    "start_time": "2022-04-27T08:08:50.505Z"
   },
   {
    "duration": 0,
    "start_time": "2022-04-27T08:08:50.508Z"
   },
   {
    "duration": 0,
    "start_time": "2022-04-27T08:08:50.510Z"
   },
   {
    "duration": 0,
    "start_time": "2022-04-27T08:08:50.512Z"
   },
   {
    "duration": 0,
    "start_time": "2022-04-27T08:08:50.514Z"
   },
   {
    "duration": 0,
    "start_time": "2022-04-27T08:08:50.516Z"
   },
   {
    "duration": 0,
    "start_time": "2022-04-27T08:08:50.518Z"
   },
   {
    "duration": 0,
    "start_time": "2022-04-27T08:08:50.520Z"
   },
   {
    "duration": 0,
    "start_time": "2022-04-27T08:08:50.581Z"
   },
   {
    "duration": 1,
    "start_time": "2022-04-27T08:08:50.583Z"
   },
   {
    "duration": 0,
    "start_time": "2022-04-27T08:08:50.585Z"
   },
   {
    "duration": 0,
    "start_time": "2022-04-27T08:08:50.586Z"
   },
   {
    "duration": 0,
    "start_time": "2022-04-27T08:08:50.587Z"
   },
   {
    "duration": 0,
    "start_time": "2022-04-27T08:08:50.590Z"
   },
   {
    "duration": 0,
    "start_time": "2022-04-27T08:08:50.592Z"
   },
   {
    "duration": 0,
    "start_time": "2022-04-27T08:08:50.594Z"
   },
   {
    "duration": 0,
    "start_time": "2022-04-27T08:08:50.596Z"
   },
   {
    "duration": 0,
    "start_time": "2022-04-27T08:08:50.597Z"
   },
   {
    "duration": 0,
    "start_time": "2022-04-27T08:08:50.599Z"
   },
   {
    "duration": 0,
    "start_time": "2022-04-27T08:08:50.601Z"
   },
   {
    "duration": 0,
    "start_time": "2022-04-27T08:08:50.604Z"
   },
   {
    "duration": 0,
    "start_time": "2022-04-27T08:08:50.606Z"
   },
   {
    "duration": 0,
    "start_time": "2022-04-27T08:08:50.608Z"
   },
   {
    "duration": 0,
    "start_time": "2022-04-27T08:08:50.610Z"
   },
   {
    "duration": 0,
    "start_time": "2022-04-27T08:08:50.612Z"
   },
   {
    "duration": 0,
    "start_time": "2022-04-27T08:08:50.613Z"
   },
   {
    "duration": 0,
    "start_time": "2022-04-27T08:08:50.616Z"
   },
   {
    "duration": 0,
    "start_time": "2022-04-27T08:08:50.618Z"
   },
   {
    "duration": 0,
    "start_time": "2022-04-27T08:08:50.620Z"
   },
   {
    "duration": 0,
    "start_time": "2022-04-27T08:08:50.698Z"
   },
   {
    "duration": 891,
    "start_time": "2022-04-27T08:09:24.511Z"
   },
   {
    "duration": 12,
    "start_time": "2022-04-27T08:13:05.705Z"
   },
   {
    "duration": 7,
    "start_time": "2022-04-27T08:13:10.939Z"
   },
   {
    "duration": 19,
    "start_time": "2022-04-27T08:13:51.740Z"
   },
   {
    "duration": 10,
    "start_time": "2022-04-27T08:13:53.135Z"
   },
   {
    "duration": 10,
    "start_time": "2022-04-27T08:13:53.810Z"
   },
   {
    "duration": 8,
    "start_time": "2022-04-27T08:14:00.978Z"
   },
   {
    "duration": 19,
    "start_time": "2022-04-27T08:14:01.624Z"
   },
   {
    "duration": 19,
    "start_time": "2022-04-27T08:14:08.870Z"
   },
   {
    "duration": 5,
    "start_time": "2022-04-27T08:14:15.350Z"
   },
   {
    "duration": 6,
    "start_time": "2022-04-27T08:14:15.679Z"
   },
   {
    "duration": 8,
    "start_time": "2022-04-27T08:14:16.940Z"
   },
   {
    "duration": 22,
    "start_time": "2022-04-27T08:15:28.807Z"
   },
   {
    "duration": 5,
    "start_time": "2022-04-27T08:15:29.691Z"
   },
   {
    "duration": 5,
    "start_time": "2022-04-27T08:15:31.026Z"
   },
   {
    "duration": 17,
    "start_time": "2022-04-27T08:15:31.911Z"
   },
   {
    "duration": 23,
    "start_time": "2022-04-27T08:15:34.807Z"
   },
   {
    "duration": 9,
    "start_time": "2022-04-27T08:15:42.682Z"
   },
   {
    "duration": 15,
    "start_time": "2022-04-27T08:15:44.376Z"
   },
   {
    "duration": 11,
    "start_time": "2022-04-27T08:15:45.591Z"
   },
   {
    "duration": 43,
    "start_time": "2022-04-27T08:15:50.152Z"
   },
   {
    "duration": 29,
    "start_time": "2022-04-27T08:15:56.361Z"
   },
   {
    "duration": 31,
    "start_time": "2022-04-27T08:16:00.457Z"
   },
   {
    "duration": 21,
    "start_time": "2022-04-27T08:16:04.042Z"
   },
   {
    "duration": 10,
    "start_time": "2022-04-27T08:16:20.228Z"
   },
   {
    "duration": 4,
    "start_time": "2022-04-27T08:16:26.902Z"
   },
   {
    "duration": 4876,
    "start_time": "2022-04-27T08:16:35.753Z"
   },
   {
    "duration": 5,
    "start_time": "2022-04-27T08:17:04.283Z"
   },
   {
    "duration": 3582,
    "start_time": "2022-04-27T08:17:25.028Z"
   },
   {
    "duration": 11,
    "start_time": "2022-04-27T08:17:42.578Z"
   },
   {
    "duration": 10,
    "start_time": "2022-04-27T08:18:22.419Z"
   },
   {
    "duration": 44,
    "start_time": "2022-04-27T08:18:56.830Z"
   },
   {
    "duration": 4,
    "start_time": "2022-04-27T08:19:03.086Z"
   },
   {
    "duration": 13,
    "start_time": "2022-04-27T08:19:07.705Z"
   },
   {
    "duration": 9,
    "start_time": "2022-04-27T08:19:10.090Z"
   },
   {
    "duration": 4,
    "start_time": "2022-04-27T08:19:14.425Z"
   },
   {
    "duration": 12,
    "start_time": "2022-04-27T08:19:22.119Z"
   },
   {
    "duration": 10,
    "start_time": "2022-04-27T08:19:26.454Z"
   },
   {
    "duration": 18,
    "start_time": "2022-04-27T08:20:34.841Z"
   },
   {
    "duration": 19,
    "start_time": "2022-04-27T08:22:50.033Z"
   },
   {
    "duration": 11,
    "start_time": "2022-04-27T08:22:58.874Z"
   },
   {
    "duration": 15,
    "start_time": "2022-04-27T08:23:04.919Z"
   },
   {
    "duration": 2027,
    "start_time": "2022-04-27T08:23:08.504Z"
   },
   {
    "duration": 11,
    "start_time": "2022-04-27T08:23:19.605Z"
   },
   {
    "duration": 10,
    "start_time": "2022-04-27T08:23:29.866Z"
   },
   {
    "duration": 17,
    "start_time": "2022-04-27T08:23:40.877Z"
   },
   {
    "duration": 5,
    "start_time": "2022-04-27T08:25:50.777Z"
   },
   {
    "duration": 25,
    "start_time": "2022-04-27T08:26:13.757Z"
   },
   {
    "duration": 6,
    "start_time": "2022-04-27T08:26:19.876Z"
   },
   {
    "duration": 20,
    "start_time": "2022-04-27T08:26:20.627Z"
   },
   {
    "duration": 17,
    "start_time": "2022-04-27T08:26:30.978Z"
   },
   {
    "duration": 16,
    "start_time": "2022-04-27T08:26:31.352Z"
   },
   {
    "duration": 6,
    "start_time": "2022-04-27T08:26:45.184Z"
   },
   {
    "duration": 36,
    "start_time": "2022-04-27T08:26:45.902Z"
   },
   {
    "duration": 35,
    "start_time": "2022-04-27T08:29:57.351Z"
   },
   {
    "duration": 18,
    "start_time": "2022-04-27T08:29:58.745Z"
   },
   {
    "duration": 18,
    "start_time": "2022-04-27T08:29:58.924Z"
   },
   {
    "duration": 7,
    "start_time": "2022-04-27T08:30:31.090Z"
   },
   {
    "duration": 24,
    "start_time": "2022-04-27T08:30:31.988Z"
   },
   {
    "duration": 5,
    "start_time": "2022-04-27T08:31:01.988Z"
   },
   {
    "duration": 29,
    "start_time": "2022-04-27T08:31:03.396Z"
   },
   {
    "duration": 28,
    "start_time": "2022-04-27T08:31:11.347Z"
   },
   {
    "duration": 25,
    "start_time": "2022-04-27T08:32:24.625Z"
   },
   {
    "duration": 24,
    "start_time": "2022-04-27T08:32:24.787Z"
   },
   {
    "duration": 23,
    "start_time": "2022-04-27T08:32:24.953Z"
   },
   {
    "duration": 31,
    "start_time": "2022-04-27T08:32:36.923Z"
   },
   {
    "duration": 5,
    "start_time": "2022-04-27T08:34:15.160Z"
   },
   {
    "duration": 51,
    "start_time": "2022-04-27T08:34:15.626Z"
   },
   {
    "duration": 28,
    "start_time": "2022-04-27T08:34:55.211Z"
   },
   {
    "duration": 31,
    "start_time": "2022-04-27T08:35:07.256Z"
   },
   {
    "duration": 19,
    "start_time": "2022-04-27T08:35:38.690Z"
   },
   {
    "duration": 17,
    "start_time": "2022-04-27T08:35:38.876Z"
   },
   {
    "duration": 16,
    "start_time": "2022-04-27T08:35:39.056Z"
   },
   {
    "duration": 30,
    "start_time": "2022-04-27T08:35:51.626Z"
   },
   {
    "duration": 1563,
    "start_time": "2022-04-27T08:43:11.499Z"
   },
   {
    "duration": 6,
    "start_time": "2022-04-27T08:43:13.065Z"
   },
   {
    "duration": 4,
    "start_time": "2022-04-27T08:43:13.082Z"
   },
   {
    "duration": 108,
    "start_time": "2022-04-27T08:43:13.090Z"
   },
   {
    "duration": 5,
    "start_time": "2022-04-27T08:43:13.201Z"
   },
   {
    "duration": 12,
    "start_time": "2022-04-27T08:43:13.209Z"
   },
   {
    "duration": 84,
    "start_time": "2022-04-27T08:43:13.224Z"
   },
   {
    "duration": 20,
    "start_time": "2022-04-27T08:43:13.310Z"
   },
   {
    "duration": 23,
    "start_time": "2022-04-27T08:43:13.332Z"
   },
   {
    "duration": 14,
    "start_time": "2022-04-27T08:43:13.381Z"
   },
   {
    "duration": 5,
    "start_time": "2022-04-27T08:43:13.398Z"
   },
   {
    "duration": 20,
    "start_time": "2022-04-27T08:43:13.406Z"
   },
   {
    "duration": 30,
    "start_time": "2022-04-27T08:43:13.428Z"
   },
   {
    "duration": 915,
    "start_time": "2022-04-27T08:43:13.460Z"
   },
   {
    "duration": 11,
    "start_time": "2022-04-27T08:43:14.381Z"
   },
   {
    "duration": 15,
    "start_time": "2022-04-27T08:43:14.394Z"
   },
   {
    "duration": 981,
    "start_time": "2022-04-27T08:43:14.411Z"
   },
   {
    "duration": 21,
    "start_time": "2022-04-27T08:43:15.394Z"
   },
   {
    "duration": 941,
    "start_time": "2022-04-27T08:43:15.417Z"
   },
   {
    "duration": 22,
    "start_time": "2022-04-27T08:43:16.360Z"
   },
   {
    "duration": 1393,
    "start_time": "2022-04-27T08:43:16.385Z"
   },
   {
    "duration": 6,
    "start_time": "2022-04-27T08:43:17.781Z"
   },
   {
    "duration": 878,
    "start_time": "2022-04-27T08:43:17.790Z"
   },
   {
    "duration": 28,
    "start_time": "2022-04-27T08:43:18.670Z"
   },
   {
    "duration": 16,
    "start_time": "2022-04-27T08:43:18.701Z"
   },
   {
    "duration": 432,
    "start_time": "2022-04-27T08:43:18.719Z"
   },
   {
    "duration": 8,
    "start_time": "2022-04-27T08:43:19.153Z"
   },
   {
    "duration": 7,
    "start_time": "2022-04-27T08:43:19.183Z"
   },
   {
    "duration": 12,
    "start_time": "2022-04-27T08:43:19.193Z"
   },
   {
    "duration": 78,
    "start_time": "2022-04-27T08:43:19.207Z"
   },
   {
    "duration": 6,
    "start_time": "2022-04-27T08:43:19.288Z"
   },
   {
    "duration": 20,
    "start_time": "2022-04-27T08:43:19.297Z"
   },
   {
    "duration": 20,
    "start_time": "2022-04-27T08:43:19.320Z"
   },
   {
    "duration": 1220,
    "start_time": "2022-04-27T08:43:19.343Z"
   },
   {
    "duration": 23,
    "start_time": "2022-04-27T08:43:20.566Z"
   },
   {
    "duration": 8,
    "start_time": "2022-04-27T08:43:20.593Z"
   },
   {
    "duration": 14,
    "start_time": "2022-04-27T08:43:20.604Z"
   },
   {
    "duration": 5001,
    "start_time": "2022-04-27T08:43:20.621Z"
   },
   {
    "duration": 1293,
    "start_time": "2022-04-27T08:43:25.625Z"
   },
   {
    "duration": 33,
    "start_time": "2022-04-27T08:43:26.921Z"
   },
   {
    "duration": 43,
    "start_time": "2022-04-27T08:43:26.957Z"
   },
   {
    "duration": 32,
    "start_time": "2022-04-27T08:43:27.003Z"
   },
   {
    "duration": 16,
    "start_time": "2022-04-27T08:43:27.037Z"
   },
   {
    "duration": 12,
    "start_time": "2022-04-27T08:43:27.055Z"
   },
   {
    "duration": 20,
    "start_time": "2022-04-27T08:43:27.081Z"
   },
   {
    "duration": 10,
    "start_time": "2022-04-27T08:43:27.103Z"
   },
   {
    "duration": 9,
    "start_time": "2022-04-27T08:43:27.115Z"
   },
   {
    "duration": 12,
    "start_time": "2022-04-27T08:43:27.127Z"
   },
   {
    "duration": 54,
    "start_time": "2022-04-27T08:43:27.141Z"
   },
   {
    "duration": 7,
    "start_time": "2022-04-27T08:43:27.198Z"
   },
   {
    "duration": 10,
    "start_time": "2022-04-27T08:43:27.208Z"
   },
   {
    "duration": 27,
    "start_time": "2022-04-27T08:43:27.221Z"
   },
   {
    "duration": 49,
    "start_time": "2022-04-27T08:43:27.251Z"
   },
   {
    "duration": 9,
    "start_time": "2022-04-27T08:43:27.302Z"
   },
   {
    "duration": 19,
    "start_time": "2022-04-27T08:43:27.314Z"
   },
   {
    "duration": 17,
    "start_time": "2022-04-27T08:43:27.335Z"
   },
   {
    "duration": 68,
    "start_time": "2022-04-27T08:43:27.354Z"
   },
   {
    "duration": 30,
    "start_time": "2022-04-27T08:43:27.425Z"
   },
   {
    "duration": 53,
    "start_time": "2022-04-27T08:43:27.458Z"
   },
   {
    "duration": 21,
    "start_time": "2022-04-27T08:43:27.514Z"
   },
   {
    "duration": 10,
    "start_time": "2022-04-27T08:43:27.537Z"
   },
   {
    "duration": 4,
    "start_time": "2022-04-27T08:43:27.582Z"
   },
   {
    "duration": 5430,
    "start_time": "2022-04-27T08:43:27.588Z"
   },
   {
    "duration": 5,
    "start_time": "2022-04-27T08:43:33.021Z"
   },
   {
    "duration": 4317,
    "start_time": "2022-04-27T08:43:33.028Z"
   },
   {
    "duration": 11,
    "start_time": "2022-04-27T08:43:37.348Z"
   },
   {
    "duration": 66,
    "start_time": "2022-04-27T08:43:37.362Z"
   },
   {
    "duration": 5,
    "start_time": "2022-04-27T08:43:37.430Z"
   },
   {
    "duration": 22,
    "start_time": "2022-04-27T08:43:37.437Z"
   },
   {
    "duration": 30,
    "start_time": "2022-04-27T08:43:37.461Z"
   },
   {
    "duration": 14,
    "start_time": "2022-04-27T08:43:37.493Z"
   },
   {
    "duration": 11,
    "start_time": "2022-04-27T08:43:37.509Z"
   },
   {
    "duration": 16,
    "start_time": "2022-04-27T08:43:37.523Z"
   },
   {
    "duration": 55,
    "start_time": "2022-04-27T08:43:37.542Z"
   },
   {
    "duration": 32,
    "start_time": "2022-04-27T08:43:37.599Z"
   },
   {
    "duration": 51,
    "start_time": "2022-04-27T08:43:37.633Z"
   },
   {
    "duration": 30,
    "start_time": "2022-04-27T08:43:37.687Z"
   },
   {
    "duration": 11,
    "start_time": "2022-04-27T08:53:25.753Z"
   },
   {
    "duration": 22,
    "start_time": "2022-04-27T08:54:25.019Z"
   },
   {
    "duration": 7,
    "start_time": "2022-04-27T08:54:55.980Z"
   },
   {
    "duration": 18,
    "start_time": "2022-04-27T08:54:59.549Z"
   },
   {
    "duration": 7,
    "start_time": "2022-04-27T08:55:17.985Z"
   },
   {
    "duration": 1702,
    "start_time": "2022-04-27T08:56:50.070Z"
   },
   {
    "duration": 5,
    "start_time": "2022-04-27T08:56:51.775Z"
   },
   {
    "duration": 6,
    "start_time": "2022-04-27T08:56:51.782Z"
   },
   {
    "duration": 99,
    "start_time": "2022-04-27T08:56:51.791Z"
   },
   {
    "duration": 4,
    "start_time": "2022-04-27T08:56:51.893Z"
   },
   {
    "duration": 7,
    "start_time": "2022-04-27T08:56:51.899Z"
   },
   {
    "duration": 87,
    "start_time": "2022-04-27T08:56:51.908Z"
   },
   {
    "duration": 19,
    "start_time": "2022-04-27T08:56:51.997Z"
   },
   {
    "duration": 14,
    "start_time": "2022-04-27T08:56:52.017Z"
   },
   {
    "duration": 48,
    "start_time": "2022-04-27T08:56:52.034Z"
   },
   {
    "duration": 6,
    "start_time": "2022-04-27T08:56:52.084Z"
   },
   {
    "duration": 12,
    "start_time": "2022-04-27T08:56:52.092Z"
   },
   {
    "duration": 12,
    "start_time": "2022-04-27T08:56:52.106Z"
   },
   {
    "duration": 18,
    "start_time": "2022-04-27T08:56:52.120Z"
   },
   {
    "duration": 926,
    "start_time": "2022-04-27T08:56:52.140Z"
   },
   {
    "duration": 15,
    "start_time": "2022-04-27T08:56:53.068Z"
   },
   {
    "duration": 1474,
    "start_time": "2022-04-27T08:56:53.086Z"
   },
   {
    "duration": 7,
    "start_time": "2022-04-27T08:56:54.562Z"
   },
   {
    "duration": 913,
    "start_time": "2022-04-27T08:56:54.571Z"
   },
   {
    "duration": 17,
    "start_time": "2022-04-27T08:56:55.486Z"
   },
   {
    "duration": 9,
    "start_time": "2022-04-27T08:56:55.505Z"
   },
   {
    "duration": 344,
    "start_time": "2022-04-27T08:56:55.516Z"
   },
   {
    "duration": 7,
    "start_time": "2022-04-27T08:56:55.862Z"
   },
   {
    "duration": 5,
    "start_time": "2022-04-27T08:56:55.882Z"
   },
   {
    "duration": 9,
    "start_time": "2022-04-27T08:56:55.889Z"
   },
   {
    "duration": 40,
    "start_time": "2022-04-27T08:56:55.901Z"
   },
   {
    "duration": 5,
    "start_time": "2022-04-27T08:56:55.943Z"
   },
   {
    "duration": 13,
    "start_time": "2022-04-27T08:56:55.986Z"
   },
   {
    "duration": 12,
    "start_time": "2022-04-27T08:56:56.001Z"
   },
   {
    "duration": 853,
    "start_time": "2022-04-27T08:56:56.015Z"
   },
   {
    "duration": 15,
    "start_time": "2022-04-27T08:56:56.870Z"
   },
   {
    "duration": 914,
    "start_time": "2022-04-27T08:56:56.887Z"
   },
   {
    "duration": 5,
    "start_time": "2022-04-27T08:56:57.803Z"
   },
   {
    "duration": 12,
    "start_time": "2022-04-27T08:56:57.810Z"
   },
   {
    "duration": 7,
    "start_time": "2022-04-27T08:56:57.824Z"
   },
   {
    "duration": 13,
    "start_time": "2022-04-27T08:56:57.833Z"
   },
   {
    "duration": 3139,
    "start_time": "2022-04-27T08:56:57.848Z"
   },
   {
    "duration": 926,
    "start_time": "2022-04-27T08:57:00.989Z"
   },
   {
    "duration": 23,
    "start_time": "2022-04-27T08:57:01.917Z"
   },
   {
    "duration": 47,
    "start_time": "2022-04-27T08:57:01.942Z"
   },
   {
    "duration": 19,
    "start_time": "2022-04-27T08:57:01.991Z"
   },
   {
    "duration": 30,
    "start_time": "2022-04-27T08:57:02.012Z"
   },
   {
    "duration": 38,
    "start_time": "2022-04-27T08:57:02.044Z"
   },
   {
    "duration": 56,
    "start_time": "2022-04-27T08:57:02.084Z"
   },
   {
    "duration": 34,
    "start_time": "2022-04-27T08:57:02.142Z"
   },
   {
    "duration": 40,
    "start_time": "2022-04-27T08:57:02.179Z"
   },
   {
    "duration": 33,
    "start_time": "2022-04-27T08:57:02.222Z"
   },
   {
    "duration": 31,
    "start_time": "2022-04-27T08:57:02.257Z"
   },
   {
    "duration": 6,
    "start_time": "2022-04-27T08:57:02.291Z"
   },
   {
    "duration": 14,
    "start_time": "2022-04-27T08:57:02.300Z"
   },
   {
    "duration": 30,
    "start_time": "2022-04-27T08:57:02.318Z"
   },
   {
    "duration": 57,
    "start_time": "2022-04-27T08:57:02.351Z"
   },
   {
    "duration": 14,
    "start_time": "2022-04-27T08:57:02.411Z"
   },
   {
    "duration": 43,
    "start_time": "2022-04-27T08:57:02.428Z"
   },
   {
    "duration": 21,
    "start_time": "2022-04-27T08:57:02.474Z"
   },
   {
    "duration": 84,
    "start_time": "2022-04-27T08:57:02.498Z"
   },
   {
    "duration": 44,
    "start_time": "2022-04-27T08:57:02.586Z"
   },
   {
    "duration": 69,
    "start_time": "2022-04-27T08:57:02.633Z"
   },
   {
    "duration": 40,
    "start_time": "2022-04-27T08:57:02.705Z"
   },
   {
    "duration": 33,
    "start_time": "2022-04-27T08:57:02.749Z"
   },
   {
    "duration": 4,
    "start_time": "2022-04-27T08:57:02.786Z"
   },
   {
    "duration": 5017,
    "start_time": "2022-04-27T08:57:02.793Z"
   },
   {
    "duration": 6,
    "start_time": "2022-04-27T08:57:07.813Z"
   },
   {
    "duration": 6444,
    "start_time": "2022-04-27T08:57:07.821Z"
   },
   {
    "duration": 23,
    "start_time": "2022-04-27T08:57:14.267Z"
   },
   {
    "duration": 47,
    "start_time": "2022-04-27T08:57:14.292Z"
   },
   {
    "duration": 4,
    "start_time": "2022-04-27T08:57:14.342Z"
   },
   {
    "duration": 41,
    "start_time": "2022-04-27T08:57:14.348Z"
   },
   {
    "duration": 4,
    "start_time": "2022-04-27T08:57:14.391Z"
   },
   {
    "duration": 13,
    "start_time": "2022-04-27T08:57:14.397Z"
   },
   {
    "duration": 9,
    "start_time": "2022-04-27T08:57:14.412Z"
   },
   {
    "duration": 6,
    "start_time": "2022-04-27T08:57:14.423Z"
   },
   {
    "duration": 70,
    "start_time": "2022-04-27T08:57:14.431Z"
   },
   {
    "duration": 30,
    "start_time": "2022-04-27T08:57:14.503Z"
   },
   {
    "duration": 48,
    "start_time": "2022-04-27T08:57:14.535Z"
   },
   {
    "duration": 29,
    "start_time": "2022-04-27T08:57:14.586Z"
   },
   {
    "duration": 10,
    "start_time": "2022-04-27T08:57:32.121Z"
   },
   {
    "duration": 1700,
    "start_time": "2022-04-27T08:58:30.134Z"
   },
   {
    "duration": 5,
    "start_time": "2022-04-27T08:58:31.837Z"
   },
   {
    "duration": 14,
    "start_time": "2022-04-27T08:58:31.844Z"
   },
   {
    "duration": 117,
    "start_time": "2022-04-27T08:58:31.861Z"
   },
   {
    "duration": 8,
    "start_time": "2022-04-27T08:58:31.981Z"
   },
   {
    "duration": 12,
    "start_time": "2022-04-27T08:58:31.992Z"
   },
   {
    "duration": 92,
    "start_time": "2022-04-27T08:58:32.006Z"
   },
   {
    "duration": 19,
    "start_time": "2022-04-27T08:58:32.100Z"
   },
   {
    "duration": 16,
    "start_time": "2022-04-27T08:58:32.121Z"
   },
   {
    "duration": 14,
    "start_time": "2022-04-27T08:58:32.141Z"
   },
   {
    "duration": 7,
    "start_time": "2022-04-27T08:58:32.181Z"
   },
   {
    "duration": 17,
    "start_time": "2022-04-27T08:58:32.191Z"
   },
   {
    "duration": 24,
    "start_time": "2022-04-27T08:58:32.210Z"
   },
   {
    "duration": 24,
    "start_time": "2022-04-27T08:58:32.236Z"
   },
   {
    "duration": 927,
    "start_time": "2022-04-27T08:58:32.262Z"
   },
   {
    "duration": 10,
    "start_time": "2022-04-27T08:58:33.193Z"
   },
   {
    "duration": 1441,
    "start_time": "2022-04-27T08:58:33.205Z"
   },
   {
    "duration": 6,
    "start_time": "2022-04-27T08:58:34.649Z"
   },
   {
    "duration": 1562,
    "start_time": "2022-04-27T08:58:34.657Z"
   },
   {
    "duration": 79,
    "start_time": "2022-04-27T08:58:36.221Z"
   },
   {
    "duration": 13,
    "start_time": "2022-04-27T08:58:36.302Z"
   },
   {
    "duration": 706,
    "start_time": "2022-04-27T08:58:36.317Z"
   },
   {
    "duration": 65,
    "start_time": "2022-04-27T08:58:37.025Z"
   },
   {
    "duration": 14,
    "start_time": "2022-04-27T08:58:37.095Z"
   },
   {
    "duration": 11,
    "start_time": "2022-04-27T08:58:37.111Z"
   },
   {
    "duration": 86,
    "start_time": "2022-04-27T08:58:37.124Z"
   },
   {
    "duration": 5,
    "start_time": "2022-04-27T08:58:37.212Z"
   },
   {
    "duration": 73,
    "start_time": "2022-04-27T08:58:37.223Z"
   },
   {
    "duration": 28,
    "start_time": "2022-04-27T08:58:37.298Z"
   },
   {
    "duration": 1181,
    "start_time": "2022-04-27T08:58:37.329Z"
   },
   {
    "duration": 10,
    "start_time": "2022-04-27T08:58:38.512Z"
   },
   {
    "duration": 898,
    "start_time": "2022-04-27T08:58:38.524Z"
   },
   {
    "duration": 6,
    "start_time": "2022-04-27T08:58:39.424Z"
   },
   {
    "duration": 10,
    "start_time": "2022-04-27T08:58:39.432Z"
   },
   {
    "duration": 6,
    "start_time": "2022-04-27T08:58:39.444Z"
   },
   {
    "duration": 38,
    "start_time": "2022-04-27T08:58:39.452Z"
   },
   {
    "duration": 3500,
    "start_time": "2022-04-27T08:58:39.493Z"
   },
   {
    "duration": 987,
    "start_time": "2022-04-27T08:58:42.996Z"
   },
   {
    "duration": 25,
    "start_time": "2022-04-27T08:58:43.986Z"
   },
   {
    "duration": 20,
    "start_time": "2022-04-27T08:58:44.013Z"
   },
   {
    "duration": 12,
    "start_time": "2022-04-27T08:58:44.035Z"
   },
   {
    "duration": 46,
    "start_time": "2022-04-27T08:58:44.050Z"
   },
   {
    "duration": 9,
    "start_time": "2022-04-27T08:58:44.099Z"
   },
   {
    "duration": 18,
    "start_time": "2022-04-27T08:58:44.111Z"
   },
   {
    "duration": 10,
    "start_time": "2022-04-27T08:58:44.132Z"
   },
   {
    "duration": 6,
    "start_time": "2022-04-27T08:58:44.144Z"
   },
   {
    "duration": 18,
    "start_time": "2022-04-27T08:58:44.181Z"
   },
   {
    "duration": 25,
    "start_time": "2022-04-27T08:58:44.201Z"
   },
   {
    "duration": 6,
    "start_time": "2022-04-27T08:58:44.228Z"
   },
   {
    "duration": 10,
    "start_time": "2022-04-27T08:58:44.236Z"
   },
   {
    "duration": 48,
    "start_time": "2022-04-27T08:58:44.249Z"
   },
   {
    "duration": 26,
    "start_time": "2022-04-27T08:58:44.299Z"
   },
   {
    "duration": 11,
    "start_time": "2022-04-27T08:58:44.327Z"
   },
   {
    "duration": 17,
    "start_time": "2022-04-27T08:58:44.340Z"
   },
   {
    "duration": 41,
    "start_time": "2022-04-27T08:58:44.360Z"
   },
   {
    "duration": 44,
    "start_time": "2022-04-27T08:58:44.404Z"
   },
   {
    "duration": 58,
    "start_time": "2022-04-27T08:58:44.450Z"
   },
   {
    "duration": 31,
    "start_time": "2022-04-27T08:58:44.510Z"
   },
   {
    "duration": 38,
    "start_time": "2022-04-27T08:58:44.544Z"
   },
   {
    "duration": 15,
    "start_time": "2022-04-27T08:58:44.587Z"
   },
   {
    "duration": 3,
    "start_time": "2022-04-27T08:58:44.605Z"
   },
   {
    "duration": 7060,
    "start_time": "2022-04-27T08:58:44.611Z"
   },
   {
    "duration": 18,
    "start_time": "2022-04-27T08:58:51.673Z"
   },
   {
    "duration": 4045,
    "start_time": "2022-04-27T08:58:51.693Z"
   },
   {
    "duration": 11,
    "start_time": "2022-04-27T08:58:55.741Z"
   },
   {
    "duration": 68,
    "start_time": "2022-04-27T08:58:55.754Z"
   },
   {
    "duration": 4,
    "start_time": "2022-04-27T08:58:55.824Z"
   },
   {
    "duration": 20,
    "start_time": "2022-04-27T08:58:55.830Z"
   },
   {
    "duration": 4,
    "start_time": "2022-04-27T08:58:55.852Z"
   },
   {
    "duration": 40,
    "start_time": "2022-04-27T08:58:55.858Z"
   },
   {
    "duration": 21,
    "start_time": "2022-04-27T08:58:55.900Z"
   },
   {
    "duration": 10,
    "start_time": "2022-04-27T08:58:55.923Z"
   },
   {
    "duration": 32,
    "start_time": "2022-04-27T08:58:55.936Z"
   },
   {
    "duration": 35,
    "start_time": "2022-04-27T08:58:55.982Z"
   },
   {
    "duration": 30,
    "start_time": "2022-04-27T08:58:56.020Z"
   },
   {
    "duration": 38,
    "start_time": "2022-04-27T08:58:56.081Z"
   },
   {
    "duration": 1559,
    "start_time": "2022-04-27T09:00:38.671Z"
   },
   {
    "duration": 4,
    "start_time": "2022-04-27T09:00:40.233Z"
   },
   {
    "duration": 10,
    "start_time": "2022-04-27T09:00:40.239Z"
   },
   {
    "duration": 107,
    "start_time": "2022-04-27T09:00:40.252Z"
   },
   {
    "duration": 5,
    "start_time": "2022-04-27T09:00:40.361Z"
   },
   {
    "duration": 12,
    "start_time": "2022-04-27T09:00:40.382Z"
   },
   {
    "duration": 69,
    "start_time": "2022-04-27T09:00:40.397Z"
   },
   {
    "duration": 40,
    "start_time": "2022-04-27T09:00:40.468Z"
   },
   {
    "duration": 20,
    "start_time": "2022-04-27T09:00:40.510Z"
   },
   {
    "duration": 16,
    "start_time": "2022-04-27T09:00:40.534Z"
   },
   {
    "duration": 35,
    "start_time": "2022-04-27T09:00:40.553Z"
   },
   {
    "duration": 19,
    "start_time": "2022-04-27T09:00:40.591Z"
   },
   {
    "duration": 10,
    "start_time": "2022-04-27T09:00:40.612Z"
   },
   {
    "duration": 19,
    "start_time": "2022-04-27T09:00:40.624Z"
   },
   {
    "duration": 959,
    "start_time": "2022-04-27T09:00:40.645Z"
   },
   {
    "duration": 9,
    "start_time": "2022-04-27T09:00:41.606Z"
   },
   {
    "duration": 1434,
    "start_time": "2022-04-27T09:00:41.617Z"
   },
   {
    "duration": 6,
    "start_time": "2022-04-27T09:00:43.053Z"
   },
   {
    "duration": 1000,
    "start_time": "2022-04-27T09:00:43.062Z"
   },
   {
    "duration": 28,
    "start_time": "2022-04-27T09:00:44.064Z"
   },
   {
    "duration": 10,
    "start_time": "2022-04-27T09:00:44.094Z"
   },
   {
    "duration": 344,
    "start_time": "2022-04-27T09:00:44.106Z"
   },
   {
    "duration": 8,
    "start_time": "2022-04-27T09:00:44.453Z"
   },
   {
    "duration": 22,
    "start_time": "2022-04-27T09:00:44.463Z"
   },
   {
    "duration": 16,
    "start_time": "2022-04-27T09:00:44.487Z"
   },
   {
    "duration": 47,
    "start_time": "2022-04-27T09:00:44.505Z"
   },
   {
    "duration": 5,
    "start_time": "2022-04-27T09:00:44.555Z"
   },
   {
    "duration": 14,
    "start_time": "2022-04-27T09:00:44.588Z"
   },
   {
    "duration": 13,
    "start_time": "2022-04-27T09:00:44.604Z"
   },
   {
    "duration": 943,
    "start_time": "2022-04-27T09:00:44.620Z"
   },
   {
    "duration": 20,
    "start_time": "2022-04-27T09:00:45.565Z"
   },
   {
    "duration": 919,
    "start_time": "2022-04-27T09:00:45.588Z"
   },
   {
    "duration": 7,
    "start_time": "2022-04-27T09:00:46.510Z"
   },
   {
    "duration": 12,
    "start_time": "2022-04-27T09:00:46.520Z"
   },
   {
    "duration": 9,
    "start_time": "2022-04-27T09:00:46.535Z"
   },
   {
    "duration": 38,
    "start_time": "2022-04-27T09:00:46.546Z"
   },
   {
    "duration": 3720,
    "start_time": "2022-04-27T09:00:46.587Z"
   },
   {
    "duration": 908,
    "start_time": "2022-04-27T09:00:50.309Z"
   },
   {
    "duration": 26,
    "start_time": "2022-04-27T09:00:51.220Z"
   },
   {
    "duration": 38,
    "start_time": "2022-04-27T09:00:51.248Z"
   },
   {
    "duration": 13,
    "start_time": "2022-04-27T09:00:51.288Z"
   },
   {
    "duration": 10,
    "start_time": "2022-04-27T09:00:51.303Z"
   },
   {
    "duration": 11,
    "start_time": "2022-04-27T09:00:51.315Z"
   },
   {
    "duration": 52,
    "start_time": "2022-04-27T09:00:51.329Z"
   },
   {
    "duration": 5,
    "start_time": "2022-04-27T09:00:51.384Z"
   },
   {
    "duration": 6,
    "start_time": "2022-04-27T09:00:51.391Z"
   },
   {
    "duration": 9,
    "start_time": "2022-04-27T09:00:51.400Z"
   },
   {
    "duration": 24,
    "start_time": "2022-04-27T09:00:51.411Z"
   },
   {
    "duration": 4,
    "start_time": "2022-04-27T09:00:51.437Z"
   },
   {
    "duration": 6,
    "start_time": "2022-04-27T09:00:51.481Z"
   },
   {
    "duration": 18,
    "start_time": "2022-04-27T09:00:51.489Z"
   },
   {
    "duration": 26,
    "start_time": "2022-04-27T09:00:51.510Z"
   },
   {
    "duration": 44,
    "start_time": "2022-04-27T09:00:51.538Z"
   },
   {
    "duration": 15,
    "start_time": "2022-04-27T09:00:51.584Z"
   },
   {
    "duration": 13,
    "start_time": "2022-04-27T09:00:51.601Z"
   },
   {
    "duration": 74,
    "start_time": "2022-04-27T09:00:51.616Z"
   },
   {
    "duration": 29,
    "start_time": "2022-04-27T09:00:51.692Z"
   },
   {
    "duration": 30,
    "start_time": "2022-04-27T09:00:51.723Z"
   },
   {
    "duration": 49,
    "start_time": "2022-04-27T09:00:51.755Z"
   },
   {
    "duration": 10,
    "start_time": "2022-04-27T09:00:51.806Z"
   },
   {
    "duration": 6,
    "start_time": "2022-04-27T09:00:51.818Z"
   },
   {
    "duration": 4688,
    "start_time": "2022-04-27T09:00:51.826Z"
   },
   {
    "duration": 6,
    "start_time": "2022-04-27T09:00:56.516Z"
   },
   {
    "duration": 5525,
    "start_time": "2022-04-27T09:00:56.525Z"
   },
   {
    "duration": 13,
    "start_time": "2022-04-27T09:01:02.053Z"
   },
   {
    "duration": 57,
    "start_time": "2022-04-27T09:01:02.068Z"
   },
   {
    "duration": 4,
    "start_time": "2022-04-27T09:01:02.127Z"
   },
   {
    "duration": 27,
    "start_time": "2022-04-27T09:01:02.133Z"
   },
   {
    "duration": 23,
    "start_time": "2022-04-27T09:01:02.163Z"
   },
   {
    "duration": 25,
    "start_time": "2022-04-27T09:01:02.188Z"
   },
   {
    "duration": 34,
    "start_time": "2022-04-27T09:01:02.215Z"
   },
   {
    "duration": 24,
    "start_time": "2022-04-27T09:01:02.251Z"
   },
   {
    "duration": 42,
    "start_time": "2022-04-27T09:01:02.277Z"
   },
   {
    "duration": 31,
    "start_time": "2022-04-27T09:01:02.321Z"
   },
   {
    "duration": 39,
    "start_time": "2022-04-27T09:01:02.355Z"
   },
   {
    "duration": 29,
    "start_time": "2022-04-27T09:01:02.397Z"
   },
   {
    "duration": 9,
    "start_time": "2022-04-27T09:01:31.914Z"
   },
   {
    "duration": 125,
    "start_time": "2022-04-27T09:02:44.455Z"
   },
   {
    "duration": 17,
    "start_time": "2022-04-27T09:03:08.530Z"
   },
   {
    "duration": 10,
    "start_time": "2022-04-27T09:04:45.478Z"
   }
  ],
  "kernelspec": {
   "display_name": "Python 3",
   "language": "python",
   "name": "python3"
  },
  "language_info": {
   "codemirror_mode": {
    "name": "ipython",
    "version": 3
   },
   "file_extension": ".py",
   "mimetype": "text/x-python",
   "name": "python",
   "nbconvert_exporter": "python",
   "pygments_lexer": "ipython3",
   "version": "3.8.8"
  },
  "toc": {
   "base_numbering": 1,
   "nav_menu": {},
   "number_sections": true,
   "sideBar": true,
   "skip_h1_title": true,
   "title_cell": "Table of Contents",
   "title_sidebar": "Contents",
   "toc_cell": false,
   "toc_position": {
    "height": "calc(100% - 180px)",
    "left": "10px",
    "top": "150px",
    "width": "366.391px"
   },
   "toc_section_display": true,
   "toc_window_display": true
  }
 },
 "nbformat": 4,
 "nbformat_minor": 2
}
