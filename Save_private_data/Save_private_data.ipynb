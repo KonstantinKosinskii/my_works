{
 "cells": [
  {
   "cell_type": "markdown",
   "metadata": {},
   "source": [
    "<div style=\"background: #cceeaa; padding: 5px; border: 1px solid green; border-radius: 5px;\">\n",
    "    <font color='green'> <b><u>КОММЕНТАРИЙ РЕВЬЮЕРА</u></b>\n",
    "\n",
    "Константин, доброго дня! рад приветствовать тебя) <br />\n",
    "(А дальше - шаблонная часть, как ты заметил по другим спринтам)<br>\n",
    "<br />\n",
    "Меня зовут Николай Шавлюго. <br />И на этом этапе твоего движения к новой профессии от меня будут комментарии по написанному коду. <br />Чтобы меньше \"мусорить эфир\" и чтобы максимально наглядно отделяться от основного кода, есть предложение условиться в некоторых обозначениях:<br /> <br />\n",
    "<u><b>ТАКОЙ ШРИФТ</b></u> - всегда начало комментария <br />\n",
    "<font color='green'>такой шрифт</font> - комментарии о том, что всё ОК <br/>\n",
    "<font color='orange'>такой шрифт</font> - комментарии о том, что всё ОК по результату,<br> однако есть на что обратить внимание в плане применения техник, или есть способы сделать более короткий или быстрый код <br/>\n",
    "<font color='red'>такой шрифт</font> - комментарии о том, что есть критичный момент, влияющий на бизнес-результат проекта.<br/>\n",
    "</font><br /><br />\n",
    "<font color='green'>Моей целью является не \"уличить\" в не знании, а просто высказать сверху твоих знаний - свой опыт, что бы ты мог использовать его для своего дальнейшего успеха) И очень здорово будет, если тебе удастся задавать вопросы, да и вообще - всячески доставать меня, если я по каким-то причинам не приму проект:) При этом, из своего опыта скажу, хорошо и важно, когда переписка ревьюера и студента - сохраняется на следующие проекты и даже на будущую практическую деятельность.<br>\n",
    "<BR> В ПУТЬ!<br>"
   ]
  },
  {
   "cell_type": "markdown",
   "metadata": {},
   "source": [
    "<div style=\"background: # padding: 5px; border: 1px solid blue; border-radius: 5px;\">\n",
    "<font color='blue'> \n",
    "<b><u> КОММЕНТАРИЙ СТУДЕНТА</u></b>\n",
    "<font color='blue'><br> \n",
    "Николай, добрый вечер!<br>\n",
    "Извиняюсь, что так долго, катастрофическая нехватка свободного времени."
   ]
  },
  {
   "cell_type": "markdown",
   "metadata": {},
   "source": [
    "<div style=\"background: #cceeaa; padding: 5px; border: 1px solid green; border-radius: 5px;\">\n",
    "    <font color='green'> <b><u>КОММЕНТАРИЙ РЕВЬЮЕРА 2</u></b>\n",
    "</font>\n",
    "<font color='green'><br>\n",
    "Привет, Константин!<br>\n",
    "Я вообще поражаюсь, как так удаётся и учиться и работать. Это достойно восхищения!!!!"
   ]
  },
  {
   "cell_type": "markdown",
   "metadata": {
    "toc": true
   },
   "source": [
    "<h1>Содержание<span class=\"tocSkip\"></span></h1>\n",
    "<div class=\"toc\"><ul class=\"toc-item\"><li><span><a href=\"#Загрузка-данных\" data-toc-modified-id=\"Загрузка-данных-1\"><span class=\"toc-item-num\">1&nbsp;&nbsp;</span>Загрузка данных</a></span><ul class=\"toc-item\"><li><span><a href=\"#Вывод:\" data-toc-modified-id=\"Вывод:-1.1\"><span class=\"toc-item-num\">1.1&nbsp;&nbsp;</span>Вывод:</a></span></li></ul></li><li><span><a href=\"#Умножение-матриц\" data-toc-modified-id=\"Умножение-матриц-2\"><span class=\"toc-item-num\">2&nbsp;&nbsp;</span>Умножение матриц</a></span></li><li><span><a href=\"#Алгоритм-преобразования\" data-toc-modified-id=\"Алгоритм-преобразования-3\"><span class=\"toc-item-num\">3&nbsp;&nbsp;</span>Алгоритм преобразования</a></span></li><li><span><a href=\"#Проверка-алгоритма\" data-toc-modified-id=\"Проверка-алгоритма-4\"><span class=\"toc-item-num\">4&nbsp;&nbsp;</span>Проверка алгоритма</a></span></li><li><span><a href=\"#Общий-вывод:\" data-toc-modified-id=\"Общий-вывод:-5\"><span class=\"toc-item-num\">5&nbsp;&nbsp;</span>Общий вывод:</a></span></li><li><span><a href=\"#Чек-лист-проверки\" data-toc-modified-id=\"Чек-лист-проверки-6\"><span class=\"toc-item-num\">6&nbsp;&nbsp;</span>Чек-лист проверки</a></span></li></ul></div>"
   ]
  },
  {
   "cell_type": "markdown",
   "metadata": {},
   "source": [
    "# Защита персональных данных клиентов"
   ]
  },
  {
   "cell_type": "markdown",
   "metadata": {},
   "source": [
    "Вам нужно защитить данные клиентов страховой компании. Разработайте такой метод преобразования данных, чтобы по ним было сложно восстановить персональную информацию. Обоснуйте корректность его работы.\n",
    "\n",
    "Нужно защитить данные, чтобы при преобразовании качество моделей машинного обучения не ухудшилось. Подбирать наилучшую модель не требуется."
   ]
  },
  {
   "cell_type": "markdown",
   "metadata": {},
   "source": [
    "## Загрузка данных"
   ]
  },
  {
   "cell_type": "code",
   "execution_count": 1,
   "metadata": {},
   "outputs": [],
   "source": [
    "import pandas as pd\n",
    "import numpy as np\n",
    "import matplotlib.pyplot as plt\n",
    "import seaborn as sns\n",
    "\n",
    "from sklearn.model_selection import train_test_split\n",
    "from sklearn.linear_model import LinearRegression\n",
    "from sklearn.metrics import mean_squared_error, r2_score"
   ]
  },
  {
   "cell_type": "markdown",
   "metadata": {},
   "source": [
    "Установка отображения не более двух знаков после запятой"
   ]
  },
  {
   "cell_type": "code",
   "execution_count": 2,
   "metadata": {},
   "outputs": [],
   "source": [
    "pd.set_option('display.float_format', '{:,.2f}'.format)"
   ]
  },
  {
   "cell_type": "markdown",
   "metadata": {},
   "source": [
    "Установка отображения в массивах _numpy_ не более двух знаков после запятой"
   ]
  },
  {
   "cell_type": "code",
   "execution_count": 3,
   "metadata": {},
   "outputs": [],
   "source": [
    "np.set_printoptions(precision=2, floatmode='fixed')"
   ]
  },
  {
   "cell_type": "markdown",
   "metadata": {},
   "source": [
    "Загружаем данные"
   ]
  },
  {
   "cell_type": "code",
   "execution_count": 4,
   "metadata": {},
   "outputs": [
    {
     "data": {
      "text/html": [
       "<div>\n",
       "<style scoped>\n",
       "    .dataframe tbody tr th:only-of-type {\n",
       "        vertical-align: middle;\n",
       "    }\n",
       "\n",
       "    .dataframe tbody tr th {\n",
       "        vertical-align: top;\n",
       "    }\n",
       "\n",
       "    .dataframe thead th {\n",
       "        text-align: right;\n",
       "    }\n",
       "</style>\n",
       "<table border=\"1\" class=\"dataframe\">\n",
       "  <thead>\n",
       "    <tr style=\"text-align: right;\">\n",
       "      <th></th>\n",
       "      <th>Пол</th>\n",
       "      <th>Возраст</th>\n",
       "      <th>Зарплата</th>\n",
       "      <th>Члены семьи</th>\n",
       "      <th>Страховые выплаты</th>\n",
       "    </tr>\n",
       "  </thead>\n",
       "  <tbody>\n",
       "    <tr>\n",
       "      <td>0</td>\n",
       "      <td>1</td>\n",
       "      <td>41.00</td>\n",
       "      <td>49,600.00</td>\n",
       "      <td>1</td>\n",
       "      <td>0</td>\n",
       "    </tr>\n",
       "    <tr>\n",
       "      <td>1</td>\n",
       "      <td>0</td>\n",
       "      <td>46.00</td>\n",
       "      <td>38,000.00</td>\n",
       "      <td>1</td>\n",
       "      <td>1</td>\n",
       "    </tr>\n",
       "    <tr>\n",
       "      <td>2</td>\n",
       "      <td>0</td>\n",
       "      <td>29.00</td>\n",
       "      <td>21,000.00</td>\n",
       "      <td>0</td>\n",
       "      <td>0</td>\n",
       "    </tr>\n",
       "    <tr>\n",
       "      <td>3</td>\n",
       "      <td>0</td>\n",
       "      <td>21.00</td>\n",
       "      <td>41,700.00</td>\n",
       "      <td>2</td>\n",
       "      <td>0</td>\n",
       "    </tr>\n",
       "    <tr>\n",
       "      <td>4</td>\n",
       "      <td>1</td>\n",
       "      <td>28.00</td>\n",
       "      <td>26,100.00</td>\n",
       "      <td>0</td>\n",
       "      <td>0</td>\n",
       "    </tr>\n",
       "  </tbody>\n",
       "</table>\n",
       "</div>"
      ],
      "text/plain": [
       "   Пол  Возраст  Зарплата  Члены семьи  Страховые выплаты\n",
       "0    1    41.00 49,600.00            1                  0\n",
       "1    0    46.00 38,000.00            1                  1\n",
       "2    0    29.00 21,000.00            0                  0\n",
       "3    0    21.00 41,700.00            2                  0\n",
       "4    1    28.00 26,100.00            0                  0"
      ]
     },
     "execution_count": 4,
     "metadata": {},
     "output_type": "execute_result"
    }
   ],
   "source": [
    "data = pd.read_csv('/datasets/insurance.csv')\n",
    "data.head()"
   ]
  },
  {
   "cell_type": "markdown",
   "metadata": {},
   "source": [
    "Функция для ознакомления с распределением и разбросом данных"
   ]
  },
  {
   "cell_type": "code",
   "execution_count": 5,
   "metadata": {},
   "outputs": [],
   "source": [
    "def look_at_columns(data, columns):\n",
    "    for col in columns:\n",
    "        print(data[col].describe())\n",
    "        \n",
    "        plt.figure(figsize=(10,6))\n",
    "#         plt.title('Распределение ' + col)\n",
    "        sns.set_style('darkgrid')\n",
    "        \n",
    "        plt.subplot(2, 1, 1)\n",
    "        sns.distplot(data[col])\n",
    "        plt.subplot(2, 1, 2)\n",
    "        sns.boxplot(data[col])\n",
    "        \n",
    "        plt.show()"
   ]
  },
  {
   "cell_type": "code",
   "execution_count": 6,
   "metadata": {},
   "outputs": [
    {
     "name": "stdout",
     "output_type": "stream",
     "text": [
      "count   5,000.00\n",
      "mean       30.95\n",
      "std         8.44\n",
      "min        18.00\n",
      "25%        24.00\n",
      "50%        30.00\n",
      "75%        37.00\n",
      "max        65.00\n",
      "Name: Возраст, dtype: float64\n"
     ]
    },
    {
     "data": {
      "image/png": "[encoded data removed]",
      "text/plain": [
       "<Figure size 720x432 with 2 Axes>"
      ]
     },
     "metadata": {
      "needs_background": "light"
     },
     "output_type": "display_data"
    },
    {
     "name": "stdout",
     "output_type": "stream",
     "text": [
      "count    5,000.00\n",
      "mean    39,916.36\n",
      "std      9,900.08\n",
      "min      5,300.00\n",
      "25%     33,300.00\n",
      "50%     40,200.00\n",
      "75%     46,600.00\n",
      "max     79,000.00\n",
      "Name: Зарплата, dtype: float64\n"
     ]
    },
    {
     "data": {
      "image/png": "[encoded data removed]",
      "text/plain": [
       "<Figure size 720x432 with 2 Axes>"
      ]
     },
     "metadata": {},
     "output_type": "display_data"
    },
    {
     "name": "stdout",
     "output_type": "stream",
     "text": [
      "count   5,000.00\n",
      "mean        1.19\n",
      "std         1.09\n",
      "min         0.00\n",
      "25%         0.00\n",
      "50%         1.00\n",
      "75%         2.00\n",
      "max         6.00\n",
      "Name: Члены семьи, dtype: float64\n"
     ]
    },
    {
     "data": {
      "image/png": "[encoded data removed]",
      "text/plain": [
       "<Figure size 720x432 with 2 Axes>"
      ]
     },
     "metadata": {},
     "output_type": "display_data"
    }
   ],
   "source": [
    "look_at_columns(data, data.columns[1:4])"
   ]
  },
  {
   "cell_type": "markdown",
   "metadata": {},
   "source": [
    "### Вывод:\n",
    "1. Основная масса клиентов компании в возрасте от 24 до 37 лет. Клиенты старше 57 лет встречаются крайне редко\n",
    "2. Зарплата клиентов распределена нормальным образом. В основном, зарплата клиетов составляет от 33 до 47 тыс. Все, что меньше 16 тыс. и больше 66 тыс. - выбросы\n",
    "3. Наиболее распространено от 0 до 2 членов семьи"
   ]
  },
  {
   "cell_type": "markdown",
   "metadata": {},
   "source": [
    "<div style=\"background: #cceeaa; padding: 5px; border: 1px solid green; border-radius: 5px;\">\n",
    "    <font color='green'> <b><u>КОММЕНТАРИЙ РЕВЬЮЕРА</u></b>\n",
    "</font>\n",
    "<font color='green'><br>\n",
    "Данные на базе) ОК, хорошо, когда есть аналитическая культура - обязательно делать первичный анализ данных, не смотря на проект)"
   ]
  },
  {
   "cell_type": "markdown",
   "metadata": {},
   "source": [
    "## Умножение матриц"
   ]
  },
  {
   "cell_type": "markdown",
   "metadata": {},
   "source": [
    "Обозначения:\n",
    "\n",
    "- $X$ — матрица признаков (нулевой столбец состоит из единиц)\n",
    "\n",
    "- $y$ — вектор целевого признака\n",
    "\n",
    "- $P$ — матрица, на которую умножаются признаки\n",
    "\n",
    "- $w$ — вектор весов линейной регрессии (нулевой элемент равен сдвигу)\n",
    "- $E$ - единичная матрица"
   ]
  },
  {
   "cell_type": "markdown",
   "metadata": {},
   "source": [
    "Выделяем признаки и целевое значение из выборки"
   ]
  },
  {
   "cell_type": "code",
   "execution_count": 7,
   "metadata": {},
   "outputs": [],
   "source": [
    "features = data.drop('Страховые выплаты', axis=1)\n",
    "target = data['Страховые выплаты']"
   ]
  },
  {
   "cell_type": "code",
   "execution_count": 8,
   "metadata": {},
   "outputs": [
    {
     "name": "stdout",
     "output_type": "stream",
     "text": [
      "(5000, 4)\n",
      "(5000,)\n"
     ]
    }
   ],
   "source": [
    "print(features.shape)\n",
    "print(target.shape)"
   ]
  },
  {
   "cell_type": "markdown",
   "metadata": {},
   "source": [
    "Рассчитываем среднюю квадратичную ошибку по предсказанным значениям Линейной Регрессией"
   ]
  },
  {
   "cell_type": "code",
   "execution_count": 9,
   "metadata": {},
   "outputs": [
    {
     "name": "stdout",
     "output_type": "stream",
     "text": [
      "MSE: 0.12\n"
     ]
    }
   ],
   "source": [
    "model = LinearRegression()\n",
    "model.fit(features, target)\n",
    "predictions = model.predict(features)\n",
    "\n",
    "mse = mean_squared_error(target, predictions)\n",
    "print('MSE: {:.2f}'.format(mse))"
   ]
  },
  {
   "cell_type": "markdown",
   "metadata": {},
   "source": [
    "Формируем случайную квадратную матрицу 4 * 4, так как у нас 4 столбца с признаками"
   ]
  },
  {
   "cell_type": "code",
   "execution_count": 10,
   "metadata": {},
   "outputs": [
    {
     "data": {
      "text/plain": [
       "array([[-1.57,  1.68,  0.68, -1.72],\n",
       "       [-0.64, -0.59, -1.21, -0.38],\n",
       "       [-1.15, -0.37,  1.64, -0.28],\n",
       "       [ 0.98,  1.24,  0.94,  1.22]])"
      ]
     },
     "execution_count": 10,
     "metadata": {},
     "output_type": "execute_result"
    }
   ],
   "source": [
    "random_matrix = np.random.normal(size=(4, 4))\n",
    "random_matrix"
   ]
  },
  {
   "cell_type": "markdown",
   "metadata": {},
   "source": [
    "Проверяем на обратимость. Если ошибки нет, значит матрица обратимая"
   ]
  },
  {
   "cell_type": "code",
   "execution_count": 11,
   "metadata": {},
   "outputs": [
    {
     "data": {
      "text/plain": [
       "array([[-0.10, -1.35, -0.56, -0.68],\n",
       "       [ 0.31,  0.31, -0.18,  0.48],\n",
       "       [-0.03, -0.66,  0.25, -0.19],\n",
       "       [-0.21,  1.28,  0.44,  1.02]])"
      ]
     },
     "execution_count": 11,
     "metadata": {},
     "output_type": "execute_result"
    }
   ],
   "source": [
    "np.linalg.inv(random_matrix)"
   ]
  },
  {
   "cell_type": "markdown",
   "metadata": {},
   "source": [
    "Вычисляем скалярное произведение матрицы с признаками и случайной квадратной матрицы"
   ]
  },
  {
   "cell_type": "code",
   "execution_count": 12,
   "metadata": {},
   "outputs": [
    {
     "data": {
      "text/plain": [
       "array([[-56839.46, -18586.18,  81106.15, -14003.28],\n",
       "       [-43554.31, -14248.98,  62119.89, -10732.21],\n",
       "       [-24072.33,  -7877.22,  34324.58,  -5932.99],\n",
       "       ...,\n",
       "       [-38840.41, -12697.86,  55443.88,  -9564.98],\n",
       "       [-37467.80, -12246.96,  53479.70,  -9227.82],\n",
       "       [-46522.38, -15209.89,  66396.31, -11460.35]])"
      ]
     },
     "execution_count": 12,
     "metadata": {},
     "output_type": "execute_result"
    }
   ],
   "source": [
    "features_matrix = features.values @ random_matrix\n",
    "features_matrix"
   ]
  },
  {
   "cell_type": "code",
   "execution_count": 13,
   "metadata": {},
   "outputs": [
    {
     "data": {
      "text/plain": [
       "(5000, 4)"
      ]
     },
     "execution_count": 13,
     "metadata": {},
     "output_type": "execute_result"
    }
   ],
   "source": [
    "features_matrix.shape"
   ]
  },
  {
   "cell_type": "markdown",
   "metadata": {},
   "source": [
    "Преобразуем полученное произведение обратно в DataFrame"
   ]
  },
  {
   "cell_type": "code",
   "execution_count": 14,
   "metadata": {},
   "outputs": [
    {
     "data": {
      "text/html": [
       "<div>\n",
       "<style scoped>\n",
       "    .dataframe tbody tr th:only-of-type {\n",
       "        vertical-align: middle;\n",
       "    }\n",
       "\n",
       "    .dataframe tbody tr th {\n",
       "        vertical-align: top;\n",
       "    }\n",
       "\n",
       "    .dataframe thead th {\n",
       "        text-align: right;\n",
       "    }\n",
       "</style>\n",
       "<table border=\"1\" class=\"dataframe\">\n",
       "  <thead>\n",
       "    <tr style=\"text-align: right;\">\n",
       "      <th></th>\n",
       "      <th>Пол</th>\n",
       "      <th>Возраст</th>\n",
       "      <th>Зарплата</th>\n",
       "      <th>Члены семьи</th>\n",
       "    </tr>\n",
       "  </thead>\n",
       "  <tbody>\n",
       "    <tr>\n",
       "      <td>4995</td>\n",
       "      <td>-40,907.30</td>\n",
       "      <td>-13,376.29</td>\n",
       "      <td>58,379.34</td>\n",
       "      <td>-10,075.60</td>\n",
       "    </tr>\n",
       "    <tr>\n",
       "      <td>4996</td>\n",
       "      <td>-60,040.54</td>\n",
       "      <td>-19,631.77</td>\n",
       "      <td>85,695.18</td>\n",
       "      <td>-14,788.52</td>\n",
       "    </tr>\n",
       "    <tr>\n",
       "      <td>4997</td>\n",
       "      <td>-38,840.41</td>\n",
       "      <td>-12,697.86</td>\n",
       "      <td>55,443.88</td>\n",
       "      <td>-9,564.98</td>\n",
       "    </tr>\n",
       "    <tr>\n",
       "      <td>4998</td>\n",
       "      <td>-37,467.80</td>\n",
       "      <td>-12,246.96</td>\n",
       "      <td>53,479.70</td>\n",
       "      <td>-9,227.82</td>\n",
       "    </tr>\n",
       "    <tr>\n",
       "      <td>4999</td>\n",
       "      <td>-46,522.38</td>\n",
       "      <td>-15,209.89</td>\n",
       "      <td>66,396.31</td>\n",
       "      <td>-11,460.35</td>\n",
       "    </tr>\n",
       "  </tbody>\n",
       "</table>\n",
       "</div>"
      ],
      "text/plain": [
       "            Пол    Возраст  Зарплата  Члены семьи\n",
       "4995 -40,907.30 -13,376.29 58,379.34   -10,075.60\n",
       "4996 -60,040.54 -19,631.77 85,695.18   -14,788.52\n",
       "4997 -38,840.41 -12,697.86 55,443.88    -9,564.98\n",
       "4998 -37,467.80 -12,246.96 53,479.70    -9,227.82\n",
       "4999 -46,522.38 -15,209.89 66,396.31   -11,460.35"
      ]
     },
     "execution_count": 14,
     "metadata": {},
     "output_type": "execute_result"
    }
   ],
   "source": [
    "features_matrix = pd.DataFrame(features_matrix, columns=features.columns)\n",
    "features_matrix.tail()"
   ]
  },
  {
   "cell_type": "code",
   "execution_count": 15,
   "metadata": {},
   "outputs": [
    {
     "name": "stdout",
     "output_type": "stream",
     "text": [
      "count     5,000.00\n",
      "mean    -14,956.34\n",
      "std       3,705.49\n",
      "min     -29,589.20\n",
      "25%     -17,457.15\n",
      "50%     -15,058.37\n",
      "75%     -12,473.95\n",
      "max      -1,992.59\n",
      "Name: Возраст, dtype: float64\n"
     ]
    },
    {
     "data": {
      "image/png": "[encoded data removed]",
      "text/plain": [
       "<Figure size 720x432 with 2 Axes>"
      ]
     },
     "metadata": {},
     "output_type": "display_data"
    },
    {
     "name": "stdout",
     "output_type": "stream",
     "text": [
      "count     5,000.00\n",
      "mean     65,274.04\n",
      "std      16,198.37\n",
      "min       8,649.21\n",
      "25%      54,451.11\n",
      "50%      65,734.61\n",
      "75%      76,215.60\n",
      "max     129,210.44\n",
      "Name: Зарплата, dtype: float64\n"
     ]
    },
    {
     "data": {
      "image/png": "[encoded data removed]",
      "text/plain": [
       "<Figure size 720x432 with 2 Axes>"
      ]
     },
     "metadata": {},
     "output_type": "display_data"
    },
    {
     "name": "stdout",
     "output_type": "stream",
     "text": [
      "count     5,000.00\n",
      "mean    -11,267.58\n",
      "std       2,791.84\n",
      "min     -22,292.92\n",
      "25%     -13,153.21\n",
      "50%     -11,345.43\n",
      "75%      -9,396.84\n",
      "max      -1,502.65\n",
      "Name: Члены семьи, dtype: float64\n"
     ]
    },
    {
     "data": {
      "image/png": "[encoded data removed]",
      "text/plain": [
       "<Figure size 720x432 with 2 Axes>"
      ]
     },
     "metadata": {},
     "output_type": "display_data"
    }
   ],
   "source": [
    "look_at_columns(features_matrix, features_matrix.columns[1:4])"
   ]
  },
  {
   "cell_type": "markdown",
   "metadata": {},
   "source": [
    "После перемножения данные распределились нормальным образом"
   ]
  },
  {
   "cell_type": "markdown",
   "metadata": {},
   "source": [
    "Обучаем модель и выполняем предсказания на признаках, умноженных на случайную квадратную матрицу.  \n",
    "Рассчитываем среднюю квадратичную ошибку по предсказанным значениям Линейной Регрессией"
   ]
  },
  {
   "cell_type": "code",
   "execution_count": 16,
   "metadata": {},
   "outputs": [
    {
     "name": "stdout",
     "output_type": "stream",
     "text": [
      "MSE (при умножении на матрицу): 0.12\n"
     ]
    }
   ],
   "source": [
    "model.fit(features_matrix, target)\n",
    "predictions = model.predict(features_matrix)\n",
    "\n",
    "mse_matrix = mean_squared_error(target, predictions)\n",
    "print('MSE (при умножении на матрицу): {:.2f}'.format(mse_matrix))"
   ]
  },
  {
   "cell_type": "markdown",
   "metadata": {},
   "source": [
    "Вычисляем разницу между рассчитанными MSE (с округлением до 4х знаков после запятой)"
   ]
  },
  {
   "cell_type": "code",
   "execution_count": 17,
   "metadata": {},
   "outputs": [
    {
     "data": {
      "text/plain": [
       "0.0"
      ]
     },
     "execution_count": 17,
     "metadata": {},
     "output_type": "execute_result"
    }
   ],
   "source": [
    "mse.round(4) - mse_matrix.round(4)"
   ]
  },
  {
   "cell_type": "markdown",
   "metadata": {},
   "source": [
    "Согласно метрики средней квадратичной ошибки качество предсказаний практически не изменилось до и после умножения признаков на случайную квадратную обратимую матрицу"
   ]
  },
  {
   "cell_type": "markdown",
   "metadata": {},
   "source": [
    "Предсказания:\n",
    "\n",
    "$$\n",
    "a = Xw\n",
    "$$\n",
    "\n",
    "Задача обучения:\n",
    "\n",
    "$$\n",
    "w = \\arg\\min_w MSE(Xw, y)\n",
    "$$\n",
    "\n",
    "Формула обучения:\n",
    "\n",
    "$$\n",
    "w = (X^T X)^{-1} X^T y\n",
    "$$"
   ]
  },
  {
   "cell_type": "markdown",
   "metadata": {},
   "source": [
    "**Ответ:**  \n",
    "\n",
    "Формула предсказания при умножении на квадратную матрицу равна стандартной формуле: \n",
    "\n",
    "$$\n",
    "a = Xw\n",
    "$$\n",
    "$$\n",
    "a' = X'w'\n",
    "$$\n",
    "$$\n",
    "a' = XPw'\n",
    "$$\n",
    "$$\n",
    "a' = X P P^{-1}w\n",
    "$$\n",
    "$$\n",
    "a' = X E w\n",
    "$$\n",
    "$$\n",
    "a' = Xw\n",
    "$$\n",
    "$$\n",
    "a' = a\n",
    "$$ \n",
    "\n",
    "\n",
    "**Обоснование:** \n",
    "Стандартная формула вектора весов:\n",
    "$$\n",
    "w = (X^T X)^{-1} X^T y\n",
    "$$\n",
    "\n",
    "Формула вектора весов при умножении на квадратную матрицу:\n",
    "\n",
    "$$\n",
    "w' = ((XP)^T XP)^{-1} (XP)^T y\n",
    "$$\n",
    "$$\n",
    "w' = (P^T (X^T X) P)^{-1} (XP)^T y\n",
    "$$\n",
    "$$\n",
    "w' = (P^T (X^T X) P)^{-1} P^T X^T y\n",
    "$$\n",
    "$$\n",
    "w' = P^{-1}(X^T X)^{-1} P^{T^{-1}} P^T X^T y\n",
    "$$\n",
    "$$\n",
    "w' = P^{-1}(X^T X)^{-1} E X^T y\n",
    "$$\n",
    "$$\n",
    "w' = P^{-1}(X^T X)^{-1} X^T y\n",
    "$$\n",
    "$$\n",
    "w' = P^{-1}w\n",
    "$$\n",
    "\n",
    "Так как произведение квадратной матрицы на обратную к ней матрицу дают единичную матрицу $P^{T^{-1}}P^T = E$.  \n",
    "Произведение единичной матрицы на любую матрицу равняется матрице, которая умножалась на единичную.  \n",
    "Таким образом, формула вектора весов при умножении на квадратную матрицу отличается от стандартной формулы только на умножение на обратную квадратной матрице.  \n",
    "При этом, при рассчете предсказания произведение $P^{-1}P = E$ также дают единичную матрицу и формула предсказания значений становится полностью идентичной стандартной формуле.  \n",
    "Поэтому значение метрики не ухудшилось, так как умножение на обратимую квадратную матрицу не повлияло на предсказанные значения"
   ]
  },
  {
   "cell_type": "markdown",
   "metadata": {},
   "source": [
    "$$\n",
    "w = (X^T X)^{-1} X^T y\n",
    "$$"
   ]
  },
  {
   "cell_type": "markdown",
   "metadata": {},
   "source": [
    "$$\n",
    "a = Xw\n",
    "$$\n",
    "$$\n",
    "a' = X'w'\n",
    "$$\n",
    "$$\n",
    "a' = XPw'\n",
    "$$\n",
    "$$\n",
    "a' = X P P^{-1}w\n",
    "$$\n",
    "$$\n",
    "a' = X E w\n",
    "$$\n",
    "$$\n",
    "a' = Xw\n",
    "$$\n",
    "$$\n",
    "a' = a\n",
    "$$"
   ]
  },
  {
   "cell_type": "markdown",
   "metadata": {},
   "source": [
    "## Алгоритм преобразования"
   ]
  },
  {
   "cell_type": "markdown",
   "metadata": {},
   "source": [
    "**Алгоритм**"
   ]
  },
  {
   "cell_type": "markdown",
   "metadata": {},
   "source": [
    "С целью кодирования данных, допустимо признаки скалярно перемножить с обратимой квадратной матрицей (размером равным количеству столбцов в таблице с признаками)"
   ]
  },
  {
   "cell_type": "code",
   "execution_count": 18,
   "metadata": {},
   "outputs": [],
   "source": [
    "class LinearRegression_custom:\n",
    "    def fit(self, train_features, train_target):\n",
    "        X = np.concatenate((np.ones((train_features.shape[0],1)), train_features), axis=1)\n",
    "        X = X_main @ np.random.normal(size=(train_features.shape[1]+1, train_features.shape[1]+1))\n",
    "        y = target\n",
    "        w = np.linalg.inv(X.T @ X) @ X.T @ y\n",
    "        self.w = w[1:]\n",
    "        self.w0 = w[0]\n",
    "    def predict(self, test_features):\n",
    "        X_test = test_features.values @ np.random.normal(size=(test_features.shape[1], test_features.shape[1]))\n",
    "        return X_test.dot(self.w) + self.w0"
   ]
  },
  {
   "cell_type": "markdown",
   "metadata": {},
   "source": [
    "**Обоснование**  \n",
    "Как было отмечено в пункте 2, умножение признаков на обратимую квадратную матрицу не изменяет значение предсказаний, так как в процессе рассчетов формул вектора весов и предсказаний значения матрицы, на которую мы умножали признаки, сокращаются.\n"
   ]
  },
  {
   "cell_type": "markdown",
   "metadata": {},
   "source": [
    "## Проверка алгоритма"
   ]
  },
  {
   "cell_type": "code",
   "execution_count": 19,
   "metadata": {},
   "outputs": [
    {
     "name": "stdout",
     "output_type": "stream",
     "text": [
      "Коэффициент детерминации: 0.42\n"
     ]
    }
   ],
   "source": [
    "model = LinearRegression()\n",
    "model.fit(features, target)\n",
    "predictions = model.predict(features)\n",
    "\n",
    "r2 = r2_score(target, predictions)\n",
    "print('Коэффициент детерминации: {:.2f}'.format(r2))"
   ]
  },
  {
   "cell_type": "code",
   "execution_count": 20,
   "metadata": {},
   "outputs": [
    {
     "name": "stdout",
     "output_type": "stream",
     "text": [
      "Коэффициент детерминации (признаки закодированы): 0.42\n"
     ]
    }
   ],
   "source": [
    "features_protected = features.values @ np.random.normal(size=(features.shape[1], features.shape[1]))\n",
    "model.fit(features_protected, target)\n",
    "predictions = model.predict(features_protected)\n",
    "\n",
    "r2_protected = r2_score(target, predictions)\n",
    "print('Коэффициент детерминации (признаки закодированы): {:.2f}'.format(r2_protected))"
   ]
  },
  {
   "cell_type": "code",
   "execution_count": 21,
   "metadata": {},
   "outputs": [
    {
     "data": {
      "text/plain": [
       "0.0"
      ]
     },
     "execution_count": 21,
     "metadata": {},
     "output_type": "execute_result"
    }
   ],
   "source": [
    "r2.round(4) - r2_protected.round(4)"
   ]
  },
  {
   "cell_type": "markdown",
   "metadata": {},
   "source": [
    "## Общий вывод:\n",
    "1. Получили таблицу с данными клиентов страховой компании (признаки: пол, возраст, размер зарплаты, кол-во членов семьи, кол-во страховых выплат за 5 лет), с целью защиты персональных данных клиентов без ухудшения значений по предсказаниям\n",
    "2. Ознакомились с распределением и выделили крайне редки значения для количественных признаков\n",
    "3. По условиям поставленной задачи выполнили скалярное произведение признаков на случайную квадратную обратимую матрицу. Установили, что метрика средней квадратичной ошибки при этом не ухудшилась.\n",
    "4. Прояснили и записали формулой причину того, что умножение признаков на вышеупомянутую матрицу не влияет на предсказанные значения, так как согласно правилам перемножения матриц, значения матрицы сокращаются и предсказания строятся только на признаках.\n",
    "5. Предложили алгоритм защиты персональных данных клиентов путем умножения признаков для предсказаний на случайную квадратную обратимую матрицу с размером равным количеству столбцов в выборке с признаками.\n",
    "6. Проверили алгоритм метрикой - коэффициент детерминации, значения метрики до и после кодирования значительно не изменились."
   ]
  }
 ],
 "metadata": {
  "ExecuteTimeLog": [
   {
    "duration": 968,
    "start_time": "2021-12-11T10:13:12.608Z"
   },
   {
    "duration": 19,
    "start_time": "2021-12-11T10:13:39.023Z"
   },
   {
    "duration": 23,
    "start_time": "2021-12-11T10:13:44.829Z"
   },
   {
    "duration": 3,
    "start_time": "2021-12-11T10:15:20.750Z"
   },
   {
    "duration": 708,
    "start_time": "2021-12-11T10:15:42.792Z"
   },
   {
    "duration": 347,
    "start_time": "2021-12-11T10:16:16.756Z"
   },
   {
    "duration": 3,
    "start_time": "2021-12-11T10:16:33.256Z"
   },
   {
    "duration": 766,
    "start_time": "2021-12-11T10:16:39.870Z"
   },
   {
    "duration": 620,
    "start_time": "2021-12-11T10:16:48.977Z"
   },
   {
    "duration": 332,
    "start_time": "2021-12-11T10:17:07.143Z"
   },
   {
    "duration": 411,
    "start_time": "2021-12-11T10:17:28.352Z"
   },
   {
    "duration": 336,
    "start_time": "2021-12-11T10:18:11.554Z"
   },
   {
    "duration": 349,
    "start_time": "2021-12-11T10:19:14.436Z"
   },
   {
    "duration": 298,
    "start_time": "2021-12-11T10:19:22.777Z"
   },
   {
    "duration": 289,
    "start_time": "2021-12-11T10:19:30.322Z"
   },
   {
    "duration": 261,
    "start_time": "2021-12-11T10:21:12.266Z"
   },
   {
    "duration": 5,
    "start_time": "2021-12-11T10:22:10.528Z"
   },
   {
    "duration": 489,
    "start_time": "2021-12-11T10:22:13.078Z"
   },
   {
    "duration": 5,
    "start_time": "2021-12-11T10:23:35.222Z"
   },
   {
    "duration": 6,
    "start_time": "2021-12-11T10:23:43.907Z"
   },
   {
    "duration": 4,
    "start_time": "2021-12-11T10:24:59.015Z"
   },
   {
    "duration": 733,
    "start_time": "2021-12-11T10:25:13.355Z"
   },
   {
    "duration": 5,
    "start_time": "2021-12-11T10:25:31.235Z"
   },
   {
    "duration": 1430,
    "start_time": "2021-12-11T10:25:31.806Z"
   },
   {
    "duration": 5,
    "start_time": "2021-12-11T10:27:30.356Z"
   },
   {
    "duration": 5,
    "start_time": "2021-12-11T10:28:23.443Z"
   },
   {
    "duration": 2554,
    "start_time": "2021-12-11T10:28:24.702Z"
   },
   {
    "duration": 5,
    "start_time": "2021-12-11T10:28:58.829Z"
   },
   {
    "duration": 2789,
    "start_time": "2021-12-11T10:28:59.451Z"
   },
   {
    "duration": 5,
    "start_time": "2021-12-11T10:29:22.859Z"
   },
   {
    "duration": 2433,
    "start_time": "2021-12-11T10:29:23.519Z"
   },
   {
    "duration": 6,
    "start_time": "2021-12-11T10:30:22.126Z"
   },
   {
    "duration": 2731,
    "start_time": "2021-12-11T10:30:22.606Z"
   },
   {
    "duration": 53,
    "start_time": "2021-12-11T10:59:20.778Z"
   },
   {
    "duration": 291,
    "start_time": "2021-12-11T11:00:50.961Z"
   },
   {
    "duration": 307,
    "start_time": "2021-12-11T11:00:55.837Z"
   },
   {
    "duration": 5,
    "start_time": "2021-12-11T11:00:59.527Z"
   },
   {
    "duration": 6,
    "start_time": "2021-12-11T11:01:07.702Z"
   },
   {
    "duration": 5,
    "start_time": "2021-12-11T11:01:40.223Z"
   },
   {
    "duration": 4,
    "start_time": "2021-12-11T11:04:45.181Z"
   },
   {
    "duration": 17,
    "start_time": "2021-12-11T11:05:59.509Z"
   },
   {
    "duration": 13,
    "start_time": "2021-12-11T11:06:52.956Z"
   },
   {
    "duration": 17,
    "start_time": "2021-12-11T11:07:38.498Z"
   },
   {
    "duration": 5,
    "start_time": "2021-12-11T11:10:45.329Z"
   },
   {
    "duration": 2478,
    "start_time": "2021-12-11T11:10:45.959Z"
   },
   {
    "duration": 4,
    "start_time": "2021-12-11T11:11:15.150Z"
   },
   {
    "duration": 2655,
    "start_time": "2021-12-11T11:11:22.605Z"
   },
   {
    "duration": 295,
    "start_time": "2021-12-11T11:15:57.776Z"
   },
   {
    "duration": 11,
    "start_time": "2021-12-11T11:16:32.847Z"
   },
   {
    "duration": 5,
    "start_time": "2021-12-11T11:22:49.963Z"
   },
   {
    "duration": 104,
    "start_time": "2021-12-11T11:23:10.137Z"
   },
   {
    "duration": 276,
    "start_time": "2021-12-11T11:23:13.617Z"
   },
   {
    "duration": 1533,
    "start_time": "2021-12-11T11:23:22.793Z"
   },
   {
    "duration": 5,
    "start_time": "2021-12-11T11:23:24.329Z"
   },
   {
    "duration": 31,
    "start_time": "2021-12-11T11:23:24.342Z"
   },
   {
    "duration": 27,
    "start_time": "2021-12-11T11:23:24.375Z"
   },
   {
    "duration": 13,
    "start_time": "2021-12-11T11:23:24.404Z"
   },
   {
    "duration": 2687,
    "start_time": "2021-12-11T11:23:24.419Z"
   },
   {
    "duration": 17,
    "start_time": "2021-12-11T11:23:27.110Z"
   },
   {
    "duration": 9,
    "start_time": "2021-12-11T11:23:27.130Z"
   },
   {
    "duration": 2764,
    "start_time": "2021-12-11T11:23:27.141Z"
   },
   {
    "duration": 16,
    "start_time": "2021-12-11T11:23:29.907Z"
   },
   {
    "duration": 11,
    "start_time": "2021-12-11T11:23:29.925Z"
   },
   {
    "duration": 185,
    "start_time": "2021-12-11T11:23:29.939Z"
   },
   {
    "duration": 88,
    "start_time": "2021-12-11T11:23:30.127Z"
   },
   {
    "duration": 6,
    "start_time": "2021-12-11T11:24:16.920Z"
   },
   {
    "duration": 689,
    "start_time": "2021-12-11T11:24:17.895Z"
   },
   {
    "duration": 7,
    "start_time": "2021-12-11T11:25:15.926Z"
   },
   {
    "duration": 981,
    "start_time": "2021-12-11T11:25:16.637Z"
   },
   {
    "duration": 6,
    "start_time": "2021-12-11T11:30:33.974Z"
   },
   {
    "duration": 4616,
    "start_time": "2021-12-11T11:30:34.814Z"
   },
   {
    "duration": 6,
    "start_time": "2021-12-11T11:31:13.950Z"
   },
   {
    "duration": 9,
    "start_time": "2021-12-11T11:31:26.955Z"
   },
   {
    "duration": 6,
    "start_time": "2021-12-11T11:31:27.720Z"
   },
   {
    "duration": 10,
    "start_time": "2021-12-11T11:31:51.451Z"
   },
   {
    "duration": 6,
    "start_time": "2021-12-11T11:31:53.642Z"
   },
   {
    "duration": 4544,
    "start_time": "2021-12-11T11:32:02.372Z"
   },
   {
    "duration": 7,
    "start_time": "2021-12-11T11:35:22.599Z"
   },
   {
    "duration": 5173,
    "start_time": "2021-12-11T11:35:23.258Z"
   },
   {
    "duration": 7,
    "start_time": "2021-12-11T11:35:35.829Z"
   },
   {
    "duration": 5178,
    "start_time": "2021-12-11T11:35:36.383Z"
   },
   {
    "duration": 7,
    "start_time": "2021-12-11T11:36:10.060Z"
   },
   {
    "duration": 5889,
    "start_time": "2021-12-11T11:36:10.703Z"
   },
   {
    "duration": 10,
    "start_time": "2021-12-11T11:36:27.430Z"
   },
   {
    "duration": 7599,
    "start_time": "2021-12-11T11:36:28.344Z"
   },
   {
    "duration": 13,
    "start_time": "2021-12-11T11:36:48.414Z"
   },
   {
    "duration": 10522,
    "start_time": "2021-12-11T11:36:48.924Z"
   },
   {
    "duration": 320,
    "start_time": "2021-12-11T11:37:40.872Z"
   },
   {
    "duration": 8652,
    "start_time": "2021-12-11T11:38:07.361Z"
   },
   {
    "duration": 21,
    "start_time": "2021-12-11T11:39:20.412Z"
   },
   {
    "duration": 12,
    "start_time": "2021-12-11T11:39:25.132Z"
   },
   {
    "duration": 4,
    "start_time": "2021-12-11T11:39:45.867Z"
   },
   {
    "duration": 9,
    "start_time": "2021-12-11T11:39:51.583Z"
   },
   {
    "duration": 277,
    "start_time": "2021-12-11T11:40:27.869Z"
   },
   {
    "duration": 5,
    "start_time": "2021-12-11T11:40:31.979Z"
   },
   {
    "duration": 6,
    "start_time": "2021-12-11T11:41:36.974Z"
   },
   {
    "duration": 237,
    "start_time": "2021-12-11T11:42:03.195Z"
   },
   {
    "duration": 1578,
    "start_time": "2021-12-11T11:45:38.075Z"
   },
   {
    "duration": 5,
    "start_time": "2021-12-11T11:45:39.656Z"
   },
   {
    "duration": 37,
    "start_time": "2021-12-11T11:45:39.665Z"
   },
   {
    "duration": 22,
    "start_time": "2021-12-11T11:45:39.706Z"
   },
   {
    "duration": 31,
    "start_time": "2021-12-11T11:45:39.731Z"
   },
   {
    "duration": 2769,
    "start_time": "2021-12-11T11:45:39.764Z"
   },
   {
    "duration": 10,
    "start_time": "2021-12-11T11:45:42.537Z"
   },
   {
    "duration": 9,
    "start_time": "2021-12-11T11:45:42.550Z"
   },
   {
    "duration": 100,
    "start_time": "2021-12-11T11:45:42.564Z"
   },
   {
    "duration": 9073,
    "start_time": "2021-12-11T11:45:42.667Z"
   },
   {
    "duration": 7,
    "start_time": "2021-12-11T11:45:51.744Z"
   },
   {
    "duration": 13,
    "start_time": "2021-12-11T11:45:51.753Z"
   },
   {
    "duration": 6,
    "start_time": "2021-12-11T11:45:51.769Z"
   },
   {
    "duration": 69,
    "start_time": "2021-12-11T11:45:51.777Z"
   },
   {
    "duration": 14,
    "start_time": "2021-12-11T11:45:51.925Z"
   },
   {
    "duration": 13,
    "start_time": "2021-12-11T11:45:51.941Z"
   },
   {
    "duration": 291,
    "start_time": "2021-12-11T11:45:51.957Z"
   },
   {
    "duration": 178,
    "start_time": "2021-12-11T11:45:52.251Z"
   },
   {
    "duration": 42595,
    "start_time": "2021-12-11T11:45:09.837Z"
   },
   {
    "duration": 42595,
    "start_time": "2021-12-11T11:45:09.839Z"
   },
   {
    "duration": 572,
    "start_time": "2021-12-11T11:46:08.734Z"
   },
   {
    "duration": 7,
    "start_time": "2021-12-11T11:47:25.188Z"
   },
   {
    "duration": 6,
    "start_time": "2021-12-11T11:47:30.243Z"
   },
   {
    "duration": 7,
    "start_time": "2021-12-11T11:47:34.267Z"
   },
   {
    "duration": 5,
    "start_time": "2021-12-11T11:48:04.249Z"
   },
   {
    "duration": 7,
    "start_time": "2021-12-11T11:48:05.209Z"
   },
   {
    "duration": 498,
    "start_time": "2021-12-11T11:48:08.870Z"
   },
   {
    "duration": 4,
    "start_time": "2021-12-11T11:50:26.511Z"
   },
   {
    "duration": 6,
    "start_time": "2021-12-11T11:50:27.095Z"
   },
   {
    "duration": 232,
    "start_time": "2021-12-11T11:50:32.106Z"
   },
   {
    "duration": 307,
    "start_time": "2021-12-11T11:50:50.092Z"
   },
   {
    "duration": 5,
    "start_time": "2021-12-11T11:52:05.077Z"
   },
   {
    "duration": 6,
    "start_time": "2021-12-11T11:52:09.712Z"
   },
   {
    "duration": 7,
    "start_time": "2021-12-11T11:52:11.977Z"
   },
   {
    "duration": 6,
    "start_time": "2021-12-11T11:52:36.143Z"
   },
   {
    "duration": 1527,
    "start_time": "2021-12-11T11:53:56.711Z"
   },
   {
    "duration": 4,
    "start_time": "2021-12-11T11:53:58.241Z"
   },
   {
    "duration": 22,
    "start_time": "2021-12-11T11:53:58.248Z"
   },
   {
    "duration": 35,
    "start_time": "2021-12-11T11:53:58.273Z"
   },
   {
    "duration": 20,
    "start_time": "2021-12-11T11:53:58.311Z"
   },
   {
    "duration": 2729,
    "start_time": "2021-12-11T11:53:58.333Z"
   },
   {
    "duration": 599,
    "start_time": "2021-12-11T11:54:01.064Z"
   },
   {
    "duration": 42583,
    "start_time": "2021-12-11T11:53:19.084Z"
   },
   {
    "duration": 42581,
    "start_time": "2021-12-11T11:53:19.087Z"
   },
   {
    "duration": 42580,
    "start_time": "2021-12-11T11:53:19.089Z"
   },
   {
    "duration": 42578,
    "start_time": "2021-12-11T11:53:19.093Z"
   },
   {
    "duration": 42576,
    "start_time": "2021-12-11T11:53:19.096Z"
   },
   {
    "duration": 42575,
    "start_time": "2021-12-11T11:53:19.098Z"
   },
   {
    "duration": 42576,
    "start_time": "2021-12-11T11:53:19.099Z"
   },
   {
    "duration": 42575,
    "start_time": "2021-12-11T11:53:19.101Z"
   },
   {
    "duration": 42571,
    "start_time": "2021-12-11T11:53:19.107Z"
   },
   {
    "duration": 42569,
    "start_time": "2021-12-11T11:53:19.110Z"
   },
   {
    "duration": 42569,
    "start_time": "2021-12-11T11:53:19.112Z"
   },
   {
    "duration": 42568,
    "start_time": "2021-12-11T11:53:19.114Z"
   },
   {
    "duration": 42568,
    "start_time": "2021-12-11T11:53:19.116Z"
   },
   {
    "duration": 9,
    "start_time": "2021-12-11T11:54:21.954Z"
   },
   {
    "duration": 6,
    "start_time": "2021-12-11T11:54:24.444Z"
   },
   {
    "duration": 78,
    "start_time": "2021-12-11T11:54:26.980Z"
   },
   {
    "duration": 8612,
    "start_time": "2021-12-11T11:54:28.104Z"
   },
   {
    "duration": 7,
    "start_time": "2021-12-11T11:54:36.724Z"
   },
   {
    "duration": 14,
    "start_time": "2021-12-11T11:54:38.004Z"
   },
   {
    "duration": 5,
    "start_time": "2021-12-11T11:54:39.279Z"
   },
   {
    "duration": 122,
    "start_time": "2021-12-11T11:54:41.319Z"
   },
   {
    "duration": 7,
    "start_time": "2021-12-11T11:54:42.264Z"
   },
   {
    "duration": 4,
    "start_time": "2021-12-11T11:54:43.450Z"
   },
   {
    "duration": 6,
    "start_time": "2021-12-11T11:54:45.056Z"
   },
   {
    "duration": 6,
    "start_time": "2021-12-11T11:54:46.164Z"
   },
   {
    "duration": 319,
    "start_time": "2021-12-11T11:54:48.279Z"
   },
   {
    "duration": 4,
    "start_time": "2021-12-11T11:54:55.495Z"
   },
   {
    "duration": 15,
    "start_time": "2021-12-11T11:55:02.560Z"
   },
   {
    "duration": 6,
    "start_time": "2021-12-11T11:55:35.395Z"
   },
   {
    "duration": 6,
    "start_time": "2021-12-11T11:55:44.080Z"
   },
   {
    "duration": 12,
    "start_time": "2021-12-11T11:59:47.205Z"
   },
   {
    "duration": 13,
    "start_time": "2021-12-11T12:00:03.766Z"
   },
   {
    "duration": 12,
    "start_time": "2021-12-11T12:00:12.571Z"
   },
   {
    "duration": 15,
    "start_time": "2021-12-11T12:00:22.832Z"
   },
   {
    "duration": 6,
    "start_time": "2021-12-11T12:00:30.676Z"
   },
   {
    "duration": 6,
    "start_time": "2021-12-11T12:00:43.847Z"
   },
   {
    "duration": 6,
    "start_time": "2021-12-11T12:01:07.322Z"
   },
   {
    "duration": 7,
    "start_time": "2021-12-11T12:01:11.342Z"
   },
   {
    "duration": 7,
    "start_time": "2021-12-11T12:01:13.430Z"
   },
   {
    "duration": 6,
    "start_time": "2021-12-11T12:01:18.213Z"
   },
   {
    "duration": 6,
    "start_time": "2021-12-11T12:01:23.777Z"
   },
   {
    "duration": 6,
    "start_time": "2021-12-11T12:01:27.962Z"
   },
   {
    "duration": 339,
    "start_time": "2021-12-11T12:19:37.150Z"
   },
   {
    "duration": 98,
    "start_time": "2021-12-11T12:21:59.712Z"
   },
   {
    "duration": 491,
    "start_time": "2021-12-11T12:22:10.332Z"
   },
   {
    "duration": 5,
    "start_time": "2021-12-11T12:22:51.793Z"
   },
   {
    "duration": 6,
    "start_time": "2021-12-11T12:22:55.407Z"
   },
   {
    "duration": 6,
    "start_time": "2021-12-11T12:26:02.625Z"
   },
   {
    "duration": 6,
    "start_time": "2021-12-11T12:26:02.895Z"
   },
   {
    "duration": 6,
    "start_time": "2021-12-11T13:05:22.116Z"
   },
   {
    "duration": 5,
    "start_time": "2021-12-11T13:05:36.052Z"
   },
   {
    "duration": 6,
    "start_time": "2021-12-11T13:06:03.788Z"
   },
   {
    "duration": 6,
    "start_time": "2021-12-11T13:06:30.968Z"
   },
   {
    "duration": 6,
    "start_time": "2021-12-11T13:06:59.635Z"
   },
   {
    "duration": 6,
    "start_time": "2021-12-11T13:07:29.048Z"
   },
   {
    "duration": 6,
    "start_time": "2021-12-11T13:07:37.644Z"
   },
   {
    "duration": 6,
    "start_time": "2021-12-11T13:07:48.459Z"
   },
   {
    "duration": 7,
    "start_time": "2021-12-11T13:08:05.786Z"
   },
   {
    "duration": 6,
    "start_time": "2021-12-11T13:08:18.279Z"
   },
   {
    "duration": 7,
    "start_time": "2021-12-11T13:08:34.585Z"
   },
   {
    "duration": 6,
    "start_time": "2021-12-11T13:08:39.235Z"
   },
   {
    "duration": 7,
    "start_time": "2021-12-11T13:09:53.936Z"
   },
   {
    "duration": 6,
    "start_time": "2021-12-11T13:10:48.942Z"
   },
   {
    "duration": 5,
    "start_time": "2021-12-11T13:10:57.716Z"
   },
   {
    "duration": 6,
    "start_time": "2021-12-11T13:11:22.122Z"
   },
   {
    "duration": 7,
    "start_time": "2021-12-11T13:11:41.398Z"
   },
   {
    "duration": 4,
    "start_time": "2021-12-11T13:38:21.518Z"
   },
   {
    "duration": 4,
    "start_time": "2021-12-11T13:38:41.229Z"
   },
   {
    "duration": 6,
    "start_time": "2021-12-11T13:38:41.993Z"
   },
   {
    "duration": 5,
    "start_time": "2021-12-11T13:38:48.039Z"
   },
   {
    "duration": 3,
    "start_time": "2021-12-11T13:39:04.149Z"
   },
   {
    "duration": 6,
    "start_time": "2021-12-11T13:39:04.583Z"
   },
   {
    "duration": 4,
    "start_time": "2021-12-11T13:39:08.171Z"
   },
   {
    "duration": 7,
    "start_time": "2021-12-11T13:39:08.873Z"
   },
   {
    "duration": 7,
    "start_time": "2021-12-11T13:39:20.259Z"
   },
   {
    "duration": 6,
    "start_time": "2021-12-11T13:39:30.129Z"
   },
   {
    "duration": 329,
    "start_time": "2021-12-11T13:39:45.024Z"
   },
   {
    "duration": 4,
    "start_time": "2021-12-11T13:39:52.659Z"
   },
   {
    "duration": 6,
    "start_time": "2021-12-11T13:39:53.605Z"
   },
   {
    "duration": 7,
    "start_time": "2021-12-11T13:39:54.639Z"
   },
   {
    "duration": 8,
    "start_time": "2021-12-11T13:40:22.540Z"
   },
   {
    "duration": 7,
    "start_time": "2021-12-11T13:41:00.400Z"
   },
   {
    "duration": 6,
    "start_time": "2021-12-11T13:41:25.256Z"
   },
   {
    "duration": 4,
    "start_time": "2021-12-11T14:13:59.863Z"
   },
   {
    "duration": 282,
    "start_time": "2021-12-11T14:14:05.099Z"
   },
   {
    "duration": 4,
    "start_time": "2021-12-11T14:14:30.418Z"
   },
   {
    "duration": 5,
    "start_time": "2021-12-11T14:14:31.617Z"
   },
   {
    "duration": 4,
    "start_time": "2021-12-11T14:15:11.218Z"
   },
   {
    "duration": 5,
    "start_time": "2021-12-11T14:15:11.924Z"
   },
   {
    "duration": 3,
    "start_time": "2021-12-11T14:21:08.705Z"
   },
   {
    "duration": 6,
    "start_time": "2021-12-11T14:21:12.784Z"
   },
   {
    "duration": 12,
    "start_time": "2021-12-11T14:25:12.128Z"
   },
   {
    "duration": 14,
    "start_time": "2021-12-11T14:25:26.259Z"
   },
   {
    "duration": 4,
    "start_time": "2021-12-11T14:26:59.770Z"
   },
   {
    "duration": 6,
    "start_time": "2021-12-11T14:27:00.625Z"
   },
   {
    "duration": 5,
    "start_time": "2021-12-11T14:27:08.605Z"
   },
   {
    "duration": 4,
    "start_time": "2021-12-11T14:27:11.320Z"
   },
   {
    "duration": 8,
    "start_time": "2021-12-11T14:27:11.980Z"
   },
   {
    "duration": 4,
    "start_time": "2021-12-11T14:27:39.551Z"
   },
   {
    "duration": 6,
    "start_time": "2021-12-11T14:27:40.150Z"
   },
   {
    "duration": 240,
    "start_time": "2021-12-11T14:27:41.590Z"
   },
   {
    "duration": 5,
    "start_time": "2021-12-11T14:27:46.645Z"
   },
   {
    "duration": 309,
    "start_time": "2021-12-11T14:27:54.191Z"
   },
   {
    "duration": 4,
    "start_time": "2021-12-11T14:28:04.166Z"
   },
   {
    "duration": 6,
    "start_time": "2021-12-11T14:28:04.796Z"
   },
   {
    "duration": 8,
    "start_time": "2021-12-11T14:28:05.036Z"
   },
   {
    "duration": 6,
    "start_time": "2021-12-11T14:28:05.262Z"
   },
   {
    "duration": 12,
    "start_time": "2021-12-11T14:28:05.951Z"
   },
   {
    "duration": 19,
    "start_time": "2021-12-11T14:28:07.556Z"
   },
   {
    "duration": 7,
    "start_time": "2021-12-11T14:28:07.931Z"
   },
   {
    "duration": 7,
    "start_time": "2021-12-11T14:35:39.679Z"
   },
   {
    "duration": 6,
    "start_time": "2021-12-11T14:35:51.244Z"
   },
   {
    "duration": 453,
    "start_time": "2021-12-11T14:36:31.521Z"
   },
   {
    "duration": 123,
    "start_time": "2021-12-11T14:45:18.043Z"
   },
   {
    "duration": 5,
    "start_time": "2021-12-11T16:12:05.055Z"
   },
   {
    "duration": 7,
    "start_time": "2021-12-11T16:12:05.924Z"
   },
   {
    "duration": 6,
    "start_time": "2021-12-11T16:17:12.815Z"
   },
   {
    "duration": 5,
    "start_time": "2021-12-11T16:17:51.259Z"
   },
   {
    "duration": 6,
    "start_time": "2021-12-11T16:19:57.052Z"
   },
   {
    "duration": 4,
    "start_time": "2021-12-11T16:21:05.408Z"
   },
   {
    "duration": 13,
    "start_time": "2021-12-11T16:22:20.290Z"
   },
   {
    "duration": 13,
    "start_time": "2021-12-11T16:22:57.610Z"
   },
   {
    "duration": 728,
    "start_time": "2021-12-11T16:23:46.841Z"
   },
   {
    "duration": 6,
    "start_time": "2021-12-11T16:37:27.009Z"
   },
   {
    "duration": 580,
    "start_time": "2021-12-11T16:37:38.245Z"
   },
   {
    "duration": 7,
    "start_time": "2021-12-11T16:38:55.547Z"
   },
   {
    "duration": 581,
    "start_time": "2021-12-11T16:39:01.542Z"
   },
   {
    "duration": 275,
    "start_time": "2021-12-11T16:39:20.246Z"
   },
   {
    "duration": 350,
    "start_time": "2021-12-11T16:39:32.112Z"
   },
   {
    "duration": 7,
    "start_time": "2021-12-11T16:39:47.831Z"
   },
   {
    "duration": 8,
    "start_time": "2021-12-11T16:39:52.392Z"
   },
   {
    "duration": 264,
    "start_time": "2021-12-11T16:40:04.605Z"
   },
   {
    "duration": 96,
    "start_time": "2021-12-11T16:40:47.083Z"
   },
   {
    "duration": 4,
    "start_time": "2021-12-11T16:41:41.219Z"
   },
   {
    "duration": 7,
    "start_time": "2021-12-11T16:42:48.585Z"
   },
   {
    "duration": 585,
    "start_time": "2021-12-11T16:42:53.311Z"
   },
   {
    "duration": 5,
    "start_time": "2021-12-11T16:43:26.806Z"
   },
   {
    "duration": 265,
    "start_time": "2021-12-11T16:43:27.720Z"
   },
   {
    "duration": 5,
    "start_time": "2021-12-11T16:43:33.435Z"
   },
   {
    "duration": 266,
    "start_time": "2021-12-11T16:43:33.916Z"
   },
   {
    "duration": 954,
    "start_time": "2021-12-11T16:44:20.117Z"
   },
   {
    "duration": 257,
    "start_time": "2021-12-11T16:44:29.881Z"
   },
   {
    "duration": 7,
    "start_time": "2021-12-11T16:44:57.540Z"
   },
   {
    "duration": 7,
    "start_time": "2021-12-11T16:45:12.817Z"
   },
   {
    "duration": 6,
    "start_time": "2021-12-11T16:45:25.983Z"
   },
   {
    "duration": 5,
    "start_time": "2021-12-11T16:45:40.337Z"
   },
   {
    "duration": 7,
    "start_time": "2021-12-11T16:45:53.045Z"
   },
   {
    "duration": 7,
    "start_time": "2021-12-11T16:46:30.934Z"
   },
   {
    "duration": 527,
    "start_time": "2021-12-11T16:46:35.929Z"
   },
   {
    "duration": 8,
    "start_time": "2021-12-11T16:47:32.764Z"
   },
   {
    "duration": 539,
    "start_time": "2021-12-11T16:47:36.440Z"
   },
   {
    "duration": 8,
    "start_time": "2021-12-11T16:47:50.210Z"
   },
   {
    "duration": 586,
    "start_time": "2021-12-11T16:47:52.969Z"
   },
   {
    "duration": 11,
    "start_time": "2021-12-11T16:48:19.926Z"
   },
   {
    "duration": 616,
    "start_time": "2021-12-11T16:48:23.285Z"
   },
   {
    "duration": 7,
    "start_time": "2021-12-11T16:49:53.556Z"
   },
   {
    "duration": 545,
    "start_time": "2021-12-11T16:49:57.636Z"
   },
   {
    "duration": 7,
    "start_time": "2021-12-11T16:50:47.363Z"
   },
   {
    "duration": 584,
    "start_time": "2021-12-11T16:50:50.962Z"
   },
   {
    "duration": 7,
    "start_time": "2021-12-11T16:52:21.564Z"
   },
   {
    "duration": 592,
    "start_time": "2021-12-11T16:52:25.150Z"
   },
   {
    "duration": 7,
    "start_time": "2021-12-11T16:53:11.245Z"
   },
   {
    "duration": 8,
    "start_time": "2021-12-11T16:53:25.646Z"
   },
   {
    "duration": 8,
    "start_time": "2021-12-11T16:53:30.159Z"
   },
   {
    "duration": 88,
    "start_time": "2021-12-11T16:54:54.716Z"
   },
   {
    "duration": 4,
    "start_time": "2021-12-11T16:54:59.547Z"
   },
   {
    "duration": 8,
    "start_time": "2021-12-11T16:55:04.151Z"
   },
   {
    "duration": 10,
    "start_time": "2021-12-11T16:55:11.952Z"
   },
   {
    "duration": 4,
    "start_time": "2021-12-11T16:55:43.737Z"
   },
   {
    "duration": 7,
    "start_time": "2021-12-11T16:55:49.093Z"
   },
   {
    "duration": 7,
    "start_time": "2021-12-11T16:55:52.812Z"
   },
   {
    "duration": 3,
    "start_time": "2021-12-11T16:56:17.653Z"
   },
   {
    "duration": 7,
    "start_time": "2021-12-11T16:56:18.357Z"
   },
   {
    "duration": 3,
    "start_time": "2021-12-11T16:56:30.793Z"
   },
   {
    "duration": 7,
    "start_time": "2021-12-11T16:56:31.498Z"
   },
   {
    "duration": 7,
    "start_time": "2021-12-11T16:56:40.483Z"
   },
   {
    "duration": 8,
    "start_time": "2021-12-11T16:56:48.988Z"
   },
   {
    "duration": 4,
    "start_time": "2021-12-11T16:56:52.889Z"
   },
   {
    "duration": 7,
    "start_time": "2021-12-11T16:56:54.449Z"
   },
   {
    "duration": 3,
    "start_time": "2021-12-11T16:57:00.931Z"
   },
   {
    "duration": 8,
    "start_time": "2021-12-11T16:57:02.968Z"
   },
   {
    "duration": 7,
    "start_time": "2021-12-11T16:57:11.383Z"
   },
   {
    "duration": 7,
    "start_time": "2021-12-11T16:57:12.959Z"
   },
   {
    "duration": 7,
    "start_time": "2021-12-11T16:57:22.994Z"
   },
   {
    "duration": 17,
    "start_time": "2021-12-11T16:57:38.594Z"
   },
   {
    "duration": 281,
    "start_time": "2021-12-11T16:58:06.330Z"
   },
   {
    "duration": 6,
    "start_time": "2021-12-11T16:58:14.355Z"
   },
   {
    "duration": 5,
    "start_time": "2021-12-11T16:58:21.151Z"
   },
   {
    "duration": 292,
    "start_time": "2021-12-11T16:58:45.495Z"
   },
   {
    "duration": 471,
    "start_time": "2021-12-11T16:58:58.066Z"
   },
   {
    "duration": 6,
    "start_time": "2021-12-11T16:59:14.836Z"
   },
   {
    "duration": 5,
    "start_time": "2021-12-11T16:59:25.066Z"
   },
   {
    "duration": 401,
    "start_time": "2021-12-11T16:59:34.037Z"
   },
   {
    "duration": 17,
    "start_time": "2021-12-11T16:59:54.857Z"
   },
   {
    "duration": 6,
    "start_time": "2021-12-11T17:00:03.415Z"
   },
   {
    "duration": 271,
    "start_time": "2021-12-11T17:00:08.747Z"
   },
   {
    "duration": 12,
    "start_time": "2021-12-11T17:00:29.103Z"
   },
   {
    "duration": 404,
    "start_time": "2021-12-11T17:00:35.507Z"
   },
   {
    "duration": 9,
    "start_time": "2021-12-11T17:00:56.947Z"
   },
   {
    "duration": 7,
    "start_time": "2021-12-11T17:01:23.044Z"
   },
   {
    "duration": 7,
    "start_time": "2021-12-11T17:01:25.712Z"
   },
   {
    "duration": 283,
    "start_time": "2021-12-11T17:01:43.623Z"
   },
   {
    "duration": 286,
    "start_time": "2021-12-11T17:01:50.852Z"
   },
   {
    "duration": 5,
    "start_time": "2021-12-11T17:01:56.043Z"
   },
   {
    "duration": 7,
    "start_time": "2021-12-11T17:02:00.289Z"
   },
   {
    "duration": 8,
    "start_time": "2021-12-11T17:02:08.659Z"
   },
   {
    "duration": 12,
    "start_time": "2021-12-11T17:03:55.955Z"
   },
   {
    "duration": 7,
    "start_time": "2021-12-11T17:04:12.996Z"
   },
   {
    "duration": 563,
    "start_time": "2021-12-11T17:04:20.391Z"
   },
   {
    "duration": 440,
    "start_time": "2021-12-11T17:05:08.349Z"
   },
   {
    "duration": 8,
    "start_time": "2021-12-11T17:05:18.051Z"
   },
   {
    "duration": 7,
    "start_time": "2021-12-11T17:05:31.103Z"
   },
   {
    "duration": 12,
    "start_time": "2021-12-11T17:05:35.812Z"
   },
   {
    "duration": 12,
    "start_time": "2021-12-11T17:05:44.677Z"
   },
   {
    "duration": 11,
    "start_time": "2021-12-11T17:05:47.122Z"
   },
   {
    "duration": 6,
    "start_time": "2021-12-11T17:06:14.888Z"
   },
   {
    "duration": 797,
    "start_time": "2021-12-11T17:06:19.823Z"
   },
   {
    "duration": 8,
    "start_time": "2021-12-11T17:06:39.923Z"
   },
   {
    "duration": 8,
    "start_time": "2021-12-11T17:06:42.773Z"
   },
   {
    "duration": 7,
    "start_time": "2021-12-11T17:06:58.284Z"
   },
   {
    "duration": 12,
    "start_time": "2021-12-11T17:07:04.088Z"
   },
   {
    "duration": 7,
    "start_time": "2021-12-11T17:07:23.139Z"
   },
   {
    "duration": 12,
    "start_time": "2021-12-11T17:07:27.114Z"
   },
   {
    "duration": 10,
    "start_time": "2021-12-11T17:07:30.414Z"
   },
   {
    "duration": 12,
    "start_time": "2021-12-11T17:07:32.393Z"
   },
   {
    "duration": 7,
    "start_time": "2021-12-11T17:07:48.865Z"
   },
   {
    "duration": 11,
    "start_time": "2021-12-11T17:07:53.350Z"
   },
   {
    "duration": 8,
    "start_time": "2021-12-11T17:08:13.211Z"
   },
   {
    "duration": 10,
    "start_time": "2021-12-11T17:08:17.244Z"
   },
   {
    "duration": 6,
    "start_time": "2021-12-11T17:09:32.502Z"
   },
   {
    "duration": 13,
    "start_time": "2021-12-11T17:09:36.311Z"
   },
   {
    "duration": 6,
    "start_time": "2021-12-11T17:09:50.337Z"
   },
   {
    "duration": 12,
    "start_time": "2021-12-11T17:09:54.943Z"
   },
   {
    "duration": 6,
    "start_time": "2021-12-11T17:10:13.154Z"
   },
   {
    "duration": 11,
    "start_time": "2021-12-11T17:10:17.456Z"
   },
   {
    "duration": 12,
    "start_time": "2021-12-11T17:12:22.095Z"
   },
   {
    "duration": 12,
    "start_time": "2021-12-11T17:12:41.879Z"
   },
   {
    "duration": 14,
    "start_time": "2021-12-11T17:12:43.184Z"
   },
   {
    "duration": 271,
    "start_time": "2021-12-11T17:13:27.300Z"
   },
   {
    "duration": 12,
    "start_time": "2021-12-11T17:13:30.585Z"
   },
   {
    "duration": 6,
    "start_time": "2021-12-11T17:13:31.275Z"
   },
   {
    "duration": 29,
    "start_time": "2021-12-11T17:23:15.670Z"
   },
   {
    "duration": 96,
    "start_time": "2021-12-11T17:29:52.336Z"
   },
   {
    "duration": 11,
    "start_time": "2021-12-11T17:34:48.981Z"
   },
   {
    "duration": 12,
    "start_time": "2021-12-11T17:51:50.892Z"
   },
   {
    "duration": 11,
    "start_time": "2021-12-11T17:51:57.823Z"
   },
   {
    "duration": 15,
    "start_time": "2021-12-11T17:52:05.244Z"
   },
   {
    "duration": 13,
    "start_time": "2021-12-11T17:52:05.708Z"
   },
   {
    "duration": 6,
    "start_time": "2021-12-11T17:52:08.304Z"
   },
   {
    "duration": 1516,
    "start_time": "2021-12-11T18:04:06.294Z"
   },
   {
    "duration": 11,
    "start_time": "2021-12-11T18:04:07.812Z"
   },
   {
    "duration": 7,
    "start_time": "2021-12-11T18:04:07.826Z"
   },
   {
    "duration": 45,
    "start_time": "2021-12-11T18:04:07.835Z"
   },
   {
    "duration": 7,
    "start_time": "2021-12-11T18:04:07.882Z"
   },
   {
    "duration": 2407,
    "start_time": "2021-12-11T18:04:07.891Z"
   },
   {
    "duration": 5,
    "start_time": "2021-12-11T18:04:10.301Z"
   },
   {
    "duration": 4,
    "start_time": "2021-12-11T18:04:10.325Z"
   },
   {
    "duration": 94,
    "start_time": "2021-12-11T18:04:10.332Z"
   },
   {
    "duration": 96,
    "start_time": "2021-12-11T18:04:10.430Z"
   },
   {
    "duration": 23,
    "start_time": "2021-12-11T18:04:10.529Z"
   },
   {
    "duration": 19,
    "start_time": "2021-12-11T18:04:10.554Z"
   },
   {
    "duration": 15,
    "start_time": "2021-12-11T18:04:10.575Z"
   },
   {
    "duration": 20,
    "start_time": "2021-12-11T18:04:10.592Z"
   },
   {
    "duration": 109,
    "start_time": "2021-12-11T18:04:10.614Z"
   },
   {
    "duration": 157,
    "start_time": "2021-12-11T18:04:10.731Z"
   },
   {
    "duration": 32,
    "start_time": "2021-12-11T18:04:10.891Z"
   },
   {
    "duration": 30,
    "start_time": "2021-12-11T18:04:10.925Z"
   },
   {
    "duration": 73,
    "start_time": "2021-12-11T18:04:10.959Z"
   },
   {
    "duration": 98,
    "start_time": "2021-12-11T18:04:11.131Z"
   },
   {
    "duration": 1458,
    "start_time": "2021-12-11T18:47:30.868Z"
   },
   {
    "duration": 4,
    "start_time": "2021-12-11T18:47:33.897Z"
   },
   {
    "duration": 4,
    "start_time": "2021-12-11T18:47:34.406Z"
   },
   {
    "duration": 39,
    "start_time": "2021-12-11T18:47:35.059Z"
   },
   {
    "duration": 5,
    "start_time": "2021-12-11T18:47:35.953Z"
   },
   {
    "duration": 2530,
    "start_time": "2021-12-11T18:47:36.244Z"
   },
   {
    "duration": 6,
    "start_time": "2021-12-11T18:47:38.827Z"
   },
   {
    "duration": 5,
    "start_time": "2021-12-11T18:47:39.014Z"
   },
   {
    "duration": 22,
    "start_time": "2021-12-11T18:47:39.360Z"
   },
   {
    "duration": 5,
    "start_time": "2021-12-11T18:47:39.696Z"
   },
   {
    "duration": 6,
    "start_time": "2021-12-11T18:47:39.881Z"
   },
   {
    "duration": 6,
    "start_time": "2021-12-11T18:47:40.214Z"
   },
   {
    "duration": 6,
    "start_time": "2021-12-11T18:47:40.378Z"
   },
   {
    "duration": 10,
    "start_time": "2021-12-11T18:47:40.890Z"
   },
   {
    "duration": 19,
    "start_time": "2021-12-11T18:47:41.195Z"
   },
   {
    "duration": 6,
    "start_time": "2021-12-11T18:47:41.580Z"
   },
   {
    "duration": 71,
    "start_time": "2021-12-11T18:47:42.898Z"
   },
   {
    "duration": 24,
    "start_time": "2021-12-11T18:47:43.416Z"
   },
   {
    "duration": 14,
    "start_time": "2021-12-11T18:47:43.624Z"
   },
   {
    "duration": 6,
    "start_time": "2021-12-11T18:47:43.824Z"
   },
   {
    "duration": 919,
    "start_time": "2021-12-19T17:08:49.311Z"
   },
   {
    "duration": 1544,
    "start_time": "2021-12-19T17:09:16.317Z"
   },
   {
    "duration": 4,
    "start_time": "2021-12-19T17:09:17.864Z"
   },
   {
    "duration": 4,
    "start_time": "2021-12-19T17:09:17.872Z"
   },
   {
    "duration": 34,
    "start_time": "2021-12-19T17:09:17.880Z"
   },
   {
    "duration": 6,
    "start_time": "2021-12-19T17:09:17.917Z"
   },
   {
    "duration": 2623,
    "start_time": "2021-12-19T17:09:17.926Z"
   },
   {
    "duration": 10,
    "start_time": "2021-12-19T17:09:20.551Z"
   },
   {
    "duration": 6,
    "start_time": "2021-12-19T17:09:20.565Z"
   },
   {
    "duration": 90,
    "start_time": "2021-12-19T17:09:20.574Z"
   },
   {
    "duration": 95,
    "start_time": "2021-12-19T17:09:20.666Z"
   },
   {
    "duration": 12,
    "start_time": "2021-12-19T17:09:20.764Z"
   },
   {
    "duration": 81,
    "start_time": "2021-12-19T17:09:20.779Z"
   },
   {
    "duration": 10,
    "start_time": "2021-12-19T17:09:20.863Z"
   },
   {
    "duration": 89,
    "start_time": "2021-12-19T17:09:20.877Z"
   },
   {
    "duration": 13,
    "start_time": "2021-12-19T17:09:20.968Z"
   },
   {
    "duration": 157,
    "start_time": "2021-12-19T17:09:21.065Z"
   },
   {
    "duration": 8,
    "start_time": "2021-12-19T17:09:21.225Z"
   },
   {
    "duration": 20,
    "start_time": "2021-12-19T17:09:21.260Z"
   },
   {
    "duration": 96,
    "start_time": "2021-12-19T17:09:21.282Z"
   },
   {
    "duration": 11,
    "start_time": "2021-12-19T17:09:21.460Z"
   },
   {
    "duration": 4,
    "start_time": "2021-12-19T17:11:14.650Z"
   },
   {
    "duration": 7,
    "start_time": "2021-12-19T17:11:18.549Z"
   },
   {
    "duration": 8,
    "start_time": "2021-12-19T17:11:20.635Z"
   },
   {
    "duration": 2742,
    "start_time": "2021-12-19T19:30:37.604Z"
   },
   {
    "duration": 1525,
    "start_time": "2021-12-19T19:35:33.602Z"
   },
   {
    "duration": 4,
    "start_time": "2021-12-19T19:35:35.129Z"
   },
   {
    "duration": 5,
    "start_time": "2021-12-19T19:35:35.136Z"
   },
   {
    "duration": 47,
    "start_time": "2021-12-19T19:35:35.143Z"
   },
   {
    "duration": 5,
    "start_time": "2021-12-19T19:35:35.193Z"
   },
   {
    "duration": 2628,
    "start_time": "2021-12-19T19:35:35.201Z"
   },
   {
    "duration": 6,
    "start_time": "2021-12-19T19:35:37.833Z"
   },
   {
    "duration": 18,
    "start_time": "2021-12-19T19:35:37.844Z"
   },
   {
    "duration": 34,
    "start_time": "2021-12-19T19:35:37.865Z"
   },
   {
    "duration": 9,
    "start_time": "2021-12-19T19:35:37.961Z"
   },
   {
    "duration": 9,
    "start_time": "2021-12-19T19:35:38.060Z"
   },
   {
    "duration": 90,
    "start_time": "2021-12-19T19:35:38.071Z"
   },
   {
    "duration": 5,
    "start_time": "2021-12-19T19:35:38.164Z"
   },
   {
    "duration": 90,
    "start_time": "2021-12-19T19:35:38.171Z"
   },
   {
    "duration": 2815,
    "start_time": "2021-12-19T19:35:38.264Z"
   },
   {
    "duration": 82,
    "start_time": "2021-12-19T19:35:41.081Z"
   },
   {
    "duration": 98,
    "start_time": "2021-12-19T19:35:41.166Z"
   },
   {
    "duration": 8,
    "start_time": "2021-12-19T19:35:41.267Z"
   },
   {
    "duration": 85,
    "start_time": "2021-12-19T19:35:41.277Z"
   },
   {
    "duration": 105,
    "start_time": "2021-12-19T19:35:41.366Z"
   },
   {
    "duration": 93,
    "start_time": "2021-12-19T19:35:41.474Z"
   },
   {
    "duration": 1037,
    "start_time": "2021-12-21T15:55:24.141Z"
   },
   {
    "duration": 3,
    "start_time": "2021-12-21T15:55:25.180Z"
   },
   {
    "duration": 9,
    "start_time": "2021-12-21T15:55:25.185Z"
   },
   {
    "duration": 77,
    "start_time": "2021-12-21T15:55:25.196Z"
   },
   {
    "duration": 3,
    "start_time": "2021-12-21T15:55:25.275Z"
   },
   {
    "duration": 1592,
    "start_time": "2021-12-21T15:55:25.280Z"
   },
   {
    "duration": 4,
    "start_time": "2021-12-21T15:55:26.874Z"
   },
   {
    "duration": 11,
    "start_time": "2021-12-21T15:55:26.881Z"
   },
   {
    "duration": 15,
    "start_time": "2021-12-21T15:55:26.894Z"
   },
   {
    "duration": 90,
    "start_time": "2021-12-21T15:55:26.911Z"
   },
   {
    "duration": 5,
    "start_time": "2021-12-21T15:55:27.092Z"
   },
   {
    "duration": 7,
    "start_time": "2021-12-21T15:55:27.099Z"
   },
   {
    "duration": 85,
    "start_time": "2021-12-21T15:55:27.108Z"
   },
   {
    "duration": 11,
    "start_time": "2021-12-21T15:55:27.196Z"
   },
   {
    "duration": 1815,
    "start_time": "2021-12-21T15:55:27.209Z"
   },
   {
    "duration": 14,
    "start_time": "2021-12-21T15:55:29.026Z"
   },
   {
    "duration": 6,
    "start_time": "2021-12-21T15:55:29.093Z"
   },
   {
    "duration": 94,
    "start_time": "2021-12-21T15:55:29.101Z"
   },
   {
    "duration": 13,
    "start_time": "2021-12-21T15:55:29.197Z"
   },
   {
    "duration": 180,
    "start_time": "2021-12-21T15:55:29.212Z"
   },
   {
    "duration": 98,
    "start_time": "2021-12-21T15:55:29.394Z"
   }
  ],
  "kernelspec": {
   "display_name": "Python 3 (ipykernel)",
   "language": "python",
   "name": "python3"
  },
  "language_info": {
   "codemirror_mode": {
    "name": "ipython",
    "version": 3
   },
   "file_extension": ".py",
   "mimetype": "text/x-python",
   "name": "python",
   "nbconvert_exporter": "python",
   "pygments_lexer": "ipython3",
   "version": "3.9.5"
  },
  "toc": {
   "base_numbering": 1,
   "nav_menu": {},
   "number_sections": true,
   "sideBar": true,
   "skip_h1_title": true,
   "title_cell": "Содержание",
   "title_sidebar": "Contents",
   "toc_cell": true,
   "toc_position": {},
   "toc_section_display": true,
   "toc_window_display": true
  }
 },
 "nbformat": 4,
 "nbformat_minor": 2
}
