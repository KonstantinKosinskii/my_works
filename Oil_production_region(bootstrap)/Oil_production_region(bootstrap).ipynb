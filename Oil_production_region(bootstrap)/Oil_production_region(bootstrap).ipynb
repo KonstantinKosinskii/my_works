{
 "cells": [
  {
   "cell_type": "markdown",
   "metadata": {},
   "source": [
    "# Выбор локации для скважины"
   ]
  },
  {
   "cell_type": "markdown",
   "metadata": {},
   "source": [
    "Допустим, вы работаете в добывающей компании «ГлавРосГосНефть». Нужно решить, где бурить новую скважину.\n",
    "\n",
    "Вам предоставлены пробы нефти в трёх регионах: в каждом 10 000 месторождений, где измерили качество нефти и объём её запасов. Постройте модель машинного обучения, которая поможет определить регион, где добыча принесёт наибольшую прибыль. Проанализируйте возможную прибыль и риски техникой *Bootstrap.*\n",
    "\n",
    "Шаги для выбора локации:\n",
    "\n",
    "- В избранном регионе ищут месторождения, для каждого определяют значения признаков;\n",
    "- Строят модель и оценивают объём запасов;\n",
    "- Выбирают месторождения с самым высокими оценками значений. Количество месторождений зависит от бюджета компании и стоимости разработки одной скважины;\n",
    "- Прибыль равна суммарной прибыли отобранных месторождений."
   ]
  },
  {
   "cell_type": "markdown",
   "metadata": {},
   "source": [
    "## Загрузка и подготовка данных"
   ]
  },
  {
   "cell_type": "markdown",
   "metadata": {},
   "source": [
    "Импортируем библиотеки"
   ]
  },
  {
   "cell_type": "code",
   "execution_count": 1,
   "metadata": {},
   "outputs": [],
   "source": [
    "import pandas as pd\n",
    "import numpy as np\n",
    "import seaborn as sns\n",
    "import matplotlib.pyplot as plt\n",
    "from sklearn.preprocessing import StandardScaler\n",
    "from sklearn.dummy import DummyRegressor\n",
    "\n",
    "from sklearn.preprocessing import OneHotEncoder\n",
    "from sklearn.model_selection import train_test_split\n",
    "from sklearn.linear_model import LinearRegression\n",
    "from sklearn.metrics import mean_squared_error"
   ]
  },
  {
   "cell_type": "markdown",
   "metadata": {},
   "source": [
    "Установка отображения не более двух знаков после запятой"
   ]
  },
  {
   "cell_type": "code",
   "execution_count": 2,
   "metadata": {},
   "outputs": [],
   "source": [
    "pd.set_option('display.float_format', '{:,.2f}'.format)"
   ]
  },
  {
   "cell_type": "markdown",
   "metadata": {},
   "source": [
    "Импортируем игнорирование предупреждений"
   ]
  },
  {
   "cell_type": "code",
   "execution_count": 3,
   "metadata": {},
   "outputs": [],
   "source": [
    "import warnings\n",
    "warnings.simplefilter('ignore')"
   ]
  },
  {
   "cell_type": "code",
   "execution_count": 4,
   "metadata": {},
   "outputs": [
    {
     "name": "stdout",
     "output_type": "stream",
     "text": [
      "(100000, 5)\n"
     ]
    },
    {
     "data": {
      "text/html": [
       "<div>\n",
       "<style scoped>\n",
       "    .dataframe tbody tr th:only-of-type {\n",
       "        vertical-align: middle;\n",
       "    }\n",
       "\n",
       "    .dataframe tbody tr th {\n",
       "        vertical-align: top;\n",
       "    }\n",
       "\n",
       "    .dataframe thead th {\n",
       "        text-align: right;\n",
       "    }\n",
       "</style>\n",
       "<table border=\"1\" class=\"dataframe\">\n",
       "  <thead>\n",
       "    <tr style=\"text-align: right;\">\n",
       "      <th></th>\n",
       "      <th>id</th>\n",
       "      <th>f0</th>\n",
       "      <th>f1</th>\n",
       "      <th>f2</th>\n",
       "      <th>product</th>\n",
       "    </tr>\n",
       "  </thead>\n",
       "  <tbody>\n",
       "    <tr>\n",
       "      <td>0</td>\n",
       "      <td>txEyH</td>\n",
       "      <td>0.71</td>\n",
       "      <td>-0.50</td>\n",
       "      <td>1.22</td>\n",
       "      <td>105.28</td>\n",
       "    </tr>\n",
       "    <tr>\n",
       "      <td>1</td>\n",
       "      <td>2acmU</td>\n",
       "      <td>1.33</td>\n",
       "      <td>-0.34</td>\n",
       "      <td>4.37</td>\n",
       "      <td>73.04</td>\n",
       "    </tr>\n",
       "    <tr>\n",
       "      <td>2</td>\n",
       "      <td>409Wp</td>\n",
       "      <td>1.02</td>\n",
       "      <td>0.15</td>\n",
       "      <td>1.42</td>\n",
       "      <td>85.27</td>\n",
       "    </tr>\n",
       "    <tr>\n",
       "      <td>3</td>\n",
       "      <td>iJLyR</td>\n",
       "      <td>-0.03</td>\n",
       "      <td>0.14</td>\n",
       "      <td>2.98</td>\n",
       "      <td>168.62</td>\n",
       "    </tr>\n",
       "    <tr>\n",
       "      <td>4</td>\n",
       "      <td>Xdl7t</td>\n",
       "      <td>1.99</td>\n",
       "      <td>0.16</td>\n",
       "      <td>4.75</td>\n",
       "      <td>154.04</td>\n",
       "    </tr>\n",
       "  </tbody>\n",
       "</table>\n",
       "</div>"
      ],
      "text/plain": [
       "      id    f0    f1   f2  product\n",
       "0  txEyH  0.71 -0.50 1.22   105.28\n",
       "1  2acmU  1.33 -0.34 4.37    73.04\n",
       "2  409Wp  1.02  0.15 1.42    85.27\n",
       "3  iJLyR -0.03  0.14 2.98   168.62\n",
       "4  Xdl7t  1.99  0.16 4.75   154.04"
      ]
     },
     "execution_count": 4,
     "metadata": {},
     "output_type": "execute_result"
    }
   ],
   "source": [
    "data_1 = pd.read_csv('/datasets/geo_data_0.csv')\n",
    "print(data_1.shape)\n",
    "data_1.head()"
   ]
  },
  {
   "cell_type": "code",
   "execution_count": 5,
   "metadata": {},
   "outputs": [
    {
     "name": "stdout",
     "output_type": "stream",
     "text": [
      "(100000, 5)\n"
     ]
    },
    {
     "data": {
      "text/html": [
       "<div>\n",
       "<style scoped>\n",
       "    .dataframe tbody tr th:only-of-type {\n",
       "        vertical-align: middle;\n",
       "    }\n",
       "\n",
       "    .dataframe tbody tr th {\n",
       "        vertical-align: top;\n",
       "    }\n",
       "\n",
       "    .dataframe thead th {\n",
       "        text-align: right;\n",
       "    }\n",
       "</style>\n",
       "<table border=\"1\" class=\"dataframe\">\n",
       "  <thead>\n",
       "    <tr style=\"text-align: right;\">\n",
       "      <th></th>\n",
       "      <th>id</th>\n",
       "      <th>f0</th>\n",
       "      <th>f1</th>\n",
       "      <th>f2</th>\n",
       "      <th>product</th>\n",
       "    </tr>\n",
       "  </thead>\n",
       "  <tbody>\n",
       "    <tr>\n",
       "      <td>0</td>\n",
       "      <td>kBEdx</td>\n",
       "      <td>-15.00</td>\n",
       "      <td>-8.28</td>\n",
       "      <td>-0.01</td>\n",
       "      <td>3.18</td>\n",
       "    </tr>\n",
       "    <tr>\n",
       "      <td>1</td>\n",
       "      <td>62mP7</td>\n",
       "      <td>14.27</td>\n",
       "      <td>-3.48</td>\n",
       "      <td>1.00</td>\n",
       "      <td>26.95</td>\n",
       "    </tr>\n",
       "    <tr>\n",
       "      <td>2</td>\n",
       "      <td>vyE1P</td>\n",
       "      <td>6.26</td>\n",
       "      <td>-5.95</td>\n",
       "      <td>5.00</td>\n",
       "      <td>134.77</td>\n",
       "    </tr>\n",
       "    <tr>\n",
       "      <td>3</td>\n",
       "      <td>KcrkZ</td>\n",
       "      <td>-13.08</td>\n",
       "      <td>-11.51</td>\n",
       "      <td>5.00</td>\n",
       "      <td>137.95</td>\n",
       "    </tr>\n",
       "    <tr>\n",
       "      <td>4</td>\n",
       "      <td>AHL4O</td>\n",
       "      <td>12.70</td>\n",
       "      <td>-8.15</td>\n",
       "      <td>5.00</td>\n",
       "      <td>134.77</td>\n",
       "    </tr>\n",
       "  </tbody>\n",
       "</table>\n",
       "</div>"
      ],
      "text/plain": [
       "      id     f0     f1    f2  product\n",
       "0  kBEdx -15.00  -8.28 -0.01     3.18\n",
       "1  62mP7  14.27  -3.48  1.00    26.95\n",
       "2  vyE1P   6.26  -5.95  5.00   134.77\n",
       "3  KcrkZ -13.08 -11.51  5.00   137.95\n",
       "4  AHL4O  12.70  -8.15  5.00   134.77"
      ]
     },
     "execution_count": 5,
     "metadata": {},
     "output_type": "execute_result"
    }
   ],
   "source": [
    "data_2 = pd.read_csv('/datasets/geo_data_1.csv')\n",
    "print(data_2.shape)\n",
    "data_2.head()"
   ]
  },
  {
   "cell_type": "code",
   "execution_count": 6,
   "metadata": {},
   "outputs": [
    {
     "name": "stdout",
     "output_type": "stream",
     "text": [
      "(100000, 5)\n"
     ]
    },
    {
     "data": {
      "text/html": [
       "<div>\n",
       "<style scoped>\n",
       "    .dataframe tbody tr th:only-of-type {\n",
       "        vertical-align: middle;\n",
       "    }\n",
       "\n",
       "    .dataframe tbody tr th {\n",
       "        vertical-align: top;\n",
       "    }\n",
       "\n",
       "    .dataframe thead th {\n",
       "        text-align: right;\n",
       "    }\n",
       "</style>\n",
       "<table border=\"1\" class=\"dataframe\">\n",
       "  <thead>\n",
       "    <tr style=\"text-align: right;\">\n",
       "      <th></th>\n",
       "      <th>id</th>\n",
       "      <th>f0</th>\n",
       "      <th>f1</th>\n",
       "      <th>f2</th>\n",
       "      <th>product</th>\n",
       "    </tr>\n",
       "  </thead>\n",
       "  <tbody>\n",
       "    <tr>\n",
       "      <td>0</td>\n",
       "      <td>fwXo0</td>\n",
       "      <td>-1.15</td>\n",
       "      <td>0.96</td>\n",
       "      <td>-0.83</td>\n",
       "      <td>27.76</td>\n",
       "    </tr>\n",
       "    <tr>\n",
       "      <td>1</td>\n",
       "      <td>WJtFt</td>\n",
       "      <td>0.26</td>\n",
       "      <td>0.27</td>\n",
       "      <td>-2.53</td>\n",
       "      <td>56.07</td>\n",
       "    </tr>\n",
       "    <tr>\n",
       "      <td>2</td>\n",
       "      <td>ovLUW</td>\n",
       "      <td>0.19</td>\n",
       "      <td>0.29</td>\n",
       "      <td>-5.59</td>\n",
       "      <td>62.87</td>\n",
       "    </tr>\n",
       "    <tr>\n",
       "      <td>3</td>\n",
       "      <td>q6cA6</td>\n",
       "      <td>2.24</td>\n",
       "      <td>-0.55</td>\n",
       "      <td>0.93</td>\n",
       "      <td>114.57</td>\n",
       "    </tr>\n",
       "    <tr>\n",
       "      <td>4</td>\n",
       "      <td>WPMUX</td>\n",
       "      <td>-0.52</td>\n",
       "      <td>1.72</td>\n",
       "      <td>5.90</td>\n",
       "      <td>149.60</td>\n",
       "    </tr>\n",
       "  </tbody>\n",
       "</table>\n",
       "</div>"
      ],
      "text/plain": [
       "      id    f0    f1    f2  product\n",
       "0  fwXo0 -1.15  0.96 -0.83    27.76\n",
       "1  WJtFt  0.26  0.27 -2.53    56.07\n",
       "2  ovLUW  0.19  0.29 -5.59    62.87\n",
       "3  q6cA6  2.24 -0.55  0.93   114.57\n",
       "4  WPMUX -0.52  1.72  5.90   149.60"
      ]
     },
     "execution_count": 6,
     "metadata": {},
     "output_type": "execute_result"
    }
   ],
   "source": [
    "data_3 = pd.read_csv('/datasets/geo_data_2.csv')\n",
    "print(data_3.shape)\n",
    "data_3.head()"
   ]
  },
  {
   "cell_type": "markdown",
   "metadata": {},
   "source": [
    "Функция для ознакомления с данными"
   ]
  },
  {
   "cell_type": "code",
   "execution_count": 7,
   "metadata": {},
   "outputs": [],
   "source": [
    "def first_glance(data):\n",
    "    data.info()\n",
    "    print()\n",
    "    print(data[data.columns[0]].value_counts())\n",
    "    print()\n",
    "    print(data.describe())\n",
    "    print()\n",
    "    print(data.corr())\n",
    "    sns.boxplot(y=data['product'])\n",
    "    plt.show()"
   ]
  },
  {
   "cell_type": "code",
   "execution_count": 8,
   "metadata": {
    "scrolled": true
   },
   "outputs": [
    {
     "name": "stdout",
     "output_type": "stream",
     "text": [
      "<class 'pandas.core.frame.DataFrame'>\n",
      "RangeIndex: 100000 entries, 0 to 99999\n",
      "Data columns (total 5 columns):\n",
      "id         100000 non-null object\n",
      "f0         100000 non-null float64\n",
      "f1         100000 non-null float64\n",
      "f2         100000 non-null float64\n",
      "product    100000 non-null float64\n",
      "dtypes: float64(4), object(1)\n",
      "memory usage: 3.8+ MB\n",
      "\n",
      "74z30    2\n",
      "A5aEY    2\n",
      "QcMuo    2\n",
      "Tdehs    2\n",
      "bsk9y    2\n",
      "        ..\n",
      "bdy9X    1\n",
      "Onsqg    1\n",
      "t35fo    1\n",
      "hL8qG    1\n",
      "HeLjD    1\n",
      "Name: id, Length: 99990, dtype: int64\n",
      "\n",
      "              f0         f1         f2    product\n",
      "count 100,000.00 100,000.00 100,000.00 100,000.00\n",
      "mean        0.50       0.25       2.50      92.50\n",
      "std         0.87       0.50       3.25      44.29\n",
      "min        -1.41      -0.85     -12.09       0.00\n",
      "25%        -0.07      -0.20       0.29      56.50\n",
      "50%         0.50       0.25       2.52      91.85\n",
      "75%         1.07       0.70       4.72     128.56\n",
      "max         2.36       1.34      16.00     185.36\n",
      "\n",
      "           f0    f1    f2  product\n",
      "f0       1.00 -0.44 -0.00     0.14\n",
      "f1      -0.44  1.00  0.00    -0.19\n",
      "f2      -0.00  0.00  1.00     0.48\n",
      "product  0.14 -0.19  0.48     1.00\n"
     ]
    },
    {
     "data": {
      "image/png": "[encoded data removed]",
      "text/plain": [
       "<Figure size 432x288 with 1 Axes>"
      ]
     },
     "metadata": {
      "needs_background": "light"
     },
     "output_type": "display_data"
    }
   ],
   "source": [
    "first_glance(data_1)"
   ]
  },
  {
   "cell_type": "code",
   "execution_count": 9,
   "metadata": {},
   "outputs": [
    {
     "data": {
      "text/html": [
       "<div>\n",
       "<style scoped>\n",
       "    .dataframe tbody tr th:only-of-type {\n",
       "        vertical-align: middle;\n",
       "    }\n",
       "\n",
       "    .dataframe tbody tr th {\n",
       "        vertical-align: top;\n",
       "    }\n",
       "\n",
       "    .dataframe thead th {\n",
       "        text-align: right;\n",
       "    }\n",
       "</style>\n",
       "<table border=\"1\" class=\"dataframe\">\n",
       "  <thead>\n",
       "    <tr style=\"text-align: right;\">\n",
       "      <th></th>\n",
       "      <th>id</th>\n",
       "      <th>f0</th>\n",
       "      <th>f1</th>\n",
       "      <th>f2</th>\n",
       "      <th>product</th>\n",
       "    </tr>\n",
       "  </thead>\n",
       "  <tbody>\n",
       "    <tr>\n",
       "      <td>1949</td>\n",
       "      <td>QcMuo</td>\n",
       "      <td>0.51</td>\n",
       "      <td>-0.32</td>\n",
       "      <td>-2.22</td>\n",
       "      <td>75.50</td>\n",
       "    </tr>\n",
       "    <tr>\n",
       "      <td>63593</td>\n",
       "      <td>QcMuo</td>\n",
       "      <td>0.64</td>\n",
       "      <td>-0.47</td>\n",
       "      <td>0.86</td>\n",
       "      <td>64.58</td>\n",
       "    </tr>\n",
       "  </tbody>\n",
       "</table>\n",
       "</div>"
      ],
      "text/plain": [
       "          id   f0    f1    f2  product\n",
       "1949   QcMuo 0.51 -0.32 -2.22    75.50\n",
       "63593  QcMuo 0.64 -0.47  0.86    64.58"
      ]
     },
     "execution_count": 9,
     "metadata": {},
     "output_type": "execute_result"
    }
   ],
   "source": [
    "data_1[data_1['id'] == 'QcMuo']"
   ]
  },
  {
   "cell_type": "code",
   "execution_count": 10,
   "metadata": {},
   "outputs": [
    {
     "name": "stdout",
     "output_type": "stream",
     "text": [
      "<class 'pandas.core.frame.DataFrame'>\n",
      "RangeIndex: 100000 entries, 0 to 99999\n",
      "Data columns (total 5 columns):\n",
      "id         100000 non-null object\n",
      "f0         100000 non-null float64\n",
      "f1         100000 non-null float64\n",
      "f2         100000 non-null float64\n",
      "product    100000 non-null float64\n",
      "dtypes: float64(4), object(1)\n",
      "memory usage: 3.8+ MB\n",
      "\n",
      "5ltQ6    2\n",
      "wt4Uk    2\n",
      "LHZR0    2\n",
      "bfPNe    2\n",
      "BEh6E    1\n",
      "        ..\n",
      "v4sNV    1\n",
      "VENQZ    1\n",
      "YQfzc    1\n",
      "SFnat    1\n",
      "yklJh    1\n",
      "Name: id, Length: 99996, dtype: int64\n",
      "\n",
      "              f0         f1         f2    product\n",
      "count 100,000.00 100,000.00 100,000.00 100,000.00\n",
      "mean        1.14      -4.80       2.49      68.83\n",
      "std         8.97       5.12       1.70      45.94\n",
      "min       -31.61     -26.36      -0.02       0.00\n",
      "25%        -6.30      -8.27       1.00      26.95\n",
      "50%         1.15      -4.81       2.01      57.09\n",
      "75%         8.62      -1.33       4.00     107.81\n",
      "max        29.42      18.73       5.02     137.95\n",
      "\n",
      "           f0    f1    f2  product\n",
      "f0       1.00  0.18 -0.00    -0.03\n",
      "f1       0.18  1.00 -0.00    -0.01\n",
      "f2      -0.00 -0.00  1.00     1.00\n",
      "product -0.03 -0.01  1.00     1.00\n"
     ]
    },
    {
     "data": {
      "image/png": "[encoded data removed]",
      "text/plain": [
       "<Figure size 432x288 with 1 Axes>"
      ]
     },
     "metadata": {
      "needs_background": "light"
     },
     "output_type": "display_data"
    }
   ],
   "source": [
    "first_glance(data_2)"
   ]
  },
  {
   "cell_type": "code",
   "execution_count": 11,
   "metadata": {},
   "outputs": [
    {
     "data": {
      "image/png": "[encoded data removed]",
      "text/plain": [
       "<Figure size 432x288 with 1 Axes>"
      ]
     },
     "metadata": {
      "needs_background": "light"
     },
     "output_type": "display_data"
    }
   ],
   "source": [
    "scatter = sns.scatterplot(data_2['f2'], data_2['product'])\n",
    "scatter.axes.set_title('Корреляция столбцов \"f2\" и \"product\"')\n",
    "plt.show()"
   ]
  },
  {
   "cell_type": "code",
   "execution_count": 12,
   "metadata": {},
   "outputs": [
    {
     "name": "stdout",
     "output_type": "stream",
     "text": [
      "<class 'pandas.core.frame.DataFrame'>\n",
      "RangeIndex: 100000 entries, 0 to 99999\n",
      "Data columns (total 5 columns):\n",
      "id         100000 non-null object\n",
      "f0         100000 non-null float64\n",
      "f1         100000 non-null float64\n",
      "f2         100000 non-null float64\n",
      "product    100000 non-null float64\n",
      "dtypes: float64(4), object(1)\n",
      "memory usage: 3.8+ MB\n",
      "\n",
      "xCHr8    2\n",
      "Vcm5J    2\n",
      "VF7Jo    2\n",
      "KUPhW    2\n",
      "RSoEN    1\n",
      "        ..\n",
      "0TNKv    1\n",
      "oLncY    1\n",
      "COfBs    1\n",
      "2VJ0O    1\n",
      "bV5MR    1\n",
      "Name: id, Length: 99996, dtype: int64\n",
      "\n",
      "              f0         f1         f2    product\n",
      "count 100,000.00 100,000.00 100,000.00 100,000.00\n",
      "mean        0.00      -0.00       2.50      95.00\n",
      "std         1.73       1.73       3.47      44.75\n",
      "min        -8.76      -7.08     -11.97       0.00\n",
      "25%        -1.16      -1.17       0.13      59.45\n",
      "50%         0.01      -0.01       2.48      94.93\n",
      "75%         1.16       1.16       4.86     130.60\n",
      "max         7.24       7.84      16.74     190.03\n",
      "\n",
      "           f0    f1    f2  product\n",
      "f0       1.00  0.00 -0.00    -0.00\n",
      "f1       0.00  1.00  0.00    -0.00\n",
      "f2      -0.00  0.00  1.00     0.45\n",
      "product -0.00 -0.00  0.45     1.00\n"
     ]
    },
    {
     "data": {
      "image/png": "[encoded data removed]",
      "text/plain": [
       "<Figure size 432x288 with 1 Axes>"
      ]
     },
     "metadata": {
      "needs_background": "light"
     },
     "output_type": "display_data"
    }
   ],
   "source": [
    "first_glance(data_3)"
   ]
  },
  {
   "cell_type": "markdown",
   "metadata": {},
   "source": [
    "### Вывод"
   ]
  },
  {
   "cell_type": "markdown",
   "metadata": {},
   "source": [
    "1. Пропущенные значения отсутствуют\n",
    "2. Сильной взаимосвязи, которая могла негативно повлять на работу модели, между признаками не выявлено\n",
    "3. Однако, существует положительная прямая корреляция между столбцами f2 и product"
   ]
  },
  {
   "cell_type": "markdown",
   "metadata": {},
   "source": [
    "## Обучение и проверка модели"
   ]
  },
  {
   "cell_type": "markdown",
   "metadata": {},
   "source": [
    "Функция, выполняющая предсказания:\n",
    "1. на вход получает таблицу с данными и номер региона\n",
    "2. разбивает на обучающую и валидационную выборки\n",
    "3. с помощью модели Линейной регрессии выполняет предсказания объема запасов сырья в скважинах\n",
    "4. выполняет масштабирование признаков\n",
    "5. печатает средний объем запасов сырья в скважинах по региону, а также rmse модели\n",
    "6. возвращает массив предсказаний, целевые значения валидационной выборки и средний объем запасов сырья в скважинах по региону"
   ]
  },
  {
   "cell_type": "code",
   "execution_count": 13,
   "metadata": {},
   "outputs": [],
   "source": [
    "scaler = StandardScaler()"
   ]
  },
  {
   "cell_type": "code",
   "execution_count": 14,
   "metadata": {},
   "outputs": [],
   "source": [
    "def predictions(data, number):\n",
    "#     if number == 2:\n",
    "#         features = data.drop(['product', 'id','f2'], axis=1)\n",
    "#         target = data['product']\n",
    "#     else:\n",
    "#         features = data.drop(['product', 'id'], axis=1)\n",
    "#         target = data['product']\n",
    "        \n",
    "    features = data.drop(['product', 'id'], axis=1)\n",
    "    target = data['product']\n",
    "    \n",
    "    features_train, features_valid, target_train, target_valid = train_test_split(\n",
    "    features, target, test_size=0.25, random_state=12345\n",
    "    )\n",
    "    \n",
    "    print(f'Обучающая выборка: ',features_train.shape, target_train.shape)\n",
    "    print(f'Валидационная выборка: ', features_valid.shape, target_valid.shape)\n",
    "    print()\n",
    "    \n",
    "    model = LinearRegression()\n",
    "    model.fit(features_train, target_train)\n",
    "    predictions_valid = model.predict(features_valid)\n",
    "    product_mean = predictions_valid.mean()\n",
    "    rmse = np.sqrt(mean_squared_error(target_valid, predictions_valid))\n",
    "    \n",
    "    print(f'Средний запас предсказанного сырья (Регион {number}): {product_mean}')\n",
    "    print(f'RMSE модели: {rmse}')\n",
    "    print()\n",
    "    \n",
    "    scaler.fit(features_train)\n",
    "    features_target_scaled = scaler.transform(features_train)\n",
    "    features_valid_scaled = scaler.transform(features_valid)\n",
    "    \n",
    "    model = LinearRegression()\n",
    "    model.fit(features_target_scaled, target_train)\n",
    "    predictions_valid_scaled = model.predict(features_valid_scaled)\n",
    "    product_mean_scaled = predictions_valid_scaled.mean()\n",
    "    rmse_scaled = np.sqrt(mean_squared_error(target_valid, predictions_valid_scaled))\n",
    "\n",
    "    print(f'Средний запас предсказанного сырья (масштабированные признаки): {product_mean_scaled}')\n",
    "    print(f'RMSE модели (масштабированные признаки): {rmse_scaled}')\n",
    "    \n",
    "    return predictions_valid, target_valid, product_mean"
   ]
  },
  {
   "cell_type": "code",
   "execution_count": 15,
   "metadata": {},
   "outputs": [
    {
     "name": "stdout",
     "output_type": "stream",
     "text": [
      "Обучающая выборка:  (75000, 3) (75000,)\n",
      "Валидационная выборка:  (25000, 3) (25000,)\n",
      "\n",
      "Средний запас предсказанного сырья (Регион 1): 92.59256778438038\n",
      "RMSE модели: 37.5794217150813\n",
      "\n",
      "Средний запас предсказанного сырья (масштабированные признаки): 92.59256778438038\n",
      "RMSE модели (масштабированные признаки): 37.5794217150813\n"
     ]
    }
   ],
   "source": [
    "predictions_valid_1, target_valid_1, product_mean_1 = predictions(data_1, 1)"
   ]
  },
  {
   "cell_type": "code",
   "execution_count": 16,
   "metadata": {
    "scrolled": false
   },
   "outputs": [
    {
     "name": "stdout",
     "output_type": "stream",
     "text": [
      "Обучающая выборка:  (75000, 3) (75000,)\n",
      "Валидационная выборка:  (25000, 3) (25000,)\n",
      "\n",
      "Средний запас предсказанного сырья (Регион 2): 68.728546895446\n",
      "RMSE модели: 0.893099286775616\n",
      "\n",
      "Средний запас предсказанного сырья (масштабированные признаки): 68.728546895446\n",
      "RMSE модели (масштабированные признаки): 0.8930992867756158\n"
     ]
    }
   ],
   "source": [
    "predictions_valid_2, target_valid_2, product_mean_2 = predictions(data_2, 2)"
   ]
  },
  {
   "cell_type": "code",
   "execution_count": 17,
   "metadata": {},
   "outputs": [
    {
     "name": "stdout",
     "output_type": "stream",
     "text": [
      "Обучающая выборка:  (75000, 3) (75000,)\n",
      "Валидационная выборка:  (25000, 3) (25000,)\n",
      "\n",
      "Средний запас предсказанного сырья (Регион 3): 94.96504596800489\n",
      "RMSE модели: 40.02970873393434\n",
      "\n",
      "Средний запас предсказанного сырья (масштабированные признаки): 94.96504596800489\n",
      "RMSE модели (масштабированные признаки): 40.02970873393434\n"
     ]
    }
   ],
   "source": [
    "predictions_valid_3, target_valid_3, product_mean_3 = predictions(data_3, 3)"
   ]
  },
  {
   "cell_type": "markdown",
   "metadata": {},
   "source": [
    "Функция по преверки модели на адекватность:\n",
    "1. на вход получает таблицу с данными и номер региона\n",
    "2. разбивает на обучающую и валидационную выборки\n",
    "3. выполняет предсказания объема запасов сырья в скважинах случаным образом\n",
    "4. печатает средний объем запасов сырья в скважинах по региону, средний запас сырья по целевой выборке, а также rmse модели\n",
    "5. возвращает средний объем запасов сырья в скважинах по региону и средний запас сырья по целевой выборке"
   ]
  },
  {
   "cell_type": "code",
   "execution_count": 18,
   "metadata": {},
   "outputs": [],
   "source": [
    "def check_relevance(data, number):\n",
    "    features = data.drop(['product', 'id'], axis=1)\n",
    "    target = data['product']\n",
    "    \n",
    "    features_train, features_valid, target_train, target_valid = train_test_split(\n",
    "    features, target, test_size=0.25, random_state=12345\n",
    "    )\n",
    "    \n",
    "    model = DummyRegressor()#strategy='mean')\n",
    "    model.fit(features_train, target_train)\n",
    "    predictions_valid = model.predict(features_valid)\n",
    "    product_mean_dummy = predictions_valid.mean()\n",
    "    product_mean_target = target_valid.mean()\n",
    "    rmse = np.sqrt(mean_squared_error(target_valid, predictions_valid))\n",
    "    \n",
    "    print(f'Средний запас случайно предсказанного сырья (Регион {number}): {product_mean_dummy}')\n",
    "    print(f'Средний запас (целевой): {product_mean_target}')\n",
    "    print(f'RMSE случайной модели: {rmse}')\n",
    "    \n",
    "    return product_mean_dummy, product_mean_target"
   ]
  },
  {
   "cell_type": "code",
   "execution_count": 19,
   "metadata": {},
   "outputs": [
    {
     "name": "stdout",
     "output_type": "stream",
     "text": [
      "Средний запас случайно предсказанного сырья (Регион 1): 92.64046775305694\n",
      "Средний запас (целевой): 92.07859674082927\n",
      "RMSE случайной модели: 44.289591053907365\n"
     ]
    }
   ],
   "source": [
    "product_mean_dummy_1, product_mean_target_1 = check_relevance(data_1, 1)"
   ]
  },
  {
   "cell_type": "code",
   "execution_count": 20,
   "metadata": {},
   "outputs": [
    {
     "name": "stdout",
     "output_type": "stream",
     "text": [
      "Средний запас случайно предсказанного сырья (Регион 2): 68.85895465854665\n",
      "Средний запас (целевой): 68.72313602435997\n",
      "RMSE случайной модели: 46.02144533725462\n"
     ]
    }
   ],
   "source": [
    "product_mean_dummy_2, product_mean_target_2 = check_relevance(data_2, 2)"
   ]
  },
  {
   "cell_type": "code",
   "execution_count": 21,
   "metadata": {},
   "outputs": [
    {
     "name": "stdout",
     "output_type": "stream",
     "text": [
      "Средний запас случайно предсказанного сырья (Регион 3): 95.03858906371526\n",
      "Средний запас (целевой): 94.88423280885438\n",
      "RMSE случайной модели: 44.90234968510566\n"
     ]
    }
   ],
   "source": [
    "product_mean_dummy_3, product_mean_target_3 = check_relevance(data_3, 3)"
   ]
  },
  {
   "cell_type": "code",
   "execution_count": 22,
   "metadata": {},
   "outputs": [
    {
     "data": {
      "text/html": [
       "<div>\n",
       "<style scoped>\n",
       "    .dataframe tbody tr th:only-of-type {\n",
       "        vertical-align: middle;\n",
       "    }\n",
       "\n",
       "    .dataframe tbody tr th {\n",
       "        vertical-align: top;\n",
       "    }\n",
       "\n",
       "    .dataframe thead th {\n",
       "        text-align: right;\n",
       "    }\n",
       "</style>\n",
       "<table border=\"1\" class=\"dataframe\">\n",
       "  <thead>\n",
       "    <tr style=\"text-align: right;\">\n",
       "      <th></th>\n",
       "      <th>Средний запас сырья</th>\n",
       "      <th>Регион_1</th>\n",
       "      <th>Регион_2</th>\n",
       "      <th>Регион_3</th>\n",
       "    </tr>\n",
       "  </thead>\n",
       "  <tbody>\n",
       "    <tr>\n",
       "      <td>0</td>\n",
       "      <td>Целевой</td>\n",
       "      <td>92.08</td>\n",
       "      <td>68.72</td>\n",
       "      <td>94.88</td>\n",
       "    </tr>\n",
       "    <tr>\n",
       "      <td>1</td>\n",
       "      <td>Предсказанный</td>\n",
       "      <td>92.59</td>\n",
       "      <td>68.73</td>\n",
       "      <td>94.97</td>\n",
       "    </tr>\n",
       "    <tr>\n",
       "      <td>2</td>\n",
       "      <td>Случайный</td>\n",
       "      <td>92.64</td>\n",
       "      <td>68.86</td>\n",
       "      <td>95.04</td>\n",
       "    </tr>\n",
       "  </tbody>\n",
       "</table>\n",
       "</div>"
      ],
      "text/plain": [
       "  Средний запас сырья  Регион_1  Регион_2  Регион_3\n",
       "0             Целевой     92.08     68.72     94.88\n",
       "1       Предсказанный     92.59     68.73     94.97\n",
       "2           Случайный     92.64     68.86     95.04"
      ]
     },
     "execution_count": 22,
     "metadata": {},
     "output_type": "execute_result"
    }
   ],
   "source": [
    "ratio = pd.DataFrame([\n",
    "    ['Целевой', product_mean_target_1, product_mean_target_2, product_mean_target_3],\n",
    "    ['Предсказанный', product_mean_1, product_mean_2, product_mean_3],\n",
    "    ['Случайный', product_mean_dummy_1, product_mean_dummy_2, product_mean_dummy_3]\n",
    "],columns=['Средний запас сырья', 'Регион_1', 'Регион_2', 'Регион_3']\n",
    ")\n",
    "ratio"
   ]
  },
  {
   "cell_type": "markdown",
   "metadata": {},
   "source": [
    "### Вывод"
   ]
  },
  {
   "cell_type": "markdown",
   "metadata": {},
   "source": [
    "1. По среднему объему сырья в скважинах, предсказанному моделью, лидируют регионы 1 и 3. В регионе 2 средние запасы значительно меньше\n",
    "2. Масштабирование признаков с помощью стандартизации данных не улучшило алгоритм модели\n",
    "3. Модель Линейной Регрессии точнее предсказала средний объем сырья, чем случайная модель, хотя разница очень незначительная"
   ]
  },
  {
   "cell_type": "markdown",
   "metadata": {},
   "source": [
    "## Подготовка к расчёту прибыли"
   ]
  },
  {
   "cell_type": "markdown",
   "metadata": {},
   "source": [
    "Сохраняем постоянные значения в переменных:\n",
    "- расходы (бюджет на разработку), тыс. рублей;\n",
    "- доход от баррелей, тыс. рублей;\n",
    "- всего мест для исследования, шт.;\n",
    "- кол-во выбранных (лучших) мест для разведки, шт. "
   ]
  },
  {
   "cell_type": "code",
   "execution_count": 23,
   "metadata": {},
   "outputs": [],
   "source": [
    "expenses = 10000000\n",
    "revenue_barrels = 450\n",
    "all_places = 500\n",
    "amount_places = 200"
   ]
  },
  {
   "cell_type": "code",
   "execution_count": 24,
   "metadata": {},
   "outputs": [
    {
     "name": "stdout",
     "output_type": "stream",
     "text": [
      "Объём сырья для безубыточной разработки новой скважины: не менее 22'222 тыс. баррелей\n"
     ]
    }
   ],
   "source": [
    "min_amount_barrels = np.round(expenses / revenue_barrels)\n",
    "print('Объём сырья для безубыточной разработки новой скважины: не менее {:,.0f} тыс. баррелей'.format(\n",
    "    min_amount_barrels).replace(\",\", \"'\")\n",
    "     )"
   ]
  },
  {
   "cell_type": "code",
   "execution_count": 25,
   "metadata": {},
   "outputs": [
    {
     "name": "stdout",
     "output_type": "stream",
     "text": [
      "Средний запас сырья в Регионе 1 (для 200 скважин): 18'519 тыс. баррелей\n"
     ]
    }
   ],
   "source": [
    "barrels_1 = np.round(product_mean_1 * amount_places)\n",
    "print('Средний запас сырья в Регионе 1 (для 200 скважин): {:,.0f} тыс. баррелей'.format(\n",
    "    barrels_1).replace(\",\", \"'\")\n",
    "     )"
   ]
  },
  {
   "cell_type": "code",
   "execution_count": 26,
   "metadata": {},
   "outputs": [
    {
     "name": "stdout",
     "output_type": "stream",
     "text": [
      "Средний запас сырья в Регионе 1 (для 200 скважин): 13'746 тыс. баррелей\n"
     ]
    }
   ],
   "source": [
    "barrels_2 = np.round(product_mean_2 * amount_places)\n",
    "print('Средний запас сырья в Регионе 1 (для 200 скважин): {:,.0f} тыс. баррелей'.format(\n",
    "    barrels_2).replace(\",\", \"'\")\n",
    "     )"
   ]
  },
  {
   "cell_type": "code",
   "execution_count": 27,
   "metadata": {},
   "outputs": [
    {
     "name": "stdout",
     "output_type": "stream",
     "text": [
      "Средний запас сырья в Регионе 1 (для 200 скважин): 18'993 тыс. баррелей\n"
     ]
    }
   ],
   "source": [
    "barrels_3 = np.round(product_mean_3 * amount_places)\n",
    "print('Средний запас сырья в Регионе 1 (для 200 скважин): {:,.0f} тыс. баррелей'.format(\n",
    "    barrels_3).replace(\",\", \"'\")\n",
    "     )"
   ]
  },
  {
   "cell_type": "code",
   "execution_count": 28,
   "metadata": {},
   "outputs": [
    {
     "data": {
      "text/html": [
       "<div>\n",
       "<style scoped>\n",
       "    .dataframe tbody tr th:only-of-type {\n",
       "        vertical-align: middle;\n",
       "    }\n",
       "\n",
       "    .dataframe tbody tr th {\n",
       "        vertical-align: top;\n",
       "    }\n",
       "\n",
       "    .dataframe thead th {\n",
       "        text-align: right;\n",
       "    }\n",
       "</style>\n",
       "<table border=\"1\" class=\"dataframe\">\n",
       "  <thead>\n",
       "    <tr style=\"text-align: right;\">\n",
       "      <th></th>\n",
       "      <th>Регион</th>\n",
       "      <th>Средний запас сырья, тыс. барр.</th>\n",
       "      <th>Безубыточной запас сырья, тыс. барр.</th>\n",
       "    </tr>\n",
       "  </thead>\n",
       "  <tbody>\n",
       "    <tr>\n",
       "      <td>0</td>\n",
       "      <td>Регион 1</td>\n",
       "      <td>18,519.00</td>\n",
       "      <td>22,222.00</td>\n",
       "    </tr>\n",
       "    <tr>\n",
       "      <td>1</td>\n",
       "      <td>Регион 2</td>\n",
       "      <td>13,746.00</td>\n",
       "      <td>22,222.00</td>\n",
       "    </tr>\n",
       "    <tr>\n",
       "      <td>2</td>\n",
       "      <td>Регион 3</td>\n",
       "      <td>18,993.00</td>\n",
       "      <td>22,222.00</td>\n",
       "    </tr>\n",
       "  </tbody>\n",
       "</table>\n",
       "</div>"
      ],
      "text/plain": [
       "     Регион  Средний запас сырья, тыс. барр.  \\\n",
       "0  Регион 1                        18,519.00   \n",
       "1  Регион 2                        13,746.00   \n",
       "2  Регион 3                        18,993.00   \n",
       "\n",
       "   Безубыточной запас сырья, тыс. барр.  \n",
       "0                             22,222.00  \n",
       "1                             22,222.00  \n",
       "2                             22,222.00  "
      ]
     },
     "execution_count": 28,
     "metadata": {},
     "output_type": "execute_result"
    }
   ],
   "source": [
    "pd.DataFrame([\n",
    "    ['Регион 1', barrels_1, min_amount_barrels],\n",
    "    ['Регион 2', barrels_2, min_amount_barrels],\n",
    "    ['Регион 3', barrels_3, min_amount_barrels]],\n",
    "    columns=['Регион', 'Средний запас сырья, тыс. барр.', 'Безубыточной запас сырья, тыс. барр.']\n",
    ")"
   ]
  },
  {
   "cell_type": "markdown",
   "metadata": {},
   "source": [
    "### Вывод:\n",
    "1. для безубыточной разработки новой скважины в регионе требуется не менее 22 222 тыс. баррелей\n",
    "2. среднего запаса сырья по региону не достаточно для безубыточной разработки\n",
    "3. в Регионе 2 наименьший средний запас сырья"
   ]
  },
  {
   "cell_type": "markdown",
   "metadata": {},
   "source": [
    "## Расчёт прибыли для регионов"
   ]
  },
  {
   "cell_type": "markdown",
   "metadata": {},
   "source": [
    "Функция по расчету прибыли в топ-200 сважин с наибольшим запасом сырья:\n",
    "1. принимает предсказания, целевые значения, номер региона\n",
    "2. сортирует предсказания по убыванию (предсказания)\n",
    "3. суммирует запасы сырья из топ-200 сважин (целевая выборка)\n",
    "4. рассчитывает ожидаемую прибыль"
   ]
  },
  {
   "cell_type": "code",
   "execution_count": 29,
   "metadata": {},
   "outputs": [],
   "source": [
    "def count_profit(predictions, target, region):\n",
    "    predictions_sorted = (pd.Series(predictions).sort_values(ascending=False))\n",
    "    \n",
    "    target = target.reset_index(drop=True)\n",
    "    barrels = (target[predictions_sorted.index][:amount_places]).sum()\n",
    "    profit_expected = barrels * revenue_barrels - expenses\n",
    "    \n",
    "    print('Ожидаемая прибыль (убыток) в Регионе {}: {:,.0f} тыс. руб.'.format(region, profit_expected).replace(\",\", \"'\"))\n",
    "    return profit_expected.round()"
   ]
  },
  {
   "cell_type": "code",
   "execution_count": 30,
   "metadata": {},
   "outputs": [
    {
     "name": "stdout",
     "output_type": "stream",
     "text": [
      "Ожидаемая прибыль (убыток) в Регионе 1: 3'320'826 тыс. руб.\n"
     ]
    }
   ],
   "source": [
    "profit_expected_1 = count_profit(predictions_valid_1, target_valid_1, 1)"
   ]
  },
  {
   "cell_type": "code",
   "execution_count": 31,
   "metadata": {},
   "outputs": [
    {
     "name": "stdout",
     "output_type": "stream",
     "text": [
      "Ожидаемая прибыль (убыток) в Регионе 2: 2'415'087 тыс. руб.\n"
     ]
    }
   ],
   "source": [
    "profit_expected_2 = count_profit(predictions_valid_2, target_valid_2, 2)"
   ]
  },
  {
   "cell_type": "code",
   "execution_count": 32,
   "metadata": {},
   "outputs": [
    {
     "name": "stdout",
     "output_type": "stream",
     "text": [
      "Ожидаемая прибыль (убыток) в Регионе 3: 2'710'350 тыс. руб.\n"
     ]
    }
   ],
   "source": [
    "profit_expected_3 = count_profit(predictions_valid_3, target_valid_3, 3)"
   ]
  },
  {
   "cell_type": "code",
   "execution_count": 33,
   "metadata": {},
   "outputs": [
    {
     "data": {
      "text/html": [
       "<div>\n",
       "<style scoped>\n",
       "    .dataframe tbody tr th:only-of-type {\n",
       "        vertical-align: middle;\n",
       "    }\n",
       "\n",
       "    .dataframe tbody tr th {\n",
       "        vertical-align: top;\n",
       "    }\n",
       "\n",
       "    .dataframe thead th {\n",
       "        text-align: right;\n",
       "    }\n",
       "</style>\n",
       "<table border=\"1\" class=\"dataframe\">\n",
       "  <thead>\n",
       "    <tr style=\"text-align: right;\">\n",
       "      <th></th>\n",
       "      <th>Регион</th>\n",
       "      <th>Ожидаемая прибыль (убыток) (тыс. руб)</th>\n",
       "    </tr>\n",
       "  </thead>\n",
       "  <tbody>\n",
       "    <tr>\n",
       "      <td>0</td>\n",
       "      <td>Регион 1</td>\n",
       "      <td>3,320,826.00</td>\n",
       "    </tr>\n",
       "    <tr>\n",
       "      <td>1</td>\n",
       "      <td>Регион 2</td>\n",
       "      <td>2,415,087.00</td>\n",
       "    </tr>\n",
       "    <tr>\n",
       "      <td>2</td>\n",
       "      <td>Регион 3</td>\n",
       "      <td>2,710,350.00</td>\n",
       "    </tr>\n",
       "  </tbody>\n",
       "</table>\n",
       "</div>"
      ],
      "text/plain": [
       "     Регион  Ожидаемая прибыль (убыток) (тыс. руб)\n",
       "0  Регион 1                           3,320,826.00\n",
       "1  Регион 2                           2,415,087.00\n",
       "2  Регион 3                           2,710,350.00"
      ]
     },
     "execution_count": 33,
     "metadata": {},
     "output_type": "execute_result"
    }
   ],
   "source": [
    "table = pd.DataFrame([\n",
    "    ['Регион 1', profit_expected_1],\n",
    "    \n",
    "    ['Регион 2', profit_expected_2],\n",
    "    \n",
    "    ['Регион 3', profit_expected_3],\n",
    "\n",
    "], \n",
    "    columns=['Регион', 'Ожидаемая прибыль (убыток) (тыс. руб)']\n",
    "    )\n",
    "table"
   ]
  },
  {
   "cell_type": "code",
   "execution_count": 34,
   "metadata": {},
   "outputs": [
    {
     "data": {
      "image/png": "[encoded data removed]",
      "text/plain": [
       "<Figure size 720x432 with 1 Axes>"
      ]
     },
     "metadata": {
      "needs_background": "light"
     },
     "output_type": "display_data"
    }
   ],
   "source": [
    "plt.figure(figsize=(10,6))\n",
    "barplot_1 = sns.barplot(x=table.iloc[:,0],y=table.iloc[:,1])\n",
    "barplot_1.axes.set_title('Ожидаемая прибыль (убыток) скважин с максимальными запасами по регионам в тыс. руб.')\n",
    "\n",
    "plt.show()"
   ]
  },
  {
   "cell_type": "markdown",
   "metadata": {},
   "source": [
    "### Вывод:   \n",
    "максимальная прибыль из топ-200 скважин ожидается в Регионе 1 со значительным отрывом, минимальная - в Регионе 2\n",
    " "
   ]
  },
  {
   "cell_type": "markdown",
   "metadata": {},
   "source": [
    "## Расчет рисков и прибыли для регионов"
   ]
  },
  {
   "cell_type": "code",
   "execution_count": 35,
   "metadata": {},
   "outputs": [],
   "source": [
    "state = np.random.RandomState(12345)"
   ]
  },
  {
   "cell_type": "markdown",
   "metadata": {},
   "source": [
    "Функция по определению рисков для регионов:\n",
    "1. принимает целевые значения, предсказания, номер региона\n",
    "2. циклом формирует 1000 случайных подвыборок - target_subsample (количество скважин равным 500 штук) из целевой выборки (target_valid)\n",
    "3. формирует подвыборку - prediction_subsample, соответствующую значениям целевой подвыборки, из массива предсказаний (predictions_valid)\n",
    "4. сортирует prediction_subsample по убыванию\n",
    "5. суммирует запасы сырья из топ-200 сважин (target_subsample)\n",
    "6. вычисляет и печатает: 2.5% и 97.5% перцентили, среднюю прибыль в регионе, вероятность убытка\n",
    "7. возвращает среднюю прибыль и 2.5%-перцентиль"
   ]
  },
  {
   "cell_type": "code",
   "execution_count": 36,
   "metadata": {},
   "outputs": [],
   "source": [
    "def bootstrap(target, predictions, region):\n",
    "    values=[]\n",
    "    loss_count=0\n",
    "    for i in range(1000):\n",
    "        target = target.reset_index(drop=True)\n",
    "        target_subsample = target.sample(\n",
    "            n = all_places,\n",
    "            replace = True,\n",
    "            random_state = state\n",
    "        )\n",
    "        \n",
    "        predictions = pd.Series(predictions)\n",
    "        prediction_subsample = predictions[target_subsample.index]\n",
    "        \n",
    "#         values.append(count_profit(prediction_subsample,target_subsample))\n",
    "        \n",
    "        prediction_sorted = prediction_subsample.sort_values(ascending=False)\n",
    "        barrels = target_subsample[prediction_sorted.index][:amount_places].sum()\n",
    "        profit_expected = barrels * revenue_barrels - expenses\n",
    "        if profit_expected < 0:\n",
    "            loss_count += 1\n",
    "        values.append(profit_expected)\n",
    "#         print('{:,.2f}'.format(profit_expected))\n",
    "    sns.boxplot(y=values)\n",
    "    plt.show()\n",
    "        \n",
    "    values = pd.Series(values)\n",
    "    lower_profit = values.quantile(q=0.025)\n",
    "    upper_profit = values.quantile(q=0.975)\n",
    "    mean_profit = values.mean()\n",
    "    prob_loss = loss_count / len(values)\n",
    "    \n",
    "    print('Средняя прибыль (убыток) в Регионе {} составила: {:,.0f} тыс. руб.'.format(region, mean_profit))\n",
    "    print('2.5%-квантиль: {:,.0f} тыс. руб.'.format(lower_profit))\n",
    "    print('97.5%-квантиль: {:,.0f} тыс. руб.'.format(upper_profit))\n",
    "    print('Вероятность убытка для Региона {}: {:.1%}'.format(region, prob_loss))\n",
    "    \n",
    "    return mean_profit.round(), np.round(lower_profit, decimals=0)"
   ]
  },
  {
   "cell_type": "code",
   "execution_count": 37,
   "metadata": {},
   "outputs": [
    {
     "data": {
      "image/png": "[encoded data removed]",
      "text/plain": [
       "<Figure size 432x288 with 1 Axes>"
      ]
     },
     "metadata": {
      "needs_background": "light"
     },
     "output_type": "display_data"
    },
    {
     "name": "stdout",
     "output_type": "stream",
     "text": [
      "Средняя прибыль (убыток) в Регионе 1 составила: 425,939 тыс. руб.\n",
      "2.5%-квантиль: -102,090 тыс. руб.\n",
      "97.5%-квантиль: 947,976 тыс. руб.\n",
      "Вероятность убытка для Региона 1: 6.0%\n"
     ]
    }
   ],
   "source": [
    "mean_profit_1, lower_profit_1 = bootstrap(target_valid_1, predictions_valid_1, 1)"
   ]
  },
  {
   "cell_type": "code",
   "execution_count": 38,
   "metadata": {},
   "outputs": [
    {
     "data": {
      "image/png": "[encoded data removed]",
      "text/plain": [
       "<Figure size 432x288 with 1 Axes>"
      ]
     },
     "metadata": {
      "needs_background": "light"
     },
     "output_type": "display_data"
    },
    {
     "name": "stdout",
     "output_type": "stream",
     "text": [
      "Средняя прибыль (убыток) в Регионе 2 составила: 518,259 тыс. руб.\n",
      "2.5%-квантиль: 128,123 тыс. руб.\n",
      "97.5%-квантиль: 953,613 тыс. руб.\n",
      "Вероятность убытка для Региона 2: 0.3%\n"
     ]
    }
   ],
   "source": [
    "mean_profit_2, lower_profit_2 = bootstrap(target_valid_2, predictions_valid_2, 2)"
   ]
  },
  {
   "cell_type": "code",
   "execution_count": 39,
   "metadata": {},
   "outputs": [
    {
     "data": {
      "image/png": "[encoded data removed]",
      "text/plain": [
       "<Figure size 432x288 with 1 Axes>"
      ]
     },
     "metadata": {
      "needs_background": "light"
     },
     "output_type": "display_data"
    },
    {
     "name": "stdout",
     "output_type": "stream",
     "text": [
      "Средняя прибыль (убыток) в Регионе 3 составила: 420,194 тыс. руб.\n",
      "2.5%-квантиль: -115,853 тыс. руб.\n",
      "97.5%-квантиль: 989,630 тыс. руб.\n",
      "Вероятность убытка для Региона 3: 6.2%\n"
     ]
    }
   ],
   "source": [
    "mean_profit_3, lower_profit_3 = bootstrap(target_valid_3, predictions_valid_3, 3)"
   ]
  },
  {
   "cell_type": "code",
   "execution_count": 40,
   "metadata": {},
   "outputs": [
    {
     "data": {
      "text/html": [
       "<div>\n",
       "<style scoped>\n",
       "    .dataframe tbody tr th:only-of-type {\n",
       "        vertical-align: middle;\n",
       "    }\n",
       "\n",
       "    .dataframe tbody tr th {\n",
       "        vertical-align: top;\n",
       "    }\n",
       "\n",
       "    .dataframe thead th {\n",
       "        text-align: right;\n",
       "    }\n",
       "</style>\n",
       "<table border=\"1\" class=\"dataframe\">\n",
       "  <thead>\n",
       "    <tr style=\"text-align: right;\">\n",
       "      <th></th>\n",
       "      <th>Регион</th>\n",
       "      <th>Средняя прибыль (убыток) (тыс. руб.)</th>\n",
       "      <th>2.5%-квантиль (тыс. руб.)</th>\n",
       "    </tr>\n",
       "  </thead>\n",
       "  <tbody>\n",
       "    <tr>\n",
       "      <td>0</td>\n",
       "      <td>Регион 1</td>\n",
       "      <td>425,939.00</td>\n",
       "      <td>-102,090.00</td>\n",
       "    </tr>\n",
       "    <tr>\n",
       "      <td>1</td>\n",
       "      <td>Регион 2</td>\n",
       "      <td>518,259.00</td>\n",
       "      <td>128,123.00</td>\n",
       "    </tr>\n",
       "    <tr>\n",
       "      <td>2</td>\n",
       "      <td>Регион 3</td>\n",
       "      <td>420,194.00</td>\n",
       "      <td>-115,853.00</td>\n",
       "    </tr>\n",
       "  </tbody>\n",
       "</table>\n",
       "</div>"
      ],
      "text/plain": [
       "     Регион  Средняя прибыль (убыток) (тыс. руб.)  2.5%-квантиль (тыс. руб.)\n",
       "0  Регион 1                            425,939.00                -102,090.00\n",
       "1  Регион 2                            518,259.00                 128,123.00\n",
       "2  Регион 3                            420,194.00                -115,853.00"
      ]
     },
     "execution_count": 40,
     "metadata": {},
     "output_type": "execute_result"
    }
   ],
   "source": [
    "results = pd.DataFrame([\n",
    "    ['Регион 1', mean_profit_1, lower_profit_1],\n",
    "    \n",
    "    ['Регион 2', mean_profit_2, lower_profit_2],\n",
    "    \n",
    "    ['Регион 3', mean_profit_3, lower_profit_3],\n",
    "\n",
    "], \n",
    "    columns=['Регион', 'Средняя прибыль (убыток) (тыс. руб.)', '2.5%-квантиль (тыс. руб.)']\n",
    "    )\n",
    "results"
   ]
  },
  {
   "cell_type": "code",
   "execution_count": 41,
   "metadata": {},
   "outputs": [
    {
     "data": {
      "image/png": "[encoded data removed]",
      "text/plain": [
       "<Figure size 720x432 with 1 Axes>"
      ]
     },
     "metadata": {
      "needs_background": "light"
     },
     "output_type": "display_data"
    }
   ],
   "source": [
    "plt.figure(figsize=(10,6))\n",
    "barplot_2 = sns.barplot(x=results.iloc[:,0],y=results.iloc[:,1])\n",
    "barplot_2.axes.set_title('Средняя прибыль (убыток) по регионам в тыс. руб.')\n",
    "\n",
    "plt.show()"
   ]
  },
  {
   "cell_type": "code",
   "execution_count": 42,
   "metadata": {},
   "outputs": [
    {
     "data": {
      "image/png": "[encoded data removed]",
      "text/plain": [
       "<Figure size 720x432 with 1 Axes>"
      ]
     },
     "metadata": {
      "needs_background": "light"
     },
     "output_type": "display_data"
    }
   ],
   "source": [
    "plt.figure(figsize=(10,6))\n",
    "barplot_3 = sns.barplot(x=results.iloc[:,0],y=results.iloc[:,2])\n",
    "barplot_3.axes.set_title('2.5%-квантиль по регионам в тыс. руб.')\n",
    "\n",
    "plt.show()"
   ]
  },
  {
   "cell_type": "markdown",
   "metadata": {},
   "source": [
    "### Вывод:\n",
    "1. при случайном формировании подвыборок с 500 скважинами, и выбирая из которых 200 скважин с наибольшими запасами сырья, наибольшую прибыль показывает Регион 2\n",
    "2. к тому же, только в Регионе 2 в 97.5% разведка принесет прибыль, а не убыток\n",
    "3. графики boxplot показывают, что для Региона 2 значения прибыли ниже нуля являются выбросами, то есть крайне редки. В регионах 1 и 3 значения прибыли ниже нуля входят в 1.5 межквартильных размаха, то есть частые значения"
   ]
  },
  {
   "cell_type": "markdown",
   "metadata": {},
   "source": [
    "## Общий вывод:\n",
    "1. получили таблицы с данными по трем регионам (уникальное значение скважины, признаки для обучения модели, запас сырья в скважине) с целью определить регион, где добыча принесёт наибольшую прибыль\n",
    "2. пропущенных значений и сильной корреляции признаков, негативно сказывающихся на обучении модели, не выявлено\n",
    "3. выявлено, что среднего запаса сырья в скважинах каждого региона не достаточно для преодоления безубыточности. При этом показатели Регионов 1 и 3 значительно выше показателей Региона 2\n",
    "4. при предварительном расчете прибыли в регионе по скважинам с максимальными запасами сырья лидирует Регион 1\n",
    "5. однако, формируя случайные выборки по скважинам 1000 раз, получение максимальной прибыли и безубыточности в 97.5% случаев гарантирует только Регион 2, вероятно, вызвано наличием в Регионах 1 и 3 малого количества скважин с большим количеством запасов сырья.   \n",
    "    На основании вышеизложенного, с целью получения максимальной прибыли и минимальной вероятности убытка для разведки предлагается Регион № 2."
   ]
  }
 ],
 "metadata": {
  "ExecuteTimeLog": [
   {
    "duration": 1424,
    "start_time": "2021-10-31T10:32:10.100Z"
   },
   {
    "duration": 4,
    "start_time": "2021-10-31T10:32:39.717Z"
   },
   {
    "duration": 4,
    "start_time": "2021-10-31T10:32:40.153Z"
   },
   {
    "duration": 158,
    "start_time": "2021-10-31T10:33:41.234Z"
   },
   {
    "duration": 21,
    "start_time": "2021-10-31T10:33:46.710Z"
   },
   {
    "duration": 168,
    "start_time": "2021-10-31T10:34:05.011Z"
   },
   {
    "duration": 14,
    "start_time": "2021-10-31T10:34:06.361Z"
   },
   {
    "duration": 15,
    "start_time": "2021-10-31T10:34:08.252Z"
   },
   {
    "duration": 11,
    "start_time": "2021-10-31T10:34:12.857Z"
   },
   {
    "duration": 168,
    "start_time": "2021-10-31T10:34:31.802Z"
   },
   {
    "duration": 161,
    "start_time": "2021-10-31T10:34:58.639Z"
   },
   {
    "duration": 158,
    "start_time": "2021-10-31T10:35:06.184Z"
   },
   {
    "duration": 160,
    "start_time": "2021-10-31T10:35:45.681Z"
   },
   {
    "duration": 417,
    "start_time": "2021-10-31T10:36:15.201Z"
   },
   {
    "duration": 452,
    "start_time": "2021-10-31T10:36:26.931Z"
   },
   {
    "duration": 492,
    "start_time": "2021-10-31T10:36:36.817Z"
   },
   {
    "duration": 166,
    "start_time": "2021-10-31T10:37:03.923Z"
   },
   {
    "duration": 165,
    "start_time": "2021-10-31T10:37:20.198Z"
   },
   {
    "duration": 169,
    "start_time": "2021-10-31T10:37:26.229Z"
   },
   {
    "duration": 283,
    "start_time": "2021-10-31T10:38:13.105Z"
   },
   {
    "duration": 81,
    "start_time": "2021-10-31T10:38:54.582Z"
   },
   {
    "duration": 77,
    "start_time": "2021-10-31T10:39:21.314Z"
   },
   {
    "duration": 17,
    "start_time": "2021-10-31T10:40:29.745Z"
   },
   {
    "duration": 17,
    "start_time": "2021-10-31T10:40:53.626Z"
   },
   {
    "duration": 19,
    "start_time": "2021-10-31T10:41:17.778Z"
   },
   {
    "duration": 19,
    "start_time": "2021-10-31T10:41:25.151Z"
   },
   {
    "duration": 19,
    "start_time": "2021-10-31T10:41:33.722Z"
   },
   {
    "duration": 20,
    "start_time": "2021-10-31T10:41:40.684Z"
   },
   {
    "duration": 19,
    "start_time": "2021-10-31T10:41:45.738Z"
   },
   {
    "duration": 18,
    "start_time": "2021-10-31T10:41:52.399Z"
   },
   {
    "duration": 27,
    "start_time": "2021-10-31T10:43:35.739Z"
   },
   {
    "duration": 27,
    "start_time": "2021-10-31T10:43:43.298Z"
   },
   {
    "duration": 28,
    "start_time": "2021-10-31T10:43:54.623Z"
   },
   {
    "duration": 28,
    "start_time": "2021-10-31T10:44:00.803Z"
   },
   {
    "duration": 27,
    "start_time": "2021-10-31T10:44:09.129Z"
   },
   {
    "duration": 26,
    "start_time": "2021-10-31T10:44:28.629Z"
   },
   {
    "duration": 26,
    "start_time": "2021-10-31T10:44:45.325Z"
   },
   {
    "duration": 25,
    "start_time": "2021-10-31T10:45:05.201Z"
   },
   {
    "duration": 26,
    "start_time": "2021-10-31T10:45:46.468Z"
   },
   {
    "duration": 19,
    "start_time": "2021-10-31T10:46:31.785Z"
   },
   {
    "duration": 14,
    "start_time": "2021-10-31T10:46:38.055Z"
   },
   {
    "duration": 13,
    "start_time": "2021-10-31T10:46:49.365Z"
   },
   {
    "duration": 21,
    "start_time": "2021-10-31T10:48:30.634Z"
   },
   {
    "duration": 54,
    "start_time": "2021-10-31T10:48:55.580Z"
   },
   {
    "duration": 40,
    "start_time": "2021-10-31T10:49:08.151Z"
   },
   {
    "duration": 43,
    "start_time": "2021-10-31T10:49:33.442Z"
   },
   {
    "duration": 45,
    "start_time": "2021-10-31T10:49:44.887Z"
   },
   {
    "duration": 544,
    "start_time": "2021-10-31T10:51:14.020Z"
   },
   {
    "duration": 568,
    "start_time": "2021-10-31T10:51:25.661Z"
   },
   {
    "duration": 169,
    "start_time": "2021-10-31T10:52:20.443Z"
   },
   {
    "duration": 30,
    "start_time": "2021-10-31T10:52:45.359Z"
   },
   {
    "duration": 74,
    "start_time": "2021-10-31T10:55:09.004Z"
   },
   {
    "duration": 30,
    "start_time": "2021-10-31T10:56:51.802Z"
   },
   {
    "duration": 32,
    "start_time": "2021-10-31T10:57:00.324Z"
   },
   {
    "duration": 109,
    "start_time": "2021-10-31T10:57:33.521Z"
   },
   {
    "duration": 79,
    "start_time": "2021-10-31T10:57:53.110Z"
   },
   {
    "duration": 245,
    "start_time": "2021-10-31T10:58:31.841Z"
   },
   {
    "duration": 81,
    "start_time": "2021-10-31T10:58:52.228Z"
   },
   {
    "duration": 75,
    "start_time": "2021-10-31T10:59:25.154Z"
   },
   {
    "duration": 69,
    "start_time": "2021-10-31T10:59:53.731Z"
   },
   {
    "duration": 47,
    "start_time": "2021-10-31T11:00:16.546Z"
   },
   {
    "duration": 14,
    "start_time": "2021-10-31T11:03:03.952Z"
   },
   {
    "duration": 5,
    "start_time": "2021-10-31T11:05:30.657Z"
   },
   {
    "duration": 6180,
    "start_time": "2021-10-31T11:05:39.740Z"
   },
   {
    "duration": 5659,
    "start_time": "2021-10-31T11:06:00.343Z"
   },
   {
    "duration": 5365,
    "start_time": "2021-10-31T11:06:14.293Z"
   },
   {
    "duration": 4464,
    "start_time": "2021-10-31T11:06:27.120Z"
   },
   {
    "duration": 245,
    "start_time": "2021-10-31T11:06:38.700Z"
   },
   {
    "duration": 11,
    "start_time": "2021-10-31T11:06:51.032Z"
   },
   {
    "duration": 8,
    "start_time": "2021-10-31T11:07:17.730Z"
   },
   {
    "duration": 7,
    "start_time": "2021-10-31T11:07:27.187Z"
   },
   {
    "duration": 6,
    "start_time": "2021-10-31T11:07:47.990Z"
   },
   {
    "duration": 4,
    "start_time": "2021-10-31T11:08:07.131Z"
   },
   {
    "duration": 490,
    "start_time": "2021-10-31T11:08:07.940Z"
   },
   {
    "duration": 4,
    "start_time": "2021-10-31T11:08:26.391Z"
   },
   {
    "duration": 120,
    "start_time": "2021-10-31T11:08:27.006Z"
   },
   {
    "duration": 6,
    "start_time": "2021-10-31T11:08:53.393Z"
   },
   {
    "duration": 133,
    "start_time": "2021-10-31T11:08:54.201Z"
   },
   {
    "duration": 4,
    "start_time": "2021-10-31T11:09:24.023Z"
   },
   {
    "duration": 132,
    "start_time": "2021-10-31T11:09:24.666Z"
   },
   {
    "duration": 118,
    "start_time": "2021-10-31T11:10:30.128Z"
   },
   {
    "duration": 129,
    "start_time": "2021-10-31T11:10:50.603Z"
   },
   {
    "duration": 36,
    "start_time": "2021-10-31T11:18:12.886Z"
   },
   {
    "duration": 17,
    "start_time": "2021-10-31T11:18:51.046Z"
   },
   {
    "duration": 14,
    "start_time": "2021-10-31T11:19:58.996Z"
   },
   {
    "duration": 25,
    "start_time": "2021-10-31T11:20:03.378Z"
   },
   {
    "duration": 10,
    "start_time": "2021-10-31T11:20:07.488Z"
   },
   {
    "duration": 26,
    "start_time": "2021-10-31T11:21:46.189Z"
   },
   {
    "duration": 28,
    "start_time": "2021-10-31T11:22:08.928Z"
   },
   {
    "duration": 14,
    "start_time": "2021-10-31T11:22:09.213Z"
   },
   {
    "duration": 7,
    "start_time": "2021-10-31T11:22:09.618Z"
   },
   {
    "duration": 5,
    "start_time": "2021-10-31T11:22:26.135Z"
   },
   {
    "duration": 6,
    "start_time": "2021-10-31T11:22:33.755Z"
   },
   {
    "duration": 234,
    "start_time": "2021-10-31T11:24:43.327Z"
   },
   {
    "duration": 4,
    "start_time": "2021-10-31T11:24:48.997Z"
   },
   {
    "duration": 420,
    "start_time": "2021-10-31T11:27:07.103Z"
   },
   {
    "duration": 4,
    "start_time": "2021-10-31T11:30:26.531Z"
   },
   {
    "duration": 7,
    "start_time": "2021-10-31T11:31:00.807Z"
   },
   {
    "duration": 13,
    "start_time": "2021-10-31T11:31:05.247Z"
   },
   {
    "duration": 7,
    "start_time": "2021-10-31T11:31:10.482Z"
   },
   {
    "duration": 19,
    "start_time": "2021-10-31T11:31:10.961Z"
   },
   {
    "duration": 4,
    "start_time": "2021-10-31T11:31:11.442Z"
   },
   {
    "duration": 4,
    "start_time": "2021-10-31T11:31:12.566Z"
   },
   {
    "duration": 25,
    "start_time": "2021-10-31T11:31:15.011Z"
   },
   {
    "duration": 6,
    "start_time": "2021-10-31T11:31:18.687Z"
   },
   {
    "duration": 4,
    "start_time": "2021-10-31T12:08:06.213Z"
   },
   {
    "duration": 6,
    "start_time": "2021-10-31T12:08:09.677Z"
   },
   {
    "duration": 6,
    "start_time": "2021-10-31T12:08:24.334Z"
   },
   {
    "duration": 5,
    "start_time": "2021-10-31T12:08:40.038Z"
   },
   {
    "duration": 53,
    "start_time": "2021-10-31T12:09:30.679Z"
   },
   {
    "duration": 5,
    "start_time": "2021-10-31T12:09:32.013Z"
   },
   {
    "duration": 6,
    "start_time": "2021-10-31T12:09:39.951Z"
   },
   {
    "duration": 83,
    "start_time": "2021-10-31T12:13:19.898Z"
   },
   {
    "duration": 113,
    "start_time": "2021-10-31T12:13:24.907Z"
   },
   {
    "duration": 18,
    "start_time": "2021-10-31T12:13:27.142Z"
   },
   {
    "duration": 6,
    "start_time": "2021-10-31T12:16:22.750Z"
   },
   {
    "duration": 19,
    "start_time": "2021-10-31T12:16:23.380Z"
   },
   {
    "duration": 5,
    "start_time": "2021-10-31T12:16:23.980Z"
   },
   {
    "duration": 4,
    "start_time": "2021-10-31T12:16:24.670Z"
   },
   {
    "duration": 22,
    "start_time": "2021-10-31T12:16:25.300Z"
   },
   {
    "duration": 272,
    "start_time": "2021-10-31T12:19:49.454Z"
   },
   {
    "duration": 1161,
    "start_time": "2021-10-31T12:20:00.209Z"
   },
   {
    "duration": 16,
    "start_time": "2021-10-31T12:20:10.770Z"
   },
   {
    "duration": 67,
    "start_time": "2021-10-31T12:20:33.861Z"
   },
   {
    "duration": 236,
    "start_time": "2021-10-31T12:20:43.874Z"
   },
   {
    "duration": 88,
    "start_time": "2021-10-31T12:21:25.695Z"
   },
   {
    "duration": 4,
    "start_time": "2021-10-31T12:21:50.386Z"
   },
   {
    "duration": 561,
    "start_time": "2021-10-31T12:22:52.952Z"
   },
   {
    "duration": 546,
    "start_time": "2021-10-31T12:23:17.222Z"
   },
   {
    "duration": 1137,
    "start_time": "2021-10-31T12:23:34.592Z"
   },
   {
    "duration": 305,
    "start_time": "2021-10-31T12:24:25.503Z"
   },
   {
    "duration": 6,
    "start_time": "2021-10-31T12:24:39.423Z"
   },
   {
    "duration": 4,
    "start_time": "2021-10-31T12:25:22.878Z"
   },
   {
    "duration": 6,
    "start_time": "2021-10-31T12:25:26.749Z"
   },
   {
    "duration": 228,
    "start_time": "2021-10-31T12:26:41.045Z"
   },
   {
    "duration": 576,
    "start_time": "2021-10-31T12:26:48.633Z"
   },
   {
    "duration": 598,
    "start_time": "2021-10-31T12:26:56.944Z"
   },
   {
    "duration": 234,
    "start_time": "2021-10-31T12:30:07.374Z"
   },
   {
    "duration": 7,
    "start_time": "2021-10-31T12:33:06.581Z"
   },
   {
    "duration": 100,
    "start_time": "2021-10-31T12:33:18.131Z"
   },
   {
    "duration": 29,
    "start_time": "2021-10-31T12:33:53.681Z"
   },
   {
    "duration": 30,
    "start_time": "2021-10-31T12:35:21.583Z"
   },
   {
    "duration": 6,
    "start_time": "2021-10-31T12:36:16.303Z"
   },
   {
    "duration": 17,
    "start_time": "2021-10-31T12:36:16.813Z"
   },
   {
    "duration": 5,
    "start_time": "2021-10-31T12:36:17.428Z"
   },
   {
    "duration": 5,
    "start_time": "2021-10-31T12:36:18.283Z"
   },
   {
    "duration": 18,
    "start_time": "2021-10-31T12:36:19.214Z"
   },
   {
    "duration": 4,
    "start_time": "2021-10-31T12:59:17.495Z"
   },
   {
    "duration": 7,
    "start_time": "2021-10-31T13:05:06.821Z"
   },
   {
    "duration": 34,
    "start_time": "2021-10-31T13:05:07.660Z"
   },
   {
    "duration": 214,
    "start_time": "2021-10-31T13:05:08.606Z"
   },
   {
    "duration": 7,
    "start_time": "2021-10-31T13:05:38.906Z"
   },
   {
    "duration": 32,
    "start_time": "2021-10-31T13:05:39.880Z"
   },
   {
    "duration": 267,
    "start_time": "2021-10-31T13:05:42.791Z"
   },
   {
    "duration": 8,
    "start_time": "2021-10-31T13:06:20.142Z"
   },
   {
    "duration": 77,
    "start_time": "2021-10-31T13:06:21.356Z"
   },
   {
    "duration": 223,
    "start_time": "2021-10-31T13:06:40.587Z"
   },
   {
    "duration": 6,
    "start_time": "2021-10-31T13:07:15.058Z"
   },
   {
    "duration": 110,
    "start_time": "2021-10-31T13:07:15.927Z"
   },
   {
    "duration": 240,
    "start_time": "2021-10-31T13:07:19.993Z"
   },
   {
    "duration": 4,
    "start_time": "2021-10-31T13:08:46.514Z"
   },
   {
    "duration": 5,
    "start_time": "2021-10-31T13:08:55.485Z"
   },
   {
    "duration": 4,
    "start_time": "2021-10-31T13:09:06.720Z"
   },
   {
    "duration": 6,
    "start_time": "2021-10-31T13:09:07.364Z"
   },
   {
    "duration": 137,
    "start_time": "2021-10-31T13:09:33.705Z"
   },
   {
    "duration": 4,
    "start_time": "2021-10-31T13:09:37.785Z"
   },
   {
    "duration": 5,
    "start_time": "2021-10-31T13:09:42.510Z"
   },
   {
    "duration": 48,
    "start_time": "2021-10-31T13:10:40.696Z"
   },
   {
    "duration": 5,
    "start_time": "2021-10-31T13:10:51.661Z"
   },
   {
    "duration": 7,
    "start_time": "2021-10-31T13:11:10.141Z"
   },
   {
    "duration": 33,
    "start_time": "2021-10-31T13:11:14.447Z"
   },
   {
    "duration": 28,
    "start_time": "2021-10-31T13:11:26.702Z"
   },
   {
    "duration": 6,
    "start_time": "2021-10-31T13:11:28.607Z"
   },
   {
    "duration": 5,
    "start_time": "2021-10-31T13:11:33.361Z"
   },
   {
    "duration": 7,
    "start_time": "2021-10-31T13:12:03.408Z"
   },
   {
    "duration": 41,
    "start_time": "2021-10-31T13:12:04.517Z"
   },
   {
    "duration": 70,
    "start_time": "2021-10-31T13:12:10.367Z"
   },
   {
    "duration": 6,
    "start_time": "2021-10-31T13:12:25.666Z"
   },
   {
    "duration": 7,
    "start_time": "2021-10-31T13:12:29.117Z"
   },
   {
    "duration": 37,
    "start_time": "2021-10-31T13:13:09.918Z"
   },
   {
    "duration": 8,
    "start_time": "2021-10-31T13:13:17.928Z"
   },
   {
    "duration": 7,
    "start_time": "2021-10-31T13:13:22.323Z"
   },
   {
    "duration": 5,
    "start_time": "2021-10-31T13:13:26.118Z"
   },
   {
    "duration": 40,
    "start_time": "2021-10-31T13:13:52.099Z"
   },
   {
    "duration": 5,
    "start_time": "2021-10-31T13:13:56.779Z"
   },
   {
    "duration": 53,
    "start_time": "2021-10-31T13:14:18.304Z"
   },
   {
    "duration": 5,
    "start_time": "2021-10-31T13:14:20.959Z"
   },
   {
    "duration": 297,
    "start_time": "2021-10-31T13:16:09.051Z"
   },
   {
    "duration": 3,
    "start_time": "2021-10-31T13:16:13.686Z"
   },
   {
    "duration": 5,
    "start_time": "2021-10-31T13:16:14.315Z"
   },
   {
    "duration": 107,
    "start_time": "2021-10-31T13:16:59.032Z"
   },
   {
    "duration": 4,
    "start_time": "2021-10-31T13:17:37.778Z"
   },
   {
    "duration": 6,
    "start_time": "2021-10-31T13:17:47.632Z"
   },
   {
    "duration": 5,
    "start_time": "2021-10-31T13:18:08.873Z"
   },
   {
    "duration": 5,
    "start_time": "2021-10-31T13:18:18.202Z"
   },
   {
    "duration": 5,
    "start_time": "2021-10-31T13:19:04.118Z"
   },
   {
    "duration": 3,
    "start_time": "2021-10-31T13:20:39.355Z"
   },
   {
    "duration": 5,
    "start_time": "2021-10-31T13:20:43.270Z"
   },
   {
    "duration": 6,
    "start_time": "2021-10-31T13:22:07.076Z"
   },
   {
    "duration": 7,
    "start_time": "2021-10-31T13:22:24.147Z"
   },
   {
    "duration": 6,
    "start_time": "2021-10-31T13:22:45.522Z"
   },
   {
    "duration": 215,
    "start_time": "2021-10-31T13:24:15.508Z"
   },
   {
    "duration": 4,
    "start_time": "2021-10-31T13:24:36.613Z"
   },
   {
    "duration": 12,
    "start_time": "2021-10-31T13:24:37.919Z"
   },
   {
    "duration": 10,
    "start_time": "2021-10-31T13:24:53.968Z"
   },
   {
    "duration": 10,
    "start_time": "2021-10-31T13:25:05.594Z"
   },
   {
    "duration": 4,
    "start_time": "2021-10-31T13:26:09.211Z"
   },
   {
    "duration": 10,
    "start_time": "2021-10-31T13:26:09.886Z"
   },
   {
    "duration": 5,
    "start_time": "2021-10-31T13:26:10.755Z"
   },
   {
    "duration": 10,
    "start_time": "2021-10-31T13:26:11.385Z"
   },
   {
    "duration": 4,
    "start_time": "2021-10-31T13:31:36.050Z"
   },
   {
    "duration": 4,
    "start_time": "2021-10-31T13:34:10.913Z"
   },
   {
    "duration": 14,
    "start_time": "2021-10-31T13:34:25.028Z"
   },
   {
    "duration": 10,
    "start_time": "2021-10-31T13:35:05.528Z"
   },
   {
    "duration": 11,
    "start_time": "2021-10-31T13:35:08.963Z"
   },
   {
    "duration": 5,
    "start_time": "2021-10-31T13:35:41.604Z"
   },
   {
    "duration": 3,
    "start_time": "2021-10-31T13:36:39.970Z"
   },
   {
    "duration": 5,
    "start_time": "2021-10-31T13:36:44.860Z"
   },
   {
    "duration": 5,
    "start_time": "2021-10-31T13:39:03.106Z"
   },
   {
    "duration": 9,
    "start_time": "2021-10-31T13:39:16.152Z"
   },
   {
    "duration": 4,
    "start_time": "2021-10-31T13:39:41.368Z"
   },
   {
    "duration": 9,
    "start_time": "2021-10-31T13:39:51.778Z"
   },
   {
    "duration": 6,
    "start_time": "2021-10-31T13:40:08.038Z"
   },
   {
    "duration": 6,
    "start_time": "2021-10-31T13:43:19.501Z"
   },
   {
    "duration": 5,
    "start_time": "2021-10-31T13:43:28.097Z"
   },
   {
    "duration": 239,
    "start_time": "2021-10-31T13:43:39.242Z"
   },
   {
    "duration": 6,
    "start_time": "2021-10-31T13:43:46.516Z"
   },
   {
    "duration": 4,
    "start_time": "2021-10-31T13:43:51.408Z"
   },
   {
    "duration": 518,
    "start_time": "2021-10-31T13:43:53.581Z"
   },
   {
    "duration": 4,
    "start_time": "2021-10-31T13:44:38.913Z"
   },
   {
    "duration": 4,
    "start_time": "2021-10-31T13:44:50.462Z"
   },
   {
    "duration": 4,
    "start_time": "2021-10-31T13:44:58.383Z"
   },
   {
    "duration": 5,
    "start_time": "2021-10-31T13:45:07.908Z"
   },
   {
    "duration": 10,
    "start_time": "2021-10-31T13:45:09.453Z"
   },
   {
    "duration": 5,
    "start_time": "2021-10-31T13:45:11.898Z"
   },
   {
    "duration": 79,
    "start_time": "2021-10-31T13:48:36.322Z"
   },
   {
    "duration": 5,
    "start_time": "2021-10-31T13:49:02.451Z"
   },
   {
    "duration": 10,
    "start_time": "2021-10-31T13:49:03.277Z"
   },
   {
    "duration": 5,
    "start_time": "2021-10-31T13:49:05.977Z"
   },
   {
    "duration": 10,
    "start_time": "2021-10-31T13:49:26.797Z"
   },
   {
    "duration": 11,
    "start_time": "2021-10-31T13:49:36.233Z"
   },
   {
    "duration": 6,
    "start_time": "2021-10-31T13:51:31.179Z"
   },
   {
    "duration": 4,
    "start_time": "2021-10-31T13:52:41.051Z"
   },
   {
    "duration": 4,
    "start_time": "2021-10-31T13:52:57.160Z"
   },
   {
    "duration": 4,
    "start_time": "2021-10-31T13:54:17.681Z"
   },
   {
    "duration": 6,
    "start_time": "2021-10-31T13:54:18.042Z"
   },
   {
    "duration": 5,
    "start_time": "2021-10-31T13:54:18.567Z"
   },
   {
    "duration": 6,
    "start_time": "2021-10-31T13:54:19.062Z"
   },
   {
    "duration": 6,
    "start_time": "2021-10-31T13:54:22.017Z"
   },
   {
    "duration": 5,
    "start_time": "2021-10-31T13:56:25.969Z"
   },
   {
    "duration": 4,
    "start_time": "2021-10-31T13:57:28.289Z"
   },
   {
    "duration": 6,
    "start_time": "2021-10-31T13:57:28.769Z"
   },
   {
    "duration": 6,
    "start_time": "2021-10-31T13:57:48.435Z"
   },
   {
    "duration": 4,
    "start_time": "2021-10-31T13:57:58.701Z"
   },
   {
    "duration": 4,
    "start_time": "2021-10-31T13:57:59.745Z"
   },
   {
    "duration": 5,
    "start_time": "2021-10-31T13:58:33.346Z"
   },
   {
    "duration": 6,
    "start_time": "2021-10-31T13:58:53.327Z"
   },
   {
    "duration": 6,
    "start_time": "2021-10-31T13:58:55.531Z"
   },
   {
    "duration": 5,
    "start_time": "2021-10-31T13:58:55.710Z"
   },
   {
    "duration": 5,
    "start_time": "2021-10-31T13:58:55.876Z"
   },
   {
    "duration": 5,
    "start_time": "2021-10-31T13:58:56.626Z"
   },
   {
    "duration": 4,
    "start_time": "2021-10-31T13:58:57.302Z"
   },
   {
    "duration": 5,
    "start_time": "2021-10-31T13:59:17.342Z"
   },
   {
    "duration": 9,
    "start_time": "2021-10-31T13:59:18.406Z"
   },
   {
    "duration": 10,
    "start_time": "2021-10-31T13:59:19.006Z"
   },
   {
    "duration": 9,
    "start_time": "2021-10-31T13:59:19.696Z"
   },
   {
    "duration": 8,
    "start_time": "2021-10-31T14:03:36.531Z"
   },
   {
    "duration": 56,
    "start_time": "2021-10-31T14:03:46.387Z"
   },
   {
    "duration": 6,
    "start_time": "2021-10-31T14:03:53.975Z"
   },
   {
    "duration": 11,
    "start_time": "2021-10-31T14:04:21.936Z"
   },
   {
    "duration": 10,
    "start_time": "2021-10-31T14:04:25.700Z"
   },
   {
    "duration": 25,
    "start_time": "2021-10-31T14:06:16.734Z"
   },
   {
    "duration": 24,
    "start_time": "2021-10-31T14:06:21.069Z"
   },
   {
    "duration": 13,
    "start_time": "2021-10-31T14:06:46.044Z"
   },
   {
    "duration": 4,
    "start_time": "2021-10-31T14:07:13.390Z"
   },
   {
    "duration": 6,
    "start_time": "2021-10-31T14:07:16.855Z"
   },
   {
    "duration": 106,
    "start_time": "2021-10-31T14:07:57.325Z"
   },
   {
    "duration": 16,
    "start_time": "2021-10-31T14:08:14.381Z"
   },
   {
    "duration": 5,
    "start_time": "2021-10-31T14:08:48.371Z"
   },
   {
    "duration": 7,
    "start_time": "2021-10-31T14:08:56.463Z"
   },
   {
    "duration": 9,
    "start_time": "2021-10-31T14:09:13.466Z"
   },
   {
    "duration": 3884,
    "start_time": "2021-10-31T14:09:44.712Z"
   },
   {
    "duration": 15858,
    "start_time": "2021-10-31T14:10:09.957Z"
   },
   {
    "duration": 5683,
    "start_time": "2021-10-31T14:10:29.067Z"
   },
   {
    "duration": 12,
    "start_time": "2021-10-31T14:10:40.633Z"
   },
   {
    "duration": 3425,
    "start_time": "2021-10-31T14:11:11.878Z"
   },
   {
    "duration": 5,
    "start_time": "2021-10-31T14:11:20.218Z"
   },
   {
    "duration": 8,
    "start_time": "2021-10-31T14:11:53.414Z"
   },
   {
    "duration": 3487,
    "start_time": "2021-10-31T14:12:18.104Z"
   },
   {
    "duration": 121,
    "start_time": "2021-10-31T14:12:48.210Z"
   },
   {
    "duration": 5,
    "start_time": "2021-10-31T14:12:51.285Z"
   },
   {
    "duration": 16,
    "start_time": "2021-10-31T14:13:03.931Z"
   },
   {
    "duration": 7,
    "start_time": "2021-10-31T14:13:16.245Z"
   },
   {
    "duration": 6,
    "start_time": "2021-10-31T14:13:43.350Z"
   },
   {
    "duration": 3644,
    "start_time": "2021-10-31T14:13:52.710Z"
   },
   {
    "duration": 20,
    "start_time": "2021-10-31T14:25:09.626Z"
   },
   {
    "duration": 15,
    "start_time": "2021-10-31T14:25:41.456Z"
   },
   {
    "duration": 35,
    "start_time": "2021-10-31T14:25:47.322Z"
   },
   {
    "duration": 15,
    "start_time": "2021-10-31T14:26:07.362Z"
   },
   {
    "duration": 7,
    "start_time": "2021-10-31T14:26:27.088Z"
   },
   {
    "duration": 100,
    "start_time": "2021-10-31T14:26:28.033Z"
   },
   {
    "duration": 17,
    "start_time": "2021-10-31T14:26:35.607Z"
   },
   {
    "duration": 6,
    "start_time": "2021-10-31T14:30:42.091Z"
   },
   {
    "duration": 20,
    "start_time": "2021-10-31T14:30:44.371Z"
   },
   {
    "duration": 4,
    "start_time": "2021-10-31T14:30:45.886Z"
   },
   {
    "duration": 4,
    "start_time": "2021-10-31T14:30:46.621Z"
   },
   {
    "duration": 20,
    "start_time": "2021-10-31T14:30:49.741Z"
   },
   {
    "duration": 6,
    "start_time": "2021-10-31T14:30:56.686Z"
   },
   {
    "duration": 8,
    "start_time": "2021-10-31T14:31:05.116Z"
   },
   {
    "duration": 7,
    "start_time": "2021-10-31T14:31:13.802Z"
   },
   {
    "duration": 8,
    "start_time": "2021-10-31T14:45:26.790Z"
   },
   {
    "duration": 8,
    "start_time": "2021-10-31T14:47:20.237Z"
   },
   {
    "duration": 641,
    "start_time": "2021-10-31T14:52:30.592Z"
   },
   {
    "duration": 5,
    "start_time": "2021-10-31T14:52:35.002Z"
   },
   {
    "duration": 9841,
    "start_time": "2021-10-31T14:52:52.253Z"
   },
   {
    "duration": 231,
    "start_time": "2021-10-31T14:53:40.021Z"
   },
   {
    "duration": 350,
    "start_time": "2021-10-31T15:00:57.825Z"
   },
   {
    "duration": 6,
    "start_time": "2021-10-31T15:03:41.792Z"
   },
   {
    "duration": 229,
    "start_time": "2021-10-31T15:04:13.173Z"
   },
   {
    "duration": 8857,
    "start_time": "2021-10-31T15:04:18.365Z"
   },
   {
    "duration": 234,
    "start_time": "2021-10-31T15:04:52.287Z"
   },
   {
    "duration": 1260,
    "start_time": "2021-10-31T15:05:14.150Z"
   },
   {
    "duration": 321,
    "start_time": "2021-10-31T15:07:41.471Z"
   },
   {
    "duration": 1627,
    "start_time": "2021-10-31T15:07:53.143Z"
   },
   {
    "duration": 4,
    "start_time": "2021-10-31T15:07:54.772Z"
   },
   {
    "duration": 6,
    "start_time": "2021-10-31T15:07:54.779Z"
   },
   {
    "duration": 199,
    "start_time": "2021-10-31T15:07:54.787Z"
   },
   {
    "duration": 183,
    "start_time": "2021-10-31T15:07:54.988Z"
   },
   {
    "duration": 177,
    "start_time": "2021-10-31T15:07:55.173Z"
   },
   {
    "duration": 8,
    "start_time": "2021-10-31T15:07:55.353Z"
   },
   {
    "duration": 152,
    "start_time": "2021-10-31T15:07:55.366Z"
   },
   {
    "duration": 153,
    "start_time": "2021-10-31T15:07:55.521Z"
   },
   {
    "duration": 138,
    "start_time": "2021-10-31T15:07:55.682Z"
   },
   {
    "duration": 1667,
    "start_time": "2021-10-31T15:08:18.543Z"
   },
   {
    "duration": 4,
    "start_time": "2021-10-31T15:08:20.213Z"
   },
   {
    "duration": 13,
    "start_time": "2021-10-31T15:08:20.229Z"
   },
   {
    "duration": 239,
    "start_time": "2021-10-31T15:08:20.246Z"
   },
   {
    "duration": 221,
    "start_time": "2021-10-31T15:08:20.487Z"
   },
   {
    "duration": 203,
    "start_time": "2021-10-31T15:08:20.711Z"
   },
   {
    "duration": 5,
    "start_time": "2021-10-31T15:08:20.916Z"
   },
   {
    "duration": 160,
    "start_time": "2021-10-31T15:08:20.950Z"
   },
   {
    "duration": 160,
    "start_time": "2021-10-31T15:08:21.113Z"
   },
   {
    "duration": 146,
    "start_time": "2021-10-31T15:08:21.276Z"
   },
   {
    "duration": 11,
    "start_time": "2021-10-31T15:08:21.425Z"
   },
   {
    "duration": 33,
    "start_time": "2021-10-31T15:08:21.439Z"
   },
   {
    "duration": 7,
    "start_time": "2021-10-31T15:08:21.474Z"
   },
   {
    "duration": 61,
    "start_time": "2021-10-31T15:08:21.484Z"
   },
   {
    "duration": 4,
    "start_time": "2021-10-31T15:08:21.547Z"
   },
   {
    "duration": 13,
    "start_time": "2021-10-31T15:08:21.554Z"
   },
   {
    "duration": 425,
    "start_time": "2021-10-31T15:08:21.570Z"
   },
   {
    "duration": 15761,
    "start_time": "2021-10-31T15:08:06.239Z"
   },
   {
    "duration": 15759,
    "start_time": "2021-10-31T15:08:06.243Z"
   },
   {
    "duration": 15757,
    "start_time": "2021-10-31T15:08:06.247Z"
   },
   {
    "duration": 15758,
    "start_time": "2021-10-31T15:08:06.248Z"
   },
   {
    "duration": 15757,
    "start_time": "2021-10-31T15:08:06.251Z"
   },
   {
    "duration": 15756,
    "start_time": "2021-10-31T15:08:06.254Z"
   },
   {
    "duration": 15756,
    "start_time": "2021-10-31T15:08:06.256Z"
   },
   {
    "duration": 15756,
    "start_time": "2021-10-31T15:08:06.258Z"
   },
   {
    "duration": 15754,
    "start_time": "2021-10-31T15:08:06.262Z"
   },
   {
    "duration": 15754,
    "start_time": "2021-10-31T15:08:06.264Z"
   },
   {
    "duration": 15753,
    "start_time": "2021-10-31T15:08:06.267Z"
   },
   {
    "duration": 15755,
    "start_time": "2021-10-31T15:08:06.268Z"
   },
   {
    "duration": 15754,
    "start_time": "2021-10-31T15:08:06.271Z"
   },
   {
    "duration": 15748,
    "start_time": "2021-10-31T15:08:06.279Z"
   },
   {
    "duration": 15746,
    "start_time": "2021-10-31T15:08:06.282Z"
   },
   {
    "duration": 15746,
    "start_time": "2021-10-31T15:08:06.284Z"
   },
   {
    "duration": 15745,
    "start_time": "2021-10-31T15:08:06.286Z"
   },
   {
    "duration": 15759,
    "start_time": "2021-10-31T15:08:06.288Z"
   },
   {
    "duration": 15758,
    "start_time": "2021-10-31T15:08:06.290Z"
   },
   {
    "duration": 263,
    "start_time": "2021-10-31T15:09:14.935Z"
   },
   {
    "duration": 8,
    "start_time": "2021-10-31T15:09:28.091Z"
   },
   {
    "duration": 19,
    "start_time": "2021-10-31T15:09:28.464Z"
   },
   {
    "duration": 5,
    "start_time": "2021-10-31T15:09:28.899Z"
   },
   {
    "duration": 5,
    "start_time": "2021-10-31T15:09:29.513Z"
   },
   {
    "duration": 106,
    "start_time": "2021-10-31T15:09:30.024Z"
   },
   {
    "duration": 23,
    "start_time": "2021-10-31T15:09:32.229Z"
   },
   {
    "duration": 11,
    "start_time": "2021-10-31T15:09:33.924Z"
   },
   {
    "duration": 11,
    "start_time": "2021-10-31T15:09:35.109Z"
   },
   {
    "duration": 34,
    "start_time": "2021-10-31T15:09:35.859Z"
   },
   {
    "duration": 7,
    "start_time": "2021-10-31T15:09:37.570Z"
   },
   {
    "duration": 115,
    "start_time": "2021-10-31T15:09:41.621Z"
   },
   {
    "duration": 9,
    "start_time": "2021-10-31T15:09:53.605Z"
   },
   {
    "duration": 3,
    "start_time": "2021-10-31T15:10:57.326Z"
   },
   {
    "duration": 235,
    "start_time": "2021-10-31T15:11:01.150Z"
   },
   {
    "duration": 239,
    "start_time": "2021-10-31T15:11:05.006Z"
   },
   {
    "duration": 225,
    "start_time": "2021-10-31T15:12:05.787Z"
   },
   {
    "duration": 12,
    "start_time": "2021-10-31T15:43:17.846Z"
   },
   {
    "duration": 35,
    "start_time": "2021-10-31T15:43:18.625Z"
   },
   {
    "duration": 1377,
    "start_time": "2021-10-31T15:50:47.457Z"
   },
   {
    "duration": 4,
    "start_time": "2021-10-31T15:50:48.836Z"
   },
   {
    "duration": 6,
    "start_time": "2021-10-31T15:50:48.843Z"
   },
   {
    "duration": 193,
    "start_time": "2021-10-31T15:50:48.851Z"
   },
   {
    "duration": 183,
    "start_time": "2021-10-31T15:50:49.046Z"
   },
   {
    "duration": 168,
    "start_time": "2021-10-31T15:50:49.231Z"
   },
   {
    "duration": 5,
    "start_time": "2021-10-31T15:50:49.401Z"
   },
   {
    "duration": 147,
    "start_time": "2021-10-31T15:50:49.408Z"
   },
   {
    "duration": 136,
    "start_time": "2021-10-31T15:50:49.558Z"
   },
   {
    "duration": 139,
    "start_time": "2021-10-31T15:50:49.697Z"
   },
   {
    "duration": 6,
    "start_time": "2021-10-31T15:50:49.838Z"
   },
   {
    "duration": 25,
    "start_time": "2021-10-31T15:50:49.846Z"
   },
   {
    "duration": 5,
    "start_time": "2021-10-31T15:50:49.874Z"
   },
   {
    "duration": 16,
    "start_time": "2021-10-31T15:50:49.882Z"
   },
   {
    "duration": 128,
    "start_time": "2021-10-31T15:50:49.901Z"
   },
   {
    "duration": 98,
    "start_time": "2021-10-31T15:50:50.033Z"
   },
   {
    "duration": 19,
    "start_time": "2021-10-31T15:50:50.133Z"
   },
   {
    "duration": 25,
    "start_time": "2021-10-31T15:50:50.154Z"
   },
   {
    "duration": 64,
    "start_time": "2021-10-31T15:50:50.182Z"
   },
   {
    "duration": 88,
    "start_time": "2021-10-31T15:50:50.251Z"
   },
   {
    "duration": 10,
    "start_time": "2021-10-31T15:50:50.429Z"
   },
   {
    "duration": 86,
    "start_time": "2021-10-31T15:50:50.442Z"
   },
   {
    "duration": 120,
    "start_time": "2021-10-31T15:50:50.532Z"
   },
   {
    "duration": 99,
    "start_time": "2021-10-31T15:50:50.729Z"
   },
   {
    "duration": 4,
    "start_time": "2021-10-31T15:50:50.831Z"
   },
   {
    "duration": 24,
    "start_time": "2021-10-31T15:50:50.838Z"
   },
   {
    "duration": 6,
    "start_time": "2021-10-31T15:50:50.867Z"
   },
   {
    "duration": 12,
    "start_time": "2021-10-31T15:50:50.876Z"
   },
   {
    "duration": 363,
    "start_time": "2021-10-31T15:50:50.891Z"
   },
   {
    "duration": 15719,
    "start_time": "2021-10-31T15:50:35.539Z"
   },
   {
    "duration": 15717,
    "start_time": "2021-10-31T15:50:35.542Z"
   },
   {
    "duration": 15718,
    "start_time": "2021-10-31T15:50:35.543Z"
   },
   {
    "duration": 15718,
    "start_time": "2021-10-31T15:50:35.545Z"
   },
   {
    "duration": 15713,
    "start_time": "2021-10-31T15:50:35.552Z"
   },
   {
    "duration": 15711,
    "start_time": "2021-10-31T15:50:35.555Z"
   },
   {
    "duration": 74,
    "start_time": "2021-10-31T15:51:28.242Z"
   },
   {
    "duration": 76,
    "start_time": "2021-10-31T15:54:17.447Z"
   },
   {
    "duration": 5,
    "start_time": "2021-10-31T15:54:41.417Z"
   },
   {
    "duration": 299,
    "start_time": "2021-10-31T15:54:51.165Z"
   },
   {
    "duration": 6,
    "start_time": "2021-10-31T15:55:00.062Z"
   },
   {
    "duration": 9,
    "start_time": "2021-10-31T15:55:01.215Z"
   },
   {
    "duration": 11,
    "start_time": "2021-10-31T15:55:02.100Z"
   },
   {
    "duration": 9,
    "start_time": "2021-10-31T15:55:02.671Z"
   },
   {
    "duration": 12,
    "start_time": "2021-10-31T15:55:36.496Z"
   },
   {
    "duration": 8,
    "start_time": "2021-10-31T15:56:10.771Z"
   },
   {
    "duration": 243,
    "start_time": "2021-10-31T15:56:40.607Z"
   },
   {
    "duration": 6,
    "start_time": "2021-10-31T15:56:45.454Z"
   },
   {
    "duration": 7,
    "start_time": "2021-10-31T15:56:55.172Z"
   },
   {
    "duration": 5,
    "start_time": "2021-10-31T15:58:20.529Z"
   },
   {
    "duration": 225,
    "start_time": "2021-10-31T15:58:34.265Z"
   },
   {
    "duration": 31,
    "start_time": "2021-10-31T15:58:45.320Z"
   },
   {
    "duration": 27,
    "start_time": "2021-10-31T15:59:01.730Z"
   },
   {
    "duration": 6,
    "start_time": "2021-10-31T15:59:32.629Z"
   },
   {
    "duration": 5,
    "start_time": "2021-10-31T15:59:36.379Z"
   },
   {
    "duration": 8,
    "start_time": "2021-10-31T15:59:56.729Z"
   },
   {
    "duration": 7,
    "start_time": "2021-10-31T16:00:02.318Z"
   },
   {
    "duration": 235,
    "start_time": "2021-10-31T16:00:22.876Z"
   },
   {
    "duration": 28,
    "start_time": "2021-10-31T16:00:43.206Z"
   },
   {
    "duration": 5,
    "start_time": "2021-10-31T16:01:02.451Z"
   },
   {
    "duration": 438,
    "start_time": "2021-10-31T16:01:03.201Z"
   },
   {
    "duration": 5,
    "start_time": "2021-10-31T16:01:09.847Z"
   },
   {
    "duration": 12,
    "start_time": "2021-10-31T16:01:10.791Z"
   },
   {
    "duration": 7,
    "start_time": "2021-10-31T16:01:12.636Z"
   },
   {
    "duration": 236,
    "start_time": "2021-10-31T16:01:18.787Z"
   },
   {
    "duration": 9,
    "start_time": "2021-10-31T16:01:33.982Z"
   },
   {
    "duration": 12,
    "start_time": "2021-10-31T16:01:56.902Z"
   },
   {
    "duration": 15,
    "start_time": "2021-10-31T16:02:13.613Z"
   },
   {
    "duration": 9,
    "start_time": "2021-10-31T16:02:54.685Z"
   },
   {
    "duration": 8,
    "start_time": "2021-10-31T16:03:06.584Z"
   },
   {
    "duration": 8,
    "start_time": "2021-10-31T16:03:37.823Z"
   },
   {
    "duration": 9,
    "start_time": "2021-10-31T16:04:08.648Z"
   },
   {
    "duration": 12,
    "start_time": "2021-10-31T16:04:11.755Z"
   },
   {
    "duration": 7,
    "start_time": "2021-10-31T16:04:13.449Z"
   },
   {
    "duration": 8,
    "start_time": "2021-10-31T16:04:14.064Z"
   },
   {
    "duration": 8,
    "start_time": "2021-10-31T16:04:49.659Z"
   },
   {
    "duration": 8,
    "start_time": "2021-10-31T16:05:06.444Z"
   },
   {
    "duration": 5,
    "start_time": "2021-10-31T16:05:15.955Z"
   },
   {
    "duration": 6,
    "start_time": "2021-10-31T16:05:22.959Z"
   },
   {
    "duration": 5,
    "start_time": "2021-10-31T16:05:39.010Z"
   },
   {
    "duration": 16,
    "start_time": "2021-10-31T16:06:02.234Z"
   },
   {
    "duration": 19,
    "start_time": "2021-10-31T16:06:02.786Z"
   },
   {
    "duration": 5,
    "start_time": "2021-10-31T16:06:43.648Z"
   },
   {
    "duration": 15,
    "start_time": "2021-10-31T16:06:44.262Z"
   },
   {
    "duration": 8,
    "start_time": "2021-10-31T16:06:47.112Z"
   },
   {
    "duration": 5,
    "start_time": "2021-10-31T16:06:49.661Z"
   },
   {
    "duration": 226,
    "start_time": "2021-10-31T16:06:51.582Z"
   },
   {
    "duration": 5,
    "start_time": "2021-10-31T16:06:53.772Z"
   },
   {
    "duration": 11,
    "start_time": "2021-10-31T16:06:54.461Z"
   },
   {
    "duration": 7,
    "start_time": "2021-10-31T16:07:47.953Z"
   },
   {
    "duration": 229,
    "start_time": "2021-10-31T16:07:54.088Z"
   },
   {
    "duration": 9,
    "start_time": "2021-10-31T16:08:02.562Z"
   },
   {
    "duration": 5,
    "start_time": "2021-10-31T16:08:27.177Z"
   },
   {
    "duration": 4,
    "start_time": "2021-10-31T16:08:37.947Z"
   },
   {
    "duration": 10,
    "start_time": "2021-10-31T16:08:44.968Z"
   },
   {
    "duration": 12,
    "start_time": "2021-10-31T16:09:08.593Z"
   },
   {
    "duration": 8,
    "start_time": "2021-10-31T16:09:17.130Z"
   },
   {
    "duration": 9,
    "start_time": "2021-10-31T16:09:28.978Z"
   },
   {
    "duration": 8,
    "start_time": "2021-10-31T16:09:32.219Z"
   },
   {
    "duration": 6,
    "start_time": "2021-10-31T16:09:42.107Z"
   },
   {
    "duration": 6,
    "start_time": "2021-10-31T16:09:46.648Z"
   },
   {
    "duration": 9,
    "start_time": "2021-10-31T16:10:32.970Z"
   },
   {
    "duration": 5,
    "start_time": "2021-10-31T16:10:34.185Z"
   },
   {
    "duration": 7,
    "start_time": "2021-10-31T16:10:36.750Z"
   },
   {
    "duration": 13,
    "start_time": "2021-10-31T16:11:23.761Z"
   },
   {
    "duration": 13,
    "start_time": "2021-10-31T16:11:24.031Z"
   },
   {
    "duration": 14,
    "start_time": "2021-10-31T16:11:24.405Z"
   },
   {
    "duration": 25,
    "start_time": "2021-10-31T16:11:55.771Z"
   },
   {
    "duration": 8,
    "start_time": "2021-10-31T16:11:58.603Z"
   },
   {
    "duration": 7,
    "start_time": "2021-10-31T16:11:59.911Z"
   },
   {
    "duration": 233,
    "start_time": "2021-10-31T16:12:16.051Z"
   },
   {
    "duration": 4,
    "start_time": "2021-10-31T16:13:55.646Z"
   },
   {
    "duration": 86,
    "start_time": "2021-10-31T16:17:13.341Z"
   },
   {
    "duration": 5,
    "start_time": "2021-10-31T16:17:52.453Z"
   },
   {
    "duration": 13,
    "start_time": "2021-10-31T16:18:01.956Z"
   },
   {
    "duration": 14,
    "start_time": "2021-10-31T16:18:19.012Z"
   },
   {
    "duration": 11,
    "start_time": "2021-10-31T16:18:27.447Z"
   },
   {
    "duration": 11,
    "start_time": "2021-10-31T16:18:56.438Z"
   },
   {
    "duration": 11,
    "start_time": "2021-10-31T16:19:07.029Z"
   },
   {
    "duration": 83,
    "start_time": "2021-10-31T16:19:56.934Z"
   },
   {
    "duration": 229,
    "start_time": "2021-10-31T16:20:26.769Z"
   },
   {
    "duration": 241,
    "start_time": "2021-10-31T16:20:58.840Z"
   },
   {
    "duration": 238,
    "start_time": "2021-10-31T16:21:21.611Z"
   },
   {
    "duration": 233,
    "start_time": "2021-10-31T16:23:36.658Z"
   },
   {
    "duration": 243,
    "start_time": "2021-10-31T16:24:39.763Z"
   },
   {
    "duration": 253,
    "start_time": "2021-10-31T16:24:51.749Z"
   },
   {
    "duration": 305,
    "start_time": "2021-10-31T16:25:01.978Z"
   },
   {
    "duration": 12,
    "start_time": "2021-10-31T16:25:38.737Z"
   },
   {
    "duration": 4,
    "start_time": "2021-10-31T16:25:50.595Z"
   },
   {
    "duration": 363,
    "start_time": "2021-10-31T16:25:55.845Z"
   },
   {
    "duration": 71,
    "start_time": "2021-10-31T16:26:37.770Z"
   },
   {
    "duration": 34,
    "start_time": "2021-10-31T16:26:38.910Z"
   },
   {
    "duration": 8,
    "start_time": "2021-10-31T16:26:55.607Z"
   },
   {
    "duration": 34,
    "start_time": "2021-10-31T16:26:56.085Z"
   },
   {
    "duration": 39,
    "start_time": "2021-10-31T16:26:56.775Z"
   },
   {
    "duration": 45,
    "start_time": "2021-10-31T16:27:12.795Z"
   },
   {
    "duration": 1572,
    "start_time": "2021-10-31T16:31:00.434Z"
   },
   {
    "duration": 4,
    "start_time": "2021-10-31T16:31:02.009Z"
   },
   {
    "duration": 31,
    "start_time": "2021-10-31T16:31:02.028Z"
   },
   {
    "duration": 206,
    "start_time": "2021-10-31T16:31:02.062Z"
   },
   {
    "duration": 184,
    "start_time": "2021-10-31T16:31:02.271Z"
   },
   {
    "duration": 195,
    "start_time": "2021-10-31T16:31:02.457Z"
   },
   {
    "duration": 5,
    "start_time": "2021-10-31T16:31:02.654Z"
   },
   {
    "duration": 177,
    "start_time": "2021-10-31T16:31:02.662Z"
   },
   {
    "duration": 141,
    "start_time": "2021-10-31T16:31:02.844Z"
   },
   {
    "duration": 162,
    "start_time": "2021-10-31T16:31:02.989Z"
   },
   {
    "duration": 5,
    "start_time": "2021-10-31T16:31:03.154Z"
   },
   {
    "duration": 36,
    "start_time": "2021-10-31T16:31:03.161Z"
   },
   {
    "duration": 4,
    "start_time": "2021-10-31T16:31:03.200Z"
   },
   {
    "duration": 15,
    "start_time": "2021-10-31T16:31:03.206Z"
   },
   {
    "duration": 104,
    "start_time": "2021-10-31T16:31:03.229Z"
   },
   {
    "duration": 10,
    "start_time": "2021-10-31T16:31:03.341Z"
   },
   {
    "duration": 112,
    "start_time": "2021-10-31T16:31:03.354Z"
   },
   {
    "duration": 126,
    "start_time": "2021-10-31T16:31:03.535Z"
   },
   {
    "duration": 131,
    "start_time": "2021-10-31T16:31:03.730Z"
   },
   {
    "duration": 5,
    "start_time": "2021-10-31T16:31:03.938Z"
   },
   {
    "duration": 95,
    "start_time": "2021-10-31T16:31:03.947Z"
   },
   {
    "duration": 18,
    "start_time": "2021-10-31T16:31:04.045Z"
   },
   {
    "duration": 14,
    "start_time": "2021-10-31T16:31:04.066Z"
   },
   {
    "duration": 26,
    "start_time": "2021-10-31T16:31:04.083Z"
   },
   {
    "duration": 18,
    "start_time": "2021-10-31T16:31:04.112Z"
   },
   {
    "duration": 21,
    "start_time": "2021-10-31T16:31:04.133Z"
   },
   {
    "duration": 33,
    "start_time": "2021-10-31T16:31:04.159Z"
   },
   {
    "duration": 15,
    "start_time": "2021-10-31T16:31:04.195Z"
   },
   {
    "duration": 24,
    "start_time": "2021-10-31T16:31:04.212Z"
   },
   {
    "duration": 14,
    "start_time": "2021-10-31T16:31:04.239Z"
   },
   {
    "duration": 326,
    "start_time": "2021-10-31T16:31:04.256Z"
   },
   {
    "duration": 1546,
    "start_time": "2021-10-31T16:33:22.683Z"
   },
   {
    "duration": 4,
    "start_time": "2021-10-31T16:33:24.233Z"
   },
   {
    "duration": 8,
    "start_time": "2021-10-31T16:33:24.240Z"
   },
   {
    "duration": 205,
    "start_time": "2021-10-31T16:33:24.250Z"
   },
   {
    "duration": 166,
    "start_time": "2021-10-31T16:33:24.457Z"
   },
   {
    "duration": 172,
    "start_time": "2021-10-31T16:33:24.629Z"
   },
   {
    "duration": 4,
    "start_time": "2021-10-31T16:33:24.804Z"
   },
   {
    "duration": 156,
    "start_time": "2021-10-31T16:33:24.811Z"
   },
   {
    "duration": 144,
    "start_time": "2021-10-31T16:33:24.971Z"
   },
   {
    "duration": 143,
    "start_time": "2021-10-31T16:33:25.134Z"
   },
   {
    "duration": 6,
    "start_time": "2021-10-31T16:33:25.279Z"
   },
   {
    "duration": 49,
    "start_time": "2021-10-31T16:33:25.288Z"
   },
   {
    "duration": 5,
    "start_time": "2021-10-31T16:33:25.340Z"
   },
   {
    "duration": 7,
    "start_time": "2021-10-31T16:33:25.348Z"
   },
   {
    "duration": 81,
    "start_time": "2021-10-31T16:33:25.358Z"
   },
   {
    "duration": 100,
    "start_time": "2021-10-31T16:33:25.441Z"
   },
   {
    "duration": 94,
    "start_time": "2021-10-31T16:33:25.544Z"
   },
   {
    "duration": 192,
    "start_time": "2021-10-31T16:33:25.641Z"
   },
   {
    "duration": 115,
    "start_time": "2021-10-31T16:33:25.835Z"
   },
   {
    "duration": 86,
    "start_time": "2021-10-31T16:33:25.954Z"
   },
   {
    "duration": 100,
    "start_time": "2021-10-31T16:33:26.043Z"
   },
   {
    "duration": 5,
    "start_time": "2021-10-31T16:33:26.146Z"
   },
   {
    "duration": 5,
    "start_time": "2021-10-31T16:33:26.154Z"
   },
   {
    "duration": 6,
    "start_time": "2021-10-31T16:33:26.161Z"
   },
   {
    "duration": 9,
    "start_time": "2021-10-31T16:33:26.169Z"
   },
   {
    "duration": 64,
    "start_time": "2021-10-31T16:33:26.180Z"
   },
   {
    "duration": 13,
    "start_time": "2021-10-31T16:33:26.249Z"
   },
   {
    "duration": 72,
    "start_time": "2021-10-31T16:33:26.264Z"
   },
   {
    "duration": 13,
    "start_time": "2021-10-31T16:33:26.338Z"
   },
   {
    "duration": 609,
    "start_time": "2021-10-31T16:33:26.353Z"
   },
   {
    "duration": 6,
    "start_time": "2021-10-31T16:33:26.965Z"
   },
   {
    "duration": 243,
    "start_time": "2021-10-31T16:33:26.973Z"
   },
   {
    "duration": 377,
    "start_time": "2021-10-31T16:33:27.218Z"
   },
   {
    "duration": 15656,
    "start_time": "2021-10-31T16:33:11.942Z"
   },
   {
    "duration": 15655,
    "start_time": "2021-10-31T16:33:11.944Z"
   },
   {
    "duration": 15656,
    "start_time": "2021-10-31T16:33:11.945Z"
   },
   {
    "duration": 15655,
    "start_time": "2021-10-31T16:33:11.947Z"
   },
   {
    "duration": 15651,
    "start_time": "2021-10-31T16:33:11.952Z"
   },
   {
    "duration": 13,
    "start_time": "2021-10-31T16:33:58.580Z"
   },
   {
    "duration": 22,
    "start_time": "2021-10-31T16:42:34.698Z"
   },
   {
    "duration": 248,
    "start_time": "2021-10-31T16:43:00.978Z"
   },
   {
    "duration": 1510,
    "start_time": "2021-10-31T16:44:01.155Z"
   },
   {
    "duration": 4,
    "start_time": "2021-10-31T16:44:02.668Z"
   },
   {
    "duration": 12,
    "start_time": "2021-10-31T16:44:02.675Z"
   },
   {
    "duration": 193,
    "start_time": "2021-10-31T16:44:02.690Z"
   },
   {
    "duration": 169,
    "start_time": "2021-10-31T16:44:02.886Z"
   },
   {
    "duration": 180,
    "start_time": "2021-10-31T16:44:03.058Z"
   },
   {
    "duration": 4,
    "start_time": "2021-10-31T16:44:03.240Z"
   },
   {
    "duration": 148,
    "start_time": "2021-10-31T16:44:03.248Z"
   },
   {
    "duration": 139,
    "start_time": "2021-10-31T16:44:03.399Z"
   },
   {
    "duration": 130,
    "start_time": "2021-10-31T16:44:03.540Z"
   },
   {
    "duration": 6,
    "start_time": "2021-10-31T16:44:03.672Z"
   },
   {
    "duration": 19,
    "start_time": "2021-10-31T16:44:03.680Z"
   },
   {
    "duration": 5,
    "start_time": "2021-10-31T16:44:03.702Z"
   },
   {
    "duration": 5,
    "start_time": "2021-10-31T16:44:03.729Z"
   },
   {
    "duration": 97,
    "start_time": "2021-10-31T16:44:03.737Z"
   },
   {
    "duration": 97,
    "start_time": "2021-10-31T16:44:03.837Z"
   },
   {
    "duration": 98,
    "start_time": "2021-10-31T16:44:03.937Z"
   },
   {
    "duration": 120,
    "start_time": "2021-10-31T16:44:04.038Z"
   },
   {
    "duration": 122,
    "start_time": "2021-10-31T16:44:04.236Z"
   },
   {
    "duration": 69,
    "start_time": "2021-10-31T16:44:04.361Z"
   },
   {
    "duration": 109,
    "start_time": "2021-10-31T16:44:04.433Z"
   },
   {
    "duration": 10,
    "start_time": "2021-10-31T16:44:04.545Z"
   },
   {
    "duration": 5,
    "start_time": "2021-10-31T16:44:04.560Z"
   },
   {
    "duration": 7,
    "start_time": "2021-10-31T16:44:04.567Z"
   },
   {
    "duration": 5,
    "start_time": "2021-10-31T16:44:04.576Z"
   },
   {
    "duration": 397,
    "start_time": "2021-10-31T16:44:04.583Z"
   },
   {
    "duration": 15636,
    "start_time": "2021-10-31T16:43:49.346Z"
   },
   {
    "duration": 15635,
    "start_time": "2021-10-31T16:43:49.349Z"
   },
   {
    "duration": 15634,
    "start_time": "2021-10-31T16:43:49.351Z"
   },
   {
    "duration": 15634,
    "start_time": "2021-10-31T16:43:49.353Z"
   },
   {
    "duration": 15631,
    "start_time": "2021-10-31T16:43:49.357Z"
   },
   {
    "duration": 15626,
    "start_time": "2021-10-31T16:43:49.363Z"
   },
   {
    "duration": 15625,
    "start_time": "2021-10-31T16:43:49.366Z"
   },
   {
    "duration": 15624,
    "start_time": "2021-10-31T16:43:49.368Z"
   },
   {
    "duration": 15623,
    "start_time": "2021-10-31T16:43:49.370Z"
   },
   {
    "duration": 15622,
    "start_time": "2021-10-31T16:43:49.373Z"
   },
   {
    "duration": 15621,
    "start_time": "2021-10-31T16:43:49.375Z"
   },
   {
    "duration": 15620,
    "start_time": "2021-10-31T16:43:49.377Z"
   },
   {
    "duration": 15619,
    "start_time": "2021-10-31T16:43:49.379Z"
   },
   {
    "duration": 15620,
    "start_time": "2021-10-31T16:43:49.380Z"
   },
   {
    "duration": 10,
    "start_time": "2021-10-31T16:44:17.285Z"
   },
   {
    "duration": 10,
    "start_time": "2021-10-31T16:44:18.935Z"
   },
   {
    "duration": 9,
    "start_time": "2021-10-31T16:44:19.551Z"
   },
   {
    "duration": 11,
    "start_time": "2021-10-31T16:44:21.200Z"
   },
   {
    "duration": 338,
    "start_time": "2021-10-31T16:44:23.375Z"
   },
   {
    "duration": 216,
    "start_time": "2021-10-31T16:44:37.702Z"
   },
   {
    "duration": 212,
    "start_time": "2021-10-31T16:45:43.927Z"
   },
   {
    "duration": 259,
    "start_time": "2021-10-31T16:46:11.259Z"
   },
   {
    "duration": 484,
    "start_time": "2021-10-31T16:46:21.653Z"
   },
   {
    "duration": 473,
    "start_time": "2021-10-31T16:46:24.578Z"
   },
   {
    "duration": 202,
    "start_time": "2021-10-31T16:47:00.098Z"
   },
   {
    "duration": 585,
    "start_time": "2021-10-31T16:47:22.329Z"
   },
   {
    "duration": 214,
    "start_time": "2021-10-31T16:47:32.005Z"
   },
   {
    "duration": 214,
    "start_time": "2021-10-31T16:48:11.883Z"
   },
   {
    "duration": 261,
    "start_time": "2021-10-31T16:50:12.191Z"
   },
   {
    "duration": 256,
    "start_time": "2021-10-31T16:50:20.367Z"
   },
   {
    "duration": 223,
    "start_time": "2021-10-31T16:50:25.676Z"
   },
   {
    "duration": 222,
    "start_time": "2021-10-31T16:50:44.862Z"
   },
   {
    "duration": 260,
    "start_time": "2021-10-31T16:51:08.187Z"
   },
   {
    "duration": 163,
    "start_time": "2021-10-31T16:51:50.278Z"
   },
   {
    "duration": 257,
    "start_time": "2021-10-31T16:51:52.917Z"
   },
   {
    "duration": 9,
    "start_time": "2021-10-31T16:52:11.969Z"
   },
   {
    "duration": 9,
    "start_time": "2021-10-31T16:52:12.553Z"
   },
   {
    "duration": 9,
    "start_time": "2021-10-31T16:52:12.853Z"
   },
   {
    "duration": 12,
    "start_time": "2021-10-31T16:52:13.737Z"
   },
   {
    "duration": 245,
    "start_time": "2021-10-31T16:55:09.181Z"
   },
   {
    "duration": 522,
    "start_time": "2021-10-31T16:55:20.446Z"
   },
   {
    "duration": 248,
    "start_time": "2021-10-31T16:57:21.319Z"
   },
   {
    "duration": 227,
    "start_time": "2021-10-31T16:57:35.403Z"
   },
   {
    "duration": 4,
    "start_time": "2021-10-31T16:59:50.570Z"
   },
   {
    "duration": 1332,
    "start_time": "2021-11-02T08:35:29.254Z"
   },
   {
    "duration": 2,
    "start_time": "2021-11-02T08:35:30.589Z"
   },
   {
    "duration": 10,
    "start_time": "2021-11-02T08:35:30.593Z"
   },
   {
    "duration": 150,
    "start_time": "2021-11-02T08:35:30.605Z"
   },
   {
    "duration": 132,
    "start_time": "2021-11-02T08:35:30.757Z"
   },
   {
    "duration": 129,
    "start_time": "2021-11-02T08:35:30.891Z"
   },
   {
    "duration": 3,
    "start_time": "2021-11-02T08:35:31.022Z"
   },
   {
    "duration": 120,
    "start_time": "2021-11-02T08:35:31.027Z"
   },
   {
    "duration": 111,
    "start_time": "2021-11-02T08:35:31.150Z"
   },
   {
    "duration": 115,
    "start_time": "2021-11-02T08:35:31.263Z"
   },
   {
    "duration": 5,
    "start_time": "2021-11-02T08:35:31.379Z"
   },
   {
    "duration": 17,
    "start_time": "2021-11-02T08:35:31.386Z"
   },
   {
    "duration": 4,
    "start_time": "2021-11-02T08:35:31.405Z"
   },
   {
    "duration": 8,
    "start_time": "2021-11-02T08:35:31.411Z"
   },
   {
    "duration": 65,
    "start_time": "2021-11-02T08:35:31.421Z"
   },
   {
    "duration": 6,
    "start_time": "2021-11-02T08:35:31.577Z"
   },
   {
    "duration": 36,
    "start_time": "2021-11-02T08:35:31.586Z"
   },
   {
    "duration": 111,
    "start_time": "2021-11-02T08:35:31.678Z"
   },
   {
    "duration": 196,
    "start_time": "2021-11-02T08:35:31.792Z"
   },
   {
    "duration": 87,
    "start_time": "2021-11-02T08:35:31.990Z"
   },
   {
    "duration": 5,
    "start_time": "2021-11-02T08:35:32.079Z"
   },
   {
    "duration": 96,
    "start_time": "2021-11-02T08:35:32.086Z"
   },
   {
    "duration": 6,
    "start_time": "2021-11-02T08:35:32.184Z"
   },
   {
    "duration": 5,
    "start_time": "2021-11-02T08:35:32.192Z"
   },
   {
    "duration": 6,
    "start_time": "2021-11-02T08:35:32.198Z"
   },
   {
    "duration": 9,
    "start_time": "2021-11-02T08:35:32.205Z"
   },
   {
    "duration": 6,
    "start_time": "2021-11-02T08:35:32.218Z"
   },
   {
    "duration": 9,
    "start_time": "2021-11-02T08:35:32.226Z"
   },
   {
    "duration": 42,
    "start_time": "2021-11-02T08:35:32.236Z"
   },
   {
    "duration": 208,
    "start_time": "2021-11-02T08:35:32.279Z"
   },
   {
    "duration": 3,
    "start_time": "2021-11-02T08:35:32.489Z"
   },
   {
    "duration": 422,
    "start_time": "2021-11-02T08:35:32.493Z"
   },
   {
    "duration": 6,
    "start_time": "2021-11-02T08:35:48.333Z"
   },
   {
    "duration": 4,
    "start_time": "2021-11-02T08:36:05.758Z"
   },
   {
    "duration": 16,
    "start_time": "2021-11-02T08:36:27.414Z"
   },
   {
    "duration": 361,
    "start_time": "2021-11-02T08:36:36.059Z"
   },
   {
    "duration": 4,
    "start_time": "2021-11-02T08:39:23.230Z"
   },
   {
    "duration": 5,
    "start_time": "2021-11-02T08:39:37.437Z"
   },
   {
    "duration": 3,
    "start_time": "2021-11-02T08:48:00.884Z"
   },
   {
    "duration": 5,
    "start_time": "2021-11-02T08:48:05.362Z"
   },
   {
    "duration": 6,
    "start_time": "2021-11-02T08:48:15.360Z"
   },
   {
    "duration": 10,
    "start_time": "2021-11-02T08:48:32.230Z"
   },
   {
    "duration": 356,
    "start_time": "2021-11-02T08:50:27.599Z"
   },
   {
    "duration": 986,
    "start_time": "2021-11-02T08:50:46.787Z"
   },
   {
    "duration": 117,
    "start_time": "2021-11-02T08:51:12.988Z"
   },
   {
    "duration": 356,
    "start_time": "2021-11-02T08:51:24.201Z"
   },
   {
    "duration": 3,
    "start_time": "2021-11-02T08:51:33.088Z"
   },
   {
    "duration": 442,
    "start_time": "2021-11-02T08:51:34.167Z"
   },
   {
    "duration": 6,
    "start_time": "2021-11-02T08:52:29.245Z"
   },
   {
    "duration": 4,
    "start_time": "2021-11-02T08:52:35.346Z"
   },
   {
    "duration": 5,
    "start_time": "2021-11-02T08:53:07.409Z"
   },
   {
    "duration": 6,
    "start_time": "2021-11-02T08:53:29.497Z"
   },
   {
    "duration": 382,
    "start_time": "2021-11-02T08:54:02.252Z"
   },
   {
    "duration": 4,
    "start_time": "2021-11-02T08:55:58.072Z"
   },
   {
    "duration": 411,
    "start_time": "2021-11-02T08:56:04.524Z"
   },
   {
    "duration": 3,
    "start_time": "2021-11-02T08:59:22.085Z"
   },
   {
    "duration": 7,
    "start_time": "2021-11-02T08:59:27.392Z"
   },
   {
    "duration": 9,
    "start_time": "2021-11-02T08:59:56.994Z"
   },
   {
    "duration": 396,
    "start_time": "2021-11-02T09:00:19.552Z"
   },
   {
    "duration": 3,
    "start_time": "2021-11-02T09:15:54.286Z"
   },
   {
    "duration": 353,
    "start_time": "2021-11-02T09:15:56.079Z"
   },
   {
    "duration": 683,
    "start_time": "2021-11-02T09:16:11.354Z"
   },
   {
    "duration": 1233,
    "start_time": "2021-11-05T13:13:41.859Z"
   },
   {
    "duration": 3,
    "start_time": "2021-11-05T13:13:43.094Z"
   },
   {
    "duration": 3,
    "start_time": "2021-11-05T13:13:43.106Z"
   },
   {
    "duration": 149,
    "start_time": "2021-11-05T13:13:43.111Z"
   },
   {
    "duration": 135,
    "start_time": "2021-11-05T13:13:43.261Z"
   },
   {
    "duration": 136,
    "start_time": "2021-11-05T13:13:43.398Z"
   },
   {
    "duration": 3,
    "start_time": "2021-11-05T13:13:43.536Z"
   },
   {
    "duration": 125,
    "start_time": "2021-11-05T13:13:43.542Z"
   },
   {
    "duration": 118,
    "start_time": "2021-11-05T13:13:43.669Z"
   },
   {
    "duration": 106,
    "start_time": "2021-11-05T13:13:43.789Z"
   },
   {
    "duration": 5,
    "start_time": "2021-11-05T13:13:43.907Z"
   },
   {
    "duration": 19,
    "start_time": "2021-11-05T13:13:43.913Z"
   },
   {
    "duration": 3,
    "start_time": "2021-11-05T13:13:43.933Z"
   },
   {
    "duration": 14,
    "start_time": "2021-11-05T13:13:43.938Z"
   },
   {
    "duration": 62,
    "start_time": "2021-11-05T13:13:43.954Z"
   },
   {
    "duration": 7,
    "start_time": "2021-11-05T13:13:44.108Z"
   },
   {
    "duration": 58,
    "start_time": "2021-11-05T13:13:44.117Z"
   },
   {
    "duration": 118,
    "start_time": "2021-11-05T13:13:44.206Z"
   },
   {
    "duration": 121,
    "start_time": "2021-11-05T13:13:44.406Z"
   },
   {
    "duration": 99,
    "start_time": "2021-11-05T13:13:44.607Z"
   },
   {
    "duration": 10,
    "start_time": "2021-11-05T13:13:44.708Z"
   },
   {
    "duration": 6,
    "start_time": "2021-11-05T13:13:44.720Z"
   },
   {
    "duration": 10,
    "start_time": "2021-11-05T13:13:44.729Z"
   },
   {
    "duration": 14,
    "start_time": "2021-11-05T13:13:44.741Z"
   },
   {
    "duration": 6,
    "start_time": "2021-11-05T13:13:44.757Z"
   },
   {
    "duration": 19,
    "start_time": "2021-11-05T13:13:44.765Z"
   },
   {
    "duration": 817,
    "start_time": "2021-11-05T13:13:44.786Z"
   },
   {
    "duration": -3529,
    "start_time": "2021-11-05T13:13:49.134Z"
   },
   {
    "duration": -3669,
    "start_time": "2021-11-05T13:13:49.275Z"
   },
   {
    "duration": -3671,
    "start_time": "2021-11-05T13:13:49.278Z"
   },
   {
    "duration": -3672,
    "start_time": "2021-11-05T13:13:49.280Z"
   },
   {
    "duration": -3674,
    "start_time": "2021-11-05T13:13:49.283Z"
   },
   {
    "duration": -3685,
    "start_time": "2021-11-05T13:13:49.295Z"
   },
   {
    "duration": -3687,
    "start_time": "2021-11-05T13:13:49.298Z"
   },
   {
    "duration": -3688,
    "start_time": "2021-11-05T13:13:49.300Z"
   },
   {
    "duration": -3690,
    "start_time": "2021-11-05T13:13:49.303Z"
   },
   {
    "duration": -3690,
    "start_time": "2021-11-05T13:13:49.304Z"
   },
   {
    "duration": 5,
    "start_time": "2021-11-05T13:16:03.252Z"
   },
   {
    "duration": 11,
    "start_time": "2021-11-05T13:17:24.537Z"
   },
   {
    "duration": 6,
    "start_time": "2021-11-05T13:17:37.389Z"
   },
   {
    "duration": 4,
    "start_time": "2021-11-05T13:17:50.109Z"
   },
   {
    "duration": 10,
    "start_time": "2021-11-05T13:17:54.921Z"
   },
   {
    "duration": 10,
    "start_time": "2021-11-05T13:19:00.064Z"
   },
   {
    "duration": 10,
    "start_time": "2021-11-05T13:19:00.832Z"
   },
   {
    "duration": 113,
    "start_time": "2021-11-05T13:19:53.386Z"
   },
   {
    "duration": 6,
    "start_time": "2021-11-05T13:20:08.453Z"
   },
   {
    "duration": 132,
    "start_time": "2021-11-05T13:20:13.139Z"
   },
   {
    "duration": 123,
    "start_time": "2021-11-05T13:20:54.599Z"
   },
   {
    "duration": 350,
    "start_time": "2021-11-05T13:20:59.138Z"
   },
   {
    "duration": 4,
    "start_time": "2021-11-05T13:21:04.268Z"
   },
   {
    "duration": 335,
    "start_time": "2021-11-05T13:21:05.206Z"
   },
   {
    "duration": 3,
    "start_time": "2021-11-05T13:21:25.099Z"
   },
   {
    "duration": 354,
    "start_time": "2021-11-05T13:21:26.110Z"
   },
   {
    "duration": 7,
    "start_time": "2021-11-05T13:21:31.850Z"
   },
   {
    "duration": 8,
    "start_time": "2021-11-05T13:21:40.027Z"
   },
   {
    "duration": 9,
    "start_time": "2021-11-05T13:23:42.649Z"
   },
   {
    "duration": 200,
    "start_time": "2021-11-05T13:23:43.382Z"
   },
   {
    "duration": 4,
    "start_time": "2021-11-05T13:23:48.293Z"
   },
   {
    "duration": 379,
    "start_time": "2021-11-05T13:36:19.243Z"
   },
   {
    "duration": 7,
    "start_time": "2021-11-05T13:37:02.287Z"
   },
   {
    "duration": 7,
    "start_time": "2021-11-05T13:37:30.518Z"
   },
   {
    "duration": 5,
    "start_time": "2021-11-05T13:37:49.420Z"
   },
   {
    "duration": 6,
    "start_time": "2021-11-05T13:38:00.934Z"
   },
   {
    "duration": 3,
    "start_time": "2021-11-05T13:38:11.324Z"
   },
   {
    "duration": 5,
    "start_time": "2021-11-05T13:38:17.985Z"
   },
   {
    "duration": 3,
    "start_time": "2021-11-05T13:39:09.932Z"
   },
   {
    "duration": 6,
    "start_time": "2021-11-05T13:39:14.961Z"
   },
   {
    "duration": 3,
    "start_time": "2021-11-05T13:39:19.763Z"
   },
   {
    "duration": 6,
    "start_time": "2021-11-05T13:39:20.486Z"
   },
   {
    "duration": 7,
    "start_time": "2021-11-05T13:40:07.956Z"
   },
   {
    "duration": 12,
    "start_time": "2021-11-05T13:40:19.903Z"
   },
   {
    "duration": 8,
    "start_time": "2021-11-05T13:40:31.278Z"
   },
   {
    "duration": 5,
    "start_time": "2021-11-05T13:41:00.645Z"
   },
   {
    "duration": 5,
    "start_time": "2021-11-05T13:41:09.257Z"
   },
   {
    "duration": 187,
    "start_time": "2021-11-05T13:53:14.303Z"
   },
   {
    "duration": 5,
    "start_time": "2021-11-05T13:53:22.640Z"
   },
   {
    "duration": 4040,
    "start_time": "2021-11-05T13:54:01.183Z"
   },
   {
    "duration": 5,
    "start_time": "2021-11-05T14:00:45.848Z"
   },
   {
    "duration": 4302,
    "start_time": "2021-11-05T14:00:48.088Z"
   },
   {
    "duration": 6,
    "start_time": "2021-11-05T14:02:52.741Z"
   },
   {
    "duration": 3032,
    "start_time": "2021-11-05T14:02:53.846Z"
   },
   {
    "duration": 6,
    "start_time": "2021-11-05T14:03:31.333Z"
   },
   {
    "duration": 47,
    "start_time": "2021-11-05T14:03:32.326Z"
   },
   {
    "duration": 6,
    "start_time": "2021-11-05T14:05:08.161Z"
   },
   {
    "duration": 84,
    "start_time": "2021-11-05T14:05:09.409Z"
   },
   {
    "duration": 115,
    "start_time": "2021-11-05T14:11:19.304Z"
   },
   {
    "duration": 7,
    "start_time": "2021-11-05T14:11:25.034Z"
   },
   {
    "duration": 81,
    "start_time": "2021-11-05T14:11:25.712Z"
   },
   {
    "duration": 6,
    "start_time": "2021-11-05T14:12:07.056Z"
   },
   {
    "duration": 383,
    "start_time": "2021-11-05T14:12:08.565Z"
   },
   {
    "duration": 130,
    "start_time": "2021-11-05T14:13:12.096Z"
   },
   {
    "duration": 383,
    "start_time": "2021-11-05T14:13:13.029Z"
   },
   {
    "duration": 6,
    "start_time": "2021-11-05T14:13:35.697Z"
   },
   {
    "duration": 454,
    "start_time": "2021-11-05T14:13:38.230Z"
   },
   {
    "duration": 6,
    "start_time": "2021-11-05T14:14:32.618Z"
   },
   {
    "duration": 3003,
    "start_time": "2021-11-05T14:14:33.769Z"
   },
   {
    "duration": 923,
    "start_time": "2021-11-05T14:15:52.625Z"
   },
   {
    "duration": 3138,
    "start_time": "2021-11-05T14:15:53.731Z"
   },
   {
    "duration": 6,
    "start_time": "2021-11-05T14:16:10.663Z"
   },
   {
    "duration": 754,
    "start_time": "2021-11-05T14:16:11.802Z"
   },
   {
    "duration": 7,
    "start_time": "2021-11-05T14:16:36.349Z"
   },
   {
    "duration": 39,
    "start_time": "2021-11-05T14:16:37.201Z"
   },
   {
    "duration": 8,
    "start_time": "2021-11-05T14:17:44.059Z"
   },
   {
    "duration": 38,
    "start_time": "2021-11-05T14:17:45.862Z"
   },
   {
    "duration": 6,
    "start_time": "2021-11-05T14:18:00.991Z"
   },
   {
    "duration": 39,
    "start_time": "2021-11-05T14:18:01.705Z"
   },
   {
    "duration": 40,
    "start_time": "2021-11-05T14:18:07.895Z"
   },
   {
    "duration": 39,
    "start_time": "2021-11-05T14:18:13.197Z"
   },
   {
    "duration": 6,
    "start_time": "2021-11-05T14:18:28.475Z"
   },
   {
    "duration": 3262,
    "start_time": "2021-11-05T14:18:30.213Z"
   },
   {
    "duration": 4789,
    "start_time": "2021-11-05T14:18:41.068Z"
   },
   {
    "duration": 4996,
    "start_time": "2021-11-05T14:18:50.184Z"
   },
   {
    "duration": 6,
    "start_time": "2021-11-05T14:19:28.925Z"
   },
   {
    "duration": 3068,
    "start_time": "2021-11-05T14:19:29.374Z"
   },
   {
    "duration": 3050,
    "start_time": "2021-11-05T14:19:48.522Z"
   },
   {
    "duration": 3048,
    "start_time": "2021-11-05T14:20:14.900Z"
   },
   {
    "duration": 3164,
    "start_time": "2021-11-05T14:20:23.198Z"
   },
   {
    "duration": 3308,
    "start_time": "2021-11-05T14:20:44.341Z"
   },
   {
    "duration": 3463,
    "start_time": "2021-11-05T14:20:58.624Z"
   },
   {
    "duration": 9,
    "start_time": "2021-11-05T14:24:56.584Z"
   },
   {
    "duration": 3,
    "start_time": "2021-11-05T14:24:57.133Z"
   },
   {
    "duration": 3,
    "start_time": "2021-11-05T14:24:57.933Z"
   },
   {
    "duration": 4,
    "start_time": "2021-11-05T14:24:58.633Z"
   },
   {
    "duration": 4,
    "start_time": "2021-11-05T14:24:59.214Z"
   },
   {
    "duration": 4,
    "start_time": "2021-11-05T14:25:05.141Z"
   },
   {
    "duration": 10,
    "start_time": "2021-11-05T14:25:05.793Z"
   },
   {
    "duration": 9,
    "start_time": "2021-11-05T14:25:06.373Z"
   },
   {
    "duration": 9,
    "start_time": "2021-11-05T14:25:07.293Z"
   },
   {
    "duration": 9,
    "start_time": "2021-11-05T14:25:11.813Z"
   },
   {
    "duration": 196,
    "start_time": "2021-11-05T14:25:15.254Z"
   },
   {
    "duration": 3,
    "start_time": "2021-11-05T14:25:39.413Z"
   },
   {
    "duration": 4,
    "start_time": "2021-11-05T14:25:39.933Z"
   },
   {
    "duration": 4,
    "start_time": "2021-11-05T14:25:40.113Z"
   },
   {
    "duration": 4,
    "start_time": "2021-11-05T14:25:40.281Z"
   },
   {
    "duration": 4,
    "start_time": "2021-11-05T14:25:40.442Z"
   },
   {
    "duration": 4,
    "start_time": "2021-11-05T14:25:41.429Z"
   },
   {
    "duration": 10,
    "start_time": "2021-11-05T14:25:41.773Z"
   },
   {
    "duration": 10,
    "start_time": "2021-11-05T14:25:41.984Z"
   },
   {
    "duration": 11,
    "start_time": "2021-11-05T14:25:42.172Z"
   },
   {
    "duration": 9,
    "start_time": "2021-11-05T14:25:42.944Z"
   },
   {
    "duration": 199,
    "start_time": "2021-11-05T14:25:44.132Z"
   },
   {
    "duration": 3513,
    "start_time": "2021-11-05T14:26:50.454Z"
   },
   {
    "duration": 74,
    "start_time": "2021-11-05T14:28:45.446Z"
   },
   {
    "duration": 3062,
    "start_time": "2021-11-05T14:28:46.445Z"
   },
   {
    "duration": 4,
    "start_time": "2021-11-05T14:28:56.574Z"
   },
   {
    "duration": 4,
    "start_time": "2021-11-05T14:29:04.430Z"
   },
   {
    "duration": 3480,
    "start_time": "2021-11-05T14:29:42.007Z"
   },
   {
    "duration": 3312,
    "start_time": "2021-11-05T14:29:45.489Z"
   },
   {
    "duration": 11,
    "start_time": "2021-11-05T14:31:32.750Z"
   },
   {
    "duration": 9,
    "start_time": "2021-11-05T14:32:17.377Z"
   },
   {
    "duration": 6,
    "start_time": "2021-11-05T14:32:47.759Z"
   },
   {
    "duration": 9798,
    "start_time": "2021-11-05T14:32:51.086Z"
   },
   {
    "duration": 5,
    "start_time": "2021-11-05T14:33:08.534Z"
   },
   {
    "duration": 6,
    "start_time": "2021-11-05T14:33:17.526Z"
   },
   {
    "duration": 7,
    "start_time": "2021-11-05T14:33:31.686Z"
   },
   {
    "duration": 351,
    "start_time": "2021-11-05T14:33:41.466Z"
   },
   {
    "duration": 6,
    "start_time": "2021-11-05T14:33:49.514Z"
   },
   {
    "duration": 187,
    "start_time": "2021-11-05T14:34:36.522Z"
   },
   {
    "duration": 197,
    "start_time": "2021-11-05T14:34:57.062Z"
   },
   {
    "duration": 278,
    "start_time": "2021-11-05T14:35:41.883Z"
   },
   {
    "duration": 200,
    "start_time": "2021-11-05T14:36:21.911Z"
   },
   {
    "duration": 195,
    "start_time": "2021-11-05T14:37:20.213Z"
   },
   {
    "duration": 190,
    "start_time": "2021-11-05T14:37:54.973Z"
   },
   {
    "duration": 9,
    "start_time": "2021-11-05T14:38:11.270Z"
   },
   {
    "duration": 193,
    "start_time": "2021-11-05T14:38:12.173Z"
   },
   {
    "duration": 11,
    "start_time": "2021-11-05T14:38:25.499Z"
   },
   {
    "duration": 184,
    "start_time": "2021-11-05T14:38:26.920Z"
   },
   {
    "duration": 206,
    "start_time": "2021-11-05T14:38:33.271Z"
   },
   {
    "duration": 2,
    "start_time": "2021-11-05T14:56:33.628Z"
   },
   {
    "duration": 452,
    "start_time": "2021-11-05T14:57:03.682Z"
   },
   {
    "duration": 3,
    "start_time": "2021-11-05T15:01:44.806Z"
   },
   {
    "duration": 6,
    "start_time": "2021-11-05T15:01:45.394Z"
   },
   {
    "duration": 96,
    "start_time": "2021-11-05T15:01:56.917Z"
   },
   {
    "duration": 8,
    "start_time": "2021-11-05T15:02:32.730Z"
   },
   {
    "duration": 29,
    "start_time": "2021-11-05T15:02:33.755Z"
   },
   {
    "duration": 30,
    "start_time": "2021-11-05T15:02:45.600Z"
   },
   {
    "duration": 84,
    "start_time": "2021-11-05T15:03:13.123Z"
   },
   {
    "duration": 7,
    "start_time": "2021-11-05T15:07:13.232Z"
   },
   {
    "duration": 36,
    "start_time": "2021-11-05T15:07:14.502Z"
   },
   {
    "duration": 63,
    "start_time": "2021-11-05T15:07:22.048Z"
   },
   {
    "duration": 31,
    "start_time": "2021-11-05T15:07:35.352Z"
   },
   {
    "duration": 6,
    "start_time": "2021-11-05T15:09:02.126Z"
   },
   {
    "duration": 112,
    "start_time": "2021-11-05T15:09:04.493Z"
   },
   {
    "duration": 380,
    "start_time": "2021-11-05T15:09:17.695Z"
   },
   {
    "duration": 445,
    "start_time": "2021-11-05T15:09:40.825Z"
   },
   {
    "duration": 9,
    "start_time": "2021-11-05T15:09:48.423Z"
   },
   {
    "duration": 39,
    "start_time": "2021-11-05T15:09:50.164Z"
   },
   {
    "duration": 370,
    "start_time": "2021-11-05T15:09:55.513Z"
   },
   {
    "duration": 4,
    "start_time": "2021-11-05T15:10:13.625Z"
   },
   {
    "duration": 6,
    "start_time": "2021-11-05T15:10:24.264Z"
   },
   {
    "duration": 108,
    "start_time": "2021-11-05T15:10:26.405Z"
   },
   {
    "duration": 6,
    "start_time": "2021-11-05T15:10:31.645Z"
   },
   {
    "duration": 6,
    "start_time": "2021-11-05T15:10:51.086Z"
   },
   {
    "duration": 9,
    "start_time": "2021-11-05T15:11:36.274Z"
   },
   {
    "duration": 9,
    "start_time": "2021-11-05T15:12:30.406Z"
   },
   {
    "duration": 6,
    "start_time": "2021-11-05T15:13:39.724Z"
   },
   {
    "duration": 55,
    "start_time": "2021-11-05T15:13:40.153Z"
   },
   {
    "duration": 85,
    "start_time": "2021-11-05T15:13:40.725Z"
   },
   {
    "duration": 87,
    "start_time": "2021-11-05T15:13:41.220Z"
   },
   {
    "duration": 3,
    "start_time": "2021-11-05T15:22:48.085Z"
   },
   {
    "duration": 3,
    "start_time": "2021-11-05T15:23:11.539Z"
   },
   {
    "duration": 367,
    "start_time": "2021-11-05T15:24:40.097Z"
   },
   {
    "duration": 3,
    "start_time": "2021-11-05T15:24:47.477Z"
   },
   {
    "duration": 21,
    "start_time": "2021-11-05T15:26:26.393Z"
   },
   {
    "duration": 22,
    "start_time": "2021-11-05T15:27:28.613Z"
   },
   {
    "duration": 6,
    "start_time": "2021-11-05T15:30:07.970Z"
   },
   {
    "duration": 734,
    "start_time": "2021-11-05T15:30:11.661Z"
   },
   {
    "duration": 6,
    "start_time": "2021-11-05T15:30:22.693Z"
   },
   {
    "duration": 96,
    "start_time": "2021-11-05T15:30:23.413Z"
   },
   {
    "duration": 37,
    "start_time": "2021-11-05T15:30:24.877Z"
   },
   {
    "duration": 6,
    "start_time": "2021-11-05T15:33:08.787Z"
   },
   {
    "duration": 224,
    "start_time": "2021-11-05T15:33:13.885Z"
   },
   {
    "duration": 44,
    "start_time": "2021-11-05T15:34:22.865Z"
   },
   {
    "duration": 183,
    "start_time": "2021-11-05T15:34:32.626Z"
   },
   {
    "duration": 7,
    "start_time": "2021-11-05T15:35:12.598Z"
   },
   {
    "duration": 195,
    "start_time": "2021-11-05T15:35:12.924Z"
   },
   {
    "duration": 17,
    "start_time": "2021-11-05T15:35:41.126Z"
   },
   {
    "duration": 6,
    "start_time": "2021-11-05T15:36:52.705Z"
   },
   {
    "duration": 15,
    "start_time": "2021-11-05T15:37:13.645Z"
   },
   {
    "duration": 3,
    "start_time": "2021-11-05T15:37:14.517Z"
   },
   {
    "duration": 6,
    "start_time": "2021-11-05T15:37:15.345Z"
   },
   {
    "duration": 5,
    "start_time": "2021-11-05T15:45:45.715Z"
   },
   {
    "duration": 4,
    "start_time": "2021-11-05T15:46:07.879Z"
   },
   {
    "duration": 17,
    "start_time": "2021-11-05T15:46:07.948Z"
   },
   {
    "duration": 21,
    "start_time": "2021-11-05T15:46:21.861Z"
   },
   {
    "duration": 22,
    "start_time": "2021-11-05T15:46:21.942Z"
   },
   {
    "duration": 4,
    "start_time": "2021-11-05T15:46:46.976Z"
   },
   {
    "duration": 15,
    "start_time": "2021-11-05T15:46:47.667Z"
   },
   {
    "duration": 16,
    "start_time": "2021-11-05T15:46:48.700Z"
   },
   {
    "duration": 20,
    "start_time": "2021-11-05T15:46:49.697Z"
   },
   {
    "duration": 5,
    "start_time": "2021-11-05T15:47:56.900Z"
   },
   {
    "duration": 353,
    "start_time": "2021-11-05T15:47:56.952Z"
   },
   {
    "duration": 16,
    "start_time": "2021-11-05T15:48:10.368Z"
   },
   {
    "duration": 17,
    "start_time": "2021-11-05T15:48:10.674Z"
   },
   {
    "duration": 16,
    "start_time": "2021-11-05T15:48:11.160Z"
   },
   {
    "duration": 5,
    "start_time": "2021-11-05T15:50:11.796Z"
   },
   {
    "duration": 22,
    "start_time": "2021-11-05T15:50:11.807Z"
   },
   {
    "duration": 18,
    "start_time": "2021-11-05T15:50:12.879Z"
   },
   {
    "duration": 19,
    "start_time": "2021-11-05T15:50:15.218Z"
   },
   {
    "duration": 6,
    "start_time": "2021-11-05T15:51:53.682Z"
   },
   {
    "duration": 3399,
    "start_time": "2021-11-05T15:51:54.440Z"
   },
   {
    "duration": 6,
    "start_time": "2021-11-05T15:52:14.721Z"
   },
   {
    "duration": 3524,
    "start_time": "2021-11-05T15:52:15.792Z"
   },
   {
    "duration": 4,
    "start_time": "2021-11-05T15:52:54.562Z"
   },
   {
    "duration": 9,
    "start_time": "2021-11-05T15:52:55.279Z"
   },
   {
    "duration": 10,
    "start_time": "2021-11-05T15:53:02.257Z"
   },
   {
    "duration": 11,
    "start_time": "2021-11-05T15:53:02.631Z"
   },
   {
    "duration": 9,
    "start_time": "2021-11-05T15:53:03.680Z"
   },
   {
    "duration": 4,
    "start_time": "2021-11-05T15:56:59.824Z"
   },
   {
    "duration": 11,
    "start_time": "2021-11-05T15:57:01.215Z"
   },
   {
    "duration": 4,
    "start_time": "2021-11-05T15:57:05.638Z"
   },
   {
    "duration": 5,
    "start_time": "2021-11-05T15:57:32.104Z"
   },
   {
    "duration": 10,
    "start_time": "2021-11-05T15:57:32.725Z"
   },
   {
    "duration": 3,
    "start_time": "2021-11-05T15:57:33.846Z"
   },
   {
    "duration": 4,
    "start_time": "2021-11-05T15:57:53.982Z"
   },
   {
    "duration": 10,
    "start_time": "2021-11-05T15:57:54.662Z"
   },
   {
    "duration": 4,
    "start_time": "2021-11-05T15:57:55.566Z"
   },
   {
    "duration": 10,
    "start_time": "2021-11-05T15:58:00.978Z"
   },
   {
    "duration": 9,
    "start_time": "2021-11-05T15:58:02.877Z"
   },
   {
    "duration": 8,
    "start_time": "2021-11-05T15:58:04.479Z"
   },
   {
    "duration": 204,
    "start_time": "2021-11-05T15:58:07.890Z"
   },
   {
    "duration": 4,
    "start_time": "2021-11-05T15:59:47.983Z"
   },
   {
    "duration": 564,
    "start_time": "2021-11-05T16:00:07.044Z"
   },
   {
    "duration": 350,
    "start_time": "2021-11-05T16:00:29.636Z"
   },
   {
    "duration": 4,
    "start_time": "2021-11-05T16:00:53.131Z"
   },
   {
    "duration": 10,
    "start_time": "2021-11-05T16:00:54.014Z"
   },
   {
    "duration": 10,
    "start_time": "2021-11-05T16:00:56.549Z"
   },
   {
    "duration": 10,
    "start_time": "2021-11-05T16:00:57.135Z"
   },
   {
    "duration": 9,
    "start_time": "2021-11-05T16:00:57.814Z"
   },
   {
    "duration": 194,
    "start_time": "2021-11-05T16:01:01.271Z"
   },
   {
    "duration": 3,
    "start_time": "2021-11-05T16:04:24.492Z"
   },
   {
    "duration": 4,
    "start_time": "2021-11-05T16:04:35.811Z"
   },
   {
    "duration": 3,
    "start_time": "2021-11-05T16:06:03.887Z"
   },
   {
    "duration": 3,
    "start_time": "2021-11-05T16:06:43.272Z"
   },
   {
    "duration": 4,
    "start_time": "2021-11-05T16:07:06.490Z"
   },
   {
    "duration": 3,
    "start_time": "2021-11-05T16:07:20.081Z"
   },
   {
    "duration": 4,
    "start_time": "2021-11-05T16:07:34.329Z"
   },
   {
    "duration": 4,
    "start_time": "2021-11-05T16:08:51.346Z"
   },
   {
    "duration": 10,
    "start_time": "2021-11-05T16:08:51.375Z"
   },
   {
    "duration": 4,
    "start_time": "2021-11-05T16:09:44.239Z"
   },
   {
    "duration": 10,
    "start_time": "2021-11-05T16:09:48.861Z"
   },
   {
    "duration": 9,
    "start_time": "2021-11-05T16:09:50.814Z"
   },
   {
    "duration": 9,
    "start_time": "2021-11-05T16:09:53.469Z"
   },
   {
    "duration": 8,
    "start_time": "2021-11-05T16:10:27.977Z"
   },
   {
    "duration": 6,
    "start_time": "2021-11-05T16:11:17.969Z"
   },
   {
    "duration": 3012,
    "start_time": "2021-11-05T16:11:18.645Z"
   },
   {
    "duration": 3018,
    "start_time": "2021-11-05T16:11:22.777Z"
   },
   {
    "duration": 3259,
    "start_time": "2021-11-05T16:11:25.798Z"
   },
   {
    "duration": 9,
    "start_time": "2021-11-05T16:11:35.900Z"
   },
   {
    "duration": 6,
    "start_time": "2021-11-05T16:12:00.276Z"
   },
   {
    "duration": 2983,
    "start_time": "2021-11-05T16:12:11.132Z"
   },
   {
    "duration": 2980,
    "start_time": "2021-11-05T16:12:14.117Z"
   },
   {
    "duration": 3006,
    "start_time": "2021-11-05T16:12:17.100Z"
   },
   {
    "duration": 9,
    "start_time": "2021-11-05T16:12:23.489Z"
   },
   {
    "duration": 6,
    "start_time": "2021-11-05T16:12:52.431Z"
   },
   {
    "duration": 3230,
    "start_time": "2021-11-05T16:12:53.333Z"
   },
   {
    "duration": 3501,
    "start_time": "2021-11-05T16:12:56.565Z"
   },
   {
    "duration": 3271,
    "start_time": "2021-11-05T16:13:00.069Z"
   },
   {
    "duration": 11,
    "start_time": "2021-11-05T16:13:27.627Z"
   },
   {
    "duration": 6,
    "start_time": "2021-11-05T16:13:58.055Z"
   },
   {
    "duration": 3232,
    "start_time": "2021-11-05T16:13:58.075Z"
   },
   {
    "duration": 10,
    "start_time": "2021-11-05T16:14:06.363Z"
   },
   {
    "duration": 217,
    "start_time": "2021-11-05T16:14:42.403Z"
   },
   {
    "duration": 192,
    "start_time": "2021-11-05T16:14:44.893Z"
   },
   {
    "duration": 5,
    "start_time": "2021-11-05T16:28:47.442Z"
   },
   {
    "duration": 16,
    "start_time": "2021-11-05T16:29:16.520Z"
   },
   {
    "duration": 17,
    "start_time": "2021-11-05T16:29:32.359Z"
   },
   {
    "duration": 17,
    "start_time": "2021-11-05T16:29:46.080Z"
   },
   {
    "duration": 360,
    "start_time": "2021-11-05T16:34:35.082Z"
   },
   {
    "duration": 5,
    "start_time": "2021-11-05T16:35:16.043Z"
   },
   {
    "duration": 9,
    "start_time": "2021-11-05T16:35:19.888Z"
   },
   {
    "duration": 1146,
    "start_time": "2021-11-06T16:43:05.685Z"
   },
   {
    "duration": 3,
    "start_time": "2021-11-06T16:43:07.388Z"
   },
   {
    "duration": 3,
    "start_time": "2021-11-06T16:43:08.272Z"
   },
   {
    "duration": 259,
    "start_time": "2021-11-06T16:43:08.994Z"
   },
   {
    "duration": 126,
    "start_time": "2021-11-06T16:43:09.984Z"
   },
   {
    "duration": 124,
    "start_time": "2021-11-06T16:43:10.719Z"
   },
   {
    "duration": 3,
    "start_time": "2021-11-06T16:43:12.173Z"
   },
   {
    "duration": 85,
    "start_time": "2021-11-06T16:43:13.148Z"
   },
   {
    "duration": 351,
    "start_time": "2021-11-06T16:44:07.496Z"
   },
   {
    "duration": 265,
    "start_time": "2021-11-06T16:44:21.852Z"
   },
   {
    "duration": 58,
    "start_time": "2021-11-06T16:45:21.742Z"
   },
   {
    "duration": 119,
    "start_time": "2021-11-06T16:46:22.306Z"
   },
   {
    "duration": 4,
    "start_time": "2021-11-06T16:46:58.503Z"
   },
   {
    "duration": 185,
    "start_time": "2021-11-06T16:47:04.277Z"
   },
   {
    "duration": 5,
    "start_time": "2021-11-06T16:47:18.723Z"
   },
   {
    "duration": 182,
    "start_time": "2021-11-06T16:47:39.874Z"
   },
   {
    "duration": 171,
    "start_time": "2021-11-06T16:48:04.594Z"
   },
   {
    "duration": 177,
    "start_time": "2021-11-06T16:48:17.285Z"
   },
   {
    "duration": 123,
    "start_time": "2021-11-06T16:48:30.440Z"
   },
   {
    "duration": 4818,
    "start_time": "2021-11-06T16:48:37.807Z"
   },
   {
    "duration": 63,
    "start_time": "2021-11-06T16:49:42.984Z"
   },
   {
    "duration": 137,
    "start_time": "2021-11-06T16:49:52.944Z"
   },
   {
    "duration": 4147,
    "start_time": "2021-11-06T16:50:20.290Z"
   },
   {
    "duration": 139,
    "start_time": "2021-11-06T16:50:38.883Z"
   },
   {
    "duration": 18,
    "start_time": "2021-11-06T16:50:43.767Z"
   },
   {
    "duration": 147,
    "start_time": "2021-11-06T16:51:16.153Z"
   },
   {
    "duration": 141,
    "start_time": "2021-11-06T16:51:36.763Z"
   },
   {
    "duration": 9,
    "start_time": "2021-11-06T16:51:42.988Z"
   },
   {
    "duration": 7,
    "start_time": "2021-11-06T16:51:48.014Z"
   },
   {
    "duration": 7,
    "start_time": "2021-11-06T16:52:01.650Z"
   },
   {
    "duration": 46,
    "start_time": "2021-11-06T16:52:27.751Z"
   },
   {
    "duration": 47,
    "start_time": "2021-11-06T16:52:31.832Z"
   },
   {
    "duration": 8,
    "start_time": "2021-11-06T16:53:10.623Z"
   },
   {
    "duration": 24,
    "start_time": "2021-11-06T16:53:50.059Z"
   },
   {
    "duration": 13,
    "start_time": "2021-11-06T16:53:58.759Z"
   },
   {
    "duration": 15,
    "start_time": "2021-11-06T16:54:52.821Z"
   },
   {
    "duration": 15,
    "start_time": "2021-11-06T16:55:02.587Z"
   },
   {
    "duration": 14,
    "start_time": "2021-11-06T16:55:06.666Z"
   },
   {
    "duration": 14,
    "start_time": "2021-11-06T16:55:09.246Z"
   },
   {
    "duration": 13,
    "start_time": "2021-11-06T16:55:11.916Z"
   },
   {
    "duration": 12,
    "start_time": "2021-11-06T20:19:10.808Z"
   },
   {
    "duration": 4,
    "start_time": "2021-11-07T07:46:46.133Z"
   },
   {
    "duration": 1134,
    "start_time": "2021-11-07T07:48:10.298Z"
   },
   {
    "duration": 3,
    "start_time": "2021-11-07T07:48:11.434Z"
   },
   {
    "duration": 8,
    "start_time": "2021-11-07T07:48:11.438Z"
   },
   {
    "duration": 138,
    "start_time": "2021-11-07T07:48:11.448Z"
   },
   {
    "duration": 124,
    "start_time": "2021-11-07T07:48:11.587Z"
   },
   {
    "duration": 125,
    "start_time": "2021-11-07T07:48:11.712Z"
   },
   {
    "duration": 3,
    "start_time": "2021-11-07T07:48:11.839Z"
   },
   {
    "duration": 99,
    "start_time": "2021-11-07T07:48:11.844Z"
   },
   {
    "duration": 12,
    "start_time": "2021-11-07T07:48:11.945Z"
   },
   {
    "duration": 99,
    "start_time": "2021-11-07T07:48:11.959Z"
   },
   {
    "duration": 95,
    "start_time": "2021-11-07T07:48:12.059Z"
   },
   {
    "duration": 2,
    "start_time": "2021-11-07T07:48:12.156Z"
   },
   {
    "duration": 6,
    "start_time": "2021-11-07T07:48:12.160Z"
   },
   {
    "duration": 227,
    "start_time": "2021-11-07T07:48:12.167Z"
   },
   {
    "duration": 203,
    "start_time": "2021-11-07T07:48:12.397Z"
   },
   {
    "duration": 303,
    "start_time": "2021-11-07T07:48:12.693Z"
   },
   {
    "duration": 93,
    "start_time": "2021-11-07T07:48:12.999Z"
   },
   {
    "duration": 7,
    "start_time": "2021-11-07T07:48:13.095Z"
   },
   {
    "duration": 511,
    "start_time": "2021-11-07T07:48:13.105Z"
   },
   {
    "duration": 20275,
    "start_time": "2021-11-07T07:47:53.343Z"
   },
   {
    "duration": 20274,
    "start_time": "2021-11-07T07:47:53.345Z"
   },
   {
    "duration": 20273,
    "start_time": "2021-11-07T07:47:53.347Z"
   },
   {
    "duration": 20272,
    "start_time": "2021-11-07T07:47:53.349Z"
   },
   {
    "duration": 20271,
    "start_time": "2021-11-07T07:47:53.351Z"
   },
   {
    "duration": 20269,
    "start_time": "2021-11-07T07:47:53.353Z"
   },
   {
    "duration": 20267,
    "start_time": "2021-11-07T07:47:53.356Z"
   },
   {
    "duration": 20265,
    "start_time": "2021-11-07T07:47:53.359Z"
   },
   {
    "duration": 20263,
    "start_time": "2021-11-07T07:47:53.362Z"
   },
   {
    "duration": 20261,
    "start_time": "2021-11-07T07:47:53.364Z"
   },
   {
    "duration": 20260,
    "start_time": "2021-11-07T07:47:53.366Z"
   },
   {
    "duration": 20255,
    "start_time": "2021-11-07T07:47:53.372Z"
   },
   {
    "duration": 20253,
    "start_time": "2021-11-07T07:47:53.375Z"
   },
   {
    "duration": 20252,
    "start_time": "2021-11-07T07:47:53.377Z"
   },
   {
    "duration": 20250,
    "start_time": "2021-11-07T07:47:53.379Z"
   },
   {
    "duration": 20249,
    "start_time": "2021-11-07T07:47:53.381Z"
   },
   {
    "duration": 20248,
    "start_time": "2021-11-07T07:47:53.383Z"
   },
   {
    "duration": 20247,
    "start_time": "2021-11-07T07:47:53.385Z"
   },
   {
    "duration": 20246,
    "start_time": "2021-11-07T07:47:53.387Z"
   },
   {
    "duration": 20243,
    "start_time": "2021-11-07T07:47:53.390Z"
   },
   {
    "duration": 20242,
    "start_time": "2021-11-07T07:47:53.392Z"
   },
   {
    "duration": 20241,
    "start_time": "2021-11-07T07:47:53.394Z"
   },
   {
    "duration": 4,
    "start_time": "2021-11-07T07:49:02.700Z"
   },
   {
    "duration": 5,
    "start_time": "2021-11-07T07:49:33.002Z"
   },
   {
    "duration": 18,
    "start_time": "2021-11-07T07:49:33.961Z"
   },
   {
    "duration": 18,
    "start_time": "2021-11-07T07:54:40.573Z"
   },
   {
    "duration": 19,
    "start_time": "2021-11-07T07:54:41.608Z"
   },
   {
    "duration": 19,
    "start_time": "2021-11-07T07:54:42.867Z"
   },
   {
    "duration": 8,
    "start_time": "2021-11-07T07:54:44.562Z"
   },
   {
    "duration": 3,
    "start_time": "2021-11-07T08:06:14.621Z"
   },
   {
    "duration": 3,
    "start_time": "2021-11-07T08:06:15.191Z"
   },
   {
    "duration": 3,
    "start_time": "2021-11-07T08:06:15.566Z"
   },
   {
    "duration": 3,
    "start_time": "2021-11-07T08:06:16.076Z"
   },
   {
    "duration": 4,
    "start_time": "2021-11-07T08:06:17.186Z"
   },
   {
    "duration": 3,
    "start_time": "2021-11-07T08:09:31.429Z"
   },
   {
    "duration": 3,
    "start_time": "2021-11-07T08:09:44.660Z"
   },
   {
    "duration": 74,
    "start_time": "2021-11-07T08:14:38.221Z"
   },
   {
    "duration": 60,
    "start_time": "2021-11-07T08:14:52.801Z"
   },
   {
    "duration": 9,
    "start_time": "2021-11-07T08:15:12.242Z"
   },
   {
    "duration": 10,
    "start_time": "2021-11-07T08:15:54.199Z"
   },
   {
    "duration": 4,
    "start_time": "2021-11-07T08:17:31.657Z"
   },
   {
    "duration": 4,
    "start_time": "2021-11-07T08:18:26.694Z"
   },
   {
    "duration": 5,
    "start_time": "2021-11-07T10:41:45.389Z"
   },
   {
    "duration": 17,
    "start_time": "2021-11-07T10:41:48.000Z"
   },
   {
    "duration": 11,
    "start_time": "2021-11-07T10:41:52.305Z"
   },
   {
    "duration": 9,
    "start_time": "2021-11-07T10:41:53.849Z"
   },
   {
    "duration": 14,
    "start_time": "2021-11-07T10:41:55.395Z"
   },
   {
    "duration": 187,
    "start_time": "2021-11-07T10:45:03.122Z"
   },
   {
    "duration": 3,
    "start_time": "2021-11-07T10:45:04.637Z"
   },
   {
    "duration": 5,
    "start_time": "2021-11-07T10:45:06.033Z"
   },
   {
    "duration": 2675,
    "start_time": "2021-11-07T11:01:10.998Z"
   },
   {
    "duration": 2670,
    "start_time": "2021-11-07T11:01:15.647Z"
   },
   {
    "duration": 2661,
    "start_time": "2021-11-07T11:01:40.488Z"
   },
   {
    "duration": 5,
    "start_time": "2021-11-07T11:03:41.211Z"
   },
   {
    "duration": 3093,
    "start_time": "2021-11-07T11:03:43.355Z"
   },
   {
    "duration": 3119,
    "start_time": "2021-11-07T11:03:50.375Z"
   },
   {
    "duration": 3075,
    "start_time": "2021-11-07T11:03:56.136Z"
   },
   {
    "duration": 6,
    "start_time": "2021-11-07T11:07:11.153Z"
   },
   {
    "duration": 3064,
    "start_time": "2021-11-07T11:07:12.054Z"
   },
   {
    "duration": 3055,
    "start_time": "2021-11-07T11:07:15.120Z"
   },
   {
    "duration": 3130,
    "start_time": "2021-11-07T11:07:18.177Z"
   },
   {
    "duration": 8,
    "start_time": "2021-11-07T11:07:21.308Z"
   },
   {
    "duration": 176,
    "start_time": "2021-11-07T11:07:48.369Z"
   },
   {
    "duration": 172,
    "start_time": "2021-11-07T11:07:49.419Z"
   },
   {
    "duration": 132,
    "start_time": "2021-11-07T11:22:22.988Z"
   },
   {
    "duration": 136,
    "start_time": "2021-11-07T11:22:34.977Z"
   },
   {
    "duration": 3880,
    "start_time": "2021-11-07T11:23:38.367Z"
   },
   {
    "duration": 209,
    "start_time": "2021-11-07T11:24:06.625Z"
   },
   {
    "duration": 120,
    "start_time": "2021-11-07T11:24:19.284Z"
   },
   {
    "duration": 126,
    "start_time": "2021-11-07T11:24:29.319Z"
   },
   {
    "duration": 280,
    "start_time": "2021-11-07T11:25:48.597Z"
   },
   {
    "duration": 271,
    "start_time": "2021-11-07T11:26:11.171Z"
   },
   {
    "duration": 290,
    "start_time": "2021-11-07T11:26:15.656Z"
   },
   {
    "duration": 4,
    "start_time": "2021-11-07T11:28:01.738Z"
   },
   {
    "duration": 214,
    "start_time": "2021-11-07T11:28:05.788Z"
   },
   {
    "duration": 203,
    "start_time": "2021-11-07T11:28:21.748Z"
   },
   {
    "duration": 231,
    "start_time": "2021-11-07T11:28:29.383Z"
   },
   {
    "duration": 7,
    "start_time": "2021-11-07T11:29:50.041Z"
   },
   {
    "duration": 19975,
    "start_time": "2021-11-07T11:30:37.352Z"
   },
   {
    "duration": 19973,
    "start_time": "2021-11-07T11:30:37.355Z"
   },
   {
    "duration": 19971,
    "start_time": "2021-11-07T11:30:37.357Z"
   },
   {
    "duration": 6,
    "start_time": "2021-11-07T11:30:59.627Z"
   },
   {
    "duration": 3208,
    "start_time": "2021-11-07T11:31:04.335Z"
   },
   {
    "duration": 6,
    "start_time": "2021-11-07T11:31:25.741Z"
   },
   {
    "duration": 3400,
    "start_time": "2021-11-07T11:31:26.431Z"
   },
   {
    "duration": 6,
    "start_time": "2021-11-07T11:31:49.787Z"
   },
   {
    "duration": 3335,
    "start_time": "2021-11-07T11:31:50.237Z"
   },
   {
    "duration": 7,
    "start_time": "2021-11-07T11:32:22.337Z"
   },
   {
    "duration": 3345,
    "start_time": "2021-11-07T11:32:23.732Z"
   },
   {
    "duration": 6,
    "start_time": "2021-11-07T11:32:34.697Z"
   },
   {
    "duration": 3227,
    "start_time": "2021-11-07T11:32:35.417Z"
   },
   {
    "duration": 3285,
    "start_time": "2021-11-07T11:32:49.247Z"
   },
   {
    "duration": 3205,
    "start_time": "2021-11-07T11:32:52.534Z"
   },
   {
    "duration": 8,
    "start_time": "2021-11-07T11:36:54.779Z"
   },
   {
    "duration": 174,
    "start_time": "2021-11-07T11:37:02.975Z"
   },
   {
    "duration": 196,
    "start_time": "2021-11-07T11:37:04.971Z"
   },
   {
    "duration": 1114,
    "start_time": "2021-11-07T11:54:01.821Z"
   },
   {
    "duration": 3,
    "start_time": "2021-11-07T11:54:02.937Z"
   },
   {
    "duration": 10,
    "start_time": "2021-11-07T11:54:02.942Z"
   },
   {
    "duration": 403,
    "start_time": "2021-11-07T11:54:02.954Z"
   },
   {
    "duration": 124,
    "start_time": "2021-11-07T11:54:03.358Z"
   },
   {
    "duration": 123,
    "start_time": "2021-11-07T11:54:03.484Z"
   },
   {
    "duration": 3,
    "start_time": "2021-11-07T11:54:03.609Z"
   },
   {
    "duration": 239,
    "start_time": "2021-11-07T11:54:03.614Z"
   },
   {
    "duration": 13,
    "start_time": "2021-11-07T11:54:03.856Z"
   },
   {
    "duration": 227,
    "start_time": "2021-11-07T11:54:03.871Z"
   },
   {
    "duration": 212,
    "start_time": "2021-11-07T11:54:04.099Z"
   },
   {
    "duration": 3,
    "start_time": "2021-11-07T11:54:04.313Z"
   },
   {
    "duration": 7,
    "start_time": "2021-11-07T11:54:04.318Z"
   },
   {
    "duration": 265,
    "start_time": "2021-11-07T11:54:04.326Z"
   },
   {
    "duration": 213,
    "start_time": "2021-11-07T11:54:04.593Z"
   },
   {
    "duration": 205,
    "start_time": "2021-11-07T11:54:04.892Z"
   },
   {
    "duration": 93,
    "start_time": "2021-11-07T11:54:05.099Z"
   },
   {
    "duration": 113,
    "start_time": "2021-11-07T11:54:05.195Z"
   },
   {
    "duration": 16,
    "start_time": "2021-11-07T11:54:05.310Z"
   },
   {
    "duration": 16,
    "start_time": "2021-11-07T11:54:05.328Z"
   },
   {
    "duration": 9,
    "start_time": "2021-11-07T11:54:05.345Z"
   },
   {
    "duration": 37,
    "start_time": "2021-11-07T11:54:05.356Z"
   },
   {
    "duration": 4,
    "start_time": "2021-11-07T11:54:05.396Z"
   },
   {
    "duration": 6,
    "start_time": "2021-11-07T11:54:05.402Z"
   },
   {
    "duration": 7,
    "start_time": "2021-11-07T11:54:05.409Z"
   },
   {
    "duration": 7,
    "start_time": "2021-11-07T11:54:05.418Z"
   },
   {
    "duration": 11,
    "start_time": "2021-11-07T11:54:05.426Z"
   },
   {
    "duration": 8,
    "start_time": "2021-11-07T11:54:05.438Z"
   },
   {
    "duration": 16,
    "start_time": "2021-11-07T11:54:05.448Z"
   },
   {
    "duration": 38,
    "start_time": "2021-11-07T11:54:05.466Z"
   },
   {
    "duration": 8,
    "start_time": "2021-11-07T11:54:05.506Z"
   },
   {
    "duration": 7,
    "start_time": "2021-11-07T11:54:05.516Z"
   },
   {
    "duration": 195,
    "start_time": "2021-11-07T11:54:05.525Z"
   },
   {
    "duration": 3,
    "start_time": "2021-11-07T11:54:05.721Z"
   },
   {
    "duration": 8,
    "start_time": "2021-11-07T11:54:05.725Z"
   },
   {
    "duration": 3242,
    "start_time": "2021-11-07T11:54:05.734Z"
   },
   {
    "duration": 3245,
    "start_time": "2021-11-07T11:54:08.978Z"
   },
   {
    "duration": 3257,
    "start_time": "2021-11-07T11:54:12.225Z"
   },
   {
    "duration": 12,
    "start_time": "2021-11-07T11:54:15.484Z"
   },
   {
    "duration": 184,
    "start_time": "2021-11-07T11:54:15.498Z"
   },
   {
    "duration": 183,
    "start_time": "2021-11-07T11:54:15.684Z"
   },
   {
    "duration": 3063,
    "start_time": "2021-11-07T12:24:42.058Z"
   },
   {
    "duration": 3,
    "start_time": "2021-11-07T12:24:45.124Z"
   },
   {
    "duration": 54,
    "start_time": "2021-11-07T12:24:45.130Z"
   },
   {
    "duration": 506,
    "start_time": "2021-11-07T12:24:45.189Z"
   },
   {
    "duration": 1115,
    "start_time": "2021-11-07T12:24:45.697Z"
   },
   {
    "duration": 2406,
    "start_time": "2021-11-07T12:24:46.815Z"
   },
   {
    "duration": 63,
    "start_time": "2021-11-07T12:24:49.223Z"
   },
   {
    "duration": 1018,
    "start_time": "2021-11-07T12:24:49.291Z"
   },
   {
    "duration": 74,
    "start_time": "2021-11-07T12:24:50.311Z"
   },
   {
    "duration": 825,
    "start_time": "2021-11-07T12:24:50.388Z"
   },
   {
    "duration": 909,
    "start_time": "2021-11-07T12:24:51.217Z"
   },
   {
    "duration": 4,
    "start_time": "2021-11-07T12:30:54.738Z"
   },
   {
    "duration": 9,
    "start_time": "2021-11-07T12:30:55.647Z"
   },
   {
    "duration": 84,
    "start_time": "2021-11-07T12:30:56.609Z"
   },
   {
    "duration": 159,
    "start_time": "2021-11-07T12:30:59.433Z"
   },
   {
    "duration": 150,
    "start_time": "2021-11-07T12:31:05.433Z"
   },
   {
    "duration": 6,
    "start_time": "2021-11-07T12:33:01.714Z"
   },
   {
    "duration": 25,
    "start_time": "2021-11-07T12:33:02.272Z"
   },
   {
    "duration": 27,
    "start_time": "2021-11-07T12:33:03.480Z"
   },
   {
    "duration": 26,
    "start_time": "2021-11-07T12:33:04.269Z"
   },
   {
    "duration": 13,
    "start_time": "2021-11-07T12:33:04.925Z"
   },
   {
    "duration": 5,
    "start_time": "2021-11-07T12:33:56.393Z"
   },
   {
    "duration": 5,
    "start_time": "2021-11-07T12:33:56.940Z"
   },
   {
    "duration": 5,
    "start_time": "2021-11-07T12:33:57.593Z"
   },
   {
    "duration": 4,
    "start_time": "2021-11-07T12:33:57.795Z"
   },
   {
    "duration": 4,
    "start_time": "2021-11-07T12:33:58.022Z"
   },
   {
    "duration": 13,
    "start_time": "2021-11-07T12:33:59.090Z"
   },
   {
    "duration": 6,
    "start_time": "2021-11-07T12:35:11.253Z"
   },
   {
    "duration": 12,
    "start_time": "2021-11-07T12:35:11.655Z"
   },
   {
    "duration": 12,
    "start_time": "2021-11-07T12:35:11.828Z"
   },
   {
    "duration": 12,
    "start_time": "2021-11-07T12:35:12.010Z"
   },
   {
    "duration": 12,
    "start_time": "2021-11-07T12:35:12.173Z"
   },
   {
    "duration": 322,
    "start_time": "2021-11-07T12:35:13.763Z"
   },
   {
    "duration": 4,
    "start_time": "2021-11-07T12:35:56.718Z"
   },
   {
    "duration": 9,
    "start_time": "2021-11-07T12:35:59.574Z"
   },
   {
    "duration": 5979,
    "start_time": "2021-11-07T12:36:02.159Z"
   },
   {
    "duration": 6086,
    "start_time": "2021-11-07T12:36:08.141Z"
   },
   {
    "duration": 6163,
    "start_time": "2021-11-07T12:36:14.229Z"
   },
   {
    "duration": 12,
    "start_time": "2021-11-07T12:36:20.395Z"
   },
   {
    "duration": 327,
    "start_time": "2021-11-07T12:36:20.409Z"
   },
   {
    "duration": 320,
    "start_time": "2021-11-07T12:36:20.738Z"
   },
   {
    "duration": 7,
    "start_time": "2021-11-07T16:15:43.653Z"
   },
   {
    "duration": 209,
    "start_time": "2021-11-07T16:16:16.052Z"
   },
   {
    "duration": 1066,
    "start_time": "2021-11-07T16:16:27.453Z"
   },
   {
    "duration": 2,
    "start_time": "2021-11-07T16:16:28.521Z"
   },
   {
    "duration": 3,
    "start_time": "2021-11-07T16:16:28.786Z"
   },
   {
    "duration": 146,
    "start_time": "2021-11-07T16:16:29.193Z"
   },
   {
    "duration": 132,
    "start_time": "2021-11-07T16:16:29.597Z"
   },
   {
    "duration": 152,
    "start_time": "2021-11-07T16:16:30.182Z"
   },
   {
    "duration": 7,
    "start_time": "2021-11-07T16:16:31.292Z"
   },
   {
    "duration": 245,
    "start_time": "2021-11-07T16:16:31.757Z"
   },
   {
    "duration": 24,
    "start_time": "2021-11-07T16:16:32.494Z"
   },
   {
    "duration": 233,
    "start_time": "2021-11-07T16:16:34.757Z"
   },
   {
    "duration": 227,
    "start_time": "2021-11-07T16:16:35.717Z"
   },
   {
    "duration": 3,
    "start_time": "2021-11-07T16:16:40.576Z"
   },
   {
    "duration": 6,
    "start_time": "2021-11-07T16:16:43.855Z"
   },
   {
    "duration": 174,
    "start_time": "2021-11-07T16:16:46.817Z"
   },
   {
    "duration": 4,
    "start_time": "2021-11-07T16:17:32.224Z"
   },
   {
    "duration": 16,
    "start_time": "2021-11-07T16:17:32.628Z"
   },
   {
    "duration": 17,
    "start_time": "2021-11-07T16:17:33.077Z"
   },
   {
    "duration": 15,
    "start_time": "2021-11-07T16:17:33.572Z"
   },
   {
    "duration": 227,
    "start_time": "2021-11-07T16:17:34.338Z"
   },
   {
    "duration": 94,
    "start_time": "2021-11-07T16:17:42.408Z"
   },
   {
    "duration": 97,
    "start_time": "2021-11-07T16:17:49.099Z"
   },
   {
    "duration": 8,
    "start_time": "2021-11-07T16:17:55.369Z"
   },
   {
    "duration": 7,
    "start_time": "2021-11-07T16:18:30.876Z"
   },
   {
    "duration": 196,
    "start_time": "2021-11-07T16:18:37.819Z"
   },
   {
    "duration": 6,
    "start_time": "2021-11-07T16:20:09.036Z"
   },
   {
    "duration": 218,
    "start_time": "2021-11-07T16:20:10.489Z"
   },
   {
    "duration": 220,
    "start_time": "2021-11-07T16:20:18.575Z"
   },
   {
    "duration": 153,
    "start_time": "2021-11-07T16:20:27.950Z"
   },
   {
    "duration": 1229,
    "start_time": "2021-11-07T16:28:43.948Z"
   },
   {
    "duration": 1298,
    "start_time": "2021-11-07T16:28:55.228Z"
   },
   {
    "duration": 1319,
    "start_time": "2021-11-07T16:30:06.406Z"
   },
   {
    "duration": 1143,
    "start_time": "2021-11-07T16:30:24.735Z"
   },
   {
    "duration": 187,
    "start_time": "2021-11-07T16:32:02.717Z"
   },
   {
    "duration": 176,
    "start_time": "2021-11-07T16:32:17.882Z"
   },
   {
    "duration": 1176,
    "start_time": "2021-11-07T16:32:50.013Z"
   },
   {
    "duration": 1238,
    "start_time": "2021-11-07T16:33:04.141Z"
   },
   {
    "duration": 7,
    "start_time": "2021-11-07T16:36:14.135Z"
   },
   {
    "duration": 78,
    "start_time": "2021-11-07T16:36:14.525Z"
   },
   {
    "duration": 28,
    "start_time": "2021-11-07T16:36:15.140Z"
   },
   {
    "duration": 83,
    "start_time": "2021-11-07T16:36:19.520Z"
   },
   {
    "duration": 9,
    "start_time": "2021-11-07T16:36:23.601Z"
   },
   {
    "duration": 16,
    "start_time": "2021-11-07T16:36:24.170Z"
   },
   {
    "duration": 17,
    "start_time": "2021-11-07T16:36:25.085Z"
   },
   {
    "duration": 15,
    "start_time": "2021-11-07T16:36:26.030Z"
   },
   {
    "duration": 15,
    "start_time": "2021-11-07T16:36:27.299Z"
   },
   {
    "duration": 5,
    "start_time": "2021-11-07T16:37:17.181Z"
   },
   {
    "duration": 15,
    "start_time": "2021-11-07T16:37:17.945Z"
   },
   {
    "duration": 15,
    "start_time": "2021-11-07T16:37:20.166Z"
   },
   {
    "duration": 17,
    "start_time": "2021-11-07T16:37:20.810Z"
   },
   {
    "duration": 13,
    "start_time": "2021-11-07T16:37:23.001Z"
   },
   {
    "duration": 8,
    "start_time": "2021-11-07T16:37:57.082Z"
   },
   {
    "duration": 16,
    "start_time": "2021-11-07T16:37:57.831Z"
   },
   {
    "duration": 17,
    "start_time": "2021-11-07T16:37:59.213Z"
   },
   {
    "duration": 19,
    "start_time": "2021-11-07T16:38:00.487Z"
   },
   {
    "duration": 10,
    "start_time": "2021-11-07T16:38:01.492Z"
   },
   {
    "duration": 6,
    "start_time": "2021-11-07T16:41:31.707Z"
   },
   {
    "duration": 412,
    "start_time": "2021-11-07T16:41:32.756Z"
   },
   {
    "duration": 6,
    "start_time": "2021-11-07T16:41:52.796Z"
   },
   {
    "duration": 364,
    "start_time": "2021-11-07T16:41:56.980Z"
   },
   {
    "duration": 3,
    "start_time": "2021-11-07T16:42:13.481Z"
   },
   {
    "duration": 3,
    "start_time": "2021-11-07T16:42:13.841Z"
   },
   {
    "duration": 3,
    "start_time": "2021-11-07T16:42:14.322Z"
   },
   {
    "duration": 3,
    "start_time": "2021-11-07T16:42:14.892Z"
   },
   {
    "duration": 3,
    "start_time": "2021-11-07T16:42:15.341Z"
   },
   {
    "duration": 8,
    "start_time": "2021-11-07T16:42:15.806Z"
   },
   {
    "duration": 3,
    "start_time": "2021-11-07T16:43:48.582Z"
   },
   {
    "duration": 3,
    "start_time": "2021-11-07T16:43:48.897Z"
   },
   {
    "duration": 3,
    "start_time": "2021-11-07T16:43:49.603Z"
   },
   {
    "duration": 4,
    "start_time": "2021-11-07T16:43:50.607Z"
   },
   {
    "duration": 3,
    "start_time": "2021-11-07T16:43:52.587Z"
   },
   {
    "duration": 9,
    "start_time": "2021-11-07T16:44:06.020Z"
   },
   {
    "duration": 3,
    "start_time": "2021-11-07T16:44:32.577Z"
   },
   {
    "duration": 8,
    "start_time": "2021-11-07T16:44:39.327Z"
   },
   {
    "duration": 3,
    "start_time": "2021-11-07T16:45:02.204Z"
   },
   {
    "duration": 4,
    "start_time": "2021-11-07T16:45:02.398Z"
   },
   {
    "duration": 3,
    "start_time": "2021-11-07T16:45:03.043Z"
   },
   {
    "duration": 4,
    "start_time": "2021-11-07T16:45:21.734Z"
   },
   {
    "duration": 8,
    "start_time": "2021-11-07T16:45:35.924Z"
   },
   {
    "duration": 3,
    "start_time": "2021-11-07T16:46:37.860Z"
   },
   {
    "duration": 9,
    "start_time": "2021-11-07T16:46:38.505Z"
   },
   {
    "duration": 9,
    "start_time": "2021-11-07T16:46:39.030Z"
   },
   {
    "duration": 8,
    "start_time": "2021-11-07T16:46:40.035Z"
   },
   {
    "duration": 8,
    "start_time": "2021-11-07T16:46:46.187Z"
   },
   {
    "duration": 196,
    "start_time": "2021-11-07T16:47:24.570Z"
   },
   {
    "duration": 3,
    "start_time": "2021-11-07T16:47:32.296Z"
   },
   {
    "duration": 6,
    "start_time": "2021-11-07T16:47:34.687Z"
   },
   {
    "duration": 3165,
    "start_time": "2021-11-07T16:47:35.887Z"
   },
   {
    "duration": 3260,
    "start_time": "2021-11-07T16:47:48.346Z"
   },
   {
    "duration": 3202,
    "start_time": "2021-11-07T16:47:51.608Z"
   },
   {
    "duration": 7,
    "start_time": "2021-11-07T16:48:14.026Z"
   },
   {
    "duration": 3164,
    "start_time": "2021-11-07T16:48:14.552Z"
   },
   {
    "duration": 3200,
    "start_time": "2021-11-07T16:48:17.718Z"
   },
   {
    "duration": 3201,
    "start_time": "2021-11-07T16:48:20.920Z"
   },
   {
    "duration": 9,
    "start_time": "2021-11-07T16:48:54.408Z"
   },
   {
    "duration": 4,
    "start_time": "2021-11-07T16:50:33.184Z"
   },
   {
    "duration": 11,
    "start_time": "2021-11-07T16:51:55.805Z"
   },
   {
    "duration": 9,
    "start_time": "2021-11-07T16:52:14.929Z"
   },
   {
    "duration": 5,
    "start_time": "2021-11-07T16:52:36.831Z"
   },
   {
    "duration": 4,
    "start_time": "2021-11-07T16:53:03.651Z"
   },
   {
    "duration": 4,
    "start_time": "2021-11-07T16:53:20.617Z"
   },
   {
    "duration": 4,
    "start_time": "2021-11-07T16:53:44.107Z"
   },
   {
    "duration": 5,
    "start_time": "2021-11-07T16:54:16.851Z"
   },
   {
    "duration": 4,
    "start_time": "2021-11-07T16:54:49.606Z"
   },
   {
    "duration": 1049,
    "start_time": "2021-11-07T16:56:28.382Z"
   },
   {
    "duration": 3,
    "start_time": "2021-11-07T16:56:29.433Z"
   },
   {
    "duration": 7,
    "start_time": "2021-11-07T16:56:29.437Z"
   },
   {
    "duration": 138,
    "start_time": "2021-11-07T16:56:29.446Z"
   },
   {
    "duration": 128,
    "start_time": "2021-11-07T16:56:29.586Z"
   },
   {
    "duration": 122,
    "start_time": "2021-11-07T16:56:29.716Z"
   },
   {
    "duration": 3,
    "start_time": "2021-11-07T16:56:29.840Z"
   },
   {
    "duration": 223,
    "start_time": "2021-11-07T16:56:29.845Z"
   },
   {
    "duration": 22,
    "start_time": "2021-11-07T16:56:30.070Z"
   },
   {
    "duration": 216,
    "start_time": "2021-11-07T16:56:30.094Z"
   },
   {
    "duration": 1130,
    "start_time": "2021-11-07T16:56:30.312Z"
   },
   {
    "duration": 210,
    "start_time": "2021-11-07T16:56:31.444Z"
   },
   {
    "duration": 2,
    "start_time": "2021-11-07T16:56:31.656Z"
   },
   {
    "duration": 10,
    "start_time": "2021-11-07T16:56:31.659Z"
   },
   {
    "duration": 221,
    "start_time": "2021-11-07T16:56:31.671Z"
   },
   {
    "duration": 202,
    "start_time": "2021-11-07T16:56:31.894Z"
   },
   {
    "duration": 298,
    "start_time": "2021-11-07T16:56:32.098Z"
   },
   {
    "duration": 94,
    "start_time": "2021-11-07T16:56:32.399Z"
   },
   {
    "duration": 110,
    "start_time": "2021-11-07T16:56:32.495Z"
   },
   {
    "duration": 14,
    "start_time": "2021-11-07T16:56:32.607Z"
   },
   {
    "duration": 14,
    "start_time": "2021-11-07T16:56:32.623Z"
   },
   {
    "duration": 8,
    "start_time": "2021-11-07T16:56:32.638Z"
   },
   {
    "duration": 4,
    "start_time": "2021-11-07T16:56:32.649Z"
   },
   {
    "duration": 37,
    "start_time": "2021-11-07T16:56:32.655Z"
   },
   {
    "duration": 4,
    "start_time": "2021-11-07T16:56:32.693Z"
   },
   {
    "duration": 7,
    "start_time": "2021-11-07T16:56:32.698Z"
   },
   {
    "duration": 7,
    "start_time": "2021-11-07T16:56:32.706Z"
   },
   {
    "duration": 13,
    "start_time": "2021-11-07T16:56:32.714Z"
   },
   {
    "duration": 10,
    "start_time": "2021-11-07T16:56:32.728Z"
   },
   {
    "duration": 10,
    "start_time": "2021-11-07T16:56:32.739Z"
   },
   {
    "duration": 286,
    "start_time": "2021-11-07T16:56:32.751Z"
   },
   {
    "duration": 19485,
    "start_time": "2021-11-07T16:56:13.554Z"
   },
   {
    "duration": 19484,
    "start_time": "2021-11-07T16:56:13.556Z"
   },
   {
    "duration": 19482,
    "start_time": "2021-11-07T16:56:13.558Z"
   },
   {
    "duration": 19481,
    "start_time": "2021-11-07T16:56:13.560Z"
   },
   {
    "duration": 19478,
    "start_time": "2021-11-07T16:56:13.564Z"
   },
   {
    "duration": 19472,
    "start_time": "2021-11-07T16:56:13.571Z"
   },
   {
    "duration": 19469,
    "start_time": "2021-11-07T16:56:13.575Z"
   },
   {
    "duration": 19468,
    "start_time": "2021-11-07T16:56:13.577Z"
   },
   {
    "duration": 19464,
    "start_time": "2021-11-07T16:56:13.581Z"
   },
   {
    "duration": 19462,
    "start_time": "2021-11-07T16:56:13.584Z"
   },
   {
    "duration": 19461,
    "start_time": "2021-11-07T16:56:13.586Z"
   },
   {
    "duration": 19459,
    "start_time": "2021-11-07T16:56:13.589Z"
   },
   {
    "duration": 19458,
    "start_time": "2021-11-07T16:56:13.591Z"
   },
   {
    "duration": 11,
    "start_time": "2021-11-07T16:58:26.378Z"
   },
   {
    "duration": 12,
    "start_time": "2021-11-07T16:58:26.391Z"
   },
   {
    "duration": 8,
    "start_time": "2021-11-07T16:58:26.405Z"
   },
   {
    "duration": 8,
    "start_time": "2021-11-07T16:58:26.415Z"
   },
   {
    "duration": 221,
    "start_time": "2021-11-07T16:58:26.425Z"
   },
   {
    "duration": 3,
    "start_time": "2021-11-07T16:58:26.649Z"
   },
   {
    "duration": 9,
    "start_time": "2021-11-07T16:58:26.654Z"
   },
   {
    "duration": 3514,
    "start_time": "2021-11-07T16:58:26.665Z"
   },
   {
    "duration": 3210,
    "start_time": "2021-11-07T16:58:30.181Z"
   },
   {
    "duration": 3241,
    "start_time": "2021-11-07T16:58:33.393Z"
   },
   {
    "duration": 7,
    "start_time": "2021-11-07T16:58:36.636Z"
   },
   {
    "duration": 192,
    "start_time": "2021-11-07T16:58:36.645Z"
   },
   {
    "duration": 182,
    "start_time": "2021-11-07T16:58:36.839Z"
   },
   {
    "duration": 6,
    "start_time": "2021-11-07T17:00:56.138Z"
   },
   {
    "duration": 216,
    "start_time": "2021-11-07T17:00:56.577Z"
   },
   {
    "duration": 82,
    "start_time": "2021-11-07T17:00:59.818Z"
   },
   {
    "duration": 56,
    "start_time": "2021-11-07T17:01:03.643Z"
   },
   {
    "duration": 5,
    "start_time": "2021-11-07T17:01:13.904Z"
   },
   {
    "duration": 16,
    "start_time": "2021-11-07T17:01:17.353Z"
   },
   {
    "duration": 15,
    "start_time": "2021-11-07T17:01:18.793Z"
   },
   {
    "duration": 16,
    "start_time": "2021-11-07T17:01:20.413Z"
   },
   {
    "duration": 8,
    "start_time": "2021-11-07T17:01:21.276Z"
   },
   {
    "duration": 6,
    "start_time": "2021-11-07T17:01:52.740Z"
   },
   {
    "duration": 42,
    "start_time": "2021-11-07T17:01:54.359Z"
   },
   {
    "duration": 105,
    "start_time": "2021-11-07T17:01:54.591Z"
   },
   {
    "duration": 197,
    "start_time": "2021-11-07T17:01:55.394Z"
   },
   {
    "duration": 5,
    "start_time": "2021-11-07T17:01:55.784Z"
   },
   {
    "duration": 18,
    "start_time": "2021-11-07T17:01:56.128Z"
   },
   {
    "duration": 14,
    "start_time": "2021-11-07T17:01:56.444Z"
   },
   {
    "duration": 17,
    "start_time": "2021-11-07T17:01:56.923Z"
   },
   {
    "duration": 8,
    "start_time": "2021-11-07T17:01:57.359Z"
   },
   {
    "duration": 3,
    "start_time": "2021-11-07T17:02:00.059Z"
   },
   {
    "duration": 3,
    "start_time": "2021-11-07T17:02:00.689Z"
   },
   {
    "duration": 4,
    "start_time": "2021-11-07T17:02:00.868Z"
   },
   {
    "duration": 4,
    "start_time": "2021-11-07T17:02:01.019Z"
   },
   {
    "duration": 4,
    "start_time": "2021-11-07T17:02:01.168Z"
   },
   {
    "duration": 8,
    "start_time": "2021-11-07T17:02:01.319Z"
   },
   {
    "duration": 5,
    "start_time": "2021-11-07T17:02:03.733Z"
   },
   {
    "duration": 9,
    "start_time": "2021-11-07T17:02:04.889Z"
   },
   {
    "duration": 9,
    "start_time": "2021-11-07T17:02:05.668Z"
   },
   {
    "duration": 8,
    "start_time": "2021-11-07T17:03:02.836Z"
   },
   {
    "duration": 11,
    "start_time": "2021-11-07T17:03:10.035Z"
   },
   {
    "duration": 10,
    "start_time": "2021-11-07T17:03:24.016Z"
   },
   {
    "duration": 186,
    "start_time": "2021-11-07T17:03:44.476Z"
   },
   {
    "duration": 11,
    "start_time": "2021-11-07T17:03:52.936Z"
   },
   {
    "duration": 10,
    "start_time": "2021-11-07T17:04:30.886Z"
   },
   {
    "duration": 10,
    "start_time": "2021-11-07T17:04:41.163Z"
   },
   {
    "duration": 13,
    "start_time": "2021-11-07T17:05:18.197Z"
   },
   {
    "duration": 14,
    "start_time": "2021-11-07T17:05:42.332Z"
   },
   {
    "duration": 10,
    "start_time": "2021-11-07T17:09:47.617Z"
   },
   {
    "duration": 10,
    "start_time": "2021-11-07T17:10:44.318Z"
   },
   {
    "duration": 5,
    "start_time": "2021-11-07T17:11:51.444Z"
   },
   {
    "duration": 5,
    "start_time": "2021-11-07T17:12:07.224Z"
   },
   {
    "duration": 5,
    "start_time": "2021-11-07T17:12:13.838Z"
   },
   {
    "duration": 5,
    "start_time": "2021-11-07T17:12:24.609Z"
   },
   {
    "duration": 4,
    "start_time": "2021-11-07T17:12:34.240Z"
   },
   {
    "duration": 5,
    "start_time": "2021-11-07T17:12:52.300Z"
   },
   {
    "duration": 176,
    "start_time": "2021-11-07T17:13:06.370Z"
   },
   {
    "duration": 171,
    "start_time": "2021-11-07T17:13:23.007Z"
   },
   {
    "duration": 8,
    "start_time": "2021-11-07T17:13:32.111Z"
   },
   {
    "duration": 10,
    "start_time": "2021-11-07T17:14:02.142Z"
   },
   {
    "duration": 10,
    "start_time": "2021-11-07T17:14:31.917Z"
   },
   {
    "duration": 1120,
    "start_time": "2021-11-07T17:30:10.027Z"
   },
   {
    "duration": 2,
    "start_time": "2021-11-07T17:30:11.149Z"
   },
   {
    "duration": 9,
    "start_time": "2021-11-07T17:30:11.153Z"
   },
   {
    "duration": 179,
    "start_time": "2021-11-07T17:30:11.163Z"
   },
   {
    "duration": 127,
    "start_time": "2021-11-07T17:30:11.344Z"
   },
   {
    "duration": 126,
    "start_time": "2021-11-07T17:30:11.473Z"
   },
   {
    "duration": 3,
    "start_time": "2021-11-07T17:30:11.601Z"
   },
   {
    "duration": 227,
    "start_time": "2021-11-07T17:30:11.607Z"
   },
   {
    "duration": 12,
    "start_time": "2021-11-07T17:30:11.836Z"
   },
   {
    "duration": 222,
    "start_time": "2021-11-07T17:30:11.849Z"
   },
   {
    "duration": 1099,
    "start_time": "2021-11-07T17:30:12.073Z"
   },
   {
    "duration": 219,
    "start_time": "2021-11-07T17:30:13.174Z"
   },
   {
    "duration": 2,
    "start_time": "2021-11-07T17:30:13.395Z"
   },
   {
    "duration": 8,
    "start_time": "2021-11-07T17:30:13.399Z"
   },
   {
    "duration": 190,
    "start_time": "2021-11-07T17:30:13.408Z"
   },
   {
    "duration": 298,
    "start_time": "2021-11-07T17:30:13.600Z"
   },
   {
    "duration": 301,
    "start_time": "2021-11-07T17:30:13.901Z"
   },
   {
    "duration": 95,
    "start_time": "2021-11-07T17:30:14.203Z"
   },
   {
    "duration": 111,
    "start_time": "2021-11-07T17:30:14.300Z"
   },
   {
    "duration": 17,
    "start_time": "2021-11-07T17:30:14.413Z"
   },
   {
    "duration": 17,
    "start_time": "2021-11-07T17:30:14.432Z"
   },
   {
    "duration": 8,
    "start_time": "2021-11-07T17:30:14.450Z"
   },
   {
    "duration": 7,
    "start_time": "2021-11-07T17:30:14.461Z"
   },
   {
    "duration": 22,
    "start_time": "2021-11-07T17:30:14.470Z"
   },
   {
    "duration": 20,
    "start_time": "2021-11-07T17:30:14.493Z"
   },
   {
    "duration": 11,
    "start_time": "2021-11-07T17:30:14.515Z"
   },
   {
    "duration": 9,
    "start_time": "2021-11-07T17:30:14.527Z"
   },
   {
    "duration": 10,
    "start_time": "2021-11-07T17:30:14.538Z"
   },
   {
    "duration": 4,
    "start_time": "2021-11-07T17:30:14.550Z"
   },
   {
    "duration": 12,
    "start_time": "2021-11-07T17:30:14.556Z"
   },
   {
    "duration": 7,
    "start_time": "2021-11-07T17:30:14.570Z"
   },
   {
    "duration": 14,
    "start_time": "2021-11-07T17:30:14.578Z"
   },
   {
    "duration": 7,
    "start_time": "2021-11-07T17:30:14.593Z"
   },
   {
    "duration": 7,
    "start_time": "2021-11-07T17:30:14.602Z"
   },
   {
    "duration": 207,
    "start_time": "2021-11-07T17:30:14.610Z"
   },
   {
    "duration": 3,
    "start_time": "2021-11-07T17:30:14.819Z"
   },
   {
    "duration": 9,
    "start_time": "2021-11-07T17:30:14.824Z"
   },
   {
    "duration": 3366,
    "start_time": "2021-11-07T17:30:14.835Z"
   },
   {
    "duration": 3355,
    "start_time": "2021-11-07T17:30:18.203Z"
   },
   {
    "duration": 3381,
    "start_time": "2021-11-07T17:30:21.560Z"
   },
   {
    "duration": 8,
    "start_time": "2021-11-07T17:30:24.943Z"
   },
   {
    "duration": 201,
    "start_time": "2021-11-07T17:30:24.953Z"
   },
   {
    "duration": 184,
    "start_time": "2021-11-07T17:30:25.156Z"
   },
   {
    "duration": 1109,
    "start_time": "2021-11-07T17:42:21.238Z"
   },
   {
    "duration": 2,
    "start_time": "2021-11-07T17:42:22.349Z"
   },
   {
    "duration": 8,
    "start_time": "2021-11-07T17:42:22.353Z"
   },
   {
    "duration": 159,
    "start_time": "2021-11-07T17:42:22.363Z"
   },
   {
    "duration": 128,
    "start_time": "2021-11-07T17:42:22.523Z"
   },
   {
    "duration": 133,
    "start_time": "2021-11-07T17:42:22.653Z"
   },
   {
    "duration": 6,
    "start_time": "2021-11-07T17:42:22.787Z"
   },
   {
    "duration": 256,
    "start_time": "2021-11-07T17:42:22.796Z"
   },
   {
    "duration": 12,
    "start_time": "2021-11-07T17:42:23.054Z"
   },
   {
    "duration": 242,
    "start_time": "2021-11-07T17:42:23.068Z"
   },
   {
    "duration": 1228,
    "start_time": "2021-11-07T17:42:23.312Z"
   },
   {
    "duration": 232,
    "start_time": "2021-11-07T17:42:24.542Z"
   },
   {
    "duration": 3,
    "start_time": "2021-11-07T17:42:24.775Z"
   },
   {
    "duration": 19,
    "start_time": "2021-11-07T17:42:24.779Z"
   },
   {
    "duration": 101,
    "start_time": "2021-11-07T17:42:24.799Z"
   },
   {
    "duration": 304,
    "start_time": "2021-11-07T17:42:24.903Z"
   },
   {
    "duration": 296,
    "start_time": "2021-11-07T17:42:25.209Z"
   },
   {
    "duration": 86,
    "start_time": "2021-11-07T17:42:25.507Z"
   },
   {
    "duration": 107,
    "start_time": "2021-11-07T17:42:25.596Z"
   },
   {
    "duration": 15,
    "start_time": "2021-11-07T17:42:25.705Z"
   },
   {
    "duration": 15,
    "start_time": "2021-11-07T17:42:25.721Z"
   },
   {
    "duration": 8,
    "start_time": "2021-11-07T17:42:25.737Z"
   },
   {
    "duration": 2,
    "start_time": "2021-11-07T17:42:25.749Z"
   },
   {
    "duration": 5,
    "start_time": "2021-11-07T17:42:25.753Z"
   },
   {
    "duration": 5,
    "start_time": "2021-11-07T17:42:25.791Z"
   },
   {
    "duration": 11,
    "start_time": "2021-11-07T17:42:25.798Z"
   },
   {
    "duration": 6,
    "start_time": "2021-11-07T17:42:25.811Z"
   },
   {
    "duration": 10,
    "start_time": "2021-11-07T17:42:25.818Z"
   },
   {
    "duration": 6,
    "start_time": "2021-11-07T17:42:25.829Z"
   },
   {
    "duration": 11,
    "start_time": "2021-11-07T17:42:25.836Z"
   },
   {
    "duration": 8,
    "start_time": "2021-11-07T17:42:25.849Z"
   },
   {
    "duration": 40,
    "start_time": "2021-11-07T17:42:25.859Z"
   },
   {
    "duration": 12,
    "start_time": "2021-11-07T17:42:25.903Z"
   },
   {
    "duration": 217,
    "start_time": "2021-11-07T17:42:25.917Z"
   },
   {
    "duration": 3,
    "start_time": "2021-11-07T17:42:26.136Z"
   },
   {
    "duration": 10,
    "start_time": "2021-11-07T17:42:26.140Z"
   },
   {
    "duration": 3613,
    "start_time": "2021-11-07T17:42:26.152Z"
   },
   {
    "duration": 3456,
    "start_time": "2021-11-07T17:42:29.766Z"
   },
   {
    "duration": 3437,
    "start_time": "2021-11-07T17:42:33.223Z"
   },
   {
    "duration": 7,
    "start_time": "2021-11-07T17:42:36.662Z"
   },
   {
    "duration": 202,
    "start_time": "2021-11-07T17:42:36.670Z"
   },
   {
    "duration": 193,
    "start_time": "2021-11-07T17:42:36.874Z"
   }
  ],
  "kernelspec": {
   "display_name": "Python 3 (ipykernel)",
   "language": "python",
   "name": "python3"
  },
  "language_info": {
   "codemirror_mode": {
    "name": "ipython",
    "version": 3
   },
   "file_extension": ".py",
   "mimetype": "text/x-python",
   "name": "python",
   "nbconvert_exporter": "python",
   "pygments_lexer": "ipython3",
   "version": "3.9.5"
  },
  "toc": {
   "base_numbering": 1,
   "nav_menu": {},
   "number_sections": true,
   "sideBar": true,
   "skip_h1_title": true,
   "title_cell": "Table of Contents",
   "title_sidebar": "Contents",
   "toc_cell": false,
   "toc_position": {
    "height": "calc(100% - 180px)",
    "left": "10px",
    "top": "150px",
    "width": "288px"
   },
   "toc_section_display": true,
   "toc_window_display": true
  }
 },
 "nbformat": 4,
 "nbformat_minor": 2
}
